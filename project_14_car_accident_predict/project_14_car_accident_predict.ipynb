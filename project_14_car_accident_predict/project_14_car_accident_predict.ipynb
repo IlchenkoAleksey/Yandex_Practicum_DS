{
  "cells": [
    {
      "cell_type": "markdown",
      "id": "bb16735b",
      "metadata": {
        "id": "bb16735b"
      },
      "source": [
        "## Описание проекта  \n",
        "\n",
        "Нужно создать систему, которая могла бы оценить риск ДТП по выбранному маршруту движения. Под риском понимается вероятность ДТП с любым повреждением транспортного средства. Как только водитель забронировал автомобиль, сел за руль и выбрал маршрут, система должна оценить уровень риска. Если уровень риска высок, водитель увидит предупреждение и рекомендации по маршруту.  \n",
        "\n",
        "Идея создания такой системы находится в стадии предварительного обсуждения и проработки. Чёткого алгоритма работы и подобных решений на рынке ещё не существует. Текущая задача — понять, возможно ли предсказывать ДТП, опираясь на исторические данные одного из регионов."
      ]
    },
    {
      "cell_type": "markdown",
      "id": "14ade907",
      "metadata": {
        "id": "14ade907"
      },
      "source": [
        "Импортируем библиотеки"
      ]
    },
    {
      "cell_type": "code",
      "execution_count": null,
      "id": "a17088c3",
      "metadata": {
        "id": "a17088c3"
      },
      "outputs": [],
      "source": [
        "import numpy as np\n",
        "import pandas as pd\n",
        "import seaborn as sns\n",
        "import matplotlib.pyplot as plt\n",
        "import catboost as cb\n",
        "\n",
        "from catboost import CatBoostRegressor\n",
        "from catboost import CatBoostClassifier\n",
        "from catboost import MetricVisualizer\n",
        "from catboost import  Pool\n",
        "\n",
        "from sklearn.ensemble import RandomForestClassifier\n",
        "from sklearn.tree import DecisionTreeClassifier\n",
        "\n",
        "from sklearn.model_selection import train_test_split\n",
        "from sklearn.model_selection import GridSearchCV\n",
        "from sklearn.model_selection import RandomizedSearchCV\n",
        "\n",
        "from sklearn.preprocessing import OneHotEncoder\n",
        "from sklearn.preprocessing import StandardScaler\n",
        "from sklearn.preprocessing import OrdinalEncoder\n",
        "\n",
        "from sklearn.pipeline import Pipeline\n",
        "from sklearn.metrics import mean_squared_error\n",
        "from sklearn.metrics import r2_score\n",
        "from sklearn.metrics import roc_auc_score\n",
        "from sklearn.metrics import roc_curve\n",
        "from sklearn.metrics import f1_score\n",
        "from sklearn.metrics import precision_recall_curve\n",
        "from sklearn.metrics import confusion_matrix\n",
        "from sklearn.metrics import ConfusionMatrixDisplay\n",
        "from sklearn.metrics import PrecisionRecallDisplay\n",
        "from sklearn.metrics import recall_score, precision_score\n",
        "\n",
        "from sqlalchemy import create_engine"
      ]
    },
    {
      "cell_type": "markdown",
      "id": "5e7fcbe5",
      "metadata": {
        "ExecuteTime": {
          "end_time": "2022-05-05T04:58:05.692448Z",
          "start_time": "2022-05-05T04:58:05.688565Z"
        },
        "id": "5e7fcbe5"
      },
      "source": [
        "## Подключитесь к базе. Загрузите таблицы sql"
      ]
    },
    {
      "cell_type": "code",
      "execution_count": null,
      "id": "a8994ba7",
      "metadata": {
        "id": "a8994ba7"
      },
      "outputs": [],
      "source": [
        "db_config = {\n",
        "'user': 'praktikum_student', # имя пользователя,\n",
        "'pwd': 'Sdf4$2;d-d30pp', # пароль,\n",
        "'host': 'rc1b-wcoijxj3yxfsf3fs.mdb.yandexcloud.net',\n",
        "'port': 6432, # порт подключения,\n",
        "'db': 'data-science-vehicle-db' # название базы данных,\n",
        "}\n",
        "\n",
        "connection_string = 'postgresql://{}:{}@{}:{}/{}'.format(\n",
        "    db_config['user'],\n",
        "    db_config['pwd'],\n",
        "    db_config['host'],\n",
        "    db_config['port'],\n",
        "    db_config['db'],\n",
        ")"
      ]
    },
    {
      "cell_type": "code",
      "execution_count": null,
      "id": "5612c711",
      "metadata": {
        "id": "5612c711"
      },
      "outputs": [],
      "source": [
        "engine = create_engine(connection_string)"
      ]
    },
    {
      "cell_type": "markdown",
      "id": "0334c270",
      "metadata": {
        "id": "0334c270"
      },
      "source": [
        "## Проведите первичное исследование таблиц"
      ]
    },
    {
      "cell_type": "markdown",
      "id": "1961b5e4",
      "metadata": {
        "id": "1961b5e4"
      },
      "source": [
        "Загрузим все значения таблицы **collisions**"
      ]
    },
    {
      "cell_type": "code",
      "execution_count": null,
      "id": "6615cfa0",
      "metadata": {
        "id": "6615cfa0"
      },
      "outputs": [],
      "source": [
        "query = '''\n",
        "SELECT *\n",
        "FROM collisions;\n",
        "'''\n",
        "\n",
        "df_collisions = pd.read_sql_query(query, con=engine)"
      ]
    },
    {
      "cell_type": "markdown",
      "id": "3b2baa12",
      "metadata": {
        "id": "3b2baa12"
      },
      "source": [
        "Выведем на экран первые 3 строки полученного датафрейма, и выведем информацию о DataFrame, включая тип столбца, ненулевые значения."
      ]
    },
    {
      "cell_type": "code",
      "execution_count": null,
      "id": "1b9795e3",
      "metadata": {
        "scrolled": false,
        "id": "1b9795e3",
        "outputId": "a28f9fd6-02b8-4971-98af-3f253454438f"
      },
      "outputs": [
        {
          "data": {
            "text/html": [
              "<div>\n",
              "<style scoped>\n",
              "    .dataframe tbody tr th:only-of-type {\n",
              "        vertical-align: middle;\n",
              "    }\n",
              "\n",
              "    .dataframe tbody tr th {\n",
              "        vertical-align: top;\n",
              "    }\n",
              "\n",
              "    .dataframe thead th {\n",
              "        text-align: right;\n",
              "    }\n",
              "</style>\n",
              "<table border=\"1\" class=\"dataframe\">\n",
              "  <thead>\n",
              "    <tr style=\"text-align: right;\">\n",
              "      <th></th>\n",
              "      <th>case_id</th>\n",
              "      <th>county_city_location</th>\n",
              "      <th>county_location</th>\n",
              "      <th>distance</th>\n",
              "      <th>direction</th>\n",
              "      <th>intersection</th>\n",
              "      <th>weather_1</th>\n",
              "      <th>location_type</th>\n",
              "      <th>collision_damage</th>\n",
              "      <th>party_count</th>\n",
              "      <th>primary_collision_factor</th>\n",
              "      <th>pcf_violation_category</th>\n",
              "      <th>type_of_collision</th>\n",
              "      <th>motor_vehicle_involved_with</th>\n",
              "      <th>road_surface</th>\n",
              "      <th>road_condition_1</th>\n",
              "      <th>lighting</th>\n",
              "      <th>control_device</th>\n",
              "      <th>collision_date</th>\n",
              "      <th>collision_time</th>\n",
              "    </tr>\n",
              "  </thead>\n",
              "  <tbody>\n",
              "    <tr>\n",
              "      <th>0</th>\n",
              "      <td>4083072</td>\n",
              "      <td>1942</td>\n",
              "      <td>los angeles</td>\n",
              "      <td>528.0</td>\n",
              "      <td>north</td>\n",
              "      <td>0.0</td>\n",
              "      <td>cloudy</td>\n",
              "      <td>highway</td>\n",
              "      <td>small damage</td>\n",
              "      <td>2</td>\n",
              "      <td>vehicle code violation</td>\n",
              "      <td>unsafe lane change</td>\n",
              "      <td>sideswipe</td>\n",
              "      <td>other motor vehicle</td>\n",
              "      <td>wet</td>\n",
              "      <td>normal</td>\n",
              "      <td>daylight</td>\n",
              "      <td>none</td>\n",
              "      <td>2009-01-22</td>\n",
              "      <td>07:25:00</td>\n",
              "    </tr>\n",
              "    <tr>\n",
              "      <th>1</th>\n",
              "      <td>4083075</td>\n",
              "      <td>4313</td>\n",
              "      <td>santa clara</td>\n",
              "      <td>0.0</td>\n",
              "      <td>None</td>\n",
              "      <td>1.0</td>\n",
              "      <td>clear</td>\n",
              "      <td>None</td>\n",
              "      <td>small damage</td>\n",
              "      <td>1</td>\n",
              "      <td>vehicle code violation</td>\n",
              "      <td>improper passing</td>\n",
              "      <td>hit object</td>\n",
              "      <td>fixed object</td>\n",
              "      <td>dry</td>\n",
              "      <td>normal</td>\n",
              "      <td>dark with street lights</td>\n",
              "      <td>functioning</td>\n",
              "      <td>2009-01-03</td>\n",
              "      <td>02:26:00</td>\n",
              "    </tr>\n",
              "    <tr>\n",
              "      <th>2</th>\n",
              "      <td>4083073</td>\n",
              "      <td>0109</td>\n",
              "      <td>alameda</td>\n",
              "      <td>0.0</td>\n",
              "      <td>None</td>\n",
              "      <td>1.0</td>\n",
              "      <td>clear</td>\n",
              "      <td>None</td>\n",
              "      <td>scratch</td>\n",
              "      <td>2</td>\n",
              "      <td>vehicle code violation</td>\n",
              "      <td>improper turning</td>\n",
              "      <td>broadside</td>\n",
              "      <td>other motor vehicle</td>\n",
              "      <td>dry</td>\n",
              "      <td>normal</td>\n",
              "      <td>dark with street lights</td>\n",
              "      <td>functioning</td>\n",
              "      <td>2009-01-11</td>\n",
              "      <td>03:32:00</td>\n",
              "    </tr>\n",
              "  </tbody>\n",
              "</table>\n",
              "</div>"
            ],
            "text/plain": [
              "   case_id county_city_location county_location  distance direction  \\\n",
              "0  4083072                 1942     los angeles     528.0     north   \n",
              "1  4083075                 4313     santa clara       0.0      None   \n",
              "2  4083073                 0109         alameda       0.0      None   \n",
              "\n",
              "   intersection weather_1 location_type collision_damage  party_count  \\\n",
              "0           0.0    cloudy       highway     small damage            2   \n",
              "1           1.0     clear          None     small damage            1   \n",
              "2           1.0     clear          None          scratch            2   \n",
              "\n",
              "  primary_collision_factor pcf_violation_category type_of_collision  \\\n",
              "0   vehicle code violation     unsafe lane change         sideswipe   \n",
              "1   vehicle code violation       improper passing        hit object   \n",
              "2   vehicle code violation       improper turning         broadside   \n",
              "\n",
              "  motor_vehicle_involved_with road_surface road_condition_1  \\\n",
              "0         other motor vehicle          wet           normal   \n",
              "1                fixed object          dry           normal   \n",
              "2         other motor vehicle          dry           normal   \n",
              "\n",
              "                  lighting control_device collision_date collision_time  \n",
              "0                 daylight           none     2009-01-22       07:25:00  \n",
              "1  dark with street lights    functioning     2009-01-03       02:26:00  \n",
              "2  dark with street lights    functioning     2009-01-11       03:32:00  "
            ]
          },
          "metadata": {},
          "output_type": "display_data"
        },
        {
          "name": "stdout",
          "output_type": "stream",
          "text": [
            "<class 'pandas.core.frame.DataFrame'>\n",
            "RangeIndex: 1400000 entries, 0 to 1399999\n",
            "Data columns (total 20 columns):\n",
            " #   Column                       Non-Null Count    Dtype  \n",
            "---  ------                       --------------    -----  \n",
            " 0   case_id                      1400000 non-null  object \n",
            " 1   county_city_location         1400000 non-null  object \n",
            " 2   county_location              1400000 non-null  object \n",
            " 3   distance                     1400000 non-null  float64\n",
            " 4   direction                    1059358 non-null  object \n",
            " 5   intersection                 1387781 non-null  float64\n",
            " 6   weather_1                    1392741 non-null  object \n",
            " 7   location_type                518779 non-null   object \n",
            " 8   collision_damage             1400000 non-null  object \n",
            " 9   party_count                  1400000 non-null  int64  \n",
            " 10  primary_collision_factor     1391834 non-null  object \n",
            " 11  pcf_violation_category       1372046 non-null  object \n",
            " 12  type_of_collision            1388176 non-null  object \n",
            " 13  motor_vehicle_involved_with  1393181 non-null  object \n",
            " 14  road_surface                 1386907 non-null  object \n",
            " 15  road_condition_1             1388012 non-null  object \n",
            " 16  lighting                     1391407 non-null  object \n",
            " 17  control_device               1391593 non-null  object \n",
            " 18  collision_date               1400000 non-null  object \n",
            " 19  collision_time               1387692 non-null  object \n",
            "dtypes: float64(2), int64(1), object(17)\n",
            "memory usage: 213.6+ MB\n"
          ]
        },
        {
          "data": {
            "text/plain": [
              "None"
            ]
          },
          "metadata": {},
          "output_type": "display_data"
        }
      ],
      "source": [
        "display(df_collisions.head(3))\n",
        "display(df_collisions.info())"
      ]
    },
    {
      "cell_type": "markdown",
      "id": "041ece93",
      "metadata": {
        "id": "041ece93"
      },
      "source": [
        "Так же посмотрим что в таблице **parties**"
      ]
    },
    {
      "cell_type": "code",
      "execution_count": null,
      "id": "f34e2c26",
      "metadata": {
        "id": "f34e2c26"
      },
      "outputs": [],
      "source": [
        "query = '''\n",
        "SELECT *\n",
        "FROM parties\n",
        "'''\n",
        "\n",
        "df_parties = pd.read_sql_query(query, con=engine)"
      ]
    },
    {
      "cell_type": "markdown",
      "id": "70ce4946",
      "metadata": {
        "id": "70ce4946"
      },
      "source": [
        "Выведем на экран первые 3 строки полученного датафрейма, и выведем информацию о DataFrame, включая тип столбца, ненулевые значения."
      ]
    },
    {
      "cell_type": "code",
      "execution_count": null,
      "id": "1a30277d",
      "metadata": {
        "scrolled": false,
        "id": "1a30277d"
      },
      "outputs": [],
      "source": [
        "display(df_parties.head(3))\n",
        "display(df_parties.info())"
      ]
    },
    {
      "cell_type": "markdown",
      "id": "6e6731b8",
      "metadata": {
        "id": "6e6731b8"
      },
      "source": [
        "Посмотрим на таблицу **vehicles**"
      ]
    },
    {
      "cell_type": "code",
      "execution_count": null,
      "id": "d1b78a22",
      "metadata": {
        "id": "d1b78a22"
      },
      "outputs": [],
      "source": [
        "query = '''\n",
        "SELECT *\n",
        "FROM vehicles\n",
        "'''\n",
        "\n",
        "df_vehicless = pd.read_sql_query(query, con=engine)"
      ]
    },
    {
      "cell_type": "code",
      "execution_count": null,
      "id": "05ff0caa",
      "metadata": {
        "id": "05ff0caa"
      },
      "outputs": [],
      "source": [
        "display(df_vehicless.head(3))\n",
        "display(df_vehicless.info())"
      ]
    },
    {
      "cell_type": "markdown",
      "id": "4de388e1",
      "metadata": {
        "id": "4de388e1"
      },
      "source": [
        "### Вывод:  \n",
        "\n",
        "Из начального задания нам известно, что:  \n",
        " - collisions (информация о происшествиях);\n",
        " - Parties (описание участников происшествия);\n",
        " - Vehicles (Описание автомобиля)  \n",
        "\n",
        "Все ли таблицы имеют набор данных.  \n",
        "Количество таблиц соответствует условию задачи.  \n",
        "Имеется общий ключ для связи таблиц case_id и party_number.\n"
      ]
    },
    {
      "cell_type": "markdown",
      "id": "cb58d58f",
      "metadata": {
        "id": "cb58d58f"
      },
      "source": [
        "##  Проведите статистический анализ факторов ДТП"
      ]
    },
    {
      "cell_type": "markdown",
      "id": "3b9f25d8",
      "metadata": {
        "id": "3b9f25d8"
      },
      "source": [
        "Выясним, в какие месяцы происходит наибольшее количество аварий. Проанализируем весь период наблюдений (таблица **collisions**)"
      ]
    },
    {
      "cell_type": "code",
      "execution_count": null,
      "id": "2445ee72",
      "metadata": {
        "id": "2445ee72"
      },
      "outputs": [],
      "source": [
        "query = '''\n",
        "SELECT EXTRACT(YEAR FROM collision_date) AS year_collision,\n",
        "       EXTRACT(MONTH FROM collision_date) AS month_collision,\n",
        "       COUNT(case_id) AS count_collision\n",
        "FROM collisions\n",
        "GROUP BY 1, 2\n",
        "ORDER BY 1, 3 DESC\n",
        "'''\n",
        "collisions_count = pd.read_sql_query(query, con=engine)"
      ]
    },
    {
      "cell_type": "markdown",
      "id": "3e07d7e3",
      "metadata": {
        "id": "3e07d7e3"
      },
      "source": [
        "Построим график"
      ]
    },
    {
      "cell_type": "code",
      "execution_count": null,
      "id": "2f4fa176",
      "metadata": {
        "id": "2f4fa176"
      },
      "outputs": [],
      "source": [
        "fig, ax = plt.subplots(figsize=(18, 8))\n",
        "sns.barplot(data = collisions_count, x='month_collision', y='count_collision', hue='year_collision')\n",
        "plt.title('Количество аварий в месяц')\n",
        "plt.xlabel('Месяц')\n",
        "plt.ylabel('Количество аварий')\n",
        "plt.show()"
      ]
    },
    {
      "cell_type": "markdown",
      "id": "308128db",
      "metadata": {
        "id": "308128db"
      },
      "source": [
        "Вывод: наибольшее количество ДТП за 2009-20011 приходится на октябрь, декабрь и март месяц. В 2012 году с июня месяца обнаружено снижение количества ДТП с 25000-33000 до 200-3000. Аномально маленькие значения по годам и месяцам можно отнести к не полноте информации в базе данных, так как другое обоснование найти трудно."
      ]
    },
    {
      "cell_type": "markdown",
      "id": "c107b1ac",
      "metadata": {
        "id": "c107b1ac"
      },
      "source": [
        "Скоро состоится первое совещание рабочей группы. Чтобы обсуждение было конструктивным, каждый сотрудник должен понимать данные. Для этого мы создадим подходящие аналитические задачи и поручим их решение коллегам.  \n",
        "\n",
        "Опишем их:\n",
        " - провести анализ серьёзности повреждений транспортного средства, исходя из состояния дороги в момент ДТП (связать collisions и parties);\n",
        " - автомобили с каким типом кузова чаще получают серьезные повреждения при ДТП\n",
        " - проанадизировать самые частые причины ДТП (таблица parties);\n",
        " - изучить трезвость участников ДТП и оценить его влияние на виновность участника;\n",
        " - изучить серьезность повреждений ТС в зависимости от трезвости участника;\n",
        " - провести анализ зависимости ДТП и погоды;\n",
        " - выявить типы КПП и возраст автомобилей, и ценить их влияние на ДТП."
      ]
    },
    {
      "cell_type": "markdown",
      "id": "3bf60467",
      "metadata": {
        "id": "3bf60467"
      },
      "source": [
        "По заданию, нам необходимо произвести порядок решения для двух задач из списка. Обязательное условие — решение этих задач должно включать связь не менее 2-х таблиц."
      ]
    },
    {
      "cell_type": "markdown",
      "id": "064afa11",
      "metadata": {
        "id": "064afa11"
      },
      "source": [
        "### Проведем анализ серьёзности повреждений транспортного средства, исходя из состояния дороги в момент ДТП"
      ]
    },
    {
      "cell_type": "code",
      "execution_count": null,
      "id": "12dc9025",
      "metadata": {
        "scrolled": false,
        "id": "12dc9025"
      },
      "outputs": [],
      "source": [
        "query = '''\n",
        "select distinct road_surface, collision_damage,\n",
        "COUNT(collision_damage) over (partition by road_surface order by collision_damage) as col_count\n",
        "from collisions c\n",
        "where case_id in (select distinct case_id\n",
        "                  from parties p\n",
        "                  where party_type = 'car')\n",
        "order by road_surface, col_count'''\n",
        "\n",
        "col_with_weather = pd.read_sql_query(query, con=engine)\n",
        "col_with_weather.head(10)"
      ]
    },
    {
      "cell_type": "markdown",
      "id": "410511a5",
      "metadata": {
        "id": "410511a5"
      },
      "source": [
        "Построим график"
      ]
    },
    {
      "cell_type": "code",
      "execution_count": null,
      "id": "d7a14756",
      "metadata": {
        "id": "d7a14756"
      },
      "outputs": [],
      "source": [
        "f, ax = plt.subplots(figsize=(18, 8))\n",
        "sns.barplot(data =col_with_weather,\n",
        "            x='road_surface',\n",
        "            y = 'col_count',\n",
        "            hue  = 'collision_damage',\n",
        "            palette = \"Set2\",\n",
        "            alpha=0.7)\n",
        "ax.legend(ncol=1, loc=\"upper right\", frameon=True)\n",
        "ax.set(xlabel=\"Количество\",\n",
        "       ylabel=\"Дата\")\n",
        "#plt.xticks(rotation=90)\n",
        "plt.title(\" Анализ серьёзности повреждений транспортного средства, исходя из состояния дороги в момент ДТП\")\n",
        "plt.show()"
      ]
    },
    {
      "cell_type": "markdown",
      "id": "5142882b",
      "metadata": {
        "id": "5142882b"
      },
      "source": [
        "#### Вывод:\n",
        " - Наибольшее количество ДТП происходит на сухой дороге. Также много ДТП происходит на сырой дороге. Больше всего повреждений - это небольшие повреждения и царапины, как на сухой дороге, так и на мокрой."
      ]
    },
    {
      "cell_type": "markdown",
      "id": "4ca1bb6b",
      "metadata": {
        "id": "4ca1bb6b"
      },
      "source": [
        "### Проведем анализ автомобили с каким типом кузова чаще получают серьезные повреждения при ДТП"
      ]
    },
    {
      "cell_type": "code",
      "execution_count": null,
      "id": "499a02d6",
      "metadata": {
        "id": "499a02d6"
      },
      "outputs": [],
      "source": [
        "sql_query = '''\n",
        "select *,\n",
        "col_count/SUM(col_count) over (partition by vehicle_type) as prcnt\n",
        "from (\n",
        "select distinct collision_damage, vehicle_type,\n",
        "count(collision_damage) over(partition by vehicle_type order by collision_damage) as col_count\n",
        "from\n",
        "(select case_id , collision_damage\n",
        "from collisions) c\n",
        "join\n",
        "(select case_id, vehicle_type\n",
        "from vehicles) v  on c.case_id = v.case_id) t\n",
        "'''\n",
        "car_crash = pd.read_sql_query(sql_query, con=engine)\n",
        "car_crash = car_crash.fillna('unknown') # заполним пропуски\n",
        "car_crash.head(10)"
      ]
    },
    {
      "cell_type": "markdown",
      "id": "93bac249",
      "metadata": {
        "id": "93bac249"
      },
      "source": [
        "Построим график"
      ]
    },
    {
      "cell_type": "code",
      "execution_count": null,
      "id": "6ee4b79e",
      "metadata": {
        "id": "6ee4b79e"
      },
      "outputs": [],
      "source": [
        "f, ax = plt.subplots(figsize=(18, 8))\n",
        "sns.barplot(data =car_crash,\n",
        "            x='vehicle_type',\n",
        "            y = 'col_count',\n",
        "            hue  = 'collision_damage',\n",
        "            palette = \"Set2\",\n",
        "            alpha=0.7)\n",
        "ax.legend(ncol=1, loc=\"upper right\", frameon=True)\n",
        "ax.set(xlabel=\"Количество\",\n",
        "       ylabel=\"Дата\")\n",
        "plt.title(\"Количество проишествий по месяцам\")\n",
        "plt.show()"
      ]
    },
    {
      "cell_type": "markdown",
      "id": "a4c3115d",
      "metadata": {
        "id": "a4c3115d"
      },
      "source": [
        "Вывод: в количественном отношении во всех категориях кроме легких повреждений лидируют машины с типом кузова купе."
      ]
    },
    {
      "cell_type": "markdown",
      "id": "5181cdd2",
      "metadata": {
        "id": "5181cdd2"
      },
      "source": [
        "## Создайте модель для оценки водительского риска"
      ]
    },
    {
      "cell_type": "markdown",
      "id": "29e5b3dc",
      "metadata": {
        "id": "29e5b3dc"
      },
      "source": [
        "Для создания модели нам понадобятся следующие признаки:\n",
        "\n",
        "таблица **collisions**:  \n",
        " - `intersection` (является ли место происшествия перекрестком)\n",
        " - `weather_1` (погода)\n",
        " - `road_surface` (состояние дороги)\n",
        " - `lighting` (освещение)\n",
        " - `location_type` (тип дороги)\n",
        " - `road_condition_1` (состояние дорожного покрытия)  \n",
        "\n",
        "таблица **parties**:\n",
        " - `at_fault` (виновность участника) - целевой признак\n",
        " - `party_sobriety` (трезвость участника\n",
        " - `party_drug_physical` (состояние участника: физическое или с учётом принятых лекарств)\n",
        " - `cellphone_in_use` (наличие телефона в автомобиле - возможности разговаривать по громкой связи)  \n",
        "\n",
        "таблица **vehicles**:\n",
        " - `vehicle_type` (тип кузова)\n",
        " - `vehicle_transmission` (тип КПП)\n",
        " - `vehicle_age` (возраст автомобиля)  \n",
        "\n",
        "Все эти признаки важны, так как отражают и объективные причины ДТП (состояние дороги и транспортного средства), и субъективные - состояние участника ДТП.  \n",
        "\n",
        "По заданию, подготовим набор данных на основе первичного предположения заказчика:\n",
        " - выберем тип виновника — только машина (car)\n",
        " - возьмите случаи, когда ДТП привело к любым значимым повреждениям автомобиля любого из участников — все, кроме типа SCRATCH (царапина)\n",
        " - для моделирования возьмите данные только за 2012 год"
      ]
    },
    {
      "cell_type": "code",
      "execution_count": null,
      "id": "d5662999",
      "metadata": {
        "id": "d5662999"
      },
      "outputs": [],
      "source": [
        "query = '''\n",
        "with\n",
        "c AS (SELECT case_id,\n",
        "             intersection,\n",
        "             weather_1,\n",
        "             road_surface,\n",
        "             lighting,\n",
        "             location_type,\n",
        "             road_condition_1\n",
        "      FROM collisions\n",
        "      WHERE EXTRACT(YEAR FROM collision_date) = 2012\n",
        "            AND collision_damage != 'scratch'),\n",
        "p AS (SELECT case_id,\n",
        "             at_fault,\n",
        "             party_sobriety,\n",
        "             party_drug_physical,\n",
        "             cellphone_in_use\n",
        "      FROM parties\n",
        "      WHERE party_type = 'car'),\n",
        "\n",
        "v AS (SELECT case_id,\n",
        "             vehicle_type,\n",
        "             vehicle_transmission,\n",
        "             vehicle_age\n",
        "       FROM vehicles),\n",
        "\n",
        "c_i as (SELECT case_id\n",
        "        FROM case_ids)\n",
        "\n",
        "SELECT  p.at_fault,\n",
        "        p.party_sobriety,\n",
        "        p.party_drug_physical,\n",
        "        p.cellphone_in_use,\n",
        "        c.intersection,\n",
        "        c.weather_1,\n",
        "        c.road_surface,\n",
        "        c.lighting,\n",
        "        c.location_type,\n",
        "        c.road_condition_1,\n",
        "        v.vehicle_type,\n",
        "        v.vehicle_transmission,\n",
        "        v.vehicle_age\n",
        "FROM c_i\n",
        "JOIN c on c_i.case_id = c.case_id\n",
        "JOIN p on c_i.case_id = p.case_id\n",
        "JOIN v on c_i.case_id = v.case_id\n",
        "'''\n",
        "\n",
        "df = pd.read_sql_query(query, con=engine)"
      ]
    },
    {
      "cell_type": "markdown",
      "id": "e849ac7a",
      "metadata": {
        "id": "e849ac7a"
      },
      "source": [
        "Посмотрим на записи в датафрейме и информацию о нем"
      ]
    },
    {
      "cell_type": "code",
      "execution_count": null,
      "id": "094f0cf0",
      "metadata": {
        "id": "094f0cf0"
      },
      "outputs": [],
      "source": [
        "display(df.head(10))\n",
        "display(df.info())"
      ]
    },
    {
      "cell_type": "markdown",
      "id": "94d0bdc9",
      "metadata": {
        "id": "94d0bdc9"
      },
      "source": [
        "Посмотрим на пропуски"
      ]
    },
    {
      "cell_type": "code",
      "execution_count": null,
      "id": "1f3518c0",
      "metadata": {
        "id": "1f3518c0"
      },
      "outputs": [],
      "source": [
        "df.isna().sum()"
      ]
    },
    {
      "cell_type": "code",
      "execution_count": null,
      "id": "22a392f8",
      "metadata": {
        "id": "22a392f8"
      },
      "outputs": [],
      "source": [
        "df.isna().mean()"
      ]
    },
    {
      "cell_type": "markdown",
      "id": "858a0378",
      "metadata": {
        "id": "858a0378"
      },
      "source": [
        "Столбец **party_drug_physical** мог бы быть полезен, но в нем отсутствует более 90% данных, поэтому особой ценности он не представляет, удалим его"
      ]
    },
    {
      "cell_type": "code",
      "execution_count": null,
      "id": "9483e41a",
      "metadata": {
        "id": "9483e41a"
      },
      "outputs": [],
      "source": [
        "df = df.drop('party_drug_physical', axis=1)"
      ]
    },
    {
      "cell_type": "markdown",
      "id": "a4aec6e3",
      "metadata": {
        "id": "a4aec6e3"
      },
      "source": [
        "Посмотрим распределение возраста автомобилей"
      ]
    },
    {
      "cell_type": "code",
      "execution_count": null,
      "id": "53cbe7bf",
      "metadata": {
        "id": "53cbe7bf"
      },
      "outputs": [],
      "source": [
        "df['vehicle_age'].value_counts().plot(figsize=(18,8), kind='bar')\n",
        "plt.title('Гистограмма распределения возраста автомобиля')\n",
        "plt.xlabel('Возраст автомобиля')\n",
        "plt.ylabel('Количество автомобилей')\n",
        "plt.legend([])\n",
        "plt.show()"
      ]
    },
    {
      "cell_type": "markdown",
      "id": "5829b4e9",
      "metadata": {
        "id": "5829b4e9"
      },
      "source": [
        "Возраст автомобиля заменим значения > 15 на 15"
      ]
    },
    {
      "cell_type": "code",
      "execution_count": null,
      "id": "90b85f6a",
      "metadata": {
        "id": "90b85f6a"
      },
      "outputs": [],
      "source": [
        "df.loc[df['vehicle_age'] > 15, 'vehicle_age'] = 15"
      ]
    },
    {
      "cell_type": "code",
      "execution_count": null,
      "id": "6da0ac05",
      "metadata": {
        "id": "6da0ac05"
      },
      "outputs": [],
      "source": [
        "df.describe()"
      ]
    },
    {
      "cell_type": "markdown",
      "id": "6790e081",
      "metadata": {
        "id": "6790e081"
      },
      "source": [
        "Заменим пропуски в числовых данных на значение медианы"
      ]
    },
    {
      "cell_type": "code",
      "execution_count": null,
      "id": "46e508f1",
      "metadata": {
        "id": "46e508f1"
      },
      "outputs": [],
      "source": [
        "df = df.fillna(df[{'vehicle_age','cellphone_in_use','intersection'}].median())\n",
        "df.isna().sum()"
      ]
    },
    {
      "cell_type": "markdown",
      "id": "64bb1e1a",
      "metadata": {
        "id": "64bb1e1a"
      },
      "source": [
        "Посмотрим на распределение значений **столбца location_type**"
      ]
    },
    {
      "cell_type": "code",
      "execution_count": null,
      "id": "6c798884",
      "metadata": {
        "id": "6c798884"
      },
      "outputs": [],
      "source": [
        "df['location_type'].value_counts().plot(figsize=(6,4), kind='bar')\n",
        "plt.title('Гистограмма распределения типа дороги')\n",
        "plt.xlabel('Тип дороги')\n",
        "plt.ylabel('Количество')\n",
        "plt.legend([])\n",
        "plt.show()"
      ]
    },
    {
      "cell_type": "markdown",
      "id": "fe226626",
      "metadata": {
        "id": "fe226626"
      },
      "source": [
        "Посмотрим на распределение значений столбца **party_sobriety**"
      ]
    },
    {
      "cell_type": "code",
      "execution_count": null,
      "id": "88ce38f5",
      "metadata": {
        "id": "88ce38f5"
      },
      "outputs": [],
      "source": [
        "df['party_sobriety'].value_counts().plot(figsize=(6,4), kind='bar')\n",
        "plt.title('Гистограмма распределения трезвости участника')\n",
        "plt.xlabel('Трезвость участника')\n",
        "plt.ylabel('Количество')\n",
        "plt.legend([])\n",
        "plt.show()"
      ]
    },
    {
      "cell_type": "markdown",
      "id": "e77b52e6",
      "metadata": {
        "id": "e77b52e6"
      },
      "source": [
        "Заменим пропуски в столбце **party_sobriety**, **weather_1**, **road_surface**, **lighting**, **road_condition_1**, **vehicle_transmission** значениями с такой же вероятностью"
      ]
    },
    {
      "cell_type": "code",
      "execution_count": null,
      "id": "04eb648e",
      "metadata": {
        "id": "04eb648e"
      },
      "outputs": [],
      "source": [
        "for i in df[['location_type', 'party_sobriety', 'weather_1', 'road_surface', 'lighting', 'road_condition_1', 'vehicle_transmission']]:\n",
        "    mask = df[i].isna()\n",
        "    p = df[i].value_counts() / len(df[i].dropna())\n",
        "    df.loc[mask, i] = np.random.choice(p.index.to_list(), size=mask.sum(), p=p.to_list())\n",
        "\n",
        "df.isna().sum()"
      ]
    },
    {
      "cell_type": "markdown",
      "id": "5d7ea588",
      "metadata": {
        "id": "5d7ea588"
      },
      "source": [
        "### Вывод:\n",
        " - удалили столбец party_drug_physical, так как пропусков более 90%, для модели не даст никакой значимости;\n",
        " - в числовых признаках 'vehicle_age','cellphone_in_use','intersection' заменили пропуски медианой;\n",
        " - пропуски в признаках **party_sobriety**, **weather_1**, **road_surface**, **lighting**, **road_condition_1**, **vehicle_transmission** заменили значениями с такой же вероятностью"
      ]
    },
    {
      "cell_type": "markdown",
      "id": "4e685b11",
      "metadata": {
        "id": "4e685b11"
      },
      "source": [
        "Проверим полученный датасет на дубликаты, подсчитаем количество дубликатов для каждой уникальной строки в DataFrame. В столбце размера отображается количество дубликатов для каждой уникальной строки."
      ]
    },
    {
      "cell_type": "code",
      "execution_count": null,
      "id": "3021a151",
      "metadata": {
        "scrolled": true,
        "id": "3021a151"
      },
      "outputs": [],
      "source": [
        "df.groupby(df.columns.tolist(), as_index= False ).size()"
      ]
    },
    {
      "cell_type": "markdown",
      "id": "12260e62",
      "metadata": {
        "id": "12260e62"
      },
      "source": [
        "Выведем новую информацию датафрейма первые 5 строк"
      ]
    },
    {
      "cell_type": "code",
      "execution_count": null,
      "id": "d130fc02",
      "metadata": {
        "scrolled": true,
        "id": "d130fc02"
      },
      "outputs": [],
      "source": [
        "df.head()"
      ]
    },
    {
      "cell_type": "markdown",
      "id": "1f8b4ad9",
      "metadata": {
        "id": "1f8b4ad9"
      },
      "source": [
        "Создадим датафрейм для кодирования и масштабирования"
      ]
    },
    {
      "cell_type": "code",
      "execution_count": null,
      "id": "4d5a2297",
      "metadata": {
        "id": "4d5a2297"
      },
      "outputs": [],
      "source": [
        "df_encoder = df.copy()"
      ]
    },
    {
      "cell_type": "markdown",
      "id": "e479f647",
      "metadata": {
        "id": "e479f647"
      },
      "source": [
        "Создадим признаки и целевой признак"
      ]
    },
    {
      "cell_type": "code",
      "execution_count": null,
      "id": "9e346c33",
      "metadata": {
        "id": "9e346c33"
      },
      "outputs": [],
      "source": [
        "features = df.drop('at_fault', axis=1)\n",
        "target = df['at_fault']\n",
        "\n",
        "features_encoder = df_encoder.drop('at_fault', axis=1)\n",
        "target_encoder = df_encoder['at_fault']"
      ]
    },
    {
      "cell_type": "markdown",
      "id": "be52119c",
      "metadata": {
        "id": "be52119c"
      },
      "source": [
        "Посмотрим на распределение целевого призака"
      ]
    },
    {
      "cell_type": "code",
      "execution_count": null,
      "id": "54a0add0",
      "metadata": {
        "id": "54a0add0"
      },
      "outputs": [],
      "source": [
        "target.value_counts().plot(figsize=(6,4), kind='bar')\n",
        "plt.title('Распределение классов целевого признака')\n",
        "plt.xlabel('Класс признака')\n",
        "plt.ylabel('Количество')\n",
        "plt.legend([])\n",
        "plt.show()"
      ]
    },
    {
      "cell_type": "markdown",
      "id": "291afcb0",
      "metadata": {
        "id": "291afcb0"
      },
      "source": [
        "Можно сказать классы сбалансированы"
      ]
    },
    {
      "cell_type": "markdown",
      "id": "211ffe63",
      "metadata": {
        "id": "211ffe63"
      },
      "source": [
        "Разделим на обучающую, валидационную и тестовую выборки для СatBoost"
      ]
    },
    {
      "cell_type": "code",
      "execution_count": null,
      "id": "7bbb0508",
      "metadata": {
        "id": "7bbb0508"
      },
      "outputs": [],
      "source": [
        "features_train, features_other, target_train, target_other = train_test_split(features.copy(), target.copy(), test_size=0.4,\n",
        "                                                                              shuffle=True, random_state=12345)\n",
        "features_valid, features_test, target_valid, target_test = train_test_split(features_other.copy(), target_other.copy(), test_size=0.5,\n",
        "                                                                            shuffle=True, random_state=12345)"
      ]
    },
    {
      "cell_type": "markdown",
      "id": "d7ba1437",
      "metadata": {
        "id": "d7ba1437"
      },
      "source": [
        "Проверим размер выборок"
      ]
    },
    {
      "cell_type": "code",
      "execution_count": null,
      "id": "32e401f8",
      "metadata": {
        "scrolled": true,
        "id": "32e401f8"
      },
      "outputs": [],
      "source": [
        "display(features_train.shape, features_valid.shape, features_test.shape)\n",
        "display(target_train.shape, target_valid.shape, target_test.shape)"
      ]
    },
    {
      "cell_type": "markdown",
      "id": "9f6682cd",
      "metadata": {
        "id": "9f6682cd"
      },
      "source": [
        "Разделим на обучающую, валидационную и тестовую выборки для моделей DecisionTree и RandomForest"
      ]
    },
    {
      "cell_type": "code",
      "execution_count": null,
      "id": "2d317021",
      "metadata": {
        "id": "2d317021"
      },
      "outputs": [],
      "source": [
        "features_train_encoder, features_other_encoder, target_train_encoder, target_other_encoder = train_test_split(\n",
        "    features_encoder.copy(), target_encoder.copy(), test_size=0.4, shuffle=True, random_state=12345)\n",
        "\n",
        "features_valid_encoder, features_test_encoder, target_valid_encoder, target_test_encoder = train_test_split(\n",
        "    features_other_encoder.copy(), target_other_encoder.copy(), test_size=0.5, shuffle=True, random_state=12345)"
      ]
    },
    {
      "cell_type": "markdown",
      "id": "451e8b53",
      "metadata": {
        "id": "451e8b53"
      },
      "source": [
        "Проверим размер выборок"
      ]
    },
    {
      "cell_type": "code",
      "execution_count": null,
      "id": "28ab3785",
      "metadata": {
        "scrolled": true,
        "id": "28ab3785"
      },
      "outputs": [],
      "source": [
        "display(features_train_encoder.shape, features_valid_encoder.shape, features_test_encoder.shape)\n",
        "display(target_train_encoder.shape, target_valid_encoder.shape, target_test_encoder.shape)"
      ]
    },
    {
      "cell_type": "markdown",
      "id": "48e2d85f",
      "metadata": {
        "id": "48e2d85f"
      },
      "source": [
        "### Масштабируем числовые признаки"
      ]
    },
    {
      "cell_type": "code",
      "execution_count": null,
      "id": "22a2c666",
      "metadata": {
        "id": "22a2c666"
      },
      "outputs": [],
      "source": [
        "numeric = ['vehicle_age']\n",
        "\n",
        "scaler = StandardScaler()\n",
        "scaler.fit(features_train_encoder[numeric])\n",
        "\n",
        "features_train_encoder[numeric] = scaler.transform(features_train_encoder[numeric])\n",
        "features_valid_encoder[numeric] = scaler.transform(features_valid_encoder[numeric])\n",
        "features_test_encoder[numeric] = scaler.transform(features_test_encoder[numeric])"
      ]
    },
    {
      "cell_type": "markdown",
      "id": "ca7e607d",
      "metadata": {
        "id": "ca7e607d"
      },
      "source": [
        "### Кодирование категориальных признаков с помощью OHE"
      ]
    },
    {
      "cell_type": "code",
      "execution_count": null,
      "id": "0e68b34b",
      "metadata": {
        "id": "0e68b34b"
      },
      "outputs": [],
      "source": [
        "categorial = ['party_sobriety', 'weather_1', 'road_surface', 'lighting', 'location_type', 'road_condition_1',\n",
        "              'vehicle_type', 'vehicle_transmission']\n",
        "\n",
        "encoder = OneHotEncoder(handle_unknown='ignore', sparse=False)\n",
        "encoder.fit(features_train_encoder[categorial])\n",
        "\n",
        "features_train_encoder_ohe = pd.DataFrame(encoder.transform(features_train_encoder[categorial]), columns = encoder.get_feature_names(categorial))\n",
        "features_valid_encoder_ohe = pd.DataFrame(encoder.transform(features_valid_encoder[categorial]), columns = encoder.get_feature_names(categorial))\n",
        "features_test_encoder_ohe = pd.DataFrame(encoder.transform(features_test_encoder[categorial]), columns = encoder.get_feature_names(categorial))"
      ]
    },
    {
      "cell_type": "markdown",
      "id": "23eedae4",
      "metadata": {
        "id": "23eedae4"
      },
      "source": [
        "Удаляем столбцы с категориальными признаками"
      ]
    },
    {
      "cell_type": "code",
      "execution_count": null,
      "id": "761f3604",
      "metadata": {
        "id": "761f3604"
      },
      "outputs": [],
      "source": [
        "features_train_encoder = features_train_encoder.drop(categorial, axis=1)\n",
        "features_valid_encoder = features_valid_encoder.drop(categorial, axis=1)\n",
        "features_test_encoder = features_test_encoder.drop(categorial, axis=1)"
      ]
    },
    {
      "cell_type": "markdown",
      "id": "83e5aa7e",
      "metadata": {
        "id": "83e5aa7e"
      },
      "source": [
        "Объединяем таблицы"
      ]
    },
    {
      "cell_type": "code",
      "execution_count": null,
      "id": "6797f037",
      "metadata": {
        "id": "6797f037"
      },
      "outputs": [],
      "source": [
        "features_train_encoder = pd.concat([features_train_encoder_ohe.reset_index(drop=True), features_train_encoder.reset_index(drop=True)], axis=1, ignore_index=False)\n",
        "features_valid_encoder = pd.concat([features_valid_encoder_ohe.reset_index(drop=True), features_valid_encoder.reset_index(drop=True)], axis=1, ignore_index=False)\n",
        "features_test_encoder = pd.concat([features_test_encoder_ohe.reset_index(drop=True), features_test_encoder.reset_index(drop=True)], axis=1, ignore_index=False)"
      ]
    },
    {
      "cell_type": "markdown",
      "id": "c7a52899",
      "metadata": {
        "id": "c7a52899"
      },
      "source": [
        "Проверим кодирование и масштабирование признаков"
      ]
    },
    {
      "cell_type": "code",
      "execution_count": null,
      "id": "f41884b3",
      "metadata": {
        "id": "f41884b3"
      },
      "outputs": [],
      "source": [
        "features_train_encoder.head()"
      ]
    },
    {
      "cell_type": "markdown",
      "id": "74f89390",
      "metadata": {
        "id": "74f89390"
      },
      "source": [
        "В качестве метрики будем использовать roc-auc, потому что нам важно, чтобы модель с большей степенью уверенности прогнозировала классы."
      ]
    },
    {
      "cell_type": "markdown",
      "id": "198c9bac",
      "metadata": {
        "id": "198c9bac"
      },
      "source": [
        "### DecisionTreeClassifier"
      ]
    },
    {
      "cell_type": "markdown",
      "id": "8c35de17",
      "metadata": {
        "id": "8c35de17"
      },
      "source": [
        "Зададим гиперпараметры модели"
      ]
    },
    {
      "cell_type": "code",
      "execution_count": null,
      "id": "ca4171b1",
      "metadata": {
        "id": "ca4171b1"
      },
      "outputs": [],
      "source": [
        "decision_tree_params = {\n",
        "    'max_depth': range(1, 20, 2),\n",
        "    'min_samples_split': [5],\n",
        "    'min_samples_leaf': [25],\n",
        "    'class_weight':['balanced']\n",
        "}\n",
        "\n",
        "dt_gs = GridSearchCV(DecisionTreeClassifier(random_state=5),\n",
        "                         decision_tree_params, n_jobs=-1, cv=5, scoring='roc_auc')\n",
        "dt_f1 = dt_gs.fit(features_train_encoder, target_train_encoder)"
      ]
    },
    {
      "cell_type": "markdown",
      "id": "be523cd9",
      "metadata": {
        "id": "be523cd9"
      },
      "source": [
        "Найдем лучшие гиперпараметры"
      ]
    },
    {
      "cell_type": "code",
      "execution_count": null,
      "id": "5838d806",
      "metadata": {
        "id": "5838d806"
      },
      "outputs": [],
      "source": [
        "dt_f1.best_params_"
      ]
    },
    {
      "cell_type": "markdown",
      "id": "fad9ac7c",
      "metadata": {
        "id": "fad9ac7c"
      },
      "source": [
        "Предсказания модели с лучшими гиперпараметрами"
      ]
    },
    {
      "cell_type": "code",
      "execution_count": null,
      "id": "7d70e1c8",
      "metadata": {
        "id": "7d70e1c8"
      },
      "outputs": [],
      "source": [
        "pred_dt = dt_f1.best_estimator_.predict(features_valid_encoder)\n",
        "\n",
        "print('F1 на валидационной выборке:', f1_score(pred_dt, target_valid_encoder))\n",
        "print('ROC_AUC на валидационной выборке:', roc_auc_score(pred_dt, target_valid_encoder))"
      ]
    },
    {
      "cell_type": "markdown",
      "id": "0f3d7486",
      "metadata": {
        "id": "0f3d7486"
      },
      "source": [
        "### RandomForestClassifier"
      ]
    },
    {
      "cell_type": "markdown",
      "id": "472f68ab",
      "metadata": {
        "id": "472f68ab"
      },
      "source": [
        "Зададим гиперпараметры модели"
      ]
    },
    {
      "cell_type": "code",
      "execution_count": null,
      "id": "5fa40db9",
      "metadata": {
        "id": "5fa40db9"
      },
      "outputs": [],
      "source": [
        "param_grid = {\n",
        "    'n_estimators': range(80, 101, 5),\n",
        "    'max_depth': range(1, 11, 2),\n",
        "    'class_weight':['balanced']\n",
        "}\n",
        "\n",
        "rf = RandomForestClassifier(random_state=5)\n",
        "rf_grid = GridSearchCV(rf, param_grid, cv=5, n_jobs=-1, verbose=2)"
      ]
    },
    {
      "cell_type": "markdown",
      "id": "cadaf50f",
      "metadata": {
        "id": "cadaf50f"
      },
      "source": [
        "Обучим модель"
      ]
    },
    {
      "cell_type": "code",
      "execution_count": null,
      "id": "669d3c66",
      "metadata": {
        "scrolled": true,
        "id": "669d3c66"
      },
      "outputs": [],
      "source": [
        "rf_grid.fit(features_train_encoder, target_train_encoder)"
      ]
    },
    {
      "cell_type": "markdown",
      "id": "b2ce7999",
      "metadata": {
        "id": "b2ce7999"
      },
      "source": [
        "Найдем лучшие гиперпараметры"
      ]
    },
    {
      "cell_type": "code",
      "execution_count": null,
      "id": "dfbda277",
      "metadata": {
        "scrolled": true,
        "id": "dfbda277"
      },
      "outputs": [],
      "source": [
        "rf_grid.best_params_"
      ]
    },
    {
      "cell_type": "markdown",
      "id": "53fd21b3",
      "metadata": {
        "id": "53fd21b3"
      },
      "source": [
        "Предсказания модели с лучшими гиперпараметрами"
      ]
    },
    {
      "cell_type": "code",
      "execution_count": null,
      "id": "fd5c8585",
      "metadata": {
        "scrolled": true,
        "id": "fd5c8585"
      },
      "outputs": [],
      "source": [
        "pred_rf = rf_grid.best_estimator_.predict(features_valid_encoder)\n",
        "print('F1 на валидационной выборке:', f1_score(pred_rf, target_valid_encoder))\n",
        "print('ROC_AUC на валидационной выборке:', roc_auc_score(pred_rf, target_valid_encoder))"
      ]
    },
    {
      "cell_type": "markdown",
      "id": "b3dba0bc",
      "metadata": {
        "id": "b3dba0bc"
      },
      "source": [
        "### CatBoostClassifier"
      ]
    },
    {
      "cell_type": "code",
      "execution_count": null,
      "id": "0a31712a",
      "metadata": {
        "id": "0a31712a"
      },
      "outputs": [],
      "source": [
        "model_cat = cb.CatBoostClassifier(loss_function='Logloss', eval_metric='AUC')"
      ]
    },
    {
      "cell_type": "markdown",
      "id": "f58d4ef8",
      "metadata": {
        "id": "f58d4ef8"
      },
      "source": [
        "Зададим категориальные признаки"
      ]
    },
    {
      "cell_type": "code",
      "execution_count": null,
      "id": "7e4b58dc",
      "metadata": {
        "id": "7e4b58dc"
      },
      "outputs": [],
      "source": [
        "cat_features = ['party_sobriety', 'weather_1', 'road_surface', 'lighting', 'location_type', 'road_condition_1',\n",
        "              'vehicle_type', 'vehicle_transmission']"
      ]
    },
    {
      "cell_type": "markdown",
      "id": "6d1cebbd",
      "metadata": {
        "id": "6d1cebbd"
      },
      "source": [
        "Зададим гиперпараметры модели"
      ]
    },
    {
      "cell_type": "code",
      "execution_count": null,
      "id": "61c74366",
      "metadata": {
        "id": "61c74366"
      },
      "outputs": [],
      "source": [
        "grid = {'iterations': [100, 120],\n",
        "        'learning_rate': [0.001, 0.002],\n",
        "        'depth': range(6, 9)\n",
        "       }"
      ]
    },
    {
      "cell_type": "code",
      "execution_count": null,
      "id": "d993a036",
      "metadata": {
        "scrolled": true,
        "id": "d993a036"
      },
      "outputs": [],
      "source": [
        "catboost_grid = model_cat.grid_search(grid, Pool(features_train, target_train, cat_features=cat_features), cv=3,\n",
        "                                  verbose=50)"
      ]
    },
    {
      "cell_type": "markdown",
      "id": "c570529e",
      "metadata": {
        "id": "c570529e"
      },
      "source": [
        "Найдем лучшие гиперпараметры"
      ]
    },
    {
      "cell_type": "code",
      "execution_count": null,
      "id": "8375556d",
      "metadata": {
        "id": "8375556d"
      },
      "outputs": [],
      "source": [
        "catboost_grid['params']"
      ]
    },
    {
      "cell_type": "markdown",
      "id": "53e12653",
      "metadata": {
        "id": "53e12653"
      },
      "source": [
        "Зададим гиперпараметры модели"
      ]
    },
    {
      "cell_type": "code",
      "execution_count": null,
      "id": "c4e563c5",
      "metadata": {
        "id": "c4e563c5"
      },
      "outputs": [],
      "source": [
        "final_cat = cb.CatBoostClassifier(**catboost_grid['params'],\n",
        "                              eval_metric='AUC', verbose=100, train_dir='learning_rate_0.01')"
      ]
    },
    {
      "cell_type": "markdown",
      "id": "a8add66d",
      "metadata": {
        "id": "a8add66d"
      },
      "source": [
        "Обучим модель"
      ]
    },
    {
      "cell_type": "code",
      "execution_count": null,
      "id": "f012e5c0",
      "metadata": {
        "id": "f012e5c0"
      },
      "outputs": [],
      "source": [
        "final_cat.fit(Pool(features_train, target_train, cat_features=cat_features))"
      ]
    },
    {
      "cell_type": "markdown",
      "id": "b804060e",
      "metadata": {
        "id": "b804060e"
      },
      "source": [
        "Предсказания модели"
      ]
    },
    {
      "cell_type": "code",
      "execution_count": null,
      "id": "02b5d406",
      "metadata": {
        "id": "02b5d406"
      },
      "outputs": [],
      "source": [
        "pred_cat = final_cat.predict(features_valid)\n",
        "\n",
        "print('F1 на валидационной выборке:', f1_score(pred_cat, target_valid))\n",
        "print('ROC_AUC на валидационной выборке:', roc_auc_score(pred_cat, target_valid))"
      ]
    },
    {
      "cell_type": "markdown",
      "id": "21883a93",
      "metadata": {
        "id": "21883a93"
      },
      "source": [
        "Построим матрицу ошибок для модели CatBoost"
      ]
    },
    {
      "cell_type": "code",
      "execution_count": null,
      "id": "c70554eb",
      "metadata": {
        "id": "c70554eb"
      },
      "outputs": [],
      "source": [
        "matrix = confusion_matrix(target_valid, pred_cat)\n",
        "cm_display = ConfusionMatrixDisplay(matrix).plot()"
      ]
    },
    {
      "cell_type": "markdown",
      "id": "006db9a4",
      "metadata": {
        "id": "006db9a4"
      },
      "source": [
        "Построим матрицу ошибок для модели Randomforest"
      ]
    },
    {
      "cell_type": "code",
      "execution_count": null,
      "id": "ba15e42b",
      "metadata": {
        "id": "ba15e42b"
      },
      "outputs": [],
      "source": [
        "matrix_rf = confusion_matrix(target_valid_encoder, pred_rf)\n",
        "cm_display_rf = ConfusionMatrixDisplay(matrix_rf).plot()"
      ]
    },
    {
      "cell_type": "markdown",
      "id": "dc8cf2cf",
      "metadata": {
        "id": "dc8cf2cf"
      },
      "source": [
        "Построим матрицу ошибок для модели DecisionTreeClassifier"
      ]
    },
    {
      "cell_type": "code",
      "execution_count": null,
      "id": "7e5e39cb",
      "metadata": {
        "scrolled": true,
        "id": "7e5e39cb"
      },
      "outputs": [],
      "source": [
        "matrix_dt = confusion_matrix(target_valid_encoder, pred_dt)\n",
        "cm_display_dt = ConfusionMatrixDisplay(matrix_dt).plot()"
      ]
    },
    {
      "cell_type": "markdown",
      "id": "718ac728",
      "metadata": {
        "id": "718ac728"
      },
      "source": [
        "Построим сводную таблицу"
      ]
    },
    {
      "cell_type": "code",
      "execution_count": null,
      "id": "7e4e8341",
      "metadata": {
        "id": "7e4e8341"
      },
      "outputs": [],
      "source": [
        "data = {'F1': [0.422, 0.405, 0.341],\n",
        "        'AUC_ROC': [0.643, 0.655, 0.709]}\n",
        "\n",
        "table = pd.DataFrame(data, index=['DecisionTree', 'RandomForest', 'CatBoost'])\n",
        "table.sort_values('AUC_ROC', ascending=False)"
      ]
    },
    {
      "cell_type": "markdown",
      "id": "303f4ca4",
      "metadata": {
        "id": "303f4ca4"
      },
      "source": [
        "Наилучшей моделью оказалась модель CatBoost, которая показала значение ROC-AUC 0.709, количество FN - 8707, FP - 466, при этом модель RandomForest показала количество ложноположительных ответов меньше - 8022, FP - 1149."
      ]
    },
    {
      "cell_type": "markdown",
      "id": "c6536bcd",
      "metadata": {
        "id": "c6536bcd"
      },
      "source": [
        "Тестирование модели CatBoost. Объединим обучающую и валидационные выбоки"
      ]
    },
    {
      "cell_type": "code",
      "execution_count": null,
      "id": "4e8b777c",
      "metadata": {
        "id": "4e8b777c"
      },
      "outputs": [],
      "source": [
        "features_train_valid = pd.concat([features_train, features_valid])\n",
        "target_train_valid = pd.concat([target_train, target_valid])"
      ]
    },
    {
      "cell_type": "markdown",
      "id": "a79d5abe",
      "metadata": {
        "id": "a79d5abe"
      },
      "source": [
        "Обучим модель"
      ]
    },
    {
      "cell_type": "code",
      "execution_count": null,
      "id": "731b8ab8",
      "metadata": {
        "id": "731b8ab8"
      },
      "outputs": [],
      "source": [
        "final_cat.fit(Pool(features_train_valid, target_train_valid, cat_features=cat_features))"
      ]
    },
    {
      "cell_type": "markdown",
      "id": "d60a38f6",
      "metadata": {
        "id": "d60a38f6"
      },
      "source": [
        "Предсказания модели"
      ]
    },
    {
      "cell_type": "code",
      "execution_count": null,
      "id": "c43e0445",
      "metadata": {
        "id": "c43e0445"
      },
      "outputs": [],
      "source": [
        "%%time\n",
        "pred_cat_test = final_cat.predict(features_test)\n",
        "\n",
        "print('F1 на валидационной выборке:', f1_score(pred_cat_test, target_test))\n",
        "print('ROC_AUC на валидационной выборке:', roc_auc_score(pred_cat_test, target_test))"
      ]
    },
    {
      "cell_type": "code",
      "execution_count": null,
      "id": "d3886237",
      "metadata": {
        "id": "d3886237"
      },
      "outputs": [],
      "source": [
        "matrix = confusion_matrix(target_test, pred_cat_test)\n",
        "cm_display = ConfusionMatrixDisplay(matrix).plot()"
      ]
    },
    {
      "cell_type": "markdown",
      "id": "1693d741",
      "metadata": {
        "id": "1693d741"
      },
      "source": [
        "Модель CatBoost на тестовой выборке показала почти такие же результаты, как и на валидационной. ROC-AUC 0.709, количество FN ответов 8686, FP - 476"
      ]
    },
    {
      "cell_type": "markdown",
      "id": "64de8045",
      "metadata": {
        "id": "64de8045"
      },
      "source": [
        "Проведем небольшой анализ качества модели. Для модели CatBoostClassifier построим ROC_AUC кривую, полноту и точность."
      ]
    },
    {
      "cell_type": "code",
      "execution_count": null,
      "id": "ccfc4a29",
      "metadata": {
        "scrolled": false,
        "id": "ccfc4a29"
      },
      "outputs": [],
      "source": [
        "probabilities_valid = final_cat.predict_proba(features_train)\n",
        "probabilities_one_valid = probabilities_valid[:, 1]\n",
        "\n",
        "def plot_roc_curve(fpr, tpr):\n",
        "    plt.plot(fpr, tpr, color='orange', label='ROC')\n",
        "    plt.plot([0, 1], [0, 1], color='darkblue', linestyle='--')\n",
        "    plt.xlabel('False Positive Rate')\n",
        "    plt.ylabel('True Positive Rate')\n",
        "    plt.title('Receiver Operating Characteristic (ROC) Curve')\n",
        "    plt.legend()\n",
        "    plt.show()\n",
        "\n",
        "fpr, tpr, thresholds = roc_curve(target_train, probabilities_one_valid)\n",
        "print(roc_auc_score(pred_cat, target_valid))\n",
        "optimal_idx = np.argmax(tpr - fpr)\n",
        "optimal_threshold = thresholds[optimal_idx]\n",
        "print(\"Threshold value is:\", optimal_threshold)\n",
        "plot_roc_curve(fpr, tpr)"
      ]
    },
    {
      "cell_type": "code",
      "execution_count": null,
      "id": "66754c1c",
      "metadata": {
        "id": "66754c1c"
      },
      "outputs": [],
      "source": [
        "roc_auc_score(pred_cat_test, target_test)"
      ]
    },
    {
      "cell_type": "code",
      "execution_count": null,
      "id": "1658542d",
      "metadata": {
        "scrolled": true,
        "id": "1658542d"
      },
      "outputs": [],
      "source": [
        "print('Recall', recall_score(pred_cat, target_valid>=optimal_threshold))\n",
        "print('Precision', precision_score(pred_cat, target_valid>=optimal_threshold))\n",
        "\n",
        "precision, recall, _ = precision_recall_curve(pred_cat, target_valid)\n",
        "\n",
        "disp = PrecisionRecallDisplay(precision=precision, recall=recall)\n",
        "disp.plot()\n",
        "plt.scatter(recall_score(pred_cat, target_valid>=optimal_threshold),\n",
        "            precision_score(pred_cat, target_valid>=optimal_threshold))\n",
        "plt.title(\"precision_recall_curve\")\n",
        "plt.show()"
      ]
    },
    {
      "cell_type": "markdown",
      "id": "0de4c295",
      "metadata": {
        "id": "0de4c295"
      },
      "source": [
        "Выведем на экран полноту (recall). Она выявляет, какую долю положительных среди всех ответов выделила модель. Обычно они на вес золота, и важно понимать, как хорошо модель их находит."
      ]
    },
    {
      "cell_type": "code",
      "execution_count": null,
      "id": "123eb0b3",
      "metadata": {
        "scrolled": true,
        "id": "123eb0b3"
      },
      "outputs": [],
      "source": [
        "print('Полнота DecisionTreeClassifier:', recall_score(pred_dt, target_valid_encoder))\n",
        "print('Полнота RandomForestClassifier:', recall_score(pred_rf, target_valid_encoder))\n",
        "print('Полнота CatBoostClassifier:', recall_score(pred_cat, target_valid))"
      ]
    },
    {
      "cell_type": "markdown",
      "id": "064ec05d",
      "metadata": {
        "id": "064ec05d"
      },
      "source": [
        "Вывод: значение recall не далеко от единицы: модель не очень хорошо ищет положительные объекты."
      ]
    },
    {
      "cell_type": "markdown",
      "id": "181fe884",
      "metadata": {
        "id": "181fe884"
      },
      "source": [
        "Посмотрим на еще одну метрику для оценки качества прогноза целевого класса — точность (precision)."
      ]
    },
    {
      "cell_type": "code",
      "execution_count": null,
      "id": "be9e4fd3",
      "metadata": {
        "id": "be9e4fd3"
      },
      "outputs": [],
      "source": [
        "print('Точность DecisionTreeClassifier:', precision_score(pred_dt, target_valid_encoder))\n",
        "print('Точность RandomForestClassifier:', precision_score(pred_rf, target_valid_encoder))\n",
        "print('Точность CatBoostClassifier:', precision_score(pred_cat, target_valid))"
      ]
    },
    {
      "cell_type": "markdown",
      "id": "748d7888",
      "metadata": {
        "id": "748d7888"
      },
      "source": [
        "Вывод: Точность определяет, как много отрицательных ответов нашла модель, пока искала положительные. Чем больше отрицательных, тем ниже точность."
      ]
    },
    {
      "cell_type": "markdown",
      "id": "baa727cb",
      "metadata": {
        "id": "baa727cb"
      },
      "source": [
        "## Проведите анализ важности факторов ДТП"
      ]
    },
    {
      "cell_type": "code",
      "execution_count": null,
      "id": "b0a3d8d5",
      "metadata": {
        "id": "b0a3d8d5"
      },
      "outputs": [],
      "source": [
        "importances = final_cat.feature_importances_\n",
        "feature_list = list(features_train_valid.columns)\n",
        "feature_results = pd.DataFrame({'feature': feature_list,'importance': importances})\n",
        "feature_results = feature_results.sort_values('importance',ascending = False).reset_index(drop=True)\n",
        "\n",
        "feature_results.head()"
      ]
    },
    {
      "cell_type": "code",
      "execution_count": null,
      "id": "8e80c8f5",
      "metadata": {
        "id": "8e80c8f5"
      },
      "outputs": [],
      "source": [
        "indices = np.argsort(importances)\n",
        "\n",
        "fig, ax = plt.subplots(figsize=(18, 8))\n",
        "ax.barh(range(len(importances)), importances[indices])\n",
        "ax.set_yticks(range(len(importances)))\n",
        "_ = ax.set_yticklabels(np.array(features_train_valid.columns)[indices])"
      ]
    },
    {
      "cell_type": "code",
      "execution_count": null,
      "id": "a4927707",
      "metadata": {
        "id": "a4927707"
      },
      "outputs": [],
      "source": [
        "group_party_sobriety = df[df['at_fault'] == 1].groupby('party_sobriety')['at_fault'].count().plot(kind='bar', figsize=(18, 8))"
      ]
    },
    {
      "cell_type": "code",
      "execution_count": null,
      "id": "4cf14bab",
      "metadata": {
        "id": "4cf14bab"
      },
      "outputs": [],
      "source": [
        "y_sobriety = df[df['at_fault'] == 0].groupby('party_sobriety')['at_fault'].count().plot(kind='bar', figsize=(18, 8))"
      ]
    },
    {
      "cell_type": "markdown",
      "id": "03de00fb",
      "metadata": {
        "id": "03de00fb"
      },
      "source": [
        "## Выводы"
      ]
    },
    {
      "cell_type": "markdown",
      "id": "e0b9902d",
      "metadata": {
        "id": "e0b9902d"
      },
      "source": [
        "По заданию, нам нужно было создать систему, которая могла бы оценить риск ДТП по выбранному маршруту движения.  \n",
        "\n",
        "Из графиков видим, что самый важный фактор ДТП — уровень трезвости виновника **party_sobriety**. Из таблицы исходных данных известно, что есть несколько уровней трезвости. Благодоря столбчатой диаграмме, которая отражает зависимость числа ДТП от уровня трезвости, можно сделать вывод, что в основном ДТП происходят, когда участник трезв, но вероятность виновности в ДТП выше, когда участник пьян.  \n",
        "\n",
        "Для решения проблемы необходимо оборудовать автомобиль анализатором на трезвость водителя. Измерение состояния при посадке сделать обязательным условием допуска к управлению автомобилем. Чтобы убедиться, что тест проходит именно водитель - добавить камеру, направленную на водительское кресло.  \n",
        "\n",
        "Наилучшей оказалась модель CatBoost с гиперпараметрами:\n",
        " - depth - 6,\n",
        " - iterations - 100,\n",
        " - learning_rate - 0.002,  \n",
        "\n",
        "которая на тестовой выборке показала результаты:\n",
        " - ROC-AUC 0.709,\n",
        " - количество FN ответов 8686,\n",
        " - FP - 476.  \n",
        "\n",
        "Для улучшения модели можно добавить такие признаки, как стаж вождения, количество штрафов за нарушение ПДД, попадал ли ранее водитель в ДТП."
      ]
    }
  ],
  "metadata": {
    "ExecuteTimeLog": [
      {
        "duration": 1628,
        "start_time": "2022-12-28T20:47:46.910Z"
      },
      {
        "duration": 4,
        "start_time": "2022-12-28T20:48:07.908Z"
      },
      {
        "duration": 4961,
        "start_time": "2022-12-28T20:48:16.633Z"
      },
      {
        "duration": 17642,
        "start_time": "2022-12-28T20:48:45.900Z"
      },
      {
        "duration": 2792,
        "start_time": "2022-12-28T20:49:03.544Z"
      },
      {
        "duration": 10684,
        "start_time": "2022-12-28T20:53:30.444Z"
      },
      {
        "duration": 17,
        "start_time": "2022-12-28T20:54:12.697Z"
      },
      {
        "duration": 2897,
        "start_time": "2022-12-28T20:55:28.717Z"
      },
      {
        "duration": 251,
        "start_time": "2022-12-28T20:55:39.917Z"
      },
      {
        "duration": 308,
        "start_time": "2022-12-28T21:03:18.161Z"
      },
      {
        "duration": 327,
        "start_time": "2022-12-28T21:04:16.320Z"
      },
      {
        "duration": 605,
        "start_time": "2022-12-28T21:04:50.026Z"
      },
      {
        "duration": 214,
        "start_time": "2022-12-28T21:10:52.712Z"
      },
      {
        "duration": 233,
        "start_time": "2022-12-28T21:11:12.999Z"
      },
      {
        "duration": 228,
        "start_time": "2022-12-28T21:11:23.446Z"
      },
      {
        "duration": 222,
        "start_time": "2022-12-28T21:11:30.494Z"
      },
      {
        "duration": 204,
        "start_time": "2022-12-28T21:11:39.631Z"
      },
      {
        "duration": 228,
        "start_time": "2022-12-28T21:11:51.440Z"
      },
      {
        "duration": 206,
        "start_time": "2022-12-28T21:16:14.487Z"
      },
      {
        "duration": 166,
        "start_time": "2022-12-28T21:16:30.015Z"
      },
      {
        "duration": 163,
        "start_time": "2022-12-28T21:17:31.193Z"
      },
      {
        "duration": 7714,
        "start_time": "2022-12-28T21:29:41.838Z"
      },
      {
        "duration": 228,
        "start_time": "2022-12-28T21:30:45.576Z"
      },
      {
        "duration": 213,
        "start_time": "2022-12-28T21:30:51.576Z"
      },
      {
        "duration": 233,
        "start_time": "2022-12-28T21:31:08.945Z"
      },
      {
        "duration": 10779,
        "start_time": "2022-12-28T21:32:29.043Z"
      },
      {
        "duration": 10956,
        "start_time": "2022-12-28T21:32:44.035Z"
      },
      {
        "duration": 3659,
        "start_time": "2022-12-28T21:35:32.081Z"
      },
      {
        "duration": 253,
        "start_time": "2022-12-28T21:36:02.458Z"
      },
      {
        "duration": 249,
        "start_time": "2022-12-28T21:36:13.788Z"
      },
      {
        "duration": 52,
        "start_time": "2022-12-28T21:37:30.101Z"
      },
      {
        "duration": 16297,
        "start_time": "2022-12-28T21:42:05.366Z"
      },
      {
        "duration": 130,
        "start_time": "2022-12-28T21:42:48.999Z"
      },
      {
        "duration": 119,
        "start_time": "2022-12-28T21:43:18.513Z"
      },
      {
        "duration": 97,
        "start_time": "2022-12-28T21:43:26.131Z"
      },
      {
        "duration": 52,
        "start_time": "2022-12-28T21:44:03.682Z"
      },
      {
        "duration": 259,
        "start_time": "2022-12-28T21:48:02.580Z"
      },
      {
        "duration": 5,
        "start_time": "2022-12-28T21:51:00.240Z"
      },
      {
        "duration": 35,
        "start_time": "2022-12-28T21:51:08.192Z"
      },
      {
        "duration": 52,
        "start_time": "2022-12-28T21:51:41.721Z"
      },
      {
        "duration": 154,
        "start_time": "2022-12-28T21:51:51.218Z"
      },
      {
        "duration": 136,
        "start_time": "2022-12-28T21:52:22.124Z"
      },
      {
        "duration": 173,
        "start_time": "2022-12-28T21:53:30.525Z"
      },
      {
        "duration": 510,
        "start_time": "2022-12-28T21:54:35.423Z"
      },
      {
        "duration": 15,
        "start_time": "2022-12-28T21:56:03.531Z"
      },
      {
        "duration": 13,
        "start_time": "2022-12-28T21:56:30.916Z"
      },
      {
        "duration": 25,
        "start_time": "2022-12-28T21:58:05.294Z"
      },
      {
        "duration": 71,
        "start_time": "2022-12-28T21:58:28.191Z"
      },
      {
        "duration": 44,
        "start_time": "2022-12-28T21:58:38.144Z"
      },
      {
        "duration": 116,
        "start_time": "2022-12-28T21:58:47.503Z"
      },
      {
        "duration": 189,
        "start_time": "2022-12-28T21:59:52.178Z"
      },
      {
        "duration": 10,
        "start_time": "2022-12-28T22:00:11.714Z"
      },
      {
        "duration": 180,
        "start_time": "2022-12-28T22:00:47.884Z"
      },
      {
        "duration": 8,
        "start_time": "2022-12-28T22:01:03.557Z"
      },
      {
        "duration": 47,
        "start_time": "2022-12-28T22:01:39.438Z"
      },
      {
        "duration": 788,
        "start_time": "2022-12-28T22:02:18.447Z"
      },
      {
        "duration": 41,
        "start_time": "2022-12-28T22:02:39.560Z"
      },
      {
        "duration": 64,
        "start_time": "2022-12-28T22:03:12.457Z"
      },
      {
        "duration": 22,
        "start_time": "2022-12-28T22:03:34.018Z"
      },
      {
        "duration": 24,
        "start_time": "2022-12-28T22:03:40.042Z"
      },
      {
        "duration": 5324,
        "start_time": "2022-12-28T22:04:27.213Z"
      },
      {
        "duration": 3,
        "start_time": "2022-12-28T22:04:51.565Z"
      },
      {
        "duration": 11,
        "start_time": "2022-12-28T22:05:15.206Z"
      },
      {
        "duration": 20,
        "start_time": "2022-12-28T22:05:29.429Z"
      },
      {
        "duration": 3,
        "start_time": "2022-12-28T22:06:10.856Z"
      },
      {
        "duration": 147591,
        "start_time": "2022-12-28T22:06:25.264Z"
      },
      {
        "duration": 4,
        "start_time": "2022-12-28T22:09:38.766Z"
      },
      {
        "duration": 188,
        "start_time": "2022-12-28T22:10:00.567Z"
      },
      {
        "duration": 196,
        "start_time": "2022-12-28T22:10:14.560Z"
      },
      {
        "duration": 3,
        "start_time": "2022-12-28T22:10:46.168Z"
      },
      {
        "duration": 3,
        "start_time": "2022-12-28T22:11:04.082Z"
      },
      {
        "duration": 3,
        "start_time": "2022-12-28T22:11:20.002Z"
      },
      {
        "duration": 86290,
        "start_time": "2022-12-28T22:11:28.402Z"
      },
      {
        "duration": 4,
        "start_time": "2022-12-28T22:14:00.608Z"
      },
      {
        "duration": 3,
        "start_time": "2022-12-28T22:15:16.491Z"
      },
      {
        "duration": 4245,
        "start_time": "2022-12-28T22:15:34.435Z"
      },
      {
        "duration": 92,
        "start_time": "2022-12-28T22:15:59.059Z"
      },
      {
        "duration": 60,
        "start_time": "2022-12-28T22:41:52.046Z"
      },
      {
        "duration": 6,
        "start_time": "2022-12-28T22:42:31.735Z"
      },
      {
        "duration": 7,
        "start_time": "2022-12-28T22:43:27.455Z"
      },
      {
        "duration": 1641,
        "start_time": "2022-12-28T22:43:43.535Z"
      },
      {
        "duration": 4,
        "start_time": "2022-12-28T22:43:45.179Z"
      },
      {
        "duration": 4760,
        "start_time": "2022-12-28T22:43:45.185Z"
      },
      {
        "duration": 18328,
        "start_time": "2022-12-28T22:43:49.948Z"
      },
      {
        "duration": 2961,
        "start_time": "2022-12-28T22:44:08.278Z"
      },
      {
        "duration": 11371,
        "start_time": "2022-12-28T22:44:11.241Z"
      },
      {
        "duration": 18,
        "start_time": "2022-12-28T22:44:22.614Z"
      },
      {
        "duration": 2870,
        "start_time": "2022-12-28T22:44:22.633Z"
      },
      {
        "duration": 273,
        "start_time": "2022-12-28T22:44:25.504Z"
      },
      {
        "duration": 297,
        "start_time": "2022-12-28T22:44:25.780Z"
      },
      {
        "duration": 637,
        "start_time": "2022-12-28T22:44:26.080Z"
      },
      {
        "duration": 7416,
        "start_time": "2022-12-28T22:44:26.719Z"
      },
      {
        "duration": 261,
        "start_time": "2022-12-28T22:44:34.137Z"
      },
      {
        "duration": 3414,
        "start_time": "2022-12-28T22:44:34.399Z"
      },
      {
        "duration": 274,
        "start_time": "2022-12-28T22:44:37.815Z"
      },
      {
        "duration": 12028,
        "start_time": "2022-12-28T22:44:38.091Z"
      },
      {
        "duration": 133,
        "start_time": "2022-12-28T22:44:50.121Z"
      },
      {
        "duration": 115,
        "start_time": "2022-12-28T22:44:50.256Z"
      },
      {
        "duration": 116,
        "start_time": "2022-12-28T22:44:50.373Z"
      },
      {
        "duration": 57,
        "start_time": "2022-12-28T22:44:50.497Z"
      },
      {
        "duration": 270,
        "start_time": "2022-12-28T22:44:50.556Z"
      },
      {
        "duration": 5,
        "start_time": "2022-12-28T22:44:50.828Z"
      },
      {
        "duration": 52,
        "start_time": "2022-12-28T22:44:50.834Z"
      },
      {
        "duration": 167,
        "start_time": "2022-12-28T22:44:50.888Z"
      },
      {
        "duration": 148,
        "start_time": "2022-12-28T22:44:51.057Z"
      },
      {
        "duration": 191,
        "start_time": "2022-12-28T22:44:51.207Z"
      },
      {
        "duration": 658,
        "start_time": "2022-12-28T22:44:51.401Z"
      },
      {
        "duration": 20,
        "start_time": "2022-12-28T22:44:52.064Z"
      },
      {
        "duration": 43,
        "start_time": "2022-12-28T22:44:52.097Z"
      },
      {
        "duration": 94,
        "start_time": "2022-12-28T22:44:52.142Z"
      },
      {
        "duration": 142,
        "start_time": "2022-12-28T22:44:52.238Z"
      },
      {
        "duration": 237,
        "start_time": "2022-12-28T22:44:52.382Z"
      },
      {
        "duration": 10,
        "start_time": "2022-12-28T22:44:52.621Z"
      },
      {
        "duration": 222,
        "start_time": "2022-12-28T22:44:52.633Z"
      },
      {
        "duration": 9,
        "start_time": "2022-12-28T22:44:52.857Z"
      },
      {
        "duration": 56,
        "start_time": "2022-12-28T22:44:52.868Z"
      },
      {
        "duration": 909,
        "start_time": "2022-12-28T22:44:52.926Z"
      },
      {
        "duration": 44,
        "start_time": "2022-12-28T22:44:53.837Z"
      },
      {
        "duration": 82,
        "start_time": "2022-12-28T22:44:53.883Z"
      },
      {
        "duration": 34,
        "start_time": "2022-12-28T22:44:53.967Z"
      },
      {
        "duration": 6103,
        "start_time": "2022-12-28T22:44:54.002Z"
      },
      {
        "duration": 4,
        "start_time": "2022-12-28T22:45:00.107Z"
      },
      {
        "duration": 46,
        "start_time": "2022-12-28T22:45:00.112Z"
      },
      {
        "duration": 6,
        "start_time": "2022-12-28T22:45:00.160Z"
      },
      {
        "duration": 170272,
        "start_time": "2022-12-28T22:45:00.168Z"
      },
      {
        "duration": 4,
        "start_time": "2022-12-28T22:47:50.442Z"
      },
      {
        "duration": 214,
        "start_time": "2022-12-28T22:47:50.447Z"
      },
      {
        "duration": 3,
        "start_time": "2022-12-28T22:47:50.663Z"
      },
      {
        "duration": 8,
        "start_time": "2022-12-28T22:47:50.667Z"
      },
      {
        "duration": 7,
        "start_time": "2022-12-28T22:47:50.677Z"
      },
      {
        "duration": 93987,
        "start_time": "2022-12-28T22:47:50.686Z"
      },
      {
        "duration": 4,
        "start_time": "2022-12-28T22:49:24.675Z"
      },
      {
        "duration": 5,
        "start_time": "2022-12-28T22:49:24.680Z"
      },
      {
        "duration": 4247,
        "start_time": "2022-12-28T22:49:24.686Z"
      },
      {
        "duration": 97,
        "start_time": "2022-12-28T22:49:28.934Z"
      },
      {
        "duration": 152,
        "start_time": "2022-12-28T22:49:29.033Z"
      },
      {
        "duration": 156,
        "start_time": "2022-12-28T22:49:29.187Z"
      },
      {
        "duration": 167,
        "start_time": "2022-12-28T22:49:29.345Z"
      },
      {
        "duration": 11,
        "start_time": "2022-12-28T22:53:57.317Z"
      },
      {
        "duration": 111,
        "start_time": "2022-12-28T22:56:54.587Z"
      },
      {
        "duration": 5371,
        "start_time": "2022-12-28T22:57:09.868Z"
      },
      {
        "duration": 90,
        "start_time": "2022-12-28T22:57:34.589Z"
      },
      {
        "duration": 83,
        "start_time": "2022-12-28T22:57:48.121Z"
      },
      {
        "duration": 94,
        "start_time": "2022-12-28T22:57:57.662Z"
      },
      {
        "duration": 177,
        "start_time": "2022-12-28T22:58:08.005Z"
      },
      {
        "duration": 11,
        "start_time": "2022-12-28T22:59:37.555Z"
      },
      {
        "duration": 286,
        "start_time": "2022-12-28T22:59:50.100Z"
      },
      {
        "duration": 186,
        "start_time": "2022-12-28T22:59:55.026Z"
      },
      {
        "duration": 204,
        "start_time": "2022-12-28T23:00:06.650Z"
      },
      {
        "duration": 216,
        "start_time": "2022-12-28T23:00:33.516Z"
      },
      {
        "duration": 261,
        "start_time": "2022-12-28T23:00:46.797Z"
      },
      {
        "duration": 1999,
        "start_time": "2023-01-03T20:43:58.009Z"
      },
      {
        "duration": 5,
        "start_time": "2023-01-03T20:44:00.010Z"
      },
      {
        "duration": 8508,
        "start_time": "2023-01-03T20:44:00.017Z"
      },
      {
        "duration": 17723,
        "start_time": "2023-01-03T20:44:08.528Z"
      },
      {
        "duration": 2741,
        "start_time": "2023-01-03T20:44:26.253Z"
      },
      {
        "duration": 11447,
        "start_time": "2023-01-03T20:44:28.996Z"
      },
      {
        "duration": 29,
        "start_time": "2023-01-03T20:44:40.445Z"
      },
      {
        "duration": 2939,
        "start_time": "2023-01-03T20:44:40.476Z"
      },
      {
        "duration": 254,
        "start_time": "2023-01-03T20:44:43.417Z"
      },
      {
        "duration": 268,
        "start_time": "2023-01-03T20:44:43.675Z"
      },
      {
        "duration": 688,
        "start_time": "2023-01-03T20:44:43.945Z"
      },
      {
        "duration": 10819,
        "start_time": "2023-01-03T20:44:44.636Z"
      },
      {
        "duration": 294,
        "start_time": "2023-01-03T20:44:55.457Z"
      },
      {
        "duration": 3295,
        "start_time": "2023-01-03T20:44:55.753Z"
      },
      {
        "duration": 297,
        "start_time": "2023-01-03T20:44:59.051Z"
      },
      {
        "duration": 16496,
        "start_time": "2023-01-03T20:44:59.351Z"
      },
      {
        "duration": 179,
        "start_time": "2023-01-03T20:45:15.851Z"
      },
      {
        "duration": 111,
        "start_time": "2023-01-03T20:45:16.031Z"
      },
      {
        "duration": 136,
        "start_time": "2023-01-03T20:45:16.144Z"
      },
      {
        "duration": 70,
        "start_time": "2023-01-03T20:45:16.282Z"
      },
      {
        "duration": 289,
        "start_time": "2023-01-03T20:45:16.354Z"
      },
      {
        "duration": 7,
        "start_time": "2023-01-03T20:45:16.651Z"
      },
      {
        "duration": 60,
        "start_time": "2023-01-03T20:45:16.660Z"
      },
      {
        "duration": 169,
        "start_time": "2023-01-03T20:45:16.723Z"
      },
      {
        "duration": 171,
        "start_time": "2023-01-03T20:45:16.894Z"
      },
      {
        "duration": 212,
        "start_time": "2023-01-03T20:45:17.067Z"
      },
      {
        "duration": 688,
        "start_time": "2023-01-03T20:45:17.281Z"
      },
      {
        "duration": 15,
        "start_time": "2023-01-03T20:45:17.973Z"
      },
      {
        "duration": 34,
        "start_time": "2023-01-03T20:45:17.990Z"
      },
      {
        "duration": 87,
        "start_time": "2023-01-03T20:45:18.025Z"
      },
      {
        "duration": 157,
        "start_time": "2023-01-03T20:45:18.114Z"
      },
      {
        "duration": 223,
        "start_time": "2023-01-03T20:45:18.273Z"
      },
      {
        "duration": 12,
        "start_time": "2023-01-03T20:45:18.498Z"
      },
      {
        "duration": 234,
        "start_time": "2023-01-03T20:45:18.512Z"
      },
      {
        "duration": 13,
        "start_time": "2023-01-03T20:45:18.748Z"
      },
      {
        "duration": 35,
        "start_time": "2023-01-03T20:45:18.763Z"
      },
      {
        "duration": 1102,
        "start_time": "2023-01-03T20:45:18.801Z"
      },
      {
        "duration": 49,
        "start_time": "2023-01-03T20:45:19.905Z"
      },
      {
        "duration": 76,
        "start_time": "2023-01-03T20:45:19.956Z"
      },
      {
        "duration": 39,
        "start_time": "2023-01-03T20:45:20.034Z"
      },
      {
        "duration": 6759,
        "start_time": "2023-01-03T20:45:20.075Z"
      },
      {
        "duration": 4,
        "start_time": "2023-01-03T20:45:26.836Z"
      },
      {
        "duration": 36,
        "start_time": "2023-01-03T20:45:26.842Z"
      },
      {
        "duration": 4,
        "start_time": "2023-01-03T20:45:26.880Z"
      },
      {
        "duration": 183634,
        "start_time": "2023-01-03T20:45:26.886Z"
      },
      {
        "duration": 5,
        "start_time": "2023-01-03T20:48:30.522Z"
      },
      {
        "duration": 306,
        "start_time": "2023-01-03T20:48:30.529Z"
      },
      {
        "duration": 4,
        "start_time": "2023-01-03T20:48:30.837Z"
      },
      {
        "duration": 8,
        "start_time": "2023-01-03T20:48:30.851Z"
      },
      {
        "duration": 26,
        "start_time": "2023-01-03T20:48:30.861Z"
      },
      {
        "duration": 100800,
        "start_time": "2023-01-03T20:48:30.889Z"
      },
      {
        "duration": 5,
        "start_time": "2023-01-03T20:50:11.691Z"
      },
      {
        "duration": 9,
        "start_time": "2023-01-03T20:50:11.698Z"
      },
      {
        "duration": 5159,
        "start_time": "2023-01-03T20:50:11.708Z"
      },
      {
        "duration": 111,
        "start_time": "2023-01-03T20:50:16.869Z"
      },
      {
        "duration": 172,
        "start_time": "2023-01-03T20:50:16.982Z"
      },
      {
        "duration": 168,
        "start_time": "2023-01-03T20:50:17.156Z"
      },
      {
        "duration": 165,
        "start_time": "2023-01-03T20:50:17.326Z"
      },
      {
        "duration": 11,
        "start_time": "2023-01-03T20:50:17.492Z"
      },
      {
        "duration": 130,
        "start_time": "2023-01-03T20:50:17.505Z"
      },
      {
        "duration": 5968,
        "start_time": "2023-01-03T20:50:17.638Z"
      },
      {
        "duration": 115,
        "start_time": "2023-01-03T20:50:23.608Z"
      },
      {
        "duration": 173,
        "start_time": "2023-01-03T20:50:23.725Z"
      },
      {
        "duration": 12,
        "start_time": "2023-01-03T20:50:23.900Z"
      },
      {
        "duration": 345,
        "start_time": "2023-01-03T20:50:23.914Z"
      },
      {
        "duration": 243,
        "start_time": "2023-01-03T20:50:24.260Z"
      },
      {
        "duration": 269,
        "start_time": "2023-01-03T20:50:24.506Z"
      },
      {
        "duration": 1639,
        "start_time": "2023-01-05T16:14:34.829Z"
      },
      {
        "duration": 3,
        "start_time": "2023-01-05T16:14:36.470Z"
      },
      {
        "duration": 5112,
        "start_time": "2023-01-05T16:14:36.475Z"
      },
      {
        "duration": 16681,
        "start_time": "2023-01-05T16:14:41.589Z"
      },
      {
        "duration": 2552,
        "start_time": "2023-01-05T16:14:58.272Z"
      },
      {
        "duration": 11379,
        "start_time": "2023-01-05T16:15:00.825Z"
      },
      {
        "duration": 18,
        "start_time": "2023-01-05T16:15:12.206Z"
      },
      {
        "duration": 2826,
        "start_time": "2023-01-05T16:15:12.225Z"
      },
      {
        "duration": 245,
        "start_time": "2023-01-05T16:15:15.053Z"
      },
      {
        "duration": 305,
        "start_time": "2023-01-05T16:15:15.301Z"
      },
      {
        "duration": 646,
        "start_time": "2023-01-05T16:15:15.608Z"
      },
      {
        "duration": 10501,
        "start_time": "2023-01-05T16:15:16.255Z"
      },
      {
        "duration": 273,
        "start_time": "2023-01-05T16:15:26.757Z"
      },
      {
        "duration": 3336,
        "start_time": "2023-01-05T16:15:27.036Z"
      },
      {
        "duration": 253,
        "start_time": "2023-01-05T16:15:30.374Z"
      },
      {
        "duration": 16521,
        "start_time": "2023-01-05T16:15:30.634Z"
      },
      {
        "duration": 137,
        "start_time": "2023-01-05T16:15:47.156Z"
      },
      {
        "duration": 118,
        "start_time": "2023-01-05T16:15:47.294Z"
      },
      {
        "duration": 113,
        "start_time": "2023-01-05T16:15:47.414Z"
      },
      {
        "duration": 48,
        "start_time": "2023-01-05T16:15:47.529Z"
      },
      {
        "duration": 276,
        "start_time": "2023-01-05T16:15:47.579Z"
      },
      {
        "duration": 5,
        "start_time": "2023-01-05T16:15:47.857Z"
      },
      {
        "duration": 43,
        "start_time": "2023-01-05T16:15:47.863Z"
      },
      {
        "duration": 167,
        "start_time": "2023-01-05T16:15:47.908Z"
      },
      {
        "duration": 147,
        "start_time": "2023-01-05T16:15:48.077Z"
      },
      {
        "duration": 207,
        "start_time": "2023-01-05T16:15:48.226Z"
      },
      {
        "duration": 616,
        "start_time": "2023-01-05T16:15:48.435Z"
      },
      {
        "duration": 19,
        "start_time": "2023-01-05T16:15:49.057Z"
      },
      {
        "duration": 58,
        "start_time": "2023-01-05T16:15:49.078Z"
      },
      {
        "duration": 83,
        "start_time": "2023-01-05T16:15:49.138Z"
      },
      {
        "duration": 157,
        "start_time": "2023-01-05T16:15:49.223Z"
      },
      {
        "duration": 208,
        "start_time": "2023-01-05T16:15:49.381Z"
      },
      {
        "duration": 10,
        "start_time": "2023-01-05T16:15:49.590Z"
      },
      {
        "duration": 239,
        "start_time": "2023-01-05T16:15:49.601Z"
      },
      {
        "duration": 12,
        "start_time": "2023-01-05T16:15:49.842Z"
      },
      {
        "duration": 68,
        "start_time": "2023-01-05T16:15:49.856Z"
      },
      {
        "duration": 887,
        "start_time": "2023-01-05T16:15:49.925Z"
      },
      {
        "duration": 45,
        "start_time": "2023-01-05T16:15:50.814Z"
      },
      {
        "duration": 76,
        "start_time": "2023-01-05T16:15:50.861Z"
      },
      {
        "duration": 26,
        "start_time": "2023-01-05T16:15:50.939Z"
      },
      {
        "duration": 6175,
        "start_time": "2023-01-05T16:15:50.967Z"
      },
      {
        "duration": 5,
        "start_time": "2023-01-05T16:15:57.144Z"
      },
      {
        "duration": 41,
        "start_time": "2023-01-05T16:15:57.150Z"
      },
      {
        "duration": 5,
        "start_time": "2023-01-05T16:15:57.193Z"
      },
      {
        "duration": 167548,
        "start_time": "2023-01-05T16:15:57.199Z"
      },
      {
        "duration": 4,
        "start_time": "2023-01-05T16:18:44.749Z"
      },
      {
        "duration": 203,
        "start_time": "2023-01-05T16:18:44.754Z"
      },
      {
        "duration": 2,
        "start_time": "2023-01-05T16:18:44.959Z"
      },
      {
        "duration": 5,
        "start_time": "2023-01-05T16:18:44.963Z"
      },
      {
        "duration": 6,
        "start_time": "2023-01-05T16:18:44.970Z"
      },
      {
        "duration": 96288,
        "start_time": "2023-01-05T16:18:44.977Z"
      },
      {
        "duration": 4,
        "start_time": "2023-01-05T16:20:21.267Z"
      },
      {
        "duration": 14,
        "start_time": "2023-01-05T16:20:21.273Z"
      },
      {
        "duration": 4507,
        "start_time": "2023-01-05T16:20:21.288Z"
      },
      {
        "duration": 93,
        "start_time": "2023-01-05T16:20:25.796Z"
      },
      {
        "duration": 185,
        "start_time": "2023-01-05T16:20:25.891Z"
      },
      {
        "duration": 157,
        "start_time": "2023-01-05T16:20:26.078Z"
      },
      {
        "duration": 158,
        "start_time": "2023-01-05T16:20:26.237Z"
      },
      {
        "duration": 9,
        "start_time": "2023-01-05T16:20:26.397Z"
      },
      {
        "duration": 120,
        "start_time": "2023-01-05T16:20:26.408Z"
      },
      {
        "duration": 5554,
        "start_time": "2023-01-05T16:20:26.530Z"
      },
      {
        "duration": 94,
        "start_time": "2023-01-05T16:20:32.086Z"
      },
      {
        "duration": 159,
        "start_time": "2023-01-05T16:20:32.181Z"
      },
      {
        "duration": 10,
        "start_time": "2023-01-05T16:20:32.341Z"
      },
      {
        "duration": 376,
        "start_time": "2023-01-05T16:20:32.352Z"
      },
      {
        "duration": 230,
        "start_time": "2023-01-05T16:20:32.730Z"
      },
      {
        "duration": 253,
        "start_time": "2023-01-05T16:20:32.962Z"
      },
      {
        "duration": 58,
        "start_time": "2023-01-05T17:45:20.518Z"
      },
      {
        "duration": 6,
        "start_time": "2023-01-05T18:04:20.126Z"
      },
      {
        "duration": 188,
        "start_time": "2023-01-05T18:15:29.252Z"
      },
      {
        "duration": 53,
        "start_time": "2023-01-05T18:16:30.495Z"
      },
      {
        "duration": 242,
        "start_time": "2023-01-05T18:16:45.112Z"
      },
      {
        "duration": 50,
        "start_time": "2023-01-05T18:17:58.554Z"
      },
      {
        "duration": 229,
        "start_time": "2023-01-05T18:18:02.866Z"
      },
      {
        "duration": 1744,
        "start_time": "2023-01-05T18:19:50.966Z"
      },
      {
        "duration": 96,
        "start_time": "2023-01-05T18:20:10.070Z"
      },
      {
        "duration": 230,
        "start_time": "2023-01-05T18:20:20.510Z"
      },
      {
        "duration": 12,
        "start_time": "2023-01-05T18:22:51.028Z"
      },
      {
        "duration": 1674,
        "start_time": "2023-01-05T18:23:09.941Z"
      },
      {
        "duration": 43,
        "start_time": "2023-01-05T18:23:22.605Z"
      },
      {
        "duration": 245,
        "start_time": "2023-01-05T18:23:28.740Z"
      },
      {
        "duration": 11,
        "start_time": "2023-01-05T18:24:38.559Z"
      },
      {
        "duration": 81,
        "start_time": "2023-01-05T18:25:36.961Z"
      },
      {
        "duration": 10,
        "start_time": "2023-01-05T18:27:47.582Z"
      },
      {
        "duration": 11,
        "start_time": "2023-01-05T18:33:37.442Z"
      },
      {
        "duration": 227,
        "start_time": "2023-01-05T18:34:51.516Z"
      },
      {
        "duration": 91,
        "start_time": "2023-01-05T18:35:57.606Z"
      },
      {
        "duration": 12,
        "start_time": "2023-01-05T18:36:31.927Z"
      },
      {
        "duration": 13,
        "start_time": "2023-01-05T18:37:06.759Z"
      },
      {
        "duration": 101,
        "start_time": "2023-01-05T18:38:36.796Z"
      },
      {
        "duration": 196,
        "start_time": "2023-01-05T18:40:33.239Z"
      },
      {
        "duration": 235,
        "start_time": "2023-01-05T18:41:19.593Z"
      },
      {
        "duration": 11,
        "start_time": "2023-01-05T18:42:08.378Z"
      },
      {
        "duration": 222,
        "start_time": "2023-01-05T18:42:56.252Z"
      },
      {
        "duration": 10,
        "start_time": "2023-01-05T18:43:08.052Z"
      },
      {
        "duration": 5,
        "start_time": "2023-01-05T18:53:51.162Z"
      },
      {
        "duration": 87,
        "start_time": "2023-01-05T18:55:37.094Z"
      },
      {
        "duration": 226,
        "start_time": "2023-01-05T18:56:01.479Z"
      },
      {
        "duration": 165,
        "start_time": "2023-01-05T18:57:29.298Z"
      },
      {
        "duration": 11,
        "start_time": "2023-01-05T19:12:13.174Z"
      },
      {
        "duration": 18,
        "start_time": "2023-01-05T19:14:58.765Z"
      },
      {
        "duration": 11,
        "start_time": "2023-01-05T19:15:14.805Z"
      },
      {
        "duration": 12,
        "start_time": "2023-01-05T19:16:03.502Z"
      },
      {
        "duration": 13,
        "start_time": "2023-01-05T19:18:12.058Z"
      },
      {
        "duration": 12,
        "start_time": "2023-01-05T19:18:16.994Z"
      },
      {
        "duration": 29,
        "start_time": "2023-01-05T19:19:06.476Z"
      },
      {
        "duration": 28,
        "start_time": "2023-01-05T19:21:57.763Z"
      },
      {
        "duration": 49,
        "start_time": "2023-01-05T19:23:43.007Z"
      },
      {
        "duration": 42,
        "start_time": "2023-01-05T19:25:20.266Z"
      },
      {
        "duration": 43,
        "start_time": "2023-01-05T19:29:48.947Z"
      },
      {
        "duration": 10,
        "start_time": "2023-01-05T19:37:22.922Z"
      },
      {
        "duration": 5,
        "start_time": "2023-01-05T19:37:35.299Z"
      },
      {
        "duration": 11,
        "start_time": "2023-01-05T19:37:43.259Z"
      },
      {
        "duration": 11,
        "start_time": "2023-01-05T19:38:57.622Z"
      },
      {
        "duration": 10,
        "start_time": "2023-01-05T19:41:59.524Z"
      },
      {
        "duration": 29,
        "start_time": "2023-01-05T19:45:35.437Z"
      },
      {
        "duration": 45,
        "start_time": "2023-01-05T19:45:42.412Z"
      },
      {
        "duration": 27,
        "start_time": "2023-01-05T19:46:00.588Z"
      },
      {
        "duration": 27,
        "start_time": "2023-01-05T19:46:25.652Z"
      },
      {
        "duration": 162,
        "start_time": "2023-01-05T19:47:18.806Z"
      },
      {
        "duration": 232,
        "start_time": "2023-01-05T19:47:46.960Z"
      },
      {
        "duration": 197,
        "start_time": "2023-01-05T19:51:59.679Z"
      },
      {
        "duration": 242,
        "start_time": "2023-01-05T19:54:43.653Z"
      },
      {
        "duration": 22,
        "start_time": "2023-01-05T19:54:47.237Z"
      },
      {
        "duration": 214,
        "start_time": "2023-01-05T19:58:15.795Z"
      },
      {
        "duration": 256,
        "start_time": "2023-01-05T19:59:19.913Z"
      },
      {
        "duration": 233,
        "start_time": "2023-01-05T20:00:43.042Z"
      },
      {
        "duration": 202,
        "start_time": "2023-01-05T20:05:02.314Z"
      },
      {
        "duration": 46,
        "start_time": "2023-01-05T20:07:34.479Z"
      },
      {
        "duration": 48,
        "start_time": "2023-01-05T20:16:46.803Z"
      },
      {
        "duration": 13,
        "start_time": "2023-01-05T22:56:31.143Z"
      },
      {
        "duration": 10,
        "start_time": "2023-01-05T22:57:53.914Z"
      },
      {
        "duration": 299,
        "start_time": "2023-01-05T22:58:41.252Z"
      },
      {
        "duration": 10,
        "start_time": "2023-01-05T23:02:37.323Z"
      },
      {
        "duration": 33,
        "start_time": "2023-01-05T23:03:27.838Z"
      },
      {
        "duration": 12,
        "start_time": "2023-01-05T23:04:22.582Z"
      },
      {
        "duration": 247,
        "start_time": "2023-01-05T23:06:32.179Z"
      },
      {
        "duration": 387,
        "start_time": "2023-01-05T23:06:39.075Z"
      },
      {
        "duration": 14,
        "start_time": "2023-01-05T23:07:42.478Z"
      },
      {
        "duration": 11,
        "start_time": "2023-01-05T23:12:11.150Z"
      },
      {
        "duration": 36,
        "start_time": "2023-01-05T23:12:19.974Z"
      },
      {
        "duration": 15,
        "start_time": "2023-01-05T23:12:26.215Z"
      },
      {
        "duration": 33,
        "start_time": "2023-01-05T23:12:31.855Z"
      },
      {
        "duration": 14,
        "start_time": "2023-01-05T23:12:51.264Z"
      },
      {
        "duration": 114,
        "start_time": "2023-01-05T23:13:58.474Z"
      },
      {
        "duration": 496,
        "start_time": "2023-01-05T23:14:22.244Z"
      },
      {
        "duration": 115,
        "start_time": "2023-01-05T23:14:50.420Z"
      },
      {
        "duration": 11,
        "start_time": "2023-01-05T23:15:13.902Z"
      },
      {
        "duration": 298,
        "start_time": "2023-01-05T23:15:16.174Z"
      },
      {
        "duration": 13,
        "start_time": "2023-01-05T23:47:01.188Z"
      },
      {
        "duration": 99,
        "start_time": "2023-01-05T23:48:50.697Z"
      },
      {
        "duration": 89,
        "start_time": "2023-01-05T23:49:04.167Z"
      },
      {
        "duration": 90,
        "start_time": "2023-01-05T23:49:25.106Z"
      },
      {
        "duration": 12,
        "start_time": "2023-01-05T23:53:27.193Z"
      },
      {
        "duration": 141,
        "start_time": "2023-01-05T23:53:33.786Z"
      },
      {
        "duration": 13,
        "start_time": "2023-01-05T23:53:52.890Z"
      },
      {
        "duration": 147,
        "start_time": "2023-01-05T23:54:05.090Z"
      },
      {
        "duration": 409,
        "start_time": "2023-01-06T00:30:07.257Z"
      },
      {
        "duration": 370,
        "start_time": "2023-01-06T00:31:11.427Z"
      },
      {
        "duration": 155,
        "start_time": "2023-01-06T00:39:29.403Z"
      },
      {
        "duration": 17,
        "start_time": "2023-01-06T00:40:02.219Z"
      },
      {
        "duration": 159,
        "start_time": "2023-01-06T00:40:06.099Z"
      },
      {
        "duration": 158,
        "start_time": "2023-01-06T00:41:15.224Z"
      },
      {
        "duration": 1621,
        "start_time": "2023-01-06T13:05:10.759Z"
      },
      {
        "duration": 4,
        "start_time": "2023-01-06T13:05:12.384Z"
      },
      {
        "duration": 5616,
        "start_time": "2023-01-06T13:05:12.390Z"
      },
      {
        "duration": 16787,
        "start_time": "2023-01-06T13:05:18.009Z"
      },
      {
        "duration": 2667,
        "start_time": "2023-01-06T13:05:34.798Z"
      },
      {
        "duration": 1869,
        "start_time": "2023-01-06T13:06:57.262Z"
      },
      {
        "duration": 3,
        "start_time": "2023-01-06T13:06:59.135Z"
      },
      {
        "duration": 5966,
        "start_time": "2023-01-06T13:06:59.140Z"
      },
      {
        "duration": 16961,
        "start_time": "2023-01-06T13:07:05.109Z"
      },
      {
        "duration": 2595,
        "start_time": "2023-01-06T13:07:22.072Z"
      },
      {
        "duration": 54,
        "start_time": "2023-01-06T13:22:04.599Z"
      },
      {
        "duration": 9,
        "start_time": "2023-01-06T13:22:11.808Z"
      },
      {
        "duration": 59,
        "start_time": "2023-01-06T13:54:11.441Z"
      }
    ],
    "kernelspec": {
      "display_name": "Python 3 (ipykernel)",
      "language": "python",
      "name": "python3"
    },
    "language_info": {
      "codemirror_mode": {
        "name": "ipython",
        "version": 3
      },
      "file_extension": ".py",
      "mimetype": "text/x-python",
      "name": "python",
      "nbconvert_exporter": "python",
      "pygments_lexer": "ipython3",
      "version": "3.9.5"
    },
    "toc": {
      "base_numbering": 1,
      "nav_menu": {},
      "number_sections": false,
      "sideBar": true,
      "skip_h1_title": false,
      "title_cell": "Table of Contents",
      "title_sidebar": "Contents",
      "toc_cell": false,
      "toc_position": {
        "height": "calc(100% - 180px)",
        "left": "10px",
        "top": "150px",
        "width": "165px"
      },
      "toc_section_display": true,
      "toc_window_display": true
    },
    "varInspector": {
      "cols": {
        "lenName": 16,
        "lenType": 16,
        "lenVar": 40
      },
      "kernels_config": {
        "python": {
          "delete_cmd_postfix": "",
          "delete_cmd_prefix": "del ",
          "library": "var_list.py",
          "varRefreshCmd": "print(var_dic_list())"
        },
        "r": {
          "delete_cmd_postfix": ") ",
          "delete_cmd_prefix": "rm(",
          "library": "var_list.r",
          "varRefreshCmd": "cat(var_dic_list()) "
        }
      },
      "types_to_exclude": [
        "module",
        "function",
        "builtin_function_or_method",
        "instance",
        "_Feature"
      ],
      "window_display": false
    },
    "colab": {
      "provenance": []
    }
  },
  "nbformat": 4,
  "nbformat_minor": 5
}