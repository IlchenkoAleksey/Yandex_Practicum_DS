{
  "cells": [
    {
      "cell_type": "markdown",
      "metadata": {
        "toc": true,
        "id": "R6o2AB7dBJvV"
      },
      "source": [
        "<h1>Содержание<span class=\"tocSkip\"></span></h1>\n",
        "<div class=\"toc\"><ul class=\"toc-item\"><li><span><a href=\"#Изучение-данных-из-файла\" data-toc-modified-id=\"Изучение-данных-из-файла-1\"><span class=\"toc-item-num\">1&nbsp;&nbsp;</span>Изучение данных из файла</a></span><ul class=\"toc-item\"><li><span><a href=\"#Вывод\" data-toc-modified-id=\"Вывод-1.1\"><span class=\"toc-item-num\">1.1&nbsp;&nbsp;</span>Вывод</a></span></li></ul></li><li><span><a href=\"#Предобработка-данных\" data-toc-modified-id=\"Предобработка-данных-2\"><span class=\"toc-item-num\">2&nbsp;&nbsp;</span>Предобработка данных</a></span><ul class=\"toc-item\"><li><span><a href=\"#Работа-с-пропусками\" data-toc-modified-id=\"Работа-с-пропусками-2.1\"><span class=\"toc-item-num\">2.1&nbsp;&nbsp;</span>Работа с пропусками</a></span></li><li><span><a href=\"#Изменяем-типы-данных\" data-toc-modified-id=\"Изменяем-типы-данных-2.2\"><span class=\"toc-item-num\">2.2&nbsp;&nbsp;</span>Изменяем типы данных</a></span></li><li><span><a href=\"#Поиск-дубликатов\" data-toc-modified-id=\"Поиск-дубликатов-2.3\"><span class=\"toc-item-num\">2.3&nbsp;&nbsp;</span>Поиск дубликатов</a></span></li></ul></li><li><span><a href=\"#Расчёты-и-добавление-результатов-в-таблицу\" data-toc-modified-id=\"Расчёты-и-добавление-результатов-в-таблицу-3\"><span class=\"toc-item-num\">3&nbsp;&nbsp;</span>Расчёты и добавление результатов в таблицу</a></span></li><li><span><a href=\"#Исследовательский-анализ-данных\" data-toc-modified-id=\"Исследовательский-анализ-данных-4\"><span class=\"toc-item-num\">4&nbsp;&nbsp;</span>Исследовательский анализ данных</a></span><ul class=\"toc-item\"><li><span><a href=\"#Изучим-следующие-параметры:-площадь,-цена,-число-комнат,-высота-потолков\" data-toc-modified-id=\"Изучим-следующие-параметры:-площадь,-цена,-число-комнат,-высота-потолков-4.1\"><span class=\"toc-item-num\">4.1&nbsp;&nbsp;</span>Изучим следующие параметры: площадь, цена, число комнат, высота потолков</a></span></li><li><span><a href=\"#Изучим-время-продажи-квартиры\" data-toc-modified-id=\"Изучим-время-продажи-квартиры-4.2\"><span class=\"toc-item-num\">4.2&nbsp;&nbsp;</span>Изучим время продажи квартиры</a></span></li><li><span><a href=\"#Убираем-редкие-и-выбивающиеся-значения\" data-toc-modified-id=\"Убираем-редкие-и-выбивающиеся-значения-4.3\"><span class=\"toc-item-num\">4.3&nbsp;&nbsp;</span>Убираем редкие и выбивающиеся значения</a></span></li><li><span><a href=\"#Изучим-какие-факторы-больше-всего-влияют-на-стоимость-квартиры\" data-toc-modified-id=\"Изучим-какие-факторы-больше-всего-влияют-на-стоимость-квартиры-4.4\"><span class=\"toc-item-num\">4.4&nbsp;&nbsp;</span>Изучим какие факторы больше всего влияют на стоимость квартиры</a></span><ul class=\"toc-item\"><li><span><a href=\"#Изучим,-зависит-ли-цена-от-квадратного-метра,-числа-комнат,-этажа-(первого-или-последнего),-удалённости-от-центра.\" data-toc-modified-id=\"Изучим,-зависит-ли-цена-от-квадратного-метра,-числа-комнат,-этажа-(первого-или-последнего),-удалённости-от-центра.-4.4.1\"><span class=\"toc-item-num\">4.4.1&nbsp;&nbsp;</span>Изучим, зависит ли цена от квадратного метра, числа комнат, этажа (первого или последнего), удалённости от центра.</a></span></li><li><span><a href=\"#Изучим-зависимость-от-даты-размещения:-дня-недели,-месяца-и-года\" data-toc-modified-id=\"Изучим-зависимость-от-даты-размещения:-дня-недели,-месяца-и-года-4.4.2\"><span class=\"toc-item-num\">4.4.2&nbsp;&nbsp;</span>Изучим зависимость от даты размещения: дня недели, месяца и года</a></span></li><li><span><a href=\"#Выберем-10-населённых-пунктов-с-наибольшим-числом-объявлений\" data-toc-modified-id=\"Выберем-10-населённых-пунктов-с-наибольшим-числом-объявлений-4.4.3\"><span class=\"toc-item-num\">4.4.3&nbsp;&nbsp;</span>Выберем 10 населённых пунктов с наибольшим числом объявлений</a></span></li></ul></li><li><span><a href=\"#Изучим-предложения-квартир\" data-toc-modified-id=\"Изучим-предложения-квартир-4.5\"><span class=\"toc-item-num\">4.5&nbsp;&nbsp;</span>Изучим предложения квартир</a></span><ul class=\"toc-item\"><li><span><a href=\"#Выделим-квартиры-в-Санкт-Петербурге,-выясним,-какая-область-входит-в-центр\" data-toc-modified-id=\"Выделим-квартиры-в-Санкт-Петербурге,-выясним,-какая-область-входит-в-центр-4.5.1\"><span class=\"toc-item-num\">4.5.1&nbsp;&nbsp;</span>Выделим квартиры в Санкт-Петербурге, выясним, какая область входит в центр</a></span></li><li><span><a href=\"#Выделим-сегмент-квартир-в-центре\" data-toc-modified-id=\"Выделим-сегмент-квартир-в-центре-4.5.2\"><span class=\"toc-item-num\">4.5.2&nbsp;&nbsp;</span>Выделим сегмент квартир в центре</a></span></li><li><span><a href=\"#Определим,-влияет-ли-общая-площадь,-число-комнат,-удаленность-от-центра-на-стоимость-квартиры.\" data-toc-modified-id=\"Определим,-влияет-ли-общая-площадь,-число-комнат,-удаленность-от-центра-на-стоимость-квартиры.-4.5.3\"><span class=\"toc-item-num\">4.5.3&nbsp;&nbsp;</span>Определим, влияет ли общая площадь, число комнат, удаленность от центра на стоимость квартиры.</a></span></li><li><span><a href=\"#Определим-влияниет-ли-этаж-на-стоимость-квартиры\" data-toc-modified-id=\"Определим-влияниет-ли-этаж-на-стоимость-квартиры-4.5.4\"><span class=\"toc-item-num\">4.5.4&nbsp;&nbsp;</span>Определим влияниет ли этаж на стоимость квартиры</a></span></li><li><span><a href=\"#Определим-как-влияниет-на-стоимость-дата-размещения-объявления\" data-toc-modified-id=\"Определим-как-влияниет-на-стоимость-дата-размещения-объявления-4.5.5\"><span class=\"toc-item-num\">4.5.5&nbsp;&nbsp;</span>Определим как влияниет на стоимость дата размещения объявления</a></span></li></ul></li></ul></li><li><span><a href=\"#Общий-вывод\" data-toc-modified-id=\"Общий-вывод-5\"><span class=\"toc-item-num\">5&nbsp;&nbsp;</span>Общий вывод</a></span></li><li><span><a href=\"#Чек-лист-готовности-проекта\" data-toc-modified-id=\"Чек-лист-готовности-проекта-6\"><span class=\"toc-item-num\">6&nbsp;&nbsp;</span>Чек-лист готовности проекта</a></span></li></ul></div>"
      ]
    },
    {
      "cell_type": "markdown",
      "metadata": {
        "id": "WaHweR9ZBJvZ"
      },
      "source": [
        "# Исследование объявлений о продаже квартир\n",
        "\n",
        "В вашем распоряжении данные сервиса Яндекс.Недвижимость — архив объявлений о продаже квартир в Санкт-Петербурге и соседних населённых пунктах за несколько лет. Нужно научиться определять рыночную стоимость объектов недвижимости. Ваша задача — установить параметры. Это позволит построить автоматизированную систему: она отследит аномалии и мошенническую деятельность.\n",
        "\n",
        "По каждой квартире на продажу доступны два вида данных. Первые вписаны пользователем, вторые получены автоматически на основе картографических данных. Например, расстояние до центра, аэропорта, ближайшего парка и водоёма."
      ]
    },
    {
      "cell_type": "markdown",
      "metadata": {
        "id": "zKtHi6WEBJva"
      },
      "source": [
        "## Изучение данных из файла"
      ]
    },
    {
      "cell_type": "code",
      "execution_count": null,
      "metadata": {
        "scrolled": true,
        "id": "L1TP8rVwBJva",
        "outputId": "0404053c-a0dc-4759-d538-d294d14494dd"
      },
      "outputs": [
        {
          "name": "stdout",
          "output_type": "stream",
          "text": [
            "<class 'pandas.core.frame.DataFrame'>\n",
            "RangeIndex: 23699 entries, 0 to 23698\n",
            "Data columns (total 22 columns):\n",
            "total_images            23699 non-null int64\n",
            "last_price              23699 non-null float64\n",
            "total_area              23699 non-null float64\n",
            "first_day_exposition    23699 non-null object\n",
            "rooms                   23699 non-null int64\n",
            "ceiling_height          14504 non-null float64\n",
            "floors_total            23613 non-null float64\n",
            "living_area             21796 non-null float64\n",
            "floor                   23699 non-null int64\n",
            "is_apartment            2775 non-null object\n",
            "studio                  23699 non-null bool\n",
            "open_plan               23699 non-null bool\n",
            "kitchen_area            21421 non-null float64\n",
            "balcony                 12180 non-null float64\n",
            "locality_name           23650 non-null object\n",
            "airports_nearest        18157 non-null float64\n",
            "cityCenters_nearest     18180 non-null float64\n",
            "parks_around3000        18181 non-null float64\n",
            "parks_nearest           8079 non-null float64\n",
            "ponds_around3000        18181 non-null float64\n",
            "ponds_nearest           9110 non-null float64\n",
            "days_exposition         20518 non-null float64\n",
            "dtypes: bool(2), float64(14), int64(3), object(3)\n",
            "memory usage: 3.7+ MB\n"
          ]
        }
      ],
      "source": [
        "import pandas as pd\n",
        "import numpy as np\n",
        "import matplotlib.pyplot as plt\n",
        "import seaborn as sns\n",
        "\n",
        "df = pd.read_csv('/datasets/real_estate_data.csv', sep='\\t')\n",
        "\n",
        "df.info()"
      ]
    },
    {
      "cell_type": "markdown",
      "metadata": {
        "id": "kLn0H8m1BJvb"
      },
      "source": [
        "Выведем список характерных значений для всего датафрейма."
      ]
    },
    {
      "cell_type": "code",
      "execution_count": null,
      "metadata": {
        "scrolled": true,
        "id": "cf9A6lSVBJvb",
        "outputId": "02a47fd9-9f7d-4df0-9481-2d782ae8aa15"
      },
      "outputs": [
        {
          "data": {
            "text/html": [
              "<div>\n",
              "<style scoped>\n",
              "    .dataframe tbody tr th:only-of-type {\n",
              "        vertical-align: middle;\n",
              "    }\n",
              "\n",
              "    .dataframe tbody tr th {\n",
              "        vertical-align: top;\n",
              "    }\n",
              "\n",
              "    .dataframe thead th {\n",
              "        text-align: right;\n",
              "    }\n",
              "</style>\n",
              "<table border=\"1\" class=\"dataframe\">\n",
              "  <thead>\n",
              "    <tr style=\"text-align: right;\">\n",
              "      <th></th>\n",
              "      <th>total_images</th>\n",
              "      <th>last_price</th>\n",
              "      <th>total_area</th>\n",
              "      <th>rooms</th>\n",
              "      <th>ceiling_height</th>\n",
              "      <th>floors_total</th>\n",
              "      <th>living_area</th>\n",
              "      <th>floor</th>\n",
              "      <th>kitchen_area</th>\n",
              "      <th>balcony</th>\n",
              "      <th>airports_nearest</th>\n",
              "      <th>cityCenters_nearest</th>\n",
              "      <th>parks_around3000</th>\n",
              "      <th>parks_nearest</th>\n",
              "      <th>ponds_around3000</th>\n",
              "      <th>ponds_nearest</th>\n",
              "      <th>days_exposition</th>\n",
              "    </tr>\n",
              "  </thead>\n",
              "  <tbody>\n",
              "    <tr>\n",
              "      <td>count</td>\n",
              "      <td>23699.000000</td>\n",
              "      <td>2.369900e+04</td>\n",
              "      <td>23699.000000</td>\n",
              "      <td>23699.000000</td>\n",
              "      <td>14504.000000</td>\n",
              "      <td>23613.000000</td>\n",
              "      <td>21796.000000</td>\n",
              "      <td>23699.000000</td>\n",
              "      <td>21421.000000</td>\n",
              "      <td>12180.000000</td>\n",
              "      <td>18157.000000</td>\n",
              "      <td>18180.000000</td>\n",
              "      <td>18181.000000</td>\n",
              "      <td>8079.000000</td>\n",
              "      <td>18181.000000</td>\n",
              "      <td>9110.000000</td>\n",
              "      <td>20518.000000</td>\n",
              "    </tr>\n",
              "    <tr>\n",
              "      <td>mean</td>\n",
              "      <td>9.858475</td>\n",
              "      <td>6.541549e+06</td>\n",
              "      <td>60.348651</td>\n",
              "      <td>2.070636</td>\n",
              "      <td>2.771499</td>\n",
              "      <td>10.673824</td>\n",
              "      <td>34.457852</td>\n",
              "      <td>5.892358</td>\n",
              "      <td>10.569807</td>\n",
              "      <td>1.150082</td>\n",
              "      <td>28793.672193</td>\n",
              "      <td>14191.277833</td>\n",
              "      <td>0.611408</td>\n",
              "      <td>490.804555</td>\n",
              "      <td>0.770255</td>\n",
              "      <td>517.980900</td>\n",
              "      <td>180.888634</td>\n",
              "    </tr>\n",
              "    <tr>\n",
              "      <td>std</td>\n",
              "      <td>5.682529</td>\n",
              "      <td>1.088701e+07</td>\n",
              "      <td>35.654083</td>\n",
              "      <td>1.078405</td>\n",
              "      <td>1.261056</td>\n",
              "      <td>6.597173</td>\n",
              "      <td>22.030445</td>\n",
              "      <td>4.885249</td>\n",
              "      <td>5.905438</td>\n",
              "      <td>1.071300</td>\n",
              "      <td>12630.880622</td>\n",
              "      <td>8608.386210</td>\n",
              "      <td>0.802074</td>\n",
              "      <td>342.317995</td>\n",
              "      <td>0.938346</td>\n",
              "      <td>277.720643</td>\n",
              "      <td>219.727988</td>\n",
              "    </tr>\n",
              "    <tr>\n",
              "      <td>min</td>\n",
              "      <td>0.000000</td>\n",
              "      <td>1.219000e+04</td>\n",
              "      <td>12.000000</td>\n",
              "      <td>0.000000</td>\n",
              "      <td>1.000000</td>\n",
              "      <td>1.000000</td>\n",
              "      <td>2.000000</td>\n",
              "      <td>1.000000</td>\n",
              "      <td>1.300000</td>\n",
              "      <td>0.000000</td>\n",
              "      <td>0.000000</td>\n",
              "      <td>181.000000</td>\n",
              "      <td>0.000000</td>\n",
              "      <td>1.000000</td>\n",
              "      <td>0.000000</td>\n",
              "      <td>13.000000</td>\n",
              "      <td>1.000000</td>\n",
              "    </tr>\n",
              "    <tr>\n",
              "      <td>25%</td>\n",
              "      <td>6.000000</td>\n",
              "      <td>3.400000e+06</td>\n",
              "      <td>40.000000</td>\n",
              "      <td>1.000000</td>\n",
              "      <td>2.520000</td>\n",
              "      <td>5.000000</td>\n",
              "      <td>18.600000</td>\n",
              "      <td>2.000000</td>\n",
              "      <td>7.000000</td>\n",
              "      <td>0.000000</td>\n",
              "      <td>18585.000000</td>\n",
              "      <td>9238.000000</td>\n",
              "      <td>0.000000</td>\n",
              "      <td>288.000000</td>\n",
              "      <td>0.000000</td>\n",
              "      <td>294.000000</td>\n",
              "      <td>45.000000</td>\n",
              "    </tr>\n",
              "    <tr>\n",
              "      <td>50%</td>\n",
              "      <td>9.000000</td>\n",
              "      <td>4.650000e+06</td>\n",
              "      <td>52.000000</td>\n",
              "      <td>2.000000</td>\n",
              "      <td>2.650000</td>\n",
              "      <td>9.000000</td>\n",
              "      <td>30.000000</td>\n",
              "      <td>4.000000</td>\n",
              "      <td>9.100000</td>\n",
              "      <td>1.000000</td>\n",
              "      <td>26726.000000</td>\n",
              "      <td>13098.500000</td>\n",
              "      <td>0.000000</td>\n",
              "      <td>455.000000</td>\n",
              "      <td>1.000000</td>\n",
              "      <td>502.000000</td>\n",
              "      <td>95.000000</td>\n",
              "    </tr>\n",
              "    <tr>\n",
              "      <td>75%</td>\n",
              "      <td>14.000000</td>\n",
              "      <td>6.800000e+06</td>\n",
              "      <td>69.900000</td>\n",
              "      <td>3.000000</td>\n",
              "      <td>2.800000</td>\n",
              "      <td>16.000000</td>\n",
              "      <td>42.300000</td>\n",
              "      <td>8.000000</td>\n",
              "      <td>12.000000</td>\n",
              "      <td>2.000000</td>\n",
              "      <td>37273.000000</td>\n",
              "      <td>16293.000000</td>\n",
              "      <td>1.000000</td>\n",
              "      <td>612.000000</td>\n",
              "      <td>1.000000</td>\n",
              "      <td>729.000000</td>\n",
              "      <td>232.000000</td>\n",
              "    </tr>\n",
              "    <tr>\n",
              "      <td>max</td>\n",
              "      <td>50.000000</td>\n",
              "      <td>7.630000e+08</td>\n",
              "      <td>900.000000</td>\n",
              "      <td>19.000000</td>\n",
              "      <td>100.000000</td>\n",
              "      <td>60.000000</td>\n",
              "      <td>409.700000</td>\n",
              "      <td>33.000000</td>\n",
              "      <td>112.000000</td>\n",
              "      <td>5.000000</td>\n",
              "      <td>84869.000000</td>\n",
              "      <td>65968.000000</td>\n",
              "      <td>3.000000</td>\n",
              "      <td>3190.000000</td>\n",
              "      <td>3.000000</td>\n",
              "      <td>1344.000000</td>\n",
              "      <td>1580.000000</td>\n",
              "    </tr>\n",
              "  </tbody>\n",
              "</table>\n",
              "</div>"
            ],
            "text/plain": [
              "       total_images    last_price    total_area         rooms  ceiling_height  \\\n",
              "count  23699.000000  2.369900e+04  23699.000000  23699.000000    14504.000000   \n",
              "mean       9.858475  6.541549e+06     60.348651      2.070636        2.771499   \n",
              "std        5.682529  1.088701e+07     35.654083      1.078405        1.261056   \n",
              "min        0.000000  1.219000e+04     12.000000      0.000000        1.000000   \n",
              "25%        6.000000  3.400000e+06     40.000000      1.000000        2.520000   \n",
              "50%        9.000000  4.650000e+06     52.000000      2.000000        2.650000   \n",
              "75%       14.000000  6.800000e+06     69.900000      3.000000        2.800000   \n",
              "max       50.000000  7.630000e+08    900.000000     19.000000      100.000000   \n",
              "\n",
              "       floors_total   living_area         floor  kitchen_area       balcony  \\\n",
              "count  23613.000000  21796.000000  23699.000000  21421.000000  12180.000000   \n",
              "mean      10.673824     34.457852      5.892358     10.569807      1.150082   \n",
              "std        6.597173     22.030445      4.885249      5.905438      1.071300   \n",
              "min        1.000000      2.000000      1.000000      1.300000      0.000000   \n",
              "25%        5.000000     18.600000      2.000000      7.000000      0.000000   \n",
              "50%        9.000000     30.000000      4.000000      9.100000      1.000000   \n",
              "75%       16.000000     42.300000      8.000000     12.000000      2.000000   \n",
              "max       60.000000    409.700000     33.000000    112.000000      5.000000   \n",
              "\n",
              "       airports_nearest  cityCenters_nearest  parks_around3000  parks_nearest  \\\n",
              "count      18157.000000         18180.000000      18181.000000    8079.000000   \n",
              "mean       28793.672193         14191.277833          0.611408     490.804555   \n",
              "std        12630.880622          8608.386210          0.802074     342.317995   \n",
              "min            0.000000           181.000000          0.000000       1.000000   \n",
              "25%        18585.000000          9238.000000          0.000000     288.000000   \n",
              "50%        26726.000000         13098.500000          0.000000     455.000000   \n",
              "75%        37273.000000         16293.000000          1.000000     612.000000   \n",
              "max        84869.000000         65968.000000          3.000000    3190.000000   \n",
              "\n",
              "       ponds_around3000  ponds_nearest  days_exposition  \n",
              "count      18181.000000    9110.000000     20518.000000  \n",
              "mean           0.770255     517.980900       180.888634  \n",
              "std            0.938346     277.720643       219.727988  \n",
              "min            0.000000      13.000000         1.000000  \n",
              "25%            0.000000     294.000000        45.000000  \n",
              "50%            1.000000     502.000000        95.000000  \n",
              "75%            1.000000     729.000000       232.000000  \n",
              "max            3.000000    1344.000000      1580.000000  "
            ]
          },
          "execution_count": 2,
          "metadata": {},
          "output_type": "execute_result"
        }
      ],
      "source": [
        "df.describe()"
      ]
    },
    {
      "cell_type": "markdown",
      "metadata": {
        "id": "sVzZWX1rBJvc"
      },
      "source": [
        "Посмотрим минимальные и максимальные значения для всего датафрейма."
      ]
    },
    {
      "cell_type": "code",
      "execution_count": null,
      "metadata": {
        "scrolled": true,
        "id": "4UGcAAb7BJvc",
        "outputId": "9a256ad9-6dbf-4f8c-9c63-95dbbe591087"
      },
      "outputs": [
        {
          "data": {
            "text/plain": [
              "total_images                              0\n",
              "last_price                            12190\n",
              "total_area                               12\n",
              "first_day_exposition    2014-11-27T00:00:00\n",
              "rooms                                     0\n",
              "ceiling_height                            1\n",
              "floors_total                              1\n",
              "living_area                               2\n",
              "floor                                     1\n",
              "is_apartment                          False\n",
              "studio                                False\n",
              "open_plan                             False\n",
              "kitchen_area                            1.3\n",
              "balcony                                   0\n",
              "airports_nearest                          0\n",
              "cityCenters_nearest                     181\n",
              "parks_around3000                          0\n",
              "parks_nearest                             1\n",
              "ponds_around3000                          0\n",
              "ponds_nearest                            13\n",
              "days_exposition                           1\n",
              "dtype: object"
            ]
          },
          "metadata": {},
          "output_type": "display_data"
        },
        {
          "data": {
            "text/plain": [
              "total_images                             50\n",
              "last_price                         7.63e+08\n",
              "total_area                              900\n",
              "first_day_exposition    2019-05-03T00:00:00\n",
              "rooms                                    19\n",
              "ceiling_height                          100\n",
              "floors_total                             60\n",
              "living_area                           409.7\n",
              "floor                                    33\n",
              "is_apartment                           True\n",
              "studio                                 True\n",
              "open_plan                              True\n",
              "kitchen_area                            112\n",
              "balcony                                   5\n",
              "airports_nearest                      84869\n",
              "cityCenters_nearest                   65968\n",
              "parks_around3000                          3\n",
              "parks_nearest                          3190\n",
              "ponds_around3000                          3\n",
              "ponds_nearest                          1344\n",
              "days_exposition                        1580\n",
              "dtype: object"
            ]
          },
          "metadata": {},
          "output_type": "display_data"
        }
      ],
      "source": [
        "display(df.min())\n",
        "display(df.max())"
      ]
    },
    {
      "cell_type": "markdown",
      "metadata": {
        "id": "QBlVCf7jBJvc"
      },
      "source": [
        "Посмотрим число нулевых значений в столбцах датафрейма."
      ]
    },
    {
      "cell_type": "code",
      "execution_count": null,
      "metadata": {
        "id": "8u0GoU8YBJvc",
        "outputId": "b408d30d-367f-44bf-9beb-f0bce42b8837"
      },
      "outputs": [
        {
          "data": {
            "text/plain": [
              "'Количество нулевых значений:'"
            ]
          },
          "metadata": {},
          "output_type": "display_data"
        },
        {
          "data": {
            "text/plain": [
              "total_images             1059\n",
              "last_price                  0\n",
              "total_area                  0\n",
              "first_day_exposition        0\n",
              "rooms                     197\n",
              "ceiling_height              0\n",
              "floors_total                0\n",
              "living_area                 0\n",
              "floor                       0\n",
              "is_apartment             2725\n",
              "studio                  23550\n",
              "open_plan               23632\n",
              "kitchen_area                0\n",
              "balcony                  3758\n",
              "locality_name               0\n",
              "airports_nearest            1\n",
              "cityCenters_nearest         0\n",
              "parks_around3000        10106\n",
              "parks_nearest               0\n",
              "ponds_around3000         9071\n",
              "ponds_nearest               0\n",
              "days_exposition             0\n",
              "dtype: int64"
            ]
          },
          "metadata": {},
          "output_type": "display_data"
        }
      ],
      "source": [
        "display('Количество нулевых значений:', df.isin([0]).sum())"
      ]
    },
    {
      "cell_type": "markdown",
      "metadata": {
        "id": "49NVtPboBJvc"
      },
      "source": [
        "Выведем на экран первые 5 строк таблицы."
      ]
    },
    {
      "cell_type": "code",
      "execution_count": null,
      "metadata": {
        "id": "BZrbRKVMBJvd",
        "outputId": "63c02009-7d91-445b-d207-400b9d8e0b77"
      },
      "outputs": [
        {
          "data": {
            "text/html": [
              "<div>\n",
              "<style scoped>\n",
              "    .dataframe tbody tr th:only-of-type {\n",
              "        vertical-align: middle;\n",
              "    }\n",
              "\n",
              "    .dataframe tbody tr th {\n",
              "        vertical-align: top;\n",
              "    }\n",
              "\n",
              "    .dataframe thead th {\n",
              "        text-align: right;\n",
              "    }\n",
              "</style>\n",
              "<table border=\"1\" class=\"dataframe\">\n",
              "  <thead>\n",
              "    <tr style=\"text-align: right;\">\n",
              "      <th></th>\n",
              "      <th>total_images</th>\n",
              "      <th>last_price</th>\n",
              "      <th>total_area</th>\n",
              "      <th>first_day_exposition</th>\n",
              "      <th>rooms</th>\n",
              "      <th>ceiling_height</th>\n",
              "      <th>floors_total</th>\n",
              "      <th>living_area</th>\n",
              "      <th>floor</th>\n",
              "      <th>is_apartment</th>\n",
              "      <th>...</th>\n",
              "      <th>kitchen_area</th>\n",
              "      <th>balcony</th>\n",
              "      <th>locality_name</th>\n",
              "      <th>airports_nearest</th>\n",
              "      <th>cityCenters_nearest</th>\n",
              "      <th>parks_around3000</th>\n",
              "      <th>parks_nearest</th>\n",
              "      <th>ponds_around3000</th>\n",
              "      <th>ponds_nearest</th>\n",
              "      <th>days_exposition</th>\n",
              "    </tr>\n",
              "  </thead>\n",
              "  <tbody>\n",
              "    <tr>\n",
              "      <td>0</td>\n",
              "      <td>20</td>\n",
              "      <td>13000000.0</td>\n",
              "      <td>108.0</td>\n",
              "      <td>2019-03-07T00:00:00</td>\n",
              "      <td>3</td>\n",
              "      <td>2.70</td>\n",
              "      <td>16.0</td>\n",
              "      <td>51.0</td>\n",
              "      <td>8</td>\n",
              "      <td>NaN</td>\n",
              "      <td>...</td>\n",
              "      <td>25.0</td>\n",
              "      <td>NaN</td>\n",
              "      <td>Санкт-Петербург</td>\n",
              "      <td>18863.0</td>\n",
              "      <td>16028.0</td>\n",
              "      <td>1.0</td>\n",
              "      <td>482.0</td>\n",
              "      <td>2.0</td>\n",
              "      <td>755.0</td>\n",
              "      <td>NaN</td>\n",
              "    </tr>\n",
              "    <tr>\n",
              "      <td>1</td>\n",
              "      <td>7</td>\n",
              "      <td>3350000.0</td>\n",
              "      <td>40.4</td>\n",
              "      <td>2018-12-04T00:00:00</td>\n",
              "      <td>1</td>\n",
              "      <td>NaN</td>\n",
              "      <td>11.0</td>\n",
              "      <td>18.6</td>\n",
              "      <td>1</td>\n",
              "      <td>NaN</td>\n",
              "      <td>...</td>\n",
              "      <td>11.0</td>\n",
              "      <td>2.0</td>\n",
              "      <td>посёлок Шушары</td>\n",
              "      <td>12817.0</td>\n",
              "      <td>18603.0</td>\n",
              "      <td>0.0</td>\n",
              "      <td>NaN</td>\n",
              "      <td>0.0</td>\n",
              "      <td>NaN</td>\n",
              "      <td>81.0</td>\n",
              "    </tr>\n",
              "    <tr>\n",
              "      <td>2</td>\n",
              "      <td>10</td>\n",
              "      <td>5196000.0</td>\n",
              "      <td>56.0</td>\n",
              "      <td>2015-08-20T00:00:00</td>\n",
              "      <td>2</td>\n",
              "      <td>NaN</td>\n",
              "      <td>5.0</td>\n",
              "      <td>34.3</td>\n",
              "      <td>4</td>\n",
              "      <td>NaN</td>\n",
              "      <td>...</td>\n",
              "      <td>8.3</td>\n",
              "      <td>0.0</td>\n",
              "      <td>Санкт-Петербург</td>\n",
              "      <td>21741.0</td>\n",
              "      <td>13933.0</td>\n",
              "      <td>1.0</td>\n",
              "      <td>90.0</td>\n",
              "      <td>2.0</td>\n",
              "      <td>574.0</td>\n",
              "      <td>558.0</td>\n",
              "    </tr>\n",
              "    <tr>\n",
              "      <td>3</td>\n",
              "      <td>0</td>\n",
              "      <td>64900000.0</td>\n",
              "      <td>159.0</td>\n",
              "      <td>2015-07-24T00:00:00</td>\n",
              "      <td>3</td>\n",
              "      <td>NaN</td>\n",
              "      <td>14.0</td>\n",
              "      <td>NaN</td>\n",
              "      <td>9</td>\n",
              "      <td>NaN</td>\n",
              "      <td>...</td>\n",
              "      <td>NaN</td>\n",
              "      <td>0.0</td>\n",
              "      <td>Санкт-Петербург</td>\n",
              "      <td>28098.0</td>\n",
              "      <td>6800.0</td>\n",
              "      <td>2.0</td>\n",
              "      <td>84.0</td>\n",
              "      <td>3.0</td>\n",
              "      <td>234.0</td>\n",
              "      <td>424.0</td>\n",
              "    </tr>\n",
              "    <tr>\n",
              "      <td>4</td>\n",
              "      <td>2</td>\n",
              "      <td>10000000.0</td>\n",
              "      <td>100.0</td>\n",
              "      <td>2018-06-19T00:00:00</td>\n",
              "      <td>2</td>\n",
              "      <td>3.03</td>\n",
              "      <td>14.0</td>\n",
              "      <td>32.0</td>\n",
              "      <td>13</td>\n",
              "      <td>NaN</td>\n",
              "      <td>...</td>\n",
              "      <td>41.0</td>\n",
              "      <td>NaN</td>\n",
              "      <td>Санкт-Петербург</td>\n",
              "      <td>31856.0</td>\n",
              "      <td>8098.0</td>\n",
              "      <td>2.0</td>\n",
              "      <td>112.0</td>\n",
              "      <td>1.0</td>\n",
              "      <td>48.0</td>\n",
              "      <td>121.0</td>\n",
              "    </tr>\n",
              "  </tbody>\n",
              "</table>\n",
              "<p>5 rows × 22 columns</p>\n",
              "</div>"
            ],
            "text/plain": [
              "   total_images  last_price  total_area first_day_exposition  rooms  \\\n",
              "0            20  13000000.0       108.0  2019-03-07T00:00:00      3   \n",
              "1             7   3350000.0        40.4  2018-12-04T00:00:00      1   \n",
              "2            10   5196000.0        56.0  2015-08-20T00:00:00      2   \n",
              "3             0  64900000.0       159.0  2015-07-24T00:00:00      3   \n",
              "4             2  10000000.0       100.0  2018-06-19T00:00:00      2   \n",
              "\n",
              "   ceiling_height  floors_total  living_area  floor is_apartment  ...  \\\n",
              "0            2.70          16.0         51.0      8          NaN  ...   \n",
              "1             NaN          11.0         18.6      1          NaN  ...   \n",
              "2             NaN           5.0         34.3      4          NaN  ...   \n",
              "3             NaN          14.0          NaN      9          NaN  ...   \n",
              "4            3.03          14.0         32.0     13          NaN  ...   \n",
              "\n",
              "   kitchen_area  balcony    locality_name  airports_nearest  \\\n",
              "0          25.0      NaN  Санкт-Петербург           18863.0   \n",
              "1          11.0      2.0   посёлок Шушары           12817.0   \n",
              "2           8.3      0.0  Санкт-Петербург           21741.0   \n",
              "3           NaN      0.0  Санкт-Петербург           28098.0   \n",
              "4          41.0      NaN  Санкт-Петербург           31856.0   \n",
              "\n",
              "  cityCenters_nearest  parks_around3000  parks_nearest  ponds_around3000  \\\n",
              "0             16028.0               1.0          482.0               2.0   \n",
              "1             18603.0               0.0            NaN               0.0   \n",
              "2             13933.0               1.0           90.0               2.0   \n",
              "3              6800.0               2.0           84.0               3.0   \n",
              "4              8098.0               2.0          112.0               1.0   \n",
              "\n",
              "   ponds_nearest  days_exposition  \n",
              "0          755.0              NaN  \n",
              "1            NaN             81.0  \n",
              "2          574.0            558.0  \n",
              "3          234.0            424.0  \n",
              "4           48.0            121.0  \n",
              "\n",
              "[5 rows x 22 columns]"
            ]
          },
          "execution_count": 5,
          "metadata": {},
          "output_type": "execute_result"
        }
      ],
      "source": [
        "df.head()"
      ]
    },
    {
      "cell_type": "markdown",
      "metadata": {
        "id": "5cEIwvmYBJvd"
      },
      "source": [
        "### Вывод"
      ]
    },
    {
      "cell_type": "markdown",
      "metadata": {
        "id": "zRoRR-f-BJvd"
      },
      "source": [
        "В таблице 23699 строк, 22 столбца.  \n",
        "Стоблцы названы корректно.  \n",
        "Сопоставив с предоставленной сопроводительной информацией получаем следующее:  \n",
        "\n",
        "* **airports_nearest** — расстояние до ближайшего аэропорта в метрах (м)\n",
        " + Обнаружены 5542 пропуска в значениях, 1 значения нулевое. Тип данных float64\n",
        "\n",
        "\n",
        "* **balcony** — число балконов\n",
        " + Обнаружены 11519 пропуска в значениях. Если человек не указал число балконов — скорее всего, их нет. Такие пропуски правильно заменить на 0. Тип данных float64\n",
        "\n",
        "\n",
        "* **ceiling_height** — высота потолков (м)\n",
        " + Обнаружены 9195 пропуска в значениях. Выбросы: минимальное значение 1, максимальное 100. Тип данных float64\n",
        "\n",
        "\n",
        "* **cityCenters_nearest** — расстояние до центра города (м)\n",
        " + Обнаружены 5519 пропуска в значениях. Тип данных float64\n",
        "\n",
        "\n",
        "* **days_exposition** — сколько дней было размещено объявление (от публикации до снятия)\n",
        " + Обнаружены 3181 пропуска в значениях. Тип данных float64\n",
        "\n",
        "\n",
        "* **first_day_exposition** — дата публикации\n",
        " + Тип данных object\n",
        "\n",
        "\n",
        "* **floor** — этаж\n",
        " + Тип данных int64\n",
        "\n",
        "\n",
        "* **floors_total** — всего этажей в доме\n",
        " + Обнаружены 86 пропуска в значениях. Тип данных float64\n",
        "\n",
        "\n",
        "* **is_apartment** — апартаменты (булев тип)\n",
        " + Обнаружены 20924 пропуска в значениях. Тип данных object\n",
        "\n",
        "\n",
        "* **kitchen_area** — площадь кухни в квадратных метрах (м²)\n",
        " + Обнаружены 2278 пропуска в значениях. Минимальное значение 1.3, необходимо прогуглить будет не выброс ли это, могут ли быть такого метража кухни. Тип данных float64\n",
        "\n",
        "\n",
        "* **last_price** — цена на момент снятия с публикации\n",
        " + Минимальное значение 12190, максимальное 763000000, можно проверить на выбросы. Тип данных float64\n",
        "\n",
        "\n",
        "* **living_area** — жилая площадь в квадратных метрах (м²)\n",
        " + Обнаружены 1903 пропуска в значениях. Минимальное значение 2, похоже на выброс, можно проверить данные. Тип данных float64\n",
        "\n",
        "\n",
        "* **locality_name** — название населённого пункта\n",
        " + Обнаружены 49 пропуска в значениях. Тип данных object\n",
        "\n",
        "\n",
        "* **open_plan** — свободная планировка (булев тип)\n",
        "\n",
        "\n",
        "* **parks_around3000** — число парков в радиусе 3 км\n",
        " + Обнаружены 5518 пропуска в значениях. Тип данных float64\n",
        "\n",
        "\n",
        "* **parks_nearest** — расстояние до ближайшего парка (м)\n",
        " + Обнаружены 15620 пропуска в значениях. Тип данных float64\n",
        "\n",
        "\n",
        "* **ponds_around3000** — число водоёмов в радиусе 3 км\n",
        " + Обнаружены 5518 пропуска в значениях. Тип данных float64\n",
        "\n",
        "\n",
        "* **ponds_nearest** — расстояние до ближайшего водоёма (м)\n",
        " + Обнаружены 14589 пропуска в значениях. Тип данных float64\n",
        "\n",
        "\n",
        "* **rooms** — число комнат\n",
        " + Обнаружены 197 пропуска в значениях. Тип данных int64\n",
        "\n",
        "\n",
        "* **studio** — квартира-студия (булев тип)\n",
        "\n",
        "\n",
        "* **total_area** — площадь квартиры в квадратных метрах (м²)\n",
        " + Тип данных float64\n",
        "\n",
        "\n",
        "* **total_images** — число фотографий квартиры в объявлении\n",
        " + Обнаружены 1059 пропуска в значениях. Тип данных int64"
      ]
    },
    {
      "cell_type": "markdown",
      "metadata": {
        "id": "onMIA8mRBJve"
      },
      "source": [
        "## Предобработка данных"
      ]
    },
    {
      "cell_type": "markdown",
      "metadata": {
        "id": "BNN6EtgrBJve"
      },
      "source": [
        "### Работа с пропусками"
      ]
    },
    {
      "cell_type": "markdown",
      "metadata": {
        "id": "pMTOsvH3BJve"
      },
      "source": [
        "* В столбце **is_apartment** было обнаружено 20924 пропуска, это порядка 88% от всех данных. Все пропуски заменим на False. Возможная причина появления пропусков - при ручном вводе данных в объявлении пользователи не указывают что это не апартаменты.\n",
        "\n",
        "\n",
        "* В столбце **balcony** было обнаружено 11519 пропуска, это порядка 48% от всех данных. Все пропуски заменим на 0. Если человек не указал число балконов — скорее всего, их нет. Такие пропуски правильно заменить на 0.\n",
        "\n",
        "\n",
        "* В столбце **ceiling_height** было обнаружено 9195 пропуска, это порядка 38% от всех данных. Заполним пропуски на медианные значения по количеству комнат.\n",
        "\n",
        "\n",
        "* В столбце **living_area** было обнаружено 1903 пропуска, это порядка 8% от всех данных. Заполним пропуски на медианные значения по количеству комнат.\n",
        "\n",
        "\n",
        "* В столбце **kitchen_area** было обнаружено 2278 пропуска, это порядка 9% от всех данных. Заполним пропуски на медианные значения по количеству комнат.\n",
        "\n",
        "\n",
        "* **total_images** при размещении объявления пользователь может не прикреплять фотографии, поэтому пропуски обрабатывать не будем.\n",
        "\n",
        "* **rooms** число комнат. Пропусков менее 1 %, пропуски обрабатывать не будем. Возможная причина появления пропусков - пользователь не указывает кол-во комнат при свободной планировке.\n",
        "\n",
        "\n",
        "* **floors_total** всего этажей в доме. Пропусков менее 1 %, заполнять пропуски не будем, количество не значительное. Возможная причина появления пропусков - пользователи не заполняют данные при подаче объявления.\n",
        "\n",
        "\n",
        "* **locality_name** название населённого пункта. Пропусков менее 1%, заполнять пропуски не будем, количество не значительное. Возможная причина появления пропусков - пользователи не заполняют данные при подаче объявления.\n",
        "\n",
        "\n",
        "* **airports_nearest**, **cityCenters_nearest**, **parks_around3000**, **parks_nearest**, **ponds_around3000**, **ponds_nearest** получены автоматически на основе картографических данных. Например, расстояние до центра, аэропорта, ближайшего парка и водоёма, значения пропущены для маленьких населенных пунктов, значения заполнять не будем.\n"
      ]
    },
    {
      "cell_type": "code",
      "execution_count": null,
      "metadata": {
        "id": "ppdkbI00BJve"
      },
      "outputs": [],
      "source": [
        "df['is_apartment'].replace(np.nan, 'False', inplace = True) #все пропуски заменим на False\n",
        "df['balcony'].replace(np.nan, 0, inplace = True) # в балконах все пропуски заменим на 0\n",
        "\n",
        "# пропуски заменим на медианные значения по количеству комнат из данных по всему датафрейму\n",
        "df['ceiling_height'] = df['ceiling_height'].fillna(df.groupby('rooms')['ceiling_height'].transform('median'))\n",
        "df['living_area'] = df['living_area'].fillna(df.groupby('rooms')['living_area'].transform('median'))\n",
        "df['kitchen_area'] = df['kitchen_area'].fillna(df.groupby('rooms')['kitchen_area'].transform('median'))"
      ]
    },
    {
      "cell_type": "markdown",
      "metadata": {
        "id": "PcU1foDYBJvf"
      },
      "source": [
        "Посмотрим внимательно на столбец **days_exposition**, найдем пропуски."
      ]
    },
    {
      "cell_type": "code",
      "execution_count": null,
      "metadata": {
        "id": "SUZVHxXGBJvf",
        "outputId": "47f4f63a-45ca-4589-9778-b6bfb285a175"
      },
      "outputs": [
        {
          "data": {
            "text/plain": [
              "3181"
            ]
          },
          "metadata": {},
          "output_type": "display_data"
        }
      ],
      "source": [
        "display(df['days_exposition'].isna().sum())"
      ]
    },
    {
      "cell_type": "code",
      "execution_count": null,
      "metadata": {
        "scrolled": true,
        "id": "udYZf1COBJvf",
        "outputId": "938c66bd-8875-4bcb-fe09-f168cfe41460"
      },
      "outputs": [
        {
          "data": {
            "text/html": [
              "<div>\n",
              "<style scoped>\n",
              "    .dataframe tbody tr th:only-of-type {\n",
              "        vertical-align: middle;\n",
              "    }\n",
              "\n",
              "    .dataframe tbody tr th {\n",
              "        vertical-align: top;\n",
              "    }\n",
              "\n",
              "    .dataframe thead th {\n",
              "        text-align: right;\n",
              "    }\n",
              "</style>\n",
              "<table border=\"1\" class=\"dataframe\">\n",
              "  <thead>\n",
              "    <tr style=\"text-align: right;\">\n",
              "      <th></th>\n",
              "      <th>total_images</th>\n",
              "      <th>last_price</th>\n",
              "      <th>total_area</th>\n",
              "      <th>first_day_exposition</th>\n",
              "      <th>rooms</th>\n",
              "      <th>ceiling_height</th>\n",
              "      <th>floors_total</th>\n",
              "      <th>living_area</th>\n",
              "      <th>floor</th>\n",
              "      <th>is_apartment</th>\n",
              "      <th>...</th>\n",
              "      <th>kitchen_area</th>\n",
              "      <th>balcony</th>\n",
              "      <th>locality_name</th>\n",
              "      <th>airports_nearest</th>\n",
              "      <th>cityCenters_nearest</th>\n",
              "      <th>parks_around3000</th>\n",
              "      <th>parks_nearest</th>\n",
              "      <th>ponds_around3000</th>\n",
              "      <th>ponds_nearest</th>\n",
              "      <th>days_exposition</th>\n",
              "    </tr>\n",
              "  </thead>\n",
              "  <tbody>\n",
              "    <tr>\n",
              "      <td>0</td>\n",
              "      <td>20</td>\n",
              "      <td>13000000.0</td>\n",
              "      <td>108.00</td>\n",
              "      <td>2019-03-07T00:00:00</td>\n",
              "      <td>3</td>\n",
              "      <td>2.70</td>\n",
              "      <td>16.0</td>\n",
              "      <td>51.0</td>\n",
              "      <td>8</td>\n",
              "      <td>False</td>\n",
              "      <td>...</td>\n",
              "      <td>25.00</td>\n",
              "      <td>0.0</td>\n",
              "      <td>Санкт-Петербург</td>\n",
              "      <td>18863.0</td>\n",
              "      <td>16028.0</td>\n",
              "      <td>1.0</td>\n",
              "      <td>482.0</td>\n",
              "      <td>2.0</td>\n",
              "      <td>755.0</td>\n",
              "      <td>NaN</td>\n",
              "    </tr>\n",
              "    <tr>\n",
              "      <td>7</td>\n",
              "      <td>5</td>\n",
              "      <td>7915000.0</td>\n",
              "      <td>71.60</td>\n",
              "      <td>2019-04-18T00:00:00</td>\n",
              "      <td>2</td>\n",
              "      <td>2.60</td>\n",
              "      <td>24.0</td>\n",
              "      <td>30.5</td>\n",
              "      <td>22</td>\n",
              "      <td>False</td>\n",
              "      <td>...</td>\n",
              "      <td>18.90</td>\n",
              "      <td>2.0</td>\n",
              "      <td>Санкт-Петербург</td>\n",
              "      <td>23982.0</td>\n",
              "      <td>11634.0</td>\n",
              "      <td>0.0</td>\n",
              "      <td>NaN</td>\n",
              "      <td>0.0</td>\n",
              "      <td>NaN</td>\n",
              "      <td>NaN</td>\n",
              "    </tr>\n",
              "    <tr>\n",
              "      <td>44</td>\n",
              "      <td>13</td>\n",
              "      <td>5350000.0</td>\n",
              "      <td>40.00</td>\n",
              "      <td>2018-11-18T00:00:00</td>\n",
              "      <td>1</td>\n",
              "      <td>2.64</td>\n",
              "      <td>22.0</td>\n",
              "      <td>17.6</td>\n",
              "      <td>3</td>\n",
              "      <td>False</td>\n",
              "      <td>...</td>\n",
              "      <td>9.04</td>\n",
              "      <td>1.0</td>\n",
              "      <td>Санкт-Петербург</td>\n",
              "      <td>30471.0</td>\n",
              "      <td>11603.0</td>\n",
              "      <td>1.0</td>\n",
              "      <td>620.0</td>\n",
              "      <td>1.0</td>\n",
              "      <td>1152.0</td>\n",
              "      <td>NaN</td>\n",
              "    </tr>\n",
              "    <tr>\n",
              "      <td>45</td>\n",
              "      <td>17</td>\n",
              "      <td>5200000.0</td>\n",
              "      <td>50.60</td>\n",
              "      <td>2018-12-02T00:00:00</td>\n",
              "      <td>2</td>\n",
              "      <td>2.65</td>\n",
              "      <td>9.0</td>\n",
              "      <td>30.3</td>\n",
              "      <td>7</td>\n",
              "      <td>False</td>\n",
              "      <td>...</td>\n",
              "      <td>7.00</td>\n",
              "      <td>0.0</td>\n",
              "      <td>Санкт-Петербург</td>\n",
              "      <td>30011.0</td>\n",
              "      <td>12872.0</td>\n",
              "      <td>0.0</td>\n",
              "      <td>NaN</td>\n",
              "      <td>0.0</td>\n",
              "      <td>NaN</td>\n",
              "      <td>NaN</td>\n",
              "    </tr>\n",
              "    <tr>\n",
              "      <td>46</td>\n",
              "      <td>17</td>\n",
              "      <td>6600000.0</td>\n",
              "      <td>52.10</td>\n",
              "      <td>2019-01-31T00:00:00</td>\n",
              "      <td>2</td>\n",
              "      <td>2.60</td>\n",
              "      <td>24.0</td>\n",
              "      <td>29.7</td>\n",
              "      <td>9</td>\n",
              "      <td>False</td>\n",
              "      <td>...</td>\n",
              "      <td>8.30</td>\n",
              "      <td>2.0</td>\n",
              "      <td>Санкт-Петербург</td>\n",
              "      <td>15114.0</td>\n",
              "      <td>12702.0</td>\n",
              "      <td>0.0</td>\n",
              "      <td>NaN</td>\n",
              "      <td>0.0</td>\n",
              "      <td>NaN</td>\n",
              "      <td>NaN</td>\n",
              "    </tr>\n",
              "    <tr>\n",
              "      <td>...</td>\n",
              "      <td>...</td>\n",
              "      <td>...</td>\n",
              "      <td>...</td>\n",
              "      <td>...</td>\n",
              "      <td>...</td>\n",
              "      <td>...</td>\n",
              "      <td>...</td>\n",
              "      <td>...</td>\n",
              "      <td>...</td>\n",
              "      <td>...</td>\n",
              "      <td>...</td>\n",
              "      <td>...</td>\n",
              "      <td>...</td>\n",
              "      <td>...</td>\n",
              "      <td>...</td>\n",
              "      <td>...</td>\n",
              "      <td>...</td>\n",
              "      <td>...</td>\n",
              "      <td>...</td>\n",
              "      <td>...</td>\n",
              "      <td>...</td>\n",
              "    </tr>\n",
              "    <tr>\n",
              "      <td>23684</td>\n",
              "      <td>20</td>\n",
              "      <td>21400000.0</td>\n",
              "      <td>145.00</td>\n",
              "      <td>2018-11-02T00:00:00</td>\n",
              "      <td>4</td>\n",
              "      <td>3.00</td>\n",
              "      <td>26.0</td>\n",
              "      <td>71.4</td>\n",
              "      <td>17</td>\n",
              "      <td>False</td>\n",
              "      <td>...</td>\n",
              "      <td>15.60</td>\n",
              "      <td>0.0</td>\n",
              "      <td>Санкт-Петербург</td>\n",
              "      <td>11827.0</td>\n",
              "      <td>11459.0</td>\n",
              "      <td>0.0</td>\n",
              "      <td>NaN</td>\n",
              "      <td>0.0</td>\n",
              "      <td>NaN</td>\n",
              "      <td>NaN</td>\n",
              "    </tr>\n",
              "    <tr>\n",
              "      <td>23685</td>\n",
              "      <td>15</td>\n",
              "      <td>2490000.0</td>\n",
              "      <td>31.00</td>\n",
              "      <td>2019-01-24T00:00:00</td>\n",
              "      <td>1</td>\n",
              "      <td>2.50</td>\n",
              "      <td>5.0</td>\n",
              "      <td>17.3</td>\n",
              "      <td>5</td>\n",
              "      <td>False</td>\n",
              "      <td>...</td>\n",
              "      <td>5.60</td>\n",
              "      <td>1.0</td>\n",
              "      <td>Ломоносов</td>\n",
              "      <td>48393.0</td>\n",
              "      <td>51818.0</td>\n",
              "      <td>0.0</td>\n",
              "      <td>NaN</td>\n",
              "      <td>0.0</td>\n",
              "      <td>NaN</td>\n",
              "      <td>NaN</td>\n",
              "    </tr>\n",
              "    <tr>\n",
              "      <td>23694</td>\n",
              "      <td>9</td>\n",
              "      <td>9700000.0</td>\n",
              "      <td>133.81</td>\n",
              "      <td>2017-03-21T00:00:00</td>\n",
              "      <td>3</td>\n",
              "      <td>3.70</td>\n",
              "      <td>5.0</td>\n",
              "      <td>73.3</td>\n",
              "      <td>3</td>\n",
              "      <td>False</td>\n",
              "      <td>...</td>\n",
              "      <td>13.83</td>\n",
              "      <td>0.0</td>\n",
              "      <td>Санкт-Петербург</td>\n",
              "      <td>24665.0</td>\n",
              "      <td>4232.0</td>\n",
              "      <td>1.0</td>\n",
              "      <td>796.0</td>\n",
              "      <td>3.0</td>\n",
              "      <td>381.0</td>\n",
              "      <td>NaN</td>\n",
              "    </tr>\n",
              "    <tr>\n",
              "      <td>23696</td>\n",
              "      <td>18</td>\n",
              "      <td>2500000.0</td>\n",
              "      <td>56.70</td>\n",
              "      <td>2018-02-11T00:00:00</td>\n",
              "      <td>2</td>\n",
              "      <td>2.60</td>\n",
              "      <td>3.0</td>\n",
              "      <td>29.7</td>\n",
              "      <td>1</td>\n",
              "      <td>False</td>\n",
              "      <td>...</td>\n",
              "      <td>8.80</td>\n",
              "      <td>0.0</td>\n",
              "      <td>село Рождествено</td>\n",
              "      <td>NaN</td>\n",
              "      <td>NaN</td>\n",
              "      <td>NaN</td>\n",
              "      <td>NaN</td>\n",
              "      <td>NaN</td>\n",
              "      <td>NaN</td>\n",
              "      <td>NaN</td>\n",
              "    </tr>\n",
              "    <tr>\n",
              "      <td>23698</td>\n",
              "      <td>4</td>\n",
              "      <td>1350000.0</td>\n",
              "      <td>32.30</td>\n",
              "      <td>2017-07-21T00:00:00</td>\n",
              "      <td>1</td>\n",
              "      <td>2.50</td>\n",
              "      <td>5.0</td>\n",
              "      <td>12.3</td>\n",
              "      <td>1</td>\n",
              "      <td>False</td>\n",
              "      <td>...</td>\n",
              "      <td>9.00</td>\n",
              "      <td>0.0</td>\n",
              "      <td>поселок Новый Учхоз</td>\n",
              "      <td>NaN</td>\n",
              "      <td>NaN</td>\n",
              "      <td>NaN</td>\n",
              "      <td>NaN</td>\n",
              "      <td>NaN</td>\n",
              "      <td>NaN</td>\n",
              "      <td>NaN</td>\n",
              "    </tr>\n",
              "  </tbody>\n",
              "</table>\n",
              "<p>3181 rows × 22 columns</p>\n",
              "</div>"
            ],
            "text/plain": [
              "       total_images  last_price  total_area first_day_exposition  rooms  \\\n",
              "0                20  13000000.0      108.00  2019-03-07T00:00:00      3   \n",
              "7                 5   7915000.0       71.60  2019-04-18T00:00:00      2   \n",
              "44               13   5350000.0       40.00  2018-11-18T00:00:00      1   \n",
              "45               17   5200000.0       50.60  2018-12-02T00:00:00      2   \n",
              "46               17   6600000.0       52.10  2019-01-31T00:00:00      2   \n",
              "...             ...         ...         ...                  ...    ...   \n",
              "23684            20  21400000.0      145.00  2018-11-02T00:00:00      4   \n",
              "23685            15   2490000.0       31.00  2019-01-24T00:00:00      1   \n",
              "23694             9   9700000.0      133.81  2017-03-21T00:00:00      3   \n",
              "23696            18   2500000.0       56.70  2018-02-11T00:00:00      2   \n",
              "23698             4   1350000.0       32.30  2017-07-21T00:00:00      1   \n",
              "\n",
              "       ceiling_height  floors_total  living_area  floor is_apartment  ...  \\\n",
              "0                2.70          16.0         51.0      8        False  ...   \n",
              "7                2.60          24.0         30.5     22        False  ...   \n",
              "44               2.64          22.0         17.6      3        False  ...   \n",
              "45               2.65           9.0         30.3      7        False  ...   \n",
              "46               2.60          24.0         29.7      9        False  ...   \n",
              "...               ...           ...          ...    ...          ...  ...   \n",
              "23684            3.00          26.0         71.4     17        False  ...   \n",
              "23685            2.50           5.0         17.3      5        False  ...   \n",
              "23694            3.70           5.0         73.3      3        False  ...   \n",
              "23696            2.60           3.0         29.7      1        False  ...   \n",
              "23698            2.50           5.0         12.3      1        False  ...   \n",
              "\n",
              "       kitchen_area  balcony        locality_name  airports_nearest  \\\n",
              "0             25.00      0.0      Санкт-Петербург           18863.0   \n",
              "7             18.90      2.0      Санкт-Петербург           23982.0   \n",
              "44             9.04      1.0      Санкт-Петербург           30471.0   \n",
              "45             7.00      0.0      Санкт-Петербург           30011.0   \n",
              "46             8.30      2.0      Санкт-Петербург           15114.0   \n",
              "...             ...      ...                  ...               ...   \n",
              "23684         15.60      0.0      Санкт-Петербург           11827.0   \n",
              "23685          5.60      1.0            Ломоносов           48393.0   \n",
              "23694         13.83      0.0      Санкт-Петербург           24665.0   \n",
              "23696          8.80      0.0     село Рождествено               NaN   \n",
              "23698          9.00      0.0  поселок Новый Учхоз               NaN   \n",
              "\n",
              "      cityCenters_nearest  parks_around3000  parks_nearest  ponds_around3000  \\\n",
              "0                 16028.0               1.0          482.0               2.0   \n",
              "7                 11634.0               0.0            NaN               0.0   \n",
              "44                11603.0               1.0          620.0               1.0   \n",
              "45                12872.0               0.0            NaN               0.0   \n",
              "46                12702.0               0.0            NaN               0.0   \n",
              "...                   ...               ...            ...               ...   \n",
              "23684             11459.0               0.0            NaN               0.0   \n",
              "23685             51818.0               0.0            NaN               0.0   \n",
              "23694              4232.0               1.0          796.0               3.0   \n",
              "23696                 NaN               NaN            NaN               NaN   \n",
              "23698                 NaN               NaN            NaN               NaN   \n",
              "\n",
              "       ponds_nearest  days_exposition  \n",
              "0              755.0              NaN  \n",
              "7                NaN              NaN  \n",
              "44            1152.0              NaN  \n",
              "45               NaN              NaN  \n",
              "46               NaN              NaN  \n",
              "...              ...              ...  \n",
              "23684            NaN              NaN  \n",
              "23685            NaN              NaN  \n",
              "23694          381.0              NaN  \n",
              "23696            NaN              NaN  \n",
              "23698            NaN              NaN  \n",
              "\n",
              "[3181 rows x 22 columns]"
            ]
          },
          "execution_count": 8,
          "metadata": {},
          "output_type": "execute_result"
        }
      ],
      "source": [
        "df.query('days_exposition == \"NaN\"')"
      ]
    },
    {
      "cell_type": "markdown",
      "metadata": {
        "id": "OF4tn-k9BJvg"
      },
      "source": [
        "Вывод:\n",
        " - Мы видим что объявления размещены, но пропуски в столбце **days_exposition** присутствуют. Причиной может быть то, что квартиры еще не проданы, и объявления остаются активными на сайте, висят на продажу. Еще вариант, что квартиры проданы, но автор объявления не снял с публикации объявление.\n",
        " - Заполнять пропуски на среднее или медианное значение не будем, у нас нет информации о состоянии продана ли квартира, и соответственно заполнение срока продажи квартиры, оставим пропуски как есть."
      ]
    },
    {
      "cell_type": "markdown",
      "metadata": {
        "id": "TLQorXBBBJvg"
      },
      "source": [
        "### Изменяем типы данных"
      ]
    },
    {
      "cell_type": "markdown",
      "metadata": {
        "id": "rfpTJ9n4BJvg"
      },
      "source": [
        "В столбце **is_apartment**\n",
        "изменим тип данных с `object` на `bool`"
      ]
    },
    {
      "cell_type": "code",
      "execution_count": null,
      "metadata": {
        "id": "tgigigWSBJvg"
      },
      "outputs": [],
      "source": [
        "df['is_apartment'] = df['is_apartment'].astype('bool')"
      ]
    },
    {
      "cell_type": "markdown",
      "metadata": {
        "id": "ehtdUcqnBJvg"
      },
      "source": [
        "Приведем к целочисленным значениям данные в столбцах **balcony** (float --> int) для экономии занимаемой памяти."
      ]
    },
    {
      "cell_type": "code",
      "execution_count": null,
      "metadata": {
        "id": "cFR4dajLBJvg"
      },
      "outputs": [],
      "source": [
        "df['balcony'] = df['balcony'].astype('int')"
      ]
    },
    {
      "cell_type": "markdown",
      "metadata": {
        "id": "QWKts-0NBJvh"
      },
      "source": [
        "Поработаем с типом данных datetime дата\\время в столбце **first_day_exposition** (object --> datetime)"
      ]
    },
    {
      "cell_type": "code",
      "execution_count": null,
      "metadata": {
        "id": "t13jWz_fBJvh"
      },
      "outputs": [],
      "source": [
        "df['first_day_exposition']= pd.to_datetime(df['first_day_exposition'], format='%Y-%m-%dT%H:%M:%S')"
      ]
    },
    {
      "cell_type": "markdown",
      "metadata": {
        "id": "iuDlReqVBJvi"
      },
      "source": [
        "### Поиск дубликатов"
      ]
    },
    {
      "cell_type": "markdown",
      "metadata": {
        "id": "pRpgssQ7BJvi"
      },
      "source": [
        "Найдем явные дубликаты во всем датафрейме."
      ]
    },
    {
      "cell_type": "code",
      "execution_count": null,
      "metadata": {
        "scrolled": true,
        "id": "TF-xEtJ-BJvi",
        "outputId": "4a3b00db-9818-42d7-9e5c-6c7831eed193"
      },
      "outputs": [
        {
          "name": "stdout",
          "output_type": "stream",
          "text": [
            "Найдено явных дубликатов: 0\n",
            "Явных дубликатов после удаления: 0\n"
          ]
        }
      ],
      "source": [
        "print('Найдено явных дубликатов:', df.duplicated().sum())\n",
        "df.drop_duplicates(inplace = True)\n",
        "print('Явных дубликатов после удаления:', df.duplicated().sum())"
      ]
    },
    {
      "cell_type": "markdown",
      "metadata": {
        "id": "1xB7_9mxBJvi"
      },
      "source": [
        "Посмотрим уникальные значения в столбце **locality_name**"
      ]
    },
    {
      "cell_type": "code",
      "execution_count": null,
      "metadata": {
        "scrolled": false,
        "id": "2SNMp_ckBJvi",
        "outputId": "2eb3eef5-d2bf-49a1-8ed1-3a76bdabf412"
      },
      "outputs": [
        {
          "data": {
            "text/plain": [
              "array(['Бокситогорск', 'Волосово', 'Волхов', 'Всеволожск', 'Выборг',\n",
              "       'Высоцк', 'Гатчина', 'Зеленогорск', 'Ивангород', 'Каменногорск',\n",
              "       'Кингисепп', 'Кириши', 'Кировск', 'Колпино', 'Коммунар',\n",
              "       'Красное Село', 'Кронштадт', 'Кудрово', 'Лодейное Поле',\n",
              "       'Ломоносов', 'Луга', 'Любань', 'Мурино', 'Никольское',\n",
              "       'Новая Ладога', 'Отрадное', 'Павловск', 'Петергоф', 'Пикалёво',\n",
              "       'Подпорожье', 'Приморск', 'Приозерск', 'Пушкин', 'Санкт-Петербург',\n",
              "       'Светогорск', 'Сертолово', 'Сестрорецк', 'Сланцы', 'Сосновый Бор',\n",
              "       'Сясьстрой', 'Тихвин', 'Тосно', 'Шлиссельбург',\n",
              "       'городской поселок Большая Ижора', 'городской поселок Янино-1',\n",
              "       'городской посёлок Будогощь', 'городской посёлок Виллози',\n",
              "       'городской посёлок Лесогорский', 'городской посёлок Мга',\n",
              "       'городской посёлок Назия', 'городской посёлок Новоселье',\n",
              "       'городской посёлок Павлово', 'городской посёлок Рощино',\n",
              "       'городской посёлок Свирьстрой', 'городской посёлок Советский',\n",
              "       'городской посёлок Фёдоровское', 'городской посёлок Янино-1',\n",
              "       'деревня Агалатово', 'деревня Аро', 'деревня Батово',\n",
              "       'деревня Бегуницы', 'деревня Белогорка', 'деревня Большая Вруда',\n",
              "       'деревня Большая Пустомержа', 'деревня Большие Колпаны',\n",
              "       'деревня Большое Рейзино', 'деревня Большой Сабск', 'деревня Бор',\n",
              "       'деревня Борисова Грива', 'деревня Ваганово', 'деревня Вартемяги',\n",
              "       'деревня Вахнова Кара', 'деревня Выскатка', 'деревня Гарболово',\n",
              "       'деревня Глинка', 'деревня Горбунки', 'деревня Гостилицы',\n",
              "       'деревня Заклинье', 'деревня Заневка', 'деревня Зимитицы',\n",
              "       'деревня Извара', 'деревня Иссад', 'деревня Калитино',\n",
              "       'деревня Кальтино', 'деревня Камышовка', 'деревня Каськово',\n",
              "       'деревня Келози', 'деревня Кипень', 'деревня Кисельня',\n",
              "       'деревня Колтуши', 'деревня Коркино', 'деревня Котлы',\n",
              "       'деревня Кривко', 'деревня Кудрово', 'деревня Кузьмолово',\n",
              "       'деревня Курковицы', 'деревня Куровицы', 'деревня Куттузи',\n",
              "       'деревня Лаврики', 'деревня Лаголово', 'деревня Лампово',\n",
              "       'деревня Лесколово', 'деревня Лопухинка', 'деревня Лупполово',\n",
              "       'деревня Малая Романовка', 'деревня Малое Верево',\n",
              "       'деревня Малое Карлино', 'деревня Малые Колпаны',\n",
              "       'деревня Мануйлово', 'деревня Меньково', 'деревня Мины',\n",
              "       'деревня Мистолово', 'деревня Ненимяки', 'деревня Нижние Осельки',\n",
              "       'деревня Нижняя', 'деревня Низино', 'деревня Новое Девяткино',\n",
              "       'деревня Новолисино', 'деревня Нурма', 'деревня Оржицы',\n",
              "       'деревня Парицы', 'деревня Пельгора', 'деревня Пеники',\n",
              "       'деревня Пижма', 'деревня Пикколово', 'деревня Пудомяги',\n",
              "       'деревня Пустынка', 'деревня Пчева', 'деревня Рабитицы',\n",
              "       'деревня Разбегаево', 'деревня Раздолье', 'деревня Разметелево',\n",
              "       'деревня Рапполово', 'деревня Реброво', 'деревня Русско',\n",
              "       'деревня Сижно', 'деревня Снегирёвка', 'деревня Старая',\n",
              "       'деревня Старая Пустошь', 'деревня Старое Хинколово',\n",
              "       'деревня Старополье', 'деревня Старосиверская',\n",
              "       'деревня Старые Бегуницы', 'деревня Суоранда',\n",
              "       'деревня Сяськелево', 'деревня Тарасово', 'деревня Терпилицы',\n",
              "       'деревня Тихковицы', 'деревня Тойворово', 'деревня Торосово',\n",
              "       'деревня Торошковичи', 'деревня Трубников Бор',\n",
              "       'деревня Фалилеево', 'деревня Фёдоровское', 'деревня Хапо-Ое',\n",
              "       'деревня Хязельки', 'деревня Чудской Бор', 'деревня Шпаньково',\n",
              "       'деревня Щеглово', 'деревня Юкки', 'деревня Ялгино',\n",
              "       'деревня Яльгелево', 'деревня Ям-Тесово',\n",
              "       'коттеджный поселок Кивеннапа Север', 'коттеджный поселок Счастье',\n",
              "       'коттеджный посёлок Лесное', 'поселок Аннино', 'поселок Барышево',\n",
              "       'поселок Бугры', 'поселок Возрождение', 'поселок Войсковицы',\n",
              "       'поселок Володарское', 'поселок Гаврилово', 'поселок Гарболово',\n",
              "       'поселок Гладкое', 'поселок Глажево', 'поселок Глебычево',\n",
              "       'поселок Гончарово', 'поселок Громово', 'поселок Дружноселье',\n",
              "       'поселок Елизаветино', 'поселок Жилгородок', 'поселок Жилпосёлок',\n",
              "       'поселок Житково', 'поселок Заводской', 'поселок Запорожское',\n",
              "       'поселок Зимитицы', 'поселок Ильичёво', 'поселок Калитино',\n",
              "       'поселок Каложицы', 'поселок Кингисеппский', 'поселок Кирпичное',\n",
              "       'поселок Кобралово', 'поселок Кобринское', 'поселок Коммунары',\n",
              "       'поселок Коробицыно', 'поселок Котельский',\n",
              "       'поселок Красная Долина', 'поселок Красносельское',\n",
              "       'поселок Лесное', 'поселок Лисий Нос', 'поселок Лукаши',\n",
              "       'поселок Любань', 'поселок Мельниково', 'поселок Мичуринское',\n",
              "       'поселок Молодцово', 'поселок Мурино', 'поселок Новый Свет',\n",
              "       'поселок Новый Учхоз', 'поселок Оредеж',\n",
              "       'поселок Пансионат Зелёный Бор', 'поселок Первомайское',\n",
              "       'поселок Перово', 'поселок Петровское', 'поселок Победа',\n",
              "       'поселок Поляны', 'поселок Почап', 'поселок Починок',\n",
              "       'поселок Пушное', 'поселок Пчевжа', 'поселок Рабитицы',\n",
              "       'поселок Романовка', 'поселок Ромашки', 'поселок Рябово',\n",
              "       'поселок Севастьяново', 'поселок Селезнёво', 'поселок Сельцо',\n",
              "       'поселок Семиозерье', 'поселок Семрино', 'поселок Серебрянский',\n",
              "       'поселок Совхозный', 'поселок Старая Малукса',\n",
              "       'поселок Стеклянный', 'поселок Сумино', 'поселок Суходолье',\n",
              "       'поселок Тельмана', 'поселок Терволово', 'поселок Торковичи',\n",
              "       'поселок Тёсово-4', 'поселок Углово', 'поселок Усть-Луга',\n",
              "       'поселок Ушаки', 'поселок Цвелодубово', 'поселок Цвылёво',\n",
              "       'поселок городского типа Большая Ижора',\n",
              "       'поселок городского типа Вырица',\n",
              "       'поселок городского типа Дружная Горка',\n",
              "       'поселок городского типа Дубровка',\n",
              "       'поселок городского типа Ефимовский',\n",
              "       'поселок городского типа Кондратьево',\n",
              "       'поселок городского типа Красный Бор',\n",
              "       'поселок городского типа Кузьмоловский',\n",
              "       'поселок городского типа Лебяжье',\n",
              "       'поселок городского типа Лесогорский',\n",
              "       'поселок городского типа Назия',\n",
              "       'поселок городского типа Никольский',\n",
              "       'поселок городского типа Приладожский',\n",
              "       'поселок городского типа Рахья', 'поселок городского типа Рощино',\n",
              "       'поселок городского типа Рябово',\n",
              "       'поселок городского типа Синявино',\n",
              "       'поселок городского типа Советский',\n",
              "       'поселок городского типа Токсово',\n",
              "       'поселок городского типа Форносово',\n",
              "       'поселок городского типа имени Свердлова',\n",
              "       'поселок станции Вещево', 'поселок станции Корнево',\n",
              "       'поселок станции Лужайка', 'поселок станции Приветнинское',\n",
              "       'посёлок Александровская', 'посёлок Алексеевка', 'посёлок Аннино',\n",
              "       'посёлок Белоостров', 'посёлок Бугры', 'посёлок Возрождение',\n",
              "       'посёлок Войскорово', 'посёлок Высокоключевой',\n",
              "       'посёлок Гаврилово', 'посёлок Дзержинского', 'посёлок Жилгородок',\n",
              "       'посёлок Ильичёво', 'посёлок Кикерино', 'посёлок Кобралово',\n",
              "       'посёлок Коробицыно', 'посёлок Левашово', 'посёлок Ленинское',\n",
              "       'посёлок Лисий Нос', 'посёлок Мельниково', 'посёлок Металлострой',\n",
              "       'посёлок Мичуринское', 'посёлок Молодёжное', 'посёлок Мурино',\n",
              "       'посёлок Мыза-Ивановка', 'посёлок Новогорелово',\n",
              "       'посёлок Новый Свет', 'посёлок Пансионат Зелёный Бор',\n",
              "       'посёлок Парголово', 'посёлок Перово', 'посёлок Песочный',\n",
              "       'посёлок Петро-Славянка', 'посёлок Петровское',\n",
              "       'посёлок Платформа 69-й километр', 'посёлок Плодовое',\n",
              "       'посёлок Плоское', 'посёлок Победа', 'посёлок Поляны',\n",
              "       'посёлок Понтонный', 'посёлок Пригородный', 'посёлок Пудость',\n",
              "       'посёлок Репино', 'посёлок Ропша', 'посёлок Сапёрное',\n",
              "       'посёлок Сапёрный', 'посёлок Сосново', 'посёлок Старая Малукса',\n",
              "       'посёлок Стеклянный', 'посёлок Стрельна', 'посёлок Суйда',\n",
              "       'посёлок Сумино', 'посёлок Тельмана', 'посёлок Терволово',\n",
              "       'посёлок Торфяное', 'посёлок Усть-Ижора', 'посёлок Усть-Луга',\n",
              "       'посёлок Форт Красная Горка', 'посёлок Шугозеро', 'посёлок Шушары',\n",
              "       'посёлок Щеглово', 'посёлок городского типа Важины',\n",
              "       'посёлок городского типа Вознесенье',\n",
              "       'посёлок городского типа Вырица',\n",
              "       'посёлок городского типа Красный Бор',\n",
              "       'посёлок городского типа Кузнечное',\n",
              "       'посёлок городского типа Кузьмоловский',\n",
              "       'посёлок городского типа Лебяжье', 'посёлок городского типа Мга',\n",
              "       'посёлок городского типа Павлово',\n",
              "       'посёлок городского типа Рощино', 'посёлок городского типа Рябово',\n",
              "       'посёлок городского типа Сиверский',\n",
              "       'посёлок городского типа Тайцы', 'посёлок городского типа Токсово',\n",
              "       'посёлок городского типа Ульяновка',\n",
              "       'посёлок городского типа Форносово',\n",
              "       'посёлок городского типа имени Морозова',\n",
              "       'посёлок городского типа имени Свердлова',\n",
              "       'посёлок при железнодорожной станции Вещево',\n",
              "       'посёлок при железнодорожной станции Приветнинское',\n",
              "       'посёлок станции Громово', 'посёлок станции Свирь',\n",
              "       'садоводческое некоммерческое товарищество Лесная Поляна',\n",
              "       'садовое товарищество Новая Ропша',\n",
              "       'садовое товарищество Приладожский', 'садовое товарищество Рахья',\n",
              "       'садовое товарищество Садко', 'село Копорье', 'село Никольское',\n",
              "       'село Павлово', 'село Паша', 'село Путилово', 'село Рождествено',\n",
              "       'село Русско-Высоцкое', 'село Старая Ладога', 'село Шум', nan],\n",
              "      dtype=object)"
            ]
          },
          "execution_count": 13,
          "metadata": {},
          "output_type": "execute_result"
        }
      ],
      "source": [
        "df['locality_name'].sort_values().unique()"
      ]
    },
    {
      "cell_type": "markdown",
      "metadata": {
        "id": "IPMCVhD9BJvj"
      },
      "source": [
        "Посмотрим кол-во уникальных значений"
      ]
    },
    {
      "cell_type": "code",
      "execution_count": null,
      "metadata": {
        "id": "1dcMr_aNBJvj",
        "outputId": "fa0ba8b6-acd4-454d-8a2c-ee3c1dab136d"
      },
      "outputs": [
        {
          "data": {
            "text/plain": [
              "365"
            ]
          },
          "execution_count": 14,
          "metadata": {},
          "output_type": "execute_result"
        }
      ],
      "source": [
        "len(df['locality_name'].unique())"
      ]
    },
    {
      "cell_type": "markdown",
      "metadata": {
        "id": "rFH55gkXBJvj"
      },
      "source": [
        "**Работа с неявными дубликатами**.  \n",
        " * Мы видим что встречаются записи с `e`, `ё`, заглавные и прописные буквы.  \n",
        " * Приведем к нижнему регистру все записи, заменим `ё` на `е`, добавим новый столбец **locality_name_normalized** с убранными значениями определяющими принадлежность к типу населенного пункта."
      ]
    },
    {
      "cell_type": "code",
      "execution_count": null,
      "metadata": {
        "scrolled": false,
        "id": "SD-NJceHBJvj",
        "outputId": "f5cb262a-5786-4b27-8dea-9937f52c15fe"
      },
      "outputs": [
        {
          "data": {
            "text/plain": [
              "array(['агалатово', 'александровская', 'алексеевка', 'аннино', 'аро',\n",
              "       'барышево', 'батово', 'бегуницы', 'белогорка', 'белоостров',\n",
              "       'бокситогорск', 'большая вруда', 'большая ижора',\n",
              "       'большая пустомержа', 'большие колпаны', 'большое рейзино',\n",
              "       'большой сабск', 'бор', 'борисова грива', 'бугры', 'будогощь',\n",
              "       'ваганово', 'важины', 'вартемяги', 'вахнова кара', 'вещево',\n",
              "       'виллози', 'вознесенье', 'возрождение', 'войсковицы', 'войскорово',\n",
              "       'володарское', 'волосово', 'волхов', 'всеволожск', 'выборг',\n",
              "       'вырица', 'выскатка', 'высокоключевой', 'высоцк', 'гаврилово',\n",
              "       'гарболово', 'гатчина', 'гладкое', 'глажево', 'глебычево',\n",
              "       'глинка', 'гончарово', 'горбунки', 'гостилицы', 'громово',\n",
              "       'дзержинского', 'дружная горка', 'дружноселье', 'дубровка',\n",
              "       'елизаветино', 'ефимовский', 'жилгородок', 'жилпок', 'житково',\n",
              "       'заводской', 'заклинье', 'заневка', 'запорожское', 'зеленогорск',\n",
              "       'зимитицы', 'ивангород', 'извара', 'ильичево', 'иссад', 'калитино',\n",
              "       'каложицы', 'кальтино', 'каменногорск', 'камышовка', 'каськово',\n",
              "       'келози', 'кивеннапа север', 'кикерино', 'кингисепп',\n",
              "       'кингисеппский', 'кипень', 'кириши', 'кировск', 'кирпичное',\n",
              "       'кисельня', 'кобралово', 'кобринское', 'колпино', 'колтуши',\n",
              "       'коммунар', 'коммунары', 'кондратьево', 'копорье', 'коркино',\n",
              "       'корнево', 'коробицыно', 'котельский', 'котлы', 'красная долина',\n",
              "       'красное', 'красносельское', 'красный бор', 'кривко', 'кронштадт',\n",
              "       'кудрово', 'кузнечное', 'кузьмолово', 'кузьмоловский', 'курковицы',\n",
              "       'куровицы', 'куттузи', 'лаврики', 'лаголово', 'лампово', 'лебяжье',\n",
              "       'левашово', 'ленинское', 'лесколово', 'лесная поляна', 'лесное',\n",
              "       'лесогорский', 'лисий нос', 'лодейное поле', 'ломоносов',\n",
              "       'лопухинка', 'луга', 'лужайка', 'лукаши', 'лупполово', 'любань',\n",
              "       'малая романовка', 'малое верево', 'малое карлино',\n",
              "       'малые колпаны', 'мануйлово', 'мга', 'мельниково', 'меньково',\n",
              "       'металлострой', 'мины', 'мистолово', 'мичуринское', 'молодежное',\n",
              "       'молодцово', 'морозова', 'мурино', 'мыза-ивановка', 'назия',\n",
              "       'ненимяки', 'нижние осельки', 'нижняя', 'низино', 'никольский',\n",
              "       'никольское', 'новая ладога', 'новая ропша', 'новогорелово',\n",
              "       'новое девяткино', 'новолисино', 'новоселье', 'новый свет',\n",
              "       'новый учхоз', 'нурма', 'оредеж', 'оржицы', 'отрадное', 'павлово',\n",
              "       'павловск', 'пансионат зеленый бор', 'парголово', 'парицы', 'паша',\n",
              "       'пельгора', 'пеники', 'первомайское', 'перово', 'песочный',\n",
              "       'петергоф', 'петро-славянка', 'петровское', 'пижма', 'пикалево',\n",
              "       'пикколово', 'платформа 69-й километр', 'плодовое', 'плоское',\n",
              "       'победа', 'подпорожье', 'поляны', 'понтонный', 'почап', 'починок',\n",
              "       'приветнинское', 'пригородный', 'приладожский', 'приморск',\n",
              "       'приозерск', 'пудомяги', 'пудость', 'пустынка', 'путилово',\n",
              "       'пушкин', 'пушное', 'пчева', 'пчевжа', 'рабитицы', 'разбегаево',\n",
              "       'раздолье', 'разметелево', 'рапполово', 'рахья', 'реброво',\n",
              "       'репино', 'рождествено', 'романовка', 'ромашки', 'ропша', 'рощино',\n",
              "       'русско', 'русско-высоцкое', 'рябово', 'садко', 'санкт-петербург',\n",
              "       'саперное', 'саперный', 'свердлова', 'светогорск', 'свирь',\n",
              "       'свирьстрой', 'севастьяново', 'селезнево', 'сельцо', 'семиозерье',\n",
              "       'семрино', 'серебрянский', 'сертолово', 'сестрорецк', 'сиверский',\n",
              "       'сижно', 'синявино', 'сланцы', 'снегиревка', 'советский',\n",
              "       'совхозный', 'сосново', 'сосновый бор', 'старая', 'старая ладога',\n",
              "       'старая малукса', 'старая пустошь', 'старое хинколово',\n",
              "       'старополье', 'старосиверская', 'старые бегуницы', 'стеклянный',\n",
              "       'стрельна', 'суйда', 'сумино', 'суоранда', 'суходолье', 'счастье',\n",
              "       'сяськелево', 'сясьстрой', 'тайцы', 'тарасово', 'тельмана',\n",
              "       'терволово', 'терпилицы', 'тесово-4', 'тихвин', 'тихковицы',\n",
              "       'тойворово', 'токсово', 'торковичи', 'торосово', 'торошковичи',\n",
              "       'торфяное', 'тосно', 'трубников бор', 'углово', 'ульяновка',\n",
              "       'усть-ижора', 'усть-луга', 'ушаки', 'фалилеево', 'федоровское',\n",
              "       'форносово', 'форт красная горка', 'хапо-ое', 'хязельки',\n",
              "       'цвелодубово', 'цвылево', 'чудской бор', 'шлиссельбург',\n",
              "       'шпаньково', 'шугозеро', 'шум', 'шушары', 'щеглово', 'юкки',\n",
              "       'ялгино', 'яльгелево', 'ям-тесово', 'янино-1', nan], dtype=object)"
            ]
          },
          "execution_count": 15,
          "metadata": {},
          "output_type": "execute_result"
        }
      ],
      "source": [
        "df['locality_name_normalized'] = (df['locality_name']\n",
        "                      .str.lower()\n",
        "                      .replace(regex=['ё'], value='е')\n",
        "                      .replace(regex=['городской поселок ', 'деревня ', 'поселок городского типа имени ', 'поселок городского типа ', 'поселок при железнодорожной станции ', 'поселок станции ', 'коттеджный поселок ', 'поселок ', 'садовое товарищество ', 'садоводческое некоммерческое товарищество', 'село'], value='')\n",
        "                      .str.strip()\n",
        ")\n",
        "df['locality_name_normalized'].sort_values().unique()"
      ]
    },
    {
      "cell_type": "markdown",
      "metadata": {
        "id": "DPIPbC60BJvj"
      },
      "source": [
        "Посчитаем новое кол-во уникальных значений"
      ]
    },
    {
      "cell_type": "code",
      "execution_count": null,
      "metadata": {
        "id": "-MfjiYdiBJvk",
        "outputId": "d4f13d47-75f0-4bad-9039-9e1907e8692c"
      },
      "outputs": [
        {
          "data": {
            "text/plain": [
              "306"
            ]
          },
          "execution_count": 16,
          "metadata": {},
          "output_type": "execute_result"
        }
      ],
      "source": [
        "len(df['locality_name_normalized'].sort_values().unique())"
      ]
    },
    {
      "cell_type": "markdown",
      "metadata": {
        "id": "FXXzEW7wBJvk"
      },
      "source": [
        "**Вывод**:\n",
        " * В таблице содержились пропуски, в тех столбцах с которыми будут исследования, пропуски заполнены\n",
        " * Изменили типы данных для оптимизации скорости обработки\n",
        " * Обработали явные, скрытые дубликаты\n",
        " * По логике last_price должен быть дробный, так как это денежное значение. В целые числа его переводить не стали\n",
        "\n",
        "\n",
        "Возможная причина пропусков, дубликатов - при заполнении объявлени пользователи не заполняют некоторые поля, в некоторых ставят галочки не зная за что отвечает параметр является ли это апартаментами, с использованием `е` `ё` нет стандартизации, это легко было исправлено."
      ]
    },
    {
      "cell_type": "markdown",
      "metadata": {
        "id": "FelZuxjMBJvk"
      },
      "source": [
        "## Расчёты и добавление результатов в таблицу"
      ]
    },
    {
      "cell_type": "markdown",
      "metadata": {
        "id": "79lADx6dBJvk"
      },
      "source": [
        "Посчитаем и добавим в таблицу: цена квадратного метра, создадим новый столбец **price_sq_m**"
      ]
    },
    {
      "cell_type": "code",
      "execution_count": null,
      "metadata": {
        "id": "TqUTquJyBJvk"
      },
      "outputs": [],
      "source": [
        "df['price_sq_m'] = df['last_price'] / df['total_area']"
      ]
    },
    {
      "cell_type": "markdown",
      "metadata": {
        "id": "a4d52LTIBJvl"
      },
      "source": [
        "Посчитаем и добавим в таблицу: день недели, месяц и год публикации объявления, создав столбцы **weekday_exposition**, **month_exposition**, **year_exposition**."
      ]
    },
    {
      "cell_type": "code",
      "execution_count": null,
      "metadata": {
        "id": "wmuk_FC7BJvl"
      },
      "outputs": [],
      "source": [
        "df['weekday_exposition'] = df['first_day_exposition'].dt.weekday\n",
        "df['month_exposition'] = df['first_day_exposition'].dt.month\n",
        "df['year_exposition'] = df['first_day_exposition'].dt.year"
      ]
    },
    {
      "cell_type": "markdown",
      "metadata": {
        "id": "5ajt_qRZBJvl"
      },
      "source": [
        "Посчитаем и добавим в таблицу: этаж квартиры; варианты — первый, последний, другой. Добавим в столбец **floor_cat**."
      ]
    },
    {
      "cell_type": "code",
      "execution_count": null,
      "metadata": {
        "id": "2MJMD7PMBJvl"
      },
      "outputs": [],
      "source": [
        "def floor_cat(row):\n",
        "    floor = row['floor']\n",
        "    floors_total = row['floors_total']\n",
        "    if floor == 1:\n",
        "        return 'первый'\n",
        "    if floors_total - floor == 0:\n",
        "        return 'последний'\n",
        "    return 'другой'\n",
        "\n",
        "df['floor_cat'] = df.apply(floor_cat, axis=1)"
      ]
    },
    {
      "cell_type": "markdown",
      "metadata": {
        "id": "rqvFEEi1BJvl"
      },
      "source": [
        "Посчитаем и добавим в таблицу: соотношение жилой и общей площади, а также отношение площади кухни к общей.  \n",
        "Столбец для соотношения жилой и общей площади: **liv_to_tot**  \n",
        "Столбец для соотношения отношение площади кухни к общей: **kit_to_tot**"
      ]
    },
    {
      "cell_type": "code",
      "execution_count": null,
      "metadata": {
        "id": "poj6fHHWBJvl"
      },
      "outputs": [],
      "source": [
        "df['liv_to_tot'] = df['living_area'] / df['total_area']\n",
        "df['kit_to_tot'] = df['kitchen_area'] / df['total_area']"
      ]
    },
    {
      "cell_type": "markdown",
      "metadata": {
        "id": "rC-fquwwBJvm"
      },
      "source": [
        "Посчитаем и добавим в таблицу целое количество километров от центра, столбец назовем **cityCenters_nearest_km**"
      ]
    },
    {
      "cell_type": "code",
      "execution_count": null,
      "metadata": {
        "id": "F8ctJfbLBJvm"
      },
      "outputs": [],
      "source": [
        "df['cityCenters_nearest_km'] = df['cityCenters_nearest'] / 1000\n",
        "df['cityCenters_nearest_km'] = df['cityCenters_nearest_km'].round()"
      ]
    },
    {
      "cell_type": "markdown",
      "metadata": {
        "id": "h1TKhEboBJvm"
      },
      "source": [
        "Выведем на экран первые строки таблицы, проверим как все добавилось."
      ]
    },
    {
      "cell_type": "code",
      "execution_count": null,
      "metadata": {
        "id": "71QSGo27BJvm",
        "outputId": "eed4c151-0b4d-461f-d4b9-6af33806842c"
      },
      "outputs": [
        {
          "data": {
            "text/html": [
              "<div>\n",
              "<style scoped>\n",
              "    .dataframe tbody tr th:only-of-type {\n",
              "        vertical-align: middle;\n",
              "    }\n",
              "\n",
              "    .dataframe tbody tr th {\n",
              "        vertical-align: top;\n",
              "    }\n",
              "\n",
              "    .dataframe thead th {\n",
              "        text-align: right;\n",
              "    }\n",
              "</style>\n",
              "<table border=\"1\" class=\"dataframe\">\n",
              "  <thead>\n",
              "    <tr style=\"text-align: right;\">\n",
              "      <th></th>\n",
              "      <th>total_images</th>\n",
              "      <th>last_price</th>\n",
              "      <th>total_area</th>\n",
              "      <th>first_day_exposition</th>\n",
              "      <th>rooms</th>\n",
              "      <th>ceiling_height</th>\n",
              "      <th>floors_total</th>\n",
              "      <th>living_area</th>\n",
              "      <th>floor</th>\n",
              "      <th>is_apartment</th>\n",
              "      <th>...</th>\n",
              "      <th>days_exposition</th>\n",
              "      <th>locality_name_normalized</th>\n",
              "      <th>price_sq_m</th>\n",
              "      <th>weekday_exposition</th>\n",
              "      <th>month_exposition</th>\n",
              "      <th>year_exposition</th>\n",
              "      <th>floor_cat</th>\n",
              "      <th>liv_to_tot</th>\n",
              "      <th>kit_to_tot</th>\n",
              "      <th>cityCenters_nearest_km</th>\n",
              "    </tr>\n",
              "  </thead>\n",
              "  <tbody>\n",
              "    <tr>\n",
              "      <td>0</td>\n",
              "      <td>20</td>\n",
              "      <td>13000000.0</td>\n",
              "      <td>108.0</td>\n",
              "      <td>2019-03-07</td>\n",
              "      <td>3</td>\n",
              "      <td>2.70</td>\n",
              "      <td>16.0</td>\n",
              "      <td>51.0</td>\n",
              "      <td>8</td>\n",
              "      <td>True</td>\n",
              "      <td>...</td>\n",
              "      <td>NaN</td>\n",
              "      <td>санкт-петербург</td>\n",
              "      <td>120370.370370</td>\n",
              "      <td>3</td>\n",
              "      <td>3</td>\n",
              "      <td>2019</td>\n",
              "      <td>другой</td>\n",
              "      <td>0.472222</td>\n",
              "      <td>0.231481</td>\n",
              "      <td>16.0</td>\n",
              "    </tr>\n",
              "    <tr>\n",
              "      <td>1</td>\n",
              "      <td>7</td>\n",
              "      <td>3350000.0</td>\n",
              "      <td>40.4</td>\n",
              "      <td>2018-12-04</td>\n",
              "      <td>1</td>\n",
              "      <td>2.64</td>\n",
              "      <td>11.0</td>\n",
              "      <td>18.6</td>\n",
              "      <td>1</td>\n",
              "      <td>True</td>\n",
              "      <td>...</td>\n",
              "      <td>81.0</td>\n",
              "      <td>шушары</td>\n",
              "      <td>82920.792079</td>\n",
              "      <td>1</td>\n",
              "      <td>12</td>\n",
              "      <td>2018</td>\n",
              "      <td>первый</td>\n",
              "      <td>0.460396</td>\n",
              "      <td>0.272277</td>\n",
              "      <td>19.0</td>\n",
              "    </tr>\n",
              "    <tr>\n",
              "      <td>2</td>\n",
              "      <td>10</td>\n",
              "      <td>5196000.0</td>\n",
              "      <td>56.0</td>\n",
              "      <td>2015-08-20</td>\n",
              "      <td>2</td>\n",
              "      <td>2.60</td>\n",
              "      <td>5.0</td>\n",
              "      <td>34.3</td>\n",
              "      <td>4</td>\n",
              "      <td>True</td>\n",
              "      <td>...</td>\n",
              "      <td>558.0</td>\n",
              "      <td>санкт-петербург</td>\n",
              "      <td>92785.714286</td>\n",
              "      <td>3</td>\n",
              "      <td>8</td>\n",
              "      <td>2015</td>\n",
              "      <td>другой</td>\n",
              "      <td>0.612500</td>\n",
              "      <td>0.148214</td>\n",
              "      <td>14.0</td>\n",
              "    </tr>\n",
              "    <tr>\n",
              "      <td>3</td>\n",
              "      <td>0</td>\n",
              "      <td>64900000.0</td>\n",
              "      <td>159.0</td>\n",
              "      <td>2015-07-24</td>\n",
              "      <td>3</td>\n",
              "      <td>2.65</td>\n",
              "      <td>14.0</td>\n",
              "      <td>45.0</td>\n",
              "      <td>9</td>\n",
              "      <td>True</td>\n",
              "      <td>...</td>\n",
              "      <td>424.0</td>\n",
              "      <td>санкт-петербург</td>\n",
              "      <td>408176.100629</td>\n",
              "      <td>4</td>\n",
              "      <td>7</td>\n",
              "      <td>2015</td>\n",
              "      <td>другой</td>\n",
              "      <td>0.283019</td>\n",
              "      <td>0.059748</td>\n",
              "      <td>7.0</td>\n",
              "    </tr>\n",
              "    <tr>\n",
              "      <td>4</td>\n",
              "      <td>2</td>\n",
              "      <td>10000000.0</td>\n",
              "      <td>100.0</td>\n",
              "      <td>2018-06-19</td>\n",
              "      <td>2</td>\n",
              "      <td>3.03</td>\n",
              "      <td>14.0</td>\n",
              "      <td>32.0</td>\n",
              "      <td>13</td>\n",
              "      <td>True</td>\n",
              "      <td>...</td>\n",
              "      <td>121.0</td>\n",
              "      <td>санкт-петербург</td>\n",
              "      <td>100000.000000</td>\n",
              "      <td>1</td>\n",
              "      <td>6</td>\n",
              "      <td>2018</td>\n",
              "      <td>другой</td>\n",
              "      <td>0.320000</td>\n",
              "      <td>0.410000</td>\n",
              "      <td>8.0</td>\n",
              "    </tr>\n",
              "  </tbody>\n",
              "</table>\n",
              "<p>5 rows × 31 columns</p>\n",
              "</div>"
            ],
            "text/plain": [
              "   total_images  last_price  total_area first_day_exposition  rooms  \\\n",
              "0            20  13000000.0       108.0           2019-03-07      3   \n",
              "1             7   3350000.0        40.4           2018-12-04      1   \n",
              "2            10   5196000.0        56.0           2015-08-20      2   \n",
              "3             0  64900000.0       159.0           2015-07-24      3   \n",
              "4             2  10000000.0       100.0           2018-06-19      2   \n",
              "\n",
              "   ceiling_height  floors_total  living_area  floor  is_apartment  ...  \\\n",
              "0            2.70          16.0         51.0      8          True  ...   \n",
              "1            2.64          11.0         18.6      1          True  ...   \n",
              "2            2.60           5.0         34.3      4          True  ...   \n",
              "3            2.65          14.0         45.0      9          True  ...   \n",
              "4            3.03          14.0         32.0     13          True  ...   \n",
              "\n",
              "   days_exposition  locality_name_normalized     price_sq_m  \\\n",
              "0              NaN           санкт-петербург  120370.370370   \n",
              "1             81.0                    шушары   82920.792079   \n",
              "2            558.0           санкт-петербург   92785.714286   \n",
              "3            424.0           санкт-петербург  408176.100629   \n",
              "4            121.0           санкт-петербург  100000.000000   \n",
              "\n",
              "   weekday_exposition month_exposition  year_exposition  floor_cat  \\\n",
              "0                   3                3             2019     другой   \n",
              "1                   1               12             2018     первый   \n",
              "2                   3                8             2015     другой   \n",
              "3                   4                7             2015     другой   \n",
              "4                   1                6             2018     другой   \n",
              "\n",
              "   liv_to_tot  kit_to_tot  cityCenters_nearest_km  \n",
              "0    0.472222    0.231481                    16.0  \n",
              "1    0.460396    0.272277                    19.0  \n",
              "2    0.612500    0.148214                    14.0  \n",
              "3    0.283019    0.059748                     7.0  \n",
              "4    0.320000    0.410000                     8.0  \n",
              "\n",
              "[5 rows x 31 columns]"
            ]
          },
          "execution_count": 22,
          "metadata": {},
          "output_type": "execute_result"
        }
      ],
      "source": [
        "df.head()"
      ]
    },
    {
      "cell_type": "markdown",
      "metadata": {
        "id": "2KwjZ4L1BJvm"
      },
      "source": [
        "## Исследовательский анализ данных"
      ]
    },
    {
      "cell_type": "markdown",
      "metadata": {
        "id": "SyZA6S7lBJvn"
      },
      "source": [
        "### Изучим следующие параметры: площадь, цена, число комнат, высота потолков"
      ]
    },
    {
      "cell_type": "markdown",
      "metadata": {
        "id": "DPqES70IBJvn"
      },
      "source": [
        "Создадим новую таблицу с нужными столбцами, посчитаем среднее значение по ним."
      ]
    },
    {
      "cell_type": "code",
      "execution_count": null,
      "metadata": {
        "scrolled": true,
        "id": "-4LNSt9jBJvn",
        "outputId": "1266de7a-05ea-499c-8e32-00c9fa89c1be"
      },
      "outputs": [
        {
          "data": {
            "text/plain": [
              "total_area        6.034865e+01\n",
              "last_price        6.541549e+06\n",
              "rooms             2.070636e+00\n",
              "ceiling_height    2.722539e+00\n",
              "dtype: float64"
            ]
          },
          "metadata": {},
          "output_type": "display_data"
        }
      ],
      "source": [
        "df_analysis_01 = df[['total_area', 'last_price', 'rooms', 'ceiling_height']]\n",
        "display(df_analysis_01.mean())"
      ]
    },
    {
      "cell_type": "markdown",
      "metadata": {
        "id": "3E84RMnoBJvn"
      },
      "source": [
        "Построим гистаграммы для площадь, цена, число комнат, высота потолков"
      ]
    },
    {
      "cell_type": "code",
      "execution_count": null,
      "metadata": {
        "scrolled": true,
        "id": "Hbgw0YdoBJvo",
        "outputId": "398763b8-a67b-4300-81c1-3dc121c40b7f"
      },
      "outputs": [
        {
          "data": {
            "text/plain": [
              "array([[<matplotlib.axes._subplots.AxesSubplot object at 0x7fcdd7343810>]],\n",
              "      dtype=object)"
            ]
          },
          "execution_count": 24,
          "metadata": {},
          "output_type": "execute_result"
        },
        {
          "data": {
            "image/png": "[encoded data removed]",
            "text/plain": [
              "<Figure size 432x288 with 1 Axes>"
            ]
          },
          "metadata": {
            "needs_background": "light"
          },
          "output_type": "display_data"
        },
        {
          "data": {
            "image/png": "[encoded data removed]",
            "text/plain": [
              "<Figure size 432x288 with 1 Axes>"
            ]
          },
          "metadata": {
            "needs_background": "light"
          },
          "output_type": "display_data"
        },
        {
          "data": {
            "image/png": "[encoded data removed]",
            "text/plain": [
              "<Figure size 432x288 with 1 Axes>"
            ]
          },
          "metadata": {
            "needs_background": "light"
          },
          "output_type": "display_data"
        },
        {
          "data": {
            "image/png": "[encoded data removed]",
            "text/plain": [
              "<Figure size 432x288 with 1 Axes>"
            ]
          },
          "metadata": {
            "needs_background": "light"
          },
          "output_type": "display_data"
        }
      ],
      "source": [
        "df_analysis_01.hist('total_area',bins=100)\n",
        "df_analysis_01.hist('last_price',bins=100)\n",
        "df_analysis_01.hist('rooms',bins=100)\n",
        "df_analysis_01.hist('ceiling_height',bins=100)"
      ]
    },
    {
      "cell_type": "markdown",
      "metadata": {
        "id": "nP_dP_NpBJvo"
      },
      "source": [
        "Откорректируем параметры для наглядности отображения при построении гистограм.  \n",
        "Уберем выбросы: метраж квартиры отобразим от 20 до 400м, цену от 0 до 25 млн.рублей, кол-во комнат от 0 до 8, высоту потолков от 0 до 4.4 метра"
      ]
    },
    {
      "cell_type": "code",
      "execution_count": null,
      "metadata": {
        "scrolled": false,
        "id": "wSMaG9ADBJvo",
        "outputId": "e5a866c7-47af-49dd-8ae4-d8b9bdefc218"
      },
      "outputs": [
        {
          "data": {
            "text/plain": [
              "array([[<matplotlib.axes._subplots.AxesSubplot object at 0x7fcdd6b2d650>]],\n",
              "      dtype=object)"
            ]
          },
          "execution_count": 25,
          "metadata": {},
          "output_type": "execute_result"
        },
        {
          "data": {
            "image/png": "[encoded data removed]",
            "text/plain": [
              "<Figure size 432x288 with 1 Axes>"
            ]
          },
          "metadata": {
            "needs_background": "light"
          },
          "output_type": "display_data"
        },
        {
          "data": {
            "image/png": "[encoded data removed]",
            "text/plain": [
              "<Figure size 432x288 with 1 Axes>"
            ]
          },
          "metadata": {
            "needs_background": "light"
          },
          "output_type": "display_data"
        },
        {
          "data": {
            "image/png": "[encoded data removed]",
            "text/plain": [
              "<Figure size 432x288 with 1 Axes>"
            ]
          },
          "metadata": {
            "needs_background": "light"
          },
          "output_type": "display_data"
        },
        {
          "data": {
            "image/png": "[encoded data removed]",
            "text/plain": [
              "<Figure size 432x288 with 1 Axes>"
            ]
          },
          "metadata": {
            "needs_background": "light"
          },
          "output_type": "display_data"
        }
      ],
      "source": [
        "df_analysis_01.hist('total_area',bins=30, range=(20,150))\n",
        "df_analysis_01.hist('last_price',bins=30, range=(0,25000000))\n",
        "df_analysis_01.hist('rooms',bins=30, range=(0,9))\n",
        "df_analysis_01.hist('ceiling_height',bins=30, range=(2.3,4))"
      ]
    },
    {
      "cell_type": "markdown",
      "metadata": {
        "id": "iV9y0KXGBJvo"
      },
      "source": [
        "**Выводы**:\n",
        " * В объявлениях чаще всего встречается площадь квартир от 30 до 60 кв.метров\n",
        " * Цена на квартиры в большинстве своем от 3 до 6 млн.рублей\n",
        " * Больше всего представлено объявлений с одной, двумя и тремя комнатами\n",
        " * Высота потолков в большинстве своем от 2.5 до 2.7 метров\n",
        "\n",
        "Среднестатистическая квартира это: двух-комнатная, с площадью 50 кв.метров, высотой потолков 2.7 метров, стоимостью 5.5 млн.рублей."
      ]
    },
    {
      "cell_type": "markdown",
      "metadata": {
        "id": "qM6M244ABJvp"
      },
      "source": [
        "### Изучим время продажи квартиры"
      ]
    },
    {
      "cell_type": "markdown",
      "metadata": {
        "id": "2HjKEyFNBJvp"
      },
      "source": [
        "Построим гистограмму"
      ]
    },
    {
      "cell_type": "code",
      "execution_count": null,
      "metadata": {
        "scrolled": true,
        "id": "m1LozvUDBJvp",
        "outputId": "11b86e67-fe9b-4b80-ec83-e9b5b7e83d3e"
      },
      "outputs": [
        {
          "data": {
            "text/plain": [
              "array([[<matplotlib.axes._subplots.AxesSubplot object at 0x7fcdd64ed490>]],\n",
              "      dtype=object)"
            ]
          },
          "execution_count": 26,
          "metadata": {},
          "output_type": "execute_result"
        },
        {
          "data": {
            "image/png": "[encoded data removed]",
            "text/plain": [
              "<Figure size 432x288 with 1 Axes>"
            ]
          },
          "metadata": {
            "needs_background": "light"
          },
          "output_type": "display_data"
        }
      ],
      "source": [
        "df_analysis_02 = df[['days_exposition']]\n",
        "df_analysis_02 = df[['days_exposition']]\n",
        "df_analysis_02.hist(column = 'days_exposition', bins = 100, range = (0,1000))"
      ]
    },
    {
      "cell_type": "markdown",
      "metadata": {
        "id": "vgafLIiTBJvp"
      },
      "source": [
        "Посчитаем среднее и медиану, выведем на экран"
      ]
    },
    {
      "cell_type": "code",
      "execution_count": null,
      "metadata": {
        "scrolled": true,
        "id": "PH640qwBBJvq",
        "outputId": "af6ef1e8-c277-4aa7-e626-fa62d1310be1"
      },
      "outputs": [
        {
          "data": {
            "text/html": [
              "<div>\n",
              "<style scoped>\n",
              "    .dataframe tbody tr th:only-of-type {\n",
              "        vertical-align: middle;\n",
              "    }\n",
              "\n",
              "    .dataframe tbody tr th {\n",
              "        vertical-align: top;\n",
              "    }\n",
              "\n",
              "    .dataframe thead th {\n",
              "        text-align: right;\n",
              "    }\n",
              "</style>\n",
              "<table border=\"1\" class=\"dataframe\">\n",
              "  <thead>\n",
              "    <tr style=\"text-align: right;\">\n",
              "      <th></th>\n",
              "      <th>days_exposition</th>\n",
              "    </tr>\n",
              "  </thead>\n",
              "  <tbody>\n",
              "    <tr>\n",
              "      <td>count</td>\n",
              "      <td>20518.000000</td>\n",
              "    </tr>\n",
              "    <tr>\n",
              "      <td>mean</td>\n",
              "      <td>180.888634</td>\n",
              "    </tr>\n",
              "    <tr>\n",
              "      <td>std</td>\n",
              "      <td>219.727988</td>\n",
              "    </tr>\n",
              "    <tr>\n",
              "      <td>min</td>\n",
              "      <td>1.000000</td>\n",
              "    </tr>\n",
              "    <tr>\n",
              "      <td>25%</td>\n",
              "      <td>45.000000</td>\n",
              "    </tr>\n",
              "    <tr>\n",
              "      <td>50%</td>\n",
              "      <td>95.000000</td>\n",
              "    </tr>\n",
              "    <tr>\n",
              "      <td>75%</td>\n",
              "      <td>232.000000</td>\n",
              "    </tr>\n",
              "    <tr>\n",
              "      <td>max</td>\n",
              "      <td>1580.000000</td>\n",
              "    </tr>\n",
              "  </tbody>\n",
              "</table>\n",
              "</div>"
            ],
            "text/plain": [
              "       days_exposition\n",
              "count     20518.000000\n",
              "mean        180.888634\n",
              "std         219.727988\n",
              "min           1.000000\n",
              "25%          45.000000\n",
              "50%          95.000000\n",
              "75%         232.000000\n",
              "max        1580.000000"
            ]
          },
          "execution_count": 27,
          "metadata": {},
          "output_type": "execute_result"
        }
      ],
      "source": [
        "df_analysis_02.describe()"
      ]
    },
    {
      "cell_type": "markdown",
      "metadata": {
        "id": "agiJllLkBJvq"
      },
      "source": [
        "**Выводы**:  \n",
        " * График похож на распределение Пуассона\n",
        " * Медианное значение (95) в два раза больше среднего (180), что характерно когда в распределении длинный хвост высоких значений(или несколько очень больших значений), влияющих на среднее, но не на медиану\n",
        " * Продажа квартиры обычно занимает 95 дней, медианное значение 180 дней\n",
        " * Все что меньше 45 дней - можно считать что продажи прошли очень быстро. Все что дольше 232 дней - необычайно долго"
      ]
    },
    {
      "cell_type": "markdown",
      "metadata": {
        "id": "1jO797CFBJvq"
      },
      "source": [
        "### Убираем редкие и выбивающиеся значения"
      ]
    },
    {
      "cell_type": "markdown",
      "metadata": {
        "id": "0Zn9IrnPBJvq"
      },
      "source": [
        "Ограничим значения в столбце **days_exposition** до 520 дней"
      ]
    },
    {
      "cell_type": "code",
      "execution_count": null,
      "metadata": {
        "scrolled": true,
        "id": "EkW4ATQzBJvr",
        "outputId": "cdabe5f3-12d0-45f0-ddb4-2cbdbfb1fafb"
      },
      "outputs": [
        {
          "data": {
            "text/html": [
              "<div>\n",
              "<style scoped>\n",
              "    .dataframe tbody tr th:only-of-type {\n",
              "        vertical-align: middle;\n",
              "    }\n",
              "\n",
              "    .dataframe tbody tr th {\n",
              "        vertical-align: top;\n",
              "    }\n",
              "\n",
              "    .dataframe thead th {\n",
              "        text-align: right;\n",
              "    }\n",
              "</style>\n",
              "<table border=\"1\" class=\"dataframe\">\n",
              "  <thead>\n",
              "    <tr style=\"text-align: right;\">\n",
              "      <th></th>\n",
              "      <th>days_exposition</th>\n",
              "    </tr>\n",
              "  </thead>\n",
              "  <tbody>\n",
              "    <tr>\n",
              "      <td>count</td>\n",
              "      <td>18887.000000</td>\n",
              "    </tr>\n",
              "    <tr>\n",
              "      <td>mean</td>\n",
              "      <td>129.533700</td>\n",
              "    </tr>\n",
              "    <tr>\n",
              "      <td>std</td>\n",
              "      <td>122.644911</td>\n",
              "    </tr>\n",
              "    <tr>\n",
              "      <td>min</td>\n",
              "      <td>1.000000</td>\n",
              "    </tr>\n",
              "    <tr>\n",
              "      <td>25%</td>\n",
              "      <td>41.000000</td>\n",
              "    </tr>\n",
              "    <tr>\n",
              "      <td>50%</td>\n",
              "      <td>85.000000</td>\n",
              "    </tr>\n",
              "    <tr>\n",
              "      <td>75%</td>\n",
              "      <td>183.000000</td>\n",
              "    </tr>\n",
              "    <tr>\n",
              "      <td>max</td>\n",
              "      <td>519.000000</td>\n",
              "    </tr>\n",
              "  </tbody>\n",
              "</table>\n",
              "</div>"
            ],
            "text/plain": [
              "       days_exposition\n",
              "count     18887.000000\n",
              "mean        129.533700\n",
              "std         122.644911\n",
              "min           1.000000\n",
              "25%          41.000000\n",
              "50%          85.000000\n",
              "75%         183.000000\n",
              "max         519.000000"
            ]
          },
          "metadata": {},
          "output_type": "display_data"
        },
        {
          "data": {
            "image/png": "[encoded data removed]",
            "text/plain": [
              "<Figure size 432x288 with 1 Axes>"
            ]
          },
          "metadata": {
            "needs_background": "light"
          },
          "output_type": "display_data"
        }
      ],
      "source": [
        "df_analysis_02 = df_analysis_02.query('days_exposition < 520')\n",
        "df_analysis_02.hist(column = 'days_exposition', bins = 100, range = (0,1000))\n",
        "display(df_analysis_02.describe())"
      ]
    },
    {
      "cell_type": "markdown",
      "metadata": {
        "id": "U1OrvdUuBJvr"
      },
      "source": [
        "**Вывод**:\n",
        " * Снизив выборку до 520 дней, изменились среднее значение со 180 до 122, медиана изменилась с 95 на 85. Но в то же время не стоит совсем убирать значения больше 520 дней и считать это выбросами, т.к. возможно квартиры просто так долго продавались из-за завышенной стоимости, или объявления забыли снять с сайта когда квартира продана."
      ]
    },
    {
      "cell_type": "markdown",
      "metadata": {
        "id": "XlkXJ1FIBJvs"
      },
      "source": [
        "Посмотрим на редкие и выбивающиеся значения в стоолбце высоты потолков **ceiling_height**.\n",
        "Посмотрим диаграмму размаха и найдем границы до выбросов данных."
      ]
    },
    {
      "cell_type": "code",
      "execution_count": null,
      "metadata": {
        "scrolled": false,
        "id": "JCPd3s3ABJvs",
        "outputId": "e4cb1405-6407-4507-c46f-e6c22ed2b9c2"
      },
      "outputs": [
        {
          "data": {
            "image/png": "[encoded data removed]",
            "text/plain": [
              "<Figure size 432x288 with 1 Axes>"
            ]
          },
          "metadata": {
            "needs_background": "light"
          },
          "output_type": "display_data"
        }
      ],
      "source": [
        "plt.ylim(0, 4)\n",
        "boxplot = df.boxplot(column=['ceiling_height'])"
      ]
    },
    {
      "cell_type": "markdown",
      "metadata": {
        "id": "LrtN6v-rBJvt"
      },
      "source": [
        "Найдем значение правого уса для высоты потолков"
      ]
    },
    {
      "cell_type": "code",
      "execution_count": null,
      "metadata": {
        "scrolled": true,
        "id": "HrvJQx77BJvt",
        "outputId": "dbc9677b-4fbc-4810-ac8e-d1cf540fc97d"
      },
      "outputs": [
        {
          "data": {
            "text/plain": [
              "4.0"
            ]
          },
          "execution_count": 30,
          "metadata": {},
          "output_type": "execute_result"
        }
      ],
      "source": [
        "top_whisker_cap = df['ceiling_height'].quantile(0.95)  + 1.5 * (df['ceiling_height'].quantile(0.95) - df['ceiling_height'].quantile(0.25))\n",
        "top_whisker_cap.round(1)"
      ]
    },
    {
      "cell_type": "markdown",
      "metadata": {
        "id": "gPP3FF7JBJvt"
      },
      "source": [
        "Найдем значение левого уса для высоты потолков"
      ]
    },
    {
      "cell_type": "code",
      "execution_count": null,
      "metadata": {
        "id": "At7VBWgWBJvt",
        "outputId": "ad6be6ef-b381-469c-b3cf-fd3237f3eda9"
      },
      "outputs": [
        {
          "data": {
            "text/plain": [
              "1.5"
            ]
          },
          "execution_count": 31,
          "metadata": {},
          "output_type": "execute_result"
        }
      ],
      "source": [
        "bottom_whisker_cap = df['ceiling_height'].quantile(0.1)  - 1.5 * (df['ceiling_height'].quantile(0.95) - df['ceiling_height'].quantile(0.1))\n",
        "bottom_whisker_cap.round(1)"
      ]
    },
    {
      "cell_type": "markdown",
      "metadata": {
        "id": "mg77vxCGBJvt"
      },
      "source": [
        "Все что находится за пределами «усов» примем за выбросы. Заменем выбросы на медиану."
      ]
    },
    {
      "cell_type": "code",
      "execution_count": null,
      "metadata": {
        "id": "lmZegnWMBJvt"
      },
      "outputs": [],
      "source": [
        "df.loc[df['ceiling_height'] < 1.5, 'ceiling_height'] = df['ceiling_height'].median()\n",
        "df.loc[df['ceiling_height'] > 4.0, 'ceiling_height'] = df['ceiling_height'].median()"
      ]
    },
    {
      "cell_type": "markdown",
      "metadata": {
        "id": "xJcBiO3qBJvu"
      },
      "source": [
        "Заменем пустые значения в столбце высота потолков на медиану"
      ]
    },
    {
      "cell_type": "code",
      "execution_count": null,
      "metadata": {
        "id": "ExAW109wBJvu"
      },
      "outputs": [],
      "source": [
        "df['ceiling_height'].fillna(df['ceiling_height'].median(), inplace=True)"
      ]
    },
    {
      "cell_type": "markdown",
      "metadata": {
        "id": "lCjuoJviBJvu"
      },
      "source": [
        "Посмотрим на высоты потолков, уникальные значения, что все применилось."
      ]
    },
    {
      "cell_type": "code",
      "execution_count": null,
      "metadata": {
        "id": "h2t3Q-5UBJvu",
        "outputId": "5eca21bd-65f0-4147-9ce0-d5f776884707"
      },
      "outputs": [
        {
          "data": {
            "text/plain": [
              "array([2.7 , 2.64, 2.6 , 2.65, 3.03, 2.5 , 2.67, 2.56, 3.05, 2.75, 2.8 ,\n",
              "       2.9 , 2.55, 3.1 , 3.  , 3.2 , 2.61, 3.25, 3.45, 2.77, 2.85, 2.57,\n",
              "       3.5 , 3.3 , 2.71, 4.  , 2.47, 2.73, 2.84, 2.34, 3.4 , 3.06, 2.72,\n",
              "       2.54, 2.51, 2.78, 2.76, 2.58, 3.7 , 2.52, 2.87, 2.66, 2.59, 2.  ,\n",
              "       2.45, 3.6 , 2.92, 3.11, 3.38, 3.13, 3.8 , 3.15, 3.42, 3.55, 3.16,\n",
              "       3.62, 3.12, 2.53, 2.74, 2.96, 2.46, 2.79, 2.95, 2.94, 3.82, 3.54,\n",
              "       3.53, 2.83, 2.4 , 3.01, 3.65, 3.9 , 3.18, 3.35, 2.3 , 3.57, 2.48,\n",
              "       2.62, 2.82, 3.98, 2.63, 3.83, 3.52, 3.95, 3.75, 2.88, 3.67, 3.87,\n",
              "       3.66, 3.85, 3.86, 3.24, 3.36, 3.08, 3.68, 3.07, 3.37, 3.09, 3.26,\n",
              "       3.34, 2.81, 3.44, 2.97, 3.14, 2.68, 3.22, 3.27, 2.93, 3.46, 3.47,\n",
              "       3.33, 3.63, 3.32, 2.98, 2.86, 3.17, 3.28, 3.04, 3.84, 3.23, 3.02,\n",
              "       3.21, 3.43, 3.78, 3.39, 2.69, 3.31, 3.56, 2.2 , 3.51, 3.93, 2.99,\n",
              "       3.49, 2.91, 3.88, 1.75, 3.29, 2.25, 3.76, 3.69, 2.89, 3.58, 2.49,\n",
              "       3.48, 3.59])"
            ]
          },
          "execution_count": 34,
          "metadata": {},
          "output_type": "execute_result"
        }
      ],
      "source": [
        "df['ceiling_height'].unique()"
      ]
    },
    {
      "cell_type": "markdown",
      "metadata": {
        "id": "PzwHyDsrBJvv"
      },
      "source": [
        "### Изучим какие факторы больше всего влияют на стоимость квартиры"
      ]
    },
    {
      "cell_type": "markdown",
      "metadata": {
        "id": "aP09S64NBJvv"
      },
      "source": [
        "#### Изучим, зависит ли цена от квадратного метра, числа комнат, этажа (первого или последнего), удалённости от центра."
      ]
    },
    {
      "cell_type": "code",
      "execution_count": null,
      "metadata": {
        "scrolled": false,
        "id": "P2qkpSfZBJvv",
        "outputId": "c123a470-4b95-46eb-9920-5c429f157bab"
      },
      "outputs": [
        {
          "data": {
            "text/html": [
              "<div>\n",
              "<style scoped>\n",
              "    .dataframe tbody tr th:only-of-type {\n",
              "        vertical-align: middle;\n",
              "    }\n",
              "\n",
              "    .dataframe tbody tr th {\n",
              "        vertical-align: top;\n",
              "    }\n",
              "\n",
              "    .dataframe thead th {\n",
              "        text-align: right;\n",
              "    }\n",
              "</style>\n",
              "<table border=\"1\" class=\"dataframe\">\n",
              "  <thead>\n",
              "    <tr style=\"text-align: right;\">\n",
              "      <th></th>\n",
              "      <th>price_sq_m</th>\n",
              "      <th>total_area</th>\n",
              "      <th>rooms</th>\n",
              "      <th>cityCenters_nearest</th>\n",
              "    </tr>\n",
              "  </thead>\n",
              "  <tbody>\n",
              "    <tr>\n",
              "      <td>price_sq_m</td>\n",
              "      <td>1.000000</td>\n",
              "      <td>0.301960</td>\n",
              "      <td>0.055420</td>\n",
              "      <td>-0.317951</td>\n",
              "    </tr>\n",
              "    <tr>\n",
              "      <td>total_area</td>\n",
              "      <td>0.301960</td>\n",
              "      <td>1.000000</td>\n",
              "      <td>0.758344</td>\n",
              "      <td>-0.231446</td>\n",
              "    </tr>\n",
              "    <tr>\n",
              "      <td>rooms</td>\n",
              "      <td>0.055420</td>\n",
              "      <td>0.758344</td>\n",
              "      <td>1.000000</td>\n",
              "      <td>-0.184864</td>\n",
              "    </tr>\n",
              "    <tr>\n",
              "      <td>cityCenters_nearest</td>\n",
              "      <td>-0.317951</td>\n",
              "      <td>-0.231446</td>\n",
              "      <td>-0.184864</td>\n",
              "      <td>1.000000</td>\n",
              "    </tr>\n",
              "  </tbody>\n",
              "</table>\n",
              "</div>"
            ],
            "text/plain": [
              "                     price_sq_m  total_area     rooms  cityCenters_nearest\n",
              "price_sq_m             1.000000    0.301960  0.055420            -0.317951\n",
              "total_area             0.301960    1.000000  0.758344            -0.231446\n",
              "rooms                  0.055420    0.758344  1.000000            -0.184864\n",
              "cityCenters_nearest   -0.317951   -0.231446 -0.184864             1.000000"
            ]
          },
          "execution_count": 35,
          "metadata": {},
          "output_type": "execute_result"
        },
        {
          "data": {
            "image/png": "[encoded data removed]",
            "text/plain": [
              "<Figure size 648x648 with 16 Axes>"
            ]
          },
          "metadata": {
            "needs_background": "light"
          },
          "output_type": "display_data"
        }
      ],
      "source": [
        "df_analysis_441 = df[['price_sq_m', 'total_area', 'rooms', 'cityCenters_nearest']]\n",
        "pd.plotting.scatter_matrix(df_analysis_441, figsize=(9, 9))\n",
        "df_analysis_441.corr()"
      ]
    },
    {
      "cell_type": "markdown",
      "metadata": {
        "id": "i9nbADFkBJvv"
      },
      "source": [
        "Найдем зависимость этажа на котором располагается квартира от цены за кв.метр."
      ]
    },
    {
      "cell_type": "code",
      "execution_count": null,
      "metadata": {
        "id": "SuhBRACWBJvw",
        "outputId": "c64fdb9a-5643-4994-cb89-2cd8dd85d35a"
      },
      "outputs": [
        {
          "data": {
            "image/png": "[encoded data removed]",
            "text/plain": [
              "<Figure size 360x360 with 1 Axes>"
            ]
          },
          "metadata": {
            "needs_background": "light"
          },
          "output_type": "display_data"
        }
      ],
      "source": [
        "floors = df.pivot_table(index='floor_cat', values='price_sq_m')\n",
        "ax = floors.plot(kind='bar', figsize=(5, 5))\n",
        "plt.show()"
      ]
    },
    {
      "cell_type": "markdown",
      "metadata": {
        "id": "NzQpxqBbBJvw"
      },
      "source": [
        "**Выводы**:\n",
        " * Корреляция очень невысокая\n",
        " * С увеличением общего метража квартиры возрастает цена за квадратный метр (коэффициент корреляции Пирсона 0.3)\n",
        " * Удаленность от центра имеет такое же значение на возрстающую стоимость за кв.метр (коэффициент корреляции Пирсона -0.3)\n",
        " * Количество комнат мало влияет на стоимость кв.метра\n",
        " * Квартиры на первом этаже стоят дешевле всего, не намного дороже стоят квартиры на последнем этаже. Квартиры на всех других этажах относящиеся к категории `другой` стоят заметно дороже первых двух категорий.\n"
      ]
    },
    {
      "cell_type": "markdown",
      "metadata": {
        "id": "hPfZYaWxBJvw"
      },
      "source": [
        "#### Изучим зависимость от даты размещения: дня недели, месяца и года"
      ]
    },
    {
      "cell_type": "code",
      "execution_count": null,
      "metadata": {
        "scrolled": true,
        "id": "fnvR63tlBJvx",
        "outputId": "0f660c4e-6055-4fd2-a33a-e6825b591d14"
      },
      "outputs": [
        {
          "data": {
            "image/png": "[encoded data removed]",
            "text/plain": [
              "<Figure size 576x144 with 1 Axes>"
            ]
          },
          "metadata": {
            "needs_background": "light"
          },
          "output_type": "display_data"
        },
        {
          "data": {
            "image/png": "[encoded data removed]",
            "text/plain": [
              "<Figure size 576x144 with 1 Axes>"
            ]
          },
          "metadata": {
            "needs_background": "light"
          },
          "output_type": "display_data"
        },
        {
          "data": {
            "image/png": "[encoded data removed]",
            "text/plain": [
              "<Figure size 576x144 with 1 Axes>"
            ]
          },
          "metadata": {
            "needs_background": "light"
          },
          "output_type": "display_data"
        }
      ],
      "source": [
        "day_month_year = ['weekday_exposition', 'month_exposition', 'year_exposition']\n",
        "\n",
        "for name in day_month_year:\n",
        "    df.pivot_table(index=name , values='last_price', aggfunc='median').plot(grid=True, figsize=(8, 2))"
      ]
    },
    {
      "cell_type": "markdown",
      "metadata": {
        "id": "lorSH9YYBJvx"
      },
      "source": [
        "**Вывод**:\n",
        " * Во вторник и среду размещаются самые дорогие квартиры. Суббота и воскресение дни размещения квартир наименее дешевых.\n",
        " * В Июне по статистике размещаются наименее дешевые квартиры, в то время как апрель и сентябрь-декабрь время для размещения квартир с наибольшей стоимостью.\n",
        " * С 2014 по 2016 планомерно было снижение стоимости квартир, и далее только с 2018-2019 годов рост цены снова стал набирать обороты.\n",
        "\n",
        " В целом корреляция цены от дня недели\\месяца\\года - почти отсутствует."
      ]
    },
    {
      "cell_type": "markdown",
      "metadata": {
        "id": "ACnqZFnNBJvx"
      },
      "source": [
        "#### Выберем 10 населённых пунктов с наибольшим числом объявлений"
      ]
    },
    {
      "cell_type": "code",
      "execution_count": null,
      "metadata": {
        "scrolled": false,
        "id": "rIA3U2SUBJvx",
        "outputId": "8b15d0e3-cfda-4ace-d867-c34c3a2d884e"
      },
      "outputs": [
        {
          "data": {
            "text/plain": [
              "'Топ 10 населённых пунктов с наибольшим числом объявлений и средняя цена квадратного метра в этих населённых пунктах:'"
            ]
          },
          "metadata": {},
          "output_type": "display_data"
        },
        {
          "data": {
            "text/html": [
              "<div>\n",
              "<style scoped>\n",
              "    .dataframe tbody tr th:only-of-type {\n",
              "        vertical-align: middle;\n",
              "    }\n",
              "\n",
              "    .dataframe tbody tr th {\n",
              "        vertical-align: top;\n",
              "    }\n",
              "\n",
              "    .dataframe thead th {\n",
              "        text-align: right;\n",
              "    }\n",
              "</style>\n",
              "<table border=\"1\" class=\"dataframe\">\n",
              "  <thead>\n",
              "    <tr style=\"text-align: right;\">\n",
              "      <th></th>\n",
              "      <th>mean</th>\n",
              "      <th>count</th>\n",
              "    </tr>\n",
              "    <tr>\n",
              "      <th>locality_name_normalized</th>\n",
              "      <th></th>\n",
              "      <th></th>\n",
              "    </tr>\n",
              "  </thead>\n",
              "  <tbody>\n",
              "    <tr>\n",
              "      <td>санкт-петербург</td>\n",
              "      <td>114849.008794</td>\n",
              "      <td>15721</td>\n",
              "    </tr>\n",
              "    <tr>\n",
              "      <td>мурино</td>\n",
              "      <td>86087.512050</td>\n",
              "      <td>590</td>\n",
              "    </tr>\n",
              "    <tr>\n",
              "      <td>кудрово</td>\n",
              "      <td>95324.930544</td>\n",
              "      <td>472</td>\n",
              "    </tr>\n",
              "    <tr>\n",
              "      <td>шушары</td>\n",
              "      <td>78677.364217</td>\n",
              "      <td>440</td>\n",
              "    </tr>\n",
              "    <tr>\n",
              "      <td>всеволожск</td>\n",
              "      <td>68654.473986</td>\n",
              "      <td>398</td>\n",
              "    </tr>\n",
              "    <tr>\n",
              "      <td>пушкин</td>\n",
              "      <td>103125.819291</td>\n",
              "      <td>369</td>\n",
              "    </tr>\n",
              "    <tr>\n",
              "      <td>колпино</td>\n",
              "      <td>75424.579098</td>\n",
              "      <td>338</td>\n",
              "    </tr>\n",
              "    <tr>\n",
              "      <td>парголово</td>\n",
              "      <td>90175.913458</td>\n",
              "      <td>327</td>\n",
              "    </tr>\n",
              "    <tr>\n",
              "      <td>гатчина</td>\n",
              "      <td>68746.146763</td>\n",
              "      <td>307</td>\n",
              "    </tr>\n",
              "    <tr>\n",
              "      <td>выборг</td>\n",
              "      <td>58141.909153</td>\n",
              "      <td>237</td>\n",
              "    </tr>\n",
              "  </tbody>\n",
              "</table>\n",
              "</div>"
            ],
            "text/plain": [
              "                                   mean  count\n",
              "locality_name_normalized                      \n",
              "санкт-петербург           114849.008794  15721\n",
              "мурино                     86087.512050    590\n",
              "кудрово                    95324.930544    472\n",
              "шушары                     78677.364217    440\n",
              "всеволожск                 68654.473986    398\n",
              "пушкин                    103125.819291    369\n",
              "колпино                    75424.579098    338\n",
              "парголово                  90175.913458    327\n",
              "гатчина                    68746.146763    307\n",
              "выборг                     58141.909153    237"
            ]
          },
          "metadata": {},
          "output_type": "display_data"
        }
      ],
      "source": [
        "top_10_city=(df.groupby('locality_name_normalized')['price_sq_m'].agg(['mean', 'count'])).sort_values(by='count', ascending=False).head(10)\n",
        "display(f'Топ 10 населённых пунктов с наибольшим числом объявлений и средняя цена квадратного метра в этих населённых пунктах:', top_10_city)"
      ]
    },
    {
      "cell_type": "markdown",
      "metadata": {
        "id": "im7l5ZaaBJvx"
      },
      "source": [
        "**Вывод**:\n",
        " * В топ-10 населенных пунктов по числу объявлений вошли: `Санкт-Петербург (15721 объявлений), Мурино, Кудрово, Шушары, Всеволожск, Пушкин, Колпино, Парголово, Гатчина, Выборг`."
      ]
    },
    {
      "cell_type": "markdown",
      "metadata": {
        "id": "EVVKbf0IBJvy"
      },
      "source": [
        "Выделим населённые пункты с самой высокой и низкой стоимостью жилья."
      ]
    },
    {
      "cell_type": "code",
      "execution_count": null,
      "metadata": {
        "scrolled": true,
        "id": "kodgIgNFBJvy",
        "outputId": "09716523-c19e-4193-d4e6-a85b2b1f8f74"
      },
      "outputs": [
        {
          "data": {
            "text/plain": [
              "'3 населенных пункта с самой высокой стоимостью жилья:'"
            ]
          },
          "metadata": {},
          "output_type": "display_data"
        },
        {
          "data": {
            "text/html": [
              "<div>\n",
              "<style scoped>\n",
              "    .dataframe tbody tr th:only-of-type {\n",
              "        vertical-align: middle;\n",
              "    }\n",
              "\n",
              "    .dataframe tbody tr th {\n",
              "        vertical-align: top;\n",
              "    }\n",
              "\n",
              "    .dataframe thead th {\n",
              "        text-align: right;\n",
              "    }\n",
              "</style>\n",
              "<table border=\"1\" class=\"dataframe\">\n",
              "  <thead>\n",
              "    <tr style=\"text-align: right;\">\n",
              "      <th></th>\n",
              "      <th>mean</th>\n",
              "      <th>count</th>\n",
              "    </tr>\n",
              "    <tr>\n",
              "      <th>locality_name_normalized</th>\n",
              "      <th></th>\n",
              "      <th></th>\n",
              "    </tr>\n",
              "  </thead>\n",
              "  <tbody>\n",
              "    <tr>\n",
              "      <td>санкт-петербург</td>\n",
              "      <td>114849.008794</td>\n",
              "      <td>15721</td>\n",
              "    </tr>\n",
              "    <tr>\n",
              "      <td>пушкин</td>\n",
              "      <td>103125.819291</td>\n",
              "      <td>369</td>\n",
              "    </tr>\n",
              "    <tr>\n",
              "      <td>кудрово</td>\n",
              "      <td>95324.930544</td>\n",
              "      <td>472</td>\n",
              "    </tr>\n",
              "  </tbody>\n",
              "</table>\n",
              "</div>"
            ],
            "text/plain": [
              "                                   mean  count\n",
              "locality_name_normalized                      \n",
              "санкт-петербург           114849.008794  15721\n",
              "пушкин                    103125.819291    369\n",
              "кудрово                    95324.930544    472"
            ]
          },
          "metadata": {},
          "output_type": "display_data"
        },
        {
          "data": {
            "text/plain": [
              "'3 населенных пункта с самой низкой стоимостью жилья:'"
            ]
          },
          "metadata": {},
          "output_type": "display_data"
        },
        {
          "data": {
            "text/html": [
              "<div>\n",
              "<style scoped>\n",
              "    .dataframe tbody tr th:only-of-type {\n",
              "        vertical-align: middle;\n",
              "    }\n",
              "\n",
              "    .dataframe tbody tr th {\n",
              "        vertical-align: top;\n",
              "    }\n",
              "\n",
              "    .dataframe thead th {\n",
              "        text-align: right;\n",
              "    }\n",
              "</style>\n",
              "<table border=\"1\" class=\"dataframe\">\n",
              "  <thead>\n",
              "    <tr style=\"text-align: right;\">\n",
              "      <th></th>\n",
              "      <th>mean</th>\n",
              "      <th>count</th>\n",
              "    </tr>\n",
              "    <tr>\n",
              "      <th>locality_name_normalized</th>\n",
              "      <th></th>\n",
              "      <th></th>\n",
              "    </tr>\n",
              "  </thead>\n",
              "  <tbody>\n",
              "    <tr>\n",
              "      <td>гатчина</td>\n",
              "      <td>68746.146763</td>\n",
              "      <td>307</td>\n",
              "    </tr>\n",
              "    <tr>\n",
              "      <td>всеволожск</td>\n",
              "      <td>68654.473986</td>\n",
              "      <td>398</td>\n",
              "    </tr>\n",
              "    <tr>\n",
              "      <td>выборг</td>\n",
              "      <td>58141.909153</td>\n",
              "      <td>237</td>\n",
              "    </tr>\n",
              "  </tbody>\n",
              "</table>\n",
              "</div>"
            ],
            "text/plain": [
              "                                  mean  count\n",
              "locality_name_normalized                     \n",
              "гатчина                   68746.146763    307\n",
              "всеволожск                68654.473986    398\n",
              "выборг                    58141.909153    237"
            ]
          },
          "metadata": {},
          "output_type": "display_data"
        }
      ],
      "source": [
        "display(f'3 населенных пункта с самой высокой стоимостью жилья:', top_10_city.sort_values(by='mean', ascending=False).head(3))\n",
        "display(f'3 населенных пункта с самой низкой стоимостью жилья:', top_10_city.sort_values(by='mean', ascending=False).tail(3))"
      ]
    },
    {
      "cell_type": "markdown",
      "metadata": {
        "id": "Fuv-leHFBJvy"
      },
      "source": [
        "**Вывод**:\n",
        " * Самая высокая стоимость жилья в городе Санкт-Петербург (114849 рублей за кв.метр), далее следует Пушкин, Кудрово\n",
        " * Самые низкие цены стоимости жилья в Гатчине, Всеволожске, Выборге(58141 рублей за кв.метр)"
      ]
    },
    {
      "cell_type": "markdown",
      "metadata": {
        "id": "fOlJoFC0BJvy"
      },
      "source": [
        "### Изучим предложения квартир"
      ]
    },
    {
      "cell_type": "markdown",
      "metadata": {
        "id": "r9uOaVauBJvy"
      },
      "source": [
        "#### Выделим квартиры в Санкт-Петербурге, выясним, какая область входит в центр"
      ]
    },
    {
      "cell_type": "code",
      "execution_count": null,
      "metadata": {
        "scrolled": true,
        "id": "QZ14tImcBJvy",
        "outputId": "45c4f778-489c-4ccd-ac9a-28caee819d7d"
      },
      "outputs": [
        {
          "data": {
            "image/png": "[encoded data removed]",
            "text/plain": [
              "<Figure size 1080x360 with 1 Axes>"
            ]
          },
          "metadata": {
            "needs_background": "light"
          },
          "output_type": "display_data"
        }
      ],
      "source": [
        "piter_center = df.query('locality_name_normalized == \"санкт-петербург\"').pivot_table(index='cityCenters_nearest_km', values='price_sq_m')\n",
        "ax = piter_center.plot(grid=True, style='o-', figsize=(15, 5))\n",
        "plt.show()"
      ]
    },
    {
      "cell_type": "markdown",
      "metadata": {
        "id": "PstP0PaZBJvz"
      },
      "source": [
        "**Вывод**:\n",
        " * Серьезный спад в цене за квадратный метр наблюдаем начиная с 8 км от нулевого километра. Будем считать область входящую в центр Санкт-Петербурга равную 8 километрам."
      ]
    },
    {
      "cell_type": "markdown",
      "metadata": {
        "id": "NALw9SXtBJvz"
      },
      "source": [
        "#### Выделим сегмент квартир в центре"
      ]
    },
    {
      "cell_type": "markdown",
      "metadata": {
        "id": "SUe2Da0BBJvz"
      },
      "source": [
        "Проанализируем эту территорию и изучим следующие параметры: площадь, цена, число комнат, высота потолков.  \n",
        "Построим диаграмму распределения предложений квартир по общей площади."
      ]
    },
    {
      "cell_type": "code",
      "execution_count": null,
      "metadata": {
        "scrolled": true,
        "id": "AQj0pxP0BJvz",
        "outputId": "c044272d-bd5c-4ee7-8951-29aef45d73ee"
      },
      "outputs": [
        {
          "data": {
            "image/png": "[encoded data removed]",
            "text/plain": [
              "<Figure size 432x288 with 1 Axes>"
            ]
          },
          "metadata": {
            "needs_background": "light"
          },
          "output_type": "display_data"
        }
      ],
      "source": [
        "piter_center_452 = df.query('locality_name_normalized == \"санкт-петербург\" and cityCenters_nearest_km <= 8')\n",
        "piter_center_452 = piter_center_452[['total_area', 'last_price', 'rooms', 'ceiling_height']]\n",
        "\n",
        "def draw_hist_piter_center_452(col, xmin=0, xmax=9):\n",
        "    piter_center_452[col].hist(bins=50, range=(xmin,xmax))\n",
        "\n",
        "draw_hist_piter_center_452('total_area', xmin=20, xmax=120)"
      ]
    },
    {
      "cell_type": "markdown",
      "metadata": {
        "id": "UefJ2_HBBJv0"
      },
      "source": [
        "Построим диаграмму распределения предложений квартир по цене."
      ]
    },
    {
      "cell_type": "code",
      "execution_count": null,
      "metadata": {
        "scrolled": true,
        "id": "0RA2Uh9IBJv0",
        "outputId": "57f2048f-ea03-4a41-fea0-440d5105c3d8"
      },
      "outputs": [
        {
          "data": {
            "image/png": "[encoded data removed]",
            "text/plain": [
              "<Figure size 432x288 with 1 Axes>"
            ]
          },
          "metadata": {
            "needs_background": "light"
          },
          "output_type": "display_data"
        }
      ],
      "source": [
        "draw_hist_piter_center_452('last_price', xmax=50000000)"
      ]
    },
    {
      "cell_type": "markdown",
      "metadata": {
        "id": "Lt3Dm0gmBJv0"
      },
      "source": [
        "Построим диаграмму распределения предложений квартир по количеству комнат."
      ]
    },
    {
      "cell_type": "code",
      "execution_count": null,
      "metadata": {
        "id": "GMRJUPb_BJv0",
        "outputId": "fada28d8-668f-46b4-c487-b723bce351d6"
      },
      "outputs": [
        {
          "data": {
            "image/png": "[encoded data removed]",
            "text/plain": [
              "<Figure size 432x288 with 1 Axes>"
            ]
          },
          "metadata": {
            "needs_background": "light"
          },
          "output_type": "display_data"
        }
      ],
      "source": [
        "draw_hist_piter_center_452('rooms')"
      ]
    },
    {
      "cell_type": "markdown",
      "metadata": {
        "id": "YjNG10v4BJv0"
      },
      "source": [
        "Построим диаграмму распределения предложений квартир по высоте потолков."
      ]
    },
    {
      "cell_type": "code",
      "execution_count": null,
      "metadata": {
        "scrolled": true,
        "id": "9Wx0cHhhBJv1",
        "outputId": "caf32275-c9e9-4ab1-c835-9b0fe71436b2"
      },
      "outputs": [
        {
          "data": {
            "image/png": "[encoded data removed]",
            "text/plain": [
              "<Figure size 432x288 with 1 Axes>"
            ]
          },
          "metadata": {
            "needs_background": "light"
          },
          "output_type": "display_data"
        }
      ],
      "source": [
        "draw_hist_piter_center_452('ceiling_height', xmin=2.3, xmax=4)"
      ]
    },
    {
      "cell_type": "markdown",
      "metadata": {
        "id": "wb-01d9ABJv1"
      },
      "source": [
        "**Выводы**:\n",
        " * Средние значения для квартиры в центре Санкт-Петербурга получаются такие:\n",
        "   * Общая площадь квартиры от 60 до 70 кв.метров\n",
        "   * Цена на квартиру в большинстве своем от 7 до 10 млн.рублей\n",
        "   * В центре квартире преимущественно 2-4 комнатные\n",
        "   * Высота потолков от 2.8 до 3.2 метров"
      ]
    },
    {
      "cell_type": "markdown",
      "metadata": {
        "id": "0nTZsPiCBJv1"
      },
      "source": [
        "#### Определим, влияет ли общая площадь, число комнат, удаленность от центра на стоимость квартиры."
      ]
    },
    {
      "cell_type": "code",
      "execution_count": null,
      "metadata": {
        "id": "wfo-dsRYBJv2",
        "outputId": "64546288-97a5-4d3d-a46b-23b77975adcf"
      },
      "outputs": [
        {
          "data": {
            "text/html": [
              "<div>\n",
              "<style scoped>\n",
              "    .dataframe tbody tr th:only-of-type {\n",
              "        vertical-align: middle;\n",
              "    }\n",
              "\n",
              "    .dataframe tbody tr th {\n",
              "        vertical-align: top;\n",
              "    }\n",
              "\n",
              "    .dataframe thead th {\n",
              "        text-align: right;\n",
              "    }\n",
              "</style>\n",
              "<table border=\"1\" class=\"dataframe\">\n",
              "  <thead>\n",
              "    <tr style=\"text-align: right;\">\n",
              "      <th></th>\n",
              "      <th>price_sq_m</th>\n",
              "      <th>total_area</th>\n",
              "      <th>rooms</th>\n",
              "      <th>cityCenters_nearest_km</th>\n",
              "    </tr>\n",
              "  </thead>\n",
              "  <tbody>\n",
              "    <tr>\n",
              "      <td>price_sq_m</td>\n",
              "      <td>1.000000</td>\n",
              "      <td>0.253867</td>\n",
              "      <td>0.012628</td>\n",
              "      <td>-0.065010</td>\n",
              "    </tr>\n",
              "    <tr>\n",
              "      <td>total_area</td>\n",
              "      <td>0.253867</td>\n",
              "      <td>1.000000</td>\n",
              "      <td>0.743004</td>\n",
              "      <td>-0.132008</td>\n",
              "    </tr>\n",
              "    <tr>\n",
              "      <td>rooms</td>\n",
              "      <td>0.012628</td>\n",
              "      <td>0.743004</td>\n",
              "      <td>1.000000</td>\n",
              "      <td>-0.196321</td>\n",
              "    </tr>\n",
              "    <tr>\n",
              "      <td>cityCenters_nearest_km</td>\n",
              "      <td>-0.065010</td>\n",
              "      <td>-0.132008</td>\n",
              "      <td>-0.196321</td>\n",
              "      <td>1.000000</td>\n",
              "    </tr>\n",
              "  </tbody>\n",
              "</table>\n",
              "</div>"
            ],
            "text/plain": [
              "                        price_sq_m  total_area     rooms  \\\n",
              "price_sq_m                1.000000    0.253867  0.012628   \n",
              "total_area                0.253867    1.000000  0.743004   \n",
              "rooms                     0.012628    0.743004  1.000000   \n",
              "cityCenters_nearest_km   -0.065010   -0.132008 -0.196321   \n",
              "\n",
              "                        cityCenters_nearest_km  \n",
              "price_sq_m                           -0.065010  \n",
              "total_area                           -0.132008  \n",
              "rooms                                -0.196321  \n",
              "cityCenters_nearest_km                1.000000  "
            ]
          },
          "execution_count": 45,
          "metadata": {},
          "output_type": "execute_result"
        },
        {
          "data": {
            "image/png": "[encoded data removed]",
            "text/plain": [
              "<Figure size 864x864 with 16 Axes>"
            ]
          },
          "metadata": {
            "needs_background": "light"
          },
          "output_type": "display_data"
        }
      ],
      "source": [
        "piter_center_453 = df.query('locality_name_normalized == \"санкт-петербург\" and cityCenters_nearest_km <= 8')\n",
        "piter_center_453 = piter_center_453[['price_sq_m', 'total_area', 'rooms', 'cityCenters_nearest_km']]\n",
        "pd.plotting.scatter_matrix(piter_center_453, figsize=(12, 12))\n",
        "piter_center_453.corr()"
      ]
    },
    {
      "cell_type": "markdown",
      "metadata": {
        "id": "dKjQsA9vBJv2"
      },
      "source": [
        "**Вывод**:\n",
        " * В центре Санкт-Петербурга цена кв.метра практически не зависит от общей площади квартиры\n",
        " * Логично было бы предположить что цена будет сильно зависеть от удаленности от центра, но в исследуемом примере в 8 километров от нулевого километра - цена зависит мало, корреляция Пирсона -0.06\n",
        " * Количество комнат так же мало влияет на цену (0.01)\n",
        ""
      ]
    },
    {
      "cell_type": "markdown",
      "metadata": {
        "id": "uGT6WwvzBJv2"
      },
      "source": [
        "#### Определим влияниет ли этаж на стоимость квартиры"
      ]
    },
    {
      "cell_type": "markdown",
      "metadata": {
        "id": "MVC2DkXpBJv3"
      },
      "source": [
        "Вычислим среднюю цену в каждой категории, построим зависимость цены от того, на каком этаже располагалась квартира (первом, последнем, другом)"
      ]
    },
    {
      "cell_type": "code",
      "execution_count": null,
      "metadata": {
        "scrolled": true,
        "id": "PBKPb-FNBJv3",
        "outputId": "a1d7be93-0749-48c0-9039-cde5f8715b69"
      },
      "outputs": [
        {
          "data": {
            "text/plain": [
              "<matplotlib.axes._subplots.AxesSubplot at 0x7fcdcc7b1350>"
            ]
          },
          "execution_count": 46,
          "metadata": {},
          "output_type": "execute_result"
        },
        {
          "data": {
            "image/png": "[encoded data removed]",
            "text/plain": [
              "<Figure size 1080x288 with 1 Axes>"
            ]
          },
          "metadata": {
            "needs_background": "light"
          },
          "output_type": "display_data"
        }
      ],
      "source": [
        "piter_center_454 = df.query('locality_name_normalized == \"санкт-петербург\" and cityCenters_nearest_km <= 8')\n",
        "piter_center_454 = piter_center_454[['floor_cat', 'last_price', 'cityCenters_nearest_km']]\n",
        "\n",
        "cat_fl_mean = piter_center_454.groupby('floor_cat')['last_price'].mean()\n",
        "cat_fl_mean.plot(x=cat_fl_mean.index, y=cat_fl_mean.values, grid=True, style='o-', figsize=(15, 4))"
      ]
    },
    {
      "cell_type": "markdown",
      "metadata": {
        "id": "03hE3xv_BJv3"
      },
      "source": [
        "Вывод:\n",
        " - Связь между этажем и ценой квартиры не линейная\n",
        " - Квартиры с первым этажем в объявлениях стоят меньше других, можно сделать вывод что цену опускают чтобы квартира продалась, следовательно первый этаж меньше всего популярен у покупателей\n",
        " - Цена выше на квартиры не на первом этаже (другой, последний этажи)"
      ]
    },
    {
      "cell_type": "markdown",
      "metadata": {
        "id": "awAxMVubBJv3"
      },
      "source": [
        "#### Определим как влияниет на стоимость дата размещения объявления"
      ]
    },
    {
      "cell_type": "markdown",
      "metadata": {
        "scrolled": true,
        "id": "Mvc0-WZrBJv3"
      },
      "source": [
        "Зависимость цены квартиры от дня недели, месяца и года размещения объявления."
      ]
    },
    {
      "cell_type": "code",
      "execution_count": null,
      "metadata": {
        "id": "G-IUjrvKBJv4",
        "outputId": "76398702-4703-4bdf-9a4a-eb770fcce4f5"
      },
      "outputs": [
        {
          "data": {
            "image/png": "[encoded data removed]",
            "text/plain": [
              "<Figure size 1080x288 with 1 Axes>"
            ]
          },
          "metadata": {
            "needs_background": "light"
          },
          "output_type": "display_data"
        },
        {
          "data": {
            "image/png": "[encoded data removed]",
            "text/plain": [
              "<Figure size 1080x288 with 1 Axes>"
            ]
          },
          "metadata": {
            "needs_background": "light"
          },
          "output_type": "display_data"
        },
        {
          "data": {
            "image/png": "[encoded data removed]",
            "text/plain": [
              "<Figure size 1080x288 with 1 Axes>"
            ]
          },
          "metadata": {
            "needs_background": "light"
          },
          "output_type": "display_data"
        }
      ],
      "source": [
        "piter_center_455 = df.query('locality_name_normalized == \"санкт-петербург\" and cityCenters_nearest_km <= 8')\n",
        "piter_center_455 = piter_center_455[['weekday_exposition', 'month_exposition', 'year_exposition', 'last_price', 'cityCenters_nearest_km']]\n",
        "\n",
        "day_month_year = ['weekday_exposition', 'month_exposition', 'year_exposition']\n",
        "\n",
        "for name in day_month_year:\n",
        "    piter_center_455.pivot_table(index=name , values='last_price', aggfunc='median').plot(grid=True, figsize=(15, 4))"
      ]
    },
    {
      "cell_type": "markdown",
      "metadata": {
        "id": "rn3WPkylBJv4"
      },
      "source": [
        "**Вывод**:\n",
        " * Связи между ценой квартиры и датой(днем недели, месяцем, годом) не линейные.\n",
        "   \n",
        "Сравнивая значения квартир в центре Санкт-Петербурга со среднестатистическими квартирами по всей таблице, можно сказать что в центре Санкт-Петербурга:\n",
        " * Общая площадь квартиры в среднем на 20 метров больше\n",
        " * Стоимость квартиры в 2-3 раза дороже всех объявлений (на 7-9 млн.рублей)\n",
        " * Количество комнат на 1 больше (2-4 комнаты в центре)\n",
        " * В центре высота потолков в квартирах больше на 30 см"
      ]
    },
    {
      "cell_type": "markdown",
      "metadata": {
        "id": "rzyEW2TuBJv5"
      },
      "source": [
        "## Общий вывод"
      ]
    },
    {
      "cell_type": "markdown",
      "metadata": {
        "id": "WPepGwYvBJv5"
      },
      "source": [
        "Согласно заданию на этот проект, исследованием было научиться определять рыночную стоимость объектов недвижимости с целью установления параметров, позволяющих построить автоматизированную систему для отслеживания аномалий и мошеннических действий.  \n",
        "\n",
        "\n",
        "Нами были изучены выгруженные из базы данных объявления о продаже квартир по Санкт-Петербургу и Ленинградской области. Данные в таблице частично были пропущены, частично содержали выбросы, но в целом, обработав эти данные, удалось построить исследования закономерности стоимости квартир от таких параметров как общая площадь квартир по всей базе данных Санкт-Петербурга и Ленинградского района, зависомость цены от количества комнат в квартире, от того на каком этаже располагается квартира, удаленности от центра, протестированы гипотезы зависомости стоимости квартир от даты размещения: дня, месяца, года.\n",
        "\n",
        "\n",
        "Составлен список из 10 населенных пунктов с наибольшим числом объявлений.\n",
        " * В топ-10 населенных пунктов по числу объявлений вошли: `Санкт-Петербург (15721 объявлений), Мурино, Кудрово, Шушары, Всеволожск, Пушкин, Колпино, Парголово, Гатчина, Выборг`.\n",
        "\n",
        "Посчитали и определили среднюю цену квадратного метра в этих районах:\n",
        " * Первое место: `Санкт-Петербург\t114849 рублей за метр квдаратный`\n",
        " * На 10-м месте: `Выборг\t58141 рублей за метр квдаратный`\n",
        "\n",
        "\n",
        "Еще одним исследованием было выявить радиус центра города Санкт-Петербург, посчитать среднюю цену для каждого километра.\n",
        " * Выдвинута гипотеза, что `8 километровая область входит в центр`, далее с этим значением велись рассчеты со следующими исследованиями.\n",
        "\n",
        "\n",
        "Проанализированы такие параметры зависимости стоимости квартир в центре Санкт-Петербурга, как: зависимость от площади, удаленности от центра, числа комнат.\n",
        " * `В центре Санкт-Петербурга цена кв.метра зависит в большей степени от общей площади квартиры`\n",
        " * `Удаленности от центра мало коррелирует со стоимостью квартиры` (8 км и так маленькое расстояние, этим ожно объяснить слабую зависимость)\n",
        " * `Количество комнат так же мало влияет на цену`\n",
        " * `Стоимость квартиры в центре Санкт-Петербурга мало зависит от этажа`\n",
        " * `Влияние даты размещения объявления (день недели, месяц и год) на стоимость квартиры в центре Санкт-Петербурга слабая`\n",
        "\n",
        "\n",
        "Выдвинутые и доказанные гипотезы помогут в дальнейшем с отслеживанием аномалий и противодействием мошеннической деятельностьи.\n"
      ]
    }
  ],
  "metadata": {
    "ExecuteTimeLog": [
      {
        "duration": 1461,
        "start_time": "2022-02-16T19:26:19.913Z"
      },
      {
        "duration": 93,
        "start_time": "2022-02-16T19:26:27.415Z"
      },
      {
        "duration": 218,
        "start_time": "2022-02-16T20:50:42.676Z"
      },
      {
        "duration": 127,
        "start_time": "2022-02-16T20:51:37.206Z"
      },
      {
        "duration": 101,
        "start_time": "2022-02-16T20:51:41.992Z"
      },
      {
        "duration": 99,
        "start_time": "2022-02-16T20:51:43.590Z"
      },
      {
        "duration": 105,
        "start_time": "2022-02-16T20:51:45.058Z"
      },
      {
        "duration": 438,
        "start_time": "2022-02-16T20:57:20.728Z"
      },
      {
        "duration": 234,
        "start_time": "2022-02-16T20:57:51.891Z"
      },
      {
        "duration": 470,
        "start_time": "2022-02-16T20:58:05.890Z"
      },
      {
        "duration": 450,
        "start_time": "2022-02-16T20:58:22.667Z"
      },
      {
        "duration": 113,
        "start_time": "2022-02-16T20:59:07.197Z"
      },
      {
        "duration": 91,
        "start_time": "2022-02-16T20:59:19.445Z"
      },
      {
        "duration": 724,
        "start_time": "2022-02-16T21:00:59.056Z"
      },
      {
        "duration": 454,
        "start_time": "2022-02-16T21:01:12.857Z"
      },
      {
        "duration": 92,
        "start_time": "2022-02-16T21:11:36.885Z"
      },
      {
        "duration": 38,
        "start_time": "2022-02-16T21:15:58.630Z"
      },
      {
        "duration": 437,
        "start_time": "2022-02-17T13:48:31.636Z"
      },
      {
        "duration": 1617,
        "start_time": "2022-02-17T13:48:46.783Z"
      },
      {
        "duration": 154,
        "start_time": "2022-02-17T13:48:48.402Z"
      },
      {
        "duration": 494,
        "start_time": "2022-02-17T13:48:48.560Z"
      },
      {
        "duration": 97,
        "start_time": "2022-02-17T13:48:49.056Z"
      },
      {
        "duration": 35,
        "start_time": "2022-02-17T13:48:49.156Z"
      },
      {
        "duration": 35,
        "start_time": "2022-02-17T13:48:49.194Z"
      },
      {
        "duration": 3,
        "start_time": "2022-02-17T13:49:38.133Z"
      },
      {
        "duration": 5,
        "start_time": "2022-02-17T13:53:32.869Z"
      },
      {
        "duration": 4,
        "start_time": "2022-02-17T13:57:02.900Z"
      },
      {
        "duration": 8,
        "start_time": "2022-02-17T13:57:33.748Z"
      },
      {
        "duration": 11,
        "start_time": "2022-02-17T13:59:50.914Z"
      },
      {
        "duration": 6,
        "start_time": "2022-02-17T14:09:08.051Z"
      },
      {
        "duration": 5,
        "start_time": "2022-02-17T14:09:45.877Z"
      },
      {
        "duration": 89,
        "start_time": "2022-02-17T14:17:11.236Z"
      },
      {
        "duration": 9,
        "start_time": "2022-02-17T14:21:03.468Z"
      },
      {
        "duration": 864,
        "start_time": "2022-02-17T17:04:20.341Z"
      },
      {
        "duration": 684,
        "start_time": "2022-02-17T17:04:45.733Z"
      },
      {
        "duration": 101,
        "start_time": "2022-02-17T17:04:59.913Z"
      },
      {
        "duration": 113,
        "start_time": "2022-02-17T17:05:00.017Z"
      },
      {
        "duration": 458,
        "start_time": "2022-02-17T17:05:00.134Z"
      },
      {
        "duration": 102,
        "start_time": "2022-02-17T17:05:00.595Z"
      },
      {
        "duration": 38,
        "start_time": "2022-02-17T17:05:00.711Z"
      },
      {
        "duration": 43,
        "start_time": "2022-02-17T17:05:00.752Z"
      },
      {
        "duration": 14,
        "start_time": "2022-02-17T17:05:00.799Z"
      },
      {
        "duration": 19,
        "start_time": "2022-02-17T17:05:00.816Z"
      },
      {
        "duration": 15,
        "start_time": "2022-02-17T17:05:00.838Z"
      },
      {
        "duration": 116,
        "start_time": "2022-02-17T17:05:00.855Z"
      },
      {
        "duration": 9,
        "start_time": "2022-02-17T17:05:00.974Z"
      },
      {
        "duration": 10730,
        "start_time": "2022-02-17T17:05:00.985Z"
      },
      {
        "duration": 179,
        "start_time": "2022-02-17T17:08:03.156Z"
      },
      {
        "duration": 819,
        "start_time": "2022-02-17T17:13:22.654Z"
      },
      {
        "duration": 327,
        "start_time": "2022-02-17T17:14:32.305Z"
      },
      {
        "duration": 664,
        "start_time": "2022-02-17T17:43:40.516Z"
      },
      {
        "duration": 320,
        "start_time": "2022-02-17T17:44:52.598Z"
      },
      {
        "duration": 670,
        "start_time": "2022-02-17T17:50:05.544Z"
      },
      {
        "duration": 349,
        "start_time": "2022-02-17T17:50:54.889Z"
      },
      {
        "duration": 684,
        "start_time": "2022-02-17T17:52:27.692Z"
      },
      {
        "duration": 391,
        "start_time": "2022-02-17T17:52:37.988Z"
      },
      {
        "duration": 754,
        "start_time": "2022-02-17T17:53:51.934Z"
      },
      {
        "duration": 493,
        "start_time": "2022-02-17T17:53:55.975Z"
      },
      {
        "duration": 156,
        "start_time": "2022-02-17T18:20:26.614Z"
      },
      {
        "duration": 203,
        "start_time": "2022-02-17T18:20:42.237Z"
      },
      {
        "duration": 187,
        "start_time": "2022-02-17T18:42:33.577Z"
      },
      {
        "duration": 194,
        "start_time": "2022-02-17T18:45:19.638Z"
      },
      {
        "duration": 119,
        "start_time": "2022-02-17T18:46:49.913Z"
      },
      {
        "duration": 236,
        "start_time": "2022-02-17T18:46:54.841Z"
      },
      {
        "duration": 8,
        "start_time": "2022-02-17T18:49:51.951Z"
      },
      {
        "duration": 359,
        "start_time": "2022-02-17T18:50:14.304Z"
      },
      {
        "duration": 9,
        "start_time": "2022-02-17T18:51:15.594Z"
      },
      {
        "duration": 8,
        "start_time": "2022-02-17T18:52:06.532Z"
      },
      {
        "duration": 31,
        "start_time": "2022-02-17T18:52:18.236Z"
      },
      {
        "duration": 227,
        "start_time": "2022-02-17T18:52:47.084Z"
      },
      {
        "duration": 44,
        "start_time": "2022-02-17T18:53:16.478Z"
      },
      {
        "duration": 16,
        "start_time": "2022-02-17T18:56:10.372Z"
      },
      {
        "duration": 29,
        "start_time": "2022-02-17T19:03:59.587Z"
      },
      {
        "duration": 420,
        "start_time": "2022-02-17T19:06:54.425Z"
      },
      {
        "duration": 1664,
        "start_time": "2022-02-17T19:07:03.506Z"
      },
      {
        "duration": 469,
        "start_time": "2022-02-17T19:09:09.562Z"
      },
      {
        "duration": 117,
        "start_time": "2022-02-17T19:09:10.034Z"
      },
      {
        "duration": 418,
        "start_time": "2022-02-17T19:09:10.155Z"
      },
      {
        "duration": 87,
        "start_time": "2022-02-17T19:09:10.577Z"
      },
      {
        "duration": 51,
        "start_time": "2022-02-17T19:09:10.667Z"
      },
      {
        "duration": 24,
        "start_time": "2022-02-17T19:09:10.721Z"
      },
      {
        "duration": 6,
        "start_time": "2022-02-17T19:09:10.747Z"
      },
      {
        "duration": 7,
        "start_time": "2022-02-17T19:09:10.758Z"
      },
      {
        "duration": 51,
        "start_time": "2022-02-17T19:09:10.768Z"
      },
      {
        "duration": 109,
        "start_time": "2022-02-17T19:09:10.821Z"
      },
      {
        "duration": 27,
        "start_time": "2022-02-17T19:09:10.932Z"
      },
      {
        "duration": 6,
        "start_time": "2022-02-17T19:09:10.962Z"
      },
      {
        "duration": 242,
        "start_time": "2022-02-17T19:09:10.971Z"
      },
      {
        "duration": 46,
        "start_time": "2022-02-17T19:09:11.215Z"
      },
      {
        "duration": 6,
        "start_time": "2022-02-17T19:09:11.263Z"
      },
      {
        "duration": 46,
        "start_time": "2022-02-17T19:09:11.271Z"
      },
      {
        "duration": 815,
        "start_time": "2022-02-17T19:09:11.320Z"
      },
      {
        "duration": 823,
        "start_time": "2022-02-17T19:10:00.090Z"
      },
      {
        "duration": 7,
        "start_time": "2022-02-17T20:31:56.316Z"
      },
      {
        "duration": 36,
        "start_time": "2022-02-17T20:32:16.933Z"
      },
      {
        "duration": 39,
        "start_time": "2022-02-17T20:32:25.286Z"
      },
      {
        "duration": 12,
        "start_time": "2022-02-17T21:03:21.611Z"
      },
      {
        "duration": 11,
        "start_time": "2022-02-17T21:04:03.716Z"
      },
      {
        "duration": 129,
        "start_time": "2022-02-17T21:04:38.126Z"
      },
      {
        "duration": 2219,
        "start_time": "2022-02-17T21:04:44.966Z"
      },
      {
        "duration": 12,
        "start_time": "2022-02-17T21:07:29.579Z"
      },
      {
        "duration": 2700,
        "start_time": "2022-02-17T21:08:50.031Z"
      },
      {
        "duration": 2336,
        "start_time": "2022-02-17T21:11:17.774Z"
      },
      {
        "duration": 2527,
        "start_time": "2022-02-17T21:11:32.332Z"
      },
      {
        "duration": 2181,
        "start_time": "2022-02-17T21:12:12.613Z"
      },
      {
        "duration": 2403,
        "start_time": "2022-02-17T21:12:41.342Z"
      },
      {
        "duration": 1849,
        "start_time": "2022-02-17T21:13:57.937Z"
      },
      {
        "duration": 2241,
        "start_time": "2022-02-17T21:14:31.714Z"
      },
      {
        "duration": 1904,
        "start_time": "2022-02-17T21:16:12.861Z"
      },
      {
        "duration": 1974,
        "start_time": "2022-02-17T21:19:05.420Z"
      },
      {
        "duration": 1867,
        "start_time": "2022-02-17T21:19:27.580Z"
      },
      {
        "duration": 2009,
        "start_time": "2022-02-17T21:19:49.493Z"
      },
      {
        "duration": 15,
        "start_time": "2022-02-17T21:20:43.342Z"
      },
      {
        "duration": 1517,
        "start_time": "2022-02-17T21:31:21.220Z"
      },
      {
        "duration": 549,
        "start_time": "2022-02-17T21:44:32.917Z"
      },
      {
        "duration": 23,
        "start_time": "2022-02-17T21:46:49.066Z"
      },
      {
        "duration": 569,
        "start_time": "2022-02-17T22:05:16.103Z"
      },
      {
        "duration": 380,
        "start_time": "2022-02-17T22:30:05.902Z"
      },
      {
        "duration": 8043,
        "start_time": "2022-02-17T22:30:48.456Z"
      },
      {
        "duration": 348,
        "start_time": "2022-02-17T23:14:52.671Z"
      },
      {
        "duration": 1409,
        "start_time": "2022-02-17T23:14:59.854Z"
      },
      {
        "duration": 2392,
        "start_time": "2022-02-17T23:15:41.912Z"
      },
      {
        "duration": 4294,
        "start_time": "2022-02-17T23:16:22.418Z"
      },
      {
        "duration": 4271,
        "start_time": "2022-02-17T23:18:31.215Z"
      },
      {
        "duration": 3225,
        "start_time": "2022-02-17T23:22:12.950Z"
      },
      {
        "duration": 893,
        "start_time": "2022-02-17T23:23:38.152Z"
      },
      {
        "duration": 3298,
        "start_time": "2022-02-17T23:23:47.072Z"
      },
      {
        "duration": 325,
        "start_time": "2022-02-17T23:25:33.260Z"
      },
      {
        "duration": 422,
        "start_time": "2022-02-17T23:26:07.060Z"
      },
      {
        "duration": 353,
        "start_time": "2022-02-17T23:26:14.172Z"
      },
      {
        "duration": 322,
        "start_time": "2022-02-17T23:26:24.861Z"
      },
      {
        "duration": 329,
        "start_time": "2022-02-17T23:27:07.943Z"
      },
      {
        "duration": 332,
        "start_time": "2022-02-17T23:27:12.994Z"
      },
      {
        "duration": 349,
        "start_time": "2022-02-17T23:27:18.615Z"
      },
      {
        "duration": 332,
        "start_time": "2022-02-17T23:27:35.648Z"
      },
      {
        "duration": 334,
        "start_time": "2022-02-17T23:27:55.825Z"
      },
      {
        "duration": 334,
        "start_time": "2022-02-17T23:28:10.561Z"
      },
      {
        "duration": 338,
        "start_time": "2022-02-17T23:29:00.674Z"
      },
      {
        "duration": 293,
        "start_time": "2022-02-17T23:36:18.721Z"
      },
      {
        "duration": 241,
        "start_time": "2022-02-17T23:36:36.578Z"
      },
      {
        "duration": 340,
        "start_time": "2022-02-17T23:36:51.802Z"
      },
      {
        "duration": 370,
        "start_time": "2022-02-17T23:42:43.022Z"
      },
      {
        "duration": 254,
        "start_time": "2022-02-17T23:43:26.279Z"
      },
      {
        "duration": 112,
        "start_time": "2022-02-17T23:46:16.988Z"
      },
      {
        "duration": 110,
        "start_time": "2022-02-17T23:46:17.103Z"
      },
      {
        "duration": 428,
        "start_time": "2022-02-17T23:46:17.216Z"
      },
      {
        "duration": 96,
        "start_time": "2022-02-17T23:46:17.646Z"
      },
      {
        "duration": 35,
        "start_time": "2022-02-17T23:46:17.744Z"
      },
      {
        "duration": 41,
        "start_time": "2022-02-17T23:46:17.782Z"
      },
      {
        "duration": 5,
        "start_time": "2022-02-17T23:46:17.825Z"
      },
      {
        "duration": 7,
        "start_time": "2022-02-17T23:46:17.834Z"
      },
      {
        "duration": 11,
        "start_time": "2022-02-17T23:46:17.844Z"
      },
      {
        "duration": 136,
        "start_time": "2022-02-17T23:46:17.857Z"
      },
      {
        "duration": 40,
        "start_time": "2022-02-17T23:46:17.995Z"
      },
      {
        "duration": 9,
        "start_time": "2022-02-17T23:46:18.038Z"
      },
      {
        "duration": 362,
        "start_time": "2022-02-17T23:46:18.050Z"
      },
      {
        "duration": 65,
        "start_time": "2022-02-17T23:46:18.415Z"
      },
      {
        "duration": 6,
        "start_time": "2022-02-17T23:46:18.483Z"
      },
      {
        "duration": 21,
        "start_time": "2022-02-17T23:46:18.512Z"
      },
      {
        "duration": 968,
        "start_time": "2022-02-17T23:46:18.535Z"
      },
      {
        "duration": 6,
        "start_time": "2022-02-17T23:46:19.510Z"
      },
      {
        "duration": 6,
        "start_time": "2022-02-17T23:46:19.519Z"
      },
      {
        "duration": 35,
        "start_time": "2022-02-17T23:46:19.528Z"
      },
      {
        "duration": 45,
        "start_time": "2022-02-17T23:46:19.565Z"
      },
      {
        "duration": 2143,
        "start_time": "2022-02-17T23:46:19.612Z"
      },
      {
        "duration": 1466,
        "start_time": "2022-02-17T23:46:21.759Z"
      },
      {
        "duration": 723,
        "start_time": "2022-02-17T23:46:23.228Z"
      },
      {
        "duration": 18,
        "start_time": "2022-02-17T23:46:23.954Z"
      },
      {
        "duration": 585,
        "start_time": "2022-02-17T23:46:23.974Z"
      },
      {
        "duration": 7869,
        "start_time": "2022-02-17T23:46:24.562Z"
      },
      {
        "duration": 258,
        "start_time": "2022-02-17T23:46:32.433Z"
      },
      {
        "duration": 247,
        "start_time": "2022-02-17T23:46:49.455Z"
      },
      {
        "duration": 345,
        "start_time": "2022-02-18T15:08:08.313Z"
      },
      {
        "duration": 320,
        "start_time": "2022-02-18T15:08:15.401Z"
      },
      {
        "duration": 1138,
        "start_time": "2022-02-18T15:08:24.593Z"
      },
      {
        "duration": 64,
        "start_time": "2022-02-18T15:08:25.733Z"
      },
      {
        "duration": 242,
        "start_time": "2022-02-18T15:08:25.798Z"
      },
      {
        "duration": 47,
        "start_time": "2022-02-18T15:08:26.042Z"
      },
      {
        "duration": 41,
        "start_time": "2022-02-18T15:08:26.091Z"
      },
      {
        "duration": 14,
        "start_time": "2022-02-18T15:08:26.134Z"
      },
      {
        "duration": 3,
        "start_time": "2022-02-18T15:08:26.150Z"
      },
      {
        "duration": 7,
        "start_time": "2022-02-18T15:08:26.155Z"
      },
      {
        "duration": 7,
        "start_time": "2022-02-18T15:08:26.165Z"
      },
      {
        "duration": 80,
        "start_time": "2022-02-18T15:08:26.174Z"
      },
      {
        "duration": 17,
        "start_time": "2022-02-18T15:08:26.256Z"
      },
      {
        "duration": 4,
        "start_time": "2022-02-18T15:08:26.274Z"
      },
      {
        "duration": 152,
        "start_time": "2022-02-18T15:08:26.280Z"
      },
      {
        "duration": 36,
        "start_time": "2022-02-18T15:08:26.433Z"
      },
      {
        "duration": 5,
        "start_time": "2022-02-18T15:08:26.471Z"
      },
      {
        "duration": 12,
        "start_time": "2022-02-18T15:08:26.478Z"
      },
      {
        "duration": 470,
        "start_time": "2022-02-18T15:08:26.492Z"
      },
      {
        "duration": 4,
        "start_time": "2022-02-18T15:08:26.964Z"
      },
      {
        "duration": 5,
        "start_time": "2022-02-18T15:08:26.970Z"
      },
      {
        "duration": 19,
        "start_time": "2022-02-18T15:08:26.977Z"
      },
      {
        "duration": 12,
        "start_time": "2022-02-18T15:08:26.997Z"
      },
      {
        "duration": 1305,
        "start_time": "2022-02-18T15:08:27.010Z"
      },
      {
        "duration": 795,
        "start_time": "2022-02-18T15:08:28.318Z"
      },
      {
        "duration": 308,
        "start_time": "2022-02-18T15:08:29.115Z"
      },
      {
        "duration": 17,
        "start_time": "2022-02-18T15:08:29.424Z"
      },
      {
        "duration": 313,
        "start_time": "2022-02-18T15:08:29.442Z"
      },
      {
        "duration": 4935,
        "start_time": "2022-02-18T15:08:29.757Z"
      },
      {
        "duration": 352,
        "start_time": "2022-02-18T15:08:34.693Z"
      },
      {
        "duration": 4114,
        "start_time": "2022-02-18T15:08:30.933Z"
      },
      {
        "duration": 363,
        "start_time": "2022-02-18T15:15:51.040Z"
      },
      {
        "duration": 331,
        "start_time": "2022-02-18T15:16:24.969Z"
      },
      {
        "duration": 1163,
        "start_time": "2022-02-18T15:16:34.768Z"
      },
      {
        "duration": 65,
        "start_time": "2022-02-18T15:16:35.933Z"
      },
      {
        "duration": 257,
        "start_time": "2022-02-18T15:16:36.000Z"
      },
      {
        "duration": 48,
        "start_time": "2022-02-18T15:16:36.260Z"
      },
      {
        "duration": 33,
        "start_time": "2022-02-18T15:16:36.310Z"
      },
      {
        "duration": 19,
        "start_time": "2022-02-18T15:16:36.345Z"
      },
      {
        "duration": 14,
        "start_time": "2022-02-18T15:16:36.366Z"
      },
      {
        "duration": 8,
        "start_time": "2022-02-18T15:16:36.383Z"
      },
      {
        "duration": 8,
        "start_time": "2022-02-18T15:16:36.393Z"
      },
      {
        "duration": 75,
        "start_time": "2022-02-18T15:16:36.402Z"
      },
      {
        "duration": 17,
        "start_time": "2022-02-18T15:16:36.479Z"
      },
      {
        "duration": 5,
        "start_time": "2022-02-18T15:16:36.498Z"
      },
      {
        "duration": 149,
        "start_time": "2022-02-18T15:16:36.504Z"
      },
      {
        "duration": 32,
        "start_time": "2022-02-18T15:16:36.655Z"
      },
      {
        "duration": 6,
        "start_time": "2022-02-18T15:16:36.689Z"
      },
      {
        "duration": 12,
        "start_time": "2022-02-18T15:16:36.697Z"
      },
      {
        "duration": 440,
        "start_time": "2022-02-18T15:16:36.731Z"
      },
      {
        "duration": 5,
        "start_time": "2022-02-18T15:16:37.172Z"
      },
      {
        "duration": 5,
        "start_time": "2022-02-18T15:16:37.178Z"
      },
      {
        "duration": 20,
        "start_time": "2022-02-18T15:16:37.184Z"
      },
      {
        "duration": 27,
        "start_time": "2022-02-18T15:16:37.205Z"
      },
      {
        "duration": 1257,
        "start_time": "2022-02-18T15:16:37.233Z"
      },
      {
        "duration": 830,
        "start_time": "2022-02-18T15:16:38.492Z"
      },
      {
        "duration": 302,
        "start_time": "2022-02-18T15:16:39.324Z"
      },
      {
        "duration": 13,
        "start_time": "2022-02-18T15:16:39.631Z"
      },
      {
        "duration": 304,
        "start_time": "2022-02-18T15:16:39.645Z"
      },
      {
        "duration": 4734,
        "start_time": "2022-02-18T15:16:39.951Z"
      },
      {
        "duration": 352,
        "start_time": "2022-02-18T15:16:44.687Z"
      },
      {
        "duration": 4137,
        "start_time": "2022-02-18T15:16:40.904Z"
      },
      {
        "duration": 320,
        "start_time": "2022-02-18T15:20:56.706Z"
      },
      {
        "duration": 301,
        "start_time": "2022-02-18T15:21:19.243Z"
      },
      {
        "duration": 138,
        "start_time": "2022-02-18T15:21:31.803Z"
      },
      {
        "duration": 140,
        "start_time": "2022-02-18T15:22:08.652Z"
      },
      {
        "duration": 498,
        "start_time": "2022-02-18T15:25:11.153Z"
      },
      {
        "duration": 13,
        "start_time": "2022-02-18T15:32:40.129Z"
      },
      {
        "duration": 13,
        "start_time": "2022-02-18T15:33:17.787Z"
      },
      {
        "duration": 13,
        "start_time": "2022-02-18T15:34:19.732Z"
      },
      {
        "duration": 707,
        "start_time": "2022-02-18T15:35:36.383Z"
      },
      {
        "duration": 1116,
        "start_time": "2022-02-18T15:35:42.079Z"
      },
      {
        "duration": 15,
        "start_time": "2022-02-18T15:35:56.607Z"
      },
      {
        "duration": 14,
        "start_time": "2022-02-18T15:36:04.705Z"
      },
      {
        "duration": 15,
        "start_time": "2022-02-18T15:49:06.194Z"
      },
      {
        "duration": 286,
        "start_time": "2022-02-18T15:51:22.831Z"
      },
      {
        "duration": 7732,
        "start_time": "2022-02-18T15:51:36.375Z"
      },
      {
        "duration": 7667,
        "start_time": "2022-02-18T15:55:54.834Z"
      },
      {
        "duration": 7401,
        "start_time": "2022-02-18T15:56:17.209Z"
      },
      {
        "duration": 7639,
        "start_time": "2022-02-18T15:58:47.270Z"
      },
      {
        "duration": 5,
        "start_time": "2022-02-18T16:00:32.089Z"
      },
      {
        "duration": 9,
        "start_time": "2022-02-18T16:01:20.915Z"
      },
      {
        "duration": 9,
        "start_time": "2022-02-18T16:02:56.637Z"
      },
      {
        "duration": 7598,
        "start_time": "2022-02-18T16:03:37.167Z"
      },
      {
        "duration": 9,
        "start_time": "2022-02-18T16:04:37.090Z"
      },
      {
        "duration": 11,
        "start_time": "2022-02-18T16:05:17.962Z"
      },
      {
        "duration": 12,
        "start_time": "2022-02-18T16:05:44.812Z"
      },
      {
        "duration": 12,
        "start_time": "2022-02-18T16:06:08.076Z"
      },
      {
        "duration": 14,
        "start_time": "2022-02-18T16:06:29.701Z"
      },
      {
        "duration": 368,
        "start_time": "2022-02-18T16:50:33.492Z"
      },
      {
        "duration": 351,
        "start_time": "2022-02-18T16:52:10.376Z"
      },
      {
        "duration": 306,
        "start_time": "2022-02-18T16:54:57.774Z"
      },
      {
        "duration": 11,
        "start_time": "2022-02-18T16:56:51.201Z"
      },
      {
        "duration": 465,
        "start_time": "2022-02-18T16:58:16.820Z"
      },
      {
        "duration": 455,
        "start_time": "2022-02-18T16:59:13.133Z"
      },
      {
        "duration": 781,
        "start_time": "2022-02-18T17:02:45.484Z"
      },
      {
        "duration": 308,
        "start_time": "2022-02-18T17:08:51.321Z"
      },
      {
        "duration": 1525,
        "start_time": "2022-02-18T17:09:00.713Z"
      },
      {
        "duration": 653,
        "start_time": "2022-02-18T18:23:28.700Z"
      },
      {
        "duration": 697,
        "start_time": "2022-02-18T18:23:37.197Z"
      },
      {
        "duration": 99,
        "start_time": "2022-02-18T18:26:36.635Z"
      },
      {
        "duration": 113,
        "start_time": "2022-02-18T18:26:41.875Z"
      },
      {
        "duration": 729,
        "start_time": "2022-02-18T18:27:16.012Z"
      },
      {
        "duration": 201,
        "start_time": "2022-02-18T18:29:55.216Z"
      },
      {
        "duration": 237,
        "start_time": "2022-02-18T18:31:19.085Z"
      },
      {
        "duration": 243,
        "start_time": "2022-02-18T18:31:29.932Z"
      },
      {
        "duration": 227,
        "start_time": "2022-02-18T18:32:23.582Z"
      },
      {
        "duration": 228,
        "start_time": "2022-02-18T19:00:42.215Z"
      },
      {
        "duration": 216,
        "start_time": "2022-02-18T19:01:17.640Z"
      },
      {
        "duration": 9,
        "start_time": "2022-02-18T19:13:22.785Z"
      },
      {
        "duration": 1504,
        "start_time": "2022-02-18T19:13:51.473Z"
      },
      {
        "duration": 14,
        "start_time": "2022-02-18T19:51:22.180Z"
      },
      {
        "duration": 224,
        "start_time": "2022-02-18T19:51:39.787Z"
      },
      {
        "duration": 302,
        "start_time": "2022-02-18T19:52:31.150Z"
      },
      {
        "duration": 410,
        "start_time": "2022-02-18T19:53:11.223Z"
      },
      {
        "duration": 412,
        "start_time": "2022-02-18T19:54:18.266Z"
      },
      {
        "duration": 240,
        "start_time": "2022-02-18T20:10:48.179Z"
      },
      {
        "duration": 310,
        "start_time": "2022-02-18T20:11:40.563Z"
      },
      {
        "duration": 645,
        "start_time": "2022-02-18T20:15:38.646Z"
      },
      {
        "duration": 489,
        "start_time": "2022-02-18T20:15:51.372Z"
      },
      {
        "duration": 95,
        "start_time": "2022-02-18T20:20:37.135Z"
      },
      {
        "duration": 121,
        "start_time": "2022-02-18T20:20:49.659Z"
      },
      {
        "duration": 105,
        "start_time": "2022-02-18T20:20:56.670Z"
      },
      {
        "duration": 541,
        "start_time": "2022-02-18T20:21:20.879Z"
      },
      {
        "duration": 428,
        "start_time": "2022-02-18T20:21:24.783Z"
      },
      {
        "duration": 413,
        "start_time": "2022-02-18T20:21:42.288Z"
      },
      {
        "duration": 426,
        "start_time": "2022-02-18T20:23:12.027Z"
      },
      {
        "duration": 412,
        "start_time": "2022-02-18T20:25:39.424Z"
      },
      {
        "duration": 510,
        "start_time": "2022-02-18T20:27:22.027Z"
      },
      {
        "duration": 385,
        "start_time": "2022-02-18T20:58:00.120Z"
      },
      {
        "duration": 387,
        "start_time": "2022-02-18T20:58:07.312Z"
      },
      {
        "duration": 395,
        "start_time": "2022-02-18T20:58:43.138Z"
      },
      {
        "duration": 397,
        "start_time": "2022-02-18T20:58:50.578Z"
      },
      {
        "duration": 391,
        "start_time": "2022-02-18T20:58:59.363Z"
      },
      {
        "duration": 432,
        "start_time": "2022-02-18T21:00:01.718Z"
      },
      {
        "duration": 292,
        "start_time": "2022-02-18T21:05:27.520Z"
      },
      {
        "duration": 26,
        "start_time": "2022-02-18T21:05:37.848Z"
      },
      {
        "duration": 26,
        "start_time": "2022-02-18T21:23:58.381Z"
      },
      {
        "duration": 26,
        "start_time": "2022-02-18T21:24:07.172Z"
      },
      {
        "duration": 14,
        "start_time": "2022-02-18T21:24:25.461Z"
      },
      {
        "duration": 12,
        "start_time": "2022-02-18T21:26:41.392Z"
      },
      {
        "duration": 9,
        "start_time": "2022-02-18T21:26:47.385Z"
      },
      {
        "duration": 304,
        "start_time": "2022-02-18T21:32:43.981Z"
      },
      {
        "duration": 2465,
        "start_time": "2022-02-18T21:32:51.292Z"
      },
      {
        "duration": 1691,
        "start_time": "2022-02-18T21:37:56.071Z"
      },
      {
        "duration": 1233,
        "start_time": "2022-02-18T21:39:22.833Z"
      },
      {
        "duration": 316,
        "start_time": "2022-02-18T21:41:22.766Z"
      },
      {
        "duration": 330,
        "start_time": "2022-02-18T21:42:05.647Z"
      },
      {
        "duration": 303,
        "start_time": "2022-02-18T21:42:52.520Z"
      },
      {
        "duration": 10160,
        "start_time": "2022-02-18T21:43:19.777Z"
      },
      {
        "duration": 359,
        "start_time": "2022-02-18T21:45:00.806Z"
      },
      {
        "duration": 330,
        "start_time": "2022-02-18T21:45:30.054Z"
      },
      {
        "duration": 922,
        "start_time": "2022-02-18T21:46:10.584Z"
      },
      {
        "duration": 242,
        "start_time": "2022-02-18T22:00:55.996Z"
      },
      {
        "duration": 251,
        "start_time": "2022-02-18T22:01:05.499Z"
      },
      {
        "duration": 355,
        "start_time": "2022-02-18T22:01:46.773Z"
      },
      {
        "duration": 306,
        "start_time": "2022-02-18T22:01:55.884Z"
      },
      {
        "duration": 240,
        "start_time": "2022-02-18T22:02:16.911Z"
      },
      {
        "duration": 228,
        "start_time": "2022-02-18T22:02:58.728Z"
      },
      {
        "duration": 240,
        "start_time": "2022-02-18T22:03:05.536Z"
      },
      {
        "duration": 225,
        "start_time": "2022-02-18T22:03:12.176Z"
      },
      {
        "duration": 243,
        "start_time": "2022-02-18T22:03:18.992Z"
      },
      {
        "duration": 226,
        "start_time": "2022-02-18T22:03:49.577Z"
      },
      {
        "duration": 218,
        "start_time": "2022-02-18T22:03:55.699Z"
      },
      {
        "duration": 231,
        "start_time": "2022-02-18T22:04:02.753Z"
      },
      {
        "duration": 223,
        "start_time": "2022-02-18T22:04:22.394Z"
      },
      {
        "duration": 375,
        "start_time": "2022-02-18T22:04:57.884Z"
      },
      {
        "duration": 219,
        "start_time": "2022-02-18T22:05:01.828Z"
      },
      {
        "duration": 203,
        "start_time": "2022-02-18T22:05:07.196Z"
      },
      {
        "duration": 210,
        "start_time": "2022-02-18T22:05:10.028Z"
      },
      {
        "duration": 214,
        "start_time": "2022-02-18T22:05:14.988Z"
      },
      {
        "duration": 225,
        "start_time": "2022-02-18T22:05:30.196Z"
      },
      {
        "duration": 212,
        "start_time": "2022-02-18T22:05:35.300Z"
      },
      {
        "duration": 304,
        "start_time": "2022-02-18T22:06:08.070Z"
      },
      {
        "duration": 233,
        "start_time": "2022-02-18T22:06:15.366Z"
      },
      {
        "duration": 224,
        "start_time": "2022-02-18T22:06:18.629Z"
      },
      {
        "duration": 216,
        "start_time": "2022-02-18T22:07:13.736Z"
      },
      {
        "duration": 331,
        "start_time": "2022-02-18T22:07:22.393Z"
      },
      {
        "duration": 221,
        "start_time": "2022-02-18T22:07:28.832Z"
      },
      {
        "duration": 222,
        "start_time": "2022-02-18T22:07:42.657Z"
      },
      {
        "duration": 210,
        "start_time": "2022-02-18T22:07:55.798Z"
      },
      {
        "duration": 220,
        "start_time": "2022-02-18T22:08:10.721Z"
      },
      {
        "duration": 208,
        "start_time": "2022-02-18T22:08:15.313Z"
      },
      {
        "duration": 208,
        "start_time": "2022-02-18T22:09:46.205Z"
      },
      {
        "duration": 230,
        "start_time": "2022-02-18T22:10:42.102Z"
      },
      {
        "duration": 233,
        "start_time": "2022-02-18T22:10:45.366Z"
      },
      {
        "duration": 205,
        "start_time": "2022-02-18T22:10:46.015Z"
      },
      {
        "duration": 205,
        "start_time": "2022-02-18T22:10:46.526Z"
      },
      {
        "duration": 331,
        "start_time": "2022-02-18T22:10:47.246Z"
      },
      {
        "duration": 346,
        "start_time": "2022-02-18T22:11:03.943Z"
      },
      {
        "duration": 252,
        "start_time": "2022-02-18T22:11:14.352Z"
      },
      {
        "duration": 266,
        "start_time": "2022-02-18T22:14:06.366Z"
      },
      {
        "duration": 226,
        "start_time": "2022-02-18T22:14:35.135Z"
      },
      {
        "duration": 831,
        "start_time": "2022-02-18T22:15:09.312Z"
      },
      {
        "duration": 1156,
        "start_time": "2022-02-18T22:15:39.296Z"
      },
      {
        "duration": 816,
        "start_time": "2022-02-18T22:15:49.953Z"
      },
      {
        "duration": 794,
        "start_time": "2022-02-18T22:16:02.537Z"
      },
      {
        "duration": 914,
        "start_time": "2022-02-18T22:17:11.123Z"
      },
      {
        "duration": 318,
        "start_time": "2022-02-18T22:46:02.181Z"
      },
      {
        "duration": 7558,
        "start_time": "2022-02-18T22:47:10.070Z"
      },
      {
        "duration": 7303,
        "start_time": "2022-02-18T22:51:20.536Z"
      },
      {
        "duration": 12,
        "start_time": "2022-02-18T22:51:31.896Z"
      },
      {
        "duration": 12,
        "start_time": "2022-02-18T22:52:55.826Z"
      },
      {
        "duration": 14,
        "start_time": "2022-02-18T22:53:11.570Z"
      },
      {
        "duration": 34,
        "start_time": "2022-02-18T22:53:28.739Z"
      },
      {
        "duration": 14,
        "start_time": "2022-02-18T22:53:35.435Z"
      },
      {
        "duration": 531,
        "start_time": "2022-02-18T22:53:47.875Z"
      },
      {
        "duration": 227,
        "start_time": "2022-02-18T22:53:57.476Z"
      },
      {
        "duration": 212,
        "start_time": "2022-02-18T22:54:16.485Z"
      },
      {
        "duration": 15,
        "start_time": "2022-02-18T22:54:36.142Z"
      },
      {
        "duration": 15,
        "start_time": "2022-02-18T22:54:55.542Z"
      },
      {
        "duration": 15,
        "start_time": "2022-02-18T22:55:06.749Z"
      },
      {
        "duration": 11,
        "start_time": "2022-02-18T22:55:23.431Z"
      },
      {
        "duration": 13,
        "start_time": "2022-02-18T22:56:06.616Z"
      },
      {
        "duration": 7690,
        "start_time": "2022-02-18T22:56:33.241Z"
      },
      {
        "duration": 487,
        "start_time": "2022-02-18T22:56:45.291Z"
      },
      {
        "duration": 4394,
        "start_time": "2022-02-18T22:59:37.344Z"
      },
      {
        "duration": 1135,
        "start_time": "2022-02-18T23:00:22.250Z"
      },
      {
        "duration": 1306,
        "start_time": "2022-02-18T23:00:56.738Z"
      },
      {
        "duration": 1827,
        "start_time": "2022-02-18T23:01:42.460Z"
      },
      {
        "duration": 12,
        "start_time": "2022-02-18T23:04:11.074Z"
      },
      {
        "duration": 2065,
        "start_time": "2022-02-18T23:04:17.848Z"
      },
      {
        "duration": 1411,
        "start_time": "2022-02-18T23:04:47.289Z"
      },
      {
        "duration": 2047,
        "start_time": "2022-02-18T23:05:46.236Z"
      },
      {
        "duration": 2362,
        "start_time": "2022-02-18T23:07:06.110Z"
      },
      {
        "duration": 445,
        "start_time": "2022-02-18T23:14:51.645Z"
      },
      {
        "duration": 322,
        "start_time": "2022-02-18T23:16:29.369Z"
      },
      {
        "duration": 381,
        "start_time": "2022-02-18T23:20:41.777Z"
      },
      {
        "duration": 298,
        "start_time": "2022-02-18T23:20:56.593Z"
      },
      {
        "duration": 383,
        "start_time": "2022-02-18T23:21:22.266Z"
      },
      {
        "duration": 13,
        "start_time": "2022-02-18T23:21:46.451Z"
      },
      {
        "duration": 16,
        "start_time": "2022-02-18T23:21:56.026Z"
      },
      {
        "duration": 25,
        "start_time": "2022-02-18T23:22:32.212Z"
      },
      {
        "duration": 22,
        "start_time": "2022-02-18T23:22:41.236Z"
      },
      {
        "duration": 28,
        "start_time": "2022-02-18T23:23:05.821Z"
      },
      {
        "duration": 677,
        "start_time": "2022-02-18T23:23:30.854Z"
      },
      {
        "duration": 23,
        "start_time": "2022-02-18T23:25:10.202Z"
      },
      {
        "duration": 19,
        "start_time": "2022-02-18T23:25:19.857Z"
      },
      {
        "duration": 25,
        "start_time": "2022-02-18T23:25:23.475Z"
      },
      {
        "duration": 23,
        "start_time": "2022-02-18T23:27:10.295Z"
      },
      {
        "duration": 25,
        "start_time": "2022-02-18T23:27:46.118Z"
      },
      {
        "duration": 1179,
        "start_time": "2022-02-18T23:28:26.903Z"
      },
      {
        "duration": 2904,
        "start_time": "2022-02-18T23:37:25.633Z"
      },
      {
        "duration": 1806,
        "start_time": "2022-02-18T23:38:28.027Z"
      },
      {
        "duration": 335,
        "start_time": "2022-02-21T21:51:57.728Z"
      },
      {
        "duration": 1598,
        "start_time": "2022-02-21T21:55:18.240Z"
      },
      {
        "duration": 118,
        "start_time": "2022-02-21T21:55:19.841Z"
      },
      {
        "duration": 469,
        "start_time": "2022-02-21T21:55:19.963Z"
      },
      {
        "duration": 89,
        "start_time": "2022-02-21T21:55:20.435Z"
      },
      {
        "duration": 51,
        "start_time": "2022-02-21T21:55:20.527Z"
      },
      {
        "duration": 26,
        "start_time": "2022-02-21T21:55:20.581Z"
      },
      {
        "duration": 5,
        "start_time": "2022-02-21T21:55:20.609Z"
      },
      {
        "duration": 35,
        "start_time": "2022-02-21T21:55:20.618Z"
      },
      {
        "duration": 14,
        "start_time": "2022-02-21T21:55:20.656Z"
      },
      {
        "duration": 120,
        "start_time": "2022-02-21T21:55:20.673Z"
      },
      {
        "duration": 26,
        "start_time": "2022-02-21T21:55:20.796Z"
      },
      {
        "duration": 6,
        "start_time": "2022-02-21T21:55:20.825Z"
      },
      {
        "duration": 223,
        "start_time": "2022-02-21T21:55:20.850Z"
      },
      {
        "duration": 45,
        "start_time": "2022-02-21T21:55:21.076Z"
      },
      {
        "duration": 25,
        "start_time": "2022-02-21T21:55:21.123Z"
      },
      {
        "duration": 18,
        "start_time": "2022-02-21T21:55:21.151Z"
      },
      {
        "duration": 840,
        "start_time": "2022-02-21T21:55:21.172Z"
      },
      {
        "duration": 7,
        "start_time": "2022-02-21T21:55:22.015Z"
      },
      {
        "duration": 24,
        "start_time": "2022-02-21T21:55:22.025Z"
      },
      {
        "duration": 38,
        "start_time": "2022-02-21T21:55:22.052Z"
      },
      {
        "duration": 18,
        "start_time": "2022-02-21T21:55:22.093Z"
      },
      {
        "duration": 2500,
        "start_time": "2022-02-21T21:55:22.114Z"
      },
      {
        "duration": 1552,
        "start_time": "2022-02-21T21:55:24.619Z"
      },
      {
        "duration": 592,
        "start_time": "2022-02-21T21:55:26.174Z"
      },
      {
        "duration": 19,
        "start_time": "2022-02-21T21:55:26.768Z"
      },
      {
        "duration": 604,
        "start_time": "2022-02-21T21:55:26.789Z"
      },
      {
        "duration": 8037,
        "start_time": "2022-02-21T21:55:27.396Z"
      },
      {
        "duration": 269,
        "start_time": "2022-02-21T21:55:35.436Z"
      },
      {
        "duration": 825,
        "start_time": "2022-02-21T21:55:35.707Z"
      },
      {
        "duration": 32,
        "start_time": "2022-02-21T21:55:36.535Z"
      },
      {
        "duration": 24,
        "start_time": "2022-02-21T21:55:36.570Z"
      },
      {
        "duration": 438,
        "start_time": "2022-02-21T21:55:36.597Z"
      },
      {
        "duration": 434,
        "start_time": "2022-02-21T21:55:37.038Z"
      },
      {
        "duration": 419,
        "start_time": "2022-02-21T21:55:37.475Z"
      },
      {
        "duration": 403,
        "start_time": "2022-02-21T21:55:37.897Z"
      },
      {
        "duration": 552,
        "start_time": "2022-02-21T21:55:38.303Z"
      },
      {
        "duration": 4125,
        "start_time": "2022-02-21T21:55:38.858Z"
      },
      {
        "duration": 2233,
        "start_time": "2022-02-21T21:55:42.986Z"
      },
      {
        "duration": 3415,
        "start_time": "2022-02-21T21:55:45.221Z"
      },
      {
        "duration": 1178,
        "start_time": "2022-03-04T07:31:11.056Z"
      },
      {
        "duration": 70,
        "start_time": "2022-03-04T07:31:12.236Z"
      },
      {
        "duration": 278,
        "start_time": "2022-03-04T07:31:12.308Z"
      },
      {
        "duration": 54,
        "start_time": "2022-03-04T07:31:12.587Z"
      },
      {
        "duration": 33,
        "start_time": "2022-03-04T07:31:12.643Z"
      },
      {
        "duration": 20,
        "start_time": "2022-03-04T07:31:12.678Z"
      },
      {
        "duration": 3,
        "start_time": "2022-03-04T07:31:12.699Z"
      },
      {
        "duration": 9,
        "start_time": "2022-03-04T07:31:12.705Z"
      },
      {
        "duration": 7,
        "start_time": "2022-03-04T07:31:12.716Z"
      },
      {
        "duration": 83,
        "start_time": "2022-03-04T07:31:12.725Z"
      },
      {
        "duration": 18,
        "start_time": "2022-03-04T07:31:12.809Z"
      },
      {
        "duration": 4,
        "start_time": "2022-03-04T07:31:12.828Z"
      },
      {
        "duration": 145,
        "start_time": "2022-03-04T07:31:12.834Z"
      },
      {
        "duration": 33,
        "start_time": "2022-03-04T07:31:12.981Z"
      },
      {
        "duration": 4,
        "start_time": "2022-03-04T07:31:13.016Z"
      },
      {
        "duration": 13,
        "start_time": "2022-03-04T07:31:13.022Z"
      },
      {
        "duration": 490,
        "start_time": "2022-03-04T07:31:13.036Z"
      },
      {
        "duration": 6,
        "start_time": "2022-03-04T07:31:13.527Z"
      },
      {
        "duration": 14,
        "start_time": "2022-03-04T07:31:13.535Z"
      },
      {
        "duration": 28,
        "start_time": "2022-03-04T07:31:13.551Z"
      },
      {
        "duration": 12,
        "start_time": "2022-03-04T07:31:13.581Z"
      },
      {
        "duration": 1353,
        "start_time": "2022-03-04T07:31:13.595Z"
      },
      {
        "duration": 842,
        "start_time": "2022-03-04T07:31:14.952Z"
      },
      {
        "duration": 333,
        "start_time": "2022-03-04T07:31:15.796Z"
      },
      {
        "duration": 12,
        "start_time": "2022-03-04T07:31:16.130Z"
      },
      {
        "duration": 341,
        "start_time": "2022-03-04T07:31:16.143Z"
      },
      {
        "duration": 5739,
        "start_time": "2022-03-04T07:31:16.486Z"
      },
      {
        "duration": 157,
        "start_time": "2022-03-04T07:31:22.227Z"
      },
      {
        "duration": 490,
        "start_time": "2022-03-04T07:31:22.386Z"
      },
      {
        "duration": 16,
        "start_time": "2022-03-04T07:31:22.878Z"
      },
      {
        "duration": 12,
        "start_time": "2022-03-04T07:31:22.896Z"
      },
      {
        "duration": 271,
        "start_time": "2022-03-04T07:31:22.910Z"
      },
      {
        "duration": 350,
        "start_time": "2022-03-04T07:31:23.183Z"
      },
      {
        "duration": 218,
        "start_time": "2022-03-04T07:31:23.534Z"
      },
      {
        "duration": 245,
        "start_time": "2022-03-04T07:31:23.754Z"
      },
      {
        "duration": 366,
        "start_time": "2022-03-04T07:31:24.001Z"
      },
      {
        "duration": 2184,
        "start_time": "2022-03-04T07:31:24.369Z"
      },
      {
        "duration": 1451,
        "start_time": "2022-03-04T07:31:26.554Z"
      },
      {
        "duration": 2300,
        "start_time": "2022-03-04T07:31:28.007Z"
      },
      {
        "duration": 313,
        "start_time": "2022-03-04T08:01:10.083Z"
      },
      {
        "duration": 314,
        "start_time": "2022-03-04T08:01:14.114Z"
      },
      {
        "duration": 1203,
        "start_time": "2022-03-04T08:30:57.183Z"
      },
      {
        "duration": 74,
        "start_time": "2022-03-04T08:30:58.388Z"
      },
      {
        "duration": 271,
        "start_time": "2022-03-04T08:30:58.464Z"
      },
      {
        "duration": 69,
        "start_time": "2022-03-04T08:30:58.736Z"
      },
      {
        "duration": 21,
        "start_time": "2022-03-04T08:30:58.806Z"
      },
      {
        "duration": 34,
        "start_time": "2022-03-04T08:30:58.829Z"
      },
      {
        "duration": 4,
        "start_time": "2022-03-04T08:30:58.866Z"
      },
      {
        "duration": 9,
        "start_time": "2022-03-04T08:30:58.871Z"
      },
      {
        "duration": 8,
        "start_time": "2022-03-04T08:30:58.881Z"
      },
      {
        "duration": 81,
        "start_time": "2022-03-04T08:30:58.890Z"
      },
      {
        "duration": 21,
        "start_time": "2022-03-04T08:30:58.972Z"
      },
      {
        "duration": 5,
        "start_time": "2022-03-04T08:30:58.994Z"
      },
      {
        "duration": 151,
        "start_time": "2022-03-04T08:30:59.000Z"
      },
      {
        "duration": 37,
        "start_time": "2022-03-04T08:30:59.153Z"
      },
      {
        "duration": 6,
        "start_time": "2022-03-04T08:30:59.192Z"
      },
      {
        "duration": 12,
        "start_time": "2022-03-04T08:30:59.200Z"
      },
      {
        "duration": 483,
        "start_time": "2022-03-04T08:30:59.214Z"
      },
      {
        "duration": 5,
        "start_time": "2022-03-04T08:30:59.699Z"
      },
      {
        "duration": 6,
        "start_time": "2022-03-04T08:30:59.706Z"
      },
      {
        "duration": 23,
        "start_time": "2022-03-04T08:30:59.713Z"
      },
      {
        "duration": 28,
        "start_time": "2022-03-04T08:30:59.737Z"
      },
      {
        "duration": 1342,
        "start_time": "2022-03-04T08:30:59.768Z"
      },
      {
        "duration": 843,
        "start_time": "2022-03-04T08:31:01.112Z"
      },
      {
        "duration": 333,
        "start_time": "2022-03-04T08:31:01.957Z"
      },
      {
        "duration": 13,
        "start_time": "2022-03-04T08:31:02.292Z"
      },
      {
        "duration": 339,
        "start_time": "2022-03-04T08:31:02.307Z"
      },
      {
        "duration": 5990,
        "start_time": "2022-03-04T08:31:02.648Z"
      },
      {
        "duration": 153,
        "start_time": "2022-03-04T08:31:08.640Z"
      },
      {
        "duration": 522,
        "start_time": "2022-03-04T08:31:08.795Z"
      },
      {
        "duration": 16,
        "start_time": "2022-03-04T08:31:09.318Z"
      },
      {
        "duration": 31,
        "start_time": "2022-03-04T08:31:09.336Z"
      },
      {
        "duration": 238,
        "start_time": "2022-03-04T08:31:09.369Z"
      },
      {
        "duration": 237,
        "start_time": "2022-03-04T08:31:09.609Z"
      },
      {
        "duration": 233,
        "start_time": "2022-03-04T08:31:09.848Z"
      },
      {
        "duration": 217,
        "start_time": "2022-03-04T08:31:10.082Z"
      },
      {
        "duration": 350,
        "start_time": "2022-03-04T08:31:10.300Z"
      },
      {
        "duration": 2034,
        "start_time": "2022-03-04T08:31:10.651Z"
      },
      {
        "duration": 1229,
        "start_time": "2022-03-04T08:31:12.686Z"
      },
      {
        "duration": 2009,
        "start_time": "2022-03-04T08:31:13.917Z"
      },
      {
        "duration": 330,
        "start_time": "2022-03-14T12:33:15.989Z"
      },
      {
        "duration": 1077,
        "start_time": "2022-03-14T12:33:24.520Z"
      },
      {
        "duration": 61,
        "start_time": "2022-03-14T12:33:25.599Z"
      },
      {
        "duration": 255,
        "start_time": "2022-03-14T12:33:25.662Z"
      },
      {
        "duration": 45,
        "start_time": "2022-03-14T12:33:25.918Z"
      },
      {
        "duration": 32,
        "start_time": "2022-03-14T12:33:25.964Z"
      },
      {
        "duration": 18,
        "start_time": "2022-03-14T12:33:25.997Z"
      },
      {
        "duration": 33,
        "start_time": "2022-03-14T12:33:26.016Z"
      },
      {
        "duration": 3,
        "start_time": "2022-03-14T12:33:26.051Z"
      },
      {
        "duration": 26,
        "start_time": "2022-03-14T12:33:26.056Z"
      },
      {
        "duration": 6,
        "start_time": "2022-03-14T12:33:26.084Z"
      },
      {
        "duration": 58,
        "start_time": "2022-03-14T12:33:26.092Z"
      },
      {
        "duration": 18,
        "start_time": "2022-03-14T12:33:26.154Z"
      },
      {
        "duration": 5,
        "start_time": "2022-03-14T12:33:26.181Z"
      },
      {
        "duration": 135,
        "start_time": "2022-03-14T12:33:26.188Z"
      },
      {
        "duration": 32,
        "start_time": "2022-03-14T12:33:26.325Z"
      },
      {
        "duration": 4,
        "start_time": "2022-03-14T12:33:26.358Z"
      },
      {
        "duration": 26,
        "start_time": "2022-03-14T12:33:26.364Z"
      },
      {
        "duration": 558,
        "start_time": "2022-03-14T12:33:26.391Z"
      },
      {
        "duration": 5,
        "start_time": "2022-03-14T12:33:26.950Z"
      },
      {
        "duration": 5,
        "start_time": "2022-03-14T12:33:26.956Z"
      },
      {
        "duration": 32,
        "start_time": "2022-03-14T12:33:26.963Z"
      },
      {
        "duration": 10,
        "start_time": "2022-03-14T12:33:26.996Z"
      },
      {
        "duration": 1245,
        "start_time": "2022-03-14T12:33:27.009Z"
      },
      {
        "duration": 775,
        "start_time": "2022-03-14T12:33:28.256Z"
      },
      {
        "duration": 297,
        "start_time": "2022-03-14T12:33:29.033Z"
      },
      {
        "duration": 11,
        "start_time": "2022-03-14T12:33:29.331Z"
      },
      {
        "duration": 309,
        "start_time": "2022-03-14T12:33:29.344Z"
      },
      {
        "duration": 5519,
        "start_time": "2022-03-14T12:33:29.655Z"
      },
      {
        "duration": 141,
        "start_time": "2022-03-14T12:33:35.175Z"
      },
      {
        "duration": 426,
        "start_time": "2022-03-14T12:33:35.318Z"
      },
      {
        "duration": 14,
        "start_time": "2022-03-14T12:33:35.745Z"
      },
      {
        "duration": 26,
        "start_time": "2022-03-14T12:33:35.760Z"
      },
      {
        "duration": 229,
        "start_time": "2022-03-14T12:33:35.787Z"
      },
      {
        "duration": 221,
        "start_time": "2022-03-14T12:33:36.018Z"
      },
      {
        "duration": 204,
        "start_time": "2022-03-14T12:33:36.241Z"
      },
      {
        "duration": 204,
        "start_time": "2022-03-14T12:33:36.446Z"
      },
      {
        "duration": 304,
        "start_time": "2022-03-14T12:33:36.652Z"
      },
      {
        "duration": 1859,
        "start_time": "2022-03-14T12:33:36.958Z"
      },
      {
        "duration": 1071,
        "start_time": "2022-03-14T12:33:38.819Z"
      },
      {
        "duration": 1847,
        "start_time": "2022-03-14T12:33:39.892Z"
      },
      {
        "duration": 4,
        "start_time": "2022-03-14T12:34:06.792Z"
      },
      {
        "duration": 5,
        "start_time": "2022-03-14T12:34:32.126Z"
      },
      {
        "duration": 4,
        "start_time": "2022-03-14T12:35:09.888Z"
      },
      {
        "duration": 33,
        "start_time": "2022-03-14T12:35:18.288Z"
      },
      {
        "duration": 3,
        "start_time": "2022-03-14T12:42:52.951Z"
      },
      {
        "duration": 9,
        "start_time": "2022-03-14T12:56:56.723Z"
      },
      {
        "duration": 6,
        "start_time": "2022-03-14T13:13:40.427Z"
      },
      {
        "duration": 7,
        "start_time": "2022-03-14T13:14:03.341Z"
      },
      {
        "duration": 104,
        "start_time": "2022-03-14T13:14:22.382Z"
      },
      {
        "duration": 10,
        "start_time": "2022-03-14T13:14:28.157Z"
      },
      {
        "duration": 10,
        "start_time": "2022-03-14T13:15:39.360Z"
      },
      {
        "duration": 8,
        "start_time": "2022-03-14T13:27:56.319Z"
      },
      {
        "duration": 8,
        "start_time": "2022-03-14T13:28:12.512Z"
      },
      {
        "duration": 6,
        "start_time": "2022-03-14T13:43:34.758Z"
      },
      {
        "duration": 8,
        "start_time": "2022-03-14T13:44:58.105Z"
      },
      {
        "duration": 467,
        "start_time": "2022-03-14T13:55:42.445Z"
      },
      {
        "duration": 132,
        "start_time": "2022-03-14T13:55:48.278Z"
      },
      {
        "duration": 319,
        "start_time": "2022-03-14T13:57:43.097Z"
      },
      {
        "duration": 8,
        "start_time": "2022-03-14T13:57:52.514Z"
      },
      {
        "duration": 9,
        "start_time": "2022-03-14T13:58:16.315Z"
      },
      {
        "duration": 11,
        "start_time": "2022-03-14T14:01:16.081Z"
      },
      {
        "duration": 8,
        "start_time": "2022-03-14T14:01:53.849Z"
      },
      {
        "duration": 337,
        "start_time": "2022-03-14T14:03:30.510Z"
      },
      {
        "duration": 9,
        "start_time": "2022-03-14T14:03:37.556Z"
      },
      {
        "duration": 5,
        "start_time": "2022-03-14T14:04:00.958Z"
      },
      {
        "duration": 6,
        "start_time": "2022-03-14T14:04:25.654Z"
      },
      {
        "duration": 88,
        "start_time": "2022-03-14T14:09:57.187Z"
      },
      {
        "duration": 109,
        "start_time": "2022-03-14T14:10:02.017Z"
      },
      {
        "duration": 118,
        "start_time": "2022-03-14T14:10:22.313Z"
      },
      {
        "duration": 99,
        "start_time": "2022-03-14T14:10:56.124Z"
      },
      {
        "duration": 301,
        "start_time": "2022-03-14T15:15:45.532Z"
      },
      {
        "duration": 142,
        "start_time": "2022-03-14T15:16:12.907Z"
      },
      {
        "duration": 147,
        "start_time": "2022-03-14T15:26:20.120Z"
      },
      {
        "duration": 127,
        "start_time": "2022-03-14T15:26:44.512Z"
      },
      {
        "duration": 290,
        "start_time": "2022-03-14T15:27:00.113Z"
      },
      {
        "duration": 189,
        "start_time": "2022-03-14T15:27:05.792Z"
      },
      {
        "duration": 303,
        "start_time": "2022-03-14T15:39:44.009Z"
      },
      {
        "duration": 199,
        "start_time": "2022-03-14T15:46:23.875Z"
      },
      {
        "duration": 203,
        "start_time": "2022-03-14T15:46:52.055Z"
      },
      {
        "duration": 291,
        "start_time": "2022-03-14T15:49:20.676Z"
      },
      {
        "duration": 475,
        "start_time": "2022-03-14T15:49:44.693Z"
      },
      {
        "duration": 690,
        "start_time": "2022-03-14T15:50:00.821Z"
      },
      {
        "duration": 723,
        "start_time": "2022-03-14T15:50:06.645Z"
      },
      {
        "duration": 716,
        "start_time": "2022-03-14T15:50:32.471Z"
      },
      {
        "duration": 92,
        "start_time": "2022-03-14T15:52:28.914Z"
      },
      {
        "duration": 74,
        "start_time": "2022-03-14T15:58:51.186Z"
      },
      {
        "duration": 864,
        "start_time": "2022-03-14T15:58:51.261Z"
      },
      {
        "duration": 849,
        "start_time": "2022-03-14T15:58:52.127Z"
      },
      {
        "duration": 275,
        "start_time": "2022-03-14T15:58:52.978Z"
      },
      {
        "duration": 979,
        "start_time": "2022-03-14T15:58:53.255Z"
      },
      {
        "duration": 705,
        "start_time": "2022-03-14T15:58:54.236Z"
      },
      {
        "duration": 873,
        "start_time": "2022-03-14T15:58:54.942Z"
      },
      {
        "duration": 971,
        "start_time": "2022-03-14T15:58:55.818Z"
      },
      {
        "duration": 673,
        "start_time": "2022-03-14T15:58:56.790Z"
      },
      {
        "duration": 1219,
        "start_time": "2022-03-14T15:58:57.465Z"
      },
      {
        "duration": 940,
        "start_time": "2022-03-14T15:58:58.685Z"
      },
      {
        "duration": 721,
        "start_time": "2022-03-14T15:58:59.627Z"
      },
      {
        "duration": 774,
        "start_time": "2022-03-14T15:59:00.350Z"
      },
      {
        "duration": 1076,
        "start_time": "2022-03-14T15:59:01.125Z"
      },
      {
        "duration": 982,
        "start_time": "2022-03-14T15:59:02.203Z"
      },
      {
        "duration": 795,
        "start_time": "2022-03-14T15:59:03.187Z"
      },
      {
        "duration": 680,
        "start_time": "2022-03-14T15:59:03.984Z"
      },
      {
        "duration": 1210,
        "start_time": "2022-03-14T15:59:04.665Z"
      },
      {
        "duration": 1686,
        "start_time": "2022-03-14T15:59:05.877Z"
      },
      {
        "duration": 412,
        "start_time": "2022-03-14T15:59:07.565Z"
      },
      {
        "duration": 1572,
        "start_time": "2022-03-14T15:59:07.979Z"
      },
      {
        "duration": 1289,
        "start_time": "2022-03-14T15:59:09.553Z"
      },
      {
        "duration": 1409,
        "start_time": "2022-03-14T15:59:10.845Z"
      },
      {
        "duration": 3098,
        "start_time": "2022-03-14T15:59:12.256Z"
      },
      {
        "duration": 797,
        "start_time": "2022-03-14T15:59:15.356Z"
      },
      {
        "duration": 1302,
        "start_time": "2022-03-14T15:59:16.155Z"
      },
      {
        "duration": 734,
        "start_time": "2022-03-14T15:59:17.458Z"
      },
      {
        "duration": 1345,
        "start_time": "2022-03-14T15:59:18.193Z"
      },
      {
        "duration": 224,
        "start_time": "2022-03-14T15:59:19.540Z"
      },
      {
        "duration": 758,
        "start_time": "2022-03-14T15:59:19.765Z"
      },
      {
        "duration": 1201,
        "start_time": "2022-03-14T15:59:20.525Z"
      },
      {
        "duration": 701,
        "start_time": "2022-03-14T15:59:21.727Z"
      },
      {
        "duration": 615,
        "start_time": "2022-03-14T15:59:22.430Z"
      },
      {
        "duration": 683,
        "start_time": "2022-03-14T15:59:23.046Z"
      },
      {
        "duration": 5966,
        "start_time": "2022-03-14T15:59:23.731Z"
      },
      {
        "duration": 259,
        "start_time": "2022-03-14T15:59:29.699Z"
      },
      {
        "duration": 654,
        "start_time": "2022-03-14T15:59:29.960Z"
      },
      {
        "duration": 234,
        "start_time": "2022-03-14T15:59:30.615Z"
      },
      {
        "duration": 922,
        "start_time": "2022-03-14T15:59:30.850Z"
      },
      {
        "duration": 681,
        "start_time": "2022-03-14T15:59:31.774Z"
      },
      {
        "duration": 337,
        "start_time": "2022-03-14T15:59:32.456Z"
      },
      {
        "duration": 450,
        "start_time": "2022-03-14T15:59:32.794Z"
      },
      {
        "duration": 352,
        "start_time": "2022-03-14T15:59:33.245Z"
      },
      {
        "duration": 329,
        "start_time": "2022-03-14T15:59:33.599Z"
      },
      {
        "duration": 2502,
        "start_time": "2022-03-14T15:59:33.930Z"
      },
      {
        "duration": 297,
        "start_time": "2022-03-14T15:59:36.433Z"
      },
      {
        "duration": 7326,
        "start_time": "2022-03-14T15:59:29.406Z"
      },
      {
        "duration": 297,
        "start_time": "2022-03-14T16:05:28.475Z"
      },
      {
        "duration": 200,
        "start_time": "2022-03-14T16:06:28.222Z"
      },
      {
        "duration": 687,
        "start_time": "2022-03-14T16:06:35.597Z"
      },
      {
        "duration": 82,
        "start_time": "2022-03-14T16:06:56.172Z"
      },
      {
        "duration": 1892,
        "start_time": "2022-03-14T16:06:56.256Z"
      },
      {
        "duration": 1511,
        "start_time": "2022-03-14T16:06:58.150Z"
      },
      {
        "duration": 1240,
        "start_time": "2022-03-14T16:06:59.663Z"
      },
      {
        "duration": 1668,
        "start_time": "2022-03-14T16:07:00.905Z"
      },
      {
        "duration": 635,
        "start_time": "2022-03-14T16:07:02.575Z"
      },
      {
        "duration": 1905,
        "start_time": "2022-03-14T16:07:03.212Z"
      },
      {
        "duration": 1479,
        "start_time": "2022-03-14T16:07:05.120Z"
      },
      {
        "duration": 1647,
        "start_time": "2022-03-14T16:07:06.601Z"
      },
      {
        "duration": 1881,
        "start_time": "2022-03-14T16:07:08.250Z"
      },
      {
        "duration": 1543,
        "start_time": "2022-03-14T16:07:10.133Z"
      },
      {
        "duration": 1337,
        "start_time": "2022-03-14T16:07:11.677Z"
      },
      {
        "duration": 1235,
        "start_time": "2022-03-14T16:07:13.016Z"
      },
      {
        "duration": 2301,
        "start_time": "2022-03-14T16:07:14.252Z"
      },
      {
        "duration": 1220,
        "start_time": "2022-03-14T16:07:16.555Z"
      },
      {
        "duration": 1303,
        "start_time": "2022-03-14T16:07:17.777Z"
      },
      {
        "duration": 138,
        "start_time": "2022-03-14T16:07:19.082Z"
      },
      {
        "duration": 191,
        "start_time": "2022-03-14T16:07:19.222Z"
      },
      {
        "duration": 845,
        "start_time": "2022-03-14T16:07:19.414Z"
      },
      {
        "duration": 4,
        "start_time": "2022-03-14T16:07:20.261Z"
      },
      {
        "duration": 766,
        "start_time": "2022-03-14T16:07:20.267Z"
      },
      {
        "duration": 1072,
        "start_time": "2022-03-14T16:07:21.035Z"
      },
      {
        "duration": 866,
        "start_time": "2022-03-14T16:07:22.109Z"
      },
      {
        "duration": 2549,
        "start_time": "2022-03-14T16:07:22.977Z"
      },
      {
        "duration": 840,
        "start_time": "2022-03-14T16:07:25.527Z"
      },
      {
        "duration": 753,
        "start_time": "2022-03-14T16:07:26.369Z"
      },
      {
        "duration": 1349,
        "start_time": "2022-03-14T16:07:27.124Z"
      },
      {
        "duration": 1499,
        "start_time": "2022-03-14T16:07:28.474Z"
      },
      {
        "duration": 3185,
        "start_time": "2022-03-14T16:07:29.975Z"
      },
      {
        "duration": 1774,
        "start_time": "2022-03-14T16:07:33.163Z"
      },
      {
        "duration": 1968,
        "start_time": "2022-03-14T16:07:34.938Z"
      },
      {
        "duration": 2226,
        "start_time": "2022-03-14T16:07:36.907Z"
      },
      {
        "duration": 1684,
        "start_time": "2022-03-14T16:07:39.135Z"
      },
      {
        "duration": 1796,
        "start_time": "2022-03-14T16:07:40.820Z"
      },
      {
        "duration": 8081,
        "start_time": "2022-03-14T16:07:42.618Z"
      },
      {
        "duration": 156,
        "start_time": "2022-03-14T16:07:50.701Z"
      },
      {
        "duration": 540,
        "start_time": "2022-03-14T16:07:50.858Z"
      },
      {
        "duration": 20,
        "start_time": "2022-03-14T16:07:51.399Z"
      },
      {
        "duration": 361,
        "start_time": "2022-03-14T16:07:51.421Z"
      },
      {
        "duration": 612,
        "start_time": "2022-03-14T16:07:51.784Z"
      },
      {
        "duration": 362,
        "start_time": "2022-03-14T16:07:52.399Z"
      },
      {
        "duration": 648,
        "start_time": "2022-03-14T16:07:52.762Z"
      },
      {
        "duration": 478,
        "start_time": "2022-03-14T16:07:53.412Z"
      },
      {
        "duration": 464,
        "start_time": "2022-03-14T16:07:53.892Z"
      },
      {
        "duration": 2794,
        "start_time": "2022-03-14T16:07:54.358Z"
      },
      {
        "duration": 211,
        "start_time": "2022-03-14T16:07:57.153Z"
      },
      {
        "duration": 853,
        "start_time": "2022-03-14T16:07:57.366Z"
      },
      {
        "duration": 183,
        "start_time": "2022-03-14T16:08:23.123Z"
      },
      {
        "duration": 180,
        "start_time": "2022-03-14T16:08:28.848Z"
      },
      {
        "duration": 603,
        "start_time": "2022-03-14T16:08:37.929Z"
      },
      {
        "duration": 1272,
        "start_time": "2022-03-14T18:22:29.285Z"
      },
      {
        "duration": 81,
        "start_time": "2022-03-14T18:22:30.560Z"
      },
      {
        "duration": 296,
        "start_time": "2022-03-14T18:22:30.643Z"
      },
      {
        "duration": 71,
        "start_time": "2022-03-14T18:22:30.942Z"
      },
      {
        "duration": 27,
        "start_time": "2022-03-14T18:22:31.015Z"
      },
      {
        "duration": 18,
        "start_time": "2022-03-14T18:22:31.044Z"
      },
      {
        "duration": 5,
        "start_time": "2022-03-14T18:22:31.064Z"
      },
      {
        "duration": 69,
        "start_time": "2022-03-14T18:22:31.072Z"
      },
      {
        "duration": 4,
        "start_time": "2022-03-14T18:22:31.144Z"
      },
      {
        "duration": 13,
        "start_time": "2022-03-14T18:22:31.150Z"
      },
      {
        "duration": 22,
        "start_time": "2022-03-14T18:22:31.165Z"
      },
      {
        "duration": 119,
        "start_time": "2022-03-14T18:22:31.189Z"
      },
      {
        "duration": 22,
        "start_time": "2022-03-14T18:22:31.310Z"
      },
      {
        "duration": 23,
        "start_time": "2022-03-14T18:22:31.334Z"
      },
      {
        "duration": 168,
        "start_time": "2022-03-14T18:22:31.359Z"
      },
      {
        "duration": 39,
        "start_time": "2022-03-14T18:22:31.529Z"
      },
      {
        "duration": 25,
        "start_time": "2022-03-14T18:22:31.570Z"
      },
      {
        "duration": 24,
        "start_time": "2022-03-14T18:22:31.597Z"
      },
      {
        "duration": 515,
        "start_time": "2022-03-14T18:22:31.623Z"
      },
      {
        "duration": 6,
        "start_time": "2022-03-14T18:22:32.140Z"
      },
      {
        "duration": 40,
        "start_time": "2022-03-14T18:22:32.148Z"
      },
      {
        "duration": 35,
        "start_time": "2022-03-14T18:22:32.189Z"
      },
      {
        "duration": 18,
        "start_time": "2022-03-14T18:22:32.228Z"
      },
      {
        "duration": 1463,
        "start_time": "2022-03-14T18:22:32.248Z"
      },
      {
        "duration": 952,
        "start_time": "2022-03-14T18:22:33.713Z"
      },
      {
        "duration": 375,
        "start_time": "2022-03-14T18:22:34.667Z"
      },
      {
        "duration": 14,
        "start_time": "2022-03-14T18:22:35.044Z"
      },
      {
        "duration": 368,
        "start_time": "2022-03-14T18:22:35.060Z"
      },
      {
        "duration": 161,
        "start_time": "2022-03-14T18:22:35.430Z"
      },
      {
        "duration": 13,
        "start_time": "2022-03-14T18:22:35.593Z"
      },
      {
        "duration": 17,
        "start_time": "2022-03-14T18:22:35.608Z"
      },
      {
        "duration": 10,
        "start_time": "2022-03-14T18:22:35.626Z"
      },
      {
        "duration": 8,
        "start_time": "2022-03-14T18:22:35.637Z"
      },
      {
        "duration": 13,
        "start_time": "2022-03-14T18:22:35.647Z"
      },
      {
        "duration": 5623,
        "start_time": "2022-03-14T18:22:35.662Z"
      },
      {
        "duration": 176,
        "start_time": "2022-03-14T18:22:41.287Z"
      },
      {
        "duration": 536,
        "start_time": "2022-03-14T18:22:41.465Z"
      },
      {
        "duration": 18,
        "start_time": "2022-03-14T18:22:42.003Z"
      },
      {
        "duration": 17,
        "start_time": "2022-03-14T18:22:42.024Z"
      },
      {
        "duration": 290,
        "start_time": "2022-03-14T18:22:42.043Z"
      },
      {
        "duration": 273,
        "start_time": "2022-03-14T18:22:42.335Z"
      },
      {
        "duration": 357,
        "start_time": "2022-03-14T18:22:42.611Z"
      },
      {
        "duration": 259,
        "start_time": "2022-03-14T18:22:42.971Z"
      },
      {
        "duration": 277,
        "start_time": "2022-03-14T18:22:43.231Z"
      },
      {
        "duration": 2232,
        "start_time": "2022-03-14T18:22:43.511Z"
      },
      {
        "duration": 215,
        "start_time": "2022-03-14T18:22:45.746Z"
      },
      {
        "duration": 825,
        "start_time": "2022-03-14T18:22:45.963Z"
      },
      {
        "duration": 1284,
        "start_time": "2022-03-14T18:28:18.973Z"
      },
      {
        "duration": 84,
        "start_time": "2022-03-14T18:28:20.259Z"
      },
      {
        "duration": 289,
        "start_time": "2022-03-14T18:28:20.345Z"
      },
      {
        "duration": 66,
        "start_time": "2022-03-14T18:28:20.636Z"
      },
      {
        "duration": 23,
        "start_time": "2022-03-14T18:28:20.704Z"
      },
      {
        "duration": 25,
        "start_time": "2022-03-14T18:28:20.728Z"
      },
      {
        "duration": 5,
        "start_time": "2022-03-14T18:28:20.755Z"
      },
      {
        "duration": 60,
        "start_time": "2022-03-14T18:28:20.763Z"
      },
      {
        "duration": 5,
        "start_time": "2022-03-14T18:28:20.825Z"
      },
      {
        "duration": 23,
        "start_time": "2022-03-14T18:28:20.831Z"
      },
      {
        "duration": 17,
        "start_time": "2022-03-14T18:28:20.856Z"
      },
      {
        "duration": 84,
        "start_time": "2022-03-14T18:28:20.875Z"
      },
      {
        "duration": 20,
        "start_time": "2022-03-14T18:28:20.961Z"
      },
      {
        "duration": 20,
        "start_time": "2022-03-14T18:28:20.983Z"
      },
      {
        "duration": 153,
        "start_time": "2022-03-14T18:28:21.006Z"
      },
      {
        "duration": 48,
        "start_time": "2022-03-14T18:28:21.161Z"
      },
      {
        "duration": 6,
        "start_time": "2022-03-14T18:28:21.211Z"
      },
      {
        "duration": 23,
        "start_time": "2022-03-14T18:28:21.219Z"
      },
      {
        "duration": 529,
        "start_time": "2022-03-14T18:28:21.244Z"
      },
      {
        "duration": 6,
        "start_time": "2022-03-14T18:28:21.775Z"
      },
      {
        "duration": 18,
        "start_time": "2022-03-14T18:28:21.783Z"
      },
      {
        "duration": 27,
        "start_time": "2022-03-14T18:28:21.803Z"
      },
      {
        "duration": 12,
        "start_time": "2022-03-14T18:28:21.833Z"
      },
      {
        "duration": 1498,
        "start_time": "2022-03-14T18:28:21.848Z"
      },
      {
        "duration": 909,
        "start_time": "2022-03-14T18:28:23.348Z"
      },
      {
        "duration": 391,
        "start_time": "2022-03-14T18:28:24.259Z"
      },
      {
        "duration": 14,
        "start_time": "2022-03-14T18:28:24.652Z"
      },
      {
        "duration": 364,
        "start_time": "2022-03-14T18:28:24.667Z"
      },
      {
        "duration": 163,
        "start_time": "2022-03-14T18:28:25.033Z"
      },
      {
        "duration": 9,
        "start_time": "2022-03-14T18:28:25.201Z"
      },
      {
        "duration": 10,
        "start_time": "2022-03-14T18:28:25.212Z"
      },
      {
        "duration": 9,
        "start_time": "2022-03-14T18:28:25.224Z"
      },
      {
        "duration": 16,
        "start_time": "2022-03-14T18:28:25.235Z"
      },
      {
        "duration": 10,
        "start_time": "2022-03-14T18:28:25.253Z"
      },
      {
        "duration": 6116,
        "start_time": "2022-03-14T18:28:25.265Z"
      },
      {
        "duration": 178,
        "start_time": "2022-03-14T18:28:31.383Z"
      },
      {
        "duration": 531,
        "start_time": "2022-03-14T18:28:31.563Z"
      },
      {
        "duration": 18,
        "start_time": "2022-03-14T18:28:32.101Z"
      },
      {
        "duration": 30,
        "start_time": "2022-03-14T18:28:32.121Z"
      },
      {
        "duration": 282,
        "start_time": "2022-03-14T18:28:32.153Z"
      },
      {
        "duration": 267,
        "start_time": "2022-03-14T18:28:32.436Z"
      },
      {
        "duration": 369,
        "start_time": "2022-03-14T18:28:32.705Z"
      },
      {
        "duration": 266,
        "start_time": "2022-03-14T18:28:33.077Z"
      },
      {
        "duration": 278,
        "start_time": "2022-03-14T18:28:33.345Z"
      },
      {
        "duration": 2283,
        "start_time": "2022-03-14T18:28:33.625Z"
      },
      {
        "duration": 215,
        "start_time": "2022-03-14T18:28:35.910Z"
      },
      {
        "duration": 809,
        "start_time": "2022-03-14T18:28:36.127Z"
      }
    ],
    "kernelspec": {
      "display_name": "Python 3 (ipykernel)",
      "language": "python",
      "name": "python3"
    },
    "language_info": {
      "codemirror_mode": {
        "name": "ipython",
        "version": 3
      },
      "file_extension": ".py",
      "mimetype": "text/x-python",
      "name": "python",
      "nbconvert_exporter": "python",
      "pygments_lexer": "ipython3",
      "version": "3.9.5"
    },
    "toc": {
      "base_numbering": 1,
      "nav_menu": {},
      "number_sections": true,
      "sideBar": true,
      "skip_h1_title": true,
      "title_cell": "Содержание",
      "title_sidebar": "Contents",
      "toc_cell": true,
      "toc_position": {},
      "toc_section_display": true,
      "toc_window_display": false
    },
    "colab": {
      "provenance": []
    }
  },
  "nbformat": 4,
  "nbformat_minor": 0
}