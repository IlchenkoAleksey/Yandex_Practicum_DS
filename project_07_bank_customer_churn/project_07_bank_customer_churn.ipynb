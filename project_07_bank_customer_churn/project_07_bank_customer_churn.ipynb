{
  "cells": [
    {
      "cell_type": "markdown",
      "metadata": {
        "toc": true,
        "id": "IVntnvb8Tl_C"
      },
      "source": [
        "<h1>Содержание<span class=\"tocSkip\"></span></h1>\n",
        "<div class=\"toc\"><ul class=\"toc-item\"><li><span><a href=\"#Подготовка-данных\" data-toc-modified-id=\"Подготовка-данных-1\"><span class=\"toc-item-num\">1&nbsp;&nbsp;</span>Подготовка данных</a></span><ul class=\"toc-item\"><li><span><a href=\"#Вывод:\" data-toc-modified-id=\"Вывод:-1.1\"><span class=\"toc-item-num\">1.1&nbsp;&nbsp;</span>Вывод:</a></span></li><li><span><a href=\"#Предобработка-и-обработка-данных\" data-toc-modified-id=\"Предобработка-и-обработка-данных-1.2\"><span class=\"toc-item-num\">1.2&nbsp;&nbsp;</span>Предобработка и обработка данных</a></span></li><li><span><a href=\"#Обработка-пропущенных-значений\" data-toc-modified-id=\"Обработка-пропущенных-значений-1.3\"><span class=\"toc-item-num\">1.3&nbsp;&nbsp;</span>Обработка пропущенных значений</a></span></li><li><span><a href=\"#Преобразование-типов-признаков\" data-toc-modified-id=\"Преобразование-типов-признаков-1.4\"><span class=\"toc-item-num\">1.4&nbsp;&nbsp;</span>Преобразование типов признаков</a></span></li><li><span><a href=\"#Масштабирование-признаков\" data-toc-modified-id=\"Масштабирование-признаков-1.5\"><span class=\"toc-item-num\">1.5&nbsp;&nbsp;</span>Масштабирование признаков</a></span></li><li><span><a href=\"#Вывод\" data-toc-modified-id=\"Вывод-1.6\"><span class=\"toc-item-num\">1.6&nbsp;&nbsp;</span>Вывод</a></span></li></ul></li><li><span><a href=\"#Исследование-задачи\" data-toc-modified-id=\"Исследование-задачи-2\"><span class=\"toc-item-num\">2&nbsp;&nbsp;</span>Исследование задачи</a></span><ul class=\"toc-item\"><li><span><a href=\"#Построим-модель-логистической-регрессии\" data-toc-modified-id=\"Построим-модель-логистической-регрессии-2.1\"><span class=\"toc-item-num\">2.1&nbsp;&nbsp;</span>Построим модель логистической регрессии</a></span></li><li><span><a href=\"#Построим-модель-дерево-решений\" data-toc-modified-id=\"Построим-модель-дерево-решений-2.2\"><span class=\"toc-item-num\">2.2&nbsp;&nbsp;</span>Построим модель дерево решений</a></span></li><li><span><a href=\"#Построим-модель-случайного-леса\" data-toc-modified-id=\"Построим-модель-случайного-леса-2.3\"><span class=\"toc-item-num\">2.3&nbsp;&nbsp;</span>Построим модель случайного леса</a></span></li><li><span><a href=\"#Выводы\" data-toc-modified-id=\"Выводы-2.4\"><span class=\"toc-item-num\">2.4&nbsp;&nbsp;</span>Выводы</a></span></li></ul></li><li><span><a href=\"#Борьба-с-дисбалансом\" data-toc-modified-id=\"Борьба-с-дисбалансом-3\"><span class=\"toc-item-num\">3&nbsp;&nbsp;</span>Борьба с дисбалансом</a></span><ul class=\"toc-item\"><li><span><a href=\"#C-помощью-параметра-class_weight\" data-toc-modified-id=\"C-помощью-параметра-class_weight-3.1\"><span class=\"toc-item-num\">3.1&nbsp;&nbsp;</span>C помощью параметра class_weight</a></span><ul class=\"toc-item\"><li><span><a href=\"#Построим-модель-логистической-регрессии\" data-toc-modified-id=\"Построим-модель-логистической-регрессии-3.1.1\"><span class=\"toc-item-num\">3.1.1&nbsp;&nbsp;</span>Построим модель логистической регрессии</a></span></li><li><span><a href=\"#Построим-модель-дерево-решений\" data-toc-modified-id=\"Построим-модель-дерево-решений-3.1.2\"><span class=\"toc-item-num\">3.1.2&nbsp;&nbsp;</span>Построим модель дерево решений</a></span></li><li><span><a href=\"#Построим-модель-случайного-леса\" data-toc-modified-id=\"Построим-модель-случайного-леса-3.1.3\"><span class=\"toc-item-num\">3.1.3&nbsp;&nbsp;</span>Построим модель случайного леса</a></span></li><li><span><a href=\"#Вывод\" data-toc-modified-id=\"Вывод-3.1.4\"><span class=\"toc-item-num\">3.1.4&nbsp;&nbsp;</span>Вывод</a></span></li></ul></li><li><span><a href=\"#Борьба-с-дисбалансом-путем-увеличения-выборки\" data-toc-modified-id=\"Борьба-с-дисбалансом-путем-увеличения-выборки-3.2\"><span class=\"toc-item-num\">3.2&nbsp;&nbsp;</span>Борьба с дисбалансом путем увеличения выборки</a></span><ul class=\"toc-item\"><li><span><a href=\"#Upsampling\" data-toc-modified-id=\"Upsampling-3.2.1\"><span class=\"toc-item-num\">3.2.1&nbsp;&nbsp;</span>Upsampling</a></span></li><li><span><a href=\"#Построим-модель-логистической-регрессии\" data-toc-modified-id=\"Построим-модель-логистической-регрессии-3.2.2\"><span class=\"toc-item-num\">3.2.2&nbsp;&nbsp;</span>Построим модель логистической регрессии</a></span></li><li><span><a href=\"#Построим-модель-дерево-решений\" data-toc-modified-id=\"Построим-модель-дерево-решений-3.2.3\"><span class=\"toc-item-num\">3.2.3&nbsp;&nbsp;</span>Построим модель дерево решений</a></span></li><li><span><a href=\"#Построим-модель-случайного-леса\" data-toc-modified-id=\"Построим-модель-случайного-леса-3.2.4\"><span class=\"toc-item-num\">3.2.4&nbsp;&nbsp;</span>Построим модель случайного леса</a></span></li><li><span><a href=\"#Вывод\" data-toc-modified-id=\"Вывод-3.2.5\"><span class=\"toc-item-num\">3.2.5&nbsp;&nbsp;</span>Вывод</a></span></li></ul></li></ul></li><li><span><a href=\"#Тестирование-модели\" data-toc-modified-id=\"Тестирование-модели-4\"><span class=\"toc-item-num\">4&nbsp;&nbsp;</span>Тестирование модели</a></span><ul class=\"toc-item\"><li><span><a href=\"#Модель-логистической-регрессии\" data-toc-modified-id=\"Модель-логистической-регрессии-4.1\"><span class=\"toc-item-num\">4.1&nbsp;&nbsp;</span>Модель логистической регрессии</a></span></li><li><span><a href=\"#Модель-дерево-решений\" data-toc-modified-id=\"Модель-дерево-решений-4.2\"><span class=\"toc-item-num\">4.2&nbsp;&nbsp;</span>Модель дерево решений</a></span></li><li><span><a href=\"#Модель-случайный-лес\" data-toc-modified-id=\"Модель-случайный-лес-4.3\"><span class=\"toc-item-num\">4.3&nbsp;&nbsp;</span>Модель случайный лес</a></span></li><li><span><a href=\"#Вывод\" data-toc-modified-id=\"Вывод-4.4\"><span class=\"toc-item-num\">4.4&nbsp;&nbsp;</span>Вывод</a></span></li></ul></li><li><span><a href=\"#Чек-лист-готовности-проекта\" data-toc-modified-id=\"Чек-лист-готовности-проекта-5\"><span class=\"toc-item-num\">5&nbsp;&nbsp;</span>Чек-лист готовности проекта</a></span></li></ul></div>"
      ]
    },
    {
      "cell_type": "markdown",
      "metadata": {
        "id": "_CXiGJWjTl_F"
      },
      "source": [
        "# Описание проекта. Отток клиентов"
      ]
    },
    {
      "cell_type": "markdown",
      "metadata": {
        "id": "k0lOrfoPTl_G"
      },
      "source": [
        "Из «Бета-Банка» стали уходить клиенты. Каждый месяц. Немного, но заметно. Банковские маркетологи посчитали: сохранять текущих клиентов дешевле, чем привлекать новых.\n",
        "\n",
        "Нужно спрогнозировать, уйдёт клиент из банка в ближайшее время или нет. Вам предоставлены исторические данные о поведении клиентов и расторжении договоров с банком.\n",
        "\n",
        "Постройте модель с предельно большим значением *F1*-меры. Чтобы сдать проект успешно, нужно довести метрику до 0.59. Проверьте *F1*-меру на тестовой выборке самостоятельно.\n",
        "\n",
        "Дополнительно измеряйте *AUC-ROC*, сравнивайте её значение с *F1*-мерой.\n",
        "\n",
        "Источник данных: [https://www.kaggle.com/barelydedicated/bank-customer-churn-modeling](https://www.kaggle.com/barelydedicated/bank-customer-churn-modeling)"
      ]
    },
    {
      "cell_type": "markdown",
      "metadata": {
        "id": "02J41y-4Tl_G"
      },
      "source": [
        "## Подготовка данных"
      ]
    },
    {
      "cell_type": "markdown",
      "metadata": {
        "id": "u_tQ95a6Tl_H"
      },
      "source": [
        "###### Импортируем библиотеки"
      ]
    },
    {
      "cell_type": "code",
      "execution_count": null,
      "metadata": {
        "id": "Ba4r6QNdTl_H"
      },
      "outputs": [],
      "source": [
        "import pandas as pd\n",
        "import matplotlib.pyplot as plt\n",
        "import seaborn as sns\n",
        "from sklearn.model_selection import train_test_split\n",
        "from sklearn.preprocessing import StandardScaler\n",
        "from sklearn.linear_model import LogisticRegression\n",
        "from sklearn.tree import DecisionTreeClassifier\n",
        "from sklearn.ensemble import RandomForestClassifier\n",
        "from sklearn.metrics import f1_score, roc_auc_score\n",
        "import warnings\n",
        "from itertools import chain\n",
        "from sklearn.utils import shuffle\n",
        "\n",
        "pd.options.mode.chained_assignment = None\n",
        "warnings.filterwarnings('ignore')\n",
        "pd.set_option('display.float_format', '{:,.2f}'.format)"
      ]
    },
    {
      "cell_type": "markdown",
      "metadata": {
        "id": "am5htXhhTl_I"
      },
      "source": [
        "Загрузим датафрейм, ознакомимся со структурой данных"
      ]
    },
    {
      "cell_type": "code",
      "execution_count": null,
      "metadata": {
        "scrolled": false,
        "id": "q-x5OQ0_Tl_I",
        "outputId": "3b18e95f-494b-43d5-aff4-767aaf744a7f"
      },
      "outputs": [
        {
          "name": "stdout",
          "output_type": "stream",
          "text": [
            "<class 'pandas.core.frame.DataFrame'>\n",
            "RangeIndex: 10000 entries, 0 to 9999\n",
            "Data columns (total 14 columns):\n",
            " #   Column           Non-Null Count  Dtype  \n",
            "---  ------           --------------  -----  \n",
            " 0   RowNumber        10000 non-null  int64  \n",
            " 1   CustomerId       10000 non-null  int64  \n",
            " 2   Surname          10000 non-null  object \n",
            " 3   CreditScore      10000 non-null  int64  \n",
            " 4   Geography        10000 non-null  object \n",
            " 5   Gender           10000 non-null  object \n",
            " 6   Age              10000 non-null  int64  \n",
            " 7   Tenure           9091 non-null   float64\n",
            " 8   Balance          10000 non-null  float64\n",
            " 9   NumOfProducts    10000 non-null  int64  \n",
            " 10  HasCrCard        10000 non-null  int64  \n",
            " 11  IsActiveMember   10000 non-null  int64  \n",
            " 12  EstimatedSalary  10000 non-null  float64\n",
            " 13  Exited           10000 non-null  int64  \n",
            "dtypes: float64(3), int64(8), object(3)\n",
            "memory usage: 1.1+ MB\n"
          ]
        },
        {
          "data": {
            "text/plain": [
              "(10000, 14)"
            ]
          },
          "execution_count": 2,
          "metadata": {},
          "output_type": "execute_result"
        }
      ],
      "source": [
        "data = pd.read_csv('/datasets/Churn.csv')\n",
        "\n",
        "data.info()\n",
        "data.shape"
      ]
    },
    {
      "cell_type": "markdown",
      "metadata": {
        "id": "E36IfZkyTl_J"
      },
      "source": [
        "Посмотрим первые 5 строк датафрейма"
      ]
    },
    {
      "cell_type": "code",
      "execution_count": null,
      "metadata": {
        "scrolled": true,
        "id": "bU0TZQSETl_J",
        "outputId": "dc26216c-4b7f-49d2-ea26-d3994232ce00"
      },
      "outputs": [
        {
          "data": {
            "text/html": [
              "<div>\n",
              "<style scoped>\n",
              "    .dataframe tbody tr th:only-of-type {\n",
              "        vertical-align: middle;\n",
              "    }\n",
              "\n",
              "    .dataframe tbody tr th {\n",
              "        vertical-align: top;\n",
              "    }\n",
              "\n",
              "    .dataframe thead th {\n",
              "        text-align: right;\n",
              "    }\n",
              "</style>\n",
              "<table border=\"1\" class=\"dataframe\">\n",
              "  <thead>\n",
              "    <tr style=\"text-align: right;\">\n",
              "      <th></th>\n",
              "      <th>RowNumber</th>\n",
              "      <th>CustomerId</th>\n",
              "      <th>Surname</th>\n",
              "      <th>CreditScore</th>\n",
              "      <th>Geography</th>\n",
              "      <th>Gender</th>\n",
              "      <th>Age</th>\n",
              "      <th>Tenure</th>\n",
              "      <th>Balance</th>\n",
              "      <th>NumOfProducts</th>\n",
              "      <th>HasCrCard</th>\n",
              "      <th>IsActiveMember</th>\n",
              "      <th>EstimatedSalary</th>\n",
              "      <th>Exited</th>\n",
              "    </tr>\n",
              "  </thead>\n",
              "  <tbody>\n",
              "    <tr>\n",
              "      <th>0</th>\n",
              "      <td>1</td>\n",
              "      <td>15634602</td>\n",
              "      <td>Hargrave</td>\n",
              "      <td>619</td>\n",
              "      <td>France</td>\n",
              "      <td>Female</td>\n",
              "      <td>42</td>\n",
              "      <td>2.00</td>\n",
              "      <td>0.00</td>\n",
              "      <td>1</td>\n",
              "      <td>1</td>\n",
              "      <td>1</td>\n",
              "      <td>101,348.88</td>\n",
              "      <td>1</td>\n",
              "    </tr>\n",
              "    <tr>\n",
              "      <th>1</th>\n",
              "      <td>2</td>\n",
              "      <td>15647311</td>\n",
              "      <td>Hill</td>\n",
              "      <td>608</td>\n",
              "      <td>Spain</td>\n",
              "      <td>Female</td>\n",
              "      <td>41</td>\n",
              "      <td>1.00</td>\n",
              "      <td>83,807.86</td>\n",
              "      <td>1</td>\n",
              "      <td>0</td>\n",
              "      <td>1</td>\n",
              "      <td>112,542.58</td>\n",
              "      <td>0</td>\n",
              "    </tr>\n",
              "    <tr>\n",
              "      <th>2</th>\n",
              "      <td>3</td>\n",
              "      <td>15619304</td>\n",
              "      <td>Onio</td>\n",
              "      <td>502</td>\n",
              "      <td>France</td>\n",
              "      <td>Female</td>\n",
              "      <td>42</td>\n",
              "      <td>8.00</td>\n",
              "      <td>159,660.80</td>\n",
              "      <td>3</td>\n",
              "      <td>1</td>\n",
              "      <td>0</td>\n",
              "      <td>113,931.57</td>\n",
              "      <td>1</td>\n",
              "    </tr>\n",
              "    <tr>\n",
              "      <th>3</th>\n",
              "      <td>4</td>\n",
              "      <td>15701354</td>\n",
              "      <td>Boni</td>\n",
              "      <td>699</td>\n",
              "      <td>France</td>\n",
              "      <td>Female</td>\n",
              "      <td>39</td>\n",
              "      <td>1.00</td>\n",
              "      <td>0.00</td>\n",
              "      <td>2</td>\n",
              "      <td>0</td>\n",
              "      <td>0</td>\n",
              "      <td>93,826.63</td>\n",
              "      <td>0</td>\n",
              "    </tr>\n",
              "    <tr>\n",
              "      <th>4</th>\n",
              "      <td>5</td>\n",
              "      <td>15737888</td>\n",
              "      <td>Mitchell</td>\n",
              "      <td>850</td>\n",
              "      <td>Spain</td>\n",
              "      <td>Female</td>\n",
              "      <td>43</td>\n",
              "      <td>2.00</td>\n",
              "      <td>125,510.82</td>\n",
              "      <td>1</td>\n",
              "      <td>1</td>\n",
              "      <td>1</td>\n",
              "      <td>79,084.10</td>\n",
              "      <td>0</td>\n",
              "    </tr>\n",
              "  </tbody>\n",
              "</table>\n",
              "</div>"
            ],
            "text/plain": [
              "   RowNumber  CustomerId   Surname  CreditScore Geography  Gender  Age  \\\n",
              "0          1    15634602  Hargrave          619    France  Female   42   \n",
              "1          2    15647311      Hill          608     Spain  Female   41   \n",
              "2          3    15619304      Onio          502    France  Female   42   \n",
              "3          4    15701354      Boni          699    France  Female   39   \n",
              "4          5    15737888  Mitchell          850     Spain  Female   43   \n",
              "\n",
              "   Tenure    Balance  NumOfProducts  HasCrCard  IsActiveMember  \\\n",
              "0    2.00       0.00              1          1               1   \n",
              "1    1.00  83,807.86              1          0               1   \n",
              "2    8.00 159,660.80              3          1               0   \n",
              "3    1.00       0.00              2          0               0   \n",
              "4    2.00 125,510.82              1          1               1   \n",
              "\n",
              "   EstimatedSalary  Exited  \n",
              "0       101,348.88       1  \n",
              "1       112,542.58       0  \n",
              "2       113,931.57       1  \n",
              "3        93,826.63       0  \n",
              "4        79,084.10       0  "
            ]
          },
          "execution_count": 3,
          "metadata": {},
          "output_type": "execute_result"
        }
      ],
      "source": [
        "data.head()"
      ]
    },
    {
      "cell_type": "markdown",
      "metadata": {
        "id": "Emhp2cILTl_K"
      },
      "source": [
        "Проверим наличие явных дубликатов"
      ]
    },
    {
      "cell_type": "code",
      "execution_count": null,
      "metadata": {
        "id": "HHhYNCAqTl_K",
        "outputId": "75e45c98-e16c-46c6-ef70-cad00e962f42"
      },
      "outputs": [
        {
          "data": {
            "text/plain": [
              "0"
            ]
          },
          "execution_count": 4,
          "metadata": {},
          "output_type": "execute_result"
        }
      ],
      "source": [
        "data.duplicated().sum()"
      ]
    },
    {
      "cell_type": "markdown",
      "metadata": {
        "id": "biJHq4sqTl_K"
      },
      "source": [
        "Явных дубликатов не обнаружено"
      ]
    },
    {
      "cell_type": "markdown",
      "metadata": {
        "id": "uSLrrpe8Tl_K"
      },
      "source": [
        "Выведем описательную статистику числовых характеристик с транспонированием"
      ]
    },
    {
      "cell_type": "code",
      "execution_count": null,
      "metadata": {
        "scrolled": true,
        "id": "norkqJvqTl_L",
        "outputId": "c56c5b6e-d4fe-4fe9-8ce4-c7699ee3b4c7"
      },
      "outputs": [
        {
          "data": {
            "text/html": [
              "<div>\n",
              "<style scoped>\n",
              "    .dataframe tbody tr th:only-of-type {\n",
              "        vertical-align: middle;\n",
              "    }\n",
              "\n",
              "    .dataframe tbody tr th {\n",
              "        vertical-align: top;\n",
              "    }\n",
              "\n",
              "    .dataframe thead th {\n",
              "        text-align: right;\n",
              "    }\n",
              "</style>\n",
              "<table border=\"1\" class=\"dataframe\">\n",
              "  <thead>\n",
              "    <tr style=\"text-align: right;\">\n",
              "      <th></th>\n",
              "      <th>count</th>\n",
              "      <th>mean</th>\n",
              "      <th>std</th>\n",
              "      <th>min</th>\n",
              "      <th>25%</th>\n",
              "      <th>50%</th>\n",
              "      <th>75%</th>\n",
              "      <th>max</th>\n",
              "    </tr>\n",
              "  </thead>\n",
              "  <tbody>\n",
              "    <tr>\n",
              "      <th>RowNumber</th>\n",
              "      <td>10,000.00</td>\n",
              "      <td>5,000.50</td>\n",
              "      <td>2,886.90</td>\n",
              "      <td>1.00</td>\n",
              "      <td>2,500.75</td>\n",
              "      <td>5,000.50</td>\n",
              "      <td>7,500.25</td>\n",
              "      <td>10,000.00</td>\n",
              "    </tr>\n",
              "    <tr>\n",
              "      <th>CustomerId</th>\n",
              "      <td>10,000.00</td>\n",
              "      <td>15,690,940.57</td>\n",
              "      <td>71,936.19</td>\n",
              "      <td>15,565,701.00</td>\n",
              "      <td>15,628,528.25</td>\n",
              "      <td>15,690,738.00</td>\n",
              "      <td>15,753,233.75</td>\n",
              "      <td>15,815,690.00</td>\n",
              "    </tr>\n",
              "    <tr>\n",
              "      <th>CreditScore</th>\n",
              "      <td>10,000.00</td>\n",
              "      <td>650.53</td>\n",
              "      <td>96.65</td>\n",
              "      <td>350.00</td>\n",
              "      <td>584.00</td>\n",
              "      <td>652.00</td>\n",
              "      <td>718.00</td>\n",
              "      <td>850.00</td>\n",
              "    </tr>\n",
              "    <tr>\n",
              "      <th>Age</th>\n",
              "      <td>10,000.00</td>\n",
              "      <td>38.92</td>\n",
              "      <td>10.49</td>\n",
              "      <td>18.00</td>\n",
              "      <td>32.00</td>\n",
              "      <td>37.00</td>\n",
              "      <td>44.00</td>\n",
              "      <td>92.00</td>\n",
              "    </tr>\n",
              "    <tr>\n",
              "      <th>Tenure</th>\n",
              "      <td>9,091.00</td>\n",
              "      <td>5.00</td>\n",
              "      <td>2.89</td>\n",
              "      <td>0.00</td>\n",
              "      <td>2.00</td>\n",
              "      <td>5.00</td>\n",
              "      <td>7.00</td>\n",
              "      <td>10.00</td>\n",
              "    </tr>\n",
              "    <tr>\n",
              "      <th>Balance</th>\n",
              "      <td>10,000.00</td>\n",
              "      <td>76,485.89</td>\n",
              "      <td>62,397.41</td>\n",
              "      <td>0.00</td>\n",
              "      <td>0.00</td>\n",
              "      <td>97,198.54</td>\n",
              "      <td>127,644.24</td>\n",
              "      <td>250,898.09</td>\n",
              "    </tr>\n",
              "    <tr>\n",
              "      <th>NumOfProducts</th>\n",
              "      <td>10,000.00</td>\n",
              "      <td>1.53</td>\n",
              "      <td>0.58</td>\n",
              "      <td>1.00</td>\n",
              "      <td>1.00</td>\n",
              "      <td>1.00</td>\n",
              "      <td>2.00</td>\n",
              "      <td>4.00</td>\n",
              "    </tr>\n",
              "    <tr>\n",
              "      <th>HasCrCard</th>\n",
              "      <td>10,000.00</td>\n",
              "      <td>0.71</td>\n",
              "      <td>0.46</td>\n",
              "      <td>0.00</td>\n",
              "      <td>0.00</td>\n",
              "      <td>1.00</td>\n",
              "      <td>1.00</td>\n",
              "      <td>1.00</td>\n",
              "    </tr>\n",
              "    <tr>\n",
              "      <th>IsActiveMember</th>\n",
              "      <td>10,000.00</td>\n",
              "      <td>0.52</td>\n",
              "      <td>0.50</td>\n",
              "      <td>0.00</td>\n",
              "      <td>0.00</td>\n",
              "      <td>1.00</td>\n",
              "      <td>1.00</td>\n",
              "      <td>1.00</td>\n",
              "    </tr>\n",
              "    <tr>\n",
              "      <th>EstimatedSalary</th>\n",
              "      <td>10,000.00</td>\n",
              "      <td>100,090.24</td>\n",
              "      <td>57,510.49</td>\n",
              "      <td>11.58</td>\n",
              "      <td>51,002.11</td>\n",
              "      <td>100,193.91</td>\n",
              "      <td>149,388.25</td>\n",
              "      <td>199,992.48</td>\n",
              "    </tr>\n",
              "    <tr>\n",
              "      <th>Exited</th>\n",
              "      <td>10,000.00</td>\n",
              "      <td>0.20</td>\n",
              "      <td>0.40</td>\n",
              "      <td>0.00</td>\n",
              "      <td>0.00</td>\n",
              "      <td>0.00</td>\n",
              "      <td>0.00</td>\n",
              "      <td>1.00</td>\n",
              "    </tr>\n",
              "  </tbody>\n",
              "</table>\n",
              "</div>"
            ],
            "text/plain": [
              "                    count          mean       std           min           25%  \\\n",
              "RowNumber       10,000.00      5,000.50  2,886.90          1.00      2,500.75   \n",
              "CustomerId      10,000.00 15,690,940.57 71,936.19 15,565,701.00 15,628,528.25   \n",
              "CreditScore     10,000.00        650.53     96.65        350.00        584.00   \n",
              "Age             10,000.00         38.92     10.49         18.00         32.00   \n",
              "Tenure           9,091.00          5.00      2.89          0.00          2.00   \n",
              "Balance         10,000.00     76,485.89 62,397.41          0.00          0.00   \n",
              "NumOfProducts   10,000.00          1.53      0.58          1.00          1.00   \n",
              "HasCrCard       10,000.00          0.71      0.46          0.00          0.00   \n",
              "IsActiveMember  10,000.00          0.52      0.50          0.00          0.00   \n",
              "EstimatedSalary 10,000.00    100,090.24 57,510.49         11.58     51,002.11   \n",
              "Exited          10,000.00          0.20      0.40          0.00          0.00   \n",
              "\n",
              "                          50%           75%           max  \n",
              "RowNumber            5,000.50      7,500.25     10,000.00  \n",
              "CustomerId      15,690,738.00 15,753,233.75 15,815,690.00  \n",
              "CreditScore            652.00        718.00        850.00  \n",
              "Age                     37.00         44.00         92.00  \n",
              "Tenure                   5.00          7.00         10.00  \n",
              "Balance             97,198.54    127,644.24    250,898.09  \n",
              "NumOfProducts            1.00          2.00          4.00  \n",
              "HasCrCard                1.00          1.00          1.00  \n",
              "IsActiveMember           1.00          1.00          1.00  \n",
              "EstimatedSalary    100,193.91    149,388.25    199,992.48  \n",
              "Exited                   0.00          0.00          1.00  "
            ]
          },
          "execution_count": 5,
          "metadata": {},
          "output_type": "execute_result"
        }
      ],
      "source": [
        "data.describe().T"
      ]
    },
    {
      "cell_type": "markdown",
      "metadata": {
        "id": "xrtrjl7iTl_L"
      },
      "source": [
        "Проверим наичие выбросов в признаках с большим стандартным отклонением - Balance, EstimatedSalary"
      ]
    },
    {
      "cell_type": "code",
      "execution_count": null,
      "metadata": {
        "id": "cKkbYE8mTl_L",
        "outputId": "6028dae7-12ed-4690-91f9-6c7fd40c6461"
      },
      "outputs": [
        {
          "data": {
            "image/png": "[encoded data removed]",
            "text/plain": [
              "<Figure size 648x432 with 1 Axes>"
            ]
          },
          "metadata": {
            "needs_background": "light"
          },
          "output_type": "display_data"
        }
      ],
      "source": [
        "plt.figure(figsize=(9,6))\n",
        "plt.hist(data['Balance'],bins=100)\n",
        "plt.show()"
      ]
    },
    {
      "cell_type": "markdown",
      "metadata": {
        "id": "pL0N15PRTl_L"
      },
      "source": [
        "Клиентов с нулевым балансом - более 3500. В остальном распределение нормальное."
      ]
    },
    {
      "cell_type": "markdown",
      "metadata": {
        "id": "C_EGab1OTl_L"
      },
      "source": [
        "Построим гистограмму предполагаемой зарплаты клиентов банка"
      ]
    },
    {
      "cell_type": "code",
      "execution_count": null,
      "metadata": {
        "id": "Kcdu0aM8Tl_M",
        "outputId": "c7c3d648-78ff-4b55-e8a0-ef97712cbd44"
      },
      "outputs": [
        {
          "data": {
            "image/png": "[encoded data removed]",
            "text/plain": [
              "<Figure size 648x432 with 1 Axes>"
            ]
          },
          "metadata": {
            "needs_background": "light"
          },
          "output_type": "display_data"
        }
      ],
      "source": [
        "plt.figure(figsize=(9,6))\n",
        "plt.hist(data['EstimatedSalary'],bins=100)\n",
        "plt.show()"
      ]
    },
    {
      "cell_type": "markdown",
      "metadata": {
        "id": "lmNmm8mSTl_M"
      },
      "source": [
        "Из гистограммы предполагаемой зарплаты видно, что значения от 0 до 200000, распределение равномерное, без выбросов."
      ]
    },
    {
      "cell_type": "markdown",
      "metadata": {
        "id": "WwLshoYrTl_M"
      },
      "source": [
        "Оценим взаимосвязь количественных признаков датасета с помощью коэффиента корреляции Пирсона.\n",
        "Построим матрицу коэффициентов корреляций в виде таблицы"
      ]
    },
    {
      "cell_type": "code",
      "execution_count": null,
      "metadata": {
        "id": "NONaH4hOTl_M",
        "outputId": "66b60264-3fb1-4fb4-df8d-26647023dda0"
      },
      "outputs": [
        {
          "data": {
            "text/html": [
              "<div>\n",
              "<style scoped>\n",
              "    .dataframe tbody tr th:only-of-type {\n",
              "        vertical-align: middle;\n",
              "    }\n",
              "\n",
              "    .dataframe tbody tr th {\n",
              "        vertical-align: top;\n",
              "    }\n",
              "\n",
              "    .dataframe thead th {\n",
              "        text-align: right;\n",
              "    }\n",
              "</style>\n",
              "<table border=\"1\" class=\"dataframe\">\n",
              "  <thead>\n",
              "    <tr style=\"text-align: right;\">\n",
              "      <th></th>\n",
              "      <th>CreditScore</th>\n",
              "      <th>Age</th>\n",
              "      <th>Balance</th>\n",
              "      <th>EstimatedSalary</th>\n",
              "    </tr>\n",
              "  </thead>\n",
              "  <tbody>\n",
              "    <tr>\n",
              "      <th>CreditScore</th>\n",
              "      <td>1.00</td>\n",
              "      <td>-0.00</td>\n",
              "      <td>0.01</td>\n",
              "      <td>-0.00</td>\n",
              "    </tr>\n",
              "    <tr>\n",
              "      <th>Age</th>\n",
              "      <td>-0.00</td>\n",
              "      <td>1.00</td>\n",
              "      <td>0.03</td>\n",
              "      <td>-0.01</td>\n",
              "    </tr>\n",
              "    <tr>\n",
              "      <th>Balance</th>\n",
              "      <td>0.01</td>\n",
              "      <td>0.03</td>\n",
              "      <td>1.00</td>\n",
              "      <td>0.01</td>\n",
              "    </tr>\n",
              "    <tr>\n",
              "      <th>EstimatedSalary</th>\n",
              "      <td>-0.00</td>\n",
              "      <td>-0.01</td>\n",
              "      <td>0.01</td>\n",
              "      <td>1.00</td>\n",
              "    </tr>\n",
              "  </tbody>\n",
              "</table>\n",
              "</div>"
            ],
            "text/plain": [
              "                 CreditScore   Age  Balance  EstimatedSalary\n",
              "CreditScore             1.00 -0.00     0.01            -0.00\n",
              "Age                    -0.00  1.00     0.03            -0.01\n",
              "Balance                 0.01  0.03     1.00             0.01\n",
              "EstimatedSalary        -0.00 -0.01     0.01             1.00"
            ]
          },
          "metadata": {},
          "output_type": "display_data"
        }
      ],
      "source": [
        "display(data[['CreditScore', 'Age', 'Balance', 'EstimatedSalary']].corr())"
      ]
    },
    {
      "cell_type": "markdown",
      "metadata": {
        "id": "l9zHI20ZTl_M"
      },
      "source": [
        "Построим диаграмму рассеяния"
      ]
    },
    {
      "cell_type": "code",
      "execution_count": null,
      "metadata": {
        "scrolled": false,
        "id": "FYPE5NrvTl_M",
        "outputId": "0e3a91be-4a00-4ba8-e5f0-648574bfd42f"
      },
      "outputs": [
        {
          "data": {
            "text/plain": [
              "array([[<AxesSubplot:xlabel='CreditScore', ylabel='CreditScore'>,\n",
              "        <AxesSubplot:xlabel='Age', ylabel='CreditScore'>,\n",
              "        <AxesSubplot:xlabel='Balance', ylabel='CreditScore'>,\n",
              "        <AxesSubplot:xlabel='EstimatedSalary', ylabel='CreditScore'>],\n",
              "       [<AxesSubplot:xlabel='CreditScore', ylabel='Age'>,\n",
              "        <AxesSubplot:xlabel='Age', ylabel='Age'>,\n",
              "        <AxesSubplot:xlabel='Balance', ylabel='Age'>,\n",
              "        <AxesSubplot:xlabel='EstimatedSalary', ylabel='Age'>],\n",
              "       [<AxesSubplot:xlabel='CreditScore', ylabel='Balance'>,\n",
              "        <AxesSubplot:xlabel='Age', ylabel='Balance'>,\n",
              "        <AxesSubplot:xlabel='Balance', ylabel='Balance'>,\n",
              "        <AxesSubplot:xlabel='EstimatedSalary', ylabel='Balance'>],\n",
              "       [<AxesSubplot:xlabel='CreditScore', ylabel='EstimatedSalary'>,\n",
              "        <AxesSubplot:xlabel='Age', ylabel='EstimatedSalary'>,\n",
              "        <AxesSubplot:xlabel='Balance', ylabel='EstimatedSalary'>,\n",
              "        <AxesSubplot:xlabel='EstimatedSalary', ylabel='EstimatedSalary'>]],\n",
              "      dtype=object)"
            ]
          },
          "execution_count": 152,
          "metadata": {},
          "output_type": "execute_result"
        },
        {
          "data": {
            "image/png": "[encoded data removed]",
            "text/plain": [
              "<Figure size 936x936 with 16 Axes>"
            ]
          },
          "metadata": {
            "needs_background": "light"
          },
          "output_type": "display_data"
        }
      ],
      "source": [
        "pd.plotting.scatter_matrix(data[['CreditScore', 'Age', 'Balance', 'EstimatedSalary']], figsize=(13,13))"
      ]
    },
    {
      "cell_type": "markdown",
      "metadata": {
        "id": "pECdi27JTl_N"
      },
      "source": [
        "Сильные взаимосвязи не обнаружены. Из диаграммы видно что отсутствие средств на счете клиента не зависит от кредитного рейтинга, возраста и его предполагаемой зарплаты."
      ]
    },
    {
      "cell_type": "markdown",
      "metadata": {
        "id": "ukemTeB2Tl_N"
      },
      "source": [
        "### Вывод:\n",
        " - Датафрейм содержит 10000 строк, 14 столбцов\n",
        " - Столбец **Tenure** содержит пустые значения\n",
        " - Названия столбцов содержат разный регистр, необходимо привести к нижнему регистру\n",
        " - Минимальная предполагаемая зарплата 11.58, можно будет проверить признак на выбросы\n",
        " - Нулевые значения в столбце **Balance** — баланс на счёте, возможно клиенты не хранят деньги на счету, но пользуются другими услугами банка, исключать данные из выборки не будем.\n",
        " - Значения по **EstimatedSalary** — предполагаемая зарплата, равномерные, без выбросов, от 0 до 200000.\n",
        "\n",
        "Из представленных данных нам известны значения признаков\n",
        " - RowNumber — индекс строки в данных (тип - int64)\n",
        " - CustomerId — уникальный идентификатор клиента (тип - int64)\n",
        " - Surname — фамилия (тип - object)\n",
        " - CreditScore — кредитный рейтинг (тип - int64)\n",
        " - Geography — страна проживания (тип - object)\n",
        " - Gender — пол (тип - object)\n",
        " - Age — возраст (тип - int64)\n",
        " - Tenure — сколько лет человек является клиентом банка (тип - float64)\n",
        " - Balance — баланс на счёте (тип - float64)\n",
        " - NumOfProducts — количество продуктов банка, используемых клиентом (тип - int64)\n",
        " - HasCrCard — наличие кредитной карты (тип - int64)\n",
        " - IsActiveMember — активность клиента (тип - int64)\n",
        " - EstimatedSalary — предполагаемая зарплата (тип - float64)  \n",
        "\n",
        "Целевой признак\n",
        " - Exited — факт ухода клиента (тип - int64)"
      ]
    },
    {
      "cell_type": "markdown",
      "metadata": {
        "id": "cUpZYrujTl_N"
      },
      "source": [
        "### Предобработка и обработка данных"
      ]
    },
    {
      "cell_type": "markdown",
      "metadata": {
        "id": "872UnvbpTl_O"
      },
      "source": [
        "Преобразование регистра. Выведем список признаков"
      ]
    },
    {
      "cell_type": "code",
      "execution_count": null,
      "metadata": {
        "id": "AlJtFf5gTl_O",
        "outputId": "fcab60f8-f3a4-46e4-ec84-d09b26eba525"
      },
      "outputs": [
        {
          "data": {
            "text/plain": [
              "Index(['RowNumber', 'CustomerId', 'Surname', 'CreditScore', 'Geography',\n",
              "       'Gender', 'Age', 'Tenure', 'Balance', 'NumOfProducts', 'HasCrCard',\n",
              "       'IsActiveMember', 'EstimatedSalary', 'Exited'],\n",
              "      dtype='object')"
            ]
          },
          "execution_count": 153,
          "metadata": {},
          "output_type": "execute_result"
        }
      ],
      "source": [
        "data.columns"
      ]
    },
    {
      "cell_type": "markdown",
      "metadata": {
        "id": "Nwmgro6UTl_O"
      },
      "source": [
        "Приведем все наименования к нижнему регистру и после этого выведем на экран"
      ]
    },
    {
      "cell_type": "code",
      "execution_count": null,
      "metadata": {
        "scrolled": true,
        "id": "w9BHHXfbTl_O",
        "outputId": "398a3b4b-b48f-49a6-f787-af9fd27b5604"
      },
      "outputs": [
        {
          "data": {
            "text/plain": [
              "Index(['row_number', 'customer_id', 'surname', 'credit_score', 'geography',\n",
              "       'gender', 'age', 'tenure', 'balance', 'num_of_products', 'has_cr_card',\n",
              "       'is_active_member', 'estimated_salary', 'exited'],\n",
              "      dtype='object')"
            ]
          },
          "execution_count": 154,
          "metadata": {},
          "output_type": "execute_result"
        }
      ],
      "source": [
        "data = data.rename(columns={'RowNumber':'row_number', 'CustomerId':'customer_id',\n",
        "                            'Surname':'surname', 'CreditScore':'credit_score',\n",
        "                            'Geography':'geography','Gender':'gender', 'Age':'age',\n",
        "                            'Tenure':'tenure', 'Balance':'balance', 'NumOfProducts':'num_of_products',\n",
        "                            'HasCrCard':'has_cr_card', 'IsActiveMember':'is_active_member',\n",
        "                            'EstimatedSalary':'estimated_salary', 'Exited':'exited'})\n",
        "\n",
        "data.columns"
      ]
    },
    {
      "cell_type": "markdown",
      "metadata": {
        "id": "li8mXe1HTl_P"
      },
      "source": [
        "Приведем содержимое столбцов **Surname, Geography, Gender** к нижнему регистру"
      ]
    },
    {
      "cell_type": "code",
      "execution_count": null,
      "metadata": {
        "scrolled": true,
        "id": "cw-kD0gnTl_P",
        "outputId": "98e4251f-738c-4242-de28-1cc7b93b9e28"
      },
      "outputs": [
        {
          "data": {
            "text/html": [
              "<div>\n",
              "<style scoped>\n",
              "    .dataframe tbody tr th:only-of-type {\n",
              "        vertical-align: middle;\n",
              "    }\n",
              "\n",
              "    .dataframe tbody tr th {\n",
              "        vertical-align: top;\n",
              "    }\n",
              "\n",
              "    .dataframe thead th {\n",
              "        text-align: right;\n",
              "    }\n",
              "</style>\n",
              "<table border=\"1\" class=\"dataframe\">\n",
              "  <thead>\n",
              "    <tr style=\"text-align: right;\">\n",
              "      <th></th>\n",
              "      <th>row_number</th>\n",
              "      <th>customer_id</th>\n",
              "      <th>surname</th>\n",
              "      <th>credit_score</th>\n",
              "      <th>geography</th>\n",
              "      <th>gender</th>\n",
              "      <th>age</th>\n",
              "      <th>tenure</th>\n",
              "      <th>balance</th>\n",
              "      <th>num_of_products</th>\n",
              "      <th>has_cr_card</th>\n",
              "      <th>is_active_member</th>\n",
              "      <th>estimated_salary</th>\n",
              "      <th>exited</th>\n",
              "    </tr>\n",
              "  </thead>\n",
              "  <tbody>\n",
              "    <tr>\n",
              "      <th>0</th>\n",
              "      <td>1</td>\n",
              "      <td>15634602</td>\n",
              "      <td>hargrave</td>\n",
              "      <td>619</td>\n",
              "      <td>france</td>\n",
              "      <td>female</td>\n",
              "      <td>42</td>\n",
              "      <td>2.00</td>\n",
              "      <td>0.00</td>\n",
              "      <td>1</td>\n",
              "      <td>1</td>\n",
              "      <td>1</td>\n",
              "      <td>101,348.88</td>\n",
              "      <td>1</td>\n",
              "    </tr>\n",
              "    <tr>\n",
              "      <th>1</th>\n",
              "      <td>2</td>\n",
              "      <td>15647311</td>\n",
              "      <td>hill</td>\n",
              "      <td>608</td>\n",
              "      <td>spain</td>\n",
              "      <td>female</td>\n",
              "      <td>41</td>\n",
              "      <td>1.00</td>\n",
              "      <td>83,807.86</td>\n",
              "      <td>1</td>\n",
              "      <td>0</td>\n",
              "      <td>1</td>\n",
              "      <td>112,542.58</td>\n",
              "      <td>0</td>\n",
              "    </tr>\n",
              "    <tr>\n",
              "      <th>2</th>\n",
              "      <td>3</td>\n",
              "      <td>15619304</td>\n",
              "      <td>onio</td>\n",
              "      <td>502</td>\n",
              "      <td>france</td>\n",
              "      <td>female</td>\n",
              "      <td>42</td>\n",
              "      <td>8.00</td>\n",
              "      <td>159,660.80</td>\n",
              "      <td>3</td>\n",
              "      <td>1</td>\n",
              "      <td>0</td>\n",
              "      <td>113,931.57</td>\n",
              "      <td>1</td>\n",
              "    </tr>\n",
              "    <tr>\n",
              "      <th>3</th>\n",
              "      <td>4</td>\n",
              "      <td>15701354</td>\n",
              "      <td>boni</td>\n",
              "      <td>699</td>\n",
              "      <td>france</td>\n",
              "      <td>female</td>\n",
              "      <td>39</td>\n",
              "      <td>1.00</td>\n",
              "      <td>0.00</td>\n",
              "      <td>2</td>\n",
              "      <td>0</td>\n",
              "      <td>0</td>\n",
              "      <td>93,826.63</td>\n",
              "      <td>0</td>\n",
              "    </tr>\n",
              "    <tr>\n",
              "      <th>4</th>\n",
              "      <td>5</td>\n",
              "      <td>15737888</td>\n",
              "      <td>mitchell</td>\n",
              "      <td>850</td>\n",
              "      <td>spain</td>\n",
              "      <td>female</td>\n",
              "      <td>43</td>\n",
              "      <td>2.00</td>\n",
              "      <td>125,510.82</td>\n",
              "      <td>1</td>\n",
              "      <td>1</td>\n",
              "      <td>1</td>\n",
              "      <td>79,084.10</td>\n",
              "      <td>0</td>\n",
              "    </tr>\n",
              "  </tbody>\n",
              "</table>\n",
              "</div>"
            ],
            "text/plain": [
              "   row_number  customer_id   surname  credit_score geography  gender  age  \\\n",
              "0           1     15634602  hargrave           619    france  female   42   \n",
              "1           2     15647311      hill           608     spain  female   41   \n",
              "2           3     15619304      onio           502    france  female   42   \n",
              "3           4     15701354      boni           699    france  female   39   \n",
              "4           5     15737888  mitchell           850     spain  female   43   \n",
              "\n",
              "   tenure    balance  num_of_products  has_cr_card  is_active_member  \\\n",
              "0    2.00       0.00                1            1                 1   \n",
              "1    1.00  83,807.86                1            0                 1   \n",
              "2    8.00 159,660.80                3            1                 0   \n",
              "3    1.00       0.00                2            0                 0   \n",
              "4    2.00 125,510.82                1            1                 1   \n",
              "\n",
              "   estimated_salary  exited  \n",
              "0        101,348.88       1  \n",
              "1        112,542.58       0  \n",
              "2        113,931.57       1  \n",
              "3         93,826.63       0  \n",
              "4         79,084.10       0  "
            ]
          },
          "execution_count": 155,
          "metadata": {},
          "output_type": "execute_result"
        }
      ],
      "source": [
        "data['surname'] = data['surname'].str.lower()\n",
        "data['geography'] = data['geography'].str.lower()\n",
        "data['gender'] = data['gender'].str.lower()\n",
        "\n",
        "data.head()"
      ]
    },
    {
      "cell_type": "markdown",
      "metadata": {
        "id": "kdpBs_hnTl_P"
      },
      "source": [
        "Создадим переменные `features` и `target`, содержащие признаки объекта и целевой признак соответственно. В переменную `features` НЕ будем включать следующие признаки: `порядковый номер, id клиента, фамилию и целевой признак`"
      ]
    },
    {
      "cell_type": "code",
      "execution_count": null,
      "metadata": {
        "id": "OZuEkt5mTl_P"
      },
      "outputs": [],
      "source": [
        "features = data.drop(['row_number', 'customer_id', 'surname', 'exited'], axis=1)\n",
        "target = data[['exited']]"
      ]
    },
    {
      "cell_type": "markdown",
      "metadata": {
        "id": "uE7wvPIvTl_Q"
      },
      "source": [
        "Преобразование категориальных признаков в числовые. Преобразуем категориальные признаки в численные методом `OHE (One-Hot Encoding)`. В нашем датасете содержатся следующие нечисловые категориальные переменные: **geography, gender**. Рассмотрим уникальные значение в этих признаках"
      ]
    },
    {
      "cell_type": "code",
      "execution_count": null,
      "metadata": {
        "id": "YWJ9UJQpTl_Q",
        "outputId": "cce5e13c-b26a-4dde-a25f-3ab22c828d51"
      },
      "outputs": [
        {
          "data": {
            "text/plain": [
              "array(['france', 'spain', 'germany'], dtype=object)"
            ]
          },
          "metadata": {},
          "output_type": "display_data"
        },
        {
          "data": {
            "text/plain": [
              "array(['female', 'male'], dtype=object)"
            ]
          },
          "metadata": {},
          "output_type": "display_data"
        }
      ],
      "source": [
        "display(features['geography'].unique())\n",
        "display(features['gender'].unique())"
      ]
    },
    {
      "cell_type": "markdown",
      "metadata": {
        "id": "pF_f_PEITl_Q"
      },
      "source": [
        "В результате применения прямого кодирования методом OHE для признака **gender** будет создано два дополнительных столбца, а для **geography** - три. В этом случае можно угодить в ловушку фиктивных признаков (дамми-ловушка). Чтобы этого избежать, при использование прямого кодирования укажем аргумент `drop_first` со значением `True`."
      ]
    },
    {
      "cell_type": "code",
      "execution_count": null,
      "metadata": {
        "id": "A6OhFdqGTl_Q"
      },
      "outputs": [],
      "source": [
        "features = pd.get_dummies(features, drop_first=True)"
      ]
    },
    {
      "cell_type": "markdown",
      "metadata": {
        "id": "7SLclqbGTl_Q"
      },
      "source": [
        "Проверим результаты прямого кодирования, выведем первые 5 строк на экран"
      ]
    },
    {
      "cell_type": "code",
      "execution_count": null,
      "metadata": {
        "id": "mOvUF3l-Tl_Q",
        "outputId": "a805e6ba-eef5-41b4-e9e3-5c5909aff1b2"
      },
      "outputs": [
        {
          "data": {
            "text/html": [
              "<div>\n",
              "<style scoped>\n",
              "    .dataframe tbody tr th:only-of-type {\n",
              "        vertical-align: middle;\n",
              "    }\n",
              "\n",
              "    .dataframe tbody tr th {\n",
              "        vertical-align: top;\n",
              "    }\n",
              "\n",
              "    .dataframe thead th {\n",
              "        text-align: right;\n",
              "    }\n",
              "</style>\n",
              "<table border=\"1\" class=\"dataframe\">\n",
              "  <thead>\n",
              "    <tr style=\"text-align: right;\">\n",
              "      <th></th>\n",
              "      <th>credit_score</th>\n",
              "      <th>age</th>\n",
              "      <th>tenure</th>\n",
              "      <th>balance</th>\n",
              "      <th>num_of_products</th>\n",
              "      <th>has_cr_card</th>\n",
              "      <th>is_active_member</th>\n",
              "      <th>estimated_salary</th>\n",
              "      <th>geography_germany</th>\n",
              "      <th>geography_spain</th>\n",
              "      <th>gender_male</th>\n",
              "    </tr>\n",
              "  </thead>\n",
              "  <tbody>\n",
              "    <tr>\n",
              "      <th>0</th>\n",
              "      <td>619</td>\n",
              "      <td>42</td>\n",
              "      <td>2.00</td>\n",
              "      <td>0.00</td>\n",
              "      <td>1</td>\n",
              "      <td>1</td>\n",
              "      <td>1</td>\n",
              "      <td>101,348.88</td>\n",
              "      <td>0</td>\n",
              "      <td>0</td>\n",
              "      <td>0</td>\n",
              "    </tr>\n",
              "    <tr>\n",
              "      <th>1</th>\n",
              "      <td>608</td>\n",
              "      <td>41</td>\n",
              "      <td>1.00</td>\n",
              "      <td>83,807.86</td>\n",
              "      <td>1</td>\n",
              "      <td>0</td>\n",
              "      <td>1</td>\n",
              "      <td>112,542.58</td>\n",
              "      <td>0</td>\n",
              "      <td>1</td>\n",
              "      <td>0</td>\n",
              "    </tr>\n",
              "    <tr>\n",
              "      <th>2</th>\n",
              "      <td>502</td>\n",
              "      <td>42</td>\n",
              "      <td>8.00</td>\n",
              "      <td>159,660.80</td>\n",
              "      <td>3</td>\n",
              "      <td>1</td>\n",
              "      <td>0</td>\n",
              "      <td>113,931.57</td>\n",
              "      <td>0</td>\n",
              "      <td>0</td>\n",
              "      <td>0</td>\n",
              "    </tr>\n",
              "    <tr>\n",
              "      <th>3</th>\n",
              "      <td>699</td>\n",
              "      <td>39</td>\n",
              "      <td>1.00</td>\n",
              "      <td>0.00</td>\n",
              "      <td>2</td>\n",
              "      <td>0</td>\n",
              "      <td>0</td>\n",
              "      <td>93,826.63</td>\n",
              "      <td>0</td>\n",
              "      <td>0</td>\n",
              "      <td>0</td>\n",
              "    </tr>\n",
              "    <tr>\n",
              "      <th>4</th>\n",
              "      <td>850</td>\n",
              "      <td>43</td>\n",
              "      <td>2.00</td>\n",
              "      <td>125,510.82</td>\n",
              "      <td>1</td>\n",
              "      <td>1</td>\n",
              "      <td>1</td>\n",
              "      <td>79,084.10</td>\n",
              "      <td>0</td>\n",
              "      <td>1</td>\n",
              "      <td>0</td>\n",
              "    </tr>\n",
              "  </tbody>\n",
              "</table>\n",
              "</div>"
            ],
            "text/plain": [
              "   credit_score  age  tenure    balance  num_of_products  has_cr_card  \\\n",
              "0           619   42    2.00       0.00                1            1   \n",
              "1           608   41    1.00  83,807.86                1            0   \n",
              "2           502   42    8.00 159,660.80                3            1   \n",
              "3           699   39    1.00       0.00                2            0   \n",
              "4           850   43    2.00 125,510.82                1            1   \n",
              "\n",
              "   is_active_member  estimated_salary  geography_germany  geography_spain  \\\n",
              "0                 1        101,348.88                  0                0   \n",
              "1                 1        112,542.58                  0                1   \n",
              "2                 0        113,931.57                  0                0   \n",
              "3                 0         93,826.63                  0                0   \n",
              "4                 1         79,084.10                  0                1   \n",
              "\n",
              "   gender_male  \n",
              "0            0  \n",
              "1            0  \n",
              "2            0  \n",
              "3            0  \n",
              "4            0  "
            ]
          },
          "execution_count": 159,
          "metadata": {},
          "output_type": "execute_result"
        }
      ],
      "source": [
        "features.head()"
      ]
    },
    {
      "cell_type": "markdown",
      "metadata": {
        "id": "w1vQYZoeTl_R"
      },
      "source": [
        "Разделим исходные данные на обучающую, валидационную и тестовую выборки в соотношении 3:1:1. Для этого воспользуемся инструментом train_test_split. Разбиение датасета выполним в два этапа:\n",
        "\n",
        "1) Разделим датасет в соотношении 60 % (обучающая выборка) на 40 % (выборка, включающая валидационную и тестовую)\n",
        "\n",
        "2) Разделим валидационную и тестовую выборку в соотношении 50 % на 50 %"
      ]
    },
    {
      "cell_type": "code",
      "execution_count": null,
      "metadata": {
        "id": "5i7kuz9xTl_R"
      },
      "outputs": [],
      "source": [
        "features_train, features_valid_test, target_train, target_valid_test = train_test_split(\n",
        "    features, target, test_size=0.4, random_state=12345, stratify = target)\n",
        "\n",
        "features_valid, features_test, target_valid, target_test = train_test_split(\n",
        "    features_valid_test, target_valid_test, test_size=0.5, random_state=12345, stratify = target_valid_test)"
      ]
    },
    {
      "cell_type": "markdown",
      "metadata": {
        "id": "IFYvA7-sTl_R"
      },
      "source": [
        "Создадим список с имеющимися выборками"
      ]
    },
    {
      "cell_type": "code",
      "execution_count": null,
      "metadata": {
        "id": "8v_wdQh4Tl_R"
      },
      "outputs": [],
      "source": [
        "samples = [features_train, target_train, features_valid, target_valid, features_test, target_test]"
      ]
    },
    {
      "cell_type": "markdown",
      "metadata": {
        "id": "cGvzOklKTl_R"
      },
      "source": [
        "Проверим количество объектов в получившихся выборках. Воспользуемся циклом"
      ]
    },
    {
      "cell_type": "code",
      "execution_count": null,
      "metadata": {
        "scrolled": true,
        "id": "3fkyOsImTl_S",
        "outputId": "34e9769e-5fef-4c4f-b59a-54c3e264188e"
      },
      "outputs": [
        {
          "name": "stdout",
          "output_type": "stream",
          "text": [
            "Выборка features_train имеет следующую форму: (6000, 11)\n",
            "Выборка target_train имеет следующую форму: (6000, 1)\n",
            "Выборка features_valid имеет следующую форму: (2000, 11)\n",
            "Выборка target_valid имеет следующую форму: (2000, 1)\n",
            "Выборка features_test имеет следующую форму: (2000, 11)\n",
            "Выборка target_test имеет следующую форму: (2000, 1)\n"
          ]
        }
      ],
      "source": [
        "for sample in range(len(samples)):\n",
        "    samples_names = ['features_train', 'target_train', 'features_valid', 'target_valid', 'features_test', 'target_test']\n",
        "    print(f'Выборка {samples_names[sample]} имеет следующую форму: {samples[sample].shape}')"
      ]
    },
    {
      "cell_type": "markdown",
      "metadata": {
        "id": "WfjVUgCBTl_S"
      },
      "source": [
        "Данные успешно разделены"
      ]
    },
    {
      "cell_type": "markdown",
      "metadata": {
        "id": "de4cDuIcTl_S"
      },
      "source": [
        "\n",
        "### Обработка пропущенных значений\n",
        "\n"
      ]
    },
    {
      "cell_type": "markdown",
      "metadata": {
        "id": "ETBfqWYyTl_T"
      },
      "source": [
        "Обработку пропущенных значений намеренно выполним после разделения на обучающую, валидационную и тестовую выборки, чтобы при расчете медиан не учатствовали данные из других выборок. Параметр tenure описывает то, сколько лет человек является клиентом банка. Связь данного признака с остальными неочевидна, поэтому заполним пропуски на медианные значения данного параметра по всем объектам"
      ]
    },
    {
      "cell_type": "markdown",
      "metadata": {
        "id": "gt_zev0ITl_T"
      },
      "source": [
        "Оценим количество пропущенных значений в каждой выборке"
      ]
    },
    {
      "cell_type": "code",
      "execution_count": null,
      "metadata": {
        "id": "JWMWozQ9Tl_T",
        "outputId": "26c10cdf-3f88-4598-a1c8-1c98666c26d0"
      },
      "outputs": [
        {
          "name": "stdout",
          "output_type": "stream",
          "text": [
            "Выборка features_train имеет следующее количество пропусков: 554\n",
            "Выборка target_train имеет следующее количество пропусков: 0\n",
            "Выборка features_valid имеет следующее количество пропусков: 172\n",
            "Выборка target_valid имеет следующее количество пропусков: 0\n",
            "Выборка features_test имеет следующее количество пропусков: 183\n",
            "Выборка target_test имеет следующее количество пропусков: 0\n"
          ]
        }
      ],
      "source": [
        "for sample in range(len(samples)):\n",
        "    samples_names = ['features_train', 'target_train', 'features_valid', 'target_valid', 'features_test', 'target_test']\n",
        "    print(f'Выборка {samples_names[sample]} имеет следующее количество пропусков: {samples[sample].isna().sum().sum()}')"
      ]
    },
    {
      "cell_type": "markdown",
      "metadata": {
        "id": "ZXe3ump9Tl_T"
      },
      "source": [
        "Произведем замену пропусков на медианные значение с помощью инструмента fillna"
      ]
    },
    {
      "cell_type": "code",
      "execution_count": null,
      "metadata": {
        "id": "AW_mQfA0Tl_U"
      },
      "outputs": [],
      "source": [
        "features_train['tenure'] = features_train['tenure'].fillna(data['tenure'].median())\n",
        "features_valid['tenure'] = features_valid['tenure'].fillna(data['tenure'].median())\n",
        "features_test['tenure'] = features_test['tenure'].fillna(data['tenure'].median())"
      ]
    },
    {
      "cell_type": "markdown",
      "metadata": {
        "id": "EjhUfqeBTl_U"
      },
      "source": [
        "Проверим успешность преобразований"
      ]
    },
    {
      "cell_type": "code",
      "execution_count": null,
      "metadata": {
        "id": "GBBkTS9oTl_U",
        "outputId": "e428a80d-1131-48ba-c79c-00fa7de664cd"
      },
      "outputs": [
        {
          "name": "stdout",
          "output_type": "stream",
          "text": [
            "Выборка features_train имеет следующее количество пропусков: 0\n",
            "Выборка target_train имеет следующее количество пропусков: 0\n",
            "Выборка features_valid имеет следующее количество пропусков: 0\n",
            "Выборка target_valid имеет следующее количество пропусков: 0\n",
            "Выборка features_test имеет следующее количество пропусков: 0\n",
            "Выборка target_test имеет следующее количество пропусков: 0\n"
          ]
        }
      ],
      "source": [
        "for sample in range(len(samples)):\n",
        "    samples_names = ['features_train', 'target_train', 'features_valid', 'target_valid', 'features_test', 'target_test']\n",
        "    print(f'Выборка {samples_names[sample]} имеет следующее количество пропусков: {samples[sample].isna().sum().sum()}')"
      ]
    },
    {
      "cell_type": "markdown",
      "metadata": {
        "id": "aCZ1c9WdTl_V"
      },
      "source": [
        "### Преобразование типов признаков"
      ]
    },
    {
      "cell_type": "markdown",
      "metadata": {
        "id": "2M12bHYqTl_V"
      },
      "source": [
        "Столбец **tenure** имеет тип `float`, проверим уникальные значения признака по всем выборкам признаков"
      ]
    },
    {
      "cell_type": "code",
      "execution_count": null,
      "metadata": {
        "id": "bNKIWbEJTl_V",
        "outputId": "e9495a76-a64d-4a08-b4b4-2203dcd3352b"
      },
      "outputs": [
        {
          "name": "stdout",
          "output_type": "stream",
          "text": [
            "[ 6.  5.  8.  1.  7.  0.  9. 10.  2.  3.  4.]\n",
            "[ 3.  6.  8.  4.  5.  7.  2. 10.  1.  0.  9.]\n",
            "[ 1.  7.  4.  5.  2.  6.  3.  0.  8.  9. 10.]\n"
          ]
        }
      ],
      "source": [
        "print(features_train['tenure'].unique())\n",
        "print(features_valid['tenure'].unique())\n",
        "print(features_test['tenure'].unique())"
      ]
    },
    {
      "cell_type": "markdown",
      "metadata": {
        "id": "2Do55dluTl_V"
      },
      "source": [
        "Все значения не имеют дробных частей, поэтому преобразуем признак в целочисленный тип. Затем проверим успешность преобразования"
      ]
    },
    {
      "cell_type": "code",
      "execution_count": null,
      "metadata": {
        "id": "Hs5BryrKTl_V",
        "outputId": "d036777e-5c9d-4470-9fec-227b1a74e000"
      },
      "outputs": [
        {
          "name": "stdout",
          "output_type": "stream",
          "text": [
            "Тип признака tenure в тренировочной выборке int64\n",
            "Тип признака tenure в валидационной выборке int64\n",
            "Тип признака tenure в тестовой выборке int64\n"
          ]
        }
      ],
      "source": [
        "features_train['tenure'] = features_train['tenure'].astype(int)\n",
        "features_valid['tenure'] = features_valid['tenure'].astype(int)\n",
        "features_test['tenure'] = features_test['tenure'].astype(int)\n",
        "\n",
        "print('Тип признака tenure в тренировочной выборке {0}'.format(features_train['tenure'].dtypes))\n",
        "print('Тип признака tenure в валидационной выборке {0}'.format(features_valid['tenure'].dtypes))\n",
        "print('Тип признака tenure в тестовой выборке {0}'.format(features_test['tenure'].dtypes))"
      ]
    },
    {
      "cell_type": "markdown",
      "metadata": {
        "id": "h_Myxgx8Tl_W"
      },
      "source": [
        "### Масштабирование признаков"
      ]
    },
    {
      "cell_type": "markdown",
      "metadata": {
        "id": "qhaonoaATl_W"
      },
      "source": [
        "Если в данных присутствуют числовые признаки с разными разбросами значений, то алгорим может решить, что признаки с большими значениями и разбросом важнее. Поэтому применяется масштабирование признаков. Применим стандартизацию данных с помощью инструмента StandartScaler"
      ]
    },
    {
      "cell_type": "code",
      "execution_count": null,
      "metadata": {
        "id": "q6PDDPGHTl_W"
      },
      "outputs": [],
      "source": [
        "scaler = StandardScaler()"
      ]
    },
    {
      "cell_type": "markdown",
      "metadata": {
        "id": "qexwhcrbTl_X"
      },
      "source": [
        "Создадим переменную с названиями количественных признаков"
      ]
    },
    {
      "cell_type": "code",
      "execution_count": null,
      "metadata": {
        "id": "Kuu-jwlaTl_X"
      },
      "outputs": [],
      "source": [
        "numeric = ['credit_score', 'age', 'tenure', 'balance', 'num_of_products', 'estimated_salary']"
      ]
    },
    {
      "cell_type": "markdown",
      "metadata": {
        "id": "6Olr7m4aTl_X"
      },
      "source": [
        "Настроим масштаб на тренировочных данных. Настройка подразумевает вычисление среднего и дисперсии"
      ]
    },
    {
      "cell_type": "code",
      "execution_count": null,
      "metadata": {
        "id": "Lh6s4S1JTl_X",
        "outputId": "6b6b1dbf-9391-4430-fc17-d0179ab91e09"
      },
      "outputs": [
        {
          "data": {
            "text/plain": [
              "StandardScaler()"
            ]
          },
          "execution_count": 170,
          "metadata": {},
          "output_type": "execute_result"
        }
      ],
      "source": [
        "scaler.fit(features_train[numeric])"
      ]
    },
    {
      "cell_type": "markdown",
      "metadata": {
        "id": "Oxx9l19BTl_X"
      },
      "source": [
        "Преобразуем обучающую, валидационную и тестовую выборки функцией transform()"
      ]
    },
    {
      "cell_type": "code",
      "execution_count": null,
      "metadata": {
        "id": "sokQdJBJTl_X"
      },
      "outputs": [],
      "source": [
        "features_train[numeric] = scaler.transform(features_train[numeric])\n",
        "features_valid[numeric] = scaler.transform(features_valid[numeric])\n",
        "features_test[numeric] = scaler.transform(features_test[numeric])"
      ]
    },
    {
      "cell_type": "markdown",
      "metadata": {
        "id": "C8FdVdGoTl_Y"
      },
      "source": [
        "Проверим успешность преобразований, отобразив первые пять строк для каждой выборки признаков"
      ]
    },
    {
      "cell_type": "code",
      "execution_count": null,
      "metadata": {
        "id": "Y6qD4LV1Tl_Y",
        "outputId": "c0927a54-4d0b-4a68-91c3-e8a02c2d0629"
      },
      "outputs": [
        {
          "name": "stdout",
          "output_type": "stream",
          "text": [
            "Тренировочная выборка\n"
          ]
        },
        {
          "data": {
            "text/html": [
              "<div>\n",
              "<style scoped>\n",
              "    .dataframe tbody tr th:only-of-type {\n",
              "        vertical-align: middle;\n",
              "    }\n",
              "\n",
              "    .dataframe tbody tr th {\n",
              "        vertical-align: top;\n",
              "    }\n",
              "\n",
              "    .dataframe thead th {\n",
              "        text-align: right;\n",
              "    }\n",
              "</style>\n",
              "<table border=\"1\" class=\"dataframe\">\n",
              "  <thead>\n",
              "    <tr style=\"text-align: right;\">\n",
              "      <th></th>\n",
              "      <th>credit_score</th>\n",
              "      <th>age</th>\n",
              "      <th>tenure</th>\n",
              "      <th>balance</th>\n",
              "      <th>num_of_products</th>\n",
              "      <th>has_cr_card</th>\n",
              "      <th>is_active_member</th>\n",
              "      <th>estimated_salary</th>\n",
              "      <th>geography_germany</th>\n",
              "      <th>geography_spain</th>\n",
              "      <th>gender_male</th>\n",
              "    </tr>\n",
              "  </thead>\n",
              "  <tbody>\n",
              "    <tr>\n",
              "      <th>2837</th>\n",
              "      <td>-1.04</td>\n",
              "      <td>0.95</td>\n",
              "      <td>0.36</td>\n",
              "      <td>0.77</td>\n",
              "      <td>-0.91</td>\n",
              "      <td>0</td>\n",
              "      <td>1</td>\n",
              "      <td>-0.12</td>\n",
              "      <td>1</td>\n",
              "      <td>0</td>\n",
              "      <td>0</td>\n",
              "    </tr>\n",
              "    <tr>\n",
              "      <th>9925</th>\n",
              "      <td>0.45</td>\n",
              "      <td>-0.10</td>\n",
              "      <td>-0.00</td>\n",
              "      <td>1.91</td>\n",
              "      <td>-0.91</td>\n",
              "      <td>1</td>\n",
              "      <td>1</td>\n",
              "      <td>-0.26</td>\n",
              "      <td>0</td>\n",
              "      <td>0</td>\n",
              "      <td>0</td>\n",
              "    </tr>\n",
              "    <tr>\n",
              "      <th>8746</th>\n",
              "      <td>0.10</td>\n",
              "      <td>-0.48</td>\n",
              "      <td>1.09</td>\n",
              "      <td>0.48</td>\n",
              "      <td>0.82</td>\n",
              "      <td>0</td>\n",
              "      <td>1</td>\n",
              "      <td>1.42</td>\n",
              "      <td>0</td>\n",
              "      <td>0</td>\n",
              "      <td>1</td>\n",
              "    </tr>\n",
              "    <tr>\n",
              "      <th>660</th>\n",
              "      <td>-0.18</td>\n",
              "      <td>0.19</td>\n",
              "      <td>-0.00</td>\n",
              "      <td>0.09</td>\n",
              "      <td>-0.91</td>\n",
              "      <td>1</td>\n",
              "      <td>1</td>\n",
              "      <td>-1.16</td>\n",
              "      <td>1</td>\n",
              "      <td>0</td>\n",
              "      <td>0</td>\n",
              "    </tr>\n",
              "    <tr>\n",
              "      <th>3610</th>\n",
              "      <td>-0.72</td>\n",
              "      <td>1.62</td>\n",
              "      <td>-1.46</td>\n",
              "      <td>0.88</td>\n",
              "      <td>-0.91</td>\n",
              "      <td>1</td>\n",
              "      <td>0</td>\n",
              "      <td>0.11</td>\n",
              "      <td>0</td>\n",
              "      <td>0</td>\n",
              "      <td>0</td>\n",
              "    </tr>\n",
              "  </tbody>\n",
              "</table>\n",
              "</div>"
            ],
            "text/plain": [
              "      credit_score   age  tenure  balance  num_of_products  has_cr_card  \\\n",
              "2837         -1.04  0.95    0.36     0.77            -0.91            0   \n",
              "9925          0.45 -0.10   -0.00     1.91            -0.91            1   \n",
              "8746          0.10 -0.48    1.09     0.48             0.82            0   \n",
              "660          -0.18  0.19   -0.00     0.09            -0.91            1   \n",
              "3610         -0.72  1.62   -1.46     0.88            -0.91            1   \n",
              "\n",
              "      is_active_member  estimated_salary  geography_germany  geography_spain  \\\n",
              "2837                 1             -0.12                  1                0   \n",
              "9925                 1             -0.26                  0                0   \n",
              "8746                 1              1.42                  0                0   \n",
              "660                  1             -1.16                  1                0   \n",
              "3610                 0              0.11                  0                0   \n",
              "\n",
              "      gender_male  \n",
              "2837            0  \n",
              "9925            0  \n",
              "8746            1  \n",
              "660             0  \n",
              "3610            0  "
            ]
          },
          "metadata": {},
          "output_type": "display_data"
        },
        {
          "name": "stdout",
          "output_type": "stream",
          "text": [
            "Валидационная выборка\n"
          ]
        },
        {
          "data": {
            "text/html": [
              "<div>\n",
              "<style scoped>\n",
              "    .dataframe tbody tr th:only-of-type {\n",
              "        vertical-align: middle;\n",
              "    }\n",
              "\n",
              "    .dataframe tbody tr th {\n",
              "        vertical-align: top;\n",
              "    }\n",
              "\n",
              "    .dataframe thead th {\n",
              "        text-align: right;\n",
              "    }\n",
              "</style>\n",
              "<table border=\"1\" class=\"dataframe\">\n",
              "  <thead>\n",
              "    <tr style=\"text-align: right;\">\n",
              "      <th></th>\n",
              "      <th>credit_score</th>\n",
              "      <th>age</th>\n",
              "      <th>tenure</th>\n",
              "      <th>balance</th>\n",
              "      <th>num_of_products</th>\n",
              "      <th>has_cr_card</th>\n",
              "      <th>is_active_member</th>\n",
              "      <th>estimated_salary</th>\n",
              "      <th>geography_germany</th>\n",
              "      <th>geography_spain</th>\n",
              "      <th>gender_male</th>\n",
              "    </tr>\n",
              "  </thead>\n",
              "  <tbody>\n",
              "    <tr>\n",
              "      <th>6612</th>\n",
              "      <td>-1.52</td>\n",
              "      <td>2.38</td>\n",
              "      <td>-0.73</td>\n",
              "      <td>1.01</td>\n",
              "      <td>-0.91</td>\n",
              "      <td>0</td>\n",
              "      <td>1</td>\n",
              "      <td>0.01</td>\n",
              "      <td>0</td>\n",
              "      <td>0</td>\n",
              "      <td>0</td>\n",
              "    </tr>\n",
              "    <tr>\n",
              "      <th>519</th>\n",
              "      <td>0.59</td>\n",
              "      <td>1.81</td>\n",
              "      <td>0.36</td>\n",
              "      <td>0.21</td>\n",
              "      <td>-0.91</td>\n",
              "      <td>0</td>\n",
              "      <td>1</td>\n",
              "      <td>0.45</td>\n",
              "      <td>0</td>\n",
              "      <td>0</td>\n",
              "      <td>1</td>\n",
              "    </tr>\n",
              "    <tr>\n",
              "      <th>1609</th>\n",
              "      <td>-0.32</td>\n",
              "      <td>-0.38</td>\n",
              "      <td>1.09</td>\n",
              "      <td>0.89</td>\n",
              "      <td>-0.91</td>\n",
              "      <td>1</td>\n",
              "      <td>0</td>\n",
              "      <td>-0.60</td>\n",
              "      <td>0</td>\n",
              "      <td>0</td>\n",
              "      <td>0</td>\n",
              "    </tr>\n",
              "    <tr>\n",
              "      <th>3475</th>\n",
              "      <td>1.23</td>\n",
              "      <td>-0.76</td>\n",
              "      <td>-0.37</td>\n",
              "      <td>-0.24</td>\n",
              "      <td>0.82</td>\n",
              "      <td>1</td>\n",
              "      <td>1</td>\n",
              "      <td>-1.62</td>\n",
              "      <td>0</td>\n",
              "      <td>0</td>\n",
              "      <td>1</td>\n",
              "    </tr>\n",
              "    <tr>\n",
              "      <th>2707</th>\n",
              "      <td>-0.13</td>\n",
              "      <td>-0.10</td>\n",
              "      <td>-0.73</td>\n",
              "      <td>0.45</td>\n",
              "      <td>-0.91</td>\n",
              "      <td>0</td>\n",
              "      <td>0</td>\n",
              "      <td>0.34</td>\n",
              "      <td>0</td>\n",
              "      <td>0</td>\n",
              "      <td>0</td>\n",
              "    </tr>\n",
              "  </tbody>\n",
              "</table>\n",
              "</div>"
            ],
            "text/plain": [
              "      credit_score   age  tenure  balance  num_of_products  has_cr_card  \\\n",
              "6612         -1.52  2.38   -0.73     1.01            -0.91            0   \n",
              "519           0.59  1.81    0.36     0.21            -0.91            0   \n",
              "1609         -0.32 -0.38    1.09     0.89            -0.91            1   \n",
              "3475          1.23 -0.76   -0.37    -0.24             0.82            1   \n",
              "2707         -0.13 -0.10   -0.73     0.45            -0.91            0   \n",
              "\n",
              "      is_active_member  estimated_salary  geography_germany  geography_spain  \\\n",
              "6612                 1              0.01                  0                0   \n",
              "519                  1              0.45                  0                0   \n",
              "1609                 0             -0.60                  0                0   \n",
              "3475                 1             -1.62                  0                0   \n",
              "2707                 0              0.34                  0                0   \n",
              "\n",
              "      gender_male  \n",
              "6612            0  \n",
              "519             1  \n",
              "1609            0  \n",
              "3475            1  \n",
              "2707            0  "
            ]
          },
          "metadata": {},
          "output_type": "display_data"
        },
        {
          "name": "stdout",
          "output_type": "stream",
          "text": [
            "Тестовая выборка\n"
          ]
        },
        {
          "data": {
            "text/html": [
              "<div>\n",
              "<style scoped>\n",
              "    .dataframe tbody tr th:only-of-type {\n",
              "        vertical-align: middle;\n",
              "    }\n",
              "\n",
              "    .dataframe tbody tr th {\n",
              "        vertical-align: top;\n",
              "    }\n",
              "\n",
              "    .dataframe thead th {\n",
              "        text-align: right;\n",
              "    }\n",
              "</style>\n",
              "<table border=\"1\" class=\"dataframe\">\n",
              "  <thead>\n",
              "    <tr style=\"text-align: right;\">\n",
              "      <th></th>\n",
              "      <th>credit_score</th>\n",
              "      <th>age</th>\n",
              "      <th>tenure</th>\n",
              "      <th>balance</th>\n",
              "      <th>num_of_products</th>\n",
              "      <th>has_cr_card</th>\n",
              "      <th>is_active_member</th>\n",
              "      <th>estimated_salary</th>\n",
              "      <th>geography_germany</th>\n",
              "      <th>geography_spain</th>\n",
              "      <th>gender_male</th>\n",
              "    </tr>\n",
              "  </thead>\n",
              "  <tbody>\n",
              "    <tr>\n",
              "      <th>657</th>\n",
              "      <td>-0.50</td>\n",
              "      <td>1.43</td>\n",
              "      <td>-1.46</td>\n",
              "      <td>0.87</td>\n",
              "      <td>0.82</td>\n",
              "      <td>1</td>\n",
              "      <td>1</td>\n",
              "      <td>1.73</td>\n",
              "      <td>1</td>\n",
              "      <td>0</td>\n",
              "      <td>0</td>\n",
              "    </tr>\n",
              "    <tr>\n",
              "      <th>2083</th>\n",
              "      <td>-1.20</td>\n",
              "      <td>-1.43</td>\n",
              "      <td>-1.46</td>\n",
              "      <td>-1.22</td>\n",
              "      <td>-0.91</td>\n",
              "      <td>1</td>\n",
              "      <td>1</td>\n",
              "      <td>1.20</td>\n",
              "      <td>0</td>\n",
              "      <td>0</td>\n",
              "      <td>1</td>\n",
              "    </tr>\n",
              "    <tr>\n",
              "      <th>3234</th>\n",
              "      <td>-1.27</td>\n",
              "      <td>0.76</td>\n",
              "      <td>-1.46</td>\n",
              "      <td>-1.22</td>\n",
              "      <td>-0.91</td>\n",
              "      <td>1</td>\n",
              "      <td>0</td>\n",
              "      <td>-1.37</td>\n",
              "      <td>0</td>\n",
              "      <td>0</td>\n",
              "      <td>1</td>\n",
              "    </tr>\n",
              "    <tr>\n",
              "      <th>1551</th>\n",
              "      <td>0.83</td>\n",
              "      <td>1.24</td>\n",
              "      <td>0.72</td>\n",
              "      <td>-1.22</td>\n",
              "      <td>0.82</td>\n",
              "      <td>0</td>\n",
              "      <td>1</td>\n",
              "      <td>0.38</td>\n",
              "      <td>0</td>\n",
              "      <td>1</td>\n",
              "      <td>0</td>\n",
              "    </tr>\n",
              "    <tr>\n",
              "      <th>2344</th>\n",
              "      <td>0.66</td>\n",
              "      <td>0.95</td>\n",
              "      <td>-0.37</td>\n",
              "      <td>0.27</td>\n",
              "      <td>-0.91</td>\n",
              "      <td>1</td>\n",
              "      <td>0</td>\n",
              "      <td>-1.61</td>\n",
              "      <td>1</td>\n",
              "      <td>0</td>\n",
              "      <td>0</td>\n",
              "    </tr>\n",
              "  </tbody>\n",
              "</table>\n",
              "</div>"
            ],
            "text/plain": [
              "      credit_score   age  tenure  balance  num_of_products  has_cr_card  \\\n",
              "657          -0.50  1.43   -1.46     0.87             0.82            1   \n",
              "2083         -1.20 -1.43   -1.46    -1.22            -0.91            1   \n",
              "3234         -1.27  0.76   -1.46    -1.22            -0.91            1   \n",
              "1551          0.83  1.24    0.72    -1.22             0.82            0   \n",
              "2344          0.66  0.95   -0.37     0.27            -0.91            1   \n",
              "\n",
              "      is_active_member  estimated_salary  geography_germany  geography_spain  \\\n",
              "657                  1              1.73                  1                0   \n",
              "2083                 1              1.20                  0                0   \n",
              "3234                 0             -1.37                  0                0   \n",
              "1551                 1              0.38                  0                1   \n",
              "2344                 0             -1.61                  1                0   \n",
              "\n",
              "      gender_male  \n",
              "657             0  \n",
              "2083            1  \n",
              "3234            1  \n",
              "1551            0  \n",
              "2344            0  "
            ]
          },
          "metadata": {},
          "output_type": "display_data"
        }
      ],
      "source": [
        "print('Тренировочная выборка')\n",
        "display(features_train.head())\n",
        "print('Валидационная выборка')\n",
        "display(features_valid.head())\n",
        "print('Тестовая выборка')\n",
        "display(features_test.head())"
      ]
    },
    {
      "cell_type": "markdown",
      "metadata": {
        "id": "R-__qT95Tl_Y"
      },
      "source": [
        "Масштабирование прошло успешно. Данные подготовлены к дальнейшему исследованию"
      ]
    },
    {
      "cell_type": "markdown",
      "metadata": {
        "id": "uzkX4zZzTl_Y"
      },
      "source": [
        "### Вывод\n",
        " - Привели столбцы к нижнему регистру\n",
        " - Содержимое столбцов **Surname, Geography, Gender** привели к нижнему регистру\n",
        " - Создали `features` и `target`, содержащие признаки объекта и целевой признак соответственно\n",
        " - Преобразовали категориальные признаки в числовые\n",
        " - Разделили датасет на тренировочную, валидационную и тестовую выборки\n",
        " - Обработали пропущенные значения в столбце **tenure**\n",
        " - Преобразовали типы признаков: cтолбец **tenure** преобразовали признак в целочисленный тип\n",
        " - Произвели масштабирование признаков с помощью инструмента `StandartScaler`"
      ]
    },
    {
      "cell_type": "markdown",
      "metadata": {
        "id": "fH7oJrbQTl_Y"
      },
      "source": [
        "## Исследование задачи"
      ]
    },
    {
      "cell_type": "markdown",
      "metadata": {
        "id": "QcmjznwmTl_Z"
      },
      "source": [
        "Оценим баланс классов целевого признака в исходном датасете и полученных выборках"
      ]
    },
    {
      "cell_type": "code",
      "execution_count": null,
      "metadata": {
        "id": "JPcYphKmTl_Z",
        "outputId": "5bf98381-29f6-4e7e-cc41-c07b23735e69"
      },
      "outputs": [
        {
          "name": "stdout",
          "output_type": "stream",
          "text": [
            "Баланс классов во всем датасете:\n",
            "0   0.80\n",
            "1   0.20\n",
            "Name: exited, dtype: float64\n",
            "\n",
            "Баланс классов в тренировочной выборке:\n",
            "0   0.80\n",
            "1   0.20\n",
            "Name: exited, dtype: float64\n",
            "\n",
            "Баланс классов в валидационной выборке:\n",
            "0   0.80\n",
            "1   0.20\n",
            "Name: exited, dtype: float64\n",
            "\n",
            "Баланс классов в тестовой выборке:\n",
            "0   0.80\n",
            "1   0.20\n",
            "Name: exited, dtype: float64\n",
            "\n"
          ]
        }
      ],
      "source": [
        "print('Баланс классов во всем датасете:\\n{0}\\n'.format(data['exited'].value_counts()/len(data)))\n",
        "print('Баланс классов в тренировочной выборке:\\n{0}\\n'.format(target_train['exited'].value_counts()/len(target_train)))\n",
        "print('Баланс классов в валидационной выборке:\\n{0}\\n'.format(target_valid['exited'].value_counts()/len(target_valid)))\n",
        "print('Баланс классов в тестовой выборке:\\n{0}\\n'.format(target_test['exited'].value_counts()/len(target_test)))"
      ]
    },
    {
      "cell_type": "markdown",
      "metadata": {
        "id": "K1c1BTCGTl_Z"
      },
      "source": [
        "Построим гистограммы распределения классов"
      ]
    },
    {
      "cell_type": "code",
      "execution_count": null,
      "metadata": {
        "id": "qnU4a_J0Tl_Z",
        "outputId": "7fcdb1be-5170-4e89-943c-0e97f6a55bae"
      },
      "outputs": [
        {
          "data": {
            "image/png": "[encoded data removed]",
            "text/plain": [
              "<Figure size 648x648 with 4 Axes>"
            ]
          },
          "metadata": {
            "needs_background": "light"
          },
          "output_type": "display_data"
        }
      ],
      "source": [
        "fig, axs = plt.subplots(2, 2, figsize=(9,9))\n",
        "\n",
        "axs[0, 0].set_title('Баланс классов во всем датасете')\n",
        "sns.histplot(data=data['exited'], color=\"skyblue\", ax=axs[0, 0])\n",
        "\n",
        "axs[0, 1].set_title('Баланс классов в тренировочной выборке')\n",
        "sns.histplot(data=target_train['exited'], color=\"olive\", ax=axs[0, 1])\n",
        "\n",
        "axs[1, 0].set_title('Баланс классов в валидационной выборке')\n",
        "sns.histplot(data=target_valid['exited'], color=\"gold\", ax=axs[1, 0])\n",
        "\n",
        "axs[1, 1].set_title('Баланс классов в тестовой выборке')\n",
        "sns.histplot(data=target_test['exited'], color=\"teal\", ax=axs[1, 1])\n",
        "\n",
        "plt.show()"
      ]
    },
    {
      "cell_type": "markdown",
      "metadata": {
        "id": "QaXId33PTl_Z"
      },
      "source": [
        "По всем выборкам классы распределены схожим образом, с примерным соотношением 8:2. Явный дисбалас выражен в преобладании объектов класса 0, т.е. действующих клиентов банка. К дисбалансу вернемся в следующем разделе"
      ]
    },
    {
      "cell_type": "markdown",
      "metadata": {
        "id": "5PklNe7TTl_Z"
      },
      "source": [
        "На данном этапе выполним классификацию, игнорируя дисбаланс классов. Выбор наиболее качественного решения будем осуществлять путем сравнения алгоритмов логистической регрессии, дерева решений и случайного леса по метрикам качества F1 и AUC-ROC."
      ]
    },
    {
      "cell_type": "markdown",
      "metadata": {
        "id": "DZtWBj_eTl_a"
      },
      "source": [
        "### Построим модель логистической регрессии"
      ]
    },
    {
      "cell_type": "markdown",
      "metadata": {
        "id": "mT1RhCAxTl_a"
      },
      "source": [
        "Создадим модель"
      ]
    },
    {
      "cell_type": "code",
      "execution_count": null,
      "metadata": {
        "id": "IkQEClMtTl_a"
      },
      "outputs": [],
      "source": [
        "model_lr = LogisticRegression(random_state = 12345)\n",
        "model_lr.fit(features_train, target_train)\n",
        "model_lr_pred_tr = model_lr.predict(features_train)\n",
        "model_lr_prob_tr = model_lr.predict_proba(features_train)\n",
        "model_lr_pred_val = model_lr.predict(features_valid)\n",
        "model_lr_prob_val = model_lr.predict_proba(features_valid)"
      ]
    },
    {
      "cell_type": "markdown",
      "metadata": {
        "id": "8kOPtv7ITl_a"
      },
      "source": [
        "Рассчитаем метрику f1-score"
      ]
    },
    {
      "cell_type": "code",
      "execution_count": null,
      "metadata": {
        "id": "0jPSgDohTl_a",
        "outputId": "4c683237-bc1e-4d4f-a2f1-f87f5fd7b381"
      },
      "outputs": [
        {
          "name": "stdout",
          "output_type": "stream",
          "text": [
            "Логистическая регрессия\n",
            "Значение метрики F1 на тренировочных данных: 0.319\n",
            "Значение метрики F1 на валидационных данных: 0.305\n"
          ]
        }
      ],
      "source": [
        "print('Логистическая регрессия')\n",
        "print('Значение метрики F1 на тренировочных данных: {0:.3f}'.format(f1_score(target_train, model_lr_pred_tr)))\n",
        "print('Значение метрики F1 на валидационных данных: {0:.3f}'.format(f1_score(target_valid, model_lr_pred_val)))"
      ]
    },
    {
      "cell_type": "markdown",
      "metadata": {
        "id": "YswMgHQ3Tl_a"
      },
      "source": [
        "Рассчитаем метрику AUC-ROC"
      ]
    },
    {
      "cell_type": "code",
      "execution_count": null,
      "metadata": {
        "id": "jmwq70myTl_b",
        "outputId": "4a9d11e6-9f49-4c63-ff43-769f8ca51cf4"
      },
      "outputs": [
        {
          "name": "stdout",
          "output_type": "stream",
          "text": [
            "Значение метрики AUC-ROC на тренировочных данных: 0.763\n",
            "Значение метрики AUC-ROC на валидационных данных: 0.788\n"
          ]
        }
      ],
      "source": [
        "print('Значение метрики AUC-ROC на тренировочных данных: {0:.3f}'.format(roc_auc_score(target_train, model_lr_prob_tr[:,1])))\n",
        "print('Значение метрики AUC-ROC на валидационных данных: {0:.3f}'.format(roc_auc_score(target_valid, model_lr_prob_val[:,1])))"
      ]
    },
    {
      "cell_type": "markdown",
      "metadata": {
        "id": "czMjHjKRTl_b"
      },
      "source": [
        "### Построим модель дерево решений"
      ]
    },
    {
      "cell_type": "markdown",
      "metadata": {
        "id": "ZiXB0MfMTl_b"
      },
      "source": [
        "Создадим переменные для сохранения характеристик модели, в цикле выполним подбор наиболее удачной глубины, создадим модель"
      ]
    },
    {
      "cell_type": "code",
      "execution_count": null,
      "metadata": {
        "id": "Fx8z8HzwTl_b"
      },
      "outputs": [],
      "source": [
        "best_depth = 0\n",
        "f1_best = 0\n",
        "auc_roc_best = 0\n",
        "\n",
        "for depth in range(1, 21, 1):\n",
        "    model_dt = DecisionTreeClassifier(random_state = 12345, max_depth=depth)\n",
        "    model_dt.fit(features_train, target_train)\n",
        "    model_dt_pred_val = model_dt.predict(features_valid)\n",
        "    model_dt_prob_val = model_dt.predict_proba(features_valid)\n",
        "    if f1_score(target_valid, model_dt_pred_val) > f1_best:\n",
        "        f1_best = f1_score(target_valid, model_dt_pred_val)\n",
        "        best_depth = depth\n",
        "        auc_roc_best = roc_auc_score(target_valid, model_dt_prob_val[:,1])"
      ]
    },
    {
      "cell_type": "markdown",
      "metadata": {
        "id": "h2EAtnFITl_b"
      },
      "source": [
        "Выполним расчет метрик качества для тренировочной выборки отдельно, чтобы не замедлять цикл подобными рассчетами на каждой итерации"
      ]
    },
    {
      "cell_type": "code",
      "execution_count": null,
      "metadata": {
        "id": "GhTEyjb2Tl_b"
      },
      "outputs": [],
      "source": [
        "model_dt = DecisionTreeClassifier(random_state = 12345, max_depth=best_depth)\n",
        "model_dt.fit(features_train, target_train)\n",
        "model_dt_pred_tr = model_dt.predict(features_train)\n",
        "model_dt_prob_tr = model_dt.predict_proba(features_train)"
      ]
    },
    {
      "cell_type": "markdown",
      "metadata": {
        "id": "aHYrtqnDTl_b"
      },
      "source": [
        "Выведем значение метрики f1-score, AUC-ROC, глубину дерева"
      ]
    },
    {
      "cell_type": "code",
      "execution_count": null,
      "metadata": {
        "id": "x75hI5SQTl_c",
        "outputId": "e17014fd-d66d-43a4-e1e7-df77a37789bd"
      },
      "outputs": [
        {
          "name": "stdout",
          "output_type": "stream",
          "text": [
            "Дерево решений\n",
            "Значение метрики F1 на тренировочных данных: 0.612\n",
            "Значение метрики F1 на валидационных данных: 0.592\n",
            "Значение метрики AUC-ROC на тренировочных данных: 0.880\n",
            "Значение метрики AUC-ROC на валидационных данных: 0.823\n",
            "Глубина дерева 7\n",
            "CPU times: user 9.37 ms, sys: 25 µs, total: 9.39 ms\n",
            "Wall time: 8.41 ms\n"
          ]
        }
      ],
      "source": [
        "%%time\n",
        "\n",
        "print('Дерево решений')\n",
        "print('Значение метрики F1 на тренировочных данных: {0:.3f}'.format(f1_score(target_train, model_dt_pred_tr)))\n",
        "print('Значение метрики F1 на валидационных данных: {0:.3f}'.format(f1_best))\n",
        "print('Значение метрики AUC-ROC на тренировочных данных: {0:.3f}'\n",
        "      .format(roc_auc_score(target_train, model_dt_prob_tr[:,1])))\n",
        "print('Значение метрики AUC-ROC на валидационных данных: {0:.3f}'.format(auc_roc_best))\n",
        "print(f'Глубина дерева {best_depth}')"
      ]
    },
    {
      "cell_type": "markdown",
      "metadata": {
        "id": "kpjMI5PSTl_c"
      },
      "source": [
        "### Построим модель случайного леса"
      ]
    },
    {
      "cell_type": "markdown",
      "metadata": {
        "id": "y0TKgx5QTl_c"
      },
      "source": [
        "Создадим переменные для сохранения характеристик модели, в цикле выполним подбор наиболее удачной глубины"
      ]
    },
    {
      "cell_type": "code",
      "execution_count": null,
      "metadata": {
        "id": "saCc-Ku9Tl_c"
      },
      "outputs": [],
      "source": [
        "best_depth = 0\n",
        "n_est_best = 0\n",
        "f1_best = 0\n",
        "auc_roc_best = 0\n",
        "\n",
        "for depth in range(1, 21, 1):\n",
        "    for n_est in chain(range(2,2,5), range(10,101,10)):\n",
        "        model_rf = RandomForestClassifier(random_state = 12345, max_depth=depth, n_estimators=n_est)\n",
        "        model_rf.fit(features_train, target_train)\n",
        "        model_rf_pred_val = model_rf.predict(features_valid)\n",
        "        model_rf_prob_val = model_rf.predict_proba(features_valid)\n",
        "        if f1_score(target_valid, model_rf_pred_val) > f1_best:\n",
        "            f1_best = f1_score(target_valid, model_rf_pred_val)\n",
        "            best_depth = depth\n",
        "            n_est_best = n_est\n",
        "            auc_roc_best = roc_auc_score(target_valid, model_rf_prob_val[:,1])"
      ]
    },
    {
      "cell_type": "markdown",
      "metadata": {
        "id": "4b-RP7FzTl_d"
      },
      "source": [
        "Выполним расчет метрик качества для тренировочной выборки отдельно, чтобы не замедлять цикл подобными рассчетами на каждой итерации.  \n",
        "Выведем значение метрики f1-score, AUC-ROC, глубину дерева, количество деревьев"
      ]
    },
    {
      "cell_type": "code",
      "execution_count": null,
      "metadata": {
        "id": "vmzlqevcTl_d",
        "outputId": "8290bf7d-3cef-4abb-9b68-1d53f6432166"
      },
      "outputs": [
        {
          "name": "stdout",
          "output_type": "stream",
          "text": [
            "Случайный лес\n",
            "Значение метрики F1 на тренировочных данных: 0.949\n",
            "Значение метрики F1 на валидационных данных: 0.628\n",
            "Значение метрики AUC-ROC на тренировочных данных: 1.000\n",
            "Значение метрики AUC-ROC на валидационных данных: 0.864\n",
            "Глубина дерева: 15\n",
            "Количество деревьев: 60\n",
            "CPU times: user 572 ms, sys: 8 ms, total: 580 ms\n",
            "Wall time: 597 ms\n"
          ]
        }
      ],
      "source": [
        "%%time\n",
        "\n",
        "model_rf = RandomForestClassifier(random_state = 12345, max_depth=best_depth, n_estimators=n_est_best)\n",
        "model_rf.fit(features_train, target_train)\n",
        "model_rf_pred_tr = model_rf.predict(features_train)\n",
        "model_rf_prob_tr = model_rf.predict_proba(features_train)\n",
        "\n",
        "print('Случайный лес')\n",
        "print('Значение метрики F1 на тренировочных данных: {0:.3f}'.format(f1_score(target_train, model_rf_pred_tr)))\n",
        "print('Значение метрики F1 на валидационных данных: {0:.3f}'.format(f1_best))\n",
        "print('Значение метрики AUC-ROC на тренировочных данных: {0:.3f}'.format(roc_auc_score(target_train, model_rf_prob_tr[:,1])))\n",
        "print('Значение метрики AUC-ROC на валидационных данных: {0:.3f}'.format(auc_roc_best))\n",
        "print(f'Глубина дерева: {best_depth}')\n",
        "print(f'Количество деревьев: {n_est_best}')"
      ]
    },
    {
      "cell_type": "markdown",
      "metadata": {
        "id": "-ROXJGMNTl_d"
      },
      "source": [
        "### Выводы\n",
        " - Модель случайного леса на несбалансированных данных оказалась более точной, однако данная модель явно переобучилась. На это указывают высокие значение метрик на тренировочных данных\n",
        " - Из значений метрик качества для дерева решений можно сделать вывод, что модель предсказывает хорошо, а переобучение проявлено слабо"
      ]
    },
    {
      "cell_type": "markdown",
      "metadata": {
        "id": "0PxB1WfeTl_d"
      },
      "source": [
        "## Борьба с дисбалансом"
      ]
    },
    {
      "cell_type": "markdown",
      "metadata": {
        "id": "1XcY3UwHTl_d"
      },
      "source": [
        "Мы установили, что в данных присутвует дисбаланс классов. Рассмотрим следующие способы борьбы с дисбалансом классов:\n",
        "\n",
        "1) Настройка автоматической балансировки классов, при вызове модели классификации. За это отвечает параметр class_weight\n",
        "\n",
        "2) Увеличение редкого класса или уменьшение преобладающего класса. В данном проекте будет применено увеличение выборки, так как в случае уменьшение значительная часть данных не будет участвовать в обучении"
      ]
    },
    {
      "cell_type": "markdown",
      "metadata": {
        "id": "5uYkzMS2Tl_e"
      },
      "source": [
        "### C помощью параметра class_weight"
      ]
    },
    {
      "cell_type": "markdown",
      "metadata": {
        "id": "j0S92gbsTl_e"
      },
      "source": [
        "Вновь выполним обучение моделей, но параметр `class_weigt` укажем равным `True`. Это позволит автоматически учесть дисбаланс классов."
      ]
    },
    {
      "cell_type": "markdown",
      "metadata": {
        "id": "0qFS8j2vTl_e"
      },
      "source": [
        "#### Построим модель логистической регрессии"
      ]
    },
    {
      "cell_type": "code",
      "execution_count": null,
      "metadata": {
        "id": "2ErOba8fTl_e",
        "outputId": "f6a3b61e-f570-4ebe-de89-ed8c1b6966f4"
      },
      "outputs": [
        {
          "name": "stdout",
          "output_type": "stream",
          "text": [
            "Логистическая регрессия\n",
            "Значение метрики F1 на тренировочных данных: 0.488\n",
            "Значение метрики F1 на валидационных данных: 0.529\n",
            "Значение метрики AUC-ROC на тренировочных данных: 0.766\n",
            "Значение метрики AUC-ROC на валидационных данных: 0.794\n",
            "CPU times: user 291 ms, sys: 335 ms, total: 626 ms\n",
            "Wall time: 628 ms\n"
          ]
        }
      ],
      "source": [
        "%%time\n",
        "\n",
        "model_lr = LogisticRegression(random_state = 12345, class_weight='balanced')\n",
        "model_lr.fit(features_train, target_train)\n",
        "model_lr_pred_tr = model_lr.predict(features_train)\n",
        "model_lr_prob_tr = model_lr.predict_proba(features_train)\n",
        "model_lr_pred_val = model_lr.predict(features_valid)\n",
        "model_lr_prob_val = model_lr.predict_proba(features_valid)\n",
        "\n",
        "print('Логистическая регрессия')\n",
        "print('Значение метрики F1 на тренировочных данных: {0:.3f}'.format(f1_score(target_train, model_lr_pred_tr)))\n",
        "print('Значение метрики F1 на валидационных данных: {0:.3f}'.format(f1_score(target_valid, model_lr_pred_val)))\n",
        "print('Значение метрики AUC-ROC на тренировочных данных: {0:.3f}'.format(roc_auc_score(target_train, model_lr_prob_tr[:,1])))\n",
        "print('Значение метрики AUC-ROC на валидационных данных: {0:.3f}'.format(roc_auc_score(target_valid, model_lr_prob_val[:,1])))"
      ]
    },
    {
      "cell_type": "markdown",
      "metadata": {
        "id": "iLYIWayuTl_f"
      },
      "source": [
        "#### Построим модель дерево решений"
      ]
    },
    {
      "cell_type": "code",
      "execution_count": null,
      "metadata": {
        "id": "O7FngexXTl_f",
        "outputId": "5182f082-bfee-4be5-a30f-5f83f6e55385"
      },
      "outputs": [
        {
          "name": "stdout",
          "output_type": "stream",
          "text": [
            "Дерево решений\n",
            "Значение метрики F1 на тренировочных данных: 0.602\n",
            "Значение метрики F1 на валидационных данных: 0.576\n",
            "Значение метрики AUC-ROC на тренировочных данных: 0.871\n",
            "Значение метрики AUC-ROC на валидационных данных: 0.823\n",
            "Глубина дерева 6\n",
            "CPU times: user 623 ms, sys: 8 ms, total: 631 ms\n",
            "Wall time: 651 ms\n"
          ]
        }
      ],
      "source": [
        "%%time\n",
        "\n",
        "best_depth = 0\n",
        "f1_best = 0\n",
        "auc_roc_best = 0\n",
        "\n",
        "for depth in range(1, 21, 1):\n",
        "    model_dt = DecisionTreeClassifier(random_state = 12345, max_depth=depth, class_weight='balanced')\n",
        "    model_dt.fit(features_train, target_train)\n",
        "    model_dt_pred_val = model_dt.predict(features_valid)\n",
        "    model_dt_prob_val = model_dt.predict_proba(features_valid)\n",
        "    if f1_score(target_valid, model_dt_pred_val) > f1_best:\n",
        "        f1_best = f1_score(target_valid, model_dt_pred_val)\n",
        "        best_depth = depth\n",
        "        auc_roc_best = roc_auc_score(target_valid, model_dt_prob_val[:,1])\n",
        "\n",
        "model_dt = DecisionTreeClassifier(random_state = 12345, max_depth=best_depth, class_weight='balanced')\n",
        "model_dt.fit(features_train, target_train)\n",
        "model_dt_pred_tr = model_dt.predict(features_train)\n",
        "model_dt_prob_tr = model_dt.predict_proba(features_train)\n",
        "\n",
        "print('Дерево решений')\n",
        "print('Значение метрики F1 на тренировочных данных: {0:.3f}'.format(f1_score(target_train, model_dt_pred_tr)))\n",
        "print('Значение метрики F1 на валидационных данных: {0:.3f}'.format(f1_best))\n",
        "print('Значение метрики AUC-ROC на тренировочных данных: {0:.3f}'\n",
        "      .format(roc_auc_score(target_train, model_dt_prob_tr[:,1])))\n",
        "print('Значение метрики AUC-ROC на валидационных данных: {0:.3f}'.format(auc_roc_best))\n",
        "print(f'Глубина дерева {best_depth}')"
      ]
    },
    {
      "cell_type": "markdown",
      "metadata": {
        "id": "smfseIKTTl_f"
      },
      "source": [
        "#### Построим модель случайного леса"
      ]
    },
    {
      "cell_type": "code",
      "execution_count": null,
      "metadata": {
        "id": "oakD_3OeTl_f",
        "outputId": "3fb71f29-daa0-46f9-8268-aa79b2bd7042"
      },
      "outputs": [
        {
          "name": "stdout",
          "output_type": "stream",
          "text": [
            "Случайный лес\n",
            "Значение метрики F1 на тренировочных данных: 0.813\n",
            "Значение метрики F1 на валидационных данных: 0.650\n",
            "Значение метрики AUC-ROC на тренировочных данных: 0.967\n",
            "Значение метрики AUC-ROC на валидационных данных: 0.870\n",
            "Глубина дерева: 10\n",
            "Количество деревьев: 30\n",
            "CPU times: user 1min 9s, sys: 395 ms, total: 1min 9s\n",
            "Wall time: 1min 10s\n"
          ]
        }
      ],
      "source": [
        "%%time\n",
        "\n",
        "best_depth = 0\n",
        "n_est_best = 0\n",
        "f1_best = 0\n",
        "auc_roc_best = 0\n",
        "\n",
        "for depth in range(1, 21, 1):\n",
        "    for n_est in chain(range(2,2,5), range(10,101,10)):\n",
        "        model_rf = RandomForestClassifier(random_state = 12345, max_depth=depth, n_estimators=n_est, class_weight='balanced')\n",
        "        model_rf.fit(features_train, target_train)\n",
        "        model_rf_pred_val = model_rf.predict(features_valid)\n",
        "        model_rf_prob_val = model_rf.predict_proba(features_valid)\n",
        "        if f1_score(target_valid, model_rf_pred_val) > f1_best:\n",
        "            f1_best = f1_score(target_valid, model_rf_pred_val)\n",
        "            best_depth = depth\n",
        "            n_est_best = n_est\n",
        "            auc_roc_best = roc_auc_score(target_valid, model_rf_prob_val[:,1])\n",
        "\n",
        "model_rf = RandomForestClassifier(random_state = 12345, max_depth=best_depth, n_estimators=n_est_best, class_weight='balanced')\n",
        "model_rf.fit(features_train, target_train)\n",
        "model_rf_pred_tr = model_rf.predict(features_train)\n",
        "model_rf_prob_tr = model_rf.predict_proba(features_train)\n",
        "\n",
        "print('Случайный лес')\n",
        "print('Значение метрики F1 на тренировочных данных: {0:.3f}'.format(f1_score(target_train, model_rf_pred_tr)))\n",
        "print('Значение метрики F1 на валидационных данных: {0:.3f}'.format(f1_best))\n",
        "print('Значение метрики AUC-ROC на тренировочных данных: {0:.3f}'.format(roc_auc_score(target_train, model_rf_prob_tr[:,1])))\n",
        "print('Значение метрики AUC-ROC на валидационных данных: {0:.3f}'.format(auc_roc_best))\n",
        "print(f'Глубина дерева: {best_depth}')\n",
        "print(f'Количество деревьев: {n_est_best}')"
      ]
    },
    {
      "cell_type": "markdown",
      "metadata": {
        "id": "oaYGN2X5Tl_g"
      },
      "source": [
        "#### Вывод\n",
        " - Модель логистической регрессии не переобучилась, и показала лучшие результаты по сравнению несбалансированными данными\n",
        " - Модель дерево решений не переобучилась, и показала лучшие результаты по сравнению несбалансированными данными.\n",
        " - Модель случайный лес показала лучшие результаты по сравнению несбалансированными данными."
      ]
    },
    {
      "cell_type": "markdown",
      "metadata": {
        "id": "R30rjzCmTl_g"
      },
      "source": [
        "### Борьба с дисбалансом путем увеличения выборки"
      ]
    },
    {
      "cell_type": "markdown",
      "metadata": {
        "id": "Cy62G4boTl_g"
      },
      "source": [
        "#### Upsampling"
      ]
    },
    {
      "cell_type": "markdown",
      "metadata": {
        "id": "vPxOsgbSTl_g"
      },
      "source": [
        "Выполним увеличение количества объектов редкого класса `upsampling`, в нашем случае класс единиц. Увеличим только тренировочную выборку. Для этого создадим функцию upsampling в теле которой будут выполнены следующие преобразования:\n",
        "\n",
        "1) Разделение обучающей выборки по классам\n",
        "\n",
        "2) Увеличение редкого класса и объединение получившихся выборок\n",
        "\n",
        "3) Перемешивание объектов увеличенной выборки инструментом `shuffle`"
      ]
    },
    {
      "cell_type": "code",
      "execution_count": null,
      "metadata": {
        "id": "YXheC4ZETl_g"
      },
      "outputs": [],
      "source": [
        "def upsample(features, target, repeat):\n",
        "    features_zeros = features[target['exited'] == 0]\n",
        "    features_ones = features[target['exited'] == 1]\n",
        "    target_zeros = target[target['exited'] == 0]\n",
        "    target_ones = target[target['exited'] == 1]\n",
        "    features_upsampled = pd.concat([features_zeros] + [features_ones] * repeat)\n",
        "    target_upsampled = pd.concat([target_zeros] + [target_ones] * repeat)\n",
        "    features_upsampled, target_upsampled = shuffle(features_upsampled, target_upsampled, random_state=12345)\n",
        "    return features_upsampled, target_upsampled"
      ]
    },
    {
      "cell_type": "markdown",
      "metadata": {
        "id": "PSMj8hN9Tl_h"
      },
      "source": [
        "Создадим сбалансированные переменные `features_upsampled, target_upsampled`. Нулевой класс в 4 раза больше, чем первый, поэтому параметр `repeat` установим равным `4`"
      ]
    },
    {
      "cell_type": "code",
      "execution_count": null,
      "metadata": {
        "id": "uli__KsGTl_h",
        "outputId": "991796df-8b94-4ebe-9223-147ff46e11bc"
      },
      "outputs": [
        {
          "data": {
            "text/html": [
              "<div>\n",
              "<style scoped>\n",
              "    .dataframe tbody tr th:only-of-type {\n",
              "        vertical-align: middle;\n",
              "    }\n",
              "\n",
              "    .dataframe tbody tr th {\n",
              "        vertical-align: top;\n",
              "    }\n",
              "\n",
              "    .dataframe thead th {\n",
              "        text-align: right;\n",
              "    }\n",
              "</style>\n",
              "<table border=\"1\" class=\"dataframe\">\n",
              "  <thead>\n",
              "    <tr style=\"text-align: right;\">\n",
              "      <th></th>\n",
              "      <th>credit_score</th>\n",
              "      <th>age</th>\n",
              "      <th>tenure</th>\n",
              "      <th>balance</th>\n",
              "      <th>num_of_products</th>\n",
              "      <th>has_cr_card</th>\n",
              "      <th>is_active_member</th>\n",
              "      <th>estimated_salary</th>\n",
              "      <th>geography_germany</th>\n",
              "      <th>geography_spain</th>\n",
              "      <th>gender_male</th>\n",
              "    </tr>\n",
              "  </thead>\n",
              "  <tbody>\n",
              "    <tr>\n",
              "      <th>6785</th>\n",
              "      <td>-0.30</td>\n",
              "      <td>0.19</td>\n",
              "      <td>-0.00</td>\n",
              "      <td>0.45</td>\n",
              "      <td>-0.91</td>\n",
              "      <td>1</td>\n",
              "      <td>1</td>\n",
              "      <td>-0.08</td>\n",
              "      <td>0</td>\n",
              "      <td>1</td>\n",
              "      <td>1</td>\n",
              "    </tr>\n",
              "    <tr>\n",
              "      <th>8042</th>\n",
              "      <td>-0.45</td>\n",
              "      <td>-0.19</td>\n",
              "      <td>0.36</td>\n",
              "      <td>0.10</td>\n",
              "      <td>-0.91</td>\n",
              "      <td>0</td>\n",
              "      <td>0</td>\n",
              "      <td>1.25</td>\n",
              "      <td>0</td>\n",
              "      <td>0</td>\n",
              "      <td>1</td>\n",
              "    </tr>\n",
              "    <tr>\n",
              "      <th>2962</th>\n",
              "      <td>-1.03</td>\n",
              "      <td>-0.10</td>\n",
              "      <td>1.45</td>\n",
              "      <td>1.02</td>\n",
              "      <td>2.56</td>\n",
              "      <td>1</td>\n",
              "      <td>1</td>\n",
              "      <td>1.24</td>\n",
              "      <td>0</td>\n",
              "      <td>0</td>\n",
              "      <td>1</td>\n",
              "    </tr>\n",
              "    <tr>\n",
              "      <th>2492</th>\n",
              "      <td>-1.34</td>\n",
              "      <td>-0.76</td>\n",
              "      <td>-0.73</td>\n",
              "      <td>0.52</td>\n",
              "      <td>-0.91</td>\n",
              "      <td>1</td>\n",
              "      <td>1</td>\n",
              "      <td>1.45</td>\n",
              "      <td>1</td>\n",
              "      <td>0</td>\n",
              "      <td>0</td>\n",
              "    </tr>\n",
              "    <tr>\n",
              "      <th>2414</th>\n",
              "      <td>-0.97</td>\n",
              "      <td>1.24</td>\n",
              "      <td>1.45</td>\n",
              "      <td>-1.22</td>\n",
              "      <td>-0.91</td>\n",
              "      <td>1</td>\n",
              "      <td>0</td>\n",
              "      <td>1.30</td>\n",
              "      <td>0</td>\n",
              "      <td>0</td>\n",
              "      <td>0</td>\n",
              "    </tr>\n",
              "  </tbody>\n",
              "</table>\n",
              "</div>"
            ],
            "text/plain": [
              "      credit_score   age  tenure  balance  num_of_products  has_cr_card  \\\n",
              "6785         -0.30  0.19   -0.00     0.45            -0.91            1   \n",
              "8042         -0.45 -0.19    0.36     0.10            -0.91            0   \n",
              "2962         -1.03 -0.10    1.45     1.02             2.56            1   \n",
              "2492         -1.34 -0.76   -0.73     0.52            -0.91            1   \n",
              "2414         -0.97  1.24    1.45    -1.22            -0.91            1   \n",
              "\n",
              "      is_active_member  estimated_salary  geography_germany  geography_spain  \\\n",
              "6785                 1             -0.08                  0                1   \n",
              "8042                 0              1.25                  0                0   \n",
              "2962                 1              1.24                  0                0   \n",
              "2492                 1              1.45                  1                0   \n",
              "2414                 0              1.30                  0                0   \n",
              "\n",
              "      gender_male  \n",
              "6785            1  \n",
              "8042            1  \n",
              "2962            1  \n",
              "2492            0  \n",
              "2414            0  "
            ]
          },
          "execution_count": 187,
          "metadata": {},
          "output_type": "execute_result"
        }
      ],
      "source": [
        "features_upsampled, target_upsampled = upsample(features_train, target_train, 4)\n",
        "features_upsampled.head()"
      ]
    },
    {
      "cell_type": "code",
      "execution_count": null,
      "metadata": {
        "id": "ijSd_OxFTl_h",
        "outputId": "4f5d8396-d857-40c3-aa33-f5f640f8cfa9"
      },
      "outputs": [
        {
          "data": {
            "text/html": [
              "<div>\n",
              "<style scoped>\n",
              "    .dataframe tbody tr th:only-of-type {\n",
              "        vertical-align: middle;\n",
              "    }\n",
              "\n",
              "    .dataframe tbody tr th {\n",
              "        vertical-align: top;\n",
              "    }\n",
              "\n",
              "    .dataframe thead th {\n",
              "        text-align: right;\n",
              "    }\n",
              "</style>\n",
              "<table border=\"1\" class=\"dataframe\">\n",
              "  <thead>\n",
              "    <tr style=\"text-align: right;\">\n",
              "      <th></th>\n",
              "      <th>exited</th>\n",
              "    </tr>\n",
              "  </thead>\n",
              "  <tbody>\n",
              "    <tr>\n",
              "      <th>6785</th>\n",
              "      <td>0</td>\n",
              "    </tr>\n",
              "    <tr>\n",
              "      <th>8042</th>\n",
              "      <td>1</td>\n",
              "    </tr>\n",
              "    <tr>\n",
              "      <th>2962</th>\n",
              "      <td>1</td>\n",
              "    </tr>\n",
              "    <tr>\n",
              "      <th>2492</th>\n",
              "      <td>1</td>\n",
              "    </tr>\n",
              "    <tr>\n",
              "      <th>2414</th>\n",
              "      <td>1</td>\n",
              "    </tr>\n",
              "  </tbody>\n",
              "</table>\n",
              "</div>"
            ],
            "text/plain": [
              "      exited\n",
              "6785       0\n",
              "8042       1\n",
              "2962       1\n",
              "2492       1\n",
              "2414       1"
            ]
          },
          "execution_count": 188,
          "metadata": {},
          "output_type": "execute_result"
        }
      ],
      "source": [
        "target_upsampled.head()"
      ]
    },
    {
      "cell_type": "markdown",
      "metadata": {
        "id": "s9yw_UuiTl_h"
      },
      "source": [
        "Проверим успешность `upsampling`"
      ]
    },
    {
      "cell_type": "code",
      "execution_count": null,
      "metadata": {
        "id": "z4xbRctKTl_h",
        "outputId": "3e81a45a-e4eb-4469-d9d5-b34843f57f43"
      },
      "outputs": [
        {
          "name": "stdout",
          "output_type": "stream",
          "text": [
            "Баланс классов в увеличенной тренировочной выборке:\n",
            "1   0.81\n",
            "0   0.80\n",
            "Name: exited, dtype: float64\n"
          ]
        }
      ],
      "source": [
        "print('Баланс классов в увеличенной тренировочной выборке:\\n{0}'\n",
        "      .format(target_upsampled['exited'].value_counts()/len(target_train)))"
      ]
    },
    {
      "cell_type": "code",
      "execution_count": null,
      "metadata": {
        "scrolled": true,
        "id": "WJfnMiNGTl_i",
        "outputId": "6ec65f56-a080-4b7e-de9c-841add7b1d8e"
      },
      "outputs": [
        {
          "data": {
            "text/plain": [
              "1    4888\n",
              "0    4778\n",
              "Name: exited, dtype: int64"
            ]
          },
          "execution_count": 190,
          "metadata": {},
          "output_type": "execute_result"
        }
      ],
      "source": [
        "target_upsampled['exited'].value_counts()"
      ]
    },
    {
      "cell_type": "code",
      "execution_count": null,
      "metadata": {
        "id": "i2oYlsr-Tl_i",
        "outputId": "dd992432-93f0-4864-e060-2d069c5201c2"
      },
      "outputs": [
        {
          "data": {
            "text/plain": [
              "9666"
            ]
          },
          "execution_count": 191,
          "metadata": {},
          "output_type": "execute_result"
        }
      ],
      "source": [
        "len(target_upsampled['exited'])"
      ]
    },
    {
      "cell_type": "code",
      "execution_count": null,
      "metadata": {
        "id": "4accefd0Tl_i",
        "outputId": "408456ac-a2f6-4a14-f5f4-eedfd95959d4"
      },
      "outputs": [
        {
          "data": {
            "text/plain": [
              "exited    0\n",
              "dtype: int64"
            ]
          },
          "execution_count": 192,
          "metadata": {},
          "output_type": "execute_result"
        }
      ],
      "source": [
        "target_upsampled.isna().sum()"
      ]
    },
    {
      "cell_type": "code",
      "execution_count": null,
      "metadata": {
        "id": "7zrdvFGxTl_i",
        "outputId": "2a93f73a-983e-407d-d7e2-8e2c8c92feed"
      },
      "outputs": [
        {
          "data": {
            "text/plain": [
              "array([0, 1])"
            ]
          },
          "execution_count": 193,
          "metadata": {},
          "output_type": "execute_result"
        }
      ],
      "source": [
        "target_upsampled['exited'].unique()"
      ]
    },
    {
      "cell_type": "code",
      "execution_count": null,
      "metadata": {
        "id": "6PgC-XtFTl_i",
        "outputId": "171d4074-56c5-45e4-dd0c-62f059df1581"
      },
      "outputs": [
        {
          "data": {
            "text/plain": [
              "(9666, 1)"
            ]
          },
          "execution_count": 194,
          "metadata": {},
          "output_type": "execute_result"
        }
      ],
      "source": [
        "target_upsampled.shape"
      ]
    },
    {
      "cell_type": "markdown",
      "metadata": {
        "id": "Pp5C44pnTl_j"
      },
      "source": [
        "Классы сбалансированы. Повторно определим гиперпараметры для каждой модели, обучаясь на увеличенной выборке"
      ]
    },
    {
      "cell_type": "markdown",
      "metadata": {
        "id": "kgtRF3D_Tl_j"
      },
      "source": [
        "#### Построим модель логистической регрессии"
      ]
    },
    {
      "cell_type": "code",
      "execution_count": null,
      "metadata": {
        "id": "esq2kg7sTl_j"
      },
      "outputs": [],
      "source": [
        "model_lr = LogisticRegression(random_state = 12345)\n",
        "model_lr.fit(features_upsampled, target_upsampled)\n",
        "model_lr_pred_tr = model_lr.predict(features_upsampled)\n",
        "model_lr_prob_tr = model_lr.predict_proba(features_upsampled)\n",
        "model_lr_pred_val = model_lr.predict(features_valid)\n",
        "model_lr_prob_val = model_lr.predict_proba(features_valid)"
      ]
    },
    {
      "cell_type": "markdown",
      "metadata": {
        "id": "aFyqdzsdTl_j"
      },
      "source": [
        "Рассчитаем метрику f1-score, AUC-ROC"
      ]
    },
    {
      "cell_type": "code",
      "execution_count": null,
      "metadata": {
        "id": "wTts5AvDTl_j",
        "outputId": "840e0063-8774-4018-babc-b044eb4dfe4e"
      },
      "outputs": [
        {
          "name": "stdout",
          "output_type": "stream",
          "text": [
            "Логистическая регрессия\n",
            "Значение метрики F1 на тренировочных данных: 0.699\n",
            "Значение метрики F1 на валидационных данных: 0.525\n",
            "Значение метрики AUC-ROC на тренировочных данных: 0.766\n",
            "Значение метрики AUC-ROC на валидационных данных: 0.794\n",
            "CPU times: user 25.5 ms, sys: 12.1 ms, total: 37.6 ms\n",
            "Wall time: 65.8 ms\n"
          ]
        }
      ],
      "source": [
        "%%time\n",
        "\n",
        "print('Логистическая регрессия')\n",
        "print('Значение метрики F1 на тренировочных данных: {0:.3f}'.format(f1_score(target_upsampled, model_lr_pred_tr)))\n",
        "print('Значение метрики F1 на валидационных данных: {0:.3f}'.format(f1_score(target_valid, model_lr_pred_val)))\n",
        "print('Значение метрики AUC-ROC на тренировочных данных: {0:.3f}'\n",
        "      .format(roc_auc_score(target_upsampled, model_lr_prob_tr[:,1])))\n",
        "print('Значение метрики AUC-ROC на валидационных данных: {0:.3f}'\n",
        "      .format(roc_auc_score(target_valid, model_lr_prob_val[:,1])))"
      ]
    },
    {
      "cell_type": "markdown",
      "metadata": {
        "id": "V4HQPYSwTl_j"
      },
      "source": [
        "#### Построим модель дерево решений"
      ]
    },
    {
      "cell_type": "code",
      "execution_count": null,
      "metadata": {
        "id": "FFoDZaeFTl_k"
      },
      "outputs": [],
      "source": [
        "best_depth = 0\n",
        "f1_best = 0\n",
        "auc_roc_best = 0\n",
        "\n",
        "for depth in range(1, 21, 1):\n",
        "    model_dt = DecisionTreeClassifier(random_state = 12345, max_depth=depth)\n",
        "    model_dt.fit(features_upsampled, target_upsampled)\n",
        "    model_dt_pred_val = model_dt.predict(features_valid)\n",
        "    model_dt_prob_val = model_dt.predict_proba(features_valid)\n",
        "    if f1_score(target_valid, model_dt_pred_val) > f1_best:\n",
        "        f1_best = f1_score(target_valid, model_dt_pred_val)\n",
        "        best_depth = depth\n",
        "        auc_roc_best = roc_auc_score(target_valid, model_dt_prob_val[:,1])\n",
        "\n",
        "model_dt = DecisionTreeClassifier(random_state = 12345, max_depth=best_depth, class_weight='balanced')\n",
        "model_dt.fit(features_upsampled, target_upsampled)\n",
        "model_dt_pred_tr = model_dt.predict(features_upsampled)\n",
        "model_dt_prob_tr = model_dt.predict_proba(features_upsampled)"
      ]
    },
    {
      "cell_type": "markdown",
      "metadata": {
        "id": "Uy-YaXTQTl_k"
      },
      "source": [
        "Выведем значение метрики f1-score, AUC-ROC, глубину дерева"
      ]
    },
    {
      "cell_type": "code",
      "execution_count": null,
      "metadata": {
        "id": "PsV_ggDyTl_k",
        "outputId": "d7b06a80-06a8-43f3-fb50-a9d114e6cc5d"
      },
      "outputs": [
        {
          "name": "stdout",
          "output_type": "stream",
          "text": [
            "Дерево решений\n",
            "Значение метрики F1 на тренировочных данных: 0.797\n",
            "Значение метрики F1 на валидационных данных: 0.576\n",
            "Значение метрики AUC-ROC на тренировочных данных: 0.871\n",
            "Значение метрики AUC-ROC на валидационных данных: 0.823\n",
            "Глубина дерева 6\n",
            "CPU times: user 13.8 ms, sys: 32 µs, total: 13.8 ms\n",
            "Wall time: 21.2 ms\n"
          ]
        }
      ],
      "source": [
        "%%time\n",
        "\n",
        "print('Дерево решений')\n",
        "print('Значение метрики F1 на тренировочных данных: {0:.3f}'.format(f1_score(target_upsampled, model_dt_pred_tr)))\n",
        "print('Значение метрики F1 на валидационных данных: {0:.3f}'.format(f1_best))\n",
        "print('Значение метрики AUC-ROC на тренировочных данных: {0:.3f}'\n",
        "      .format(roc_auc_score(target_upsampled, model_dt_prob_tr[:,1])))\n",
        "print('Значение метрики AUC-ROC на валидационных данных: {0:.3f}'.format(auc_roc_best))\n",
        "print(f'Глубина дерева {best_depth}')"
      ]
    },
    {
      "cell_type": "markdown",
      "metadata": {
        "id": "RiMkqMJaTl_k"
      },
      "source": [
        "#### Построим модель случайного леса"
      ]
    },
    {
      "cell_type": "code",
      "execution_count": null,
      "metadata": {
        "id": "H5qml3YtTl_k"
      },
      "outputs": [],
      "source": [
        "best_depth = 0\n",
        "n_est_best = 0\n",
        "f1_best = 0\n",
        "auc_roc_best = 0\n",
        "\n",
        "for depth in range(1, 21, 1):\n",
        "    for n_est in chain(range(2,2,5), range(10,101,10)):\n",
        "        model_rf = RandomForestClassifier(random_state = 12345, max_depth=depth, n_estimators=n_est)\n",
        "        model_rf.fit(features_upsampled, target_upsampled)\n",
        "        model_rf_pred_val = model_rf.predict(features_valid)\n",
        "        model_rf_prob_val = model_rf.predict_proba(features_valid)\n",
        "        if f1_score(target_valid, model_rf_pred_val) > f1_best:\n",
        "            f1_best = f1_score(target_valid, model_rf_pred_val)\n",
        "            best_depth = depth\n",
        "            n_est_best = n_est\n",
        "            auc_roc_best = roc_auc_score(target_valid, model_rf_prob_val[:,1])\n",
        "\n",
        "model_rf = RandomForestClassifier(random_state = 12345, max_depth=best_depth, n_estimators=n_est_best)\n",
        "model_rf.fit(features_upsampled, target_upsampled)\n",
        "model_rf_pred_tr = model_rf.predict(features_upsampled)\n",
        "model_rf_prob_tr = model_rf.predict_proba(features_upsampled)"
      ]
    },
    {
      "cell_type": "markdown",
      "metadata": {
        "id": "z2uvEfTETl_l"
      },
      "source": [
        "Выведем значение метрики f1-score, AUC-ROC, глубину дерева, количество деревьев"
      ]
    },
    {
      "cell_type": "code",
      "execution_count": null,
      "metadata": {
        "id": "8q5Bo_8zTl_l",
        "outputId": "1bc13fbf-6f58-44dc-b489-aea37c278d8e"
      },
      "outputs": [
        {
          "name": "stdout",
          "output_type": "stream",
          "text": [
            "Случайный лес\n",
            "Значение метрики F1 на тренировочных данных: 0.907\n",
            "Значение метрики F1 на валидационных данных: 0.651\n",
            "Значение метрики AUC-ROC на тренировочных данных: 0.972\n",
            "Значение метрики AUC-ROC на валидационных данных: 0.866\n",
            "Глубина дерева: 10\n",
            "Количество деревьев: 30\n",
            "CPU times: user 7.74 ms, sys: 3.88 ms, total: 11.6 ms\n",
            "Wall time: 9.98 ms\n"
          ]
        }
      ],
      "source": [
        "%%time\n",
        "\n",
        "print('Случайный лес')\n",
        "print('Значение метрики F1 на тренировочных данных: {0:.3f}'.format(f1_score(target_upsampled, model_rf_pred_tr)))\n",
        "print('Значение метрики F1 на валидационных данных: {0:.3f}'.format(f1_best))\n",
        "print('Значение метрики AUC-ROC на тренировочных данных: {0:.3f}'\n",
        "      .format(roc_auc_score(target_upsampled, model_rf_prob_tr[:,1])))\n",
        "print('Значение метрики AUC-ROC на валидационных данных: {0:.3f}'.format(auc_roc_best))\n",
        "print(f'Глубина дерева: {best_depth}')\n",
        "print(f'Количество деревьев: {n_est_best}')"
      ]
    },
    {
      "cell_type": "markdown",
      "metadata": {
        "id": "w7qHoO4cTl_l"
      },
      "source": [
        "#### Вывод\n",
        "Промежуточные выводы для алгоритмов с увеличенными выборками\n",
        " - Метрики качества для моделей, обученных с автоматической балансировкой и с увеличеными данными, оказались практически идентичными. Слабые отличия наблюдаются для модели случайного леса, что связано с разницей в количестве деревьев. У модели с автоматической балансировкой 90 деревьев, а у модели с увеличеными данными - 70\n",
        " - На данный момент наилучшие результаты у моделей с автоматической балансировкой. Именно эти модели будут протестированы в следующем разделе"
      ]
    },
    {
      "cell_type": "markdown",
      "metadata": {
        "id": "rr6bLwwyTl_l"
      },
      "source": [
        "## Тестирование модели"
      ]
    },
    {
      "cell_type": "markdown",
      "metadata": {
        "id": "Vouda3kLTl_m"
      },
      "source": [
        "Рассчитаем метрики качества F1 и AUC-ROC на тестовых данных. При обучении моделей используем параметры подобранные в разделе \"Борьба с дисбалансом\". Параметр `class_weight` установим равным значению `True`."
      ]
    },
    {
      "cell_type": "markdown",
      "metadata": {
        "id": "DkJSYqZoTl_m"
      },
      "source": [
        "объединим тренировочные и валидационные выборки"
      ]
    },
    {
      "cell_type": "code",
      "execution_count": null,
      "metadata": {
        "id": "dASxiRGrTl_m"
      },
      "outputs": [],
      "source": [
        "features_full_train = pd.concat([features_train, features_valid])\n",
        "target_full_train = pd.concat([target_train, target_valid])"
      ]
    },
    {
      "cell_type": "markdown",
      "metadata": {
        "id": "7tDYcecFTl_m"
      },
      "source": [
        "Перемешаем полученные выборки"
      ]
    },
    {
      "cell_type": "code",
      "execution_count": null,
      "metadata": {
        "id": "qHaFP-WxTl_m"
      },
      "outputs": [],
      "source": [
        "features_full_train, target_full_train = shuffle(features_full_train, target_full_train, random_state=12345)"
      ]
    },
    {
      "cell_type": "markdown",
      "metadata": {
        "id": "FhA3HWxcTl_n"
      },
      "source": [
        "### Модель логистической регрессии"
      ]
    },
    {
      "cell_type": "markdown",
      "metadata": {
        "id": "H21K5G1STl_n"
      },
      "source": [
        "Создадим модель, обучим на полной выборке, сделаем предсказания на тестовой выборке, оценим вероятности классов на тестовой выборке"
      ]
    },
    {
      "cell_type": "code",
      "execution_count": null,
      "metadata": {
        "id": "qQKDVowTTl_n"
      },
      "outputs": [],
      "source": [
        "model_lr = LogisticRegression(random_state = 12345, class_weight='balanced')\n",
        "model_lr.fit(features_full_train, target_full_train)\n",
        "model_lr_pred_test = model_lr.predict(features_test)\n",
        "model_lr_prob_test = model_lr.predict_proba(features_test)"
      ]
    },
    {
      "cell_type": "markdown",
      "metadata": {
        "id": "pa7mxlCZTl_n"
      },
      "source": [
        "Рассчитаем метрику f1-score, AUC-ROC"
      ]
    },
    {
      "cell_type": "code",
      "execution_count": null,
      "metadata": {
        "id": "AbYLg7TrTl_n",
        "outputId": "0d99e3da-07d3-4c0b-de3f-41a1a5083a17"
      },
      "outputs": [
        {
          "name": "stdout",
          "output_type": "stream",
          "text": [
            "Логистическая регрессия\n",
            "Значение метрики F1 на тестовых данных: 0.480\n",
            "Значение метрики AUC-ROC на тестовых данных: 0.756\n",
            "CPU times: user 23.3 ms, sys: 27.9 ms, total: 51.3 ms\n",
            "Wall time: 71.2 ms\n"
          ]
        }
      ],
      "source": [
        "%%time\n",
        "\n",
        "print('Логистическая регрессия')\n",
        "print('Значение метрики F1 на тестовых данных: {0:.3f}'.format(f1_score(target_test, model_lr_pred_test)))\n",
        "print('Значение метрики AUC-ROC на тестовых данных: {0:.3f}'.format(roc_auc_score(target_test, model_lr_prob_test[:,1])))"
      ]
    },
    {
      "cell_type": "markdown",
      "metadata": {
        "id": "RgyRm-rTTl_n"
      },
      "source": [
        "### Модель дерево решений"
      ]
    },
    {
      "cell_type": "code",
      "execution_count": null,
      "metadata": {
        "id": "-ZrenlBpTl_n"
      },
      "outputs": [],
      "source": [
        "model_dt = DecisionTreeClassifier(random_state = 12345, max_depth=5, class_weight='balanced')\n",
        "model_dt.fit(features_full_train, target_full_train)\n",
        "model_dt_pred_test = model_dt.predict(features_test)\n",
        "model_dt_prob_test = model_dt.predict_proba(features_test)"
      ]
    },
    {
      "cell_type": "markdown",
      "metadata": {
        "id": "xLCkZ1a-Tl_o"
      },
      "source": [
        "Выведем на экран метрики качества"
      ]
    },
    {
      "cell_type": "code",
      "execution_count": null,
      "metadata": {
        "scrolled": true,
        "id": "BFGHgathTl_o",
        "outputId": "899735b0-227d-455c-90ed-62ede651ac0d"
      },
      "outputs": [
        {
          "name": "stdout",
          "output_type": "stream",
          "text": [
            "Дерево решений\n",
            "Значение метрики F1 на тестовых данных: 0.549\n",
            "Значение метрики AUC-ROC на тестовых данных: 0.836\n",
            "CPU times: user 3.86 ms, sys: 3.99 ms, total: 7.85 ms\n",
            "Wall time: 6.31 ms\n"
          ]
        }
      ],
      "source": [
        "%%time\n",
        "\n",
        "print('Дерево решений')\n",
        "print('Значение метрики F1 на тестовых данных: {0:.3f}'.format(f1_score(target_test, model_dt_pred_test)))\n",
        "print('Значение метрики AUC-ROC на тестовых данных: {0:.3f}'.format(roc_auc_score(target_test, model_dt_prob_test[:,1])))"
      ]
    },
    {
      "cell_type": "markdown",
      "metadata": {
        "id": "yIfQjKFETl_o"
      },
      "source": [
        "### Модель случайный лес"
      ]
    },
    {
      "cell_type": "code",
      "execution_count": null,
      "metadata": {
        "id": "EmsinTrTTl_o"
      },
      "outputs": [],
      "source": [
        "model_rf = RandomForestClassifier(random_state = 12345, max_depth=9, class_weight='balanced', n_estimators=90)\n",
        "model_rf.fit(features_full_train, target_full_train)\n",
        "model_rf_pred_test = model_rf.predict(features_test)\n",
        "model_rf_prob_test = model_rf.predict_proba(features_test)"
      ]
    },
    {
      "cell_type": "markdown",
      "metadata": {
        "id": "naUfybPNTl_o"
      },
      "source": [
        "Выведем на экран метрики качества"
      ]
    },
    {
      "cell_type": "code",
      "execution_count": null,
      "metadata": {
        "id": "Ji5fh2RlTl_o",
        "outputId": "459deeab-98cc-4065-d159-11f9d7206cdd"
      },
      "outputs": [
        {
          "name": "stdout",
          "output_type": "stream",
          "text": [
            "Дерево решений\n",
            "Значение метрики F1 на тестовых данных: 0.613\n",
            "Значение метрики AUC-ROC на тестовых данных: 0.858\n",
            "CPU times: user 8.02 ms, sys: 68 µs, total: 8.08 ms\n",
            "Wall time: 9.65 ms\n"
          ]
        }
      ],
      "source": [
        "%%time\n",
        "\n",
        "print('Дерево решений')\n",
        "print('Значение метрики F1 на тестовых данных: {0:.3f}'.format(f1_score(target_test, model_rf_pred_test)))\n",
        "print('Значение метрики AUC-ROC на тестовых данных: {0:.3f}'.format(roc_auc_score(target_test, model_rf_prob_test[:,1])))"
      ]
    },
    {
      "cell_type": "markdown",
      "metadata": {
        "id": "e2u-duvITl_p"
      },
      "source": [
        "### Вывод\n",
        " - Проведен подбор гиперпараметров для трех типов моделей: логистическая регрессия, дерево решений, случайный лес. Обучение моделей классификации проводилось тремя способами: на исходных несбалансированных данных, данных с автоматической балансировкой (параметр `claas_weight`) и на данных с увеличенным количеством миноритарных объектов. Метрики качества для моделей, обученных с автоматической балансировкой и с увеличеными данными, оказались практически идентичными, но есть вероятность переобученности модели случайного леса\n",
        " - Поставленная задача выполнена, значение метрики F1 на тестовых данных достигло 0.613"
      ]
    },
    {
      "cell_type": "code",
      "execution_count": null,
      "metadata": {
        "id": "Q9f0NHTZTl_q"
      },
      "outputs": [],
      "source": []
    },
    {
      "cell_type": "markdown",
      "metadata": {
        "toc": true,
        "id": "-4IUyNHUTl_q"
      },
      "source": [
        "<h1>Содержание<span class=\"tocSkip\"></span></h1>\n",
        "<div class=\"toc\"><ul class=\"toc-item\"><li><span><a href=\"#Подготовка-данных\" data-toc-modified-id=\"Подготовка-данных-1\"><span class=\"toc-item-num\">1&nbsp;&nbsp;</span>Подготовка данных</a></span><ul class=\"toc-item\"><li><span><a href=\"#Вывод:\" data-toc-modified-id=\"Вывод:-1.1\"><span class=\"toc-item-num\">1.1&nbsp;&nbsp;</span>Вывод:</a></span></li><li><span><a href=\"#Предобработка-и-обработка-данных\" data-toc-modified-id=\"Предобработка-и-обработка-данных-1.2\"><span class=\"toc-item-num\">1.2&nbsp;&nbsp;</span>Предобработка и обработка данных</a></span></li><li><span><a href=\"#Обработка-пропущенных-значений\" data-toc-modified-id=\"Обработка-пропущенных-значений-1.3\"><span class=\"toc-item-num\">1.3&nbsp;&nbsp;</span>Обработка пропущенных значений</a></span></li><li><span><a href=\"#Преобразование-типов-признаков\" data-toc-modified-id=\"Преобразование-типов-признаков-1.4\"><span class=\"toc-item-num\">1.4&nbsp;&nbsp;</span>Преобразование типов признаков</a></span></li><li><span><a href=\"#Масштабирование-признаков\" data-toc-modified-id=\"Масштабирование-признаков-1.5\"><span class=\"toc-item-num\">1.5&nbsp;&nbsp;</span>Масштабирование признаков</a></span></li><li><span><a href=\"#Вывод\" data-toc-modified-id=\"Вывод-1.6\"><span class=\"toc-item-num\">1.6&nbsp;&nbsp;</span>Вывод</a></span></li></ul></li><li><span><a href=\"#Исследование-задачи\" data-toc-modified-id=\"Исследование-задачи-2\"><span class=\"toc-item-num\">2&nbsp;&nbsp;</span>Исследование задачи</a></span><ul class=\"toc-item\"><li><span><a href=\"#Построим-модель-логистической-регрессии\" data-toc-modified-id=\"Построим-модель-логистической-регрессии-2.1\"><span class=\"toc-item-num\">2.1&nbsp;&nbsp;</span>Построим модель логистической регрессии</a></span></li><li><span><a href=\"#Построим-модель-дерево-решений\" data-toc-modified-id=\"Построим-модель-дерево-решений-2.2\"><span class=\"toc-item-num\">2.2&nbsp;&nbsp;</span>Построим модель дерево решений</a></span></li><li><span><a href=\"#Построим-модель-случайного-леса\" data-toc-modified-id=\"Построим-модель-случайного-леса-2.3\"><span class=\"toc-item-num\">2.3&nbsp;&nbsp;</span>Построим модель случайного леса</a></span></li><li><span><a href=\"#Выводы\" data-toc-modified-id=\"Выводы-2.4\"><span class=\"toc-item-num\">2.4&nbsp;&nbsp;</span>Выводы</a></span></li></ul></li><li><span><a href=\"#Борьба-с-дисбалансом\" data-toc-modified-id=\"Борьба-с-дисбалансом-3\"><span class=\"toc-item-num\">3&nbsp;&nbsp;</span>Борьба с дисбалансом</a></span><ul class=\"toc-item\"><li><span><a href=\"#C-помощью-параметра-class_weight\" data-toc-modified-id=\"C-помощью-параметра-class_weight-3.1\"><span class=\"toc-item-num\">3.1&nbsp;&nbsp;</span>C помощью параметра class_weight</a></span><ul class=\"toc-item\"><li><span><a href=\"#Построим-модель-логистической-регрессии\" data-toc-modified-id=\"Построим-модель-логистической-регрессии-3.1.1\"><span class=\"toc-item-num\">3.1.1&nbsp;&nbsp;</span>Построим модель логистической регрессии</a></span></li><li><span><a href=\"#Построим-модель-дерево-решений\" data-toc-modified-id=\"Построим-модель-дерево-решений-3.1.2\"><span class=\"toc-item-num\">3.1.2&nbsp;&nbsp;</span>Построим модель дерево решений</a></span></li><li><span><a href=\"#Построим-модель-случайного-леса\" data-toc-modified-id=\"Построим-модель-случайного-леса-3.1.3\"><span class=\"toc-item-num\">3.1.3&nbsp;&nbsp;</span>Построим модель случайного леса</a></span></li><li><span><a href=\"#Вывод\" data-toc-modified-id=\"Вывод-3.1.4\"><span class=\"toc-item-num\">3.1.4&nbsp;&nbsp;</span>Вывод</a></span></li></ul></li><li><span><a href=\"#Борьба-с-дисбалансом-путем-увеличения-выборки\" data-toc-modified-id=\"Борьба-с-дисбалансом-путем-увеличения-выборки-3.2\"><span class=\"toc-item-num\">3.2&nbsp;&nbsp;</span>Борьба с дисбалансом путем увеличения выборки</a></span><ul class=\"toc-item\"><li><span><a href=\"#Upsampling\" data-toc-modified-id=\"Upsampling-3.2.1\"><span class=\"toc-item-num\">3.2.1&nbsp;&nbsp;</span>Upsampling</a></span></li><li><span><a href=\"#Построим-модель-логистической-регрессии\" data-toc-modified-id=\"Построим-модель-логистической-регрессии-3.2.2\"><span class=\"toc-item-num\">3.2.2&nbsp;&nbsp;</span>Построим модель логистической регрессии</a></span></li><li><span><a href=\"#Построим-модель-дерево-решений\" data-toc-modified-id=\"Построим-модель-дерево-решений-3.2.3\"><span class=\"toc-item-num\">3.2.3&nbsp;&nbsp;</span>Построим модель дерево решений</a></span></li><li><span><a href=\"#Построим-модель-случайного-леса\" data-toc-modified-id=\"Построим-модель-случайного-леса-3.2.4\"><span class=\"toc-item-num\">3.2.4&nbsp;&nbsp;</span>Построим модель случайного леса</a></span></li><li><span><a href=\"#Вывод\" data-toc-modified-id=\"Вывод-3.2.5\"><span class=\"toc-item-num\">3.2.5&nbsp;&nbsp;</span>Вывод</a></span></li></ul></li></ul></li><li><span><a href=\"#Тестирование-модели\" data-toc-modified-id=\"Тестирование-модели-4\"><span class=\"toc-item-num\">4&nbsp;&nbsp;</span>Тестирование модели</a></span><ul class=\"toc-item\"><li><span><a href=\"#Модель-логистической-регрессии\" data-toc-modified-id=\"Модель-логистической-регрессии-4.1\"><span class=\"toc-item-num\">4.1&nbsp;&nbsp;</span>Модель логистической регрессии</a></span></li><li><span><a href=\"#Модель-дерево-решений\" data-toc-modified-id=\"Модель-дерево-решений-4.2\"><span class=\"toc-item-num\">4.2&nbsp;&nbsp;</span>Модель дерево решений</a></span></li><li><span><a href=\"#Модель-случайный-лес\" data-toc-modified-id=\"Модель-случайный-лес-4.3\"><span class=\"toc-item-num\">4.3&nbsp;&nbsp;</span>Модель случайный лес</a></span></li><li><span><a href=\"#Вывод\" data-toc-modified-id=\"Вывод-4.4\"><span class=\"toc-item-num\">4.4&nbsp;&nbsp;</span>Вывод</a></span></li></ul></li><li><span><a href=\"#Чек-лист-готовности-проекта\" data-toc-modified-id=\"Чек-лист-готовности-проекта-5\"><span class=\"toc-item-num\">5&nbsp;&nbsp;</span>Чек-лист готовности проекта</a></span></li></ul></div>"
      ]
    }
  ],
  "metadata": {
    "ExecuteTimeLog": [
      {
        "duration": 2261,
        "start_time": "2022-05-14T20:29:31.405Z"
      },
      {
        "duration": 7,
        "start_time": "2022-05-14T20:30:09.803Z"
      },
      {
        "duration": 49,
        "start_time": "2022-05-14T20:35:30.426Z"
      },
      {
        "duration": 42,
        "start_time": "2022-05-14T20:35:39.374Z"
      },
      {
        "duration": 47,
        "start_time": "2022-05-14T20:35:46.927Z"
      },
      {
        "duration": 19,
        "start_time": "2022-05-14T20:36:46.649Z"
      },
      {
        "duration": 16,
        "start_time": "2022-05-14T20:37:36.227Z"
      },
      {
        "duration": 53,
        "start_time": "2022-05-14T20:38:26.067Z"
      },
      {
        "duration": 103,
        "start_time": "2022-05-14T20:38:38.428Z"
      },
      {
        "duration": 414,
        "start_time": "2022-05-14T20:39:26.094Z"
      },
      {
        "duration": 417,
        "start_time": "2022-05-14T21:01:16.498Z"
      },
      {
        "duration": 104,
        "start_time": "2022-05-14T21:05:14.906Z"
      },
      {
        "duration": 14,
        "start_time": "2022-05-14T21:05:25.362Z"
      },
      {
        "duration": 2377,
        "start_time": "2022-05-14T21:05:37.649Z"
      },
      {
        "duration": 6,
        "start_time": "2022-05-14T21:32:02.439Z"
      },
      {
        "duration": 6,
        "start_time": "2022-05-14T21:32:41.480Z"
      },
      {
        "duration": 9,
        "start_time": "2022-05-14T21:32:52.656Z"
      },
      {
        "duration": 93,
        "start_time": "2022-05-14T21:33:16.583Z"
      },
      {
        "duration": 19,
        "start_time": "2022-05-14T21:34:21.308Z"
      },
      {
        "duration": 30,
        "start_time": "2022-05-14T21:34:29.588Z"
      },
      {
        "duration": 6,
        "start_time": "2022-05-14T21:35:54.671Z"
      },
      {
        "duration": 8,
        "start_time": "2022-05-14T21:37:41.669Z"
      },
      {
        "duration": 8,
        "start_time": "2022-05-14T21:37:50.323Z"
      },
      {
        "duration": 9,
        "start_time": "2022-05-14T21:37:51.210Z"
      },
      {
        "duration": 9,
        "start_time": "2022-05-14T21:38:09.179Z"
      },
      {
        "duration": 14,
        "start_time": "2022-05-14T21:39:07.597Z"
      },
      {
        "duration": 14,
        "start_time": "2022-05-14T21:39:23.806Z"
      },
      {
        "duration": 104,
        "start_time": "2022-05-14T21:39:33.094Z"
      },
      {
        "duration": 87,
        "start_time": "2022-05-14T21:41:52.251Z"
      },
      {
        "duration": 4,
        "start_time": "2022-05-14T21:42:43.556Z"
      },
      {
        "duration": 9,
        "start_time": "2022-05-14T21:44:18.279Z"
      },
      {
        "duration": 15,
        "start_time": "2022-05-14T21:52:31.313Z"
      },
      {
        "duration": 9,
        "start_time": "2022-05-14T21:52:56.424Z"
      },
      {
        "duration": 14,
        "start_time": "2022-05-14T21:53:14.082Z"
      },
      {
        "duration": 8,
        "start_time": "2022-05-14T21:53:56.786Z"
      },
      {
        "duration": 6,
        "start_time": "2022-05-14T21:54:18.283Z"
      },
      {
        "duration": 9,
        "start_time": "2022-05-14T21:54:27.259Z"
      },
      {
        "duration": 4,
        "start_time": "2022-05-14T21:55:18.523Z"
      },
      {
        "duration": 3,
        "start_time": "2022-05-14T21:55:29.382Z"
      },
      {
        "duration": 11,
        "start_time": "2022-05-14T21:55:47.767Z"
      },
      {
        "duration": 35,
        "start_time": "2022-05-14T21:56:03.887Z"
      },
      {
        "duration": 39,
        "start_time": "2022-05-14T21:56:16.984Z"
      },
      {
        "duration": 17,
        "start_time": "2022-05-14T22:04:19.457Z"
      },
      {
        "duration": 883,
        "start_time": "2022-05-14T22:04:59.664Z"
      },
      {
        "duration": 1034,
        "start_time": "2022-05-14T22:05:17.034Z"
      },
      {
        "duration": 873,
        "start_time": "2022-05-14T22:05:21.826Z"
      },
      {
        "duration": 835,
        "start_time": "2022-05-14T22:05:42.922Z"
      },
      {
        "duration": 106,
        "start_time": "2022-05-14T22:08:41.506Z"
      },
      {
        "duration": 254,
        "start_time": "2022-05-14T22:09:19.234Z"
      },
      {
        "duration": 12,
        "start_time": "2022-05-14T22:09:51.147Z"
      },
      {
        "duration": 16,
        "start_time": "2022-05-14T22:10:06.627Z"
      },
      {
        "duration": 781,
        "start_time": "2022-05-14T22:12:14.415Z"
      },
      {
        "duration": 38,
        "start_time": "2022-05-14T22:13:35.106Z"
      },
      {
        "duration": 17,
        "start_time": "2022-05-14T22:14:42.172Z"
      },
      {
        "duration": 92494,
        "start_time": "2022-05-14T22:16:40.522Z"
      },
      {
        "duration": 737,
        "start_time": "2022-05-14T22:18:13.019Z"
      },
      {
        "duration": 724,
        "start_time": "2022-05-14T22:18:18.611Z"
      },
      {
        "duration": 3,
        "start_time": "2022-05-14T22:24:37.105Z"
      },
      {
        "duration": 374,
        "start_time": "2022-05-14T22:27:51.119Z"
      },
      {
        "duration": 839,
        "start_time": "2022-05-14T22:28:56.137Z"
      },
      {
        "duration": 92744,
        "start_time": "2022-05-14T22:29:55.139Z"
      },
      {
        "duration": 92163,
        "start_time": "2022-05-14T22:32:37.592Z"
      },
      {
        "duration": 3,
        "start_time": "2022-05-14T22:34:17.268Z"
      },
      {
        "duration": 7,
        "start_time": "2022-05-14T22:36:07.944Z"
      },
      {
        "duration": 26,
        "start_time": "2022-05-14T22:37:30.210Z"
      },
      {
        "duration": 9,
        "start_time": "2022-05-14T22:37:38.762Z"
      },
      {
        "duration": 8,
        "start_time": "2022-05-14T22:38:04.340Z"
      },
      {
        "duration": 7,
        "start_time": "2022-05-14T22:38:14.107Z"
      },
      {
        "duration": 7,
        "start_time": "2022-05-14T22:38:22.315Z"
      },
      {
        "duration": 8,
        "start_time": "2022-05-14T22:38:33.659Z"
      },
      {
        "duration": 7,
        "start_time": "2022-05-14T22:38:40.011Z"
      },
      {
        "duration": 6,
        "start_time": "2022-05-14T22:38:45.572Z"
      },
      {
        "duration": 1539,
        "start_time": "2022-05-14T22:39:49.946Z"
      },
      {
        "duration": 27,
        "start_time": "2022-05-14T22:40:37.480Z"
      },
      {
        "duration": 27,
        "start_time": "2022-05-14T22:40:50.561Z"
      },
      {
        "duration": 1028,
        "start_time": "2022-05-14T22:41:40.549Z"
      },
      {
        "duration": 20,
        "start_time": "2022-05-14T22:42:24.868Z"
      },
      {
        "duration": 129051,
        "start_time": "2022-05-14T22:45:21.559Z"
      },
      {
        "duration": 21,
        "start_time": "2022-05-14T22:47:30.612Z"
      },
      {
        "duration": 8,
        "start_time": "2022-05-14T22:50:01.795Z"
      },
      {
        "duration": 8,
        "start_time": "2022-05-14T22:50:15.372Z"
      },
      {
        "duration": 104,
        "start_time": "2022-05-14T22:51:41.175Z"
      },
      {
        "duration": 300,
        "start_time": "2022-05-14T22:51:52.783Z"
      },
      {
        "duration": 15,
        "start_time": "2022-05-14T22:52:27.432Z"
      },
      {
        "duration": 39,
        "start_time": "2022-05-14T22:53:02.577Z"
      },
      {
        "duration": 14,
        "start_time": "2022-05-14T22:53:25.442Z"
      },
      {
        "duration": 941,
        "start_time": "2022-05-14T22:54:01.228Z"
      },
      {
        "duration": 15,
        "start_time": "2022-05-14T22:54:18.340Z"
      },
      {
        "duration": 1749,
        "start_time": "2022-05-14T23:23:27.285Z"
      },
      {
        "duration": 26,
        "start_time": "2022-05-14T23:24:13.545Z"
      },
      {
        "duration": 20,
        "start_time": "2022-05-14T23:24:22.543Z"
      },
      {
        "duration": 19,
        "start_time": "2022-05-14T23:24:29.922Z"
      },
      {
        "duration": 13,
        "start_time": "2022-05-14T23:24:39.497Z"
      },
      {
        "duration": 13,
        "start_time": "2022-05-14T23:24:44.952Z"
      },
      {
        "duration": 14,
        "start_time": "2022-05-14T23:24:49.840Z"
      },
      {
        "duration": 833,
        "start_time": "2022-05-14T23:25:31.355Z"
      },
      {
        "duration": 501,
        "start_time": "2022-05-14T23:25:37.890Z"
      },
      {
        "duration": 245,
        "start_time": "2022-05-14T23:25:45.124Z"
      },
      {
        "duration": 17,
        "start_time": "2022-05-14T23:25:56.635Z"
      },
      {
        "duration": 5,
        "start_time": "2022-05-14T23:26:27.523Z"
      },
      {
        "duration": 53,
        "start_time": "2022-05-14T23:26:27.531Z"
      },
      {
        "duration": 16,
        "start_time": "2022-05-14T23:26:27.586Z"
      },
      {
        "duration": 21,
        "start_time": "2022-05-14T23:26:27.605Z"
      },
      {
        "duration": 83,
        "start_time": "2022-05-14T23:26:27.628Z"
      },
      {
        "duration": 588,
        "start_time": "2022-05-14T23:26:27.713Z"
      },
      {
        "duration": 427,
        "start_time": "2022-05-14T23:26:28.304Z"
      },
      {
        "duration": 13,
        "start_time": "2022-05-14T23:26:28.733Z"
      },
      {
        "duration": 2374,
        "start_time": "2022-05-14T23:26:28.750Z"
      },
      {
        "duration": 7,
        "start_time": "2022-05-14T23:26:31.126Z"
      },
      {
        "duration": 11,
        "start_time": "2022-05-14T23:26:31.135Z"
      },
      {
        "duration": 66,
        "start_time": "2022-05-14T23:26:31.148Z"
      },
      {
        "duration": 25,
        "start_time": "2022-05-14T23:26:31.216Z"
      },
      {
        "duration": 17,
        "start_time": "2022-05-14T23:26:31.244Z"
      },
      {
        "duration": 32,
        "start_time": "2022-05-14T23:26:31.263Z"
      },
      {
        "duration": 23,
        "start_time": "2022-05-14T23:26:31.297Z"
      },
      {
        "duration": 114,
        "start_time": "2022-05-14T23:26:31.322Z"
      },
      {
        "duration": 3,
        "start_time": "2022-05-14T23:26:31.439Z"
      },
      {
        "duration": 22,
        "start_time": "2022-05-14T23:26:31.445Z"
      },
      {
        "duration": 26,
        "start_time": "2022-05-14T23:26:31.469Z"
      },
      {
        "duration": 9,
        "start_time": "2022-05-14T23:26:31.497Z"
      },
      {
        "duration": 21,
        "start_time": "2022-05-14T23:26:31.508Z"
      },
      {
        "duration": 10,
        "start_time": "2022-05-14T23:26:31.531Z"
      },
      {
        "duration": 35,
        "start_time": "2022-05-14T23:26:31.547Z"
      },
      {
        "duration": 33,
        "start_time": "2022-05-14T23:26:31.585Z"
      },
      {
        "duration": 24,
        "start_time": "2022-05-14T23:26:31.621Z"
      },
      {
        "duration": 21,
        "start_time": "2022-05-14T23:26:31.647Z"
      },
      {
        "duration": 46,
        "start_time": "2022-05-14T23:26:31.670Z"
      },
      {
        "duration": 63,
        "start_time": "2022-05-14T23:26:31.718Z"
      },
      {
        "duration": 16,
        "start_time": "2022-05-14T23:26:31.784Z"
      },
      {
        "duration": 1101,
        "start_time": "2022-05-14T23:26:31.802Z"
      },
      {
        "duration": 376,
        "start_time": "2022-05-14T23:26:32.906Z"
      },
      {
        "duration": 103,
        "start_time": "2022-05-14T23:26:33.286Z"
      },
      {
        "duration": 17,
        "start_time": "2022-05-14T23:26:33.392Z"
      },
      {
        "duration": 809,
        "start_time": "2022-05-14T23:26:33.411Z"
      },
      {
        "duration": 39,
        "start_time": "2022-05-14T23:26:34.222Z"
      },
      {
        "duration": 29,
        "start_time": "2022-05-14T23:26:34.263Z"
      },
      {
        "duration": 93601,
        "start_time": "2022-05-14T23:26:34.295Z"
      },
      {
        "duration": 737,
        "start_time": "2022-05-14T23:28:07.899Z"
      },
      {
        "duration": 452,
        "start_time": "2022-05-14T23:28:08.638Z"
      },
      {
        "duration": 857,
        "start_time": "2022-05-14T23:28:09.092Z"
      },
      {
        "duration": 92848,
        "start_time": "2022-05-14T23:28:09.951Z"
      },
      {
        "duration": 6,
        "start_time": "2022-05-14T23:29:42.802Z"
      },
      {
        "duration": 30,
        "start_time": "2022-05-14T23:29:42.810Z"
      },
      {
        "duration": 9,
        "start_time": "2022-05-14T23:29:42.842Z"
      },
      {
        "duration": 34,
        "start_time": "2022-05-14T23:29:42.852Z"
      },
      {
        "duration": 11,
        "start_time": "2022-05-14T23:29:42.888Z"
      },
      {
        "duration": 8,
        "start_time": "2022-05-14T23:29:42.901Z"
      },
      {
        "duration": 12,
        "start_time": "2022-05-14T23:29:42.911Z"
      },
      {
        "duration": 9,
        "start_time": "2022-05-14T23:29:42.925Z"
      },
      {
        "duration": 7,
        "start_time": "2022-05-14T23:29:42.936Z"
      },
      {
        "duration": 439,
        "start_time": "2022-05-14T23:29:42.945Z"
      },
      {
        "duration": 207,
        "start_time": "2022-05-14T23:29:43.388Z"
      },
      {
        "duration": 1023,
        "start_time": "2022-05-14T23:29:43.597Z"
      },
      {
        "duration": 18,
        "start_time": "2022-05-14T23:29:44.623Z"
      },
      {
        "duration": 130315,
        "start_time": "2022-05-14T23:29:44.644Z"
      },
      {
        "duration": 31,
        "start_time": "2022-05-14T23:31:54.961Z"
      },
      {
        "duration": 6,
        "start_time": "2022-05-14T23:31:54.995Z"
      },
      {
        "duration": 9,
        "start_time": "2022-05-14T23:31:55.003Z"
      },
      {
        "duration": 369,
        "start_time": "2022-05-14T23:31:55.014Z"
      },
      {
        "duration": 109,
        "start_time": "2022-05-14T23:31:55.386Z"
      },
      {
        "duration": 121,
        "start_time": "2022-05-14T23:31:55.498Z"
      },
      {
        "duration": 14,
        "start_time": "2022-05-14T23:31:55.621Z"
      },
      {
        "duration": 992,
        "start_time": "2022-05-14T23:31:55.638Z"
      },
      {
        "duration": 14,
        "start_time": "2022-05-14T23:31:56.632Z"
      },
      {
        "duration": 2296,
        "start_time": "2022-05-15T16:14:34.837Z"
      },
      {
        "duration": 49,
        "start_time": "2022-05-15T16:14:37.135Z"
      },
      {
        "duration": 19,
        "start_time": "2022-05-15T16:14:37.186Z"
      },
      {
        "duration": 15,
        "start_time": "2022-05-15T16:14:37.207Z"
      },
      {
        "duration": 67,
        "start_time": "2022-05-15T16:14:37.224Z"
      },
      {
        "duration": 491,
        "start_time": "2022-05-15T16:14:37.293Z"
      },
      {
        "duration": 394,
        "start_time": "2022-05-15T16:14:37.787Z"
      },
      {
        "duration": 13,
        "start_time": "2022-05-15T16:14:38.183Z"
      },
      {
        "duration": 2314,
        "start_time": "2022-05-15T16:14:38.198Z"
      },
      {
        "duration": 6,
        "start_time": "2022-05-15T16:14:40.516Z"
      },
      {
        "duration": 13,
        "start_time": "2022-05-15T16:14:40.523Z"
      },
      {
        "duration": 35,
        "start_time": "2022-05-15T16:14:40.562Z"
      },
      {
        "duration": 6,
        "start_time": "2022-05-15T16:14:40.599Z"
      },
      {
        "duration": 10,
        "start_time": "2022-05-15T16:14:40.607Z"
      },
      {
        "duration": 12,
        "start_time": "2022-05-15T16:14:40.619Z"
      },
      {
        "duration": 38,
        "start_time": "2022-05-15T16:14:40.633Z"
      },
      {
        "duration": 102,
        "start_time": "2022-05-15T16:14:40.673Z"
      },
      {
        "duration": 3,
        "start_time": "2022-05-15T16:14:40.778Z"
      },
      {
        "duration": 7,
        "start_time": "2022-05-15T16:14:40.782Z"
      },
      {
        "duration": 10,
        "start_time": "2022-05-15T16:14:40.790Z"
      },
      {
        "duration": 6,
        "start_time": "2022-05-15T16:14:40.801Z"
      },
      {
        "duration": 9,
        "start_time": "2022-05-15T16:14:40.809Z"
      },
      {
        "duration": 5,
        "start_time": "2022-05-15T16:14:40.819Z"
      },
      {
        "duration": 8,
        "start_time": "2022-05-15T16:14:40.863Z"
      },
      {
        "duration": 4,
        "start_time": "2022-05-15T16:14:40.873Z"
      },
      {
        "duration": 4,
        "start_time": "2022-05-15T16:14:40.879Z"
      },
      {
        "duration": 14,
        "start_time": "2022-05-15T16:14:40.885Z"
      },
      {
        "duration": 58,
        "start_time": "2022-05-15T16:14:40.904Z"
      },
      {
        "duration": 22,
        "start_time": "2022-05-15T16:14:40.964Z"
      },
      {
        "duration": 11,
        "start_time": "2022-05-15T16:14:40.988Z"
      },
      {
        "duration": 481,
        "start_time": "2022-05-15T16:14:41.000Z"
      },
      {
        "duration": 283,
        "start_time": "2022-05-15T16:14:41.483Z"
      },
      {
        "duration": 102,
        "start_time": "2022-05-15T16:14:41.768Z"
      },
      {
        "duration": 101,
        "start_time": "2022-05-15T16:14:41.875Z"
      },
      {
        "duration": 599,
        "start_time": "2022-05-15T16:14:41.978Z"
      },
      {
        "duration": 23,
        "start_time": "2022-05-15T16:14:42.579Z"
      },
      {
        "duration": 10,
        "start_time": "2022-05-15T16:14:42.604Z"
      },
      {
        "duration": 65483,
        "start_time": "2022-05-15T16:14:42.616Z"
      },
      {
        "duration": 524,
        "start_time": "2022-05-15T16:15:48.102Z"
      },
      {
        "duration": 354,
        "start_time": "2022-05-15T16:15:48.627Z"
      },
      {
        "duration": 569,
        "start_time": "2022-05-15T16:15:49.064Z"
      },
      {
        "duration": 68242,
        "start_time": "2022-05-15T16:15:49.635Z"
      },
      {
        "duration": 5,
        "start_time": "2022-05-15T16:16:57.879Z"
      },
      {
        "duration": 21,
        "start_time": "2022-05-15T16:16:57.886Z"
      },
      {
        "duration": 5,
        "start_time": "2022-05-15T16:16:57.909Z"
      },
      {
        "duration": 6,
        "start_time": "2022-05-15T16:16:57.916Z"
      },
      {
        "duration": 7,
        "start_time": "2022-05-15T16:16:57.924Z"
      },
      {
        "duration": 6,
        "start_time": "2022-05-15T16:16:57.932Z"
      },
      {
        "duration": 7,
        "start_time": "2022-05-15T16:16:57.962Z"
      },
      {
        "duration": 19,
        "start_time": "2022-05-15T16:16:57.971Z"
      },
      {
        "duration": 6,
        "start_time": "2022-05-15T16:16:57.991Z"
      },
      {
        "duration": 178,
        "start_time": "2022-05-15T16:16:57.999Z"
      },
      {
        "duration": 98,
        "start_time": "2022-05-15T16:16:58.180Z"
      },
      {
        "duration": 1046,
        "start_time": "2022-05-15T16:16:58.281Z"
      },
      {
        "duration": 19,
        "start_time": "2022-05-15T16:16:59.329Z"
      },
      {
        "duration": 104495,
        "start_time": "2022-05-15T16:16:59.362Z"
      },
      {
        "duration": 19,
        "start_time": "2022-05-15T16:18:43.859Z"
      },
      {
        "duration": 10,
        "start_time": "2022-05-15T16:18:43.879Z"
      },
      {
        "duration": 7,
        "start_time": "2022-05-15T16:18:43.891Z"
      },
      {
        "duration": 78,
        "start_time": "2022-05-15T16:18:43.899Z"
      },
      {
        "duration": 15,
        "start_time": "2022-05-15T16:18:44.061Z"
      },
      {
        "duration": 123,
        "start_time": "2022-05-15T16:18:44.082Z"
      },
      {
        "duration": 12,
        "start_time": "2022-05-15T16:18:44.207Z"
      },
      {
        "duration": 665,
        "start_time": "2022-05-15T16:18:44.222Z"
      },
      {
        "duration": 9,
        "start_time": "2022-05-15T16:18:44.889Z"
      },
      {
        "duration": 2125,
        "start_time": "2022-05-15T16:22:51.276Z"
      },
      {
        "duration": 203,
        "start_time": "2022-05-15T16:23:03.920Z"
      },
      {
        "duration": 213,
        "start_time": "2022-05-15T16:23:14.607Z"
      },
      {
        "duration": 168,
        "start_time": "2022-05-15T16:56:52.930Z"
      },
      {
        "duration": 143,
        "start_time": "2022-05-15T17:32:43.081Z"
      },
      {
        "duration": 27,
        "start_time": "2022-05-21T18:53:35.853Z"
      },
      {
        "duration": 40,
        "start_time": "2022-05-21T18:53:35.881Z"
      },
      {
        "duration": 287,
        "start_time": "2022-05-21T18:53:35.923Z"
      },
      {
        "duration": 451,
        "start_time": "2022-05-21T18:53:36.213Z"
      },
      {
        "duration": 16,
        "start_time": "2022-05-21T18:53:36.666Z"
      },
      {
        "duration": 1595,
        "start_time": "2022-05-21T18:53:36.684Z"
      },
      {
        "duration": 6,
        "start_time": "2022-05-21T18:53:38.282Z"
      },
      {
        "duration": 21,
        "start_time": "2022-05-21T18:53:38.290Z"
      },
      {
        "duration": 36,
        "start_time": "2022-05-21T18:53:38.326Z"
      },
      {
        "duration": 12,
        "start_time": "2022-05-21T18:53:38.365Z"
      },
      {
        "duration": 17,
        "start_time": "2022-05-21T18:53:38.379Z"
      },
      {
        "duration": 14,
        "start_time": "2022-05-21T18:53:38.399Z"
      },
      {
        "duration": 18,
        "start_time": "2022-05-21T18:53:38.415Z"
      },
      {
        "duration": 91,
        "start_time": "2022-05-21T18:53:38.445Z"
      },
      {
        "duration": 12,
        "start_time": "2022-05-21T18:53:38.537Z"
      },
      {
        "duration": 26,
        "start_time": "2022-05-21T18:53:38.551Z"
      },
      {
        "duration": 16,
        "start_time": "2022-05-21T18:53:38.578Z"
      },
      {
        "duration": 9,
        "start_time": "2022-05-21T18:53:38.596Z"
      },
      {
        "duration": 15,
        "start_time": "2022-05-21T18:53:38.607Z"
      },
      {
        "duration": 8,
        "start_time": "2022-05-21T18:53:38.624Z"
      },
      {
        "duration": 47,
        "start_time": "2022-05-21T18:53:38.633Z"
      },
      {
        "duration": 5,
        "start_time": "2022-05-21T18:53:38.682Z"
      },
      {
        "duration": 24,
        "start_time": "2022-05-21T18:53:38.690Z"
      },
      {
        "duration": 18,
        "start_time": "2022-05-21T18:53:38.716Z"
      },
      {
        "duration": 56,
        "start_time": "2022-05-21T18:53:38.735Z"
      },
      {
        "duration": 25,
        "start_time": "2022-05-21T18:53:38.793Z"
      },
      {
        "duration": 12,
        "start_time": "2022-05-21T18:53:38.820Z"
      },
      {
        "duration": 567,
        "start_time": "2022-05-21T18:53:38.838Z"
      },
      {
        "duration": 952,
        "start_time": "2022-05-21T18:53:39.407Z"
      },
      {
        "duration": 85,
        "start_time": "2022-05-21T18:53:40.361Z"
      },
      {
        "duration": 120,
        "start_time": "2022-05-21T18:53:40.451Z"
      },
      {
        "duration": 565,
        "start_time": "2022-05-21T18:53:40.573Z"
      },
      {
        "duration": 30,
        "start_time": "2022-05-21T18:53:41.144Z"
      },
      {
        "duration": 13,
        "start_time": "2022-05-21T18:53:41.176Z"
      },
      {
        "duration": 68106,
        "start_time": "2022-05-21T18:53:41.191Z"
      },
      {
        "duration": 580,
        "start_time": "2022-05-21T18:54:49.299Z"
      },
      {
        "duration": 574,
        "start_time": "2022-05-21T18:54:49.882Z"
      },
      {
        "duration": 652,
        "start_time": "2022-05-21T18:54:50.464Z"
      },
      {
        "duration": 67702,
        "start_time": "2022-05-21T18:54:51.118Z"
      },
      {
        "duration": 6,
        "start_time": "2022-05-21T18:55:58.825Z"
      },
      {
        "duration": 50,
        "start_time": "2022-05-21T18:55:58.840Z"
      },
      {
        "duration": 6,
        "start_time": "2022-05-21T18:55:58.891Z"
      },
      {
        "duration": 11,
        "start_time": "2022-05-21T18:55:58.898Z"
      },
      {
        "duration": 22,
        "start_time": "2022-05-21T18:55:58.910Z"
      },
      {
        "duration": 35,
        "start_time": "2022-05-21T18:55:58.934Z"
      },
      {
        "duration": 9,
        "start_time": "2022-05-21T18:55:58.971Z"
      },
      {
        "duration": 7,
        "start_time": "2022-05-21T18:55:58.981Z"
      },
      {
        "duration": 6,
        "start_time": "2022-05-21T18:55:58.989Z"
      },
      {
        "duration": 760,
        "start_time": "2022-05-21T18:55:58.996Z"
      },
      {
        "duration": 171,
        "start_time": "2022-05-21T18:55:59.760Z"
      },
      {
        "duration": 721,
        "start_time": "2022-05-21T18:55:59.933Z"
      },
      {
        "duration": 20,
        "start_time": "2022-05-21T18:56:00.657Z"
      },
      {
        "duration": 10,
        "start_time": "2022-05-21T18:57:34.742Z"
      },
      {
        "duration": 38,
        "start_time": "2022-05-21T18:57:34.753Z"
      },
      {
        "duration": 11,
        "start_time": "2022-05-21T18:57:34.793Z"
      },
      {
        "duration": 13,
        "start_time": "2022-05-21T18:57:34.806Z"
      },
      {
        "duration": 42,
        "start_time": "2022-05-21T18:57:34.821Z"
      },
      {
        "duration": 267,
        "start_time": "2022-05-21T18:57:34.865Z"
      },
      {
        "duration": 297,
        "start_time": "2022-05-21T18:57:35.141Z"
      },
      {
        "duration": 15,
        "start_time": "2022-05-21T18:57:35.440Z"
      },
      {
        "duration": 1824,
        "start_time": "2022-05-21T18:57:35.457Z"
      },
      {
        "duration": 4,
        "start_time": "2022-05-21T18:57:37.283Z"
      },
      {
        "duration": 18,
        "start_time": "2022-05-21T18:57:37.289Z"
      },
      {
        "duration": 53,
        "start_time": "2022-05-21T18:57:37.309Z"
      },
      {
        "duration": 10,
        "start_time": "2022-05-21T18:57:37.363Z"
      },
      {
        "duration": 13,
        "start_time": "2022-05-21T18:57:37.375Z"
      },
      {
        "duration": 14,
        "start_time": "2022-05-21T18:57:37.390Z"
      },
      {
        "duration": 28,
        "start_time": "2022-05-21T18:57:37.406Z"
      },
      {
        "duration": 100,
        "start_time": "2022-05-21T18:57:37.436Z"
      },
      {
        "duration": 14,
        "start_time": "2022-05-21T18:57:37.543Z"
      },
      {
        "duration": 18,
        "start_time": "2022-05-21T18:57:37.559Z"
      },
      {
        "duration": 15,
        "start_time": "2022-05-21T18:57:37.581Z"
      },
      {
        "duration": 11,
        "start_time": "2022-05-21T18:57:37.598Z"
      },
      {
        "duration": 11,
        "start_time": "2022-05-21T18:57:37.610Z"
      },
      {
        "duration": 25,
        "start_time": "2022-05-21T18:57:37.623Z"
      },
      {
        "duration": 17,
        "start_time": "2022-05-21T18:57:37.649Z"
      },
      {
        "duration": 9,
        "start_time": "2022-05-21T18:57:37.668Z"
      },
      {
        "duration": 15,
        "start_time": "2022-05-21T18:57:37.679Z"
      },
      {
        "duration": 14,
        "start_time": "2022-05-21T18:57:37.696Z"
      },
      {
        "duration": 26,
        "start_time": "2022-05-21T18:57:37.712Z"
      },
      {
        "duration": 27,
        "start_time": "2022-05-21T18:57:37.739Z"
      },
      {
        "duration": 12,
        "start_time": "2022-05-21T18:57:37.768Z"
      },
      {
        "duration": 613,
        "start_time": "2022-05-21T18:57:37.782Z"
      },
      {
        "duration": 784,
        "start_time": "2022-05-21T18:57:38.397Z"
      },
      {
        "duration": 28,
        "start_time": "2022-05-21T18:57:39.228Z"
      },
      {
        "duration": 254,
        "start_time": "2022-05-21T18:57:39.329Z"
      },
      {
        "duration": 577,
        "start_time": "2022-05-21T18:57:39.584Z"
      },
      {
        "duration": 27,
        "start_time": "2022-05-21T18:57:40.163Z"
      },
      {
        "duration": 27,
        "start_time": "2022-05-21T18:57:40.191Z"
      },
      {
        "duration": 68471,
        "start_time": "2022-05-21T18:57:40.222Z"
      },
      {
        "duration": 603,
        "start_time": "2022-05-21T18:58:48.695Z"
      },
      {
        "duration": 634,
        "start_time": "2022-05-21T18:58:49.300Z"
      },
      {
        "duration": 660,
        "start_time": "2022-05-21T18:58:49.936Z"
      },
      {
        "duration": 70505,
        "start_time": "2022-05-21T18:58:50.599Z"
      },
      {
        "duration": 4,
        "start_time": "2022-05-21T19:00:01.105Z"
      },
      {
        "duration": 97,
        "start_time": "2022-05-21T19:00:01.111Z"
      },
      {
        "duration": 22,
        "start_time": "2022-05-21T19:00:01.209Z"
      },
      {
        "duration": 142,
        "start_time": "2022-05-21T19:00:01.236Z"
      },
      {
        "duration": 25,
        "start_time": "2022-05-21T19:00:01.380Z"
      },
      {
        "duration": 17,
        "start_time": "2022-05-21T19:00:01.407Z"
      },
      {
        "duration": 85,
        "start_time": "2022-05-21T19:00:01.426Z"
      },
      {
        "duration": 78,
        "start_time": "2022-05-21T19:00:01.513Z"
      },
      {
        "duration": 43,
        "start_time": "2022-05-21T19:00:01.593Z"
      },
      {
        "duration": 620,
        "start_time": "2022-05-21T19:00:01.638Z"
      },
      {
        "duration": 74,
        "start_time": "2022-05-21T19:00:02.270Z"
      },
      {
        "duration": 867,
        "start_time": "2022-05-21T19:00:02.348Z"
      },
      {
        "duration": 26,
        "start_time": "2022-05-21T19:00:03.216Z"
      },
      {
        "duration": 97931,
        "start_time": "2022-05-21T19:00:03.244Z"
      },
      {
        "duration": 14,
        "start_time": "2022-05-21T19:01:41.181Z"
      },
      {
        "duration": 5,
        "start_time": "2022-05-21T19:01:41.197Z"
      },
      {
        "duration": 11,
        "start_time": "2022-05-21T19:01:41.204Z"
      },
      {
        "duration": 738,
        "start_time": "2022-05-21T19:01:41.216Z"
      },
      {
        "duration": 88,
        "start_time": "2022-05-21T19:01:41.963Z"
      },
      {
        "duration": 47,
        "start_time": "2022-05-21T19:01:42.058Z"
      },
      {
        "duration": 10,
        "start_time": "2022-05-21T19:01:42.106Z"
      },
      {
        "duration": 736,
        "start_time": "2022-05-21T19:01:42.130Z"
      },
      {
        "duration": 14,
        "start_time": "2022-05-21T19:01:42.868Z"
      },
      {
        "duration": 598,
        "start_time": "2022-05-21T19:01:42.888Z"
      },
      {
        "duration": 0,
        "start_time": "2022-05-21T19:01:43.488Z"
      },
      {
        "duration": 2419,
        "start_time": "2022-05-22T09:55:12.503Z"
      },
      {
        "duration": 217,
        "start_time": "2022-05-22T09:55:14.926Z"
      },
      {
        "duration": 21,
        "start_time": "2022-05-22T09:55:15.145Z"
      },
      {
        "duration": 25,
        "start_time": "2022-05-22T09:55:15.169Z"
      },
      {
        "duration": 75,
        "start_time": "2022-05-22T09:55:15.198Z"
      },
      {
        "duration": 369,
        "start_time": "2022-05-22T09:55:15.275Z"
      },
      {
        "duration": 433,
        "start_time": "2022-05-22T09:55:18.722Z"
      }
    ],
    "kernelspec": {
      "display_name": "Python 3 (ipykernel)",
      "language": "python",
      "name": "python3"
    },
    "language_info": {
      "codemirror_mode": {
        "name": "ipython",
        "version": 3
      },
      "file_extension": ".py",
      "mimetype": "text/x-python",
      "name": "python",
      "nbconvert_exporter": "python",
      "pygments_lexer": "ipython3",
      "version": "3.9.5"
    },
    "toc": {
      "base_numbering": 1,
      "nav_menu": {},
      "number_sections": true,
      "sideBar": true,
      "skip_h1_title": true,
      "title_cell": "Содержание",
      "title_sidebar": "Contents",
      "toc_cell": true,
      "toc_position": {},
      "toc_section_display": true,
      "toc_window_display": false
    },
    "colab": {
      "provenance": []
    }
  },
  "nbformat": 4,
  "nbformat_minor": 0
}