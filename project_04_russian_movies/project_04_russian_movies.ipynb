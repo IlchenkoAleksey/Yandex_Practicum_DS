{
  "cells": [
    {
      "cell_type": "markdown",
      "metadata": {
        "id": "sIfNaMOxgFyK"
      },
      "source": [
        "# Исследование данных о российском кинопрокате\n",
        "\n"
      ]
    },
    {
      "cell_type": "markdown",
      "metadata": {
        "id": "PCEmWKqZMKTF"
      },
      "source": [
        "**Описание проекта**  \n",
        "Заказчик этого исследования — Министерство культуры Российской Федерации.  \n",
        "Вам нужно изучить рынок российского кинопроката и выявить текущие тренды. Уделите внимание фильмам, которые получили государственную поддержку. Попробуйте ответить на вопрос, насколько такие фильмы интересны зрителю.  \n",
        "Вы будете работать с данными, опубликованными на портале открытых данных Министерства культуры. Набор данных содержит информацию о прокатных удостоверениях, сборах и государственной поддержке фильмов, а также информацию с сайта КиноПоиск."
      ]
    },
    {
      "cell_type": "markdown",
      "metadata": {
        "id": "3bSlkCsbgFyL"
      },
      "source": [
        "По заданию, необходимым условием будет объединить данные таким образом, чтобы все объекты из датасета `mkrf_movies` обязательно вошли в получившийся датафрейм."
      ]
    },
    {
      "cell_type": "markdown",
      "metadata": {
        "id": "dw87FlzMgFyM"
      },
      "source": [
        "Импортируем библиотеки."
      ]
    },
    {
      "cell_type": "code",
      "execution_count": null,
      "metadata": {
        "id": "vi7yNKaIMKTG"
      },
      "outputs": [],
      "source": [
        "import pandas as pd\n",
        "import numpy as np\n",
        "from scipy import stats as st\n",
        "\n",
        "import seaborn as sns\n",
        "import matplotlib.pyplot as plt\n",
        "\n",
        "pd.options.display.float_format = '{:.2f}'.format\n",
        "\n",
        "sns.set(style=\"whitegrid\")"
      ]
    },
    {
      "cell_type": "markdown",
      "metadata": {
        "id": "YqyaKQqLMKTI"
      },
      "source": [
        "Откроем файл mkrf_movies.csv с данными и изучим общую информацию данных о прокатных удостоверениях"
      ]
    },
    {
      "cell_type": "code",
      "execution_count": null,
      "metadata": {
        "scrolled": true,
        "id": "_BlzCfCmMKTI",
        "outputId": "32793d28-676a-4b1b-ff55-89a6ef8bc28b"
      },
      "outputs": [
        {
          "data": {
            "text/html": [
              "<div>\n",
              "<style scoped>\n",
              "    .dataframe tbody tr th:only-of-type {\n",
              "        vertical-align: middle;\n",
              "    }\n",
              "\n",
              "    .dataframe tbody tr th {\n",
              "        vertical-align: top;\n",
              "    }\n",
              "\n",
              "    .dataframe thead th {\n",
              "        text-align: right;\n",
              "    }\n",
              "</style>\n",
              "<table border=\"1\" class=\"dataframe\">\n",
              "  <thead>\n",
              "    <tr style=\"text-align: right;\">\n",
              "      <th></th>\n",
              "      <th>title</th>\n",
              "      <th>puNumber</th>\n",
              "      <th>show_start_date</th>\n",
              "      <th>type</th>\n",
              "      <th>film_studio</th>\n",
              "      <th>production_country</th>\n",
              "      <th>director</th>\n",
              "      <th>producer</th>\n",
              "      <th>age_restriction</th>\n",
              "      <th>refundable_support</th>\n",
              "      <th>nonrefundable_support</th>\n",
              "      <th>budget</th>\n",
              "      <th>financing_source</th>\n",
              "      <th>ratings</th>\n",
              "      <th>genres</th>\n",
              "    </tr>\n",
              "  </thead>\n",
              "  <tbody>\n",
              "    <tr>\n",
              "      <th>0</th>\n",
              "      <td>Открытый простор</td>\n",
              "      <td>221048915</td>\n",
              "      <td>2015-11-27T12:00:00.000Z</td>\n",
              "      <td>Художественный</td>\n",
              "      <td>Тачстоун Пикчерз, Кобальт Пикчерз, Бикон Пикче...</td>\n",
              "      <td>США</td>\n",
              "      <td>Кевин Костнер</td>\n",
              "      <td>Дэвид Валдес, Кевин Костнер, Джейк Эбертс</td>\n",
              "      <td>«18+» - запрещено для детей</td>\n",
              "      <td>NaN</td>\n",
              "      <td>NaN</td>\n",
              "      <td>NaN</td>\n",
              "      <td>NaN</td>\n",
              "      <td>7.2</td>\n",
              "      <td>боевик,драма,мелодрама</td>\n",
              "    </tr>\n",
              "    <tr>\n",
              "      <th>1</th>\n",
              "      <td>Особо важное задание</td>\n",
              "      <td>111013716</td>\n",
              "      <td>2016-09-13T12:00:00.000Z</td>\n",
              "      <td>Художественный</td>\n",
              "      <td>Киностудия \"Мосфильм\"</td>\n",
              "      <td>СССР</td>\n",
              "      <td>Е.Матвеев</td>\n",
              "      <td>NaN</td>\n",
              "      <td>«6+» - для детей старше 6 лет</td>\n",
              "      <td>NaN</td>\n",
              "      <td>NaN</td>\n",
              "      <td>NaN</td>\n",
              "      <td>NaN</td>\n",
              "      <td>6.6</td>\n",
              "      <td>драма,военный</td>\n",
              "    </tr>\n",
              "    <tr>\n",
              "      <th>2</th>\n",
              "      <td>Особо опасен</td>\n",
              "      <td>221038416</td>\n",
              "      <td>2016-10-10T12:00:00.000Z</td>\n",
              "      <td>Художественный</td>\n",
              "      <td>Юниверсал Пикчерз, Кикстарт Продакшнз, Марк Пл...</td>\n",
              "      <td>США</td>\n",
              "      <td>Тимур Бекмамбетов</td>\n",
              "      <td>Джим Лемли, Джейсон Нетер, Марк Е.Платт, Яйн Смит</td>\n",
              "      <td>«18+» - запрещено для детей</td>\n",
              "      <td>NaN</td>\n",
              "      <td>NaN</td>\n",
              "      <td>NaN</td>\n",
              "      <td>NaN</td>\n",
              "      <td>6.8</td>\n",
              "      <td>фантастика,боевик,триллер</td>\n",
              "    </tr>\n",
              "    <tr>\n",
              "      <th>3</th>\n",
              "      <td>Особо опасен</td>\n",
              "      <td>221026916</td>\n",
              "      <td>2016-06-10T12:00:00.000Z</td>\n",
              "      <td>Художественный</td>\n",
              "      <td>Юниверсал Пикчерз, Кикстарт Продакшнз, Марк Пл...</td>\n",
              "      <td>США</td>\n",
              "      <td>Тимур Бекмамбетов</td>\n",
              "      <td>Джим Лемли, Джейсон Нетер, Марк Е.Платт, Яйн Смит</td>\n",
              "      <td>«18+» - запрещено для детей</td>\n",
              "      <td>NaN</td>\n",
              "      <td>NaN</td>\n",
              "      <td>NaN</td>\n",
              "      <td>NaN</td>\n",
              "      <td>6.8</td>\n",
              "      <td>фантастика,боевик,триллер</td>\n",
              "    </tr>\n",
              "    <tr>\n",
              "      <th>4</th>\n",
              "      <td>Особо опасен</td>\n",
              "      <td>221030815</td>\n",
              "      <td>2015-07-29T12:00:00.000Z</td>\n",
              "      <td>Художественный</td>\n",
              "      <td>Юниверсал Пикчерз, Кикстарт Продакшнз, Марк Пл...</td>\n",
              "      <td>США</td>\n",
              "      <td>Тимур Бекмамбетов</td>\n",
              "      <td>Джим Лемли, Джейсон Нетер, Марк Е.Платт, Яйн Смит</td>\n",
              "      <td>«18+» - запрещено для детей</td>\n",
              "      <td>NaN</td>\n",
              "      <td>NaN</td>\n",
              "      <td>NaN</td>\n",
              "      <td>NaN</td>\n",
              "      <td>6.8</td>\n",
              "      <td>фантастика,боевик,триллер</td>\n",
              "    </tr>\n",
              "  </tbody>\n",
              "</table>\n",
              "</div>"
            ],
            "text/plain": [
              "                  title   puNumber           show_start_date            type  \\\n",
              "0      Открытый простор  221048915  2015-11-27T12:00:00.000Z  Художественный   \n",
              "1  Особо важное задание  111013716  2016-09-13T12:00:00.000Z  Художественный   \n",
              "2          Особо опасен  221038416  2016-10-10T12:00:00.000Z  Художественный   \n",
              "3          Особо опасен  221026916  2016-06-10T12:00:00.000Z  Художественный   \n",
              "4          Особо опасен  221030815  2015-07-29T12:00:00.000Z  Художественный   \n",
              "\n",
              "                                         film_studio production_country  \\\n",
              "0  Тачстоун Пикчерз, Кобальт Пикчерз, Бикон Пикче...                США   \n",
              "1                              Киностудия \"Мосфильм\"               СССР   \n",
              "2  Юниверсал Пикчерз, Кикстарт Продакшнз, Марк Пл...                США   \n",
              "3  Юниверсал Пикчерз, Кикстарт Продакшнз, Марк Пл...                США   \n",
              "4  Юниверсал Пикчерз, Кикстарт Продакшнз, Марк Пл...                США   \n",
              "\n",
              "            director                                           producer  \\\n",
              "0      Кевин Костнер          Дэвид Валдес, Кевин Костнер, Джейк Эбертс   \n",
              "1          Е.Матвеев                                                NaN   \n",
              "2  Тимур Бекмамбетов  Джим Лемли, Джейсон Нетер, Марк Е.Платт, Яйн Смит   \n",
              "3  Тимур Бекмамбетов  Джим Лемли, Джейсон Нетер, Марк Е.Платт, Яйн Смит   \n",
              "4  Тимур Бекмамбетов  Джим Лемли, Джейсон Нетер, Марк Е.Платт, Яйн Смит   \n",
              "\n",
              "                 age_restriction  refundable_support  nonrefundable_support  \\\n",
              "0    «18+» - запрещено для детей                 NaN                    NaN   \n",
              "1  «6+» - для детей старше 6 лет                 NaN                    NaN   \n",
              "2    «18+» - запрещено для детей                 NaN                    NaN   \n",
              "3    «18+» - запрещено для детей                 NaN                    NaN   \n",
              "4    «18+» - запрещено для детей                 NaN                    NaN   \n",
              "\n",
              "   budget financing_source ratings                     genres  \n",
              "0     NaN              NaN     7.2     боевик,драма,мелодрама  \n",
              "1     NaN              NaN     6.6              драма,военный  \n",
              "2     NaN              NaN     6.8  фантастика,боевик,триллер  \n",
              "3     NaN              NaN     6.8  фантастика,боевик,триллер  \n",
              "4     NaN              NaN     6.8  фантастика,боевик,триллер  "
            ]
          },
          "execution_count": 2,
          "metadata": {},
          "output_type": "execute_result"
        }
      ],
      "source": [
        "df = pd.read_csv('/datasets/mkrf_movies.csv')\n",
        "df.head()"
      ]
    },
    {
      "cell_type": "markdown",
      "metadata": {
        "id": "2gFvZmGdMKTJ"
      },
      "source": [
        "Откроем файл `mkrf_shows.csv` — данные о прокате в российских кинотеатрах"
      ]
    },
    {
      "cell_type": "code",
      "execution_count": null,
      "metadata": {
        "scrolled": true,
        "id": "h8cST6FJMKTJ",
        "outputId": "3720ce2f-a2ab-438e-e2d7-e385df1dc855"
      },
      "outputs": [
        {
          "data": {
            "text/html": [
              "<div>\n",
              "<style scoped>\n",
              "    .dataframe tbody tr th:only-of-type {\n",
              "        vertical-align: middle;\n",
              "    }\n",
              "\n",
              "    .dataframe tbody tr th {\n",
              "        vertical-align: top;\n",
              "    }\n",
              "\n",
              "    .dataframe thead th {\n",
              "        text-align: right;\n",
              "    }\n",
              "</style>\n",
              "<table border=\"1\" class=\"dataframe\">\n",
              "  <thead>\n",
              "    <tr style=\"text-align: right;\">\n",
              "      <th></th>\n",
              "      <th>puNumber</th>\n",
              "      <th>box_office</th>\n",
              "    </tr>\n",
              "  </thead>\n",
              "  <tbody>\n",
              "    <tr>\n",
              "      <th>0</th>\n",
              "      <td>111000113</td>\n",
              "      <td>2450.00</td>\n",
              "    </tr>\n",
              "    <tr>\n",
              "      <th>1</th>\n",
              "      <td>111000115</td>\n",
              "      <td>61040.00</td>\n",
              "    </tr>\n",
              "    <tr>\n",
              "      <th>2</th>\n",
              "      <td>111000116</td>\n",
              "      <td>153030013.40</td>\n",
              "    </tr>\n",
              "    <tr>\n",
              "      <th>3</th>\n",
              "      <td>111000117</td>\n",
              "      <td>12260956.00</td>\n",
              "    </tr>\n",
              "    <tr>\n",
              "      <th>4</th>\n",
              "      <td>111000118</td>\n",
              "      <td>163684057.79</td>\n",
              "    </tr>\n",
              "  </tbody>\n",
              "</table>\n",
              "</div>"
            ],
            "text/plain": [
              "    puNumber   box_office\n",
              "0  111000113      2450.00\n",
              "1  111000115     61040.00\n",
              "2  111000116 153030013.40\n",
              "3  111000117  12260956.00\n",
              "4  111000118 163684057.79"
            ]
          },
          "execution_count": 3,
          "metadata": {},
          "output_type": "execute_result"
        }
      ],
      "source": [
        "mkrf_shows = pd.read_csv('/datasets/mkrf_shows.csv')\n",
        "mkrf_shows.head()"
      ]
    },
    {
      "cell_type": "markdown",
      "metadata": {
        "id": "a3T7MuZDMKTJ"
      },
      "source": [
        "Посмотрим кол-во записей в столбце **box_office**"
      ]
    },
    {
      "cell_type": "code",
      "execution_count": null,
      "metadata": {
        "id": "sSxcJ-1VMKTJ",
        "outputId": "0bcb0af7-ac4b-473a-899b-5b2bf4bcfae7"
      },
      "outputs": [
        {
          "name": "stdout",
          "output_type": "stream",
          "text": [
            "<class 'pandas.core.frame.DataFrame'>\n",
            "RangeIndex: 3158 entries, 0 to 3157\n",
            "Data columns (total 2 columns):\n",
            " #   Column      Non-Null Count  Dtype  \n",
            "---  ------      --------------  -----  \n",
            " 0   puNumber    3158 non-null   int64  \n",
            " 1   box_office  3158 non-null   float64\n",
            "dtypes: float64(1), int64(1)\n",
            "memory usage: 49.5 KB\n"
          ]
        }
      ],
      "source": [
        "mkrf_shows.info()"
      ]
    },
    {
      "cell_type": "markdown",
      "metadata": {
        "id": "sTMTGBNgMKTK"
      },
      "source": [
        "3158 записей с датафрейме."
      ]
    },
    {
      "cell_type": "markdown",
      "metadata": {
        "id": "0iZZEbZOMKTK"
      },
      "source": [
        "Оценим структуру данных таблицы df"
      ]
    },
    {
      "cell_type": "code",
      "execution_count": null,
      "metadata": {
        "scrolled": true,
        "id": "S-aNs7CYMKTK",
        "outputId": "4b9965c6-42fa-4981-aa28-81f948aaab31"
      },
      "outputs": [
        {
          "name": "stdout",
          "output_type": "stream",
          "text": [
            "<class 'pandas.core.frame.DataFrame'>\n",
            "RangeIndex: 7486 entries, 0 to 7485\n",
            "Data columns (total 15 columns):\n",
            " #   Column                 Non-Null Count  Dtype  \n",
            "---  ------                 --------------  -----  \n",
            " 0   title                  7486 non-null   object \n",
            " 1   puNumber               7486 non-null   object \n",
            " 2   show_start_date        7486 non-null   object \n",
            " 3   type                   7486 non-null   object \n",
            " 4   film_studio            7468 non-null   object \n",
            " 5   production_country     7484 non-null   object \n",
            " 6   director               7477 non-null   object \n",
            " 7   producer               6918 non-null   object \n",
            " 8   age_restriction        7486 non-null   object \n",
            " 9   refundable_support     332 non-null    float64\n",
            " 10  nonrefundable_support  332 non-null    float64\n",
            " 11  budget                 332 non-null    float64\n",
            " 12  financing_source       332 non-null    object \n",
            " 13  ratings                6519 non-null   object \n",
            " 14  genres                 6510 non-null   object \n",
            "dtypes: float64(3), object(12)\n",
            "memory usage: 877.4+ KB\n"
          ]
        }
      ],
      "source": [
        "df.info()"
      ]
    },
    {
      "cell_type": "markdown",
      "metadata": {
        "id": "dP7kCvi4MKTK"
      },
      "source": [
        "Оценим структуру данных таблицы mkrf_shows"
      ]
    },
    {
      "cell_type": "code",
      "execution_count": null,
      "metadata": {
        "scrolled": true,
        "id": "svPBR57FMKTK",
        "outputId": "affe8b96-29df-4258-f688-6f8b1013dfe3"
      },
      "outputs": [
        {
          "name": "stdout",
          "output_type": "stream",
          "text": [
            "<class 'pandas.core.frame.DataFrame'>\n",
            "RangeIndex: 3158 entries, 0 to 3157\n",
            "Data columns (total 2 columns):\n",
            " #   Column      Non-Null Count  Dtype  \n",
            "---  ------      --------------  -----  \n",
            " 0   puNumber    3158 non-null   int64  \n",
            " 1   box_office  3158 non-null   float64\n",
            "dtypes: float64(1), int64(1)\n",
            "memory usage: 49.5 KB\n"
          ]
        }
      ],
      "source": [
        "mkrf_shows.info()"
      ]
    },
    {
      "cell_type": "markdown",
      "metadata": {
        "id": "S-yNtGx1MKTL"
      },
      "source": [
        "Для объединения таблиц по столбцу **puNumber**, изменим тип данных в таблице `mkrf_shows` на `object`"
      ]
    },
    {
      "cell_type": "code",
      "execution_count": null,
      "metadata": {
        "scrolled": false,
        "id": "oMf8LZRJMKTL",
        "outputId": "64528cda-1768-436c-98f5-45b641b89ced"
      },
      "outputs": [
        {
          "name": "stdout",
          "output_type": "stream",
          "text": [
            "<class 'pandas.core.frame.DataFrame'>\n",
            "RangeIndex: 3158 entries, 0 to 3157\n",
            "Data columns (total 2 columns):\n",
            " #   Column      Non-Null Count  Dtype  \n",
            "---  ------      --------------  -----  \n",
            " 0   puNumber    3158 non-null   object \n",
            " 1   box_office  3158 non-null   float64\n",
            "dtypes: float64(1), object(1)\n",
            "memory usage: 49.5+ KB\n"
          ]
        }
      ],
      "source": [
        "mkrf_shows['puNumber'] = mkrf_shows['puNumber'].astype('str')\n",
        "\n",
        "# посмотрим что все применилось\n",
        "mkrf_shows.info()"
      ]
    },
    {
      "cell_type": "markdown",
      "metadata": {
        "id": "uoFIOxc8MKTL"
      },
      "source": [
        "Объединим таблицы `df` и `mkrf_shows` по столбцу **puNumber**"
      ]
    },
    {
      "cell_type": "code",
      "execution_count": null,
      "metadata": {
        "scrolled": true,
        "id": "ukMEVxcHMKTL",
        "outputId": "79515e8a-b128-4494-d276-428c3e930b9d"
      },
      "outputs": [
        {
          "name": "stdout",
          "output_type": "stream",
          "text": [
            "<class 'pandas.core.frame.DataFrame'>\n",
            "Int64Index: 7486 entries, 0 to 7485\n",
            "Data columns (total 16 columns):\n",
            " #   Column                 Non-Null Count  Dtype  \n",
            "---  ------                 --------------  -----  \n",
            " 0   title                  7486 non-null   object \n",
            " 1   puNumber               7486 non-null   object \n",
            " 2   show_start_date        7486 non-null   object \n",
            " 3   type                   7486 non-null   object \n",
            " 4   film_studio            7468 non-null   object \n",
            " 5   production_country     7484 non-null   object \n",
            " 6   director               7477 non-null   object \n",
            " 7   producer               6918 non-null   object \n",
            " 8   age_restriction        7486 non-null   object \n",
            " 9   refundable_support     332 non-null    float64\n",
            " 10  nonrefundable_support  332 non-null    float64\n",
            " 11  budget                 332 non-null    float64\n",
            " 12  financing_source       332 non-null    object \n",
            " 13  ratings                6519 non-null   object \n",
            " 14  genres                 6510 non-null   object \n",
            " 15  box_office             3158 non-null   float64\n",
            "dtypes: float64(4), object(12)\n",
            "memory usage: 994.2+ KB\n"
          ]
        }
      ],
      "source": [
        "df = df.merge(mkrf_shows, on='puNumber', how='left')\n",
        "\n",
        "#выведем на экран данные о получившемся датафрейме, объединенном из двух таблиц\n",
        "df.info()"
      ]
    },
    {
      "cell_type": "markdown",
      "metadata": {
        "id": "oba_YKgbMKTM"
      },
      "source": [
        "После объединения датафреймов, проверили количество записей по столцбу **box_office**, их 3158, как и было в датафрейме `mkrf_shows`, все значения попали в объединенный датафрейм."
      ]
    },
    {
      "cell_type": "markdown",
      "metadata": {
        "id": "prLgIYZVMKTM"
      },
      "source": [
        "Выведем список характерных значений для всего датафрейма."
      ]
    },
    {
      "cell_type": "code",
      "execution_count": null,
      "metadata": {
        "scrolled": true,
        "id": "dFrjajfMMKTM",
        "outputId": "46004fd0-c25c-4559-8692-17e5a2cc5618"
      },
      "outputs": [
        {
          "data": {
            "text/html": [
              "<div>\n",
              "<style scoped>\n",
              "    .dataframe tbody tr th:only-of-type {\n",
              "        vertical-align: middle;\n",
              "    }\n",
              "\n",
              "    .dataframe tbody tr th {\n",
              "        vertical-align: top;\n",
              "    }\n",
              "\n",
              "    .dataframe thead th {\n",
              "        text-align: right;\n",
              "    }\n",
              "</style>\n",
              "<table border=\"1\" class=\"dataframe\">\n",
              "  <thead>\n",
              "    <tr style=\"text-align: right;\">\n",
              "      <th></th>\n",
              "      <th>count</th>\n",
              "      <th>mean</th>\n",
              "      <th>std</th>\n",
              "      <th>min</th>\n",
              "      <th>25%</th>\n",
              "      <th>50%</th>\n",
              "      <th>75%</th>\n",
              "      <th>max</th>\n",
              "    </tr>\n",
              "  </thead>\n",
              "  <tbody>\n",
              "    <tr>\n",
              "      <th>refundable_support</th>\n",
              "      <td>332.00</td>\n",
              "      <td>11864457.83</td>\n",
              "      <td>24916555.26</td>\n",
              "      <td>0.00</td>\n",
              "      <td>0.00</td>\n",
              "      <td>0.00</td>\n",
              "      <td>15000000.00</td>\n",
              "      <td>180000000.00</td>\n",
              "    </tr>\n",
              "    <tr>\n",
              "      <th>nonrefundable_support</th>\n",
              "      <td>332.00</td>\n",
              "      <td>48980988.89</td>\n",
              "      <td>59980117.92</td>\n",
              "      <td>0.00</td>\n",
              "      <td>25000000.00</td>\n",
              "      <td>30000000.00</td>\n",
              "      <td>40375000.00</td>\n",
              "      <td>400000000.00</td>\n",
              "    </tr>\n",
              "    <tr>\n",
              "      <th>budget</th>\n",
              "      <td>332.00</td>\n",
              "      <td>127229716.68</td>\n",
              "      <td>188588333.12</td>\n",
              "      <td>0.00</td>\n",
              "      <td>42000000.00</td>\n",
              "      <td>68649916.00</td>\n",
              "      <td>141985319.50</td>\n",
              "      <td>2305074303.00</td>\n",
              "    </tr>\n",
              "    <tr>\n",
              "      <th>box_office</th>\n",
              "      <td>3158.00</td>\n",
              "      <td>76478696.16</td>\n",
              "      <td>240353122.82</td>\n",
              "      <td>0.00</td>\n",
              "      <td>86239.00</td>\n",
              "      <td>2327987.55</td>\n",
              "      <td>23979671.02</td>\n",
              "      <td>3073568690.79</td>\n",
              "    </tr>\n",
              "  </tbody>\n",
              "</table>\n",
              "</div>"
            ],
            "text/plain": [
              "                        count         mean          std  min         25%  \\\n",
              "refundable_support     332.00  11864457.83  24916555.26 0.00        0.00   \n",
              "nonrefundable_support  332.00  48980988.89  59980117.92 0.00 25000000.00   \n",
              "budget                 332.00 127229716.68 188588333.12 0.00 42000000.00   \n",
              "box_office            3158.00  76478696.16 240353122.82 0.00    86239.00   \n",
              "\n",
              "                              50%          75%           max  \n",
              "refundable_support           0.00  15000000.00  180000000.00  \n",
              "nonrefundable_support 30000000.00  40375000.00  400000000.00  \n",
              "budget                68649916.00 141985319.50 2305074303.00  \n",
              "box_office             2327987.55  23979671.02 3073568690.79  "
            ]
          },
          "metadata": {},
          "output_type": "display_data"
        }
      ],
      "source": [
        "display(df.describe().T)"
      ]
    },
    {
      "cell_type": "markdown",
      "metadata": {
        "id": "3oS_YYqkMKTM"
      },
      "source": [
        "Посмотрим минимальные и максимальные значения для всего датафрейма."
      ]
    },
    {
      "cell_type": "code",
      "execution_count": null,
      "metadata": {
        "scrolled": false,
        "id": "JgDpjxhfMKTM",
        "outputId": "e89714b9-66a1-462d-eef5-507219225328"
      },
      "outputs": [
        {
          "data": {
            "text/plain": [
              "title                                                  Я ПРЕПОД\n",
              "puNumber                                              111004112\n",
              "show_start_date                        2010-01-11T12:00:00.000Z\n",
              "type                                               Анимационный\n",
              "age_restriction          «0+» - для любой зрительской аудитории\n",
              "refundable_support                                         0.00\n",
              "nonrefundable_support                                      0.00\n",
              "budget                                                     0.00\n",
              "box_office                                                 0.00\n",
              "dtype: object"
            ]
          },
          "metadata": {},
          "output_type": "display_data"
        },
        {
          "data": {
            "text/plain": [
              "title                                      сНежное шоу\n",
              "puNumber                                           нет\n",
              "show_start_date               2019-12-30T12:00:00.000Z\n",
              "type                                    Художественный\n",
              "age_restriction          «6+» - для детей старше 6 лет\n",
              "refundable_support                        180000000.00\n",
              "nonrefundable_support                     400000000.00\n",
              "budget                                   2305074303.00\n",
              "box_office                               3073568690.79\n",
              "dtype: object"
            ]
          },
          "metadata": {},
          "output_type": "display_data"
        }
      ],
      "source": [
        "display(df.min())\n",
        "display(df.max())"
      ]
    },
    {
      "cell_type": "markdown",
      "metadata": {
        "id": "CcnZbcxEMKTN"
      },
      "source": [
        "### Вывод\n",
        " - Датафрейм `df` содержит данные о прокатных удостоверениях. Мы получили его объединив таблицы `df` и `mkrf_shows`(данные о прокате в российских кинотеатрах) путем объединения их по столбцу **puNumber**, предварительно изменив тип данных в таблице `mkrf_shows` c `int64` на `object`.\n",
        " - У одного фильма может быть несколько прокатных удостоверений.\n",
        "\n",
        "    - **title** — название фильма;\n",
        "        - в столбце запись идет заглавными и прописными буквами, необходимо будет нормализовать к прописным\n",
        "    - **puNumber** — номер прокатного удостоверения;\n",
        "    - **show_start_date** — дата премьеры фильма;\n",
        "        - требуется перевод в формат datetime дата\\время\n",
        "    - **type** — тип фильма;\n",
        "    - **film_studio** — студия-производитель;\n",
        "    - **production_country** — страна-производитель;\n",
        "        - в столбце есть пропуски, впоследствии изучим возможность заполнить их\n",
        "    - **director** — режиссёр;\n",
        "        - в столбце есть пропуски, впоследствии изучим возможность заполнить их\n",
        "    - **producer** — продюсер;\n",
        "        - в столбце есть пропуски, впоследствии изучим возможность заполнить их\n",
        "    - **age_restriction** — возрастная категория;\n",
        "    - **refundable_support** — объём возвратных средств государственной поддержки;\n",
        "    - **nonrefundable_support** — объём невозвратных средств государственной поддержки;\n",
        "    - **financing_source** — источник государственного финансирования;\n",
        "        - в столбце есть пропуски, впоследствии изучим возможность заполнить их\n",
        "    - **budget** — общий бюджет фильма;\n",
        "        - минимальное значение бюджет фильма 0, необходимо будет с этим разобраться\n",
        "    - **ratings** — рейтинг фильма на КиноПоиске;\n",
        "        - в столбце есть пропуски, впоследствии изучим возможность заполнить их\n",
        "    - **genres** — жанр фильма.\n",
        "    - **box_office** — сборы в рублях.\n",
        "        - минимальное значение 0, необходимо будет с этим разобраться    \n",
        "\n",
        "- Столбец **budget** уже включает в себя полный объём государственной поддержки. Данные в этом столбце указаны только для тех фильмов, которые получили государственную поддержку.\n",
        "\n",
        "Таблица `df` содержит 7486 строк, 16 столбцов. В таблице содержатся пропущенные значения, в некоторых столбцах не корректный тип данных. В одном случае в названии столбца содержится заглавная буква, отсутствует змеиный регистр.\n",
        "\n"
      ]
    },
    {
      "cell_type": "markdown",
      "metadata": {
        "id": "KLDGpPG0gFyM"
      },
      "source": [
        "## Предобработка данных"
      ]
    },
    {
      "cell_type": "markdown",
      "metadata": {
        "id": "ssWwKXsxgFyO"
      },
      "source": [
        "### Проверьте типы данных\n",
        "\n",
        "- Проверим типы данных в датафрейме и преобразуем их там, где это необходимо."
      ]
    },
    {
      "cell_type": "markdown",
      "metadata": {
        "id": "Ga-usxfoMKTO"
      },
      "source": [
        "Поработаем с типом данных datetime дата\\время в столбце `show_start_date` (object --> datetime)"
      ]
    },
    {
      "cell_type": "code",
      "execution_count": null,
      "metadata": {
        "id": "kVGSplJOgFyO",
        "scrolled": true,
        "outputId": "704e0274-1644-4025-e51b-3e0b36c44af2"
      },
      "outputs": [
        {
          "data": {
            "text/plain": [
              "0   2015-11-27 12:00:00+00:00\n",
              "1   2016-09-13 12:00:00+00:00\n",
              "2   2016-10-10 12:00:00+00:00\n",
              "3   2016-06-10 12:00:00+00:00\n",
              "4   2015-07-29 12:00:00+00:00\n",
              "Name: show_start_date, dtype: datetime64[ns, UTC]"
            ]
          },
          "execution_count": 11,
          "metadata": {},
          "output_type": "execute_result"
        }
      ],
      "source": [
        "df['show_start_date']= pd.to_datetime(df['show_start_date'], format='%Y-%m-%dT%H:%M:%S')\n",
        "\n",
        "#проверим обработку\n",
        "df['show_start_date'].head()"
      ]
    },
    {
      "cell_type": "markdown",
      "metadata": {
        "id": "4uFIwNMRMKTO"
      },
      "source": [
        "#### Вывод:\n",
        " - В столбце **show_start_date** тип данных изменили с `object` на `datetime дата\\время`\n",
        " - В столбце **ratings** тип данных `object`, мы поработаем над ним в дальнейшем."
      ]
    },
    {
      "cell_type": "markdown",
      "metadata": {
        "id": "i0MOLbF-gFyP"
      },
      "source": [
        "### Изучим пропуски в датафрейме\n",
        "\n",
        "- Объясним, почему заполнили пропуски определённым образом или почему не стали этого делать."
      ]
    },
    {
      "cell_type": "markdown",
      "metadata": {
        "id": "tPnHpLUzMKTP"
      },
      "source": [
        "Посмотрим сколько пропусков есть в столбцах в процентном соотношении от общего кол-ва записей."
      ]
    },
    {
      "cell_type": "code",
      "execution_count": null,
      "metadata": {
        "id": "8MJD_lkngFyP",
        "scrolled": true,
        "outputId": "7554c136-870e-4031-914c-59748528d254"
      },
      "outputs": [
        {
          "name": "stdout",
          "output_type": "stream",
          "text": [
            "title                          0.00%\n",
            "puNumber                       0.00%\n",
            "show_start_date                0.00%\n",
            "type                           0.00%\n",
            "film_studio                    0.24%\n",
            "production_country             0.03%\n",
            "director                       0.12%\n",
            "producer                       7.59%\n",
            "age_restriction                0.00%\n",
            "refundable_support             95.57%\n",
            "nonrefundable_support          95.57%\n",
            "budget                         95.57%\n",
            "financing_source               95.57%\n",
            "ratings                        12.92%\n",
            "genres                         13.04%\n",
            "box_office                     57.81%\n"
          ]
        }
      ],
      "source": [
        "for column in df:\n",
        "    print('{0:30} {1:.2%}'.format(column, df[column].isna().mean()))"
      ]
    },
    {
      "cell_type": "markdown",
      "metadata": {
        "id": "9b8cXQoVMKTP"
      },
      "source": [
        "Посмотрим внимательнее на столбец **ratings**"
      ]
    },
    {
      "cell_type": "code",
      "execution_count": null,
      "metadata": {
        "scrolled": true,
        "id": "VwR1jyGnMKTQ",
        "outputId": "1ef2487f-143b-4cd5-f5cd-f5391787499b"
      },
      "outputs": [
        {
          "data": {
            "text/html": [
              "<div>\n",
              "<style scoped>\n",
              "    .dataframe tbody tr th:only-of-type {\n",
              "        vertical-align: middle;\n",
              "    }\n",
              "\n",
              "    .dataframe tbody tr th {\n",
              "        vertical-align: top;\n",
              "    }\n",
              "\n",
              "    .dataframe thead th {\n",
              "        text-align: right;\n",
              "    }\n",
              "</style>\n",
              "<table border=\"1\" class=\"dataframe\">\n",
              "  <thead>\n",
              "    <tr style=\"text-align: right;\">\n",
              "      <th></th>\n",
              "      <th>title</th>\n",
              "      <th>puNumber</th>\n",
              "      <th>show_start_date</th>\n",
              "      <th>type</th>\n",
              "      <th>film_studio</th>\n",
              "      <th>production_country</th>\n",
              "      <th>director</th>\n",
              "      <th>producer</th>\n",
              "      <th>age_restriction</th>\n",
              "      <th>refundable_support</th>\n",
              "      <th>nonrefundable_support</th>\n",
              "      <th>budget</th>\n",
              "      <th>financing_source</th>\n",
              "      <th>ratings</th>\n",
              "      <th>genres</th>\n",
              "      <th>box_office</th>\n",
              "    </tr>\n",
              "  </thead>\n",
              "  <tbody>\n",
              "    <tr>\n",
              "      <th>43</th>\n",
              "      <td>Мемуары гейши (по роману Артура Голдена)</td>\n",
              "      <td>121000606</td>\n",
              "      <td>2012-12-14 12:00:00+00:00</td>\n",
              "      <td>Художественный</td>\n",
              "      <td>Коламбия Пикчерз Корпорейшн, ДримУоркс ЭсКейДж...</td>\n",
              "      <td>США</td>\n",
              "      <td>Роб Маршалл</td>\n",
              "      <td>Стивен Спилберг, Люси Фишер, Дуглас Уик, Джон ...</td>\n",
              "      <td>«12+» - для детей старше 12 лет</td>\n",
              "      <td>NaN</td>\n",
              "      <td>NaN</td>\n",
              "      <td>NaN</td>\n",
              "      <td>NaN</td>\n",
              "      <td>NaN</td>\n",
              "      <td>NaN</td>\n",
              "      <td>NaN</td>\n",
              "    </tr>\n",
              "    <tr>\n",
              "      <th>150</th>\n",
              "      <td>Жди меня</td>\n",
              "      <td>111013615</td>\n",
              "      <td>2015-08-25 12:00:00+00:00</td>\n",
              "      <td>Художественный</td>\n",
              "      <td>Киностудия \"Мосфильм\"</td>\n",
              "      <td>СССР</td>\n",
              "      <td>А.Столпер, Б.Иванов</td>\n",
              "      <td>NaN</td>\n",
              "      <td>«6+» - для детей старше 6 лет</td>\n",
              "      <td>NaN</td>\n",
              "      <td>NaN</td>\n",
              "      <td>NaN</td>\n",
              "      <td>NaN</td>\n",
              "      <td>NaN</td>\n",
              "      <td>NaN</td>\n",
              "      <td>NaN</td>\n",
              "    </tr>\n",
              "    <tr>\n",
              "      <th>154</th>\n",
              "      <td>Дом из песка и тумана (по книге Андре Дюбуи III)</td>\n",
              "      <td>221037813</td>\n",
              "      <td>2013-10-25 12:00:00+00:00</td>\n",
              "      <td>Художественный</td>\n",
              "      <td>Кобальт Пикчерз</td>\n",
              "      <td>США</td>\n",
              "      <td>Вадим Перельман</td>\n",
              "      <td>Майкл Лондон</td>\n",
              "      <td>«16+» - для детей старше 16 лет</td>\n",
              "      <td>NaN</td>\n",
              "      <td>NaN</td>\n",
              "      <td>NaN</td>\n",
              "      <td>NaN</td>\n",
              "      <td>NaN</td>\n",
              "      <td>NaN</td>\n",
              "      <td>NaN</td>\n",
              "    </tr>\n",
              "    <tr>\n",
              "      <th>159</th>\n",
              "      <td>Жемчужная девушка</td>\n",
              "      <td>224011014</td>\n",
              "      <td>2014-08-28 12:00:00+00:00</td>\n",
              "      <td>Художественный</td>\n",
              "      <td>Чешское телевидение,Студия \"Три брата\" агентск...</td>\n",
              "      <td>Чехия</td>\n",
              "      <td>Владимир Дрга</td>\n",
              "      <td>NaN</td>\n",
              "      <td>«0+» - для любой зрительской аудитории</td>\n",
              "      <td>NaN</td>\n",
              "      <td>NaN</td>\n",
              "      <td>NaN</td>\n",
              "      <td>NaN</td>\n",
              "      <td>NaN</td>\n",
              "      <td>NaN</td>\n",
              "      <td>NaN</td>\n",
              "    </tr>\n",
              "    <tr>\n",
              "      <th>227</th>\n",
              "      <td>Полустанок</td>\n",
              "      <td>111026714</td>\n",
              "      <td>2014-12-24 12:00:00+00:00</td>\n",
              "      <td>Художественный</td>\n",
              "      <td>Киностудия \"Мосфильм\"</td>\n",
              "      <td>СССР</td>\n",
              "      <td>Б.Барнет</td>\n",
              "      <td>NaN</td>\n",
              "      <td>«12+» - для детей старше 12 лет</td>\n",
              "      <td>NaN</td>\n",
              "      <td>NaN</td>\n",
              "      <td>NaN</td>\n",
              "      <td>NaN</td>\n",
              "      <td>NaN</td>\n",
              "      <td>NaN</td>\n",
              "      <td>NaN</td>\n",
              "    </tr>\n",
              "  </tbody>\n",
              "</table>\n",
              "</div>"
            ],
            "text/plain": [
              "                                                title   puNumber  \\\n",
              "43           Мемуары гейши (по роману Артура Голдена)  121000606   \n",
              "150                                          Жди меня  111013615   \n",
              "154  Дом из песка и тумана (по книге Андре Дюбуи III)  221037813   \n",
              "159                                 Жемчужная девушка  224011014   \n",
              "227                                        Полустанок  111026714   \n",
              "\n",
              "              show_start_date            type  \\\n",
              "43  2012-12-14 12:00:00+00:00  Художественный   \n",
              "150 2015-08-25 12:00:00+00:00  Художественный   \n",
              "154 2013-10-25 12:00:00+00:00  Художественный   \n",
              "159 2014-08-28 12:00:00+00:00  Художественный   \n",
              "227 2014-12-24 12:00:00+00:00  Художественный   \n",
              "\n",
              "                                           film_studio production_country  \\\n",
              "43   Коламбия Пикчерз Корпорейшн, ДримУоркс ЭсКейДж...                США   \n",
              "150                              Киностудия \"Мосфильм\"               СССР   \n",
              "154                                    Кобальт Пикчерз                США   \n",
              "159  Чешское телевидение,Студия \"Три брата\" агентск...              Чехия   \n",
              "227                              Киностудия \"Мосфильм\"               СССР   \n",
              "\n",
              "                director                                           producer  \\\n",
              "43           Роб Маршалл  Стивен Спилберг, Люси Фишер, Дуглас Уик, Джон ...   \n",
              "150  А.Столпер, Б.Иванов                                                NaN   \n",
              "154      Вадим Перельман                                       Майкл Лондон   \n",
              "159        Владимир Дрга                                                NaN   \n",
              "227             Б.Барнет                                                NaN   \n",
              "\n",
              "                            age_restriction  refundable_support  \\\n",
              "43          «12+» - для детей старше 12 лет                 NaN   \n",
              "150           «6+» - для детей старше 6 лет                 NaN   \n",
              "154         «16+» - для детей старше 16 лет                 NaN   \n",
              "159  «0+» - для любой зрительской аудитории                 NaN   \n",
              "227         «12+» - для детей старше 12 лет                 NaN   \n",
              "\n",
              "     nonrefundable_support  budget financing_source ratings genres  box_office  \n",
              "43                     NaN     NaN              NaN     NaN    NaN         NaN  \n",
              "150                    NaN     NaN              NaN     NaN    NaN         NaN  \n",
              "154                    NaN     NaN              NaN     NaN    NaN         NaN  \n",
              "159                    NaN     NaN              NaN     NaN    NaN         NaN  \n",
              "227                    NaN     NaN              NaN     NaN    NaN         NaN  "
            ]
          },
          "metadata": {},
          "output_type": "display_data"
        }
      ],
      "source": [
        "display(df[df['ratings'].isna()].head())"
      ]
    },
    {
      "cell_type": "markdown",
      "metadata": {
        "id": "ijkdTSwPMKTQ"
      },
      "source": [
        "Для всех фильмов, у которых не указан рейтинг, не представляется возможность заполнить значения, пропусков 12.92% на всю таблицу. Оставляем как есть."
      ]
    },
    {
      "cell_type": "markdown",
      "metadata": {
        "id": "ywsKAWVFMKTQ"
      },
      "source": [
        "Посмотрим внимательно на пропуски в столбце Жанры **genres**"
      ]
    },
    {
      "cell_type": "code",
      "execution_count": null,
      "metadata": {
        "id": "Z1oPeIdKMKTQ",
        "outputId": "415996b0-d54d-4dbd-b7e3-5fa1c02559a3"
      },
      "outputs": [
        {
          "data": {
            "text/html": [
              "<div>\n",
              "<style scoped>\n",
              "    .dataframe tbody tr th:only-of-type {\n",
              "        vertical-align: middle;\n",
              "    }\n",
              "\n",
              "    .dataframe tbody tr th {\n",
              "        vertical-align: top;\n",
              "    }\n",
              "\n",
              "    .dataframe thead th {\n",
              "        text-align: right;\n",
              "    }\n",
              "</style>\n",
              "<table border=\"1\" class=\"dataframe\">\n",
              "  <thead>\n",
              "    <tr style=\"text-align: right;\">\n",
              "      <th></th>\n",
              "      <th>title</th>\n",
              "      <th>puNumber</th>\n",
              "      <th>show_start_date</th>\n",
              "      <th>type</th>\n",
              "      <th>film_studio</th>\n",
              "      <th>production_country</th>\n",
              "      <th>director</th>\n",
              "      <th>producer</th>\n",
              "      <th>age_restriction</th>\n",
              "      <th>refundable_support</th>\n",
              "      <th>nonrefundable_support</th>\n",
              "      <th>budget</th>\n",
              "      <th>financing_source</th>\n",
              "      <th>ratings</th>\n",
              "      <th>genres</th>\n",
              "      <th>box_office</th>\n",
              "    </tr>\n",
              "  </thead>\n",
              "  <tbody>\n",
              "    <tr>\n",
              "      <th>43</th>\n",
              "      <td>Мемуары гейши (по роману Артура Голдена)</td>\n",
              "      <td>121000606</td>\n",
              "      <td>2012-12-14 12:00:00+00:00</td>\n",
              "      <td>Художественный</td>\n",
              "      <td>Коламбия Пикчерз Корпорейшн, ДримУоркс ЭсКейДж...</td>\n",
              "      <td>США</td>\n",
              "      <td>Роб Маршалл</td>\n",
              "      <td>Стивен Спилберг, Люси Фишер, Дуглас Уик, Джон ...</td>\n",
              "      <td>«12+» - для детей старше 12 лет</td>\n",
              "      <td>NaN</td>\n",
              "      <td>NaN</td>\n",
              "      <td>NaN</td>\n",
              "      <td>NaN</td>\n",
              "      <td>NaN</td>\n",
              "      <td>NaN</td>\n",
              "      <td>NaN</td>\n",
              "    </tr>\n",
              "    <tr>\n",
              "      <th>150</th>\n",
              "      <td>Жди меня</td>\n",
              "      <td>111013615</td>\n",
              "      <td>2015-08-25 12:00:00+00:00</td>\n",
              "      <td>Художественный</td>\n",
              "      <td>Киностудия \"Мосфильм\"</td>\n",
              "      <td>СССР</td>\n",
              "      <td>А.Столпер, Б.Иванов</td>\n",
              "      <td>NaN</td>\n",
              "      <td>«6+» - для детей старше 6 лет</td>\n",
              "      <td>NaN</td>\n",
              "      <td>NaN</td>\n",
              "      <td>NaN</td>\n",
              "      <td>NaN</td>\n",
              "      <td>NaN</td>\n",
              "      <td>NaN</td>\n",
              "      <td>NaN</td>\n",
              "    </tr>\n",
              "    <tr>\n",
              "      <th>154</th>\n",
              "      <td>Дом из песка и тумана (по книге Андре Дюбуи III)</td>\n",
              "      <td>221037813</td>\n",
              "      <td>2013-10-25 12:00:00+00:00</td>\n",
              "      <td>Художественный</td>\n",
              "      <td>Кобальт Пикчерз</td>\n",
              "      <td>США</td>\n",
              "      <td>Вадим Перельман</td>\n",
              "      <td>Майкл Лондон</td>\n",
              "      <td>«16+» - для детей старше 16 лет</td>\n",
              "      <td>NaN</td>\n",
              "      <td>NaN</td>\n",
              "      <td>NaN</td>\n",
              "      <td>NaN</td>\n",
              "      <td>NaN</td>\n",
              "      <td>NaN</td>\n",
              "      <td>NaN</td>\n",
              "    </tr>\n",
              "    <tr>\n",
              "      <th>159</th>\n",
              "      <td>Жемчужная девушка</td>\n",
              "      <td>224011014</td>\n",
              "      <td>2014-08-28 12:00:00+00:00</td>\n",
              "      <td>Художественный</td>\n",
              "      <td>Чешское телевидение,Студия \"Три брата\" агентск...</td>\n",
              "      <td>Чехия</td>\n",
              "      <td>Владимир Дрга</td>\n",
              "      <td>NaN</td>\n",
              "      <td>«0+» - для любой зрительской аудитории</td>\n",
              "      <td>NaN</td>\n",
              "      <td>NaN</td>\n",
              "      <td>NaN</td>\n",
              "      <td>NaN</td>\n",
              "      <td>NaN</td>\n",
              "      <td>NaN</td>\n",
              "      <td>NaN</td>\n",
              "    </tr>\n",
              "    <tr>\n",
              "      <th>227</th>\n",
              "      <td>Полустанок</td>\n",
              "      <td>111026714</td>\n",
              "      <td>2014-12-24 12:00:00+00:00</td>\n",
              "      <td>Художественный</td>\n",
              "      <td>Киностудия \"Мосфильм\"</td>\n",
              "      <td>СССР</td>\n",
              "      <td>Б.Барнет</td>\n",
              "      <td>NaN</td>\n",
              "      <td>«12+» - для детей старше 12 лет</td>\n",
              "      <td>NaN</td>\n",
              "      <td>NaN</td>\n",
              "      <td>NaN</td>\n",
              "      <td>NaN</td>\n",
              "      <td>NaN</td>\n",
              "      <td>NaN</td>\n",
              "      <td>NaN</td>\n",
              "    </tr>\n",
              "  </tbody>\n",
              "</table>\n",
              "</div>"
            ],
            "text/plain": [
              "                                                title   puNumber  \\\n",
              "43           Мемуары гейши (по роману Артура Голдена)  121000606   \n",
              "150                                          Жди меня  111013615   \n",
              "154  Дом из песка и тумана (по книге Андре Дюбуи III)  221037813   \n",
              "159                                 Жемчужная девушка  224011014   \n",
              "227                                        Полустанок  111026714   \n",
              "\n",
              "              show_start_date            type  \\\n",
              "43  2012-12-14 12:00:00+00:00  Художественный   \n",
              "150 2015-08-25 12:00:00+00:00  Художественный   \n",
              "154 2013-10-25 12:00:00+00:00  Художественный   \n",
              "159 2014-08-28 12:00:00+00:00  Художественный   \n",
              "227 2014-12-24 12:00:00+00:00  Художественный   \n",
              "\n",
              "                                           film_studio production_country  \\\n",
              "43   Коламбия Пикчерз Корпорейшн, ДримУоркс ЭсКейДж...                США   \n",
              "150                              Киностудия \"Мосфильм\"               СССР   \n",
              "154                                    Кобальт Пикчерз                США   \n",
              "159  Чешское телевидение,Студия \"Три брата\" агентск...              Чехия   \n",
              "227                              Киностудия \"Мосфильм\"               СССР   \n",
              "\n",
              "                director                                           producer  \\\n",
              "43           Роб Маршалл  Стивен Спилберг, Люси Фишер, Дуглас Уик, Джон ...   \n",
              "150  А.Столпер, Б.Иванов                                                NaN   \n",
              "154      Вадим Перельман                                       Майкл Лондон   \n",
              "159        Владимир Дрга                                                NaN   \n",
              "227             Б.Барнет                                                NaN   \n",
              "\n",
              "                            age_restriction  refundable_support  \\\n",
              "43          «12+» - для детей старше 12 лет                 NaN   \n",
              "150           «6+» - для детей старше 6 лет                 NaN   \n",
              "154         «16+» - для детей старше 16 лет                 NaN   \n",
              "159  «0+» - для любой зрительской аудитории                 NaN   \n",
              "227         «12+» - для детей старше 12 лет                 NaN   \n",
              "\n",
              "     nonrefundable_support  budget financing_source ratings genres  box_office  \n",
              "43                     NaN     NaN              NaN     NaN    NaN         NaN  \n",
              "150                    NaN     NaN              NaN     NaN    NaN         NaN  \n",
              "154                    NaN     NaN              NaN     NaN    NaN         NaN  \n",
              "159                    NaN     NaN              NaN     NaN    NaN         NaN  \n",
              "227                    NaN     NaN              NaN     NaN    NaN         NaN  "
            ]
          },
          "metadata": {},
          "output_type": "display_data"
        },
        {
          "data": {
            "text/plain": [
              "array(['боевик,драма,мелодрама', 'драма,военный',\n",
              "       'фантастика,боевик,триллер', 'драма', 'мелодрама,комедия',\n",
              "       'мюзикл,мелодрама,комедия', 'комедия,криминал',\n",
              "       'боевик,триллер,детектив', 'боевик,драма,приключения',\n",
              "       'драма,спорт', 'триллер,драма,мелодрама', 'комедия,мелодрама',\n",
              "       'драма,мелодрама,комедия', 'драма,мелодрама', 'драма,история',\n",
              "       'драма,мелодрама,семейный', 'комедия,мелодрама,криминал',\n",
              "       'комедия', 'боевик,драма,криминал', 'драма,комедия',\n",
              "       'ужасы,фантастика,комедия', 'мультфильм,короткометражка,мелодрама',\n",
              "       'драма,криминал', 'мультфильм,фантастика,фэнтези',\n",
              "       'триллер,драма,криминал', 'драма,мелодрама,биография',\n",
              "       'драма,комедия,военный', 'фантастика,драма,детектив',\n",
              "       'мюзикл,семейный', nan, 'военный,приключения,драма',\n",
              "       'документальный,драма', 'драма,биография,история',\n",
              "       'боевик,триллер,драма', 'фэнтези,боевик',\n",
              "       'боевик,комедия,криминал', 'мюзикл,комедия,детский',\n",
              "       'комедия,мелодрама,драма', 'мультфильм,фэнтези,комедия',\n",
              "       'комедия,история', 'мелодрама', 'драма,биография,музыка',\n",
              "       'фэнтези,драма,мелодрама', 'триллер,военный',\n",
              "       'драма,мелодрама,военный', 'мюзикл,драма,мелодрама',\n",
              "       'мюзикл,комедия', 'мультфильм,приключения,семейный',\n",
              "       'ужасы,триллер', 'боевик,драма,военный', 'драма,боевик',\n",
              "       'мультфильм,драма,комедия', 'триллер,криминал',\n",
              "       'военный,биография,драма', 'комедия,семейный', 'военный',\n",
              "       'драма,семейный,биография', 'фэнтези,приключения,семейный',\n",
              "       'драма,криминал,биография', 'ужасы,триллер,детектив',\n",
              "       'боевик,история,драма', 'ужасы,триллер,драма',\n",
              "       'драма,криминал,спорт', 'документальный,короткометражка',\n",
              "       'триллер,драма', 'криминал,детектив,приключения',\n",
              "       'драма,комедия,криминал', 'драма,комедия,вестерн',\n",
              "       'драма,мелодрама,детектив', 'мелодрама,биография',\n",
              "       'фэнтези,мелодрама,драма', 'драма,мелодрама,история',\n",
              "       'комедия,приключения,история', 'приключения', 'драма,семейный',\n",
              "       'криминал,детектив', 'мультфильм,короткометражка,ужасы',\n",
              "       'фантастика,триллер,драма', 'фэнтези,мелодрама,комедия',\n",
              "       'драма,биография', 'комедия,криминал,история',\n",
              "       'триллер,драма,детектив', 'фантастика,комедия,приключения',\n",
              "       'фэнтези,семейный', 'ужасы,фантастика,боевик',\n",
              "       'мелодрама,криминал', 'комедия,приключения,мелодрама',\n",
              "       'боевик,триллер,приключения', 'боевик,приключения',\n",
              "       'боевик,триллер,криминал', 'документальный,военный,история',\n",
              "       'драма,музыка', 'боевик,драма', 'приключения,боевик',\n",
              "       'драма,военный,биография', 'триллер,драма,приключения',\n",
              "       'аниме,мультфильм,фэнтези', 'триллер,детектив,драма',\n",
              "       'боевик,триллер,мелодрама', 'боевик,история',\n",
              "       'приключения,история', 'драма,комедия,приключения',\n",
              "       'фэнтези,комедия,приключения', 'драма,вестерн',\n",
              "       'документальный,музыка', 'мелодрама,драма',\n",
              "       'триллер,криминал,детектив', 'ужасы', 'боевик,комедия,приключения',\n",
              "       'мультфильм,фэнтези,боевик', 'боевик,фэнтези,драма',\n",
              "       'фэнтези,драма', 'фэнтези,боевик,комедия',\n",
              "       'приключения,детский,комедия', 'документальный',\n",
              "       'боевик,триллер,комедия', 'мелодрама,комедия,криминал',\n",
              "       'драма,детектив', 'мюзикл,ужасы,триллер', 'детектив,триллер,ужасы',\n",
              "       'ужасы,фэнтези', 'ужасы,фэнтези,триллер', 'мультфильм,драма',\n",
              "       'ужасы,боевик,фантастика', 'боевик', 'фантастика,боевик',\n",
              "       'мелодрама,комедия,приключения', 'триллер,детектив',\n",
              "       'мюзикл,мелодрама,фэнтези', 'криминал', 'триллер,комедия,криминал',\n",
              "       'боевик,приключения,триллер', 'триллер,драма,военный',\n",
              "       'комедия,семейный,музыка', 'комедия,фантастика,мелодрама',\n",
              "       'фантастика,триллер,криминал', 'комедия,драма', 'боевик,военный',\n",
              "       'ужасы,фантастика,триллер', 'фантастика,драма,мелодрама',\n",
              "       'фэнтези,драма,детектив', 'боевик,триллер', 'боевик,драма,история',\n",
              "       'мультфильм,мюзикл,фэнтези', 'для взрослых,драма,мелодрама',\n",
              "       'мультфильм,боевик,детектив', 'фантастика,мелодрама,боевик',\n",
              "       'ужасы,фантастика,детектив', 'фантастика,боевик,приключения',\n",
              "       'мелодрама,комедия,спорт', 'комедия,боевик,приключения',\n",
              "       'документальный,приключения', 'мультфильм,короткометражка,детский',\n",
              "       'комедия,приключения', 'ужасы,драма', 'ужасы,фэнтези,боевик',\n",
              "       'мультфильм,фэнтези,детский', 'мюзикл,боевик,драма',\n",
              "       'семейный,комедия,драма', 'концерт,музыка', 'фэнтези,боевик,драма',\n",
              "       'драма,комедия,музыка', 'фантастика,фэнтези,боевик',\n",
              "       'фэнтези,комедия,семейный', 'фэнтези,драма,комедия',\n",
              "       'мультфильм,мюзикл,драма', 'триллер', 'боевик,криминал,триллер',\n",
              "       'мультфильм,приключения,драма', 'мелодрама,музыка',\n",
              "       'документальный,музыка,концерт', 'мультфильм,семейный',\n",
              "       'мультфильм,комедия,приключения', 'мультфильм,комедия,семейный',\n",
              "       'фантастика,драма', 'фэнтези,боевик,приключения',\n",
              "       'мультфильм,приключения', 'драма,военный,история', 'история',\n",
              "       'драма,приключения,военный',\n",
              "       'документальный,короткометражка,семейный',\n",
              "       'мелодрама,история,триллер', 'ужасы,детектив',\n",
              "       'мюзикл,комедия,приключения', 'драма,спорт,биография',\n",
              "       'фантастика,боевик,комедия', 'фантастика,приключения,детектив',\n",
              "       'короткометражка,драма,военный', 'драма,мультфильм',\n",
              "       'приключения,семейный', 'детектив', 'триллер,приключения',\n",
              "       'аниме,мультфильм,боевик', 'драма,комедия,биография',\n",
              "       'драма,комедия,спорт', 'боевик,мелодрама,комедия',\n",
              "       'семейный,комедия', 'фэнтези,боевик,триллер',\n",
              "       'документальный,фэнтези,семейный', 'фантастика,фэнтези,драма',\n",
              "       'ужасы,комедия,фэнтези', 'документальный,биография,музыка',\n",
              "       'фантастика,боевик,фэнтези', 'ужасы,боевик,триллер',\n",
              "       'комедия,криминал,семейный', 'приключения,драма',\n",
              "       'криминал,драма,триллер', 'драма,детектив,криминал',\n",
              "       'фэнтези,приключения,комедия', 'комедия,спорт',\n",
              "       'мюзикл,фэнтези,мелодрама', 'мультфильм,фэнтези,приключения',\n",
              "       'фантастика,фэнтези,приключения', 'фэнтези',\n",
              "       'фэнтези,приключения,боевик', 'фантастика,боевик,драма',\n",
              "       'криминал,драма', 'криминал,триллер,драма',\n",
              "       'драма,мелодрама,приключения', 'детский,комедия',\n",
              "       'фантастика,драма,боевик', 'мультфильм,семейный,фэнтези',\n",
              "       'концерт,музыка,документальный', 'ужасы,комедия,приключения',\n",
              "       'драма,мелодрама,криминал', 'ужасы,фантастика,фэнтези',\n",
              "       'боевик,комедия', 'мультфильм,фантастика,комедия', 'триллер,ужасы',\n",
              "       'мультфильм,мюзикл,комедия', 'мелодрама,фэнтези,триллер',\n",
              "       'детский,приключения,комедия', 'комедия,детектив',\n",
              "       'аниме,мультфильм,мелодрама', 'документальный,драма,семейный',\n",
              "       'документальный,биография,история', 'военный,боевик,драма',\n",
              "       'ужасы,комедия', 'комедия,приключения,семейный',\n",
              "       'приключения,биография,история', 'детский,приключения,семейный',\n",
              "       'спорт,драма,биография', 'аниме,мультфильм,ужасы',\n",
              "       'фантастика,боевик,криминал', 'мюзикл,драма',\n",
              "       'драма,криминал,детектив', 'аниме,мультфильм,драма',\n",
              "       'драма,триллер,приключения', 'триллер,криминал,драма',\n",
              "       'фэнтези,комедия,драма', 'мультфильм,комедия',\n",
              "       'драма,комедия,история', 'комедия,биография,история',\n",
              "       'мультфильм,фантастика,приключения', 'аниме,мультфильм,фантастика',\n",
              "       'мультфильм,фэнтези,семейный', 'мультфильм,боевик,комедия',\n",
              "       'комедия,криминал,спорт', 'документальный,мюзикл',\n",
              "       'мелодрама,комедия,музыка', 'биография',\n",
              "       'триллер,криминал,комедия', 'фантастика,драма,комедия',\n",
              "       'комедия,драма,мелодрама', 'фантастика,приключения,боевик',\n",
              "       'мультфильм,фэнтези,драма', 'триллер,комедия',\n",
              "       'драма,приключения,биография', 'фантастика,комедия',\n",
              "       'мелодрама,драма,комедия', 'боевик,криминал',\n",
              "       'драма,криминал,боевик', 'мультфильм,мюзикл,детский',\n",
              "       'драма,фэнтези', 'документальный,семейный',\n",
              "       'фэнтези,драма,приключения', 'ужасы,комедия,фантастика',\n",
              "       'драма,мелодрама,музыка', 'фэнтези,драма,семейный',\n",
              "       'триллер,мелодрама,драма', 'вестерн,боевик,драма',\n",
              "       'мультфильм,короткометражка,комедия', 'триллер,драма,история',\n",
              "       'ужасы,фантастика', 'ужасы,мелодрама,комедия',\n",
              "       'фэнтези,приключения', 'фантастика,триллер',\n",
              "       'ужасы,боевик,фэнтези', 'мультфильм,комедия,детский',\n",
              "       'триллер,драма,биография', 'мультфильм,ужасы,фэнтези',\n",
              "       'мультфильм,ужасы,фантастика', 'ужасы,боевик,комедия',\n",
              "       'драма,биография,спорт', 'мультфильм', 'мелодрама,комедия,драма',\n",
              "       'приключения,фантастика,семейный', 'комедия,криминал,детектив',\n",
              "       'ужасы,триллер,комедия', 'криминал,комедия,триллер',\n",
              "       'семейный,приключения,комедия', 'мультфильм,драма,приключения',\n",
              "       'ужасы,драма,детектив', 'драма,приключения,фэнтези',\n",
              "       'фантастика,мультфильм,драма', 'драма,триллер,детектив',\n",
              "       'драма,история,музыка', 'детский', 'триллер,боевик,криминал',\n",
              "       'драма,фантастика', 'комедия,драма,семейный',\n",
              "       'боевик,драма,комедия', 'комедия,ужасы',\n",
              "       'драма,фантастика,триллер', 'фантастика,драма,триллер',\n",
              "       'история,спорт,драма', 'документальный,биография',\n",
              "       'биография,история', 'спорт,драма', 'боевик,фэнтези',\n",
              "       'мультфильм,фэнтези', 'документальный,комедия,история',\n",
              "       'криминал,комедия,боевик', 'фэнтези,приключения,драма',\n",
              "       'музыка,концерт', 'триллер,драма,боевик',\n",
              "       'комедия,криминал,боевик', 'комедия,фантастика,боевик',\n",
              "       'вестерн,приключения,боевик', 'аниме,мультфильм,комедия',\n",
              "       'детектив,криминал,триллер', 'мультфильм,комедия,криминал',\n",
              "       'комедия,приключения,детектив', 'мелодрама,фантастика,драма',\n",
              "       'драма,комедия,семейный', 'приключения,фантастика',\n",
              "       'триллер,детектив,ужасы', 'комедия,приключения,фэнтези',\n",
              "       'фэнтези,триллер,драма', 'мелодрама,приключения,боевик',\n",
              "       'детектив,триллер,криминал', 'фэнтези,семейный,мелодрама',\n",
              "       'военный,драма', 'документальный,приключения,семейный',\n",
              "       'криминал,комедия,драма', 'комедия,фантастика',\n",
              "       'история,биография,драма', 'мелодрама,драма,музыка',\n",
              "       'боевик,мелодрама', 'комедия,криминал,триллер',\n",
              "       'детектив,триллер,боевик', 'комедия,боевик,криминал',\n",
              "       'комедия,вестерн', 'детский,мелодрама,семейный',\n",
              "       'короткометражка,мультфильм', 'комедия,фэнтези',\n",
              "       'фантастика,драма,ужасы', 'триллер,драма,ужасы',\n",
              "       'драма,фэнтези,история', 'комедия,драма,короткометражка',\n",
              "       'фэнтези,триллер,приключения', 'семейный',\n",
              "       'комедия,криминал,драма', 'комедия,фэнтези,ужасы',\n",
              "       'короткометражка,комедия,криминал', 'фантастика',\n",
              "       'триллер,ужасы,драма', 'мелодрама,драма,фэнтези',\n",
              "       'фантастика,приключения,драма', 'боевик,детектив',\n",
              "       'военный,драма,боевик', 'комедия,мелодрама,фэнтези',\n",
              "       'вестерн,криминал,триллер', 'драма,история,триллер',\n",
              "       'мультфильм,фантастика,боевик', 'детектив,драма,криминал',\n",
              "       'приключения,история,драма', 'мультфильм,семейный,детский',\n",
              "       'биография,драма,история', 'триллер,криминал,боевик',\n",
              "       'история,мелодрама', 'приключения,детский',\n",
              "       'музыка,приключения,концерт', 'военный,драма,комедия',\n",
              "       'фэнтези,боевик,военный', 'фантастика,детектив,боевик',\n",
              "       'мультфильм,фэнтези,история', 'биография,мелодрама,драма',\n",
              "       'документальный,биография,спорт', 'фантастика,комедия,детектив',\n",
              "       'музыка,концерт,документальный', 'триллер,боевик,приключения',\n",
              "       'триллер,драма,комедия', 'детектив,криминал',\n",
              "       'мультфильм,приключения,фэнтези', 'мелодрама,приключения',\n",
              "       'комедия,музыка', 'мелодрама,комедия,ужасы',\n",
              "       'драма,криминал,приключения', 'приключения,детектив,мелодрама',\n",
              "       'драма,криминал,фантастика', 'фэнтези,драма,биография',\n",
              "       'детектив,фантастика,криминал', 'триллер,драма,фантастика',\n",
              "       'ужасы,комедия,боевик', 'мелодрама,история', 'триллер,боевик',\n",
              "       'фильм-нуар,триллер,детектив', 'комедия,криминал,приключения',\n",
              "       'ужасы,триллер,мелодрама', 'военный,драма,история',\n",
              "       'драма,спорт,история', 'документальный,драма,история',\n",
              "       'триллер,мелодрама,детектив', 'детский,семейный',\n",
              "       'мюзикл,семейный,драма', 'биография,военный,драма',\n",
              "       'мультфильм,детский', 'боевик,криминал,драма',\n",
              "       'детектив,фэнтези,триллер', 'драма,боевик,приключения',\n",
              "       'драма,мелодрама,фэнтези', 'детектив,история,драма',\n",
              "       'фэнтези,боевик,ужасы', 'ужасы,фэнтези,мелодрама',\n",
              "       'ужасы,приключения', 'боевик,фантастика',\n",
              "       'ужасы,мелодрама,детектив', 'фантастика,триллер,приключения',\n",
              "       'боевик,приключения,история', 'приключения,боевик,триллер',\n",
              "       'детектив,ужасы,криминал', 'семейный,фэнтези', 'мюзикл,мелодрама',\n",
              "       'драма,военный,приключения', 'фантастика,драма,приключения',\n",
              "       'приключения,семейный,драма', 'история,драма,боевик',\n",
              "       'мультфильм,приключения,комедия', 'криминал,драма,комедия',\n",
              "       'ужасы,комедия,драма', 'комедия,семейный,приключения',\n",
              "       'мюзикл,фэнтези,драма', 'драма,вестерн,боевик',\n",
              "       'фантастика,триллер,детектив', 'драма,история,детектив',\n",
              "       'короткометражка,биография', 'мультфильм,приключения,фантастика',\n",
              "       'комедия,триллер', 'мультфильм,приключения,детектив',\n",
              "       'драма,триллер', 'ужасы,триллер,криминал',\n",
              "       'документальный,криминал,военный', 'ужасы,фэнтези,драма',\n",
              "       'фэнтези,комедия', 'ужасы,фэнтези,комедия', 'комедия,музыка,драма',\n",
              "       'мультфильм,приключения,военный', 'мюзикл,фэнтези,комедия',\n",
              "       'боевик,фантастика,приключения', 'триллер,ужасы,криминал',\n",
              "       'ужасы,фантастика,драма', 'фантастика,приключения,семейный',\n",
              "       'короткометражка,музыка', 'мелодрама,детектив,комедия',\n",
              "       'документальный,триллер,биография', 'боевик,фантастика,триллер',\n",
              "       'спорт,драма,комедия', 'фэнтези,мелодрама,приключения',\n",
              "       'триллер,детектив,криминал', 'короткометражка,мелодрама',\n",
              "       'мультфильм,семейный,спорт', 'комедия,фэнтези,мелодрама',\n",
              "       'драма,спорт,комедия', 'история,драма,мелодрама',\n",
              "       'драма,боевик,криминал', 'драма,комедия,триллер',\n",
              "       'аниме,мультфильм', 'документальный,ужасы',\n",
              "       'мультфильм,короткометражка', 'драма,история,военный',\n",
              "       'мультфильм,короткометражка,фэнтези', 'комедия,военный,музыка',\n",
              "       'биография,история,драма', 'ужасы,драма,мелодрама',\n",
              "       'драма,комедия,детектив', 'комедия,семейный,фантастика',\n",
              "       'мультфильм,семейный,комедия', 'история,детектив',\n",
              "       'приключения,мелодрама,детектив', 'мюзикл,комедия,мелодрама',\n",
              "       'драма,фантастика,ужасы', 'мультфильм,ужасы,комедия',\n",
              "       'для взрослых,драма,комедия', 'ужасы,комедия,музыка',\n",
              "       'комедия,история,драма', 'семейный,детектив,детский',\n",
              "       'короткометражка,драма', 'документальный,новости,драма',\n",
              "       'триллер,мелодрама', 'ужасы,драма,вестерн',\n",
              "       'мюзикл,фэнтези,семейный', 'вестерн,драма,триллер',\n",
              "       'приключения,вестерн,боевик', 'семейный,комедия,музыка',\n",
              "       'боевик,драма,вестерн', 'ужасы,драма,триллер',\n",
              "       'фантастика,мелодрама', 'комедия,криминал,биография',\n",
              "       'семейный,мультфильм,комедия', 'комедия,драма,криминал',\n",
              "       'фантастика,боевик,военный', 'приключения,биография,драма',\n",
              "       'приключения,триллер,биография', 'криминал,боевик,триллер',\n",
              "       'боевик,вестерн,приключения', 'история,драма',\n",
              "       'фантастика,фэнтези,комедия', 'мультфильм,детский,комедия',\n",
              "       'мелодрама,комедия,триллер', 'документальный,боевик,приключения',\n",
              "       'драма,приключения', 'мелодрама,военный,драма', 'триллер,фэнтези',\n",
              "       'драма,триллер,биография', 'фэнтези,боевик,семейный',\n",
              "       'фантастика,триллер,комедия', 'документальный,фэнтези',\n",
              "       'комедия,мультфильм,фантастика', 'криминал,биография,комедия',\n",
              "       'биография,спорт,драма', 'приключения,военный',\n",
              "       'мультфильм,семейный,драма', 'документальный,фэнтези,драма',\n",
              "       'комедия,боевик,фантастика', 'семейный,приключения,военный',\n",
              "       'триллер,ужасы,детектив', 'короткометражка',\n",
              "       'мелодрама,триллер,история', 'документальный,история',\n",
              "       'мультфильм,приключения,детский', 'драма,комедия,мультфильм',\n",
              "       'военный,детектив', 'семейный,приключения,документальный',\n",
              "       'детский,фэнтези', 'документальный,комедия', 'комедия,биография',\n",
              "       'криминал,комедия', 'спорт,мелодрама,криминал',\n",
              "       'фантастика,комедия,боевик', 'боевик,приключения,детектив',\n",
              "       'детектив,триллер,драма', 'документальный,фантастика',\n",
              "       'мелодрама,комедия,семейный', 'мультфильм,мелодрама,комедия',\n",
              "       'драма,спорт,семейный', 'фантастика,мелодрама,фэнтези',\n",
              "       'мюзикл,комедия,музыка', 'фантастика,триллер,мелодрама',\n",
              "       'приключения,комедия,фэнтези', 'фэнтези,боевик,детектив',\n",
              "       'фэнтези,боевик,мелодрама', 'комедия,военный',\n",
              "       'драма,спорт,боевик', 'мультфильм,боевик,триллер',\n",
              "       'мелодрама,семейный', 'фантастика,боевик,детектив',\n",
              "       'драма,приключения,история', 'документальный,драма,музыка',\n",
              "       'фантастика,триллер,боевик', 'фэнтези,боевик,вестерн',\n",
              "       'драма,комедия,мелодрама', 'ужасы,фэнтези,приключения',\n",
              "       'триллер,фэнтези,драма', 'мультфильм,мюзикл,мелодрама',\n",
              "       'ужасы,триллер,фантастика', 'триллер,мелодрама,комедия',\n",
              "       'ужасы,комедия,семейный', 'комедия,приключения,музыка',\n",
              "       'документальный,комедия,криминал', 'мелодрама,детектив',\n",
              "       'детский,приключения,фантастика', 'короткометражка,боевик,драма',\n",
              "       'боевик,комедия,семейный', 'фантастика,боевик,мелодрама',\n",
              "       'фэнтези,триллер,мелодрама', 'драма,детектив,история',\n",
              "       'боевик,криминал,детектив', 'мультфильм,фэнтези,мелодрама',\n",
              "       'мелодрама,драма,боевик', 'драма,вестерн,приключения',\n",
              "       'драма,приключения,мелодрама', 'фэнтези,боевик,криминал',\n",
              "       'фантастика,комедия,семейный', 'детский,фэнтези,приключения',\n",
              "       'ужасы,боевик', 'фантастика,мелодрама,комедия',\n",
              "       'семейный,спорт,боевик', 'триллер,биография,драма',\n",
              "       'ужасы,драма,комедия', 'мультфильм,фэнтези,триллер', 'мюзикл',\n",
              "       'боевик,спорт,драма', 'комедия,приключения,вестерн',\n",
              "       'документальный,ужасы,боевик', 'фантастика,боевик,семейный',\n",
              "       'военный,история', 'ужасы,боевик,криминал', 'детектив,триллер',\n",
              "       'драма,семейный,комедия', 'драма,детектив,приключения',\n",
              "       'драма,криминал,история', 'приключения,триллер',\n",
              "       'боевик,драма,биография', 'драма,приключения,триллер',\n",
              "       'комедия,фэнтези,приключения', 'фантастика,боевик,ужасы',\n",
              "       'драма,комедия,фантастика', 'детектив,криминал,драма',\n",
              "       'боевик,триллер,фэнтези', 'приключения,детектив,семейный',\n",
              "       'ужасы,комедия,криминал', 'мультфильм,биография,драма',\n",
              "       'история,боевик,фэнтези', 'детектив,криминал,боевик',\n",
              "       'приключения,фэнтези', 'комедия,приключения,спорт',\n",
              "       'драма,биография,мюзикл', 'комедия,семейный,фэнтези',\n",
              "       'детектив,драма,триллер', 'боевик,приключения,семейный',\n",
              "       'биография,спорт,комедия', 'фантастика,приключения,военный',\n",
              "       'документальный,драма,биография', 'детектив,приключения,драма',\n",
              "       'аниме,мультфильм,приключения', 'семейный,приключения',\n",
              "       'ужасы,фэнтези,детектив', 'семейный,документальный',\n",
              "       'драма,приключения,семейный', 'приключения,история,военный',\n",
              "       'фэнтези,мелодрама', 'фэнтези,триллер,детектив',\n",
              "       'документальный,спорт,биография', 'комедия,триллер,драма',\n",
              "       'драма,ужасы', 'биография,музыка,драма', 'фэнтези,ужасы',\n",
              "       'детектив,мелодрама,фэнтези', 'боевик,военный,история',\n",
              "       'биография,драма,криминал', 'триллер,мелодрама,криминал',\n",
              "       'семейный,мелодрама', 'биография,драма', 'военный,история,драма',\n",
              "       'фантастика,детектив,фэнтези', 'детектив,приключения,триллер',\n",
              "       'фантастика,приключения', 'мультфильм,короткометражка,мюзикл',\n",
              "       'мультфильм,детский,семейный', 'документальный,драма,комедия',\n",
              "       'комедия,приключения,криминал', 'документальный,семейный,музыка',\n",
              "       'мелодрама,музыка,драма', 'детектив,фантастика,триллер',\n",
              "       'драма,мелодрама,триллер', 'биография,драма,военный',\n",
              "       'приключения,фантастика,драма', 'детектив,фильм-нуар,комедия',\n",
              "       'документальный,спорт', 'триллер,фантастика,драма',\n",
              "       'биография,документальный', 'ужасы,фантастика,мелодрама',\n",
              "       'детектив,комедия', 'история,биография,военный',\n",
              "       'криминал,мелодрама', 'драма,криминал,вестерн',\n",
              "       'мелодрама,семейный,приключения', 'триллер,ужасы,мелодрама',\n",
              "       'фэнтези,драма,фильм-нуар', 'детектив,мелодрама',\n",
              "       'комедия,драма,биография', 'драма,военный,боевик',\n",
              "       'драма,комедия,ужасы', 'фантастика,драма,криминал',\n",
              "       'документальный,музыка,биография', 'мультфильм,боевик,приключения',\n",
              "       'короткометражка,фантастика', 'мультфильм,мелодрама,драма',\n",
              "       'боевик,военный,драма', 'фэнтези,семейный,приключения',\n",
              "       'детский,мультфильм,приключения', 'семейный,фэнтези,комедия',\n",
              "       'фэнтези,ужасы,триллер', 'ужасы,триллер,приключения',\n",
              "       'драма,боевик,история', 'фэнтези,комедия,детектив',\n",
              "       'история,приключения', 'аниме,мультфильм,короткометражка',\n",
              "       'драма,военный,триллер', 'биография,криминал,триллер',\n",
              "       'фантастика,фэнтези,детектив', 'вестерн,биография,драма',\n",
              "       'биография,музыка,мюзикл', 'драма,история,биография',\n",
              "       'приключения,драма,фантастика', 'комедия,фэнтези,криминал',\n",
              "       'биография,спорт,история', 'драма,криминал,семейный',\n",
              "       'детектив,боевик,история', 'ужасы,комедия,детектив',\n",
              "       'триллер,приключения,драма', 'фэнтези,комедия,криминал',\n",
              "       'триллер,криминал,приключения', 'комедия,детектив,приключения',\n",
              "       'фэнтези,драма,ужасы', 'ужасы,драма,военный', 'реальное ТВ',\n",
              "       'аниме,мультфильм,детектив', 'приключения,фэнтези,семейный',\n",
              "       'драма,биография,комедия', 'триллер,комедия,ужасы',\n",
              "       'музыка,мелодрама,фэнтези', 'мультфильм,история',\n",
              "       'мультфильм,комедия,фантастика', 'биография,криминал,драма',\n",
              "       'комедия,мелодрама,фантастика', 'криминал,боевик,комедия',\n",
              "       'история,криминал', 'детектив,комедия,драма',\n",
              "       'триллер,фантастика,боевик', 'криминал,боевик',\n",
              "       'комедия,драма,военный', 'драма,триллер,криминал',\n",
              "       'мультфильм,мелодрама,приключения', 'фантастика,фэнтези,триллер',\n",
              "       'короткометражка,драма,триллер', 'военный,боевик,история',\n",
              "       'боевик,драма,триллер', 'документальный,военный,драма',\n",
              "       'драма,криминал,фильм-нуар', 'мультфильм,детский,приключения',\n",
              "       'мелодрама,история,драма'], dtype=object)"
            ]
          },
          "execution_count": 14,
          "metadata": {},
          "output_type": "execute_result"
        }
      ],
      "source": [
        "display(df[df['genres'].isna()].head())\n",
        "df['genres'].unique()"
      ]
    },
    {
      "cell_type": "markdown",
      "metadata": {
        "id": "zqGGGyi7MKTQ"
      },
      "source": [
        "Таких данных 13.04% по всей таблице, заполним значением `не указан`"
      ]
    },
    {
      "cell_type": "code",
      "execution_count": null,
      "metadata": {
        "id": "oGgXKOpIMKTQ"
      },
      "outputs": [],
      "source": [
        "df['genres'] = df['genres'].fillna('не указан')"
      ]
    },
    {
      "cell_type": "markdown",
      "metadata": {
        "id": "9UyrtPtCMKTR"
      },
      "source": [
        "Посмотрим число нулевых значений в столбцах датафрейма."
      ]
    },
    {
      "cell_type": "code",
      "execution_count": null,
      "metadata": {
        "scrolled": true,
        "id": "3i8Js5MtMKTR",
        "outputId": "07aaefe9-94dd-4214-9f91-f60bde7a6708"
      },
      "outputs": [
        {
          "data": {
            "text/plain": [
              "title                      0\n",
              "puNumber                   0\n",
              "show_start_date            0\n",
              "type                       0\n",
              "film_studio                0\n",
              "production_country         0\n",
              "director                   0\n",
              "producer                   0\n",
              "age_restriction            0\n",
              "refundable_support       221\n",
              "nonrefundable_support      9\n",
              "budget                    17\n",
              "financing_source           0\n",
              "ratings                    0\n",
              "genres                     0\n",
              "box_office                24\n",
              "dtype: int64"
            ]
          },
          "execution_count": 16,
          "metadata": {},
          "output_type": "execute_result"
        }
      ],
      "source": [
        "df.isin([0]).sum()"
      ]
    },
    {
      "cell_type": "markdown",
      "metadata": {
        "id": "Yr3tmfU0MKTR"
      },
      "source": [
        "#### Вывод:\n",
        "   - в столбцах `refundable_support`, `nonrefundable_support`, `budget`, `financing_source` огромное количество пропусков (95.57%), это обусловлено тем, что изначально в предоставленной информации сообщалось, - \"столбец budget уже включает в себя полный объём государственной поддержки. Данные в этом столбце указаны только для тех фильмов, которые получили государственную поддержку\". Эти данные заполнять нечем, оставляем их как есть.\n",
        "    \n",
        "    \n",
        "   - в столбце `film_studio` 0.24% пропусков, это не существенно, на исследование не повлияет, их заполнять не будем\n",
        "    \n",
        "    \n",
        "   - в столбце `production_country` 0.03% пропусков, это не существенно, на исследование не повлияет, их заполнять не будем\n",
        "    \n",
        "    \n",
        "   - в столбце `director` 0.12% пропусков, это не существенно, на исследование не повлияет, их заполнять не будем\n",
        "    \n",
        "    \n",
        "   - в столбце `producer` 7.59% пропусков, это не существенно, на исследование не повлияет, их заполнять не будем\n",
        "    \n",
        "    \n",
        "   - в столбце `ratings` 12.92% пропусков, не представляется возможность заполнить значения, оставляем как есть\n",
        "    \n",
        "    \n",
        "   - в столбце `genres` 13.04% пропусков, заполнили значением `не указан`\n",
        "    \n",
        "    \n",
        "   - в столбце `box_office` - сборы в рублях, 57.81% пропусков, нам известны данные о прокате только в российских кинотеатрах, заполнять пропуски мы не будем, в дальнейшем в исследованиях эта информация не понадобится, оставляем пропуски  \n",
        "\n",
        "\n",
        "Обнаружены нулевые значения в столбцах:\n",
        " - `refundable_support`       221 шт.\n",
        " - `nonrefundable_support`      9 шт.\n",
        " - `budget`                    17 шт.\n",
        " - `box_office`                24 шт."
      ]
    },
    {
      "cell_type": "markdown",
      "metadata": {
        "id": "4c6k1t9ygFyQ"
      },
      "source": [
        "###  Изучим дубликаты в датафрейме\n",
        "- Проверим, есть ли в данных дубликаты. Опишем причины, которые могли повлиять на появление дублей."
      ]
    },
    {
      "cell_type": "markdown",
      "metadata": {
        "id": "tnxKZnsVMKTR"
      },
      "source": [
        "Найдем явные дубликаты в датафрейме"
      ]
    },
    {
      "cell_type": "code",
      "execution_count": null,
      "metadata": {
        "id": "aKck8RIdgFyQ",
        "scrolled": false,
        "outputId": "5d96fc0f-1ac0-4775-e715-ce61b6b64545"
      },
      "outputs": [
        {
          "data": {
            "text/plain": [
              "0"
            ]
          },
          "execution_count": 17,
          "metadata": {},
          "output_type": "execute_result"
        }
      ],
      "source": [
        "df.duplicated().sum()"
      ]
    },
    {
      "cell_type": "markdown",
      "metadata": {
        "id": "Ro_bLhoWMKTS"
      },
      "source": [
        "Изучим не явные дубликаты.  \n",
        "Начнем со стоблца `title`"
      ]
    },
    {
      "cell_type": "code",
      "execution_count": null,
      "metadata": {
        "id": "n8lWajraMKTS",
        "outputId": "8d4a2a36-2274-4f81-f159-316f00eda019"
      },
      "outputs": [
        {
          "data": {
            "text/plain": [
              "День святого Валентина_                5\n",
              "Дитя тьмы                              4\n",
              "Дорога /По новелле Кормака МкКарфи/    4\n",
              "Лузеры                                 4\n",
              "Красавчик-2                            4\n",
              "Name: title, dtype: int64"
            ]
          },
          "execution_count": 18,
          "metadata": {},
          "output_type": "execute_result"
        }
      ],
      "source": [
        "df['title'].value_counts().head()"
      ]
    },
    {
      "cell_type": "markdown",
      "metadata": {
        "id": "gjGEZ9cvMKTS"
      },
      "source": [
        "Посмотрим внимательнее на первую строку"
      ]
    },
    {
      "cell_type": "code",
      "execution_count": null,
      "metadata": {
        "scrolled": true,
        "id": "UOOYyG61MKTS",
        "outputId": "fac0533d-9bb2-44ab-a814-29d7c1e8a99b"
      },
      "outputs": [
        {
          "data": {
            "text/html": [
              "<div>\n",
              "<style scoped>\n",
              "    .dataframe tbody tr th:only-of-type {\n",
              "        vertical-align: middle;\n",
              "    }\n",
              "\n",
              "    .dataframe tbody tr th {\n",
              "        vertical-align: top;\n",
              "    }\n",
              "\n",
              "    .dataframe thead th {\n",
              "        text-align: right;\n",
              "    }\n",
              "</style>\n",
              "<table border=\"1\" class=\"dataframe\">\n",
              "  <thead>\n",
              "    <tr style=\"text-align: right;\">\n",
              "      <th></th>\n",
              "      <th>title</th>\n",
              "      <th>puNumber</th>\n",
              "      <th>show_start_date</th>\n",
              "      <th>type</th>\n",
              "      <th>film_studio</th>\n",
              "      <th>production_country</th>\n",
              "      <th>director</th>\n",
              "      <th>producer</th>\n",
              "      <th>age_restriction</th>\n",
              "      <th>refundable_support</th>\n",
              "      <th>nonrefundable_support</th>\n",
              "      <th>budget</th>\n",
              "      <th>financing_source</th>\n",
              "      <th>ratings</th>\n",
              "      <th>genres</th>\n",
              "      <th>box_office</th>\n",
              "    </tr>\n",
              "  </thead>\n",
              "  <tbody>\n",
              "    <tr>\n",
              "      <th>3902</th>\n",
              "      <td>День святого Валентина_</td>\n",
              "      <td>221083810</td>\n",
              "      <td>2010-07-15 12:00:00+00:00</td>\n",
              "      <td>Художественный</td>\n",
              "      <td>Уорнер Бразерс, Нью Лайн Синема, Уэйн Райс, Ка...</td>\n",
              "      <td>США</td>\n",
              "      <td>Гарри Маршалл</td>\n",
              "      <td>Сэмюэл Дж.Браун</td>\n",
              "      <td>«16+» - для детей старше 16 лет</td>\n",
              "      <td>NaN</td>\n",
              "      <td>NaN</td>\n",
              "      <td>NaN</td>\n",
              "      <td>NaN</td>\n",
              "      <td>6.7</td>\n",
              "      <td>мелодрама,комедия</td>\n",
              "      <td>NaN</td>\n",
              "    </tr>\n",
              "    <tr>\n",
              "      <th>3991</th>\n",
              "      <td>День святого Валентина_</td>\n",
              "      <td>221068010</td>\n",
              "      <td>2010-05-14 12:00:00+00:00</td>\n",
              "      <td>Художественный</td>\n",
              "      <td>Уорнер Бразерс, Нью Лайн Синема, Уэйн Райс, Ка...</td>\n",
              "      <td>США</td>\n",
              "      <td>Гарри Маршалл</td>\n",
              "      <td>Сэмюэл Дж.Браун</td>\n",
              "      <td>«16+» - для детей старше 16 лет</td>\n",
              "      <td>NaN</td>\n",
              "      <td>NaN</td>\n",
              "      <td>NaN</td>\n",
              "      <td>NaN</td>\n",
              "      <td>6.7</td>\n",
              "      <td>мелодрама,комедия</td>\n",
              "      <td>NaN</td>\n",
              "    </tr>\n",
              "    <tr>\n",
              "      <th>4070</th>\n",
              "      <td>День святого Валентина_</td>\n",
              "      <td>121002210</td>\n",
              "      <td>2010-02-03 12:00:00+00:00</td>\n",
              "      <td>Художественный</td>\n",
              "      <td>Уорнер Бразерс, Нью Лайн Синема, Уэйн Райс, Ка...</td>\n",
              "      <td>США</td>\n",
              "      <td>Гарри Маршалл</td>\n",
              "      <td>Сэмюэл Дж.Браун</td>\n",
              "      <td>«16+» - для детей старше 16 лет</td>\n",
              "      <td>NaN</td>\n",
              "      <td>NaN</td>\n",
              "      <td>NaN</td>\n",
              "      <td>NaN</td>\n",
              "      <td>6.7</td>\n",
              "      <td>мелодрама,комедия</td>\n",
              "      <td>NaN</td>\n",
              "    </tr>\n",
              "    <tr>\n",
              "      <th>4196</th>\n",
              "      <td>День святого Валентина_</td>\n",
              "      <td>221136210</td>\n",
              "      <td>2010-11-30 12:00:00+00:00</td>\n",
              "      <td>Художественный</td>\n",
              "      <td>Уорнер Бразерс, Нью Лайн Синема, Уэйн Райс, Ка...</td>\n",
              "      <td>США</td>\n",
              "      <td>Гарри Маршалл</td>\n",
              "      <td>Сэмюэл Дж.Браун</td>\n",
              "      <td>«16+» - для детей старше 16 лет</td>\n",
              "      <td>NaN</td>\n",
              "      <td>NaN</td>\n",
              "      <td>NaN</td>\n",
              "      <td>NaN</td>\n",
              "      <td>6.7</td>\n",
              "      <td>мелодрама,комедия</td>\n",
              "      <td>NaN</td>\n",
              "    </tr>\n",
              "    <tr>\n",
              "      <th>5070</th>\n",
              "      <td>День святого Валентина_</td>\n",
              "      <td>221066410</td>\n",
              "      <td>2010-06-01 12:00:00+00:00</td>\n",
              "      <td>Художественный</td>\n",
              "      <td>Уорнер Бразерс, Нью Лайн Синема, Уэйн Райс, Ка...</td>\n",
              "      <td>США</td>\n",
              "      <td>Гарри Маршалл</td>\n",
              "      <td>Сэмюэл Дж.Браун</td>\n",
              "      <td>«16+» - для детей старше 16 лет</td>\n",
              "      <td>NaN</td>\n",
              "      <td>NaN</td>\n",
              "      <td>NaN</td>\n",
              "      <td>NaN</td>\n",
              "      <td>6.7</td>\n",
              "      <td>мелодрама,комедия</td>\n",
              "      <td>NaN</td>\n",
              "    </tr>\n",
              "  </tbody>\n",
              "</table>\n",
              "</div>"
            ],
            "text/plain": [
              "                        title   puNumber           show_start_date  \\\n",
              "3902  День святого Валентина_  221083810 2010-07-15 12:00:00+00:00   \n",
              "3991  День святого Валентина_  221068010 2010-05-14 12:00:00+00:00   \n",
              "4070  День святого Валентина_  121002210 2010-02-03 12:00:00+00:00   \n",
              "4196  День святого Валентина_  221136210 2010-11-30 12:00:00+00:00   \n",
              "5070  День святого Валентина_  221066410 2010-06-01 12:00:00+00:00   \n",
              "\n",
              "                type                                        film_studio  \\\n",
              "3902  Художественный  Уорнер Бразерс, Нью Лайн Синема, Уэйн Райс, Ка...   \n",
              "3991  Художественный  Уорнер Бразерс, Нью Лайн Синема, Уэйн Райс, Ка...   \n",
              "4070  Художественный  Уорнер Бразерс, Нью Лайн Синема, Уэйн Райс, Ка...   \n",
              "4196  Художественный  Уорнер Бразерс, Нью Лайн Синема, Уэйн Райс, Ка...   \n",
              "5070  Художественный  Уорнер Бразерс, Нью Лайн Синема, Уэйн Райс, Ка...   \n",
              "\n",
              "     production_country       director         producer  \\\n",
              "3902                США  Гарри Маршалл  Сэмюэл Дж.Браун   \n",
              "3991                США  Гарри Маршалл  Сэмюэл Дж.Браун   \n",
              "4070                США  Гарри Маршалл  Сэмюэл Дж.Браун   \n",
              "4196                США  Гарри Маршалл  Сэмюэл Дж.Браун   \n",
              "5070                США  Гарри Маршалл  Сэмюэл Дж.Браун   \n",
              "\n",
              "                      age_restriction  refundable_support  \\\n",
              "3902  «16+» - для детей старше 16 лет                 NaN   \n",
              "3991  «16+» - для детей старше 16 лет                 NaN   \n",
              "4070  «16+» - для детей старше 16 лет                 NaN   \n",
              "4196  «16+» - для детей старше 16 лет                 NaN   \n",
              "5070  «16+» - для детей старше 16 лет                 NaN   \n",
              "\n",
              "      nonrefundable_support  budget financing_source ratings  \\\n",
              "3902                    NaN     NaN              NaN     6.7   \n",
              "3991                    NaN     NaN              NaN     6.7   \n",
              "4070                    NaN     NaN              NaN     6.7   \n",
              "4196                    NaN     NaN              NaN     6.7   \n",
              "5070                    NaN     NaN              NaN     6.7   \n",
              "\n",
              "                 genres  box_office  \n",
              "3902  мелодрама,комедия         NaN  \n",
              "3991  мелодрама,комедия         NaN  \n",
              "4070  мелодрама,комедия         NaN  \n",
              "4196  мелодрама,комедия         NaN  \n",
              "5070  мелодрама,комедия         NaN  "
            ]
          },
          "execution_count": 19,
          "metadata": {},
          "output_type": "execute_result"
        }
      ],
      "source": [
        "df[df['title'] == 'День святого Валентина_']"
      ]
    },
    {
      "cell_type": "markdown",
      "metadata": {
        "id": "-TL1zgncMKTT"
      },
      "source": [
        "Вывод: прокатные удостоверения `puNumber` для названия `День святого Валентина_` разные, значит это не ошибка. Повлиять на появление дублей могло то, что разные прокатные компании показывали фильм, и выдавалось каждый раз новое прокатное удостоверение."
      ]
    },
    {
      "cell_type": "markdown",
      "metadata": {
        "id": "C9vI2NWtMKTT"
      },
      "source": [
        "Изучим дубли в столбце `puNumber`"
      ]
    },
    {
      "cell_type": "code",
      "execution_count": null,
      "metadata": {
        "id": "76kjl6AzMKTT",
        "outputId": "ee03fb35-c28d-4e14-edda-c4994ebcdffb"
      },
      "outputs": [
        {
          "data": {
            "text/plain": [
              "221054410    2\n",
              "221154310    2\n",
              "124003618    1\n",
              "121020313    1\n",
              "111008918    1\n",
              "Name: puNumber, dtype: int64"
            ]
          },
          "execution_count": 20,
          "metadata": {},
          "output_type": "execute_result"
        }
      ],
      "source": [
        "df['puNumber'].value_counts().head()"
      ]
    },
    {
      "cell_type": "markdown",
      "metadata": {
        "id": "7YUHWA4PMKTT"
      },
      "source": [
        "Выведем на экран первое совпадение"
      ]
    },
    {
      "cell_type": "code",
      "execution_count": null,
      "metadata": {
        "scrolled": true,
        "id": "0q07RqcBMKTT",
        "outputId": "a138b1a0-ea9f-4fe3-f3f0-95a5733089f9"
      },
      "outputs": [
        {
          "data": {
            "text/html": [
              "<div>\n",
              "<style scoped>\n",
              "    .dataframe tbody tr th:only-of-type {\n",
              "        vertical-align: middle;\n",
              "    }\n",
              "\n",
              "    .dataframe tbody tr th {\n",
              "        vertical-align: top;\n",
              "    }\n",
              "\n",
              "    .dataframe thead th {\n",
              "        text-align: right;\n",
              "    }\n",
              "</style>\n",
              "<table border=\"1\" class=\"dataframe\">\n",
              "  <thead>\n",
              "    <tr style=\"text-align: right;\">\n",
              "      <th></th>\n",
              "      <th>title</th>\n",
              "      <th>puNumber</th>\n",
              "      <th>show_start_date</th>\n",
              "      <th>type</th>\n",
              "      <th>film_studio</th>\n",
              "      <th>production_country</th>\n",
              "      <th>director</th>\n",
              "      <th>producer</th>\n",
              "      <th>age_restriction</th>\n",
              "      <th>refundable_support</th>\n",
              "      <th>nonrefundable_support</th>\n",
              "      <th>budget</th>\n",
              "      <th>financing_source</th>\n",
              "      <th>ratings</th>\n",
              "      <th>genres</th>\n",
              "      <th>box_office</th>\n",
              "    </tr>\n",
              "  </thead>\n",
              "  <tbody>\n",
              "    <tr>\n",
              "      <th>4638</th>\n",
              "      <td>Как жениться и остаться холостым</td>\n",
              "      <td>221154310</td>\n",
              "      <td>2010-12-17 12:00:00+00:00</td>\n",
              "      <td>Художественный</td>\n",
              "      <td>Ше Вам, Скрипт Ассосье, Тэ Фэ 1 Фильм Продюксь...</td>\n",
              "      <td>Франция</td>\n",
              "      <td>Эрик Лартиго</td>\n",
              "      <td>Амандин Било, Алан Шаба</td>\n",
              "      <td>«16+» - для детей старше 16 лет</td>\n",
              "      <td>NaN</td>\n",
              "      <td>NaN</td>\n",
              "      <td>NaN</td>\n",
              "      <td>NaN</td>\n",
              "      <td>7.0</td>\n",
              "      <td>мелодрама,комедия</td>\n",
              "      <td>NaN</td>\n",
              "    </tr>\n",
              "    <tr>\n",
              "      <th>4639</th>\n",
              "      <td>Иоанна - женщина на папском престоле /По роман...</td>\n",
              "      <td>221154310</td>\n",
              "      <td>2010-12-17 12:00:00+00:00</td>\n",
              "      <td>Художественный</td>\n",
              "      <td>Константин Фильм, А Эр Ди Дегето Фильм, Дюне ...</td>\n",
              "      <td>Германия - Великобритания - Италия - Испания</td>\n",
              "      <td>Зенке Вортманн</td>\n",
              "      <td>Оливер Бербен, Дорис Д.Хайнце, Фарук Элтан</td>\n",
              "      <td>«16+» - для детей старше 16 лет</td>\n",
              "      <td>NaN</td>\n",
              "      <td>NaN</td>\n",
              "      <td>NaN</td>\n",
              "      <td>NaN</td>\n",
              "      <td>7.6</td>\n",
              "      <td>драма,мелодрама,история</td>\n",
              "      <td>NaN</td>\n",
              "    </tr>\n",
              "  </tbody>\n",
              "</table>\n",
              "</div>"
            ],
            "text/plain": [
              "                                                  title   puNumber  \\\n",
              "4638                   Как жениться и остаться холостым  221154310   \n",
              "4639  Иоанна - женщина на папском престоле /По роман...  221154310   \n",
              "\n",
              "               show_start_date            type  \\\n",
              "4638 2010-12-17 12:00:00+00:00  Художественный   \n",
              "4639 2010-12-17 12:00:00+00:00  Художественный   \n",
              "\n",
              "                                            film_studio  \\\n",
              "4638  Ше Вам, Скрипт Ассосье, Тэ Фэ 1 Фильм Продюксь...   \n",
              "4639   Константин Фильм, А Эр Ди Дегето Фильм, Дюне ...   \n",
              "\n",
              "                                production_country        director  \\\n",
              "4638                                       Франция    Эрик Лартиго   \n",
              "4639  Германия - Великобритания - Италия - Испания  Зенке Вортманн   \n",
              "\n",
              "                                        producer  \\\n",
              "4638                     Амандин Било, Алан Шаба   \n",
              "4639  Оливер Бербен, Дорис Д.Хайнце, Фарук Элтан   \n",
              "\n",
              "                      age_restriction  refundable_support  \\\n",
              "4638  «16+» - для детей старше 16 лет                 NaN   \n",
              "4639  «16+» - для детей старше 16 лет                 NaN   \n",
              "\n",
              "      nonrefundable_support  budget financing_source ratings  \\\n",
              "4638                    NaN     NaN              NaN     7.0   \n",
              "4639                    NaN     NaN              NaN     7.6   \n",
              "\n",
              "                       genres  box_office  \n",
              "4638        мелодрама,комедия         NaN  \n",
              "4639  драма,мелодрама,история         NaN  "
            ]
          },
          "execution_count": 21,
          "metadata": {},
          "output_type": "execute_result"
        }
      ],
      "source": [
        "df[df['puNumber'] == '221154310']"
      ]
    },
    {
      "cell_type": "markdown",
      "metadata": {
        "id": "LHsnitSiMKTT"
      },
      "source": [
        "Посмотрим на второе совпадение"
      ]
    },
    {
      "cell_type": "code",
      "execution_count": null,
      "metadata": {
        "scrolled": true,
        "id": "80xZpunkMKTU",
        "outputId": "f81e9351-7fb2-4f52-f1d2-8dcac5a37bf4"
      },
      "outputs": [
        {
          "data": {
            "text/html": [
              "<div>\n",
              "<style scoped>\n",
              "    .dataframe tbody tr th:only-of-type {\n",
              "        vertical-align: middle;\n",
              "    }\n",
              "\n",
              "    .dataframe tbody tr th {\n",
              "        vertical-align: top;\n",
              "    }\n",
              "\n",
              "    .dataframe thead th {\n",
              "        text-align: right;\n",
              "    }\n",
              "</style>\n",
              "<table border=\"1\" class=\"dataframe\">\n",
              "  <thead>\n",
              "    <tr style=\"text-align: right;\">\n",
              "      <th></th>\n",
              "      <th>title</th>\n",
              "      <th>puNumber</th>\n",
              "      <th>show_start_date</th>\n",
              "      <th>type</th>\n",
              "      <th>film_studio</th>\n",
              "      <th>production_country</th>\n",
              "      <th>director</th>\n",
              "      <th>producer</th>\n",
              "      <th>age_restriction</th>\n",
              "      <th>refundable_support</th>\n",
              "      <th>nonrefundable_support</th>\n",
              "      <th>budget</th>\n",
              "      <th>financing_source</th>\n",
              "      <th>ratings</th>\n",
              "      <th>genres</th>\n",
              "      <th>box_office</th>\n",
              "    </tr>\n",
              "  </thead>\n",
              "  <tbody>\n",
              "    <tr>\n",
              "      <th>5067</th>\n",
              "      <td>Анализируй это!</td>\n",
              "      <td>221054410</td>\n",
              "      <td>2010-05-25 12:00:00+00:00</td>\n",
              "      <td>Художественный</td>\n",
              "      <td>Уорнер Бразерс, Вилладж Роудшоу Филмз ЛТД</td>\n",
              "      <td>США-Австралия</td>\n",
              "      <td>ХЭрольд Рэмис</td>\n",
              "      <td>Джейн Розенталь, Пола Уейнстейн</td>\n",
              "      <td>«16+» - для детей старше 16 лет</td>\n",
              "      <td>NaN</td>\n",
              "      <td>NaN</td>\n",
              "      <td>NaN</td>\n",
              "      <td>NaN</td>\n",
              "      <td>7.4</td>\n",
              "      <td>комедия,криминал</td>\n",
              "      <td>NaN</td>\n",
              "    </tr>\n",
              "    <tr>\n",
              "      <th>5068</th>\n",
              "      <td>Анализируй то!</td>\n",
              "      <td>221054410</td>\n",
              "      <td>2010-05-25 12:00:00+00:00</td>\n",
              "      <td>Художественный</td>\n",
              "      <td>Уорнер Бразерс, Виллидж Роадшоу Пикчерз, Эн-Пи...</td>\n",
              "      <td>США</td>\n",
              "      <td>Гарольд Реймис</td>\n",
              "      <td>Джейн Розенталь, Паул Уэйнстейн</td>\n",
              "      <td>«12+» - для детей старше 12 лет</td>\n",
              "      <td>NaN</td>\n",
              "      <td>NaN</td>\n",
              "      <td>NaN</td>\n",
              "      <td>NaN</td>\n",
              "      <td>6.8</td>\n",
              "      <td>комедия,криминал</td>\n",
              "      <td>NaN</td>\n",
              "    </tr>\n",
              "  </tbody>\n",
              "</table>\n",
              "</div>"
            ],
            "text/plain": [
              "                title   puNumber           show_start_date            type  \\\n",
              "5067  Анализируй это!  221054410 2010-05-25 12:00:00+00:00  Художественный   \n",
              "5068   Анализируй то!  221054410 2010-05-25 12:00:00+00:00  Художественный   \n",
              "\n",
              "                                            film_studio production_country  \\\n",
              "5067          Уорнер Бразерс, Вилладж Роудшоу Филмз ЛТД      США-Австралия   \n",
              "5068  Уорнер Бразерс, Виллидж Роадшоу Пикчерз, Эн-Пи...                США   \n",
              "\n",
              "            director                         producer  \\\n",
              "5067   ХЭрольд Рэмис  Джейн Розенталь, Пола Уейнстейн   \n",
              "5068  Гарольд Реймис  Джейн Розенталь, Паул Уэйнстейн   \n",
              "\n",
              "                      age_restriction  refundable_support  \\\n",
              "5067  «16+» - для детей старше 16 лет                 NaN   \n",
              "5068  «12+» - для детей старше 12 лет                 NaN   \n",
              "\n",
              "      nonrefundable_support  budget financing_source ratings  \\\n",
              "5067                    NaN     NaN              NaN     7.4   \n",
              "5068                    NaN     NaN              NaN     6.8   \n",
              "\n",
              "                genres  box_office  \n",
              "5067  комедия,криминал         NaN  \n",
              "5068  комедия,криминал         NaN  "
            ]
          },
          "execution_count": 22,
          "metadata": {},
          "output_type": "execute_result"
        }
      ],
      "source": [
        "df[df['puNumber'] == '221054410']"
      ]
    },
    {
      "cell_type": "markdown",
      "metadata": {
        "id": "7XGVXFfHMKTU"
      },
      "source": [
        "#### Вывод:\n",
        " - У фильмов названия отличаются. Возникновение дубликатов можно объяснить тем, что ведомство выдающее прокатное удостоверение сделало ошибку выдав разны фильмам одинаковый номер. Это случилось в двух случаях. Оставляем как есть."
      ]
    },
    {
      "cell_type": "markdown",
      "metadata": {
        "id": "52fOPrEBgFyQ"
      },
      "source": [
        "### Изучим категориальные значения\n",
        "\n",
        "- Посмотрим, какая общая проблема встречается почти во всех категориальных столбцах;\n",
        "- Исправим проблемные значения в поле `type`."
      ]
    },
    {
      "cell_type": "markdown",
      "metadata": {
        "id": "M7Il085zMKTV"
      },
      "source": [
        "Изучим данные в столбце `type`"
      ]
    },
    {
      "cell_type": "code",
      "execution_count": null,
      "metadata": {
        "scrolled": false,
        "id": "XJ-NqYpFMKTV",
        "outputId": "c8c21795-c917-4796-d2ce-50347d87f6f5"
      },
      "outputs": [
        {
          "data": {
            "text/plain": [
              "Художественный                4520\n",
              " Художественный               1389\n",
              "Анимационный                   828\n",
              "Прочие                         406\n",
              "Документальный                 288\n",
              "Научно-популярный               53\n",
              " Анимационный                    1\n",
              "Музыкально-развлекательный       1\n",
              "Name: type, dtype: int64"
            ]
          },
          "execution_count": 23,
          "metadata": {},
          "output_type": "execute_result"
        }
      ],
      "source": [
        "df['type'].value_counts().head(10)"
      ]
    },
    {
      "cell_type": "markdown",
      "metadata": {
        "id": "PnXKIVdFgFyR"
      },
      "source": [
        "Обнаружили пробел в начале слова в категории фильма `Художественный` и `Анимационный`, исправим это, удалив все пробелы которые встречаются в начале и в конце строки."
      ]
    },
    {
      "cell_type": "code",
      "execution_count": null,
      "metadata": {
        "scrolled": true,
        "id": "ADbKIwSeMKTV",
        "outputId": "77a3232c-ef5f-4a89-fdb5-897ed6d54e9e"
      },
      "outputs": [
        {
          "data": {
            "text/plain": [
              "Художественный                5909\n",
              "Анимационный                   829\n",
              "Прочие                         406\n",
              "Документальный                 288\n",
              "Научно-популярный               53\n",
              "Музыкально-развлекательный       1\n",
              "Name: type, dtype: int64"
            ]
          },
          "execution_count": 24,
          "metadata": {},
          "output_type": "execute_result"
        }
      ],
      "source": [
        "df['type'] = df['type'].str.strip()\n",
        "\n",
        "df['type'].value_counts().head(10) # и выведем на экран обновленные данные столбца"
      ]
    },
    {
      "cell_type": "markdown",
      "metadata": {
        "id": "Cn1CxjoZMKTW"
      },
      "source": [
        "Изучим данные в столбце `age_restriction`"
      ]
    },
    {
      "cell_type": "code",
      "execution_count": null,
      "metadata": {
        "scrolled": true,
        "id": "p8neJ55wMKTW",
        "outputId": "de0663ed-a9d9-43ee-fd65-50d971afcf4e"
      },
      "outputs": [
        {
          "data": {
            "text/plain": [
              "array(['«18+» - запрещено для детей', '«6+» - для детей старше 6 лет',\n",
              "       '«12+» - для детей старше 12 лет',\n",
              "       '«16+» - для детей старше 16 лет',\n",
              "       '«0+» - для любой зрительской аудитории'], dtype=object)"
            ]
          },
          "execution_count": 25,
          "metadata": {},
          "output_type": "execute_result"
        }
      ],
      "source": [
        "df['age_restriction'].unique()"
      ]
    },
    {
      "cell_type": "markdown",
      "metadata": {
        "id": "UG9ZVuKwMKTW"
      },
      "source": [
        "Категоризируем их для дальнейшего удобства.  \n",
        "Напишем функцию, создадим новый столбец с категоризированными значениями, назовем `age_group`"
      ]
    },
    {
      "cell_type": "code",
      "execution_count": null,
      "metadata": {
        "scrolled": false,
        "id": "Y-ZUlzP4MKTW",
        "outputId": "727e0dc0-9161-46bd-fafa-82d851fbff0e"
      },
      "outputs": [
        {
          "data": {
            "text/html": [
              "<div>\n",
              "<style scoped>\n",
              "    .dataframe tbody tr th:only-of-type {\n",
              "        vertical-align: middle;\n",
              "    }\n",
              "\n",
              "    .dataframe tbody tr th {\n",
              "        vertical-align: top;\n",
              "    }\n",
              "\n",
              "    .dataframe thead th {\n",
              "        text-align: right;\n",
              "    }\n",
              "</style>\n",
              "<table border=\"1\" class=\"dataframe\">\n",
              "  <thead>\n",
              "    <tr style=\"text-align: right;\">\n",
              "      <th></th>\n",
              "      <th>title</th>\n",
              "      <th>puNumber</th>\n",
              "      <th>show_start_date</th>\n",
              "      <th>type</th>\n",
              "      <th>film_studio</th>\n",
              "      <th>production_country</th>\n",
              "      <th>director</th>\n",
              "      <th>producer</th>\n",
              "      <th>age_restriction</th>\n",
              "      <th>refundable_support</th>\n",
              "      <th>nonrefundable_support</th>\n",
              "      <th>budget</th>\n",
              "      <th>financing_source</th>\n",
              "      <th>ratings</th>\n",
              "      <th>genres</th>\n",
              "      <th>box_office</th>\n",
              "      <th>age_cat</th>\n",
              "    </tr>\n",
              "  </thead>\n",
              "  <tbody>\n",
              "    <tr>\n",
              "      <th>0</th>\n",
              "      <td>Открытый простор</td>\n",
              "      <td>221048915</td>\n",
              "      <td>2015-11-27 12:00:00+00:00</td>\n",
              "      <td>Художественный</td>\n",
              "      <td>Тачстоун Пикчерз, Кобальт Пикчерз, Бикон Пикче...</td>\n",
              "      <td>США</td>\n",
              "      <td>Кевин Костнер</td>\n",
              "      <td>Дэвид Валдес, Кевин Костнер, Джейк Эбертс</td>\n",
              "      <td>«18+» - запрещено для детей</td>\n",
              "      <td>NaN</td>\n",
              "      <td>NaN</td>\n",
              "      <td>NaN</td>\n",
              "      <td>NaN</td>\n",
              "      <td>7.2</td>\n",
              "      <td>боевик,драма,мелодрама</td>\n",
              "      <td>NaN</td>\n",
              "      <td>18+</td>\n",
              "    </tr>\n",
              "    <tr>\n",
              "      <th>1</th>\n",
              "      <td>Особо важное задание</td>\n",
              "      <td>111013716</td>\n",
              "      <td>2016-09-13 12:00:00+00:00</td>\n",
              "      <td>Художественный</td>\n",
              "      <td>Киностудия \"Мосфильм\"</td>\n",
              "      <td>СССР</td>\n",
              "      <td>Е.Матвеев</td>\n",
              "      <td>NaN</td>\n",
              "      <td>«6+» - для детей старше 6 лет</td>\n",
              "      <td>NaN</td>\n",
              "      <td>NaN</td>\n",
              "      <td>NaN</td>\n",
              "      <td>NaN</td>\n",
              "      <td>6.6</td>\n",
              "      <td>драма,военный</td>\n",
              "      <td>NaN</td>\n",
              "      <td>6+</td>\n",
              "    </tr>\n",
              "    <tr>\n",
              "      <th>2</th>\n",
              "      <td>Особо опасен</td>\n",
              "      <td>221038416</td>\n",
              "      <td>2016-10-10 12:00:00+00:00</td>\n",
              "      <td>Художественный</td>\n",
              "      <td>Юниверсал Пикчерз, Кикстарт Продакшнз, Марк Пл...</td>\n",
              "      <td>США</td>\n",
              "      <td>Тимур Бекмамбетов</td>\n",
              "      <td>Джим Лемли, Джейсон Нетер, Марк Е.Платт, Яйн Смит</td>\n",
              "      <td>«18+» - запрещено для детей</td>\n",
              "      <td>NaN</td>\n",
              "      <td>NaN</td>\n",
              "      <td>NaN</td>\n",
              "      <td>NaN</td>\n",
              "      <td>6.8</td>\n",
              "      <td>фантастика,боевик,триллер</td>\n",
              "      <td>NaN</td>\n",
              "      <td>18+</td>\n",
              "    </tr>\n",
              "    <tr>\n",
              "      <th>3</th>\n",
              "      <td>Особо опасен</td>\n",
              "      <td>221026916</td>\n",
              "      <td>2016-06-10 12:00:00+00:00</td>\n",
              "      <td>Художественный</td>\n",
              "      <td>Юниверсал Пикчерз, Кикстарт Продакшнз, Марк Пл...</td>\n",
              "      <td>США</td>\n",
              "      <td>Тимур Бекмамбетов</td>\n",
              "      <td>Джим Лемли, Джейсон Нетер, Марк Е.Платт, Яйн Смит</td>\n",
              "      <td>«18+» - запрещено для детей</td>\n",
              "      <td>NaN</td>\n",
              "      <td>NaN</td>\n",
              "      <td>NaN</td>\n",
              "      <td>NaN</td>\n",
              "      <td>6.8</td>\n",
              "      <td>фантастика,боевик,триллер</td>\n",
              "      <td>NaN</td>\n",
              "      <td>18+</td>\n",
              "    </tr>\n",
              "    <tr>\n",
              "      <th>4</th>\n",
              "      <td>Особо опасен</td>\n",
              "      <td>221030815</td>\n",
              "      <td>2015-07-29 12:00:00+00:00</td>\n",
              "      <td>Художественный</td>\n",
              "      <td>Юниверсал Пикчерз, Кикстарт Продакшнз, Марк Пл...</td>\n",
              "      <td>США</td>\n",
              "      <td>Тимур Бекмамбетов</td>\n",
              "      <td>Джим Лемли, Джейсон Нетер, Марк Е.Платт, Яйн Смит</td>\n",
              "      <td>«18+» - запрещено для детей</td>\n",
              "      <td>NaN</td>\n",
              "      <td>NaN</td>\n",
              "      <td>NaN</td>\n",
              "      <td>NaN</td>\n",
              "      <td>6.8</td>\n",
              "      <td>фантастика,боевик,триллер</td>\n",
              "      <td>NaN</td>\n",
              "      <td>18+</td>\n",
              "    </tr>\n",
              "  </tbody>\n",
              "</table>\n",
              "</div>"
            ],
            "text/plain": [
              "                  title   puNumber           show_start_date            type  \\\n",
              "0      Открытый простор  221048915 2015-11-27 12:00:00+00:00  Художественный   \n",
              "1  Особо важное задание  111013716 2016-09-13 12:00:00+00:00  Художественный   \n",
              "2          Особо опасен  221038416 2016-10-10 12:00:00+00:00  Художественный   \n",
              "3          Особо опасен  221026916 2016-06-10 12:00:00+00:00  Художественный   \n",
              "4          Особо опасен  221030815 2015-07-29 12:00:00+00:00  Художественный   \n",
              "\n",
              "                                         film_studio production_country  \\\n",
              "0  Тачстоун Пикчерз, Кобальт Пикчерз, Бикон Пикче...                США   \n",
              "1                              Киностудия \"Мосфильм\"               СССР   \n",
              "2  Юниверсал Пикчерз, Кикстарт Продакшнз, Марк Пл...                США   \n",
              "3  Юниверсал Пикчерз, Кикстарт Продакшнз, Марк Пл...                США   \n",
              "4  Юниверсал Пикчерз, Кикстарт Продакшнз, Марк Пл...                США   \n",
              "\n",
              "            director                                           producer  \\\n",
              "0      Кевин Костнер          Дэвид Валдес, Кевин Костнер, Джейк Эбертс   \n",
              "1          Е.Матвеев                                                NaN   \n",
              "2  Тимур Бекмамбетов  Джим Лемли, Джейсон Нетер, Марк Е.Платт, Яйн Смит   \n",
              "3  Тимур Бекмамбетов  Джим Лемли, Джейсон Нетер, Марк Е.Платт, Яйн Смит   \n",
              "4  Тимур Бекмамбетов  Джим Лемли, Джейсон Нетер, Марк Е.Платт, Яйн Смит   \n",
              "\n",
              "                 age_restriction  refundable_support  nonrefundable_support  \\\n",
              "0    «18+» - запрещено для детей                 NaN                    NaN   \n",
              "1  «6+» - для детей старше 6 лет                 NaN                    NaN   \n",
              "2    «18+» - запрещено для детей                 NaN                    NaN   \n",
              "3    «18+» - запрещено для детей                 NaN                    NaN   \n",
              "4    «18+» - запрещено для детей                 NaN                    NaN   \n",
              "\n",
              "   budget financing_source ratings                     genres  box_office  \\\n",
              "0     NaN              NaN     7.2     боевик,драма,мелодрама         NaN   \n",
              "1     NaN              NaN     6.6              драма,военный         NaN   \n",
              "2     NaN              NaN     6.8  фантастика,боевик,триллер         NaN   \n",
              "3     NaN              NaN     6.8  фантастика,боевик,триллер         NaN   \n",
              "4     NaN              NaN     6.8  фантастика,боевик,триллер         NaN   \n",
              "\n",
              "  age_cat  \n",
              "0     18+  \n",
              "1      6+  \n",
              "2     18+  \n",
              "3     18+  \n",
              "4     18+  "
            ]
          },
          "execution_count": 26,
          "metadata": {},
          "output_type": "execute_result"
        }
      ],
      "source": [
        "def age_restr_cat(row):\n",
        "    if row == '«18+» - запрещено для детей':\n",
        "        return '18+'\n",
        "    if row == '«16+» - для детей старше 16 лет':\n",
        "        return '16+'\n",
        "    if row == '«12+» - для детей старше 12 лет':\n",
        "        return '12+'\n",
        "    if row == '«6+» - для детей старше 6 лет':\n",
        "        return '6+'\n",
        "    return '0+'\n",
        "\n",
        "df['age_cat'] = df['age_restriction'].apply(age_restr_cat)\n",
        "df.head()"
      ]
    },
    {
      "cell_type": "markdown",
      "metadata": {
        "id": "ikdI9SAvMKTX"
      },
      "source": [
        "#### Вывод:\n",
        " - В столбце **type** встречались пробелы, исправили это\n",
        " - Категоризировали данные, создав столбец **age_cat**"
      ]
    },
    {
      "cell_type": "markdown",
      "metadata": {
        "id": "ye5xxU3UMKTY"
      },
      "source": [
        "Общая проблема встречается почти во всех категориальных столбцах. Почти во всех категориальных переменных есть повторяющиеся значения в совокупности с другими. Например: `драма,триллер`, `драма,военный`. В столбце **financing_source** это `Министерство культуры`, `Фонд кино`, `Министерство культуры, Фонд кино`. Это не можем исправить. Поэтому формировать категории и сравнивать мы не сможем по столбцам `film_studio`, `production_country`, `director`, `producer`, `genres` и `financing_source`."
      ]
    },
    {
      "cell_type": "markdown",
      "metadata": {
        "id": "XFSN5lrEgFyR"
      },
      "source": [
        "### Проверем количественные значения\n",
        "\n",
        "- Проверем, обнаружились ли в таких столбцах подозрительные данные. Как с такими данными лучше поступить?"
      ]
    },
    {
      "cell_type": "markdown",
      "metadata": {
        "id": "CJiSmBNoMKTZ"
      },
      "source": [
        "Посмотрим на уникальные значения столбца `ratings`"
      ]
    },
    {
      "cell_type": "code",
      "execution_count": null,
      "metadata": {
        "id": "G2ijh1dlMKTZ",
        "outputId": "c44c7b93-85e6-471d-d3ad-bd90e666c33c"
      },
      "outputs": [
        {
          "data": {
            "text/plain": [
              "array(['7.2', '6.6', '6.8', '7.7', '8.3', '8.0', '7.8', '8.1', '7.1',\n",
              "       '6.0', '7.4', '5.8', '8.7', '6.3', '6.9', '5.0', '4.3', '7.3',\n",
              "       '7.0', '6.4', nan, '8.2', '7.5', '6.7', '7.9', '5.9', '6.2', '5.6',\n",
              "       '6.5', '2.4', '7.6', '6.1', '8.6', '8.5', '8.8', '5.5', '5.1',\n",
              "       '5.7', '5.4', '99%', '4.4', '4.5', '5.3', '4.1', '8.4', '2.6',\n",
              "       '3.8', '4.6', '4.8', '4.0', '3.0', '1.6', '4.2', '5.2', '4.7',\n",
              "       '4.9', '3.9', '2.7', '3.3', '2.9', '28%', '3.7', '1.4', '3.1',\n",
              "       '97%', '3.5', '3.2', '2.8', '1.5', '2.1', '2.5', '9.2', '3.4',\n",
              "       '1.1', '3.6', '83%', '64%', '91%', '94%', '62%', '79%', '90%',\n",
              "       '19%', '88%', '1.0', '89%', '1.3', '1.9', '1.8', '1.2', '1.7',\n",
              "       '9.0', '98%', '8.9', '9.1'], dtype=object)"
            ]
          },
          "execution_count": 27,
          "metadata": {},
          "output_type": "execute_result"
        }
      ],
      "source": [
        "df['ratings'].unique()"
      ]
    },
    {
      "cell_type": "markdown",
      "metadata": {
        "id": "l3Tm70wcMKTZ"
      },
      "source": [
        "Аномальными выглядят значения с проставленными процентами, такие как `'28%', '99%'` и др, приведем их к одному виду рейтинга от 1 до 10.  \n",
        "Напишем функцию для замены.  \n",
        "И результат переведем в тип `float`."
      ]
    },
    {
      "cell_type": "code",
      "execution_count": null,
      "metadata": {
        "scrolled": true,
        "id": "-cBUOxNyMKTZ",
        "outputId": "d4aa3a29-c043-4ad3-a975-01be0155a8d5"
      },
      "outputs": [
        {
          "data": {
            "text/plain": [
              "array([7.2, 6.6, 6.8, 7.7, 8.3, 8. , 7.8, 8.1, 7.1, 6. , 7.4, 5.8, 8.7,\n",
              "       6.3, 6.9, 5. , 4.3, 7.3, 7. , 6.4, nan, 8.2, 7.5, 6.7, 7.9, 5.9,\n",
              "       6.2, 5.6, 6.5, 2.4, 7.6, 6.1, 8.6, 8.5, 8.8, 5.5, 5.1, 5.7, 5.4,\n",
              "       9.9, 4.4, 4.5, 5.3, 4.1, 8.4, 2.6, 3.8, 4.6, 4.8, 4. , 3. , 1.6,\n",
              "       4.2, 5.2, 4.7, 4.9, 3.9, 2.7, 3.3, 2.9, 2.8, 3.7, 1.4, 3.1, 9.7,\n",
              "       3.5, 3.2, 1.5, 2.1, 2.5, 9.2, 3.4, 1.1, 3.6, 9.1, 9.4, 9. , 1.9,\n",
              "       1. , 8.9, 1.3, 1.8, 1.2, 1.7, 9.8])"
            ]
          },
          "execution_count": 28,
          "metadata": {},
          "output_type": "execute_result"
        }
      ],
      "source": [
        "def remove_perc(rating):\n",
        "# print\n",
        "    if str(rating).endswith('%'):\n",
        "        return float(rating[:-1])/10\n",
        "    else:\n",
        "        return rating\n",
        "\n",
        "df['ratings'] = df['ratings'].apply(remove_perc)\n",
        "df['ratings'] = df['ratings'].astype('float64')\n",
        "df['ratings'].unique()"
      ]
    },
    {
      "cell_type": "markdown",
      "metadata": {
        "id": "M3Q0xNTHMKTa"
      },
      "source": [
        "Из исходного задания нам известно, что столбец `budget` уже включает в себя полный объём государственной поддержки. Данные в этом столбце указаны только для тех фильмов, которые получили государственную поддержку.  \n",
        "Выведем на экран таблицу, где бюджет фильмов равен 0."
      ]
    },
    {
      "cell_type": "code",
      "execution_count": null,
      "metadata": {
        "scrolled": true,
        "id": "jkZB3bR8MKTa",
        "outputId": "08c76702-c4e3-4295-8339-a0e60248fde0"
      },
      "outputs": [
        {
          "data": {
            "text/html": [
              "<div>\n",
              "<style scoped>\n",
              "    .dataframe tbody tr th:only-of-type {\n",
              "        vertical-align: middle;\n",
              "    }\n",
              "\n",
              "    .dataframe tbody tr th {\n",
              "        vertical-align: top;\n",
              "    }\n",
              "\n",
              "    .dataframe thead th {\n",
              "        text-align: right;\n",
              "    }\n",
              "</style>\n",
              "<table border=\"1\" class=\"dataframe\">\n",
              "  <thead>\n",
              "    <tr style=\"text-align: right;\">\n",
              "      <th></th>\n",
              "      <th>title</th>\n",
              "      <th>puNumber</th>\n",
              "      <th>show_start_date</th>\n",
              "      <th>type</th>\n",
              "      <th>film_studio</th>\n",
              "      <th>production_country</th>\n",
              "      <th>director</th>\n",
              "      <th>producer</th>\n",
              "      <th>age_restriction</th>\n",
              "      <th>refundable_support</th>\n",
              "      <th>nonrefundable_support</th>\n",
              "      <th>budget</th>\n",
              "      <th>financing_source</th>\n",
              "      <th>ratings</th>\n",
              "      <th>genres</th>\n",
              "      <th>box_office</th>\n",
              "      <th>age_cat</th>\n",
              "    </tr>\n",
              "  </thead>\n",
              "  <tbody>\n",
              "    <tr>\n",
              "      <th>2053</th>\n",
              "      <td>14+</td>\n",
              "      <td>111023614</td>\n",
              "      <td>2014-12-19 12:00:00+00:00</td>\n",
              "      <td>Художественный</td>\n",
              "      <td>ООО Киностудия  \"Сентябрь\"</td>\n",
              "      <td>Россия</td>\n",
              "      <td>А.Зайцев</td>\n",
              "      <td>О.Гранина, А.Зайцев</td>\n",
              "      <td>«16+» - для детей старше 16 лет</td>\n",
              "      <td>0.00</td>\n",
              "      <td>23000000.00</td>\n",
              "      <td>0.00</td>\n",
              "      <td>Министерство культуры, Фонд кино</td>\n",
              "      <td>6.60</td>\n",
              "      <td>мелодрама</td>\n",
              "      <td>10234016.10</td>\n",
              "      <td>16+</td>\n",
              "    </tr>\n",
              "    <tr>\n",
              "      <th>2058</th>\n",
              "      <td>Дуxless 2</td>\n",
              "      <td>111000415</td>\n",
              "      <td>2015-01-26 12:00:00+00:00</td>\n",
              "      <td>Художественный</td>\n",
              "      <td>ООО \"Киностудия \"Слово\", ООО \"Арт Пикчерс Студия\"</td>\n",
              "      <td>Россия</td>\n",
              "      <td>Р.Прыгунов</td>\n",
              "      <td>П.Ануров, Ф.Бондарчук, Д.Рудовский</td>\n",
              "      <td>«16+» - для детей старше 16 лет</td>\n",
              "      <td>0.00</td>\n",
              "      <td>75000000.00</td>\n",
              "      <td>0.00</td>\n",
              "      <td>Фонд кино</td>\n",
              "      <td>6.60</td>\n",
              "      <td>драма</td>\n",
              "      <td>446163511.00</td>\n",
              "      <td>16+</td>\n",
              "    </tr>\n",
              "    <tr>\n",
              "      <th>2472</th>\n",
              "      <td>Воин (2015)</td>\n",
              "      <td>111017315</td>\n",
              "      <td>2015-09-28 12:00:00+00:00</td>\n",
              "      <td>Художественный</td>\n",
              "      <td>ООО \"Форпост Продакшн\", ООО \"Арт Пикчерс Студия\"</td>\n",
              "      <td>Россия</td>\n",
              "      <td>А.Андрианов</td>\n",
              "      <td>ООО \"Арт Пикчерс Студия\"</td>\n",
              "      <td>«12+» - для детей старше 12 лет</td>\n",
              "      <td>10000000.00</td>\n",
              "      <td>70000000.00</td>\n",
              "      <td>0.00</td>\n",
              "      <td>Фонд кино</td>\n",
              "      <td>7.80</td>\n",
              "      <td>боевик,драма,криминал</td>\n",
              "      <td>196572438.40</td>\n",
              "      <td>12+</td>\n",
              "    </tr>\n",
              "    <tr>\n",
              "      <th>2532</th>\n",
              "      <td>Бармен.</td>\n",
              "      <td>111009615</td>\n",
              "      <td>2015-05-26 12:00:00+00:00</td>\n",
              "      <td>Художественный</td>\n",
              "      <td>АО \"ВайТ Медиа\", ООО \"Арт Пикчерс Студия\"</td>\n",
              "      <td>Россия</td>\n",
              "      <td>Д.Штурманова</td>\n",
              "      <td>Т.Вайнштейн</td>\n",
              "      <td>«16+» - для детей старше 16 лет</td>\n",
              "      <td>20000000.00</td>\n",
              "      <td>0.00</td>\n",
              "      <td>0.00</td>\n",
              "      <td>Фонд кино</td>\n",
              "      <td>6.20</td>\n",
              "      <td>комедия,фэнтези</td>\n",
              "      <td>67418974.80</td>\n",
              "      <td>16+</td>\n",
              "    </tr>\n",
              "    <tr>\n",
              "      <th>2615</th>\n",
              "      <td>Савва. Сердце воина</td>\n",
              "      <td>114001715</td>\n",
              "      <td>2015-07-21 12:00:00+00:00</td>\n",
              "      <td>Анимационный</td>\n",
              "      <td>ООО \"Глюкоза Продакшн\", ООО \"Арт Пикчерс Студия\"</td>\n",
              "      <td>Россия</td>\n",
              "      <td>М.Фадеев</td>\n",
              "      <td>А.Чистяков</td>\n",
              "      <td>«6+» - для детей старше 6 лет</td>\n",
              "      <td>60000000.00</td>\n",
              "      <td>100000000.00</td>\n",
              "      <td>0.00</td>\n",
              "      <td>Фонд кино</td>\n",
              "      <td>4.60</td>\n",
              "      <td>мультфильм,приключения,фэнтези</td>\n",
              "      <td>184487551.40</td>\n",
              "      <td>6+</td>\n",
              "    </tr>\n",
              "  </tbody>\n",
              "</table>\n",
              "</div>"
            ],
            "text/plain": [
              "                    title   puNumber           show_start_date  \\\n",
              "2053                  14+  111023614 2014-12-19 12:00:00+00:00   \n",
              "2058            Дуxless 2  111000415 2015-01-26 12:00:00+00:00   \n",
              "2472          Воин (2015)  111017315 2015-09-28 12:00:00+00:00   \n",
              "2532              Бармен.  111009615 2015-05-26 12:00:00+00:00   \n",
              "2615  Савва. Сердце воина  114001715 2015-07-21 12:00:00+00:00   \n",
              "\n",
              "                type                                        film_studio  \\\n",
              "2053  Художественный                         ООО Киностудия  \"Сентябрь\"   \n",
              "2058  Художественный  ООО \"Киностудия \"Слово\", ООО \"Арт Пикчерс Студия\"   \n",
              "2472  Художественный   ООО \"Форпост Продакшн\", ООО \"Арт Пикчерс Студия\"   \n",
              "2532  Художественный          АО \"ВайТ Медиа\", ООО \"Арт Пикчерс Студия\"   \n",
              "2615    Анимационный   ООО \"Глюкоза Продакшн\", ООО \"Арт Пикчерс Студия\"   \n",
              "\n",
              "     production_country      director                            producer  \\\n",
              "2053             Россия      А.Зайцев                 О.Гранина, А.Зайцев   \n",
              "2058             Россия    Р.Прыгунов  П.Ануров, Ф.Бондарчук, Д.Рудовский   \n",
              "2472             Россия   А.Андрианов            ООО \"Арт Пикчерс Студия\"   \n",
              "2532             Россия  Д.Штурманова                         Т.Вайнштейн   \n",
              "2615             Россия      М.Фадеев                          А.Чистяков   \n",
              "\n",
              "                      age_restriction  refundable_support  \\\n",
              "2053  «16+» - для детей старше 16 лет                0.00   \n",
              "2058  «16+» - для детей старше 16 лет                0.00   \n",
              "2472  «12+» - для детей старше 12 лет         10000000.00   \n",
              "2532  «16+» - для детей старше 16 лет         20000000.00   \n",
              "2615    «6+» - для детей старше 6 лет         60000000.00   \n",
              "\n",
              "      nonrefundable_support  budget                  financing_source  \\\n",
              "2053            23000000.00    0.00  Министерство культуры, Фонд кино   \n",
              "2058            75000000.00    0.00                         Фонд кино   \n",
              "2472            70000000.00    0.00                         Фонд кино   \n",
              "2532                   0.00    0.00                         Фонд кино   \n",
              "2615           100000000.00    0.00                         Фонд кино   \n",
              "\n",
              "      ratings                          genres   box_office age_cat  \n",
              "2053     6.60                       мелодрама  10234016.10     16+  \n",
              "2058     6.60                           драма 446163511.00     16+  \n",
              "2472     7.80           боевик,драма,криминал 196572438.40     12+  \n",
              "2532     6.20                 комедия,фэнтези  67418974.80     16+  \n",
              "2615     4.60  мультфильм,приключения,фэнтези 184487551.40      6+  "
            ]
          },
          "metadata": {},
          "output_type": "display_data"
        }
      ],
      "source": [
        "display(df[df['budget'] == 0].head())"
      ]
    },
    {
      "cell_type": "markdown",
      "metadata": {
        "id": "-RvQYhdtMKTa"
      },
      "source": [
        "Обнаружили, что фильмы у которых бюджет 0, но значения `refundable_support` — объём возвратных средств государственной поддержки и `nonrefundable_support` — объём невозвратных средств государственной поддержки, не равны нулю, т.е. картины которые спонсировались государством, в этих значениях бюджет 0, что не правильно, исправим это.  \n",
        "Напишем функцию, которая добавит в значения бюджета фильма сумму возвратных и не возвратных средств гос.поддержки."
      ]
    },
    {
      "cell_type": "code",
      "execution_count": null,
      "metadata": {
        "id": "r2AdsJYWMKTa"
      },
      "outputs": [],
      "source": [
        "def budget_corr(row):\n",
        "    if row['budget'] < (row['refundable_support'] + row['nonrefundable_support']):\n",
        "        return row['refundable_support'] + row['nonrefundable_support']\n",
        "    return row['budget']\n",
        "df['budget'] = df.apply(budget_corr, axis=1)"
      ]
    },
    {
      "cell_type": "markdown",
      "metadata": {
        "id": "KFiKpWV9MKTb"
      },
      "source": [
        "Проверим, остались ли записи в таблице, где значения 0 в столбце `budget`"
      ]
    },
    {
      "cell_type": "code",
      "execution_count": null,
      "metadata": {
        "id": "bQbsno8dMKTb",
        "outputId": "2e13336e-e9ec-4281-a4d7-9bf2072e22b5"
      },
      "outputs": [
        {
          "name": "stdout",
          "output_type": "stream",
          "text": [
            "Обнаружено значений: 0\n"
          ]
        }
      ],
      "source": [
        "print('Обнаружено значений:', len(df[(df['refundable_support'] + df['nonrefundable_support']) > df['budget']]))"
      ]
    },
    {
      "cell_type": "markdown",
      "metadata": {
        "id": "efn8cvfxMKTb"
      },
      "source": [
        "#### Вывод:\n",
        " - Исправили значения в столбце **ratings**\n",
        " - Добавили в значения бюджета фильма сумму возвратных и не возвратных средств гос.поддержки\n",
        "\n",
        "Возможная причина возникновения ошибочных данных в столбце **ratings** - произошло при объединении нескольких баз данных, т.к. числовые значения соседствовали с процентными значениями. В дальнейшем можно уточнить этот момент у ответственного за выгрузку данных человека."
      ]
    },
    {
      "cell_type": "markdown",
      "metadata": {
        "id": "P7vrkqY-MKTc"
      },
      "source": [
        "Посмотрим как распределены наши данные, есть ли в них аномально большие или аномально маленькие значения."
      ]
    },
    {
      "cell_type": "code",
      "execution_count": null,
      "metadata": {
        "scrolled": true,
        "id": "7Z6q0W3ZMKTc",
        "outputId": "4d674bf8-9e7f-4507-ec26-44f222b238fc"
      },
      "outputs": [
        {
          "data": {
            "text/html": [
              "<div>\n",
              "<style scoped>\n",
              "    .dataframe tbody tr th:only-of-type {\n",
              "        vertical-align: middle;\n",
              "    }\n",
              "\n",
              "    .dataframe tbody tr th {\n",
              "        vertical-align: top;\n",
              "    }\n",
              "\n",
              "    .dataframe thead th {\n",
              "        text-align: right;\n",
              "    }\n",
              "</style>\n",
              "<table border=\"1\" class=\"dataframe\">\n",
              "  <thead>\n",
              "    <tr style=\"text-align: right;\">\n",
              "      <th></th>\n",
              "      <th>refundable_support</th>\n",
              "      <th>nonrefundable_support</th>\n",
              "      <th>budget</th>\n",
              "      <th>ratings</th>\n",
              "      <th>box_office</th>\n",
              "    </tr>\n",
              "  </thead>\n",
              "  <tbody>\n",
              "    <tr>\n",
              "      <th>count</th>\n",
              "      <td>332.00</td>\n",
              "      <td>332.00</td>\n",
              "      <td>332.00</td>\n",
              "      <td>6519.00</td>\n",
              "      <td>3158.00</td>\n",
              "    </tr>\n",
              "    <tr>\n",
              "      <th>mean</th>\n",
              "      <td>11864457.83</td>\n",
              "      <td>48980988.89</td>\n",
              "      <td>131422395.80</td>\n",
              "      <td>6.49</td>\n",
              "      <td>76478696.16</td>\n",
              "    </tr>\n",
              "    <tr>\n",
              "      <th>std</th>\n",
              "      <td>24916555.26</td>\n",
              "      <td>59980117.92</td>\n",
              "      <td>187148242.67</td>\n",
              "      <td>1.11</td>\n",
              "      <td>240353122.82</td>\n",
              "    </tr>\n",
              "    <tr>\n",
              "      <th>min</th>\n",
              "      <td>0.00</td>\n",
              "      <td>0.00</td>\n",
              "      <td>6000000.00</td>\n",
              "      <td>1.00</td>\n",
              "      <td>0.00</td>\n",
              "    </tr>\n",
              "    <tr>\n",
              "      <th>25%</th>\n",
              "      <td>0.00</td>\n",
              "      <td>25000000.00</td>\n",
              "      <td>45524799.50</td>\n",
              "      <td>5.90</td>\n",
              "      <td>86239.00</td>\n",
              "    </tr>\n",
              "    <tr>\n",
              "      <th>50%</th>\n",
              "      <td>0.00</td>\n",
              "      <td>30000000.00</td>\n",
              "      <td>71196901.50</td>\n",
              "      <td>6.60</td>\n",
              "      <td>2327987.55</td>\n",
              "    </tr>\n",
              "    <tr>\n",
              "      <th>75%</th>\n",
              "      <td>15000000.00</td>\n",
              "      <td>40375000.00</td>\n",
              "      <td>150000000.00</td>\n",
              "      <td>7.20</td>\n",
              "      <td>23979671.02</td>\n",
              "    </tr>\n",
              "    <tr>\n",
              "      <th>max</th>\n",
              "      <td>180000000.00</td>\n",
              "      <td>400000000.00</td>\n",
              "      <td>2305074303.00</td>\n",
              "      <td>9.90</td>\n",
              "      <td>3073568690.79</td>\n",
              "    </tr>\n",
              "  </tbody>\n",
              "</table>\n",
              "</div>"
            ],
            "text/plain": [
              "       refundable_support  nonrefundable_support        budget  ratings  \\\n",
              "count              332.00                 332.00        332.00  6519.00   \n",
              "mean          11864457.83            48980988.89  131422395.80     6.49   \n",
              "std           24916555.26            59980117.92  187148242.67     1.11   \n",
              "min                  0.00                   0.00    6000000.00     1.00   \n",
              "25%                  0.00            25000000.00   45524799.50     5.90   \n",
              "50%                  0.00            30000000.00   71196901.50     6.60   \n",
              "75%           15000000.00            40375000.00  150000000.00     7.20   \n",
              "max          180000000.00           400000000.00 2305074303.00     9.90   \n",
              "\n",
              "         box_office  \n",
              "count       3158.00  \n",
              "mean    76478696.16  \n",
              "std    240353122.82  \n",
              "min            0.00  \n",
              "25%        86239.00  \n",
              "50%      2327987.55  \n",
              "75%     23979671.02  \n",
              "max   3073568690.79  "
            ]
          },
          "execution_count": 32,
          "metadata": {},
          "output_type": "execute_result"
        }
      ],
      "source": [
        "df.describe()"
      ]
    },
    {
      "cell_type": "markdown",
      "metadata": {
        "id": "JOwH_TCGMKTc"
      },
      "source": [
        "Напишем функцию для визуализации того как распределены данные, строит диаграммы размаха и гистограмму."
      ]
    },
    {
      "cell_type": "code",
      "execution_count": null,
      "metadata": {
        "scrolled": false,
        "id": "2zmbXXSjMKTc",
        "outputId": "217ce71a-f048-4934-b0a0-0b90b0e8c18e"
      },
      "outputs": [
        {
          "data": {
            "image/png": "[encoded data removed]",
            "text/plain": [
              "<Figure size 1152x648 with 1 Axes>"
            ]
          },
          "metadata": {},
          "output_type": "display_data"
        },
        {
          "data": {
            "image/png": "[encoded data removed]",
            "text/plain": [
              "<Figure size 1152x216 with 1 Axes>"
            ]
          },
          "metadata": {},
          "output_type": "display_data"
        }
      ],
      "source": [
        "def descr_numeric(target_column):  # аргумент функции название столбца\n",
        "    df.boxplot(column=target_column, figsize=(16,9));\n",
        "    plt.show()\n",
        "    df[target_column].hist(figsize=(16,3), bins=100);\n",
        "\n",
        "descr_numeric('refundable_support')"
      ]
    },
    {
      "cell_type": "code",
      "execution_count": null,
      "metadata": {
        "scrolled": false,
        "id": "p5vO-GGiMKTc",
        "outputId": "89ac3276-a251-4d63-a5d7-94e91b1aa51c"
      },
      "outputs": [
        {
          "data": {
            "image/png": "[encoded data removed]",
            "text/plain": [
              "<Figure size 1152x648 with 1 Axes>"
            ]
          },
          "metadata": {},
          "output_type": "display_data"
        },
        {
          "data": {
            "image/png": "[encoded data removed]",
            "text/plain": [
              "<Figure size 1152x216 with 1 Axes>"
            ]
          },
          "metadata": {},
          "output_type": "display_data"
        }
      ],
      "source": [
        "def descr_numeric(target_column):  # аргумент функции название столбца\n",
        "    df.boxplot(column=target_column, figsize=(16,9));\n",
        "    plt.title('ndkjf {}'.format(target_column))\n",
        "    plt.show()\n",
        "    df[target_column].hist(figsize=(16,3), bins=100);\n",
        "\n",
        "descr_numeric('refundable_support')"
      ]
    },
    {
      "cell_type": "markdown",
      "metadata": {
        "id": "ZVwS2VKMMKTd"
      },
      "source": [
        "Очень много нулевых значений, а так же анамально большие значения (выбросы) 180000000 рублей.  \n",
        "Взглянем на значения от 1 до 60000000 рублей"
      ]
    },
    {
      "cell_type": "code",
      "execution_count": null,
      "metadata": {
        "scrolled": false,
        "id": "VYVrqcCQMKTd",
        "outputId": "97b9c2bd-fb0a-44c4-d94c-bfeb8921a147"
      },
      "outputs": [
        {
          "data": {
            "image/png": "[encoded data removed]",
            "text/plain": [
              "<Figure size 1152x648 with 1 Axes>"
            ]
          },
          "metadata": {},
          "output_type": "display_data"
        }
      ],
      "source": [
        "basket = 100\n",
        "df.hist('refundable_support', bins=basket, figsize=(16,9), range=(1, 60000000));"
      ]
    },
    {
      "cell_type": "markdown",
      "metadata": {
        "id": "JkEJTtzcMKTd"
      },
      "source": [
        "Вглянем на значения в столбце **nonrefundable_support**"
      ]
    },
    {
      "cell_type": "code",
      "execution_count": null,
      "metadata": {
        "scrolled": false,
        "id": "WfwiYpRhMKTd",
        "outputId": "dd6ec5d4-9169-420a-b25e-f544b9245aab"
      },
      "outputs": [
        {
          "data": {
            "image/png": "[encoded data removed]",
            "text/plain": [
              "<Figure size 1152x648 with 1 Axes>"
            ]
          },
          "metadata": {},
          "output_type": "display_data"
        },
        {
          "data": {
            "image/png": "[encoded data removed]",
            "text/plain": [
              "<Figure size 1152x216 with 1 Axes>"
            ]
          },
          "metadata": {},
          "output_type": "display_data"
        }
      ],
      "source": [
        "descr_numeric('nonrefundable_support')"
      ]
    },
    {
      "cell_type": "markdown",
      "metadata": {
        "id": "6fKcWEwuMKTd"
      },
      "source": [
        "Присутствуют нулевые значения, выбросы 400 млн рублей. Посмотрим значения от 1 до 100 млн. рублей"
      ]
    },
    {
      "cell_type": "code",
      "execution_count": null,
      "metadata": {
        "scrolled": false,
        "id": "_edLkebYMKTd",
        "outputId": "2f1fa0de-684a-4708-ecad-db6fda132c6c"
      },
      "outputs": [
        {
          "data": {
            "image/png": "[encoded data removed]",
            "text/plain": [
              "<Figure size 1152x648 with 1 Axes>"
            ]
          },
          "metadata": {},
          "output_type": "display_data"
        }
      ],
      "source": [
        "basket = 100\n",
        "df.hist('nonrefundable_support', bins=basket, figsize=(16,9), range=(1, 100000000));"
      ]
    },
    {
      "cell_type": "markdown",
      "metadata": {
        "id": "infqkvXWMKTe"
      },
      "source": [
        "Вглянем на значения в столбце **budget**"
      ]
    },
    {
      "cell_type": "code",
      "execution_count": null,
      "metadata": {
        "id": "mDCMzDbeMKTe",
        "outputId": "80e4ae92-589d-4a8c-926f-b5e38639bd57"
      },
      "outputs": [
        {
          "data": {
            "image/png": "[encoded data removed]",
            "text/plain": [
              "<Figure size 1152x648 with 1 Axes>"
            ]
          },
          "metadata": {},
          "output_type": "display_data"
        },
        {
          "data": {
            "image/png": "[encoded data removed]",
            "text/plain": [
              "<Figure size 1152x216 with 1 Axes>"
            ]
          },
          "metadata": {},
          "output_type": "display_data"
        }
      ],
      "source": [
        "descr_numeric('budget')"
      ]
    },
    {
      "cell_type": "markdown",
      "metadata": {
        "id": "pwSDwu7UMKTe"
      },
      "source": [
        "Есть выбросы, 2 млрд.305 млн. Посмотрим значения от 0 до 200 млн. рублей"
      ]
    },
    {
      "cell_type": "code",
      "execution_count": null,
      "metadata": {
        "id": "ORHKTQg1MKTe",
        "outputId": "d2601658-f46f-4aa0-95ce-8c81c1f165ce"
      },
      "outputs": [
        {
          "data": {
            "image/png": "[encoded data removed]",
            "text/plain": [
              "<Figure size 1152x648 with 1 Axes>"
            ]
          },
          "metadata": {},
          "output_type": "display_data"
        }
      ],
      "source": [
        "basket = 100\n",
        "df.hist('budget', bins=basket, figsize=(16,9), range=(0, 200000000));"
      ]
    },
    {
      "cell_type": "code",
      "execution_count": null,
      "metadata": {
        "scrolled": false,
        "id": "TI2Nmh30MKTe",
        "outputId": "f73972d5-8f6c-4dfb-fa2e-ad41dbb13b32"
      },
      "outputs": [
        {
          "data": {
            "image/png": "[encoded data removed]",
            "text/plain": [
              "<Figure size 1152x648 with 1 Axes>"
            ]
          },
          "metadata": {},
          "output_type": "display_data"
        },
        {
          "data": {
            "image/png": "[encoded data removed]",
            "text/plain": [
              "<Figure size 1152x216 with 1 Axes>"
            ]
          },
          "metadata": {},
          "output_type": "display_data"
        }
      ],
      "source": [
        "descr_numeric('ratings')"
      ]
    },
    {
      "cell_type": "markdown",
      "metadata": {
        "id": "o6_SY94PMKTf"
      },
      "source": [
        "Значения в столбце рейтинг распределены равномерно, выбросов нету, основные оценки в диапазоне 5.9 - 7.5"
      ]
    },
    {
      "cell_type": "code",
      "execution_count": null,
      "metadata": {
        "id": "Thf289JHMKTf",
        "outputId": "0038e5d3-1af7-45bc-8c00-2a798debe390"
      },
      "outputs": [
        {
          "data": {
            "image/png": "[encoded data removed]",
            "text/plain": [
              "<Figure size 1152x648 with 1 Axes>"
            ]
          },
          "metadata": {},
          "output_type": "display_data"
        },
        {
          "data": {
            "image/png": "[encoded data removed]",
            "text/plain": [
              "<Figure size 1152x216 with 1 Axes>"
            ]
          },
          "metadata": {},
          "output_type": "display_data"
        }
      ],
      "source": [
        "descr_numeric('box_office')"
      ]
    },
    {
      "cell_type": "code",
      "execution_count": null,
      "metadata": {
        "id": "Vh8uVNzgMKTf",
        "outputId": "870b69ac-253b-4c02-86cd-37d1d0276c14"
      },
      "outputs": [
        {
          "data": {
            "image/png": "[encoded data removed]",
            "text/plain": [
              "<Figure size 1152x648 with 1 Axes>"
            ]
          },
          "metadata": {},
          "output_type": "display_data"
        }
      ],
      "source": [
        "basket = 100\n",
        "df.hist('budget', bins=basket, figsize=(16,9), range=(1, 1000000000));"
      ]
    },
    {
      "cell_type": "markdown",
      "metadata": {
        "id": "Ci4w9QI0MKTf"
      },
      "source": [
        "Анализ распределения данных во всех количественных столбцах: `refundable_support`, `nonrefundable_support`, `budget`, `ratings`, `box_office` показал, что выбросов мало, ими можно принебречь при проведении дальнейших исследований."
      ]
    },
    {
      "cell_type": "markdown",
      "metadata": {
        "id": "Eu6oWp2CgFyS"
      },
      "source": [
        "### Добавим новые столбцы\n",
        "\n",
        "\n",
        "\n"
      ]
    },
    {
      "cell_type": "markdown",
      "metadata": {
        "id": "7GgW-UpAgFyS"
      },
      "source": [
        "- Создадим столбец с информацией о годе проката. Выделим год из даты премьеры фильма."
      ]
    },
    {
      "cell_type": "markdown",
      "metadata": {
        "id": "AXs65R2PMKTg"
      },
      "source": [
        "Создадим столбец с информацией о годе проката и назовем его **show_start_year**"
      ]
    },
    {
      "cell_type": "code",
      "execution_count": null,
      "metadata": {
        "id": "I-yd1DkWgFyT",
        "outputId": "896df09b-cdfd-4c65-df7e-412fd6a74d0b"
      },
      "outputs": [
        {
          "data": {
            "text/html": [
              "<div>\n",
              "<style scoped>\n",
              "    .dataframe tbody tr th:only-of-type {\n",
              "        vertical-align: middle;\n",
              "    }\n",
              "\n",
              "    .dataframe tbody tr th {\n",
              "        vertical-align: top;\n",
              "    }\n",
              "\n",
              "    .dataframe thead th {\n",
              "        text-align: right;\n",
              "    }\n",
              "</style>\n",
              "<table border=\"1\" class=\"dataframe\">\n",
              "  <thead>\n",
              "    <tr style=\"text-align: right;\">\n",
              "      <th></th>\n",
              "      <th>title</th>\n",
              "      <th>puNumber</th>\n",
              "      <th>show_start_date</th>\n",
              "      <th>type</th>\n",
              "      <th>film_studio</th>\n",
              "      <th>production_country</th>\n",
              "      <th>director</th>\n",
              "      <th>producer</th>\n",
              "      <th>age_restriction</th>\n",
              "      <th>refundable_support</th>\n",
              "      <th>nonrefundable_support</th>\n",
              "      <th>budget</th>\n",
              "      <th>financing_source</th>\n",
              "      <th>ratings</th>\n",
              "      <th>genres</th>\n",
              "      <th>box_office</th>\n",
              "      <th>age_cat</th>\n",
              "      <th>show_start_year</th>\n",
              "    </tr>\n",
              "  </thead>\n",
              "  <tbody>\n",
              "    <tr>\n",
              "      <th>0</th>\n",
              "      <td>Открытый простор</td>\n",
              "      <td>221048915</td>\n",
              "      <td>2015-11-27 12:00:00+00:00</td>\n",
              "      <td>Художественный</td>\n",
              "      <td>Тачстоун Пикчерз, Кобальт Пикчерз, Бикон Пикче...</td>\n",
              "      <td>США</td>\n",
              "      <td>Кевин Костнер</td>\n",
              "      <td>Дэвид Валдес, Кевин Костнер, Джейк Эбертс</td>\n",
              "      <td>«18+» - запрещено для детей</td>\n",
              "      <td>NaN</td>\n",
              "      <td>NaN</td>\n",
              "      <td>NaN</td>\n",
              "      <td>NaN</td>\n",
              "      <td>7.20</td>\n",
              "      <td>боевик,драма,мелодрама</td>\n",
              "      <td>NaN</td>\n",
              "      <td>18+</td>\n",
              "      <td>2015</td>\n",
              "    </tr>\n",
              "    <tr>\n",
              "      <th>1</th>\n",
              "      <td>Особо важное задание</td>\n",
              "      <td>111013716</td>\n",
              "      <td>2016-09-13 12:00:00+00:00</td>\n",
              "      <td>Художественный</td>\n",
              "      <td>Киностудия \"Мосфильм\"</td>\n",
              "      <td>СССР</td>\n",
              "      <td>Е.Матвеев</td>\n",
              "      <td>NaN</td>\n",
              "      <td>«6+» - для детей старше 6 лет</td>\n",
              "      <td>NaN</td>\n",
              "      <td>NaN</td>\n",
              "      <td>NaN</td>\n",
              "      <td>NaN</td>\n",
              "      <td>6.60</td>\n",
              "      <td>драма,военный</td>\n",
              "      <td>NaN</td>\n",
              "      <td>6+</td>\n",
              "      <td>2016</td>\n",
              "    </tr>\n",
              "    <tr>\n",
              "      <th>2</th>\n",
              "      <td>Особо опасен</td>\n",
              "      <td>221038416</td>\n",
              "      <td>2016-10-10 12:00:00+00:00</td>\n",
              "      <td>Художественный</td>\n",
              "      <td>Юниверсал Пикчерз, Кикстарт Продакшнз, Марк Пл...</td>\n",
              "      <td>США</td>\n",
              "      <td>Тимур Бекмамбетов</td>\n",
              "      <td>Джим Лемли, Джейсон Нетер, Марк Е.Платт, Яйн Смит</td>\n",
              "      <td>«18+» - запрещено для детей</td>\n",
              "      <td>NaN</td>\n",
              "      <td>NaN</td>\n",
              "      <td>NaN</td>\n",
              "      <td>NaN</td>\n",
              "      <td>6.80</td>\n",
              "      <td>фантастика,боевик,триллер</td>\n",
              "      <td>NaN</td>\n",
              "      <td>18+</td>\n",
              "      <td>2016</td>\n",
              "    </tr>\n",
              "    <tr>\n",
              "      <th>3</th>\n",
              "      <td>Особо опасен</td>\n",
              "      <td>221026916</td>\n",
              "      <td>2016-06-10 12:00:00+00:00</td>\n",
              "      <td>Художественный</td>\n",
              "      <td>Юниверсал Пикчерз, Кикстарт Продакшнз, Марк Пл...</td>\n",
              "      <td>США</td>\n",
              "      <td>Тимур Бекмамбетов</td>\n",
              "      <td>Джим Лемли, Джейсон Нетер, Марк Е.Платт, Яйн Смит</td>\n",
              "      <td>«18+» - запрещено для детей</td>\n",
              "      <td>NaN</td>\n",
              "      <td>NaN</td>\n",
              "      <td>NaN</td>\n",
              "      <td>NaN</td>\n",
              "      <td>6.80</td>\n",
              "      <td>фантастика,боевик,триллер</td>\n",
              "      <td>NaN</td>\n",
              "      <td>18+</td>\n",
              "      <td>2016</td>\n",
              "    </tr>\n",
              "    <tr>\n",
              "      <th>4</th>\n",
              "      <td>Особо опасен</td>\n",
              "      <td>221030815</td>\n",
              "      <td>2015-07-29 12:00:00+00:00</td>\n",
              "      <td>Художественный</td>\n",
              "      <td>Юниверсал Пикчерз, Кикстарт Продакшнз, Марк Пл...</td>\n",
              "      <td>США</td>\n",
              "      <td>Тимур Бекмамбетов</td>\n",
              "      <td>Джим Лемли, Джейсон Нетер, Марк Е.Платт, Яйн Смит</td>\n",
              "      <td>«18+» - запрещено для детей</td>\n",
              "      <td>NaN</td>\n",
              "      <td>NaN</td>\n",
              "      <td>NaN</td>\n",
              "      <td>NaN</td>\n",
              "      <td>6.80</td>\n",
              "      <td>фантастика,боевик,триллер</td>\n",
              "      <td>NaN</td>\n",
              "      <td>18+</td>\n",
              "      <td>2015</td>\n",
              "    </tr>\n",
              "  </tbody>\n",
              "</table>\n",
              "</div>"
            ],
            "text/plain": [
              "                  title   puNumber           show_start_date            type  \\\n",
              "0      Открытый простор  221048915 2015-11-27 12:00:00+00:00  Художественный   \n",
              "1  Особо важное задание  111013716 2016-09-13 12:00:00+00:00  Художественный   \n",
              "2          Особо опасен  221038416 2016-10-10 12:00:00+00:00  Художественный   \n",
              "3          Особо опасен  221026916 2016-06-10 12:00:00+00:00  Художественный   \n",
              "4          Особо опасен  221030815 2015-07-29 12:00:00+00:00  Художественный   \n",
              "\n",
              "                                         film_studio production_country  \\\n",
              "0  Тачстоун Пикчерз, Кобальт Пикчерз, Бикон Пикче...                США   \n",
              "1                              Киностудия \"Мосфильм\"               СССР   \n",
              "2  Юниверсал Пикчерз, Кикстарт Продакшнз, Марк Пл...                США   \n",
              "3  Юниверсал Пикчерз, Кикстарт Продакшнз, Марк Пл...                США   \n",
              "4  Юниверсал Пикчерз, Кикстарт Продакшнз, Марк Пл...                США   \n",
              "\n",
              "            director                                           producer  \\\n",
              "0      Кевин Костнер          Дэвид Валдес, Кевин Костнер, Джейк Эбертс   \n",
              "1          Е.Матвеев                                                NaN   \n",
              "2  Тимур Бекмамбетов  Джим Лемли, Джейсон Нетер, Марк Е.Платт, Яйн Смит   \n",
              "3  Тимур Бекмамбетов  Джим Лемли, Джейсон Нетер, Марк Е.Платт, Яйн Смит   \n",
              "4  Тимур Бекмамбетов  Джим Лемли, Джейсон Нетер, Марк Е.Платт, Яйн Смит   \n",
              "\n",
              "                 age_restriction  refundable_support  nonrefundable_support  \\\n",
              "0    «18+» - запрещено для детей                 NaN                    NaN   \n",
              "1  «6+» - для детей старше 6 лет                 NaN                    NaN   \n",
              "2    «18+» - запрещено для детей                 NaN                    NaN   \n",
              "3    «18+» - запрещено для детей                 NaN                    NaN   \n",
              "4    «18+» - запрещено для детей                 NaN                    NaN   \n",
              "\n",
              "   budget financing_source  ratings                     genres  box_office  \\\n",
              "0     NaN              NaN     7.20     боевик,драма,мелодрама         NaN   \n",
              "1     NaN              NaN     6.60              драма,военный         NaN   \n",
              "2     NaN              NaN     6.80  фантастика,боевик,триллер         NaN   \n",
              "3     NaN              NaN     6.80  фантастика,боевик,триллер         NaN   \n",
              "4     NaN              NaN     6.80  фантастика,боевик,триллер         NaN   \n",
              "\n",
              "  age_cat  show_start_year  \n",
              "0     18+             2015  \n",
              "1      6+             2016  \n",
              "2     18+             2016  \n",
              "3     18+             2016  \n",
              "4     18+             2015  "
            ]
          },
          "execution_count": 43,
          "metadata": {},
          "output_type": "execute_result"
        }
      ],
      "source": [
        "df['show_start_year'] = df['show_start_date'].dt.year\n",
        "df.head()"
      ]
    },
    {
      "cell_type": "markdown",
      "metadata": {
        "id": "nFTDLDYOgFyT"
      },
      "source": [
        "- Создадим два столбца: с именем и фамилией главного режиссёра и основным жанром фильма. В столбцы войдут первые значения из списка режиссёров и жанров соответственно."
      ]
    },
    {
      "cell_type": "markdown",
      "metadata": {
        "id": "srIjMwBGMKTh"
      },
      "source": [
        "Создадим функцию, которая берет первое значение из текста до запятой."
      ]
    },
    {
      "cell_type": "code",
      "execution_count": null,
      "metadata": {
        "id": "LSbRZKbMgFyU"
      },
      "outputs": [],
      "source": [
        "def get_first_value(string, sep = ','):\n",
        "    value_list = string.split(sep=sep)\n",
        "    return value_list[0]"
      ]
    },
    {
      "cell_type": "markdown",
      "metadata": {
        "id": "KupFsvwfMKTh"
      },
      "source": [
        "Создадим столбцы с именем и фамилией главного режиссёра **main_director** и основным жанром фильма **main_genre** и выведем первые значения обновленной таблицы."
      ]
    },
    {
      "cell_type": "code",
      "execution_count": null,
      "metadata": {
        "scrolled": false,
        "id": "5zz68s1cMKTh",
        "outputId": "7ecb6117-a45b-460a-d7af-8c21a5ca0cdb"
      },
      "outputs": [
        {
          "data": {
            "text/html": [
              "<div>\n",
              "<style scoped>\n",
              "    .dataframe tbody tr th:only-of-type {\n",
              "        vertical-align: middle;\n",
              "    }\n",
              "\n",
              "    .dataframe tbody tr th {\n",
              "        vertical-align: top;\n",
              "    }\n",
              "\n",
              "    .dataframe thead th {\n",
              "        text-align: right;\n",
              "    }\n",
              "</style>\n",
              "<table border=\"1\" class=\"dataframe\">\n",
              "  <thead>\n",
              "    <tr style=\"text-align: right;\">\n",
              "      <th></th>\n",
              "      <th>title</th>\n",
              "      <th>puNumber</th>\n",
              "      <th>show_start_date</th>\n",
              "      <th>type</th>\n",
              "      <th>film_studio</th>\n",
              "      <th>production_country</th>\n",
              "      <th>director</th>\n",
              "      <th>producer</th>\n",
              "      <th>age_restriction</th>\n",
              "      <th>refundable_support</th>\n",
              "      <th>nonrefundable_support</th>\n",
              "      <th>budget</th>\n",
              "      <th>financing_source</th>\n",
              "      <th>ratings</th>\n",
              "      <th>genres</th>\n",
              "      <th>box_office</th>\n",
              "      <th>age_cat</th>\n",
              "      <th>show_start_year</th>\n",
              "      <th>main_director</th>\n",
              "      <th>main_genre</th>\n",
              "    </tr>\n",
              "  </thead>\n",
              "  <tbody>\n",
              "    <tr>\n",
              "      <th>0</th>\n",
              "      <td>Открытый простор</td>\n",
              "      <td>221048915</td>\n",
              "      <td>2015-11-27 12:00:00+00:00</td>\n",
              "      <td>Художественный</td>\n",
              "      <td>Тачстоун Пикчерз, Кобальт Пикчерз, Бикон Пикче...</td>\n",
              "      <td>США</td>\n",
              "      <td>Кевин Костнер</td>\n",
              "      <td>Дэвид Валдес, Кевин Костнер, Джейк Эбертс</td>\n",
              "      <td>«18+» - запрещено для детей</td>\n",
              "      <td>NaN</td>\n",
              "      <td>NaN</td>\n",
              "      <td>NaN</td>\n",
              "      <td>NaN</td>\n",
              "      <td>7.20</td>\n",
              "      <td>боевик,драма,мелодрама</td>\n",
              "      <td>NaN</td>\n",
              "      <td>18+</td>\n",
              "      <td>2015</td>\n",
              "      <td>Кевин Костнер</td>\n",
              "      <td>боевик</td>\n",
              "    </tr>\n",
              "    <tr>\n",
              "      <th>1</th>\n",
              "      <td>Особо важное задание</td>\n",
              "      <td>111013716</td>\n",
              "      <td>2016-09-13 12:00:00+00:00</td>\n",
              "      <td>Художественный</td>\n",
              "      <td>Киностудия \"Мосфильм\"</td>\n",
              "      <td>СССР</td>\n",
              "      <td>Е.Матвеев</td>\n",
              "      <td>NaN</td>\n",
              "      <td>«6+» - для детей старше 6 лет</td>\n",
              "      <td>NaN</td>\n",
              "      <td>NaN</td>\n",
              "      <td>NaN</td>\n",
              "      <td>NaN</td>\n",
              "      <td>6.60</td>\n",
              "      <td>драма,военный</td>\n",
              "      <td>NaN</td>\n",
              "      <td>6+</td>\n",
              "      <td>2016</td>\n",
              "      <td>Е.Матвеев</td>\n",
              "      <td>драма</td>\n",
              "    </tr>\n",
              "    <tr>\n",
              "      <th>2</th>\n",
              "      <td>Особо опасен</td>\n",
              "      <td>221038416</td>\n",
              "      <td>2016-10-10 12:00:00+00:00</td>\n",
              "      <td>Художественный</td>\n",
              "      <td>Юниверсал Пикчерз, Кикстарт Продакшнз, Марк Пл...</td>\n",
              "      <td>США</td>\n",
              "      <td>Тимур Бекмамбетов</td>\n",
              "      <td>Джим Лемли, Джейсон Нетер, Марк Е.Платт, Яйн Смит</td>\n",
              "      <td>«18+» - запрещено для детей</td>\n",
              "      <td>NaN</td>\n",
              "      <td>NaN</td>\n",
              "      <td>NaN</td>\n",
              "      <td>NaN</td>\n",
              "      <td>6.80</td>\n",
              "      <td>фантастика,боевик,триллер</td>\n",
              "      <td>NaN</td>\n",
              "      <td>18+</td>\n",
              "      <td>2016</td>\n",
              "      <td>Тимур Бекмамбетов</td>\n",
              "      <td>фантастика</td>\n",
              "    </tr>\n",
              "    <tr>\n",
              "      <th>3</th>\n",
              "      <td>Особо опасен</td>\n",
              "      <td>221026916</td>\n",
              "      <td>2016-06-10 12:00:00+00:00</td>\n",
              "      <td>Художественный</td>\n",
              "      <td>Юниверсал Пикчерз, Кикстарт Продакшнз, Марк Пл...</td>\n",
              "      <td>США</td>\n",
              "      <td>Тимур Бекмамбетов</td>\n",
              "      <td>Джим Лемли, Джейсон Нетер, Марк Е.Платт, Яйн Смит</td>\n",
              "      <td>«18+» - запрещено для детей</td>\n",
              "      <td>NaN</td>\n",
              "      <td>NaN</td>\n",
              "      <td>NaN</td>\n",
              "      <td>NaN</td>\n",
              "      <td>6.80</td>\n",
              "      <td>фантастика,боевик,триллер</td>\n",
              "      <td>NaN</td>\n",
              "      <td>18+</td>\n",
              "      <td>2016</td>\n",
              "      <td>Тимур Бекмамбетов</td>\n",
              "      <td>фантастика</td>\n",
              "    </tr>\n",
              "    <tr>\n",
              "      <th>4</th>\n",
              "      <td>Особо опасен</td>\n",
              "      <td>221030815</td>\n",
              "      <td>2015-07-29 12:00:00+00:00</td>\n",
              "      <td>Художественный</td>\n",
              "      <td>Юниверсал Пикчерз, Кикстарт Продакшнз, Марк Пл...</td>\n",
              "      <td>США</td>\n",
              "      <td>Тимур Бекмамбетов</td>\n",
              "      <td>Джим Лемли, Джейсон Нетер, Марк Е.Платт, Яйн Смит</td>\n",
              "      <td>«18+» - запрещено для детей</td>\n",
              "      <td>NaN</td>\n",
              "      <td>NaN</td>\n",
              "      <td>NaN</td>\n",
              "      <td>NaN</td>\n",
              "      <td>6.80</td>\n",
              "      <td>фантастика,боевик,триллер</td>\n",
              "      <td>NaN</td>\n",
              "      <td>18+</td>\n",
              "      <td>2015</td>\n",
              "      <td>Тимур Бекмамбетов</td>\n",
              "      <td>фантастика</td>\n",
              "    </tr>\n",
              "  </tbody>\n",
              "</table>\n",
              "</div>"
            ],
            "text/plain": [
              "                  title   puNumber           show_start_date            type  \\\n",
              "0      Открытый простор  221048915 2015-11-27 12:00:00+00:00  Художественный   \n",
              "1  Особо важное задание  111013716 2016-09-13 12:00:00+00:00  Художественный   \n",
              "2          Особо опасен  221038416 2016-10-10 12:00:00+00:00  Художественный   \n",
              "3          Особо опасен  221026916 2016-06-10 12:00:00+00:00  Художественный   \n",
              "4          Особо опасен  221030815 2015-07-29 12:00:00+00:00  Художественный   \n",
              "\n",
              "                                         film_studio production_country  \\\n",
              "0  Тачстоун Пикчерз, Кобальт Пикчерз, Бикон Пикче...                США   \n",
              "1                              Киностудия \"Мосфильм\"               СССР   \n",
              "2  Юниверсал Пикчерз, Кикстарт Продакшнз, Марк Пл...                США   \n",
              "3  Юниверсал Пикчерз, Кикстарт Продакшнз, Марк Пл...                США   \n",
              "4  Юниверсал Пикчерз, Кикстарт Продакшнз, Марк Пл...                США   \n",
              "\n",
              "            director                                           producer  \\\n",
              "0      Кевин Костнер          Дэвид Валдес, Кевин Костнер, Джейк Эбертс   \n",
              "1          Е.Матвеев                                                NaN   \n",
              "2  Тимур Бекмамбетов  Джим Лемли, Джейсон Нетер, Марк Е.Платт, Яйн Смит   \n",
              "3  Тимур Бекмамбетов  Джим Лемли, Джейсон Нетер, Марк Е.Платт, Яйн Смит   \n",
              "4  Тимур Бекмамбетов  Джим Лемли, Джейсон Нетер, Марк Е.Платт, Яйн Смит   \n",
              "\n",
              "                 age_restriction  refundable_support  nonrefundable_support  \\\n",
              "0    «18+» - запрещено для детей                 NaN                    NaN   \n",
              "1  «6+» - для детей старше 6 лет                 NaN                    NaN   \n",
              "2    «18+» - запрещено для детей                 NaN                    NaN   \n",
              "3    «18+» - запрещено для детей                 NaN                    NaN   \n",
              "4    «18+» - запрещено для детей                 NaN                    NaN   \n",
              "\n",
              "   budget financing_source  ratings                     genres  box_office  \\\n",
              "0     NaN              NaN     7.20     боевик,драма,мелодрама         NaN   \n",
              "1     NaN              NaN     6.60              драма,военный         NaN   \n",
              "2     NaN              NaN     6.80  фантастика,боевик,триллер         NaN   \n",
              "3     NaN              NaN     6.80  фантастика,боевик,триллер         NaN   \n",
              "4     NaN              NaN     6.80  фантастика,боевик,триллер         NaN   \n",
              "\n",
              "  age_cat  show_start_year      main_director  main_genre  \n",
              "0     18+             2015      Кевин Костнер      боевик  \n",
              "1      6+             2016          Е.Матвеев       драма  \n",
              "2     18+             2016  Тимур Бекмамбетов  фантастика  \n",
              "3     18+             2016  Тимур Бекмамбетов  фантастика  \n",
              "4     18+             2015  Тимур Бекмамбетов  фантастика  "
            ]
          },
          "execution_count": 45,
          "metadata": {},
          "output_type": "execute_result"
        }
      ],
      "source": [
        "df['main_director'] = df[df['director'].isnull() == False]['director'].apply(get_first_value)\n",
        "df['main_genre'] = df[df['genres'].isnull() == False]['genres'].apply(get_first_value)\n",
        "df.head()"
      ]
    },
    {
      "cell_type": "markdown",
      "metadata": {
        "id": "1FsCXHwdgFyU"
      },
      "source": [
        "- Посчитайте, какую долю от общего бюджета фильма составляет государственная поддержка."
      ]
    },
    {
      "cell_type": "markdown",
      "metadata": {
        "id": "xrcOfcDnMKTi"
      },
      "source": [
        "Создадим столбец показывающий какую долю от общего бюджета фильма составляет государственная поддержка, назовем его **perc_gov_sup**"
      ]
    },
    {
      "cell_type": "code",
      "execution_count": null,
      "metadata": {
        "id": "LV6qFuZLgFyV"
      },
      "outputs": [],
      "source": [
        "df['perc_gov_sup'] = (df['refundable_support'] + df['nonrefundable_support']) / df['budget']"
      ]
    },
    {
      "cell_type": "markdown",
      "metadata": {
        "id": "C333VVcIMKTi"
      },
      "source": [
        "#### Вывод:\n",
        "- Создали столбец с информацией о годе проката и назвали его **show_start_year**\n",
        "- Создали столбцы с именем и фамилией главного режиссёра **main_director** и основным жанром фильма **main_genre**\n",
        "- Создали столбец показывающий какую долю от общего бюджета фильма составляет государственная поддержка, **perc_gov_sup**"
      ]
    },
    {
      "cell_type": "markdown",
      "metadata": {
        "id": "6t4EukPLgFyV"
      },
      "source": [
        "## Проведем исследовательский анализ данных\n"
      ]
    },
    {
      "cell_type": "markdown",
      "metadata": {
        "id": "vAH8WCzugFyV"
      },
      "source": [
        "- Посмотрим, сколько фильмов выходило в прокат каждый год. Обратим внимание, что данные о прокате в кинотеатрах известны не для всех фильмов. Посчитаем, какую долю составляют фильмы с указанной информацией о прокате в кинотеатрах."
      ]
    },
    {
      "cell_type": "markdown",
      "metadata": {
        "id": "LrlMYENxMKTj"
      },
      "source": [
        "Посмотрим, сколько фильмов выходило в прокат каждый год, выведем на экран то количество, где есть информация о кассовых сбрах."
      ]
    },
    {
      "cell_type": "code",
      "execution_count": null,
      "metadata": {
        "id": "ABeV47y7gFyW",
        "scrolled": false,
        "outputId": "feab72f1-e05f-49a7-870d-74531000b5a6"
      },
      "outputs": [
        {
          "data": {
            "text/html": [
              "<div>\n",
              "<style scoped>\n",
              "    .dataframe tbody tr th:only-of-type {\n",
              "        vertical-align: middle;\n",
              "    }\n",
              "\n",
              "    .dataframe tbody tr th {\n",
              "        vertical-align: top;\n",
              "    }\n",
              "\n",
              "    .dataframe thead tr th {\n",
              "        text-align: left;\n",
              "    }\n",
              "\n",
              "    .dataframe thead tr:last-of-type th {\n",
              "        text-align: right;\n",
              "    }\n",
              "</style>\n",
              "<table border=\"1\" class=\"dataframe\">\n",
              "  <thead>\n",
              "    <tr>\n",
              "      <th></th>\n",
              "      <th>count</th>\n",
              "    </tr>\n",
              "    <tr>\n",
              "      <th></th>\n",
              "      <th>box_office</th>\n",
              "    </tr>\n",
              "    <tr>\n",
              "      <th>show_start_year</th>\n",
              "      <th></th>\n",
              "    </tr>\n",
              "  </thead>\n",
              "  <tbody>\n",
              "    <tr>\n",
              "      <th>2010</th>\n",
              "      <td>105</td>\n",
              "    </tr>\n",
              "    <tr>\n",
              "      <th>2011</th>\n",
              "      <td>109</td>\n",
              "    </tr>\n",
              "    <tr>\n",
              "      <th>2012</th>\n",
              "      <td>128</td>\n",
              "    </tr>\n",
              "    <tr>\n",
              "      <th>2013</th>\n",
              "      <td>184</td>\n",
              "    </tr>\n",
              "    <tr>\n",
              "      <th>2014</th>\n",
              "      <td>279</td>\n",
              "    </tr>\n",
              "    <tr>\n",
              "      <th>2015</th>\n",
              "      <td>465</td>\n",
              "    </tr>\n",
              "    <tr>\n",
              "      <th>2016</th>\n",
              "      <td>526</td>\n",
              "    </tr>\n",
              "    <tr>\n",
              "      <th>2017</th>\n",
              "      <td>357</td>\n",
              "    </tr>\n",
              "    <tr>\n",
              "      <th>2018</th>\n",
              "      <td>475</td>\n",
              "    </tr>\n",
              "    <tr>\n",
              "      <th>2019</th>\n",
              "      <td>530</td>\n",
              "    </tr>\n",
              "  </tbody>\n",
              "</table>\n",
              "</div>"
            ],
            "text/plain": [
              "                     count\n",
              "                box_office\n",
              "show_start_year           \n",
              "2010                   105\n",
              "2011                   109\n",
              "2012                   128\n",
              "2013                   184\n",
              "2014                   279\n",
              "2015                   465\n",
              "2016                   526\n",
              "2017                   357\n",
              "2018                   475\n",
              "2019                   530"
            ]
          },
          "execution_count": 47,
          "metadata": {},
          "output_type": "execute_result"
        }
      ],
      "source": [
        "df.pivot_table(index = 'show_start_year', values = 'box_office', aggfunc = ['count'])"
      ]
    },
    {
      "cell_type": "markdown",
      "metadata": {
        "id": "LQb30Qz4MKTj"
      },
      "source": [
        "С 2010 по 2016 года количество фильмов выходящих в прокат росло. С 2016 виден спад с 526 фильмов до 357 фильмов в 2017 году. Дальше с 2017 до 2019 года опять рост."
      ]
    },
    {
      "cell_type": "markdown",
      "metadata": {
        "id": "Lru7_NApMKTj"
      },
      "source": [
        "Посчитаем, какую долю составляют фильмы с указанной информацией о прокате в кинотеатрах."
      ]
    },
    {
      "cell_type": "code",
      "execution_count": null,
      "metadata": {
        "id": "2xJwl9RJMKTj",
        "outputId": "4048cd6f-9ea5-4d6b-e413-e5f15404e436"
      },
      "outputs": [
        {
          "data": {
            "text/html": [
              "<div>\n",
              "<style scoped>\n",
              "    .dataframe tbody tr th:only-of-type {\n",
              "        vertical-align: middle;\n",
              "    }\n",
              "\n",
              "    .dataframe tbody tr th {\n",
              "        vertical-align: top;\n",
              "    }\n",
              "\n",
              "    .dataframe thead th {\n",
              "        text-align: right;\n",
              "    }\n",
              "</style>\n",
              "<table border=\"1\" class=\"dataframe\">\n",
              "  <thead>\n",
              "    <tr style=\"text-align: right;\">\n",
              "      <th></th>\n",
              "      <th>title_x</th>\n",
              "      <th>title_y</th>\n",
              "      <th>share</th>\n",
              "    </tr>\n",
              "    <tr>\n",
              "      <th>show_start_year</th>\n",
              "      <th></th>\n",
              "      <th></th>\n",
              "      <th></th>\n",
              "    </tr>\n",
              "  </thead>\n",
              "  <tbody>\n",
              "    <tr>\n",
              "      <th>2010</th>\n",
              "      <td>105</td>\n",
              "      <td>985</td>\n",
              "      <td>0.11</td>\n",
              "    </tr>\n",
              "    <tr>\n",
              "      <th>2011</th>\n",
              "      <td>109</td>\n",
              "      <td>622</td>\n",
              "      <td>0.18</td>\n",
              "    </tr>\n",
              "    <tr>\n",
              "      <th>2012</th>\n",
              "      <td>128</td>\n",
              "      <td>593</td>\n",
              "      <td>0.22</td>\n",
              "    </tr>\n",
              "    <tr>\n",
              "      <th>2013</th>\n",
              "      <td>184</td>\n",
              "      <td>630</td>\n",
              "      <td>0.29</td>\n",
              "    </tr>\n",
              "    <tr>\n",
              "      <th>2014</th>\n",
              "      <td>279</td>\n",
              "      <td>807</td>\n",
              "      <td>0.35</td>\n",
              "    </tr>\n",
              "    <tr>\n",
              "      <th>2015</th>\n",
              "      <td>465</td>\n",
              "      <td>705</td>\n",
              "      <td>0.66</td>\n",
              "    </tr>\n",
              "    <tr>\n",
              "      <th>2016</th>\n",
              "      <td>526</td>\n",
              "      <td>818</td>\n",
              "      <td>0.64</td>\n",
              "    </tr>\n",
              "    <tr>\n",
              "      <th>2017</th>\n",
              "      <td>357</td>\n",
              "      <td>505</td>\n",
              "      <td>0.71</td>\n",
              "    </tr>\n",
              "    <tr>\n",
              "      <th>2018</th>\n",
              "      <td>475</td>\n",
              "      <td>891</td>\n",
              "      <td>0.53</td>\n",
              "    </tr>\n",
              "    <tr>\n",
              "      <th>2019</th>\n",
              "      <td>530</td>\n",
              "      <td>930</td>\n",
              "      <td>0.57</td>\n",
              "    </tr>\n",
              "  </tbody>\n",
              "</table>\n",
              "</div>"
            ],
            "text/plain": [
              "                 title_x  title_y  share\n",
              "show_start_year                         \n",
              "2010                 105      985   0.11\n",
              "2011                 109      622   0.18\n",
              "2012                 128      593   0.22\n",
              "2013                 184      630   0.29\n",
              "2014                 279      807   0.35\n",
              "2015                 465      705   0.66\n",
              "2016                 526      818   0.64\n",
              "2017                 357      505   0.71\n",
              "2018                 475      891   0.53\n",
              "2019                 530      930   0.57"
            ]
          },
          "execution_count": 48,
          "metadata": {},
          "output_type": "execute_result"
        }
      ],
      "source": [
        "box_office_movies = df[df['box_office'].isnull() == False]\n",
        "box_office_movies_pt = box_office_movies.pivot_table(index='show_start_year', values='title', aggfunc='count')\n",
        "\n",
        "movies_pt = df.pivot_table(index='show_start_year', values='title', aggfunc='count')\n",
        "share = box_office_movies_pt.merge(movies_pt, on='show_start_year', how='left')\n",
        "share['share'] = round(share['title_x'] / share['title_y'], 2)\n",
        "share"
      ]
    },
    {
      "cell_type": "markdown",
      "metadata": {
        "id": "sCIp3dLWMKTk"
      },
      "source": [
        "Доля фильмов растет с 2010 по 2017 год, далее в 2018 году виден спад на 18 %, и далее доля опять начинает расти.  \n",
        "Общее количество фильмов по годам растет с 2010 по 2016, далее спад до 505 фильмов в 2017 году, и с 2018 до 2019 годов опять наблюдаем рост количества фильмов."
      ]
    },
    {
      "cell_type": "markdown",
      "metadata": {
        "id": "BEOdcIrIgFyW"
      },
      "source": [
        "- Изучим, как менялась динамика проката по годам. В каком году сумма сборов была минимальной? А максимальной?"
      ]
    },
    {
      "cell_type": "markdown",
      "metadata": {
        "id": "Kjhp1T10MKTk"
      },
      "source": [
        "Изучим как менялась динамика проката фильмов по годам."
      ]
    },
    {
      "cell_type": "code",
      "execution_count": null,
      "metadata": {
        "id": "tfEhofYvgFyX",
        "scrolled": true,
        "outputId": "35dbb96c-4154-4021-d8e5-584ac3bd2022"
      },
      "outputs": [
        {
          "data": {
            "text/plain": [
              "show_start_year\n",
              "2010       2428654.00\n",
              "2012       6955423.00\n",
              "2011      14102765.00\n",
              "2013      29799706.20\n",
              "2014    7444951859.20\n",
              "2015   39497365196.40\n",
              "2016   47866299741.91\n",
              "2019   48425708779.59\n",
              "2017   48563707217.51\n",
              "2018   49668403134.32\n",
              "Name: box_office, dtype: float64"
            ]
          },
          "execution_count": 49,
          "metadata": {},
          "output_type": "execute_result"
        }
      ],
      "source": [
        "df.groupby('show_start_year')['box_office'].sum().sort_values()"
      ]
    },
    {
      "cell_type": "markdown",
      "metadata": {
        "id": "wDG9foq3MKTl"
      },
      "source": [
        "Изучив как менялась динамика проката по годам, выяснили следующее:\n",
        " - Минимальная сумма сборов была в 2010 году\n",
        " - Максимальная сумма сборов была в 2018 году"
      ]
    },
    {
      "cell_type": "markdown",
      "metadata": {
        "id": "G-7qS-N-gFyY"
      },
      "source": [
        "- С помощью сводной таблицы посчитайте среднюю и медианную сумму сборов для каждого года."
      ]
    },
    {
      "cell_type": "code",
      "execution_count": null,
      "metadata": {
        "id": "jmp-rgg9gFyY",
        "scrolled": false,
        "outputId": "20a8915f-7227-4d25-d9e7-916a18e61674"
      },
      "outputs": [
        {
          "data": {
            "text/html": [
              "<div>\n",
              "<style scoped>\n",
              "    .dataframe tbody tr th:only-of-type {\n",
              "        vertical-align: middle;\n",
              "    }\n",
              "\n",
              "    .dataframe tbody tr th {\n",
              "        vertical-align: top;\n",
              "    }\n",
              "\n",
              "    .dataframe thead tr th {\n",
              "        text-align: left;\n",
              "    }\n",
              "\n",
              "    .dataframe thead tr:last-of-type th {\n",
              "        text-align: right;\n",
              "    }\n",
              "</style>\n",
              "<table border=\"1\" class=\"dataframe\">\n",
              "  <thead>\n",
              "    <tr>\n",
              "      <th></th>\n",
              "      <th>median</th>\n",
              "      <th>mean</th>\n",
              "    </tr>\n",
              "    <tr>\n",
              "      <th></th>\n",
              "      <th>box_office</th>\n",
              "      <th>box_office</th>\n",
              "    </tr>\n",
              "    <tr>\n",
              "      <th>show_start_year</th>\n",
              "      <th></th>\n",
              "      <th></th>\n",
              "    </tr>\n",
              "  </thead>\n",
              "  <tbody>\n",
              "    <tr>\n",
              "      <th>2010</th>\n",
              "      <td>1700.00</td>\n",
              "      <td>23130.04</td>\n",
              "    </tr>\n",
              "    <tr>\n",
              "      <th>2011</th>\n",
              "      <td>3000.00</td>\n",
              "      <td>129383.17</td>\n",
              "    </tr>\n",
              "    <tr>\n",
              "      <th>2012</th>\n",
              "      <td>5660.00</td>\n",
              "      <td>54339.24</td>\n",
              "    </tr>\n",
              "    <tr>\n",
              "      <th>2013</th>\n",
              "      <td>3522.50</td>\n",
              "      <td>161954.92</td>\n",
              "    </tr>\n",
              "    <tr>\n",
              "      <th>2014</th>\n",
              "      <td>18160.00</td>\n",
              "      <td>26684415.27</td>\n",
              "    </tr>\n",
              "    <tr>\n",
              "      <th>2015</th>\n",
              "      <td>4920933.00</td>\n",
              "      <td>84940570.31</td>\n",
              "    </tr>\n",
              "    <tr>\n",
              "      <th>2016</th>\n",
              "      <td>3846679.41</td>\n",
              "      <td>91000569.85</td>\n",
              "    </tr>\n",
              "    <tr>\n",
              "      <th>2017</th>\n",
              "      <td>9968340.00</td>\n",
              "      <td>136032793.33</td>\n",
              "    </tr>\n",
              "    <tr>\n",
              "      <th>2018</th>\n",
              "      <td>8891102.21</td>\n",
              "      <td>104565059.23</td>\n",
              "    </tr>\n",
              "    <tr>\n",
              "      <th>2019</th>\n",
              "      <td>4627798.34</td>\n",
              "      <td>91369261.85</td>\n",
              "    </tr>\n",
              "  </tbody>\n",
              "</table>\n",
              "</div>"
            ],
            "text/plain": [
              "                    median         mean\n",
              "                box_office   box_office\n",
              "show_start_year                        \n",
              "2010               1700.00     23130.04\n",
              "2011               3000.00    129383.17\n",
              "2012               5660.00     54339.24\n",
              "2013               3522.50    161954.92\n",
              "2014              18160.00  26684415.27\n",
              "2015            4920933.00  84940570.31\n",
              "2016            3846679.41  91000569.85\n",
              "2017            9968340.00 136032793.33\n",
              "2018            8891102.21 104565059.23\n",
              "2019            4627798.34  91369261.85"
            ]
          },
          "execution_count": 50,
          "metadata": {},
          "output_type": "execute_result"
        }
      ],
      "source": [
        "df.pivot_table(index = 'show_start_year', values = 'box_office', aggfunc = ['median' , 'mean'])"
      ]
    },
    {
      "cell_type": "markdown",
      "metadata": {
        "id": "ojxCp2fxMKTl"
      },
      "source": [
        "С 2010 по 2014 года мало данных по сборам. Максимум по сборам приходится на 2017-2018 года."
      ]
    },
    {
      "cell_type": "markdown",
      "metadata": {
        "id": "dCHJ3r9ZMKTm"
      },
      "source": [
        "В сводной таблице, отобразив среднюю и медианную сумму сборов для каждого года, мы видим, что среднее значение и медианное значения очень сильно отличается. Причина в том, что в столбце кассовые сборы присутствуют очень большие единичные значения(выбросы)."
      ]
    },
    {
      "cell_type": "markdown",
      "metadata": {
        "id": "Ok89WFwJgFyZ"
      },
      "source": [
        "- Определим, влияет ли возрастное ограничение аудитории («6+», «12+», «16+», «18+» и т. д.) на сборы фильма в прокате в период с 2015 по 2019 год? Фильмы с каким возрастным ограничением собрали больше всего денег в прокате? Меняется ли картина в зависимости от года? Если да, предположим, с чем это может быть связано."
      ]
    },
    {
      "cell_type": "code",
      "execution_count": null,
      "metadata": {
        "id": "jsSbEqfjgFya",
        "scrolled": false,
        "outputId": "7aab10a7-707b-4dff-fdf7-20691ac62aa2"
      },
      "outputs": [
        {
          "data": {
            "image/png": "[encoded data removed]",
            "text/plain": [
              "<Figure size 1152x432 with 1 Axes>"
            ]
          },
          "metadata": {},
          "output_type": "display_data"
        }
      ],
      "source": [
        "(df\n",
        "    .query('show_start_year > 2014')\n",
        "    .pivot_table(index = 'show_start_year',\n",
        "                  columns = 'age_cat',\n",
        "                  values = 'box_office',\n",
        "                  aggfunc = 'sum')\n",
        "    .plot(kind = 'bar', figsize = (16,6))\n",
        ")\n",
        "plt.title('Возрастные ограничения по годам')\n",
        "plt.xlabel('Год выхода фильма')\n",
        "plt.ylabel('Кассовые сборы')\n",
        "plt.show()"
      ]
    },
    {
      "cell_type": "markdown",
      "metadata": {
        "id": "EYj7nv7jMKTn"
      },
      "source": [
        "Построим график, показывающий медианные сборы по возрастным категориям."
      ]
    },
    {
      "cell_type": "code",
      "execution_count": null,
      "metadata": {
        "id": "DLU5W_skMKTn",
        "outputId": "064af483-9110-49c7-8a03-4e7cfd7cd952"
      },
      "outputs": [
        {
          "data": {
            "image/png": "[encoded data removed]",
            "text/plain": [
              "<Figure size 1152x432 with 1 Axes>"
            ]
          },
          "metadata": {},
          "output_type": "display_data"
        }
      ],
      "source": [
        "(df\n",
        "    .query('show_start_year > 2014')\n",
        "    .pivot_table(index = 'show_start_year',\n",
        "                  columns = 'age_cat',\n",
        "                  values = 'box_office',\n",
        "                  aggfunc = 'median')\n",
        "    .plot(kind = 'bar', figsize = (16,6))\n",
        ")\n",
        "plt.xticks(rotation = 45)\n",
        "plt.title('Медианные сборы по возрастным категориям')\n",
        "plt.xlabel('Год выхода фильма')\n",
        "plt.ylabel('Кассовые сборы, медиана')\n",
        "plt.show()"
      ]
    },
    {
      "cell_type": "markdown",
      "metadata": {
        "id": "qa4TmU-GMKTo"
      },
      "source": [
        "### Вывод:\n",
        "\n",
        "- Возрастное ограничение аудитории напрямую влияет на сборы фильма в прокате, например фильмы 0+ почти не собирают кассу, в то время как на всем протяжении с 2015 года по 2019 фильмы 16+ показывают высокие сборы. Так, фильмы с ограничением возраста 16+ собрали больше всего денег в прокате с 2016 по 2018 года.  \n",
        "- В зависимости от года меняются сборы, в 2015 году лидировали фильмы 12+, на следующий 2016 год и далее 2017 года сборы снижались, а потом резкий скачек в 2018 году.  \n",
        "- На всем протяжении с 2015 по 2019 года виден неуклонный рост сборов фильмов для 18+\n",
        "- Можно сделать вывод что картины с рейтингом 0+ и 6+ это анимационные мультифильмы, на сеанс ходят дети в сопровождении взрослых, фильмов 0+ выпускается мало в силу того что ходить взрослые с детьми могут преимущественно в выходные и праздничные дни, поэтому сборы проигрывают фильмам блокбастерам которые имеют ограничение 16+ и 18+, самые кассовые и зрелищные фильмы"
      ]
    },
    {
      "cell_type": "markdown",
      "metadata": {
        "id": "l_Kg6Ku4gFya"
      },
      "source": [
        "## Исследуем фильмы, которые получили государственную поддержку\n",
        "\n",
        "На этом этапе нет конкретных инструкций и заданий — поищем интересные закономерности в данных. Посмотрим, сколько выделяют средств на поддержку кино. Проверим, хорошо ли окупаются такие фильмы, какой у них рейтинг."
      ]
    },
    {
      "cell_type": "markdown",
      "metadata": {
        "id": "W9QKpjUdgFyb"
      },
      "source": [
        "Создадим датафрейм, где будут значения с фильмами, которые получили государственную поддержку."
      ]
    },
    {
      "cell_type": "code",
      "execution_count": null,
      "metadata": {
        "scrolled": true,
        "id": "WhqIPGMmMKTo",
        "outputId": "10d4ff76-d598-4226-e375-cd17a4eff4ca"
      },
      "outputs": [
        {
          "data": {
            "text/html": [
              "<div>\n",
              "<style scoped>\n",
              "    .dataframe tbody tr th:only-of-type {\n",
              "        vertical-align: middle;\n",
              "    }\n",
              "\n",
              "    .dataframe tbody tr th {\n",
              "        vertical-align: top;\n",
              "    }\n",
              "\n",
              "    .dataframe thead th {\n",
              "        text-align: right;\n",
              "    }\n",
              "</style>\n",
              "<table border=\"1\" class=\"dataframe\">\n",
              "  <thead>\n",
              "    <tr style=\"text-align: right;\">\n",
              "      <th></th>\n",
              "      <th>title</th>\n",
              "      <th>puNumber</th>\n",
              "      <th>show_start_date</th>\n",
              "      <th>type</th>\n",
              "      <th>film_studio</th>\n",
              "      <th>production_country</th>\n",
              "      <th>director</th>\n",
              "      <th>producer</th>\n",
              "      <th>age_restriction</th>\n",
              "      <th>refundable_support</th>\n",
              "      <th>...</th>\n",
              "      <th>financing_source</th>\n",
              "      <th>ratings</th>\n",
              "      <th>genres</th>\n",
              "      <th>box_office</th>\n",
              "      <th>age_cat</th>\n",
              "      <th>show_start_year</th>\n",
              "      <th>main_director</th>\n",
              "      <th>main_genre</th>\n",
              "      <th>perc_gov_sup</th>\n",
              "      <th>full_gover_support</th>\n",
              "    </tr>\n",
              "  </thead>\n",
              "  <tbody>\n",
              "    <tr>\n",
              "      <th>1281</th>\n",
              "      <td>Пока еще жива</td>\n",
              "      <td>111005313</td>\n",
              "      <td>2013-10-11 12:00:00+00:00</td>\n",
              "      <td>Художественный</td>\n",
              "      <td>АНО содействия развитию кинематографии \"Ангел-...</td>\n",
              "      <td>Россия</td>\n",
              "      <td>А.Атанесян</td>\n",
              "      <td>А.Атанесян, М.Бабаханов, Р.Бутко</td>\n",
              "      <td>«16+» - для детей старше 16 лет</td>\n",
              "      <td>0.00</td>\n",
              "      <td>...</td>\n",
              "      <td>Министерство культуры</td>\n",
              "      <td>8.10</td>\n",
              "      <td>драма,мелодрама</td>\n",
              "      <td>365353.60</td>\n",
              "      <td>16+</td>\n",
              "      <td>2013</td>\n",
              "      <td>А.Атанесян</td>\n",
              "      <td>драма</td>\n",
              "      <td>0.33</td>\n",
              "      <td>26500000.00</td>\n",
              "    </tr>\n",
              "    <tr>\n",
              "      <th>1448</th>\n",
              "      <td>Бесславные придурки</td>\n",
              "      <td>111003314</td>\n",
              "      <td>2014-03-28 12:00:00+00:00</td>\n",
              "      <td>Художественный</td>\n",
              "      <td>ООО \"Компания \"АТК-Студио\"</td>\n",
              "      <td>Россия</td>\n",
              "      <td>А.Якимчук</td>\n",
              "      <td>А.Тютрюмов</td>\n",
              "      <td>«12+» - для детей старше 12 лет</td>\n",
              "      <td>0.00</td>\n",
              "      <td>...</td>\n",
              "      <td>Министерство культуры</td>\n",
              "      <td>NaN</td>\n",
              "      <td>не указан</td>\n",
              "      <td>28140.00</td>\n",
              "      <td>12+</td>\n",
              "      <td>2014</td>\n",
              "      <td>А.Якимчук</td>\n",
              "      <td>не указан</td>\n",
              "      <td>0.70</td>\n",
              "      <td>26000000.00</td>\n",
              "    </tr>\n",
              "    <tr>\n",
              "      <th>1498</th>\n",
              "      <td>Невидимки</td>\n",
              "      <td>111004213</td>\n",
              "      <td>2013-09-10 12:00:00+00:00</td>\n",
              "      <td>Художественный</td>\n",
              "      <td>ООО \"Компания \"РЕАЛ-ДАКОТА\"</td>\n",
              "      <td>Россия</td>\n",
              "      <td>Р.Давлетьяров, С.Комаров</td>\n",
              "      <td>Р.Давлетьяров, А.Котелевский, А.Олейников</td>\n",
              "      <td>«12+» - для детей старше 12 лет</td>\n",
              "      <td>0.00</td>\n",
              "      <td>...</td>\n",
              "      <td>Фонд кино</td>\n",
              "      <td>5.30</td>\n",
              "      <td>комедия,фантастика</td>\n",
              "      <td>19957031.50</td>\n",
              "      <td>12+</td>\n",
              "      <td>2013</td>\n",
              "      <td>Р.Давлетьяров</td>\n",
              "      <td>комедия</td>\n",
              "      <td>0.61</td>\n",
              "      <td>107847945.00</td>\n",
              "    </tr>\n",
              "    <tr>\n",
              "      <th>1524</th>\n",
              "      <td>БЕРЦЫ</td>\n",
              "      <td>111004314</td>\n",
              "      <td>2014-05-05 12:00:00+00:00</td>\n",
              "      <td>Художественный</td>\n",
              "      <td>ООО \"Студия \"Пассажир\"</td>\n",
              "      <td>Россия</td>\n",
              "      <td>Е.Миндадзе (псевдоним Катя Шагалова)</td>\n",
              "      <td>Л.Антонова</td>\n",
              "      <td>«16+» - для детей старше 16 лет</td>\n",
              "      <td>0.00</td>\n",
              "      <td>...</td>\n",
              "      <td>Министерство культуры</td>\n",
              "      <td>4.20</td>\n",
              "      <td>драма</td>\n",
              "      <td>55917.50</td>\n",
              "      <td>16+</td>\n",
              "      <td>2014</td>\n",
              "      <td>Е.Миндадзе (псевдоним Катя Шагалова)</td>\n",
              "      <td>драма</td>\n",
              "      <td>0.69</td>\n",
              "      <td>28000000.00</td>\n",
              "    </tr>\n",
              "    <tr>\n",
              "      <th>1792</th>\n",
              "      <td>Братья Ч</td>\n",
              "      <td>111004414</td>\n",
              "      <td>2014-04-23 12:00:00+00:00</td>\n",
              "      <td>Художественный</td>\n",
              "      <td>ООО \"Студия \"Пассажир\"</td>\n",
              "      <td>Россия</td>\n",
              "      <td>М.Угаров</td>\n",
              "      <td>А.Миндадзе, Л.Антонова</td>\n",
              "      <td>«16+» - для детей старше 16 лет</td>\n",
              "      <td>0.00</td>\n",
              "      <td>...</td>\n",
              "      <td>Министерство культуры</td>\n",
              "      <td>6.40</td>\n",
              "      <td>драма</td>\n",
              "      <td>232100.00</td>\n",
              "      <td>16+</td>\n",
              "      <td>2014</td>\n",
              "      <td>М.Угаров</td>\n",
              "      <td>драма</td>\n",
              "      <td>0.62</td>\n",
              "      <td>25000000.00</td>\n",
              "    </tr>\n",
              "  </tbody>\n",
              "</table>\n",
              "<p>5 rows × 22 columns</p>\n",
              "</div>"
            ],
            "text/plain": [
              "                    title   puNumber           show_start_date  \\\n",
              "1281        Пока еще жива  111005313 2013-10-11 12:00:00+00:00   \n",
              "1448  Бесславные придурки  111003314 2014-03-28 12:00:00+00:00   \n",
              "1498            Невидимки  111004213 2013-09-10 12:00:00+00:00   \n",
              "1524                БЕРЦЫ  111004314 2014-05-05 12:00:00+00:00   \n",
              "1792             Братья Ч  111004414 2014-04-23 12:00:00+00:00   \n",
              "\n",
              "                type                                        film_studio  \\\n",
              "1281  Художественный  АНО содействия развитию кинематографии \"Ангел-...   \n",
              "1448  Художественный                         ООО \"Компания \"АТК-Студио\"   \n",
              "1498  Художественный                        ООО \"Компания \"РЕАЛ-ДАКОТА\"   \n",
              "1524  Художественный                             ООО \"Студия \"Пассажир\"   \n",
              "1792  Художественный                             ООО \"Студия \"Пассажир\"   \n",
              "\n",
              "     production_country                              director  \\\n",
              "1281             Россия                            А.Атанесян   \n",
              "1448             Россия                             А.Якимчук   \n",
              "1498             Россия              Р.Давлетьяров, С.Комаров   \n",
              "1524             Россия  Е.Миндадзе (псевдоним Катя Шагалова)   \n",
              "1792             Россия                              М.Угаров   \n",
              "\n",
              "                                       producer  \\\n",
              "1281           А.Атанесян, М.Бабаханов, Р.Бутко   \n",
              "1448                                 А.Тютрюмов   \n",
              "1498  Р.Давлетьяров, А.Котелевский, А.Олейников   \n",
              "1524                                 Л.Антонова   \n",
              "1792                     А.Миндадзе, Л.Антонова   \n",
              "\n",
              "                      age_restriction  refundable_support  ...  \\\n",
              "1281  «16+» - для детей старше 16 лет                0.00  ...   \n",
              "1448  «12+» - для детей старше 12 лет                0.00  ...   \n",
              "1498  «12+» - для детей старше 12 лет                0.00  ...   \n",
              "1524  «16+» - для детей старше 16 лет                0.00  ...   \n",
              "1792  «16+» - для детей старше 16 лет                0.00  ...   \n",
              "\n",
              "           financing_source  ratings              genres  box_office age_cat  \\\n",
              "1281  Министерство культуры     8.10     драма,мелодрама   365353.60     16+   \n",
              "1448  Министерство культуры      NaN           не указан    28140.00     12+   \n",
              "1498              Фонд кино     5.30  комедия,фантастика 19957031.50     12+   \n",
              "1524  Министерство культуры     4.20               драма    55917.50     16+   \n",
              "1792  Министерство культуры     6.40               драма   232100.00     16+   \n",
              "\n",
              "      show_start_year                         main_director  main_genre  \\\n",
              "1281             2013                            А.Атанесян       драма   \n",
              "1448             2014                             А.Якимчук   не указан   \n",
              "1498             2013                         Р.Давлетьяров     комедия   \n",
              "1524             2014  Е.Миндадзе (псевдоним Катя Шагалова)       драма   \n",
              "1792             2014                              М.Угаров       драма   \n",
              "\n",
              "     perc_gov_sup full_gover_support  \n",
              "1281         0.33        26500000.00  \n",
              "1448         0.70        26000000.00  \n",
              "1498         0.61       107847945.00  \n",
              "1524         0.69        28000000.00  \n",
              "1792         0.62        25000000.00  \n",
              "\n",
              "[5 rows x 22 columns]"
            ]
          },
          "execution_count": 53,
          "metadata": {},
          "output_type": "execute_result"
        }
      ],
      "source": [
        "df['full_gover_support'] = df['refundable_support'] + df['nonrefundable_support']\n",
        "\n",
        "df_goss_support= df[df['full_gover_support'].isna() == False].copy()\n",
        "df_goss_support.head()"
      ]
    },
    {
      "cell_type": "markdown",
      "metadata": {
        "id": "oxsr_F4LMKTp"
      },
      "source": [
        "Посмотрим сколько записей в датафрейме с фильмами, которые получили государственную поддержку"
      ]
    },
    {
      "cell_type": "code",
      "execution_count": null,
      "metadata": {
        "scrolled": true,
        "id": "JoTQMVSxMKTp",
        "outputId": "0885639e-26ca-491c-983b-154032832585"
      },
      "outputs": [
        {
          "data": {
            "text/plain": [
              "332"
            ]
          },
          "execution_count": 54,
          "metadata": {},
          "output_type": "execute_result"
        }
      ],
      "source": [
        "df_goss_support['puNumber'].count()"
      ]
    },
    {
      "cell_type": "markdown",
      "metadata": {
        "id": "TlLoy2pZMKTp"
      },
      "source": [
        "Посмотрим какие бывают данные в столбце **financing_source** источник финансирования"
      ]
    },
    {
      "cell_type": "code",
      "execution_count": null,
      "metadata": {
        "scrolled": true,
        "id": "UHjo6QarMKTp",
        "outputId": "f56b995e-dc53-4587-d05d-7dd02bff53c8"
      },
      "outputs": [
        {
          "data": {
            "text/plain": [
              "array(['Министерство культуры', 'Фонд кино',\n",
              "       'Министерство культуры, Фонд кино'], dtype=object)"
            ]
          },
          "execution_count": 55,
          "metadata": {},
          "output_type": "execute_result"
        }
      ],
      "source": [
        "df_goss_support['financing_source'].unique()"
      ]
    },
    {
      "cell_type": "markdown",
      "metadata": {
        "id": "7fp902NDMKTp"
      },
      "source": [
        "- Источников финансирования три: `Министерство культуры`, `Фонд кино`, `Министерство культуры совместно с Фонд кино`"
      ]
    },
    {
      "cell_type": "markdown",
      "metadata": {
        "id": "FdM34ZOvMKTq"
      },
      "source": [
        "Посмотрим, откуда идет больше средств на поддержку кино."
      ]
    },
    {
      "cell_type": "code",
      "execution_count": null,
      "metadata": {
        "id": "sDfEpswPMKTq",
        "outputId": "e4738bfc-aa56-42e4-d5d2-c7256aa1f20c"
      },
      "outputs": [
        {
          "data": {
            "text/plain": [
              "financing_source\n",
              "Министерство культуры, Фонд кино    1185431354.00\n",
              "Министерство культуры               4836661000.00\n",
              "Фонд кино                          14178595958.00\n",
              "Name: full_gover_support, dtype: float64"
            ]
          },
          "execution_count": 56,
          "metadata": {},
          "output_type": "execute_result"
        }
      ],
      "source": [
        "df_goss_support.groupby('financing_source')['full_gover_support'].sum().sort_values()"
      ]
    },
    {
      "cell_type": "markdown",
      "metadata": {
        "id": "4oRPkxejMKTq"
      },
      "source": [
        "Больше всего спонсирует Фонд кино (14 млрд, 178 млн. руб.), на втором месте Министерство культуры, и замыкает тройку Министерство культуры в содружестве с Фонд кино (1 млрд. 185 млн. руб.)."
      ]
    },
    {
      "cell_type": "markdown",
      "metadata": {
        "id": "2_bUx12RMKTr"
      },
      "source": [
        "Посмотрим график показывающий объём возвратных средств государственной поддержки и кассовые сборы фильмов по годам."
      ]
    },
    {
      "cell_type": "code",
      "execution_count": null,
      "metadata": {
        "scrolled": false,
        "id": "E2Lf0BAIMKTr",
        "outputId": "6a0e6a64-ae84-4e78-cdef-211b26c77619"
      },
      "outputs": [
        {
          "data": {
            "image/png": "[encoded data removed]",
            "text/plain": [
              "<Figure size 1152x432 with 1 Axes>"
            ]
          },
          "metadata": {},
          "output_type": "display_data"
        }
      ],
      "source": [
        "financing_source_movies = df_goss_support.query('full_gover_support > 0')\n",
        "\n",
        "(financing_source_movies\n",
        "     .sort_values(by='refundable_support',ascending=True)\n",
        "     .groupby('show_start_year')['budget'].median()\n",
        "     .plot(x='show_start_year',y='budget',style='o-',grid=True,figsize=(16,6),legend=True)\n",
        ")\n",
        "\n",
        "(financing_source_movies\n",
        "     .groupby('show_start_year')['box_office'].median()\n",
        "     .plot(x='show_start_year',y='box_office',style='o-',grid=True,figsize=(16,6),legend=True)\n",
        ")\n",
        "plt.title('Сравнение объёма бюджета и кассовые сборы')\n",
        "plt.xlabel('Год выхода фильма')\n",
        "plt.show()\n"
      ]
    },
    {
      "cell_type": "markdown",
      "metadata": {
        "id": "NNLvwUKWMKTr"
      },
      "source": [
        "- Во все года с 2013 по 2019 бюджеты фильмов превышают кассовые сборы год к году."
      ]
    },
    {
      "cell_type": "markdown",
      "metadata": {
        "id": "afGK0ARzMKTs"
      },
      "source": [
        "Посмотрим диаграмму размаха для данных по рейтингу фильмов"
      ]
    },
    {
      "cell_type": "code",
      "execution_count": null,
      "metadata": {
        "scrolled": false,
        "id": "clBXmwkGMKTt",
        "outputId": "e8dbd08b-2c73-4443-a513-96c6795e4a9a"
      },
      "outputs": [
        {
          "data": {
            "image/png": "[encoded data removed]",
            "text/plain": [
              "<Figure size 360x360 with 1 Axes>"
            ]
          },
          "metadata": {},
          "output_type": "display_data"
        }
      ],
      "source": [
        "sns.catplot(x='ratings', kind='box', data=financing_source_movies, palette='husl')\n",
        "plt.title('Диаграмма размаха для данных по рейтингу фильмов')\n",
        "plt.show()"
      ]
    },
    {
      "cell_type": "markdown",
      "metadata": {
        "id": "KwSTmIsGMKTu"
      },
      "source": [
        "В большинстве своем рейтинг кинофильмов 5 - 6.7"
      ]
    },
    {
      "cell_type": "markdown",
      "metadata": {
        "id": "J8pLTxp-MKTu"
      },
      "source": [
        "Сравним с рейтингами фильмов по всему датафрейму, выведем диаграмму размаха на экран"
      ]
    },
    {
      "cell_type": "code",
      "execution_count": null,
      "metadata": {
        "id": "M9QD_CZmMKTv",
        "outputId": "b2b6a951-e421-4556-e60a-5c209faa1167"
      },
      "outputs": [
        {
          "data": {
            "image/png": "[encoded data removed]",
            "text/plain": [
              "<Figure size 360x360 with 1 Axes>"
            ]
          },
          "metadata": {},
          "output_type": "display_data"
        }
      ],
      "source": [
        "sns.catplot(x='ratings', kind='box', data=df, palette='husl')\n",
        "plt.title('Диаграмма размаха для данных по рейтингу фильмов всему датафрейму')\n",
        "plt.show()"
      ]
    },
    {
      "cell_type": "markdown",
      "metadata": {
        "id": "3orJR4xPMKTv"
      },
      "source": [
        "Средний рейтинг фильмов по всему датафреймум - 5.9 - 7.3"
      ]
    },
    {
      "cell_type": "markdown",
      "metadata": {
        "id": "PXtrO6NeMKTw"
      },
      "source": [
        "Изучим фильмы, которые окупились"
      ]
    },
    {
      "cell_type": "code",
      "execution_count": null,
      "metadata": {
        "scrolled": false,
        "id": "URW9AfCBMKTw",
        "outputId": "f3f76ed2-e89b-404d-f8f2-859139df48c1"
      },
      "outputs": [
        {
          "data": {
            "image/png": "[encoded data removed]",
            "text/plain": [
              "<Figure size 1152x432 with 1 Axes>"
            ]
          },
          "metadata": {},
          "output_type": "display_data"
        }
      ],
      "source": [
        "the_film_paid_off = financing_source_movies.query('box_office - budget > 0')\n",
        "\n",
        "(the_film_paid_off\n",
        "    .pivot_table(columns = 'age_cat',\n",
        "                  values = 'box_office',\n",
        "                  aggfunc = 'sum')\n",
        "    .plot(kind = 'bar', figsize = (16,6))\n",
        ")\n",
        "plt.title('Суммарные сборы окупившихся фильмов по возрастным категориям')\n",
        "plt.ylabel('Сборы')\n",
        "plt.show()"
      ]
    },
    {
      "cell_type": "markdown",
      "metadata": {
        "id": "ChHDEUEbMKTx"
      },
      "source": [
        "Фильмы, которые окупились имеют преимущественно рейтинг 12+, на втором месте фильмы с рейтингом 6+,и далее 16+."
      ]
    },
    {
      "cell_type": "markdown",
      "metadata": {
        "id": "70vkDPz3MKTx"
      },
      "source": [
        "Выведем жанры фильмов которые окупаются в прокате."
      ]
    },
    {
      "cell_type": "code",
      "execution_count": null,
      "metadata": {
        "scrolled": false,
        "id": "_cf8DZvcMKTx",
        "outputId": "8dfd3ecd-2565-4625-ce27-4d2dce17d635"
      },
      "outputs": [
        {
          "data": {
            "text/plain": [
              "комедия                            17\n",
              "комедия,мелодрама                   7\n",
              "драма                               5\n",
              "мультфильм,приключения,семейный     4\n",
              "драма,мелодрама                     2\n",
              "Name: genres, dtype: int64"
            ]
          },
          "execution_count": 61,
          "metadata": {},
          "output_type": "execute_result"
        }
      ],
      "source": [
        "the_film_paid_off['genres'].value_counts().head()"
      ]
    },
    {
      "cell_type": "markdown",
      "metadata": {
        "id": "eTDs8dlcMKTx"
      },
      "source": [
        "В прокате окупаются комедии, мелодрамы, мультфильмы."
      ]
    },
    {
      "cell_type": "markdown",
      "metadata": {
        "id": "7qyQIJ3DMKTx"
      },
      "source": [
        "Выведем тип фильмов"
      ]
    },
    {
      "cell_type": "code",
      "execution_count": null,
      "metadata": {
        "scrolled": false,
        "id": "OeoqxKYQMKTx",
        "outputId": "467a9a38-b7cf-454f-8093-a1914438e6f4"
      },
      "outputs": [
        {
          "data": {
            "text/plain": [
              "Художественный    67\n",
              "Анимационный      12\n",
              "Name: type, dtype: int64"
            ]
          },
          "execution_count": 62,
          "metadata": {},
          "output_type": "execute_result"
        }
      ],
      "source": [
        "the_film_paid_off['type'].value_counts()"
      ]
    },
    {
      "cell_type": "markdown",
      "metadata": {
        "id": "6QWBFj4HMKTx"
      },
      "source": [
        "Художественные фильмы лидируют, на втором месте анимационные."
      ]
    },
    {
      "cell_type": "markdown",
      "metadata": {
        "id": "29arLpO7MKTy"
      },
      "source": [
        "Посмотрим жанры которые лидируют в не окупившихся фильмах"
      ]
    },
    {
      "cell_type": "code",
      "execution_count": null,
      "metadata": {
        "scrolled": false,
        "id": "9SUjbEeRMKTy",
        "outputId": "0423d68e-5e9f-4a82-adc5-7d677c7b113b"
      },
      "outputs": [
        {
          "data": {
            "text/plain": [
              "драма                             40\n",
              "комедия                           15\n",
              "не указан                         14\n",
              "комедия,мелодрама                  9\n",
              "мультфильм,комедия,приключения     5\n",
              "Name: genres, dtype: int64"
            ]
          },
          "execution_count": 63,
          "metadata": {},
          "output_type": "execute_result"
        }
      ],
      "source": [
        "the_film_was_stagnant = financing_source_movies.query('box_office - budget < 0')\n",
        "the_film_was_stagnant['genres'].value_counts().head()"
      ]
    },
    {
      "cell_type": "markdown",
      "metadata": {
        "id": "iU5ONeDKMKTy"
      },
      "source": [
        "Фильмы драмы не окупаются чаще других жанров. На втором месте комедии - не все комедии, получается, пользуются спросом."
      ]
    },
    {
      "cell_type": "markdown",
      "metadata": {
        "id": "JXvcALJrMKTy"
      },
      "source": [
        "Посчитаем в процентном соотношении фильмы провальные в плане возврата господдержки на кассовые сборы."
      ]
    },
    {
      "cell_type": "code",
      "execution_count": null,
      "metadata": {
        "scrolled": true,
        "id": "ipWhABLmMKTy",
        "outputId": "71f059df-c805-4501-ac36-ab679a93b4b6"
      },
      "outputs": [
        {
          "name": "stdout",
          "output_type": "stream",
          "text": [
            "Доля фильмов, у которых господдержка меньше чем сборы\n",
            "0.238\n",
            "Доля фильмов, у которых господдержка больше чем сборы\n",
            "0.72\n"
          ]
        }
      ],
      "source": [
        "print('Доля фильмов, у которых господдержка меньше чем сборы')\n",
        "print(round(df_goss_support.query('budget < box_office')['puNumber'].count() / df_goss_support['puNumber'].count(),3))\n",
        "\n",
        "print('Доля фильмов, у которых господдержка больше чем сборы')\n",
        "print(round(df_goss_support.query('budget > box_office')['puNumber'].count() / df_goss_support['puNumber'].count(),3))"
      ]
    },
    {
      "cell_type": "markdown",
      "metadata": {
        "id": "KOrK7j6AMKTz"
      },
      "source": [
        "- Доля фильмов, у которых бюджет меньше чем сборы - 23%\n",
        "- Доля фильмов, у которых бюджет больше чем сборы - 72 %"
      ]
    },
    {
      "cell_type": "markdown",
      "metadata": {
        "id": "8sAyTBTFMKTz"
      },
      "source": [
        "Построим диаграмму рассеяния зависимости суммы поддержки от рейтинга"
      ]
    },
    {
      "cell_type": "code",
      "execution_count": null,
      "metadata": {
        "scrolled": false,
        "id": "ADGq2i4zMKT0",
        "outputId": "20df87df-65f5-4214-f42a-cd80e7110bc1"
      },
      "outputs": [
        {
          "data": {
            "image/png": "[encoded data removed]",
            "text/plain": [
              "<Figure size 432x432 with 3 Axes>"
            ]
          },
          "metadata": {},
          "output_type": "display_data"
        }
      ],
      "source": [
        "sns.jointplot(data=df_goss_support, x='full_gover_support', y='ratings', kind='scatter');"
      ]
    },
    {
      "cell_type": "markdown",
      "metadata": {
        "id": "cSD5kdrmMKT0"
      },
      "source": [
        "- Основное количество фильмов с господдержкой это до 100 млн рублей, рейтинг 5-8 кинопоиска\n",
        "- С увеличением господдержки - нету прямой зависимости рейтинга, он не растет\n",
        "- Почти нету фильмов с рейтингом выше 8"
      ]
    },
    {
      "cell_type": "markdown",
      "metadata": {
        "id": "0UblidUmMKT0"
      },
      "source": [
        "Посмотрим какие фильмы спонсируются чаще других."
      ]
    },
    {
      "cell_type": "code",
      "execution_count": null,
      "metadata": {
        "scrolled": true,
        "id": "iLzPIpxTMKT0",
        "outputId": "aee791df-a054-4726-de6c-07bf1d4a470a"
      },
      "outputs": [
        {
          "data": {
            "text/plain": [
              "16+    125\n",
              "12+    106\n",
              "6+      65\n",
              "18+     28\n",
              "0+       8\n",
              "Name: age_cat, dtype: int64"
            ]
          },
          "execution_count": 66,
          "metadata": {},
          "output_type": "execute_result"
        }
      ],
      "source": [
        "df_goss_support['age_cat'].value_counts()"
      ]
    },
    {
      "cell_type": "markdown",
      "metadata": {
        "id": "AVAzdGntMKT0"
      },
      "source": [
        "Фильмы 16+ и 12+ получают господдержку чаще, далее идут 6+ и 18+."
      ]
    },
    {
      "cell_type": "markdown",
      "metadata": {
        "id": "tJAkuUu5MKT1"
      },
      "source": [
        "### Вывод:\n",
        "\n",
        " - Определили количество фильмов, которые получили государственную поддержку - 322\n",
        " - Посмотрели график, показывающий объём возвратных средств государственной поддержки и кассовые сборы фильмов по годам. Выяснили, что во все года с 2013 по 2019 бюджеты фильмов превышают кассовые сборы год к году\n",
        " - Посмотрели по диаграмме размаха, что в большинстве своем рейтинг кинофильмов 5 - 6.7\n",
        " - Изучили фильмы, которые окуплись. Они имеют преимущественно рейтинг 12+, на втором месте фильмы с рейтингом 6+,и далее 16+\n",
        " - В прокате окупаются комедии, мелодрамы, мультфильмы, а тип фильмов - художественные фильмы лидируют, на втором месте анимационные\n",
        " - Среди не окупившихся фильмов - драмы не окупаются чаще других жанров. На втором месте комедии\n",
        " - Доля фильмов, у которых господдержка меньше чем сборы - 23%. Доля фильмов, у которых господдержка больше чем сборы - 72 %\n",
        " - Основное количество фильмов с господдержкой это до 100 млн рублей, рейтинг 5-8 кинопоиска. С увеличением господдержки - нету прямой зависимости рейтинга, он не растет\n",
        " - Фильмы 16+ и 12+ получают господдержку чаще, далее идут 6+ и 18+"
      ]
    },
    {
      "cell_type": "markdown",
      "metadata": {
        "id": "V2gYwMcPgFyd"
      },
      "source": [
        "## Общий вывод"
      ]
    },
    {
      "cell_type": "markdown",
      "metadata": {
        "id": "AYRg3dzXgFye"
      },
      "source": [
        "* Исследовав данные о российском кинопрокате, мы выполнили исследования для Министерства культуры Российской Федерации.\n",
        "Изучили рынок российского кинопроката и выявили текущие тренды. Уделили внимание фильмам, которые получили государственную поддержку.\n",
        "\n",
        "\n",
        "* Изначально полученные данные содержали огромное количество пропусков (до 95.57%), но при дальнейшем рассмотрении, исследования проводились на данных по российскому прокату, и данные были приведены к корректному виду, на полноту исследования это никак не повлияло. Исправлены дубликаты, нулевые значения, произведена категоризация данных. Проверены и исправленны количественные значения, категориальные.\n",
        "\n",
        "\n",
        "* В ходе исследования мы выяснили сколько фильмов выходило в прокат каждый год. С 2010 по 2016 года количество фильмов выходящих в прокат росло. С 2016 виден спад с 526 фильмов до 357 фильмов в 2017 году. Дальше с 2017 до 2019 года опять рост. Посчитали, какую долю составляют фильмы с указанной информацией о прокате в кинотеатрах. Доля фильмов растет с 2010 по 2017 год, далее в 2018 году виден спад на 18 %, и далее доля опять начинает расти. Общее количество фильмов по годам растет с 2010 по 2016, далее спад до 505 фильмов в 2017 году, и с 2018 до 2019 годов опять наблюдаем рост количества фильмов.\n",
        "\n",
        "\n",
        "Изучив как менялась динамика проката по годам, выяснили следующее:\n",
        "- Минимальная сумма сборов была в 2010 году\n",
        "- Максимальная сумма сборов была в 2018 году\n",
        "\n",
        "\n",
        "* Отвечая на вопрос, насколько такие фильмы интересны зрителю, мы выясниили, что хотя во все года с 2013 по 2019 бюджеты фильмов превышают кассовые сборы год к году, тем не менее доля фильмов, у которых господдержка меньше чем сборы - 23%. Доля фильмов, у которых господдержка больше чем сборы - 72 %, есть определенно категории фильмов, которые стоит развивать. Это такие фильмы, рейтинг которых 12+, 6+ и 16+, жанр желательно выбирать комедия, мелодрама, мультифильмы. Тип фильмов предпочтителен художественный, на втором месте анимационный.\n",
        "\n",
        "\n",
        "* Следует отметить, что драмы окупаются хуже всего. Бюджеты господдержки свыше 200 млн рублей - приносят меньше прибыли, и рейтинг таких фильмов ниже чем если госбюджет направлять на фильмы до 100-200 млн рублей. Фильмы 0+ почти не собирают кассу. В большинстве своем рейтинг кинофильмов 6."
      ]
    }
  ],
  "metadata": {
    "ExecuteTimeLog": [
      {
        "duration": 537,
        "start_time": "2021-07-07T10:12:08.634Z"
      },
      {
        "duration": 206,
        "start_time": "2021-07-07T10:12:30.191Z"
      },
      {
        "duration": 227,
        "start_time": "2021-07-07T10:12:33.078Z"
      },
      {
        "duration": 153,
        "start_time": "2021-07-07T10:13:42.146Z"
      },
      {
        "duration": 233,
        "start_time": "2021-07-07T10:30:09.252Z"
      },
      {
        "duration": 19,
        "start_time": "2021-07-07T10:30:15.577Z"
      },
      {
        "duration": 18,
        "start_time": "2021-07-07T10:30:57.348Z"
      },
      {
        "duration": 19,
        "start_time": "2021-07-07T10:31:17.452Z"
      },
      {
        "duration": 21,
        "start_time": "2021-07-07T10:31:32.227Z"
      },
      {
        "duration": 27,
        "start_time": "2021-07-07T10:32:06.588Z"
      },
      {
        "duration": 23,
        "start_time": "2021-07-07T10:32:43.645Z"
      },
      {
        "duration": 24,
        "start_time": "2021-07-07T10:33:06.948Z"
      },
      {
        "duration": 7,
        "start_time": "2021-07-07T10:33:28.558Z"
      },
      {
        "duration": 23,
        "start_time": "2021-07-07T10:33:43.761Z"
      },
      {
        "duration": 28,
        "start_time": "2021-07-07T10:34:13.466Z"
      },
      {
        "duration": 23,
        "start_time": "2021-07-07T10:35:56.187Z"
      },
      {
        "duration": 6,
        "start_time": "2021-07-07T10:36:48.182Z"
      },
      {
        "duration": 14,
        "start_time": "2021-07-07T10:37:49.641Z"
      },
      {
        "duration": 6,
        "start_time": "2021-07-07T10:38:06.694Z"
      },
      {
        "duration": 6,
        "start_time": "2021-07-07T10:38:13.493Z"
      },
      {
        "duration": 19,
        "start_time": "2021-07-07T10:38:44.056Z"
      },
      {
        "duration": 186,
        "start_time": "2021-07-07T10:48:35.618Z"
      },
      {
        "duration": 24,
        "start_time": "2021-07-07T10:48:51.498Z"
      },
      {
        "duration": 20,
        "start_time": "2021-07-07T10:48:59.415Z"
      },
      {
        "duration": 20,
        "start_time": "2021-07-07T10:53:02.195Z"
      },
      {
        "duration": 188,
        "start_time": "2021-07-07T10:54:40.486Z"
      },
      {
        "duration": 115,
        "start_time": "2021-07-07T10:54:52.552Z"
      },
      {
        "duration": 214,
        "start_time": "2021-07-07T10:54:56.354Z"
      },
      {
        "duration": 47,
        "start_time": "2021-07-07T10:54:58.282Z"
      },
      {
        "duration": 217,
        "start_time": "2021-07-07T10:59:16.075Z"
      },
      {
        "duration": 51,
        "start_time": "2021-07-07T10:59:16.243Z"
      },
      {
        "duration": 578,
        "start_time": "2021-07-07T10:59:18.774Z"
      },
      {
        "duration": 161,
        "start_time": "2021-07-07T10:59:21.238Z"
      },
      {
        "duration": 59,
        "start_time": "2021-07-07T10:59:21.453Z"
      },
      {
        "duration": 3,
        "start_time": "2021-07-07T11:02:10.786Z"
      },
      {
        "duration": 13,
        "start_time": "2021-07-07T11:07:07.722Z"
      },
      {
        "duration": 26,
        "start_time": "2021-07-07T11:07:17.958Z"
      },
      {
        "duration": 22,
        "start_time": "2021-07-07T11:08:17.939Z"
      },
      {
        "duration": 212,
        "start_time": "2021-07-07T11:08:19.665Z"
      },
      {
        "duration": 21,
        "start_time": "2021-07-07T11:08:29.945Z"
      },
      {
        "duration": 31,
        "start_time": "2021-07-07T11:08:38.899Z"
      },
      {
        "duration": 23,
        "start_time": "2021-07-07T11:08:54.527Z"
      },
      {
        "duration": 8,
        "start_time": "2021-07-07T11:18:55.974Z"
      },
      {
        "duration": 7,
        "start_time": "2021-07-07T11:19:03.639Z"
      },
      {
        "duration": 7,
        "start_time": "2021-07-07T11:19:06.444Z"
      },
      {
        "duration": 578,
        "start_time": "2021-07-07T12:09:59.576Z"
      },
      {
        "duration": 195,
        "start_time": "2021-07-07T12:10:00.156Z"
      },
      {
        "duration": 115,
        "start_time": "2021-07-07T12:10:00.353Z"
      },
      {
        "duration": 3,
        "start_time": "2021-07-07T12:10:00.470Z"
      },
      {
        "duration": 32,
        "start_time": "2021-07-07T12:10:00.474Z"
      },
      {
        "duration": 23,
        "start_time": "2021-07-07T12:10:00.508Z"
      },
      {
        "duration": 19,
        "start_time": "2021-07-07T12:10:00.533Z"
      },
      {
        "duration": 44,
        "start_time": "2021-07-07T12:10:00.553Z"
      },
      {
        "duration": 7,
        "start_time": "2021-07-07T12:10:00.600Z"
      },
      {
        "duration": 7,
        "start_time": "2021-07-07T12:19:45.761Z"
      },
      {
        "duration": 21,
        "start_time": "2021-07-07T12:21:35.482Z"
      },
      {
        "duration": 21,
        "start_time": "2021-07-07T12:29:23.569Z"
      },
      {
        "duration": 525,
        "start_time": "2021-07-07T12:29:44.542Z"
      },
      {
        "duration": 214,
        "start_time": "2021-07-07T12:29:45.069Z"
      },
      {
        "duration": 92,
        "start_time": "2021-07-07T12:29:45.285Z"
      },
      {
        "duration": 3,
        "start_time": "2021-07-07T12:29:45.379Z"
      },
      {
        "duration": 28,
        "start_time": "2021-07-07T12:29:45.384Z"
      },
      {
        "duration": 23,
        "start_time": "2021-07-07T12:29:45.413Z"
      },
      {
        "duration": 21,
        "start_time": "2021-07-07T12:29:45.437Z"
      },
      {
        "duration": 41,
        "start_time": "2021-07-07T12:29:45.460Z"
      },
      {
        "duration": 7,
        "start_time": "2021-07-07T12:29:45.502Z"
      },
      {
        "duration": 20,
        "start_time": "2021-07-07T12:29:45.511Z"
      },
      {
        "duration": 12,
        "start_time": "2021-07-07T12:34:02.800Z"
      },
      {
        "duration": 7,
        "start_time": "2021-07-07T12:35:10.479Z"
      },
      {
        "duration": 8,
        "start_time": "2021-07-07T12:35:22.440Z"
      },
      {
        "duration": 6,
        "start_time": "2021-07-07T12:35:35.649Z"
      },
      {
        "duration": 6,
        "start_time": "2021-07-07T12:35:43.107Z"
      },
      {
        "duration": 22,
        "start_time": "2021-07-07T12:38:03.029Z"
      },
      {
        "duration": 10,
        "start_time": "2021-07-07T12:38:06.592Z"
      },
      {
        "duration": 563,
        "start_time": "2021-07-07T12:38:46.493Z"
      },
      {
        "duration": 265,
        "start_time": "2021-07-07T12:38:47.058Z"
      },
      {
        "duration": 94,
        "start_time": "2021-07-07T12:38:47.325Z"
      },
      {
        "duration": 3,
        "start_time": "2021-07-07T12:38:47.422Z"
      },
      {
        "duration": 30,
        "start_time": "2021-07-07T12:38:47.427Z"
      },
      {
        "duration": 16,
        "start_time": "2021-07-07T12:38:53.305Z"
      },
      {
        "duration": 10,
        "start_time": "2021-07-07T12:38:53.499Z"
      },
      {
        "duration": 8,
        "start_time": "2021-07-07T12:39:48.161Z"
      },
      {
        "duration": 27,
        "start_time": "2021-07-07T12:41:17.629Z"
      },
      {
        "duration": 17,
        "start_time": "2021-07-07T12:41:17.867Z"
      },
      {
        "duration": 21,
        "start_time": "2021-07-07T12:41:19.310Z"
      },
      {
        "duration": 7,
        "start_time": "2021-07-07T12:41:19.544Z"
      },
      {
        "duration": 20,
        "start_time": "2021-07-07T12:41:20.504Z"
      },
      {
        "duration": 554,
        "start_time": "2021-07-07T12:56:23.696Z"
      },
      {
        "duration": 200,
        "start_time": "2021-07-07T12:56:25.234Z"
      },
      {
        "duration": 119,
        "start_time": "2021-07-07T12:56:25.480Z"
      },
      {
        "duration": 4,
        "start_time": "2021-07-07T12:56:25.762Z"
      },
      {
        "duration": 26,
        "start_time": "2021-07-07T12:56:27.172Z"
      },
      {
        "duration": 12,
        "start_time": "2021-07-07T12:56:29.051Z"
      },
      {
        "duration": 10,
        "start_time": "2021-07-07T12:56:29.291Z"
      },
      {
        "duration": 8,
        "start_time": "2021-07-07T12:56:29.623Z"
      },
      {
        "duration": 28,
        "start_time": "2021-07-07T12:56:32.137Z"
      },
      {
        "duration": 19,
        "start_time": "2021-07-07T12:56:39.785Z"
      },
      {
        "duration": 20,
        "start_time": "2021-07-07T12:56:44.297Z"
      },
      {
        "duration": 7,
        "start_time": "2021-07-07T12:56:45.392Z"
      },
      {
        "duration": 23,
        "start_time": "2021-07-07T12:56:46.615Z"
      },
      {
        "duration": 4,
        "start_time": "2021-07-07T12:57:06.625Z"
      },
      {
        "duration": 32,
        "start_time": "2021-07-07T12:57:36.690Z"
      },
      {
        "duration": 18,
        "start_time": "2021-07-07T12:58:00.149Z"
      },
      {
        "duration": 15,
        "start_time": "2021-07-07T12:59:16.793Z"
      },
      {
        "duration": 7,
        "start_time": "2021-07-07T13:19:22.624Z"
      },
      {
        "duration": 6,
        "start_time": "2021-07-07T14:17:33.527Z"
      },
      {
        "duration": 9,
        "start_time": "2021-07-07T14:17:48.409Z"
      },
      {
        "duration": 8,
        "start_time": "2021-07-07T14:20:13.060Z"
      },
      {
        "duration": 8,
        "start_time": "2021-07-07T14:20:37.957Z"
      },
      {
        "duration": 8,
        "start_time": "2021-07-07T14:20:47.470Z"
      },
      {
        "duration": 9,
        "start_time": "2021-07-07T14:20:54.503Z"
      },
      {
        "duration": 10,
        "start_time": "2021-07-07T14:28:57.763Z"
      },
      {
        "duration": 3,
        "start_time": "2021-07-07T14:30:23.377Z"
      },
      {
        "duration": 3,
        "start_time": "2021-07-07T14:30:36.489Z"
      },
      {
        "duration": 103,
        "start_time": "2021-07-07T14:30:52.351Z"
      },
      {
        "duration": 8,
        "start_time": "2021-07-07T14:30:54.763Z"
      },
      {
        "duration": 8,
        "start_time": "2021-07-07T14:31:29.301Z"
      },
      {
        "duration": 13,
        "start_time": "2021-07-07T14:31:44.516Z"
      },
      {
        "duration": 7,
        "start_time": "2021-07-07T14:33:10.972Z"
      },
      {
        "duration": 11,
        "start_time": "2021-07-07T14:33:27.780Z"
      },
      {
        "duration": 8,
        "start_time": "2021-07-07T14:34:44.588Z"
      },
      {
        "duration": 57,
        "start_time": "2021-07-07T14:35:59.042Z"
      },
      {
        "duration": 3,
        "start_time": "2021-07-07T14:36:28.168Z"
      },
      {
        "duration": 5,
        "start_time": "2021-07-07T14:36:46.254Z"
      },
      {
        "duration": 4,
        "start_time": "2021-07-07T14:36:52.714Z"
      },
      {
        "duration": 3,
        "start_time": "2021-07-07T14:36:56.612Z"
      },
      {
        "duration": 4,
        "start_time": "2021-07-07T14:36:57.049Z"
      },
      {
        "duration": 3,
        "start_time": "2021-07-07T14:39:21.214Z"
      },
      {
        "duration": 7,
        "start_time": "2021-07-07T14:39:52.406Z"
      },
      {
        "duration": 11,
        "start_time": "2021-07-07T14:39:58.576Z"
      },
      {
        "duration": 9,
        "start_time": "2021-07-07T14:40:26.301Z"
      },
      {
        "duration": 10,
        "start_time": "2021-07-07T14:40:31.704Z"
      },
      {
        "duration": 11,
        "start_time": "2021-07-07T14:40:36.249Z"
      },
      {
        "duration": 10,
        "start_time": "2021-07-07T14:40:39.783Z"
      },
      {
        "duration": 9,
        "start_time": "2021-07-07T14:40:48.558Z"
      },
      {
        "duration": 10,
        "start_time": "2021-07-07T14:40:57.143Z"
      },
      {
        "duration": 9,
        "start_time": "2021-07-07T14:41:06.074Z"
      },
      {
        "duration": 4324,
        "start_time": "2021-07-07T14:41:22.004Z"
      },
      {
        "duration": 11,
        "start_time": "2021-07-07T14:41:33.392Z"
      },
      {
        "duration": 9,
        "start_time": "2021-07-07T14:41:39.288Z"
      },
      {
        "duration": 569,
        "start_time": "2021-07-07T14:42:14.387Z"
      },
      {
        "duration": 197,
        "start_time": "2021-07-07T14:42:14.959Z"
      },
      {
        "duration": 84,
        "start_time": "2021-07-07T14:42:16.052Z"
      },
      {
        "duration": 4,
        "start_time": "2021-07-07T14:42:16.900Z"
      },
      {
        "duration": 27,
        "start_time": "2021-07-07T14:42:19.898Z"
      },
      {
        "duration": 12,
        "start_time": "2021-07-07T14:42:21.577Z"
      },
      {
        "duration": 9,
        "start_time": "2021-07-07T14:42:21.813Z"
      },
      {
        "duration": 9,
        "start_time": "2021-07-07T14:42:22.569Z"
      },
      {
        "duration": 29,
        "start_time": "2021-07-07T14:42:25.837Z"
      },
      {
        "duration": 20,
        "start_time": "2021-07-07T14:42:27.003Z"
      },
      {
        "duration": 21,
        "start_time": "2021-07-07T14:42:28.767Z"
      },
      {
        "duration": 7,
        "start_time": "2021-07-07T14:42:29.838Z"
      },
      {
        "duration": 4,
        "start_time": "2021-07-07T14:43:25.493Z"
      },
      {
        "duration": 7,
        "start_time": "2021-07-07T14:43:26.573Z"
      },
      {
        "duration": 10,
        "start_time": "2021-07-07T14:43:31.639Z"
      },
      {
        "duration": 9,
        "start_time": "2021-07-07T14:43:32.046Z"
      },
      {
        "duration": 10,
        "start_time": "2021-07-07T14:43:33.301Z"
      },
      {
        "duration": 12,
        "start_time": "2021-07-07T14:43:33.658Z"
      },
      {
        "duration": 8,
        "start_time": "2021-07-07T14:43:34.552Z"
      },
      {
        "duration": 9,
        "start_time": "2021-07-07T14:43:35.058Z"
      },
      {
        "duration": 12,
        "start_time": "2021-07-07T14:43:35.914Z"
      },
      {
        "duration": 17,
        "start_time": "2021-07-07T14:45:34.368Z"
      },
      {
        "duration": 512,
        "start_time": "2021-07-07T14:51:58.236Z"
      },
      {
        "duration": 223,
        "start_time": "2021-07-07T14:51:58.750Z"
      },
      {
        "duration": 93,
        "start_time": "2021-07-07T14:51:58.977Z"
      },
      {
        "duration": 4,
        "start_time": "2021-07-07T14:51:59.071Z"
      },
      {
        "duration": 37,
        "start_time": "2021-07-07T14:51:59.077Z"
      },
      {
        "duration": 18,
        "start_time": "2021-07-07T14:51:59.116Z"
      },
      {
        "duration": 10,
        "start_time": "2021-07-07T14:51:59.137Z"
      },
      {
        "duration": 8,
        "start_time": "2021-07-07T14:51:59.149Z"
      },
      {
        "duration": 54,
        "start_time": "2021-07-07T14:51:59.158Z"
      },
      {
        "duration": 18,
        "start_time": "2021-07-07T14:51:59.213Z"
      },
      {
        "duration": 22,
        "start_time": "2021-07-07T14:51:59.232Z"
      },
      {
        "duration": 36,
        "start_time": "2021-07-07T14:51:59.255Z"
      },
      {
        "duration": 7,
        "start_time": "2021-07-07T14:51:59.293Z"
      },
      {
        "duration": 10,
        "start_time": "2021-07-07T14:51:59.302Z"
      },
      {
        "duration": 9,
        "start_time": "2021-07-07T14:51:59.313Z"
      },
      {
        "duration": 11,
        "start_time": "2021-07-07T14:51:59.324Z"
      },
      {
        "duration": 8,
        "start_time": "2021-07-07T14:51:59.337Z"
      },
      {
        "duration": 46,
        "start_time": "2021-07-07T14:51:59.347Z"
      },
      {
        "duration": 22,
        "start_time": "2021-07-07T14:51:59.395Z"
      },
      {
        "duration": 24,
        "start_time": "2021-07-07T14:57:32.911Z"
      },
      {
        "duration": 7,
        "start_time": "2021-07-07T14:58:22.070Z"
      },
      {
        "duration": 4,
        "start_time": "2021-07-07T14:59:11.239Z"
      },
      {
        "duration": 25,
        "start_time": "2021-07-07T15:07:22.208Z"
      },
      {
        "duration": 16,
        "start_time": "2021-07-07T15:08:25.560Z"
      },
      {
        "duration": 15,
        "start_time": "2021-07-07T15:08:40.647Z"
      },
      {
        "duration": 14,
        "start_time": "2021-07-07T15:08:46.669Z"
      },
      {
        "duration": 533,
        "start_time": "2021-07-07T15:18:07.440Z"
      },
      {
        "duration": 173,
        "start_time": "2021-07-07T15:18:07.974Z"
      },
      {
        "duration": 84,
        "start_time": "2021-07-07T15:18:08.149Z"
      },
      {
        "duration": 3,
        "start_time": "2021-07-07T15:18:08.235Z"
      },
      {
        "duration": 30,
        "start_time": "2021-07-07T15:18:08.240Z"
      },
      {
        "duration": 22,
        "start_time": "2021-07-07T15:18:08.272Z"
      },
      {
        "duration": 11,
        "start_time": "2021-07-07T15:18:08.295Z"
      },
      {
        "duration": 11,
        "start_time": "2021-07-07T15:18:08.309Z"
      },
      {
        "duration": 40,
        "start_time": "2021-07-07T15:18:08.322Z"
      },
      {
        "duration": 42,
        "start_time": "2021-07-07T15:18:08.364Z"
      },
      {
        "duration": 22,
        "start_time": "2021-07-07T15:18:08.408Z"
      },
      {
        "duration": 5,
        "start_time": "2021-07-07T15:18:08.432Z"
      },
      {
        "duration": 13,
        "start_time": "2021-07-07T15:18:08.439Z"
      },
      {
        "duration": 9,
        "start_time": "2021-07-07T15:18:08.454Z"
      },
      {
        "duration": 32,
        "start_time": "2021-07-07T15:18:08.465Z"
      },
      {
        "duration": 10,
        "start_time": "2021-07-07T15:18:08.501Z"
      },
      {
        "duration": 7,
        "start_time": "2021-07-07T15:18:08.513Z"
      },
      {
        "duration": 11,
        "start_time": "2021-07-07T15:18:08.521Z"
      },
      {
        "duration": 17,
        "start_time": "2021-07-07T15:18:08.534Z"
      },
      {
        "duration": 44,
        "start_time": "2021-07-07T15:18:08.553Z"
      },
      {
        "duration": 22,
        "start_time": "2021-07-07T15:18:08.599Z"
      },
      {
        "duration": 61,
        "start_time": "2021-07-07T15:18:08.622Z"
      },
      {
        "duration": 7,
        "start_time": "2021-07-07T15:18:39.457Z"
      },
      {
        "duration": 5,
        "start_time": "2021-07-07T16:05:17.020Z"
      },
      {
        "duration": 5,
        "start_time": "2021-07-07T16:51:28.794Z"
      },
      {
        "duration": 546,
        "start_time": "2021-07-07T16:52:26.306Z"
      },
      {
        "duration": 203,
        "start_time": "2021-07-07T16:52:27.523Z"
      },
      {
        "duration": 85,
        "start_time": "2021-07-07T16:52:27.736Z"
      },
      {
        "duration": 4,
        "start_time": "2021-07-07T16:52:27.899Z"
      },
      {
        "duration": 25,
        "start_time": "2021-07-07T16:52:28.674Z"
      },
      {
        "duration": 8,
        "start_time": "2021-07-07T16:52:32.956Z"
      },
      {
        "duration": 18,
        "start_time": "2021-07-07T16:52:35.616Z"
      },
      {
        "duration": 6,
        "start_time": "2021-07-07T16:52:36.913Z"
      },
      {
        "duration": 11,
        "start_time": "2021-07-07T16:52:40.258Z"
      },
      {
        "duration": 10,
        "start_time": "2021-07-07T16:52:46.251Z"
      },
      {
        "duration": 8,
        "start_time": "2021-07-07T16:52:47.182Z"
      },
      {
        "duration": 27,
        "start_time": "2021-07-07T16:53:20.391Z"
      },
      {
        "duration": 20,
        "start_time": "2021-07-07T16:53:22.022Z"
      },
      {
        "duration": 23,
        "start_time": "2021-07-07T16:53:23.690Z"
      },
      {
        "duration": 8,
        "start_time": "2021-07-07T16:53:24.261Z"
      },
      {
        "duration": 4,
        "start_time": "2021-07-07T16:53:38.733Z"
      },
      {
        "duration": 7,
        "start_time": "2021-07-07T16:53:40.445Z"
      },
      {
        "duration": 11,
        "start_time": "2021-07-07T16:53:41.348Z"
      },
      {
        "duration": 13,
        "start_time": "2021-07-07T16:53:45.250Z"
      },
      {
        "duration": 12,
        "start_time": "2021-07-07T16:53:45.467Z"
      },
      {
        "duration": 4,
        "start_time": "2021-07-07T16:55:32.704Z"
      },
      {
        "duration": 12,
        "start_time": "2021-07-07T16:55:49.012Z"
      },
      {
        "duration": 18,
        "start_time": "2021-07-07T16:55:49.547Z"
      },
      {
        "duration": 611,
        "start_time": "2021-07-07T16:58:35.156Z"
      },
      {
        "duration": 200,
        "start_time": "2021-07-07T16:58:35.770Z"
      },
      {
        "duration": 86,
        "start_time": "2021-07-07T16:58:35.972Z"
      },
      {
        "duration": 3,
        "start_time": "2021-07-07T16:58:36.060Z"
      },
      {
        "duration": 27,
        "start_time": "2021-07-07T16:58:36.065Z"
      },
      {
        "duration": 8,
        "start_time": "2021-07-07T16:58:36.094Z"
      },
      {
        "duration": 17,
        "start_time": "2021-07-07T16:58:36.103Z"
      },
      {
        "duration": 5,
        "start_time": "2021-07-07T16:58:36.123Z"
      },
      {
        "duration": 11,
        "start_time": "2021-07-07T16:58:36.130Z"
      },
      {
        "duration": 7,
        "start_time": "2021-07-07T16:58:36.143Z"
      },
      {
        "duration": 37,
        "start_time": "2021-07-07T16:58:36.152Z"
      },
      {
        "duration": 27,
        "start_time": "2021-07-07T16:58:36.191Z"
      },
      {
        "duration": 19,
        "start_time": "2021-07-07T16:58:36.219Z"
      },
      {
        "duration": 49,
        "start_time": "2021-07-07T16:58:36.240Z"
      },
      {
        "duration": 6,
        "start_time": "2021-07-07T16:58:36.291Z"
      },
      {
        "duration": 3,
        "start_time": "2021-07-07T16:58:36.299Z"
      },
      {
        "duration": 13,
        "start_time": "2021-07-07T16:58:36.304Z"
      },
      {
        "duration": 10,
        "start_time": "2021-07-07T16:58:36.319Z"
      },
      {
        "duration": 10,
        "start_time": "2021-07-07T16:58:36.331Z"
      },
      {
        "duration": 44,
        "start_time": "2021-07-07T16:58:36.343Z"
      },
      {
        "duration": 4,
        "start_time": "2021-07-07T16:58:36.388Z"
      },
      {
        "duration": 13,
        "start_time": "2021-07-07T16:58:36.394Z"
      },
      {
        "duration": 16,
        "start_time": "2021-07-07T16:58:36.410Z"
      },
      {
        "duration": 8,
        "start_time": "2021-07-07T17:02:31.629Z"
      },
      {
        "duration": 8,
        "start_time": "2021-07-07T17:02:34.308Z"
      },
      {
        "duration": 6,
        "start_time": "2021-07-07T17:05:13.483Z"
      },
      {
        "duration": 17,
        "start_time": "2021-07-07T17:05:20.606Z"
      },
      {
        "duration": 7,
        "start_time": "2021-07-07T17:05:34.638Z"
      },
      {
        "duration": 3,
        "start_time": "2021-07-07T17:06:31.883Z"
      },
      {
        "duration": 570,
        "start_time": "2021-07-07T17:06:37.165Z"
      },
      {
        "duration": 174,
        "start_time": "2021-07-07T17:06:37.737Z"
      },
      {
        "duration": 47,
        "start_time": "2021-07-07T17:06:37.913Z"
      },
      {
        "duration": 3,
        "start_time": "2021-07-07T17:06:37.962Z"
      },
      {
        "duration": 27,
        "start_time": "2021-07-07T17:06:37.967Z"
      },
      {
        "duration": 7,
        "start_time": "2021-07-07T17:06:37.996Z"
      },
      {
        "duration": 16,
        "start_time": "2021-07-07T17:06:38.005Z"
      },
      {
        "duration": 6,
        "start_time": "2021-07-07T17:06:38.024Z"
      },
      {
        "duration": 12,
        "start_time": "2021-07-07T17:06:38.031Z"
      },
      {
        "duration": 41,
        "start_time": "2021-07-07T17:06:38.045Z"
      },
      {
        "duration": 8,
        "start_time": "2021-07-07T17:06:38.088Z"
      },
      {
        "duration": 26,
        "start_time": "2021-07-07T17:06:38.098Z"
      },
      {
        "duration": 17,
        "start_time": "2021-07-07T17:06:38.126Z"
      },
      {
        "duration": 43,
        "start_time": "2021-07-07T17:06:38.144Z"
      },
      {
        "duration": 6,
        "start_time": "2021-07-07T17:06:38.188Z"
      },
      {
        "duration": 5,
        "start_time": "2021-07-07T17:06:38.195Z"
      },
      {
        "duration": 9,
        "start_time": "2021-07-07T17:06:38.201Z"
      },
      {
        "duration": 12,
        "start_time": "2021-07-07T17:06:38.212Z"
      },
      {
        "duration": 11,
        "start_time": "2021-07-07T17:06:38.226Z"
      },
      {
        "duration": 47,
        "start_time": "2021-07-07T17:06:38.239Z"
      },
      {
        "duration": 4,
        "start_time": "2021-07-07T17:06:38.288Z"
      },
      {
        "duration": 13,
        "start_time": "2021-07-07T17:06:38.293Z"
      },
      {
        "duration": 5,
        "start_time": "2021-07-07T17:06:38.309Z"
      },
      {
        "duration": 18,
        "start_time": "2021-07-07T17:06:38.325Z"
      },
      {
        "duration": 20,
        "start_time": "2021-07-07T17:07:02.805Z"
      },
      {
        "duration": 19,
        "start_time": "2021-07-07T17:07:08.527Z"
      },
      {
        "duration": 19,
        "start_time": "2021-07-07T17:07:12.758Z"
      },
      {
        "duration": 22,
        "start_time": "2021-07-07T17:07:17.497Z"
      },
      {
        "duration": 19,
        "start_time": "2021-07-07T17:07:19.645Z"
      },
      {
        "duration": 10,
        "start_time": "2021-07-07T17:07:34.239Z"
      },
      {
        "duration": 17,
        "start_time": "2021-07-07T17:07:54.144Z"
      },
      {
        "duration": 14,
        "start_time": "2021-07-07T17:08:14.357Z"
      },
      {
        "duration": 616,
        "start_time": "2021-07-07T17:08:45.254Z"
      },
      {
        "duration": 178,
        "start_time": "2021-07-07T17:08:45.872Z"
      },
      {
        "duration": 60,
        "start_time": "2021-07-07T17:08:46.054Z"
      },
      {
        "duration": 3,
        "start_time": "2021-07-07T17:08:46.116Z"
      },
      {
        "duration": 26,
        "start_time": "2021-07-07T17:08:46.121Z"
      },
      {
        "duration": 7,
        "start_time": "2021-07-07T17:08:46.149Z"
      },
      {
        "duration": 17,
        "start_time": "2021-07-07T17:08:46.158Z"
      },
      {
        "duration": 14,
        "start_time": "2021-07-07T17:08:46.176Z"
      },
      {
        "duration": 17,
        "start_time": "2021-07-07T17:08:46.193Z"
      },
      {
        "duration": 9,
        "start_time": "2021-07-07T17:08:46.211Z"
      },
      {
        "duration": 21,
        "start_time": "2021-07-07T17:08:46.221Z"
      },
      {
        "duration": 49,
        "start_time": "2021-07-07T17:08:46.244Z"
      },
      {
        "duration": 24,
        "start_time": "2021-07-07T17:08:46.295Z"
      },
      {
        "duration": 22,
        "start_time": "2021-07-07T17:08:46.321Z"
      },
      {
        "duration": 6,
        "start_time": "2021-07-07T17:08:46.345Z"
      },
      {
        "duration": 5,
        "start_time": "2021-07-07T17:08:46.353Z"
      },
      {
        "duration": 13,
        "start_time": "2021-07-07T17:08:46.386Z"
      },
      {
        "duration": 12,
        "start_time": "2021-07-07T17:08:46.402Z"
      },
      {
        "duration": 10,
        "start_time": "2021-07-07T17:08:46.415Z"
      },
      {
        "duration": 7,
        "start_time": "2021-07-07T17:08:46.427Z"
      },
      {
        "duration": 8,
        "start_time": "2021-07-07T17:08:46.435Z"
      },
      {
        "duration": 68,
        "start_time": "2021-07-07T17:08:46.446Z"
      },
      {
        "duration": 13,
        "start_time": "2021-07-07T17:08:46.516Z"
      },
      {
        "duration": 78,
        "start_time": "2021-07-07T17:08:46.530Z"
      },
      {
        "duration": 40,
        "start_time": "2021-07-07T17:09:08.185Z"
      },
      {
        "duration": 16,
        "start_time": "2021-07-07T17:09:19.324Z"
      },
      {
        "duration": 21,
        "start_time": "2021-07-07T17:09:23.290Z"
      },
      {
        "duration": 13,
        "start_time": "2021-07-07T17:09:54.812Z"
      },
      {
        "duration": 13,
        "start_time": "2021-07-07T17:10:02.039Z"
      },
      {
        "duration": 10,
        "start_time": "2021-07-07T17:10:29.632Z"
      },
      {
        "duration": 13,
        "start_time": "2021-07-07T17:10:52.372Z"
      },
      {
        "duration": 13,
        "start_time": "2021-07-07T17:11:17.270Z"
      },
      {
        "duration": 13,
        "start_time": "2021-07-07T17:14:59.284Z"
      },
      {
        "duration": 547,
        "start_time": "2021-07-07T17:18:52.403Z"
      },
      {
        "duration": 163,
        "start_time": "2021-07-07T17:18:52.952Z"
      },
      {
        "duration": 44,
        "start_time": "2021-07-07T17:18:53.117Z"
      },
      {
        "duration": 3,
        "start_time": "2021-07-07T17:18:53.162Z"
      },
      {
        "duration": 26,
        "start_time": "2021-07-07T17:18:53.167Z"
      },
      {
        "duration": 6,
        "start_time": "2021-07-07T17:18:53.195Z"
      },
      {
        "duration": 15,
        "start_time": "2021-07-07T17:18:53.203Z"
      },
      {
        "duration": 5,
        "start_time": "2021-07-07T17:18:53.220Z"
      },
      {
        "duration": 11,
        "start_time": "2021-07-07T17:18:53.228Z"
      },
      {
        "duration": 9,
        "start_time": "2021-07-07T17:18:53.241Z"
      },
      {
        "duration": 41,
        "start_time": "2021-07-07T17:18:53.252Z"
      },
      {
        "duration": 33,
        "start_time": "2021-07-07T17:18:53.295Z"
      },
      {
        "duration": 19,
        "start_time": "2021-07-07T17:18:53.330Z"
      },
      {
        "duration": 49,
        "start_time": "2021-07-07T17:18:53.350Z"
      },
      {
        "duration": 5,
        "start_time": "2021-07-07T17:18:53.401Z"
      },
      {
        "duration": 5,
        "start_time": "2021-07-07T17:18:53.408Z"
      },
      {
        "duration": 11,
        "start_time": "2021-07-07T17:18:53.414Z"
      },
      {
        "duration": 9,
        "start_time": "2021-07-07T17:18:53.427Z"
      },
      {
        "duration": 10,
        "start_time": "2021-07-07T17:18:53.437Z"
      },
      {
        "duration": 39,
        "start_time": "2021-07-07T17:18:53.448Z"
      },
      {
        "duration": 26,
        "start_time": "2021-07-07T17:18:55.799Z"
      },
      {
        "duration": 598,
        "start_time": "2021-07-07T17:20:17.862Z"
      },
      {
        "duration": 161,
        "start_time": "2021-07-07T17:20:18.462Z"
      },
      {
        "duration": 45,
        "start_time": "2021-07-07T17:20:18.626Z"
      },
      {
        "duration": 4,
        "start_time": "2021-07-07T17:20:18.673Z"
      },
      {
        "duration": 38,
        "start_time": "2021-07-07T17:20:26.877Z"
      },
      {
        "duration": 7,
        "start_time": "2021-07-07T17:20:37.405Z"
      },
      {
        "duration": 19,
        "start_time": "2021-07-07T17:20:51.534Z"
      },
      {
        "duration": 5,
        "start_time": "2021-07-07T17:20:57.228Z"
      },
      {
        "duration": 7,
        "start_time": "2021-07-07T17:21:08.235Z"
      },
      {
        "duration": 19,
        "start_time": "2021-07-07T17:21:42.158Z"
      },
      {
        "duration": 14,
        "start_time": "2021-07-07T17:21:50.225Z"
      },
      {
        "duration": 22,
        "start_time": "2021-07-07T17:22:54.104Z"
      },
      {
        "duration": 5,
        "start_time": "2021-07-07T17:22:56.371Z"
      },
      {
        "duration": 14,
        "start_time": "2021-07-07T17:22:58.316Z"
      },
      {
        "duration": 5,
        "start_time": "2021-07-07T17:22:58.493Z"
      },
      {
        "duration": 35,
        "start_time": "2021-07-07T17:22:59.666Z"
      },
      {
        "duration": 6,
        "start_time": "2021-07-07T17:23:02.410Z"
      },
      {
        "duration": 611,
        "start_time": "2021-07-07T17:24:59.664Z"
      },
      {
        "duration": 178,
        "start_time": "2021-07-07T17:25:01.945Z"
      },
      {
        "duration": 47,
        "start_time": "2021-07-07T17:25:02.125Z"
      },
      {
        "duration": 2,
        "start_time": "2021-07-07T17:25:07.903Z"
      },
      {
        "duration": 254,
        "start_time": "2021-07-07T17:25:08.232Z"
      },
      {
        "duration": 182,
        "start_time": "2021-07-07T17:25:08.671Z"
      },
      {
        "duration": 6,
        "start_time": "2021-07-07T17:25:13.104Z"
      },
      {
        "duration": 36,
        "start_time": "2021-07-07T17:25:13.662Z"
      },
      {
        "duration": 7,
        "start_time": "2021-07-07T17:25:14.528Z"
      },
      {
        "duration": 24,
        "start_time": "2021-07-07T17:25:27.982Z"
      },
      {
        "duration": 3,
        "start_time": "2021-07-07T17:25:48.982Z"
      },
      {
        "duration": 165,
        "start_time": "2021-07-07T17:25:48.987Z"
      },
      {
        "duration": 50,
        "start_time": "2021-07-07T17:25:49.154Z"
      },
      {
        "duration": 4,
        "start_time": "2021-07-07T17:25:49.206Z"
      },
      {
        "duration": 26,
        "start_time": "2021-07-07T17:25:49.212Z"
      },
      {
        "duration": 7,
        "start_time": "2021-07-07T17:25:49.240Z"
      },
      {
        "duration": 16,
        "start_time": "2021-07-07T17:25:49.249Z"
      },
      {
        "duration": 22,
        "start_time": "2021-07-07T17:25:49.266Z"
      },
      {
        "duration": 16,
        "start_time": "2021-07-07T17:25:49.291Z"
      },
      {
        "duration": 9,
        "start_time": "2021-07-07T17:25:49.309Z"
      },
      {
        "duration": 7,
        "start_time": "2021-07-07T17:25:49.319Z"
      },
      {
        "duration": 28,
        "start_time": "2021-07-07T17:25:49.328Z"
      },
      {
        "duration": 44,
        "start_time": "2021-07-07T17:25:49.357Z"
      },
      {
        "duration": 22,
        "start_time": "2021-07-07T17:25:49.403Z"
      },
      {
        "duration": 7,
        "start_time": "2021-07-07T17:25:49.427Z"
      },
      {
        "duration": 3,
        "start_time": "2021-07-07T17:25:49.436Z"
      },
      {
        "duration": 44,
        "start_time": "2021-07-07T17:25:49.441Z"
      },
      {
        "duration": 12,
        "start_time": "2021-07-07T17:25:49.488Z"
      },
      {
        "duration": 13,
        "start_time": "2021-07-07T17:25:49.502Z"
      },
      {
        "duration": 10,
        "start_time": "2021-07-07T17:25:49.516Z"
      },
      {
        "duration": 62,
        "start_time": "2021-07-07T17:25:49.527Z"
      },
      {
        "duration": 26,
        "start_time": "2021-07-07T17:26:51.809Z"
      },
      {
        "duration": 26,
        "start_time": "2021-07-07T17:26:55.759Z"
      },
      {
        "duration": 26,
        "start_time": "2021-07-07T17:27:04.501Z"
      },
      {
        "duration": 25,
        "start_time": "2021-07-07T17:28:24.859Z"
      },
      {
        "duration": 21,
        "start_time": "2021-07-07T17:28:55.250Z"
      },
      {
        "duration": 21,
        "start_time": "2021-07-07T17:28:58.885Z"
      },
      {
        "duration": 7,
        "start_time": "2021-07-07T17:45:40.972Z"
      },
      {
        "duration": 13,
        "start_time": "2021-07-07T17:45:42.529Z"
      },
      {
        "duration": 27,
        "start_time": "2021-07-07T17:45:51.026Z"
      },
      {
        "duration": 518,
        "start_time": "2021-07-07T17:46:15.532Z"
      },
      {
        "duration": 235,
        "start_time": "2021-07-07T17:46:16.053Z"
      },
      {
        "duration": 80,
        "start_time": "2021-07-07T17:46:16.292Z"
      },
      {
        "duration": 5,
        "start_time": "2021-07-07T17:46:16.373Z"
      },
      {
        "duration": 26,
        "start_time": "2021-07-07T17:46:16.380Z"
      },
      {
        "duration": 7,
        "start_time": "2021-07-07T17:46:16.408Z"
      },
      {
        "duration": 16,
        "start_time": "2021-07-07T17:46:16.418Z"
      },
      {
        "duration": 5,
        "start_time": "2021-07-07T17:46:16.436Z"
      },
      {
        "duration": 13,
        "start_time": "2021-07-07T17:46:16.442Z"
      },
      {
        "duration": 35,
        "start_time": "2021-07-07T17:46:16.456Z"
      },
      {
        "duration": 8,
        "start_time": "2021-07-07T17:46:16.493Z"
      },
      {
        "duration": 28,
        "start_time": "2021-07-07T17:46:16.502Z"
      },
      {
        "duration": 17,
        "start_time": "2021-07-07T17:46:16.532Z"
      },
      {
        "duration": 44,
        "start_time": "2021-07-07T17:46:16.551Z"
      },
      {
        "duration": 6,
        "start_time": "2021-07-07T17:46:16.597Z"
      },
      {
        "duration": 4,
        "start_time": "2021-07-07T17:46:16.605Z"
      },
      {
        "duration": 9,
        "start_time": "2021-07-07T17:46:16.610Z"
      },
      {
        "duration": 9,
        "start_time": "2021-07-07T17:46:16.621Z"
      },
      {
        "duration": 10,
        "start_time": "2021-07-07T17:46:16.632Z"
      },
      {
        "duration": 43,
        "start_time": "2021-07-07T17:46:16.644Z"
      },
      {
        "duration": 26,
        "start_time": "2021-07-07T17:46:16.689Z"
      },
      {
        "duration": 19,
        "start_time": "2021-07-07T17:46:16.718Z"
      },
      {
        "duration": 8,
        "start_time": "2021-07-07T17:46:16.738Z"
      },
      {
        "duration": 43,
        "start_time": "2021-07-07T17:46:16.747Z"
      },
      {
        "duration": 19,
        "start_time": "2021-07-07T17:46:16.791Z"
      },
      {
        "duration": 9,
        "start_time": "2021-07-07T17:46:16.812Z"
      },
      {
        "duration": 60,
        "start_time": "2021-07-07T17:46:16.822Z"
      },
      {
        "duration": -8,
        "start_time": "2021-07-07T17:46:16.892Z"
      },
      {
        "duration": 12,
        "start_time": "2021-07-07T17:48:47.707Z"
      },
      {
        "duration": 553,
        "start_time": "2021-07-07T18:10:09.350Z"
      },
      {
        "duration": 230,
        "start_time": "2021-07-07T18:10:09.905Z"
      },
      {
        "duration": 97,
        "start_time": "2021-07-07T18:10:10.137Z"
      },
      {
        "duration": 5,
        "start_time": "2021-07-07T18:10:10.236Z"
      },
      {
        "duration": 29,
        "start_time": "2021-07-07T18:10:10.242Z"
      },
      {
        "duration": 7,
        "start_time": "2021-07-07T18:10:10.272Z"
      },
      {
        "duration": 15,
        "start_time": "2021-07-07T18:10:10.281Z"
      },
      {
        "duration": 4,
        "start_time": "2021-07-07T18:10:10.299Z"
      },
      {
        "duration": 14,
        "start_time": "2021-07-07T18:10:10.305Z"
      },
      {
        "duration": 8,
        "start_time": "2021-07-07T18:10:10.321Z"
      },
      {
        "duration": 8,
        "start_time": "2021-07-07T18:10:10.331Z"
      },
      {
        "duration": 56,
        "start_time": "2021-07-07T18:10:10.341Z"
      },
      {
        "duration": 19,
        "start_time": "2021-07-07T18:10:10.399Z"
      },
      {
        "duration": 23,
        "start_time": "2021-07-07T18:10:10.419Z"
      },
      {
        "duration": 6,
        "start_time": "2021-07-07T18:10:10.444Z"
      },
      {
        "duration": 9,
        "start_time": "2021-07-07T18:10:10.451Z"
      },
      {
        "duration": 30,
        "start_time": "2021-07-07T18:10:10.462Z"
      },
      {
        "duration": 9,
        "start_time": "2021-07-07T18:10:10.494Z"
      },
      {
        "duration": 14,
        "start_time": "2021-07-07T18:10:10.505Z"
      },
      {
        "duration": 7,
        "start_time": "2021-07-07T18:10:10.521Z"
      },
      {
        "duration": 26,
        "start_time": "2021-07-07T18:10:10.530Z"
      },
      {
        "duration": 44,
        "start_time": "2021-07-07T18:10:10.558Z"
      },
      {
        "duration": 7,
        "start_time": "2021-07-07T18:10:10.605Z"
      },
      {
        "duration": 11,
        "start_time": "2021-07-07T18:10:10.614Z"
      },
      {
        "duration": 19,
        "start_time": "2021-07-07T18:10:10.626Z"
      },
      {
        "duration": 44,
        "start_time": "2021-07-07T18:10:10.646Z"
      },
      {
        "duration": 516,
        "start_time": "2021-07-07T18:14:00.826Z"
      },
      {
        "duration": 230,
        "start_time": "2021-07-07T18:14:01.344Z"
      },
      {
        "duration": 105,
        "start_time": "2021-07-07T18:14:01.576Z"
      },
      {
        "duration": 5,
        "start_time": "2021-07-07T18:14:01.683Z"
      },
      {
        "duration": 46,
        "start_time": "2021-07-07T18:14:01.690Z"
      },
      {
        "duration": 7,
        "start_time": "2021-07-07T18:14:01.738Z"
      },
      {
        "duration": 20,
        "start_time": "2021-07-07T18:14:01.747Z"
      },
      {
        "duration": 16,
        "start_time": "2021-07-07T18:14:01.769Z"
      },
      {
        "duration": 14,
        "start_time": "2021-07-07T18:14:01.787Z"
      },
      {
        "duration": 15,
        "start_time": "2021-07-07T18:14:01.803Z"
      },
      {
        "duration": 12,
        "start_time": "2021-07-07T18:14:01.820Z"
      },
      {
        "duration": 35,
        "start_time": "2021-07-07T18:14:01.833Z"
      },
      {
        "duration": 31,
        "start_time": "2021-07-07T18:14:01.869Z"
      },
      {
        "duration": 37,
        "start_time": "2021-07-07T18:14:01.902Z"
      },
      {
        "duration": 8,
        "start_time": "2021-07-07T18:14:01.942Z"
      },
      {
        "duration": 16,
        "start_time": "2021-07-07T18:14:01.952Z"
      },
      {
        "duration": 13,
        "start_time": "2021-07-07T18:14:01.970Z"
      },
      {
        "duration": 32,
        "start_time": "2021-07-07T18:14:01.985Z"
      },
      {
        "duration": 11,
        "start_time": "2021-07-07T18:14:02.019Z"
      },
      {
        "duration": 22,
        "start_time": "2021-07-07T18:14:02.031Z"
      },
      {
        "duration": 27,
        "start_time": "2021-07-07T18:14:02.055Z"
      },
      {
        "duration": 18,
        "start_time": "2021-07-07T18:14:02.084Z"
      },
      {
        "duration": 18,
        "start_time": "2021-07-07T18:14:02.106Z"
      },
      {
        "duration": 11,
        "start_time": "2021-07-07T18:14:02.126Z"
      },
      {
        "duration": 21,
        "start_time": "2021-07-07T18:14:02.138Z"
      },
      {
        "duration": 32,
        "start_time": "2021-07-07T18:14:02.161Z"
      },
      {
        "duration": 28,
        "start_time": "2021-07-07T18:14:44.295Z"
      },
      {
        "duration": 6,
        "start_time": "2021-07-07T18:15:05.834Z"
      },
      {
        "duration": 511,
        "start_time": "2021-07-07T18:15:41.541Z"
      },
      {
        "duration": 183,
        "start_time": "2021-07-07T18:15:42.054Z"
      },
      {
        "duration": 50,
        "start_time": "2021-07-07T18:15:42.239Z"
      },
      {
        "duration": 5,
        "start_time": "2021-07-07T18:15:42.291Z"
      },
      {
        "duration": 48,
        "start_time": "2021-07-07T18:15:42.297Z"
      },
      {
        "duration": 8,
        "start_time": "2021-07-07T18:15:42.346Z"
      },
      {
        "duration": 17,
        "start_time": "2021-07-07T18:15:42.356Z"
      },
      {
        "duration": 15,
        "start_time": "2021-07-07T18:15:42.375Z"
      },
      {
        "duration": 12,
        "start_time": "2021-07-07T18:15:42.392Z"
      },
      {
        "duration": 7,
        "start_time": "2021-07-07T18:15:42.406Z"
      },
      {
        "duration": 7,
        "start_time": "2021-07-07T18:15:42.415Z"
      },
      {
        "duration": 29,
        "start_time": "2021-07-07T18:15:42.423Z"
      },
      {
        "duration": 43,
        "start_time": "2021-07-07T18:15:42.453Z"
      },
      {
        "duration": 18,
        "start_time": "2021-07-07T18:15:42.497Z"
      },
      {
        "duration": 6,
        "start_time": "2021-07-07T18:15:42.516Z"
      },
      {
        "duration": 3,
        "start_time": "2021-07-07T18:15:42.523Z"
      },
      {
        "duration": 18,
        "start_time": "2021-07-07T18:15:42.528Z"
      },
      {
        "duration": 10,
        "start_time": "2021-07-07T18:15:42.547Z"
      },
      {
        "duration": 36,
        "start_time": "2021-07-07T18:15:42.559Z"
      },
      {
        "duration": 8,
        "start_time": "2021-07-07T18:15:42.597Z"
      },
      {
        "duration": 28,
        "start_time": "2021-07-07T18:15:42.606Z"
      },
      {
        "duration": 52,
        "start_time": "2021-07-07T18:15:42.635Z"
      },
      {
        "duration": 7,
        "start_time": "2021-07-07T18:15:42.690Z"
      },
      {
        "duration": 10,
        "start_time": "2021-07-07T18:15:42.699Z"
      },
      {
        "duration": 19,
        "start_time": "2021-07-07T18:15:42.711Z"
      },
      {
        "duration": 9,
        "start_time": "2021-07-07T18:15:42.732Z"
      },
      {
        "duration": 5,
        "start_time": "2021-07-07T18:15:42.743Z"
      },
      {
        "duration": 1450,
        "start_time": "2021-07-07T18:15:51.984Z"
      },
      {
        "duration": 161,
        "start_time": "2021-07-07T18:15:53.435Z"
      },
      {
        "duration": 124,
        "start_time": "2021-07-07T18:15:53.598Z"
      },
      {
        "duration": 5,
        "start_time": "2021-07-07T18:15:53.724Z"
      },
      {
        "duration": 34,
        "start_time": "2021-07-07T18:15:53.730Z"
      },
      {
        "duration": 7,
        "start_time": "2021-07-07T18:15:53.765Z"
      },
      {
        "duration": 15,
        "start_time": "2021-07-07T18:15:53.773Z"
      },
      {
        "duration": 5,
        "start_time": "2021-07-07T18:15:53.791Z"
      },
      {
        "duration": 19,
        "start_time": "2021-07-07T18:15:53.798Z"
      },
      {
        "duration": 9,
        "start_time": "2021-07-07T18:15:53.818Z"
      },
      {
        "duration": 19,
        "start_time": "2021-07-07T18:15:53.828Z"
      },
      {
        "duration": 27,
        "start_time": "2021-07-07T18:15:53.848Z"
      },
      {
        "duration": 16,
        "start_time": "2021-07-07T18:15:53.884Z"
      },
      {
        "duration": 29,
        "start_time": "2021-07-07T18:15:53.901Z"
      },
      {
        "duration": 5,
        "start_time": "2021-07-07T18:15:53.932Z"
      },
      {
        "duration": 15,
        "start_time": "2021-07-07T18:15:53.939Z"
      },
      {
        "duration": 13,
        "start_time": "2021-07-07T18:15:53.956Z"
      },
      {
        "duration": 20,
        "start_time": "2021-07-07T18:15:53.971Z"
      },
      {
        "duration": 14,
        "start_time": "2021-07-07T18:15:53.992Z"
      },
      {
        "duration": 9,
        "start_time": "2021-07-07T18:15:54.009Z"
      },
      {
        "duration": 28,
        "start_time": "2021-07-07T18:15:54.020Z"
      },
      {
        "duration": 50,
        "start_time": "2021-07-07T18:15:54.051Z"
      },
      {
        "duration": 8,
        "start_time": "2021-07-07T18:15:54.105Z"
      },
      {
        "duration": 11,
        "start_time": "2021-07-07T18:15:54.115Z"
      },
      {
        "duration": 20,
        "start_time": "2021-07-07T18:15:54.128Z"
      },
      {
        "duration": 13,
        "start_time": "2021-07-07T18:15:54.184Z"
      },
      {
        "duration": 7,
        "start_time": "2021-07-07T18:15:54.199Z"
      },
      {
        "duration": 7,
        "start_time": "2021-07-07T18:17:08.042Z"
      },
      {
        "duration": 8,
        "start_time": "2021-07-07T18:17:21.008Z"
      },
      {
        "duration": 7,
        "start_time": "2021-07-07T18:17:29.003Z"
      },
      {
        "duration": 8,
        "start_time": "2021-07-07T18:17:32.492Z"
      },
      {
        "duration": 9,
        "start_time": "2021-07-07T18:17:41.758Z"
      },
      {
        "duration": 255,
        "start_time": "2021-07-07T18:20:20.897Z"
      },
      {
        "duration": 173,
        "start_time": "2021-07-07T18:20:26.636Z"
      },
      {
        "duration": 7,
        "start_time": "2021-07-07T18:21:47.164Z"
      },
      {
        "duration": 254,
        "start_time": "2021-07-07T18:23:08.703Z"
      },
      {
        "duration": 21,
        "start_time": "2021-07-07T18:23:22.506Z"
      },
      {
        "duration": 315,
        "start_time": "2021-07-07T18:25:54.801Z"
      },
      {
        "duration": 34,
        "start_time": "2021-07-07T18:26:51.817Z"
      },
      {
        "duration": 327,
        "start_time": "2021-07-07T18:26:56.147Z"
      },
      {
        "duration": 342,
        "start_time": "2021-07-07T18:27:15.887Z"
      },
      {
        "duration": 302,
        "start_time": "2021-07-07T18:28:18.569Z"
      },
      {
        "duration": 226,
        "start_time": "2021-07-07T18:29:20.879Z"
      },
      {
        "duration": 207,
        "start_time": "2021-07-07T18:29:58.114Z"
      },
      {
        "duration": 140,
        "start_time": "2021-07-07T18:32:04.372Z"
      },
      {
        "duration": 158,
        "start_time": "2021-07-07T18:32:32.508Z"
      },
      {
        "duration": 145,
        "start_time": "2021-07-07T18:32:41.365Z"
      },
      {
        "duration": 132,
        "start_time": "2021-07-07T18:32:45.199Z"
      },
      {
        "duration": 11,
        "start_time": "2021-07-07T18:35:24.679Z"
      },
      {
        "duration": 268,
        "start_time": "2021-07-07T18:36:16.145Z"
      },
      {
        "duration": 227,
        "start_time": "2021-07-07T18:37:04.918Z"
      },
      {
        "duration": 3,
        "start_time": "2021-07-07T18:37:33.012Z"
      },
      {
        "duration": 671,
        "start_time": "2021-07-07T18:37:38.295Z"
      },
      {
        "duration": 54,
        "start_time": "2021-07-07T18:37:53.406Z"
      },
      {
        "duration": 631,
        "start_time": "2021-07-07T18:37:56.463Z"
      },
      {
        "duration": 19,
        "start_time": "2021-07-07T18:39:40.535Z"
      },
      {
        "duration": 20,
        "start_time": "2021-07-07T18:40:12.236Z"
      },
      {
        "duration": 633,
        "start_time": "2021-07-07T18:42:00.398Z"
      },
      {
        "duration": 218,
        "start_time": "2021-07-07T18:42:01.033Z"
      },
      {
        "duration": 49,
        "start_time": "2021-07-07T18:42:01.253Z"
      },
      {
        "duration": 5,
        "start_time": "2021-07-07T18:42:01.303Z"
      },
      {
        "duration": 27,
        "start_time": "2021-07-07T18:42:01.310Z"
      },
      {
        "duration": 8,
        "start_time": "2021-07-07T18:42:01.339Z"
      },
      {
        "duration": 20,
        "start_time": "2021-07-07T18:42:01.348Z"
      },
      {
        "duration": 6,
        "start_time": "2021-07-07T18:42:01.386Z"
      },
      {
        "duration": 16,
        "start_time": "2021-07-07T18:42:01.394Z"
      },
      {
        "duration": 9,
        "start_time": "2021-07-07T18:42:01.411Z"
      },
      {
        "duration": 11,
        "start_time": "2021-07-07T18:42:01.421Z"
      },
      {
        "duration": 31,
        "start_time": "2021-07-07T18:42:01.434Z"
      },
      {
        "duration": 18,
        "start_time": "2021-07-07T18:42:01.485Z"
      },
      {
        "duration": 23,
        "start_time": "2021-07-07T18:42:01.505Z"
      },
      {
        "duration": 6,
        "start_time": "2021-07-07T18:42:01.530Z"
      },
      {
        "duration": 10,
        "start_time": "2021-07-07T18:42:01.538Z"
      },
      {
        "duration": 13,
        "start_time": "2021-07-07T18:42:01.550Z"
      },
      {
        "duration": 24,
        "start_time": "2021-07-07T18:42:01.564Z"
      },
      {
        "duration": 20,
        "start_time": "2021-07-07T18:42:01.590Z"
      },
      {
        "duration": 8,
        "start_time": "2021-07-07T18:42:01.611Z"
      },
      {
        "duration": 31,
        "start_time": "2021-07-07T18:42:01.620Z"
      },
      {
        "duration": 39,
        "start_time": "2021-07-07T18:42:01.653Z"
      },
      {
        "duration": 8,
        "start_time": "2021-07-07T18:42:01.696Z"
      },
      {
        "duration": 13,
        "start_time": "2021-07-07T18:42:01.705Z"
      },
      {
        "duration": 20,
        "start_time": "2021-07-07T18:42:01.720Z"
      },
      {
        "duration": 12,
        "start_time": "2021-07-07T18:42:01.741Z"
      },
      {
        "duration": 35,
        "start_time": "2021-07-07T18:42:01.755Z"
      },
      {
        "duration": 14,
        "start_time": "2021-07-07T18:42:01.792Z"
      },
      {
        "duration": 188,
        "start_time": "2021-07-07T18:42:01.808Z"
      },
      {
        "duration": 19,
        "start_time": "2021-07-07T18:42:01.998Z"
      },
      {
        "duration": 175,
        "start_time": "2021-07-07T18:42:02.019Z"
      },
      {
        "duration": 134,
        "start_time": "2021-07-07T18:42:02.196Z"
      },
      {
        "duration": 10,
        "start_time": "2021-07-07T18:42:02.331Z"
      },
      {
        "duration": 19,
        "start_time": "2021-07-07T18:42:02.343Z"
      },
      {
        "duration": 628,
        "start_time": "2021-07-07T18:46:30.701Z"
      },
      {
        "duration": 183,
        "start_time": "2021-07-07T18:46:31.331Z"
      },
      {
        "duration": 48,
        "start_time": "2021-07-07T18:46:31.516Z"
      },
      {
        "duration": 5,
        "start_time": "2021-07-07T18:46:31.566Z"
      },
      {
        "duration": 28,
        "start_time": "2021-07-07T18:46:31.572Z"
      },
      {
        "duration": 8,
        "start_time": "2021-07-07T18:46:31.602Z"
      },
      {
        "duration": 19,
        "start_time": "2021-07-07T18:46:31.611Z"
      },
      {
        "duration": 6,
        "start_time": "2021-07-07T18:46:31.633Z"
      },
      {
        "duration": 17,
        "start_time": "2021-07-07T18:46:31.642Z"
      },
      {
        "duration": 10,
        "start_time": "2021-07-07T18:46:31.684Z"
      },
      {
        "duration": 9,
        "start_time": "2021-07-07T18:46:31.695Z"
      },
      {
        "duration": 28,
        "start_time": "2021-07-07T18:46:31.705Z"
      },
      {
        "duration": 18,
        "start_time": "2021-07-07T18:46:31.735Z"
      },
      {
        "duration": 48,
        "start_time": "2021-07-07T18:46:31.755Z"
      },
      {
        "duration": 6,
        "start_time": "2021-07-07T18:46:31.804Z"
      },
      {
        "duration": 4,
        "start_time": "2021-07-07T18:46:31.812Z"
      },
      {
        "duration": 9,
        "start_time": "2021-07-07T18:46:31.817Z"
      },
      {
        "duration": 10,
        "start_time": "2021-07-07T18:46:31.827Z"
      },
      {
        "duration": 12,
        "start_time": "2021-07-07T18:46:31.838Z"
      },
      {
        "duration": 39,
        "start_time": "2021-07-07T18:46:31.851Z"
      },
      {
        "duration": 24,
        "start_time": "2021-07-07T18:46:31.892Z"
      },
      {
        "duration": 15,
        "start_time": "2021-07-07T18:46:31.918Z"
      },
      {
        "duration": 7,
        "start_time": "2021-07-07T18:46:31.936Z"
      },
      {
        "duration": 8,
        "start_time": "2021-07-07T18:46:31.944Z"
      },
      {
        "duration": 19,
        "start_time": "2021-07-07T18:46:31.984Z"
      },
      {
        "duration": 10,
        "start_time": "2021-07-07T18:46:32.004Z"
      },
      {
        "duration": 5,
        "start_time": "2021-07-07T18:46:32.016Z"
      },
      {
        "duration": 9,
        "start_time": "2021-07-07T18:46:32.023Z"
      },
      {
        "duration": 199,
        "start_time": "2021-07-07T18:46:32.033Z"
      },
      {
        "duration": 19,
        "start_time": "2021-07-07T18:46:32.234Z"
      },
      {
        "duration": 159,
        "start_time": "2021-07-07T18:46:32.255Z"
      },
      {
        "duration": 134,
        "start_time": "2021-07-07T18:46:32.416Z"
      },
      {
        "duration": 10,
        "start_time": "2021-07-07T18:46:32.552Z"
      },
      {
        "duration": 34,
        "start_time": "2021-07-07T18:46:32.563Z"
      },
      {
        "duration": 1039,
        "start_time": "2021-07-08T08:41:09.419Z"
      },
      {
        "duration": 333,
        "start_time": "2021-07-08T08:41:10.459Z"
      },
      {
        "duration": 173,
        "start_time": "2021-07-08T08:41:10.794Z"
      },
      {
        "duration": 5,
        "start_time": "2021-07-08T08:41:10.968Z"
      },
      {
        "duration": 25,
        "start_time": "2021-07-08T08:41:10.975Z"
      },
      {
        "duration": 9,
        "start_time": "2021-07-08T08:41:11.002Z"
      },
      {
        "duration": 18,
        "start_time": "2021-07-08T08:41:11.013Z"
      },
      {
        "duration": 6,
        "start_time": "2021-07-08T08:41:11.033Z"
      },
      {
        "duration": 44,
        "start_time": "2021-07-08T08:41:11.042Z"
      },
      {
        "duration": 10,
        "start_time": "2021-07-08T08:41:11.088Z"
      },
      {
        "duration": 9,
        "start_time": "2021-07-08T08:41:11.100Z"
      },
      {
        "duration": 27,
        "start_time": "2021-07-08T08:41:11.111Z"
      },
      {
        "duration": 46,
        "start_time": "2021-07-08T08:41:11.140Z"
      },
      {
        "duration": 17,
        "start_time": "2021-07-08T08:41:11.187Z"
      },
      {
        "duration": 6,
        "start_time": "2021-07-08T08:41:11.206Z"
      },
      {
        "duration": 5,
        "start_time": "2021-07-08T08:41:11.213Z"
      },
      {
        "duration": 10,
        "start_time": "2021-07-08T08:41:11.219Z"
      },
      {
        "duration": 9,
        "start_time": "2021-07-08T08:41:11.230Z"
      },
      {
        "duration": 45,
        "start_time": "2021-07-08T08:41:11.241Z"
      },
      {
        "duration": 7,
        "start_time": "2021-07-08T08:41:11.287Z"
      },
      {
        "duration": 24,
        "start_time": "2021-07-08T08:41:11.296Z"
      },
      {
        "duration": 16,
        "start_time": "2021-07-08T08:41:11.322Z"
      },
      {
        "duration": 7,
        "start_time": "2021-07-08T08:41:11.341Z"
      },
      {
        "duration": 41,
        "start_time": "2021-07-08T08:41:11.349Z"
      },
      {
        "duration": 17,
        "start_time": "2021-07-08T08:41:11.391Z"
      },
      {
        "duration": 9,
        "start_time": "2021-07-08T08:41:11.410Z"
      },
      {
        "duration": 5,
        "start_time": "2021-07-08T08:41:11.421Z"
      },
      {
        "duration": 6,
        "start_time": "2021-07-08T08:41:11.428Z"
      },
      {
        "duration": 198,
        "start_time": "2021-07-08T08:41:11.435Z"
      },
      {
        "duration": 18,
        "start_time": "2021-07-08T08:41:11.635Z"
      },
      {
        "duration": 155,
        "start_time": "2021-07-08T08:41:11.655Z"
      },
      {
        "duration": 138,
        "start_time": "2021-07-08T08:41:11.811Z"
      },
      {
        "duration": 10,
        "start_time": "2021-07-08T08:41:11.950Z"
      },
      {
        "duration": 29,
        "start_time": "2021-07-08T08:41:11.961Z"
      },
      {
        "duration": 171,
        "start_time": "2021-07-08T08:47:44.522Z"
      },
      {
        "duration": 124,
        "start_time": "2021-07-08T08:47:46.872Z"
      },
      {
        "duration": 191,
        "start_time": "2021-07-08T08:47:58.148Z"
      },
      {
        "duration": 191,
        "start_time": "2021-07-08T08:48:07.412Z"
      },
      {
        "duration": 261,
        "start_time": "2021-07-08T08:48:10.385Z"
      },
      {
        "duration": 255,
        "start_time": "2021-07-08T08:48:14.494Z"
      },
      {
        "duration": 219,
        "start_time": "2021-07-08T08:48:22.752Z"
      },
      {
        "duration": 173,
        "start_time": "2021-07-08T08:49:06.395Z"
      },
      {
        "duration": 180,
        "start_time": "2021-07-08T08:49:21.011Z"
      },
      {
        "duration": 6,
        "start_time": "2021-07-08T08:50:31.697Z"
      },
      {
        "duration": 10,
        "start_time": "2021-07-08T08:50:47.394Z"
      },
      {
        "duration": 11,
        "start_time": "2021-07-08T08:53:49.332Z"
      },
      {
        "duration": 171,
        "start_time": "2021-07-08T08:54:28.408Z"
      },
      {
        "duration": 636,
        "start_time": "2021-07-08T09:02:48.385Z"
      },
      {
        "duration": 227,
        "start_time": "2021-07-08T09:02:49.023Z"
      },
      {
        "duration": 104,
        "start_time": "2021-07-08T09:02:49.252Z"
      },
      {
        "duration": 5,
        "start_time": "2021-07-08T09:02:49.358Z"
      },
      {
        "duration": 27,
        "start_time": "2021-07-08T09:02:49.365Z"
      },
      {
        "duration": 8,
        "start_time": "2021-07-08T09:02:49.394Z"
      },
      {
        "duration": 18,
        "start_time": "2021-07-08T09:02:49.404Z"
      },
      {
        "duration": 6,
        "start_time": "2021-07-08T09:02:49.424Z"
      },
      {
        "duration": 11,
        "start_time": "2021-07-08T09:02:49.433Z"
      },
      {
        "duration": 13,
        "start_time": "2021-07-08T09:02:49.485Z"
      },
      {
        "duration": 9,
        "start_time": "2021-07-08T09:02:49.500Z"
      },
      {
        "duration": 38,
        "start_time": "2021-07-08T09:02:49.511Z"
      },
      {
        "duration": 42,
        "start_time": "2021-07-08T09:02:49.551Z"
      },
      {
        "duration": 21,
        "start_time": "2021-07-08T09:02:49.594Z"
      },
      {
        "duration": 6,
        "start_time": "2021-07-08T09:02:49.616Z"
      },
      {
        "duration": 3,
        "start_time": "2021-07-08T09:02:49.623Z"
      },
      {
        "duration": 9,
        "start_time": "2021-07-08T09:02:49.628Z"
      },
      {
        "duration": 52,
        "start_time": "2021-07-08T09:02:49.638Z"
      },
      {
        "duration": 11,
        "start_time": "2021-07-08T09:02:49.692Z"
      },
      {
        "duration": 8,
        "start_time": "2021-07-08T09:02:49.704Z"
      },
      {
        "duration": 27,
        "start_time": "2021-07-08T09:02:49.713Z"
      },
      {
        "duration": 59,
        "start_time": "2021-07-08T09:02:49.741Z"
      },
      {
        "duration": 8,
        "start_time": "2021-07-08T09:02:49.803Z"
      },
      {
        "duration": 14,
        "start_time": "2021-07-08T09:02:49.813Z"
      },
      {
        "duration": 20,
        "start_time": "2021-07-08T09:02:49.829Z"
      },
      {
        "duration": 44,
        "start_time": "2021-07-08T09:02:49.851Z"
      },
      {
        "duration": 14,
        "start_time": "2021-07-08T09:02:49.896Z"
      },
      {
        "duration": 221,
        "start_time": "2021-07-08T09:02:49.912Z"
      },
      {
        "duration": 6,
        "start_time": "2021-07-08T09:02:50.134Z"
      },
      {
        "duration": 206,
        "start_time": "2021-07-08T09:02:50.142Z"
      },
      {
        "duration": 19,
        "start_time": "2021-07-08T09:02:50.350Z"
      },
      {
        "duration": 21,
        "start_time": "2021-07-08T09:02:50.370Z"
      },
      {
        "duration": 20,
        "start_time": "2021-07-08T09:02:50.393Z"
      },
      {
        "duration": 5,
        "start_time": "2021-07-08T09:02:50.414Z"
      },
      {
        "duration": 5,
        "start_time": "2021-07-08T09:03:34.173Z"
      },
      {
        "duration": 6,
        "start_time": "2021-07-08T09:04:49.062Z"
      },
      {
        "duration": 9,
        "start_time": "2021-07-08T09:04:50.118Z"
      },
      {
        "duration": 14,
        "start_time": "2021-07-08T09:04:58.512Z"
      },
      {
        "duration": 9,
        "start_time": "2021-07-08T09:05:10.988Z"
      },
      {
        "duration": 11,
        "start_time": "2021-07-08T09:05:11.743Z"
      },
      {
        "duration": 7,
        "start_time": "2021-07-08T09:05:25.677Z"
      },
      {
        "duration": 13,
        "start_time": "2021-07-08T09:05:47.189Z"
      },
      {
        "duration": 13,
        "start_time": "2021-07-08T09:05:54.755Z"
      },
      {
        "duration": 4,
        "start_time": "2021-07-08T09:06:29.189Z"
      },
      {
        "duration": 244,
        "start_time": "2021-07-08T09:06:29.195Z"
      },
      {
        "duration": 91,
        "start_time": "2021-07-08T09:06:29.441Z"
      },
      {
        "duration": 4,
        "start_time": "2021-07-08T09:06:29.534Z"
      },
      {
        "duration": 28,
        "start_time": "2021-07-08T09:06:29.540Z"
      },
      {
        "duration": 6,
        "start_time": "2021-07-08T09:06:29.570Z"
      },
      {
        "duration": 18,
        "start_time": "2021-07-08T09:06:29.578Z"
      },
      {
        "duration": 5,
        "start_time": "2021-07-08T09:06:29.597Z"
      },
      {
        "duration": 13,
        "start_time": "2021-07-08T09:06:29.605Z"
      },
      {
        "duration": 8,
        "start_time": "2021-07-08T09:06:29.620Z"
      },
      {
        "duration": 7,
        "start_time": "2021-07-08T09:06:29.630Z"
      },
      {
        "duration": 63,
        "start_time": "2021-07-08T09:06:29.639Z"
      },
      {
        "duration": 17,
        "start_time": "2021-07-08T09:06:29.704Z"
      },
      {
        "duration": 20,
        "start_time": "2021-07-08T09:06:29.723Z"
      },
      {
        "duration": 6,
        "start_time": "2021-07-08T09:06:29.745Z"
      },
      {
        "duration": 3,
        "start_time": "2021-07-08T09:06:29.752Z"
      },
      {
        "duration": 7,
        "start_time": "2021-07-08T09:06:29.785Z"
      },
      {
        "duration": 11,
        "start_time": "2021-07-08T09:06:29.794Z"
      },
      {
        "duration": 15,
        "start_time": "2021-07-08T09:06:29.807Z"
      },
      {
        "duration": 8,
        "start_time": "2021-07-08T09:06:29.823Z"
      },
      {
        "duration": 70,
        "start_time": "2021-07-08T09:06:29.832Z"
      },
      {
        "duration": 17,
        "start_time": "2021-07-08T09:06:29.903Z"
      },
      {
        "duration": 9,
        "start_time": "2021-07-08T09:06:29.921Z"
      },
      {
        "duration": 9,
        "start_time": "2021-07-08T09:06:29.932Z"
      },
      {
        "duration": 57,
        "start_time": "2021-07-08T09:06:29.942Z"
      },
      {
        "duration": 11,
        "start_time": "2021-07-08T09:06:30.001Z"
      },
      {
        "duration": 19,
        "start_time": "2021-07-08T09:06:30.016Z"
      },
      {
        "duration": 217,
        "start_time": "2021-07-08T09:06:30.037Z"
      },
      {
        "duration": 6,
        "start_time": "2021-07-08T09:06:30.255Z"
      },
      {
        "duration": 205,
        "start_time": "2021-07-08T09:06:30.263Z"
      },
      {
        "duration": 27,
        "start_time": "2021-07-08T09:06:30.470Z"
      },
      {
        "duration": 11,
        "start_time": "2021-07-08T09:06:30.500Z"
      },
      {
        "duration": 31,
        "start_time": "2021-07-08T09:06:30.513Z"
      },
      {
        "duration": 18,
        "start_time": "2021-07-08T09:06:30.546Z"
      },
      {
        "duration": 11,
        "start_time": "2021-07-08T09:06:30.566Z"
      },
      {
        "duration": 19,
        "start_time": "2021-07-08T09:06:30.579Z"
      },
      {
        "duration": 20,
        "start_time": "2021-07-08T09:06:49.466Z"
      },
      {
        "duration": 9,
        "start_time": "2021-07-08T09:06:51.994Z"
      },
      {
        "duration": 20,
        "start_time": "2021-07-08T09:06:52.273Z"
      },
      {
        "duration": 246,
        "start_time": "2021-07-08T09:10:21.272Z"
      },
      {
        "duration": 84,
        "start_time": "2021-07-08T09:10:21.436Z"
      },
      {
        "duration": 7,
        "start_time": "2021-07-08T09:10:37.608Z"
      },
      {
        "duration": 189,
        "start_time": "2021-07-08T09:10:38.573Z"
      },
      {
        "duration": 185,
        "start_time": "2021-07-08T09:10:53.181Z"
      },
      {
        "duration": 11,
        "start_time": "2021-07-08T09:10:59.549Z"
      },
      {
        "duration": 42,
        "start_time": "2021-07-08T09:10:59.709Z"
      },
      {
        "duration": 12,
        "start_time": "2021-07-08T09:11:02.857Z"
      },
      {
        "duration": 28,
        "start_time": "2021-07-08T09:11:10.062Z"
      },
      {
        "duration": 249,
        "start_time": "2021-07-08T09:11:37.388Z"
      },
      {
        "duration": 232,
        "start_time": "2021-07-08T09:11:49.485Z"
      },
      {
        "duration": 453,
        "start_time": "2021-07-08T09:12:01.546Z"
      },
      {
        "duration": 440,
        "start_time": "2021-07-08T09:12:12.347Z"
      },
      {
        "duration": 213,
        "start_time": "2021-07-08T09:13:32.196Z"
      },
      {
        "duration": 172,
        "start_time": "2021-07-08T09:14:07.400Z"
      },
      {
        "duration": 185,
        "start_time": "2021-07-08T09:14:14.905Z"
      },
      {
        "duration": 209,
        "start_time": "2021-07-08T09:14:40.109Z"
      },
      {
        "duration": 201,
        "start_time": "2021-07-08T09:14:54.506Z"
      },
      {
        "duration": 622,
        "start_time": "2021-07-08T09:18:14.497Z"
      },
      {
        "duration": 220,
        "start_time": "2021-07-08T09:18:15.121Z"
      },
      {
        "duration": 79,
        "start_time": "2021-07-08T09:18:15.343Z"
      },
      {
        "duration": 4,
        "start_time": "2021-07-08T09:18:15.425Z"
      },
      {
        "duration": 24,
        "start_time": "2021-07-08T09:18:15.431Z"
      },
      {
        "duration": 8,
        "start_time": "2021-07-08T09:18:15.457Z"
      },
      {
        "duration": 16,
        "start_time": "2021-07-08T09:18:15.466Z"
      },
      {
        "duration": 5,
        "start_time": "2021-07-08T09:18:15.484Z"
      },
      {
        "duration": 10,
        "start_time": "2021-07-08T09:18:15.493Z"
      },
      {
        "duration": 8,
        "start_time": "2021-07-08T09:18:15.504Z"
      },
      {
        "duration": 7,
        "start_time": "2021-07-08T09:18:15.513Z"
      },
      {
        "duration": 26,
        "start_time": "2021-07-08T09:18:15.522Z"
      },
      {
        "duration": 49,
        "start_time": "2021-07-08T09:18:15.550Z"
      },
      {
        "duration": 21,
        "start_time": "2021-07-08T09:18:15.601Z"
      },
      {
        "duration": 8,
        "start_time": "2021-07-08T09:18:15.624Z"
      },
      {
        "duration": 3,
        "start_time": "2021-07-08T09:18:15.634Z"
      },
      {
        "duration": 8,
        "start_time": "2021-07-08T09:18:15.639Z"
      },
      {
        "duration": 45,
        "start_time": "2021-07-08T09:18:15.649Z"
      },
      {
        "duration": 13,
        "start_time": "2021-07-08T09:18:15.696Z"
      },
      {
        "duration": 10,
        "start_time": "2021-07-08T09:18:15.711Z"
      },
      {
        "duration": 64,
        "start_time": "2021-07-08T09:18:15.722Z"
      },
      {
        "duration": 19,
        "start_time": "2021-07-08T09:18:15.788Z"
      },
      {
        "duration": 9,
        "start_time": "2021-07-08T09:18:15.809Z"
      },
      {
        "duration": 9,
        "start_time": "2021-07-08T09:18:15.820Z"
      },
      {
        "duration": 18,
        "start_time": "2021-07-08T09:18:15.831Z"
      },
      {
        "duration": 43,
        "start_time": "2021-07-08T09:18:15.851Z"
      },
      {
        "duration": 12,
        "start_time": "2021-07-08T09:18:15.897Z"
      },
      {
        "duration": 219,
        "start_time": "2021-07-08T09:18:15.911Z"
      },
      {
        "duration": 8,
        "start_time": "2021-07-08T09:18:16.132Z"
      },
      {
        "duration": 199,
        "start_time": "2021-07-08T09:18:16.141Z"
      },
      {
        "duration": 18,
        "start_time": "2021-07-08T09:18:16.341Z"
      },
      {
        "duration": 24,
        "start_time": "2021-07-08T09:18:16.361Z"
      },
      {
        "duration": 24,
        "start_time": "2021-07-08T09:18:16.387Z"
      },
      {
        "duration": 211,
        "start_time": "2021-07-08T09:18:16.413Z"
      },
      {
        "duration": 18,
        "start_time": "2021-07-08T09:18:16.626Z"
      },
      {
        "duration": 596,
        "start_time": "2021-07-08T10:06:33.623Z"
      },
      {
        "duration": 181,
        "start_time": "2021-07-08T10:06:34.221Z"
      },
      {
        "duration": 176,
        "start_time": "2021-07-08T10:06:34.635Z"
      },
      {
        "duration": 239,
        "start_time": "2021-07-08T10:06:55.572Z"
      },
      {
        "duration": 6,
        "start_time": "2021-07-08T10:06:57.687Z"
      },
      {
        "duration": 4,
        "start_time": "2021-07-08T10:07:03.956Z"
      },
      {
        "duration": 4,
        "start_time": "2021-07-08T10:07:10.376Z"
      },
      {
        "duration": 4,
        "start_time": "2021-07-08T10:17:19.889Z"
      },
      {
        "duration": 3,
        "start_time": "2021-07-08T10:19:19.407Z"
      },
      {
        "duration": 197,
        "start_time": "2021-07-08T10:19:19.412Z"
      },
      {
        "duration": 127,
        "start_time": "2021-07-08T10:19:19.611Z"
      },
      {
        "duration": 4,
        "start_time": "2021-07-08T10:19:19.740Z"
      },
      {
        "duration": 27,
        "start_time": "2021-07-08T10:19:19.746Z"
      },
      {
        "duration": 7,
        "start_time": "2021-07-08T10:19:19.775Z"
      },
      {
        "duration": 30,
        "start_time": "2021-07-08T10:19:19.784Z"
      },
      {
        "duration": 7,
        "start_time": "2021-07-08T10:19:19.817Z"
      },
      {
        "duration": 26,
        "start_time": "2021-07-08T10:19:19.826Z"
      },
      {
        "duration": 18,
        "start_time": "2021-07-08T10:19:19.854Z"
      },
      {
        "duration": 14,
        "start_time": "2021-07-08T10:19:19.874Z"
      },
      {
        "duration": 48,
        "start_time": "2021-07-08T10:19:19.890Z"
      },
      {
        "duration": 17,
        "start_time": "2021-07-08T10:19:19.940Z"
      },
      {
        "duration": 38,
        "start_time": "2021-07-08T10:19:19.959Z"
      },
      {
        "duration": 8,
        "start_time": "2021-07-08T10:19:19.999Z"
      },
      {
        "duration": 15,
        "start_time": "2021-07-08T10:19:20.009Z"
      },
      {
        "duration": 22,
        "start_time": "2021-07-08T10:19:20.026Z"
      },
      {
        "duration": 10,
        "start_time": "2021-07-08T10:19:20.050Z"
      },
      {
        "duration": 10,
        "start_time": "2021-07-08T10:19:20.062Z"
      },
      {
        "duration": 20,
        "start_time": "2021-07-08T10:19:20.073Z"
      },
      {
        "duration": 29,
        "start_time": "2021-07-08T10:19:20.095Z"
      },
      {
        "duration": 17,
        "start_time": "2021-07-08T10:19:20.126Z"
      },
      {
        "duration": 40,
        "start_time": "2021-07-08T10:19:20.146Z"
      },
      {
        "duration": 15,
        "start_time": "2021-07-08T10:19:20.189Z"
      },
      {
        "duration": 19,
        "start_time": "2021-07-08T10:19:20.206Z"
      },
      {
        "duration": 10,
        "start_time": "2021-07-08T10:19:20.226Z"
      },
      {
        "duration": 11,
        "start_time": "2021-07-08T10:19:20.238Z"
      },
      {
        "duration": 297,
        "start_time": "2021-07-08T10:19:20.250Z"
      },
      {
        "duration": 6,
        "start_time": "2021-07-08T10:19:20.549Z"
      },
      {
        "duration": 191,
        "start_time": "2021-07-08T10:19:20.557Z"
      },
      {
        "duration": 19,
        "start_time": "2021-07-08T10:19:20.750Z"
      },
      {
        "duration": 20,
        "start_time": "2021-07-08T10:19:20.771Z"
      },
      {
        "duration": 15,
        "start_time": "2021-07-08T10:19:20.793Z"
      },
      {
        "duration": 222,
        "start_time": "2021-07-08T10:19:20.809Z"
      },
      {
        "duration": 20,
        "start_time": "2021-07-08T10:19:21.033Z"
      },
      {
        "duration": 27,
        "start_time": "2021-07-08T10:45:04.055Z"
      },
      {
        "duration": 8,
        "start_time": "2021-07-08T10:45:08.478Z"
      },
      {
        "duration": 8,
        "start_time": "2021-07-08T10:45:31.982Z"
      },
      {
        "duration": 10,
        "start_time": "2021-07-08T10:46:01.221Z"
      },
      {
        "duration": 17,
        "start_time": "2021-07-08T10:46:40.011Z"
      },
      {
        "duration": 193,
        "start_time": "2021-07-08T10:48:19.471Z"
      },
      {
        "duration": 225,
        "start_time": "2021-07-08T10:49:26.480Z"
      },
      {
        "duration": 204,
        "start_time": "2021-07-08T10:49:59.992Z"
      },
      {
        "duration": 435,
        "start_time": "2021-07-08T10:50:06.779Z"
      },
      {
        "duration": 199,
        "start_time": "2021-07-08T10:50:14.891Z"
      },
      {
        "duration": 204,
        "start_time": "2021-07-08T10:50:18.501Z"
      },
      {
        "duration": 244,
        "start_time": "2021-07-08T10:50:23.359Z"
      },
      {
        "duration": 192,
        "start_time": "2021-07-08T10:50:29.135Z"
      },
      {
        "duration": 218,
        "start_time": "2021-07-08T10:50:33.092Z"
      },
      {
        "duration": 207,
        "start_time": "2021-07-08T10:52:45.381Z"
      },
      {
        "duration": 5,
        "start_time": "2021-07-08T10:53:34.641Z"
      },
      {
        "duration": 196,
        "start_time": "2021-07-08T10:53:41.478Z"
      },
      {
        "duration": 43,
        "start_time": "2021-07-08T10:53:50.335Z"
      },
      {
        "duration": 32,
        "start_time": "2021-07-08T10:53:55.294Z"
      },
      {
        "duration": 55,
        "start_time": "2021-07-08T10:54:09.675Z"
      },
      {
        "duration": 16,
        "start_time": "2021-07-08T10:54:12.260Z"
      },
      {
        "duration": 15,
        "start_time": "2021-07-08T10:54:49.150Z"
      },
      {
        "duration": 20,
        "start_time": "2021-07-08T10:56:07.596Z"
      },
      {
        "duration": 16,
        "start_time": "2021-07-08T10:58:26.276Z"
      },
      {
        "duration": 22,
        "start_time": "2021-07-08T10:59:00.486Z"
      },
      {
        "duration": 18,
        "start_time": "2021-07-08T11:02:09.653Z"
      },
      {
        "duration": 10,
        "start_time": "2021-07-08T11:03:44.331Z"
      },
      {
        "duration": 10,
        "start_time": "2021-07-08T11:03:54.055Z"
      },
      {
        "duration": 12,
        "start_time": "2021-07-08T11:04:41.967Z"
      },
      {
        "duration": 24,
        "start_time": "2021-07-08T11:07:30.732Z"
      },
      {
        "duration": 6,
        "start_time": "2021-07-08T11:07:37.364Z"
      },
      {
        "duration": 16,
        "start_time": "2021-07-08T11:08:01.819Z"
      },
      {
        "duration": 17,
        "start_time": "2021-07-08T11:09:47.488Z"
      },
      {
        "duration": 246,
        "start_time": "2021-07-08T11:10:00.830Z"
      },
      {
        "duration": 18,
        "start_time": "2021-07-08T11:13:55.195Z"
      },
      {
        "duration": 204,
        "start_time": "2021-07-08T11:14:04.951Z"
      },
      {
        "duration": 19,
        "start_time": "2021-07-08T11:15:10.613Z"
      },
      {
        "duration": 680,
        "start_time": "2021-07-08T11:16:25.793Z"
      },
      {
        "duration": 451,
        "start_time": "2021-07-08T11:16:40.313Z"
      },
      {
        "duration": 469,
        "start_time": "2021-07-08T11:17:21.286Z"
      },
      {
        "duration": 20,
        "start_time": "2021-07-08T11:19:12.554Z"
      },
      {
        "duration": 35,
        "start_time": "2021-07-08T11:20:05.484Z"
      },
      {
        "duration": 53,
        "start_time": "2021-07-08T11:21:40.050Z"
      },
      {
        "duration": 13,
        "start_time": "2021-07-08T11:22:26.059Z"
      },
      {
        "duration": 19,
        "start_time": "2021-07-08T11:22:47.419Z"
      },
      {
        "duration": 25,
        "start_time": "2021-07-08T11:23:19.958Z"
      },
      {
        "duration": 29,
        "start_time": "2021-07-08T11:23:25.415Z"
      },
      {
        "duration": 10,
        "start_time": "2021-07-08T11:24:45.138Z"
      },
      {
        "duration": 19,
        "start_time": "2021-07-08T11:24:54.498Z"
      },
      {
        "duration": 12,
        "start_time": "2021-07-08T11:25:32.225Z"
      },
      {
        "duration": 19,
        "start_time": "2021-07-08T11:25:37.092Z"
      },
      {
        "duration": 17,
        "start_time": "2021-07-08T11:25:58.116Z"
      },
      {
        "duration": 15,
        "start_time": "2021-07-08T11:26:02.258Z"
      },
      {
        "duration": 8,
        "start_time": "2021-07-08T11:26:59.682Z"
      },
      {
        "duration": 184,
        "start_time": "2021-07-08T11:27:21.894Z"
      },
      {
        "duration": 8,
        "start_time": "2021-07-08T11:27:23.824Z"
      },
      {
        "duration": 202,
        "start_time": "2021-07-08T11:27:23.962Z"
      },
      {
        "duration": 360,
        "start_time": "2021-07-08T11:28:33.215Z"
      },
      {
        "duration": 231,
        "start_time": "2021-07-08T11:32:05.542Z"
      },
      {
        "duration": 607,
        "start_time": "2021-07-08T11:36:27.854Z"
      },
      {
        "duration": 241,
        "start_time": "2021-07-08T11:36:28.463Z"
      },
      {
        "duration": 67,
        "start_time": "2021-07-08T11:36:28.709Z"
      },
      {
        "duration": 5,
        "start_time": "2021-07-08T11:36:28.778Z"
      },
      {
        "duration": 32,
        "start_time": "2021-07-08T11:36:28.784Z"
      },
      {
        "duration": 11,
        "start_time": "2021-07-08T11:36:28.819Z"
      },
      {
        "duration": 20,
        "start_time": "2021-07-08T11:36:28.834Z"
      },
      {
        "duration": 36,
        "start_time": "2021-07-08T11:36:28.857Z"
      },
      {
        "duration": 16,
        "start_time": "2021-07-08T11:36:28.895Z"
      },
      {
        "duration": 14,
        "start_time": "2021-07-08T11:36:28.913Z"
      },
      {
        "duration": 9,
        "start_time": "2021-07-08T11:36:28.930Z"
      },
      {
        "duration": 55,
        "start_time": "2021-07-08T11:36:28.941Z"
      },
      {
        "duration": 27,
        "start_time": "2021-07-08T11:36:28.999Z"
      },
      {
        "duration": 30,
        "start_time": "2021-07-08T11:36:29.028Z"
      },
      {
        "duration": 31,
        "start_time": "2021-07-08T11:36:29.060Z"
      },
      {
        "duration": 3,
        "start_time": "2021-07-08T11:36:29.093Z"
      },
      {
        "duration": 12,
        "start_time": "2021-07-08T11:36:29.099Z"
      },
      {
        "duration": 11,
        "start_time": "2021-07-08T11:36:29.112Z"
      },
      {
        "duration": 12,
        "start_time": "2021-07-08T11:36:29.125Z"
      },
      {
        "duration": 9,
        "start_time": "2021-07-08T11:36:29.139Z"
      },
      {
        "duration": 31,
        "start_time": "2021-07-08T11:36:29.191Z"
      },
      {
        "duration": 17,
        "start_time": "2021-07-08T11:36:29.226Z"
      },
      {
        "duration": 7,
        "start_time": "2021-07-08T11:36:29.245Z"
      },
      {
        "duration": 10,
        "start_time": "2021-07-08T11:36:29.254Z"
      },
      {
        "duration": 30,
        "start_time": "2021-07-08T11:36:29.292Z"
      },
      {
        "duration": 11,
        "start_time": "2021-07-08T11:36:29.324Z"
      },
      {
        "duration": 11,
        "start_time": "2021-07-08T11:36:29.337Z"
      },
      {
        "duration": 230,
        "start_time": "2021-07-08T11:36:29.349Z"
      },
      {
        "duration": 13,
        "start_time": "2021-07-08T11:36:29.588Z"
      },
      {
        "duration": 205,
        "start_time": "2021-07-08T11:36:29.603Z"
      },
      {
        "duration": 20,
        "start_time": "2021-07-08T11:36:29.810Z"
      },
      {
        "duration": 9,
        "start_time": "2021-07-08T11:36:29.832Z"
      },
      {
        "duration": 16,
        "start_time": "2021-07-08T11:36:29.843Z"
      },
      {
        "duration": 283,
        "start_time": "2021-07-08T11:36:29.861Z"
      },
      {
        "duration": 50,
        "start_time": "2021-07-08T11:36:30.146Z"
      },
      {
        "duration": 14,
        "start_time": "2021-07-08T11:36:30.198Z"
      },
      {
        "duration": 11,
        "start_time": "2021-07-08T11:36:30.214Z"
      },
      {
        "duration": 245,
        "start_time": "2021-07-08T11:36:30.227Z"
      },
      {
        "duration": 439,
        "start_time": "2021-07-08T11:36:30.474Z"
      },
      {
        "duration": 210,
        "start_time": "2021-07-08T11:36:30.915Z"
      },
      {
        "duration": 15,
        "start_time": "2021-07-08T11:36:31.127Z"
      },
      {
        "duration": 17,
        "start_time": "2021-07-08T11:38:20.451Z"
      },
      {
        "duration": 642,
        "start_time": "2021-07-08T11:46:17.881Z"
      },
      {
        "duration": 210,
        "start_time": "2021-07-08T11:46:18.525Z"
      },
      {
        "duration": 104,
        "start_time": "2021-07-08T11:46:18.741Z"
      },
      {
        "duration": 8,
        "start_time": "2021-07-08T11:46:18.847Z"
      },
      {
        "duration": 25,
        "start_time": "2021-07-08T11:46:18.857Z"
      },
      {
        "duration": 14,
        "start_time": "2021-07-08T11:46:18.884Z"
      },
      {
        "duration": 22,
        "start_time": "2021-07-08T11:46:18.900Z"
      },
      {
        "duration": 5,
        "start_time": "2021-07-08T11:46:18.924Z"
      },
      {
        "duration": 13,
        "start_time": "2021-07-08T11:46:18.931Z"
      },
      {
        "duration": 45,
        "start_time": "2021-07-08T11:46:18.946Z"
      },
      {
        "duration": 12,
        "start_time": "2021-07-08T11:46:18.993Z"
      },
      {
        "duration": 38,
        "start_time": "2021-07-08T11:46:19.006Z"
      },
      {
        "duration": 50,
        "start_time": "2021-07-08T11:46:19.046Z"
      },
      {
        "duration": 29,
        "start_time": "2021-07-08T11:46:19.099Z"
      },
      {
        "duration": 7,
        "start_time": "2021-07-08T11:46:19.130Z"
      },
      {
        "duration": 3,
        "start_time": "2021-07-08T11:46:19.139Z"
      },
      {
        "duration": 11,
        "start_time": "2021-07-08T11:46:19.144Z"
      },
      {
        "duration": 40,
        "start_time": "2021-07-08T11:46:19.157Z"
      },
      {
        "duration": 15,
        "start_time": "2021-07-08T11:46:19.199Z"
      },
      {
        "duration": 10,
        "start_time": "2021-07-08T11:46:19.217Z"
      },
      {
        "duration": 68,
        "start_time": "2021-07-08T11:46:19.230Z"
      },
      {
        "duration": 17,
        "start_time": "2021-07-08T11:46:19.301Z"
      },
      {
        "duration": 7,
        "start_time": "2021-07-08T11:46:19.321Z"
      },
      {
        "duration": 11,
        "start_time": "2021-07-08T11:46:19.330Z"
      },
      {
        "duration": 59,
        "start_time": "2021-07-08T11:46:19.343Z"
      },
      {
        "duration": 17,
        "start_time": "2021-07-08T11:46:19.405Z"
      },
      {
        "duration": 16,
        "start_time": "2021-07-08T11:46:19.424Z"
      },
      {
        "duration": 252,
        "start_time": "2021-07-08T11:46:19.443Z"
      },
      {
        "duration": 9,
        "start_time": "2021-07-08T11:46:19.697Z"
      },
      {
        "duration": 224,
        "start_time": "2021-07-08T11:46:19.708Z"
      },
      {
        "duration": 21,
        "start_time": "2021-07-08T11:46:19.934Z"
      },
      {
        "duration": 9,
        "start_time": "2021-07-08T11:46:19.956Z"
      },
      {
        "duration": 32,
        "start_time": "2021-07-08T11:46:19.967Z"
      },
      {
        "duration": 288,
        "start_time": "2021-07-08T11:46:20.004Z"
      },
      {
        "duration": 23,
        "start_time": "2021-07-08T11:46:20.300Z"
      },
      {
        "duration": 11,
        "start_time": "2021-07-08T11:46:20.325Z"
      },
      {
        "duration": 11,
        "start_time": "2021-07-08T11:46:20.339Z"
      },
      {
        "duration": 259,
        "start_time": "2021-07-08T11:46:20.352Z"
      },
      {
        "duration": 438,
        "start_time": "2021-07-08T11:46:20.613Z"
      },
      {
        "duration": 207,
        "start_time": "2021-07-08T11:46:21.054Z"
      },
      {
        "duration": 27,
        "start_time": "2021-07-08T11:46:21.262Z"
      },
      {
        "duration": 19,
        "start_time": "2021-07-08T11:46:21.291Z"
      },
      {
        "duration": 820,
        "start_time": "2021-07-08T11:49:01.655Z"
      },
      {
        "duration": 372,
        "start_time": "2021-07-08T11:49:02.478Z"
      },
      {
        "duration": 98,
        "start_time": "2021-07-08T11:49:02.853Z"
      },
      {
        "duration": 6,
        "start_time": "2021-07-08T11:49:02.953Z"
      },
      {
        "duration": 39,
        "start_time": "2021-07-08T11:49:02.960Z"
      },
      {
        "duration": 9,
        "start_time": "2021-07-08T11:49:03.003Z"
      },
      {
        "duration": 23,
        "start_time": "2021-07-08T11:49:03.014Z"
      },
      {
        "duration": 6,
        "start_time": "2021-07-08T11:49:03.041Z"
      },
      {
        "duration": 20,
        "start_time": "2021-07-08T11:49:03.049Z"
      },
      {
        "duration": 18,
        "start_time": "2021-07-08T11:49:03.084Z"
      },
      {
        "duration": 14,
        "start_time": "2021-07-08T11:49:03.104Z"
      },
      {
        "duration": 39,
        "start_time": "2021-07-08T11:49:03.119Z"
      },
      {
        "duration": 38,
        "start_time": "2021-07-08T11:49:03.160Z"
      },
      {
        "duration": 26,
        "start_time": "2021-07-08T11:49:03.200Z"
      },
      {
        "duration": 7,
        "start_time": "2021-07-08T11:49:03.227Z"
      },
      {
        "duration": 4,
        "start_time": "2021-07-08T11:49:03.236Z"
      },
      {
        "duration": 15,
        "start_time": "2021-07-08T11:49:03.243Z"
      },
      {
        "duration": 21,
        "start_time": "2021-07-08T11:49:03.285Z"
      },
      {
        "duration": 17,
        "start_time": "2021-07-08T11:49:03.309Z"
      },
      {
        "duration": 10,
        "start_time": "2021-07-08T11:49:03.328Z"
      },
      {
        "duration": 65,
        "start_time": "2021-07-08T11:49:03.340Z"
      },
      {
        "duration": 18,
        "start_time": "2021-07-08T11:49:03.407Z"
      },
      {
        "duration": 8,
        "start_time": "2021-07-08T11:49:03.428Z"
      },
      {
        "duration": 15,
        "start_time": "2021-07-08T11:49:03.438Z"
      },
      {
        "duration": 40,
        "start_time": "2021-07-08T11:49:03.455Z"
      },
      {
        "duration": 12,
        "start_time": "2021-07-08T11:49:03.497Z"
      },
      {
        "duration": 29,
        "start_time": "2021-07-08T11:49:03.511Z"
      },
      {
        "duration": 285,
        "start_time": "2021-07-08T11:49:03.542Z"
      },
      {
        "duration": 8,
        "start_time": "2021-07-08T11:49:03.829Z"
      },
      {
        "duration": 227,
        "start_time": "2021-07-08T11:49:03.838Z"
      },
      {
        "duration": 40,
        "start_time": "2021-07-08T11:49:04.066Z"
      },
      {
        "duration": 10,
        "start_time": "2021-07-08T11:49:04.108Z"
      },
      {
        "duration": 26,
        "start_time": "2021-07-08T11:49:04.121Z"
      },
      {
        "duration": 290,
        "start_time": "2021-07-08T11:49:04.149Z"
      },
      {
        "duration": 26,
        "start_time": "2021-07-08T11:49:04.441Z"
      },
      {
        "duration": 31,
        "start_time": "2021-07-08T11:49:04.470Z"
      },
      {
        "duration": 14,
        "start_time": "2021-07-08T11:49:04.503Z"
      },
      {
        "duration": 259,
        "start_time": "2021-07-08T11:49:04.521Z"
      },
      {
        "duration": 480,
        "start_time": "2021-07-08T11:49:04.782Z"
      },
      {
        "duration": 225,
        "start_time": "2021-07-08T11:49:05.264Z"
      },
      {
        "duration": 22,
        "start_time": "2021-07-08T11:49:05.491Z"
      },
      {
        "duration": 24,
        "start_time": "2021-07-08T11:49:05.515Z"
      },
      {
        "duration": 634,
        "start_time": "2021-07-08T11:52:24.960Z"
      },
      {
        "duration": 199,
        "start_time": "2021-07-08T11:52:25.599Z"
      },
      {
        "duration": 106,
        "start_time": "2021-07-08T11:52:25.803Z"
      },
      {
        "duration": 7,
        "start_time": "2021-07-08T11:52:25.911Z"
      },
      {
        "duration": 29,
        "start_time": "2021-07-08T11:52:25.920Z"
      },
      {
        "duration": 7,
        "start_time": "2021-07-08T11:52:25.951Z"
      },
      {
        "duration": 26,
        "start_time": "2021-07-08T11:52:25.961Z"
      },
      {
        "duration": 11,
        "start_time": "2021-07-08T11:52:25.990Z"
      },
      {
        "duration": 29,
        "start_time": "2021-07-08T11:52:26.005Z"
      },
      {
        "duration": 9,
        "start_time": "2021-07-08T11:52:26.036Z"
      },
      {
        "duration": 8,
        "start_time": "2021-07-08T11:52:26.047Z"
      },
      {
        "duration": 63,
        "start_time": "2021-07-08T11:52:26.057Z"
      },
      {
        "duration": 17,
        "start_time": "2021-07-08T11:52:26.122Z"
      },
      {
        "duration": 43,
        "start_time": "2021-07-08T11:52:26.142Z"
      },
      {
        "duration": 17,
        "start_time": "2021-07-08T11:52:26.187Z"
      },
      {
        "duration": 5,
        "start_time": "2021-07-08T11:52:26.206Z"
      },
      {
        "duration": 12,
        "start_time": "2021-07-08T11:52:26.212Z"
      },
      {
        "duration": 11,
        "start_time": "2021-07-08T11:52:26.226Z"
      },
      {
        "duration": 12,
        "start_time": "2021-07-08T11:52:26.238Z"
      },
      {
        "duration": 38,
        "start_time": "2021-07-08T11:52:26.252Z"
      },
      {
        "duration": 40,
        "start_time": "2021-07-08T11:52:26.292Z"
      },
      {
        "duration": 17,
        "start_time": "2021-07-08T11:52:26.336Z"
      },
      {
        "duration": 39,
        "start_time": "2021-07-08T11:52:26.355Z"
      },
      {
        "duration": 11,
        "start_time": "2021-07-08T11:52:26.395Z"
      },
      {
        "duration": 23,
        "start_time": "2021-07-08T11:52:26.408Z"
      },
      {
        "duration": 12,
        "start_time": "2021-07-08T11:52:26.432Z"
      },
      {
        "duration": 41,
        "start_time": "2021-07-08T11:52:26.446Z"
      },
      {
        "duration": 215,
        "start_time": "2021-07-08T11:52:26.493Z"
      },
      {
        "duration": 8,
        "start_time": "2021-07-08T11:52:26.710Z"
      },
      {
        "duration": 228,
        "start_time": "2021-07-08T11:52:26.720Z"
      },
      {
        "duration": 18,
        "start_time": "2021-07-08T11:52:26.950Z"
      },
      {
        "duration": 35,
        "start_time": "2021-07-08T11:52:26.969Z"
      },
      {
        "duration": 23,
        "start_time": "2021-07-08T11:52:27.006Z"
      },
      {
        "duration": 258,
        "start_time": "2021-07-08T11:52:27.030Z"
      },
      {
        "duration": 24,
        "start_time": "2021-07-08T11:52:27.290Z"
      },
      {
        "duration": 12,
        "start_time": "2021-07-08T11:52:27.316Z"
      },
      {
        "duration": 10,
        "start_time": "2021-07-08T11:52:27.329Z"
      },
      {
        "duration": 298,
        "start_time": "2021-07-08T11:52:27.341Z"
      },
      {
        "duration": 436,
        "start_time": "2021-07-08T11:52:27.641Z"
      },
      {
        "duration": 216,
        "start_time": "2021-07-08T11:52:28.079Z"
      },
      {
        "duration": 20,
        "start_time": "2021-07-08T11:52:28.297Z"
      },
      {
        "duration": 17,
        "start_time": "2021-07-08T11:52:28.319Z"
      },
      {
        "duration": 1295,
        "start_time": "2022-03-17T19:01:18.206Z"
      },
      {
        "duration": 137,
        "start_time": "2022-03-17T19:03:31.769Z"
      },
      {
        "duration": 124,
        "start_time": "2022-03-17T19:03:50.162Z"
      },
      {
        "duration": 150,
        "start_time": "2022-03-17T19:04:19.618Z"
      },
      {
        "duration": 148,
        "start_time": "2022-03-17T19:04:36.467Z"
      },
      {
        "duration": 99,
        "start_time": "2022-03-17T19:05:39.526Z"
      },
      {
        "duration": 40,
        "start_time": "2022-03-17T19:09:43.837Z"
      },
      {
        "duration": 39,
        "start_time": "2022-03-17T19:09:54.462Z"
      },
      {
        "duration": 16,
        "start_time": "2022-03-17T19:12:58.540Z"
      },
      {
        "duration": 9,
        "start_time": "2022-03-17T19:14:19.695Z"
      },
      {
        "duration": 77,
        "start_time": "2022-03-17T19:18:52.849Z"
      },
      {
        "duration": 77,
        "start_time": "2022-03-17T19:19:17.593Z"
      },
      {
        "duration": 88,
        "start_time": "2022-03-17T19:19:30.858Z"
      },
      {
        "duration": 10,
        "start_time": "2022-03-17T19:21:42.350Z"
      },
      {
        "duration": 13,
        "start_time": "2022-03-17T19:22:05.791Z"
      },
      {
        "duration": 10,
        "start_time": "2022-03-17T19:24:32.581Z"
      },
      {
        "duration": 22,
        "start_time": "2022-03-17T19:25:13.021Z"
      },
      {
        "duration": 22,
        "start_time": "2022-03-17T19:26:58.353Z"
      },
      {
        "duration": 21,
        "start_time": "2022-03-17T19:27:28.585Z"
      },
      {
        "duration": 23,
        "start_time": "2022-03-17T19:28:45.163Z"
      },
      {
        "duration": 3,
        "start_time": "2022-03-17T19:28:53.786Z"
      },
      {
        "duration": 90,
        "start_time": "2022-03-17T19:28:53.791Z"
      },
      {
        "duration": 40,
        "start_time": "2022-03-17T19:28:53.882Z"
      },
      {
        "duration": 13,
        "start_time": "2022-03-17T19:28:53.924Z"
      },
      {
        "duration": 8,
        "start_time": "2022-03-17T19:28:53.938Z"
      },
      {
        "duration": 12,
        "start_time": "2022-03-17T19:28:53.948Z"
      },
      {
        "duration": 23,
        "start_time": "2022-03-17T19:28:53.961Z"
      },
      {
        "duration": 15,
        "start_time": "2022-03-17T20:28:03.312Z"
      },
      {
        "duration": 7,
        "start_time": "2022-03-17T20:28:16.933Z"
      },
      {
        "duration": 3,
        "start_time": "2022-03-17T20:28:28.444Z"
      },
      {
        "duration": 94,
        "start_time": "2022-03-17T20:28:28.449Z"
      },
      {
        "duration": 42,
        "start_time": "2022-03-17T20:28:28.545Z"
      },
      {
        "duration": 17,
        "start_time": "2022-03-17T20:28:28.589Z"
      },
      {
        "duration": 13,
        "start_time": "2022-03-17T20:28:28.609Z"
      },
      {
        "duration": 12,
        "start_time": "2022-03-17T20:28:28.623Z"
      },
      {
        "duration": 25,
        "start_time": "2022-03-17T20:28:28.636Z"
      },
      {
        "duration": 5,
        "start_time": "2022-03-17T20:28:28.662Z"
      },
      {
        "duration": 16,
        "start_time": "2022-03-17T20:29:28.209Z"
      },
      {
        "duration": 22,
        "start_time": "2022-03-17T20:29:56.657Z"
      },
      {
        "duration": 13,
        "start_time": "2022-03-17T20:30:09.561Z"
      },
      {
        "duration": 99,
        "start_time": "2022-03-17T20:32:01.630Z"
      },
      {
        "duration": 23,
        "start_time": "2022-03-17T20:32:06.429Z"
      },
      {
        "duration": 16,
        "start_time": "2022-03-17T20:32:16.280Z"
      },
      {
        "duration": 15,
        "start_time": "2022-03-17T20:32:31.071Z"
      },
      {
        "duration": 11,
        "start_time": "2022-03-17T20:32:43.174Z"
      },
      {
        "duration": 14,
        "start_time": "2022-03-17T22:15:17.877Z"
      },
      {
        "duration": 24,
        "start_time": "2022-03-17T22:21:04.192Z"
      },
      {
        "duration": 24,
        "start_time": "2022-03-17T22:21:43.058Z"
      },
      {
        "duration": 49,
        "start_time": "2022-03-17T22:23:37.629Z"
      },
      {
        "duration": 31,
        "start_time": "2022-03-17T22:24:29.319Z"
      },
      {
        "duration": 18,
        "start_time": "2022-03-17T22:27:14.373Z"
      },
      {
        "duration": 34,
        "start_time": "2022-03-17T22:27:18.604Z"
      },
      {
        "duration": 13,
        "start_time": "2022-03-17T23:01:54.656Z"
      },
      {
        "duration": 27,
        "start_time": "2022-03-17T23:01:57.583Z"
      },
      {
        "duration": 61,
        "start_time": "2022-03-18T16:06:24.430Z"
      },
      {
        "duration": 1290,
        "start_time": "2022-03-18T16:06:32.217Z"
      },
      {
        "duration": 93,
        "start_time": "2022-03-18T16:06:33.509Z"
      },
      {
        "duration": 33,
        "start_time": "2022-03-18T16:06:33.603Z"
      },
      {
        "duration": 16,
        "start_time": "2022-03-18T16:06:33.638Z"
      },
      {
        "duration": 12,
        "start_time": "2022-03-18T16:06:33.655Z"
      },
      {
        "duration": 14,
        "start_time": "2022-03-18T16:06:33.669Z"
      },
      {
        "duration": 40,
        "start_time": "2022-03-18T16:06:33.685Z"
      },
      {
        "duration": 27,
        "start_time": "2022-03-18T16:06:33.726Z"
      },
      {
        "duration": 22,
        "start_time": "2022-03-18T16:06:33.755Z"
      },
      {
        "duration": 31,
        "start_time": "2022-03-18T16:06:33.779Z"
      },
      {
        "duration": 16,
        "start_time": "2022-03-18T16:06:33.812Z"
      },
      {
        "duration": 35,
        "start_time": "2022-03-18T16:06:33.830Z"
      },
      {
        "duration": 20,
        "start_time": "2022-03-18T16:06:54.155Z"
      },
      {
        "duration": 33,
        "start_time": "2022-03-18T16:07:01.869Z"
      },
      {
        "duration": 17,
        "start_time": "2022-03-18T17:06:36.743Z"
      },
      {
        "duration": 6,
        "start_time": "2022-03-18T17:11:20.152Z"
      },
      {
        "duration": 4,
        "start_time": "2022-03-18T17:12:54.429Z"
      },
      {
        "duration": 9,
        "start_time": "2022-03-18T17:13:41.316Z"
      },
      {
        "duration": 9,
        "start_time": "2022-03-18T17:13:48.870Z"
      },
      {
        "duration": 8,
        "start_time": "2022-03-18T17:14:09.405Z"
      },
      {
        "duration": 19,
        "start_time": "2022-03-18T17:14:51.078Z"
      },
      {
        "duration": 9,
        "start_time": "2022-03-18T17:20:13.736Z"
      },
      {
        "duration": 17,
        "start_time": "2022-03-18T17:20:55.609Z"
      },
      {
        "duration": 16,
        "start_time": "2022-03-18T17:22:29.381Z"
      },
      {
        "duration": 76,
        "start_time": "2022-03-18T18:16:16.106Z"
      },
      {
        "duration": 6,
        "start_time": "2022-03-18T18:16:42.738Z"
      },
      {
        "duration": 9,
        "start_time": "2022-03-18T18:21:56.004Z"
      },
      {
        "duration": 7,
        "start_time": "2022-03-18T18:22:32.709Z"
      },
      {
        "duration": 6,
        "start_time": "2022-03-18T18:22:41.061Z"
      },
      {
        "duration": 64,
        "start_time": "2022-03-18T18:22:47.758Z"
      },
      {
        "duration": 4,
        "start_time": "2022-03-18T18:22:56.236Z"
      },
      {
        "duration": 92,
        "start_time": "2022-03-18T18:22:56.242Z"
      },
      {
        "duration": 24,
        "start_time": "2022-03-18T18:22:56.336Z"
      },
      {
        "duration": 16,
        "start_time": "2022-03-18T18:22:56.362Z"
      },
      {
        "duration": 12,
        "start_time": "2022-03-18T18:22:56.380Z"
      },
      {
        "duration": 22,
        "start_time": "2022-03-18T18:22:56.393Z"
      },
      {
        "duration": 25,
        "start_time": "2022-03-18T18:22:56.416Z"
      },
      {
        "duration": 26,
        "start_time": "2022-03-18T18:22:56.443Z"
      },
      {
        "duration": 49,
        "start_time": "2022-03-18T18:22:56.471Z"
      },
      {
        "duration": 11,
        "start_time": "2022-03-18T18:22:56.522Z"
      },
      {
        "duration": 16,
        "start_time": "2022-03-18T18:22:56.534Z"
      },
      {
        "duration": 58,
        "start_time": "2022-03-18T18:22:56.552Z"
      },
      {
        "duration": 17,
        "start_time": "2022-03-18T18:22:56.612Z"
      },
      {
        "duration": 8,
        "start_time": "2022-03-18T18:22:56.631Z"
      },
      {
        "duration": 18,
        "start_time": "2022-03-18T18:22:56.641Z"
      },
      {
        "duration": 9,
        "start_time": "2022-03-18T18:22:56.661Z"
      },
      {
        "duration": 50,
        "start_time": "2022-03-18T18:22:56.671Z"
      },
      {
        "duration": 17,
        "start_time": "2022-03-18T18:22:56.723Z"
      },
      {
        "duration": 8,
        "start_time": "2022-03-18T18:22:56.742Z"
      },
      {
        "duration": 9,
        "start_time": "2022-03-18T18:22:56.752Z"
      },
      {
        "duration": 13,
        "start_time": "2022-03-18T18:23:19.358Z"
      },
      {
        "duration": 4,
        "start_time": "2022-03-18T18:23:25.334Z"
      },
      {
        "duration": 90,
        "start_time": "2022-03-18T18:23:25.340Z"
      },
      {
        "duration": 25,
        "start_time": "2022-03-18T18:23:25.432Z"
      },
      {
        "duration": 16,
        "start_time": "2022-03-18T18:23:25.459Z"
      },
      {
        "duration": 9,
        "start_time": "2022-03-18T18:23:25.477Z"
      },
      {
        "duration": 27,
        "start_time": "2022-03-18T18:23:25.489Z"
      },
      {
        "duration": 26,
        "start_time": "2022-03-18T18:23:25.518Z"
      },
      {
        "duration": 26,
        "start_time": "2022-03-18T18:23:25.546Z"
      },
      {
        "duration": 50,
        "start_time": "2022-03-18T18:23:25.574Z"
      },
      {
        "duration": 12,
        "start_time": "2022-03-18T18:23:25.627Z"
      },
      {
        "duration": 18,
        "start_time": "2022-03-18T18:23:25.640Z"
      },
      {
        "duration": 68,
        "start_time": "2022-03-18T18:23:25.660Z"
      },
      {
        "duration": 19,
        "start_time": "2022-03-18T18:23:25.729Z"
      },
      {
        "duration": 8,
        "start_time": "2022-03-18T18:23:25.750Z"
      },
      {
        "duration": 18,
        "start_time": "2022-03-18T18:23:25.759Z"
      },
      {
        "duration": 35,
        "start_time": "2022-03-18T18:23:25.778Z"
      },
      {
        "duration": 17,
        "start_time": "2022-03-18T18:23:25.815Z"
      },
      {
        "duration": 17,
        "start_time": "2022-03-18T18:23:25.833Z"
      },
      {
        "duration": 9,
        "start_time": "2022-03-18T18:23:25.851Z"
      },
      {
        "duration": 10,
        "start_time": "2022-03-18T18:23:25.861Z"
      },
      {
        "duration": 10,
        "start_time": "2022-03-18T18:23:51.008Z"
      },
      {
        "duration": 7,
        "start_time": "2022-03-18T18:24:25.865Z"
      },
      {
        "duration": 4,
        "start_time": "2022-03-18T18:24:32.816Z"
      },
      {
        "duration": 93,
        "start_time": "2022-03-18T18:24:32.822Z"
      },
      {
        "duration": 25,
        "start_time": "2022-03-18T18:24:32.917Z"
      },
      {
        "duration": 15,
        "start_time": "2022-03-18T18:24:32.944Z"
      },
      {
        "duration": 20,
        "start_time": "2022-03-18T18:24:32.961Z"
      },
      {
        "duration": 16,
        "start_time": "2022-03-18T18:24:32.983Z"
      },
      {
        "duration": 29,
        "start_time": "2022-03-18T18:24:33.001Z"
      },
      {
        "duration": 25,
        "start_time": "2022-03-18T18:24:33.032Z"
      },
      {
        "duration": 22,
        "start_time": "2022-03-18T18:24:33.059Z"
      },
      {
        "duration": 33,
        "start_time": "2022-03-18T18:24:33.083Z"
      },
      {
        "duration": 16,
        "start_time": "2022-03-18T18:24:33.118Z"
      },
      {
        "duration": 37,
        "start_time": "2022-03-18T18:24:33.136Z"
      },
      {
        "duration": 44,
        "start_time": "2022-03-18T18:24:33.175Z"
      },
      {
        "duration": 9,
        "start_time": "2022-03-18T18:24:33.221Z"
      },
      {
        "duration": 16,
        "start_time": "2022-03-18T18:24:33.232Z"
      },
      {
        "duration": 9,
        "start_time": "2022-03-18T18:24:33.250Z"
      },
      {
        "duration": 48,
        "start_time": "2022-03-18T18:24:33.261Z"
      },
      {
        "duration": 16,
        "start_time": "2022-03-18T18:24:33.311Z"
      },
      {
        "duration": 8,
        "start_time": "2022-03-18T18:24:33.329Z"
      },
      {
        "duration": 11,
        "start_time": "2022-03-18T18:24:33.338Z"
      },
      {
        "duration": 5,
        "start_time": "2022-03-18T18:30:40.980Z"
      },
      {
        "duration": 11,
        "start_time": "2022-03-18T18:50:22.458Z"
      },
      {
        "duration": 16,
        "start_time": "2022-03-18T18:50:35.515Z"
      },
      {
        "duration": 16,
        "start_time": "2022-03-18T18:50:42.258Z"
      },
      {
        "duration": 16,
        "start_time": "2022-03-18T18:50:54.396Z"
      },
      {
        "duration": 13,
        "start_time": "2022-03-18T18:51:00.900Z"
      },
      {
        "duration": 12,
        "start_time": "2022-03-18T18:51:14.740Z"
      },
      {
        "duration": 13,
        "start_time": "2022-03-18T18:51:22.668Z"
      },
      {
        "duration": 12,
        "start_time": "2022-03-18T18:51:29.205Z"
      },
      {
        "duration": 5,
        "start_time": "2022-03-18T18:51:34.950Z"
      },
      {
        "duration": 14,
        "start_time": "2022-03-18T18:51:36.708Z"
      },
      {
        "duration": 3,
        "start_time": "2022-03-18T18:51:40.237Z"
      },
      {
        "duration": 91,
        "start_time": "2022-03-18T18:51:40.242Z"
      },
      {
        "duration": 24,
        "start_time": "2022-03-18T18:51:40.335Z"
      },
      {
        "duration": 14,
        "start_time": "2022-03-18T18:51:40.361Z"
      },
      {
        "duration": 9,
        "start_time": "2022-03-18T18:51:40.377Z"
      },
      {
        "duration": 22,
        "start_time": "2022-03-18T18:51:40.387Z"
      },
      {
        "duration": 25,
        "start_time": "2022-03-18T18:51:40.410Z"
      },
      {
        "duration": 24,
        "start_time": "2022-03-18T18:51:40.436Z"
      },
      {
        "duration": 21,
        "start_time": "2022-03-18T18:51:40.461Z"
      },
      {
        "duration": 31,
        "start_time": "2022-03-18T18:51:40.484Z"
      },
      {
        "duration": 13,
        "start_time": "2022-03-18T18:51:40.517Z"
      },
      {
        "duration": 36,
        "start_time": "2022-03-18T18:51:40.531Z"
      },
      {
        "duration": 45,
        "start_time": "2022-03-18T18:51:40.569Z"
      },
      {
        "duration": 9,
        "start_time": "2022-03-18T18:51:40.616Z"
      },
      {
        "duration": 17,
        "start_time": "2022-03-18T18:51:40.627Z"
      },
      {
        "duration": 10,
        "start_time": "2022-03-18T18:51:40.645Z"
      },
      {
        "duration": 16,
        "start_time": "2022-03-18T18:51:40.656Z"
      },
      {
        "duration": 45,
        "start_time": "2022-03-18T18:51:40.675Z"
      },
      {
        "duration": 8,
        "start_time": "2022-03-18T18:51:40.722Z"
      },
      {
        "duration": 10,
        "start_time": "2022-03-18T18:51:40.732Z"
      },
      {
        "duration": 7,
        "start_time": "2022-03-18T18:51:40.744Z"
      },
      {
        "duration": 12,
        "start_time": "2022-03-18T18:51:40.753Z"
      },
      {
        "duration": 13,
        "start_time": "2022-03-18T18:52:14.160Z"
      },
      {
        "duration": 10,
        "start_time": "2022-03-18T18:52:34.414Z"
      },
      {
        "duration": 16,
        "start_time": "2022-03-18T18:52:40.727Z"
      },
      {
        "duration": 11,
        "start_time": "2022-03-18T18:52:46.080Z"
      },
      {
        "duration": 4,
        "start_time": "2022-03-18T19:03:50.461Z"
      },
      {
        "duration": 10,
        "start_time": "2022-03-18T19:05:59.490Z"
      },
      {
        "duration": 21,
        "start_time": "2022-03-18T19:06:29.058Z"
      },
      {
        "duration": 20,
        "start_time": "2022-03-18T21:04:10.349Z"
      },
      {
        "duration": 24,
        "start_time": "2022-03-18T21:08:36.821Z"
      },
      {
        "duration": 4,
        "start_time": "2022-03-18T21:12:08.315Z"
      },
      {
        "duration": 3,
        "start_time": "2022-03-18T21:12:46.332Z"
      },
      {
        "duration": 20,
        "start_time": "2022-03-18T21:27:39.416Z"
      },
      {
        "duration": 4,
        "start_time": "2022-03-18T21:28:10.215Z"
      },
      {
        "duration": 82,
        "start_time": "2022-03-18T21:28:10.221Z"
      },
      {
        "duration": 24,
        "start_time": "2022-03-18T21:28:10.309Z"
      },
      {
        "duration": 15,
        "start_time": "2022-03-18T21:28:10.335Z"
      },
      {
        "duration": 11,
        "start_time": "2022-03-18T21:28:10.352Z"
      },
      {
        "duration": 16,
        "start_time": "2022-03-18T21:28:10.364Z"
      },
      {
        "duration": 42,
        "start_time": "2022-03-18T21:28:10.381Z"
      },
      {
        "duration": 25,
        "start_time": "2022-03-18T21:28:10.424Z"
      },
      {
        "duration": 22,
        "start_time": "2022-03-18T21:28:10.451Z"
      },
      {
        "duration": 35,
        "start_time": "2022-03-18T21:28:10.475Z"
      },
      {
        "duration": 15,
        "start_time": "2022-03-18T21:28:10.512Z"
      },
      {
        "duration": 17,
        "start_time": "2022-03-18T21:28:10.528Z"
      },
      {
        "duration": 21,
        "start_time": "2022-03-18T21:28:10.547Z"
      },
      {
        "duration": 4,
        "start_time": "2022-03-18T21:28:10.569Z"
      },
      {
        "duration": 68,
        "start_time": "2022-03-18T21:28:10.574Z"
      },
      {
        "duration": 19,
        "start_time": "2022-03-18T21:28:10.643Z"
      },
      {
        "duration": 10,
        "start_time": "2022-03-18T21:28:10.663Z"
      },
      {
        "duration": 51,
        "start_time": "2022-03-18T21:28:10.674Z"
      },
      {
        "duration": 14,
        "start_time": "2022-03-18T21:28:10.727Z"
      },
      {
        "duration": 19,
        "start_time": "2022-03-18T21:28:10.743Z"
      },
      {
        "duration": 16,
        "start_time": "2022-03-18T21:28:10.764Z"
      },
      {
        "duration": 6,
        "start_time": "2022-03-18T21:28:10.782Z"
      },
      {
        "duration": 9,
        "start_time": "2022-03-18T21:28:10.809Z"
      },
      {
        "duration": 14,
        "start_time": "2022-03-18T21:28:10.821Z"
      },
      {
        "duration": 15,
        "start_time": "2022-03-18T21:28:10.837Z"
      },
      {
        "duration": 7,
        "start_time": "2022-03-18T21:28:10.854Z"
      },
      {
        "duration": 20,
        "start_time": "2022-03-18T21:28:10.863Z"
      },
      {
        "duration": 4,
        "start_time": "2022-03-18T21:41:51.402Z"
      },
      {
        "duration": 4,
        "start_time": "2022-03-18T21:42:02.530Z"
      },
      {
        "duration": 195,
        "start_time": "2022-03-18T21:42:58.147Z"
      },
      {
        "duration": 365,
        "start_time": "2022-03-18T21:44:00.470Z"
      },
      {
        "duration": 13,
        "start_time": "2022-03-18T21:49:37.918Z"
      },
      {
        "duration": 22,
        "start_time": "2022-03-18T21:50:09.281Z"
      },
      {
        "duration": 423,
        "start_time": "2022-03-18T21:50:27.313Z"
      },
      {
        "duration": 9,
        "start_time": "2022-03-18T21:54:58.130Z"
      },
      {
        "duration": 213,
        "start_time": "2022-03-18T21:55:09.609Z"
      },
      {
        "duration": 258,
        "start_time": "2022-03-18T21:55:29.699Z"
      },
      {
        "duration": 285,
        "start_time": "2022-03-18T21:57:38.942Z"
      },
      {
        "duration": 440,
        "start_time": "2022-03-18T21:58:47.496Z"
      },
      {
        "duration": 11,
        "start_time": "2022-03-18T22:07:56.065Z"
      },
      {
        "duration": 10,
        "start_time": "2022-03-18T22:08:15.262Z"
      },
      {
        "duration": 195,
        "start_time": "2022-03-18T22:09:10.067Z"
      },
      {
        "duration": 290,
        "start_time": "2022-03-18T22:09:18.571Z"
      },
      {
        "duration": 205,
        "start_time": "2022-03-18T22:09:40.732Z"
      },
      {
        "duration": 214,
        "start_time": "2022-03-18T22:09:44.556Z"
      },
      {
        "duration": 5,
        "start_time": "2022-03-18T22:10:15.279Z"
      },
      {
        "duration": 6,
        "start_time": "2022-03-18T22:10:28.766Z"
      },
      {
        "duration": 205,
        "start_time": "2022-03-18T22:11:14.791Z"
      },
      {
        "duration": 69,
        "start_time": "2022-03-18T22:14:24.950Z"
      },
      {
        "duration": 197,
        "start_time": "2022-03-18T22:14:39.670Z"
      },
      {
        "duration": 19,
        "start_time": "2022-03-18T22:17:48.893Z"
      },
      {
        "duration": 14,
        "start_time": "2022-03-18T22:17:54.285Z"
      },
      {
        "duration": 192,
        "start_time": "2022-03-18T22:40:27.496Z"
      },
      {
        "duration": 94,
        "start_time": "2022-03-18T22:41:06.667Z"
      },
      {
        "duration": 4,
        "start_time": "2022-03-18T22:41:21.035Z"
      },
      {
        "duration": 90,
        "start_time": "2022-03-18T22:41:21.040Z"
      },
      {
        "duration": 24,
        "start_time": "2022-03-18T22:41:21.132Z"
      },
      {
        "duration": 14,
        "start_time": "2022-03-18T22:41:21.158Z"
      },
      {
        "duration": 9,
        "start_time": "2022-03-18T22:41:21.174Z"
      },
      {
        "duration": 11,
        "start_time": "2022-03-18T22:41:21.185Z"
      },
      {
        "duration": 35,
        "start_time": "2022-03-18T22:41:21.198Z"
      },
      {
        "duration": 25,
        "start_time": "2022-03-18T22:41:21.235Z"
      },
      {
        "duration": 21,
        "start_time": "2022-03-18T22:41:21.263Z"
      },
      {
        "duration": 11,
        "start_time": "2022-03-18T22:41:21.309Z"
      },
      {
        "duration": 15,
        "start_time": "2022-03-18T22:41:21.321Z"
      },
      {
        "duration": 17,
        "start_time": "2022-03-18T22:41:21.338Z"
      },
      {
        "duration": 53,
        "start_time": "2022-03-18T22:41:21.356Z"
      },
      {
        "duration": 4,
        "start_time": "2022-03-18T22:41:21.411Z"
      },
      {
        "duration": 39,
        "start_time": "2022-03-18T22:41:21.417Z"
      },
      {
        "duration": 18,
        "start_time": "2022-03-18T22:41:21.458Z"
      },
      {
        "duration": 31,
        "start_time": "2022-03-18T22:41:21.478Z"
      },
      {
        "duration": 17,
        "start_time": "2022-03-18T22:41:21.511Z"
      },
      {
        "duration": 9,
        "start_time": "2022-03-18T22:41:21.530Z"
      },
      {
        "duration": 15,
        "start_time": "2022-03-18T22:41:21.541Z"
      },
      {
        "duration": 17,
        "start_time": "2022-03-18T22:41:21.557Z"
      },
      {
        "duration": 39,
        "start_time": "2022-03-18T22:41:21.575Z"
      },
      {
        "duration": 10,
        "start_time": "2022-03-18T22:41:21.616Z"
      },
      {
        "duration": 5,
        "start_time": "2022-03-18T22:41:21.629Z"
      },
      {
        "duration": 20,
        "start_time": "2022-03-18T22:41:21.636Z"
      },
      {
        "duration": 6,
        "start_time": "2022-03-18T22:41:21.657Z"
      },
      {
        "duration": 45,
        "start_time": "2022-03-18T22:41:21.665Z"
      },
      {
        "duration": 80,
        "start_time": "2022-03-18T22:41:21.711Z"
      },
      {
        "duration": 64,
        "start_time": "2022-03-18T22:41:37.650Z"
      },
      {
        "duration": 127,
        "start_time": "2022-03-18T22:41:59.469Z"
      },
      {
        "duration": 3,
        "start_time": "2022-03-18T22:42:19.301Z"
      },
      {
        "duration": 87,
        "start_time": "2022-03-18T22:42:19.306Z"
      },
      {
        "duration": 24,
        "start_time": "2022-03-18T22:42:19.394Z"
      },
      {
        "duration": 14,
        "start_time": "2022-03-18T22:42:19.420Z"
      },
      {
        "duration": 11,
        "start_time": "2022-03-18T22:42:19.436Z"
      },
      {
        "duration": 13,
        "start_time": "2022-03-18T22:42:19.449Z"
      },
      {
        "duration": 29,
        "start_time": "2022-03-18T22:42:19.464Z"
      },
      {
        "duration": 26,
        "start_time": "2022-03-18T22:42:19.510Z"
      },
      {
        "duration": 21,
        "start_time": "2022-03-18T22:42:19.539Z"
      },
      {
        "duration": 10,
        "start_time": "2022-03-18T22:42:19.562Z"
      },
      {
        "duration": 44,
        "start_time": "2022-03-18T22:42:19.573Z"
      },
      {
        "duration": 17,
        "start_time": "2022-03-18T22:42:19.618Z"
      },
      {
        "duration": 22,
        "start_time": "2022-03-18T22:42:19.637Z"
      },
      {
        "duration": 4,
        "start_time": "2022-03-18T22:42:19.660Z"
      },
      {
        "duration": 64,
        "start_time": "2022-03-18T22:42:19.666Z"
      },
      {
        "duration": 19,
        "start_time": "2022-03-18T22:42:19.732Z"
      },
      {
        "duration": 8,
        "start_time": "2022-03-18T22:42:19.752Z"
      },
      {
        "duration": 16,
        "start_time": "2022-03-18T22:42:19.762Z"
      },
      {
        "duration": 9,
        "start_time": "2022-03-18T22:42:19.808Z"
      },
      {
        "duration": 15,
        "start_time": "2022-03-18T22:42:19.819Z"
      },
      {
        "duration": 16,
        "start_time": "2022-03-18T22:42:19.835Z"
      },
      {
        "duration": 6,
        "start_time": "2022-03-18T22:42:19.853Z"
      },
      {
        "duration": 9,
        "start_time": "2022-03-18T22:42:19.861Z"
      },
      {
        "duration": 37,
        "start_time": "2022-03-18T22:42:19.873Z"
      },
      {
        "duration": 20,
        "start_time": "2022-03-18T22:42:19.912Z"
      },
      {
        "duration": 5,
        "start_time": "2022-03-18T22:42:19.934Z"
      },
      {
        "duration": 10,
        "start_time": "2022-03-18T22:42:19.941Z"
      },
      {
        "duration": 68,
        "start_time": "2022-03-18T22:42:19.953Z"
      },
      {
        "duration": 185,
        "start_time": "2022-03-18T22:43:07.167Z"
      },
      {
        "duration": 11,
        "start_time": "2022-03-18T22:45:34.787Z"
      },
      {
        "duration": 12,
        "start_time": "2022-03-18T22:45:43.443Z"
      },
      {
        "duration": 3,
        "start_time": "2022-03-18T22:49:33.754Z"
      },
      {
        "duration": 88,
        "start_time": "2022-03-18T22:49:33.759Z"
      },
      {
        "duration": 24,
        "start_time": "2022-03-18T22:49:33.848Z"
      },
      {
        "duration": 14,
        "start_time": "2022-03-18T22:49:33.874Z"
      },
      {
        "duration": 8,
        "start_time": "2022-03-18T22:49:33.890Z"
      },
      {
        "duration": 12,
        "start_time": "2022-03-18T22:49:33.909Z"
      },
      {
        "duration": 24,
        "start_time": "2022-03-18T22:49:33.922Z"
      },
      {
        "duration": 24,
        "start_time": "2022-03-18T22:49:33.949Z"
      },
      {
        "duration": 48,
        "start_time": "2022-03-18T22:49:33.974Z"
      },
      {
        "duration": 10,
        "start_time": "2022-03-18T22:49:34.024Z"
      },
      {
        "duration": 14,
        "start_time": "2022-03-18T22:49:34.036Z"
      },
      {
        "duration": 17,
        "start_time": "2022-03-18T22:49:34.052Z"
      },
      {
        "duration": 52,
        "start_time": "2022-03-18T22:49:34.071Z"
      },
      {
        "duration": 5,
        "start_time": "2022-03-18T22:49:34.125Z"
      },
      {
        "duration": 38,
        "start_time": "2022-03-18T22:49:34.131Z"
      },
      {
        "duration": 48,
        "start_time": "2022-03-18T22:49:34.171Z"
      },
      {
        "duration": 9,
        "start_time": "2022-03-18T22:49:34.221Z"
      },
      {
        "duration": 16,
        "start_time": "2022-03-18T22:49:34.232Z"
      },
      {
        "duration": 9,
        "start_time": "2022-03-18T22:49:34.250Z"
      },
      {
        "duration": 48,
        "start_time": "2022-03-18T22:49:34.261Z"
      },
      {
        "duration": 15,
        "start_time": "2022-03-18T22:49:34.311Z"
      },
      {
        "duration": 8,
        "start_time": "2022-03-18T22:49:34.329Z"
      },
      {
        "duration": 10,
        "start_time": "2022-03-18T22:49:34.339Z"
      },
      {
        "duration": 6,
        "start_time": "2022-03-18T22:49:34.351Z"
      },
      {
        "duration": 51,
        "start_time": "2022-03-18T22:49:34.359Z"
      },
      {
        "duration": 5,
        "start_time": "2022-03-18T22:49:34.414Z"
      },
      {
        "duration": 12,
        "start_time": "2022-03-18T22:49:34.421Z"
      },
      {
        "duration": 216,
        "start_time": "2022-03-18T22:49:34.435Z"
      },
      {
        "duration": 210,
        "start_time": "2022-03-18T22:50:10.461Z"
      },
      {
        "duration": 192,
        "start_time": "2022-03-18T22:50:24.662Z"
      },
      {
        "duration": 199,
        "start_time": "2022-03-18T22:50:29.590Z"
      },
      {
        "duration": 79,
        "start_time": "2022-03-19T21:43:20.757Z"
      },
      {
        "duration": 1784,
        "start_time": "2022-03-19T21:43:29.591Z"
      },
      {
        "duration": 162,
        "start_time": "2022-03-19T21:43:31.379Z"
      },
      {
        "duration": 56,
        "start_time": "2022-03-19T21:43:31.544Z"
      },
      {
        "duration": 23,
        "start_time": "2022-03-19T21:43:31.602Z"
      },
      {
        "duration": 65,
        "start_time": "2022-03-19T21:43:31.628Z"
      },
      {
        "duration": 27,
        "start_time": "2022-03-19T21:43:31.695Z"
      },
      {
        "duration": 58,
        "start_time": "2022-03-19T21:43:31.724Z"
      },
      {
        "duration": 39,
        "start_time": "2022-03-19T21:43:31.785Z"
      },
      {
        "duration": 49,
        "start_time": "2022-03-19T21:43:31.826Z"
      },
      {
        "duration": 17,
        "start_time": "2022-03-19T21:43:31.878Z"
      },
      {
        "duration": 42,
        "start_time": "2022-03-19T21:43:31.897Z"
      },
      {
        "duration": 43,
        "start_time": "2022-03-19T21:43:31.941Z"
      },
      {
        "duration": 35,
        "start_time": "2022-03-19T21:43:31.987Z"
      },
      {
        "duration": 5,
        "start_time": "2022-03-19T21:43:32.027Z"
      },
      {
        "duration": 99,
        "start_time": "2022-03-19T21:43:32.035Z"
      },
      {
        "duration": 27,
        "start_time": "2022-03-19T21:43:32.136Z"
      },
      {
        "duration": 22,
        "start_time": "2022-03-19T21:43:32.165Z"
      },
      {
        "duration": 33,
        "start_time": "2022-03-19T21:43:32.190Z"
      },
      {
        "duration": 29,
        "start_time": "2022-03-19T21:43:32.225Z"
      },
      {
        "duration": 33,
        "start_time": "2022-03-19T21:43:32.256Z"
      },
      {
        "duration": 43,
        "start_time": "2022-03-19T21:43:32.292Z"
      },
      {
        "duration": 26,
        "start_time": "2022-03-19T21:43:32.338Z"
      },
      {
        "duration": 33,
        "start_time": "2022-03-19T21:43:32.366Z"
      },
      {
        "duration": 21,
        "start_time": "2022-03-19T21:43:32.401Z"
      },
      {
        "duration": 31,
        "start_time": "2022-03-19T21:43:32.425Z"
      },
      {
        "duration": 37,
        "start_time": "2022-03-19T21:43:32.458Z"
      },
      {
        "duration": 35,
        "start_time": "2022-03-19T21:43:32.497Z"
      },
      {
        "duration": 583,
        "start_time": "2022-03-19T21:43:32.534Z"
      },
      {
        "duration": 155,
        "start_time": "2022-03-19T21:44:25.676Z"
      },
      {
        "duration": 163,
        "start_time": "2022-03-19T21:44:31.404Z"
      },
      {
        "duration": 152,
        "start_time": "2022-03-19T21:44:35.196Z"
      },
      {
        "duration": 165,
        "start_time": "2022-03-19T21:44:40.667Z"
      },
      {
        "duration": 386,
        "start_time": "2022-03-19T21:44:54.172Z"
      },
      {
        "duration": 378,
        "start_time": "2022-03-19T21:45:02.237Z"
      },
      {
        "duration": 417,
        "start_time": "2022-03-19T21:45:08.488Z"
      },
      {
        "duration": 7,
        "start_time": "2022-03-19T21:50:20.327Z"
      },
      {
        "duration": 8,
        "start_time": "2022-03-19T21:50:32.575Z"
      },
      {
        "duration": 7,
        "start_time": "2022-03-19T21:52:00.729Z"
      },
      {
        "duration": 30,
        "start_time": "2022-03-19T22:02:12.483Z"
      },
      {
        "duration": 40,
        "start_time": "2022-03-19T22:04:47.563Z"
      },
      {
        "duration": 30,
        "start_time": "2022-03-19T22:04:52.987Z"
      },
      {
        "duration": 104,
        "start_time": "2022-03-19T22:14:31.174Z"
      },
      {
        "duration": 40,
        "start_time": "2022-03-19T22:14:44.888Z"
      },
      {
        "duration": 31,
        "start_time": "2022-03-19T22:15:07.479Z"
      },
      {
        "duration": 41,
        "start_time": "2022-03-19T22:16:08.689Z"
      },
      {
        "duration": 35,
        "start_time": "2022-03-19T22:16:24.538Z"
      },
      {
        "duration": 17,
        "start_time": "2022-03-19T22:16:32.690Z"
      },
      {
        "duration": 11,
        "start_time": "2022-03-19T22:16:41.305Z"
      },
      {
        "duration": 12,
        "start_time": "2022-03-19T22:17:01.631Z"
      },
      {
        "duration": 34,
        "start_time": "2022-03-19T22:17:21.507Z"
      },
      {
        "duration": 30,
        "start_time": "2022-03-19T22:17:53.636Z"
      },
      {
        "duration": 5,
        "start_time": "2022-03-19T22:24:40.777Z"
      },
      {
        "duration": 226,
        "start_time": "2022-03-19T22:24:56.458Z"
      },
      {
        "duration": 244,
        "start_time": "2022-03-19T22:25:03.785Z"
      },
      {
        "duration": 245,
        "start_time": "2022-03-19T22:25:30.724Z"
      },
      {
        "duration": 38,
        "start_time": "2022-03-19T22:26:07.500Z"
      },
      {
        "duration": 243,
        "start_time": "2022-03-19T22:28:19.994Z"
      },
      {
        "duration": 6,
        "start_time": "2022-03-19T22:28:28.577Z"
      },
      {
        "duration": 132,
        "start_time": "2022-03-19T22:28:28.586Z"
      },
      {
        "duration": 27,
        "start_time": "2022-03-19T22:28:28.720Z"
      },
      {
        "duration": 35,
        "start_time": "2022-03-19T22:28:28.749Z"
      },
      {
        "duration": 15,
        "start_time": "2022-03-19T22:28:28.787Z"
      },
      {
        "duration": 19,
        "start_time": "2022-03-19T22:28:28.804Z"
      },
      {
        "duration": 69,
        "start_time": "2022-03-19T22:28:28.825Z"
      },
      {
        "duration": 37,
        "start_time": "2022-03-19T22:28:28.896Z"
      },
      {
        "duration": 66,
        "start_time": "2022-03-19T22:28:28.935Z"
      },
      {
        "duration": 15,
        "start_time": "2022-03-19T22:28:29.005Z"
      },
      {
        "duration": 21,
        "start_time": "2022-03-19T22:28:29.022Z"
      },
      {
        "duration": 30,
        "start_time": "2022-03-19T22:28:29.078Z"
      },
      {
        "duration": 34,
        "start_time": "2022-03-19T22:28:29.110Z"
      },
      {
        "duration": 33,
        "start_time": "2022-03-19T22:28:29.146Z"
      },
      {
        "duration": 56,
        "start_time": "2022-03-19T22:28:29.183Z"
      },
      {
        "duration": 45,
        "start_time": "2022-03-19T22:28:29.242Z"
      },
      {
        "duration": 12,
        "start_time": "2022-03-19T22:28:29.289Z"
      },
      {
        "duration": 27,
        "start_time": "2022-03-19T22:28:29.303Z"
      },
      {
        "duration": 55,
        "start_time": "2022-03-19T22:28:29.333Z"
      },
      {
        "duration": 23,
        "start_time": "2022-03-19T22:28:29.392Z"
      },
      {
        "duration": 33,
        "start_time": "2022-03-19T22:28:29.417Z"
      },
      {
        "duration": 28,
        "start_time": "2022-03-19T22:28:29.452Z"
      },
      {
        "duration": 29,
        "start_time": "2022-03-19T22:28:29.483Z"
      },
      {
        "duration": 12,
        "start_time": "2022-03-19T22:28:29.514Z"
      },
      {
        "duration": 53,
        "start_time": "2022-03-19T22:28:29.529Z"
      },
      {
        "duration": 12,
        "start_time": "2022-03-19T22:28:29.585Z"
      },
      {
        "duration": 17,
        "start_time": "2022-03-19T22:28:29.599Z"
      },
      {
        "duration": 31,
        "start_time": "2022-03-19T22:28:29.620Z"
      },
      {
        "duration": 248,
        "start_time": "2022-03-19T22:28:29.675Z"
      },
      {
        "duration": 233,
        "start_time": "2022-03-19T22:28:42.761Z"
      },
      {
        "duration": 211,
        "start_time": "2022-03-19T22:29:34.011Z"
      },
      {
        "duration": 16,
        "start_time": "2022-03-19T22:30:14.708Z"
      },
      {
        "duration": 2032,
        "start_time": "2022-03-19T22:30:49.821Z"
      },
      {
        "duration": 8,
        "start_time": "2022-03-19T22:31:05.734Z"
      },
      {
        "duration": 34,
        "start_time": "2022-03-19T22:33:13.049Z"
      },
      {
        "duration": 10,
        "start_time": "2022-03-19T22:34:27.524Z"
      },
      {
        "duration": 7,
        "start_time": "2022-03-19T22:35:15.990Z"
      },
      {
        "duration": 29,
        "start_time": "2022-03-19T22:37:34.962Z"
      },
      {
        "duration": 7,
        "start_time": "2022-03-19T22:53:06.072Z"
      },
      {
        "duration": 7,
        "start_time": "2022-03-19T22:53:26.802Z"
      },
      {
        "duration": 30,
        "start_time": "2022-03-19T23:07:04.404Z"
      },
      {
        "duration": 30,
        "start_time": "2022-03-19T23:07:35.758Z"
      },
      {
        "duration": 4,
        "start_time": "2022-03-19T23:10:48.612Z"
      },
      {
        "duration": 60,
        "start_time": "2022-03-19T23:13:18.681Z"
      },
      {
        "duration": 6,
        "start_time": "2022-03-19T23:15:22.486Z"
      },
      {
        "duration": 136,
        "start_time": "2022-03-19T23:15:22.495Z"
      },
      {
        "duration": 26,
        "start_time": "2022-03-19T23:15:22.634Z"
      },
      {
        "duration": 30,
        "start_time": "2022-03-19T23:15:22.664Z"
      },
      {
        "duration": 15,
        "start_time": "2022-03-19T23:15:22.697Z"
      },
      {
        "duration": 18,
        "start_time": "2022-03-19T23:15:22.715Z"
      },
      {
        "duration": 69,
        "start_time": "2022-03-19T23:15:22.735Z"
      },
      {
        "duration": 37,
        "start_time": "2022-03-19T23:15:22.807Z"
      },
      {
        "duration": 52,
        "start_time": "2022-03-19T23:15:22.846Z"
      },
      {
        "duration": 14,
        "start_time": "2022-03-19T23:15:22.902Z"
      },
      {
        "duration": 22,
        "start_time": "2022-03-19T23:15:22.918Z"
      },
      {
        "duration": 54,
        "start_time": "2022-03-19T23:15:22.943Z"
      },
      {
        "duration": 34,
        "start_time": "2022-03-19T23:15:23.000Z"
      },
      {
        "duration": 39,
        "start_time": "2022-03-19T23:15:23.036Z"
      },
      {
        "duration": 55,
        "start_time": "2022-03-19T23:15:23.077Z"
      },
      {
        "duration": 44,
        "start_time": "2022-03-19T23:15:23.134Z"
      },
      {
        "duration": 12,
        "start_time": "2022-03-19T23:15:23.180Z"
      },
      {
        "duration": 29,
        "start_time": "2022-03-19T23:15:23.194Z"
      },
      {
        "duration": 16,
        "start_time": "2022-03-19T23:15:23.226Z"
      },
      {
        "duration": 47,
        "start_time": "2022-03-19T23:15:23.245Z"
      },
      {
        "duration": 30,
        "start_time": "2022-03-19T23:15:23.294Z"
      },
      {
        "duration": 9,
        "start_time": "2022-03-19T23:15:23.327Z"
      },
      {
        "duration": 42,
        "start_time": "2022-03-19T23:15:23.338Z"
      },
      {
        "duration": 10,
        "start_time": "2022-03-19T23:15:23.382Z"
      },
      {
        "duration": 31,
        "start_time": "2022-03-19T23:15:23.395Z"
      },
      {
        "duration": 6,
        "start_time": "2022-03-19T23:15:23.428Z"
      },
      {
        "duration": 51,
        "start_time": "2022-03-19T23:15:23.436Z"
      },
      {
        "duration": 33,
        "start_time": "2022-03-19T23:15:23.491Z"
      },
      {
        "duration": 233,
        "start_time": "2022-03-19T23:15:23.526Z"
      },
      {
        "duration": 6,
        "start_time": "2022-03-19T23:15:23.762Z"
      },
      {
        "duration": 28,
        "start_time": "2022-03-19T23:15:23.774Z"
      },
      {
        "duration": 4,
        "start_time": "2022-03-19T23:15:23.804Z"
      },
      {
        "duration": 77,
        "start_time": "2022-03-19T23:15:23.810Z"
      },
      {
        "duration": 7,
        "start_time": "2022-03-19T23:16:51.006Z"
      },
      {
        "duration": 14,
        "start_time": "2022-03-19T23:17:12.841Z"
      },
      {
        "duration": 6,
        "start_time": "2022-03-19T23:17:31.043Z"
      },
      {
        "duration": 7,
        "start_time": "2022-03-19T23:17:42.506Z"
      },
      {
        "duration": 8,
        "start_time": "2022-03-19T23:19:17.508Z"
      },
      {
        "duration": 9,
        "start_time": "2022-03-19T23:19:45.565Z"
      },
      {
        "duration": 7,
        "start_time": "2022-03-19T23:20:11.646Z"
      },
      {
        "duration": 21,
        "start_time": "2022-03-19T23:23:36.661Z"
      },
      {
        "duration": 17,
        "start_time": "2022-03-19T23:23:53.990Z"
      },
      {
        "duration": 31,
        "start_time": "2022-03-19T23:24:15.830Z"
      },
      {
        "duration": 61,
        "start_time": "2022-03-19T23:33:35.280Z"
      },
      {
        "duration": 40,
        "start_time": "2022-03-19T23:33:42.314Z"
      },
      {
        "duration": 21,
        "start_time": "2022-03-19T23:35:44.520Z"
      },
      {
        "duration": 1676,
        "start_time": "2022-03-19T23:36:08.135Z"
      },
      {
        "duration": 1774,
        "start_time": "2022-03-19T23:36:17.597Z"
      },
      {
        "duration": 44,
        "start_time": "2022-03-19T23:36:48.166Z"
      },
      {
        "duration": 63,
        "start_time": "2022-03-19T23:36:55.543Z"
      },
      {
        "duration": 41,
        "start_time": "2022-03-19T23:37:28.394Z"
      },
      {
        "duration": 65,
        "start_time": "2022-03-19T23:37:36.169Z"
      },
      {
        "duration": 6,
        "start_time": "2022-03-19T23:38:33.138Z"
      },
      {
        "duration": 60,
        "start_time": "2022-03-19T23:43:48.996Z"
      },
      {
        "duration": 67,
        "start_time": "2022-03-19T23:44:15.693Z"
      },
      {
        "duration": 7,
        "start_time": "2022-03-19T23:44:46.911Z"
      },
      {
        "duration": 68,
        "start_time": "2022-03-21T18:05:27.261Z"
      },
      {
        "duration": 1742,
        "start_time": "2022-03-21T18:05:31.708Z"
      },
      {
        "duration": 334,
        "start_time": "2022-03-21T18:05:33.456Z"
      },
      {
        "duration": 32,
        "start_time": "2022-03-21T18:05:33.794Z"
      },
      {
        "duration": 19,
        "start_time": "2022-03-21T18:05:33.829Z"
      },
      {
        "duration": 11,
        "start_time": "2022-03-21T18:05:33.850Z"
      },
      {
        "duration": 47,
        "start_time": "2022-03-21T18:05:33.864Z"
      },
      {
        "duration": 32,
        "start_time": "2022-03-21T18:05:33.914Z"
      },
      {
        "duration": 33,
        "start_time": "2022-03-21T18:05:33.947Z"
      },
      {
        "duration": 37,
        "start_time": "2022-03-21T18:05:33.984Z"
      },
      {
        "duration": 13,
        "start_time": "2022-03-21T18:05:34.024Z"
      },
      {
        "duration": 36,
        "start_time": "2022-03-21T18:05:34.039Z"
      },
      {
        "duration": 40,
        "start_time": "2022-03-21T18:05:34.077Z"
      },
      {
        "duration": 22,
        "start_time": "2022-03-21T18:05:34.119Z"
      },
      {
        "duration": 4,
        "start_time": "2022-03-21T18:05:34.142Z"
      },
      {
        "duration": 59,
        "start_time": "2022-03-21T18:05:34.162Z"
      },
      {
        "duration": 19,
        "start_time": "2022-03-21T18:05:34.223Z"
      },
      {
        "duration": 14,
        "start_time": "2022-03-21T18:05:34.262Z"
      },
      {
        "duration": 40,
        "start_time": "2022-03-21T18:05:34.278Z"
      },
      {
        "duration": 14,
        "start_time": "2022-03-21T18:05:34.323Z"
      },
      {
        "duration": 15,
        "start_time": "2022-03-21T18:05:34.339Z"
      },
      {
        "duration": 45,
        "start_time": "2022-03-21T18:05:34.355Z"
      },
      {
        "duration": 14,
        "start_time": "2022-03-21T18:05:34.403Z"
      },
      {
        "duration": 12,
        "start_time": "2022-03-21T18:05:34.419Z"
      },
      {
        "duration": 7,
        "start_time": "2022-03-21T18:05:34.433Z"
      },
      {
        "duration": 46,
        "start_time": "2022-03-21T18:05:34.442Z"
      },
      {
        "duration": 17,
        "start_time": "2022-03-21T18:05:34.490Z"
      },
      {
        "duration": 21,
        "start_time": "2022-03-21T18:05:34.508Z"
      },
      {
        "duration": 32,
        "start_time": "2022-03-21T18:05:34.532Z"
      },
      {
        "duration": 171,
        "start_time": "2022-03-21T18:05:34.567Z"
      },
      {
        "duration": 5,
        "start_time": "2022-03-21T18:05:34.740Z"
      },
      {
        "duration": 34,
        "start_time": "2022-03-21T18:05:34.746Z"
      },
      {
        "duration": 4,
        "start_time": "2022-03-21T18:05:34.782Z"
      },
      {
        "duration": 42,
        "start_time": "2022-03-21T18:05:34.788Z"
      },
      {
        "duration": 4,
        "start_time": "2022-03-21T18:05:34.832Z"
      },
      {
        "duration": 118,
        "start_time": "2022-03-21T18:05:34.838Z"
      },
      {
        "duration": 3000,
        "start_time": "2022-03-21T18:05:55.995Z"
      },
      {
        "duration": 212,
        "start_time": "2022-03-21T18:06:16.916Z"
      },
      {
        "duration": 211,
        "start_time": "2022-03-21T18:07:17.582Z"
      },
      {
        "duration": 12,
        "start_time": "2022-03-21T18:12:23.358Z"
      },
      {
        "duration": 18,
        "start_time": "2022-03-21T18:13:01.338Z"
      },
      {
        "duration": 7,
        "start_time": "2022-03-21T18:13:10.015Z"
      },
      {
        "duration": 14,
        "start_time": "2022-03-21T18:14:14.161Z"
      },
      {
        "duration": 12,
        "start_time": "2022-03-21T18:15:53.818Z"
      },
      {
        "duration": 2663,
        "start_time": "2022-03-21T18:41:43.040Z"
      },
      {
        "duration": 4,
        "start_time": "2022-03-21T18:41:54.385Z"
      },
      {
        "duration": 4,
        "start_time": "2022-03-21T18:43:31.835Z"
      },
      {
        "duration": 4,
        "start_time": "2022-03-21T18:43:36.519Z"
      },
      {
        "duration": 3,
        "start_time": "2022-03-21T18:43:42.390Z"
      },
      {
        "duration": 18,
        "start_time": "2022-03-21T18:44:32.965Z"
      },
      {
        "duration": 19,
        "start_time": "2022-03-21T18:44:43.903Z"
      },
      {
        "duration": 19,
        "start_time": "2022-03-21T18:44:59.070Z"
      },
      {
        "duration": 149,
        "start_time": "2022-03-21T18:54:42.217Z"
      },
      {
        "duration": 153,
        "start_time": "2022-03-21T18:54:59.346Z"
      },
      {
        "duration": 2758,
        "start_time": "2022-03-21T18:56:25.221Z"
      },
      {
        "duration": 4,
        "start_time": "2022-03-21T18:56:32.118Z"
      },
      {
        "duration": 29,
        "start_time": "2022-03-21T19:02:21.818Z"
      },
      {
        "duration": 25,
        "start_time": "2022-03-21T19:02:33.675Z"
      },
      {
        "duration": 2669,
        "start_time": "2022-03-21T19:03:46.885Z"
      },
      {
        "duration": 24,
        "start_time": "2022-03-21T19:03:57.381Z"
      },
      {
        "duration": 152,
        "start_time": "2022-03-21T21:18:10.224Z"
      },
      {
        "duration": 8,
        "start_time": "2022-03-21T21:20:34.677Z"
      },
      {
        "duration": 7,
        "start_time": "2022-03-21T21:20:42.212Z"
      },
      {
        "duration": 20,
        "start_time": "2022-03-21T21:24:04.282Z"
      },
      {
        "duration": 394,
        "start_time": "2022-03-21T21:27:14.369Z"
      },
      {
        "duration": 21,
        "start_time": "2022-03-21T21:28:07.090Z"
      },
      {
        "duration": 155,
        "start_time": "2022-03-21T21:28:59.396Z"
      },
      {
        "duration": 169,
        "start_time": "2022-03-21T21:31:35.167Z"
      },
      {
        "duration": 221,
        "start_time": "2022-03-21T21:31:54.402Z"
      },
      {
        "duration": 275,
        "start_time": "2022-03-21T21:33:03.229Z"
      },
      {
        "duration": 20,
        "start_time": "2022-03-21T21:36:24.698Z"
      },
      {
        "duration": 238,
        "start_time": "2022-03-21T21:40:13.768Z"
      },
      {
        "duration": 256,
        "start_time": "2022-03-21T21:41:14.691Z"
      },
      {
        "duration": 29,
        "start_time": "2022-03-21T22:01:44.479Z"
      },
      {
        "duration": 6,
        "start_time": "2022-03-21T22:02:02.623Z"
      },
      {
        "duration": 37,
        "start_time": "2022-03-21T22:02:59.993Z"
      },
      {
        "duration": 4,
        "start_time": "2022-03-21T22:03:08.129Z"
      },
      {
        "duration": 41,
        "start_time": "2022-03-21T22:04:05.292Z"
      },
      {
        "duration": 6,
        "start_time": "2022-03-21T22:04:10.482Z"
      },
      {
        "duration": 27,
        "start_time": "2022-03-21T22:04:28.588Z"
      },
      {
        "duration": 5,
        "start_time": "2022-03-21T22:08:36.235Z"
      },
      {
        "duration": 242,
        "start_time": "2022-03-21T22:18:39.444Z"
      },
      {
        "duration": 369,
        "start_time": "2022-03-21T22:19:21.054Z"
      },
      {
        "duration": 234,
        "start_time": "2022-03-21T22:19:35.086Z"
      },
      {
        "duration": 233,
        "start_time": "2022-03-21T22:20:14.271Z"
      },
      {
        "duration": 208,
        "start_time": "2022-03-21T22:22:05.370Z"
      },
      {
        "duration": 231,
        "start_time": "2022-03-21T22:24:32.063Z"
      },
      {
        "duration": 142,
        "start_time": "2022-03-21T22:27:53.220Z"
      },
      {
        "duration": 365,
        "start_time": "2022-03-21T22:29:19.671Z"
      },
      {
        "duration": 324,
        "start_time": "2022-03-21T22:29:49.185Z"
      },
      {
        "duration": 323,
        "start_time": "2022-03-21T22:30:48.123Z"
      },
      {
        "duration": 18,
        "start_time": "2022-03-21T22:35:59.827Z"
      },
      {
        "duration": 156,
        "start_time": "2022-03-21T22:36:19.035Z"
      },
      {
        "duration": 166,
        "start_time": "2022-03-21T22:36:41.555Z"
      },
      {
        "duration": 161,
        "start_time": "2022-03-21T22:37:24.604Z"
      },
      {
        "duration": 180,
        "start_time": "2022-03-21T22:37:50.509Z"
      },
      {
        "duration": 174,
        "start_time": "2022-03-21T22:38:33.653Z"
      },
      {
        "duration": 18,
        "start_time": "2022-03-21T22:42:13.704Z"
      },
      {
        "duration": 175,
        "start_time": "2022-03-21T22:42:31.353Z"
      },
      {
        "duration": 7,
        "start_time": "2022-03-21T22:42:45.929Z"
      },
      {
        "duration": 17,
        "start_time": "2022-03-21T22:44:07.691Z"
      },
      {
        "duration": 8,
        "start_time": "2022-03-21T22:44:22.556Z"
      },
      {
        "duration": 12,
        "start_time": "2022-03-21T22:44:45.540Z"
      },
      {
        "duration": 175,
        "start_time": "2022-03-21T22:47:51.089Z"
      },
      {
        "duration": 176,
        "start_time": "2022-03-21T22:48:41.426Z"
      },
      {
        "duration": 11,
        "start_time": "2022-03-21T22:53:30.794Z"
      },
      {
        "duration": 4,
        "start_time": "2022-03-21T22:54:06.566Z"
      },
      {
        "duration": 100,
        "start_time": "2022-03-21T22:54:06.572Z"
      },
      {
        "duration": 25,
        "start_time": "2022-03-21T22:54:06.673Z"
      },
      {
        "duration": 15,
        "start_time": "2022-03-21T22:54:06.700Z"
      },
      {
        "duration": 11,
        "start_time": "2022-03-21T22:54:06.717Z"
      },
      {
        "duration": 13,
        "start_time": "2022-03-21T22:54:06.729Z"
      },
      {
        "duration": 50,
        "start_time": "2022-03-21T22:54:06.744Z"
      },
      {
        "duration": 26,
        "start_time": "2022-03-21T22:54:06.795Z"
      },
      {
        "duration": 56,
        "start_time": "2022-03-21T22:54:06.823Z"
      },
      {
        "duration": 11,
        "start_time": "2022-03-21T22:54:06.880Z"
      },
      {
        "duration": 16,
        "start_time": "2022-03-21T22:54:06.893Z"
      },
      {
        "duration": 16,
        "start_time": "2022-03-21T22:54:06.911Z"
      },
      {
        "duration": 51,
        "start_time": "2022-03-21T22:54:06.929Z"
      },
      {
        "duration": 5,
        "start_time": "2022-03-21T22:54:06.982Z"
      },
      {
        "duration": 40,
        "start_time": "2022-03-21T22:54:06.988Z"
      },
      {
        "duration": 42,
        "start_time": "2022-03-21T22:54:07.030Z"
      },
      {
        "duration": 8,
        "start_time": "2022-03-21T22:54:07.074Z"
      },
      {
        "duration": 26,
        "start_time": "2022-03-21T22:54:07.084Z"
      },
      {
        "duration": 18,
        "start_time": "2022-03-21T22:54:07.112Z"
      },
      {
        "duration": 34,
        "start_time": "2022-03-21T22:54:07.131Z"
      },
      {
        "duration": 18,
        "start_time": "2022-03-21T22:54:07.168Z"
      },
      {
        "duration": 11,
        "start_time": "2022-03-21T22:54:07.188Z"
      },
      {
        "duration": 123,
        "start_time": "2022-03-21T22:54:07.201Z"
      },
      {
        "duration": 5,
        "start_time": "2022-03-21T22:54:07.328Z"
      },
      {
        "duration": 40,
        "start_time": "2022-03-21T22:54:07.335Z"
      },
      {
        "duration": 7,
        "start_time": "2022-03-21T22:54:07.376Z"
      },
      {
        "duration": 31,
        "start_time": "2022-03-21T22:54:07.385Z"
      },
      {
        "duration": 22,
        "start_time": "2022-03-21T22:54:07.418Z"
      },
      {
        "duration": 158,
        "start_time": "2022-03-21T22:54:07.442Z"
      },
      {
        "duration": 6,
        "start_time": "2022-03-21T22:54:07.603Z"
      },
      {
        "duration": 28,
        "start_time": "2022-03-21T22:54:07.611Z"
      },
      {
        "duration": 25,
        "start_time": "2022-03-21T22:54:07.641Z"
      },
      {
        "duration": 38,
        "start_time": "2022-03-21T22:54:07.668Z"
      },
      {
        "duration": 5,
        "start_time": "2022-03-21T22:54:07.708Z"
      },
      {
        "duration": 24,
        "start_time": "2022-03-21T22:54:07.714Z"
      },
      {
        "duration": 39,
        "start_time": "2022-03-21T22:54:07.740Z"
      },
      {
        "duration": 7,
        "start_time": "2022-03-21T22:54:07.781Z"
      },
      {
        "duration": 23,
        "start_time": "2022-03-21T22:54:07.789Z"
      },
      {
        "duration": 285,
        "start_time": "2022-03-21T22:54:07.815Z"
      },
      {
        "duration": 28,
        "start_time": "2022-03-21T22:54:08.101Z"
      },
      {
        "duration": 7,
        "start_time": "2022-03-21T22:54:08.131Z"
      },
      {
        "duration": 25,
        "start_time": "2022-03-21T22:54:08.139Z"
      },
      {
        "duration": 238,
        "start_time": "2022-03-21T22:54:08.166Z"
      },
      {
        "duration": 330,
        "start_time": "2022-03-21T22:54:08.406Z"
      },
      {
        "duration": 11,
        "start_time": "2022-03-21T22:54:08.739Z"
      },
      {
        "duration": 0,
        "start_time": "2022-03-21T22:54:08.762Z"
      },
      {
        "duration": 11,
        "start_time": "2022-03-21T22:55:44.767Z"
      },
      {
        "duration": 1192,
        "start_time": "2022-03-21T22:55:55.965Z"
      },
      {
        "duration": 87,
        "start_time": "2022-03-21T22:55:57.159Z"
      },
      {
        "duration": 24,
        "start_time": "2022-03-21T22:55:57.251Z"
      },
      {
        "duration": 18,
        "start_time": "2022-03-21T22:55:57.277Z"
      },
      {
        "duration": 12,
        "start_time": "2022-03-21T22:55:57.297Z"
      },
      {
        "duration": 14,
        "start_time": "2022-03-21T22:55:57.310Z"
      },
      {
        "duration": 58,
        "start_time": "2022-03-21T22:55:57.326Z"
      },
      {
        "duration": 26,
        "start_time": "2022-03-21T22:55:57.386Z"
      },
      {
        "duration": 23,
        "start_time": "2022-03-21T22:55:57.415Z"
      },
      {
        "duration": 29,
        "start_time": "2022-03-21T22:55:57.440Z"
      },
      {
        "duration": 19,
        "start_time": "2022-03-21T22:55:57.470Z"
      },
      {
        "duration": 20,
        "start_time": "2022-03-21T22:55:57.491Z"
      },
      {
        "duration": 51,
        "start_time": "2022-03-21T22:55:57.513Z"
      },
      {
        "duration": 6,
        "start_time": "2022-03-21T22:55:57.566Z"
      },
      {
        "duration": 38,
        "start_time": "2022-03-21T22:55:57.574Z"
      },
      {
        "duration": 49,
        "start_time": "2022-03-21T22:55:57.614Z"
      },
      {
        "duration": 12,
        "start_time": "2022-03-21T22:55:57.665Z"
      },
      {
        "duration": 26,
        "start_time": "2022-03-21T22:55:57.679Z"
      },
      {
        "duration": 12,
        "start_time": "2022-03-21T22:55:57.707Z"
      },
      {
        "duration": 17,
        "start_time": "2022-03-21T22:55:57.721Z"
      },
      {
        "duration": 34,
        "start_time": "2022-03-21T22:55:57.740Z"
      },
      {
        "duration": 8,
        "start_time": "2022-03-21T22:55:57.776Z"
      },
      {
        "duration": 10,
        "start_time": "2022-03-21T22:55:57.786Z"
      },
      {
        "duration": 6,
        "start_time": "2022-03-21T22:55:57.798Z"
      },
      {
        "duration": 21,
        "start_time": "2022-03-21T22:55:57.806Z"
      },
      {
        "duration": 38,
        "start_time": "2022-03-21T22:55:57.828Z"
      },
      {
        "duration": 12,
        "start_time": "2022-03-21T22:55:57.869Z"
      },
      {
        "duration": 24,
        "start_time": "2022-03-21T22:55:57.883Z"
      },
      {
        "duration": 146,
        "start_time": "2022-03-21T22:55:57.909Z"
      },
      {
        "duration": 9,
        "start_time": "2022-03-21T22:55:58.056Z"
      },
      {
        "duration": 21,
        "start_time": "2022-03-21T22:55:58.067Z"
      },
      {
        "duration": 3,
        "start_time": "2022-03-21T22:55:58.090Z"
      },
      {
        "duration": 34,
        "start_time": "2022-03-21T22:55:58.094Z"
      },
      {
        "duration": 33,
        "start_time": "2022-03-21T22:55:58.131Z"
      },
      {
        "duration": 20,
        "start_time": "2022-03-21T22:55:58.165Z"
      },
      {
        "duration": 23,
        "start_time": "2022-03-21T22:55:58.187Z"
      },
      {
        "duration": 7,
        "start_time": "2022-03-21T22:55:58.211Z"
      },
      {
        "duration": 44,
        "start_time": "2022-03-21T22:55:58.220Z"
      },
      {
        "duration": 290,
        "start_time": "2022-03-21T22:55:58.265Z"
      },
      {
        "duration": 30,
        "start_time": "2022-03-21T22:55:58.557Z"
      },
      {
        "duration": 4,
        "start_time": "2022-03-21T22:55:58.589Z"
      },
      {
        "duration": 8,
        "start_time": "2022-03-21T22:55:58.594Z"
      },
      {
        "duration": 255,
        "start_time": "2022-03-21T22:55:58.604Z"
      },
      {
        "duration": 311,
        "start_time": "2022-03-21T22:55:58.863Z"
      },
      {
        "duration": 102,
        "start_time": "2022-03-21T22:55:59.175Z"
      },
      {
        "duration": 183,
        "start_time": "2022-03-21T22:56:56.077Z"
      },
      {
        "duration": 196,
        "start_time": "2022-03-21T22:57:45.822Z"
      },
      {
        "duration": 173,
        "start_time": "2022-03-21T22:59:15.240Z"
      },
      {
        "duration": 223,
        "start_time": "2022-03-21T22:59:33.729Z"
      },
      {
        "duration": 270,
        "start_time": "2022-03-21T22:59:43.441Z"
      },
      {
        "duration": 7,
        "start_time": "2022-03-21T23:01:17.588Z"
      },
      {
        "duration": 156,
        "start_time": "2022-03-21T23:01:37.327Z"
      },
      {
        "duration": 147,
        "start_time": "2022-03-21T23:02:01.957Z"
      },
      {
        "duration": 7,
        "start_time": "2022-03-21T23:02:06.676Z"
      },
      {
        "duration": 6,
        "start_time": "2022-03-21T23:03:33.967Z"
      },
      {
        "duration": 9,
        "start_time": "2022-03-21T23:03:51.480Z"
      },
      {
        "duration": 10,
        "start_time": "2022-03-21T23:10:27.740Z"
      },
      {
        "duration": 11,
        "start_time": "2022-03-21T23:13:40.433Z"
      },
      {
        "duration": 152,
        "start_time": "2022-03-21T23:15:22.516Z"
      },
      {
        "duration": 4,
        "start_time": "2022-03-21T23:26:44.138Z"
      },
      {
        "duration": 126,
        "start_time": "2022-03-21T23:26:44.145Z"
      },
      {
        "duration": 27,
        "start_time": "2022-03-21T23:26:44.273Z"
      },
      {
        "duration": 16,
        "start_time": "2022-03-21T23:26:44.301Z"
      },
      {
        "duration": 10,
        "start_time": "2022-03-21T23:26:44.319Z"
      },
      {
        "duration": 36,
        "start_time": "2022-03-21T23:26:44.330Z"
      },
      {
        "duration": 31,
        "start_time": "2022-03-21T23:26:44.367Z"
      },
      {
        "duration": 26,
        "start_time": "2022-03-21T23:26:44.400Z"
      },
      {
        "duration": 45,
        "start_time": "2022-03-21T23:26:44.427Z"
      },
      {
        "duration": 11,
        "start_time": "2022-03-21T23:26:44.474Z"
      },
      {
        "duration": 16,
        "start_time": "2022-03-21T23:26:44.488Z"
      },
      {
        "duration": 18,
        "start_time": "2022-03-21T23:26:44.506Z"
      },
      {
        "duration": 57,
        "start_time": "2022-03-21T23:26:44.527Z"
      },
      {
        "duration": 6,
        "start_time": "2022-03-21T23:26:44.586Z"
      },
      {
        "duration": 38,
        "start_time": "2022-03-21T23:26:44.594Z"
      },
      {
        "duration": 47,
        "start_time": "2022-03-21T23:26:44.635Z"
      },
      {
        "duration": 10,
        "start_time": "2022-03-21T23:26:44.684Z"
      },
      {
        "duration": 19,
        "start_time": "2022-03-21T23:26:44.696Z"
      },
      {
        "duration": 11,
        "start_time": "2022-03-21T23:26:44.717Z"
      },
      {
        "duration": 19,
        "start_time": "2022-03-21T23:26:44.762Z"
      },
      {
        "duration": 18,
        "start_time": "2022-03-21T23:26:44.784Z"
      },
      {
        "duration": 9,
        "start_time": "2022-03-21T23:26:44.804Z"
      },
      {
        "duration": 12,
        "start_time": "2022-03-21T23:26:44.815Z"
      },
      {
        "duration": 35,
        "start_time": "2022-03-21T23:26:44.829Z"
      },
      {
        "duration": 27,
        "start_time": "2022-03-21T23:26:44.865Z"
      },
      {
        "duration": 6,
        "start_time": "2022-03-21T23:26:44.894Z"
      },
      {
        "duration": 12,
        "start_time": "2022-03-21T23:26:44.901Z"
      },
      {
        "duration": 21,
        "start_time": "2022-03-21T23:26:44.914Z"
      },
      {
        "duration": 156,
        "start_time": "2022-03-21T23:26:44.939Z"
      },
      {
        "duration": 6,
        "start_time": "2022-03-21T23:26:45.097Z"
      },
      {
        "duration": 28,
        "start_time": "2022-03-21T23:26:45.105Z"
      },
      {
        "duration": 4,
        "start_time": "2022-03-21T23:26:45.134Z"
      },
      {
        "duration": 53,
        "start_time": "2022-03-21T23:26:45.139Z"
      },
      {
        "duration": 4,
        "start_time": "2022-03-21T23:26:45.194Z"
      },
      {
        "duration": 24,
        "start_time": "2022-03-21T23:26:45.200Z"
      },
      {
        "duration": 43,
        "start_time": "2022-03-21T23:26:45.226Z"
      },
      {
        "duration": 7,
        "start_time": "2022-03-21T23:26:45.271Z"
      },
      {
        "duration": 21,
        "start_time": "2022-03-21T23:26:45.280Z"
      },
      {
        "duration": 289,
        "start_time": "2022-03-21T23:26:45.303Z"
      },
      {
        "duration": 30,
        "start_time": "2022-03-21T23:26:45.594Z"
      },
      {
        "duration": 4,
        "start_time": "2022-03-21T23:26:45.626Z"
      },
      {
        "duration": 20,
        "start_time": "2022-03-21T23:26:45.632Z"
      },
      {
        "duration": 237,
        "start_time": "2022-03-21T23:26:45.662Z"
      },
      {
        "duration": 313,
        "start_time": "2022-03-21T23:26:45.901Z"
      },
      {
        "duration": 192,
        "start_time": "2022-03-21T23:26:46.216Z"
      },
      {
        "duration": 7,
        "start_time": "2022-03-21T23:26:46.410Z"
      },
      {
        "duration": 11,
        "start_time": "2022-03-21T23:26:46.418Z"
      },
      {
        "duration": 11,
        "start_time": "2022-03-21T23:26:46.431Z"
      },
      {
        "duration": 27,
        "start_time": "2022-03-21T23:26:46.444Z"
      },
      {
        "duration": 183,
        "start_time": "2022-03-21T23:26:46.473Z"
      },
      {
        "duration": 223,
        "start_time": "2022-03-21T23:29:45.692Z"
      },
      {
        "duration": 231,
        "start_time": "2022-03-21T23:31:26.064Z"
      },
      {
        "duration": 4,
        "start_time": "2022-03-21T23:31:39.179Z"
      },
      {
        "duration": 106,
        "start_time": "2022-03-21T23:31:39.185Z"
      },
      {
        "duration": 26,
        "start_time": "2022-03-21T23:31:39.294Z"
      },
      {
        "duration": 16,
        "start_time": "2022-03-21T23:31:39.322Z"
      },
      {
        "duration": 27,
        "start_time": "2022-03-21T23:31:39.340Z"
      },
      {
        "duration": 15,
        "start_time": "2022-03-21T23:31:39.369Z"
      },
      {
        "duration": 34,
        "start_time": "2022-03-21T23:31:39.386Z"
      },
      {
        "duration": 150,
        "start_time": "2022-03-21T23:31:39.422Z"
      },
      {
        "duration": 26,
        "start_time": "2022-03-21T23:31:39.574Z"
      },
      {
        "duration": 13,
        "start_time": "2022-03-21T23:31:39.602Z"
      },
      {
        "duration": 53,
        "start_time": "2022-03-21T23:31:39.619Z"
      },
      {
        "duration": 20,
        "start_time": "2022-03-21T23:31:39.674Z"
      },
      {
        "duration": 24,
        "start_time": "2022-03-21T23:31:39.696Z"
      },
      {
        "duration": 5,
        "start_time": "2022-03-21T23:31:39.722Z"
      },
      {
        "duration": 69,
        "start_time": "2022-03-21T23:31:39.728Z"
      },
      {
        "duration": 20,
        "start_time": "2022-03-21T23:31:39.799Z"
      },
      {
        "duration": 9,
        "start_time": "2022-03-21T23:31:39.821Z"
      },
      {
        "duration": 43,
        "start_time": "2022-03-21T23:31:39.831Z"
      },
      {
        "duration": 14,
        "start_time": "2022-03-21T23:31:39.875Z"
      },
      {
        "duration": 20,
        "start_time": "2022-03-21T23:31:39.891Z"
      },
      {
        "duration": 17,
        "start_time": "2022-03-21T23:31:39.912Z"
      },
      {
        "duration": 8,
        "start_time": "2022-03-21T23:31:39.931Z"
      },
      {
        "duration": 28,
        "start_time": "2022-03-21T23:31:39.940Z"
      },
      {
        "duration": 7,
        "start_time": "2022-03-21T23:31:39.969Z"
      },
      {
        "duration": 20,
        "start_time": "2022-03-21T23:31:39.977Z"
      },
      {
        "duration": 5,
        "start_time": "2022-03-21T23:31:39.999Z"
      },
      {
        "duration": 13,
        "start_time": "2022-03-21T23:31:40.006Z"
      },
      {
        "duration": 50,
        "start_time": "2022-03-21T23:31:40.021Z"
      },
      {
        "duration": 129,
        "start_time": "2022-03-21T23:31:40.075Z"
      },
      {
        "duration": 5,
        "start_time": "2022-03-21T23:31:40.206Z"
      },
      {
        "duration": 23,
        "start_time": "2022-03-21T23:31:40.213Z"
      },
      {
        "duration": 3,
        "start_time": "2022-03-21T23:31:40.237Z"
      },
      {
        "duration": 48,
        "start_time": "2022-03-21T23:31:40.242Z"
      },
      {
        "duration": 4,
        "start_time": "2022-03-21T23:31:40.292Z"
      },
      {
        "duration": 25,
        "start_time": "2022-03-21T23:31:40.297Z"
      },
      {
        "duration": 24,
        "start_time": "2022-03-21T23:31:40.323Z"
      },
      {
        "duration": 20,
        "start_time": "2022-03-21T23:31:40.349Z"
      },
      {
        "duration": 20,
        "start_time": "2022-03-21T23:31:40.371Z"
      },
      {
        "duration": 270,
        "start_time": "2022-03-21T23:31:40.392Z"
      },
      {
        "duration": 28,
        "start_time": "2022-03-21T23:31:40.664Z"
      },
      {
        "duration": 5,
        "start_time": "2022-03-21T23:31:40.694Z"
      },
      {
        "duration": 6,
        "start_time": "2022-03-21T23:31:40.700Z"
      },
      {
        "duration": 248,
        "start_time": "2022-03-21T23:31:40.707Z"
      },
      {
        "duration": 275,
        "start_time": "2022-03-21T23:31:40.957Z"
      },
      {
        "duration": 211,
        "start_time": "2022-03-21T23:31:41.234Z"
      },
      {
        "duration": 6,
        "start_time": "2022-03-21T23:31:41.447Z"
      },
      {
        "duration": 14,
        "start_time": "2022-03-21T23:31:41.463Z"
      },
      {
        "duration": 17,
        "start_time": "2022-03-21T23:31:41.479Z"
      },
      {
        "duration": 28,
        "start_time": "2022-03-21T23:31:41.497Z"
      },
      {
        "duration": 182,
        "start_time": "2022-03-21T23:31:41.526Z"
      },
      {
        "duration": 240,
        "start_time": "2022-03-21T23:32:28.873Z"
      },
      {
        "duration": 160,
        "start_time": "2022-03-21T23:35:50.440Z"
      },
      {
        "duration": 166,
        "start_time": "2022-03-21T23:36:25.522Z"
      },
      {
        "duration": 145,
        "start_time": "2022-03-21T23:38:57.558Z"
      },
      {
        "duration": 5,
        "start_time": "2022-03-21T23:39:55.064Z"
      },
      {
        "duration": 152,
        "start_time": "2022-03-21T23:46:59.828Z"
      },
      {
        "duration": 642,
        "start_time": "2022-03-21T23:48:02.087Z"
      },
      {
        "duration": 140,
        "start_time": "2022-03-22T00:06:43.039Z"
      },
      {
        "duration": 5,
        "start_time": "2022-03-22T00:40:07.755Z"
      },
      {
        "duration": 4,
        "start_time": "2022-03-22T00:41:24.040Z"
      },
      {
        "duration": 88,
        "start_time": "2022-03-22T00:41:24.046Z"
      },
      {
        "duration": 27,
        "start_time": "2022-03-22T00:41:24.136Z"
      },
      {
        "duration": 15,
        "start_time": "2022-03-22T00:41:24.165Z"
      },
      {
        "duration": 10,
        "start_time": "2022-03-22T00:41:24.182Z"
      },
      {
        "duration": 16,
        "start_time": "2022-03-22T00:41:24.193Z"
      },
      {
        "duration": 52,
        "start_time": "2022-03-22T00:41:24.211Z"
      },
      {
        "duration": 23,
        "start_time": "2022-03-22T00:41:24.265Z"
      },
      {
        "duration": 21,
        "start_time": "2022-03-22T00:41:24.290Z"
      },
      {
        "duration": 9,
        "start_time": "2022-03-22T00:41:24.313Z"
      },
      {
        "duration": 50,
        "start_time": "2022-03-22T00:41:24.325Z"
      },
      {
        "duration": 17,
        "start_time": "2022-03-22T00:41:24.377Z"
      },
      {
        "duration": 21,
        "start_time": "2022-03-22T00:41:24.395Z"
      },
      {
        "duration": 4,
        "start_time": "2022-03-22T00:41:24.417Z"
      },
      {
        "duration": 61,
        "start_time": "2022-03-22T00:41:24.422Z"
      },
      {
        "duration": 18,
        "start_time": "2022-03-22T00:41:24.484Z"
      },
      {
        "duration": 8,
        "start_time": "2022-03-22T00:41:24.503Z"
      },
      {
        "duration": 17,
        "start_time": "2022-03-22T00:41:24.513Z"
      },
      {
        "duration": 35,
        "start_time": "2022-03-22T00:41:24.532Z"
      },
      {
        "duration": 15,
        "start_time": "2022-03-22T00:41:24.568Z"
      },
      {
        "duration": 21,
        "start_time": "2022-03-22T00:41:24.585Z"
      },
      {
        "duration": 8,
        "start_time": "2022-03-22T00:41:24.608Z"
      },
      {
        "duration": 13,
        "start_time": "2022-03-22T00:41:24.617Z"
      },
      {
        "duration": 7,
        "start_time": "2022-03-22T00:41:24.632Z"
      },
      {
        "duration": 40,
        "start_time": "2022-03-22T00:41:24.641Z"
      },
      {
        "duration": 10,
        "start_time": "2022-03-22T00:41:24.682Z"
      },
      {
        "duration": 12,
        "start_time": "2022-03-22T00:41:24.694Z"
      },
      {
        "duration": 18,
        "start_time": "2022-03-22T00:41:24.707Z"
      },
      {
        "duration": 146,
        "start_time": "2022-03-22T00:41:24.729Z"
      },
      {
        "duration": 5,
        "start_time": "2022-03-22T00:41:24.877Z"
      },
      {
        "duration": 20,
        "start_time": "2022-03-22T00:41:24.884Z"
      },
      {
        "duration": 2,
        "start_time": "2022-03-22T00:41:24.906Z"
      },
      {
        "duration": 53,
        "start_time": "2022-03-22T00:41:24.910Z"
      },
      {
        "duration": 4,
        "start_time": "2022-03-22T00:41:24.964Z"
      },
      {
        "duration": 18,
        "start_time": "2022-03-22T00:41:24.970Z"
      },
      {
        "duration": 24,
        "start_time": "2022-03-22T00:41:24.990Z"
      },
      {
        "duration": 7,
        "start_time": "2022-03-22T00:41:25.016Z"
      },
      {
        "duration": 48,
        "start_time": "2022-03-22T00:41:25.024Z"
      },
      {
        "duration": 248,
        "start_time": "2022-03-22T00:41:25.074Z"
      },
      {
        "duration": 39,
        "start_time": "2022-03-22T00:41:25.324Z"
      },
      {
        "duration": 4,
        "start_time": "2022-03-22T00:41:25.365Z"
      },
      {
        "duration": 6,
        "start_time": "2022-03-22T00:41:25.370Z"
      },
      {
        "duration": 228,
        "start_time": "2022-03-22T00:41:25.378Z"
      },
      {
        "duration": 299,
        "start_time": "2022-03-22T00:41:25.608Z"
      },
      {
        "duration": 203,
        "start_time": "2022-03-22T00:41:25.908Z"
      },
      {
        "duration": 6,
        "start_time": "2022-03-22T00:41:26.113Z"
      },
      {
        "duration": 8,
        "start_time": "2022-03-22T00:41:26.121Z"
      },
      {
        "duration": 11,
        "start_time": "2022-03-22T00:41:26.131Z"
      },
      {
        "duration": 27,
        "start_time": "2022-03-22T00:41:26.143Z"
      },
      {
        "duration": 530,
        "start_time": "2022-03-22T00:41:26.172Z"
      },
      {
        "duration": 6,
        "start_time": "2022-03-22T00:41:26.704Z"
      },
      {
        "duration": 1145,
        "start_time": "2022-04-01T19:29:17.596Z"
      },
      {
        "duration": 90,
        "start_time": "2022-04-01T19:29:18.743Z"
      },
      {
        "duration": 28,
        "start_time": "2022-04-01T19:29:18.835Z"
      },
      {
        "duration": 15,
        "start_time": "2022-04-01T19:29:18.864Z"
      },
      {
        "duration": 10,
        "start_time": "2022-04-01T19:29:18.881Z"
      },
      {
        "duration": 18,
        "start_time": "2022-04-01T19:29:18.893Z"
      },
      {
        "duration": 30,
        "start_time": "2022-04-01T19:29:18.912Z"
      },
      {
        "duration": 24,
        "start_time": "2022-04-01T19:29:18.944Z"
      },
      {
        "duration": 21,
        "start_time": "2022-04-01T19:29:18.969Z"
      },
      {
        "duration": 10,
        "start_time": "2022-04-01T19:29:18.991Z"
      },
      {
        "duration": 40,
        "start_time": "2022-04-01T19:29:19.003Z"
      },
      {
        "duration": 17,
        "start_time": "2022-04-01T19:29:19.044Z"
      },
      {
        "duration": 21,
        "start_time": "2022-04-01T19:29:19.062Z"
      },
      {
        "duration": 4,
        "start_time": "2022-04-01T19:29:19.086Z"
      },
      {
        "duration": 70,
        "start_time": "2022-04-01T19:29:19.092Z"
      },
      {
        "duration": 18,
        "start_time": "2022-04-01T19:29:19.164Z"
      },
      {
        "duration": 8,
        "start_time": "2022-04-01T19:29:19.183Z"
      },
      {
        "duration": 18,
        "start_time": "2022-04-01T19:29:19.193Z"
      },
      {
        "duration": 9,
        "start_time": "2022-04-01T19:29:19.233Z"
      },
      {
        "duration": 21,
        "start_time": "2022-04-01T19:29:19.243Z"
      },
      {
        "duration": 18,
        "start_time": "2022-04-01T19:29:19.266Z"
      },
      {
        "duration": 9,
        "start_time": "2022-04-01T19:29:19.285Z"
      },
      {
        "duration": 11,
        "start_time": "2022-04-01T19:29:19.296Z"
      },
      {
        "duration": 5,
        "start_time": "2022-04-01T19:29:19.333Z"
      },
      {
        "duration": 19,
        "start_time": "2022-04-01T19:29:19.339Z"
      },
      {
        "duration": 5,
        "start_time": "2022-04-01T19:29:19.360Z"
      },
      {
        "duration": 14,
        "start_time": "2022-04-01T19:29:19.367Z"
      },
      {
        "duration": 24,
        "start_time": "2022-04-01T19:29:19.382Z"
      },
      {
        "duration": 142,
        "start_time": "2022-04-01T19:29:19.407Z"
      },
      {
        "duration": 5,
        "start_time": "2022-04-01T19:29:19.551Z"
      },
      {
        "duration": 21,
        "start_time": "2022-04-01T19:29:19.557Z"
      },
      {
        "duration": 2,
        "start_time": "2022-04-01T19:29:19.579Z"
      },
      {
        "duration": 31,
        "start_time": "2022-04-01T19:29:19.583Z"
      },
      {
        "duration": 4,
        "start_time": "2022-04-01T19:29:19.632Z"
      },
      {
        "duration": 17,
        "start_time": "2022-04-01T19:29:19.638Z"
      },
      {
        "duration": 21,
        "start_time": "2022-04-01T19:29:19.657Z"
      },
      {
        "duration": 6,
        "start_time": "2022-04-01T19:29:19.680Z"
      },
      {
        "duration": 46,
        "start_time": "2022-04-01T19:29:19.688Z"
      },
      {
        "duration": 252,
        "start_time": "2022-04-01T19:29:19.736Z"
      },
      {
        "duration": 26,
        "start_time": "2022-04-01T19:29:19.990Z"
      },
      {
        "duration": 5,
        "start_time": "2022-04-01T19:29:20.032Z"
      },
      {
        "duration": 6,
        "start_time": "2022-04-01T19:29:20.039Z"
      },
      {
        "duration": 230,
        "start_time": "2022-04-01T19:29:20.046Z"
      },
      {
        "duration": 296,
        "start_time": "2022-04-01T19:29:20.277Z"
      },
      {
        "duration": 197,
        "start_time": "2022-04-01T19:29:20.575Z"
      },
      {
        "duration": 6,
        "start_time": "2022-04-01T19:29:20.774Z"
      },
      {
        "duration": 9,
        "start_time": "2022-04-01T19:29:20.781Z"
      },
      {
        "duration": 10,
        "start_time": "2022-04-01T19:29:20.792Z"
      },
      {
        "duration": 31,
        "start_time": "2022-04-01T19:29:20.804Z"
      },
      {
        "duration": 513,
        "start_time": "2022-04-01T19:29:20.837Z"
      },
      {
        "duration": 6,
        "start_time": "2022-04-01T19:29:21.351Z"
      },
      {
        "duration": 35,
        "start_time": "2022-04-01T19:57:00.825Z"
      },
      {
        "duration": 13,
        "start_time": "2022-04-01T19:58:12.930Z"
      },
      {
        "duration": 585,
        "start_time": "2022-04-01T20:59:16.384Z"
      },
      {
        "duration": 601,
        "start_time": "2022-04-01T21:05:15.914Z"
      },
      {
        "duration": 510,
        "start_time": "2022-04-01T21:05:23.723Z"
      },
      {
        "duration": 524,
        "start_time": "2022-04-01T21:05:44.137Z"
      },
      {
        "duration": 549,
        "start_time": "2022-04-01T21:07:38.046Z"
      },
      {
        "duration": 290,
        "start_time": "2022-04-01T21:09:20.080Z"
      },
      {
        "duration": 115,
        "start_time": "2022-04-02T16:55:33.399Z"
      },
      {
        "duration": 1394,
        "start_time": "2022-04-02T16:56:53.854Z"
      },
      {
        "duration": 88,
        "start_time": "2022-04-02T16:56:55.250Z"
      },
      {
        "duration": 37,
        "start_time": "2022-04-02T16:56:55.339Z"
      },
      {
        "duration": 15,
        "start_time": "2022-04-02T16:56:55.377Z"
      },
      {
        "duration": 12,
        "start_time": "2022-04-02T16:56:55.394Z"
      },
      {
        "duration": 13,
        "start_time": "2022-04-02T16:56:55.407Z"
      },
      {
        "duration": 24,
        "start_time": "2022-04-02T16:56:55.433Z"
      },
      {
        "duration": 24,
        "start_time": "2022-04-02T16:56:55.459Z"
      },
      {
        "duration": 50,
        "start_time": "2022-04-02T16:56:55.484Z"
      },
      {
        "duration": 10,
        "start_time": "2022-04-02T16:56:55.537Z"
      },
      {
        "duration": 15,
        "start_time": "2022-04-02T16:56:55.549Z"
      },
      {
        "duration": 16,
        "start_time": "2022-04-02T16:56:55.566Z"
      },
      {
        "duration": 56,
        "start_time": "2022-04-02T16:56:55.584Z"
      },
      {
        "duration": 4,
        "start_time": "2022-04-02T16:56:55.641Z"
      },
      {
        "duration": 37,
        "start_time": "2022-04-02T16:56:55.647Z"
      },
      {
        "duration": 47,
        "start_time": "2022-04-02T16:56:55.686Z"
      },
      {
        "duration": 9,
        "start_time": "2022-04-02T16:56:55.735Z"
      },
      {
        "duration": 17,
        "start_time": "2022-04-02T16:56:55.746Z"
      },
      {
        "duration": 9,
        "start_time": "2022-04-02T16:56:55.765Z"
      },
      {
        "duration": 14,
        "start_time": "2022-04-02T16:56:55.776Z"
      },
      {
        "duration": 54,
        "start_time": "2022-04-02T16:56:55.792Z"
      },
      {
        "duration": 7,
        "start_time": "2022-04-02T16:56:55.848Z"
      },
      {
        "duration": 13,
        "start_time": "2022-04-02T16:56:55.856Z"
      },
      {
        "duration": 6,
        "start_time": "2022-04-02T16:56:55.871Z"
      },
      {
        "duration": 19,
        "start_time": "2022-04-02T16:56:55.878Z"
      },
      {
        "duration": 35,
        "start_time": "2022-04-02T16:56:55.899Z"
      },
      {
        "duration": 13,
        "start_time": "2022-04-02T16:56:55.936Z"
      },
      {
        "duration": 21,
        "start_time": "2022-04-02T16:56:55.953Z"
      },
      {
        "duration": 143,
        "start_time": "2022-04-02T16:56:55.976Z"
      },
      {
        "duration": 5,
        "start_time": "2022-04-02T16:56:56.121Z"
      },
      {
        "duration": 18,
        "start_time": "2022-04-02T16:56:56.133Z"
      },
      {
        "duration": 3,
        "start_time": "2022-04-02T16:56:56.153Z"
      },
      {
        "duration": 32,
        "start_time": "2022-04-02T16:56:56.157Z"
      },
      {
        "duration": 4,
        "start_time": "2022-04-02T16:56:56.191Z"
      },
      {
        "duration": 17,
        "start_time": "2022-04-02T16:56:56.233Z"
      },
      {
        "duration": 24,
        "start_time": "2022-04-02T16:56:56.251Z"
      },
      {
        "duration": 6,
        "start_time": "2022-04-02T16:56:56.277Z"
      },
      {
        "duration": 56,
        "start_time": "2022-04-02T16:56:56.285Z"
      },
      {
        "duration": 257,
        "start_time": "2022-04-02T16:56:56.343Z"
      },
      {
        "duration": 34,
        "start_time": "2022-04-02T16:56:56.602Z"
      },
      {
        "duration": 5,
        "start_time": "2022-04-02T16:56:56.638Z"
      },
      {
        "duration": 13,
        "start_time": "2022-04-02T16:56:56.644Z"
      },
      {
        "duration": 237,
        "start_time": "2022-04-02T16:56:56.659Z"
      },
      {
        "duration": 343,
        "start_time": "2022-04-02T16:56:56.897Z"
      },
      {
        "duration": 201,
        "start_time": "2022-04-02T16:56:57.241Z"
      },
      {
        "duration": 5,
        "start_time": "2022-04-02T16:56:57.444Z"
      },
      {
        "duration": 9,
        "start_time": "2022-04-02T16:56:57.451Z"
      },
      {
        "duration": 11,
        "start_time": "2022-04-02T16:56:57.462Z"
      },
      {
        "duration": 10,
        "start_time": "2022-04-02T16:56:57.474Z"
      },
      {
        "duration": 540,
        "start_time": "2022-04-02T16:56:57.486Z"
      },
      {
        "duration": 8,
        "start_time": "2022-04-02T16:56:58.028Z"
      },
      {
        "duration": 115,
        "start_time": "2022-04-02T17:02:23.977Z"
      },
      {
        "duration": 10,
        "start_time": "2022-04-02T17:03:38.650Z"
      },
      {
        "duration": 110,
        "start_time": "2022-04-02T17:07:16.747Z"
      },
      {
        "duration": 160,
        "start_time": "2022-04-02T18:18:53.676Z"
      },
      {
        "duration": 107,
        "start_time": "2022-04-02T18:19:45.950Z"
      },
      {
        "duration": 110,
        "start_time": "2022-04-02T18:20:04.414Z"
      },
      {
        "duration": 392,
        "start_time": "2022-04-02T18:21:30.763Z"
      },
      {
        "duration": 184,
        "start_time": "2022-04-02T18:23:39.702Z"
      },
      {
        "duration": 286,
        "start_time": "2022-04-02T18:23:50.821Z"
      },
      {
        "duration": 259,
        "start_time": "2022-04-02T18:24:47.441Z"
      },
      {
        "duration": 265,
        "start_time": "2022-04-02T18:24:59.241Z"
      },
      {
        "duration": 262,
        "start_time": "2022-04-02T18:25:41.594Z"
      },
      {
        "duration": 359,
        "start_time": "2022-04-02T18:25:54.195Z"
      },
      {
        "duration": 257,
        "start_time": "2022-04-02T18:26:02.043Z"
      },
      {
        "duration": 258,
        "start_time": "2022-04-02T18:27:22.557Z"
      },
      {
        "duration": 266,
        "start_time": "2022-04-02T18:27:32.886Z"
      },
      {
        "duration": 297,
        "start_time": "2022-04-02T18:27:40.237Z"
      },
      {
        "duration": 605,
        "start_time": "2022-04-02T18:28:31.248Z"
      },
      {
        "duration": 799,
        "start_time": "2022-04-02T18:28:35.383Z"
      },
      {
        "duration": 474,
        "start_time": "2022-04-02T18:29:43.458Z"
      },
      {
        "duration": 515,
        "start_time": "2022-04-02T18:29:58.756Z"
      },
      {
        "duration": 134,
        "start_time": "2022-04-02T18:34:02.163Z"
      },
      {
        "duration": 5,
        "start_time": "2022-04-02T18:36:40.778Z"
      },
      {
        "duration": 4,
        "start_time": "2022-04-02T18:36:46.890Z"
      },
      {
        "duration": 86,
        "start_time": "2022-04-02T18:36:46.899Z"
      },
      {
        "duration": 28,
        "start_time": "2022-04-02T18:36:46.988Z"
      },
      {
        "duration": 25,
        "start_time": "2022-04-02T18:36:47.017Z"
      },
      {
        "duration": 15,
        "start_time": "2022-04-02T18:36:47.044Z"
      },
      {
        "duration": 192,
        "start_time": "2022-04-02T18:36:47.061Z"
      },
      {
        "duration": 13,
        "start_time": "2022-04-02T18:36:47.256Z"
      },
      {
        "duration": 31,
        "start_time": "2022-04-02T18:36:47.271Z"
      },
      {
        "duration": 42,
        "start_time": "2022-04-02T18:36:47.303Z"
      },
      {
        "duration": 22,
        "start_time": "2022-04-02T18:36:47.347Z"
      },
      {
        "duration": 12,
        "start_time": "2022-04-02T18:36:47.372Z"
      },
      {
        "duration": 51,
        "start_time": "2022-04-02T18:36:47.386Z"
      },
      {
        "duration": 19,
        "start_time": "2022-04-02T18:36:47.438Z"
      },
      {
        "duration": 20,
        "start_time": "2022-04-02T18:36:47.459Z"
      },
      {
        "duration": 4,
        "start_time": "2022-04-02T18:36:47.481Z"
      },
      {
        "duration": 77,
        "start_time": "2022-04-02T18:36:47.486Z"
      },
      {
        "duration": 20,
        "start_time": "2022-04-02T18:36:47.565Z"
      },
      {
        "duration": 47,
        "start_time": "2022-04-02T18:36:47.586Z"
      },
      {
        "duration": 16,
        "start_time": "2022-04-02T18:36:47.635Z"
      },
      {
        "duration": 13,
        "start_time": "2022-04-02T18:36:47.652Z"
      },
      {
        "duration": 17,
        "start_time": "2022-04-02T18:36:47.667Z"
      },
      {
        "duration": 50,
        "start_time": "2022-04-02T18:36:47.686Z"
      },
      {
        "duration": 9,
        "start_time": "2022-04-02T18:36:47.738Z"
      },
      {
        "duration": 14,
        "start_time": "2022-04-02T18:36:47.749Z"
      },
      {
        "duration": 10,
        "start_time": "2022-04-02T18:36:47.765Z"
      },
      {
        "duration": 32,
        "start_time": "2022-04-02T18:36:47.776Z"
      },
      {
        "duration": 25,
        "start_time": "2022-04-02T18:36:47.809Z"
      },
      {
        "duration": 14,
        "start_time": "2022-04-02T18:36:47.836Z"
      },
      {
        "duration": 23,
        "start_time": "2022-04-02T18:36:47.853Z"
      },
      {
        "duration": 155,
        "start_time": "2022-04-02T18:36:47.878Z"
      },
      {
        "duration": 5,
        "start_time": "2022-04-02T18:36:48.035Z"
      },
      {
        "duration": 150,
        "start_time": "2022-04-02T18:36:48.042Z"
      },
      {
        "duration": 0,
        "start_time": "2022-04-02T18:36:48.194Z"
      },
      {
        "duration": 0,
        "start_time": "2022-04-02T18:36:48.195Z"
      },
      {
        "duration": 0,
        "start_time": "2022-04-02T18:36:48.196Z"
      },
      {
        "duration": 0,
        "start_time": "2022-04-02T18:36:48.197Z"
      },
      {
        "duration": 0,
        "start_time": "2022-04-02T18:36:48.198Z"
      },
      {
        "duration": 0,
        "start_time": "2022-04-02T18:36:48.199Z"
      },
      {
        "duration": 0,
        "start_time": "2022-04-02T18:36:48.200Z"
      },
      {
        "duration": 0,
        "start_time": "2022-04-02T18:36:48.201Z"
      },
      {
        "duration": 0,
        "start_time": "2022-04-02T18:36:48.201Z"
      },
      {
        "duration": 0,
        "start_time": "2022-04-02T18:36:48.202Z"
      },
      {
        "duration": 0,
        "start_time": "2022-04-02T18:36:48.203Z"
      },
      {
        "duration": 0,
        "start_time": "2022-04-02T18:36:48.205Z"
      },
      {
        "duration": 0,
        "start_time": "2022-04-02T18:36:48.205Z"
      },
      {
        "duration": 1,
        "start_time": "2022-04-02T18:36:48.206Z"
      },
      {
        "duration": 0,
        "start_time": "2022-04-02T18:36:48.233Z"
      },
      {
        "duration": 0,
        "start_time": "2022-04-02T18:36:48.234Z"
      },
      {
        "duration": 0,
        "start_time": "2022-04-02T18:36:48.235Z"
      },
      {
        "duration": 0,
        "start_time": "2022-04-02T18:36:48.236Z"
      },
      {
        "duration": 0,
        "start_time": "2022-04-02T18:36:48.237Z"
      },
      {
        "duration": 0,
        "start_time": "2022-04-02T18:36:48.238Z"
      },
      {
        "duration": 0,
        "start_time": "2022-04-02T18:36:48.239Z"
      },
      {
        "duration": 23,
        "start_time": "2022-04-02T18:43:07.693Z"
      },
      {
        "duration": 1732,
        "start_time": "2022-04-02T18:49:34.577Z"
      },
      {
        "duration": 388,
        "start_time": "2022-04-02T18:49:49.434Z"
      },
      {
        "duration": 377,
        "start_time": "2022-04-02T18:51:25.060Z"
      },
      {
        "duration": 292,
        "start_time": "2022-04-02T18:58:32.898Z"
      },
      {
        "duration": 274,
        "start_time": "2022-04-02T19:00:48.151Z"
      },
      {
        "duration": 282,
        "start_time": "2022-04-02T19:00:54.200Z"
      },
      {
        "duration": 443,
        "start_time": "2022-04-02T19:01:26.456Z"
      },
      {
        "duration": 270,
        "start_time": "2022-04-02T19:01:35.281Z"
      },
      {
        "duration": 373,
        "start_time": "2022-04-02T19:03:28.197Z"
      },
      {
        "duration": 271,
        "start_time": "2022-04-02T19:05:46.465Z"
      },
      {
        "duration": 261,
        "start_time": "2022-04-02T19:06:15.585Z"
      },
      {
        "duration": 262,
        "start_time": "2022-04-02T19:06:31.482Z"
      },
      {
        "duration": 270,
        "start_time": "2022-04-02T19:06:46.939Z"
      },
      {
        "duration": 547,
        "start_time": "2022-04-02T19:07:42.861Z"
      },
      {
        "duration": 299,
        "start_time": "2022-04-02T19:11:38.540Z"
      },
      {
        "duration": 276,
        "start_time": "2022-04-02T19:11:43.044Z"
      },
      {
        "duration": 300,
        "start_time": "2022-04-02T19:11:49.237Z"
      },
      {
        "duration": 347,
        "start_time": "2022-04-02T19:13:36.792Z"
      },
      {
        "duration": 546,
        "start_time": "2022-04-02T19:15:29.931Z"
      },
      {
        "duration": 295,
        "start_time": "2022-04-02T19:16:03.476Z"
      },
      {
        "duration": 297,
        "start_time": "2022-04-02T19:16:19.326Z"
      },
      {
        "duration": 269,
        "start_time": "2022-04-02T19:16:23.341Z"
      },
      {
        "duration": 267,
        "start_time": "2022-04-02T19:16:29.614Z"
      },
      {
        "duration": 273,
        "start_time": "2022-04-02T19:16:42.175Z"
      },
      {
        "duration": 285,
        "start_time": "2022-04-02T19:17:22.168Z"
      },
      {
        "duration": 442,
        "start_time": "2022-04-02T19:17:35.239Z"
      },
      {
        "duration": 5,
        "start_time": "2022-04-02T19:22:18.609Z"
      },
      {
        "duration": 4,
        "start_time": "2022-04-02T19:22:52.862Z"
      },
      {
        "duration": 80,
        "start_time": "2022-04-02T19:22:52.868Z"
      },
      {
        "duration": 28,
        "start_time": "2022-04-02T19:22:52.950Z"
      },
      {
        "duration": 11,
        "start_time": "2022-04-02T19:22:52.980Z"
      },
      {
        "duration": 18,
        "start_time": "2022-04-02T19:22:52.993Z"
      },
      {
        "duration": 30,
        "start_time": "2022-04-02T19:22:53.012Z"
      },
      {
        "duration": 12,
        "start_time": "2022-04-02T19:22:53.044Z"
      },
      {
        "duration": 25,
        "start_time": "2022-04-02T19:22:53.058Z"
      },
      {
        "duration": 55,
        "start_time": "2022-04-02T19:22:53.085Z"
      },
      {
        "duration": 27,
        "start_time": "2022-04-02T19:22:53.142Z"
      },
      {
        "duration": 12,
        "start_time": "2022-04-02T19:22:53.173Z"
      },
      {
        "duration": 53,
        "start_time": "2022-04-02T19:22:53.187Z"
      },
      {
        "duration": 18,
        "start_time": "2022-04-02T19:22:53.242Z"
      },
      {
        "duration": 24,
        "start_time": "2022-04-02T19:22:53.262Z"
      },
      {
        "duration": 4,
        "start_time": "2022-04-02T19:22:53.287Z"
      },
      {
        "duration": 73,
        "start_time": "2022-04-02T19:22:53.292Z"
      },
      {
        "duration": 19,
        "start_time": "2022-04-02T19:22:53.366Z"
      },
      {
        "duration": 48,
        "start_time": "2022-04-02T19:22:53.386Z"
      },
      {
        "duration": 16,
        "start_time": "2022-04-02T19:22:53.435Z"
      },
      {
        "duration": 10,
        "start_time": "2022-04-02T19:22:53.453Z"
      },
      {
        "duration": 16,
        "start_time": "2022-04-02T19:22:53.465Z"
      },
      {
        "duration": 53,
        "start_time": "2022-04-02T19:22:53.483Z"
      },
      {
        "duration": 6,
        "start_time": "2022-04-02T19:22:53.538Z"
      },
      {
        "duration": 9,
        "start_time": "2022-04-02T19:22:53.546Z"
      },
      {
        "duration": 5,
        "start_time": "2022-04-02T19:22:53.557Z"
      },
      {
        "duration": 18,
        "start_time": "2022-04-02T19:22:53.564Z"
      },
      {
        "duration": 6,
        "start_time": "2022-04-02T19:22:53.583Z"
      },
      {
        "duration": 50,
        "start_time": "2022-04-02T19:22:53.591Z"
      },
      {
        "duration": 18,
        "start_time": "2022-04-02T19:22:53.645Z"
      },
      {
        "duration": 138,
        "start_time": "2022-04-02T19:22:53.665Z"
      },
      {
        "duration": 6,
        "start_time": "2022-04-02T19:22:53.805Z"
      },
      {
        "duration": 36,
        "start_time": "2022-04-02T19:22:53.812Z"
      },
      {
        "duration": 374,
        "start_time": "2022-04-02T19:22:53.849Z"
      },
      {
        "duration": 270,
        "start_time": "2022-04-02T19:22:54.232Z"
      },
      {
        "duration": 375,
        "start_time": "2022-04-02T19:22:54.504Z"
      },
      {
        "duration": 433,
        "start_time": "2022-04-02T19:22:54.881Z"
      },
      {
        "duration": 355,
        "start_time": "2022-04-02T19:22:55.316Z"
      },
      {
        "duration": 298,
        "start_time": "2022-04-02T19:22:55.673Z"
      },
      {
        "duration": 344,
        "start_time": "2022-04-02T19:22:55.973Z"
      },
      {
        "duration": 375,
        "start_time": "2022-04-02T19:22:56.318Z"
      },
      {
        "duration": 277,
        "start_time": "2022-04-02T19:22:56.695Z"
      },
      {
        "duration": 17,
        "start_time": "2022-04-02T19:22:56.973Z"
      },
      {
        "duration": 3,
        "start_time": "2022-04-02T19:22:56.992Z"
      },
      {
        "duration": 60,
        "start_time": "2022-04-02T19:22:56.997Z"
      },
      {
        "duration": 4,
        "start_time": "2022-04-02T19:22:57.059Z"
      },
      {
        "duration": 17,
        "start_time": "2022-04-02T19:22:57.064Z"
      },
      {
        "duration": 52,
        "start_time": "2022-04-02T19:22:57.082Z"
      },
      {
        "duration": 7,
        "start_time": "2022-04-02T19:22:57.136Z"
      },
      {
        "duration": 20,
        "start_time": "2022-04-02T19:22:57.145Z"
      },
      {
        "duration": 269,
        "start_time": "2022-04-02T19:22:57.167Z"
      },
      {
        "duration": 25,
        "start_time": "2022-04-02T19:22:57.438Z"
      },
      {
        "duration": 5,
        "start_time": "2022-04-02T19:22:57.465Z"
      },
      {
        "duration": 8,
        "start_time": "2022-04-02T19:22:57.472Z"
      },
      {
        "duration": 430,
        "start_time": "2022-04-02T19:22:57.482Z"
      },
      {
        "duration": 278,
        "start_time": "2022-04-02T19:22:57.915Z"
      },
      {
        "duration": 202,
        "start_time": "2022-04-02T19:22:58.195Z"
      },
      {
        "duration": 7,
        "start_time": "2022-04-02T19:22:58.399Z"
      },
      {
        "duration": 27,
        "start_time": "2022-04-02T19:22:58.408Z"
      },
      {
        "duration": 11,
        "start_time": "2022-04-02T19:22:58.437Z"
      },
      {
        "duration": 10,
        "start_time": "2022-04-02T19:22:58.450Z"
      },
      {
        "duration": 514,
        "start_time": "2022-04-02T19:22:58.463Z"
      },
      {
        "duration": 7,
        "start_time": "2022-04-02T19:22:58.980Z"
      },
      {
        "duration": 390,
        "start_time": "2022-04-02T21:52:25.521Z"
      },
      {
        "duration": 228,
        "start_time": "2022-04-02T21:52:31.866Z"
      },
      {
        "duration": 277,
        "start_time": "2022-04-02T21:52:50.610Z"
      },
      {
        "duration": 109,
        "start_time": "2022-04-02T21:54:42.062Z"
      },
      {
        "duration": 330,
        "start_time": "2022-04-02T21:55:09.621Z"
      },
      {
        "duration": 333,
        "start_time": "2022-04-02T21:55:32.831Z"
      },
      {
        "duration": 10,
        "start_time": "2022-04-02T22:22:20.025Z"
      },
      {
        "duration": 12,
        "start_time": "2022-04-02T22:22:33.720Z"
      },
      {
        "duration": 6363,
        "start_time": "2022-04-02T22:23:05.450Z"
      },
      {
        "duration": 327,
        "start_time": "2022-04-02T22:24:40.774Z"
      },
      {
        "duration": 192,
        "start_time": "2022-04-02T22:34:34.441Z"
      },
      {
        "duration": 192,
        "start_time": "2022-04-02T22:35:12.651Z"
      },
      {
        "duration": 210,
        "start_time": "2022-04-02T22:36:43.337Z"
      },
      {
        "duration": 5,
        "start_time": "2022-04-02T22:40:24.598Z"
      },
      {
        "duration": 4,
        "start_time": "2022-04-02T22:40:31.462Z"
      },
      {
        "duration": 4,
        "start_time": "2022-04-02T22:44:29.262Z"
      },
      {
        "duration": 10,
        "start_time": "2022-04-02T22:47:11.514Z"
      },
      {
        "duration": 25,
        "start_time": "2022-04-02T22:47:33.876Z"
      },
      {
        "duration": 9,
        "start_time": "2022-04-02T22:53:19.872Z"
      },
      {
        "duration": 8,
        "start_time": "2022-04-02T22:55:03.737Z"
      },
      {
        "duration": 59,
        "start_time": "2022-04-02T22:57:45.470Z"
      },
      {
        "duration": 59,
        "start_time": "2022-04-02T22:58:05.287Z"
      },
      {
        "duration": 115,
        "start_time": "2022-04-02T22:58:14.640Z"
      },
      {
        "duration": 9,
        "start_time": "2022-04-02T23:00:05.099Z"
      },
      {
        "duration": 18,
        "start_time": "2022-04-02T23:03:05.809Z"
      },
      {
        "duration": 56,
        "start_time": "2022-04-02T23:03:44.660Z"
      },
      {
        "duration": 18,
        "start_time": "2022-04-02T23:04:02.331Z"
      },
      {
        "duration": 8,
        "start_time": "2022-04-02T23:04:44.964Z"
      },
      {
        "duration": 8,
        "start_time": "2022-04-02T23:06:09.214Z"
      },
      {
        "duration": 6,
        "start_time": "2022-04-02T23:10:12.014Z"
      },
      {
        "duration": 217,
        "start_time": "2022-04-02T23:12:31.723Z"
      },
      {
        "duration": 222,
        "start_time": "2022-04-02T23:14:15.903Z"
      },
      {
        "duration": 237,
        "start_time": "2022-04-02T23:20:42.524Z"
      },
      {
        "duration": 117,
        "start_time": "2022-04-02T23:25:18.876Z"
      },
      {
        "duration": 236,
        "start_time": "2022-04-02T23:25:27.700Z"
      },
      {
        "duration": 134,
        "start_time": "2022-04-02T23:25:47.404Z"
      },
      {
        "duration": 1440,
        "start_time": "2022-04-03T07:37:58.744Z"
      },
      {
        "duration": 97,
        "start_time": "2022-04-03T07:38:00.186Z"
      },
      {
        "duration": 24,
        "start_time": "2022-04-03T07:38:00.285Z"
      },
      {
        "duration": 13,
        "start_time": "2022-04-03T07:38:00.312Z"
      },
      {
        "duration": 19,
        "start_time": "2022-04-03T07:38:00.327Z"
      },
      {
        "duration": 12,
        "start_time": "2022-04-03T07:38:00.348Z"
      },
      {
        "duration": 40,
        "start_time": "2022-04-03T07:38:00.363Z"
      },
      {
        "duration": 27,
        "start_time": "2022-04-03T07:38:00.406Z"
      },
      {
        "duration": 24,
        "start_time": "2022-04-03T07:38:00.434Z"
      },
      {
        "duration": 56,
        "start_time": "2022-04-03T07:38:00.462Z"
      },
      {
        "duration": 12,
        "start_time": "2022-04-03T07:38:00.520Z"
      },
      {
        "duration": 29,
        "start_time": "2022-04-03T07:38:00.534Z"
      },
      {
        "duration": 36,
        "start_time": "2022-04-03T07:38:00.565Z"
      },
      {
        "duration": 23,
        "start_time": "2022-04-03T07:38:00.603Z"
      },
      {
        "duration": 13,
        "start_time": "2022-04-03T07:38:00.628Z"
      },
      {
        "duration": 58,
        "start_time": "2022-04-03T07:38:00.643Z"
      },
      {
        "duration": 23,
        "start_time": "2022-04-03T07:38:00.703Z"
      },
      {
        "duration": 12,
        "start_time": "2022-04-03T07:38:00.728Z"
      },
      {
        "duration": 32,
        "start_time": "2022-04-03T07:38:00.742Z"
      },
      {
        "duration": 16,
        "start_time": "2022-04-03T07:38:00.776Z"
      },
      {
        "duration": 21,
        "start_time": "2022-04-03T07:38:00.802Z"
      },
      {
        "duration": 28,
        "start_time": "2022-04-03T07:38:00.825Z"
      },
      {
        "duration": 44,
        "start_time": "2022-04-03T07:38:00.855Z"
      },
      {
        "duration": 16,
        "start_time": "2022-04-03T07:38:00.901Z"
      },
      {
        "duration": 12,
        "start_time": "2022-04-03T07:38:00.919Z"
      },
      {
        "duration": 35,
        "start_time": "2022-04-03T07:38:00.933Z"
      },
      {
        "duration": 13,
        "start_time": "2022-04-03T07:38:00.970Z"
      },
      {
        "duration": 26,
        "start_time": "2022-04-03T07:38:00.988Z"
      },
      {
        "duration": 34,
        "start_time": "2022-04-03T07:38:01.016Z"
      },
      {
        "duration": 127,
        "start_time": "2022-04-03T07:38:01.052Z"
      },
      {
        "duration": 6,
        "start_time": "2022-04-03T07:38:01.181Z"
      },
      {
        "duration": 32,
        "start_time": "2022-04-03T07:38:01.189Z"
      },
      {
        "duration": 441,
        "start_time": "2022-04-03T07:38:01.223Z"
      },
      {
        "duration": 323,
        "start_time": "2022-04-03T07:38:01.666Z"
      },
      {
        "duration": 512,
        "start_time": "2022-04-03T07:38:01.991Z"
      },
      {
        "duration": 313,
        "start_time": "2022-04-03T07:38:02.505Z"
      },
      {
        "duration": 399,
        "start_time": "2022-04-03T07:38:02.820Z"
      },
      {
        "duration": 341,
        "start_time": "2022-04-03T07:38:03.222Z"
      },
      {
        "duration": 404,
        "start_time": "2022-04-03T07:38:03.565Z"
      },
      {
        "duration": 548,
        "start_time": "2022-04-03T07:38:03.971Z"
      },
      {
        "duration": 307,
        "start_time": "2022-04-03T07:38:04.521Z"
      },
      {
        "duration": 19,
        "start_time": "2022-04-03T07:38:04.830Z"
      },
      {
        "duration": 18,
        "start_time": "2022-04-03T07:38:04.851Z"
      },
      {
        "duration": 40,
        "start_time": "2022-04-03T07:38:04.872Z"
      },
      {
        "duration": 7,
        "start_time": "2022-04-03T07:38:04.914Z"
      },
      {
        "duration": 19,
        "start_time": "2022-04-03T07:38:04.923Z"
      },
      {
        "duration": 30,
        "start_time": "2022-04-03T07:38:04.945Z"
      },
      {
        "duration": 30,
        "start_time": "2022-04-03T07:38:04.977Z"
      },
      {
        "duration": 21,
        "start_time": "2022-04-03T07:38:05.009Z"
      },
      {
        "duration": 288,
        "start_time": "2022-04-03T07:38:05.033Z"
      },
      {
        "duration": 271,
        "start_time": "2022-04-03T07:38:05.324Z"
      },
      {
        "duration": 27,
        "start_time": "2022-04-03T07:38:05.602Z"
      },
      {
        "duration": 6,
        "start_time": "2022-04-03T07:38:05.632Z"
      },
      {
        "duration": 10,
        "start_time": "2022-04-03T07:38:05.640Z"
      },
      {
        "duration": 11,
        "start_time": "2022-04-03T07:38:05.652Z"
      },
      {
        "duration": 269,
        "start_time": "2022-04-03T07:38:05.665Z"
      },
      {
        "duration": 387,
        "start_time": "2022-04-03T07:38:05.936Z"
      },
      {
        "duration": 309,
        "start_time": "2022-04-03T07:38:06.325Z"
      },
      {
        "duration": 310,
        "start_time": "2022-04-03T07:38:06.636Z"
      },
      {
        "duration": 6,
        "start_time": "2022-04-03T07:38:06.948Z"
      },
      {
        "duration": 10,
        "start_time": "2022-04-03T07:38:06.956Z"
      },
      {
        "duration": 12,
        "start_time": "2022-04-03T07:38:06.968Z"
      },
      {
        "duration": 28,
        "start_time": "2022-04-03T07:38:06.982Z"
      },
      {
        "duration": 551,
        "start_time": "2022-04-03T07:38:07.012Z"
      },
      {
        "duration": 6,
        "start_time": "2022-04-03T07:38:07.565Z"
      },
      {
        "duration": 345,
        "start_time": "2022-04-03T08:20:26.514Z"
      },
      {
        "duration": 335,
        "start_time": "2022-04-03T08:20:41.499Z"
      },
      {
        "duration": 138,
        "start_time": "2022-04-03T08:23:17.915Z"
      },
      {
        "duration": 135,
        "start_time": "2022-04-03T08:23:32.589Z"
      },
      {
        "duration": 212,
        "start_time": "2022-04-03T08:24:06.268Z"
      },
      {
        "duration": 216,
        "start_time": "2022-04-03T08:26:42.920Z"
      },
      {
        "duration": 210,
        "start_time": "2022-04-03T08:26:59.920Z"
      },
      {
        "duration": 310,
        "start_time": "2022-04-03T08:27:11.279Z"
      },
      {
        "duration": 226,
        "start_time": "2022-04-03T08:29:14.750Z"
      },
      {
        "duration": 222,
        "start_time": "2022-04-03T08:29:38.581Z"
      },
      {
        "duration": 158,
        "start_time": "2022-04-03T08:35:53.745Z"
      },
      {
        "duration": 164,
        "start_time": "2022-04-03T08:35:59.038Z"
      },
      {
        "duration": 180,
        "start_time": "2022-04-03T08:36:15.499Z"
      },
      {
        "duration": 404,
        "start_time": "2022-04-03T08:36:44.857Z"
      },
      {
        "duration": 1201,
        "start_time": "2022-04-03T09:29:22.531Z"
      },
      {
        "duration": 94,
        "start_time": "2022-04-03T09:29:23.734Z"
      },
      {
        "duration": 25,
        "start_time": "2022-04-03T09:29:23.830Z"
      },
      {
        "duration": 12,
        "start_time": "2022-04-03T09:29:23.858Z"
      },
      {
        "duration": 29,
        "start_time": "2022-04-03T09:29:23.872Z"
      },
      {
        "duration": 11,
        "start_time": "2022-04-03T09:29:23.904Z"
      },
      {
        "duration": 20,
        "start_time": "2022-04-03T09:29:23.918Z"
      },
      {
        "duration": 28,
        "start_time": "2022-04-03T09:29:23.941Z"
      },
      {
        "duration": 48,
        "start_time": "2022-04-03T09:29:23.971Z"
      },
      {
        "duration": 24,
        "start_time": "2022-04-03T09:29:24.023Z"
      },
      {
        "duration": 12,
        "start_time": "2022-04-03T09:29:24.048Z"
      },
      {
        "duration": 49,
        "start_time": "2022-04-03T09:29:24.061Z"
      },
      {
        "duration": 18,
        "start_time": "2022-04-03T09:29:24.112Z"
      },
      {
        "duration": 22,
        "start_time": "2022-04-03T09:29:24.132Z"
      },
      {
        "duration": 4,
        "start_time": "2022-04-03T09:29:24.156Z"
      },
      {
        "duration": 66,
        "start_time": "2022-04-03T09:29:24.162Z"
      },
      {
        "duration": 21,
        "start_time": "2022-04-03T09:29:24.230Z"
      },
      {
        "duration": 10,
        "start_time": "2022-04-03T09:29:24.253Z"
      },
      {
        "duration": 47,
        "start_time": "2022-04-03T09:29:24.264Z"
      },
      {
        "duration": 12,
        "start_time": "2022-04-03T09:29:24.313Z"
      },
      {
        "duration": 15,
        "start_time": "2022-04-03T09:29:24.327Z"
      },
      {
        "duration": 19,
        "start_time": "2022-04-03T09:29:24.344Z"
      },
      {
        "duration": 18,
        "start_time": "2022-04-03T09:29:24.365Z"
      },
      {
        "duration": 27,
        "start_time": "2022-04-03T09:29:24.385Z"
      },
      {
        "duration": 9,
        "start_time": "2022-04-03T09:29:24.414Z"
      },
      {
        "duration": 20,
        "start_time": "2022-04-03T09:29:24.425Z"
      },
      {
        "duration": 5,
        "start_time": "2022-04-03T09:29:24.446Z"
      },
      {
        "duration": 13,
        "start_time": "2022-04-03T09:29:24.456Z"
      },
      {
        "duration": 50,
        "start_time": "2022-04-03T09:29:24.471Z"
      },
      {
        "duration": 145,
        "start_time": "2022-04-03T09:29:24.523Z"
      },
      {
        "duration": 6,
        "start_time": "2022-04-03T09:29:24.670Z"
      },
      {
        "duration": 34,
        "start_time": "2022-04-03T09:29:24.677Z"
      },
      {
        "duration": 423,
        "start_time": "2022-04-03T09:29:24.713Z"
      },
      {
        "duration": 417,
        "start_time": "2022-04-03T09:29:25.138Z"
      },
      {
        "duration": 388,
        "start_time": "2022-04-03T09:29:25.557Z"
      },
      {
        "duration": 412,
        "start_time": "2022-04-03T09:29:25.947Z"
      },
      {
        "duration": 297,
        "start_time": "2022-04-03T09:29:26.361Z"
      },
      {
        "duration": 387,
        "start_time": "2022-04-03T09:29:26.660Z"
      },
      {
        "duration": 325,
        "start_time": "2022-04-03T09:29:27.049Z"
      },
      {
        "duration": 488,
        "start_time": "2022-04-03T09:29:27.375Z"
      },
      {
        "duration": 406,
        "start_time": "2022-04-03T09:29:27.866Z"
      },
      {
        "duration": 300,
        "start_time": "2022-04-03T09:29:28.273Z"
      },
      {
        "duration": 26,
        "start_time": "2022-04-03T09:29:28.575Z"
      },
      {
        "duration": 3,
        "start_time": "2022-04-03T09:29:28.603Z"
      },
      {
        "duration": 35,
        "start_time": "2022-04-03T09:29:28.608Z"
      },
      {
        "duration": 5,
        "start_time": "2022-04-03T09:29:28.645Z"
      },
      {
        "duration": 19,
        "start_time": "2022-04-03T09:29:28.652Z"
      },
      {
        "duration": 51,
        "start_time": "2022-04-03T09:29:28.673Z"
      },
      {
        "duration": 7,
        "start_time": "2022-04-03T09:29:28.726Z"
      },
      {
        "duration": 26,
        "start_time": "2022-04-03T09:29:28.735Z"
      },
      {
        "duration": 281,
        "start_time": "2022-04-03T09:29:28.763Z"
      },
      {
        "duration": 260,
        "start_time": "2022-04-03T09:29:29.046Z"
      },
      {
        "duration": 24,
        "start_time": "2022-04-03T09:29:29.309Z"
      },
      {
        "duration": 5,
        "start_time": "2022-04-03T09:29:29.335Z"
      },
      {
        "duration": 10,
        "start_time": "2022-04-03T09:29:29.341Z"
      },
      {
        "duration": 10,
        "start_time": "2022-04-03T09:29:29.353Z"
      },
      {
        "duration": 258,
        "start_time": "2022-04-03T09:29:29.365Z"
      },
      {
        "duration": 431,
        "start_time": "2022-04-03T09:29:29.625Z"
      },
      {
        "duration": 367,
        "start_time": "2022-04-03T09:29:30.058Z"
      },
      {
        "duration": 218,
        "start_time": "2022-04-03T09:29:30.427Z"
      },
      {
        "duration": 7,
        "start_time": "2022-04-03T09:29:30.647Z"
      },
      {
        "duration": 25,
        "start_time": "2022-04-03T09:29:30.655Z"
      },
      {
        "duration": 12,
        "start_time": "2022-04-03T09:29:30.682Z"
      },
      {
        "duration": 22,
        "start_time": "2022-04-03T09:29:30.700Z"
      },
      {
        "duration": 560,
        "start_time": "2022-04-03T09:29:30.724Z"
      },
      {
        "duration": 16,
        "start_time": "2022-04-03T09:29:31.286Z"
      }
    ],
    "colab": {
      "provenance": []
    },
    "kernelspec": {
      "display_name": "Python 3 (ipykernel)",
      "language": "python",
      "name": "python3"
    },
    "language_info": {
      "codemirror_mode": {
        "name": "ipython",
        "version": 3
      },
      "file_extension": ".py",
      "mimetype": "text/x-python",
      "name": "python",
      "nbconvert_exporter": "python",
      "pygments_lexer": "ipython3",
      "version": "3.9.5"
    },
    "toc": {
      "base_numbering": 1,
      "nav_menu": {},
      "number_sections": true,
      "sideBar": true,
      "skip_h1_title": true,
      "title_cell": "Table of Contents",
      "title_sidebar": "Contents",
      "toc_cell": false,
      "toc_position": {
        "height": "calc(100% - 180px)",
        "left": "10px",
        "top": "150px",
        "width": "375.391px"
      },
      "toc_section_display": true,
      "toc_window_display": false
    }
  },
  "nbformat": 4,
  "nbformat_minor": 0
}