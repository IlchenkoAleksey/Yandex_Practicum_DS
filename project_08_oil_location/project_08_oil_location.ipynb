{
  "cells": [
    {
      "cell_type": "markdown",
      "metadata": {
        "id": "MWHFc4qOXp3c"
      },
      "source": [
        "# Выбор локации для скважины"
      ]
    },
    {
      "cell_type": "markdown",
      "metadata": {
        "id": "9_uGq-AKXp3c"
      },
      "source": [
        "Допустим, вы работаете в добывающей компании «ГлавРосГосНефть». Нужно решить, где бурить новую скважину.\n",
        "\n",
        "Вам предоставлены пробы нефти в трёх регионах: в каждом 10 000 месторождений, где измерили качество нефти и объём её запасов. Постройте модель машинного обучения, которая поможет определить регион, где добыча принесёт наибольшую прибыль. Проанализируйте возможную прибыль и риски техникой *Bootstrap.*\n",
        "\n",
        "Шаги для выбора локации:\n",
        "\n",
        "- В избранном регионе ищут месторождения, для каждого определяют значения признаков;\n",
        "- Строят модель и оценивают объём запасов;\n",
        "- Выбирают месторождения с самым высокими оценками значений. Количество месторождений зависит от бюджета компании и стоимости разработки одной скважины;\n",
        "- Прибыль равна суммарной прибыли отобранных месторождений."
      ]
    },
    {
      "cell_type": "markdown",
      "metadata": {
        "id": "VYYVIeaeXp3d"
      },
      "source": [
        "  Описание данных:  \n",
        "\n",
        "Данные геологоразведки трёх регионов находятся в файлах:  \n",
        "• geo_data_0.csv. Скачать датасет  \n",
        "• geo_data_1.csv. Скачать датасет  \n",
        "• geo_data_2.csv. Скачать датасет  \n",
        "• id — уникальный идентификатор скважины;  \n",
        "• f0, f1, f2 — три признака точек (неважно, что они означают, но сами признаки значимы);  \n",
        "• product — объём запасов в скважине (тыс. баррелей).  \n",
        "\n",
        "  Условия задачи:  \n",
        "\n",
        "• Для обучения модели подходит только линейная регрессия (остальные — недостаточно предсказуемые).  \n",
        "• При разведке региона исследуют 500 точек, из которых с помощью машинного обучения выбирают 200 лучших для разработки.  \n",
        "• Бюджет на разработку скважин в регионе — 10 млрд рублей.  \n",
        "• При нынешних ценах один баррель сырья приносит 450 рублей дохода. Доход с каждой единицы продукта составляет 450 тыс. рублей, поскольку объём указан в тысячах баррелей.  \n",
        "• После оценки рисков нужно оставить лишь те регионы, в которых вероятность убытков меньше 2.5%. Среди них выбирают регион с наибольшей средней прибылью.  \n",
        "\n",
        "Данные синтетические: детали контрактов и характеристики месторождений не разглашаются.\n"
      ]
    },
    {
      "cell_type": "markdown",
      "metadata": {
        "id": "j4ff3wpoXp3d"
      },
      "source": [
        "## Загрузка и подготовка данных"
      ]
    },
    {
      "cell_type": "markdown",
      "metadata": {
        "id": "-1esQ5hpXp3e"
      },
      "source": [
        "Загрузим библиотеки с которыми будем работать"
      ]
    },
    {
      "cell_type": "code",
      "execution_count": null,
      "metadata": {
        "id": "fOaK9_kqXp3e"
      },
      "outputs": [],
      "source": [
        "import pandas as pd\n",
        "import numpy as np\n",
        "import matplotlib.pyplot as plt\n",
        "import seaborn as sns\n",
        "\n",
        "from scipy import stats as st\n",
        "from sklearn.linear_model import LinearRegression\n",
        "from sklearn.model_selection import train_test_split\n",
        "from sklearn.metrics import mean_squared_error"
      ]
    },
    {
      "cell_type": "markdown",
      "metadata": {
        "id": "ACvuLh81Xp3g"
      },
      "source": [
        "Зададим необходимые константы"
      ]
    },
    {
      "cell_type": "code",
      "execution_count": null,
      "metadata": {
        "id": "I62-MZMkXp3g"
      },
      "outputs": [],
      "source": [
        "state = 12345"
      ]
    },
    {
      "cell_type": "markdown",
      "metadata": {
        "id": "s4vLmsfCXp3g"
      },
      "source": [
        "Загрузим таблицы `geo_data_0, geo_data_1 и geo_data_2`"
      ]
    },
    {
      "cell_type": "code",
      "execution_count": null,
      "metadata": {
        "id": "qi99kh9eXp3g"
      },
      "outputs": [],
      "source": [
        "geo_data_0 = pd.read_csv('/datasets/geo_data_0.csv', sep=',')\n",
        "geo_data_1 = pd.read_csv('/datasets/geo_data_1.csv', sep=',')\n",
        "geo_data_2 = pd.read_csv('/datasets/geo_data_2.csv', sep=',')\n",
        "geo_data_all = [geo_data_0, geo_data_1, geo_data_2]"
      ]
    },
    {
      "cell_type": "markdown",
      "metadata": {
        "id": "4OnsuzmaXp3g"
      },
      "source": [
        "### Изучим информацию в таблицах"
      ]
    },
    {
      "cell_type": "markdown",
      "metadata": {
        "id": "aBLuuNwRXp3g"
      },
      "source": [
        "Оценим структуру данных таблиц `geo_data_0, geo_data_1 и geo_data_2`"
      ]
    },
    {
      "cell_type": "code",
      "execution_count": null,
      "metadata": {
        "scrolled": false,
        "id": "bA6-qpjmXp3h",
        "outputId": "6cea512f-0aa8-4d9a-9c20-5b1060b8e823"
      },
      "outputs": [
        {
          "name": "stdout",
          "output_type": "stream",
          "text": [
            "Структура данных таблицы geo_data_0:\n"
          ]
        },
        {
          "data": {
            "text/html": [
              "<div>\n",
              "<style scoped>\n",
              "    .dataframe tbody tr th:only-of-type {\n",
              "        vertical-align: middle;\n",
              "    }\n",
              "\n",
              "    .dataframe tbody tr th {\n",
              "        vertical-align: top;\n",
              "    }\n",
              "\n",
              "    .dataframe thead th {\n",
              "        text-align: right;\n",
              "    }\n",
              "</style>\n",
              "<table border=\"1\" class=\"dataframe\">\n",
              "  <thead>\n",
              "    <tr style=\"text-align: right;\">\n",
              "      <th></th>\n",
              "      <th>id</th>\n",
              "      <th>f0</th>\n",
              "      <th>f1</th>\n",
              "      <th>f2</th>\n",
              "      <th>product</th>\n",
              "    </tr>\n",
              "  </thead>\n",
              "  <tbody>\n",
              "    <tr>\n",
              "      <th>0</th>\n",
              "      <td>txEyH</td>\n",
              "      <td>0.705745</td>\n",
              "      <td>-0.497823</td>\n",
              "      <td>1.221170</td>\n",
              "      <td>105.280062</td>\n",
              "    </tr>\n",
              "    <tr>\n",
              "      <th>1</th>\n",
              "      <td>2acmU</td>\n",
              "      <td>1.334711</td>\n",
              "      <td>-0.340164</td>\n",
              "      <td>4.365080</td>\n",
              "      <td>73.037750</td>\n",
              "    </tr>\n",
              "    <tr>\n",
              "      <th>2</th>\n",
              "      <td>409Wp</td>\n",
              "      <td>1.022732</td>\n",
              "      <td>0.151990</td>\n",
              "      <td>1.419926</td>\n",
              "      <td>85.265647</td>\n",
              "    </tr>\n",
              "    <tr>\n",
              "      <th>3</th>\n",
              "      <td>iJLyR</td>\n",
              "      <td>-0.032172</td>\n",
              "      <td>0.139033</td>\n",
              "      <td>2.978566</td>\n",
              "      <td>168.620776</td>\n",
              "    </tr>\n",
              "    <tr>\n",
              "      <th>4</th>\n",
              "      <td>Xdl7t</td>\n",
              "      <td>1.988431</td>\n",
              "      <td>0.155413</td>\n",
              "      <td>4.751769</td>\n",
              "      <td>154.036647</td>\n",
              "    </tr>\n",
              "  </tbody>\n",
              "</table>\n",
              "</div>"
            ],
            "text/plain": [
              "      id        f0        f1        f2     product\n",
              "0  txEyH  0.705745 -0.497823  1.221170  105.280062\n",
              "1  2acmU  1.334711 -0.340164  4.365080   73.037750\n",
              "2  409Wp  1.022732  0.151990  1.419926   85.265647\n",
              "3  iJLyR -0.032172  0.139033  2.978566  168.620776\n",
              "4  Xdl7t  1.988431  0.155413  4.751769  154.036647"
            ]
          },
          "metadata": {},
          "output_type": "display_data"
        },
        {
          "name": "stdout",
          "output_type": "stream",
          "text": [
            "<class 'pandas.core.frame.DataFrame'>\n",
            "RangeIndex: 100000 entries, 0 to 99999\n",
            "Data columns (total 5 columns):\n",
            " #   Column   Non-Null Count   Dtype  \n",
            "---  ------   --------------   -----  \n",
            " 0   id       100000 non-null  object \n",
            " 1   f0       100000 non-null  float64\n",
            " 2   f1       100000 non-null  float64\n",
            " 3   f2       100000 non-null  float64\n",
            " 4   product  100000 non-null  float64\n",
            "dtypes: float64(4), object(1)\n",
            "memory usage: 3.8+ MB\n"
          ]
        },
        {
          "data": {
            "text/plain": [
              "None"
            ]
          },
          "metadata": {},
          "output_type": "display_data"
        }
      ],
      "source": [
        "print('Структура данных таблицы geo_data_0:')\n",
        "display(geo_data_0.head())\n",
        "display(geo_data_0.info())"
      ]
    },
    {
      "cell_type": "code",
      "execution_count": null,
      "metadata": {
        "id": "hy_qqYN7Xp3i",
        "outputId": "fda11a59-3a6b-4e1e-a4e1-5bcf2cd6c69f"
      },
      "outputs": [
        {
          "name": "stdout",
          "output_type": "stream",
          "text": [
            "Структура данных таблицы geo_data_1:\n"
          ]
        },
        {
          "data": {
            "text/html": [
              "<div>\n",
              "<style scoped>\n",
              "    .dataframe tbody tr th:only-of-type {\n",
              "        vertical-align: middle;\n",
              "    }\n",
              "\n",
              "    .dataframe tbody tr th {\n",
              "        vertical-align: top;\n",
              "    }\n",
              "\n",
              "    .dataframe thead th {\n",
              "        text-align: right;\n",
              "    }\n",
              "</style>\n",
              "<table border=\"1\" class=\"dataframe\">\n",
              "  <thead>\n",
              "    <tr style=\"text-align: right;\">\n",
              "      <th></th>\n",
              "      <th>id</th>\n",
              "      <th>f0</th>\n",
              "      <th>f1</th>\n",
              "      <th>f2</th>\n",
              "      <th>product</th>\n",
              "    </tr>\n",
              "  </thead>\n",
              "  <tbody>\n",
              "    <tr>\n",
              "      <th>0</th>\n",
              "      <td>kBEdx</td>\n",
              "      <td>-15.001348</td>\n",
              "      <td>-8.276000</td>\n",
              "      <td>-0.005876</td>\n",
              "      <td>3.179103</td>\n",
              "    </tr>\n",
              "    <tr>\n",
              "      <th>1</th>\n",
              "      <td>62mP7</td>\n",
              "      <td>14.272088</td>\n",
              "      <td>-3.475083</td>\n",
              "      <td>0.999183</td>\n",
              "      <td>26.953261</td>\n",
              "    </tr>\n",
              "    <tr>\n",
              "      <th>2</th>\n",
              "      <td>vyE1P</td>\n",
              "      <td>6.263187</td>\n",
              "      <td>-5.948386</td>\n",
              "      <td>5.001160</td>\n",
              "      <td>134.766305</td>\n",
              "    </tr>\n",
              "    <tr>\n",
              "      <th>3</th>\n",
              "      <td>KcrkZ</td>\n",
              "      <td>-13.081196</td>\n",
              "      <td>-11.506057</td>\n",
              "      <td>4.999415</td>\n",
              "      <td>137.945408</td>\n",
              "    </tr>\n",
              "    <tr>\n",
              "      <th>4</th>\n",
              "      <td>AHL4O</td>\n",
              "      <td>12.702195</td>\n",
              "      <td>-8.147433</td>\n",
              "      <td>5.004363</td>\n",
              "      <td>134.766305</td>\n",
              "    </tr>\n",
              "  </tbody>\n",
              "</table>\n",
              "</div>"
            ],
            "text/plain": [
              "      id         f0         f1        f2     product\n",
              "0  kBEdx -15.001348  -8.276000 -0.005876    3.179103\n",
              "1  62mP7  14.272088  -3.475083  0.999183   26.953261\n",
              "2  vyE1P   6.263187  -5.948386  5.001160  134.766305\n",
              "3  KcrkZ -13.081196 -11.506057  4.999415  137.945408\n",
              "4  AHL4O  12.702195  -8.147433  5.004363  134.766305"
            ]
          },
          "metadata": {},
          "output_type": "display_data"
        },
        {
          "name": "stdout",
          "output_type": "stream",
          "text": [
            "<class 'pandas.core.frame.DataFrame'>\n",
            "RangeIndex: 100000 entries, 0 to 99999\n",
            "Data columns (total 5 columns):\n",
            " #   Column   Non-Null Count   Dtype  \n",
            "---  ------   --------------   -----  \n",
            " 0   id       100000 non-null  object \n",
            " 1   f0       100000 non-null  float64\n",
            " 2   f1       100000 non-null  float64\n",
            " 3   f2       100000 non-null  float64\n",
            " 4   product  100000 non-null  float64\n",
            "dtypes: float64(4), object(1)\n",
            "memory usage: 3.8+ MB\n"
          ]
        },
        {
          "data": {
            "text/plain": [
              "None"
            ]
          },
          "metadata": {},
          "output_type": "display_data"
        }
      ],
      "source": [
        "print('Структура данных таблицы geo_data_1:')\n",
        "display(geo_data_1.head())\n",
        "display(geo_data_1.info())"
      ]
    },
    {
      "cell_type": "code",
      "execution_count": null,
      "metadata": {
        "id": "Frk2JDPcXp3i",
        "outputId": "ef1fe2bf-a271-41d7-ff17-78bd50717b1c"
      },
      "outputs": [
        {
          "name": "stdout",
          "output_type": "stream",
          "text": [
            "Структура данных таблицы geo_data_2:\n"
          ]
        },
        {
          "data": {
            "text/html": [
              "<div>\n",
              "<style scoped>\n",
              "    .dataframe tbody tr th:only-of-type {\n",
              "        vertical-align: middle;\n",
              "    }\n",
              "\n",
              "    .dataframe tbody tr th {\n",
              "        vertical-align: top;\n",
              "    }\n",
              "\n",
              "    .dataframe thead th {\n",
              "        text-align: right;\n",
              "    }\n",
              "</style>\n",
              "<table border=\"1\" class=\"dataframe\">\n",
              "  <thead>\n",
              "    <tr style=\"text-align: right;\">\n",
              "      <th></th>\n",
              "      <th>id</th>\n",
              "      <th>f0</th>\n",
              "      <th>f1</th>\n",
              "      <th>f2</th>\n",
              "      <th>product</th>\n",
              "    </tr>\n",
              "  </thead>\n",
              "  <tbody>\n",
              "    <tr>\n",
              "      <th>0</th>\n",
              "      <td>fwXo0</td>\n",
              "      <td>-1.146987</td>\n",
              "      <td>0.963328</td>\n",
              "      <td>-0.828965</td>\n",
              "      <td>27.758673</td>\n",
              "    </tr>\n",
              "    <tr>\n",
              "      <th>1</th>\n",
              "      <td>WJtFt</td>\n",
              "      <td>0.262778</td>\n",
              "      <td>0.269839</td>\n",
              "      <td>-2.530187</td>\n",
              "      <td>56.069697</td>\n",
              "    </tr>\n",
              "    <tr>\n",
              "      <th>2</th>\n",
              "      <td>ovLUW</td>\n",
              "      <td>0.194587</td>\n",
              "      <td>0.289035</td>\n",
              "      <td>-5.586433</td>\n",
              "      <td>62.871910</td>\n",
              "    </tr>\n",
              "    <tr>\n",
              "      <th>3</th>\n",
              "      <td>q6cA6</td>\n",
              "      <td>2.236060</td>\n",
              "      <td>-0.553760</td>\n",
              "      <td>0.930038</td>\n",
              "      <td>114.572842</td>\n",
              "    </tr>\n",
              "    <tr>\n",
              "      <th>4</th>\n",
              "      <td>WPMUX</td>\n",
              "      <td>-0.515993</td>\n",
              "      <td>1.716266</td>\n",
              "      <td>5.899011</td>\n",
              "      <td>149.600746</td>\n",
              "    </tr>\n",
              "  </tbody>\n",
              "</table>\n",
              "</div>"
            ],
            "text/plain": [
              "      id        f0        f1        f2     product\n",
              "0  fwXo0 -1.146987  0.963328 -0.828965   27.758673\n",
              "1  WJtFt  0.262778  0.269839 -2.530187   56.069697\n",
              "2  ovLUW  0.194587  0.289035 -5.586433   62.871910\n",
              "3  q6cA6  2.236060 -0.553760  0.930038  114.572842\n",
              "4  WPMUX -0.515993  1.716266  5.899011  149.600746"
            ]
          },
          "metadata": {},
          "output_type": "display_data"
        },
        {
          "name": "stdout",
          "output_type": "stream",
          "text": [
            "<class 'pandas.core.frame.DataFrame'>\n",
            "RangeIndex: 100000 entries, 0 to 99999\n",
            "Data columns (total 5 columns):\n",
            " #   Column   Non-Null Count   Dtype  \n",
            "---  ------   --------------   -----  \n",
            " 0   id       100000 non-null  object \n",
            " 1   f0       100000 non-null  float64\n",
            " 2   f1       100000 non-null  float64\n",
            " 3   f2       100000 non-null  float64\n",
            " 4   product  100000 non-null  float64\n",
            "dtypes: float64(4), object(1)\n",
            "memory usage: 3.8+ MB\n"
          ]
        },
        {
          "data": {
            "text/plain": [
              "None"
            ]
          },
          "metadata": {},
          "output_type": "display_data"
        }
      ],
      "source": [
        "print('Структура данных таблицы geo_data_2:')\n",
        "display(geo_data_2.head())\n",
        "display(geo_data_2.info())"
      ]
    },
    {
      "cell_type": "markdown",
      "metadata": {
        "id": "O1T5-oq5Xp3j"
      },
      "source": [
        "Пропущенных значений нет. Типы данных в таблице корректные."
      ]
    },
    {
      "cell_type": "markdown",
      "metadata": {
        "id": "yqMw_naPXp3j"
      },
      "source": [
        "#### Найдем характерные значения таблиц"
      ]
    },
    {
      "cell_type": "code",
      "execution_count": null,
      "metadata": {
        "id": "ue-pQ_PJXp3j",
        "outputId": "c61fa71e-f558-4a00-e926-c9e89e0810b0"
      },
      "outputs": [
        {
          "name": "stdout",
          "output_type": "stream",
          "text": [
            "Характерные значения таблицы geo_data_0.csv\n"
          ]
        },
        {
          "data": {
            "text/html": [
              "<div>\n",
              "<style scoped>\n",
              "    .dataframe tbody tr th:only-of-type {\n",
              "        vertical-align: middle;\n",
              "    }\n",
              "\n",
              "    .dataframe tbody tr th {\n",
              "        vertical-align: top;\n",
              "    }\n",
              "\n",
              "    .dataframe thead th {\n",
              "        text-align: right;\n",
              "    }\n",
              "</style>\n",
              "<table border=\"1\" class=\"dataframe\">\n",
              "  <thead>\n",
              "    <tr style=\"text-align: right;\">\n",
              "      <th></th>\n",
              "      <th>count</th>\n",
              "      <th>mean</th>\n",
              "      <th>std</th>\n",
              "      <th>min</th>\n",
              "      <th>25%</th>\n",
              "      <th>50%</th>\n",
              "      <th>75%</th>\n",
              "      <th>max</th>\n",
              "    </tr>\n",
              "  </thead>\n",
              "  <tbody>\n",
              "    <tr>\n",
              "      <th>f0</th>\n",
              "      <td>100000.0</td>\n",
              "      <td>0.500419</td>\n",
              "      <td>0.871832</td>\n",
              "      <td>-1.408605</td>\n",
              "      <td>-0.072580</td>\n",
              "      <td>0.502360</td>\n",
              "      <td>1.073581</td>\n",
              "      <td>2.362331</td>\n",
              "    </tr>\n",
              "    <tr>\n",
              "      <th>f1</th>\n",
              "      <td>100000.0</td>\n",
              "      <td>0.250143</td>\n",
              "      <td>0.504433</td>\n",
              "      <td>-0.848218</td>\n",
              "      <td>-0.200881</td>\n",
              "      <td>0.250252</td>\n",
              "      <td>0.700646</td>\n",
              "      <td>1.343769</td>\n",
              "    </tr>\n",
              "    <tr>\n",
              "      <th>f2</th>\n",
              "      <td>100000.0</td>\n",
              "      <td>2.502647</td>\n",
              "      <td>3.248248</td>\n",
              "      <td>-12.088328</td>\n",
              "      <td>0.287748</td>\n",
              "      <td>2.515969</td>\n",
              "      <td>4.715088</td>\n",
              "      <td>16.003790</td>\n",
              "    </tr>\n",
              "    <tr>\n",
              "      <th>product</th>\n",
              "      <td>100000.0</td>\n",
              "      <td>92.500000</td>\n",
              "      <td>44.288691</td>\n",
              "      <td>0.000000</td>\n",
              "      <td>56.497507</td>\n",
              "      <td>91.849972</td>\n",
              "      <td>128.564089</td>\n",
              "      <td>185.364347</td>\n",
              "    </tr>\n",
              "  </tbody>\n",
              "</table>\n",
              "</div>"
            ],
            "text/plain": [
              "            count       mean        std        min        25%        50%  \\\n",
              "f0       100000.0   0.500419   0.871832  -1.408605  -0.072580   0.502360   \n",
              "f1       100000.0   0.250143   0.504433  -0.848218  -0.200881   0.250252   \n",
              "f2       100000.0   2.502647   3.248248 -12.088328   0.287748   2.515969   \n",
              "product  100000.0  92.500000  44.288691   0.000000  56.497507  91.849972   \n",
              "\n",
              "                75%         max  \n",
              "f0         1.073581    2.362331  \n",
              "f1         0.700646    1.343769  \n",
              "f2         4.715088   16.003790  \n",
              "product  128.564089  185.364347  "
            ]
          },
          "metadata": {},
          "output_type": "display_data"
        },
        {
          "name": "stdout",
          "output_type": "stream",
          "text": [
            "Характерные значения таблицы geo_data_1.csv\n"
          ]
        },
        {
          "data": {
            "text/html": [
              "<div>\n",
              "<style scoped>\n",
              "    .dataframe tbody tr th:only-of-type {\n",
              "        vertical-align: middle;\n",
              "    }\n",
              "\n",
              "    .dataframe tbody tr th {\n",
              "        vertical-align: top;\n",
              "    }\n",
              "\n",
              "    .dataframe thead th {\n",
              "        text-align: right;\n",
              "    }\n",
              "</style>\n",
              "<table border=\"1\" class=\"dataframe\">\n",
              "  <thead>\n",
              "    <tr style=\"text-align: right;\">\n",
              "      <th></th>\n",
              "      <th>count</th>\n",
              "      <th>mean</th>\n",
              "      <th>std</th>\n",
              "      <th>min</th>\n",
              "      <th>25%</th>\n",
              "      <th>50%</th>\n",
              "      <th>75%</th>\n",
              "      <th>max</th>\n",
              "    </tr>\n",
              "  </thead>\n",
              "  <tbody>\n",
              "    <tr>\n",
              "      <th>f0</th>\n",
              "      <td>100000.0</td>\n",
              "      <td>1.141296</td>\n",
              "      <td>8.965932</td>\n",
              "      <td>-31.609576</td>\n",
              "      <td>-6.298551</td>\n",
              "      <td>1.153055</td>\n",
              "      <td>8.621015</td>\n",
              "      <td>29.421755</td>\n",
              "    </tr>\n",
              "    <tr>\n",
              "      <th>f1</th>\n",
              "      <td>100000.0</td>\n",
              "      <td>-4.796579</td>\n",
              "      <td>5.119872</td>\n",
              "      <td>-26.358598</td>\n",
              "      <td>-8.267985</td>\n",
              "      <td>-4.813172</td>\n",
              "      <td>-1.332816</td>\n",
              "      <td>18.734063</td>\n",
              "    </tr>\n",
              "    <tr>\n",
              "      <th>f2</th>\n",
              "      <td>100000.0</td>\n",
              "      <td>2.494541</td>\n",
              "      <td>1.703572</td>\n",
              "      <td>-0.018144</td>\n",
              "      <td>1.000021</td>\n",
              "      <td>2.011479</td>\n",
              "      <td>3.999904</td>\n",
              "      <td>5.019721</td>\n",
              "    </tr>\n",
              "    <tr>\n",
              "      <th>product</th>\n",
              "      <td>100000.0</td>\n",
              "      <td>68.825000</td>\n",
              "      <td>45.944423</td>\n",
              "      <td>0.000000</td>\n",
              "      <td>26.953261</td>\n",
              "      <td>57.085625</td>\n",
              "      <td>107.813044</td>\n",
              "      <td>137.945408</td>\n",
              "    </tr>\n",
              "  </tbody>\n",
              "</table>\n",
              "</div>"
            ],
            "text/plain": [
              "            count       mean        std        min        25%        50%  \\\n",
              "f0       100000.0   1.141296   8.965932 -31.609576  -6.298551   1.153055   \n",
              "f1       100000.0  -4.796579   5.119872 -26.358598  -8.267985  -4.813172   \n",
              "f2       100000.0   2.494541   1.703572  -0.018144   1.000021   2.011479   \n",
              "product  100000.0  68.825000  45.944423   0.000000  26.953261  57.085625   \n",
              "\n",
              "                75%         max  \n",
              "f0         8.621015   29.421755  \n",
              "f1        -1.332816   18.734063  \n",
              "f2         3.999904    5.019721  \n",
              "product  107.813044  137.945408  "
            ]
          },
          "metadata": {},
          "output_type": "display_data"
        },
        {
          "name": "stdout",
          "output_type": "stream",
          "text": [
            "Характерные значения таблицы geo_data_2.csv\n"
          ]
        },
        {
          "data": {
            "text/html": [
              "<div>\n",
              "<style scoped>\n",
              "    .dataframe tbody tr th:only-of-type {\n",
              "        vertical-align: middle;\n",
              "    }\n",
              "\n",
              "    .dataframe tbody tr th {\n",
              "        vertical-align: top;\n",
              "    }\n",
              "\n",
              "    .dataframe thead th {\n",
              "        text-align: right;\n",
              "    }\n",
              "</style>\n",
              "<table border=\"1\" class=\"dataframe\">\n",
              "  <thead>\n",
              "    <tr style=\"text-align: right;\">\n",
              "      <th></th>\n",
              "      <th>count</th>\n",
              "      <th>mean</th>\n",
              "      <th>std</th>\n",
              "      <th>min</th>\n",
              "      <th>25%</th>\n",
              "      <th>50%</th>\n",
              "      <th>75%</th>\n",
              "      <th>max</th>\n",
              "    </tr>\n",
              "  </thead>\n",
              "  <tbody>\n",
              "    <tr>\n",
              "      <th>f0</th>\n",
              "      <td>100000.0</td>\n",
              "      <td>0.002023</td>\n",
              "      <td>1.732045</td>\n",
              "      <td>-8.760004</td>\n",
              "      <td>-1.162288</td>\n",
              "      <td>0.009424</td>\n",
              "      <td>1.158535</td>\n",
              "      <td>7.238262</td>\n",
              "    </tr>\n",
              "    <tr>\n",
              "      <th>f1</th>\n",
              "      <td>100000.0</td>\n",
              "      <td>-0.002081</td>\n",
              "      <td>1.730417</td>\n",
              "      <td>-7.084020</td>\n",
              "      <td>-1.174820</td>\n",
              "      <td>-0.009482</td>\n",
              "      <td>1.163678</td>\n",
              "      <td>7.844801</td>\n",
              "    </tr>\n",
              "    <tr>\n",
              "      <th>f2</th>\n",
              "      <td>100000.0</td>\n",
              "      <td>2.495128</td>\n",
              "      <td>3.473445</td>\n",
              "      <td>-11.970335</td>\n",
              "      <td>0.130359</td>\n",
              "      <td>2.484236</td>\n",
              "      <td>4.858794</td>\n",
              "      <td>16.739402</td>\n",
              "    </tr>\n",
              "    <tr>\n",
              "      <th>product</th>\n",
              "      <td>100000.0</td>\n",
              "      <td>95.000000</td>\n",
              "      <td>44.749921</td>\n",
              "      <td>0.000000</td>\n",
              "      <td>59.450441</td>\n",
              "      <td>94.925613</td>\n",
              "      <td>130.595027</td>\n",
              "      <td>190.029838</td>\n",
              "    </tr>\n",
              "  </tbody>\n",
              "</table>\n",
              "</div>"
            ],
            "text/plain": [
              "            count       mean        std        min        25%        50%  \\\n",
              "f0       100000.0   0.002023   1.732045  -8.760004  -1.162288   0.009424   \n",
              "f1       100000.0  -0.002081   1.730417  -7.084020  -1.174820  -0.009482   \n",
              "f2       100000.0   2.495128   3.473445 -11.970335   0.130359   2.484236   \n",
              "product  100000.0  95.000000  44.749921   0.000000  59.450441  94.925613   \n",
              "\n",
              "                75%         max  \n",
              "f0         1.158535    7.238262  \n",
              "f1         1.163678    7.844801  \n",
              "f2         4.858794   16.739402  \n",
              "product  130.595027  190.029838  "
            ]
          },
          "metadata": {},
          "output_type": "display_data"
        }
      ],
      "source": [
        "print('Характерные значения таблицы geo_data_0.csv')\n",
        "display(geo_data_0.describe().T)\n",
        "print('Характерные значения таблицы geo_data_1.csv')\n",
        "display(geo_data_1.describe().T)\n",
        "print('Характерные значения таблицы geo_data_2.csv')\n",
        "display(geo_data_2.describe().T)"
      ]
    },
    {
      "cell_type": "markdown",
      "metadata": {
        "id": "Dp3JqstUXp3k"
      },
      "source": [
        "Бросается в глаза разница в значениях признаков второго региона (таблица `geo_data_1`)"
      ]
    },
    {
      "cell_type": "markdown",
      "metadata": {
        "id": "qE7QgQkKXp3k"
      },
      "source": [
        "#### Определим количество нулевых значений в столбцах таблиц"
      ]
    },
    {
      "cell_type": "code",
      "execution_count": null,
      "metadata": {
        "id": "5o0D-SwVXp3k",
        "outputId": "8aa82b7f-1bd7-423b-93f9-be06b01c0804"
      },
      "outputs": [
        {
          "name": "stdout",
          "output_type": "stream",
          "text": [
            "Количество нулевых значений в столбцах таблицы geo_data_0\n"
          ]
        },
        {
          "data": {
            "text/plain": [
              "id         0\n",
              "f0         0\n",
              "f1         0\n",
              "f2         0\n",
              "product    1\n",
              "dtype: int64"
            ]
          },
          "metadata": {},
          "output_type": "display_data"
        },
        {
          "name": "stdout",
          "output_type": "stream",
          "text": [
            "Количество нулевых значений в столбцах таблицы geo_data_1\n"
          ]
        },
        {
          "data": {
            "text/plain": [
              "id            0\n",
              "f0            0\n",
              "f1            0\n",
              "f2            0\n",
              "product    8235\n",
              "dtype: int64"
            ]
          },
          "metadata": {},
          "output_type": "display_data"
        },
        {
          "name": "stdout",
          "output_type": "stream",
          "text": [
            "Количество нулевых значений в столбцах таблицы geo_data_2\n"
          ]
        },
        {
          "data": {
            "text/plain": [
              "id         0\n",
              "f0         0\n",
              "f1         0\n",
              "f2         0\n",
              "product    1\n",
              "dtype: int64"
            ]
          },
          "metadata": {},
          "output_type": "display_data"
        }
      ],
      "source": [
        "print('Количество нулевых значений в столбцах таблицы geo_data_0')\n",
        "display(geo_data_0.isin([0]).sum())\n",
        "print('Количество нулевых значений в столбцах таблицы geo_data_1')\n",
        "display(geo_data_1.isin([0]).sum())\n",
        "print('Количество нулевых значений в столбцах таблицы geo_data_2')\n",
        "display(geo_data_2.isin([0]).sum())"
      ]
    },
    {
      "cell_type": "markdown",
      "metadata": {
        "id": "PBJ7FCipXp3l"
      },
      "source": [
        "Обнаружены нулевые значения в столбце **product**. Больше всего их в таблице `geo_data_1` - 8235 значений. Возможная причина отображения нулей в таблице - в данных скважинах отсутствует нефть, изменять ничего не требуется."
      ]
    },
    {
      "cell_type": "markdown",
      "metadata": {
        "id": "UBrydxxpXp3l"
      },
      "source": [
        "#### Поиск явных дубликатов"
      ]
    },
    {
      "cell_type": "code",
      "execution_count": null,
      "metadata": {
        "id": "jwh4XMtbXp3l",
        "outputId": "01eb4606-f379-45d9-d490-0266df6999ff"
      },
      "outputs": [
        {
          "name": "stdout",
          "output_type": "stream",
          "text": [
            "Общее количество дублей в таблице geo_data_0: 0\n",
            "Общее количество дублей в таблице geo_data_1: 0\n",
            "Общее количество дублей в таблице geo_data_2: 0\n"
          ]
        }
      ],
      "source": [
        "print('Общее количество дублей в таблице geo_data_0:', geo_data_0.duplicated().sum())\n",
        "print('Общее количество дублей в таблице geo_data_1:', geo_data_1.duplicated().sum())\n",
        "print('Общее количество дублей в таблице geo_data_2:', geo_data_2.duplicated().sum())"
      ]
    },
    {
      "cell_type": "markdown",
      "metadata": {
        "id": "8SRHfkpsXp3l"
      },
      "source": [
        "Определим количество дублей в полях таблиц"
      ]
    },
    {
      "cell_type": "code",
      "execution_count": null,
      "metadata": {
        "id": "kBQ5k9liXp3m",
        "outputId": "14815842-2106-4a1f-9c8e-31acd613b663"
      },
      "outputs": [
        {
          "name": "stdout",
          "output_type": "stream",
          "text": [
            "Дубли в полях таблицы geo_data_0\n",
            "id : 10\n",
            "f0 : 0\n",
            "f1 : 0\n",
            "f2 : 0\n",
            "product : 0\n",
            "Дубли в полях таблицы geo_data_1\n",
            "id : 4\n",
            "f0 : 0\n",
            "f1 : 0\n",
            "f2 : 0\n",
            "product : 99988\n",
            "Дубли в полях таблицы geo_data_2\n",
            "id : 4\n",
            "f0 : 0\n",
            "f1 : 0\n",
            "f2 : 0\n",
            "product : 0\n"
          ]
        }
      ],
      "source": [
        "print('Дубли в полях таблицы geo_data_0')\n",
        "for column in geo_data_0:\n",
        "    columnSeriesObj = geo_data_0[column]\n",
        "    dup_values_count = columnSeriesObj.duplicated().sum()\n",
        "    if dup_values_count != 0:\n",
        "        print(columnSeriesObj.name, ':', dup_values_count)\n",
        "    else:\n",
        "        print(columnSeriesObj.name,': 0')\n",
        "\n",
        "print('Дубли в полях таблицы geo_data_1')\n",
        "for column in geo_data_1:\n",
        "    columnSeriesObj = geo_data_1[column]\n",
        "    dup_values_count = columnSeriesObj.duplicated().sum()\n",
        "    if dup_values_count != 0:\n",
        "        print(columnSeriesObj.name, ':', dup_values_count)\n",
        "    else:\n",
        "        print(columnSeriesObj.name,': 0')\n",
        "\n",
        "print('Дубли в полях таблицы geo_data_2')\n",
        "for column in geo_data_2:\n",
        "    columnSeriesObj = geo_data_2[column]\n",
        "    dup_values_count = columnSeriesObj.duplicated().sum()\n",
        "    if dup_values_count != 0:\n",
        "        print(columnSeriesObj.name, ':', dup_values_count)\n",
        "    else:\n",
        "        print(columnSeriesObj.name,': 0')"
      ]
    },
    {
      "cell_type": "markdown",
      "metadata": {
        "id": "n5Jol5jtXp3m"
      },
      "source": [
        "Посмотрим на дубли в поле id таблицы `geo_data_0`"
      ]
    },
    {
      "cell_type": "code",
      "execution_count": null,
      "metadata": {
        "id": "_NTWguKuXp3m",
        "outputId": "3387dbee-f3fc-4e3e-d97f-202b886d97fe"
      },
      "outputs": [
        {
          "data": {
            "text/html": [
              "<div>\n",
              "<style scoped>\n",
              "    .dataframe tbody tr th:only-of-type {\n",
              "        vertical-align: middle;\n",
              "    }\n",
              "\n",
              "    .dataframe tbody tr th {\n",
              "        vertical-align: top;\n",
              "    }\n",
              "\n",
              "    .dataframe thead th {\n",
              "        text-align: right;\n",
              "    }\n",
              "</style>\n",
              "<table border=\"1\" class=\"dataframe\">\n",
              "  <thead>\n",
              "    <tr style=\"text-align: right;\">\n",
              "      <th></th>\n",
              "      <th>id</th>\n",
              "      <th>f0</th>\n",
              "      <th>f1</th>\n",
              "      <th>f2</th>\n",
              "      <th>product</th>\n",
              "    </tr>\n",
              "  </thead>\n",
              "  <tbody>\n",
              "    <tr>\n",
              "      <th>66136</th>\n",
              "      <td>74z30</td>\n",
              "      <td>1.084962</td>\n",
              "      <td>-0.312358</td>\n",
              "      <td>6.990771</td>\n",
              "      <td>127.643327</td>\n",
              "    </tr>\n",
              "    <tr>\n",
              "      <th>64022</th>\n",
              "      <td>74z30</td>\n",
              "      <td>0.741456</td>\n",
              "      <td>0.459229</td>\n",
              "      <td>5.153109</td>\n",
              "      <td>140.771492</td>\n",
              "    </tr>\n",
              "    <tr>\n",
              "      <th>51970</th>\n",
              "      <td>A5aEY</td>\n",
              "      <td>-0.180335</td>\n",
              "      <td>0.935548</td>\n",
              "      <td>-2.094773</td>\n",
              "      <td>33.020205</td>\n",
              "    </tr>\n",
              "    <tr>\n",
              "      <th>3389</th>\n",
              "      <td>A5aEY</td>\n",
              "      <td>-0.039949</td>\n",
              "      <td>0.156872</td>\n",
              "      <td>0.209861</td>\n",
              "      <td>89.249364</td>\n",
              "    </tr>\n",
              "    <tr>\n",
              "      <th>69163</th>\n",
              "      <td>AGS9W</td>\n",
              "      <td>-0.933795</td>\n",
              "      <td>0.116194</td>\n",
              "      <td>-3.655896</td>\n",
              "      <td>19.230453</td>\n",
              "    </tr>\n",
              "    <tr>\n",
              "      <th>42529</th>\n",
              "      <td>AGS9W</td>\n",
              "      <td>1.454747</td>\n",
              "      <td>-0.479651</td>\n",
              "      <td>0.683380</td>\n",
              "      <td>126.370504</td>\n",
              "    </tr>\n",
              "    <tr>\n",
              "      <th>931</th>\n",
              "      <td>HZww2</td>\n",
              "      <td>0.755284</td>\n",
              "      <td>0.368511</td>\n",
              "      <td>1.863211</td>\n",
              "      <td>30.681774</td>\n",
              "    </tr>\n",
              "    <tr>\n",
              "      <th>7530</th>\n",
              "      <td>HZww2</td>\n",
              "      <td>1.061194</td>\n",
              "      <td>-0.373969</td>\n",
              "      <td>10.430210</td>\n",
              "      <td>158.828695</td>\n",
              "    </tr>\n",
              "    <tr>\n",
              "      <th>63593</th>\n",
              "      <td>QcMuo</td>\n",
              "      <td>0.635635</td>\n",
              "      <td>-0.473422</td>\n",
              "      <td>0.862670</td>\n",
              "      <td>64.578675</td>\n",
              "    </tr>\n",
              "    <tr>\n",
              "      <th>1949</th>\n",
              "      <td>QcMuo</td>\n",
              "      <td>0.506563</td>\n",
              "      <td>-0.323775</td>\n",
              "      <td>-2.215583</td>\n",
              "      <td>75.496502</td>\n",
              "    </tr>\n",
              "    <tr>\n",
              "      <th>75715</th>\n",
              "      <td>Tdehs</td>\n",
              "      <td>0.112079</td>\n",
              "      <td>0.430296</td>\n",
              "      <td>3.218993</td>\n",
              "      <td>60.964018</td>\n",
              "    </tr>\n",
              "    <tr>\n",
              "      <th>21426</th>\n",
              "      <td>Tdehs</td>\n",
              "      <td>0.829407</td>\n",
              "      <td>0.298807</td>\n",
              "      <td>-0.049563</td>\n",
              "      <td>96.035308</td>\n",
              "    </tr>\n",
              "    <tr>\n",
              "      <th>92341</th>\n",
              "      <td>TtcGQ</td>\n",
              "      <td>0.110711</td>\n",
              "      <td>1.022689</td>\n",
              "      <td>0.911381</td>\n",
              "      <td>101.318008</td>\n",
              "    </tr>\n",
              "    <tr>\n",
              "      <th>60140</th>\n",
              "      <td>TtcGQ</td>\n",
              "      <td>0.569276</td>\n",
              "      <td>-0.104876</td>\n",
              "      <td>6.440215</td>\n",
              "      <td>85.350186</td>\n",
              "    </tr>\n",
              "    <tr>\n",
              "      <th>89582</th>\n",
              "      <td>bsk9y</td>\n",
              "      <td>0.398908</td>\n",
              "      <td>-0.400253</td>\n",
              "      <td>10.122376</td>\n",
              "      <td>163.433078</td>\n",
              "    </tr>\n",
              "    <tr>\n",
              "      <th>97785</th>\n",
              "      <td>bsk9y</td>\n",
              "      <td>0.378429</td>\n",
              "      <td>0.005837</td>\n",
              "      <td>0.160827</td>\n",
              "      <td>160.637302</td>\n",
              "    </tr>\n",
              "    <tr>\n",
              "      <th>41724</th>\n",
              "      <td>bxg6G</td>\n",
              "      <td>-0.823752</td>\n",
              "      <td>0.546319</td>\n",
              "      <td>3.630479</td>\n",
              "      <td>93.007798</td>\n",
              "    </tr>\n",
              "    <tr>\n",
              "      <th>1364</th>\n",
              "      <td>bxg6G</td>\n",
              "      <td>0.411645</td>\n",
              "      <td>0.856830</td>\n",
              "      <td>-3.653440</td>\n",
              "      <td>73.604260</td>\n",
              "    </tr>\n",
              "    <tr>\n",
              "      <th>16633</th>\n",
              "      <td>fiKDv</td>\n",
              "      <td>0.157341</td>\n",
              "      <td>1.028359</td>\n",
              "      <td>5.585586</td>\n",
              "      <td>95.817889</td>\n",
              "    </tr>\n",
              "    <tr>\n",
              "      <th>90815</th>\n",
              "      <td>fiKDv</td>\n",
              "      <td>0.049883</td>\n",
              "      <td>0.841313</td>\n",
              "      <td>6.394613</td>\n",
              "      <td>137.346586</td>\n",
              "    </tr>\n",
              "  </tbody>\n",
              "</table>\n",
              "</div>"
            ],
            "text/plain": [
              "          id        f0        f1         f2     product\n",
              "66136  74z30  1.084962 -0.312358   6.990771  127.643327\n",
              "64022  74z30  0.741456  0.459229   5.153109  140.771492\n",
              "51970  A5aEY -0.180335  0.935548  -2.094773   33.020205\n",
              "3389   A5aEY -0.039949  0.156872   0.209861   89.249364\n",
              "69163  AGS9W -0.933795  0.116194  -3.655896   19.230453\n",
              "42529  AGS9W  1.454747 -0.479651   0.683380  126.370504\n",
              "931    HZww2  0.755284  0.368511   1.863211   30.681774\n",
              "7530   HZww2  1.061194 -0.373969  10.430210  158.828695\n",
              "63593  QcMuo  0.635635 -0.473422   0.862670   64.578675\n",
              "1949   QcMuo  0.506563 -0.323775  -2.215583   75.496502\n",
              "75715  Tdehs  0.112079  0.430296   3.218993   60.964018\n",
              "21426  Tdehs  0.829407  0.298807  -0.049563   96.035308\n",
              "92341  TtcGQ  0.110711  1.022689   0.911381  101.318008\n",
              "60140  TtcGQ  0.569276 -0.104876   6.440215   85.350186\n",
              "89582  bsk9y  0.398908 -0.400253  10.122376  163.433078\n",
              "97785  bsk9y  0.378429  0.005837   0.160827  160.637302\n",
              "41724  bxg6G -0.823752  0.546319   3.630479   93.007798\n",
              "1364   bxg6G  0.411645  0.856830  -3.653440   73.604260\n",
              "16633  fiKDv  0.157341  1.028359   5.585586   95.817889\n",
              "90815  fiKDv  0.049883  0.841313   6.394613  137.346586"
            ]
          },
          "metadata": {},
          "output_type": "display_data"
        }
      ],
      "source": [
        "ids = geo_data_0[\"id\"]\n",
        "display(geo_data_0[ids.isin(ids[ids.duplicated()])].sort_values(\"id\"))"
      ]
    },
    {
      "cell_type": "markdown",
      "metadata": {
        "id": "Sg8B2jVEXp3n"
      },
      "source": [
        "Дубли обнаружены в полях **id** всех трех таблиц. Снова выделяется таблица `geo_data_1.csv` с полем **product** - 99988 дублей.   \n",
        "- Значения признаков у дублей разнятся - такого не должно быть при взятии двух проб из одной скважины"
      ]
    },
    {
      "cell_type": "markdown",
      "metadata": {
        "id": "obOxJOJYXp3n"
      },
      "source": [
        "#### Построим тепловую карту корреляции значений каждой таблицы"
      ]
    },
    {
      "cell_type": "code",
      "execution_count": null,
      "metadata": {
        "id": "W_qGcYxvXp3n",
        "outputId": "15c22144-02e5-4006-ec9d-1ca845986990"
      },
      "outputs": [
        {
          "data": {
            "image/png": "[encoded data removed]",
            "text/plain": [
              "<Figure size 432x360 with 2 Axes>"
            ]
          },
          "metadata": {},
          "output_type": "display_data"
        },
        {
          "data": {
            "image/png": "[encoded data removed]",
            "text/plain": [
              "<Figure size 432x360 with 2 Axes>"
            ]
          },
          "metadata": {},
          "output_type": "display_data"
        },
        {
          "data": {
            "image/png": "[encoded data removed]",
            "text/plain": [
              "<Figure size 432x360 with 2 Axes>"
            ]
          },
          "metadata": {},
          "output_type": "display_data"
        }
      ],
      "source": [
        "count = -1\n",
        "sns.set(style=\"whitegrid\")\n",
        "for df in geo_data_all:\n",
        "    plt.figure(figsize= (6,5))\n",
        "    mask = np.triu(np.ones_like(df.corr(),dtype = bool))\n",
        "    sns.heatmap(df.corr(),mask = mask, fmt = \".2f\",annot=True,lw=1,cmap = 'plasma')\n",
        "    plt.yticks(rotation = 0)\n",
        "    plt.xticks(rotation = 90)\n",
        "    count += 1\n",
        "    plt.title(f'Correlation Heatmap for geo_data_{count}.csv')\n",
        "    plt.show()"
      ]
    },
    {
      "cell_type": "markdown",
      "metadata": {
        "id": "PKO50OrMXp3n"
      },
      "source": [
        "#### Построим диаграмму рассеяния и посчитаем корреляцию между **product** и **f2** таблицы `geo_data_1`"
      ]
    },
    {
      "cell_type": "code",
      "execution_count": null,
      "metadata": {
        "id": "MNAT7FHXXp3o",
        "outputId": "ab0d02c7-05fb-4e5f-f21e-0962c44519ad"
      },
      "outputs": [
        {
          "data": {
            "text/plain": [
              "<Figure size 900x600 with 0 Axes>"
            ]
          },
          "metadata": {},
          "output_type": "display_data"
        },
        {
          "data": {
            "image/png": "[encoded data removed]",
            "text/plain": [
              "<Figure size 432x432 with 3 Axes>"
            ]
          },
          "metadata": {},
          "output_type": "display_data"
        }
      ],
      "source": [
        "plt.figure(dpi = 100, figsize = (9,6))\n",
        "sns.jointplot(x='product',y='f2',data=geo_data_1,kind = 'scatter',color = 'green')\n",
        "plt.show()"
      ]
    },
    {
      "cell_type": "markdown",
      "metadata": {
        "id": "0BwfqMftXp3o"
      },
      "source": [
        "Очень сильная линейная зависимость объема запасов в скаважине **product** от признака **f2** в таблице `geo_data_1`. Это отразится на качестве модели линейной регрессии."
      ]
    },
    {
      "cell_type": "markdown",
      "metadata": {
        "id": "RNNLatnlXp3p"
      },
      "source": [
        "#### Построим сводные гистограмму и график плотности распределения обьемов запасов в скважинах"
      ]
    },
    {
      "cell_type": "code",
      "execution_count": null,
      "metadata": {
        "id": "C51bP8mKXp3p",
        "outputId": "201208df-c244-4242-a426-677b3e9c6a24"
      },
      "outputs": [
        {
          "data": {
            "text/plain": [
              "<Figure size 1152x648 with 0 Axes>"
            ]
          },
          "metadata": {},
          "output_type": "display_data"
        },
        {
          "data": {
            "image/png": "[encoded data removed]",
            "text/plain": [
              "<Figure size 360x360 with 1 Axes>"
            ]
          },
          "metadata": {},
          "output_type": "display_data"
        },
        {
          "data": {
            "image/png": "[encoded data removed]",
            "text/plain": [
              "<Figure size 360x360 with 1 Axes>"
            ]
          },
          "metadata": {},
          "output_type": "display_data"
        },
        {
          "data": {
            "image/png": "[encoded data removed]",
            "text/plain": [
              "<Figure size 360x360 with 1 Axes>"
            ]
          },
          "metadata": {},
          "output_type": "display_data"
        }
      ],
      "source": [
        "plt.figure(figsize=(16,9))\n",
        "sns.set_palette('Paired')\n",
        "for i, df in enumerate (geo_data_all):\n",
        "    df_name = f'geo_data_{i}'\n",
        "    sns.displot(df['product'], label= df_name)\n",
        "    plt.title('product histogram by location', loc='center', fontsize=16, fontweight=0, color='black')\n",
        "    plt.legend()"
      ]
    },
    {
      "cell_type": "markdown",
      "metadata": {
        "id": "Sk6S5v-nXp3p"
      },
      "source": [
        "Наблюдаются выбросы в таблице `geo_data_1` (много нулевых и максимальных значений **product**)"
      ]
    },
    {
      "cell_type": "markdown",
      "metadata": {
        "id": "9dMKWctwXp3p"
      },
      "source": [
        "### Вывод:\n",
        " - Таблицы `geo_data_0, geo_data_1, geo_data_2` содержат по 100000 строк и 5 столбцов каждая (разделитель - запятая):  \n",
        " - **id** — уникальный идентификатор скважины (тип - `object`)\n",
        "     - Обнаружены дубли:  \n",
        "       - `geo_data_0` - 10 шт.  \n",
        "       - `geo_data_1` - 4 шт.  \n",
        "       - `geo_data_2` - 4 шт.  \n",
        " - Принцип обработки: Дубли можно удалить, так как их количество в выборке ничтожно мало.  \n",
        " - **f0, f1, f2** — три признака точек (тип - `float64`);  \n",
        " - **product** — объём запасов в скважине, тыс. баррелей (тип - `float64`)  \n",
        "     - Обнаружены нулевые значения:  \n",
        "       - `geo_data_0` - 1 шт.  \n",
        "       - `geo_data_1` - 8235 шт.  \n",
        "       - `geo_data_2` - 1 шт.  \n",
        "     - Принцип обработки: Оставляем, как есть. Считаем, что в таких точках действительно мало нефти.  \n",
        "\n",
        "\n",
        "Необходимо удалить дубли в поле **id**.    \n",
        "\n",
        "Удалим столбец **id** так как это лишняя информация для оценки рентабельности региона.  \n",
        "Отметим, что из трех таблиц выделяется (по значению признаков, большому количеству дублей в поле **product**) таблица `geo_data_1` (2-й регион). Наблюдается линейная зависимость объёма запасов в скважине **product** от признака **f2** в таблице `geo_data_1`. Данный факт должен повлиять на качество модели линейной регрессии."
      ]
    },
    {
      "cell_type": "markdown",
      "metadata": {
        "id": "-FxxxB88Xp3p"
      },
      "source": [
        "Удалим дубли в поле **id** и **product**"
      ]
    },
    {
      "cell_type": "code",
      "execution_count": null,
      "metadata": {
        "id": "IERHQV5SXp3q"
      },
      "outputs": [],
      "source": [
        "geo_data_0 = geo_data_0.drop_duplicates(subset = 'id').reset_index(drop = True)\n",
        "geo_data_1 = geo_data_1.drop_duplicates(subset = 'id').reset_index(drop = True)\n",
        "geo_data_2 = geo_data_2.drop_duplicates(subset = 'id').reset_index(drop = True)"
      ]
    },
    {
      "cell_type": "markdown",
      "metadata": {
        "id": "8cgsaIPnXp3q"
      },
      "source": [
        "Удалим поле **id**"
      ]
    },
    {
      "cell_type": "code",
      "execution_count": null,
      "metadata": {
        "id": "eBU2Ubd3Xp3q"
      },
      "outputs": [],
      "source": [
        "geo_data_0.drop('id', axis=1, inplace = True)\n",
        "geo_data_1.drop('id', axis=1, inplace = True)\n",
        "geo_data_2.drop('id', axis=1, inplace = True)"
      ]
    },
    {
      "cell_type": "code",
      "execution_count": null,
      "metadata": {
        "id": "SbUXWKl5Xp3q",
        "outputId": "f285aa5a-4204-4068-809c-e9ed904fbaa7"
      },
      "outputs": [
        {
          "data": {
            "text/html": [
              "<div>\n",
              "<style scoped>\n",
              "    .dataframe tbody tr th:only-of-type {\n",
              "        vertical-align: middle;\n",
              "    }\n",
              "\n",
              "    .dataframe tbody tr th {\n",
              "        vertical-align: top;\n",
              "    }\n",
              "\n",
              "    .dataframe thead th {\n",
              "        text-align: right;\n",
              "    }\n",
              "</style>\n",
              "<table border=\"1\" class=\"dataframe\">\n",
              "  <thead>\n",
              "    <tr style=\"text-align: right;\">\n",
              "      <th></th>\n",
              "      <th>f0</th>\n",
              "      <th>f1</th>\n",
              "      <th>f2</th>\n",
              "      <th>product</th>\n",
              "    </tr>\n",
              "  </thead>\n",
              "  <tbody>\n",
              "    <tr>\n",
              "      <th>0</th>\n",
              "      <td>-1.146987</td>\n",
              "      <td>0.963328</td>\n",
              "      <td>-0.828965</td>\n",
              "      <td>27.758673</td>\n",
              "    </tr>\n",
              "    <tr>\n",
              "      <th>1</th>\n",
              "      <td>0.262778</td>\n",
              "      <td>0.269839</td>\n",
              "      <td>-2.530187</td>\n",
              "      <td>56.069697</td>\n",
              "    </tr>\n",
              "    <tr>\n",
              "      <th>2</th>\n",
              "      <td>0.194587</td>\n",
              "      <td>0.289035</td>\n",
              "      <td>-5.586433</td>\n",
              "      <td>62.871910</td>\n",
              "    </tr>\n",
              "    <tr>\n",
              "      <th>3</th>\n",
              "      <td>2.236060</td>\n",
              "      <td>-0.553760</td>\n",
              "      <td>0.930038</td>\n",
              "      <td>114.572842</td>\n",
              "    </tr>\n",
              "    <tr>\n",
              "      <th>4</th>\n",
              "      <td>-0.515993</td>\n",
              "      <td>1.716266</td>\n",
              "      <td>5.899011</td>\n",
              "      <td>149.600746</td>\n",
              "    </tr>\n",
              "  </tbody>\n",
              "</table>\n",
              "</div>"
            ],
            "text/plain": [
              "         f0        f1        f2     product\n",
              "0 -1.146987  0.963328 -0.828965   27.758673\n",
              "1  0.262778  0.269839 -2.530187   56.069697\n",
              "2  0.194587  0.289035 -5.586433   62.871910\n",
              "3  2.236060 -0.553760  0.930038  114.572842\n",
              "4 -0.515993  1.716266  5.899011  149.600746"
            ]
          },
          "execution_count": 17,
          "metadata": {},
          "output_type": "execute_result"
        }
      ],
      "source": [
        "geo_data_2.head()"
      ]
    },
    {
      "cell_type": "markdown",
      "metadata": {
        "id": "xOiou5scXp3r"
      },
      "source": [
        "## Обучение и проверка модели"
      ]
    },
    {
      "cell_type": "markdown",
      "metadata": {
        "id": "pLuBivkOXp3r"
      },
      "source": [
        "### Разобьем данные на выборки"
      ]
    },
    {
      "cell_type": "markdown",
      "metadata": {
        "id": "XG0KXcNKXp3r"
      },
      "source": [
        "Создадим переменные для признаков и целевого признака"
      ]
    },
    {
      "cell_type": "code",
      "execution_count": null,
      "metadata": {
        "id": "10eptv8OXp3r"
      },
      "outputs": [],
      "source": [
        "features_0 = geo_data_0.drop(['product'], axis=1)\n",
        "target_0 = geo_data_0['product']\n",
        "\n",
        "features_1 = geo_data_1.drop(['product'], axis=1)\n",
        "target_1 = geo_data_1['product']\n",
        "\n",
        "features_2 = geo_data_2.drop(['product'], axis=1)\n",
        "target_2 = geo_data_2['product']"
      ]
    },
    {
      "cell_type": "markdown",
      "metadata": {
        "id": "wzDVEAKEXp3r"
      },
      "source": [
        "Разобъем данные на обучающую и валидационную выборки в соотношении 75:25"
      ]
    },
    {
      "cell_type": "code",
      "execution_count": null,
      "metadata": {
        "id": "HE5hQHJsXp3r"
      },
      "outputs": [],
      "source": [
        "features_train_0, features_valid_0, target_train_0, target_valid_0 = train_test_split(features_0, target_0, test_size=0.25, random_state=state)\n",
        "features_train_1, features_valid_1, target_train_1, target_valid_1 = train_test_split(features_1, target_1, test_size=0.25, random_state=state)\n",
        "features_train_2, features_valid_2, target_train_2, target_valid_2 = train_test_split(features_2, target_2, test_size=0.25, random_state=state)"
      ]
    },
    {
      "cell_type": "markdown",
      "metadata": {
        "id": "NugVq7XzXp3s"
      },
      "source": [
        "Создадим функцию расчета среднего запаса предсказанного сырья и RMSE модели"
      ]
    },
    {
      "cell_type": "code",
      "execution_count": null,
      "metadata": {
        "id": "239br-7xXp3s"
      },
      "outputs": [],
      "source": [
        "def get_df_mean_rmse(features_train, target_train, features_valid, target_valid):\n",
        "    model = LinearRegression()\n",
        "    model.fit(features_train, target_train)\n",
        "    predicted_valid = model.predict(features_valid)\n",
        "    rmse = mean_squared_error(target_valid, predicted_valid)** 0.5\n",
        "    mean = predicted_valid.mean()\n",
        "    return rmse, mean, predicted_valid"
      ]
    },
    {
      "cell_type": "markdown",
      "metadata": {
        "id": "22NRa0p5Xp3s"
      },
      "source": [
        "Создадим таблицу для хранения результатов работы функции get_df_mean_rmse"
      ]
    },
    {
      "cell_type": "code",
      "execution_count": null,
      "metadata": {
        "id": "ziS5wBJZXp3s"
      },
      "outputs": [],
      "source": [
        "df_mean_rmse = {'model_n': [],\n",
        "                'product_mean': [],\n",
        "                'rmse': [],\n",
        "               }"
      ]
    },
    {
      "cell_type": "markdown",
      "metadata": {
        "id": "6lBZW0wuXp3s"
      },
      "source": [
        "### Рассчитаем средние запасы предсказанного сырья и RMSE модели трех регионов"
      ]
    },
    {
      "cell_type": "code",
      "execution_count": null,
      "metadata": {
        "id": "j5nxgDhsXp3s"
      },
      "outputs": [],
      "source": [
        "rmse_0, mean_0, predicted_valid_0 = get_df_mean_rmse(features_train_0, target_train_0, features_valid_0, target_valid_0)\n",
        "rmse_1, mean_1, predicted_valid_1 = get_df_mean_rmse(features_train_1, target_train_1, features_valid_1, target_valid_1)\n",
        "rmse_2, mean_2, predicted_valid_2 = get_df_mean_rmse(features_train_2, target_train_2, features_valid_2, target_valid_2)"
      ]
    },
    {
      "cell_type": "markdown",
      "metadata": {
        "id": "zTdK8UGGXp3t"
      },
      "source": [
        "Заполним таблицу с результатами вычислений"
      ]
    },
    {
      "cell_type": "code",
      "execution_count": null,
      "metadata": {
        "scrolled": true,
        "id": "MfTD_YwtXp3t",
        "outputId": "3959a497-60d2-45a8-f057-2f91b2e32fa4"
      },
      "outputs": [
        {
          "data": {
            "text/html": [
              "<div>\n",
              "<style scoped>\n",
              "    .dataframe tbody tr th:only-of-type {\n",
              "        vertical-align: middle;\n",
              "    }\n",
              "\n",
              "    .dataframe tbody tr th {\n",
              "        vertical-align: top;\n",
              "    }\n",
              "\n",
              "    .dataframe thead th {\n",
              "        text-align: right;\n",
              "    }\n",
              "</style>\n",
              "<table border=\"1\" class=\"dataframe\">\n",
              "  <thead>\n",
              "    <tr style=\"text-align: right;\">\n",
              "      <th></th>\n",
              "      <th>model_n</th>\n",
              "      <th>product_mean</th>\n",
              "      <th>rmse</th>\n",
              "    </tr>\n",
              "  </thead>\n",
              "  <tbody>\n",
              "    <tr>\n",
              "      <th>0</th>\n",
              "      <td>model_0</td>\n",
              "      <td>92.789156</td>\n",
              "      <td>37.853527</td>\n",
              "    </tr>\n",
              "    <tr>\n",
              "      <th>1</th>\n",
              "      <td>model_1</td>\n",
              "      <td>69.178320</td>\n",
              "      <td>0.892059</td>\n",
              "    </tr>\n",
              "    <tr>\n",
              "      <th>2</th>\n",
              "      <td>model_2</td>\n",
              "      <td>94.865725</td>\n",
              "      <td>40.075851</td>\n",
              "    </tr>\n",
              "  </tbody>\n",
              "</table>\n",
              "</div>"
            ],
            "text/plain": [
              "   model_n  product_mean       rmse\n",
              "0  model_0     92.789156  37.853527\n",
              "1  model_1     69.178320   0.892059\n",
              "2  model_2     94.865725  40.075851"
            ]
          },
          "metadata": {},
          "output_type": "display_data"
        }
      ],
      "source": [
        "df_mean_rmse['model_n'].append('model_0')\n",
        "df_mean_rmse['product_mean'].append(mean_0)\n",
        "df_mean_rmse['rmse'].append(rmse_0)\n",
        "\n",
        "df_mean_rmse['model_n'].append('model_1')\n",
        "df_mean_rmse['product_mean'].append(mean_1)\n",
        "df_mean_rmse['rmse'].append(rmse_1)\n",
        "\n",
        "df_mean_rmse['model_n'].append('model_2')\n",
        "df_mean_rmse['product_mean'].append(mean_2)\n",
        "df_mean_rmse['rmse'].append(rmse_2)\n",
        "\n",
        "display(pd.DataFrame(df_mean_rmse))"
      ]
    },
    {
      "cell_type": "markdown",
      "metadata": {
        "id": "oF5d-AByXp3t"
      },
      "source": [
        "### Вывод:\n",
        " - Регионы 1 и 3 имеют схожие показатели по среднему запасу предсказанного сырья\n",
        " - Значение rmse минимально у 2-го региона (качество модели выше)"
      ]
    },
    {
      "cell_type": "markdown",
      "metadata": {
        "id": "tZ8hsc_JXp3t"
      },
      "source": [
        "## Подготовка к расчёту прибыли"
      ]
    },
    {
      "cell_type": "markdown",
      "metadata": {
        "id": "19UefuY_Xp3u"
      },
      "source": [
        "###### Зададим переменные, необходимые для расчетов"
      ]
    },
    {
      "cell_type": "markdown",
      "metadata": {
        "id": "OVc_Q-ywXp3u"
      },
      "source": [
        "Количество точек для разведки"
      ]
    },
    {
      "cell_type": "code",
      "execution_count": null,
      "metadata": {
        "id": "Z2dMW0q9Xp3u"
      },
      "outputs": [],
      "source": [
        "boreholes_for_exploration = 500 # Из них 200 лучших для расчета прибыли\n",
        "boreholes_for_revenue = 200"
      ]
    },
    {
      "cell_type": "markdown",
      "metadata": {
        "id": "2Rivwb-JXp3u"
      },
      "source": [
        "Бюджет на разаботку скважин в регионе"
      ]
    },
    {
      "cell_type": "code",
      "execution_count": null,
      "metadata": {
        "id": "XoKW325WXp3v"
      },
      "outputs": [],
      "source": [
        "budget = 1e10"
      ]
    },
    {
      "cell_type": "markdown",
      "metadata": {
        "id": "JDkgGY7zXp3v"
      },
      "source": [
        "Доход с единицы продукции"
      ]
    },
    {
      "cell_type": "code",
      "execution_count": null,
      "metadata": {
        "id": "xJBHNotUXp3v"
      },
      "outputs": [],
      "source": [
        "unit_revenue = 4.5e5"
      ]
    },
    {
      "cell_type": "markdown",
      "metadata": {
        "id": "OLBB7N_YXp3w"
      },
      "source": [
        "## Расчёт прибыли и рисков"
      ]
    },
    {
      "cell_type": "markdown",
      "metadata": {
        "id": "z0vmG0CjXp3w"
      },
      "source": [
        "### Рассчитаем максимальную стоимость разработки одной скважины"
      ]
    },
    {
      "cell_type": "code",
      "execution_count": null,
      "metadata": {
        "id": "vv-YUsRIXp3w"
      },
      "outputs": [],
      "source": [
        "feasible_drilling_cost = budget / boreholes_for_revenue"
      ]
    },
    {
      "cell_type": "markdown",
      "metadata": {
        "id": "rRmzLNBsXp3w"
      },
      "source": [
        "Рассчитаем достаточный объём сырья для безубыточной разработки новой скважины"
      ]
    },
    {
      "cell_type": "code",
      "execution_count": null,
      "metadata": {
        "id": "c2BWyy4-Xp3w",
        "outputId": "57a34c2a-7ccd-42d3-ea9d-44d3e7d281fc"
      },
      "outputs": [
        {
          "name": "stdout",
          "output_type": "stream",
          "text": [
            "breakeven_units = 111.11\n"
          ]
        }
      ],
      "source": [
        "breakeven_units =  feasible_drilling_cost / unit_revenue\n",
        "print('breakeven_units =', round(breakeven_units,2))"
      ]
    },
    {
      "cell_type": "markdown",
      "metadata": {
        "id": "18xRibnlXp3w"
      },
      "source": [
        "Любая точка с объемом запасов в скважине более `~111,11 тыс. баррелей` считается рентабельной.  \n",
        "Это больше, чем средний запас в каждом из регионов."
      ]
    },
    {
      "cell_type": "markdown",
      "metadata": {
        "id": "tZv3JmKEXp3w"
      },
      "source": [
        "Создадим функцию для расчёта прибыли по выбранным скважинам и предсказаниям модели"
      ]
    },
    {
      "cell_type": "code",
      "execution_count": null,
      "metadata": {
        "id": "vaPoUOy9Xp3x"
      },
      "outputs": [],
      "source": [
        "def revenue(target_valid, predicted_valid, boreholes_for_revenue):\n",
        "    probs_sorted = (pd.Series(predicted_valid)\n",
        "                 #   .reset_index(drop = True)\n",
        "                    .sort_values(ascending=False))\n",
        "    selected = (pd.Series(target_valid)\n",
        "                #.reset_index(drop = True)\n",
        "                [probs_sorted.index][:boreholes_for_revenue]\n",
        "               )\n",
        "    return selected.sum()*unit_revenue - selected.count()*feasible_drilling_cost"
      ]
    },
    {
      "cell_type": "markdown",
      "metadata": {
        "id": "tpct2844Xp3x"
      },
      "source": [
        "Создадим функцию подсчета распределения прибыли при помощи техники Bootstrap (1000 выборок)"
      ]
    },
    {
      "cell_type": "code",
      "execution_count": null,
      "metadata": {
        "id": "bctpoYc3Xp3x"
      },
      "outputs": [],
      "source": [
        "def bootstrap(target_valid, predicted_valid, boreholes_for_exploration, boreholes_for_revenue):\n",
        "    np_state = np.random.RandomState(state)\n",
        "    revenue_values = [] # Создадим переменные для хранения результатов\n",
        "    loss_values = []\n",
        "    # Предобработаем входные данные, сбросим индексы\n",
        "    target_valid = (pd.Series(target_valid)\n",
        "                    .reset_index(drop = True)\n",
        "                   )\n",
        "    predicted_valid = (pd.Series(predicted_valid)\n",
        "                    .reset_index(drop = True)\n",
        "                   )\n",
        "    for i in range(1000):\n",
        "        target_subsample = target_valid.sample(n=boreholes_for_exploration, replace=True, random_state=np_state)\n",
        "        probs_subsample = predicted_valid[target_subsample.index]\n",
        "\n",
        "        # Посчитаем выручку и убытки\n",
        "        if revenue(target_subsample, probs_subsample, boreholes_for_revenue) > 0:\n",
        "            #revenue_values.append(revenue(target_subsample, probs_subsample, boreholes_for_revenue))\n",
        "            revenue_values.append(revenue(target_valid, probs_subsample, boreholes_for_revenue))\n",
        "        else:\n",
        "            #loss_values.append(revenue(target_subsample, probs_subsample, boreholes_for_revenue))\n",
        "            loss_values.append(revenue(target_valid, probs_subsample, boreholes_for_revenue))\n",
        "\n",
        "    revenue_values = pd.Series(revenue_values)\n",
        "    loss_values = pd.Series(loss_values)\n",
        "    values = pd.concat([revenue_values, loss_values])\n",
        "\n",
        "    # Посчитаем выходные параметры\n",
        "    lower = values.quantile(q=0.025)\n",
        "    upper = values.quantile(q=0.975)\n",
        "    confidence_interval = (lower, upper)\n",
        "    revenue_mean = values.mean()\n",
        "    loss_prob= len(loss_values)/len(revenue_values)\n",
        "    return round(revenue_mean/1000000,2), round(confidence_interval[0]/1000000,2), round(confidence_interval[1]/1000000,2), round(loss_prob *100,2)"
      ]
    },
    {
      "cell_type": "markdown",
      "metadata": {
        "id": "xJpn6ZEXXp3y"
      },
      "source": [
        "Найдем расчетные величны при помощи функции bootstrap"
      ]
    },
    {
      "cell_type": "code",
      "execution_count": null,
      "metadata": {
        "id": "2TDOzltEXp3y"
      },
      "outputs": [],
      "source": [
        "revenue_mean_0, conf_int_lower_0, conf_int_upper_0, prob_loss_0  = bootstrap(target_valid_0, predicted_valid_0, boreholes_for_exploration, boreholes_for_revenue)\n",
        "revenue_mean_1, conf_int_lower_1, conf_int_upper_1, prob_loss_1  = bootstrap(target_valid_1, predicted_valid_1, boreholes_for_exploration, boreholes_for_revenue)\n",
        "revenue_mean_2, conf_int_lower_2, conf_int_upper_2, prob_loss_2  = bootstrap(target_valid_2, predicted_valid_2, boreholes_for_exploration, boreholes_for_revenue)"
      ]
    },
    {
      "cell_type": "markdown",
      "metadata": {
        "id": "j28WS-JGXp3y"
      },
      "source": [
        "Создадим таблицу для хранения результатов работы функции bootstrap"
      ]
    },
    {
      "cell_type": "code",
      "execution_count": null,
      "metadata": {
        "id": "UpIgZqp4Xp3y",
        "outputId": "c1395725-2442-4748-868c-006ba8d1aca7"
      },
      "outputs": [
        {
          "data": {
            "text/html": [
              "<div>\n",
              "<style scoped>\n",
              "    .dataframe tbody tr th:only-of-type {\n",
              "        vertical-align: middle;\n",
              "    }\n",
              "\n",
              "    .dataframe tbody tr th {\n",
              "        vertical-align: top;\n",
              "    }\n",
              "\n",
              "    .dataframe thead th {\n",
              "        text-align: right;\n",
              "    }\n",
              "</style>\n",
              "<table border=\"1\" class=\"dataframe\">\n",
              "  <thead>\n",
              "    <tr style=\"text-align: right;\">\n",
              "      <th></th>\n",
              "      <th>geo_data_n</th>\n",
              "      <th>revenue_mean</th>\n",
              "      <th>conf_int_lower</th>\n",
              "      <th>conf_int_upper</th>\n",
              "      <th>prob_loss</th>\n",
              "    </tr>\n",
              "  </thead>\n",
              "  <tbody>\n",
              "    <tr>\n",
              "      <th>0</th>\n",
              "      <td>geo_data_0</td>\n",
              "      <td>380.61</td>\n",
              "      <td>-142.94</td>\n",
              "      <td>890.98</td>\n",
              "      <td>7.64</td>\n",
              "    </tr>\n",
              "    <tr>\n",
              "      <th>1</th>\n",
              "      <td>geo_data_1</td>\n",
              "      <td>478.48</td>\n",
              "      <td>89.53</td>\n",
              "      <td>866.60</td>\n",
              "      <td>0.91</td>\n",
              "    </tr>\n",
              "    <tr>\n",
              "      <th>2</th>\n",
              "      <td>geo_data_2</td>\n",
              "      <td>330.55</td>\n",
              "      <td>-190.37</td>\n",
              "      <td>840.47</td>\n",
              "      <td>11.36</td>\n",
              "    </tr>\n",
              "  </tbody>\n",
              "</table>\n",
              "</div>"
            ],
            "text/plain": [
              "   geo_data_n  revenue_mean  conf_int_lower  conf_int_upper  prob_loss\n",
              "0  geo_data_0        380.61         -142.94          890.98       7.64\n",
              "1  geo_data_1        478.48           89.53          866.60       0.91\n",
              "2  geo_data_2        330.55         -190.37          840.47      11.36"
            ]
          },
          "metadata": {},
          "output_type": "display_data"
        }
      ],
      "source": [
        "bootstrap_details = {'geo_data_n': [],\n",
        "                     'revenue_mean': [],\n",
        "                     'conf_int_lower': [],\n",
        "                     'conf_int_upper': [],\n",
        "                     'prob_loss': []\n",
        "                    }\n",
        "\n",
        "bootstrap_details['geo_data_n'].append('geo_data_0') # Заполним таблицу с результатами вычислений\n",
        "bootstrap_details['revenue_mean'].append(revenue_mean_0)\n",
        "bootstrap_details['conf_int_lower'].append(conf_int_lower_0)\n",
        "bootstrap_details['conf_int_upper'].append(conf_int_upper_0)\n",
        "bootstrap_details['prob_loss'].append(prob_loss_0)\n",
        "\n",
        "bootstrap_details['geo_data_n'].append('geo_data_1')\n",
        "bootstrap_details['revenue_mean'].append(revenue_mean_1)\n",
        "bootstrap_details['conf_int_lower'].append(conf_int_lower_1)\n",
        "bootstrap_details['conf_int_upper'].append(conf_int_upper_1)\n",
        "bootstrap_details['prob_loss'].append(prob_loss_1)\n",
        "\n",
        "bootstrap_details['geo_data_n'].append('geo_data_2')\n",
        "bootstrap_details['revenue_mean'].append(revenue_mean_2)\n",
        "bootstrap_details['conf_int_lower'].append(conf_int_lower_2)\n",
        "bootstrap_details['conf_int_upper'].append(conf_int_upper_2)\n",
        "bootstrap_details['prob_loss'].append(prob_loss_2)\n",
        "\n",
        "display(pd.DataFrame(bootstrap_details))"
      ]
    },
    {
      "cell_type": "markdown",
      "metadata": {
        "id": "D0GVOi1GXp3z"
      },
      "source": [
        "### Вывод:\n",
        " - В результатах видим, что, наиболее привлекательным для разработки выглядит 2-е месторождение `geo_data_1`. У данного месторождения:\n",
        "      - наиболее высокая средняя прибыль - `478.48 млрд. рубл`.\n",
        "      - наиболее узкий 95% доверительный интервал (более точная оценка)\n",
        "      - вероятность убытков всего `0.91%` (соответствует условиям задачи: вероятность убытков меньше `2.5%`)   \n",
        "      \n",
        "      ###### Обратить внимание, на качество исходных данных `geo_data_1.csv`, вызывает вопросы (наличие выбросов, 100% корреляция и т.п.).  \n",
        "      \n",
        "      \n",
        "   - Вторым кандидатом на разработку будет месторождение `geo_data_0`."
      ]
    }
  ],
  "metadata": {
    "ExecuteTimeLog": [
      {
        "duration": 3,
        "start_time": "2022-06-03T17:27:21.000Z"
      },
      {
        "duration": 3,
        "start_time": "2022-06-03T17:27:32.403Z"
      },
      {
        "duration": 394,
        "start_time": "2022-06-03T17:27:52.150Z"
      },
      {
        "duration": 446,
        "start_time": "2022-06-03T17:29:06.859Z"
      },
      {
        "duration": 35,
        "start_time": "2022-06-03T17:29:27.753Z"
      },
      {
        "duration": 39,
        "start_time": "2022-06-03T17:29:38.320Z"
      },
      {
        "duration": 27,
        "start_time": "2022-06-03T17:29:51.281Z"
      },
      {
        "duration": 139,
        "start_time": "2022-06-03T17:31:20.146Z"
      },
      {
        "duration": 230,
        "start_time": "2022-06-03T17:33:39.133Z"
      },
      {
        "duration": 177,
        "start_time": "2022-06-03T17:36:54.370Z"
      },
      {
        "duration": 74,
        "start_time": "2022-06-03T17:47:01.007Z"
      },
      {
        "duration": 46,
        "start_time": "2022-06-03T17:47:24.108Z"
      },
      {
        "duration": 1123,
        "start_time": "2022-06-03T17:50:19.150Z"
      },
      {
        "duration": 144,
        "start_time": "2022-06-03T17:51:21.648Z"
      },
      {
        "duration": 879,
        "start_time": "2022-06-03T17:52:04.416Z"
      },
      {
        "duration": 22,
        "start_time": "2022-06-03T17:52:33.327Z"
      },
      {
        "duration": 660,
        "start_time": "2022-06-03T17:52:48.696Z"
      },
      {
        "duration": 750,
        "start_time": "2022-06-03T17:52:56.434Z"
      },
      {
        "duration": 1616,
        "start_time": "2022-06-03T17:54:14.396Z"
      },
      {
        "duration": 3,
        "start_time": "2022-06-03T17:54:16.015Z"
      },
      {
        "duration": 470,
        "start_time": "2022-06-03T17:54:16.020Z"
      },
      {
        "duration": 39,
        "start_time": "2022-06-03T17:54:16.492Z"
      },
      {
        "duration": 32,
        "start_time": "2022-06-03T17:54:16.533Z"
      },
      {
        "duration": 31,
        "start_time": "2022-06-03T17:54:16.567Z"
      },
      {
        "duration": 177,
        "start_time": "2022-06-03T17:54:16.601Z"
      },
      {
        "duration": 238,
        "start_time": "2022-06-03T17:54:16.779Z"
      },
      {
        "duration": 173,
        "start_time": "2022-06-03T17:54:17.018Z"
      },
      {
        "duration": 94,
        "start_time": "2022-06-03T17:54:17.193Z"
      },
      {
        "duration": 52,
        "start_time": "2022-06-03T17:54:17.288Z"
      },
      {
        "duration": 1165,
        "start_time": "2022-06-03T17:54:17.342Z"
      },
      {
        "duration": 931,
        "start_time": "2022-06-03T17:54:18.509Z"
      },
      {
        "duration": 969,
        "start_time": "2022-06-03T17:54:33.344Z"
      },
      {
        "duration": 2429,
        "start_time": "2022-06-03T17:56:59.402Z"
      },
      {
        "duration": 1763,
        "start_time": "2022-06-03T17:57:19.610Z"
      },
      {
        "duration": 1699,
        "start_time": "2022-06-03T17:58:36.188Z"
      },
      {
        "duration": 1704,
        "start_time": "2022-06-03T17:58:45.165Z"
      },
      {
        "duration": 1517,
        "start_time": "2022-06-03T17:58:50.701Z"
      },
      {
        "duration": 1600,
        "start_time": "2022-06-03T17:59:00.189Z"
      },
      {
        "duration": 1725,
        "start_time": "2022-06-03T17:59:34.037Z"
      },
      {
        "duration": 17,
        "start_time": "2022-06-03T18:10:17.715Z"
      },
      {
        "duration": 133,
        "start_time": "2022-06-03T18:10:36.765Z"
      },
      {
        "duration": 14,
        "start_time": "2022-06-03T18:16:50.690Z"
      },
      {
        "duration": 9,
        "start_time": "2022-06-03T18:18:07.250Z"
      },
      {
        "duration": 4,
        "start_time": "2022-06-03T18:19:18.804Z"
      },
      {
        "duration": 6,
        "start_time": "2022-06-03T18:19:18.810Z"
      },
      {
        "duration": 424,
        "start_time": "2022-06-03T18:19:18.818Z"
      },
      {
        "duration": 23,
        "start_time": "2022-06-03T18:19:19.245Z"
      },
      {
        "duration": 22,
        "start_time": "2022-06-03T18:19:19.269Z"
      },
      {
        "duration": 60,
        "start_time": "2022-06-03T18:19:19.293Z"
      },
      {
        "duration": 146,
        "start_time": "2022-06-03T18:19:19.355Z"
      },
      {
        "duration": 285,
        "start_time": "2022-06-03T18:19:19.503Z"
      },
      {
        "duration": 137,
        "start_time": "2022-06-03T18:19:19.792Z"
      },
      {
        "duration": 80,
        "start_time": "2022-06-03T18:19:19.932Z"
      },
      {
        "duration": 47,
        "start_time": "2022-06-03T18:19:20.029Z"
      },
      {
        "duration": 1065,
        "start_time": "2022-06-03T18:19:20.078Z"
      },
      {
        "duration": 820,
        "start_time": "2022-06-03T18:19:21.145Z"
      },
      {
        "duration": 1634,
        "start_time": "2022-06-03T18:19:21.966Z"
      },
      {
        "duration": 9,
        "start_time": "2022-06-03T18:19:23.602Z"
      },
      {
        "duration": 15,
        "start_time": "2022-06-03T18:20:25.968Z"
      },
      {
        "duration": 14,
        "start_time": "2022-06-03T18:20:32.190Z"
      },
      {
        "duration": 14,
        "start_time": "2022-06-03T18:20:47.072Z"
      },
      {
        "duration": 13,
        "start_time": "2022-06-03T18:20:58.697Z"
      },
      {
        "duration": 26,
        "start_time": "2022-06-03T18:22:37.874Z"
      },
      {
        "duration": 11,
        "start_time": "2022-06-03T18:22:51.246Z"
      },
      {
        "duration": 21,
        "start_time": "2022-06-03T18:23:34.324Z"
      },
      {
        "duration": 3,
        "start_time": "2022-06-03T18:23:44.948Z"
      },
      {
        "duration": 7,
        "start_time": "2022-06-03T18:23:44.954Z"
      },
      {
        "duration": 475,
        "start_time": "2022-06-03T18:23:44.963Z"
      },
      {
        "duration": 27,
        "start_time": "2022-06-03T18:23:45.441Z"
      },
      {
        "duration": 62,
        "start_time": "2022-06-03T18:23:45.470Z"
      },
      {
        "duration": 258,
        "start_time": "2022-06-03T18:23:45.534Z"
      },
      {
        "duration": 177,
        "start_time": "2022-06-03T18:23:45.799Z"
      },
      {
        "duration": 282,
        "start_time": "2022-06-03T18:23:45.978Z"
      },
      {
        "duration": 177,
        "start_time": "2022-06-03T18:23:46.262Z"
      },
      {
        "duration": 97,
        "start_time": "2022-06-03T18:23:46.448Z"
      },
      {
        "duration": 49,
        "start_time": "2022-06-03T18:23:46.547Z"
      },
      {
        "duration": 1086,
        "start_time": "2022-06-03T18:23:46.597Z"
      },
      {
        "duration": 816,
        "start_time": "2022-06-03T18:23:47.686Z"
      },
      {
        "duration": 1982,
        "start_time": "2022-06-03T18:23:48.504Z"
      },
      {
        "duration": 127,
        "start_time": "2022-06-03T18:23:50.488Z"
      },
      {
        "duration": 18,
        "start_time": "2022-06-03T18:23:59.750Z"
      },
      {
        "duration": 17,
        "start_time": "2022-06-03T18:25:18.694Z"
      },
      {
        "duration": 9,
        "start_time": "2022-06-03T18:25:27.351Z"
      },
      {
        "duration": 3,
        "start_time": "2022-06-03T18:25:31.606Z"
      },
      {
        "duration": 35,
        "start_time": "2022-06-03T18:25:31.611Z"
      },
      {
        "duration": 477,
        "start_time": "2022-06-03T18:25:31.648Z"
      },
      {
        "duration": 43,
        "start_time": "2022-06-03T18:25:32.129Z"
      },
      {
        "duration": 31,
        "start_time": "2022-06-03T18:25:32.173Z"
      },
      {
        "duration": 60,
        "start_time": "2022-06-03T18:25:32.206Z"
      },
      {
        "duration": 140,
        "start_time": "2022-06-03T18:25:32.268Z"
      },
      {
        "duration": 244,
        "start_time": "2022-06-03T18:25:32.410Z"
      },
      {
        "duration": 146,
        "start_time": "2022-06-03T18:25:32.656Z"
      },
      {
        "duration": 98,
        "start_time": "2022-06-03T18:25:32.804Z"
      },
      {
        "duration": 46,
        "start_time": "2022-06-03T18:25:32.904Z"
      },
      {
        "duration": 1217,
        "start_time": "2022-06-03T18:25:32.952Z"
      },
      {
        "duration": 906,
        "start_time": "2022-06-03T18:25:34.171Z"
      },
      {
        "duration": 1732,
        "start_time": "2022-06-03T18:25:35.079Z"
      },
      {
        "duration": 20,
        "start_time": "2022-06-03T18:25:36.813Z"
      },
      {
        "duration": 15,
        "start_time": "2022-06-03T18:26:26.219Z"
      },
      {
        "duration": 18,
        "start_time": "2022-06-03T18:26:38.746Z"
      },
      {
        "duration": 15,
        "start_time": "2022-06-03T18:26:47.954Z"
      },
      {
        "duration": 20,
        "start_time": "2022-06-03T18:27:01.946Z"
      },
      {
        "duration": 3,
        "start_time": "2022-06-03T18:27:15.321Z"
      },
      {
        "duration": 27,
        "start_time": "2022-06-03T18:27:15.326Z"
      },
      {
        "duration": 419,
        "start_time": "2022-06-03T18:27:15.355Z"
      },
      {
        "duration": 23,
        "start_time": "2022-06-03T18:27:15.776Z"
      },
      {
        "duration": 32,
        "start_time": "2022-06-03T18:27:15.800Z"
      },
      {
        "duration": 30,
        "start_time": "2022-06-03T18:27:15.838Z"
      },
      {
        "duration": 128,
        "start_time": "2022-06-03T18:27:15.870Z"
      },
      {
        "duration": 210,
        "start_time": "2022-06-03T18:27:15.999Z"
      },
      {
        "duration": 161,
        "start_time": "2022-06-03T18:27:16.212Z"
      },
      {
        "duration": 104,
        "start_time": "2022-06-03T18:27:16.374Z"
      },
      {
        "duration": 30,
        "start_time": "2022-06-03T18:27:16.481Z"
      },
      {
        "duration": 1079,
        "start_time": "2022-06-03T18:27:16.513Z"
      },
      {
        "duration": 987,
        "start_time": "2022-06-03T18:27:17.596Z"
      },
      {
        "duration": 1884,
        "start_time": "2022-06-03T18:27:18.586Z"
      },
      {
        "duration": 8,
        "start_time": "2022-06-03T18:27:20.472Z"
      },
      {
        "duration": 15,
        "start_time": "2022-06-03T18:27:20.482Z"
      },
      {
        "duration": 12,
        "start_time": "2022-06-03T18:27:25.051Z"
      },
      {
        "duration": 8,
        "start_time": "2022-06-03T18:27:29.748Z"
      },
      {
        "duration": 18,
        "start_time": "2022-06-03T18:27:59.220Z"
      },
      {
        "duration": 4,
        "start_time": "2022-06-03T18:28:05.211Z"
      },
      {
        "duration": 9,
        "start_time": "2022-06-03T18:28:05.217Z"
      },
      {
        "duration": 417,
        "start_time": "2022-06-03T18:28:05.228Z"
      },
      {
        "duration": 37,
        "start_time": "2022-06-03T18:28:05.648Z"
      },
      {
        "duration": 62,
        "start_time": "2022-06-03T18:28:05.689Z"
      },
      {
        "duration": 23,
        "start_time": "2022-06-03T18:28:05.752Z"
      },
      {
        "duration": 137,
        "start_time": "2022-06-03T18:28:05.776Z"
      },
      {
        "duration": 224,
        "start_time": "2022-06-03T18:28:05.930Z"
      },
      {
        "duration": 142,
        "start_time": "2022-06-03T18:28:06.156Z"
      },
      {
        "duration": 89,
        "start_time": "2022-06-03T18:28:06.299Z"
      },
      {
        "duration": 41,
        "start_time": "2022-06-03T18:28:06.390Z"
      },
      {
        "duration": 1030,
        "start_time": "2022-06-03T18:28:06.433Z"
      },
      {
        "duration": 779,
        "start_time": "2022-06-03T18:28:07.464Z"
      },
      {
        "duration": 1835,
        "start_time": "2022-06-03T18:28:08.244Z"
      },
      {
        "duration": 13,
        "start_time": "2022-06-03T18:28:10.082Z"
      },
      {
        "duration": 31,
        "start_time": "2022-06-03T18:28:10.096Z"
      },
      {
        "duration": 4,
        "start_time": "2022-06-03T18:29:34.398Z"
      },
      {
        "duration": 11,
        "start_time": "2022-06-03T18:29:34.404Z"
      },
      {
        "duration": 439,
        "start_time": "2022-06-03T18:29:34.417Z"
      },
      {
        "duration": 24,
        "start_time": "2022-06-03T18:29:34.859Z"
      },
      {
        "duration": 22,
        "start_time": "2022-06-03T18:29:34.885Z"
      },
      {
        "duration": 33,
        "start_time": "2022-06-03T18:29:34.928Z"
      },
      {
        "duration": 145,
        "start_time": "2022-06-03T18:29:34.963Z"
      },
      {
        "duration": 250,
        "start_time": "2022-06-03T18:29:35.109Z"
      },
      {
        "duration": 144,
        "start_time": "2022-06-03T18:29:35.361Z"
      },
      {
        "duration": 75,
        "start_time": "2022-06-03T18:29:35.507Z"
      },
      {
        "duration": 46,
        "start_time": "2022-06-03T18:29:35.584Z"
      },
      {
        "duration": 932,
        "start_time": "2022-06-03T18:29:35.632Z"
      },
      {
        "duration": 795,
        "start_time": "2022-06-03T18:29:36.566Z"
      },
      {
        "duration": 1628,
        "start_time": "2022-06-03T18:29:37.363Z"
      },
      {
        "duration": 83,
        "start_time": "2022-06-03T18:29:39.001Z"
      },
      {
        "duration": 9,
        "start_time": "2022-06-03T18:29:39.086Z"
      },
      {
        "duration": 12,
        "start_time": "2022-06-03T18:29:39.097Z"
      },
      {
        "duration": 8,
        "start_time": "2022-06-03T18:32:12.979Z"
      },
      {
        "duration": 31,
        "start_time": "2022-06-03T18:32:34.805Z"
      },
      {
        "duration": 4,
        "start_time": "2022-06-03T18:33:12.670Z"
      },
      {
        "duration": 3,
        "start_time": "2022-06-03T18:33:33.348Z"
      },
      {
        "duration": 278,
        "start_time": "2022-06-03T18:33:51.350Z"
      },
      {
        "duration": 15,
        "start_time": "2022-06-03T18:34:03.946Z"
      },
      {
        "duration": 59,
        "start_time": "2022-06-03T18:34:52.713Z"
      },
      {
        "duration": 3,
        "start_time": "2022-06-03T18:36:15.692Z"
      },
      {
        "duration": 33,
        "start_time": "2022-06-03T18:36:38.116Z"
      },
      {
        "duration": 4,
        "start_time": "2022-06-03T18:36:46.556Z"
      },
      {
        "duration": 4,
        "start_time": "2022-06-03T18:36:58.757Z"
      },
      {
        "duration": 3,
        "start_time": "2022-06-03T18:37:06.758Z"
      },
      {
        "duration": 4,
        "start_time": "2022-06-03T18:38:02.896Z"
      },
      {
        "duration": 4,
        "start_time": "2022-06-03T18:38:26.218Z"
      },
      {
        "duration": 5,
        "start_time": "2022-06-03T18:40:48.400Z"
      },
      {
        "duration": 127,
        "start_time": "2022-06-03T18:43:18.682Z"
      },
      {
        "duration": 6287,
        "start_time": "2022-06-03T18:43:49.442Z"
      },
      {
        "duration": 14,
        "start_time": "2022-06-03T18:44:25.276Z"
      },
      {
        "duration": 3,
        "start_time": "2022-06-03T19:01:59.008Z"
      },
      {
        "duration": 7,
        "start_time": "2022-06-03T19:16:26.299Z"
      },
      {
        "duration": 1722,
        "start_time": "2022-06-04T05:08:36.807Z"
      },
      {
        "duration": 3,
        "start_time": "2022-06-04T05:08:38.531Z"
      },
      {
        "duration": 986,
        "start_time": "2022-06-04T05:08:38.536Z"
      },
      {
        "duration": 30,
        "start_time": "2022-06-04T05:08:39.524Z"
      },
      {
        "duration": 35,
        "start_time": "2022-06-04T05:08:39.566Z"
      },
      {
        "duration": 22,
        "start_time": "2022-06-04T05:08:39.602Z"
      },
      {
        "duration": 172,
        "start_time": "2022-06-04T05:08:39.626Z"
      },
      {
        "duration": 232,
        "start_time": "2022-06-04T05:08:39.800Z"
      },
      {
        "duration": 154,
        "start_time": "2022-06-04T05:08:40.034Z"
      },
      {
        "duration": 92,
        "start_time": "2022-06-04T05:08:40.191Z"
      },
      {
        "duration": 30,
        "start_time": "2022-06-04T05:08:40.285Z"
      },
      {
        "duration": 1093,
        "start_time": "2022-06-04T05:08:40.317Z"
      },
      {
        "duration": 831,
        "start_time": "2022-06-04T05:08:41.413Z"
      },
      {
        "duration": 1844,
        "start_time": "2022-06-04T05:08:42.245Z"
      },
      {
        "duration": 98,
        "start_time": "2022-06-04T05:08:44.091Z"
      },
      {
        "duration": 12,
        "start_time": "2022-06-04T05:08:44.191Z"
      },
      {
        "duration": 13,
        "start_time": "2022-06-04T05:08:44.205Z"
      },
      {
        "duration": 10,
        "start_time": "2022-06-04T05:08:44.220Z"
      },
      {
        "duration": 54,
        "start_time": "2022-06-04T05:08:44.232Z"
      },
      {
        "duration": 3,
        "start_time": "2022-06-04T05:08:44.290Z"
      },
      {
        "duration": 7,
        "start_time": "2022-06-04T05:08:44.295Z"
      },
      {
        "duration": 77,
        "start_time": "2022-06-04T05:08:44.303Z"
      },
      {
        "duration": 96,
        "start_time": "2022-06-04T05:08:44.383Z"
      },
      {
        "duration": 33,
        "start_time": "2022-06-04T05:08:44.558Z"
      },
      {
        "duration": 7,
        "start_time": "2022-06-04T05:08:44.593Z"
      },
      {
        "duration": 10,
        "start_time": "2022-06-04T05:08:44.602Z"
      },
      {
        "duration": 7,
        "start_time": "2022-06-04T05:08:44.614Z"
      },
      {
        "duration": 5,
        "start_time": "2022-06-04T05:08:44.624Z"
      },
      {
        "duration": 4,
        "start_time": "2022-06-04T05:08:44.630Z"
      },
      {
        "duration": 7,
        "start_time": "2022-06-04T05:08:44.636Z"
      },
      {
        "duration": 6854,
        "start_time": "2022-06-04T05:08:44.644Z"
      },
      {
        "duration": 12,
        "start_time": "2022-06-04T05:08:51.500Z"
      },
      {
        "duration": 6,
        "start_time": "2022-06-04T05:15:43.521Z"
      },
      {
        "duration": 2478,
        "start_time": "2022-06-04T05:15:45.545Z"
      },
      {
        "duration": 0,
        "start_time": "2022-06-04T05:15:48.025Z"
      },
      {
        "duration": 5,
        "start_time": "2022-06-04T05:16:12.085Z"
      },
      {
        "duration": 2301,
        "start_time": "2022-06-04T05:16:12.825Z"
      },
      {
        "duration": 6,
        "start_time": "2022-06-04T05:16:36.786Z"
      },
      {
        "duration": 2135,
        "start_time": "2022-06-04T05:16:37.713Z"
      },
      {
        "duration": 6,
        "start_time": "2022-06-04T05:17:24.593Z"
      },
      {
        "duration": 6558,
        "start_time": "2022-06-04T05:17:25.440Z"
      },
      {
        "duration": 13,
        "start_time": "2022-06-04T05:17:32.001Z"
      },
      {
        "duration": 4,
        "start_time": "2022-06-04T05:18:24.944Z"
      },
      {
        "duration": 6,
        "start_time": "2022-06-04T05:18:26.008Z"
      },
      {
        "duration": 5132,
        "start_time": "2022-06-04T05:18:26.773Z"
      },
      {
        "duration": 13,
        "start_time": "2022-06-04T05:18:33.022Z"
      },
      {
        "duration": 1359,
        "start_time": "2022-06-05T17:27:47.642Z"
      },
      {
        "duration": 3,
        "start_time": "2022-06-05T17:27:49.003Z"
      },
      {
        "duration": 817,
        "start_time": "2022-06-05T17:27:49.007Z"
      },
      {
        "duration": 34,
        "start_time": "2022-06-05T17:27:49.826Z"
      },
      {
        "duration": 44,
        "start_time": "2022-06-05T17:27:49.862Z"
      },
      {
        "duration": 33,
        "start_time": "2022-06-05T17:27:49.908Z"
      },
      {
        "duration": 138,
        "start_time": "2022-06-05T17:27:49.943Z"
      },
      {
        "duration": 225,
        "start_time": "2022-06-05T17:27:50.083Z"
      },
      {
        "duration": 133,
        "start_time": "2022-06-05T17:27:50.309Z"
      },
      {
        "duration": 82,
        "start_time": "2022-06-05T17:27:50.445Z"
      },
      {
        "duration": 35,
        "start_time": "2022-06-05T17:27:50.529Z"
      },
      {
        "duration": 1005,
        "start_time": "2022-06-05T17:27:50.566Z"
      },
      {
        "duration": 798,
        "start_time": "2022-06-05T17:27:51.573Z"
      },
      {
        "duration": 1642,
        "start_time": "2022-06-05T17:27:52.374Z"
      },
      {
        "duration": 82,
        "start_time": "2022-06-05T17:27:54.018Z"
      },
      {
        "duration": 9,
        "start_time": "2022-06-05T17:27:54.102Z"
      },
      {
        "duration": 35,
        "start_time": "2022-06-05T17:27:54.113Z"
      },
      {
        "duration": 9,
        "start_time": "2022-06-05T17:27:54.150Z"
      },
      {
        "duration": 135,
        "start_time": "2022-06-05T17:27:54.160Z"
      },
      {
        "duration": 4,
        "start_time": "2022-06-05T17:27:54.297Z"
      },
      {
        "duration": 9,
        "start_time": "2022-06-05T17:27:54.302Z"
      },
      {
        "duration": 122,
        "start_time": "2022-06-05T17:27:54.312Z"
      },
      {
        "duration": 103,
        "start_time": "2022-06-05T17:27:54.435Z"
      },
      {
        "duration": 108,
        "start_time": "2022-06-05T17:27:54.540Z"
      },
      {
        "duration": 11,
        "start_time": "2022-06-05T17:27:54.650Z"
      },
      {
        "duration": 8,
        "start_time": "2022-06-05T17:27:54.663Z"
      },
      {
        "duration": 6,
        "start_time": "2022-06-05T17:27:54.672Z"
      },
      {
        "duration": 10,
        "start_time": "2022-06-05T17:27:54.681Z"
      },
      {
        "duration": 11,
        "start_time": "2022-06-05T17:27:54.692Z"
      },
      {
        "duration": 9,
        "start_time": "2022-06-05T17:27:54.705Z"
      },
      {
        "duration": 6373,
        "start_time": "2022-06-05T17:27:54.716Z"
      },
      {
        "duration": 14,
        "start_time": "2022-06-05T17:28:01.092Z"
      },
      {
        "duration": 3,
        "start_time": "2022-06-05T18:41:02.051Z"
      },
      {
        "duration": 19,
        "start_time": "2022-06-05T18:41:02.056Z"
      },
      {
        "duration": 386,
        "start_time": "2022-06-05T18:41:02.077Z"
      },
      {
        "duration": 22,
        "start_time": "2022-06-05T18:41:02.465Z"
      },
      {
        "duration": 39,
        "start_time": "2022-06-05T18:41:02.489Z"
      },
      {
        "duration": 21,
        "start_time": "2022-06-05T18:41:02.530Z"
      },
      {
        "duration": 129,
        "start_time": "2022-06-05T18:41:02.552Z"
      },
      {
        "duration": 210,
        "start_time": "2022-06-05T18:41:02.683Z"
      },
      {
        "duration": 135,
        "start_time": "2022-06-05T18:41:02.895Z"
      },
      {
        "duration": 63,
        "start_time": "2022-06-05T18:41:03.031Z"
      },
      {
        "duration": 43,
        "start_time": "2022-06-05T18:41:03.096Z"
      },
      {
        "duration": 892,
        "start_time": "2022-06-05T18:41:03.141Z"
      },
      {
        "duration": 770,
        "start_time": "2022-06-05T18:41:04.034Z"
      },
      {
        "duration": 1517,
        "start_time": "2022-06-05T18:41:04.806Z"
      },
      {
        "duration": 75,
        "start_time": "2022-06-05T18:41:06.326Z"
      },
      {
        "duration": 9,
        "start_time": "2022-06-05T18:41:06.403Z"
      },
      {
        "duration": 19,
        "start_time": "2022-06-05T18:41:06.414Z"
      },
      {
        "duration": 10,
        "start_time": "2022-06-05T18:41:06.435Z"
      },
      {
        "duration": 24,
        "start_time": "2022-06-05T18:41:06.446Z"
      },
      {
        "duration": 3,
        "start_time": "2022-06-05T18:41:06.471Z"
      },
      {
        "duration": 8,
        "start_time": "2022-06-05T18:41:06.476Z"
      },
      {
        "duration": 144,
        "start_time": "2022-06-05T18:41:06.486Z"
      },
      {
        "duration": 101,
        "start_time": "2022-06-05T18:41:06.633Z"
      },
      {
        "duration": 99,
        "start_time": "2022-06-05T18:41:06.736Z"
      },
      {
        "duration": 5,
        "start_time": "2022-06-05T18:41:06.837Z"
      },
      {
        "duration": 4,
        "start_time": "2022-06-05T18:41:06.843Z"
      },
      {
        "duration": 5,
        "start_time": "2022-06-05T18:41:06.849Z"
      },
      {
        "duration": 5,
        "start_time": "2022-06-05T18:41:06.856Z"
      },
      {
        "duration": 4,
        "start_time": "2022-06-05T18:41:06.864Z"
      },
      {
        "duration": 6,
        "start_time": "2022-06-05T18:41:06.870Z"
      },
      {
        "duration": 6215,
        "start_time": "2022-06-05T18:41:06.878Z"
      },
      {
        "duration": 13,
        "start_time": "2022-06-05T18:41:13.095Z"
      },
      {
        "duration": 1334,
        "start_time": "2022-06-06T08:11:23.616Z"
      },
      {
        "duration": 3,
        "start_time": "2022-06-06T08:11:24.952Z"
      },
      {
        "duration": 757,
        "start_time": "2022-06-06T08:11:24.956Z"
      },
      {
        "duration": 30,
        "start_time": "2022-06-06T08:11:25.715Z"
      },
      {
        "duration": 23,
        "start_time": "2022-06-06T08:11:25.747Z"
      },
      {
        "duration": 22,
        "start_time": "2022-06-06T08:11:25.771Z"
      },
      {
        "duration": 152,
        "start_time": "2022-06-06T08:11:25.794Z"
      },
      {
        "duration": 297,
        "start_time": "2022-06-06T08:11:25.948Z"
      },
      {
        "duration": 160,
        "start_time": "2022-06-06T08:11:26.247Z"
      },
      {
        "duration": 93,
        "start_time": "2022-06-06T08:11:26.410Z"
      },
      {
        "duration": 56,
        "start_time": "2022-06-06T08:11:26.505Z"
      },
      {
        "duration": 1041,
        "start_time": "2022-06-06T08:11:26.564Z"
      },
      {
        "duration": 890,
        "start_time": "2022-06-06T08:11:27.606Z"
      },
      {
        "duration": 1545,
        "start_time": "2022-06-06T08:11:28.498Z"
      },
      {
        "duration": 69,
        "start_time": "2022-06-06T08:11:30.046Z"
      },
      {
        "duration": 30,
        "start_time": "2022-06-06T08:11:30.117Z"
      },
      {
        "duration": 56,
        "start_time": "2022-06-06T08:11:30.149Z"
      },
      {
        "duration": 65,
        "start_time": "2022-06-06T08:11:30.207Z"
      },
      {
        "duration": 167,
        "start_time": "2022-06-06T08:11:30.274Z"
      },
      {
        "duration": 4,
        "start_time": "2022-06-06T08:11:30.443Z"
      },
      {
        "duration": 51,
        "start_time": "2022-06-06T08:11:30.449Z"
      },
      {
        "duration": 128,
        "start_time": "2022-06-06T08:11:30.503Z"
      },
      {
        "duration": 109,
        "start_time": "2022-06-06T08:11:30.633Z"
      },
      {
        "duration": 34,
        "start_time": "2022-06-06T08:11:30.828Z"
      },
      {
        "duration": 33,
        "start_time": "2022-06-06T08:11:30.864Z"
      },
      {
        "duration": 33,
        "start_time": "2022-06-06T08:11:30.898Z"
      },
      {
        "duration": 20,
        "start_time": "2022-06-06T08:11:30.933Z"
      },
      {
        "duration": 31,
        "start_time": "2022-06-06T08:11:30.957Z"
      },
      {
        "duration": 25,
        "start_time": "2022-06-06T08:11:30.990Z"
      },
      {
        "duration": 29,
        "start_time": "2022-06-06T08:11:31.018Z"
      },
      {
        "duration": 6590,
        "start_time": "2022-06-06T08:11:31.049Z"
      },
      {
        "duration": 14,
        "start_time": "2022-06-06T08:11:37.641Z"
      }
    ],
    "kernelspec": {
      "display_name": "Python 3 (ipykernel)",
      "language": "python",
      "name": "python3"
    },
    "language_info": {
      "codemirror_mode": {
        "name": "ipython",
        "version": 3
      },
      "file_extension": ".py",
      "mimetype": "text/x-python",
      "name": "python",
      "nbconvert_exporter": "python",
      "pygments_lexer": "ipython3",
      "version": "3.9.5"
    },
    "toc": {
      "base_numbering": 1,
      "nav_menu": {},
      "number_sections": true,
      "sideBar": true,
      "skip_h1_title": true,
      "title_cell": "Table of Contents",
      "title_sidebar": "Contents",
      "toc_cell": false,
      "toc_position": {
        "height": "calc(100% - 180px)",
        "left": "10px",
        "top": "150px",
        "width": "241.094px"
      },
      "toc_section_display": true,
      "toc_window_display": true
    },
    "colab": {
      "provenance": []
    }
  },
  "nbformat": 4,
  "nbformat_minor": 0
}