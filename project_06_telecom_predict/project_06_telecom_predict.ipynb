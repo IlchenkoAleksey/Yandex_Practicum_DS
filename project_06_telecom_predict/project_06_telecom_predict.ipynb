{
  "cells": [
    {
      "cell_type": "markdown",
      "metadata": {
        "id": "iCVgOqIUQSOr"
      },
      "source": [
        "# Рекомендация тарифов"
      ]
    },
    {
      "cell_type": "markdown",
      "metadata": {
        "id": "YQrS6VqaQSOr"
      },
      "source": [
        "В вашем распоряжении данные о поведении клиентов, которые уже перешли на эти тарифы (из проекта курса «Статистический анализ данных»). Нужно построить модель для задачи классификации, которая выберет подходящий тариф. Предобработка данных не понадобится — вы её уже сделали.\n",
        "\n",
        "Постройте модель с максимально большим значением *accuracy*. Чтобы сдать проект успешно, нужно довести долю правильных ответов по крайней мере до 0.75. Проверьте *accuracy* на тестовой выборке самостоятельно."
      ]
    },
    {
      "cell_type": "markdown",
      "metadata": {
        "id": "9DVJogCfQSOr"
      },
      "source": [
        "## Откройте и изучите файл"
      ]
    },
    {
      "cell_type": "markdown",
      "metadata": {
        "id": "cpBSbjieQSOr"
      },
      "source": [
        "Импортируем библиотеки"
      ]
    },
    {
      "cell_type": "code",
      "execution_count": null,
      "metadata": {
        "id": "ev0mq1TXQSOs"
      },
      "outputs": [],
      "source": [
        "import pandas as pd\n",
        "import numpy as np\n",
        "import time\n",
        "from IPython.display import display\n",
        "from sklearn.tree import DecisionTreeClassifier\n",
        "from sklearn.ensemble import RandomForestClassifier\n",
        "from sklearn.linear_model import LogisticRegression\n",
        "from sklearn.metrics import accuracy_score\n",
        "from sklearn.model_selection import train_test_split"
      ]
    },
    {
      "cell_type": "markdown",
      "metadata": {
        "id": "evqkZS7oQSOu"
      },
      "source": [
        "Откроем датафрейм и посмотрим на первые значения в нем"
      ]
    },
    {
      "cell_type": "code",
      "execution_count": null,
      "metadata": {
        "scrolled": true,
        "id": "Da8RZw4wQSOu",
        "outputId": "e11b6647-ae68-415e-e340-f7c4b23394af"
      },
      "outputs": [
        {
          "data": {
            "text/html": [
              "<div>\n",
              "<style scoped>\n",
              "    .dataframe tbody tr th:only-of-type {\n",
              "        vertical-align: middle;\n",
              "    }\n",
              "\n",
              "    .dataframe tbody tr th {\n",
              "        vertical-align: top;\n",
              "    }\n",
              "\n",
              "    .dataframe thead th {\n",
              "        text-align: right;\n",
              "    }\n",
              "</style>\n",
              "<table border=\"1\" class=\"dataframe\">\n",
              "  <thead>\n",
              "    <tr style=\"text-align: right;\">\n",
              "      <th></th>\n",
              "      <th>calls</th>\n",
              "      <th>minutes</th>\n",
              "      <th>messages</th>\n",
              "      <th>mb_used</th>\n",
              "      <th>is_ultra</th>\n",
              "    </tr>\n",
              "  </thead>\n",
              "  <tbody>\n",
              "    <tr>\n",
              "      <th>0</th>\n",
              "      <td>40.0</td>\n",
              "      <td>311.90</td>\n",
              "      <td>83.0</td>\n",
              "      <td>19915.42</td>\n",
              "      <td>0</td>\n",
              "    </tr>\n",
              "    <tr>\n",
              "      <th>1</th>\n",
              "      <td>85.0</td>\n",
              "      <td>516.75</td>\n",
              "      <td>56.0</td>\n",
              "      <td>22696.96</td>\n",
              "      <td>0</td>\n",
              "    </tr>\n",
              "    <tr>\n",
              "      <th>2</th>\n",
              "      <td>77.0</td>\n",
              "      <td>467.66</td>\n",
              "      <td>86.0</td>\n",
              "      <td>21060.45</td>\n",
              "      <td>0</td>\n",
              "    </tr>\n",
              "    <tr>\n",
              "      <th>3</th>\n",
              "      <td>106.0</td>\n",
              "      <td>745.53</td>\n",
              "      <td>81.0</td>\n",
              "      <td>8437.39</td>\n",
              "      <td>1</td>\n",
              "    </tr>\n",
              "    <tr>\n",
              "      <th>4</th>\n",
              "      <td>66.0</td>\n",
              "      <td>418.74</td>\n",
              "      <td>1.0</td>\n",
              "      <td>14502.75</td>\n",
              "      <td>0</td>\n",
              "    </tr>\n",
              "  </tbody>\n",
              "</table>\n",
              "</div>"
            ],
            "text/plain": [
              "   calls  minutes  messages   mb_used  is_ultra\n",
              "0   40.0   311.90      83.0  19915.42         0\n",
              "1   85.0   516.75      56.0  22696.96         0\n",
              "2   77.0   467.66      86.0  21060.45         0\n",
              "3  106.0   745.53      81.0   8437.39         1\n",
              "4   66.0   418.74       1.0  14502.75         0"
            ]
          },
          "metadata": {},
          "output_type": "display_data"
        }
      ],
      "source": [
        "df = pd.read_csv('/datasets/users_behavior.csv')\n",
        "display(df.head())"
      ]
    },
    {
      "cell_type": "markdown",
      "metadata": {
        "id": "ns-MeqhjQSOv"
      },
      "source": [
        "Посмотрим типы данных и количество записей"
      ]
    },
    {
      "cell_type": "code",
      "execution_count": null,
      "metadata": {
        "scrolled": true,
        "id": "3Pu30wtGQSOv",
        "outputId": "b8239353-e4c1-41ed-b9dc-fcf65167b53d"
      },
      "outputs": [
        {
          "name": "stdout",
          "output_type": "stream",
          "text": [
            "<class 'pandas.core.frame.DataFrame'>\n",
            "RangeIndex: 3214 entries, 0 to 3213\n",
            "Data columns (total 5 columns):\n",
            " #   Column    Non-Null Count  Dtype  \n",
            "---  ------    --------------  -----  \n",
            " 0   calls     3214 non-null   float64\n",
            " 1   minutes   3214 non-null   float64\n",
            " 2   messages  3214 non-null   float64\n",
            " 3   mb_used   3214 non-null   float64\n",
            " 4   is_ultra  3214 non-null   int64  \n",
            "dtypes: float64(4), int64(1)\n",
            "memory usage: 125.7 KB\n"
          ]
        }
      ],
      "source": [
        "df.info()"
      ]
    },
    {
      "cell_type": "markdown",
      "metadata": {
        "id": "XNNoz_hhQSOw"
      },
      "source": [
        "### Вывод:\n",
        " - В таблице 5 столбцов, 3214 строк\n",
        " - Пропуски отсутствуют\n",
        " - В столбцах **calls, minutes, messages, mb_used** тип даных `float64`, в столбце **is_ultra** тип данных `int64`\n",
        " - Целевой признак `is_ultra` категориальный, бинарная классификация."
      ]
    },
    {
      "cell_type": "markdown",
      "metadata": {
        "id": "s-4MCMvoQSOw"
      },
      "source": [
        "## Разбейте данные на выборки"
      ]
    },
    {
      "cell_type": "markdown",
      "metadata": {
        "id": "Anjv8gWXQSOw"
      },
      "source": [
        "В переменной `features` сохраним признаки, в переменной `target` будет целевой признак"
      ]
    },
    {
      "cell_type": "code",
      "execution_count": null,
      "metadata": {
        "id": "9uMXDeE-QSOx"
      },
      "outputs": [],
      "source": [
        "features = df.drop(['is_ultra', 'calls'],axis=1)\n",
        "target = df['is_ultra']"
      ]
    },
    {
      "cell_type": "markdown",
      "metadata": {
        "id": "6_AdA-AcQSOx"
      },
      "source": [
        "Создадим тестовую выборку"
      ]
    },
    {
      "cell_type": "code",
      "execution_count": null,
      "metadata": {
        "id": "Z_u_Ftv_QSOx"
      },
      "outputs": [],
      "source": [
        "features_80, features_test, target_80, target_test = train_test_split(\n",
        "    features, target, test_size=0.2, random_state=2034)"
      ]
    },
    {
      "cell_type": "markdown",
      "metadata": {
        "id": "W8Wy89Q5QSOx"
      },
      "source": [
        "Создадим валидационную выборку и обучающие данные"
      ]
    },
    {
      "cell_type": "code",
      "execution_count": null,
      "metadata": {
        "id": "6RFYa-ipQSOx"
      },
      "outputs": [],
      "source": [
        "features_train, features_valid, target_train, target_valid = train_test_split(\n",
        "    features_80, target_80, test_size=0.25, random_state=2034)"
      ]
    },
    {
      "cell_type": "markdown",
      "metadata": {
        "id": "rqS8UAKaQSOx"
      },
      "source": [
        "### Вывод:\n",
        " - Получили 3 набора данных:\n",
        "   - обучающие 0.6\n",
        "   - валидационные 0.2\n",
        "   - тестовые 0.2."
      ]
    },
    {
      "cell_type": "markdown",
      "metadata": {
        "id": "VgTf6SxxQSOy"
      },
      "source": [
        "## Исследуйте модели"
      ]
    },
    {
      "cell_type": "markdown",
      "metadata": {
        "id": "4KeBpGpiQSOy"
      },
      "source": [
        "Модель дерево решений DecisionTreeClassifier\n",
        "Напишем функцию, которая будет менять глубину дерева 1-10 и выбирать лучшую модель дерева решений на основе accuracy"
      ]
    },
    {
      "cell_type": "code",
      "execution_count": null,
      "metadata": {
        "id": "yahEVmJCQSOy",
        "outputId": "379a1501-ac15-4b5c-df8b-39603ce8e879"
      },
      "outputs": [
        {
          "data": {
            "text/plain": [
              "'Accuracy наилучшей модели на валидационной выборке:'"
            ]
          },
          "metadata": {},
          "output_type": "display_data"
        },
        {
          "data": {
            "text/plain": [
              "0.8055987558320373"
            ]
          },
          "metadata": {},
          "output_type": "display_data"
        }
      ],
      "source": [
        "model_tree = None\n",
        "best_result_1 = 0\n",
        "\n",
        "for depth in range(1, 11):\n",
        "    model_1 = DecisionTreeClassifier(random_state=2034, max_depth=depth)\n",
        "    model_1.fit(features_train,target_train)\n",
        "    result_1 = model_1.score(features_valid,target_valid)\n",
        "    if result_1 > best_result_1:\n",
        "        model_tree = model_1\n",
        "        best_result_1 = result_1\n",
        "\n",
        "display(\"Accuracy наилучшей модели на валидационной выборке:\", best_result_1)"
      ]
    },
    {
      "cell_type": "markdown",
      "metadata": {
        "id": "nPhzUWgeQSOy"
      },
      "source": [
        "По заданию было нужно довести долю правильных ответов по крайней мере до 0.75. Задание выполнено."
      ]
    },
    {
      "cell_type": "markdown",
      "metadata": {
        "id": "6VeNuqJgQSOz"
      },
      "source": [
        "Модель логистическая регрессия LogisticRegression"
      ]
    },
    {
      "cell_type": "code",
      "execution_count": null,
      "metadata": {
        "scrolled": true,
        "id": "AS_yisJ6QSOz",
        "outputId": "a4565e4b-2d3f-4034-bbbb-549bc21ed4e4"
      },
      "outputs": [
        {
          "data": {
            "text/plain": [
              "'Accuracy  модели логистической регрессии на валидационной выборке:'"
            ]
          },
          "metadata": {},
          "output_type": "display_data"
        },
        {
          "data": {
            "text/plain": [
              "0.7060653188180405"
            ]
          },
          "metadata": {},
          "output_type": "display_data"
        }
      ],
      "source": [
        "model_log = LogisticRegression(random_state=2034, solver='lbfgs')\n",
        "model_log.fit(features_train, target_train)\n",
        "result_2 = model_log.score(features_valid, target_valid)\n",
        "\n",
        "display(\"Accuracy  модели логистической регрессии на валидационной выборке:\", result_2)"
      ]
    },
    {
      "cell_type": "markdown",
      "metadata": {
        "id": "anb8mDo0QSOz"
      },
      "source": [
        "Полученная точность 0.70 ниже необходимой по заданию 0.75"
      ]
    },
    {
      "cell_type": "markdown",
      "metadata": {
        "id": "GHw1OkLDQSOz"
      },
      "source": [
        "Модель случаный лес RandomForestClassifier"
      ]
    },
    {
      "cell_type": "code",
      "execution_count": null,
      "metadata": {
        "id": "nIrFWO5hQSOz",
        "outputId": "de014a21-1a74-43dc-ee74-8f93b7e46a74"
      },
      "outputs": [
        {
          "data": {
            "text/plain": [
              "'Accuracy наилучшей модели на валидационной выборке:'"
            ]
          },
          "metadata": {},
          "output_type": "display_data"
        },
        {
          "data": {
            "text/plain": [
              "0.8102643856920684"
            ]
          },
          "metadata": {},
          "output_type": "display_data"
        }
      ],
      "source": [
        "model_forest = None\n",
        "best_result = 0\n",
        "for est in range(1, 51):\n",
        "    model = RandomForestClassifier(random_state=2034, n_estimators=est)\n",
        "    model.fit(features_train,target_train)\n",
        "    result = model.score(features_valid,target_valid)\n",
        "    if result > best_result:\n",
        "        model_forest = model\n",
        "        best_result = result\n",
        "\n",
        "display(\"Accuracy наилучшей модели на валидационной выборке:\", best_result)"
      ]
    },
    {
      "cell_type": "markdown",
      "metadata": {
        "id": "sNu_o6nQQSO0"
      },
      "source": [
        "По заданию было нужно довести долю правильных ответов по крайней мере до 0.75. Задание выполнено."
      ]
    },
    {
      "cell_type": "markdown",
      "metadata": {
        "id": "DdyTTZvKQSO4"
      },
      "source": [
        "У моделей дерево решений и случайный лес схожая точность, определим скорость выполнения (время работы)"
      ]
    },
    {
      "cell_type": "code",
      "execution_count": null,
      "metadata": {
        "id": "CZUUVeHUQSO4",
        "outputId": "2093fa3b-56ea-4e78-c86a-493318b2b731"
      },
      "outputs": [
        {
          "data": {
            "text/plain": [
              "'Время выполнения решения model_forest 0.01715683937072754 секунд'"
            ]
          },
          "metadata": {},
          "output_type": "display_data"
        },
        {
          "data": {
            "text/plain": [
              "'Время выполнения решения model_tree 0.0026705265045166016 секунд'"
            ]
          },
          "metadata": {},
          "output_type": "display_data"
        }
      ],
      "source": [
        "start_time = time.time()\n",
        "model_forest.predict(features_valid)\n",
        "display(\"Время выполнения решения model_forest %s секунд\" % (time.time() - start_time))\n",
        "start_time = time.time()\n",
        "model_tree.predict(features_valid)\n",
        "display(\"Время выполнения решения model_tree %s секунд\" % (time.time() - start_time))"
      ]
    },
    {
      "cell_type": "markdown",
      "metadata": {
        "id": "mawwJuQhQSO4"
      },
      "source": [
        "### Вывод:\n",
        " - Выбирая из двух моделей, выбрали ту, которая выполняется быстрее, остановились на `model_tree`"
      ]
    },
    {
      "cell_type": "markdown",
      "metadata": {
        "id": "iovoH3yZQSO5"
      },
      "source": [
        "## Проверьте модель на тестовой выборке"
      ]
    },
    {
      "cell_type": "markdown",
      "metadata": {
        "id": "q_WxvOOpQSO5"
      },
      "source": [
        "Получим предсказания по тестовой выборке:"
      ]
    },
    {
      "cell_type": "code",
      "execution_count": null,
      "metadata": {
        "id": "jAtnmbLJQSO5"
      },
      "outputs": [],
      "source": [
        "predictions_test = model_tree.predict(features_test)"
      ]
    },
    {
      "cell_type": "markdown",
      "metadata": {
        "id": "dtByhs1JQSO5"
      },
      "source": [
        "Получим предсказания по обучающей выборке:"
      ]
    },
    {
      "cell_type": "code",
      "execution_count": null,
      "metadata": {
        "id": "PCbX51jKQSO5"
      },
      "outputs": [],
      "source": [
        "predictions_train = model_tree.predict(features_train)"
      ]
    },
    {
      "cell_type": "markdown",
      "metadata": {
        "id": "JGvrkpUQQSO5"
      },
      "source": [
        "Получим точность модели на обучающей выборке:"
      ]
    },
    {
      "cell_type": "code",
      "execution_count": null,
      "metadata": {
        "id": "xwQWmNymQSO5"
      },
      "outputs": [],
      "source": [
        "accuarry_train = accuracy_score(target_train, predictions_train)"
      ]
    },
    {
      "cell_type": "markdown",
      "metadata": {
        "id": "7CVxyAdQQSO6"
      },
      "source": [
        "Получим точность модели на тестовой выборке:"
      ]
    },
    {
      "cell_type": "code",
      "execution_count": null,
      "metadata": {
        "scrolled": true,
        "id": "F4ysfTQnQSO6",
        "outputId": "20348da1-08e3-4aa7-de66-1a5f503ffe42"
      },
      "outputs": [
        {
          "data": {
            "text/plain": [
              "'Accuracy'"
            ]
          },
          "metadata": {},
          "output_type": "display_data"
        },
        {
          "data": {
            "text/plain": [
              "'Обучающая выборка:'"
            ]
          },
          "metadata": {},
          "output_type": "display_data"
        },
        {
          "data": {
            "text/plain": [
              "0.7956431535269709"
            ]
          },
          "metadata": {},
          "output_type": "display_data"
        },
        {
          "data": {
            "text/plain": [
              "'Тестовая выборка:'"
            ]
          },
          "metadata": {},
          "output_type": "display_data"
        },
        {
          "data": {
            "text/plain": [
              "0.7947122861586314"
            ]
          },
          "metadata": {},
          "output_type": "display_data"
        }
      ],
      "source": [
        "accuarry_test = accuracy_score(target_test, predictions_test)\n",
        "\n",
        "display('Accuracy')\n",
        "display('Обучающая выборка:', accuarry_train)\n",
        "display('Тестовая выборка:', accuarry_test)"
      ]
    },
    {
      "cell_type": "markdown",
      "metadata": {
        "id": "bH8YIa-oQSO7"
      },
      "source": [
        "Вывод:\n",
        " - На обучающей и тестовой выборке получили долю правильных ответов 0.79"
      ]
    },
    {
      "cell_type": "markdown",
      "metadata": {
        "id": "yYvAUb2NQSO7"
      },
      "source": [
        "## (бонус) Проверьте модели на адекватность"
      ]
    },
    {
      "cell_type": "markdown",
      "metadata": {
        "id": "OkO9BgeKQSO7"
      },
      "source": [
        "Определим какой самый часто встречающейся класс в тестовой выборке:"
      ]
    },
    {
      "cell_type": "code",
      "execution_count": null,
      "metadata": {
        "scrolled": true,
        "id": "S0ehVNsKQSO7",
        "outputId": "37b5b044-4096-40d6-d9a3-ed10eddec359"
      },
      "outputs": [
        {
          "data": {
            "text/plain": [
              "0    444\n",
              "1    199\n",
              "Name: is_ultra, dtype: int64"
            ]
          },
          "execution_count": 57,
          "metadata": {},
          "output_type": "execute_result"
        }
      ],
      "source": [
        "target_test.value_counts()"
      ]
    },
    {
      "cell_type": "markdown",
      "metadata": {
        "id": "DO0mpo8lQSO8"
      },
      "source": [
        "Передадим моделе данные состоящие только из 0 и сделаем проверку"
      ]
    },
    {
      "cell_type": "code",
      "execution_count": null,
      "metadata": {
        "scrolled": true,
        "id": "4dkLJxKUQSO8",
        "outputId": "e5893a6b-f6a9-44c9-bcf5-0ce71b5f6439"
      },
      "outputs": [
        {
          "data": {
            "text/plain": [
              "'Accuracy'"
            ]
          },
          "metadata": {},
          "output_type": "display_data"
        },
        {
          "data": {
            "text/plain": [
              "'Accuracy при одинаковых ответах:'"
            ]
          },
          "metadata": {},
          "output_type": "display_data"
        },
        {
          "data": {
            "text/plain": [
              "0.6905132192846034"
            ]
          },
          "metadata": {},
          "output_type": "display_data"
        },
        {
          "data": {
            "text/plain": [
              "'Тестовая выборка:'"
            ]
          },
          "metadata": {},
          "output_type": "display_data"
        },
        {
          "data": {
            "text/plain": [
              "0.7947122861586314"
            ]
          },
          "metadata": {},
          "output_type": "display_data"
        }
      ],
      "source": [
        "predictions_adequacy = [0]*target_test.count()\n",
        "adequacy_test = accuracy_score(target_test, predictions_adequacy)\n",
        "\n",
        "display('Accuracy')\n",
        "display('Accuracy при одинаковых ответах:', adequacy_test)\n",
        "display('Тестовая выборка:', accuarry_test)"
      ]
    },
    {
      "cell_type": "markdown",
      "metadata": {
        "id": "MJ1SzZtYQSO8"
      },
      "source": [
        "### Вывод:\n",
        " - Модель обучилась"
      ]
    },
    {
      "cell_type": "markdown",
      "metadata": {
        "id": "U-P6zQv_QSO8"
      },
      "source": [
        "## Общий вывод:  \n",
        "Перед нами стояла задача для оператора мобильной связи «Мегалайн»: многие клиенты пользуются архивными тарифами. Они хотят построить систему, способную проанализировать поведение клиентов и предложить пользователям новый тариф: «Смарт» или «Ультра».\n",
        "В нашем распоряжении данные о поведении клиентов, которые уже перешли на эти тарифы. Мы загрузили и изучили данные.\n",
        "Данные были разбиты на три выборки, произведено исследование моделей.\n",
        "Построили модель для задачи классификации, которая выберет подходящий тариф. Построили модель с максимально большим значением accuracy 0.81.  \n",
        "Рекомендация для компании использовать модель случаный лес RandomForestClassifier."
      ]
    }
  ],
  "metadata": {
    "ExecuteTimeLog": [
      {
        "duration": 2153,
        "start_time": "2022-04-27T19:38:09.710Z"
      },
      {
        "duration": 37,
        "start_time": "2022-04-27T19:39:39.389Z"
      },
      {
        "duration": 15,
        "start_time": "2022-04-27T19:40:10.046Z"
      },
      {
        "duration": 5,
        "start_time": "2022-04-27T19:50:08.062Z"
      },
      {
        "duration": 7,
        "start_time": "2022-04-27T19:51:55.758Z"
      },
      {
        "duration": 8,
        "start_time": "2022-04-27T19:52:27.367Z"
      },
      {
        "duration": 105,
        "start_time": "2022-04-27T19:56:56.043Z"
      },
      {
        "duration": 104,
        "start_time": "2022-04-27T19:57:09.696Z"
      },
      {
        "duration": 49,
        "start_time": "2022-04-27T19:59:17.878Z"
      },
      {
        "duration": 32,
        "start_time": "2022-04-27T19:59:23.401Z"
      },
      {
        "duration": 5862,
        "start_time": "2022-04-27T20:00:17.991Z"
      },
      {
        "duration": 8,
        "start_time": "2022-04-27T20:04:38.946Z"
      },
      {
        "duration": 161,
        "start_time": "2022-04-27T20:05:04.551Z"
      },
      {
        "duration": 4,
        "start_time": "2022-04-27T20:05:47.447Z"
      },
      {
        "duration": 34,
        "start_time": "2022-04-27T20:05:47.454Z"
      },
      {
        "duration": 16,
        "start_time": "2022-04-27T20:05:47.492Z"
      },
      {
        "duration": 7,
        "start_time": "2022-04-27T20:05:47.512Z"
      },
      {
        "duration": 13,
        "start_time": "2022-04-27T20:05:47.522Z"
      },
      {
        "duration": 8,
        "start_time": "2022-04-27T20:05:47.537Z"
      },
      {
        "duration": 137,
        "start_time": "2022-04-27T20:05:47.547Z"
      },
      {
        "duration": 32,
        "start_time": "2022-04-27T20:05:47.686Z"
      },
      {
        "duration": 106,
        "start_time": "2022-04-27T20:05:47.720Z"
      },
      {
        "duration": 0,
        "start_time": "2022-04-27T20:05:47.829Z"
      },
      {
        "duration": 0,
        "start_time": "2022-04-27T20:05:47.831Z"
      },
      {
        "duration": 27,
        "start_time": "2022-04-27T20:05:52.697Z"
      },
      {
        "duration": 5905,
        "start_time": "2022-04-27T20:05:57.049Z"
      },
      {
        "duration": 28,
        "start_time": "2022-04-27T20:06:33.370Z"
      },
      {
        "duration": 6,
        "start_time": "2022-04-27T20:08:18.374Z"
      },
      {
        "duration": 6,
        "start_time": "2022-04-27T20:08:35.391Z"
      },
      {
        "duration": 8,
        "start_time": "2022-04-27T20:09:03.807Z"
      },
      {
        "duration": 5,
        "start_time": "2022-04-27T20:09:04.742Z"
      },
      {
        "duration": 6,
        "start_time": "2022-04-27T20:09:06.734Z"
      },
      {
        "duration": 6,
        "start_time": "2022-04-27T20:09:07.711Z"
      },
      {
        "duration": 5,
        "start_time": "2022-04-27T20:09:08.511Z"
      },
      {
        "duration": 5,
        "start_time": "2022-04-27T20:09:17.112Z"
      },
      {
        "duration": 14,
        "start_time": "2022-04-27T20:09:36.825Z"
      },
      {
        "duration": 6,
        "start_time": "2022-04-27T20:10:34.588Z"
      },
      {
        "duration": 6,
        "start_time": "2022-04-27T20:10:54.539Z"
      },
      {
        "duration": 17,
        "start_time": "2022-04-27T20:11:06.235Z"
      },
      {
        "duration": 9,
        "start_time": "2022-04-27T20:11:07.763Z"
      },
      {
        "duration": 14,
        "start_time": "2022-04-27T20:11:08.803Z"
      },
      {
        "duration": 14,
        "start_time": "2022-04-27T20:25:14.425Z"
      },
      {
        "duration": 13,
        "start_time": "2022-04-27T20:26:09.666Z"
      },
      {
        "duration": 5,
        "start_time": "2022-04-27T20:28:45.544Z"
      },
      {
        "duration": 5,
        "start_time": "2022-04-27T20:28:53.054Z"
      },
      {
        "duration": 33,
        "start_time": "2022-04-27T20:28:53.062Z"
      },
      {
        "duration": 15,
        "start_time": "2022-04-27T20:28:53.097Z"
      },
      {
        "duration": 7,
        "start_time": "2022-04-27T20:28:53.115Z"
      },
      {
        "duration": 9,
        "start_time": "2022-04-27T20:28:53.124Z"
      },
      {
        "duration": 12,
        "start_time": "2022-04-27T20:28:53.135Z"
      },
      {
        "duration": 135,
        "start_time": "2022-04-27T20:28:53.150Z"
      },
      {
        "duration": 35,
        "start_time": "2022-04-27T20:28:53.287Z"
      },
      {
        "duration": 6309,
        "start_time": "2022-04-27T20:28:53.324Z"
      },
      {
        "duration": 44,
        "start_time": "2022-04-27T20:28:59.637Z"
      },
      {
        "duration": 6,
        "start_time": "2022-04-27T20:28:59.684Z"
      },
      {
        "duration": 8,
        "start_time": "2022-04-27T20:28:59.692Z"
      },
      {
        "duration": 7,
        "start_time": "2022-04-27T20:28:59.702Z"
      },
      {
        "duration": 15,
        "start_time": "2022-04-27T20:28:59.711Z"
      },
      {
        "duration": 7,
        "start_time": "2022-04-27T20:28:59.728Z"
      },
      {
        "duration": 16,
        "start_time": "2022-04-27T20:28:59.781Z"
      }
    ],
    "kernelspec": {
      "display_name": "Python 3 (ipykernel)",
      "language": "python",
      "name": "python3"
    },
    "language_info": {
      "codemirror_mode": {
        "name": "ipython",
        "version": 3
      },
      "file_extension": ".py",
      "mimetype": "text/x-python",
      "name": "python",
      "nbconvert_exporter": "python",
      "pygments_lexer": "ipython3",
      "version": "3.9.5"
    },
    "toc": {
      "base_numbering": 1,
      "nav_menu": {},
      "number_sections": true,
      "sideBar": true,
      "skip_h1_title": true,
      "title_cell": "Table of Contents",
      "title_sidebar": "Contents",
      "toc_cell": false,
      "toc_position": {},
      "toc_section_display": true,
      "toc_window_display": false
    },
    "colab": {
      "provenance": []
    }
  },
  "nbformat": 4,
  "nbformat_minor": 0
}