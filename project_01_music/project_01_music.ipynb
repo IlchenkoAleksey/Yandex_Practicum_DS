{
  "cells": [
    {
      "cell_type": "markdown",
      "metadata": {
        "id": "E0vqbgi9ay0H"
      },
      "source": [
        "# Яндекс.Музыка"
      ]
    },
    {
      "cell_type": "markdown",
      "source": [
        "### Описание проекта\n",
        "\n",
        "Сравнение Москвы и Петербурга окружено мифами:\n",
        "Москва — мегаполис, подчинённый жёсткому ритму рабочей недели;\n",
        "Петербург — город своеобразной культуры, непохожий на Москву.\n",
        "\n",
        "Некоторые мифы отражают действительность. Другие — пустые стереотипы. Бизнес должен отличать первые от вторых, чтобы принимать рациональные решения. На реальных данных Яндекс Музыки вы проверите гипотезы и сравните поведение пользователей двух столиц.\n",
        "\n",
        "Гипотезы\n",
        "* Активность пользователей зависит от дня недели. Причём в Москве и Петербурге это проявляется по-разному.\n",
        "* Утром в понедельник в Москве преобладают одни жанры музыки, а в Петербурге — другие. Это верно и для вечера пятницы.\n",
        "* Москва и Петербург предпочитают разные жанры музыки. В Москве чаще слушают поп-музыку, в Петербурге — русский рэп."
      ],
      "metadata": {
        "id": "e5vMkz2xwNll"
      }
    },
    {
      "cell_type": "markdown",
      "metadata": {
        "id": "Ml1hmfXC_Zcs"
      },
      "source": [
        "## Обзор данных\n",
        "\n",
        "Составим первое представление о данных Яндекс.Музыки.\n",
        "\n",
        "\n"
      ]
    },
    {
      "cell_type": "markdown",
      "metadata": {
        "id": "57eAOGIz_Zcs"
      },
      "source": [
        "Основной инструмент аналитика — `pandas`. Импортируем эту библиотеку."
      ]
    },
    {
      "cell_type": "code",
      "execution_count": null,
      "metadata": {
        "id": "AXN7PHPN_Zcs"
      },
      "outputs": [],
      "source": [
        "import pandas as pd # импорт библиотеки pandas"
      ]
    },
    {
      "cell_type": "markdown",
      "metadata": {
        "id": "SG23P8tt_Zcs"
      },
      "source": [
        "Прочитаем файл `yandex_music_project.csv` из папки `/datasets` и сохраним его в переменной `df`:"
      ]
    },
    {
      "cell_type": "code",
      "execution_count": null,
      "metadata": {
        "id": "fFVu7vqh_Zct"
      },
      "outputs": [],
      "source": [
        "df = pd.read_csv('/datasets/yandex_music_project.csv') # чтение файла с данными и сохранение в df"
      ]
    },
    {
      "cell_type": "markdown",
      "metadata": {
        "id": "rDoOMd3uTqnZ"
      },
      "source": [
        "Выведем на экран первые десять строк таблицы:"
      ]
    },
    {
      "cell_type": "code",
      "execution_count": null,
      "metadata": {
        "id": "oWTVX3gW_Zct",
        "outputId": "e8612563-7bf3-4509-9859-619a33cc1387"
      },
      "outputs": [
        {
          "data": {
            "text/html": [
              "<div>\n",
              "<style scoped>\n",
              "    .dataframe tbody tr th:only-of-type {\n",
              "        vertical-align: middle;\n",
              "    }\n",
              "\n",
              "    .dataframe tbody tr th {\n",
              "        vertical-align: top;\n",
              "    }\n",
              "\n",
              "    .dataframe thead th {\n",
              "        text-align: right;\n",
              "    }\n",
              "</style>\n",
              "<table border=\"1\" class=\"dataframe\">\n",
              "  <thead>\n",
              "    <tr style=\"text-align: right;\">\n",
              "      <th></th>\n",
              "      <th>userID</th>\n",
              "      <th>Track</th>\n",
              "      <th>artist</th>\n",
              "      <th>genre</th>\n",
              "      <th>City</th>\n",
              "      <th>time</th>\n",
              "      <th>Day</th>\n",
              "    </tr>\n",
              "  </thead>\n",
              "  <tbody>\n",
              "    <tr>\n",
              "      <td>0</td>\n",
              "      <td>FFB692EC</td>\n",
              "      <td>Kamigata To Boots</td>\n",
              "      <td>The Mass Missile</td>\n",
              "      <td>rock</td>\n",
              "      <td>Saint-Petersburg</td>\n",
              "      <td>20:28:33</td>\n",
              "      <td>Wednesday</td>\n",
              "    </tr>\n",
              "    <tr>\n",
              "      <td>1</td>\n",
              "      <td>55204538</td>\n",
              "      <td>Delayed Because of Accident</td>\n",
              "      <td>Andreas Rönnberg</td>\n",
              "      <td>rock</td>\n",
              "      <td>Moscow</td>\n",
              "      <td>14:07:09</td>\n",
              "      <td>Friday</td>\n",
              "    </tr>\n",
              "    <tr>\n",
              "      <td>2</td>\n",
              "      <td>20EC38</td>\n",
              "      <td>Funiculì funiculà</td>\n",
              "      <td>Mario Lanza</td>\n",
              "      <td>pop</td>\n",
              "      <td>Saint-Petersburg</td>\n",
              "      <td>20:58:07</td>\n",
              "      <td>Wednesday</td>\n",
              "    </tr>\n",
              "    <tr>\n",
              "      <td>3</td>\n",
              "      <td>A3DD03C9</td>\n",
              "      <td>Dragons in the Sunset</td>\n",
              "      <td>Fire + Ice</td>\n",
              "      <td>folk</td>\n",
              "      <td>Saint-Petersburg</td>\n",
              "      <td>08:37:09</td>\n",
              "      <td>Monday</td>\n",
              "    </tr>\n",
              "    <tr>\n",
              "      <td>4</td>\n",
              "      <td>E2DC1FAE</td>\n",
              "      <td>Soul People</td>\n",
              "      <td>Space Echo</td>\n",
              "      <td>dance</td>\n",
              "      <td>Moscow</td>\n",
              "      <td>08:34:34</td>\n",
              "      <td>Monday</td>\n",
              "    </tr>\n",
              "    <tr>\n",
              "      <td>5</td>\n",
              "      <td>842029A1</td>\n",
              "      <td>Преданная</td>\n",
              "      <td>IMPERVTOR</td>\n",
              "      <td>rusrap</td>\n",
              "      <td>Saint-Petersburg</td>\n",
              "      <td>13:09:41</td>\n",
              "      <td>Friday</td>\n",
              "    </tr>\n",
              "    <tr>\n",
              "      <td>6</td>\n",
              "      <td>4CB90AA5</td>\n",
              "      <td>True</td>\n",
              "      <td>Roman Messer</td>\n",
              "      <td>dance</td>\n",
              "      <td>Moscow</td>\n",
              "      <td>13:00:07</td>\n",
              "      <td>Wednesday</td>\n",
              "    </tr>\n",
              "    <tr>\n",
              "      <td>7</td>\n",
              "      <td>F03E1C1F</td>\n",
              "      <td>Feeling This Way</td>\n",
              "      <td>Polina Griffith</td>\n",
              "      <td>dance</td>\n",
              "      <td>Moscow</td>\n",
              "      <td>20:47:49</td>\n",
              "      <td>Wednesday</td>\n",
              "    </tr>\n",
              "    <tr>\n",
              "      <td>8</td>\n",
              "      <td>8FA1D3BE</td>\n",
              "      <td>И вновь продолжается бой</td>\n",
              "      <td>NaN</td>\n",
              "      <td>ruspop</td>\n",
              "      <td>Moscow</td>\n",
              "      <td>09:17:40</td>\n",
              "      <td>Friday</td>\n",
              "    </tr>\n",
              "    <tr>\n",
              "      <td>9</td>\n",
              "      <td>E772D5C0</td>\n",
              "      <td>Pessimist</td>\n",
              "      <td>NaN</td>\n",
              "      <td>dance</td>\n",
              "      <td>Saint-Petersburg</td>\n",
              "      <td>21:20:49</td>\n",
              "      <td>Wednesday</td>\n",
              "    </tr>\n",
              "  </tbody>\n",
              "</table>\n",
              "</div>"
            ],
            "text/plain": [
              "     userID                        Track            artist   genre  \\\n",
              "0  FFB692EC            Kamigata To Boots  The Mass Missile    rock   \n",
              "1  55204538  Delayed Because of Accident  Andreas Rönnberg    rock   \n",
              "2    20EC38            Funiculì funiculà       Mario Lanza     pop   \n",
              "3  A3DD03C9        Dragons in the Sunset        Fire + Ice    folk   \n",
              "4  E2DC1FAE                  Soul People        Space Echo   dance   \n",
              "5  842029A1                    Преданная         IMPERVTOR  rusrap   \n",
              "6  4CB90AA5                         True      Roman Messer   dance   \n",
              "7  F03E1C1F             Feeling This Way   Polina Griffith   dance   \n",
              "8  8FA1D3BE     И вновь продолжается бой               NaN  ruspop   \n",
              "9  E772D5C0                    Pessimist               NaN   dance   \n",
              "\n",
              "             City        time        Day  \n",
              "0  Saint-Petersburg  20:28:33  Wednesday  \n",
              "1            Moscow  14:07:09     Friday  \n",
              "2  Saint-Petersburg  20:58:07  Wednesday  \n",
              "3  Saint-Petersburg  08:37:09     Monday  \n",
              "4            Moscow  08:34:34     Monday  \n",
              "5  Saint-Petersburg  13:09:41     Friday  \n",
              "6            Moscow  13:00:07  Wednesday  \n",
              "7            Moscow  20:47:49  Wednesday  \n",
              "8            Moscow  09:17:40     Friday  \n",
              "9  Saint-Petersburg  21:20:49  Wednesday  "
            ]
          },
          "metadata": {},
          "output_type": "display_data"
        }
      ],
      "source": [
        "display(df.head(10)) # получение первых 10 строк таблицы df"
      ]
    },
    {
      "cell_type": "markdown",
      "metadata": {
        "id": "EO73Kwic_Zct"
      },
      "source": [
        "Получим общую информацию о таблице:"
      ]
    },
    {
      "cell_type": "code",
      "execution_count": null,
      "metadata": {
        "id": "DSf2kIb-_Zct",
        "outputId": "200356c7-9f64-4502-a29b-c1238ec04c35"
      },
      "outputs": [
        {
          "name": "stdout",
          "output_type": "stream",
          "text": [
            "<class 'pandas.core.frame.DataFrame'>\n",
            "RangeIndex: 65079 entries, 0 to 65078\n",
            "Data columns (total 7 columns):\n",
            "  userID    65079 non-null object\n",
            "Track       63848 non-null object\n",
            "artist      57876 non-null object\n",
            "genre       63881 non-null object\n",
            "  City      65079 non-null object\n",
            "time        65079 non-null object\n",
            "Day         65079 non-null object\n",
            "dtypes: object(7)\n",
            "memory usage: 3.5+ MB\n"
          ]
        }
      ],
      "source": [
        "df.info() # получение общей информации о данных в таблице df"
      ]
    },
    {
      "cell_type": "markdown",
      "metadata": {
        "id": "TaQ2Iwbr_Zct"
      },
      "source": [
        "Итак, в таблице семь столбцов. Тип данных во всех столбцах — `object`.\n",
        "\n",
        "Согласно документации к данным:\n",
        "* `userID` — идентификатор пользователя;\n",
        "* `Track` — название трека;  \n",
        "* `artist` — имя исполнителя;\n",
        "* `genre` — название жанра;\n",
        "* `City` — город пользователя;\n",
        "* `time` — время начала прослушивания;\n",
        "* `Day` — день недели.\n",
        "\n",
        "В названиях колонок видны три нарушения стиля:\n",
        "1. Строчные буквы сочетаются с прописными.\n",
        "2. Встречаются пробелы.\n",
        "3. Идентификатор пользователя это два слова user и id, тут он написан слитно с прописными буквами в слове ID, необходимо будет перевести в \"змеиный_регистр\" к виду user_id #Найдите ещё одну проблему в названии колонок и опишите её в этом пункте.\n",
        "\n",
        "\n",
        "\n",
        "Количество значений в столбцах различается. Значит, в данных есть пропущенные значения.\n"
      ]
    },
    {
      "cell_type": "markdown",
      "metadata": {
        "id": "MCB6-dXG_Zct"
      },
      "source": [
        "**Выводы**\n",
        "\n",
        "В каждой строке таблицы — данные о прослушанном треке. Часть колонок описывает саму композицию: название, исполнителя и жанр. Остальные данные рассказывают о пользователе: из какого он города, когда он слушал музыку.\n",
        "\n",
        "Предварительно можно утверждать, что, данных достаточно для проверки гипотез. Но встречаются пропуски в данных, а в названиях колонок — расхождения с хорошим стилем.\n",
        "\n",
        "Чтобы двигаться дальше, нужно устранить проблемы в данных."
      ]
    },
    {
      "cell_type": "markdown",
      "metadata": {
        "id": "SjYF6Ub9_Zct"
      },
      "source": [
        "## Предобработка данных\n",
        "Исправим стиль в заголовках столбцов, исключим пропуски. Затем проверим данные на дубликаты."
      ]
    },
    {
      "cell_type": "markdown",
      "metadata": {
        "id": "dIaKXr29_Zct"
      },
      "source": [
        "### Стиль заголовков\n",
        "Выведем на экран названия столбцов:"
      ]
    },
    {
      "cell_type": "code",
      "execution_count": null,
      "metadata": {
        "id": "oKOTdF_Q_Zct",
        "outputId": "e917bb47-e6e9-4ca3-fcfa-4f96ef35d287"
      },
      "outputs": [
        {
          "data": {
            "text/plain": [
              "Index(['  userID', 'Track', 'artist', 'genre', '  City  ', 'time', 'Day'], dtype='object')"
            ]
          },
          "metadata": {},
          "output_type": "display_data"
        }
      ],
      "source": [
        "display(df.columns) # перечень названий столбцов таблицы df"
      ]
    },
    {
      "cell_type": "markdown",
      "metadata": {
        "id": "zj5534cv_Zct"
      },
      "source": [
        "Приведем названия в соответствие с хорошим стилем:\n",
        "* несколько слов в названии запишем в «змеином_регистре»,\n",
        "* все символы сделаем строчными,\n",
        "* устраним пробелы.\n",
        "\n",
        "Для этого переименуем колонки так:\n",
        "* `'  userID'` → `'user_id'`;\n",
        "* `'Track'` → `'track'`;\n",
        "* `'  City  '` → `'city'`;\n",
        "* `'Day'` → `'day'`."
      ]
    },
    {
      "cell_type": "code",
      "execution_count": null,
      "metadata": {
        "id": "ISlFqs5y_Zct"
      },
      "outputs": [],
      "source": [
        "# переименование столбцов\n",
        "df = df.rename(columns = {\n",
        "    '  userID':'user_id',\n",
        "    'Track':'track',\n",
        "    '  City  ':'city',\n",
        "    'Day':'day'})"
      ]
    },
    {
      "cell_type": "markdown",
      "metadata": {
        "id": "1dqbh00J_Zct"
      },
      "source": [
        "Проверим результат. Для этого ещё раз выведем на экран названия столбцов:"
      ]
    },
    {
      "cell_type": "code",
      "execution_count": null,
      "metadata": {
        "id": "d4NOAmTW_Zct",
        "outputId": "1ff7ed23-61b9-469c-d564-df36e9e3b85c"
      },
      "outputs": [
        {
          "data": {
            "text/plain": [
              "Index(['user_id', 'track', 'artist', 'genre', 'city', 'time', 'day'], dtype='object')"
            ]
          },
          "metadata": {},
          "output_type": "display_data"
        }
      ],
      "source": [
        "display(df.columns) # проверка результатов - перечень названий столбцов"
      ]
    },
    {
      "cell_type": "markdown",
      "metadata": {
        "id": "5ISfbcfY_Zct"
      },
      "source": [
        "### Пропуски значений\n",
        "Сначала посчитаем, сколько в таблице пропущенных значений. Для этого достаточно двух методов `pandas`:"
      ]
    },
    {
      "cell_type": "code",
      "execution_count": null,
      "metadata": {
        "id": "RskX29qr_Zct",
        "outputId": "e88e6862-2403-4d4e-9016-5faf96280410"
      },
      "outputs": [
        {
          "data": {
            "text/plain": [
              "user_id       0\n",
              "track      1231\n",
              "artist     7203\n",
              "genre      1198\n",
              "city          0\n",
              "time          0\n",
              "day           0\n",
              "dtype: int64"
            ]
          },
          "metadata": {},
          "output_type": "display_data"
        }
      ],
      "source": [
        "display(df.isna().sum()) # подсчёт пропусков"
      ]
    },
    {
      "cell_type": "markdown",
      "metadata": {
        "id": "qubhgnlO_Zct"
      },
      "source": [
        "Не все пропущенные значения влияют на исследование. Так в `track` и `artist` пропуски не важны для вашей работы. Достаточно заменить их явными обозначениями.\n",
        "\n",
        "Но пропуски в `genre` могут помешать сравнению музыкальных вкусов в Москве и Санкт-Петербурге. На практике было бы правильно установить причину пропусков и восстановить данные. Такой возможности нет в учебном проекте. Придётся:\n",
        "* заполнить и эти пропуски явными обозначениями,\n",
        "* оценить, насколько они повредят расчётам."
      ]
    },
    {
      "cell_type": "markdown",
      "metadata": {
        "id": "fSv2laPA_Zct"
      },
      "source": [
        "Заменим пропущенные значения в столбцах `track`, `artist` и `genre` на строку `'unknown'`. Для этого создадим список `columns_to_replace`, переберем его элементы циклом `for` и для каждого столбца выполним замену пропущенных значений:"
      ]
    },
    {
      "cell_type": "code",
      "execution_count": null,
      "metadata": {
        "id": "KplB5qWs_Zct"
      },
      "outputs": [],
      "source": [
        "columns_to_replace = ['track', 'artist', 'genre'] # перебор названий столбцов в цикле и замена пропущенных значений на 'unknown'\n",
        "for column in columns_to_replace:\n",
        "    df[column] = df[column].fillna('unknown')"
      ]
    },
    {
      "cell_type": "markdown",
      "metadata": {
        "id": "Ilsm-MZo_Zct"
      },
      "source": [
        "Убедимся, что в таблице не осталось пропусков. Для этого ещё раз посчитаем пропущенные значения."
      ]
    },
    {
      "cell_type": "code",
      "execution_count": null,
      "metadata": {
        "id": "Tq4nYRX4_Zct",
        "scrolled": true,
        "outputId": "22b8895c-a146-44e2-9108-f2ed6dd2eb7e"
      },
      "outputs": [
        {
          "data": {
            "text/plain": [
              "user_id    0\n",
              "track      0\n",
              "artist     0\n",
              "genre      0\n",
              "city       0\n",
              "time       0\n",
              "day        0\n",
              "dtype: int64"
            ]
          },
          "metadata": {},
          "output_type": "display_data"
        }
      ],
      "source": [
        "display(df.isna().sum()) # подсчёт пропусков"
      ]
    },
    {
      "cell_type": "markdown",
      "metadata": {
        "id": "BWKRtBJ3_Zct"
      },
      "source": [
        "### Дубликаты\n",
        "Посчитаем явные дубликаты в таблице одной командой:"
      ]
    },
    {
      "cell_type": "code",
      "execution_count": null,
      "metadata": {
        "id": "36eES_S0_Zct",
        "outputId": "ca783174-7734-49b6-a70e-f69e84167b2b"
      },
      "outputs": [
        {
          "data": {
            "text/plain": [
              "3826"
            ]
          },
          "metadata": {},
          "output_type": "display_data"
        }
      ],
      "source": [
        "display(df.duplicated().sum())# подсчёт явных дубликатов"
      ]
    },
    {
      "cell_type": "markdown",
      "metadata": {
        "id": "Ot25h6XR_Zct"
      },
      "source": [
        "Вызовем специальный метод `pandas`, чтобы удалить явные дубликаты:"
      ]
    },
    {
      "cell_type": "code",
      "execution_count": null,
      "metadata": {
        "id": "exFHq6tt_Zct"
      },
      "outputs": [],
      "source": [
        "df = df.drop_duplicates() # удаление явных дубликатов (с удалением старых индексов и формированием новых)"
      ]
    },
    {
      "cell_type": "markdown",
      "metadata": {
        "id": "Im2YwBEG_Zct"
      },
      "source": [
        "Ещё раз посчитаем явные дубликаты в таблице — убедимся, что полностью от них избавились:"
      ]
    },
    {
      "cell_type": "code",
      "execution_count": null,
      "metadata": {
        "id": "-8PuNWQ0_Zct",
        "outputId": "622bc5d0-f176-4e0b-d857-daafd12c8c9c"
      },
      "outputs": [
        {
          "data": {
            "text/plain": [
              "0"
            ]
          },
          "metadata": {},
          "output_type": "display_data"
        }
      ],
      "source": [
        "display(df.duplicated().sum()) # проверка на отсутствие дубликатов"
      ]
    },
    {
      "cell_type": "markdown",
      "metadata": {
        "id": "QlFBsxAr_Zct"
      },
      "source": [
        "Теперь избавимся от неявных дубликатов в колонке `genre`. Например, название одного и того же жанра может быть записано немного по-разному. Такие ошибки тоже повлияют на результат исследования."
      ]
    },
    {
      "cell_type": "markdown",
      "metadata": {
        "id": "eSjWwsOh_Zct"
      },
      "source": [
        "Выведем на экран список уникальных названий жанров, отсортированный в алфавитном порядке. Для этого:\n",
        "* извлечем нужный столбец датафрейма,\n",
        "* применим к нему метод сортировки,\n",
        "* для отсортированного столбца вызовем метод, который вернёт уникальные значения из столбца."
      ]
    },
    {
      "cell_type": "code",
      "execution_count": null,
      "metadata": {
        "id": "JIUcqzZN_Zct",
        "outputId": "b91a6b3c-4baf-413d-c49c-2d0252b6abb9"
      },
      "outputs": [
        {
          "data": {
            "text/plain": [
              "['acid',\n",
              " 'acoustic',\n",
              " 'action',\n",
              " 'adult',\n",
              " 'africa',\n",
              " 'afrikaans',\n",
              " 'alternative',\n",
              " 'alternativepunk',\n",
              " 'ambient',\n",
              " 'americana',\n",
              " 'animated',\n",
              " 'anime',\n",
              " 'arabesk',\n",
              " 'arabic',\n",
              " 'arena',\n",
              " 'argentinetango',\n",
              " 'art',\n",
              " 'audiobook',\n",
              " 'author',\n",
              " 'avantgarde',\n",
              " 'axé',\n",
              " 'baile',\n",
              " 'balkan',\n",
              " 'beats',\n",
              " 'bigroom',\n",
              " 'black',\n",
              " 'bluegrass',\n",
              " 'blues',\n",
              " 'bollywood',\n",
              " 'bossa',\n",
              " 'brazilian',\n",
              " 'breakbeat',\n",
              " 'breaks',\n",
              " 'broadway',\n",
              " 'cantautori',\n",
              " 'cantopop',\n",
              " 'canzone',\n",
              " 'caribbean',\n",
              " 'caucasian',\n",
              " 'celtic',\n",
              " 'chamber',\n",
              " 'chanson',\n",
              " 'children',\n",
              " 'chill',\n",
              " 'chinese',\n",
              " 'choral',\n",
              " 'christian',\n",
              " 'christmas',\n",
              " 'classical',\n",
              " 'classicmetal',\n",
              " 'club',\n",
              " 'colombian',\n",
              " 'comedy',\n",
              " 'conjazz',\n",
              " 'contemporary',\n",
              " 'country',\n",
              " 'cuban',\n",
              " 'dance',\n",
              " 'dancehall',\n",
              " 'dancepop',\n",
              " 'dark',\n",
              " 'death',\n",
              " 'deep',\n",
              " 'deutschrock',\n",
              " 'deutschspr',\n",
              " 'dirty',\n",
              " 'disco',\n",
              " 'dnb',\n",
              " 'documentary',\n",
              " 'downbeat',\n",
              " 'downtempo',\n",
              " 'drum',\n",
              " 'dub',\n",
              " 'dubstep',\n",
              " 'eastern',\n",
              " 'easy',\n",
              " 'electronic',\n",
              " 'electropop',\n",
              " 'emo',\n",
              " 'entehno',\n",
              " 'epicmetal',\n",
              " 'estrada',\n",
              " 'ethnic',\n",
              " 'eurofolk',\n",
              " 'european',\n",
              " 'experimental',\n",
              " 'extrememetal',\n",
              " 'fado',\n",
              " 'fairytail',\n",
              " 'film',\n",
              " 'fitness',\n",
              " 'flamenco',\n",
              " 'folk',\n",
              " 'folklore',\n",
              " 'folkmetal',\n",
              " 'folkrock',\n",
              " 'folktronica',\n",
              " 'forró',\n",
              " 'frankreich',\n",
              " 'französisch',\n",
              " 'french',\n",
              " 'funk',\n",
              " 'future',\n",
              " 'gangsta',\n",
              " 'garage',\n",
              " 'german',\n",
              " 'ghazal',\n",
              " 'gitarre',\n",
              " 'glitch',\n",
              " 'gospel',\n",
              " 'gothic',\n",
              " 'grime',\n",
              " 'grunge',\n",
              " 'gypsy',\n",
              " 'handsup',\n",
              " \"hard'n'heavy\",\n",
              " 'hardcore',\n",
              " 'hardstyle',\n",
              " 'hardtechno',\n",
              " 'hip',\n",
              " 'hip-hop',\n",
              " 'hiphop',\n",
              " 'historisch',\n",
              " 'holiday',\n",
              " 'hop',\n",
              " 'horror',\n",
              " 'house',\n",
              " 'hymn',\n",
              " 'idm',\n",
              " 'independent',\n",
              " 'indian',\n",
              " 'indie',\n",
              " 'indipop',\n",
              " 'industrial',\n",
              " 'inspirational',\n",
              " 'instrumental',\n",
              " 'international',\n",
              " 'irish',\n",
              " 'jam',\n",
              " 'japanese',\n",
              " 'jazz',\n",
              " 'jewish',\n",
              " 'jpop',\n",
              " 'jungle',\n",
              " 'k-pop',\n",
              " 'karadeniz',\n",
              " 'karaoke',\n",
              " 'kayokyoku',\n",
              " 'korean',\n",
              " 'laiko',\n",
              " 'latin',\n",
              " 'latino',\n",
              " 'leftfield',\n",
              " 'local',\n",
              " 'lounge',\n",
              " 'loungeelectronic',\n",
              " 'lovers',\n",
              " 'malaysian',\n",
              " 'mandopop',\n",
              " 'marschmusik',\n",
              " 'meditative',\n",
              " 'mediterranean',\n",
              " 'melodic',\n",
              " 'metal',\n",
              " 'metalcore',\n",
              " 'mexican',\n",
              " 'middle',\n",
              " 'minimal',\n",
              " 'miscellaneous',\n",
              " 'modern',\n",
              " 'mood',\n",
              " 'mpb',\n",
              " 'muslim',\n",
              " 'native',\n",
              " 'neoklassik',\n",
              " 'neue',\n",
              " 'new',\n",
              " 'newage',\n",
              " 'newwave',\n",
              " 'nu',\n",
              " 'nujazz',\n",
              " 'numetal',\n",
              " 'oceania',\n",
              " 'old',\n",
              " 'opera',\n",
              " 'orchestral',\n",
              " 'other',\n",
              " 'piano',\n",
              " 'podcasts',\n",
              " 'pop',\n",
              " 'popdance',\n",
              " 'popelectronic',\n",
              " 'popeurodance',\n",
              " 'poprussian',\n",
              " 'post',\n",
              " 'posthardcore',\n",
              " 'postrock',\n",
              " 'power',\n",
              " 'progmetal',\n",
              " 'progressive',\n",
              " 'psychedelic',\n",
              " 'punjabi',\n",
              " 'punk',\n",
              " 'quebecois',\n",
              " 'ragga',\n",
              " 'ram',\n",
              " 'rancheras',\n",
              " 'rap',\n",
              " 'rave',\n",
              " 'reggae',\n",
              " 'reggaeton',\n",
              " 'regional',\n",
              " 'relax',\n",
              " 'religious',\n",
              " 'retro',\n",
              " 'rhythm',\n",
              " 'rnb',\n",
              " 'rnr',\n",
              " 'rock',\n",
              " 'rockabilly',\n",
              " 'rockalternative',\n",
              " 'rockindie',\n",
              " 'rockother',\n",
              " 'romance',\n",
              " 'roots',\n",
              " 'ruspop',\n",
              " 'rusrap',\n",
              " 'rusrock',\n",
              " 'russian',\n",
              " 'salsa',\n",
              " 'samba',\n",
              " 'scenic',\n",
              " 'schlager',\n",
              " 'self',\n",
              " 'sertanejo',\n",
              " 'shanson',\n",
              " 'shoegazing',\n",
              " 'showtunes',\n",
              " 'singer',\n",
              " 'ska',\n",
              " 'skarock',\n",
              " 'slow',\n",
              " 'smooth',\n",
              " 'soft',\n",
              " 'soul',\n",
              " 'soulful',\n",
              " 'sound',\n",
              " 'soundtrack',\n",
              " 'southern',\n",
              " 'specialty',\n",
              " 'speech',\n",
              " 'spiritual',\n",
              " 'sport',\n",
              " 'stonerrock',\n",
              " 'surf',\n",
              " 'swing',\n",
              " 'synthpop',\n",
              " 'synthrock',\n",
              " 'sängerportrait',\n",
              " 'tango',\n",
              " 'tanzorchester',\n",
              " 'taraftar',\n",
              " 'tatar',\n",
              " 'tech',\n",
              " 'techno',\n",
              " 'teen',\n",
              " 'thrash',\n",
              " 'top',\n",
              " 'traditional',\n",
              " 'tradjazz',\n",
              " 'trance',\n",
              " 'tribal',\n",
              " 'trip',\n",
              " 'triphop',\n",
              " 'tropical',\n",
              " 'türk',\n",
              " 'türkçe',\n",
              " 'ukrrock',\n",
              " 'unknown',\n",
              " 'urban',\n",
              " 'uzbek',\n",
              " 'variété',\n",
              " 'vi',\n",
              " 'videogame',\n",
              " 'vocal',\n",
              " 'western',\n",
              " 'world',\n",
              " 'worldbeat',\n",
              " 'ïîï',\n",
              " 'электроника']"
            ]
          },
          "metadata": {},
          "output_type": "display_data"
        }
      ],
      "source": [
        "display(sorted(df['genre'].unique())) # Просмотр уникальных названий жанров"
      ]
    },
    {
      "cell_type": "raw",
      "metadata": {
        "id": "u5QCVD0Hhgcx"
      },
      "source": [
        "Обнаружилось странное написание жанра 'ïîï', выведем значение посмотреть как часто встречается, единичная ли это запись или это жанр с множеством записей в таблице.\n"
      ]
    },
    {
      "cell_type": "code",
      "execution_count": null,
      "metadata": {
        "id": "QiFEGtW2hgcx",
        "outputId": "346f32c6-f3df-4f4d-fa80-3622bd0e9c70"
      },
      "outputs": [
        {
          "data": {
            "text/plain": [
              "genre\n",
              "acid              1\n",
              "acoustic          5\n",
              "action            4\n",
              "adult            24\n",
              "africa           16\n",
              "               ... \n",
              "western          97\n",
              "world          1947\n",
              "worldbeat         2\n",
              "ïîï               1\n",
              "электроника       1\n",
              "Name: genre, Length: 290, dtype: int64"
            ]
          },
          "metadata": {},
          "output_type": "display_data"
        }
      ],
      "source": [
        "display(df.groupby('genre')['genre'].count()) #"
      ]
    },
    {
      "cell_type": "markdown",
      "metadata": {
        "id": "qej-Qmuo_Zct"
      },
      "source": [
        "Просмотрим список и найдем неявные дубликаты названия `hiphop`. Это могут быть названия с ошибками или альтернативные названия того же жанра.\n",
        "\n",
        "Мы увидели следующие неявные дубликаты:\n",
        "* *hip*,\n",
        "* *hop*,\n",
        "* *hip-hop*.\n",
        "\n",
        "+ так же обнаружились дубликаты написаннные латиницей и кириллицей: 'electronic' -> 'электроника', и еще в не понятной кодировке \"'ïîï' - что тоже может быть дубликатом какого-то жанра написанного латиницей из 3-х символов. Считаю что 'ïîï' можно принебречь.\n",
        "\n",
        "\n",
        "Чтобы очистить от них таблицу, напишем функцию `replace_wrong_genres()` с двумя параметрами:\n",
        "* `wrong_genres` — список дубликатов,\n",
        "* `correct_genre` — строка с правильным значением.\n",
        "\n",
        "Функция должна исправить колонку `genre` в таблице `df`: заменить каждое значение из списка `wrong_genres` на значение из `correct_genre`."
      ]
    },
    {
      "cell_type": "code",
      "execution_count": null,
      "metadata": {
        "id": "ErNDkmns_Zct"
      },
      "outputs": [],
      "source": [
        "def replace_wrong_genres(wrong_genres, correct_genre): # Функция для замены неявных дубликатов\n",
        "    for wrong_genre in wrong_genres:\n",
        "        df['genre'] = df['genre'].replace(wrong_genre, correct_genre)\n",
        "\n",
        "wrong_genres = ['hip', 'hop', 'hip-hop']\n",
        "correct_genre = 'hiphop'\n",
        "\n",
        "#устраним кирилическое написание 'электроника' приведем к виду --> 'electronic'\n",
        "wrong_genres_el = ['электроника']\n",
        "correct_genre_el = 'electronic'"
      ]
    },
    {
      "cell_type": "markdown",
      "metadata": {
        "id": "aDoBJxbA_Zct"
      },
      "source": [
        "Вызовем `replace_wrong_genres()` и передадим ей такие аргументы, чтобы она устранила неявные дубликаты: вместо `hip`, `hop` и `hip-hop` в таблице должно быть значение `hiphop`:"
      ]
    },
    {
      "cell_type": "code",
      "execution_count": null,
      "metadata": {
        "id": "YN5i2hpmSo09"
      },
      "outputs": [],
      "source": [
        "replace_wrong_genres(wrong_genres, correct_genre) # Устранение неявных дубликатов\n",
        "replace_wrong_genres(wrong_genres_el, correct_genre_el) # Устранение неявных дубликатов"
      ]
    },
    {
      "cell_type": "markdown",
      "metadata": {
        "id": "zQKF16_RG15m"
      },
      "source": [
        "Проверим, что заменили неправильные названия:\n",
        "\n",
        "*   hip\n",
        "*   hop\n",
        "*   hip-hop\n",
        "\n",
        "Выведем отсортированный список уникальных значений столбца `genre`:"
      ]
    },
    {
      "cell_type": "code",
      "execution_count": null,
      "metadata": {
        "id": "wvixALnFG15m",
        "outputId": "7fd05db9-b079-44a8-a6ec-fcb30b623af6"
      },
      "outputs": [
        {
          "data": {
            "text/plain": [
              "['acid',\n",
              " 'acoustic',\n",
              " 'action',\n",
              " 'adult',\n",
              " 'africa',\n",
              " 'afrikaans',\n",
              " 'alternative',\n",
              " 'alternativepunk',\n",
              " 'ambient',\n",
              " 'americana',\n",
              " 'animated',\n",
              " 'anime',\n",
              " 'arabesk',\n",
              " 'arabic',\n",
              " 'arena',\n",
              " 'argentinetango',\n",
              " 'art',\n",
              " 'audiobook',\n",
              " 'author',\n",
              " 'avantgarde',\n",
              " 'axé',\n",
              " 'baile',\n",
              " 'balkan',\n",
              " 'beats',\n",
              " 'bigroom',\n",
              " 'black',\n",
              " 'bluegrass',\n",
              " 'blues',\n",
              " 'bollywood',\n",
              " 'bossa',\n",
              " 'brazilian',\n",
              " 'breakbeat',\n",
              " 'breaks',\n",
              " 'broadway',\n",
              " 'cantautori',\n",
              " 'cantopop',\n",
              " 'canzone',\n",
              " 'caribbean',\n",
              " 'caucasian',\n",
              " 'celtic',\n",
              " 'chamber',\n",
              " 'chanson',\n",
              " 'children',\n",
              " 'chill',\n",
              " 'chinese',\n",
              " 'choral',\n",
              " 'christian',\n",
              " 'christmas',\n",
              " 'classical',\n",
              " 'classicmetal',\n",
              " 'club',\n",
              " 'colombian',\n",
              " 'comedy',\n",
              " 'conjazz',\n",
              " 'contemporary',\n",
              " 'country',\n",
              " 'cuban',\n",
              " 'dance',\n",
              " 'dancehall',\n",
              " 'dancepop',\n",
              " 'dark',\n",
              " 'death',\n",
              " 'deep',\n",
              " 'deutschrock',\n",
              " 'deutschspr',\n",
              " 'dirty',\n",
              " 'disco',\n",
              " 'dnb',\n",
              " 'documentary',\n",
              " 'downbeat',\n",
              " 'downtempo',\n",
              " 'drum',\n",
              " 'dub',\n",
              " 'dubstep',\n",
              " 'eastern',\n",
              " 'easy',\n",
              " 'electronic',\n",
              " 'electropop',\n",
              " 'emo',\n",
              " 'entehno',\n",
              " 'epicmetal',\n",
              " 'estrada',\n",
              " 'ethnic',\n",
              " 'eurofolk',\n",
              " 'european',\n",
              " 'experimental',\n",
              " 'extrememetal',\n",
              " 'fado',\n",
              " 'fairytail',\n",
              " 'film',\n",
              " 'fitness',\n",
              " 'flamenco',\n",
              " 'folk',\n",
              " 'folklore',\n",
              " 'folkmetal',\n",
              " 'folkrock',\n",
              " 'folktronica',\n",
              " 'forró',\n",
              " 'frankreich',\n",
              " 'französisch',\n",
              " 'french',\n",
              " 'funk',\n",
              " 'future',\n",
              " 'gangsta',\n",
              " 'garage',\n",
              " 'german',\n",
              " 'ghazal',\n",
              " 'gitarre',\n",
              " 'glitch',\n",
              " 'gospel',\n",
              " 'gothic',\n",
              " 'grime',\n",
              " 'grunge',\n",
              " 'gypsy',\n",
              " 'handsup',\n",
              " \"hard'n'heavy\",\n",
              " 'hardcore',\n",
              " 'hardstyle',\n",
              " 'hardtechno',\n",
              " 'hiphop',\n",
              " 'historisch',\n",
              " 'holiday',\n",
              " 'horror',\n",
              " 'house',\n",
              " 'hymn',\n",
              " 'idm',\n",
              " 'independent',\n",
              " 'indian',\n",
              " 'indie',\n",
              " 'indipop',\n",
              " 'industrial',\n",
              " 'inspirational',\n",
              " 'instrumental',\n",
              " 'international',\n",
              " 'irish',\n",
              " 'jam',\n",
              " 'japanese',\n",
              " 'jazz',\n",
              " 'jewish',\n",
              " 'jpop',\n",
              " 'jungle',\n",
              " 'k-pop',\n",
              " 'karadeniz',\n",
              " 'karaoke',\n",
              " 'kayokyoku',\n",
              " 'korean',\n",
              " 'laiko',\n",
              " 'latin',\n",
              " 'latino',\n",
              " 'leftfield',\n",
              " 'local',\n",
              " 'lounge',\n",
              " 'loungeelectronic',\n",
              " 'lovers',\n",
              " 'malaysian',\n",
              " 'mandopop',\n",
              " 'marschmusik',\n",
              " 'meditative',\n",
              " 'mediterranean',\n",
              " 'melodic',\n",
              " 'metal',\n",
              " 'metalcore',\n",
              " 'mexican',\n",
              " 'middle',\n",
              " 'minimal',\n",
              " 'miscellaneous',\n",
              " 'modern',\n",
              " 'mood',\n",
              " 'mpb',\n",
              " 'muslim',\n",
              " 'native',\n",
              " 'neoklassik',\n",
              " 'neue',\n",
              " 'new',\n",
              " 'newage',\n",
              " 'newwave',\n",
              " 'nu',\n",
              " 'nujazz',\n",
              " 'numetal',\n",
              " 'oceania',\n",
              " 'old',\n",
              " 'opera',\n",
              " 'orchestral',\n",
              " 'other',\n",
              " 'piano',\n",
              " 'podcasts',\n",
              " 'pop',\n",
              " 'popdance',\n",
              " 'popelectronic',\n",
              " 'popeurodance',\n",
              " 'poprussian',\n",
              " 'post',\n",
              " 'posthardcore',\n",
              " 'postrock',\n",
              " 'power',\n",
              " 'progmetal',\n",
              " 'progressive',\n",
              " 'psychedelic',\n",
              " 'punjabi',\n",
              " 'punk',\n",
              " 'quebecois',\n",
              " 'ragga',\n",
              " 'ram',\n",
              " 'rancheras',\n",
              " 'rap',\n",
              " 'rave',\n",
              " 'reggae',\n",
              " 'reggaeton',\n",
              " 'regional',\n",
              " 'relax',\n",
              " 'religious',\n",
              " 'retro',\n",
              " 'rhythm',\n",
              " 'rnb',\n",
              " 'rnr',\n",
              " 'rock',\n",
              " 'rockabilly',\n",
              " 'rockalternative',\n",
              " 'rockindie',\n",
              " 'rockother',\n",
              " 'romance',\n",
              " 'roots',\n",
              " 'ruspop',\n",
              " 'rusrap',\n",
              " 'rusrock',\n",
              " 'russian',\n",
              " 'salsa',\n",
              " 'samba',\n",
              " 'scenic',\n",
              " 'schlager',\n",
              " 'self',\n",
              " 'sertanejo',\n",
              " 'shanson',\n",
              " 'shoegazing',\n",
              " 'showtunes',\n",
              " 'singer',\n",
              " 'ska',\n",
              " 'skarock',\n",
              " 'slow',\n",
              " 'smooth',\n",
              " 'soft',\n",
              " 'soul',\n",
              " 'soulful',\n",
              " 'sound',\n",
              " 'soundtrack',\n",
              " 'southern',\n",
              " 'specialty',\n",
              " 'speech',\n",
              " 'spiritual',\n",
              " 'sport',\n",
              " 'stonerrock',\n",
              " 'surf',\n",
              " 'swing',\n",
              " 'synthpop',\n",
              " 'synthrock',\n",
              " 'sängerportrait',\n",
              " 'tango',\n",
              " 'tanzorchester',\n",
              " 'taraftar',\n",
              " 'tatar',\n",
              " 'tech',\n",
              " 'techno',\n",
              " 'teen',\n",
              " 'thrash',\n",
              " 'top',\n",
              " 'traditional',\n",
              " 'tradjazz',\n",
              " 'trance',\n",
              " 'tribal',\n",
              " 'trip',\n",
              " 'triphop',\n",
              " 'tropical',\n",
              " 'türk',\n",
              " 'türkçe',\n",
              " 'ukrrock',\n",
              " 'unknown',\n",
              " 'urban',\n",
              " 'uzbek',\n",
              " 'variété',\n",
              " 'vi',\n",
              " 'videogame',\n",
              " 'vocal',\n",
              " 'western',\n",
              " 'world',\n",
              " 'worldbeat',\n",
              " 'ïîï']"
            ]
          },
          "metadata": {},
          "output_type": "display_data"
        }
      ],
      "source": [
        "display(sorted(df['genre'].unique())) # Проверка на неявные дубликаты"
      ]
    },
    {
      "cell_type": "markdown",
      "metadata": {
        "id": "jz6a9-7HQUDd"
      },
      "source": [
        "**Выводы**\n",
        "\n",
        "Предобработка обнаружила три проблемы в данных:\n",
        "\n",
        "- нарушения в стиле заголовков,\n",
        "- пропущенные значения,\n",
        "- дубликаты — явные и неявные.\n",
        "\n",
        "Мы исправили заголовки, чтобы упростить работу с таблицей. Без дубликатов исследование станет более точным.\n",
        "\n",
        "Пропущенные значения мы заменили на `'unknown'`. Ещё предстоит увидеть, не повредят ли исследованию пропуски в колонке `genre`.\n",
        "\n",
        "Теперь можно перейти к проверке гипотез."
      ]
    },
    {
      "cell_type": "markdown",
      "metadata": {
        "id": "WttZHXH0SqKk"
      },
      "source": [
        "## Проверка гипотез"
      ]
    },
    {
      "cell_type": "markdown",
      "metadata": {
        "id": "Im936VVi_Zcu"
      },
      "source": [
        "### Сравнение поведения пользователей двух столиц"
      ]
    },
    {
      "cell_type": "markdown",
      "metadata": {
        "id": "nwt_MuaL_Zcu"
      },
      "source": [
        "Первая гипотеза утверждает, что пользователи по-разному слушают музыку в Москве и Санкт-Петербурге. Проверим это предположение по данным о трёх днях недели — понедельнике, среде и пятнице. Для этого:\n",
        "\n",
        "* Разделим пользователей Москвы и Санкт-Петербурга\n",
        "* Сравним, сколько треков послушала каждая группа пользователей в понедельник, среду и пятницу.\n"
      ]
    },
    {
      "cell_type": "markdown",
      "metadata": {
        "id": "8Dw_YMmT_Zcu"
      },
      "source": [
        "Для тренировки сначала выполним каждый из расчётов по отдельности.\n",
        "\n",
        "Оценим активность пользователей в каждом городе. Сгруппируем данные по городу и посчитаем прослушивания в каждой группе.\n",
        "\n"
      ]
    },
    {
      "cell_type": "code",
      "execution_count": null,
      "metadata": {
        "id": "0_Qs96oh_Zcu",
        "scrolled": true,
        "outputId": "83c4e776-a421-436c-f5c2-3d101e7e1d66"
      },
      "outputs": [
        {
          "data": {
            "text/plain": [
              "city\n",
              "Moscow              42741\n",
              "Saint-Petersburg    18512\n",
              "Name: time, dtype: int64"
            ]
          },
          "execution_count": 67,
          "metadata": {},
          "output_type": "execute_result"
        }
      ],
      "source": [
        "df.groupby('city')['time'].count() # Подсчёт прослушиваний в каждом городе"
      ]
    },
    {
      "cell_type": "markdown",
      "metadata": {
        "id": "dzli3w8o_Zcu"
      },
      "source": [
        "В Москве прослушиваний больше, чем в Петербурге. Из этого не следует, что московские пользователи чаще слушают музыку. Просто самих пользователей в Москве больше.\n",
        "\n",
        "Теперь сгруппируем данные по дню недели и подсчитаем прослушивания в понедельник, среду и пятницу. Учтем, что в данных есть информация только о прослушиваниях только за эти дни.\n"
      ]
    },
    {
      "cell_type": "code",
      "execution_count": null,
      "metadata": {
        "id": "uZMKjiJz_Zcu",
        "outputId": "64741c18-9b3d-4406-ad9e-70d05afdf256"
      },
      "outputs": [
        {
          "data": {
            "text/plain": [
              "day\n",
              "Friday       21840\n",
              "Monday       21354\n",
              "Wednesday    18059\n",
              "Name: time, dtype: int64"
            ]
          },
          "execution_count": 68,
          "metadata": {},
          "output_type": "execute_result"
        }
      ],
      "source": [
        "df.groupby('day')['time'].count() # Подсчёт прослушиваний в каждый из трёх дней"
      ]
    },
    {
      "cell_type": "markdown",
      "metadata": {
        "id": "cC2tNrlL_Zcu"
      },
      "source": [
        "В среднем пользователи из двух городов менее активны по средам. Но картина может измениться, если рассмотреть каждый город в отдельности."
      ]
    },
    {
      "cell_type": "markdown",
      "metadata": {
        "id": "POzs8bGa_Zcu"
      },
      "source": [
        "Мы видим, как работает группировка по городу и по дням недели. Теперь напишем функцию, которая объединит два эти расчёта.\n",
        "\n",
        "Создади функцию `number_tracks()`, которая посчитает прослушивания для заданного дня и города. Ей понадобятся два параметра:\n",
        "* день недели,\n",
        "* название города.\n",
        "\n",
        "В функции сохраним в переменную строки исходной таблицы, у которых значение:\n",
        "  * в колонке `day` равно параметру `day`,\n",
        "  * в колонке `city` равно параметру `city`.\n",
        "\n",
        "Для этого применим последовательную фильтрацию с логической индексацией.\n",
        "\n",
        "Затем посчитаем значения в столбце `user_id` получившейся таблицы. Результат сохраним в новую переменную. Вернем эту переменную из функции."
      ]
    },
    {
      "cell_type": "code",
      "execution_count": null,
      "metadata": {
        "id": "Nz3GdQB1_Zcu"
      },
      "outputs": [],
      "source": [
        "# <создание функции number_tracks()>\n",
        "def number_tracks(day, city): # Объявляется функция с двумя параметрами: day, city.\n",
        "    track_list = df[df['day'] == day] # В переменной track_list сохраняются те строки таблицы df, для которых\n",
        "                                      # значение в столбце 'day' равно параметру day и одновременно значение\n",
        "    track_list = track_list[track_list['city'] == city] # в столбце 'city' равно параметру city (используйте последовательную фильтрацию\n",
        "# с помощью логической индексации).\n",
        "    track_list_count = track_list['user_id'].count() # В переменной track_list_count сохраняется число значений столбца 'user_id',\n",
        "                                                   # рассчитанное методом count() для таблицы track_list.\n",
        "    return track_list_count # Функция возвращает число - значение track_list_count.\n",
        "\n",
        "# Функция для подсчёта прослушиваний для конкретного города и дня.\n",
        "# С помощью последовательной фильтрации с логической индексацией она\n",
        "# сначала получит из исходной таблицы строки с нужным днём,\n",
        "# затем из результата отфильтрует строки с нужным городом,\n",
        "# методом count() посчитает количество значений в колонке user_id.\n",
        "# Это количество функция вернёт в качестве результата"
      ]
    },
    {
      "cell_type": "markdown",
      "metadata": {
        "id": "ytf7xFrFJQ2r"
      },
      "source": [
        "Вызовем `number_tracks()` шесть раз, меняя значение параметров — так, чтобы получить данные для каждого города в каждый из трёх дней."
      ]
    },
    {
      "cell_type": "code",
      "execution_count": null,
      "metadata": {
        "id": "rJcRATNQ_Zcu",
        "outputId": "d063933f-1a44-4927-b66c-ca04d2ace7d0"
      },
      "outputs": [
        {
          "data": {
            "text/plain": [
              "15740"
            ]
          },
          "execution_count": 70,
          "metadata": {},
          "output_type": "execute_result"
        }
      ],
      "source": [
        "number_tracks('Monday', 'Moscow') # количество прослушиваний в Москве по понедельникам"
      ]
    },
    {
      "cell_type": "code",
      "execution_count": null,
      "metadata": {
        "id": "hq_ncZ5T_Zcu",
        "outputId": "f4d090de-0bb2-4a6c-db99-4e0b53b52486"
      },
      "outputs": [
        {
          "data": {
            "text/plain": [
              "5614"
            ]
          },
          "execution_count": 71,
          "metadata": {},
          "output_type": "execute_result"
        }
      ],
      "source": [
        "number_tracks('Monday', 'Saint-Petersburg') # количество прослушиваний в Санкт-Петербурге по понедельникам"
      ]
    },
    {
      "cell_type": "code",
      "execution_count": null,
      "metadata": {
        "id": "_NTy2VPU_Zcu",
        "outputId": "eee75200-abda-4bc5-a46e-d8014b8f716d"
      },
      "outputs": [
        {
          "data": {
            "text/plain": [
              "11056"
            ]
          },
          "execution_count": 72,
          "metadata": {},
          "output_type": "execute_result"
        }
      ],
      "source": [
        "number_tracks('Wednesday', 'Moscow') # количество прослушиваний в Москве по средам"
      ]
    },
    {
      "cell_type": "code",
      "execution_count": null,
      "metadata": {
        "id": "j2y3TAwo_Zcu",
        "outputId": "c4c6b4f8-2e84-4afd-af07-e1d1280690ae"
      },
      "outputs": [
        {
          "data": {
            "text/plain": [
              "7003"
            ]
          },
          "execution_count": 73,
          "metadata": {},
          "output_type": "execute_result"
        }
      ],
      "source": [
        "number_tracks('Wednesday', 'Saint-Petersburg') # количество прослушиваний в Санкт-Петербурге по средам"
      ]
    },
    {
      "cell_type": "code",
      "execution_count": null,
      "metadata": {
        "id": "vYDw5u_K_Zcu",
        "outputId": "34c88722-8d1c-4018-d702-7c87fafdd6bb"
      },
      "outputs": [
        {
          "data": {
            "text/plain": [
              "15945"
            ]
          },
          "execution_count": 74,
          "metadata": {},
          "output_type": "execute_result"
        }
      ],
      "source": [
        "number_tracks('Friday', 'Moscow') # количество прослушиваний в Москве по пятницам"
      ]
    },
    {
      "cell_type": "code",
      "execution_count": null,
      "metadata": {
        "id": "8_yzFtW3_Zcu",
        "outputId": "943eea52-1770-4037-fe62-37f782a00b7a"
      },
      "outputs": [
        {
          "data": {
            "text/plain": [
              "5895"
            ]
          },
          "execution_count": 75,
          "metadata": {},
          "output_type": "execute_result"
        }
      ],
      "source": [
        "number_tracks('Friday', 'Saint-Petersburg') # количество прослушиваний в Санкт-Петербурге по пятницам"
      ]
    },
    {
      "cell_type": "markdown",
      "metadata": {
        "id": "7QXffbO-_Zcu"
      },
      "source": [
        "Создадим c помощью конструктора `pd.DataFrame` таблицу, где\n",
        "* названия колонок — `['city', 'monday', 'wednesday', 'friday']`;\n",
        "* данные — результаты, которые вы получили с помощью `number_tracks`."
      ]
    },
    {
      "cell_type": "code",
      "execution_count": null,
      "metadata": {
        "id": "APAcLpOr_Zcu",
        "outputId": "2291a5e2-6b82-4379-80c9-128b2ee24ef0"
      },
      "outputs": [
        {
          "data": {
            "text/html": [
              "<div>\n",
              "<style scoped>\n",
              "    .dataframe tbody tr th:only-of-type {\n",
              "        vertical-align: middle;\n",
              "    }\n",
              "\n",
              "    .dataframe tbody tr th {\n",
              "        vertical-align: top;\n",
              "    }\n",
              "\n",
              "    .dataframe thead th {\n",
              "        text-align: right;\n",
              "    }\n",
              "</style>\n",
              "<table border=\"1\" class=\"dataframe\">\n",
              "  <thead>\n",
              "    <tr style=\"text-align: right;\">\n",
              "      <th></th>\n",
              "      <th>city</th>\n",
              "      <th>monday</th>\n",
              "      <th>wednesday</th>\n",
              "      <th>friday</th>\n",
              "    </tr>\n",
              "  </thead>\n",
              "  <tbody>\n",
              "    <tr>\n",
              "      <td>0</td>\n",
              "      <td>Moscow</td>\n",
              "      <td>15740</td>\n",
              "      <td>11056</td>\n",
              "      <td>15945</td>\n",
              "    </tr>\n",
              "    <tr>\n",
              "      <td>1</td>\n",
              "      <td>Saint-Petersburg</td>\n",
              "      <td>5614</td>\n",
              "      <td>7003</td>\n",
              "      <td>5895</td>\n",
              "    </tr>\n",
              "  </tbody>\n",
              "</table>\n",
              "</div>"
            ],
            "text/plain": [
              "               city  monday  wednesday  friday\n",
              "0            Moscow   15740      11056   15945\n",
              "1  Saint-Petersburg    5614       7003    5895"
            ]
          },
          "execution_count": 76,
          "metadata": {},
          "output_type": "execute_result"
        }
      ],
      "source": [
        "# Таблица с результатами\n",
        "temp_count_tracks = [\n",
        "    ['Moscow', 15740, 11056, 15945],\n",
        "    ['Saint-Petersburg', 5614, 7003, 5895]\n",
        "]\n",
        "temp_columns = ['city', 'monday', 'wednesday', 'friday']\n",
        "pd.DataFrame(data=temp_count_tracks, columns=temp_columns)"
      ]
    },
    {
      "cell_type": "markdown",
      "metadata": {
        "id": "-EgPIHYu_Zcu"
      },
      "source": [
        "**Выводы**\n",
        "\n",
        "Данные показывают разницу поведения пользователей:\n",
        "\n",
        "- В Москве пик прослушиваний приходится на понедельник и пятницу, а в среду заметен спад.\n",
        "- В Петербурге, наоборот, больше слушают музыку по средам. Активность в понедельник и пятницу здесь почти в равной мере уступает среде.\n",
        "\n",
        "Значит, данные говорят в пользу первой гипотезы."
      ]
    },
    {
      "cell_type": "markdown",
      "metadata": {
        "id": "atZAxtq4_Zcu"
      },
      "source": [
        "### Музыка в начале и в конце недели"
      ]
    },
    {
      "cell_type": "markdown",
      "metadata": {
        "id": "eXrQqXFH_Zcu"
      },
      "source": [
        "Согласно второй гипотезе, утром в понедельник в Москве преобладают одни жанры, а в Петербурге — другие. Так же и вечером пятницы преобладают разные жанры — в зависимости от города."
      ]
    },
    {
      "cell_type": "markdown",
      "metadata": {
        "id": "S8UcW6Hw_Zcu"
      },
      "source": [
        "Сохраним таблицы с данными в две переменные:\n",
        "* по Москве — в `moscow_general`;\n",
        "* по Санкт-Петербургу — в `spb_general`."
      ]
    },
    {
      "cell_type": "code",
      "execution_count": null,
      "metadata": {
        "id": "qeaFfM_P_Zcu"
      },
      "outputs": [],
      "source": [
        "# получение таблицы moscow_general из тех строк таблицы df,\n",
        "# для которых значение в столбце 'city' равно 'Moscow'\n",
        "moscow_general = df[df['city'] == 'Moscow']"
      ]
    },
    {
      "cell_type": "code",
      "execution_count": null,
      "metadata": {
        "id": "ORaVRKto_Zcu"
      },
      "outputs": [],
      "source": [
        "# получение таблицы spb_general из тех строк таблицы df,\n",
        "# для которых значение в столбце 'city' равно 'Saint-Petersburg'\n",
        "spb_general = df[df['city'] == 'Saint-Petersburg']"
      ]
    },
    {
      "cell_type": "markdown",
      "metadata": {
        "id": "MEJV-CX2_Zcu"
      },
      "source": [
        "Создадим функцию `genre_weekday()` с четырьмя параметрами:\n",
        "* таблица (датафрейм) с данными,\n",
        "* день недели,\n",
        "* начальная временная метка в формате 'hh:mm',\n",
        "* последняя временная метка в формате 'hh:mm'.\n",
        "\n",
        "Функция должна вернуть информацию о топ-10 жанров тех треков, которые прослушивали в указанный день, в промежутке между двумя отметками времени."
      ]
    },
    {
      "cell_type": "code",
      "execution_count": null,
      "metadata": {
        "id": "laJT9BYl_Zcu"
      },
      "outputs": [],
      "source": [
        "def genre_weekday(table, day, time1, time2): # Объявление функции genre_weekday() с параметрами table, day, time1, time2,\n",
        "# которая возвращает информацию о самых популярных жанрах в указанный день в\n",
        "# заданное время:\n",
        "# 1) в переменную genre_df сохраняются те строки переданного датафрейма table, для\n",
        "#    которых одновременно:\n",
        "    genre_df = table[table['day'] == day] #    - значение в столбце day равно значению аргумента day\n",
        "    genre_df = table[table['time'] > time1] #    - значение в столбце time больше значения аргумента time1\n",
        "    genre_df = table[table['time'] < time2] #    - значение в столбце time меньше значения аргумента time2\n",
        "\n",
        "#    Используйте последовательную фильтрацию с помощью логической индексации.\n",
        "\n",
        "# 2) сгруппировать датафрейм genre_df по столбцу genre, взять один из его\n",
        "#    столбцов и посчитать методом count() количество записей для каждого из\n",
        "#    присутствующих жанров, получившийся Series записать в переменную\n",
        "#    genre_df_count\n",
        "\n",
        "    genre_df_count = genre_df.groupby('genre')['genre'].count()\n",
        "\n",
        "# 3) отсортировать genre_df_count по убыванию встречаемости и сохранить\n",
        "#    в переменную genre_df_sorted\n",
        "\n",
        "    genre_df_sorted = genre_df_count.sort_values(ascending=False)\n",
        "\n",
        "\n",
        "# 4) вернуть Series из 10 первых значений genre_df_sorted, это будут топ-10\n",
        "#    популярных жанров (в указанный день, в заданное время)\n",
        "\n",
        "    return genre_df_sorted.head(10)"
      ]
    },
    {
      "cell_type": "markdown",
      "metadata": {
        "id": "la2s2_PF_Zcu"
      },
      "source": [
        "Cравним результаты функции `genre_weekday()` для Москвы и Санкт-Петербурга в понедельник утром (с 7:00 до 11:00) и в пятницу вечером (с 17:00 до 23:00):"
      ]
    },
    {
      "cell_type": "code",
      "execution_count": null,
      "metadata": {
        "id": "yz7itPUQ_Zcu",
        "outputId": "9b5c9cc3-93a0-4260-d18f-32545336350b"
      },
      "outputs": [
        {
          "data": {
            "text/plain": [
              "genre\n",
              "pop            2015\n",
              "dance          1444\n",
              "rock           1259\n",
              "electronic     1249\n",
              "hiphop          709\n",
              "ruspop          510\n",
              "classical       473\n",
              "world           439\n",
              "alternative     436\n",
              "rusrap          406\n",
              "Name: genre, dtype: int64"
            ]
          },
          "execution_count": 80,
          "metadata": {},
          "output_type": "execute_result"
        }
      ],
      "source": [
        "# вызов функции для утра понедельника в Москве (вместо df — таблица moscow_general)\n",
        "# объекты, хранящие время, являются строками и сравниваются как строки\n",
        "# пример вызова: genre_weekday(moscow_general, 'Monday', '07:00', '11:00')\n",
        "\n",
        "genre_weekday(moscow_general, 'Monday', '07:00', '11:00')"
      ]
    },
    {
      "cell_type": "code",
      "execution_count": null,
      "metadata": {
        "id": "kwUcHPdy_Zcu",
        "outputId": "5956351a-6297-4aed-d059-f1fde5b224f7"
      },
      "outputs": [
        {
          "data": {
            "text/plain": [
              "genre\n",
              "pop            701\n",
              "dance          606\n",
              "electronic     520\n",
              "rock           520\n",
              "hiphop         288\n",
              "rusrap         195\n",
              "alternative    184\n",
              "ruspop         174\n",
              "classical      155\n",
              "world          130\n",
              "Name: genre, dtype: int64"
            ]
          },
          "execution_count": 81,
          "metadata": {},
          "output_type": "execute_result"
        }
      ],
      "source": [
        "genre_weekday(spb_general, 'Monday', '07:00', '11:00') # вызов функции для утра понедельника в Петербурге (вместо df — таблица spb_general)"
      ]
    },
    {
      "cell_type": "code",
      "execution_count": null,
      "metadata": {
        "id": "EzXVRE1o_Zcu",
        "outputId": "44a39f99-8757-44b7-ed2a-10e60a2089c5"
      },
      "outputs": [
        {
          "data": {
            "text/plain": [
              "genre\n",
              "pop            5892\n",
              "dance          4435\n",
              "rock           3965\n",
              "electronic     3786\n",
              "hiphop         2096\n",
              "classical      1616\n",
              "world          1432\n",
              "alternative    1379\n",
              "ruspop         1372\n",
              "rusrap         1161\n",
              "Name: genre, dtype: int64"
            ]
          },
          "execution_count": 82,
          "metadata": {},
          "output_type": "execute_result"
        }
      ],
      "source": [
        "genre_weekday(moscow_general, 'Friday', '17:00', '23:00') # вызов функции для вечера пятницы в Москве"
      ]
    },
    {
      "cell_type": "code",
      "execution_count": null,
      "metadata": {
        "id": "JZaEKu5v_Zcu",
        "outputId": "eafdb5a6-5b22-42be-ce4b-ed0fabe048b3"
      },
      "outputs": [
        {
          "data": {
            "text/plain": [
              "genre\n",
              "pop            2431\n",
              "dance          1932\n",
              "rock           1879\n",
              "electronic     1737\n",
              "hiphop          960\n",
              "alternative     649\n",
              "classical       646\n",
              "rusrap          564\n",
              "ruspop          538\n",
              "world           515\n",
              "Name: genre, dtype: int64"
            ]
          },
          "execution_count": 83,
          "metadata": {},
          "output_type": "execute_result"
        }
      ],
      "source": [
        "genre_weekday(spb_general, 'Friday', '17:00', '23:00') # вызов функции для вечера пятницы в Петербурге"
      ]
    },
    {
      "cell_type": "markdown",
      "metadata": {
        "id": "wrCe4MNX_Zcu"
      },
      "source": [
        "**Выводы**\n",
        "\n",
        "Если сравнить топ-10 жанров в понедельник утром, можно сделать такие выводы:\n",
        "\n",
        "1. В Москве и Петербурге слушают похожую музыку. Единственное отличие — в московский рейтинг вошёл жанр “world”, а в петербургский — джаз и классика.\n",
        "\n",
        "2. В Москве пропущенных значений оказалось так много, что значение `'unknown'` заняло десятое место среди самых популярных жанров. Значит, пропущенные значения занимают существенную долю в данных и угрожают достоверности исследования.\n",
        "\n",
        "Вечер пятницы не меняет эту картину. Некоторые жанры поднимаются немного выше, другие спускаются, но в целом топ-10 остаётся тем же самым.\n",
        "\n",
        "Таким образом, вторая гипотеза подтвердилась лишь частично:\n",
        "* Пользователи слушают похожую музыку в начале недели и в конце.\n",
        "* Разница между Москвой и Петербургом не слишком выражена. В Москве чаще слушают русскую популярную музыку, в Петербурге — джаз.\n",
        "\n",
        "Однако пропуски в данных ставят под сомнение этот результат. В Москве их так много, что рейтинг топ-10 мог бы выглядеть иначе, если бы не утерянные  данные о жанрах."
      ]
    },
    {
      "cell_type": "markdown",
      "metadata": {
        "id": "JolODAqr_Zcu"
      },
      "source": [
        "### Жанровые предпочтения в Москве и Петербурге\n",
        "\n",
        "Гипотеза: Петербург — столица рэпа, музыку этого жанра там слушают чаще, чем в Москве.  А Москва — город контрастов, в котором, тем не менее, преобладает поп-музыка."
      ]
    },
    {
      "cell_type": "markdown",
      "metadata": {
        "id": "DlegSvaT_Zcu"
      },
      "source": [
        "Сгруппируем таблицу `moscow_general` по жанру и посчитаем прослушивания треков каждого жанра методом `count()`. Затем отсортируем результат в порядке убывания и сохраним его в таблице `moscow_genres`."
      ]
    },
    {
      "cell_type": "code",
      "execution_count": null,
      "metadata": {
        "id": "r19lIPke_Zcu"
      },
      "outputs": [],
      "source": [
        "# одной строкой: группировка таблицы moscow_general по столбцу 'genre',\n",
        "# подсчёт числа значений 'genre' в этой группировке методом count(),\n",
        "# сортировка получившегося Series в порядке убывания и сохранение в moscow_genres\n",
        "\n",
        "moscow_genres = moscow_general.groupby('genre')['genre'].count().sort_values(ascending=False)"
      ]
    },
    {
      "cell_type": "markdown",
      "metadata": {
        "id": "6kMuomxTiIr8"
      },
      "source": [
        "Выведем на экран первые десять строк `moscow_genres`:"
      ]
    },
    {
      "cell_type": "code",
      "execution_count": null,
      "metadata": {
        "id": "WhCSooF8_Zcv",
        "outputId": "e15e90fc-fb93-4286-b17f-7f791d204f45"
      },
      "outputs": [
        {
          "data": {
            "text/plain": [
              "genre\n",
              "pop            5892\n",
              "dance          4435\n",
              "rock           3965\n",
              "electronic     3786\n",
              "hiphop         2096\n",
              "classical      1616\n",
              "world          1432\n",
              "alternative    1379\n",
              "ruspop         1372\n",
              "rusrap         1161\n",
              "Name: genre, dtype: int64"
            ]
          },
          "metadata": {},
          "output_type": "display_data"
        }
      ],
      "source": [
        "display(moscow_genres.head(10)) # просмотр первых 10 строк moscow_genres"
      ]
    },
    {
      "cell_type": "markdown",
      "metadata": {
        "id": "cnPG2vnN_Zcv"
      },
      "source": [
        "Теперь повторим то же и для Петербурга.\n",
        "\n",
        "Сгруппируем таблицу `spb_general` по жанру. Посчитаем прослушивания треков каждого жанра. Результат отсортируем в порядке убывания и сохраним в таблице `spb_genres`:\n"
      ]
    },
    {
      "cell_type": "code",
      "execution_count": null,
      "metadata": {
        "id": "gluLIpE7_Zcv"
      },
      "outputs": [],
      "source": [
        "# одной строкой: группировка таблицы spb_general по столбцу 'genre',\n",
        "# подсчёт числа значений 'genre' в этой группировке методом count(),\n",
        "# сортировка получившегося Series в порядке убывания и сохранение в spb_genres\n",
        "spb_genres = spb_general.groupby('genre')['genre'].count().sort_values(ascending=False)"
      ]
    },
    {
      "cell_type": "markdown",
      "metadata": {
        "id": "5Doha_ODgyQ8"
      },
      "source": [
        "Выведем на экран первые десять строк `spb_genres`:"
      ]
    },
    {
      "cell_type": "code",
      "execution_count": null,
      "metadata": {
        "id": "uaGJHjVU_Zcv",
        "outputId": "a6e0c6ad-8831-43f4-e645-dceff6e6f550"
      },
      "outputs": [
        {
          "data": {
            "text/plain": [
              "genre\n",
              "pop            2431\n",
              "dance          1932\n",
              "rock           1879\n",
              "electronic     1737\n",
              "hiphop          960\n",
              "alternative     649\n",
              "classical       646\n",
              "rusrap          564\n",
              "ruspop          538\n",
              "world           515\n",
              "Name: genre, dtype: int64"
            ]
          },
          "metadata": {},
          "output_type": "display_data"
        }
      ],
      "source": [
        "display(spb_genres.head(10)) # просмотр первых 10 строк spb_genres"
      ]
    },
    {
      "cell_type": "markdown",
      "metadata": {
        "id": "RY51YJYu_Zcv"
      },
      "source": [
        "**Выводы**"
      ]
    },
    {
      "cell_type": "markdown",
      "metadata": {
        "id": "nVhnJEm__Zcv"
      },
      "source": [
        "Гипотеза частично подтвердилась:\n",
        "* Поп-музыка — самый популярный жанр в Москве, как и предполагала гипотеза. Более того, в топ-10 жанров встречается близкий жанр — русская популярная музыка.\n",
        "* Вопреки ожиданиям, рэп одинаково популярен в Москве и Петербурге.\n"
      ]
    },
    {
      "cell_type": "markdown",
      "metadata": {
        "id": "ykKQ0N65_Zcv"
      },
      "source": [
        "## Итоги исследования"
      ]
    },
    {
      "cell_type": "markdown",
      "metadata": {
        "id": "tjUwbHb3_Zcv"
      },
      "source": [
        "Мы проверили три гипотезы и установили:\n",
        "\n",
        "1. День недели по-разному влияет на активность пользователей в Москве и Петербурге.\n",
        "\n",
        "Первая гипотеза полностью подтвердилась.\n",
        "\n",
        "2. Музыкальные предпочтения не сильно меняются в течение недели — будь то Москва или Петербург. Небольшие различия заметны в начале недели, по понедельникам:\n",
        "* в Москве слушают музыку жанра “world”,\n",
        "* в Петербурге — джаз и классику.\n",
        "\n",
        "Таким образом, вторая гипотеза подтвердилась лишь отчасти. Этот результат мог оказаться иным, если бы не пропуски в данных.\n",
        "\n",
        "3. Во вкусах пользователей Москвы и Петербурга больше общего чем различий. Вопреки ожиданиям, предпочтения жанров в Петербурге напоминают московские.\n",
        "\n",
        "Третья гипотеза не подтвердилась. Если различия в предпочтениях и существуют, на основной массе пользователей они незаметны.\n",
        "\n",
        "**На практике исследования содержат проверки статистических гипотез.**\n",
        "Из данных одного сервиса не всегда можно сделать вывод о всех жителях города.\n",
        "Проверки статистических гипотез покажут, насколько они достоверны, исходя из имеющихся данных."
      ]
    },
    {
      "cell_type": "code",
      "execution_count": null,
      "metadata": {
        "id": "Tr0APxM0hgc9"
      },
      "outputs": [],
      "source": []
    }
  ],
  "metadata": {
    "ExecuteTimeLog": [
      {
        "duration": 507,
        "start_time": "2021-12-28T20:58:26.281Z"
      },
      {
        "duration": 159,
        "start_time": "2021-12-28T20:58:34.500Z"
      },
      {
        "duration": 939,
        "start_time": "2021-12-28T20:58:55.347Z"
      },
      {
        "duration": 219,
        "start_time": "2021-12-28T20:58:58.123Z"
      },
      {
        "duration": 44,
        "start_time": "2021-12-28T20:59:02.946Z"
      },
      {
        "duration": 35,
        "start_time": "2021-12-28T21:01:47.729Z"
      },
      {
        "duration": 8,
        "start_time": "2021-12-28T21:21:30.471Z"
      },
      {
        "duration": 5,
        "start_time": "2021-12-28T21:26:05.227Z"
      },
      {
        "duration": 147,
        "start_time": "2021-12-28T21:26:09.761Z"
      },
      {
        "duration": 28,
        "start_time": "2021-12-28T21:26:33.387Z"
      },
      {
        "duration": 6,
        "start_time": "2021-12-28T21:26:35.538Z"
      },
      {
        "duration": 32,
        "start_time": "2021-12-28T21:33:43.273Z"
      },
      {
        "duration": 32,
        "start_time": "2021-12-28T21:43:38.453Z"
      },
      {
        "duration": 32,
        "start_time": "2021-12-28T21:43:51.175Z"
      },
      {
        "duration": 29,
        "start_time": "2021-12-28T21:44:01.822Z"
      },
      {
        "duration": 97,
        "start_time": "2021-12-28T21:45:34.651Z"
      },
      {
        "duration": 96,
        "start_time": "2021-12-28T21:46:15.154Z"
      },
      {
        "duration": 89,
        "start_time": "2021-12-28T21:46:21.747Z"
      },
      {
        "duration": 824,
        "start_time": "2021-12-28T21:50:32.243Z"
      },
      {
        "duration": 10015,
        "start_time": "2021-12-28T21:51:09.190Z"
      },
      {
        "duration": 828,
        "start_time": "2021-12-28T21:51:18.381Z"
      },
      {
        "duration": 827,
        "start_time": "2021-12-28T21:51:18.383Z"
      },
      {
        "duration": 14,
        "start_time": "2021-12-28T21:51:50.094Z"
      },
      {
        "duration": 13,
        "start_time": "2021-12-28T21:52:09.630Z"
      },
      {
        "duration": 374,
        "start_time": "2021-12-28T22:31:24.692Z"
      },
      {
        "duration": 5,
        "start_time": "2021-12-28T22:31:31.036Z"
      },
      {
        "duration": 496,
        "start_time": "2021-12-28T22:31:32.752Z"
      },
      {
        "duration": 781,
        "start_time": "2021-12-28T22:32:31.390Z"
      },
      {
        "duration": 4,
        "start_time": "2021-12-28T22:42:13.306Z"
      },
      {
        "duration": 779,
        "start_time": "2021-12-28T22:42:15.832Z"
      },
      {
        "duration": 746,
        "start_time": "2021-12-28T22:42:20.713Z"
      },
      {
        "duration": 5,
        "start_time": "2021-12-28T22:42:38.285Z"
      },
      {
        "duration": 734,
        "start_time": "2021-12-28T22:42:41.929Z"
      },
      {
        "duration": 5,
        "start_time": "2021-12-28T22:43:10.908Z"
      },
      {
        "duration": 10424,
        "start_time": "2021-12-28T22:43:14.588Z"
      },
      {
        "duration": 4,
        "start_time": "2021-12-28T22:53:22.199Z"
      },
      {
        "duration": 758,
        "start_time": "2021-12-28T22:53:23.903Z"
      },
      {
        "duration": 4,
        "start_time": "2021-12-28T22:53:44.607Z"
      },
      {
        "duration": 768,
        "start_time": "2021-12-28T22:53:46.103Z"
      },
      {
        "duration": 4,
        "start_time": "2021-12-28T22:54:46.913Z"
      },
      {
        "duration": 717,
        "start_time": "2021-12-28T22:54:47.945Z"
      },
      {
        "duration": 4,
        "start_time": "2021-12-28T22:56:39.021Z"
      },
      {
        "duration": 16,
        "start_time": "2021-12-28T22:56:40.245Z"
      },
      {
        "duration": 16,
        "start_time": "2021-12-28T22:57:06.318Z"
      },
      {
        "duration": 17,
        "start_time": "2021-12-28T23:05:52.039Z"
      },
      {
        "duration": 11,
        "start_time": "2021-12-28T23:08:12.891Z"
      },
      {
        "duration": 15,
        "start_time": "2021-12-28T23:08:21.637Z"
      },
      {
        "duration": 15,
        "start_time": "2021-12-28T23:09:31.607Z"
      },
      {
        "duration": 297,
        "start_time": "2022-01-05T21:08:58.511Z"
      },
      {
        "duration": 4,
        "start_time": "2022-01-05T21:09:08.068Z"
      },
      {
        "duration": 617,
        "start_time": "2022-01-05T21:09:10.004Z"
      },
      {
        "duration": 576,
        "start_time": "2022-01-05T21:09:57.185Z"
      },
      {
        "duration": 134,
        "start_time": "2022-01-05T21:09:57.763Z"
      },
      {
        "duration": 16,
        "start_time": "2022-01-05T21:09:57.899Z"
      },
      {
        "duration": 27,
        "start_time": "2022-01-05T21:09:57.917Z"
      },
      {
        "duration": 4,
        "start_time": "2022-01-05T21:09:57.960Z"
      },
      {
        "duration": 23,
        "start_time": "2022-01-05T21:09:57.966Z"
      },
      {
        "duration": 6,
        "start_time": "2022-01-05T21:09:57.991Z"
      },
      {
        "duration": 24,
        "start_time": "2022-01-05T21:09:57.999Z"
      },
      {
        "duration": 41,
        "start_time": "2022-01-05T21:09:58.026Z"
      },
      {
        "duration": 23,
        "start_time": "2022-01-05T21:09:58.068Z"
      },
      {
        "duration": 80,
        "start_time": "2022-01-05T21:09:58.093Z"
      },
      {
        "duration": 71,
        "start_time": "2022-01-05T21:09:58.174Z"
      },
      {
        "duration": 66,
        "start_time": "2022-01-05T21:09:58.247Z"
      },
      {
        "duration": 9,
        "start_time": "2022-01-05T21:09:58.315Z"
      },
      {
        "duration": 4,
        "start_time": "2022-01-05T21:09:58.326Z"
      },
      {
        "duration": 36,
        "start_time": "2022-01-05T21:09:58.331Z"
      },
      {
        "duration": 9,
        "start_time": "2022-01-05T21:09:58.369Z"
      },
      {
        "duration": 11,
        "start_time": "2022-01-05T21:09:58.379Z"
      },
      {
        "duration": 12,
        "start_time": "2022-01-05T21:09:58.392Z"
      },
      {
        "duration": 4,
        "start_time": "2022-01-05T21:09:58.406Z"
      },
      {
        "duration": 50,
        "start_time": "2022-01-05T21:09:58.412Z"
      },
      {
        "duration": 3,
        "start_time": "2022-01-05T21:09:58.464Z"
      },
      {
        "duration": 6,
        "start_time": "2022-01-05T21:09:58.472Z"
      },
      {
        "duration": 5,
        "start_time": "2022-01-05T21:09:58.480Z"
      },
      {
        "duration": 5,
        "start_time": "2022-01-05T21:09:58.486Z"
      },
      {
        "duration": 9,
        "start_time": "2022-01-05T21:09:58.493Z"
      },
      {
        "duration": 10,
        "start_time": "2022-01-05T21:09:58.504Z"
      },
      {
        "duration": 6,
        "start_time": "2022-01-05T21:09:58.515Z"
      },
      {
        "duration": 6,
        "start_time": "2022-01-05T21:09:58.522Z"
      },
      {
        "duration": 5,
        "start_time": "2022-01-05T21:09:58.529Z"
      },
      {
        "duration": 7,
        "start_time": "2022-01-05T21:09:58.535Z"
      },
      {
        "duration": 17,
        "start_time": "2022-01-05T21:09:58.543Z"
      },
      {
        "duration": 8,
        "start_time": "2022-01-05T21:09:58.562Z"
      },
      {
        "duration": 6,
        "start_time": "2022-01-05T21:09:58.571Z"
      },
      {
        "duration": 9,
        "start_time": "2022-01-05T21:09:58.579Z"
      },
      {
        "duration": 4,
        "start_time": "2022-01-05T21:09:58.590Z"
      },
      {
        "duration": 7,
        "start_time": "2022-01-05T21:09:58.596Z"
      },
      {
        "duration": 5,
        "start_time": "2022-01-05T21:09:58.605Z"
      },
      {
        "duration": 22,
        "start_time": "2022-01-05T21:10:52.880Z"
      },
      {
        "duration": 285,
        "start_time": "2022-01-05T21:11:40.073Z"
      },
      {
        "duration": 20,
        "start_time": "2022-01-05T21:16:05.722Z"
      },
      {
        "duration": 264,
        "start_time": "2022-01-05T21:18:53.232Z"
      },
      {
        "duration": 3,
        "start_time": "2022-01-05T21:19:03.488Z"
      },
      {
        "duration": 22,
        "start_time": "2022-01-05T21:19:05.055Z"
      },
      {
        "duration": 4,
        "start_time": "2022-01-05T21:19:19.497Z"
      },
      {
        "duration": 23,
        "start_time": "2022-01-05T21:19:26.106Z"
      },
      {
        "duration": 4,
        "start_time": "2022-01-05T21:20:00.810Z"
      },
      {
        "duration": 24,
        "start_time": "2022-01-05T21:20:02.098Z"
      },
      {
        "duration": 19,
        "start_time": "2022-01-05T21:34:44.888Z"
      },
      {
        "duration": 20,
        "start_time": "2022-01-05T21:35:33.218Z"
      },
      {
        "duration": 19,
        "start_time": "2022-01-05T21:35:50.243Z"
      },
      {
        "duration": 21,
        "start_time": "2022-01-05T21:36:47.356Z"
      },
      {
        "duration": 21,
        "start_time": "2022-01-05T21:37:05.964Z"
      },
      {
        "duration": 85,
        "start_time": "2022-01-05T21:51:15.450Z"
      },
      {
        "duration": 262,
        "start_time": "2022-01-05T21:51:23.841Z"
      },
      {
        "duration": 12,
        "start_time": "2022-01-05T21:55:51.637Z"
      },
      {
        "duration": 12,
        "start_time": "2022-01-05T22:00:39.310Z"
      },
      {
        "duration": 10,
        "start_time": "2022-01-05T22:00:39.988Z"
      },
      {
        "duration": 4,
        "start_time": "2022-01-05T22:16:21.625Z"
      },
      {
        "duration": 32,
        "start_time": "2022-01-05T22:17:05.031Z"
      },
      {
        "duration": 29,
        "start_time": "2022-01-05T22:18:32.122Z"
      },
      {
        "duration": 25,
        "start_time": "2022-01-05T22:19:24.547Z"
      },
      {
        "duration": 27,
        "start_time": "2022-01-05T22:19:37.043Z"
      },
      {
        "duration": 29,
        "start_time": "2022-01-05T22:21:35.216Z"
      },
      {
        "duration": 29,
        "start_time": "2022-01-05T22:21:35.982Z"
      },
      {
        "duration": 5,
        "start_time": "2022-01-05T22:22:13.809Z"
      },
      {
        "duration": 30,
        "start_time": "2022-01-05T22:22:14.784Z"
      },
      {
        "duration": 32,
        "start_time": "2022-01-05T22:22:15.193Z"
      },
      {
        "duration": 36,
        "start_time": "2022-01-05T22:22:15.833Z"
      },
      {
        "duration": 29,
        "start_time": "2022-01-05T22:22:16.452Z"
      },
      {
        "duration": 7,
        "start_time": "2022-01-06T15:32:33.711Z"
      },
      {
        "duration": 248,
        "start_time": "2022-01-06T15:32:36.436Z"
      },
      {
        "duration": 585,
        "start_time": "2022-01-06T15:34:18.521Z"
      },
      {
        "duration": 4,
        "start_time": "2022-01-06T15:34:57.354Z"
      },
      {
        "duration": 180,
        "start_time": "2022-01-06T15:34:57.360Z"
      },
      {
        "duration": 17,
        "start_time": "2022-01-06T15:34:57.542Z"
      },
      {
        "duration": 40,
        "start_time": "2022-01-06T15:34:57.561Z"
      },
      {
        "duration": 5,
        "start_time": "2022-01-06T15:34:57.604Z"
      },
      {
        "duration": 23,
        "start_time": "2022-01-06T15:34:57.611Z"
      },
      {
        "duration": 4,
        "start_time": "2022-01-06T15:34:57.637Z"
      },
      {
        "duration": 50,
        "start_time": "2022-01-06T15:34:57.644Z"
      },
      {
        "duration": 26,
        "start_time": "2022-01-06T15:34:57.697Z"
      },
      {
        "duration": 23,
        "start_time": "2022-01-06T15:34:57.725Z"
      },
      {
        "duration": 101,
        "start_time": "2022-01-06T15:34:57.750Z"
      },
      {
        "duration": 86,
        "start_time": "2022-01-06T15:34:57.852Z"
      },
      {
        "duration": 53,
        "start_time": "2022-01-06T15:34:57.940Z"
      },
      {
        "duration": 15,
        "start_time": "2022-01-06T15:34:57.995Z"
      },
      {
        "duration": 3,
        "start_time": "2022-01-06T15:34:58.013Z"
      },
      {
        "duration": 15,
        "start_time": "2022-01-06T15:34:58.018Z"
      },
      {
        "duration": 9,
        "start_time": "2022-01-06T15:34:58.034Z"
      },
      {
        "duration": 10,
        "start_time": "2022-01-06T15:34:58.044Z"
      },
      {
        "duration": 11,
        "start_time": "2022-01-06T15:34:58.057Z"
      },
      {
        "duration": 3,
        "start_time": "2022-01-06T15:34:58.070Z"
      },
      {
        "duration": 37,
        "start_time": "2022-01-06T15:34:58.075Z"
      },
      {
        "duration": 21,
        "start_time": "2022-01-06T15:34:58.114Z"
      },
      {
        "duration": 20,
        "start_time": "2022-01-06T15:34:58.137Z"
      },
      {
        "duration": 17,
        "start_time": "2022-01-06T15:34:58.158Z"
      },
      {
        "duration": 42,
        "start_time": "2022-01-06T15:34:58.176Z"
      },
      {
        "duration": 17,
        "start_time": "2022-01-06T15:34:58.220Z"
      },
      {
        "duration": 8,
        "start_time": "2022-01-06T15:34:58.238Z"
      },
      {
        "duration": 13,
        "start_time": "2022-01-06T15:34:58.247Z"
      },
      {
        "duration": 8,
        "start_time": "2022-01-06T15:34:58.262Z"
      },
      {
        "duration": 4,
        "start_time": "2022-01-06T15:34:58.272Z"
      },
      {
        "duration": 45,
        "start_time": "2022-01-06T15:34:58.277Z"
      },
      {
        "duration": 15,
        "start_time": "2022-01-06T15:34:58.324Z"
      },
      {
        "duration": 22,
        "start_time": "2022-01-06T15:34:58.340Z"
      },
      {
        "duration": 50,
        "start_time": "2022-01-06T15:34:58.364Z"
      },
      {
        "duration": 2,
        "start_time": "2022-01-06T15:34:58.416Z"
      },
      {
        "duration": 5,
        "start_time": "2022-01-06T15:34:58.420Z"
      },
      {
        "duration": 4,
        "start_time": "2022-01-06T15:34:58.426Z"
      },
      {
        "duration": 4,
        "start_time": "2022-01-06T15:34:58.432Z"
      },
      {
        "duration": 591,
        "start_time": "2022-01-07T21:21:08.677Z"
      },
      {
        "duration": 134,
        "start_time": "2022-01-07T21:21:11.146Z"
      },
      {
        "duration": 17,
        "start_time": "2022-01-07T21:21:13.099Z"
      },
      {
        "duration": 26,
        "start_time": "2022-01-07T21:21:15.722Z"
      },
      {
        "duration": 4,
        "start_time": "2022-01-07T21:21:20.467Z"
      },
      {
        "duration": 23,
        "start_time": "2022-01-07T21:21:21.802Z"
      },
      {
        "duration": 4,
        "start_time": "2022-01-07T21:21:24.010Z"
      },
      {
        "duration": 23,
        "start_time": "2022-01-07T21:21:26.130Z"
      },
      {
        "duration": 18,
        "start_time": "2022-01-07T21:21:28.602Z"
      },
      {
        "duration": 22,
        "start_time": "2022-01-07T21:21:29.706Z"
      },
      {
        "duration": 56,
        "start_time": "2022-01-07T21:21:31.930Z"
      },
      {
        "duration": 60,
        "start_time": "2022-01-07T21:21:33.259Z"
      },
      {
        "duration": 54,
        "start_time": "2022-01-07T21:21:34.428Z"
      },
      {
        "duration": 9,
        "start_time": "2022-01-07T21:21:37.875Z"
      },
      {
        "duration": 3,
        "start_time": "2022-01-07T21:21:41.196Z"
      },
      {
        "duration": 11,
        "start_time": "2022-01-07T21:21:42.250Z"
      },
      {
        "duration": 10,
        "start_time": "2022-01-07T21:21:44.611Z"
      },
      {
        "duration": 12,
        "start_time": "2022-01-07T21:21:50.875Z"
      },
      {
        "duration": 11,
        "start_time": "2022-01-07T21:21:52.915Z"
      },
      {
        "duration": 4,
        "start_time": "2022-01-07T21:21:56.131Z"
      },
      {
        "duration": 25,
        "start_time": "2022-01-07T21:21:59.052Z"
      },
      {
        "duration": 233,
        "start_time": "2022-01-07T21:33:45.764Z"
      },
      {
        "duration": 3,
        "start_time": "2022-01-07T21:35:05.353Z"
      },
      {
        "duration": 194,
        "start_time": "2022-01-07T21:35:05.358Z"
      },
      {
        "duration": 11,
        "start_time": "2022-01-07T21:35:05.554Z"
      },
      {
        "duration": 36,
        "start_time": "2022-01-07T21:35:05.567Z"
      },
      {
        "duration": 4,
        "start_time": "2022-01-07T21:35:05.605Z"
      },
      {
        "duration": 16,
        "start_time": "2022-01-07T21:35:05.611Z"
      },
      {
        "duration": 5,
        "start_time": "2022-01-07T21:35:05.629Z"
      },
      {
        "duration": 26,
        "start_time": "2022-01-07T21:35:05.636Z"
      },
      {
        "duration": 43,
        "start_time": "2022-01-07T21:35:05.663Z"
      },
      {
        "duration": 23,
        "start_time": "2022-01-07T21:35:05.709Z"
      },
      {
        "duration": 75,
        "start_time": "2022-01-07T21:35:05.734Z"
      },
      {
        "duration": 63,
        "start_time": "2022-01-07T21:35:05.811Z"
      },
      {
        "duration": 68,
        "start_time": "2022-01-07T21:35:05.876Z"
      },
      {
        "duration": 10,
        "start_time": "2022-01-07T21:35:05.946Z"
      },
      {
        "duration": 3,
        "start_time": "2022-01-07T21:35:05.958Z"
      },
      {
        "duration": 37,
        "start_time": "2022-01-07T21:35:05.963Z"
      },
      {
        "duration": 11,
        "start_time": "2022-01-07T21:35:06.002Z"
      },
      {
        "duration": 12,
        "start_time": "2022-01-07T21:35:06.015Z"
      },
      {
        "duration": 11,
        "start_time": "2022-01-07T21:35:06.030Z"
      },
      {
        "duration": 4,
        "start_time": "2022-01-07T21:35:06.043Z"
      },
      {
        "duration": 60,
        "start_time": "2022-01-07T21:35:06.048Z"
      },
      {
        "duration": 19,
        "start_time": "2022-01-07T21:35:06.110Z"
      },
      {
        "duration": 19,
        "start_time": "2022-01-07T21:35:06.130Z"
      },
      {
        "duration": 42,
        "start_time": "2022-01-07T21:35:06.151Z"
      },
      {
        "duration": 21,
        "start_time": "2022-01-07T21:35:06.194Z"
      },
      {
        "duration": 19,
        "start_time": "2022-01-07T21:35:06.216Z"
      },
      {
        "duration": 9,
        "start_time": "2022-01-07T21:35:06.237Z"
      },
      {
        "duration": 43,
        "start_time": "2022-01-07T21:35:06.248Z"
      },
      {
        "duration": 9,
        "start_time": "2022-01-07T21:35:06.293Z"
      },
      {
        "duration": 11,
        "start_time": "2022-01-07T21:35:06.304Z"
      },
      {
        "duration": 55,
        "start_time": "2022-01-07T21:35:06.317Z"
      },
      {
        "duration": 15,
        "start_time": "2022-01-07T21:35:06.374Z"
      },
      {
        "duration": 45,
        "start_time": "2022-01-07T21:35:06.391Z"
      },
      {
        "duration": 16,
        "start_time": "2022-01-07T21:35:06.438Z"
      },
      {
        "duration": 23,
        "start_time": "2022-01-07T21:35:06.455Z"
      },
      {
        "duration": 21,
        "start_time": "2022-01-07T21:35:06.480Z"
      },
      {
        "duration": 26,
        "start_time": "2022-01-07T21:35:06.503Z"
      },
      {
        "duration": 24,
        "start_time": "2022-01-07T21:35:06.531Z"
      },
      {
        "duration": 9,
        "start_time": "2022-01-07T21:35:17.480Z"
      },
      {
        "duration": 4,
        "start_time": "2022-01-07T21:36:33.618Z"
      },
      {
        "duration": 17,
        "start_time": "2022-01-07T21:36:35.209Z"
      },
      {
        "duration": 16,
        "start_time": "2022-01-07T21:36:37.410Z"
      },
      {
        "duration": 15,
        "start_time": "2022-01-07T21:36:40.833Z"
      },
      {
        "duration": 14,
        "start_time": "2022-01-07T21:36:41.578Z"
      },
      {
        "duration": 16,
        "start_time": "2022-01-07T21:36:43.193Z"
      },
      {
        "duration": 15,
        "start_time": "2022-01-07T21:36:43.833Z"
      },
      {
        "duration": 9,
        "start_time": "2022-01-07T21:36:48.202Z"
      },
      {
        "duration": 13,
        "start_time": "2022-01-07T21:36:53.417Z"
      },
      {
        "duration": 10,
        "start_time": "2022-01-07T21:36:53.818Z"
      },
      {
        "duration": 4,
        "start_time": "2022-01-07T21:36:54.874Z"
      },
      {
        "duration": 25,
        "start_time": "2022-01-07T21:36:55.985Z"
      },
      {
        "duration": 17,
        "start_time": "2022-01-07T21:36:56.729Z"
      },
      {
        "duration": 4,
        "start_time": "2022-01-07T21:38:33.032Z"
      },
      {
        "duration": 27,
        "start_time": "2022-01-07T21:38:34.389Z"
      },
      {
        "duration": 17,
        "start_time": "2022-01-07T21:38:36.447Z"
      },
      {
        "duration": 29,
        "start_time": "2022-01-07T21:38:39.078Z"
      },
      {
        "duration": 18,
        "start_time": "2022-01-07T21:38:41.493Z"
      },
      {
        "duration": 8,
        "start_time": "2022-01-07T21:39:33.334Z"
      },
      {
        "duration": 5,
        "start_time": "2022-01-07T21:40:20.680Z"
      },
      {
        "duration": 7,
        "start_time": "2022-01-07T21:41:02.266Z"
      },
      {
        "duration": 5,
        "start_time": "2022-01-07T21:41:13.059Z"
      },
      {
        "duration": 4,
        "start_time": "2022-01-07T22:07:50.321Z"
      },
      {
        "duration": 378,
        "start_time": "2022-01-07T22:07:51.775Z"
      },
      {
        "duration": 3,
        "start_time": "2022-01-07T22:10:26.773Z"
      },
      {
        "duration": 161,
        "start_time": "2022-01-07T22:10:26.779Z"
      },
      {
        "duration": 10,
        "start_time": "2022-01-07T22:10:26.942Z"
      },
      {
        "duration": 38,
        "start_time": "2022-01-07T22:10:26.953Z"
      },
      {
        "duration": 4,
        "start_time": "2022-01-07T22:10:26.993Z"
      },
      {
        "duration": 19,
        "start_time": "2022-01-07T22:10:26.998Z"
      },
      {
        "duration": 4,
        "start_time": "2022-01-07T22:10:27.018Z"
      },
      {
        "duration": 22,
        "start_time": "2022-01-07T22:10:27.024Z"
      },
      {
        "duration": 42,
        "start_time": "2022-01-07T22:10:27.049Z"
      },
      {
        "duration": 23,
        "start_time": "2022-01-07T22:10:27.093Z"
      },
      {
        "duration": 53,
        "start_time": "2022-01-07T22:10:27.118Z"
      },
      {
        "duration": 78,
        "start_time": "2022-01-07T22:10:27.173Z"
      },
      {
        "duration": 64,
        "start_time": "2022-01-07T22:10:27.252Z"
      },
      {
        "duration": 9,
        "start_time": "2022-01-07T22:10:27.318Z"
      },
      {
        "duration": 4,
        "start_time": "2022-01-07T22:10:27.328Z"
      },
      {
        "duration": 347,
        "start_time": "2022-01-07T22:10:27.333Z"
      },
      {
        "duration": 4745,
        "start_time": "2022-01-07T22:10:22.937Z"
      },
      {
        "duration": 4743,
        "start_time": "2022-01-07T22:10:22.940Z"
      },
      {
        "duration": 4741,
        "start_time": "2022-01-07T22:10:22.943Z"
      },
      {
        "duration": 4738,
        "start_time": "2022-01-07T22:10:22.947Z"
      },
      {
        "duration": 4736,
        "start_time": "2022-01-07T22:10:22.950Z"
      },
      {
        "duration": 4734,
        "start_time": "2022-01-07T22:10:22.953Z"
      },
      {
        "duration": 4733,
        "start_time": "2022-01-07T22:10:22.956Z"
      },
      {
        "duration": 4723,
        "start_time": "2022-01-07T22:10:22.966Z"
      },
      {
        "duration": 4722,
        "start_time": "2022-01-07T22:10:22.969Z"
      },
      {
        "duration": 4721,
        "start_time": "2022-01-07T22:10:22.971Z"
      },
      {
        "duration": 4719,
        "start_time": "2022-01-07T22:10:22.974Z"
      },
      {
        "duration": 4718,
        "start_time": "2022-01-07T22:10:22.976Z"
      },
      {
        "duration": 4716,
        "start_time": "2022-01-07T22:10:22.979Z"
      },
      {
        "duration": 4713,
        "start_time": "2022-01-07T22:10:22.983Z"
      },
      {
        "duration": 4711,
        "start_time": "2022-01-07T22:10:22.986Z"
      },
      {
        "duration": 4707,
        "start_time": "2022-01-07T22:10:22.990Z"
      },
      {
        "duration": 4706,
        "start_time": "2022-01-07T22:10:22.992Z"
      },
      {
        "duration": 4704,
        "start_time": "2022-01-07T22:10:22.995Z"
      },
      {
        "duration": 4703,
        "start_time": "2022-01-07T22:10:22.997Z"
      },
      {
        "duration": 4701,
        "start_time": "2022-01-07T22:10:23.000Z"
      },
      {
        "duration": 4699,
        "start_time": "2022-01-07T22:10:23.003Z"
      },
      {
        "duration": 4698,
        "start_time": "2022-01-07T22:10:23.005Z"
      },
      {
        "duration": 10,
        "start_time": "2022-01-07T22:11:37.688Z"
      },
      {
        "duration": 4,
        "start_time": "2022-01-07T22:17:49.871Z"
      },
      {
        "duration": 356,
        "start_time": "2022-01-07T22:17:50.949Z"
      },
      {
        "duration": 4,
        "start_time": "2022-01-07T22:19:24.922Z"
      },
      {
        "duration": 390,
        "start_time": "2022-01-07T22:19:28.233Z"
      },
      {
        "duration": 3,
        "start_time": "2022-01-07T22:19:59.507Z"
      },
      {
        "duration": 148,
        "start_time": "2022-01-07T22:19:59.513Z"
      },
      {
        "duration": 12,
        "start_time": "2022-01-07T22:19:59.663Z"
      },
      {
        "duration": 23,
        "start_time": "2022-01-07T22:19:59.692Z"
      },
      {
        "duration": 4,
        "start_time": "2022-01-07T22:19:59.717Z"
      },
      {
        "duration": 19,
        "start_time": "2022-01-07T22:19:59.723Z"
      },
      {
        "duration": 4,
        "start_time": "2022-01-07T22:19:59.745Z"
      },
      {
        "duration": 50,
        "start_time": "2022-01-07T22:19:59.750Z"
      },
      {
        "duration": 19,
        "start_time": "2022-01-07T22:19:59.801Z"
      },
      {
        "duration": 23,
        "start_time": "2022-01-07T22:19:59.821Z"
      },
      {
        "duration": 91,
        "start_time": "2022-01-07T22:19:59.846Z"
      },
      {
        "duration": 76,
        "start_time": "2022-01-07T22:19:59.939Z"
      },
      {
        "duration": 55,
        "start_time": "2022-01-07T22:20:00.017Z"
      },
      {
        "duration": 22,
        "start_time": "2022-01-07T22:20:00.074Z"
      },
      {
        "duration": 3,
        "start_time": "2022-01-07T22:20:00.098Z"
      },
      {
        "duration": 391,
        "start_time": "2022-01-07T22:20:00.103Z"
      },
      {
        "duration": 4774,
        "start_time": "2022-01-07T22:19:55.722Z"
      },
      {
        "duration": 4771,
        "start_time": "2022-01-07T22:19:55.726Z"
      },
      {
        "duration": 4768,
        "start_time": "2022-01-07T22:19:55.730Z"
      },
      {
        "duration": 4764,
        "start_time": "2022-01-07T22:19:55.735Z"
      },
      {
        "duration": 4761,
        "start_time": "2022-01-07T22:19:55.739Z"
      },
      {
        "duration": 4760,
        "start_time": "2022-01-07T22:19:55.741Z"
      },
      {
        "duration": 4758,
        "start_time": "2022-01-07T22:19:55.744Z"
      },
      {
        "duration": 4757,
        "start_time": "2022-01-07T22:19:55.746Z"
      },
      {
        "duration": 4755,
        "start_time": "2022-01-07T22:19:55.749Z"
      },
      {
        "duration": 4754,
        "start_time": "2022-01-07T22:19:55.751Z"
      },
      {
        "duration": 4752,
        "start_time": "2022-01-07T22:19:55.753Z"
      },
      {
        "duration": 4750,
        "start_time": "2022-01-07T22:19:55.756Z"
      },
      {
        "duration": 4748,
        "start_time": "2022-01-07T22:19:55.759Z"
      },
      {
        "duration": 4746,
        "start_time": "2022-01-07T22:19:55.762Z"
      },
      {
        "duration": 4744,
        "start_time": "2022-01-07T22:19:55.765Z"
      },
      {
        "duration": 4742,
        "start_time": "2022-01-07T22:19:55.768Z"
      },
      {
        "duration": 4741,
        "start_time": "2022-01-07T22:19:55.770Z"
      },
      {
        "duration": 4739,
        "start_time": "2022-01-07T22:19:55.773Z"
      },
      {
        "duration": 4738,
        "start_time": "2022-01-07T22:19:55.775Z"
      },
      {
        "duration": 4735,
        "start_time": "2022-01-07T22:19:55.778Z"
      },
      {
        "duration": 4723,
        "start_time": "2022-01-07T22:19:55.791Z"
      },
      {
        "duration": 4721,
        "start_time": "2022-01-07T22:19:55.794Z"
      },
      {
        "duration": 4,
        "start_time": "2022-01-07T22:22:13.497Z"
      },
      {
        "duration": 6,
        "start_time": "2022-01-07T22:22:14.927Z"
      },
      {
        "duration": 4,
        "start_time": "2022-01-07T22:23:41.323Z"
      },
      {
        "duration": 7,
        "start_time": "2022-01-07T22:23:42.425Z"
      },
      {
        "duration": 391,
        "start_time": "2022-01-07T22:24:00.659Z"
      },
      {
        "duration": 3,
        "start_time": "2022-01-07T22:24:23.348Z"
      },
      {
        "duration": 416,
        "start_time": "2022-01-07T22:24:26.131Z"
      },
      {
        "duration": 9,
        "start_time": "2022-01-07T22:25:34.358Z"
      },
      {
        "duration": 3,
        "start_time": "2022-01-07T22:25:59.983Z"
      },
      {
        "duration": 414,
        "start_time": "2022-01-07T22:26:01.016Z"
      },
      {
        "duration": 4,
        "start_time": "2022-01-07T22:26:24.368Z"
      },
      {
        "duration": 6,
        "start_time": "2022-01-07T22:26:25.392Z"
      },
      {
        "duration": 11,
        "start_time": "2022-01-07T22:26:53.401Z"
      },
      {
        "duration": 4,
        "start_time": "2022-01-07T22:26:55.992Z"
      },
      {
        "duration": 11,
        "start_time": "2022-01-07T22:26:57.041Z"
      },
      {
        "duration": 9,
        "start_time": "2022-01-07T22:27:22.105Z"
      },
      {
        "duration": 5,
        "start_time": "2022-01-08T15:47:00.259Z"
      },
      {
        "duration": 454,
        "start_time": "2022-01-08T15:47:01.368Z"
      },
      {
        "duration": 550,
        "start_time": "2022-01-08T15:47:33.708Z"
      },
      {
        "duration": 134,
        "start_time": "2022-01-08T15:47:34.259Z"
      },
      {
        "duration": 16,
        "start_time": "2022-01-08T15:47:34.395Z"
      },
      {
        "duration": 22,
        "start_time": "2022-01-08T15:47:34.413Z"
      },
      {
        "duration": 11,
        "start_time": "2022-01-08T15:47:34.437Z"
      },
      {
        "duration": 27,
        "start_time": "2022-01-08T15:47:34.450Z"
      },
      {
        "duration": 14,
        "start_time": "2022-01-08T15:47:34.478Z"
      },
      {
        "duration": 26,
        "start_time": "2022-01-08T15:47:34.494Z"
      },
      {
        "duration": 22,
        "start_time": "2022-01-08T15:47:34.522Z"
      },
      {
        "duration": 24,
        "start_time": "2022-01-08T15:47:34.546Z"
      },
      {
        "duration": 70,
        "start_time": "2022-01-08T15:47:34.572Z"
      },
      {
        "duration": 65,
        "start_time": "2022-01-08T15:47:34.644Z"
      },
      {
        "duration": 50,
        "start_time": "2022-01-08T15:47:34.711Z"
      },
      {
        "duration": 8,
        "start_time": "2022-01-08T15:47:34.763Z"
      },
      {
        "duration": 19,
        "start_time": "2022-01-08T15:47:34.773Z"
      },
      {
        "duration": 10,
        "start_time": "2022-01-08T15:47:34.794Z"
      },
      {
        "duration": 13,
        "start_time": "2022-01-08T15:47:34.806Z"
      },
      {
        "duration": 16,
        "start_time": "2022-01-08T15:47:34.820Z"
      },
      {
        "duration": 17,
        "start_time": "2022-01-08T15:47:34.838Z"
      },
      {
        "duration": 14,
        "start_time": "2022-01-08T15:47:34.856Z"
      },
      {
        "duration": 21,
        "start_time": "2022-01-08T15:47:34.871Z"
      },
      {
        "duration": 41,
        "start_time": "2022-01-08T15:47:34.893Z"
      },
      {
        "duration": 22,
        "start_time": "2022-01-08T15:47:34.938Z"
      },
      {
        "duration": 11,
        "start_time": "2022-01-08T15:47:34.962Z"
      },
      {
        "duration": 27,
        "start_time": "2022-01-08T15:47:34.975Z"
      },
      {
        "duration": 24,
        "start_time": "2022-01-08T15:47:35.004Z"
      },
      {
        "duration": 8,
        "start_time": "2022-01-08T15:47:35.029Z"
      },
      {
        "duration": 23,
        "start_time": "2022-01-08T15:47:35.039Z"
      },
      {
        "duration": 18,
        "start_time": "2022-01-08T15:47:35.064Z"
      },
      {
        "duration": 6,
        "start_time": "2022-01-08T15:47:35.084Z"
      },
      {
        "duration": 59,
        "start_time": "2022-01-08T15:47:35.091Z"
      },
      {
        "duration": 15,
        "start_time": "2022-01-08T15:47:35.152Z"
      },
      {
        "duration": 27,
        "start_time": "2022-01-08T15:47:35.168Z"
      },
      {
        "duration": 16,
        "start_time": "2022-01-08T15:47:35.197Z"
      },
      {
        "duration": 7,
        "start_time": "2022-01-08T15:47:35.215Z"
      },
      {
        "duration": 8,
        "start_time": "2022-01-08T15:47:35.223Z"
      },
      {
        "duration": 8,
        "start_time": "2022-01-08T15:47:35.232Z"
      },
      {
        "duration": 4,
        "start_time": "2022-01-08T15:47:35.241Z"
      },
      {
        "duration": 8,
        "start_time": "2022-01-08T18:20:06.414Z"
      },
      {
        "duration": 9,
        "start_time": "2022-01-08T18:20:07.318Z"
      },
      {
        "duration": 2,
        "start_time": "2022-01-08T18:20:24.343Z"
      },
      {
        "duration": 156,
        "start_time": "2022-01-08T18:20:24.347Z"
      },
      {
        "duration": 10,
        "start_time": "2022-01-08T18:20:24.505Z"
      },
      {
        "duration": 24,
        "start_time": "2022-01-08T18:20:24.517Z"
      },
      {
        "duration": 4,
        "start_time": "2022-01-08T18:20:24.542Z"
      },
      {
        "duration": 44,
        "start_time": "2022-01-08T18:20:24.547Z"
      },
      {
        "duration": 4,
        "start_time": "2022-01-08T18:20:24.593Z"
      },
      {
        "duration": 25,
        "start_time": "2022-01-08T18:20:24.598Z"
      },
      {
        "duration": 16,
        "start_time": "2022-01-08T18:20:24.626Z"
      },
      {
        "duration": 21,
        "start_time": "2022-01-08T18:20:24.644Z"
      },
      {
        "duration": 76,
        "start_time": "2022-01-08T18:20:24.667Z"
      },
      {
        "duration": 70,
        "start_time": "2022-01-08T18:20:24.745Z"
      },
      {
        "duration": 48,
        "start_time": "2022-01-08T18:20:24.817Z"
      },
      {
        "duration": 25,
        "start_time": "2022-01-08T18:20:24.867Z"
      },
      {
        "duration": 4,
        "start_time": "2022-01-08T18:20:24.894Z"
      },
      {
        "duration": 13,
        "start_time": "2022-01-08T18:20:24.899Z"
      },
      {
        "duration": 11,
        "start_time": "2022-01-08T18:20:24.913Z"
      },
      {
        "duration": 11,
        "start_time": "2022-01-08T18:20:24.926Z"
      },
      {
        "duration": 10,
        "start_time": "2022-01-08T18:20:24.938Z"
      },
      {
        "duration": 3,
        "start_time": "2022-01-08T18:20:24.950Z"
      },
      {
        "duration": 48,
        "start_time": "2022-01-08T18:20:24.954Z"
      },
      {
        "duration": 14,
        "start_time": "2022-01-08T18:20:25.003Z"
      },
      {
        "duration": 14,
        "start_time": "2022-01-08T18:20:25.018Z"
      },
      {
        "duration": 13,
        "start_time": "2022-01-08T18:20:25.035Z"
      },
      {
        "duration": 15,
        "start_time": "2022-01-08T18:20:25.049Z"
      },
      {
        "duration": 16,
        "start_time": "2022-01-08T18:20:25.092Z"
      },
      {
        "duration": 8,
        "start_time": "2022-01-08T18:20:25.109Z"
      },
      {
        "duration": 15,
        "start_time": "2022-01-08T18:20:25.119Z"
      },
      {
        "duration": 12,
        "start_time": "2022-01-08T18:20:25.136Z"
      },
      {
        "duration": 5,
        "start_time": "2022-01-08T18:20:25.150Z"
      },
      {
        "duration": 59,
        "start_time": "2022-01-08T18:20:25.156Z"
      },
      {
        "duration": 17,
        "start_time": "2022-01-08T18:20:25.217Z"
      },
      {
        "duration": 28,
        "start_time": "2022-01-08T18:20:25.236Z"
      },
      {
        "duration": 43,
        "start_time": "2022-01-08T18:20:25.266Z"
      },
      {
        "duration": 9,
        "start_time": "2022-01-08T18:20:25.311Z"
      },
      {
        "duration": 6,
        "start_time": "2022-01-08T18:20:25.322Z"
      },
      {
        "duration": 9,
        "start_time": "2022-01-08T18:20:25.329Z"
      },
      {
        "duration": 65,
        "start_time": "2022-01-08T18:20:25.340Z"
      },
      {
        "duration": 2,
        "start_time": "2022-01-08T18:25:51.388Z"
      },
      {
        "duration": 165,
        "start_time": "2022-01-08T18:25:51.395Z"
      },
      {
        "duration": 13,
        "start_time": "2022-01-08T18:25:51.562Z"
      },
      {
        "duration": 26,
        "start_time": "2022-01-08T18:25:51.593Z"
      },
      {
        "duration": 4,
        "start_time": "2022-01-08T18:25:51.620Z"
      },
      {
        "duration": 19,
        "start_time": "2022-01-08T18:25:51.626Z"
      },
      {
        "duration": 4,
        "start_time": "2022-01-08T18:25:51.647Z"
      },
      {
        "duration": 53,
        "start_time": "2022-01-08T18:25:51.653Z"
      },
      {
        "duration": 17,
        "start_time": "2022-01-08T18:25:51.709Z"
      },
      {
        "duration": 24,
        "start_time": "2022-01-08T18:25:51.728Z"
      },
      {
        "duration": 82,
        "start_time": "2022-01-08T18:25:51.753Z"
      },
      {
        "duration": 66,
        "start_time": "2022-01-08T18:25:51.837Z"
      },
      {
        "duration": 49,
        "start_time": "2022-01-08T18:25:51.905Z"
      },
      {
        "duration": 9,
        "start_time": "2022-01-08T18:25:51.955Z"
      },
      {
        "duration": 3,
        "start_time": "2022-01-08T18:25:51.966Z"
      },
      {
        "duration": 11,
        "start_time": "2022-01-08T18:25:51.991Z"
      },
      {
        "duration": 9,
        "start_time": "2022-01-08T18:25:52.003Z"
      },
      {
        "duration": 11,
        "start_time": "2022-01-08T18:25:52.013Z"
      },
      {
        "duration": 10,
        "start_time": "2022-01-08T18:25:52.026Z"
      },
      {
        "duration": 3,
        "start_time": "2022-01-08T18:25:52.038Z"
      },
      {
        "duration": 49,
        "start_time": "2022-01-08T18:25:52.043Z"
      },
      {
        "duration": 14,
        "start_time": "2022-01-08T18:25:52.094Z"
      },
      {
        "duration": 13,
        "start_time": "2022-01-08T18:25:52.110Z"
      },
      {
        "duration": 12,
        "start_time": "2022-01-08T18:25:52.126Z"
      },
      {
        "duration": 14,
        "start_time": "2022-01-08T18:25:52.140Z"
      },
      {
        "duration": 45,
        "start_time": "2022-01-08T18:25:52.156Z"
      },
      {
        "duration": 8,
        "start_time": "2022-01-08T18:25:52.202Z"
      },
      {
        "duration": 16,
        "start_time": "2022-01-08T18:25:52.212Z"
      },
      {
        "duration": 12,
        "start_time": "2022-01-08T18:25:52.229Z"
      },
      {
        "duration": 4,
        "start_time": "2022-01-08T18:25:52.243Z"
      },
      {
        "duration": 60,
        "start_time": "2022-01-08T18:25:52.249Z"
      },
      {
        "duration": 19,
        "start_time": "2022-01-08T18:25:52.311Z"
      },
      {
        "duration": 29,
        "start_time": "2022-01-08T18:25:52.332Z"
      },
      {
        "duration": 44,
        "start_time": "2022-01-08T18:25:52.363Z"
      },
      {
        "duration": 9,
        "start_time": "2022-01-08T18:25:52.409Z"
      },
      {
        "duration": 5,
        "start_time": "2022-01-08T18:25:52.419Z"
      },
      {
        "duration": 7,
        "start_time": "2022-01-08T18:25:52.426Z"
      },
      {
        "duration": 5,
        "start_time": "2022-01-08T18:25:52.435Z"
      },
      {
        "duration": 276,
        "start_time": "2022-01-09T20:56:39.630Z"
      },
      {
        "duration": 594,
        "start_time": "2022-01-09T20:56:54.334Z"
      },
      {
        "duration": 134,
        "start_time": "2022-01-09T20:56:54.929Z"
      },
      {
        "duration": 16,
        "start_time": "2022-01-09T20:56:55.065Z"
      },
      {
        "duration": 24,
        "start_time": "2022-01-09T20:56:55.083Z"
      },
      {
        "duration": 4,
        "start_time": "2022-01-09T20:56:55.109Z"
      },
      {
        "duration": 42,
        "start_time": "2022-01-09T20:56:55.114Z"
      },
      {
        "duration": 4,
        "start_time": "2022-01-09T20:56:55.158Z"
      },
      {
        "duration": 23,
        "start_time": "2022-01-09T20:56:55.164Z"
      },
      {
        "duration": 19,
        "start_time": "2022-01-09T20:56:55.189Z"
      },
      {
        "duration": 42,
        "start_time": "2022-01-09T20:56:55.209Z"
      },
      {
        "duration": 55,
        "start_time": "2022-01-09T20:56:55.253Z"
      },
      {
        "duration": 74,
        "start_time": "2022-01-09T20:56:55.310Z"
      },
      {
        "duration": 62,
        "start_time": "2022-01-09T20:56:55.385Z"
      },
      {
        "duration": 10,
        "start_time": "2022-01-09T20:56:55.448Z"
      },
      {
        "duration": 60,
        "start_time": "2022-01-09T20:56:55.459Z"
      },
      {
        "duration": 21,
        "start_time": "2022-01-09T20:56:55.520Z"
      },
      {
        "duration": 11,
        "start_time": "2022-01-09T20:56:55.543Z"
      },
      {
        "duration": 8,
        "start_time": "2022-01-09T20:56:55.556Z"
      },
      {
        "duration": 10,
        "start_time": "2022-01-09T20:56:55.566Z"
      },
      {
        "duration": 9,
        "start_time": "2022-01-09T20:56:55.578Z"
      },
      {
        "duration": 3,
        "start_time": "2022-01-09T20:56:55.589Z"
      },
      {
        "duration": 49,
        "start_time": "2022-01-09T20:56:55.594Z"
      },
      {
        "duration": 16,
        "start_time": "2022-01-09T20:56:55.646Z"
      },
      {
        "duration": 15,
        "start_time": "2022-01-09T20:56:55.664Z"
      },
      {
        "duration": 14,
        "start_time": "2022-01-09T20:56:55.681Z"
      },
      {
        "duration": 47,
        "start_time": "2022-01-09T20:56:55.697Z"
      },
      {
        "duration": 14,
        "start_time": "2022-01-09T20:56:55.746Z"
      },
      {
        "duration": 7,
        "start_time": "2022-01-09T20:56:55.762Z"
      },
      {
        "duration": 12,
        "start_time": "2022-01-09T20:56:55.771Z"
      },
      {
        "duration": 12,
        "start_time": "2022-01-09T20:56:55.785Z"
      },
      {
        "duration": 9,
        "start_time": "2022-01-09T20:56:55.798Z"
      },
      {
        "duration": 54,
        "start_time": "2022-01-09T20:56:55.808Z"
      },
      {
        "duration": 17,
        "start_time": "2022-01-09T20:56:55.864Z"
      },
      {
        "duration": 28,
        "start_time": "2022-01-09T20:56:55.883Z"
      },
      {
        "duration": 40,
        "start_time": "2022-01-09T20:56:55.913Z"
      },
      {
        "duration": 8,
        "start_time": "2022-01-09T20:56:55.954Z"
      },
      {
        "duration": 4,
        "start_time": "2022-01-09T20:56:55.963Z"
      },
      {
        "duration": 8,
        "start_time": "2022-01-09T20:56:55.969Z"
      },
      {
        "duration": 9,
        "start_time": "2022-01-09T20:56:55.978Z"
      },
      {
        "duration": 70,
        "start_time": "2022-01-09T20:57:04.382Z"
      },
      {
        "duration": 63,
        "start_time": "2022-01-09T20:58:23.510Z"
      },
      {
        "duration": 10,
        "start_time": "2022-01-09T20:59:03.704Z"
      },
      {
        "duration": 56,
        "start_time": "2022-01-09T20:59:29.249Z"
      },
      {
        "duration": 98,
        "start_time": "2022-01-09T21:00:03.893Z"
      },
      {
        "duration": 84,
        "start_time": "2022-01-09T21:01:12.997Z"
      },
      {
        "duration": 61,
        "start_time": "2022-01-09T21:01:21.692Z"
      },
      {
        "duration": 11,
        "start_time": "2022-01-09T21:02:36.175Z"
      },
      {
        "duration": 3,
        "start_time": "2022-01-09T21:11:02.546Z"
      },
      {
        "duration": 190,
        "start_time": "2022-01-09T21:11:02.551Z"
      },
      {
        "duration": 11,
        "start_time": "2022-01-09T21:11:02.743Z"
      },
      {
        "duration": 32,
        "start_time": "2022-01-09T21:11:02.756Z"
      },
      {
        "duration": 28,
        "start_time": "2022-01-09T21:11:02.790Z"
      },
      {
        "duration": 40,
        "start_time": "2022-01-09T21:11:02.820Z"
      },
      {
        "duration": 12,
        "start_time": "2022-01-09T21:11:02.862Z"
      },
      {
        "duration": 38,
        "start_time": "2022-01-09T21:11:02.876Z"
      },
      {
        "duration": 34,
        "start_time": "2022-01-09T21:11:02.916Z"
      },
      {
        "duration": 41,
        "start_time": "2022-01-09T21:11:02.952Z"
      },
      {
        "duration": 86,
        "start_time": "2022-01-09T21:11:02.995Z"
      },
      {
        "duration": 74,
        "start_time": "2022-01-09T21:11:03.083Z"
      },
      {
        "duration": 55,
        "start_time": "2022-01-09T21:11:03.159Z"
      },
      {
        "duration": 9,
        "start_time": "2022-01-09T21:11:03.216Z"
      },
      {
        "duration": 43,
        "start_time": "2022-01-09T21:11:03.227Z"
      },
      {
        "duration": 3,
        "start_time": "2022-01-09T21:11:03.272Z"
      },
      {
        "duration": 40,
        "start_time": "2022-01-09T21:11:03.277Z"
      },
      {
        "duration": 26,
        "start_time": "2022-01-09T21:11:03.319Z"
      },
      {
        "duration": 29,
        "start_time": "2022-01-09T21:11:03.348Z"
      },
      {
        "duration": 28,
        "start_time": "2022-01-09T21:11:03.379Z"
      },
      {
        "duration": 24,
        "start_time": "2022-01-09T21:11:03.409Z"
      },
      {
        "duration": 42,
        "start_time": "2022-01-09T21:11:03.435Z"
      },
      {
        "duration": 20,
        "start_time": "2022-01-09T21:11:03.480Z"
      },
      {
        "duration": 36,
        "start_time": "2022-01-09T21:11:03.502Z"
      },
      {
        "duration": 21,
        "start_time": "2022-01-09T21:11:03.539Z"
      },
      {
        "duration": 20,
        "start_time": "2022-01-09T21:11:03.562Z"
      },
      {
        "duration": 24,
        "start_time": "2022-01-09T21:11:03.584Z"
      },
      {
        "duration": 34,
        "start_time": "2022-01-09T21:11:03.610Z"
      },
      {
        "duration": 26,
        "start_time": "2022-01-09T21:11:03.646Z"
      },
      {
        "duration": 25,
        "start_time": "2022-01-09T21:11:03.674Z"
      },
      {
        "duration": 9,
        "start_time": "2022-01-09T21:11:03.701Z"
      },
      {
        "duration": 58,
        "start_time": "2022-01-09T21:11:03.712Z"
      },
      {
        "duration": 44,
        "start_time": "2022-01-09T21:11:03.772Z"
      },
      {
        "duration": 62,
        "start_time": "2022-01-09T21:11:03.818Z"
      },
      {
        "duration": 28,
        "start_time": "2022-01-09T21:11:03.882Z"
      },
      {
        "duration": 8,
        "start_time": "2022-01-09T21:11:03.911Z"
      },
      {
        "duration": 37,
        "start_time": "2022-01-09T21:11:03.921Z"
      },
      {
        "duration": 27,
        "start_time": "2022-01-09T21:11:03.960Z"
      },
      {
        "duration": 18,
        "start_time": "2022-01-09T21:11:03.989Z"
      }
    ],
    "colab": {
      "provenance": []
    },
    "kernelspec": {
      "display_name": "Python 3 (ipykernel)",
      "language": "python",
      "name": "python3"
    },
    "language_info": {
      "codemirror_mode": {
        "name": "ipython",
        "version": 3
      },
      "file_extension": ".py",
      "mimetype": "text/x-python",
      "name": "python",
      "nbconvert_exporter": "python",
      "pygments_lexer": "ipython3",
      "version": "3.9.5"
    },
    "toc": {
      "base_numbering": 1,
      "nav_menu": {},
      "number_sections": true,
      "sideBar": true,
      "skip_h1_title": true,
      "title_cell": "Table of Contents",
      "title_sidebar": "Contents",
      "toc_cell": false,
      "toc_position": {
        "height": "calc(100% - 180px)",
        "left": "10px",
        "top": "150px",
        "width": "241.391px"
      },
      "toc_section_display": true,
      "toc_window_display": true
    }
  },
  "nbformat": 4,
  "nbformat_minor": 0
}
