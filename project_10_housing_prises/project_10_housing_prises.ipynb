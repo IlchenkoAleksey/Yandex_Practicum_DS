{
  "cells": [
    {
      "cell_type": "markdown",
      "id": "GEqQaHzsZ_bA",
      "metadata": {
        "id": "GEqQaHzsZ_bA"
      },
      "source": [
        "# Предсказание стоимости жилья\n",
        "\n",
        "В проекте вам нужно обучить модель линейной регрессии на данных о жилье в Калифорнии в 1990 году. На основе данных нужно предсказать медианную стоимость дома в жилом массиве. Обучите модель и сделайте предсказания на тестовой выборке. Для оценки качества модели используйте метрики RMSE, MAE и R2."
      ]
    },
    {
      "cell_type": "markdown",
      "id": "53871372",
      "metadata": {
        "id": "53871372"
      },
      "source": [
        "# Подготовка данных"
      ]
    },
    {
      "cell_type": "markdown",
      "id": "70ec4e9f",
      "metadata": {
        "id": "70ec4e9f"
      },
      "source": [
        "## Предобработка данных"
      ]
    },
    {
      "cell_type": "markdown",
      "id": "c386b809",
      "metadata": {
        "id": "c386b809"
      },
      "source": [
        "Импортируем библиотеки, модуль Spark"
      ]
    },
    {
      "cell_type": "code",
      "execution_count": null,
      "id": "df92e3ec",
      "metadata": {
        "id": "df92e3ec"
      },
      "outputs": [],
      "source": [
        "import pandas as pd\n",
        "import numpy as np\n",
        "\n",
        "import pyspark\n",
        "from pyspark.sql import SparkSession\n",
        "\n",
        "import pyspark.sql.functions as F\n",
        "from pyspark.sql.window import Window\n",
        "from pyspark.ml.feature import StringIndexer, VectorAssembler, StandardScaler, Imputer\n",
        "from pyspark.ml.regression import LinearRegression\n",
        "from pyspark.ml.evaluation import RegressionEvaluator\n",
        "from pyspark.ml.feature import OneHotEncoder\n",
        "\n",
        "RANDOM_SEED = 12345"
      ]
    },
    {
      "cell_type": "markdown",
      "id": "2e2d95f6",
      "metadata": {
        "id": "2e2d95f6"
      },
      "source": [
        "Инициируем Spark-сессию"
      ]
    },
    {
      "cell_type": "code",
      "execution_count": null,
      "id": "75ee06d1",
      "metadata": {
        "id": "75ee06d1"
      },
      "outputs": [],
      "source": [
        "spark = SparkSession.builder \\\n",
        "                    .master(\"local\") \\\n",
        "                    .appName(\"Linear Rergession California\") \\\n",
        "                    .getOrCreate()"
      ]
    },
    {
      "cell_type": "markdown",
      "id": "93941986",
      "metadata": {
        "id": "93941986"
      },
      "source": [
        "### Загрузим датасет"
      ]
    },
    {
      "cell_type": "code",
      "execution_count": null,
      "id": "0dfde817",
      "metadata": {
        "id": "0dfde817",
        "outputId": "7dcf2192-a414-4ff6-b196-93d78571c4a6"
      },
      "outputs": [
        {
          "name": "stderr",
          "output_type": "stream",
          "text": [
            "                                                                                \r"
          ]
        }
      ],
      "source": [
        "df = spark.read.option('header', 'true').csv('/datasets/housing.csv', inferSchema = True)"
      ]
    },
    {
      "cell_type": "markdown",
      "id": "2aa8b91e",
      "metadata": {
        "id": "2aa8b91e"
      },
      "source": [
        "Выведем на экран колонки и тип данных в датасете"
      ]
    },
    {
      "cell_type": "code",
      "execution_count": null,
      "id": "87c217f1",
      "metadata": {
        "scrolled": true,
        "id": "87c217f1",
        "outputId": "4f36c577-bb81-49f3-8e57-25063a95cb4b"
      },
      "outputs": [
        {
          "name": "stdout",
          "output_type": "stream",
          "text": [
            "root\n",
            " |-- longitude: double (nullable = true)\n",
            " |-- latitude: double (nullable = true)\n",
            " |-- housing_median_age: double (nullable = true)\n",
            " |-- total_rooms: double (nullable = true)\n",
            " |-- total_bedrooms: double (nullable = true)\n",
            " |-- population: double (nullable = true)\n",
            " |-- households: double (nullable = true)\n",
            " |-- median_income: double (nullable = true)\n",
            " |-- median_house_value: double (nullable = true)\n",
            " |-- ocean_proximity: string (nullable = true)\n",
            "\n"
          ]
        }
      ],
      "source": [
        "df.printSchema()"
      ]
    },
    {
      "cell_type": "markdown",
      "id": "5c5b653e",
      "metadata": {
        "id": "5c5b653e"
      },
      "source": [
        "Из задания нам известно, в колонках датасета содержатся следующие данные:  \n",
        "        - **longitude** — широта;  \n",
        "        - **latitude** — долгота;  \n",
        "        - **housing_median_age** — медианный возраст жителей жилого массива;  \n",
        "        - **total_rooms** — общее количество комнат в домах жилого массива;  \n",
        "        - **total_bedrooms** — общее количество спален в домах жилого массива;  \n",
        "        - **population** — количество человек, которые проживают в жилом массиве;  \n",
        "        - **households** — количество домовладений в жилом массиве;  \n",
        "        - **median_income** — медианный доход жителей жилого массива;  \n",
        "        - **median_house_value** — медианная стоимость дома в жилом массиве;  \n",
        "        - **ocean_proximity** — близость к океану."
      ]
    },
    {
      "cell_type": "markdown",
      "id": "c9459ad3",
      "metadata": {
        "id": "c9459ad3"
      },
      "source": [
        "Средстами Pandas методом describe посмотрим данные датафрейма"
      ]
    },
    {
      "cell_type": "code",
      "execution_count": null,
      "id": "849770c8",
      "metadata": {
        "scrolled": true,
        "id": "849770c8",
        "outputId": "b87d0648-473e-43da-a741-1496e08f7786"
      },
      "outputs": [
        {
          "name": "stderr",
          "output_type": "stream",
          "text": [
            "                                                                                \r"
          ]
        },
        {
          "data": {
            "text/html": [
              "<div>\n",
              "<style scoped>\n",
              "    .dataframe tbody tr th:only-of-type {\n",
              "        vertical-align: middle;\n",
              "    }\n",
              "\n",
              "    .dataframe tbody tr th {\n",
              "        vertical-align: top;\n",
              "    }\n",
              "\n",
              "    .dataframe thead th {\n",
              "        text-align: right;\n",
              "    }\n",
              "</style>\n",
              "<table border=\"1\" class=\"dataframe\">\n",
              "  <thead>\n",
              "    <tr style=\"text-align: right;\">\n",
              "      <th></th>\n",
              "      <th>summary</th>\n",
              "      <th>longitude</th>\n",
              "      <th>latitude</th>\n",
              "      <th>housing_median_age</th>\n",
              "      <th>total_rooms</th>\n",
              "      <th>total_bedrooms</th>\n",
              "      <th>population</th>\n",
              "      <th>households</th>\n",
              "      <th>median_income</th>\n",
              "      <th>median_house_value</th>\n",
              "      <th>ocean_proximity</th>\n",
              "    </tr>\n",
              "  </thead>\n",
              "  <tbody>\n",
              "    <tr>\n",
              "      <th>0</th>\n",
              "      <td>count</td>\n",
              "      <td>20640</td>\n",
              "      <td>20640</td>\n",
              "      <td>20640</td>\n",
              "      <td>20640</td>\n",
              "      <td>20433</td>\n",
              "      <td>20640</td>\n",
              "      <td>20640</td>\n",
              "      <td>20640</td>\n",
              "      <td>20640</td>\n",
              "      <td>20640</td>\n",
              "    </tr>\n",
              "    <tr>\n",
              "      <th>1</th>\n",
              "      <td>mean</td>\n",
              "      <td>-119.56970445736148</td>\n",
              "      <td>35.6318614341087</td>\n",
              "      <td>28.639486434108527</td>\n",
              "      <td>2635.7630813953488</td>\n",
              "      <td>537.8705525375618</td>\n",
              "      <td>1425.4767441860465</td>\n",
              "      <td>499.5396802325581</td>\n",
              "      <td>3.8706710029070246</td>\n",
              "      <td>206855.81690891474</td>\n",
              "      <td>None</td>\n",
              "    </tr>\n",
              "    <tr>\n",
              "      <th>2</th>\n",
              "      <td>stddev</td>\n",
              "      <td>2.003531723502584</td>\n",
              "      <td>2.135952397457101</td>\n",
              "      <td>12.58555761211163</td>\n",
              "      <td>2181.6152515827944</td>\n",
              "      <td>421.38507007403115</td>\n",
              "      <td>1132.46212176534</td>\n",
              "      <td>382.3297528316098</td>\n",
              "      <td>1.899821717945263</td>\n",
              "      <td>115395.61587441359</td>\n",
              "      <td>None</td>\n",
              "    </tr>\n",
              "    <tr>\n",
              "      <th>3</th>\n",
              "      <td>min</td>\n",
              "      <td>-124.35</td>\n",
              "      <td>32.54</td>\n",
              "      <td>1.0</td>\n",
              "      <td>2.0</td>\n",
              "      <td>1.0</td>\n",
              "      <td>3.0</td>\n",
              "      <td>1.0</td>\n",
              "      <td>0.4999</td>\n",
              "      <td>14999.0</td>\n",
              "      <td>&lt;1H OCEAN</td>\n",
              "    </tr>\n",
              "    <tr>\n",
              "      <th>4</th>\n",
              "      <td>max</td>\n",
              "      <td>-114.31</td>\n",
              "      <td>41.95</td>\n",
              "      <td>52.0</td>\n",
              "      <td>39320.0</td>\n",
              "      <td>6445.0</td>\n",
              "      <td>35682.0</td>\n",
              "      <td>6082.0</td>\n",
              "      <td>15.0001</td>\n",
              "      <td>500001.0</td>\n",
              "      <td>NEAR OCEAN</td>\n",
              "    </tr>\n",
              "  </tbody>\n",
              "</table>\n",
              "</div>"
            ],
            "text/plain": [
              "  summary            longitude           latitude  housing_median_age  \\\n",
              "0   count                20640              20640               20640   \n",
              "1    mean  -119.56970445736148   35.6318614341087  28.639486434108527   \n",
              "2  stddev    2.003531723502584  2.135952397457101   12.58555761211163   \n",
              "3     min              -124.35              32.54                 1.0   \n",
              "4     max              -114.31              41.95                52.0   \n",
              "\n",
              "          total_rooms      total_bedrooms          population  \\\n",
              "0               20640               20433               20640   \n",
              "1  2635.7630813953488   537.8705525375618  1425.4767441860465   \n",
              "2  2181.6152515827944  421.38507007403115    1132.46212176534   \n",
              "3                 2.0                 1.0                 3.0   \n",
              "4             39320.0              6445.0             35682.0   \n",
              "\n",
              "          households       median_income  median_house_value ocean_proximity  \n",
              "0              20640               20640               20640           20640  \n",
              "1  499.5396802325581  3.8706710029070246  206855.81690891474            None  \n",
              "2  382.3297528316098   1.899821717945263  115395.61587441359            None  \n",
              "3                1.0              0.4999             14999.0       <1H OCEAN  \n",
              "4             6082.0             15.0001            500001.0      NEAR OCEAN  "
            ]
          },
          "execution_count": 6,
          "metadata": {},
          "output_type": "execute_result"
        }
      ],
      "source": [
        "df.describe().toPandas()"
      ]
    },
    {
      "cell_type": "markdown",
      "id": "cd2331dd",
      "metadata": {
        "id": "cd2331dd"
      },
      "source": [
        "### Поиск пропусков в данных"
      ]
    },
    {
      "cell_type": "code",
      "execution_count": null,
      "id": "39368589",
      "metadata": {
        "id": "39368589",
        "outputId": "ed5367dc-d194-4bc8-c7af-fbfacc5d306b"
      },
      "outputs": [
        {
          "name": "stdout",
          "output_type": "stream",
          "text": [
            "longitude 0\n",
            "latitude 0\n",
            "housing_median_age 0\n",
            "total_rooms 0\n",
            "total_bedrooms 207\n",
            "population 0\n",
            "households 0\n",
            "median_income 0\n",
            "median_house_value 0\n",
            "ocean_proximity 0\n"
          ]
        }
      ],
      "source": [
        "for column in df.columns:\n",
        "    check_col = F.col(column).isNull()\n",
        "    print(column, df.filter(check_col == True).count())"
      ]
    },
    {
      "cell_type": "markdown",
      "id": "8ad104b3",
      "metadata": {
        "id": "8ad104b3"
      },
      "source": [
        "В колонке **total_bedrooms** обнаружено `207` пропуска. Заполним пропуски медианными значениями"
      ]
    },
    {
      "cell_type": "code",
      "execution_count": null,
      "id": "b6252f39",
      "metadata": {
        "id": "b6252f39"
      },
      "outputs": [],
      "source": [
        "mean = df.select(F.mean('total_bedrooms')).collect()[0][0]\n",
        "df = df.na.fill({'total_bedrooms': mean})"
      ]
    },
    {
      "cell_type": "markdown",
      "id": "07a0e8cd",
      "metadata": {
        "id": "07a0e8cd"
      },
      "source": [
        "<div class=\"alert alert-success\">\n",
        "<b>Комментарий ревьюера ✔️:</b> Супер! Заполнил верно:)Еще можно вот так:\n",
        "\n",
        "\n",
        "```python\n",
        "    imputer = Imputer(inputCols=['total_bedrooms'],\n",
        "                  outputCols=['total_bedrooms'])\n",
        "    \n",
        "    df = imputer.setStrategy('mean').fit(df).transform(df)\n",
        "    \n",
        "    \n",
        "```\n",
        "\n",
        "</div>"
      ]
    },
    {
      "cell_type": "markdown",
      "id": "52dc8a9d",
      "metadata": {
        "id": "52dc8a9d"
      },
      "source": [
        "<div class=\"alert alert-info\"> <b>Комментарий студента:</b> ✔️ Посмотрел, спасибо за вариант ! </div>"
      ]
    },
    {
      "cell_type": "markdown",
      "id": "a47945d3",
      "metadata": {
        "id": "a47945d3"
      },
      "source": [
        "Проверим, что не осталось пропусков"
      ]
    },
    {
      "cell_type": "code",
      "execution_count": null,
      "id": "e6bf3481",
      "metadata": {
        "scrolled": true,
        "id": "e6bf3481",
        "outputId": "0ac20639-51c2-4d62-820f-dd6f4a056dab"
      },
      "outputs": [
        {
          "name": "stdout",
          "output_type": "stream",
          "text": [
            "longitude 0\n",
            "latitude 0\n",
            "housing_median_age 0\n",
            "total_rooms 0\n",
            "total_bedrooms 0\n",
            "population 0\n",
            "households 0\n",
            "median_income 0\n",
            "median_house_value 0\n",
            "ocean_proximity 0\n"
          ]
        }
      ],
      "source": [
        "for column in df.columns:\n",
        "    check_col = F.col(column).isNull()\n",
        "    print(column, df.filter(check_col == True).count())"
      ]
    },
    {
      "cell_type": "markdown",
      "id": "0d8ee9b4",
      "metadata": {
        "id": "0d8ee9b4"
      },
      "source": [
        "### Трансформируем категориальные признаки с помощью трансформера StringIndexer. Сделаем OHE-кодирование"
      ]
    },
    {
      "cell_type": "code",
      "execution_count": null,
      "id": "31dc928d",
      "metadata": {
        "id": "31dc928d",
        "outputId": "b7594343-1199-4260-93ef-ebf14cc6b4bf"
      },
      "outputs": [
        {
          "name": "stderr",
          "output_type": "stream",
          "text": [
            "                                                                                \r"
          ]
        }
      ],
      "source": [
        "indexer = StringIndexer(inputCols=['ocean_proximity'],\n",
        "                        outputCols=['ocean_proximity_idx'])\n",
        "df = indexer.fit(df).transform(df)\n",
        "\n",
        "encoder = OneHotEncoder(inputCols=['ocean_proximity_idx'],\n",
        "                        outputCols=['ocean_proximity_ohe'])\n",
        "df = encoder.fit(df).transform(df)"
      ]
    },
    {
      "cell_type": "markdown",
      "id": "69e76391",
      "metadata": {
        "id": "69e76391"
      },
      "source": [
        "Посмотрим уникальные объекты колонки **ocean_proximity_idx**"
      ]
    },
    {
      "cell_type": "code",
      "execution_count": null,
      "id": "5b029a1a",
      "metadata": {
        "scrolled": true,
        "id": "5b029a1a",
        "outputId": "1877208e-f569-4720-88e8-25584288e92c"
      },
      "outputs": [
        {
          "name": "stderr",
          "output_type": "stream",
          "text": [
            "[Stage 59:=====================================================>  (72 + 1) / 75]\r"
          ]
        },
        {
          "name": "stdout",
          "output_type": "stream",
          "text": [
            "+-------------------+\n",
            "|ocean_proximity_idx|\n",
            "+-------------------+\n",
            "|                0.0|\n",
            "|                1.0|\n",
            "|                4.0|\n",
            "|                3.0|\n",
            "|                2.0|\n",
            "+-------------------+\n",
            "\n"
          ]
        },
        {
          "name": "stderr",
          "output_type": "stream",
          "text": [
            "                                                                                \r"
          ]
        }
      ],
      "source": [
        "df.select('ocean_proximity_idx').distinct().show()"
      ]
    },
    {
      "cell_type": "markdown",
      "id": "09370cbf",
      "metadata": {
        "id": "09370cbf"
      },
      "source": [
        "Выведем на экран уникальные объекты колонки **ocean_proximity_ohe**"
      ]
    },
    {
      "cell_type": "code",
      "execution_count": null,
      "id": "6d50f83d",
      "metadata": {
        "scrolled": true,
        "id": "6d50f83d",
        "outputId": "852eab4f-4d39-4054-e572-03a73ab2f5d4"
      },
      "outputs": [
        {
          "name": "stderr",
          "output_type": "stream",
          "text": [
            "                                                                                \r"
          ]
        },
        {
          "name": "stdout",
          "output_type": "stream",
          "text": [
            "+-------------------+\n",
            "|ocean_proximity_ohe|\n",
            "+-------------------+\n",
            "|      (4,[2],[1.0])|\n",
            "|      (4,[0],[1.0])|\n",
            "|          (4,[],[])|\n",
            "|      (4,[3],[1.0])|\n",
            "|      (4,[1],[1.0])|\n",
            "+-------------------+\n",
            "\n"
          ]
        }
      ],
      "source": [
        "df.select('ocean_proximity_ohe').distinct().show()"
      ]
    },
    {
      "cell_type": "markdown",
      "id": "ab8386cd",
      "metadata": {
        "id": "ab8386cd"
      },
      "source": [
        "### Трансформация числовых признаков.  "
      ]
    },
    {
      "cell_type": "markdown",
      "id": "f2488ff0",
      "metadata": {
        "id": "f2488ff0"
      },
      "source": [
        "Для числовых признаков тоже нужна трансформация — шкалирование значений — чтобы сильные выбросы не смещали предсказания модели.\n",
        "Создадим список с числовыми признаками"
      ]
    },
    {
      "cell_type": "code",
      "execution_count": null,
      "id": "ef04b4b8",
      "metadata": {
        "id": "ef04b4b8"
      },
      "outputs": [],
      "source": [
        "num_cols = ['longitude', 'latitude', 'housing_median_age',\n",
        "        'total_rooms', 'population', 'households',\n",
        "        'median_income']\n",
        "\n",
        "target = 'median_house_value'"
      ]
    },
    {
      "cell_type": "markdown",
      "id": "2af24da8",
      "metadata": {
        "id": "2af24da8"
      },
      "source": [
        "Собераем числовые признаки в один вектор"
      ]
    },
    {
      "cell_type": "code",
      "execution_count": null,
      "id": "f1cb6dac",
      "metadata": {
        "id": "f1cb6dac"
      },
      "outputs": [],
      "source": [
        "numerical_assembler = VectorAssembler(inputCols=num_cols, outputCol=\"numerical_features\")\n",
        "df = numerical_assembler.transform(df)"
      ]
    },
    {
      "cell_type": "markdown",
      "id": "5377d1ba",
      "metadata": {
        "id": "5377d1ba"
      },
      "source": [
        "Стандартизируем эти признаки"
      ]
    },
    {
      "cell_type": "code",
      "execution_count": null,
      "id": "574051e9",
      "metadata": {
        "scrolled": true,
        "id": "574051e9",
        "outputId": "cff4d5d6-60c2-4621-ddfc-2ec2a7a94dde"
      },
      "outputs": [
        {
          "name": "stderr",
          "output_type": "stream",
          "text": [
            "                                                                                \r"
          ]
        }
      ],
      "source": [
        "standardScaler = StandardScaler(inputCol='numerical_features', outputCol=\"numerical_features_scaled\")\n",
        "df = standardScaler.fit(df).transform(df)"
      ]
    },
    {
      "cell_type": "markdown",
      "id": "056bb28f",
      "metadata": {
        "id": "056bb28f"
      },
      "source": [
        "Объединим числовые признаки с категориальными"
      ]
    },
    {
      "cell_type": "code",
      "execution_count": null,
      "id": "f02b7f4d",
      "metadata": {
        "scrolled": true,
        "id": "f02b7f4d",
        "outputId": "4d3a2982-e717-48ad-a408-f86f935722f3"
      },
      "outputs": [
        {
          "name": "stdout",
          "output_type": "stream",
          "text": [
            "+-------------------+-------------------------+\n",
            "|ocean_proximity_ohe|numerical_features_scaled|\n",
            "+-------------------+-------------------------+\n",
            "|      (4,[3],[1.0])|     [-61.007269596069...|\n",
            "|      (4,[3],[1.0])|     [-61.002278409814...|\n",
            "|      (4,[3],[1.0])|     [-61.012260782324...|\n",
            "+-------------------+-------------------------+\n",
            "only showing top 3 rows\n",
            "\n"
          ]
        }
      ],
      "source": [
        "all_features = ['ocean_proximity_ohe','numerical_features_scaled']\n",
        "\n",
        "final_assembler = VectorAssembler(inputCols=all_features,\n",
        "                                  outputCol=\"features\")\n",
        "df = final_assembler.transform(df)\n",
        "\n",
        "df.select(all_features).show(3)"
      ]
    },
    {
      "cell_type": "markdown",
      "id": "7c89498d",
      "metadata": {
        "id": "7c89498d"
      },
      "source": [
        "### Разделение на выборки"
      ]
    },
    {
      "cell_type": "markdown",
      "id": "a26be69d",
      "metadata": {
        "id": "a26be69d"
      },
      "source": [
        "Разделяем наш датасет на две части — выборку для обучения и выборку для тестирования качества модели с помощью метода randomSplit()"
      ]
    },
    {
      "cell_type": "code",
      "execution_count": null,
      "id": "ee250fc1",
      "metadata": {
        "scrolled": true,
        "id": "ee250fc1",
        "outputId": "3728dcc2-2597-4018-a971-cbe96e557d9d"
      },
      "outputs": [
        {
          "name": "stderr",
          "output_type": "stream",
          "text": [
            "[Stage 75:>                                                         (0 + 1) / 1]\r"
          ]
        },
        {
          "name": "stdout",
          "output_type": "stream",
          "text": [
            "16431 4209\n"
          ]
        },
        {
          "name": "stderr",
          "output_type": "stream",
          "text": [
            "                                                                                \r"
          ]
        }
      ],
      "source": [
        "train_data, test_data = df.randomSplit([.8,.2], seed=RANDOM_SEED)\n",
        "\n",
        "print(train_data.count(), test_data.count())"
      ]
    },
    {
      "cell_type": "markdown",
      "id": "3c0d02cf",
      "metadata": {
        "id": "3c0d02cf"
      },
      "source": [
        "Вывод:  \n",
        "    - ознакомились с датасетом  \n",
        "    - произвели поиск пропусков в данных, заполнили их медианным значением по колонке  \n",
        "    - трансформировали категориальные признаки, числовые признаки"
      ]
    },
    {
      "cell_type": "markdown",
      "id": "9f0a82f3",
      "metadata": {
        "id": "9f0a82f3"
      },
      "source": [
        "## Обучение моделей"
      ]
    },
    {
      "cell_type": "markdown",
      "id": "aa1d1989",
      "metadata": {
        "id": "aa1d1989"
      },
      "source": [
        "### Обучие модели используя все данные из файла"
      ]
    },
    {
      "cell_type": "markdown",
      "id": "c10ee5a4",
      "metadata": {
        "id": "c10ee5a4"
      },
      "source": [
        "Укажем, какая колонка содержит вектор признаков для обучения, как называется колонка с целевой переменной."
      ]
    },
    {
      "cell_type": "code",
      "execution_count": null,
      "id": "bddb08c4",
      "metadata": {
        "id": "bddb08c4",
        "scrolled": true,
        "outputId": "77175160-b94a-4458-a951-3ac831d27912"
      },
      "outputs": [
        {
          "name": "stderr",
          "output_type": "stream",
          "text": [
            "22/08/31 19:57:26 WARN BLAS: Failed to load implementation from: com.github.fommil.netlib.NativeSystemBLAS\n",
            "22/08/31 19:57:26 WARN BLAS: Failed to load implementation from: com.github.fommil.netlib.NativeRefBLAS\n",
            "                                                                                \r"
          ]
        }
      ],
      "source": [
        "lr = LinearRegression(featuresCol = 'features', labelCol=target, regParam=0.3, elasticNetParam=0.8)\n",
        "lr_model = lr.fit(train_data)"
      ]
    },
    {
      "cell_type": "markdown",
      "id": "e90c3dc6",
      "metadata": {
        "id": "e90c3dc6"
      },
      "source": [
        "Зададим функцию оценки модели"
      ]
    },
    {
      "cell_type": "code",
      "execution_count": null,
      "id": "741c90d1",
      "metadata": {
        "id": "741c90d1"
      },
      "outputs": [],
      "source": [
        "def model_eval(model,test_data,target_col_name):\n",
        "    predictions = model.transform(test_data)\n",
        "    predictedLabes = predictions.select(target_col_name, \"prediction\")\n",
        "    evaluator = RegressionEvaluator(labelCol=target_col_name, predictionCol=\"prediction\")\n",
        "    rmse = evaluator.evaluate(predictedLabes,{evaluator.metricName: \"rmse\"})\n",
        "    r2 = evaluator.evaluate(predictedLabes, {evaluator.metricName: \"r2\"})\n",
        "    mae = evaluator.evaluate(predictedLabes, {evaluator.metricName: \"mae\"})\n",
        "    return rmse,r2,mae"
      ]
    },
    {
      "cell_type": "markdown",
      "id": "b392cfdf",
      "metadata": {
        "id": "b392cfdf"
      },
      "source": [
        "Оценим модель и сохраним метрики в переменные для дальнейшего сравнения"
      ]
    },
    {
      "cell_type": "code",
      "execution_count": null,
      "id": "98d1ec19",
      "metadata": {
        "id": "98d1ec19",
        "outputId": "08478b0f-8ab1-413a-bbfd-5f42434e5b3d"
      },
      "outputs": [
        {
          "name": "stderr",
          "output_type": "stream",
          "text": [
            "                                                                                \r"
          ]
        },
        {
          "name": "stdout",
          "output_type": "stream",
          "text": [
            "68058.44059022666 0.6553224019443017 49396.56401387112\n"
          ]
        }
      ],
      "source": [
        "rmse,r2,mae = model_eval(lr_model,test_data,target)\n",
        "print(rmse,r2,mae)"
      ]
    },
    {
      "cell_type": "markdown",
      "id": "210f5253",
      "metadata": {
        "id": "210f5253"
      },
      "source": [
        "### Обучение модели используя только числовые переменные, исключив категориальные"
      ]
    },
    {
      "cell_type": "code",
      "execution_count": null,
      "id": "bb3ef12e",
      "metadata": {
        "id": "bb3ef12e"
      },
      "outputs": [],
      "source": [
        "lr2 = LinearRegression(featuresCol = 'numerical_features_scaled', labelCol=target, regParam=0.3, elasticNetParam=0.8)\n",
        "lr2_model = lr2.fit(train_data)"
      ]
    },
    {
      "cell_type": "markdown",
      "id": "96569492",
      "metadata": {
        "id": "96569492"
      },
      "source": [
        " Оценим вторую модель и сохраним метрики"
      ]
    },
    {
      "cell_type": "code",
      "execution_count": null,
      "id": "819de762",
      "metadata": {
        "id": "819de762",
        "outputId": "78a01dd3-57f0-4c43-d14b-e6aec81141c9"
      },
      "outputs": [
        {
          "name": "stderr",
          "output_type": "stream",
          "text": [
            "                                                                                \r"
          ]
        },
        {
          "name": "stdout",
          "output_type": "stream",
          "text": [
            "69125.19371387232 0.6444327174483986 50653.7923946965\n"
          ]
        }
      ],
      "source": [
        "rmse2,r22,mae2 = model_eval(lr2_model,test_data,target)\n",
        "print(rmse2,r22,mae2)"
      ]
    },
    {
      "cell_type": "markdown",
      "id": "757fd103",
      "metadata": {
        "id": "757fd103"
      },
      "source": [
        "# Анализ результатов"
      ]
    },
    {
      "cell_type": "markdown",
      "id": "a08134be",
      "metadata": {
        "id": "a08134be"
      },
      "source": [
        "Сравним результаты работы линейной регрессии на двух наборах данных по метрикам RMSE, MAE и R2"
      ]
    },
    {
      "cell_type": "markdown",
      "id": "a3b2fb7f",
      "metadata": {
        "id": "a3b2fb7f"
      },
      "source": [
        "Построим сводную таблицу по метрикам"
      ]
    },
    {
      "cell_type": "code",
      "execution_count": null,
      "id": "c8d298cd",
      "metadata": {
        "id": "c8d298cd"
      },
      "outputs": [],
      "source": [
        "scores = {\"RMSE\":[rmse,rmse2],\n",
        "         \"r2\":[r2,r22],\n",
        "         \"MAE\":[mae,mae2],\n",
        "         }\n",
        "\n",
        "scores = pd.DataFrame(scores,index=['lr1','lr2']).T"
      ]
    },
    {
      "cell_type": "code",
      "execution_count": null,
      "id": "7808cfb2",
      "metadata": {
        "id": "7808cfb2",
        "outputId": "4635c523-99cf-4a5e-c158-cd4d355ca324"
      },
      "outputs": [
        {
          "data": {
            "text/html": [
              "<div>\n",
              "<style scoped>\n",
              "    .dataframe tbody tr th:only-of-type {\n",
              "        vertical-align: middle;\n",
              "    }\n",
              "\n",
              "    .dataframe tbody tr th {\n",
              "        vertical-align: top;\n",
              "    }\n",
              "\n",
              "    .dataframe thead th {\n",
              "        text-align: right;\n",
              "    }\n",
              "</style>\n",
              "<table border=\"1\" class=\"dataframe\">\n",
              "  <thead>\n",
              "    <tr style=\"text-align: right;\">\n",
              "      <th></th>\n",
              "      <th>lr1</th>\n",
              "      <th>lr2</th>\n",
              "    </tr>\n",
              "  </thead>\n",
              "  <tbody>\n",
              "    <tr>\n",
              "      <th>RMSE</th>\n",
              "      <td>68058.440590</td>\n",
              "      <td>69125.193714</td>\n",
              "    </tr>\n",
              "    <tr>\n",
              "      <th>r2</th>\n",
              "      <td>0.655322</td>\n",
              "      <td>0.644433</td>\n",
              "    </tr>\n",
              "    <tr>\n",
              "      <th>MAE</th>\n",
              "      <td>49396.564014</td>\n",
              "      <td>50653.792395</td>\n",
              "    </tr>\n",
              "  </tbody>\n",
              "</table>\n",
              "</div>"
            ],
            "text/plain": [
              "               lr1           lr2\n",
              "RMSE  68058.440590  69125.193714\n",
              "r2        0.655322      0.644433\n",
              "MAE   49396.564014  50653.792395"
            ]
          },
          "execution_count": 30,
          "metadata": {},
          "output_type": "execute_result"
        }
      ],
      "source": [
        "scores"
      ]
    },
    {
      "cell_type": "markdown",
      "id": "9a2ab16f",
      "metadata": {
        "id": "9a2ab16f"
      },
      "source": [
        "### Вывод:  \n",
        "  - обе модели показали удовлетворительный результат  \n",
        "  - модель использующая категориальные данные оказалась немного лучше той, в которой использовали только числовые  "
      ]
    },
    {
      "cell_type": "markdown",
      "id": "fa3f3544",
      "metadata": {
        "id": "fa3f3544"
      },
      "source": [
        "## Общий вывод:"
      ]
    },
    {
      "cell_type": "markdown",
      "id": "e6f5b7ca",
      "metadata": {
        "id": "e6f5b7ca"
      },
      "source": [
        "В проекте нам необходимо было обучить модель линейной регрессии на данных о жилье в Калифорнии в 1990 году. Используя методы pySpark мы прочитали файл, ознакомись с его содержимым. Выполните предобработку данных: исследовали данные на наличие пропусков и заполнили их, выбрав медианное значение по колонке. Преобразовали колонку с категориальными значениями техникой One hot encoding.  \n",
        "\n",
        "\n",
        "Построили две модели линейной регрессии на разных наборах данных:  \n",
        "    - используя все данные из файла;  \n",
        "    - используя только числовые переменные, исключив категориальные.  \n",
        "    \n",
        "\n",
        "Для построения модели использовали оценщик LinearRegression из библиотеки MLlib. Сравнили результаты работы линейной регрессии на двух наборах данных по метрикам RMSE, MAE и R2. Анализ результатов показал что две модели почти одинаковые, расхождения результатов не значительные с использованием категориальных данных только, и с использованием только числовых."
      ]
    },
    {
      "cell_type": "code",
      "execution_count": null,
      "id": "5c32b77e",
      "metadata": {
        "id": "5c32b77e"
      },
      "outputs": [],
      "source": [
        "spark.stop()"
      ]
    }
  ],
  "metadata": {
    "ExecuteTimeLog": [
      {
        "duration": 802,
        "start_time": "2022-08-31T19:10:44.996Z"
      },
      {
        "duration": 18576,
        "start_time": "2022-08-31T19:15:38.634Z"
      },
      {
        "duration": 9737,
        "start_time": "2022-08-31T19:16:30.155Z"
      },
      {
        "duration": 96,
        "start_time": "2022-08-31T19:16:52.540Z"
      },
      {
        "duration": 16,
        "start_time": "2022-08-31T19:17:07.565Z"
      },
      {
        "duration": 4453,
        "start_time": "2022-08-31T19:20:39.839Z"
      },
      {
        "duration": 4241,
        "start_time": "2022-08-31T19:22:07.599Z"
      },
      {
        "duration": 1324,
        "start_time": "2022-08-31T19:27:22.568Z"
      },
      {
        "duration": 3345,
        "start_time": "2022-08-31T19:27:39.193Z"
      },
      {
        "duration": 453,
        "start_time": "2022-08-31T19:28:25.557Z"
      },
      {
        "duration": 2523,
        "start_time": "2022-08-31T19:28:29.298Z"
      },
      {
        "duration": 244,
        "start_time": "2022-08-31T19:30:08.590Z"
      },
      {
        "duration": 12,
        "start_time": "2022-08-31T19:32:42.036Z"
      },
      {
        "duration": 390,
        "start_time": "2022-08-31T19:32:50.811Z"
      },
      {
        "duration": 16295,
        "start_time": "2022-08-31T19:32:53.708Z"
      },
      {
        "duration": 1744,
        "start_time": "2022-08-31T19:36:47.371Z"
      },
      {
        "duration": 3082,
        "start_time": "2022-08-31T19:37:30.116Z"
      },
      {
        "duration": 3465,
        "start_time": "2022-08-31T19:38:17.965Z"
      },
      {
        "duration": 140,
        "start_time": "2022-08-31T19:40:25.913Z"
      },
      {
        "duration": 4,
        "start_time": "2022-08-31T19:42:22.845Z"
      },
      {
        "duration": 48,
        "start_time": "2022-08-31T19:44:32.112Z"
      },
      {
        "duration": 3,
        "start_time": "2022-08-31T19:44:34.534Z"
      },
      {
        "duration": 207,
        "start_time": "2022-08-31T19:44:35.937Z"
      },
      {
        "duration": 749,
        "start_time": "2022-08-31T19:44:46.889Z"
      },
      {
        "duration": 16261,
        "start_time": "2022-08-31T19:44:47.640Z"
      },
      {
        "duration": 10306,
        "start_time": "2022-08-31T19:45:03.903Z"
      },
      {
        "duration": 87,
        "start_time": "2022-08-31T19:45:14.211Z"
      },
      {
        "duration": 5128,
        "start_time": "2022-08-31T19:45:14.301Z"
      },
      {
        "duration": 4598,
        "start_time": "2022-08-31T19:45:19.432Z"
      },
      {
        "duration": 661,
        "start_time": "2022-08-31T19:45:24.032Z"
      },
      {
        "duration": 3117,
        "start_time": "2022-08-31T19:45:24.695Z"
      },
      {
        "duration": 1910,
        "start_time": "2022-08-31T19:45:27.814Z"
      },
      {
        "duration": 4795,
        "start_time": "2022-08-31T19:45:29.726Z"
      },
      {
        "duration": 3873,
        "start_time": "2022-08-31T19:45:34.523Z"
      },
      {
        "duration": 4,
        "start_time": "2022-08-31T19:45:38.399Z"
      },
      {
        "duration": 249,
        "start_time": "2022-08-31T19:45:38.407Z"
      },
      {
        "duration": 712,
        "start_time": "2022-08-31T19:48:21.442Z"
      },
      {
        "duration": 16373,
        "start_time": "2022-08-31T19:48:22.759Z"
      },
      {
        "duration": 9459,
        "start_time": "2022-08-31T19:48:39.135Z"
      },
      {
        "duration": 20,
        "start_time": "2022-08-31T19:48:48.596Z"
      },
      {
        "duration": 5223,
        "start_time": "2022-08-31T19:48:54.003Z"
      },
      {
        "duration": 1933,
        "start_time": "2022-08-31T19:49:32.676Z"
      },
      {
        "duration": 4093,
        "start_time": "2022-08-31T19:49:36.844Z"
      },
      {
        "duration": 350,
        "start_time": "2022-08-31T19:49:42.461Z"
      },
      {
        "duration": 3021,
        "start_time": "2022-08-31T19:49:45.419Z"
      },
      {
        "duration": 1874,
        "start_time": "2022-08-31T19:49:52.061Z"
      },
      {
        "duration": 4642,
        "start_time": "2022-08-31T19:49:56.749Z"
      },
      {
        "duration": 3742,
        "start_time": "2022-08-31T19:50:04.965Z"
      },
      {
        "duration": 3,
        "start_time": "2022-08-31T19:50:16.022Z"
      },
      {
        "duration": 205,
        "start_time": "2022-08-31T19:50:30.710Z"
      },
      {
        "duration": 3,
        "start_time": "2022-08-31T19:51:51.208Z"
      },
      {
        "duration": 52,
        "start_time": "2022-08-31T19:51:56.400Z"
      },
      {
        "duration": 1048,
        "start_time": "2022-08-31T19:53:12.283Z"
      },
      {
        "duration": 332,
        "start_time": "2022-08-31T19:53:34.971Z"
      },
      {
        "duration": 3003,
        "start_time": "2022-08-31T19:55:26.312Z"
      },
      {
        "duration": 5476,
        "start_time": "2022-08-31T19:57:24.828Z"
      },
      {
        "duration": 4,
        "start_time": "2022-08-31T20:00:32.746Z"
      },
      {
        "duration": 2238,
        "start_time": "2022-08-31T20:02:48.663Z"
      },
      {
        "duration": 2495,
        "start_time": "2022-08-31T20:06:05.340Z"
      },
      {
        "duration": 2143,
        "start_time": "2022-08-31T20:06:27.386Z"
      },
      {
        "duration": 5,
        "start_time": "2022-08-31T20:08:57.162Z"
      },
      {
        "duration": 8,
        "start_time": "2022-08-31T20:09:04.305Z"
      },
      {
        "duration": 136,
        "start_time": "2022-08-31T20:13:21.178Z"
      },
      {
        "duration": 75,
        "start_time": "2022-08-31T20:15:18.534Z"
      },
      {
        "duration": 428,
        "start_time": "2022-08-31T20:22:39.396Z"
      },
      {
        "duration": 7,
        "start_time": "2022-08-31T20:23:15.266Z"
      },
      {
        "duration": 100,
        "start_time": "2022-09-08T18:53:11.912Z"
      },
      {
        "duration": 111,
        "start_time": "2022-09-08T18:54:54.764Z"
      }
    ],
    "colab": {
      "provenance": []
    },
    "kernelspec": {
      "display_name": "Python 3 (ipykernel)",
      "language": "python",
      "name": "python3"
    },
    "language_info": {
      "codemirror_mode": {
        "name": "ipython",
        "version": 3
      },
      "file_extension": ".py",
      "mimetype": "text/x-python",
      "name": "python",
      "nbconvert_exporter": "python",
      "pygments_lexer": "ipython3",
      "version": "3.9.5"
    },
    "toc": {
      "base_numbering": 1,
      "nav_menu": {},
      "number_sections": true,
      "sideBar": true,
      "skip_h1_title": true,
      "title_cell": "Table of Contents",
      "title_sidebar": "Contents",
      "toc_cell": false,
      "toc_position": {},
      "toc_section_display": true,
      "toc_window_display": false
    }
  },
  "nbformat": 4,
  "nbformat_minor": 5
}