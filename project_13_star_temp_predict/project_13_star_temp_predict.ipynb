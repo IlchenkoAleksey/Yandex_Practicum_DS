{
  "cells": [
    {
      "cell_type": "markdown",
      "id": "66b3a7fe",
      "metadata": {
        "id": "66b3a7fe"
      },
      "source": [
        "# Прогнозирование температуры звезды\n",
        "\n",
        "Вам пришла задача от обсерватории «Небо на ладони»: придумать, как с помощью нейросети определять температуру на поверхности обнаруженных звёзд. Обычно для расчёта температуры учёные пользуются следующими методами:  \n",
        "- Закон смещения Вина.\n",
        "- Закон Стефана-Больцмана.\n",
        "- Спектральный анализ.  \n",
        "\n",
        "\n",
        "Каждый из них имеет плюсы и минусы. Обсерватория хочет внедрить технологии машинного обучения для предсказания температуры звёзд, надеясь, что этот метод будет наиболее точным и удобным.  \n",
        "В базе обсерватории есть характеристики уже изученных 240 звёзд."
      ]
    },
    {
      "cell_type": "markdown",
      "id": "corresponding-armstrong",
      "metadata": {
        "ExecuteTime": {
          "end_time": "2022-05-05T04:58:05.692448Z",
          "start_time": "2022-05-05T04:58:05.688565Z"
        },
        "id": "corresponding-armstrong"
      },
      "source": [
        "## Загрузка данных"
      ]
    },
    {
      "cell_type": "markdown",
      "id": "c9242234",
      "metadata": {
        "id": "c9242234"
      },
      "source": [
        "Импортируем библиотеки с которыми будем работать"
      ]
    },
    {
      "cell_type": "code",
      "execution_count": null,
      "id": "spectacular-folder",
      "metadata": {
        "scrolled": true,
        "id": "spectacular-folder"
      },
      "outputs": [],
      "source": [
        "import pandas as pd\n",
        "import matplotlib.pyplot as plt\n",
        "import seaborn as sns\n",
        "import numpy as np\n",
        "import random\n",
        "import torch\n",
        "import torch.nn as nn\n",
        "\n",
        "from math import ceil, sqrt\n",
        "from sklearn.model_selection import train_test_split\n",
        "from sklearn.preprocessing import OneHotEncoder, StandardScaler\n",
        "from sklearn.metrics import mean_squared_error\n",
        "\n",
        "pd.options.mode.chained_assignment = None\n",
        "torch.use_deterministic_algorithms(True)"
      ]
    },
    {
      "cell_type": "code",
      "execution_count": null,
      "id": "cee9ee8e",
      "metadata": {
        "id": "cee9ee8e",
        "outputId": "4fcb7ea2-4fe7-40c6-b8b3-1274beb1c40e"
      },
      "outputs": [
        {
          "data": {
            "text/plain": [
              "<torch._C.Generator at 0x7f4b34ef0430>"
            ]
          },
          "execution_count": 36,
          "metadata": {},
          "output_type": "execute_result"
        }
      ],
      "source": [
        "random.seed(42)\n",
        "np.random.seed(42)\n",
        "torch.manual_seed(42)"
      ]
    },
    {
      "cell_type": "markdown",
      "id": "7bd3c91f",
      "metadata": {
        "id": "7bd3c91f"
      },
      "source": [
        "Загрузим и прочитаем датасет"
      ]
    },
    {
      "cell_type": "code",
      "execution_count": null,
      "id": "865eef4b",
      "metadata": {
        "id": "865eef4b"
      },
      "outputs": [],
      "source": [
        "df = pd.read_csv('/datasets/6_class.csv', sep=',' , index_col=0)"
      ]
    },
    {
      "cell_type": "markdown",
      "id": "f0b988e0",
      "metadata": {
        "id": "f0b988e0"
      },
      "source": [
        "Выведем на экран первые 10 записей"
      ]
    },
    {
      "cell_type": "code",
      "execution_count": null,
      "id": "6d36e212",
      "metadata": {
        "scrolled": true,
        "id": "6d36e212",
        "outputId": "714935e1-4c98-4096-959c-60caffaad502"
      },
      "outputs": [
        {
          "data": {
            "text/html": [
              "<div>\n",
              "<style scoped>\n",
              "    .dataframe tbody tr th:only-of-type {\n",
              "        vertical-align: middle;\n",
              "    }\n",
              "\n",
              "    .dataframe tbody tr th {\n",
              "        vertical-align: top;\n",
              "    }\n",
              "\n",
              "    .dataframe thead th {\n",
              "        text-align: right;\n",
              "    }\n",
              "</style>\n",
              "<table border=\"1\" class=\"dataframe\">\n",
              "  <thead>\n",
              "    <tr style=\"text-align: right;\">\n",
              "      <th></th>\n",
              "      <th>Temperature (K)</th>\n",
              "      <th>Luminosity(L/Lo)</th>\n",
              "      <th>Radius(R/Ro)</th>\n",
              "      <th>Absolute magnitude(Mv)</th>\n",
              "      <th>Star type</th>\n",
              "      <th>Star color</th>\n",
              "    </tr>\n",
              "  </thead>\n",
              "  <tbody>\n",
              "    <tr>\n",
              "      <th>0</th>\n",
              "      <td>3068</td>\n",
              "      <td>0.002400</td>\n",
              "      <td>0.1700</td>\n",
              "      <td>16.12</td>\n",
              "      <td>0</td>\n",
              "      <td>Red</td>\n",
              "    </tr>\n",
              "    <tr>\n",
              "      <th>1</th>\n",
              "      <td>3042</td>\n",
              "      <td>0.000500</td>\n",
              "      <td>0.1542</td>\n",
              "      <td>16.60</td>\n",
              "      <td>0</td>\n",
              "      <td>Red</td>\n",
              "    </tr>\n",
              "    <tr>\n",
              "      <th>2</th>\n",
              "      <td>2600</td>\n",
              "      <td>0.000300</td>\n",
              "      <td>0.1020</td>\n",
              "      <td>18.70</td>\n",
              "      <td>0</td>\n",
              "      <td>Red</td>\n",
              "    </tr>\n",
              "    <tr>\n",
              "      <th>3</th>\n",
              "      <td>2800</td>\n",
              "      <td>0.000200</td>\n",
              "      <td>0.1600</td>\n",
              "      <td>16.65</td>\n",
              "      <td>0</td>\n",
              "      <td>Red</td>\n",
              "    </tr>\n",
              "    <tr>\n",
              "      <th>4</th>\n",
              "      <td>1939</td>\n",
              "      <td>0.000138</td>\n",
              "      <td>0.1030</td>\n",
              "      <td>20.06</td>\n",
              "      <td>0</td>\n",
              "      <td>Red</td>\n",
              "    </tr>\n",
              "    <tr>\n",
              "      <th>5</th>\n",
              "      <td>2840</td>\n",
              "      <td>0.000650</td>\n",
              "      <td>0.1100</td>\n",
              "      <td>16.98</td>\n",
              "      <td>0</td>\n",
              "      <td>Red</td>\n",
              "    </tr>\n",
              "    <tr>\n",
              "      <th>6</th>\n",
              "      <td>2637</td>\n",
              "      <td>0.000730</td>\n",
              "      <td>0.1270</td>\n",
              "      <td>17.22</td>\n",
              "      <td>0</td>\n",
              "      <td>Red</td>\n",
              "    </tr>\n",
              "    <tr>\n",
              "      <th>7</th>\n",
              "      <td>2600</td>\n",
              "      <td>0.000400</td>\n",
              "      <td>0.0960</td>\n",
              "      <td>17.40</td>\n",
              "      <td>0</td>\n",
              "      <td>Red</td>\n",
              "    </tr>\n",
              "    <tr>\n",
              "      <th>8</th>\n",
              "      <td>2650</td>\n",
              "      <td>0.000690</td>\n",
              "      <td>0.1100</td>\n",
              "      <td>17.45</td>\n",
              "      <td>0</td>\n",
              "      <td>Red</td>\n",
              "    </tr>\n",
              "    <tr>\n",
              "      <th>9</th>\n",
              "      <td>2700</td>\n",
              "      <td>0.000180</td>\n",
              "      <td>0.1300</td>\n",
              "      <td>16.05</td>\n",
              "      <td>0</td>\n",
              "      <td>Red</td>\n",
              "    </tr>\n",
              "  </tbody>\n",
              "</table>\n",
              "</div>"
            ],
            "text/plain": [
              "   Temperature (K)  Luminosity(L/Lo)  Radius(R/Ro)  Absolute magnitude(Mv)  \\\n",
              "0             3068          0.002400        0.1700                   16.12   \n",
              "1             3042          0.000500        0.1542                   16.60   \n",
              "2             2600          0.000300        0.1020                   18.70   \n",
              "3             2800          0.000200        0.1600                   16.65   \n",
              "4             1939          0.000138        0.1030                   20.06   \n",
              "5             2840          0.000650        0.1100                   16.98   \n",
              "6             2637          0.000730        0.1270                   17.22   \n",
              "7             2600          0.000400        0.0960                   17.40   \n",
              "8             2650          0.000690        0.1100                   17.45   \n",
              "9             2700          0.000180        0.1300                   16.05   \n",
              "\n",
              "   Star type Star color  \n",
              "0          0        Red  \n",
              "1          0        Red  \n",
              "2          0        Red  \n",
              "3          0        Red  \n",
              "4          0        Red  \n",
              "5          0        Red  \n",
              "6          0        Red  \n",
              "7          0        Red  \n",
              "8          0        Red  \n",
              "9          0        Red  "
            ]
          },
          "execution_count": 38,
          "metadata": {},
          "output_type": "execute_result"
        }
      ],
      "source": [
        "df.head(10)"
      ]
    },
    {
      "cell_type": "markdown",
      "id": "e74f80b4",
      "metadata": {
        "id": "e74f80b4"
      },
      "source": [
        "Ознакомимся детальнее с данными датасета"
      ]
    },
    {
      "cell_type": "code",
      "execution_count": null,
      "id": "697ef75d",
      "metadata": {
        "id": "697ef75d",
        "outputId": "6b7c76bc-c6c7-4529-bf30-4b4786152e09"
      },
      "outputs": [
        {
          "data": {
            "text/html": [
              "<div>\n",
              "<style scoped>\n",
              "    .dataframe tbody tr th:only-of-type {\n",
              "        vertical-align: middle;\n",
              "    }\n",
              "\n",
              "    .dataframe tbody tr th {\n",
              "        vertical-align: top;\n",
              "    }\n",
              "\n",
              "    .dataframe thead th {\n",
              "        text-align: right;\n",
              "    }\n",
              "</style>\n",
              "<table border=\"1\" class=\"dataframe\">\n",
              "  <thead>\n",
              "    <tr style=\"text-align: right;\">\n",
              "      <th></th>\n",
              "      <th>Temperature (K)</th>\n",
              "      <th>Luminosity(L/Lo)</th>\n",
              "      <th>Radius(R/Ro)</th>\n",
              "      <th>Absolute magnitude(Mv)</th>\n",
              "      <th>Star type</th>\n",
              "      <th>Star color</th>\n",
              "    </tr>\n",
              "  </thead>\n",
              "  <tbody>\n",
              "    <tr>\n",
              "      <th>count</th>\n",
              "      <td>240.000000</td>\n",
              "      <td>240.000000</td>\n",
              "      <td>240.000000</td>\n",
              "      <td>240.000000</td>\n",
              "      <td>240.000000</td>\n",
              "      <td>240</td>\n",
              "    </tr>\n",
              "    <tr>\n",
              "      <th>unique</th>\n",
              "      <td>NaN</td>\n",
              "      <td>NaN</td>\n",
              "      <td>NaN</td>\n",
              "      <td>NaN</td>\n",
              "      <td>NaN</td>\n",
              "      <td>19</td>\n",
              "    </tr>\n",
              "    <tr>\n",
              "      <th>top</th>\n",
              "      <td>NaN</td>\n",
              "      <td>NaN</td>\n",
              "      <td>NaN</td>\n",
              "      <td>NaN</td>\n",
              "      <td>NaN</td>\n",
              "      <td>Red</td>\n",
              "    </tr>\n",
              "    <tr>\n",
              "      <th>freq</th>\n",
              "      <td>NaN</td>\n",
              "      <td>NaN</td>\n",
              "      <td>NaN</td>\n",
              "      <td>NaN</td>\n",
              "      <td>NaN</td>\n",
              "      <td>112</td>\n",
              "    </tr>\n",
              "    <tr>\n",
              "      <th>mean</th>\n",
              "      <td>10497.462500</td>\n",
              "      <td>107188.361635</td>\n",
              "      <td>237.157781</td>\n",
              "      <td>4.382396</td>\n",
              "      <td>2.500000</td>\n",
              "      <td>NaN</td>\n",
              "    </tr>\n",
              "    <tr>\n",
              "      <th>std</th>\n",
              "      <td>9552.425037</td>\n",
              "      <td>179432.244940</td>\n",
              "      <td>517.155763</td>\n",
              "      <td>10.532512</td>\n",
              "      <td>1.711394</td>\n",
              "      <td>NaN</td>\n",
              "    </tr>\n",
              "    <tr>\n",
              "      <th>min</th>\n",
              "      <td>1939.000000</td>\n",
              "      <td>0.000080</td>\n",
              "      <td>0.008400</td>\n",
              "      <td>-11.920000</td>\n",
              "      <td>0.000000</td>\n",
              "      <td>NaN</td>\n",
              "    </tr>\n",
              "    <tr>\n",
              "      <th>25%</th>\n",
              "      <td>3344.250000</td>\n",
              "      <td>0.000865</td>\n",
              "      <td>0.102750</td>\n",
              "      <td>-6.232500</td>\n",
              "      <td>1.000000</td>\n",
              "      <td>NaN</td>\n",
              "    </tr>\n",
              "    <tr>\n",
              "      <th>50%</th>\n",
              "      <td>5776.000000</td>\n",
              "      <td>0.070500</td>\n",
              "      <td>0.762500</td>\n",
              "      <td>8.313000</td>\n",
              "      <td>2.500000</td>\n",
              "      <td>NaN</td>\n",
              "    </tr>\n",
              "    <tr>\n",
              "      <th>75%</th>\n",
              "      <td>15055.500000</td>\n",
              "      <td>198050.000000</td>\n",
              "      <td>42.750000</td>\n",
              "      <td>13.697500</td>\n",
              "      <td>4.000000</td>\n",
              "      <td>NaN</td>\n",
              "    </tr>\n",
              "    <tr>\n",
              "      <th>max</th>\n",
              "      <td>40000.000000</td>\n",
              "      <td>849420.000000</td>\n",
              "      <td>1948.500000</td>\n",
              "      <td>20.060000</td>\n",
              "      <td>5.000000</td>\n",
              "      <td>NaN</td>\n",
              "    </tr>\n",
              "  </tbody>\n",
              "</table>\n",
              "</div>"
            ],
            "text/plain": [
              "        Temperature (K)  Luminosity(L/Lo)  Radius(R/Ro)  \\\n",
              "count        240.000000        240.000000    240.000000   \n",
              "unique              NaN               NaN           NaN   \n",
              "top                 NaN               NaN           NaN   \n",
              "freq                NaN               NaN           NaN   \n",
              "mean       10497.462500     107188.361635    237.157781   \n",
              "std         9552.425037     179432.244940    517.155763   \n",
              "min         1939.000000          0.000080      0.008400   \n",
              "25%         3344.250000          0.000865      0.102750   \n",
              "50%         5776.000000          0.070500      0.762500   \n",
              "75%        15055.500000     198050.000000     42.750000   \n",
              "max        40000.000000     849420.000000   1948.500000   \n",
              "\n",
              "        Absolute magnitude(Mv)   Star type Star color  \n",
              "count               240.000000  240.000000        240  \n",
              "unique                     NaN         NaN         19  \n",
              "top                        NaN         NaN        Red  \n",
              "freq                       NaN         NaN        112  \n",
              "mean                  4.382396    2.500000        NaN  \n",
              "std                  10.532512    1.711394        NaN  \n",
              "min                 -11.920000    0.000000        NaN  \n",
              "25%                  -6.232500    1.000000        NaN  \n",
              "50%                   8.313000    2.500000        NaN  \n",
              "75%                  13.697500    4.000000        NaN  \n",
              "max                  20.060000    5.000000        NaN  "
            ]
          },
          "execution_count": 39,
          "metadata": {},
          "output_type": "execute_result"
        }
      ],
      "source": [
        "df.describe(include = 'all')"
      ]
    },
    {
      "cell_type": "markdown",
      "id": "a6daa473",
      "metadata": {
        "id": "a6daa473"
      },
      "source": [
        "Ознакомимся с типом данных датафрейма"
      ]
    },
    {
      "cell_type": "code",
      "execution_count": null,
      "id": "e607fc92",
      "metadata": {
        "id": "e607fc92",
        "outputId": "7af290cf-d6e2-4704-bb41-6b1c1d68bcb4"
      },
      "outputs": [
        {
          "name": "stdout",
          "output_type": "stream",
          "text": [
            "<class 'pandas.core.frame.DataFrame'>\n",
            "Int64Index: 240 entries, 0 to 239\n",
            "Data columns (total 6 columns):\n",
            " #   Column                  Non-Null Count  Dtype  \n",
            "---  ------                  --------------  -----  \n",
            " 0   Temperature (K)         240 non-null    int64  \n",
            " 1   Luminosity(L/Lo)        240 non-null    float64\n",
            " 2   Radius(R/Ro)            240 non-null    float64\n",
            " 3   Absolute magnitude(Mv)  240 non-null    float64\n",
            " 4   Star type               240 non-null    int64  \n",
            " 5   Star color              240 non-null    object \n",
            "dtypes: float64(3), int64(2), object(1)\n",
            "memory usage: 13.1+ KB\n"
          ]
        }
      ],
      "source": [
        "df.info()"
      ]
    },
    {
      "cell_type": "markdown",
      "id": "f3e16067",
      "metadata": {
        "id": "f3e16067"
      },
      "source": [
        "### Вывод:  \n",
        " - В исходном датасете 240 строк, 6 столбцов;\n",
        " - Из исходного задания нам известно названия столбцов и характеристики:\n",
        "     - Относительная светимость L/Lo — светимость звезды относительно Солнца (`тип. float64`);\n",
        "     - Относительный радиус R/Ro — радиус звезды относительно радиуса Солнца (`тип float64`);\n",
        "     - Абсолютная звёздная величина Mv — физическая величина, характеризующая блеск звезды (`тип float64`);\n",
        "     - Звёздный цвет (white, red, blue, yellow, yellow-orange и др.) — цвет звезды, который определяют на основе спектрального анализа (`тип object`);\n",
        "     - Тип звезды (`тип int64`)\n",
        "         - Тип данных необходимо будет поменять на `object`;\n",
        "     - Абсолютная температура T(K) — температура на поверхности звезды в Кельвинах (`тип int64`)."
      ]
    },
    {
      "cell_type": "markdown",
      "id": "simple-subdivision",
      "metadata": {
        "id": "simple-subdivision"
      },
      "source": [
        "## Предобработка и анализ данных"
      ]
    },
    {
      "cell_type": "markdown",
      "id": "f2eb6b7f",
      "metadata": {
        "id": "f2eb6b7f"
      },
      "source": [
        "Посмотрим есть ли пропуски в данных"
      ]
    },
    {
      "cell_type": "code",
      "execution_count": null,
      "id": "c0fd18bd",
      "metadata": {
        "id": "c0fd18bd",
        "outputId": "445110de-a1d6-4a5c-f399-571027f68f58"
      },
      "outputs": [
        {
          "data": {
            "text/html": [
              "<div>\n",
              "<style scoped>\n",
              "    .dataframe tbody tr th:only-of-type {\n",
              "        vertical-align: middle;\n",
              "    }\n",
              "\n",
              "    .dataframe tbody tr th {\n",
              "        vertical-align: top;\n",
              "    }\n",
              "\n",
              "    .dataframe thead th {\n",
              "        text-align: right;\n",
              "    }\n",
              "</style>\n",
              "<table border=\"1\" class=\"dataframe\">\n",
              "  <thead>\n",
              "    <tr style=\"text-align: right;\">\n",
              "      <th></th>\n",
              "      <th>0</th>\n",
              "    </tr>\n",
              "  </thead>\n",
              "  <tbody>\n",
              "    <tr>\n",
              "      <th>Temperature (K)</th>\n",
              "      <td>0</td>\n",
              "    </tr>\n",
              "    <tr>\n",
              "      <th>Luminosity(L/Lo)</th>\n",
              "      <td>0</td>\n",
              "    </tr>\n",
              "    <tr>\n",
              "      <th>Radius(R/Ro)</th>\n",
              "      <td>0</td>\n",
              "    </tr>\n",
              "    <tr>\n",
              "      <th>Absolute magnitude(Mv)</th>\n",
              "      <td>0</td>\n",
              "    </tr>\n",
              "    <tr>\n",
              "      <th>Star type</th>\n",
              "      <td>0</td>\n",
              "    </tr>\n",
              "    <tr>\n",
              "      <th>Star color</th>\n",
              "      <td>0</td>\n",
              "    </tr>\n",
              "  </tbody>\n",
              "</table>\n",
              "</div>"
            ],
            "text/plain": [
              "                        0\n",
              "Temperature (K)         0\n",
              "Luminosity(L/Lo)        0\n",
              "Radius(R/Ro)            0\n",
              "Absolute magnitude(Mv)  0\n",
              "Star type               0\n",
              "Star color              0"
            ]
          },
          "execution_count": 41,
          "metadata": {},
          "output_type": "execute_result"
        }
      ],
      "source": [
        "df.isna().sum().to_frame()"
      ]
    },
    {
      "cell_type": "markdown",
      "id": "75436e7a",
      "metadata": {
        "id": "75436e7a"
      },
      "source": [
        "Пропусков не обнаружено."
      ]
    },
    {
      "cell_type": "markdown",
      "id": "16161062",
      "metadata": {
        "id": "16161062"
      },
      "source": [
        "Проверим на явные дубликаты"
      ]
    },
    {
      "cell_type": "code",
      "execution_count": null,
      "id": "8474565e",
      "metadata": {
        "id": "8474565e",
        "outputId": "51ba658a-c23b-468e-ae90-8870af9fab1e"
      },
      "outputs": [
        {
          "data": {
            "text/plain": [
              "0"
            ]
          },
          "execution_count": 42,
          "metadata": {},
          "output_type": "execute_result"
        }
      ],
      "source": [
        "df.duplicated().sum()"
      ]
    },
    {
      "cell_type": "markdown",
      "id": "5fc86476",
      "metadata": {
        "id": "5fc86476"
      },
      "source": [
        "Явных дубликатов не обнаружено"
      ]
    },
    {
      "cell_type": "markdown",
      "id": "abb3e5da",
      "metadata": {
        "id": "abb3e5da"
      },
      "source": [
        "Обозначим числовые и категориальные признаки: **num_cols** - числовые признаки, **cat_cols** - категориальные признаки, **target** - целевой признак"
      ]
    },
    {
      "cell_type": "code",
      "execution_count": null,
      "id": "0b22e8b6",
      "metadata": {
        "id": "0b22e8b6"
      },
      "outputs": [],
      "source": [
        "num_cols = ['Luminosity(L/Lo)','Radius(R/Ro)','Absolute magnitude(Mv)']\n",
        "cat_cols = ['Star type', 'Star color']\n",
        "target = ['Temperature (K)']"
      ]
    },
    {
      "cell_type": "markdown",
      "id": "a44107fa",
      "metadata": {
        "id": "a44107fa"
      },
      "source": [
        "Выведем уникальные значения в категориальных признаках"
      ]
    },
    {
      "cell_type": "code",
      "execution_count": null,
      "id": "f51db219",
      "metadata": {
        "id": "f51db219",
        "outputId": "39cbb78e-c31b-4bd6-88b8-abf21fe5db2c"
      },
      "outputs": [
        {
          "data": {
            "text/plain": [
              "array(['Red', 'Blue White', 'White', 'Yellowish White', 'Blue white',\n",
              "       'Pale yellow orange', 'Blue', 'Blue-white', 'Whitish',\n",
              "       'yellow-white', 'Orange', 'White-Yellow', 'white', 'Blue ',\n",
              "       'yellowish', 'Yellowish', 'Orange-Red', 'Blue white ',\n",
              "       'Blue-White'], dtype=object)"
            ]
          },
          "execution_count": 44,
          "metadata": {},
          "output_type": "execute_result"
        }
      ],
      "source": [
        "df['Star color'].unique()"
      ]
    },
    {
      "cell_type": "markdown",
      "id": "94f605c3",
      "metadata": {
        "id": "94f605c3"
      },
      "source": [
        "Узнаем сколько значений в столбце **Star color** Звёздный цвет (white, red, blue, yellow, yellow-orange и др.)"
      ]
    },
    {
      "cell_type": "code",
      "execution_count": null,
      "id": "de7ebe52",
      "metadata": {
        "id": "de7ebe52",
        "outputId": "08d4851c-a85e-4e81-b41d-131a05a7a659"
      },
      "outputs": [
        {
          "data": {
            "text/plain": [
              "Red                   112\n",
              "Blue                   55\n",
              "Blue-white             26\n",
              "Blue White             10\n",
              "yellow-white            8\n",
              "White                   7\n",
              "Yellowish White         3\n",
              "Blue white              3\n",
              "white                   3\n",
              "Whitish                 2\n",
              "Orange                  2\n",
              "yellowish               2\n",
              "Pale yellow orange      1\n",
              "Blue                    1\n",
              "Blue-White              1\n",
              "Orange-Red              1\n",
              "Blue white              1\n",
              "White-Yellow            1\n",
              "Yellowish               1\n",
              "Name: Star color, dtype: int64"
            ]
          },
          "execution_count": 45,
          "metadata": {},
          "output_type": "execute_result"
        }
      ],
      "source": [
        "df['Star color'].value_counts()"
      ]
    },
    {
      "cell_type": "markdown",
      "id": "b863fcb0",
      "metadata": {
        "id": "b863fcb0"
      },
      "source": [
        "Ознакомимся визуально с распределением данных в столбце **Star color**"
      ]
    },
    {
      "cell_type": "code",
      "execution_count": null,
      "id": "fa1dbb46",
      "metadata": {
        "id": "fa1dbb46",
        "outputId": "05739cdc-2999-4b6b-dc92-34737ef9e6e6"
      },
      "outputs": [
        {
          "data": {
            "image/png": "[encoded data removed]",
            "text/plain": [
              "<Figure size 1080x360 with 1 Axes>"
            ]
          },
          "metadata": {
            "needs_background": "light"
          },
          "output_type": "display_data"
        }
      ],
      "source": [
        "stars_color = pd.DataFrame(df['Star color'].value_counts().sort_values(ascending=False))\n",
        "plt.figure(figsize=(15,5))\n",
        "ax = sns.barplot(x = stars_color.index, y = 'Star color' , data = stars_color, palette='pastel')\n",
        "ax = ax.set_xticklabels(ax.get_xticklabels(), rotation=45)"
      ]
    },
    {
      "cell_type": "markdown",
      "id": "c921bb0b",
      "metadata": {
        "id": "c921bb0b"
      },
      "source": [
        "Вывод:  \n",
        " - Есть опечатки в названиях (`Blue-white` и `Blue White`),\n",
        " - Некоторые данные присутствуют в единичном экземпляре (`Orange-Red 1, Blue-White 1, Blue 1, Blue white 1, White-Yellow 1, Yellowish 1, Pale yellow orange 1`),\n",
        " - Возникновение некоторых названий в столбце **Star color** Звёздный цвет объяснить не представляется возможным, по классификации предлагается перераспределить значения в пределах следующих данные: `Blue, Blue_white, White, Yellow_white, Yellow, Orange, Red`."
      ]
    },
    {
      "cell_type": "markdown",
      "id": "cedd375e",
      "metadata": {
        "id": "cedd375e"
      },
      "source": [
        "Напишем функцию перераспределения к какому цвету звезда относится"
      ]
    },
    {
      "cell_type": "code",
      "execution_count": null,
      "id": "d0f234be",
      "metadata": {
        "id": "d0f234be"
      },
      "outputs": [],
      "source": [
        "def star_color(x):\n",
        "    if x > 30000:\n",
        "        return 'Blue'\n",
        "    elif 30000 >= x > 10000:\n",
        "        return 'Blue_white'\n",
        "    elif 10000 >= x > 7400:\n",
        "        return 'White'\n",
        "    elif 7400 >= x > 6000:\n",
        "        return 'Yellow_white'\n",
        "    elif 6000 >= x > 5000:\n",
        "        return 'Yellow'\n",
        "    elif 5000 >= x > 3800:\n",
        "        return 'Orange'\n",
        "    else:\n",
        "        return 'Red'\n",
        "\n",
        "df['Star color'] = df['Temperature (K)'].apply(star_color)"
      ]
    },
    {
      "cell_type": "markdown",
      "id": "866c055c",
      "metadata": {
        "id": "866c055c"
      },
      "source": [
        "Посмотрим, как сработал функция"
      ]
    },
    {
      "cell_type": "code",
      "execution_count": null,
      "id": "a1d90ccc",
      "metadata": {
        "id": "a1d90ccc",
        "outputId": "6b170acb-a2df-4ce5-d213-05c488df3cd9"
      },
      "outputs": [
        {
          "data": {
            "text/plain": [
              "Red             109\n",
              "Blue_white       76\n",
              "White            21\n",
              "Blue             14\n",
              "Yellow_white      7\n",
              "Orange            7\n",
              "Yellow            6\n",
              "Name: Star color, dtype: int64"
            ]
          },
          "execution_count": 48,
          "metadata": {},
          "output_type": "execute_result"
        }
      ],
      "source": [
        "df['Star color'].value_counts()"
      ]
    },
    {
      "cell_type": "markdown",
      "id": "4348d25b",
      "metadata": {
        "id": "4348d25b"
      },
      "source": [
        "Посмотрим новые данные на графике"
      ]
    },
    {
      "cell_type": "code",
      "execution_count": null,
      "id": "4ce24174",
      "metadata": {
        "id": "4ce24174",
        "outputId": "979f03a9-5aa4-4cd8-fdad-aa99030d22f1"
      },
      "outputs": [
        {
          "data": {
            "image/png": "[encoded data removed]",
            "text/plain": [
              "<Figure size 1080x360 with 1 Axes>"
            ]
          },
          "metadata": {
            "needs_background": "light"
          },
          "output_type": "display_data"
        }
      ],
      "source": [
        "stars_color = pd.DataFrame(df['Star color'].value_counts().sort_values(ascending=False))\n",
        "plt.figure(figsize=(15,5))\n",
        "ax = sns.barplot(x = stars_color.index, y = 'Star color' , data = stars_color, palette='pastel')\n",
        "ax = ax.set_xticklabels(ax.get_xticklabels(), rotation=45)"
      ]
    },
    {
      "cell_type": "markdown",
      "id": "6ba18f3e",
      "metadata": {
        "id": "6ba18f3e"
      },
      "source": [
        "Поработаем со столбцом **Star type**"
      ]
    },
    {
      "cell_type": "markdown",
      "id": "9854716c",
      "metadata": {
        "id": "9854716c"
      },
      "source": [
        "Поменяем типа данных на `object`"
      ]
    },
    {
      "cell_type": "code",
      "execution_count": null,
      "id": "cdfad0ca",
      "metadata": {
        "id": "cdfad0ca",
        "outputId": "8323ea57-5f48-41cc-c6c2-34fd3d6cf4a8"
      },
      "outputs": [
        {
          "name": "stdout",
          "output_type": "stream",
          "text": [
            "<class 'pandas.core.frame.DataFrame'>\n",
            "Int64Index: 240 entries, 0 to 239\n",
            "Data columns (total 6 columns):\n",
            " #   Column                  Non-Null Count  Dtype  \n",
            "---  ------                  --------------  -----  \n",
            " 0   Temperature (K)         240 non-null    int64  \n",
            " 1   Luminosity(L/Lo)        240 non-null    float64\n",
            " 2   Radius(R/Ro)            240 non-null    float64\n",
            " 3   Absolute magnitude(Mv)  240 non-null    float64\n",
            " 4   Star type               240 non-null    object \n",
            " 5   Star color              240 non-null    object \n",
            "dtypes: float64(3), int64(1), object(2)\n",
            "memory usage: 13.1+ KB\n"
          ]
        }
      ],
      "source": [
        "df['Star type'] = df['Star type'].astype(dtype='object')\n",
        "df.info()"
      ]
    },
    {
      "cell_type": "markdown",
      "id": "0fa92aea",
      "metadata": {
        "id": "0fa92aea"
      },
      "source": [
        "Посмотрим на уникальные значения **Star type**"
      ]
    },
    {
      "cell_type": "code",
      "execution_count": null,
      "id": "7812c33e",
      "metadata": {
        "scrolled": true,
        "id": "7812c33e",
        "outputId": "78338fcf-5a7c-488d-a782-38e9c9adb623"
      },
      "outputs": [
        {
          "data": {
            "text/plain": [
              "array([0, 1, 2, 3, 4, 5], dtype=object)"
            ]
          },
          "execution_count": 51,
          "metadata": {},
          "output_type": "execute_result"
        }
      ],
      "source": [
        "df['Star type'].unique()"
      ]
    },
    {
      "cell_type": "markdown",
      "id": "ee6158b3",
      "metadata": {
        "id": "ee6158b3"
      },
      "source": [
        "Посмотрим как это выглядит на графике"
      ]
    },
    {
      "cell_type": "code",
      "execution_count": null,
      "id": "98860c5b",
      "metadata": {
        "id": "98860c5b",
        "outputId": "be8e74a9-b624-4a25-e5bd-dd1d55793030"
      },
      "outputs": [
        {
          "data": {
            "image/png": "[encoded data removed]",
            "text/plain": [
              "<Figure size 1080x360 with 1 Axes>"
            ]
          },
          "metadata": {
            "needs_background": "light"
          },
          "output_type": "display_data"
        }
      ],
      "source": [
        "stars_types = pd.DataFrame(df['Star type'].value_counts().sort_values(ascending=False))\n",
        "plt.figure(figsize=(15,5))\n",
        "ax = sns.barplot(x = stars_types.index, y = 'Star type' , data = stars_types, palette='pastel')"
      ]
    },
    {
      "cell_type": "markdown",
      "id": "0aaa101a",
      "metadata": {
        "id": "0aaa101a"
      },
      "source": [
        "Вывод: данные сбалансированы"
      ]
    },
    {
      "cell_type": "markdown",
      "id": "1dd80307",
      "metadata": {
        "id": "1dd80307"
      },
      "source": [
        "Посмотрим, есть ли линейная зависимость в данных, посмотрим на корреляцию"
      ]
    },
    {
      "cell_type": "code",
      "execution_count": null,
      "id": "99c0caea",
      "metadata": {
        "id": "99c0caea",
        "outputId": "53401282-f336-4e77-d408-4f43f5aea787"
      },
      "outputs": [
        {
          "data": {
            "image/png": "[encoded data removed]",
            "text/plain": [
              "<Figure size 720x720 with 2 Axes>"
            ]
          },
          "metadata": {
            "needs_background": "light"
          },
          "output_type": "display_data"
        },
        {
          "data": {
            "text/html": [
              "<div>\n",
              "<style scoped>\n",
              "    .dataframe tbody tr th:only-of-type {\n",
              "        vertical-align: middle;\n",
              "    }\n",
              "\n",
              "    .dataframe tbody tr th {\n",
              "        vertical-align: top;\n",
              "    }\n",
              "\n",
              "    .dataframe thead th {\n",
              "        text-align: right;\n",
              "    }\n",
              "</style>\n",
              "<table border=\"1\" class=\"dataframe\">\n",
              "  <thead>\n",
              "    <tr style=\"text-align: right;\">\n",
              "      <th></th>\n",
              "      <th>temperature</th>\n",
              "      <th>luminosity</th>\n",
              "      <th>radius</th>\n",
              "      <th>absolute_magnitude</th>\n",
              "      <th>star_type</th>\n",
              "      <th>star_color</th>\n",
              "    </tr>\n",
              "  </thead>\n",
              "  <tbody>\n",
              "    <tr>\n",
              "      <th>temperature</th>\n",
              "      <td>1.000000</td>\n",
              "      <td>0.393404</td>\n",
              "      <td>0.064216</td>\n",
              "      <td>-0.420261</td>\n",
              "      <td>0.411129</td>\n",
              "      <td>-0.738245</td>\n",
              "    </tr>\n",
              "    <tr>\n",
              "      <th>luminosity</th>\n",
              "      <td>0.393404</td>\n",
              "      <td>1.000000</td>\n",
              "      <td>0.526516</td>\n",
              "      <td>-0.692619</td>\n",
              "      <td>0.676845</td>\n",
              "      <td>-0.274398</td>\n",
              "    </tr>\n",
              "    <tr>\n",
              "      <th>radius</th>\n",
              "      <td>0.064216</td>\n",
              "      <td>0.526516</td>\n",
              "      <td>1.000000</td>\n",
              "      <td>-0.608728</td>\n",
              "      <td>0.660975</td>\n",
              "      <td>-0.047392</td>\n",
              "    </tr>\n",
              "    <tr>\n",
              "      <th>absolute_magnitude</th>\n",
              "      <td>-0.420261</td>\n",
              "      <td>-0.692619</td>\n",
              "      <td>-0.608728</td>\n",
              "      <td>1.000000</td>\n",
              "      <td>-0.955276</td>\n",
              "      <td>0.272803</td>\n",
              "    </tr>\n",
              "    <tr>\n",
              "      <th>star_type</th>\n",
              "      <td>0.411129</td>\n",
              "      <td>0.676845</td>\n",
              "      <td>0.660975</td>\n",
              "      <td>-0.955276</td>\n",
              "      <td>1.000000</td>\n",
              "      <td>-0.241878</td>\n",
              "    </tr>\n",
              "    <tr>\n",
              "      <th>star_color</th>\n",
              "      <td>-0.738245</td>\n",
              "      <td>-0.274398</td>\n",
              "      <td>-0.047392</td>\n",
              "      <td>0.272803</td>\n",
              "      <td>-0.241878</td>\n",
              "      <td>1.000000</td>\n",
              "    </tr>\n",
              "  </tbody>\n",
              "</table>\n",
              "</div>"
            ],
            "text/plain": [
              "                    temperature  luminosity    radius  absolute_magnitude  \\\n",
              "temperature            1.000000    0.393404  0.064216           -0.420261   \n",
              "luminosity             0.393404    1.000000  0.526516           -0.692619   \n",
              "radius                 0.064216    0.526516  1.000000           -0.608728   \n",
              "absolute_magnitude    -0.420261   -0.692619 -0.608728            1.000000   \n",
              "star_type              0.411129    0.676845  0.660975           -0.955276   \n",
              "star_color            -0.738245   -0.274398 -0.047392            0.272803   \n",
              "\n",
              "                    star_type  star_color  \n",
              "temperature          0.411129   -0.738245  \n",
              "luminosity           0.676845   -0.274398  \n",
              "radius               0.660975   -0.047392  \n",
              "absolute_magnitude  -0.955276    0.272803  \n",
              "star_type            1.000000   -0.241878  \n",
              "star_color          -0.241878    1.000000  "
            ]
          },
          "execution_count": 53,
          "metadata": {},
          "output_type": "execute_result"
        }
      ],
      "source": [
        "stars_data = {\n",
        "    'temperature': df['Temperature (K)'],\n",
        "    'luminosity': df['Luminosity(L/Lo)'],\n",
        "    'radius': df['Radius(R/Ro)'],\n",
        "    'absolute_magnitude': df['Absolute magnitude(Mv)'],\n",
        "    'star_type': df['Star type'],\n",
        "    'star_color': df['Star color']\n",
        "}\n",
        "stars_data = pd.DataFrame.from_dict(stars_data)\n",
        "stars_data['star_type'] = stars_data['star_type'].astype('category').cat.codes\n",
        "stars_data['star_color'] = stars_data['star_color'].astype('category').cat.codes\n",
        "\n",
        "corr = stars_data.corr()\n",
        "mask = np.zeros_like(corr, dtype=bool)\n",
        "mask[np.triu_indices_from(mask)] = True\n",
        "f, ax = plt.subplots(figsize=(10, 10))\n",
        "cmap = sns.diverging_palette(200, 21, as_cmap=True)\n",
        "sns.heatmap(corr, mask=mask, cmap=cmap, vmax=.3, center=0,square=True, linewidths=.5, cbar_kws={\"shrink\": .5})\n",
        "plt.show()\n",
        "corr"
      ]
    },
    {
      "cell_type": "markdown",
      "id": "6594aca9",
      "metadata": {
        "id": "6594aca9"
      },
      "source": [
        "Вывод: есть слабая корреляция между:  \n",
        " - радиусом и температурой;\n",
        " - типом звезды и цветом звезды;\n",
        " - цветом звезды и радиусом"
      ]
    },
    {
      "cell_type": "markdown",
      "id": "32e61fc5",
      "metadata": {
        "id": "32e61fc5"
      },
      "source": [
        "Изучим таргет, столбец **Temperature (K)**"
      ]
    },
    {
      "cell_type": "code",
      "execution_count": null,
      "id": "aec4601e",
      "metadata": {
        "id": "aec4601e",
        "outputId": "bef544a4-d176-48e5-b0f2-4e1303a27c17"
      },
      "outputs": [
        {
          "data": {
            "image/png": "[encoded data removed]",
            "text/plain": [
              "<Figure size 720x432 with 1 Axes>"
            ]
          },
          "metadata": {
            "needs_background": "light"
          },
          "output_type": "display_data"
        }
      ],
      "source": [
        "plt.figure(figsize=[10, 6])\n",
        "df['Temperature (K)'].hist(bins=8, color='royalblue')\n",
        "plt.xlabel('temperature')\n",
        "plt.title('temperature distribution')\n",
        "plt.show()"
      ]
    },
    {
      "cell_type": "markdown",
      "id": "01ac8374",
      "metadata": {
        "id": "01ac8374"
      },
      "source": [
        "Таргет распределен экспоненциально"
      ]
    },
    {
      "cell_type": "code",
      "execution_count": null,
      "id": "b477123f",
      "metadata": {
        "id": "b477123f",
        "outputId": "e8f92a2e-29dd-4d46-9911-9990f25c31c3"
      },
      "outputs": [
        {
          "data": {
            "image/png": "[encoded data removed]",
            "text/plain": [
              "<Figure size 1080x288 with 1 Axes>"
            ]
          },
          "metadata": {
            "needs_background": "light"
          },
          "output_type": "display_data"
        }
      ],
      "source": [
        "plt.figure(figsize=[15,4])\n",
        "sns.boxplot(x=df['Temperature (K)'], color='royalblue')\n",
        "plt.title('boxplot')\n",
        "plt.show()"
      ]
    },
    {
      "cell_type": "markdown",
      "id": "1e811f82",
      "metadata": {
        "id": "1e811f82"
      },
      "source": [
        "Изучим столбец **Luminosity(L/Lo)**"
      ]
    },
    {
      "cell_type": "code",
      "execution_count": null,
      "id": "236d3af7",
      "metadata": {
        "id": "236d3af7",
        "outputId": "e8b06179-c1a9-4c42-a220-0414fa0f66e1"
      },
      "outputs": [
        {
          "data": {
            "image/png": "[encoded data removed]",
            "text/plain": [
              "<Figure size 720x432 with 1 Axes>"
            ]
          },
          "metadata": {
            "needs_background": "light"
          },
          "output_type": "display_data"
        }
      ],
      "source": [
        "plt.figure(figsize=[10, 6])\n",
        "df['Luminosity(L/Lo)'].hist(bins=5, color='royalblue')\n",
        "plt.xlabel('luminosity')\n",
        "plt.title('luminosity distribution')\n",
        "plt.show()"
      ]
    },
    {
      "cell_type": "markdown",
      "id": "ab5d1021",
      "metadata": {
        "id": "ab5d1021"
      },
      "source": [
        "Колонка **Luminosity(L/Lo)** также распределена экспоненциально"
      ]
    },
    {
      "cell_type": "markdown",
      "id": "526f3fb8",
      "metadata": {
        "id": "526f3fb8"
      },
      "source": [
        "Изучим колонку **Radius(R/Ro)**"
      ]
    },
    {
      "cell_type": "code",
      "execution_count": null,
      "id": "f6be8d4b",
      "metadata": {
        "id": "f6be8d4b",
        "outputId": "d1723b90-7aa9-4372-e064-7be5359f864c"
      },
      "outputs": [
        {
          "data": {
            "image/png": "[encoded data removed]",
            "text/plain": [
              "<Figure size 720x432 with 1 Axes>"
            ]
          },
          "metadata": {
            "needs_background": "light"
          },
          "output_type": "display_data"
        }
      ],
      "source": [
        "plt.figure(figsize=[10, 6])\n",
        "df['Radius(R/Ro)'].hist(color='royalblue')\n",
        "plt.xlabel('radius')\n",
        "plt.title('radius distribution')\n",
        "plt.show()"
      ]
    },
    {
      "cell_type": "code",
      "execution_count": null,
      "id": "2891af9c",
      "metadata": {
        "id": "2891af9c",
        "outputId": "87c5128c-fa1a-4ee4-dcd3-df6244d15c4f"
      },
      "outputs": [
        {
          "data": {
            "image/png": "[encoded data removed]",
            "text/plain": [
              "<Figure size 1080x288 with 1 Axes>"
            ]
          },
          "metadata": {
            "needs_background": "light"
          },
          "output_type": "display_data"
        }
      ],
      "source": [
        "plt.figure(figsize=[15,4])\n",
        "sns.boxplot(x=df['Radius(R/Ro)'], color='royalblue')\n",
        "plt.title('boxplot')\n",
        "plt.show()"
      ]
    },
    {
      "cell_type": "markdown",
      "id": "438934c9",
      "metadata": {
        "id": "438934c9"
      },
      "source": [
        "Много выбросов, но мы работаем с темой астрономии, в данном случае выбросы удалять не будем"
      ]
    },
    {
      "cell_type": "markdown",
      "id": "5d9b8c17",
      "metadata": {
        "id": "5d9b8c17"
      },
      "source": [
        "Изучим колонку **Absolute magnitude(Mv)**"
      ]
    },
    {
      "cell_type": "code",
      "execution_count": null,
      "id": "36e8825a",
      "metadata": {
        "id": "36e8825a",
        "outputId": "31b92001-fde7-4968-ef0b-6059fcf344f0"
      },
      "outputs": [
        {
          "data": {
            "image/png": "[encoded data removed]",
            "text/plain": [
              "<Figure size 720x432 with 1 Axes>"
            ]
          },
          "metadata": {
            "needs_background": "light"
          },
          "output_type": "display_data"
        }
      ],
      "source": [
        "plt.figure(figsize=[10, 6])\n",
        "df['Absolute magnitude(Mv)'].hist(bins=25, color='royalblue')\n",
        "plt.xlabel('absolute_magnitude')\n",
        "plt.title('absolute_magnitude distribution')\n",
        "plt.show()"
      ]
    },
    {
      "cell_type": "code",
      "execution_count": null,
      "id": "5a598845",
      "metadata": {
        "id": "5a598845",
        "outputId": "0cf322d9-7f26-4b57-f8a0-7e8da7b8b1b8"
      },
      "outputs": [
        {
          "data": {
            "image/png": "[encoded data removed]",
            "text/plain": [
              "<Figure size 1080x288 with 1 Axes>"
            ]
          },
          "metadata": {
            "needs_background": "light"
          },
          "output_type": "display_data"
        }
      ],
      "source": [
        "plt.figure(figsize=[15,4])\n",
        "sns.boxplot(x=df['Absolute magnitude(Mv)'], color='royalblue')\n",
        "plt.title('boxplot')\n",
        "plt.show()"
      ]
    },
    {
      "cell_type": "markdown",
      "id": "238be957",
      "metadata": {
        "id": "238be957"
      },
      "source": [
        "### Обработка при помощи OHE и StandartScaler"
      ]
    },
    {
      "cell_type": "code",
      "execution_count": null,
      "id": "f7552f3d",
      "metadata": {
        "id": "f7552f3d"
      },
      "outputs": [],
      "source": [
        "X = df.drop(target, axis = 1).copy()\n",
        "y = df[target].copy()"
      ]
    },
    {
      "cell_type": "markdown",
      "id": "a732524b",
      "metadata": {
        "id": "a732524b"
      },
      "source": [
        "Разделим выборку на тестовую и тренировочную"
      ]
    },
    {
      "cell_type": "code",
      "execution_count": null,
      "id": "23f042c6",
      "metadata": {
        "id": "23f042c6",
        "outputId": "7005d58d-f6c3-47b5-ee76-064ba998f7df"
      },
      "outputs": [
        {
          "name": "stdout",
          "output_type": "stream",
          "text": [
            "В тренировочной выборке, размеры матрицы признаков  = (192, 5), целевого признака = (192, 1)\n",
            "В тестовой выборке, размеры матрицы признаков  = (48, 5), целевого признака = (48, 1)\n"
          ]
        }
      ],
      "source": [
        "X_train, X_test, y_train, y_test = train_test_split(X,y, test_size=0.2, random_state=3214)\n",
        "\n",
        "for x,y,z in zip((y_train, y_test),(X_train, X_test), ('тренировочной', 'тестовой')):\n",
        "    print(f'В {z} выборке, размеры матрицы признаков  = {y.shape}, целевого признака = {x.shape}')"
      ]
    },
    {
      "cell_type": "code",
      "execution_count": null,
      "id": "07f6b7da",
      "metadata": {
        "id": "07f6b7da"
      },
      "outputs": [],
      "source": [
        "for i in [X_train, X_test, y_train, y_test]:\n",
        "    i.reset_index(drop=True, inplace=True)"
      ]
    },
    {
      "cell_type": "markdown",
      "id": "1b91b9ad",
      "metadata": {
        "id": "1b91b9ad"
      },
      "source": [
        "Работа с категориальными признаками методом OHE"
      ]
    },
    {
      "cell_type": "code",
      "execution_count": null,
      "id": "6996c56b",
      "metadata": {
        "scrolled": true,
        "id": "6996c56b"
      },
      "outputs": [],
      "source": [
        "OHE = OneHotEncoder(sparse_output=False, drop = 'first', handle_unknown = 'error')\n",
        "\n",
        "X_train_cat = pd.DataFrame(OHE.fit_transform(X_train.loc[:,cat_cols]))\n",
        "X_train_cat.columns = OHE.get_feature_names_out(cat_cols)\n",
        "X_train.drop(cat_cols, axis = 1, inplace = True)\n",
        "X_train = pd.concat([X_train, X_train_cat], axis = 1)\n",
        "\n",
        "X_test_cat = pd.DataFrame(OHE.transform(X_test.loc[:,cat_cols]))\n",
        "X_test_cat.columns = OHE.get_feature_names_out(cat_cols)\n",
        "X_test.drop(cat_cols, axis = 1, inplace = True)\n",
        "X_test = pd.concat([X_test, X_test_cat], axis = 1)"
      ]
    },
    {
      "cell_type": "markdown",
      "id": "2183dc67",
      "metadata": {
        "id": "2183dc67"
      },
      "source": [
        "Масштабирование числовых признаков"
      ]
    },
    {
      "cell_type": "code",
      "execution_count": null,
      "id": "fe2df46b",
      "metadata": {
        "id": "fe2df46b"
      },
      "outputs": [],
      "source": [
        "scaler = StandardScaler()\n",
        "\n",
        "X_train[num_cols] = scaler.fit_transform(X_train[num_cols])\n",
        "X_test[num_cols] = scaler.transform(X_test[num_cols])"
      ]
    },
    {
      "cell_type": "markdown",
      "id": "4ccf54b0",
      "metadata": {
        "id": "4ccf54b0"
      },
      "source": [
        "Выведем на экран тренировочный набор данных после обработки"
      ]
    },
    {
      "cell_type": "code",
      "execution_count": null,
      "id": "63b1da09",
      "metadata": {
        "scrolled": true,
        "id": "63b1da09",
        "outputId": "1bf70e3a-b54e-42d0-aa09-b3a53ce1af04"
      },
      "outputs": [
        {
          "data": {
            "text/html": [
              "<div>\n",
              "<style scoped>\n",
              "    .dataframe tbody tr th:only-of-type {\n",
              "        vertical-align: middle;\n",
              "    }\n",
              "\n",
              "    .dataframe tbody tr th {\n",
              "        vertical-align: top;\n",
              "    }\n",
              "\n",
              "    .dataframe thead th {\n",
              "        text-align: right;\n",
              "    }\n",
              "</style>\n",
              "<table border=\"1\" class=\"dataframe\">\n",
              "  <thead>\n",
              "    <tr style=\"text-align: right;\">\n",
              "      <th></th>\n",
              "      <th>Luminosity(L/Lo)</th>\n",
              "      <th>Radius(R/Ro)</th>\n",
              "      <th>Absolute magnitude(Mv)</th>\n",
              "      <th>Star type_1</th>\n",
              "      <th>Star type_2</th>\n",
              "      <th>Star type_3</th>\n",
              "      <th>Star type_4</th>\n",
              "      <th>Star type_5</th>\n",
              "      <th>Star color_Blue_white</th>\n",
              "      <th>Star color_Orange</th>\n",
              "      <th>Star color_Red</th>\n",
              "      <th>Star color_White</th>\n",
              "      <th>Star color_Yellow</th>\n",
              "      <th>Star color_Yellow_white</th>\n",
              "    </tr>\n",
              "  </thead>\n",
              "  <tbody>\n",
              "    <tr>\n",
              "      <th>0</th>\n",
              "      <td>-0.627498</td>\n",
              "      <td>-0.440475</td>\n",
              "      <td>-0.145987</td>\n",
              "      <td>0.0</td>\n",
              "      <td>0.0</td>\n",
              "      <td>1.0</td>\n",
              "      <td>0.0</td>\n",
              "      <td>0.0</td>\n",
              "      <td>0.0</td>\n",
              "      <td>0.0</td>\n",
              "      <td>0.0</td>\n",
              "      <td>0.0</td>\n",
              "      <td>0.0</td>\n",
              "      <td>1.0</td>\n",
              "    </tr>\n",
              "    <tr>\n",
              "      <th>1</th>\n",
              "      <td>0.496468</td>\n",
              "      <td>2.230756</td>\n",
              "      <td>-1.387146</td>\n",
              "      <td>0.0</td>\n",
              "      <td>0.0</td>\n",
              "      <td>0.0</td>\n",
              "      <td>0.0</td>\n",
              "      <td>1.0</td>\n",
              "      <td>0.0</td>\n",
              "      <td>0.0</td>\n",
              "      <td>1.0</td>\n",
              "      <td>0.0</td>\n",
              "      <td>0.0</td>\n",
              "      <td>0.0</td>\n",
              "    </tr>\n",
              "    <tr>\n",
              "      <th>2</th>\n",
              "      <td>-0.627506</td>\n",
              "      <td>-0.442579</td>\n",
              "      <td>1.477650</td>\n",
              "      <td>0.0</td>\n",
              "      <td>0.0</td>\n",
              "      <td>0.0</td>\n",
              "      <td>0.0</td>\n",
              "      <td>0.0</td>\n",
              "      <td>0.0</td>\n",
              "      <td>0.0</td>\n",
              "      <td>1.0</td>\n",
              "      <td>0.0</td>\n",
              "      <td>0.0</td>\n",
              "      <td>0.0</td>\n",
              "    </tr>\n",
              "    <tr>\n",
              "      <th>3</th>\n",
              "      <td>-0.627506</td>\n",
              "      <td>-0.442030</td>\n",
              "      <td>0.756244</td>\n",
              "      <td>1.0</td>\n",
              "      <td>0.0</td>\n",
              "      <td>0.0</td>\n",
              "      <td>0.0</td>\n",
              "      <td>0.0</td>\n",
              "      <td>0.0</td>\n",
              "      <td>0.0</td>\n",
              "      <td>1.0</td>\n",
              "      <td>0.0</td>\n",
              "      <td>0.0</td>\n",
              "      <td>0.0</td>\n",
              "    </tr>\n",
              "    <tr>\n",
              "      <th>4</th>\n",
              "      <td>-0.627506</td>\n",
              "      <td>-0.442717</td>\n",
              "      <td>0.754351</td>\n",
              "      <td>0.0</td>\n",
              "      <td>1.0</td>\n",
              "      <td>0.0</td>\n",
              "      <td>0.0</td>\n",
              "      <td>0.0</td>\n",
              "      <td>1.0</td>\n",
              "      <td>0.0</td>\n",
              "      <td>0.0</td>\n",
              "      <td>0.0</td>\n",
              "      <td>0.0</td>\n",
              "      <td>0.0</td>\n",
              "    </tr>\n",
              "  </tbody>\n",
              "</table>\n",
              "</div>"
            ],
            "text/plain": [
              "   Luminosity(L/Lo)  Radius(R/Ro)  Absolute magnitude(Mv)  Star type_1  \\\n",
              "0         -0.627498     -0.440475               -0.145987          0.0   \n",
              "1          0.496468      2.230756               -1.387146          0.0   \n",
              "2         -0.627506     -0.442579                1.477650          0.0   \n",
              "3         -0.627506     -0.442030                0.756244          1.0   \n",
              "4         -0.627506     -0.442717                0.754351          0.0   \n",
              "\n",
              "   Star type_2  Star type_3  Star type_4  Star type_5  Star color_Blue_white  \\\n",
              "0          0.0          1.0          0.0          0.0                    0.0   \n",
              "1          0.0          0.0          0.0          1.0                    0.0   \n",
              "2          0.0          0.0          0.0          0.0                    0.0   \n",
              "3          0.0          0.0          0.0          0.0                    0.0   \n",
              "4          1.0          0.0          0.0          0.0                    1.0   \n",
              "\n",
              "   Star color_Orange  Star color_Red  Star color_White  Star color_Yellow  \\\n",
              "0                0.0             0.0               0.0                0.0   \n",
              "1                0.0             1.0               0.0                0.0   \n",
              "2                0.0             1.0               0.0                0.0   \n",
              "3                0.0             1.0               0.0                0.0   \n",
              "4                0.0             0.0               0.0                0.0   \n",
              "\n",
              "   Star color_Yellow_white  \n",
              "0                      1.0  \n",
              "1                      0.0  \n",
              "2                      0.0  \n",
              "3                      0.0  \n",
              "4                      0.0  "
            ]
          },
          "execution_count": 66,
          "metadata": {},
          "output_type": "execute_result"
        }
      ],
      "source": [
        "X_train.head()"
      ]
    },
    {
      "cell_type": "markdown",
      "id": "2c40678b",
      "metadata": {
        "id": "2c40678b"
      },
      "source": [
        "### Вывод:  \n",
        " - Мы изучили датафрейм, пропусков не обнаружено\n",
        " - Явных дубликатов не обнаружено\n",
        " - Были опечатки в названиях в столбце Star color, исправлены\n",
        " - Перераспределили значения в пределах следующих данные: Blue, Blue_white, White, Yellow_white, Yellow, Orange, Red.\n",
        " - Изменили тип данных в в столбце Star type на `object'\n",
        "    - В данных есть корреляция между:\n",
        "        - радиусом и температурой;\n",
        "        - типом звезды и цветом звезды;\n",
        "        - цветом звезды и радиусом  \n",
        "        \n",
        "- Кодировали данные при помощи OHE, масштабировали числовые признаки"
      ]
    },
    {
      "cell_type": "markdown",
      "id": "funded-electric",
      "metadata": {
        "id": "funded-electric"
      },
      "source": [
        "## Построение базовой нейронной сети"
      ]
    },
    {
      "cell_type": "markdown",
      "id": "9caae581",
      "metadata": {
        "id": "9caae581"
      },
      "source": [
        "Переведём наши данные к тензорам"
      ]
    },
    {
      "cell_type": "code",
      "execution_count": null,
      "id": "25bb5d32",
      "metadata": {
        "id": "25bb5d32"
      },
      "outputs": [],
      "source": [
        "X_train = torch.FloatTensor(X_train.values)\n",
        "X_test  = torch.FloatTensor(X_test.values)\n",
        "y_train  = torch.FloatTensor(y_train.values)\n",
        "y_test = torch.FloatTensor(y_test.values)"
      ]
    },
    {
      "cell_type": "markdown",
      "id": "c6111252",
      "metadata": {
        "id": "c6111252"
      },
      "source": [
        "Настроим количество нейронов на слоях сети"
      ]
    },
    {
      "cell_type": "code",
      "execution_count": null,
      "id": "b8eb5699",
      "metadata": {
        "id": "b8eb5699"
      },
      "outputs": [],
      "source": [
        "n_in_neurons = 14\n",
        "n_hidden_neurons_1 = 50\n",
        "n_hidden_neurons_2 = 20\n",
        "n_out_neurons = 1"
      ]
    },
    {
      "cell_type": "code",
      "execution_count": null,
      "id": "6118411b",
      "metadata": {
        "id": "6118411b"
      },
      "outputs": [],
      "source": [
        "class Model(nn.Module):\n",
        "    def __init__(self, n_in_neurons, n_hidden_neurons_1, n_hidden_neurons_2, n_out_neurons):\n",
        "        super(Model, self).__init__()\n",
        "\n",
        "        self.fc1 = nn.Linear(n_in_neurons, n_hidden_neurons_1)\n",
        "        self.act1 = nn.ReLU()\n",
        "        self.fc2 = nn.Linear(n_hidden_neurons_1, n_hidden_neurons_2)\n",
        "        self.act2 = nn.ReLU()\n",
        "        self.fc3 = nn.Linear(n_hidden_neurons_2, n_out_neurons)\n",
        "\n",
        "    def forward(self, x):\n",
        "        x = self.fc1(x)\n",
        "        x = self.act1(x)\n",
        "        x = self.fc2(x)\n",
        "        x = self.act2(x)\n",
        "        x = self.fc3(x)\n",
        "\n",
        "        return x"
      ]
    },
    {
      "cell_type": "code",
      "execution_count": null,
      "id": "d58bcb6a",
      "metadata": {
        "id": "d58bcb6a"
      },
      "outputs": [],
      "source": [
        "net = Model(n_in_neurons, n_hidden_neurons_1, n_hidden_neurons_2, n_out_neurons) #модель\n",
        "loss=nn.MSELoss()\n",
        "\n",
        "optimizer = torch.optim.Adam(net.parameters(), lr=1e-3)\n",
        "optimizer1 = torch.optim.RMSprop(net.parameters(), lr=1e-3)\n",
        "optimizer2 = torch.optim.Adam(net.parameters(), lr=1e-2)\n",
        "optimizer3 = torch.optim.Adamax(net.parameters(), lr=1e-2)"
      ]
    },
    {
      "cell_type": "markdown",
      "id": "00a38185",
      "metadata": {
        "id": "00a38185"
      },
      "source": [
        "Функция для кросс-валидации нейронной сети"
      ]
    },
    {
      "cell_type": "code",
      "execution_count": null,
      "id": "a31a2d93",
      "metadata": {
        "id": "a31a2d93"
      },
      "outputs": [],
      "source": [
        "def cross_vall_score(model, X_train, y_train, optim, num_epochs=250, batch_size=6, k=4, loss=nn.MSELoss()):\n",
        "    num_batches = ceil(len(X_train)/batch_size) # количество батчей\n",
        "    num_val_samples = len(X_train)//k # размер валидационной выборки\n",
        "    all_scores = []\n",
        "\n",
        "    for i in range(k):\n",
        "        #разбиваем на валидационную и тренировочную выборку\n",
        "        print('processing fold #', i+1, end='  ')\n",
        "\n",
        "        #обнуляем веса нейронной сети\n",
        "        for layer in model.children():\n",
        "            if hasattr(layer, 'reset_parameters'):\n",
        "                layer.reset_parameters()\n",
        "\n",
        "        #валидационная выборка\n",
        "        val_data = X_train[i*num_val_samples: (i+1)*num_val_samples]\n",
        "        val_targets = y_train[i*num_val_samples: (i+1)*num_val_samples]\n",
        "\n",
        "        #тренировочная выборка\n",
        "        partial_train_data = np.concatenate([X_train[:i*num_val_samples], X_train[(i+1)*num_val_samples:]], axis = 0)\n",
        "        partial_train_targets = np.concatenate([y_train[:i*num_val_samples], y_train[(i+1)*num_val_samples:]], axis = 0)\n",
        "\n",
        "        #приводим наши данные к формату FloatTensor\n",
        "        val_data = torch.FloatTensor(val_data)\n",
        "        val_targets = torch.FloatTensor(val_targets)\n",
        "        partial_train_data = torch.FloatTensor(partial_train_data)\n",
        "        partial_train_targets = torch.FloatTensor(partial_train_targets)\n",
        "\n",
        "        for epoch in range(num_epochs):\n",
        "            #создаем случайную перестановку индексов для каждой эпохи\n",
        "            order = np.random.permutation(len(partial_train_data))\n",
        "            for batch_idx in range(num_batches):\n",
        "                start_index = batch_idx * batch_size #стартовый индекс батча\n",
        "                optim.zero_grad() #обнуляем градиаенты\n",
        "\n",
        "                #извлекаем батч\n",
        "                batch_indexes = order[start_index:start_index+batch_size]\n",
        "                X_batch = partial_train_data[batch_indexes]\n",
        "                y_batch = partial_train_targets[batch_indexes]\n",
        "\n",
        "                preds = net.forward(X_batch).flatten() #получаем предсказание\n",
        "                loss_value = loss(preds, y_batch.flatten()) #высчитываем ошибку\n",
        "                loss_value.backward()\n",
        "                optim.step()\n",
        "\n",
        "            if epoch == num_epochs-1:\n",
        "                model.eval()\n",
        "                val_preds = model.forward(val_data)\n",
        "                RMSE_loss = torch.sqrt(loss(val_targets, val_preds))\n",
        "                all_scores.append(RMSE_loss)\n",
        "                print('RMSE метрика =', float(RMSE_loss))\n",
        "    print('Средняя RMSE метрика =', int(sum(all_scores)/len(all_scores)),  '\\n')\n",
        "    return"
      ]
    },
    {
      "cell_type": "code",
      "execution_count": null,
      "id": "3beb2aa8",
      "metadata": {
        "scrolled": false,
        "id": "3beb2aa8",
        "outputId": "ca372d57-7182-4591-ce53-cf2e6692d528"
      },
      "outputs": [
        {
          "name": "stdout",
          "output_type": "stream",
          "text": [
            "Adam (\n",
            "Parameter Group 0\n",
            "    amsgrad: False\n",
            "    betas: (0.9, 0.999)\n",
            "    eps: 1e-08\n",
            "    lr: 0.001\n",
            "    weight_decay: 0\n",
            ")\n",
            "processing fold # 1  RMSE метрика = 6077.55224609375\n",
            "processing fold # 2  RMSE метрика = 5214.10009765625\n",
            "processing fold # 3  RMSE метрика = 5345.73974609375\n",
            "processing fold # 4  RMSE метрика = 5070.201171875\n",
            "Средняя RMSE метрика = 5426 \n",
            "\n",
            "RMSprop (\n",
            "Parameter Group 0\n",
            "    alpha: 0.99\n",
            "    centered: False\n",
            "    eps: 1e-08\n",
            "    lr: 0.001\n",
            "    momentum: 0\n",
            "    weight_decay: 0\n",
            ")\n",
            "processing fold # 1  RMSE метрика = 6231.0546875\n",
            "processing fold # 2  RMSE метрика = 6566.34619140625\n",
            "processing fold # 3  RMSE метрика = 5826.9384765625\n",
            "processing fold # 4  RMSE метрика = 6129.68310546875\n",
            "Средняя RMSE метрика = 6188 \n",
            "\n",
            "Adam (\n",
            "Parameter Group 0\n",
            "    amsgrad: False\n",
            "    betas: (0.9, 0.999)\n",
            "    eps: 1e-08\n",
            "    lr: 0.01\n",
            "    weight_decay: 0\n",
            ")\n",
            "processing fold # 1  RMSE метрика = 3433.72900390625\n",
            "processing fold # 2  RMSE метрика = 3760.66259765625\n",
            "processing fold # 3  RMSE метрика = 3670.818115234375\n",
            "processing fold # 4  RMSE метрика = 4127.22509765625\n",
            "Средняя RMSE метрика = 3748 \n",
            "\n",
            "Adamax (\n",
            "Parameter Group 0\n",
            "    betas: (0.9, 0.999)\n",
            "    eps: 1e-08\n",
            "    lr: 0.01\n",
            "    weight_decay: 0\n",
            ")\n",
            "processing fold # 1  RMSE метрика = 4299.583984375\n",
            "processing fold # 2  RMSE метрика = 3139.4423828125\n",
            "processing fold # 3  RMSE метрика = 3418.0185546875\n",
            "processing fold # 4  RMSE метрика = 3708.921630859375\n",
            "Средняя RMSE метрика = 3641 \n",
            "\n"
          ]
        }
      ],
      "source": [
        "x = [optimizer, optimizer1, optimizer2, optimizer3]\n",
        "\n",
        "for i in x:\n",
        "    print(i)\n",
        "    cross_vall_score(net, X_train, y_train, i)"
      ]
    },
    {
      "cell_type": "markdown",
      "id": "2d5b8c84",
      "metadata": {
        "id": "2d5b8c84"
      },
      "source": [
        "Лучше всего себя показала оптимизация Adamax с шагом сходимости в 0.01"
      ]
    },
    {
      "cell_type": "markdown",
      "id": "22d49c35",
      "metadata": {
        "id": "22d49c35"
      },
      "source": [
        "Напишем функцию которая обучает нейронную сеть батчами с заданным количеством эпох"
      ]
    },
    {
      "cell_type": "code",
      "execution_count": null,
      "id": "789ae8cd",
      "metadata": {
        "id": "789ae8cd"
      },
      "outputs": [],
      "source": [
        "def neiron(model, X_train, y_train, optim, num_epochs = 250, batch_size = 6):\n",
        "    num_batches = ceil(len(X_train)/batch_size)\n",
        "    for epoch in range(num_epochs):\n",
        "        order = np.random.permutation(len(X_train))\n",
        "        for batch_idx in range(num_batches):\n",
        "            start_index = batch_idx * batch_size\n",
        "            optim.zero_grad()\n",
        "\n",
        "            batch_indexes = order[start_index:start_index+batch_size] #индексы объектов текущего обатча\n",
        "            X_batch = X_train[batch_indexes]\n",
        "            y_batch = y_train[batch_indexes]\n",
        "\n",
        "            preds = model.forward(X_batch).flatten()\n",
        "            loss_value = loss(preds, y_batch.flatten())\n",
        "            loss_value.backward()\n",
        "            optim.step()\n",
        "    return  model"
      ]
    },
    {
      "cell_type": "markdown",
      "id": "abc80d28",
      "metadata": {
        "id": "abc80d28"
      },
      "source": [
        "Обучим модель с заданными параметрами"
      ]
    },
    {
      "cell_type": "code",
      "execution_count": null,
      "id": "8e329fb7",
      "metadata": {
        "id": "8e329fb7"
      },
      "outputs": [],
      "source": [
        "net = neiron(net, X_train, y_train, optimizer3)"
      ]
    },
    {
      "cell_type": "code",
      "execution_count": null,
      "id": "25d77b4e",
      "metadata": {
        "scrolled": true,
        "id": "25d77b4e",
        "outputId": "6f0d8b31-f3dd-403c-d53b-efd1a617bc28"
      },
      "outputs": [
        {
          "name": "stdout",
          "output_type": "stream",
          "text": [
            "RMSE нейронной сети на тестовой выборке =  3528\n"
          ]
        }
      ],
      "source": [
        "net.eval()\n",
        "test_preds = net.forward(X_test)\n",
        "print('RMSE нейронной сети на тестовой выборке = ', int(torch.sqrt(loss(y_test, test_preds))))"
      ]
    },
    {
      "cell_type": "markdown",
      "id": "805f4593",
      "metadata": {
        "id": "805f4593"
      },
      "source": [
        "По заданию, необходимо выведите метрику RMSE и график «Факт — прогноз». Метрика RMSE не должна превышать 4500. Это услове удовлетворяется.  \n",
        "Построим график"
      ]
    },
    {
      "cell_type": "code",
      "execution_count": null,
      "id": "c58afcdf",
      "metadata": {
        "id": "c58afcdf",
        "outputId": "d64726b3-1be8-45a7-db44-e1afee4cb027"
      },
      "outputs": [
        {
          "data": {
            "image/png": "[encoded data removed]",
            "text/plain": [
              "<Figure size 1224x720 with 1 Axes>"
            ]
          },
          "metadata": {
            "needs_background": "light"
          },
          "output_type": "display_data"
        }
      ],
      "source": [
        "def vizualization(target, preds, width = 0.3):\n",
        "    '''Визуализирует предсказания нейронной сети на тестовой выборке'''\n",
        "    y1 = target.numpy().reshape([-1])\n",
        "    y2 = preds.reshape([-1]).detach().numpy()\n",
        "    x = np.arange(len(y1))\n",
        "\n",
        "    fig,ax = plt.subplots()\n",
        "    rects1 = ax.bar(x - width/2, y1, width, label = 'Факт')\n",
        "    rects2 = ax.bar(x + width/2, y2, width, label = 'Прогноз')\n",
        "    ax.set_title('Факт-Прогноз')\n",
        "    ax.set_xticks(x)\n",
        "    ax.set_xlabel('Номер звезды в таблице данных')\n",
        "    ax.set_ylabel('Температура звезды')\n",
        "    fig.set_figwidth(17)\n",
        "    fig.set_figheight(10)\n",
        "    ax.legend();\n",
        "\n",
        "vizualization(y_test, test_preds)"
      ]
    },
    {
      "cell_type": "markdown",
      "id": "6a7f158b",
      "metadata": {
        "id": "6a7f158b"
      },
      "source": [
        "Из графика видно что нейронная сеть хорошо предсказывает температуру звезды, хотя есть и исключения, номера звезды в таблице 28, 36."
      ]
    },
    {
      "cell_type": "markdown",
      "id": "growing-supply",
      "metadata": {
        "id": "growing-supply"
      },
      "source": [
        "## Улучшение нейронной сети"
      ]
    },
    {
      "cell_type": "markdown",
      "id": "5533cd26",
      "metadata": {
        "id": "5533cd26"
      },
      "source": [
        "Применим «dropout» и BatchNorm1d. Посмотрим, как повлияет на результаты обучения нейронной сети, в лучшую сторону или нет."
      ]
    },
    {
      "cell_type": "code",
      "execution_count": null,
      "id": "fb161432",
      "metadata": {
        "id": "fb161432"
      },
      "outputs": [],
      "source": [
        "class Model(nn.Module):\n",
        "    def __init__(self, n_in_neurons, n_hidden_neurons_1, n_hidden_neurons_2, n_out_neurons):\n",
        "        super(Model, self).__init__()\n",
        "\n",
        "        self.fc1 = nn.Linear(n_in_neurons, n_hidden_neurons_1)\n",
        "        self.bn1 = nn.BatchNorm1d(n_hidden_neurons_1)\n",
        "        self.act1 = nn.ReLU()\n",
        "        self.dp2 = nn.Dropout(p=0.2)\n",
        "        self.fc2 = nn.Linear(n_hidden_neurons_1, n_hidden_neurons_2)\n",
        "        self.bn2 = nn.BatchNorm1d(n_hidden_neurons_2)\n",
        "        self.act2 = nn.ReLU()\n",
        "        self.fc3 = nn.Linear(n_hidden_neurons_2, n_out_neurons)\n",
        "\n",
        "    def forward(self, x):\n",
        "        x = self.fc1(x)\n",
        "        x = self.bn1(x)\n",
        "        x = self.act1(x)\n",
        "        x = self.dp2(x)\n",
        "        x = self.fc2(x)\n",
        "        x = self.bn2(x)\n",
        "        x = self.act2(x)\n",
        "        x = self.fc3(x)\n",
        "\n",
        "        return x"
      ]
    },
    {
      "cell_type": "code",
      "execution_count": null,
      "id": "873ddb5f",
      "metadata": {
        "id": "873ddb5f"
      },
      "outputs": [],
      "source": [
        "net = Model(n_in_neurons, n_hidden_neurons_1, n_hidden_neurons_2, n_out_neurons)\n",
        "loss = nn.MSELoss()\n",
        "\n",
        "optimizer = torch.optim.RMSprop(net.parameters(), lr=1e-3)\n",
        "optimizer1 = torch.optim.Adam(net.parameters(), lr=1e-3)\n",
        "optimizer2 = torch.optim.Adam(net.parameters(), lr=1e-2)\n",
        "optimizer3 = torch.optim.Adamax(net.parameters(), lr=1e-2)"
      ]
    },
    {
      "cell_type": "code",
      "execution_count": null,
      "id": "65b4c222",
      "metadata": {
        "id": "65b4c222",
        "outputId": "86a3b8fd-8e84-45ad-f148-2ebeedc1e192"
      },
      "outputs": [
        {
          "name": "stdout",
          "output_type": "stream",
          "text": [
            "RMSprop (\n",
            "Parameter Group 0\n",
            "    alpha: 0.99\n",
            "    centered: False\n",
            "    eps: 1e-08\n",
            "    lr: 0.001\n",
            "    momentum: 0\n",
            "    weight_decay: 0\n",
            ")\n",
            "processing fold # 1  RMSE метрика = 14378.7197265625\n",
            "processing fold # 2  RMSE метрика = 5126.19921875\n",
            "processing fold # 3  RMSE метрика = 5167.8134765625\n",
            "processing fold # 4  RMSE метрика = 4627.86669921875\n",
            "Средняя RMSE метрика = 7325 \n",
            "\n",
            "Adam (\n",
            "Parameter Group 0\n",
            "    amsgrad: False\n",
            "    betas: (0.9, 0.999)\n",
            "    eps: 1e-08\n",
            "    lr: 0.001\n",
            "    weight_decay: 0\n",
            ")\n",
            "processing fold # 1  RMSE метрика = 4903.9033203125\n",
            "processing fold # 2  RMSE метрика = 3036.385498046875\n",
            "processing fold # 3  RMSE метрика = 3340.2373046875\n",
            "processing fold # 4  RMSE метрика = 3899.6953125\n",
            "Средняя RMSE метрика = 3795 \n",
            "\n",
            "Adam (\n",
            "Parameter Group 0\n",
            "    amsgrad: False\n",
            "    betas: (0.9, 0.999)\n",
            "    eps: 1e-08\n",
            "    lr: 0.01\n",
            "    weight_decay: 0\n",
            ")\n",
            "processing fold # 1  RMSE метрика = 3883.509033203125\n",
            "processing fold # 2  RMSE метрика = 4218.787109375\n",
            "processing fold # 3  RMSE метрика = 3245.45166015625\n",
            "processing fold # 4  RMSE метрика = 3772.42431640625\n",
            "Средняя RMSE метрика = 3780 \n",
            "\n",
            "Adamax (\n",
            "Parameter Group 0\n",
            "    betas: (0.9, 0.999)\n",
            "    eps: 1e-08\n",
            "    lr: 0.01\n",
            "    weight_decay: 0\n",
            ")\n",
            "processing fold # 1  RMSE метрика = 3525.26318359375\n",
            "processing fold # 2  RMSE метрика = 3468.341796875\n",
            "processing fold # 3  RMSE метрика = 3198.37646484375\n",
            "processing fold # 4  RMSE метрика = 4001.579833984375\n",
            "Средняя RMSE метрика = 3548 \n",
            "\n"
          ]
        }
      ],
      "source": [
        "x = [optimizer, optimizer1, optimizer2, optimizer3]\n",
        "\n",
        "for i in x:\n",
        "    print(i)\n",
        "    cross_vall_score(net, X_train, y_train, i)"
      ]
    },
    {
      "cell_type": "code",
      "execution_count": null,
      "id": "18b1409b",
      "metadata": {
        "id": "18b1409b"
      },
      "outputs": [],
      "source": [
        "net = neiron(net, X_train, y_train, optimizer3)"
      ]
    },
    {
      "cell_type": "code",
      "execution_count": null,
      "id": "e7b50fff",
      "metadata": {
        "id": "e7b50fff",
        "outputId": "f4fdcee0-d1ff-469b-a8e7-11b43aeb145d"
      },
      "outputs": [
        {
          "name": "stdout",
          "output_type": "stream",
          "text": [
            "RMSE нейронной сети на тестовой выборке =  3906\n"
          ]
        }
      ],
      "source": [
        "net.eval()\n",
        "test_preds = net.forward(X_test)\n",
        "print('RMSE нейронной сети на тестовой выборке = ', int(torch.sqrt(loss(y_test, test_preds))))"
      ]
    },
    {
      "cell_type": "markdown",
      "id": "86ed603f",
      "metadata": {
        "id": "86ed603f"
      },
      "source": [
        "Построим график «Факт — Прогноз» улучшенной нейронной сети, где по горизонтальной оси будут отложены условные номера звёзд, а по вертикальной — температура в Кельвинах."
      ]
    },
    {
      "cell_type": "code",
      "execution_count": null,
      "id": "36dc6f46",
      "metadata": {
        "id": "36dc6f46",
        "outputId": "1f8d5956-e4c9-460d-ae2c-0a1f5fe9013e"
      },
      "outputs": [
        {
          "data": {
            "image/png": "[encoded data removed]",
            "text/plain": [
              "<Figure size 1224x720 with 1 Axes>"
            ]
          },
          "metadata": {
            "needs_background": "light"
          },
          "output_type": "display_data"
        }
      ],
      "source": [
        "vizualization(y_test, test_preds)"
      ]
    },
    {
      "cell_type": "markdown",
      "id": "accurate-infrastructure",
      "metadata": {
        "id": "accurate-infrastructure"
      },
      "source": [
        "## Выводы"
      ]
    },
    {
      "cell_type": "markdown",
      "id": "3f573a62",
      "metadata": {
        "id": "3f573a62"
      },
      "source": [
        "По проекту, задание было от обсерватории «Небо на ладони»: придумать, как с помощью нейросети определять температуру на поверхности обнаруженных звёзд. С внедрением технологии машинного обучения для предсказания температуры звёзд, метод будет наиболее точным и удобным.\n",
        "\n",
        "В базе обсерватории есть характеристики уже изученных 240 звёзд.\n",
        "\n",
        "Данные были загружены, произведен исследовательский анализ данных. Где необходимо тип данных был переведен в нужный. В датасете пропуски не обнаружены. Явных дубликатов не было. Опечатки в названиях в столбцах исправлены. Перераспределили значения в столбце Звёздный цвет (white, red, blue, yellow, yellow-orange и др.). Обнаружили слабую корреляцию между радиусом и температурой, типом звезды и цветом звезды, цветом звезды и радиусом. Кодировали данные при помощи OHE, масштабировали числовые признаки.\n",
        "\n",
        "Была разработана нейронная сеть, которая поможет предсказывать абсолютную температуру на поверхности звезды.\n",
        "\n",
        "Первоначально построенная базовая нейронная сеть показала RMSE на тестовой выборке =  3528. Улучшенная модель нейронной сети имела RMSE на тестовой выборке = 3906. Таким образом применение «dropout» и BatchNorm1d на улучшенной модели оказало негативный эффект."
      ]
    }
  ],
  "metadata": {
    "ExecuteTimeLog": [
      {
        "duration": 6225,
        "start_time": "2022-12-12T14:48:27.487Z"
      },
      {
        "duration": 11,
        "start_time": "2022-12-12T14:49:08.282Z"
      },
      {
        "duration": 5,
        "start_time": "2022-12-12T14:50:26.072Z"
      },
      {
        "duration": 10,
        "start_time": "2022-12-12T14:50:41.592Z"
      },
      {
        "duration": 71,
        "start_time": "2022-12-12T14:51:41.114Z"
      },
      {
        "duration": 10,
        "start_time": "2022-12-12T14:52:19.323Z"
      },
      {
        "duration": 29,
        "start_time": "2022-12-12T14:52:31.108Z"
      },
      {
        "duration": 27,
        "start_time": "2022-12-12T14:52:34.252Z"
      },
      {
        "duration": 11,
        "start_time": "2022-12-12T14:52:36.268Z"
      },
      {
        "duration": 11,
        "start_time": "2022-12-12T14:52:47.277Z"
      },
      {
        "duration": 29,
        "start_time": "2022-12-12T14:54:12.383Z"
      },
      {
        "duration": 11,
        "start_time": "2022-12-12T14:58:53.169Z"
      },
      {
        "duration": 5,
        "start_time": "2022-12-12T15:09:23.815Z"
      },
      {
        "duration": 6,
        "start_time": "2022-12-12T15:09:38.055Z"
      },
      {
        "duration": 16,
        "start_time": "2022-12-12T15:12:25.061Z"
      },
      {
        "duration": 284,
        "start_time": "2022-12-12T15:12:57.078Z"
      },
      {
        "duration": 353,
        "start_time": "2022-12-12T15:13:09.615Z"
      },
      {
        "duration": 5,
        "start_time": "2022-12-12T15:13:22.719Z"
      },
      {
        "duration": 4,
        "start_time": "2022-12-12T15:13:26.807Z"
      },
      {
        "duration": 13,
        "start_time": "2022-12-12T15:14:28.843Z"
      },
      {
        "duration": 293,
        "start_time": "2022-12-12T15:14:34.050Z"
      },
      {
        "duration": 286,
        "start_time": "2022-12-12T15:14:50.505Z"
      },
      {
        "duration": 258,
        "start_time": "2022-12-12T15:14:55.513Z"
      },
      {
        "duration": 5,
        "start_time": "2022-12-12T15:15:31.803Z"
      },
      {
        "duration": 255,
        "start_time": "2022-12-12T15:16:55.086Z"
      },
      {
        "duration": 78,
        "start_time": "2022-12-12T15:20:21.221Z"
      },
      {
        "duration": 9,
        "start_time": "2022-12-12T15:20:27.245Z"
      },
      {
        "duration": 6,
        "start_time": "2022-12-12T15:21:01.935Z"
      },
      {
        "duration": 7,
        "start_time": "2022-12-12T15:24:29.478Z"
      },
      {
        "duration": 17,
        "start_time": "2022-12-12T15:24:42.486Z"
      },
      {
        "duration": 512,
        "start_time": "2022-12-12T15:25:07.552Z"
      },
      {
        "duration": 391,
        "start_time": "2022-12-12T15:25:47.993Z"
      },
      {
        "duration": 384,
        "start_time": "2022-12-12T15:28:40.164Z"
      },
      {
        "duration": 405,
        "start_time": "2022-12-12T15:29:57.305Z"
      },
      {
        "duration": 1512,
        "start_time": "2022-12-12T15:42:08.426Z"
      },
      {
        "duration": 187,
        "start_time": "2022-12-12T15:42:27.795Z"
      },
      {
        "duration": 183,
        "start_time": "2022-12-12T15:43:26.765Z"
      },
      {
        "duration": 221,
        "start_time": "2022-12-12T15:43:30.405Z"
      },
      {
        "duration": 216,
        "start_time": "2022-12-12T15:43:49.631Z"
      },
      {
        "duration": 18,
        "start_time": "2022-12-12T15:44:42.327Z"
      },
      {
        "duration": 153,
        "start_time": "2022-12-12T15:44:48.472Z"
      },
      {
        "duration": 135,
        "start_time": "2022-12-12T15:44:54.007Z"
      },
      {
        "duration": 196,
        "start_time": "2022-12-12T15:47:34.573Z"
      },
      {
        "duration": 383,
        "start_time": "2022-12-12T15:47:39.893Z"
      },
      {
        "duration": 17,
        "start_time": "2022-12-12T15:48:44.088Z"
      },
      {
        "duration": 224,
        "start_time": "2022-12-12T15:48:51.639Z"
      },
      {
        "duration": 152,
        "start_time": "2022-12-12T15:49:16.017Z"
      },
      {
        "duration": 181,
        "start_time": "2022-12-12T15:50:39.868Z"
      },
      {
        "duration": 1255,
        "start_time": "2022-12-12T15:50:51.788Z"
      },
      {
        "duration": 190,
        "start_time": "2022-12-12T15:51:12.317Z"
      },
      {
        "duration": 220,
        "start_time": "2022-12-12T15:51:22.933Z"
      },
      {
        "duration": 124,
        "start_time": "2022-12-12T15:51:46.253Z"
      },
      {
        "duration": 115,
        "start_time": "2022-12-12T15:51:51.765Z"
      },
      {
        "duration": 6,
        "start_time": "2022-12-12T15:56:06.439Z"
      },
      {
        "duration": 4,
        "start_time": "2022-12-12T16:06:43.268Z"
      },
      {
        "duration": 7,
        "start_time": "2022-12-12T16:06:57.012Z"
      },
      {
        "duration": 7,
        "start_time": "2022-12-12T16:07:20.253Z"
      },
      {
        "duration": 369,
        "start_time": "2022-12-12T16:07:39.752Z"
      },
      {
        "duration": 164,
        "start_time": "2022-12-12T16:07:46.437Z"
      },
      {
        "duration": 124,
        "start_time": "2022-12-12T16:07:48.477Z"
      },
      {
        "duration": 152,
        "start_time": "2022-12-12T16:07:50.215Z"
      },
      {
        "duration": 207,
        "start_time": "2022-12-12T16:07:51.997Z"
      },
      {
        "duration": 246,
        "start_time": "2022-12-12T16:07:54.070Z"
      },
      {
        "duration": 196,
        "start_time": "2022-12-12T16:07:56.134Z"
      },
      {
        "duration": 115,
        "start_time": "2022-12-12T16:07:57.998Z"
      },
      {
        "duration": 169,
        "start_time": "2022-12-12T16:08:31.264Z"
      },
      {
        "duration": 65,
        "start_time": "2022-12-12T16:11:09.767Z"
      },
      {
        "duration": 4,
        "start_time": "2022-12-12T16:11:20.709Z"
      },
      {
        "duration": 13,
        "start_time": "2022-12-12T16:11:39.870Z"
      },
      {
        "duration": 14,
        "start_time": "2022-12-12T16:11:51.255Z"
      },
      {
        "duration": 15,
        "start_time": "2022-12-12T16:16:41.225Z"
      },
      {
        "duration": 4,
        "start_time": "2022-12-12T16:17:07.791Z"
      },
      {
        "duration": 8,
        "start_time": "2022-12-12T16:17:07.798Z"
      },
      {
        "duration": 36,
        "start_time": "2022-12-12T16:17:07.808Z"
      },
      {
        "duration": 13,
        "start_time": "2022-12-12T16:17:07.847Z"
      },
      {
        "duration": 40,
        "start_time": "2022-12-12T16:17:07.861Z"
      },
      {
        "duration": 15,
        "start_time": "2022-12-12T16:17:07.903Z"
      },
      {
        "duration": 32,
        "start_time": "2022-12-12T16:17:07.920Z"
      },
      {
        "duration": 8,
        "start_time": "2022-12-12T16:17:07.954Z"
      },
      {
        "duration": 4,
        "start_time": "2022-12-12T16:17:07.964Z"
      },
      {
        "duration": 11,
        "start_time": "2022-12-12T16:17:07.972Z"
      },
      {
        "duration": 8,
        "start_time": "2022-12-12T16:17:07.986Z"
      },
      {
        "duration": 304,
        "start_time": "2022-12-12T16:17:07.996Z"
      },
      {
        "duration": 5,
        "start_time": "2022-12-12T16:17:08.302Z"
      },
      {
        "duration": 12,
        "start_time": "2022-12-12T16:17:08.309Z"
      },
      {
        "duration": 184,
        "start_time": "2022-12-12T16:17:08.323Z"
      },
      {
        "duration": 18,
        "start_time": "2022-12-12T16:17:08.509Z"
      },
      {
        "duration": 24,
        "start_time": "2022-12-12T16:17:08.529Z"
      },
      {
        "duration": 216,
        "start_time": "2022-12-12T16:17:08.555Z"
      },
      {
        "duration": 417,
        "start_time": "2022-12-12T16:17:08.773Z"
      },
      {
        "duration": 184,
        "start_time": "2022-12-12T16:17:09.192Z"
      },
      {
        "duration": 142,
        "start_time": "2022-12-12T16:17:09.378Z"
      },
      {
        "duration": 223,
        "start_time": "2022-12-12T16:17:09.523Z"
      },
      {
        "duration": 264,
        "start_time": "2022-12-12T16:17:09.748Z"
      },
      {
        "duration": 153,
        "start_time": "2022-12-12T16:17:10.015Z"
      },
      {
        "duration": 343,
        "start_time": "2022-12-12T16:17:10.170Z"
      },
      {
        "duration": 170,
        "start_time": "2022-12-12T16:17:10.515Z"
      },
      {
        "duration": 11,
        "start_time": "2022-12-12T16:17:10.687Z"
      },
      {
        "duration": 6,
        "start_time": "2022-12-12T16:19:14.526Z"
      },
      {
        "duration": 5,
        "start_time": "2022-12-12T16:20:01.736Z"
      },
      {
        "duration": 7,
        "start_time": "2022-12-12T16:20:22.805Z"
      },
      {
        "duration": 3,
        "start_time": "2022-12-12T16:20:42.233Z"
      },
      {
        "duration": 73,
        "start_time": "2022-12-12T16:21:37.764Z"
      },
      {
        "duration": 15,
        "start_time": "2022-12-12T16:21:44.990Z"
      },
      {
        "duration": 6,
        "start_time": "2022-12-12T16:27:29.520Z"
      },
      {
        "duration": 7,
        "start_time": "2022-12-12T16:27:45.208Z"
      },
      {
        "duration": 17,
        "start_time": "2022-12-12T16:27:59.859Z"
      },
      {
        "duration": 15,
        "start_time": "2022-12-12T16:28:16.689Z"
      },
      {
        "duration": 15,
        "start_time": "2022-12-12T16:28:21.345Z"
      },
      {
        "duration": 9,
        "start_time": "2022-12-12T16:28:38.466Z"
      },
      {
        "duration": 14,
        "start_time": "2022-12-12T16:29:18.811Z"
      },
      {
        "duration": 11,
        "start_time": "2022-12-12T16:29:25.971Z"
      },
      {
        "duration": 15,
        "start_time": "2022-12-12T17:35:57.160Z"
      },
      {
        "duration": 4,
        "start_time": "2022-12-12T17:36:28.670Z"
      },
      {
        "duration": 10,
        "start_time": "2022-12-12T17:36:28.676Z"
      },
      {
        "duration": 28,
        "start_time": "2022-12-12T17:36:28.689Z"
      },
      {
        "duration": 12,
        "start_time": "2022-12-12T17:36:28.719Z"
      },
      {
        "duration": 29,
        "start_time": "2022-12-12T17:36:28.733Z"
      },
      {
        "duration": 11,
        "start_time": "2022-12-12T17:36:28.764Z"
      },
      {
        "duration": 8,
        "start_time": "2022-12-12T17:36:28.776Z"
      },
      {
        "duration": 9,
        "start_time": "2022-12-12T17:36:28.785Z"
      },
      {
        "duration": 3,
        "start_time": "2022-12-12T17:36:28.795Z"
      },
      {
        "duration": 6,
        "start_time": "2022-12-12T17:36:28.801Z"
      },
      {
        "duration": 11,
        "start_time": "2022-12-12T17:36:28.809Z"
      },
      {
        "duration": 301,
        "start_time": "2022-12-12T17:36:28.822Z"
      },
      {
        "duration": 5,
        "start_time": "2022-12-12T17:36:29.125Z"
      },
      {
        "duration": 20,
        "start_time": "2022-12-12T17:36:29.133Z"
      },
      {
        "duration": 177,
        "start_time": "2022-12-12T17:36:29.155Z"
      },
      {
        "duration": 19,
        "start_time": "2022-12-12T17:36:29.334Z"
      },
      {
        "duration": 5,
        "start_time": "2022-12-12T17:36:29.354Z"
      },
      {
        "duration": 174,
        "start_time": "2022-12-12T17:36:29.360Z"
      },
      {
        "duration": 410,
        "start_time": "2022-12-12T17:36:29.536Z"
      },
      {
        "duration": 179,
        "start_time": "2022-12-12T17:36:29.952Z"
      },
      {
        "duration": 145,
        "start_time": "2022-12-12T17:36:30.133Z"
      },
      {
        "duration": 180,
        "start_time": "2022-12-12T17:36:30.280Z"
      },
      {
        "duration": 207,
        "start_time": "2022-12-12T17:36:30.462Z"
      },
      {
        "duration": 141,
        "start_time": "2022-12-12T17:36:30.671Z"
      },
      {
        "duration": 195,
        "start_time": "2022-12-12T17:36:30.814Z"
      },
      {
        "duration": 121,
        "start_time": "2022-12-12T17:36:31.011Z"
      },
      {
        "duration": 16,
        "start_time": "2022-12-12T17:36:31.135Z"
      },
      {
        "duration": 8,
        "start_time": "2022-12-12T17:36:31.156Z"
      },
      {
        "duration": 10,
        "start_time": "2022-12-12T17:36:31.166Z"
      },
      {
        "duration": 29,
        "start_time": "2022-12-12T17:36:31.178Z"
      },
      {
        "duration": 0,
        "start_time": "2022-12-12T17:36:31.209Z"
      },
      {
        "duration": 0,
        "start_time": "2022-12-12T17:36:31.211Z"
      },
      {
        "duration": 9341,
        "start_time": "2022-12-12T17:37:29.411Z"
      },
      {
        "duration": 2300,
        "start_time": "2022-12-12T17:38:09.570Z"
      },
      {
        "duration": 9,
        "start_time": "2022-12-12T17:38:11.873Z"
      },
      {
        "duration": 43,
        "start_time": "2022-12-12T17:38:11.884Z"
      },
      {
        "duration": 17,
        "start_time": "2022-12-12T17:38:11.928Z"
      },
      {
        "duration": 30,
        "start_time": "2022-12-12T17:38:11.948Z"
      },
      {
        "duration": 13,
        "start_time": "2022-12-12T17:38:11.981Z"
      },
      {
        "duration": 22,
        "start_time": "2022-12-12T17:38:11.996Z"
      },
      {
        "duration": 7,
        "start_time": "2022-12-12T17:38:12.020Z"
      },
      {
        "duration": 10,
        "start_time": "2022-12-12T17:38:12.029Z"
      },
      {
        "duration": 9,
        "start_time": "2022-12-12T17:38:12.052Z"
      },
      {
        "duration": 7,
        "start_time": "2022-12-12T17:38:12.063Z"
      },
      {
        "duration": 300,
        "start_time": "2022-12-12T17:38:12.072Z"
      },
      {
        "duration": 5,
        "start_time": "2022-12-12T17:38:12.375Z"
      },
      {
        "duration": 8,
        "start_time": "2022-12-12T17:38:12.385Z"
      },
      {
        "duration": 201,
        "start_time": "2022-12-12T17:38:12.394Z"
      },
      {
        "duration": 14,
        "start_time": "2022-12-12T17:38:12.598Z"
      },
      {
        "duration": 9,
        "start_time": "2022-12-12T17:38:12.613Z"
      },
      {
        "duration": 220,
        "start_time": "2022-12-12T17:38:12.624Z"
      },
      {
        "duration": 383,
        "start_time": "2022-12-12T17:38:12.846Z"
      },
      {
        "duration": 192,
        "start_time": "2022-12-12T17:38:13.231Z"
      },
      {
        "duration": 140,
        "start_time": "2022-12-12T17:38:13.425Z"
      },
      {
        "duration": 187,
        "start_time": "2022-12-12T17:38:13.566Z"
      },
      {
        "duration": 269,
        "start_time": "2022-12-12T17:38:13.756Z"
      },
      {
        "duration": 153,
        "start_time": "2022-12-12T17:38:14.027Z"
      },
      {
        "duration": 362,
        "start_time": "2022-12-12T17:38:14.183Z"
      },
      {
        "duration": 154,
        "start_time": "2022-12-12T17:38:14.551Z"
      },
      {
        "duration": 6,
        "start_time": "2022-12-12T17:38:14.707Z"
      },
      {
        "duration": 11,
        "start_time": "2022-12-12T17:38:14.715Z"
      },
      {
        "duration": 23,
        "start_time": "2022-12-12T17:38:14.729Z"
      },
      {
        "duration": 2933,
        "start_time": "2022-12-12T17:38:14.754Z"
      },
      {
        "duration": 16,
        "start_time": "2022-12-12T17:38:17.690Z"
      },
      {
        "duration": 13,
        "start_time": "2022-12-12T17:38:17.707Z"
      },
      {
        "duration": 20,
        "start_time": "2022-12-12T17:38:17.722Z"
      },
      {
        "duration": 165,
        "start_time": "2022-12-12T17:39:02.846Z"
      },
      {
        "duration": 5,
        "start_time": "2022-12-12T17:39:17.396Z"
      },
      {
        "duration": 13,
        "start_time": "2022-12-12T17:39:17.403Z"
      },
      {
        "duration": 36,
        "start_time": "2022-12-12T17:39:17.417Z"
      },
      {
        "duration": 11,
        "start_time": "2022-12-12T17:39:17.456Z"
      },
      {
        "duration": 27,
        "start_time": "2022-12-12T17:39:17.469Z"
      },
      {
        "duration": 12,
        "start_time": "2022-12-12T17:39:17.498Z"
      },
      {
        "duration": 15,
        "start_time": "2022-12-12T17:39:17.512Z"
      },
      {
        "duration": 26,
        "start_time": "2022-12-12T17:39:17.529Z"
      },
      {
        "duration": 6,
        "start_time": "2022-12-12T17:39:17.558Z"
      },
      {
        "duration": 8,
        "start_time": "2022-12-12T17:39:17.566Z"
      },
      {
        "duration": 11,
        "start_time": "2022-12-12T17:39:17.576Z"
      },
      {
        "duration": 291,
        "start_time": "2022-12-12T17:39:17.589Z"
      },
      {
        "duration": 5,
        "start_time": "2022-12-12T17:39:17.882Z"
      },
      {
        "duration": 12,
        "start_time": "2022-12-12T17:39:17.889Z"
      },
      {
        "duration": 203,
        "start_time": "2022-12-12T17:39:17.904Z"
      },
      {
        "duration": 13,
        "start_time": "2022-12-12T17:39:18.109Z"
      },
      {
        "duration": 11,
        "start_time": "2022-12-12T17:39:18.124Z"
      },
      {
        "duration": 182,
        "start_time": "2022-12-12T17:39:18.153Z"
      },
      {
        "duration": 420,
        "start_time": "2022-12-12T17:39:18.337Z"
      },
      {
        "duration": 186,
        "start_time": "2022-12-12T17:39:18.759Z"
      },
      {
        "duration": 134,
        "start_time": "2022-12-12T17:39:18.947Z"
      },
      {
        "duration": 209,
        "start_time": "2022-12-12T17:39:19.083Z"
      },
      {
        "duration": 187,
        "start_time": "2022-12-12T17:39:19.294Z"
      },
      {
        "duration": 139,
        "start_time": "2022-12-12T17:39:19.483Z"
      },
      {
        "duration": 253,
        "start_time": "2022-12-12T17:39:19.625Z"
      },
      {
        "duration": 260,
        "start_time": "2022-12-12T17:39:19.879Z"
      },
      {
        "duration": 11,
        "start_time": "2022-12-12T17:39:20.140Z"
      },
      {
        "duration": 11,
        "start_time": "2022-12-12T17:39:20.153Z"
      },
      {
        "duration": 10,
        "start_time": "2022-12-12T17:39:20.166Z"
      },
      {
        "duration": 18,
        "start_time": "2022-12-12T17:39:20.178Z"
      },
      {
        "duration": 16,
        "start_time": "2022-12-12T17:39:20.197Z"
      },
      {
        "duration": 36,
        "start_time": "2022-12-12T17:39:20.215Z"
      },
      {
        "duration": 187,
        "start_time": "2022-12-12T17:40:10.664Z"
      },
      {
        "duration": 14,
        "start_time": "2022-12-12T18:39:21.665Z"
      },
      {
        "duration": 3,
        "start_time": "2022-12-12T18:39:40.339Z"
      },
      {
        "duration": 5,
        "start_time": "2022-12-12T18:40:02.898Z"
      },
      {
        "duration": 12,
        "start_time": "2022-12-12T18:40:10.531Z"
      },
      {
        "duration": 9,
        "start_time": "2022-12-12T18:40:59.974Z"
      },
      {
        "duration": 103478,
        "start_time": "2022-12-12T18:41:09.148Z"
      },
      {
        "duration": 66,
        "start_time": "2022-12-12T18:46:12.839Z"
      },
      {
        "duration": 7,
        "start_time": "2022-12-12T18:47:13.242Z"
      },
      {
        "duration": 7653,
        "start_time": "2022-12-12T18:47:46.058Z"
      },
      {
        "duration": 5,
        "start_time": "2022-12-12T18:48:08.699Z"
      },
      {
        "duration": 7,
        "start_time": "2022-12-12T18:49:23.734Z"
      },
      {
        "duration": 648,
        "start_time": "2022-12-12T18:49:37.054Z"
      },
      {
        "duration": 8,
        "start_time": "2022-12-12T18:53:05.046Z"
      },
      {
        "duration": 7,
        "start_time": "2022-12-12T18:53:08.783Z"
      },
      {
        "duration": 16,
        "start_time": "2022-12-12T18:53:20.166Z"
      },
      {
        "duration": 728874,
        "start_time": "2022-12-12T18:53:28.287Z"
      },
      {
        "duration": 74210,
        "start_time": "2022-12-12T19:09:17.566Z"
      },
      {
        "duration": 82,
        "start_time": "2022-12-12T19:10:31.778Z"
      },
      {
        "duration": 738,
        "start_time": "2022-12-12T19:14:40.272Z"
      },
      {
        "duration": 115,
        "start_time": "2022-12-14T14:30:04.717Z"
      },
      {
        "duration": 75,
        "start_time": "2022-12-18T17:18:26.159Z"
      }
    ],
    "kernelspec": {
      "display_name": "Python 3 (ipykernel)",
      "language": "python",
      "name": "python3"
    },
    "language_info": {
      "codemirror_mode": {
        "name": "ipython",
        "version": 3
      },
      "file_extension": ".py",
      "mimetype": "text/x-python",
      "name": "python",
      "nbconvert_exporter": "python",
      "pygments_lexer": "ipython3",
      "version": "3.9.5"
    },
    "toc": {
      "base_numbering": 1,
      "nav_menu": {},
      "number_sections": false,
      "sideBar": true,
      "skip_h1_title": false,
      "title_cell": "Table of Contents",
      "title_sidebar": "Contents",
      "toc_cell": false,
      "toc_position": {
        "height": "calc(100% - 180px)",
        "left": "10px",
        "top": "150px",
        "width": "366.188px"
      },
      "toc_section_display": true,
      "toc_window_display": true
    },
    "varInspector": {
      "cols": {
        "lenName": 16,
        "lenType": 16,
        "lenVar": 40
      },
      "kernels_config": {
        "python": {
          "delete_cmd_postfix": "",
          "delete_cmd_prefix": "del ",
          "library": "var_list.py",
          "varRefreshCmd": "print(var_dic_list())"
        },
        "r": {
          "delete_cmd_postfix": ") ",
          "delete_cmd_prefix": "rm(",
          "library": "var_list.r",
          "varRefreshCmd": "cat(var_dic_list()) "
        }
      },
      "types_to_exclude": [
        "module",
        "function",
        "builtin_function_or_method",
        "instance",
        "_Feature"
      ],
      "window_display": false
    },
    "colab": {
      "provenance": []
    }
  },
  "nbformat": 4,
  "nbformat_minor": 5
}