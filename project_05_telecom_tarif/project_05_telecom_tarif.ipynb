{
  "cells": [
    {
      "cell_type": "markdown",
      "metadata": {
        "id": "eibL_wqfMlhS"
      },
      "source": [
        "# Определение перспективного тарифа для телеком-компании."
      ]
    },
    {
      "cell_type": "markdown",
      "metadata": {
        "id": "GdNEONQkMlhT"
      },
      "source": [
        "**Описание проекта**  \n",
        "Мы аналитик компании «Мегалайн» — федерального оператора сотовой связи. Клиентам предлагают два тарифных плана: «Смарт» и «Ультра». Чтобы скорректировать рекламный бюджет, коммерческий департамент хочет понять, какой тариф приносит больше денег.  \n",
        "Нам предстоит сделать предварительный анализ тарифов на небольшой выборке клиентов.  \n",
        "В нашем распоряжении данные 500 пользователей «Мегалайна»: кто они, откуда, каким тарифом пользуются, сколько звонков и сообщений каждый отправил за 2018 год. Нужно проанализировать поведение клиентов и сделать вывод — какой тариф лучше.  \n",
        "\n",
        "`Описание тарифов:`\n",
        "\n",
        "`Тариф «Смарт»`\n",
        "Ежемесячная плата: 550 рублей  \n",
        "Включено 500 минут разговора, 50 сообщений и 15 Гб интернет-трафика  \n",
        "Стоимость услуг сверх тарифного пакета:  \n",
        "минута разговора: 3 рубля  \n",
        "сообщение: 3 рубля  \n",
        "1 Гб интернет-трафика: 200 рублей  \n",
        "\n",
        "\n",
        "`Тариф «Ультра»`\n",
        "Ежемесячная плата: 1950 рублей  \n",
        "Включено 3000 минут разговора, 1000 сообщений и 30 Гб интернет-трафика  \n",
        "Стоимость услуг сверх тарифного пакета:  \n",
        "минута разговора: 1 рубль  \n",
        "сообщение: 1 рубль  \n",
        "1 Гб интернет-трафика: 150 рублей  \n",
        "\n",
        "`Примечание`:  \n",
        "«Мегалайн» всегда округляет секунды до минут, а мегабайты — до гигабайт. Каждый звонок округляется отдельно: даже если он длился всего 1 секунду, будет засчитан как 1 минута.  \n",
        "Для веб-трафика отдельные сессии не считаются. Вместо этого общая сумма за месяц округляется в большую сторону. Если абонент использует 1025 мегабайт в этом месяце, с него возьмут плату за 2 гигабайта."
      ]
    },
    {
      "cell_type": "markdown",
      "metadata": {
        "id": "1nMgdkhNMlhV"
      },
      "source": [
        "## Шаг 1. Откроем файл с данными и изучим общую информацию"
      ]
    },
    {
      "cell_type": "markdown",
      "metadata": {
        "id": "9q2m5Rv_MlhV"
      },
      "source": [
        "#### Импортируем библиотеки, изучим данные таблицы с тарифами `tariffs.csv`"
      ]
    },
    {
      "cell_type": "code",
      "execution_count": null,
      "metadata": {
        "id": "nzH8ng9OMlhW",
        "outputId": "ce34a895-91af-44ae-cf74-c0445f1334dc"
      },
      "outputs": [
        {
          "name": "stdout",
          "output_type": "stream",
          "text": [
            "<class 'pandas.core.frame.DataFrame'>\n",
            "RangeIndex: 2 entries, 0 to 1\n",
            "Data columns (total 8 columns):\n",
            " #   Column                 Non-Null Count  Dtype \n",
            "---  ------                 --------------  ----- \n",
            " 0   messages_included      2 non-null      int64 \n",
            " 1   mb_per_month_included  2 non-null      int64 \n",
            " 2   minutes_included       2 non-null      int64 \n",
            " 3   rub_monthly_fee        2 non-null      int64 \n",
            " 4   rub_per_gb             2 non-null      int64 \n",
            " 5   rub_per_message        2 non-null      int64 \n",
            " 6   rub_per_minute         2 non-null      int64 \n",
            " 7   tariff_name            2 non-null      object\n",
            "dtypes: int64(7), object(1)\n",
            "memory usage: 256.0+ bytes\n"
          ]
        },
        {
          "data": {
            "text/plain": [
              "None"
            ]
          },
          "metadata": {},
          "output_type": "display_data"
        },
        {
          "data": {
            "text/html": [
              "<div>\n",
              "<style scoped>\n",
              "    .dataframe tbody tr th:only-of-type {\n",
              "        vertical-align: middle;\n",
              "    }\n",
              "\n",
              "    .dataframe tbody tr th {\n",
              "        vertical-align: top;\n",
              "    }\n",
              "\n",
              "    .dataframe thead th {\n",
              "        text-align: right;\n",
              "    }\n",
              "</style>\n",
              "<table border=\"1\" class=\"dataframe\">\n",
              "  <thead>\n",
              "    <tr style=\"text-align: right;\">\n",
              "      <th></th>\n",
              "      <th>messages_included</th>\n",
              "      <th>mb_per_month_included</th>\n",
              "      <th>minutes_included</th>\n",
              "      <th>rub_monthly_fee</th>\n",
              "      <th>rub_per_gb</th>\n",
              "      <th>rub_per_message</th>\n",
              "      <th>rub_per_minute</th>\n",
              "    </tr>\n",
              "  </thead>\n",
              "  <tbody>\n",
              "    <tr>\n",
              "      <th>count</th>\n",
              "      <td>2.00</td>\n",
              "      <td>2.00</td>\n",
              "      <td>2.00</td>\n",
              "      <td>2.00</td>\n",
              "      <td>2.00</td>\n",
              "      <td>2.00</td>\n",
              "      <td>2.00</td>\n",
              "    </tr>\n",
              "    <tr>\n",
              "      <th>mean</th>\n",
              "      <td>525.00</td>\n",
              "      <td>23040.00</td>\n",
              "      <td>1750.00</td>\n",
              "      <td>1250.00</td>\n",
              "      <td>175.00</td>\n",
              "      <td>2.00</td>\n",
              "      <td>2.00</td>\n",
              "    </tr>\n",
              "    <tr>\n",
              "      <th>std</th>\n",
              "      <td>671.75</td>\n",
              "      <td>10861.16</td>\n",
              "      <td>1767.77</td>\n",
              "      <td>989.95</td>\n",
              "      <td>35.36</td>\n",
              "      <td>1.41</td>\n",
              "      <td>1.41</td>\n",
              "    </tr>\n",
              "    <tr>\n",
              "      <th>min</th>\n",
              "      <td>50.00</td>\n",
              "      <td>15360.00</td>\n",
              "      <td>500.00</td>\n",
              "      <td>550.00</td>\n",
              "      <td>150.00</td>\n",
              "      <td>1.00</td>\n",
              "      <td>1.00</td>\n",
              "    </tr>\n",
              "    <tr>\n",
              "      <th>25%</th>\n",
              "      <td>287.50</td>\n",
              "      <td>19200.00</td>\n",
              "      <td>1125.00</td>\n",
              "      <td>900.00</td>\n",
              "      <td>162.50</td>\n",
              "      <td>1.50</td>\n",
              "      <td>1.50</td>\n",
              "    </tr>\n",
              "    <tr>\n",
              "      <th>50%</th>\n",
              "      <td>525.00</td>\n",
              "      <td>23040.00</td>\n",
              "      <td>1750.00</td>\n",
              "      <td>1250.00</td>\n",
              "      <td>175.00</td>\n",
              "      <td>2.00</td>\n",
              "      <td>2.00</td>\n",
              "    </tr>\n",
              "    <tr>\n",
              "      <th>75%</th>\n",
              "      <td>762.50</td>\n",
              "      <td>26880.00</td>\n",
              "      <td>2375.00</td>\n",
              "      <td>1600.00</td>\n",
              "      <td>187.50</td>\n",
              "      <td>2.50</td>\n",
              "      <td>2.50</td>\n",
              "    </tr>\n",
              "    <tr>\n",
              "      <th>max</th>\n",
              "      <td>1000.00</td>\n",
              "      <td>30720.00</td>\n",
              "      <td>3000.00</td>\n",
              "      <td>1950.00</td>\n",
              "      <td>200.00</td>\n",
              "      <td>3.00</td>\n",
              "      <td>3.00</td>\n",
              "    </tr>\n",
              "  </tbody>\n",
              "</table>\n",
              "</div>"
            ],
            "text/plain": [
              "       messages_included  mb_per_month_included  minutes_included  \\\n",
              "count               2.00                   2.00              2.00   \n",
              "mean              525.00               23040.00           1750.00   \n",
              "std               671.75               10861.16           1767.77   \n",
              "min                50.00               15360.00            500.00   \n",
              "25%               287.50               19200.00           1125.00   \n",
              "50%               525.00               23040.00           1750.00   \n",
              "75%               762.50               26880.00           2375.00   \n",
              "max              1000.00               30720.00           3000.00   \n",
              "\n",
              "       rub_monthly_fee  rub_per_gb  rub_per_message  rub_per_minute  \n",
              "count             2.00        2.00             2.00            2.00  \n",
              "mean           1250.00      175.00             2.00            2.00  \n",
              "std             989.95       35.36             1.41            1.41  \n",
              "min             550.00      150.00             1.00            1.00  \n",
              "25%             900.00      162.50             1.50            1.50  \n",
              "50%            1250.00      175.00             2.00            2.00  \n",
              "75%            1600.00      187.50             2.50            2.50  \n",
              "max            1950.00      200.00             3.00            3.00  "
            ]
          },
          "metadata": {},
          "output_type": "display_data"
        }
      ],
      "source": [
        "import pandas as pd\n",
        "import numpy as np\n",
        "import matplotlib.pyplot as plt\n",
        "import seaborn as sns\n",
        "import math as mt\n",
        "\n",
        "from scipy import stats as st\n",
        "\n",
        "pd.options.display.float_format = '{:.2f}'.format\n",
        "\n",
        "tariffs = pd.read_csv('/datasets/tariffs.csv', sep=',')\n",
        "\n",
        "display(tariffs.info())\n",
        "display(tariffs.describe())"
      ]
    },
    {
      "cell_type": "markdown",
      "metadata": {
        "id": "5Wv3WalIMlhY"
      },
      "source": [
        "Определим нулевые значения в столбцах"
      ]
    },
    {
      "cell_type": "code",
      "execution_count": null,
      "metadata": {
        "id": "wRPLuWH-MlhY",
        "outputId": "554854a6-eef7-46a4-c82f-c1d701e5f1b1"
      },
      "outputs": [
        {
          "data": {
            "text/plain": [
              "'Количество нулевых значений:'"
            ]
          },
          "metadata": {},
          "output_type": "display_data"
        },
        {
          "data": {
            "text/plain": [
              "messages_included        0\n",
              "mb_per_month_included    0\n",
              "minutes_included         0\n",
              "rub_monthly_fee          0\n",
              "rub_per_gb               0\n",
              "rub_per_message          0\n",
              "rub_per_minute           0\n",
              "tariff_name              0\n",
              "dtype: int64"
            ]
          },
          "metadata": {},
          "output_type": "display_data"
        }
      ],
      "source": [
        "display('Количество нулевых значений:', tariffs.isin([0]).sum())"
      ]
    },
    {
      "cell_type": "markdown",
      "metadata": {
        "id": "g3en8UOXMlhZ"
      },
      "source": [
        "Найдем минимальные и максимальные значения"
      ]
    },
    {
      "cell_type": "code",
      "execution_count": null,
      "metadata": {
        "scrolled": true,
        "id": "EKZY4oAtMlhZ",
        "outputId": "4691e60e-fe61-404d-a05a-cd1c9b1b5a47"
      },
      "outputs": [
        {
          "data": {
            "text/plain": [
              "messages_included           50\n",
              "mb_per_month_included    15360\n",
              "minutes_included           500\n",
              "rub_monthly_fee            550\n",
              "rub_per_gb                 150\n",
              "rub_per_message              1\n",
              "rub_per_minute               1\n",
              "tariff_name              smart\n",
              "dtype: object"
            ]
          },
          "metadata": {},
          "output_type": "display_data"
        },
        {
          "data": {
            "text/plain": [
              "messages_included         1000\n",
              "mb_per_month_included    30720\n",
              "minutes_included          3000\n",
              "rub_monthly_fee           1950\n",
              "rub_per_gb                 200\n",
              "rub_per_message              3\n",
              "rub_per_minute               3\n",
              "tariff_name              ultra\n",
              "dtype: object"
            ]
          },
          "metadata": {},
          "output_type": "display_data"
        }
      ],
      "source": [
        "display(tariffs.min())\n",
        "display(tariffs.max())"
      ]
    },
    {
      "cell_type": "markdown",
      "metadata": {
        "id": "4iTejwXSMlhZ"
      },
      "source": [
        "Посмотрим структуру данных"
      ]
    },
    {
      "cell_type": "code",
      "execution_count": null,
      "metadata": {
        "scrolled": true,
        "id": "eYvVuw9SMlhZ",
        "outputId": "7a36c33c-ffdd-413c-b93e-791266039e18"
      },
      "outputs": [
        {
          "data": {
            "text/html": [
              "<div>\n",
              "<style scoped>\n",
              "    .dataframe tbody tr th:only-of-type {\n",
              "        vertical-align: middle;\n",
              "    }\n",
              "\n",
              "    .dataframe tbody tr th {\n",
              "        vertical-align: top;\n",
              "    }\n",
              "\n",
              "    .dataframe thead th {\n",
              "        text-align: right;\n",
              "    }\n",
              "</style>\n",
              "<table border=\"1\" class=\"dataframe\">\n",
              "  <thead>\n",
              "    <tr style=\"text-align: right;\">\n",
              "      <th></th>\n",
              "      <th>messages_included</th>\n",
              "      <th>mb_per_month_included</th>\n",
              "      <th>minutes_included</th>\n",
              "      <th>rub_monthly_fee</th>\n",
              "      <th>rub_per_gb</th>\n",
              "      <th>rub_per_message</th>\n",
              "      <th>rub_per_minute</th>\n",
              "      <th>tariff_name</th>\n",
              "    </tr>\n",
              "  </thead>\n",
              "  <tbody>\n",
              "    <tr>\n",
              "      <th>0</th>\n",
              "      <td>50</td>\n",
              "      <td>15360</td>\n",
              "      <td>500</td>\n",
              "      <td>550</td>\n",
              "      <td>200</td>\n",
              "      <td>3</td>\n",
              "      <td>3</td>\n",
              "      <td>smart</td>\n",
              "    </tr>\n",
              "    <tr>\n",
              "      <th>1</th>\n",
              "      <td>1000</td>\n",
              "      <td>30720</td>\n",
              "      <td>3000</td>\n",
              "      <td>1950</td>\n",
              "      <td>150</td>\n",
              "      <td>1</td>\n",
              "      <td>1</td>\n",
              "      <td>ultra</td>\n",
              "    </tr>\n",
              "  </tbody>\n",
              "</table>\n",
              "</div>"
            ],
            "text/plain": [
              "   messages_included  mb_per_month_included  minutes_included  \\\n",
              "0                 50                  15360               500   \n",
              "1               1000                  30720              3000   \n",
              "\n",
              "   rub_monthly_fee  rub_per_gb  rub_per_message  rub_per_minute tariff_name  \n",
              "0              550         200                3               3       smart  \n",
              "1             1950         150                1               1       ultra  "
            ]
          },
          "metadata": {},
          "output_type": "display_data"
        }
      ],
      "source": [
        "display(tariffs.head())"
      ]
    },
    {
      "cell_type": "markdown",
      "metadata": {
        "id": "uF1FOasnMlha"
      },
      "source": [
        "Вывод:  \n",
        "- В таблице 2 строки, 8 столбцов\n",
        "- Пояснения для `tariffs` (информация о тарифах):\n",
        "    - tariff_name — название тарифа (тип object)\n",
        "    - rub_monthly_fee — ежемесячная абонентская плата в рублях (тип int64)\n",
        "    - minutes_included — количество минут разговора в месяц, включённых в абонентскую плату (тип int64)\n",
        "    - messages_included — количество сообщений в месяц, включённых в абонентскую плату (тип int64)\n",
        "    - mb_per_month_included — объём интернет-трафика, включённого в абонентскую плату (в мегабайтах) (тип int64)\n",
        "    - rub_per_minute — стоимость минуты разговора сверх тарифного пакета (например, если в тарифе 100 минут разговора в месяц, то со 101 минуты будет взиматься плата) (тип int64)\n",
        "    - rub_per_message — стоимость отправки сообщения сверх тарифного пакета (тип int64)\n",
        "    - rub_per_gb — стоимость дополнительного гигабайта интернет-трафика сверх тарифного пакета (1 гигабайт = 1024 мегабайта) (тип int64)\n"
      ]
    },
    {
      "cell_type": "markdown",
      "metadata": {
        "id": "uv-wujm4Mlha"
      },
      "source": [
        "#### Изучим таблицу `users.csv`"
      ]
    },
    {
      "cell_type": "code",
      "execution_count": null,
      "metadata": {
        "id": "B52I7SMdMlha",
        "outputId": "9cfb72fc-ad0a-41c3-d678-084649bb7411"
      },
      "outputs": [
        {
          "name": "stdout",
          "output_type": "stream",
          "text": [
            "<class 'pandas.core.frame.DataFrame'>\n",
            "RangeIndex: 500 entries, 0 to 499\n",
            "Data columns (total 8 columns):\n",
            " #   Column      Non-Null Count  Dtype \n",
            "---  ------      --------------  ----- \n",
            " 0   user_id     500 non-null    int64 \n",
            " 1   age         500 non-null    int64 \n",
            " 2   churn_date  38 non-null     object\n",
            " 3   city        500 non-null    object\n",
            " 4   first_name  500 non-null    object\n",
            " 5   last_name   500 non-null    object\n",
            " 6   reg_date    500 non-null    object\n",
            " 7   tariff      500 non-null    object\n",
            "dtypes: int64(2), object(6)\n",
            "memory usage: 31.4+ KB\n"
          ]
        },
        {
          "data": {
            "text/plain": [
              "None"
            ]
          },
          "metadata": {},
          "output_type": "display_data"
        },
        {
          "data": {
            "text/html": [
              "<div>\n",
              "<style scoped>\n",
              "    .dataframe tbody tr th:only-of-type {\n",
              "        vertical-align: middle;\n",
              "    }\n",
              "\n",
              "    .dataframe tbody tr th {\n",
              "        vertical-align: top;\n",
              "    }\n",
              "\n",
              "    .dataframe thead th {\n",
              "        text-align: right;\n",
              "    }\n",
              "</style>\n",
              "<table border=\"1\" class=\"dataframe\">\n",
              "  <thead>\n",
              "    <tr style=\"text-align: right;\">\n",
              "      <th></th>\n",
              "      <th>user_id</th>\n",
              "      <th>age</th>\n",
              "    </tr>\n",
              "  </thead>\n",
              "  <tbody>\n",
              "    <tr>\n",
              "      <th>count</th>\n",
              "      <td>500.00</td>\n",
              "      <td>500.00</td>\n",
              "    </tr>\n",
              "    <tr>\n",
              "      <th>mean</th>\n",
              "      <td>1249.50</td>\n",
              "      <td>46.59</td>\n",
              "    </tr>\n",
              "    <tr>\n",
              "      <th>std</th>\n",
              "      <td>144.48</td>\n",
              "      <td>16.67</td>\n",
              "    </tr>\n",
              "    <tr>\n",
              "      <th>min</th>\n",
              "      <td>1000.00</td>\n",
              "      <td>18.00</td>\n",
              "    </tr>\n",
              "    <tr>\n",
              "      <th>25%</th>\n",
              "      <td>1124.75</td>\n",
              "      <td>32.00</td>\n",
              "    </tr>\n",
              "    <tr>\n",
              "      <th>50%</th>\n",
              "      <td>1249.50</td>\n",
              "      <td>46.00</td>\n",
              "    </tr>\n",
              "    <tr>\n",
              "      <th>75%</th>\n",
              "      <td>1374.25</td>\n",
              "      <td>62.00</td>\n",
              "    </tr>\n",
              "    <tr>\n",
              "      <th>max</th>\n",
              "      <td>1499.00</td>\n",
              "      <td>75.00</td>\n",
              "    </tr>\n",
              "  </tbody>\n",
              "</table>\n",
              "</div>"
            ],
            "text/plain": [
              "       user_id    age\n",
              "count   500.00 500.00\n",
              "mean   1249.50  46.59\n",
              "std     144.48  16.67\n",
              "min    1000.00  18.00\n",
              "25%    1124.75  32.00\n",
              "50%    1249.50  46.00\n",
              "75%    1374.25  62.00\n",
              "max    1499.00  75.00"
            ]
          },
          "metadata": {},
          "output_type": "display_data"
        }
      ],
      "source": [
        "users = pd.read_csv('/datasets/users.csv', sep=',')\n",
        "\n",
        "display(users.info())\n",
        "display(users.describe())"
      ]
    },
    {
      "cell_type": "markdown",
      "metadata": {
        "id": "GRe1EorDMlha"
      },
      "source": [
        "Определим нулевые значения в столбцах"
      ]
    },
    {
      "cell_type": "code",
      "execution_count": null,
      "metadata": {
        "scrolled": true,
        "id": "f5_1AQAKMlhb",
        "outputId": "71f81869-df53-4078-9a56-2aece2ef7901"
      },
      "outputs": [
        {
          "data": {
            "text/plain": [
              "'Нулевые значения обнаружены:'"
            ]
          },
          "metadata": {},
          "output_type": "display_data"
        },
        {
          "data": {
            "text/plain": [
              "user_id       0\n",
              "age           0\n",
              "churn_date    0\n",
              "city          0\n",
              "first_name    0\n",
              "last_name     0\n",
              "reg_date      0\n",
              "tariff        0\n",
              "dtype: int64"
            ]
          },
          "metadata": {},
          "output_type": "display_data"
        }
      ],
      "source": [
        "display('Нулевые значения обнаружены:', users.isin([0]).sum())"
      ]
    },
    {
      "cell_type": "markdown",
      "metadata": {
        "id": "8K471kEaMlhb"
      },
      "source": [
        "Найдем минимальные и максимальные значения"
      ]
    },
    {
      "cell_type": "code",
      "execution_count": null,
      "metadata": {
        "id": "5tpOH9rlMlhb",
        "outputId": "a9839182-a343-4c82-cc1a-e7c034738ab3"
      },
      "outputs": [
        {
          "data": {
            "text/plain": [
              "user_id              1000\n",
              "age                    18\n",
              "city          Архангельск\n",
              "first_name      Авксентий\n",
              "last_name          Ёлчина\n",
              "reg_date       2018-01-01\n",
              "tariff              smart\n",
              "dtype: object"
            ]
          },
          "metadata": {},
          "output_type": "display_data"
        },
        {
          "data": {
            "text/plain": [
              "user_id             1499\n",
              "age                   75\n",
              "city           Ярославль\n",
              "first_name           Яна\n",
              "last_name          Яшина\n",
              "reg_date      2018-12-31\n",
              "tariff             ultra\n",
              "dtype: object"
            ]
          },
          "metadata": {},
          "output_type": "display_data"
        }
      ],
      "source": [
        "display(users.min())\n",
        "display(users.max())"
      ]
    },
    {
      "cell_type": "markdown",
      "metadata": {
        "id": "CdefHsjvMlhb"
      },
      "source": [
        "Определим количество дублей"
      ]
    },
    {
      "cell_type": "code",
      "execution_count": null,
      "metadata": {
        "id": "JbmYdCa5Mlhb",
        "outputId": "95ecbec8-6b77-4541-b601-1bf7a64948d6"
      },
      "outputs": [
        {
          "name": "stdout",
          "output_type": "stream",
          "text": [
            "Количество дублей 0\n"
          ]
        }
      ],
      "source": [
        "print('Количество дублей', users.duplicated().sum())"
      ]
    },
    {
      "cell_type": "markdown",
      "metadata": {
        "id": "exLqJUJkMlhc"
      },
      "source": [
        "Посмотрим структуру данных"
      ]
    },
    {
      "cell_type": "code",
      "execution_count": null,
      "metadata": {
        "id": "uEfbVGvzMlhc",
        "outputId": "6271fd04-f903-4d92-e441-85c7de0a96e4"
      },
      "outputs": [
        {
          "data": {
            "text/html": [
              "<div>\n",
              "<style scoped>\n",
              "    .dataframe tbody tr th:only-of-type {\n",
              "        vertical-align: middle;\n",
              "    }\n",
              "\n",
              "    .dataframe tbody tr th {\n",
              "        vertical-align: top;\n",
              "    }\n",
              "\n",
              "    .dataframe thead th {\n",
              "        text-align: right;\n",
              "    }\n",
              "</style>\n",
              "<table border=\"1\" class=\"dataframe\">\n",
              "  <thead>\n",
              "    <tr style=\"text-align: right;\">\n",
              "      <th></th>\n",
              "      <th>user_id</th>\n",
              "      <th>age</th>\n",
              "      <th>churn_date</th>\n",
              "      <th>city</th>\n",
              "      <th>first_name</th>\n",
              "      <th>last_name</th>\n",
              "      <th>reg_date</th>\n",
              "      <th>tariff</th>\n",
              "    </tr>\n",
              "  </thead>\n",
              "  <tbody>\n",
              "    <tr>\n",
              "      <th>0</th>\n",
              "      <td>1000</td>\n",
              "      <td>52</td>\n",
              "      <td>NaN</td>\n",
              "      <td>Краснодар</td>\n",
              "      <td>Рафаил</td>\n",
              "      <td>Верещагин</td>\n",
              "      <td>2018-05-25</td>\n",
              "      <td>ultra</td>\n",
              "    </tr>\n",
              "    <tr>\n",
              "      <th>1</th>\n",
              "      <td>1001</td>\n",
              "      <td>41</td>\n",
              "      <td>NaN</td>\n",
              "      <td>Москва</td>\n",
              "      <td>Иван</td>\n",
              "      <td>Ежов</td>\n",
              "      <td>2018-11-01</td>\n",
              "      <td>smart</td>\n",
              "    </tr>\n",
              "    <tr>\n",
              "      <th>2</th>\n",
              "      <td>1002</td>\n",
              "      <td>59</td>\n",
              "      <td>NaN</td>\n",
              "      <td>Стерлитамак</td>\n",
              "      <td>Евгений</td>\n",
              "      <td>Абрамович</td>\n",
              "      <td>2018-06-17</td>\n",
              "      <td>smart</td>\n",
              "    </tr>\n",
              "    <tr>\n",
              "      <th>3</th>\n",
              "      <td>1003</td>\n",
              "      <td>23</td>\n",
              "      <td>NaN</td>\n",
              "      <td>Москва</td>\n",
              "      <td>Белла</td>\n",
              "      <td>Белякова</td>\n",
              "      <td>2018-08-17</td>\n",
              "      <td>ultra</td>\n",
              "    </tr>\n",
              "    <tr>\n",
              "      <th>4</th>\n",
              "      <td>1004</td>\n",
              "      <td>68</td>\n",
              "      <td>NaN</td>\n",
              "      <td>Новокузнецк</td>\n",
              "      <td>Татьяна</td>\n",
              "      <td>Авдеенко</td>\n",
              "      <td>2018-05-14</td>\n",
              "      <td>ultra</td>\n",
              "    </tr>\n",
              "  </tbody>\n",
              "</table>\n",
              "</div>"
            ],
            "text/plain": [
              "   user_id  age churn_date         city first_name  last_name    reg_date  \\\n",
              "0     1000   52        NaN    Краснодар     Рафаил  Верещагин  2018-05-25   \n",
              "1     1001   41        NaN       Москва       Иван       Ежов  2018-11-01   \n",
              "2     1002   59        NaN  Стерлитамак    Евгений  Абрамович  2018-06-17   \n",
              "3     1003   23        NaN       Москва      Белла   Белякова  2018-08-17   \n",
              "4     1004   68        NaN  Новокузнецк    Татьяна   Авдеенко  2018-05-14   \n",
              "\n",
              "  tariff  \n",
              "0  ultra  \n",
              "1  smart  \n",
              "2  smart  \n",
              "3  ultra  \n",
              "4  ultra  "
            ]
          },
          "metadata": {},
          "output_type": "display_data"
        }
      ],
      "source": [
        "display(users.head())"
      ]
    },
    {
      "cell_type": "markdown",
      "metadata": {
        "id": "20D0SsEKMlhc"
      },
      "source": [
        "Вывод:  \n",
        "- В таблице 500 строк, 8 столбцов\n",
        "- Пояснения для таблицы `users` (информация о пользователях):\n",
        "    - user_id — уникальный идентификатор пользователя (тип - int64)\n",
        "    - age — возраст пользователя (годы) (тип - int64)\n",
        "    - churn_date — дата прекращения пользования тарифом (тип - object)\n",
        "    - city — город проживания пользователя (тип - object)\n",
        "    - first_name — имя пользователя (тип - object)\n",
        "    - last_name — фамилия пользователя (тип - object)\n",
        "    - reg_date — дата подключения тарифа (день, месяц, год) (тип - object)\n",
        "    - tariff — название тарифного плана (тип - object)  \n",
        "    \n",
        "Необходимо будет изменить в `churn_date` и `reg_date` тип данных на date.  \n",
        "\n",
        "462 пропущенных значений в столбце `churn_date` трогать не будем (если значение пропущено, то тариф ещё действовал на момент выгрузки данных)."
      ]
    },
    {
      "cell_type": "markdown",
      "metadata": {
        "id": "ISEuP2DgMlhd"
      },
      "source": [
        "#### Изучим таблицу `calls.csv`"
      ]
    },
    {
      "cell_type": "code",
      "execution_count": null,
      "metadata": {
        "id": "ZPpiMFZWMlhd",
        "outputId": "b25c6491-388a-49c2-ac9c-586ed2635984"
      },
      "outputs": [
        {
          "name": "stdout",
          "output_type": "stream",
          "text": [
            "<class 'pandas.core.frame.DataFrame'>\n",
            "RangeIndex: 202607 entries, 0 to 202606\n",
            "Data columns (total 4 columns):\n",
            " #   Column     Non-Null Count   Dtype  \n",
            "---  ------     --------------   -----  \n",
            " 0   id         202607 non-null  object \n",
            " 1   call_date  202607 non-null  object \n",
            " 2   duration   202607 non-null  float64\n",
            " 3   user_id    202607 non-null  int64  \n",
            "dtypes: float64(1), int64(1), object(2)\n",
            "memory usage: 6.2+ MB\n"
          ]
        },
        {
          "data": {
            "text/plain": [
              "None"
            ]
          },
          "metadata": {},
          "output_type": "display_data"
        },
        {
          "data": {
            "text/html": [
              "<div>\n",
              "<style scoped>\n",
              "    .dataframe tbody tr th:only-of-type {\n",
              "        vertical-align: middle;\n",
              "    }\n",
              "\n",
              "    .dataframe tbody tr th {\n",
              "        vertical-align: top;\n",
              "    }\n",
              "\n",
              "    .dataframe thead th {\n",
              "        text-align: right;\n",
              "    }\n",
              "</style>\n",
              "<table border=\"1\" class=\"dataframe\">\n",
              "  <thead>\n",
              "    <tr style=\"text-align: right;\">\n",
              "      <th></th>\n",
              "      <th>duration</th>\n",
              "      <th>user_id</th>\n",
              "    </tr>\n",
              "  </thead>\n",
              "  <tbody>\n",
              "    <tr>\n",
              "      <th>count</th>\n",
              "      <td>202607.00</td>\n",
              "      <td>202607.00</td>\n",
              "    </tr>\n",
              "    <tr>\n",
              "      <th>mean</th>\n",
              "      <td>6.76</td>\n",
              "      <td>1253.94</td>\n",
              "    </tr>\n",
              "    <tr>\n",
              "      <th>std</th>\n",
              "      <td>5.84</td>\n",
              "      <td>144.72</td>\n",
              "    </tr>\n",
              "    <tr>\n",
              "      <th>min</th>\n",
              "      <td>0.00</td>\n",
              "      <td>1000.00</td>\n",
              "    </tr>\n",
              "    <tr>\n",
              "      <th>25%</th>\n",
              "      <td>1.30</td>\n",
              "      <td>1126.00</td>\n",
              "    </tr>\n",
              "    <tr>\n",
              "      <th>50%</th>\n",
              "      <td>6.00</td>\n",
              "      <td>1260.00</td>\n",
              "    </tr>\n",
              "    <tr>\n",
              "      <th>75%</th>\n",
              "      <td>10.70</td>\n",
              "      <td>1379.00</td>\n",
              "    </tr>\n",
              "    <tr>\n",
              "      <th>max</th>\n",
              "      <td>38.00</td>\n",
              "      <td>1499.00</td>\n",
              "    </tr>\n",
              "  </tbody>\n",
              "</table>\n",
              "</div>"
            ],
            "text/plain": [
              "       duration   user_id\n",
              "count 202607.00 202607.00\n",
              "mean       6.76   1253.94\n",
              "std        5.84    144.72\n",
              "min        0.00   1000.00\n",
              "25%        1.30   1126.00\n",
              "50%        6.00   1260.00\n",
              "75%       10.70   1379.00\n",
              "max       38.00   1499.00"
            ]
          },
          "metadata": {},
          "output_type": "display_data"
        }
      ],
      "source": [
        "calls = pd.read_csv('/datasets/calls.csv', sep=',')\n",
        "\n",
        "display(calls.info())\n",
        "display(calls.describe())"
      ]
    },
    {
      "cell_type": "markdown",
      "metadata": {
        "id": "ZbpsSKBXMlhd"
      },
      "source": [
        "Определим нулевые значения в столбцах"
      ]
    },
    {
      "cell_type": "code",
      "execution_count": null,
      "metadata": {
        "id": "nRBez3HkMlhd",
        "outputId": "09845ac9-f78e-4951-e17f-2715b79c48db"
      },
      "outputs": [
        {
          "data": {
            "text/plain": [
              "'Нулевые значения обнаружены:'"
            ]
          },
          "metadata": {},
          "output_type": "display_data"
        },
        {
          "data": {
            "text/plain": [
              "id               0\n",
              "call_date        0\n",
              "duration     39613\n",
              "user_id          0\n",
              "dtype: int64"
            ]
          },
          "metadata": {},
          "output_type": "display_data"
        }
      ],
      "source": [
        "display('Нулевые значения обнаружены:', calls.isin([0]).sum())"
      ]
    },
    {
      "cell_type": "markdown",
      "metadata": {
        "id": "pbtcNbbyMlhd"
      },
      "source": [
        "Найдем минимальные и максимальные значения"
      ]
    },
    {
      "cell_type": "code",
      "execution_count": null,
      "metadata": {
        "scrolled": true,
        "id": "AS-prxWoMlhe",
        "outputId": "bdcf7933-6df0-487c-e5fb-57e1f10756cb"
      },
      "outputs": [
        {
          "data": {
            "text/plain": [
              "id               1000_0\n",
              "call_date    2018-01-01\n",
              "duration           0.00\n",
              "user_id            1000\n",
              "dtype: object"
            ]
          },
          "metadata": {},
          "output_type": "display_data"
        },
        {
          "data": {
            "text/plain": [
              "id              1499_99\n",
              "call_date    2018-12-31\n",
              "duration          38.00\n",
              "user_id            1499\n",
              "dtype: object"
            ]
          },
          "metadata": {},
          "output_type": "display_data"
        }
      ],
      "source": [
        "display(calls.min())\n",
        "display(calls.max())"
      ]
    },
    {
      "cell_type": "markdown",
      "metadata": {
        "id": "y2VA2-e8Mlhe"
      },
      "source": [
        "Определим количество дублей"
      ]
    },
    {
      "cell_type": "code",
      "execution_count": null,
      "metadata": {
        "scrolled": true,
        "id": "NmuE8IrRMlhe",
        "outputId": "31a4cb25-e83f-470d-8a1f-86c92a82bfc8"
      },
      "outputs": [
        {
          "name": "stdout",
          "output_type": "stream",
          "text": [
            "Количество дублей 0\n"
          ]
        }
      ],
      "source": [
        "print('Количество дублей', calls.duplicated().sum())"
      ]
    },
    {
      "cell_type": "markdown",
      "metadata": {
        "id": "LKvnEKKTMlhe"
      },
      "source": [
        "Оценим структуру данных"
      ]
    },
    {
      "cell_type": "code",
      "execution_count": null,
      "metadata": {
        "scrolled": true,
        "id": "M2lxptEnMlhj",
        "outputId": "0019a488-6e71-41a4-e170-a6d85ec6e2b3"
      },
      "outputs": [
        {
          "data": {
            "text/html": [
              "<div>\n",
              "<style scoped>\n",
              "    .dataframe tbody tr th:only-of-type {\n",
              "        vertical-align: middle;\n",
              "    }\n",
              "\n",
              "    .dataframe tbody tr th {\n",
              "        vertical-align: top;\n",
              "    }\n",
              "\n",
              "    .dataframe thead th {\n",
              "        text-align: right;\n",
              "    }\n",
              "</style>\n",
              "<table border=\"1\" class=\"dataframe\">\n",
              "  <thead>\n",
              "    <tr style=\"text-align: right;\">\n",
              "      <th></th>\n",
              "      <th>id</th>\n",
              "      <th>call_date</th>\n",
              "      <th>duration</th>\n",
              "      <th>user_id</th>\n",
              "    </tr>\n",
              "  </thead>\n",
              "  <tbody>\n",
              "    <tr>\n",
              "      <th>0</th>\n",
              "      <td>1000_0</td>\n",
              "      <td>2018-07-25</td>\n",
              "      <td>0.00</td>\n",
              "      <td>1000</td>\n",
              "    </tr>\n",
              "    <tr>\n",
              "      <th>1</th>\n",
              "      <td>1000_1</td>\n",
              "      <td>2018-08-17</td>\n",
              "      <td>0.00</td>\n",
              "      <td>1000</td>\n",
              "    </tr>\n",
              "    <tr>\n",
              "      <th>2</th>\n",
              "      <td>1000_2</td>\n",
              "      <td>2018-06-11</td>\n",
              "      <td>2.85</td>\n",
              "      <td>1000</td>\n",
              "    </tr>\n",
              "    <tr>\n",
              "      <th>3</th>\n",
              "      <td>1000_3</td>\n",
              "      <td>2018-09-21</td>\n",
              "      <td>13.80</td>\n",
              "      <td>1000</td>\n",
              "    </tr>\n",
              "    <tr>\n",
              "      <th>4</th>\n",
              "      <td>1000_4</td>\n",
              "      <td>2018-12-15</td>\n",
              "      <td>5.18</td>\n",
              "      <td>1000</td>\n",
              "    </tr>\n",
              "  </tbody>\n",
              "</table>\n",
              "</div>"
            ],
            "text/plain": [
              "       id   call_date  duration  user_id\n",
              "0  1000_0  2018-07-25      0.00     1000\n",
              "1  1000_1  2018-08-17      0.00     1000\n",
              "2  1000_2  2018-06-11      2.85     1000\n",
              "3  1000_3  2018-09-21     13.80     1000\n",
              "4  1000_4  2018-12-15      5.18     1000"
            ]
          },
          "metadata": {},
          "output_type": "display_data"
        }
      ],
      "source": [
        "display(calls.head())"
      ]
    },
    {
      "cell_type": "markdown",
      "metadata": {
        "id": "A6bTY9vLMlhj"
      },
      "source": [
        "Вывод:  \n",
        "- В таблице 202607 строк, 4 столбца\n",
        "- Пояснения для таблицы `calls` (информация о звонках):\n",
        "    - id — уникальный номер звонка (тип - object)\n",
        "    - call_date — дата звонка (тип - object)\n",
        "    - duration — длительность звонка в минутах (тип - float64)\n",
        "    - user_id — идентификатор пользователя, сделавшего звонок (тип - int64)  \n",
        "\n",
        "Значения `call_date` необходимо привести к типу date.  \n",
        "\n",
        "Учитывая, что «Мегалайн» всегда округляет секунды до минут, а мегабайты — до гигабайт. Каждый звонок округляется отдельно: даже если он длился всего 1 секунду, будет засчитан как 1 минута - необходимо будет поменять в `duration` тип с float на integer. Значения пропущены в 39613 случаях, можно предположить что исходящий звонок совершался, гудки шли, но абонент не отвечал. Для подтвеждения теории можно запросить ответственного за выгрузку данных сотрудника пояснить этот момент, как рассчитывается. Можно заменить пропуски на среднее значение длительности звонка по `user_id`.\n"
      ]
    },
    {
      "cell_type": "markdown",
      "metadata": {
        "id": "n52IniSnMlhj"
      },
      "source": [
        "#### Изучим таблицу `internet.csv`"
      ]
    },
    {
      "cell_type": "code",
      "execution_count": null,
      "metadata": {
        "id": "MVIwDwGdMlhk",
        "outputId": "4967a048-22f8-4e0b-e5e8-b718fdd5048e"
      },
      "outputs": [
        {
          "name": "stdout",
          "output_type": "stream",
          "text": [
            "<class 'pandas.core.frame.DataFrame'>\n",
            "RangeIndex: 149396 entries, 0 to 149395\n",
            "Data columns (total 5 columns):\n",
            " #   Column        Non-Null Count   Dtype  \n",
            "---  ------        --------------   -----  \n",
            " 0   Unnamed: 0    149396 non-null  int64  \n",
            " 1   id            149396 non-null  object \n",
            " 2   mb_used       149396 non-null  float64\n",
            " 3   session_date  149396 non-null  object \n",
            " 4   user_id       149396 non-null  int64  \n",
            "dtypes: float64(1), int64(2), object(2)\n",
            "memory usage: 5.7+ MB\n"
          ]
        },
        {
          "data": {
            "text/plain": [
              "None"
            ]
          },
          "metadata": {},
          "output_type": "display_data"
        },
        {
          "data": {
            "text/html": [
              "<div>\n",
              "<style scoped>\n",
              "    .dataframe tbody tr th:only-of-type {\n",
              "        vertical-align: middle;\n",
              "    }\n",
              "\n",
              "    .dataframe tbody tr th {\n",
              "        vertical-align: top;\n",
              "    }\n",
              "\n",
              "    .dataframe thead th {\n",
              "        text-align: right;\n",
              "    }\n",
              "</style>\n",
              "<table border=\"1\" class=\"dataframe\">\n",
              "  <thead>\n",
              "    <tr style=\"text-align: right;\">\n",
              "      <th></th>\n",
              "      <th>Unnamed: 0</th>\n",
              "      <th>mb_used</th>\n",
              "      <th>user_id</th>\n",
              "    </tr>\n",
              "  </thead>\n",
              "  <tbody>\n",
              "    <tr>\n",
              "      <th>count</th>\n",
              "      <td>149396.00</td>\n",
              "      <td>149396.00</td>\n",
              "      <td>149396.00</td>\n",
              "    </tr>\n",
              "    <tr>\n",
              "      <th>mean</th>\n",
              "      <td>74697.50</td>\n",
              "      <td>370.19</td>\n",
              "      <td>1252.10</td>\n",
              "    </tr>\n",
              "    <tr>\n",
              "      <th>std</th>\n",
              "      <td>43127.05</td>\n",
              "      <td>278.30</td>\n",
              "      <td>144.05</td>\n",
              "    </tr>\n",
              "    <tr>\n",
              "      <th>min</th>\n",
              "      <td>0.00</td>\n",
              "      <td>0.00</td>\n",
              "      <td>1000.00</td>\n",
              "    </tr>\n",
              "    <tr>\n",
              "      <th>25%</th>\n",
              "      <td>37348.75</td>\n",
              "      <td>138.19</td>\n",
              "      <td>1130.00</td>\n",
              "    </tr>\n",
              "    <tr>\n",
              "      <th>50%</th>\n",
              "      <td>74697.50</td>\n",
              "      <td>348.01</td>\n",
              "      <td>1251.00</td>\n",
              "    </tr>\n",
              "    <tr>\n",
              "      <th>75%</th>\n",
              "      <td>112046.25</td>\n",
              "      <td>559.55</td>\n",
              "      <td>1380.00</td>\n",
              "    </tr>\n",
              "    <tr>\n",
              "      <th>max</th>\n",
              "      <td>149395.00</td>\n",
              "      <td>1724.83</td>\n",
              "      <td>1499.00</td>\n",
              "    </tr>\n",
              "  </tbody>\n",
              "</table>\n",
              "</div>"
            ],
            "text/plain": [
              "       Unnamed: 0   mb_used   user_id\n",
              "count   149396.00 149396.00 149396.00\n",
              "mean     74697.50    370.19   1252.10\n",
              "std      43127.05    278.30    144.05\n",
              "min          0.00      0.00   1000.00\n",
              "25%      37348.75    138.19   1130.00\n",
              "50%      74697.50    348.01   1251.00\n",
              "75%     112046.25    559.55   1380.00\n",
              "max     149395.00   1724.83   1499.00"
            ]
          },
          "metadata": {},
          "output_type": "display_data"
        }
      ],
      "source": [
        "internet = pd.read_csv('/datasets/internet.csv', sep=',')\n",
        "\n",
        "display(internet.info())\n",
        "display(internet.describe())"
      ]
    },
    {
      "cell_type": "markdown",
      "metadata": {
        "id": "JX4ZhPyDMlhk"
      },
      "source": [
        "Определим нулевые значения в столбцах"
      ]
    },
    {
      "cell_type": "code",
      "execution_count": null,
      "metadata": {
        "id": "OnUsC_aLMlhk",
        "outputId": "5442adec-f43f-4f19-ef26-9c0d1106bb1a"
      },
      "outputs": [
        {
          "data": {
            "text/plain": [
              "'Нулевые значения обнаружены:'"
            ]
          },
          "metadata": {},
          "output_type": "display_data"
        },
        {
          "data": {
            "text/plain": [
              "Unnamed: 0          1\n",
              "id                  0\n",
              "mb_used         19598\n",
              "session_date        0\n",
              "user_id             0\n",
              "dtype: int64"
            ]
          },
          "metadata": {},
          "output_type": "display_data"
        }
      ],
      "source": [
        "display('Нулевые значения обнаружены:', internet.isin([0]).sum())"
      ]
    },
    {
      "cell_type": "markdown",
      "metadata": {
        "id": "A8jCNEjPMlhk"
      },
      "source": [
        "Найдем минимальные и максимальные значения"
      ]
    },
    {
      "cell_type": "code",
      "execution_count": null,
      "metadata": {
        "scrolled": true,
        "id": "vsc6nnRUMlhk",
        "outputId": "f394b8a9-b551-4364-acd7-e13815d5d7bc"
      },
      "outputs": [
        {
          "data": {
            "text/plain": [
              "Unnamed: 0               0\n",
              "id                  1000_0\n",
              "mb_used               0.00\n",
              "session_date    2018-01-01\n",
              "user_id               1000\n",
              "dtype: object"
            ]
          },
          "metadata": {},
          "output_type": "display_data"
        },
        {
          "data": {
            "text/plain": [
              "Unnamed: 0          149395\n",
              "id                 1499_99\n",
              "mb_used            1724.83\n",
              "session_date    2018-12-31\n",
              "user_id               1499\n",
              "dtype: object"
            ]
          },
          "metadata": {},
          "output_type": "display_data"
        }
      ],
      "source": [
        "display(internet.min())\n",
        "display(internet.max())"
      ]
    },
    {
      "cell_type": "markdown",
      "metadata": {
        "id": "szl_oQPMMlhl"
      },
      "source": [
        "Определим количество дублей"
      ]
    },
    {
      "cell_type": "code",
      "execution_count": null,
      "metadata": {
        "id": "3QsYeem7Mlhl",
        "outputId": "12ff1c63-9f0a-4acd-e6eb-a4e3a51c7945"
      },
      "outputs": [
        {
          "name": "stdout",
          "output_type": "stream",
          "text": [
            "Количество дублей 0\n"
          ]
        }
      ],
      "source": [
        "print('Количество дублей', internet.duplicated().sum())"
      ]
    },
    {
      "cell_type": "markdown",
      "metadata": {
        "id": "nYLJtBeoMlhl"
      },
      "source": [
        "Оценим структуру данных"
      ]
    },
    {
      "cell_type": "code",
      "execution_count": null,
      "metadata": {
        "scrolled": true,
        "id": "ItkcBLxjMlhl",
        "outputId": "19e03121-b8ea-423a-a092-e029d3b34792"
      },
      "outputs": [
        {
          "data": {
            "text/html": [
              "<div>\n",
              "<style scoped>\n",
              "    .dataframe tbody tr th:only-of-type {\n",
              "        vertical-align: middle;\n",
              "    }\n",
              "\n",
              "    .dataframe tbody tr th {\n",
              "        vertical-align: top;\n",
              "    }\n",
              "\n",
              "    .dataframe thead th {\n",
              "        text-align: right;\n",
              "    }\n",
              "</style>\n",
              "<table border=\"1\" class=\"dataframe\">\n",
              "  <thead>\n",
              "    <tr style=\"text-align: right;\">\n",
              "      <th></th>\n",
              "      <th>Unnamed: 0</th>\n",
              "      <th>id</th>\n",
              "      <th>mb_used</th>\n",
              "      <th>session_date</th>\n",
              "      <th>user_id</th>\n",
              "    </tr>\n",
              "  </thead>\n",
              "  <tbody>\n",
              "    <tr>\n",
              "      <th>0</th>\n",
              "      <td>0</td>\n",
              "      <td>1000_0</td>\n",
              "      <td>112.95</td>\n",
              "      <td>2018-11-25</td>\n",
              "      <td>1000</td>\n",
              "    </tr>\n",
              "    <tr>\n",
              "      <th>1</th>\n",
              "      <td>1</td>\n",
              "      <td>1000_1</td>\n",
              "      <td>1052.81</td>\n",
              "      <td>2018-09-07</td>\n",
              "      <td>1000</td>\n",
              "    </tr>\n",
              "    <tr>\n",
              "      <th>2</th>\n",
              "      <td>2</td>\n",
              "      <td>1000_2</td>\n",
              "      <td>1197.26</td>\n",
              "      <td>2018-06-25</td>\n",
              "      <td>1000</td>\n",
              "    </tr>\n",
              "    <tr>\n",
              "      <th>3</th>\n",
              "      <td>3</td>\n",
              "      <td>1000_3</td>\n",
              "      <td>550.27</td>\n",
              "      <td>2018-08-22</td>\n",
              "      <td>1000</td>\n",
              "    </tr>\n",
              "    <tr>\n",
              "      <th>4</th>\n",
              "      <td>4</td>\n",
              "      <td>1000_4</td>\n",
              "      <td>302.56</td>\n",
              "      <td>2018-09-24</td>\n",
              "      <td>1000</td>\n",
              "    </tr>\n",
              "  </tbody>\n",
              "</table>\n",
              "</div>"
            ],
            "text/plain": [
              "   Unnamed: 0      id  mb_used session_date  user_id\n",
              "0           0  1000_0   112.95   2018-11-25     1000\n",
              "1           1  1000_1  1052.81   2018-09-07     1000\n",
              "2           2  1000_2  1197.26   2018-06-25     1000\n",
              "3           3  1000_3   550.27   2018-08-22     1000\n",
              "4           4  1000_4   302.56   2018-09-24     1000"
            ]
          },
          "metadata": {},
          "output_type": "display_data"
        }
      ],
      "source": [
        "display(internet.head())"
      ]
    },
    {
      "cell_type": "markdown",
      "metadata": {
        "id": "9Ayf1J4dMlhl"
      },
      "source": [
        "Вывод:  \n",
        "- В таблице 149396 строк, 5 столбцов\n",
        "- Пояснения для таблицы `internet` ((информация об интернет-сессиях):\n",
        "    - Unnamed: 0 (тип - int64)\n",
        "    - id — уникальный номер сессии (тип - object)\n",
        "    - mb_used — объём потраченного за сессию интернет-трафика (в мегабайтах) (тип - float64)\n",
        "    - session_date — дата интернет-сессии (тип - object)\n",
        "    - user_id — идентификатор пользователя (тип - int64)  \n",
        "\n",
        "Не понятный столбец с названием `Unnamed: 0`, возможно продублировался. Неоходимо запросить информацию у человека, выгружавшего данные из базы. На данном этапе можно будет удалить его.  \n",
        "В столбце `mb_used` необходимо будет округлить данные, изменить тип с `float` на `int`. В этом же столбце обнаружены пропуски 19598 штук, их можно будет заменить на среднее значение объёма потраченного за сессию интернет-трафика по user_id.  \n",
        "В столбце `session_date` тип данных необходимо заменить на date."
      ]
    },
    {
      "cell_type": "markdown",
      "metadata": {
        "id": "u7ggvr16Mlhl"
      },
      "source": [
        "#### Изучим таблицу `messages.csv`"
      ]
    },
    {
      "cell_type": "code",
      "execution_count": null,
      "metadata": {
        "id": "qZq0_6-hMlhm",
        "outputId": "a07715bc-98ff-439c-ce1b-b934685935f3"
      },
      "outputs": [
        {
          "name": "stdout",
          "output_type": "stream",
          "text": [
            "<class 'pandas.core.frame.DataFrame'>\n",
            "RangeIndex: 123036 entries, 0 to 123035\n",
            "Data columns (total 3 columns):\n",
            " #   Column        Non-Null Count   Dtype \n",
            "---  ------        --------------   ----- \n",
            " 0   id            123036 non-null  object\n",
            " 1   message_date  123036 non-null  object\n",
            " 2   user_id       123036 non-null  int64 \n",
            "dtypes: int64(1), object(2)\n",
            "memory usage: 2.8+ MB\n"
          ]
        },
        {
          "data": {
            "text/plain": [
              "None"
            ]
          },
          "metadata": {},
          "output_type": "display_data"
        },
        {
          "data": {
            "text/html": [
              "<div>\n",
              "<style scoped>\n",
              "    .dataframe tbody tr th:only-of-type {\n",
              "        vertical-align: middle;\n",
              "    }\n",
              "\n",
              "    .dataframe tbody tr th {\n",
              "        vertical-align: top;\n",
              "    }\n",
              "\n",
              "    .dataframe thead th {\n",
              "        text-align: right;\n",
              "    }\n",
              "</style>\n",
              "<table border=\"1\" class=\"dataframe\">\n",
              "  <thead>\n",
              "    <tr style=\"text-align: right;\">\n",
              "      <th></th>\n",
              "      <th>user_id</th>\n",
              "    </tr>\n",
              "  </thead>\n",
              "  <tbody>\n",
              "    <tr>\n",
              "      <th>count</th>\n",
              "      <td>123036.00</td>\n",
              "    </tr>\n",
              "    <tr>\n",
              "      <th>mean</th>\n",
              "      <td>1256.99</td>\n",
              "    </tr>\n",
              "    <tr>\n",
              "      <th>std</th>\n",
              "      <td>143.52</td>\n",
              "    </tr>\n",
              "    <tr>\n",
              "      <th>min</th>\n",
              "      <td>1000.00</td>\n",
              "    </tr>\n",
              "    <tr>\n",
              "      <th>25%</th>\n",
              "      <td>1134.00</td>\n",
              "    </tr>\n",
              "    <tr>\n",
              "      <th>50%</th>\n",
              "      <td>1271.00</td>\n",
              "    </tr>\n",
              "    <tr>\n",
              "      <th>75%</th>\n",
              "      <td>1381.00</td>\n",
              "    </tr>\n",
              "    <tr>\n",
              "      <th>max</th>\n",
              "      <td>1499.00</td>\n",
              "    </tr>\n",
              "  </tbody>\n",
              "</table>\n",
              "</div>"
            ],
            "text/plain": [
              "        user_id\n",
              "count 123036.00\n",
              "mean    1256.99\n",
              "std      143.52\n",
              "min     1000.00\n",
              "25%     1134.00\n",
              "50%     1271.00\n",
              "75%     1381.00\n",
              "max     1499.00"
            ]
          },
          "metadata": {},
          "output_type": "display_data"
        }
      ],
      "source": [
        "messages = pd.read_csv('/datasets/messages.csv', sep=',')\n",
        "\n",
        "display(messages.info())\n",
        "display(messages.describe())"
      ]
    },
    {
      "cell_type": "markdown",
      "metadata": {
        "id": "T8HR-85sMlhm"
      },
      "source": [
        "Определим нулевые значения в столбцах\n"
      ]
    },
    {
      "cell_type": "code",
      "execution_count": null,
      "metadata": {
        "id": "OimYmlUUMlhm",
        "outputId": "b1255b53-25c8-4f16-f1d2-e609666f9b30"
      },
      "outputs": [
        {
          "data": {
            "text/plain": [
              "'Нулевые значения обнаружены:'"
            ]
          },
          "metadata": {},
          "output_type": "display_data"
        },
        {
          "data": {
            "text/plain": [
              "id              0\n",
              "message_date    0\n",
              "user_id         0\n",
              "dtype: int64"
            ]
          },
          "metadata": {},
          "output_type": "display_data"
        }
      ],
      "source": [
        "display('Нулевые значения обнаружены:', messages.isin([0]).sum())"
      ]
    },
    {
      "cell_type": "markdown",
      "metadata": {
        "id": "cYpgqFuKMlhm"
      },
      "source": [
        "Найдем минимальные и максимальные значения"
      ]
    },
    {
      "cell_type": "code",
      "execution_count": null,
      "metadata": {
        "scrolled": true,
        "id": "2EVLthWfMlhm",
        "outputId": "4bead10b-9871-464d-969a-63c0a4d5f5c0"
      },
      "outputs": [
        {
          "data": {
            "text/plain": [
              "id                  1000_0\n",
              "message_date    2018-01-02\n",
              "user_id               1000\n",
              "dtype: object"
            ]
          },
          "metadata": {},
          "output_type": "display_data"
        },
        {
          "data": {
            "text/plain": [
              "id                 1499_99\n",
              "message_date    2018-12-31\n",
              "user_id               1499\n",
              "dtype: object"
            ]
          },
          "metadata": {},
          "output_type": "display_data"
        }
      ],
      "source": [
        "display(messages.min())\n",
        "display(messages.max())"
      ]
    },
    {
      "cell_type": "markdown",
      "metadata": {
        "id": "2MSLQ7zMMlhm"
      },
      "source": [
        "Определим количество дублей"
      ]
    },
    {
      "cell_type": "code",
      "execution_count": null,
      "metadata": {
        "id": "UbBQWFINMlhn",
        "outputId": "a210d92b-13c4-4f9c-ba09-6e34e30b12f0"
      },
      "outputs": [
        {
          "name": "stdout",
          "output_type": "stream",
          "text": [
            "Количество дублей 0\n"
          ]
        }
      ],
      "source": [
        "print('Количество дублей', messages.duplicated().sum())"
      ]
    },
    {
      "cell_type": "markdown",
      "metadata": {
        "id": "vKqACjxQMlhn"
      },
      "source": [
        "Оценим структуру данных"
      ]
    },
    {
      "cell_type": "code",
      "execution_count": null,
      "metadata": {
        "scrolled": true,
        "id": "myA2figyMlhn",
        "outputId": "7290c18e-d379-4014-ec0a-ffb68b096e5d"
      },
      "outputs": [
        {
          "data": {
            "text/html": [
              "<div>\n",
              "<style scoped>\n",
              "    .dataframe tbody tr th:only-of-type {\n",
              "        vertical-align: middle;\n",
              "    }\n",
              "\n",
              "    .dataframe tbody tr th {\n",
              "        vertical-align: top;\n",
              "    }\n",
              "\n",
              "    .dataframe thead th {\n",
              "        text-align: right;\n",
              "    }\n",
              "</style>\n",
              "<table border=\"1\" class=\"dataframe\">\n",
              "  <thead>\n",
              "    <tr style=\"text-align: right;\">\n",
              "      <th></th>\n",
              "      <th>id</th>\n",
              "      <th>message_date</th>\n",
              "      <th>user_id</th>\n",
              "    </tr>\n",
              "  </thead>\n",
              "  <tbody>\n",
              "    <tr>\n",
              "      <th>0</th>\n",
              "      <td>1000_0</td>\n",
              "      <td>2018-06-27</td>\n",
              "      <td>1000</td>\n",
              "    </tr>\n",
              "    <tr>\n",
              "      <th>1</th>\n",
              "      <td>1000_1</td>\n",
              "      <td>2018-10-08</td>\n",
              "      <td>1000</td>\n",
              "    </tr>\n",
              "    <tr>\n",
              "      <th>2</th>\n",
              "      <td>1000_2</td>\n",
              "      <td>2018-08-04</td>\n",
              "      <td>1000</td>\n",
              "    </tr>\n",
              "    <tr>\n",
              "      <th>3</th>\n",
              "      <td>1000_3</td>\n",
              "      <td>2018-06-16</td>\n",
              "      <td>1000</td>\n",
              "    </tr>\n",
              "    <tr>\n",
              "      <th>4</th>\n",
              "      <td>1000_4</td>\n",
              "      <td>2018-12-05</td>\n",
              "      <td>1000</td>\n",
              "    </tr>\n",
              "  </tbody>\n",
              "</table>\n",
              "</div>"
            ],
            "text/plain": [
              "       id message_date  user_id\n",
              "0  1000_0   2018-06-27     1000\n",
              "1  1000_1   2018-10-08     1000\n",
              "2  1000_2   2018-08-04     1000\n",
              "3  1000_3   2018-06-16     1000\n",
              "4  1000_4   2018-12-05     1000"
            ]
          },
          "metadata": {},
          "output_type": "display_data"
        }
      ],
      "source": [
        "display(messages.head())"
      ]
    },
    {
      "cell_type": "markdown",
      "metadata": {
        "id": "Y0aFIL-UMlhn"
      },
      "source": [
        "Вывод:  \n",
        "- В таблице 123036 строк, 3 столбца\n",
        "- Пояснения для таблицы `users` (информация о сообщениях):\n",
        "    - id — уникальный номер сообщения (тип - object)\n",
        "    - message_date — дата сообщения (тип - object)\n",
        "    - user_id — идентификатор пользователя, отправившего сообщение (тип - int64)  \n",
        "\n",
        "В столбце `message_date` данные необходимо привести к типу date.  \n",
        "Пропусков нету."
      ]
    },
    {
      "cell_type": "markdown",
      "metadata": {
        "id": "80vE4mllMlho"
      },
      "source": [
        "## Шаг 2. Подготовим данные"
      ]
    },
    {
      "cell_type": "markdown",
      "metadata": {
        "id": "zQEmlXMTMlho"
      },
      "source": [
        "### Обработаем пропуски и удалим ненужных данные"
      ]
    },
    {
      "cell_type": "markdown",
      "metadata": {
        "id": "gQx1n_0lMlhp"
      },
      "source": [
        "Удалим столбец **Unnamed: 0**"
      ]
    },
    {
      "cell_type": "code",
      "execution_count": null,
      "metadata": {
        "id": "MVl5QzwwMlhp"
      },
      "outputs": [],
      "source": [
        "internet.drop('Unnamed: 0', axis=1, inplace = True)"
      ]
    },
    {
      "cell_type": "markdown",
      "metadata": {
        "id": "syYTvcYgMlhq"
      },
      "source": [
        "### Приведем данные к нужным типам"
      ]
    },
    {
      "cell_type": "markdown",
      "metadata": {
        "id": "MxZmgLloMlhq"
      },
      "source": [
        "Обработка таблицы `users.csv`. Изменим тип данных в столбцах **churn_date** и **reg_date**"
      ]
    },
    {
      "cell_type": "code",
      "execution_count": null,
      "metadata": {
        "id": "9p-QNAeuMlhq"
      },
      "outputs": [],
      "source": [
        "users['churn_date']= pd.to_datetime(users['churn_date'], format='%Y-%m-%d')\n",
        "users['reg_date']= pd.to_datetime(users['reg_date'], format='%Y-%m-%d')"
      ]
    },
    {
      "cell_type": "markdown",
      "metadata": {
        "id": "1ZydUn4MMlhq"
      },
      "source": [
        "Обработка таблицы `calls.csv`. Изменим тип данных в столбцах **call_date**"
      ]
    },
    {
      "cell_type": "code",
      "execution_count": null,
      "metadata": {
        "id": "jFKR9LFcMlhr"
      },
      "outputs": [],
      "source": [
        "calls['call_date']= pd.to_datetime(calls['call_date'], format='%Y-%m-%d')"
      ]
    },
    {
      "cell_type": "markdown",
      "metadata": {
        "id": "aFuVo5nzMlhr"
      },
      "source": [
        "Обработка таблицы `internet.csv`. Изменим тип данных в столбцах **session_date**"
      ]
    },
    {
      "cell_type": "code",
      "execution_count": null,
      "metadata": {
        "id": "I-_3c1qxMlhr"
      },
      "outputs": [],
      "source": [
        "internet['session_date']= pd.to_datetime(internet['session_date'], format='%Y-%m-%d')"
      ]
    },
    {
      "cell_type": "markdown",
      "metadata": {
        "id": "pxFZICw-Mlhr"
      },
      "source": [
        "Обработка таблицы `messages.csv`. Изменим тип данных в столбцах **session_date**"
      ]
    },
    {
      "cell_type": "code",
      "execution_count": null,
      "metadata": {
        "id": "fvL59Sf1Mlhs"
      },
      "outputs": [],
      "source": [
        "messages['message_date']= pd.to_datetime(messages['message_date'], format='%Y-%m-%d')"
      ]
    },
    {
      "cell_type": "markdown",
      "metadata": {
        "id": "gGzoU_WMMlhs"
      },
      "source": [
        "### Категоризация данных"
      ]
    },
    {
      "cell_type": "markdown",
      "metadata": {
        "id": "njfQ5sFPMlhs"
      },
      "source": [
        "Обработка таблицы `users.csv`. Произведем категоризацию данных столбца **city**. Создадим словарь city_dict и добавим туда **id**"
      ]
    },
    {
      "cell_type": "code",
      "execution_count": null,
      "metadata": {
        "id": "U9reKiMDMlht"
      },
      "outputs": [],
      "source": [
        "city_dict = (users[['city']]\n",
        "                      .dropna()\n",
        "                      .sort_values(by = 'city', ascending = True)\n",
        "                      .drop_duplicates(subset='city').reset_index(drop = True)\n",
        ")\n",
        "\n",
        "city_dict['city_id'] = city_dict.reset_index().index"
      ]
    },
    {
      "cell_type": "markdown",
      "metadata": {
        "id": "EtSu2B7EMlht"
      },
      "source": [
        "Перенесем в таблицу `users` столбцы **city_id**"
      ]
    },
    {
      "cell_type": "code",
      "execution_count": null,
      "metadata": {
        "id": "N19LuqUCMlhu"
      },
      "outputs": [],
      "source": [
        "users = users.merge(city_dict, on='city', how='left')"
      ]
    },
    {
      "cell_type": "markdown",
      "metadata": {
        "id": "scWZlQq-Mlhu"
      },
      "source": [
        "Сформируем итоговую таблицу с нужными категориями, назовем ее `users_updated`"
      ]
    },
    {
      "cell_type": "code",
      "execution_count": null,
      "metadata": {
        "id": "AGgHveZZMlhv"
      },
      "outputs": [],
      "source": [
        "users_updated = users[['user_id','age','churn_date','city_id','first_name','last_name','reg_date','tariff']]"
      ]
    },
    {
      "cell_type": "markdown",
      "metadata": {
        "id": "_n3-LQQVMlhv"
      },
      "source": [
        "### Вычислим и добавим данные в таблицы"
      ]
    },
    {
      "cell_type": "markdown",
      "metadata": {
        "id": "BgN7b6IbMlhv"
      },
      "source": [
        "Посчитаем для каждого пользователя количество сделанных звонков и израсходованных минут разговора по месяцам.  \n",
        "Добавим столбец **month** в таблицу `calls`"
      ]
    },
    {
      "cell_type": "code",
      "execution_count": null,
      "metadata": {
        "id": "SKWspQjTMlhv"
      },
      "outputs": [],
      "source": [
        "calls['month'] = calls['call_date'].dt.month"
      ]
    },
    {
      "cell_type": "markdown",
      "metadata": {
        "id": "I-Z8QyV2Mlhw"
      },
      "source": [
        "Создадим сводную таблицу `calls_pivot` с вычисленными полями **calls_made** и **minutes_used**"
      ]
    },
    {
      "cell_type": "code",
      "execution_count": null,
      "metadata": {
        "id": "A2-5gdcuMlhw"
      },
      "outputs": [],
      "source": [
        "calls_pivot = (calls.\n",
        "    pivot_table(index=['user_id','month'], values='duration', aggfunc=['count', 'sum']).\n",
        "    sort_values(by = ['user_id','month'], ascending = True)\n",
        ")\n",
        "calls_pivot.columns = ['calls_made','minutes_used']\n",
        "calls_pivot.reset_index(inplace = True)"
      ]
    },
    {
      "cell_type": "markdown",
      "metadata": {
        "id": "sXhIPeGeMlhw"
      },
      "source": [
        "Вычислим для каждого пользователя количество отправленных сообщений по месяцам.  \n",
        "Добавим столбец **month** в таблицу `messages`"
      ]
    },
    {
      "cell_type": "code",
      "execution_count": null,
      "metadata": {
        "id": "x3OAp92VMlhw"
      },
      "outputs": [],
      "source": [
        "messages['month'] = messages['message_date'].dt.month"
      ]
    },
    {
      "cell_type": "markdown",
      "metadata": {
        "id": "auFUCHhyMlhx"
      },
      "source": [
        "Создадим сводную таблицу `messages_pivot` с вычисленным полем **messages_used** (количество отправленных сообщений по месяцам)"
      ]
    },
    {
      "cell_type": "code",
      "execution_count": null,
      "metadata": {
        "id": "QBsypav0Mlhx"
      },
      "outputs": [],
      "source": [
        "messages_pivot = (messages.\n",
        "    pivot_table(index=['user_id','month'], values='id', aggfunc='count').\n",
        "    sort_values(by = ['user_id','month'], ascending = True)\n",
        ")\n",
        "\n",
        "messages_pivot.columns = ['messages_used']\n",
        "messages_pivot.reset_index(inplace = True)"
      ]
    },
    {
      "cell_type": "markdown",
      "metadata": {
        "id": "QJPIWYe3Mlhx"
      },
      "source": [
        "Вычислим для каждого пользователя бъем израсходованного интернет-трафика по месяцам.  \n",
        "Добавим столбец **month** в таблицу `internet`"
      ]
    },
    {
      "cell_type": "code",
      "execution_count": null,
      "metadata": {
        "id": "OIVEEoHMMlhx"
      },
      "outputs": [],
      "source": [
        "internet['month'] = internet['session_date'].dt.month"
      ]
    },
    {
      "cell_type": "markdown",
      "metadata": {
        "id": "Xe-bq7hxMlhx"
      },
      "source": [
        "Создадим сводную таблицу `messages_pivot` с вычисленным полем **mb_used** (объем израсходованного интернет-трафика по месяцам)"
      ]
    },
    {
      "cell_type": "code",
      "execution_count": null,
      "metadata": {
        "id": "vVP-BE1DMlhx"
      },
      "outputs": [],
      "source": [
        "internet_pivot = (internet.\n",
        "    pivot_table(index=['user_id','month'], values='mb_used', aggfunc='sum').\n",
        "    sort_values(by = ['user_id','month'], ascending = True)\n",
        ")\n",
        "\n",
        "internet_pivot.columns = ['mb_used']\n",
        "internet_pivot.reset_index(inplace = True)"
      ]
    },
    {
      "cell_type": "markdown",
      "metadata": {
        "id": "G22yb9qoMlhy"
      },
      "source": [
        "Посчитаем для каждого пользователя помесячную выручку с каждого пользователя (вычтем бесплатный лимит из суммарного количества звонков, сообщений и интернет-трафика; остаток умножим на значение из тарифного плана; прибавим абонентскую плату, соответствующую тарифному плану)  \n",
        "\n",
        "Сделаем общую таблицу `calls_messages_internet`"
      ]
    },
    {
      "cell_type": "code",
      "execution_count": null,
      "metadata": {
        "id": "QC2tuKAOMlhy"
      },
      "outputs": [],
      "source": [
        "calls_messages_internet = pd.merge((pd.merge(calls_pivot, messages_pivot, how='outer', on=['user_id', 'month'])), internet_pivot, how='outer', on=['user_id', 'month'])"
      ]
    },
    {
      "cell_type": "markdown",
      "metadata": {
        "id": "5FfeKl3XMlhy"
      },
      "source": [
        "Добавим в таблицу `calls_messages_internet` строку **tariff** из таблицы `users` по **user_id**"
      ]
    },
    {
      "cell_type": "code",
      "execution_count": null,
      "metadata": {
        "id": "tnBTC-h9Mlhy"
      },
      "outputs": [],
      "source": [
        "calls_messages_internet = calls_messages_internet.merge(users_updated[['tariff','user_id']], on = 'user_id', how='left')"
      ]
    },
    {
      "cell_type": "markdown",
      "metadata": {
        "id": "mahApjfbMlhy"
      },
      "source": [
        "Добавим в таблицу `calls_messages_internet` данные тарифных планов из таблицы `tariffs`"
      ]
    },
    {
      "cell_type": "code",
      "execution_count": null,
      "metadata": {
        "id": "F6MObS5hMlhy"
      },
      "outputs": [],
      "source": [
        "calls_messages_internet = calls_messages_internet.join(tariffs.set_index('tariff_name'), on='tariff')"
      ]
    },
    {
      "cell_type": "markdown",
      "metadata": {
        "id": "7GYo_6_YMlhz"
      },
      "source": [
        "Заменим `NaN` на нулевые значения"
      ]
    },
    {
      "cell_type": "code",
      "execution_count": null,
      "metadata": {
        "id": "PaqOTIuuMlhz"
      },
      "outputs": [],
      "source": [
        "calls_messages_internet.fillna(value=0, inplace = True)"
      ]
    },
    {
      "cell_type": "markdown",
      "metadata": {
        "id": "WYZmVDgkMlhz"
      },
      "source": [
        "Определим помесячную выручку для каждого пользователя.  \n",
        "Посчитаем перерасход минут, сообщений и мегабайт (вычтем из бесплатных лимитов фактический расход, в случае наличия неизрасходованных ед. услуг в полях overrun ставим 0)"
      ]
    },
    {
      "cell_type": "code",
      "execution_count": null,
      "metadata": {
        "id": "meLlHumIMlhz"
      },
      "outputs": [],
      "source": [
        "calls_messages_internet['minutes_overrun'] = (calls_messages_internet['minutes_included']-(calls_messages_internet['minutes_used']))*(-1)\n",
        "calls_messages_internet['minutes_overrun'] = calls_messages_internet['minutes_overrun'].where(calls_messages_internet['minutes_overrun'] >= 0, 0)\n",
        "calls_messages_internet['messages_overrun'] = (calls_messages_internet['messages_included']-(calls_messages_internet['messages_used']))*(-1)\n",
        "calls_messages_internet['messages_overrun'] = calls_messages_internet['messages_overrun'].where(calls_messages_internet['messages_overrun'] >= 0, 0)\n",
        "calls_messages_internet['mb_overrun'] = (calls_messages_internet['mb_per_month_included']-(calls_messages_internet['mb_used']))*(-1)\n",
        "calls_messages_internet['mb_overrun'] = calls_messages_internet['mb_overrun'].where(calls_messages_internet['mb_overrun'] >= 0, 0)\n",
        "calls_messages_internet['gb_overrun'] = np.ceil(calls_messages_internet.mb_overrun / 1024).astype(int)"
      ]
    },
    {
      "cell_type": "markdown",
      "metadata": {
        "id": "JX1XyBrbMlh0"
      },
      "source": [
        "Определим выручку по формуле \"стоимость перерасхода плюс абонентская плата\".  \n",
        "При конвертации мегабайт в гигабайты, значение последних округлим в большую сторону, т.к. обычно объем сверх лимита продается по-гигабайтно.  \n",
        "Пример: пользователь потратил 4484 мегабайт сверх лимита (4,38 Гб), но заплатит за 5 Гб."
      ]
    },
    {
      "cell_type": "code",
      "execution_count": null,
      "metadata": {
        "id": "nHRD82CEMlh0"
      },
      "outputs": [],
      "source": [
        "calls_messages_internet['total_revenue'] = (\n",
        "    calls_messages_internet['minutes_overrun'] * calls_messages_internet['rub_per_minute'] +\n",
        "    calls_messages_internet['messages_overrun'] * calls_messages_internet['rub_per_message'] +\n",
        "    np.ceil(calls_messages_internet.mb_overrun / 1024).astype(int) * calls_messages_internet['rub_per_gb'] +\n",
        "    calls_messages_internet['rub_monthly_fee']\n",
        ")"
      ]
    },
    {
      "cell_type": "markdown",
      "metadata": {
        "id": "TPoc7DVkMlh0"
      },
      "source": [
        "## Шаг 3. Проанализируем данные\n"
      ]
    },
    {
      "cell_type": "markdown",
      "metadata": {
        "id": "UPyNR5v8Mlh0"
      },
      "source": [
        "- Опишем поведение клиентов оператора, исходя из выборки. Сколько минут разговора, сколько сообщений и какой объём интернет-трафика требуется пользователям каждого тарифа в месяц?  \n",
        "- Посчитаем среднее количество, дисперсию и стандартное отклонение. Построим гистограммы. Опишем распределения."
      ]
    },
    {
      "cell_type": "markdown",
      "metadata": {
        "id": "dBIbm42YMlh0"
      },
      "source": [
        "Изучим следующие параметры: количество использованных минут, сообщений и объем интернет-траффика. Построем гистограммы для каждого параметра.  \n",
        "Сформируем таблицу со столбцами **tariff, minutes_used, messages_used, mb_used, minutes_included,messages_included, mb_per_month_included, rub_monthly_fee, total_revenue**"
      ]
    },
    {
      "cell_type": "code",
      "execution_count": null,
      "metadata": {
        "id": "JnCRRjurMlh1"
      },
      "outputs": [],
      "source": [
        "calls_messages_internet_analysis = calls_messages_internet[['tariff', 'minutes_used', 'messages_used', 'mb_used','total_revenue']]\n",
        "calls_messages_internet_analysis_smart = calls_messages_internet_analysis.query('tariff == \"smart\"')\n",
        "calls_messages_internet_analysis_ultra = calls_messages_internet_analysis.query('tariff == \"ultra\"')"
      ]
    },
    {
      "cell_type": "markdown",
      "metadata": {
        "id": "JjkBDzBeMlh1"
      },
      "source": [
        "Посмотрим на данные пользователей по месяцам"
      ]
    },
    {
      "cell_type": "code",
      "execution_count": null,
      "metadata": {
        "id": "r7smNn5sMlh1",
        "outputId": "8b0a423f-1b96-4185-c8f2-19ab9c897edc"
      },
      "outputs": [
        {
          "data": {
            "text/plain": [
              "'Данные по пользователям тарифа smart:'"
            ]
          },
          "metadata": {},
          "output_type": "display_data"
        },
        {
          "data": {
            "text/html": [
              "<div>\n",
              "<style scoped>\n",
              "    .dataframe tbody tr th:only-of-type {\n",
              "        vertical-align: middle;\n",
              "    }\n",
              "\n",
              "    .dataframe tbody tr th {\n",
              "        vertical-align: top;\n",
              "    }\n",
              "\n",
              "    .dataframe thead th {\n",
              "        text-align: right;\n",
              "    }\n",
              "</style>\n",
              "<table border=\"1\" class=\"dataframe\">\n",
              "  <thead>\n",
              "    <tr style=\"text-align: right;\">\n",
              "      <th></th>\n",
              "      <th>minutes_used</th>\n",
              "      <th>messages_used</th>\n",
              "      <th>mb_used</th>\n",
              "      <th>total_revenue</th>\n",
              "    </tr>\n",
              "  </thead>\n",
              "  <tbody>\n",
              "    <tr>\n",
              "      <th>count</th>\n",
              "      <td>2229.00</td>\n",
              "      <td>2229.00</td>\n",
              "      <td>2229.00</td>\n",
              "      <td>2229.00</td>\n",
              "    </tr>\n",
              "    <tr>\n",
              "      <th>mean</th>\n",
              "      <td>394.43</td>\n",
              "      <td>33.38</td>\n",
              "      <td>16208.39</td>\n",
              "      <td>1257.16</td>\n",
              "    </tr>\n",
              "    <tr>\n",
              "      <th>std</th>\n",
              "      <td>179.96</td>\n",
              "      <td>28.23</td>\n",
              "      <td>5870.48</td>\n",
              "      <td>800.72</td>\n",
              "    </tr>\n",
              "    <tr>\n",
              "      <th>min</th>\n",
              "      <td>0.00</td>\n",
              "      <td>0.00</td>\n",
              "      <td>0.00</td>\n",
              "      <td>550.00</td>\n",
              "    </tr>\n",
              "    <tr>\n",
              "      <th>25%</th>\n",
              "      <td>267.23</td>\n",
              "      <td>10.00</td>\n",
              "      <td>12643.01</td>\n",
              "      <td>550.00</td>\n",
              "    </tr>\n",
              "    <tr>\n",
              "      <th>50%</th>\n",
              "      <td>397.98</td>\n",
              "      <td>28.00</td>\n",
              "      <td>16506.84</td>\n",
              "      <td>961.67</td>\n",
              "    </tr>\n",
              "    <tr>\n",
              "      <th>75%</th>\n",
              "      <td>515.07</td>\n",
              "      <td>51.00</td>\n",
              "      <td>20042.93</td>\n",
              "      <td>1731.86</td>\n",
              "    </tr>\n",
              "    <tr>\n",
              "      <th>max</th>\n",
              "      <td>1354.22</td>\n",
              "      <td>143.00</td>\n",
              "      <td>38552.45</td>\n",
              "      <td>6613.10</td>\n",
              "    </tr>\n",
              "  </tbody>\n",
              "</table>\n",
              "</div>"
            ],
            "text/plain": [
              "       minutes_used  messages_used  mb_used  total_revenue\n",
              "count       2229.00        2229.00  2229.00        2229.00\n",
              "mean         394.43          33.38 16208.39        1257.16\n",
              "std          179.96          28.23  5870.48         800.72\n",
              "min            0.00           0.00     0.00         550.00\n",
              "25%          267.23          10.00 12643.01         550.00\n",
              "50%          397.98          28.00 16506.84         961.67\n",
              "75%          515.07          51.00 20042.93        1731.86\n",
              "max         1354.22         143.00 38552.45        6613.10"
            ]
          },
          "metadata": {},
          "output_type": "display_data"
        },
        {
          "data": {
            "text/plain": [
              "'Данные по пользователям тарифа ultra:'"
            ]
          },
          "metadata": {},
          "output_type": "display_data"
        },
        {
          "data": {
            "text/html": [
              "<div>\n",
              "<style scoped>\n",
              "    .dataframe tbody tr th:only-of-type {\n",
              "        vertical-align: middle;\n",
              "    }\n",
              "\n",
              "    .dataframe tbody tr th {\n",
              "        vertical-align: top;\n",
              "    }\n",
              "\n",
              "    .dataframe thead th {\n",
              "        text-align: right;\n",
              "    }\n",
              "</style>\n",
              "<table border=\"1\" class=\"dataframe\">\n",
              "  <thead>\n",
              "    <tr style=\"text-align: right;\">\n",
              "      <th></th>\n",
              "      <th>minutes_used</th>\n",
              "      <th>messages_used</th>\n",
              "      <th>mb_used</th>\n",
              "      <th>total_revenue</th>\n",
              "    </tr>\n",
              "  </thead>\n",
              "  <tbody>\n",
              "    <tr>\n",
              "      <th>count</th>\n",
              "      <td>985.00</td>\n",
              "      <td>985.00</td>\n",
              "      <td>985.00</td>\n",
              "      <td>985.00</td>\n",
              "    </tr>\n",
              "    <tr>\n",
              "      <th>mean</th>\n",
              "      <td>497.07</td>\n",
              "      <td>49.36</td>\n",
              "      <td>19468.81</td>\n",
              "      <td>2070.15</td>\n",
              "    </tr>\n",
              "    <tr>\n",
              "      <th>std</th>\n",
              "      <td>299.90</td>\n",
              "      <td>47.80</td>\n",
              "      <td>10087.17</td>\n",
              "      <td>376.19</td>\n",
              "    </tr>\n",
              "    <tr>\n",
              "      <th>min</th>\n",
              "      <td>0.00</td>\n",
              "      <td>0.00</td>\n",
              "      <td>0.00</td>\n",
              "      <td>1950.00</td>\n",
              "    </tr>\n",
              "    <tr>\n",
              "      <th>25%</th>\n",
              "      <td>267.75</td>\n",
              "      <td>6.00</td>\n",
              "      <td>11770.26</td>\n",
              "      <td>1950.00</td>\n",
              "    </tr>\n",
              "    <tr>\n",
              "      <th>50%</th>\n",
              "      <td>488.10</td>\n",
              "      <td>38.00</td>\n",
              "      <td>19308.01</td>\n",
              "      <td>1950.00</td>\n",
              "    </tr>\n",
              "    <tr>\n",
              "      <th>75%</th>\n",
              "      <td>711.47</td>\n",
              "      <td>79.00</td>\n",
              "      <td>26837.69</td>\n",
              "      <td>1950.00</td>\n",
              "    </tr>\n",
              "    <tr>\n",
              "      <th>max</th>\n",
              "      <td>1578.06</td>\n",
              "      <td>224.00</td>\n",
              "      <td>49745.69</td>\n",
              "      <td>4800.00</td>\n",
              "    </tr>\n",
              "  </tbody>\n",
              "</table>\n",
              "</div>"
            ],
            "text/plain": [
              "       minutes_used  messages_used  mb_used  total_revenue\n",
              "count        985.00         985.00   985.00         985.00\n",
              "mean         497.07          49.36 19468.81        2070.15\n",
              "std          299.90          47.80 10087.17         376.19\n",
              "min            0.00           0.00     0.00        1950.00\n",
              "25%          267.75           6.00 11770.26        1950.00\n",
              "50%          488.10          38.00 19308.01        1950.00\n",
              "75%          711.47          79.00 26837.69        1950.00\n",
              "max         1578.06         224.00 49745.69        4800.00"
            ]
          },
          "metadata": {},
          "output_type": "display_data"
        }
      ],
      "source": [
        "display('Данные по пользователям тарифа smart:', calls_messages_internet_analysis_smart.describe())\n",
        "display('Данные по пользователям тарифа ultra:',calls_messages_internet_analysis_ultra.describe())"
      ]
    },
    {
      "cell_type": "markdown",
      "metadata": {
        "id": "vHM9tpurMlh1"
      },
      "source": [
        "Посмотрим на усредненного пользователя по обоим тарифам\n"
      ]
    },
    {
      "cell_type": "code",
      "execution_count": null,
      "metadata": {
        "scrolled": false,
        "id": "uxkvhKZNMlh1",
        "outputId": "1b8ace59-3e1f-4d51-9d8b-27c5af72ab30"
      },
      "outputs": [
        {
          "data": {
            "text/plain": [
              "'Данные по усредненному пользователю:'"
            ]
          },
          "metadata": {},
          "output_type": "display_data"
        },
        {
          "data": {
            "text/html": [
              "<div>\n",
              "<style scoped>\n",
              "    .dataframe tbody tr th:only-of-type {\n",
              "        vertical-align: middle;\n",
              "    }\n",
              "\n",
              "    .dataframe tbody tr th {\n",
              "        vertical-align: top;\n",
              "    }\n",
              "\n",
              "    .dataframe thead th {\n",
              "        text-align: right;\n",
              "    }\n",
              "</style>\n",
              "<table border=\"1\" class=\"dataframe\">\n",
              "  <thead>\n",
              "    <tr style=\"text-align: right;\">\n",
              "      <th></th>\n",
              "      <th>mb_used_mean</th>\n",
              "      <th>messages_used_mean</th>\n",
              "      <th>minutes_used_mean</th>\n",
              "      <th>total_revenue_mean</th>\n",
              "    </tr>\n",
              "    <tr>\n",
              "      <th>tariff</th>\n",
              "      <th></th>\n",
              "      <th></th>\n",
              "      <th></th>\n",
              "      <th></th>\n",
              "    </tr>\n",
              "  </thead>\n",
              "  <tbody>\n",
              "    <tr>\n",
              "      <th>smart</th>\n",
              "      <td>16208.39</td>\n",
              "      <td>33.38</td>\n",
              "      <td>394.43</td>\n",
              "      <td>1257.16</td>\n",
              "    </tr>\n",
              "    <tr>\n",
              "      <th>ultra</th>\n",
              "      <td>19468.81</td>\n",
              "      <td>49.36</td>\n",
              "      <td>497.07</td>\n",
              "      <td>2070.15</td>\n",
              "    </tr>\n",
              "  </tbody>\n",
              "</table>\n",
              "</div>"
            ],
            "text/plain": [
              "        mb_used_mean  messages_used_mean  minutes_used_mean  \\\n",
              "tariff                                                        \n",
              "smart       16208.39               33.38             394.43   \n",
              "ultra       19468.81               49.36             497.07   \n",
              "\n",
              "        total_revenue_mean  \n",
              "tariff                      \n",
              "smart              1257.16  \n",
              "ultra              2070.15  "
            ]
          },
          "metadata": {},
          "output_type": "display_data"
        }
      ],
      "source": [
        "calls_messages_internet_analysis_pivot = calls_messages_internet_analysis.pivot_table(index='tariff', values=['minutes_used', 'messages_used', 'mb_used','total_revenue'], aggfunc='mean')\n",
        "calls_messages_internet_analysis_pivot.columns = ['mb_used_mean', 'messages_used_mean','minutes_used_mean','total_revenue_mean']\n",
        "display('Данные по усредненному пользователю:', calls_messages_internet_analysis_pivot)"
      ]
    },
    {
      "cell_type": "markdown",
      "metadata": {
        "id": "UIZfnrXSMlh1"
      },
      "source": [
        "Посчитаем дисперсию по имеющейся выборке и стандартное отклонение"
      ]
    },
    {
      "cell_type": "code",
      "execution_count": null,
      "metadata": {
        "id": "guHd2K6EMlh2",
        "outputId": "ee807c6c-c292-46e3-b786-deaa6847b1a0"
      },
      "outputs": [
        {
          "data": {
            "text/plain": [
              "'Средние значение по тарифу smart'"
            ]
          },
          "metadata": {},
          "output_type": "display_data"
        },
        {
          "data": {
            "text/plain": [
              "minutes_used      394.43\n",
              "messages_used      33.38\n",
              "mb_used         16208.39\n",
              "total_revenue    1257.16\n",
              "dtype: float64"
            ]
          },
          "metadata": {},
          "output_type": "display_data"
        },
        {
          "data": {
            "text/plain": [
              "'Дисперсия по выборке по тарифу smart:'"
            ]
          },
          "metadata": {},
          "output_type": "display_data"
        },
        {
          "data": {
            "text/plain": [
              "minutes_used       32386.40\n",
              "messages_used        796.81\n",
              "mb_used         34462496.46\n",
              "total_revenue     641149.07\n",
              "dtype: float64"
            ]
          },
          "metadata": {},
          "output_type": "display_data"
        },
        {
          "data": {
            "text/plain": [
              "'Стандартное отклонение по выборке по тарифу smart:'"
            ]
          },
          "metadata": {},
          "output_type": "display_data"
        },
        {
          "data": {
            "text/plain": [
              "minutes_used     179.96\n",
              "messages_used     28.23\n",
              "mb_used         5870.48\n",
              "total_revenue    800.72\n",
              "dtype: float64"
            ]
          },
          "metadata": {},
          "output_type": "display_data"
        },
        {
          "data": {
            "text/plain": [
              "'Средние значение по тарифу ultra'"
            ]
          },
          "metadata": {},
          "output_type": "display_data"
        },
        {
          "data": {
            "text/plain": [
              "minutes_used      497.07\n",
              "messages_used      49.36\n",
              "mb_used         19468.81\n",
              "total_revenue    2070.15\n",
              "dtype: float64"
            ]
          },
          "metadata": {},
          "output_type": "display_data"
        },
        {
          "data": {
            "text/plain": [
              "'Дисперсия по выборке по тарифу ultra:'"
            ]
          },
          "metadata": {},
          "output_type": "display_data"
        },
        {
          "data": {
            "text/plain": [
              "minutes_used        89942.50\n",
              "messages_used        2285.27\n",
              "mb_used         101751013.78\n",
              "total_revenue      141516.75\n",
              "dtype: float64"
            ]
          },
          "metadata": {},
          "output_type": "display_data"
        },
        {
          "data": {
            "text/plain": [
              "'Стандартное отклонение по тарифу ultra:'"
            ]
          },
          "metadata": {},
          "output_type": "display_data"
        },
        {
          "data": {
            "text/plain": [
              "minutes_used      299.90\n",
              "messages_used      47.80\n",
              "mb_used         10087.17\n",
              "total_revenue     376.19\n",
              "dtype: float64"
            ]
          },
          "metadata": {},
          "output_type": "display_data"
        }
      ],
      "source": [
        "variance_estimate_smart = np.var(calls_messages_internet_analysis_smart, ddof=1)\n",
        "standard_deviation_smart = np.std(calls_messages_internet_analysis_smart, ddof=1)\n",
        "display('Средние значение по тарифу smart', calls_messages_internet_analysis_smart.mean())\n",
        "display('Дисперсия по выборке по тарифу smart:', variance_estimate_smart)\n",
        "display('Стандартное отклонение по выборке по тарифу smart:', standard_deviation_smart)\n",
        "\n",
        "variance_estimate_ultra = np.var(calls_messages_internet_analysis_ultra, ddof=1)\n",
        "standard_deviation_ultra = np.std(calls_messages_internet_analysis_ultra, ddof=1)\n",
        "display('Средние значение по тарифу ultra', calls_messages_internet_analysis_ultra.mean())\n",
        "display('Дисперсия по выборке по тарифу ultra:', variance_estimate_ultra)\n",
        "display('Стандартное отклонение по тарифу ultra:', standard_deviation_ultra)"
      ]
    },
    {
      "cell_type": "markdown",
      "metadata": {
        "id": "qjr_dH_dMlh2"
      },
      "source": [
        "Посчитаем значения по правилу трех сигм для тарифа smart"
      ]
    },
    {
      "cell_type": "code",
      "execution_count": null,
      "metadata": {
        "id": "E3Kr0Y6_Mlh2",
        "outputId": "9ddedb51-3cc3-482e-a3af-efc1fa51b3ed"
      },
      "outputs": [
        {
          "name": "stdout",
          "output_type": "stream",
          "text": [
            "Правило трех сигм (minutes_used_smart): 934.31\n",
            "Правило трех сигм (messages_used_smart): 192.76\n",
            "Правило трех сигм (mb_used_smart): 37080.25\n",
            "Правило трех сигм (total_revenue_smart): 3659.3199999999997\n"
          ]
        }
      ],
      "source": [
        "three_sigma_minutes_used_smart = 394.43 + 3 * 179.96\n",
        "three_sigma_messages_used_smart = 49.36 + 3 * 47.80\n",
        "three_sigma_mb_used_smart = 19468.81 + 3 * 5870.48\n",
        "three_sigma_total_revenue_smart = 1257.16 + 3 * 800.72\n",
        "print('Правило трех сигм (minutes_used_smart):',three_sigma_minutes_used_smart)\n",
        "print('Правило трех сигм (messages_used_smart):',three_sigma_messages_used_smart)\n",
        "print('Правило трех сигм (mb_used_smart):',three_sigma_mb_used_smart)\n",
        "print('Правило трех сигм (total_revenue_smart):',three_sigma_total_revenue_smart)"
      ]
    },
    {
      "cell_type": "markdown",
      "metadata": {
        "id": "HpxNVUt5Mlh3"
      },
      "source": [
        "Посчитаем значения по правилу трех сигм для тарифа ultra"
      ]
    },
    {
      "cell_type": "code",
      "execution_count": null,
      "metadata": {
        "id": "DU_ebO9UMlh3",
        "outputId": "a3c630b1-d39d-4a5c-cdc7-d2d2d9a7f103"
      },
      "outputs": [
        {
          "name": "stdout",
          "output_type": "stream",
          "text": [
            "Правило трех сигм (minutes_used_ultra): 1396.77\n",
            "Правило трех сигм (messages_used_ultra): 192.76\n",
            "Правило трех сигм (mb_used_ultra): 49730.32000000001\n",
            "Правило трех сигм (total_revenue_ultra): 3198.7200000000003\n"
          ]
        }
      ],
      "source": [
        "three_sigma_minutes_used_ultra = 497.07 + 3 * 299.90\n",
        "three_sigma_messages_used_ultra = 49.36 + 3 * 47.80\n",
        "three_sigma_mb_used_ultra = 19468.81 + 3 * 10087.17\n",
        "three_sigma_total_revenue_ultra = 2070.15 + 3 * 376.19\n",
        "print('Правило трех сигм (minutes_used_ultra):',three_sigma_minutes_used_ultra)\n",
        "print('Правило трех сигм (messages_used_ultra):',three_sigma_messages_used_ultra)\n",
        "print('Правило трех сигм (mb_used_ultra):',three_sigma_mb_used_ultra)\n",
        "print('Правило трех сигм (total_revenue_ultra):',three_sigma_total_revenue_ultra)"
      ]
    },
    {
      "cell_type": "markdown",
      "metadata": {
        "id": "Y-ZsJ0JBMlh3"
      },
      "source": [
        "Автоматизируем построение гистограмм для тарифа smart"
      ]
    },
    {
      "cell_type": "code",
      "execution_count": null,
      "metadata": {
        "id": "2YE_9RcQMlh3",
        "outputId": "71baed14-66ae-461d-cc39-5a8622181c9b"
      },
      "outputs": [
        {
          "name": "stdout",
          "output_type": "stream",
          "text": [
            "Гистограммы тарифа smart\n"
          ]
        },
        {
          "data": {
            "image/png": "[encoded data removed]",
            "text/plain": [
              "<Figure size 1152x1152 with 4 Axes>"
            ]
          },
          "metadata": {
            "needs_background": "light"
          },
          "output_type": "display_data"
        }
      ],
      "source": [
        "print('Гистограммы тарифа smart')\n",
        "count = 0\n",
        "for columns in calls_messages_internet_analysis_smart:\n",
        "    columnSeriesObj = calls_messages_internet_analysis_smart[columns]\n",
        "    if columnSeriesObj.dtypes != object:\n",
        "            count +=1\n",
        "fig,axes=plt.subplots(count, figsize=(16,16))\n",
        "\n",
        "counter = -1\n",
        "for columns in calls_messages_internet_analysis_smart:\n",
        "    columnSeriesObj = calls_messages_internet_analysis_smart[columns]\n",
        "    if columnSeriesObj.dtypes != object:\n",
        "        counter += 1\n",
        "        try:\n",
        "            sns.histplot(columnSeriesObj, ax=axes[counter])\n",
        "        except:\n",
        "            sns.histplot(columnSeriesObj, ax=axes[counter], kde=False)\n",
        ""
      ]
    },
    {
      "cell_type": "markdown",
      "metadata": {
        "id": "2CpsMHyeMlh3"
      },
      "source": [
        "Автоматизируем построение гистограмм для тарифа ultra"
      ]
    },
    {
      "cell_type": "code",
      "execution_count": null,
      "metadata": {
        "id": "rGbohYnoMlh3",
        "outputId": "73ecaeb8-1758-4b30-e501-a041456b593b"
      },
      "outputs": [
        {
          "name": "stdout",
          "output_type": "stream",
          "text": [
            "Гистограммы тарифа ultra\n"
          ]
        },
        {
          "data": {
            "image/png": "[encoded data removed]",
            "text/plain": [
              "<Figure size 1152x1152 with 4 Axes>"
            ]
          },
          "metadata": {
            "needs_background": "light"
          },
          "output_type": "display_data"
        }
      ],
      "source": [
        "print('Гистограммы тарифа ultra')\n",
        "count = 0\n",
        "for columns in calls_messages_internet_analysis_ultra:\n",
        "    columnSeriesObj = calls_messages_internet_analysis_ultra[columns]\n",
        "    if columnSeriesObj.dtypes != object:\n",
        "            count +=1\n",
        "fig,axes=plt.subplots(count, figsize=(16,16))\n",
        "\n",
        "counter = -1\n",
        "for columns in calls_messages_internet_analysis_ultra:\n",
        "    columnSeriesObj = calls_messages_internet_analysis_ultra[columns]\n",
        "    if columnSeriesObj.dtypes != object:\n",
        "        counter += 1\n",
        "        try:\n",
        "            sns.histplot(columnSeriesObj, ax=axes[counter])\n",
        "        except:\n",
        "\n",
        "            sns.histplot(columnSeriesObj, ax=axes[counter], kde=False)"
      ]
    },
    {
      "cell_type": "markdown",
      "metadata": {
        "id": "5zM-Z5IpMlh4"
      },
      "source": [
        "Построим совмещенные гистграммы для тарифов smart и ultra (для наглядности)"
      ]
    },
    {
      "cell_type": "code",
      "execution_count": null,
      "metadata": {
        "scrolled": false,
        "id": "TAUb79ymMlh4",
        "outputId": "d690f301-fd05-4026-cc24-834e215ed465"
      },
      "outputs": [
        {
          "data": {
            "text/plain": [
              "<AxesSubplot:ylabel='Frequency'>"
            ]
          },
          "execution_count": 55,
          "metadata": {},
          "output_type": "execute_result"
        },
        {
          "data": {
            "image/png": "[encoded data removed]",
            "text/plain": [
              "<Figure size 432x288 with 1 Axes>"
            ]
          },
          "metadata": {
            "needs_background": "light"
          },
          "output_type": "display_data"
        },
        {
          "data": {
            "image/png": "[encoded data removed]",
            "text/plain": [
              "<Figure size 432x288 with 1 Axes>"
            ]
          },
          "metadata": {
            "needs_background": "light"
          },
          "output_type": "display_data"
        },
        {
          "data": {
            "image/png": "[encoded data removed]",
            "text/plain": [
              "<Figure size 432x288 with 1 Axes>"
            ]
          },
          "metadata": {
            "needs_background": "light"
          },
          "output_type": "display_data"
        },
        {
          "data": {
            "image/png": "[encoded data removed]",
            "text/plain": [
              "<Figure size 432x288 with 1 Axes>"
            ]
          },
          "metadata": {
            "needs_background": "light"
          },
          "output_type": "display_data"
        }
      ],
      "source": [
        "ax_minutes_used_smart = calls_messages_internet_analysis_smart.plot(kind='hist', y='minutes_used', histtype='step', range=(0, 2500), bins=100, linewidth=2, alpha=0.7, label='smart')\n",
        "ax_messages_used_smart = calls_messages_internet_analysis_smart.plot(kind='hist', y='messages_used', histtype='step', range=(0, 250), bins=100, linewidth=2, alpha=0.7, label='smart')\n",
        "ax_mb_used_smart = calls_messages_internet_analysis_smart.plot(kind='hist', y='mb_used', histtype='step', range=(0, 60000), bins=100, linewidth=2, alpha=0.7, label='smart')\n",
        "ax_total_revenue_smart = calls_messages_internet_analysis_smart.plot(kind='hist', y='total_revenue', histtype='step', range=(0, 8000), bins=100, linewidth=2, alpha=0.7, label='smart')\n",
        "\n",
        "calls_messages_internet_analysis_ultra.plot(kind='hist', y='minutes_used', histtype='step', range=(0, 2500), bins=100, linewidth=2, alpha=0.7, label='ultra', ax=ax_minutes_used_smart, grid=True, legend=True)\n",
        "calls_messages_internet_analysis_ultra.plot(kind='hist', y='messages_used', histtype='step', range=(0, 250), bins=100, linewidth=2, alpha=0.7, label='ultra', ax=ax_messages_used_smart, grid=True, legend=True)\n",
        "calls_messages_internet_analysis_ultra.plot(kind='hist', y='mb_used', histtype='step', range=(0, 60000), bins=100, linewidth=2, alpha=0.7, label='ultra', ax=ax_mb_used_smart, grid=True, legend=True)\n",
        "calls_messages_internet_analysis_ultra.plot(kind='hist', y='total_revenue', histtype='step', range=(0, 8000), bins=100, linewidth=2, alpha=0.7, label='ultra', ax=ax_total_revenue_smart, grid=True, legend=True)"
      ]
    },
    {
      "cell_type": "markdown",
      "metadata": {
        "id": "iiMrwmScMlh4"
      },
      "source": [
        "Определим характерный разброс, построив диаграммы межквартильного размаха для тарифа smart"
      ]
    },
    {
      "cell_type": "code",
      "execution_count": null,
      "metadata": {
        "scrolled": false,
        "id": "B3C_O3WoMlh4",
        "outputId": "e1b48930-947c-4695-c052-4d6e5473000b"
      },
      "outputs": [
        {
          "data": {
            "image/png": "[encoded data removed]",
            "text/plain": [
              "<Figure size 1152x648 with 4 Axes>"
            ]
          },
          "metadata": {
            "needs_background": "light"
          },
          "output_type": "display_data"
        }
      ],
      "source": [
        "count = 0\n",
        "for columns in calls_messages_internet_analysis_smart:\n",
        "    columnSeriesObj = calls_messages_internet_analysis_smart[columns]\n",
        "    if columnSeriesObj.dtypes != object:\n",
        "            count +=1\n",
        "fig,axes=plt.subplots(count, figsize=(16,9))\n",
        "\n",
        "counter = -1\n",
        "for columns in calls_messages_internet_analysis_smart:\n",
        "    columnSeriesObj = calls_messages_internet_analysis_smart[columns]\n",
        "    if columnSeriesObj.dtypes != object:\n",
        "        counter += 1\n",
        "        try:\n",
        "            sns.boxplot(x=columnSeriesObj, ax=axes[counter])\n",
        "        except:\n",
        "            sns.boxplot(x=columnSeriesObj, ax=axes[counter], kde=False)"
      ]
    },
    {
      "cell_type": "markdown",
      "metadata": {
        "id": "uLMY9-ZDMlh4"
      },
      "source": [
        "Определим характерный разброс, построив диаграммы межквартильного размаха для тарифа ultra"
      ]
    },
    {
      "cell_type": "code",
      "execution_count": null,
      "metadata": {
        "id": "S4iOcoFSMlh5",
        "outputId": "cb2b9cdc-0952-4bb0-c7b3-33374b82095b"
      },
      "outputs": [
        {
          "data": {
            "image/png": "[encoded data removed]",
            "text/plain": [
              "<Figure size 1152x648 with 4 Axes>"
            ]
          },
          "metadata": {
            "needs_background": "light"
          },
          "output_type": "display_data"
        }
      ],
      "source": [
        "count = 0\n",
        "for columns in calls_messages_internet_analysis_ultra:\n",
        "    columnSeriesObj = calls_messages_internet_analysis_ultra[columns]\n",
        "    if columnSeriesObj.dtypes != object:\n",
        "            count +=1\n",
        "fig,axes=plt.subplots(count, figsize=(16,9))\n",
        "\n",
        "counter = -1\n",
        "for columns in calls_messages_internet_analysis_ultra:\n",
        "    columnSeriesObj = calls_messages_internet_analysis_ultra[columns]\n",
        "    if columnSeriesObj.dtypes != object:\n",
        "        counter += 1\n",
        "        try:\n",
        "            sns.boxplot(x=columnSeriesObj, ax=axes[counter])\n",
        "        except:\n",
        "            sns.boxplot(x=columnSeriesObj, ax=axes[counter], kde=False)"
      ]
    },
    {
      "cell_type": "markdown",
      "metadata": {
        "id": "XQL-dYNtMlh5"
      },
      "source": [
        "### Вывод  \n",
        "\n",
        "**Параметры среднестатистической пользователя тарифа smart (выборка из 351 чел.):**\n",
        " - количество использованных минут, шт.: 395 (79% лимита тарифного плата)\n",
        " - количество использованных сообщений, шт.: 33 (66% лимита тарифного плата)\n",
        " - объем использованного интернет-траффика, Мб.: 16208 (108% лимита тарифного плата)\n",
        " - средний расход на услуги связи, руб. : 1258 (228 % стоимости тарифа)\n",
        "\n",
        "**Параметры среднестатистической пользователя тарифа ultra (выборка из 149 чел.):**\n",
        " - количество использованных минут, шт.: 498 (16% лимита тарифного плата)\n",
        " - количество использованных сообщений, шт.: 49 (5% лимита тарифного плата)\n",
        " - объем использованного интернет-траффика, мб.: 19469 (64% лимита тарифного плата)\n",
        " - средний расход на услуги связи, руб. : 2070 (94 % стоимости тарифа)\n",
        "  \n",
        "  \n",
        "\n",
        "**Анализ гистограмм и диаграмм межквартильного размаха**:  \n",
        "\n",
        "`Анализ тарифа smart`\n",
        " - minutes_used: график похож на нормальное распределение, большинство значений находятся в диапазоне от 267 до 515 минут. Выбросы начинаются после 900 минут. На среднее не влияют.\n",
        " - messages_used: график похож на нормальное распределение, но датасет немного скошен вправо - на среднее значение влияет большое количество месяцев, когда пользователи практически не отправляли смс. большинство значений находятся в диапазоне от 10 до 50 смс. Выбросы начинаются после 110 смс.\n",
        " - mb_used: график похож похож на нормальное распределение, большинство значений находятся в диапазоне от 12 до 20 гб. Выбросы есть до 2,5 гб. и после 32 гб. На среднее не влияют.\n",
        " - total_revenue: график похож на нормальное распределение, всплеск виден у значения 550 (много пользователей укладываются в лимиты). Большинство значений находятся в интервале 900 - 1700 р (переплачивают за услуги). Выбросы начинаются после 3500 р. На среднее не влияют.\n",
        "\n",
        "`Анализ тарифа ultra`\n",
        " - minutes_used: график похож на нормальное распределение, большинство значений находятся в диапазоне от 267 до 711 минут. Выбросы начинаются после 1370 минут. На среднее не влияют.\n",
        " - messages_used: график похож на нормальное распределение, но датасет немного скошен вправо - на среднее значение влияет большое количество месяцев, когда пользователи практически не отправляли смс. большинство значений находятся в диапазоне от 6 до 80 смс. Выбросы начинаются после 180 смс.\n",
        " - mb_used: график похож похож на нормальное распределение, большинство значений находятся в диапазоне от 12 до 27 гб. Выбросы начинаются после 48 гб. На среднее не влияют.\n",
        " - total_revenue: график НЕ ПОХОЖ на нормальное распределение, всплеск у значения 1950 р (абслолютное большинство пользователей укладываются в лимиты). Выбросы начинаются после 3450 р. На среднее не влияют.\n",
        "\n",
        "**Общий вывод**: пользователи тарифного плана smart в месяц в среднем выговаривают на 103 минут меньше, чем пользователь тарифа ultra (395 и 498 минут соответственно), отправляют на 16 смс меньше (33 - 49 смс), потребляют практически равное количество (~ 20 Гб) интернет траффика при схожих расходах на связь (1250р у тарифыа smart, 2000р у тарифа ultra ). В тарифе smart основным источником перерасхода является интернет. Равно, как и в тарифе ultra (но у небольшого числа абонентов).\n",
        "Снизив потребление интернета на 5 гигабайт, среднестатистический пользователь мог бы в 2,5 раза снизить траты на услуги мобильной связи (перейти на тариф smart)."
      ]
    },
    {
      "cell_type": "markdown",
      "metadata": {
        "id": "wgPmrvrQMlh5"
      },
      "source": [
        "## Шаг 4. Проверьте гипотезы\n"
      ]
    },
    {
      "cell_type": "markdown",
      "metadata": {
        "id": "RMpvQvxlMlh5"
      },
      "source": [
        "### Проверим гипотезу, что средняя выручка пользователей тарифов «Ультра» и «Смарт» различается.  \n",
        " - Сформулируем нулевую гипотезу H₀ - \"средняя выручка пользователей тарифов «Ультра» и «Смарт» равна\";\n",
        " - Альтернативная гипотеза H₁ - \"средняя выручка пользователей тарифов «Ультра» и «Смарт» не равна\".\n"
      ]
    },
    {
      "cell_type": "markdown",
      "metadata": {
        "id": "dszWE8c8Mlh5"
      },
      "source": [
        "Применим гипотезу о равенстве средних двух генеральных совокупностей"
      ]
    },
    {
      "cell_type": "code",
      "execution_count": null,
      "metadata": {
        "scrolled": true,
        "id": "b_OwrAVRMlh6",
        "outputId": "9d771eab-bd9c-4ca3-d4e1-ce699dc3c76e"
      },
      "outputs": [
        {
          "name": "stdout",
          "output_type": "stream",
          "text": [
            "p-значение: 8.813878364275262e-179\n",
            "Отвергаем нулевую гипотезу\n"
          ]
        }
      ],
      "source": [
        "# средняя выручка пользователей тарифа smart\n",
        "total_revenue_smart = calls_messages_internet_analysis_smart['total_revenue']\n",
        "\n",
        "# средняя выручка пользователей тарифа ultra\n",
        "total_revenue_ultra = calls_messages_internet_analysis_ultra['total_revenue']\n",
        "\n",
        "alpha = 0.05 # зададим критический уровень статистической значимости\n",
        "\n",
        "results = st.ttest_ind(\n",
        "    total_revenue_smart,\n",
        "    total_revenue_ultra) # проверим гипотезу о равенстве средних двух независимых совокупностей\n",
        "\n",
        "print('p-значение:', results.pvalue) # выведем на экран получившеся p-значение\n",
        "\n",
        "if (results.pvalue < alpha): # сравним получившееся p-значение с заданным уровнем статистической значимости\n",
        "    print(\"Отвергаем нулевую гипотезу\")\n",
        "else:\n",
        "    print(\"Не получилось отвергнуть нулевую гипотезу\")"
      ]
    },
    {
      "cell_type": "markdown",
      "metadata": {
        "id": "qUa6JplDMlh6"
      },
      "source": [
        "#### Вывод:  \n",
        " - Нулевую гипотезу отвергаем - средняя выручка пользователей тарифов «Ультра» и «Смарт» различны."
      ]
    },
    {
      "cell_type": "markdown",
      "metadata": {
        "id": "S5_qfZnwMlh6"
      },
      "source": [
        "### Проверим гипотезу, средняя выручка пользователей из Москвы отличается от выручки пользователей из других регионов.\n",
        " - Сформулируем нулевую гипотезу H₀ - \"средняя выручка пользователей из Москвы и пользователей из других регионов равна\";\n",
        " - Альтернативная гипотеза H₁ - \"средняя выручка пользователей из Москвы и пользователей из других регионов не равна\"."
      ]
    },
    {
      "cell_type": "markdown",
      "metadata": {
        "id": "8cggiRYxMlh7"
      },
      "source": [
        "Для этого создадим совмещенную таблицу `total_revenue_city` с полями **user_id, city_id и total_revenue**"
      ]
    },
    {
      "cell_type": "code",
      "execution_count": null,
      "metadata": {
        "id": "YeaDxYKeMlh7"
      },
      "outputs": [],
      "source": [
        "user_id_total_revenue = calls_messages_internet[['user_id', 'total_revenue']]\n",
        "user_id_total_revenue_city = user_id_total_revenue.merge(users_updated[['user_id', 'city_id']], on='user_id', how='left')"
      ]
    },
    {
      "cell_type": "markdown",
      "metadata": {
        "id": "E7wAxi3wMlh8"
      },
      "source": [
        "Определим city_id для Москвы из словаря `city_dict`"
      ]
    },
    {
      "cell_type": "code",
      "execution_count": null,
      "metadata": {
        "id": "KQgJK579Mlh8",
        "outputId": "de0e33a3-732d-4fae-f32f-c6e74cce1b45"
      },
      "outputs": [
        {
          "data": {
            "text/html": [
              "<div>\n",
              "<style scoped>\n",
              "    .dataframe tbody tr th:only-of-type {\n",
              "        vertical-align: middle;\n",
              "    }\n",
              "\n",
              "    .dataframe tbody tr th {\n",
              "        vertical-align: top;\n",
              "    }\n",
              "\n",
              "    .dataframe thead th {\n",
              "        text-align: right;\n",
              "    }\n",
              "</style>\n",
              "<table border=\"1\" class=\"dataframe\">\n",
              "  <thead>\n",
              "    <tr style=\"text-align: right;\">\n",
              "      <th></th>\n",
              "      <th>city</th>\n",
              "      <th>city_id</th>\n",
              "    </tr>\n",
              "  </thead>\n",
              "  <tbody>\n",
              "    <tr>\n",
              "      <th>31</th>\n",
              "      <td>Москва</td>\n",
              "      <td>31</td>\n",
              "    </tr>\n",
              "  </tbody>\n",
              "</table>\n",
              "</div>"
            ],
            "text/plain": [
              "      city  city_id\n",
              "31  Москва       31"
            ]
          },
          "metadata": {},
          "output_type": "display_data"
        }
      ],
      "source": [
        "display(city_dict.query('city == \"Москва\"'))"
      ]
    },
    {
      "cell_type": "markdown",
      "metadata": {
        "id": "EO71uBCzMlh8"
      },
      "source": [
        "Создадим таблицы, отфильтрованные по значению **Москва** и **не Москва**\n"
      ]
    },
    {
      "cell_type": "code",
      "execution_count": null,
      "metadata": {
        "id": "I6929JHEMlh8"
      },
      "outputs": [],
      "source": [
        "user_id_total_revenue_city_moscow = user_id_total_revenue_city.query('city_id == 31')\n",
        "user_id_total_revenue_city_others = user_id_total_revenue_city.query('city_id != 31')"
      ]
    },
    {
      "cell_type": "code",
      "execution_count": null,
      "metadata": {
        "id": "5BTXlzFZMlh8",
        "outputId": "96d22201-6aee-46a6-af5c-d0a2d15177b0"
      },
      "outputs": [
        {
          "name": "stdout",
          "output_type": "stream",
          "text": [
            "p-значение: 0.48244885168123475\n",
            "Не получилось отвергнуть нулевую гипотезу\n"
          ]
        }
      ],
      "source": [
        "# средняя выручка пользователей Москвы\n",
        "total_revenue_moscow = user_id_total_revenue_city_moscow['total_revenue']\n",
        "\n",
        "# средняя выручка пользователей других населенных пунктов\n",
        "total_revenue_others = user_id_total_revenue_city_others['total_revenue']\n",
        "\n",
        "alpha = 0.05 # зададим критический уровень статистической значимости\n",
        "\n",
        "results = st.ttest_ind(\n",
        "    total_revenue_moscow,\n",
        "    total_revenue_others) # проверим гипотезу о равенстве средних двух независимых совокупностей\n",
        "\n",
        "print('p-значение:', results.pvalue) # выведем на экран получившееся p-значение\n",
        "\n",
        "if (results.pvalue < alpha): # сравним получившееся p-значение с заданным уровнем статистической значимости\n",
        "    print(\"Отвергаем нулевую гипотезу\")\n",
        "else:\n",
        "    print(\"Не получилось отвергнуть нулевую гипотезу\")"
      ]
    },
    {
      "cell_type": "markdown",
      "metadata": {
        "id": "NOxMSVPXMlh9"
      },
      "source": [
        "#### Вывод:  \n",
        "Не получилось отвергнуть нулевую гипотезу. Полученное значение p-value говорит о том, что хотя средняя выручка от пользователей из Москвы и других городов неодинакова (1990р и 2022р), с вероятностью в почти 48% такое или большее различие можно получить случайно. Это явно слишком большая вероятность, чтобы делать вывод о значимом различии между средней выручкой."
      ]
    },
    {
      "cell_type": "markdown",
      "metadata": {
        "id": "0BtmJUj1Mlh9"
      },
      "source": [
        "## Шаг 5. Общий вывод:"
      ]
    },
    {
      "cell_type": "markdown",
      "metadata": {
        "id": "78RgxmPFMlh9"
      },
      "source": [
        "После проведения анализа ясно, что данные были достаточно корректны. Имеющиеся выбросы практически не влияли на полученные результаты.\n",
        "\n",
        "Параметры среднестатистической пользователя тарифа smart (выборка из 351 чел.):\n",
        " - количество использованных минут, шт.: 395 (79% лимита тарифного плата). Большинстко пользователей потребляют от 355 до 675 минут ежемесячно.\n",
        " - количество использованных сообщений, шт.: 33 (66% лимита тарифного плата). Большинстко пользователей отсылают от 10 до 50 смс ежемесячно, хотя бывает, что в некоторые месяцы смс пользуются минимально.\n",
        " - объем использованного интернет-траффика, Мб.: 16208 (108% лимита тарифного плата). Большинство пользователей потребляет от 15 до 25 гб в месяц.\n",
        " - средний расход на услуги связи, руб. : 1258 (228 % стоимости тарифа). Многие укладываются в 550 р, но в среднем большинство пользователей платит от 900 до 2700р (переплачивают за услуги).\n",
        "\n",
        "\n",
        "Параметры среднестатистической пользователя тарифа ultra (выборка из 149 чел.):\n",
        " - количество использованных минут, шт.: 498 (16% лимита тарифного плата). Большинстко пользователей потребляют от 355 до 923 минут ежемесячно.\n",
        " - количество использованных сообщений, шт.: 49 (5% лимита тарифного плата). Большинстко пользователей отсылают от 6 до 80 смс ежемесячно, хотя бывает, что в некоторые месяцы смс пользуются минимально.\n",
        " - объем использованного интернет-траффика, мб.: 19469 (64% лимита тарифного плата). Большинство пользователей потребляет от 12 до 28 гб в месяц.\n",
        " - средний расход на услуги связи, руб. : 2070 (94 % стоимости тарифа).\n",
        " - Абслоютное большинство пользователей платит стандартные 1950р и полностью укладываются в лимиты тарифного плана.\n",
        "\n",
        "\n",
        "Мы отвергли нулевую гипотезу, что средняя выручка пользователей тарифов «Ультра» и «Смарт» равна;\n",
        "У нас не получилось отвергнуть нулевую гипотезу, что средняя выручка пользователей из Москвы и пользователей из других регионов равна.\n",
        "\n",
        "**Дополнительные выводы**:\n",
        "- пользователи тарифного плана smart в месяц в среднем выговаривают на 103 минут меньше, чем пользователь тарифа ultra (395 и 498 минут соответственно), отправляют на 16 смс меньше (33 - 49 смс), по потребляют практически равное количество (~ 20 Гб) интернет траффика при схожих расходах на связь (1250р у тарифыа smart, 2000р у тарифа ultra). В тарифе smart основным источником перерасхода является интернет. Равно, как и в тарифе ultra (но у небольшого числа абонентов). Снизив потребление интернета на 5 гигабайт, среднестатистический пользователь мог бы в 2,5 раза снизить траты на услуги мобильной связи (перейти на тариф smart).\n",
        "\n",
        "На основе полученных данных, делаем вывод, что приносит больше денег тариф smart (пользователи меньше говорят, отправляют смс и пользуются интернетом, но платят, в среднем, как по тарифу ultra)."
      ]
    }
  ],
  "metadata": {
    "ExecuteTimeLog": [
      {
        "duration": 123,
        "start_time": "2022-04-08T13:12:58.796Z"
      },
      {
        "duration": 116,
        "start_time": "2022-04-08T13:14:11.250Z"
      },
      {
        "duration": 406,
        "start_time": "2022-04-08T13:41:17.299Z"
      },
      {
        "duration": 6,
        "start_time": "2022-04-08T13:42:49.207Z"
      },
      {
        "duration": 8,
        "start_time": "2022-04-08T13:43:05.005Z"
      },
      {
        "duration": 5,
        "start_time": "2022-04-08T13:43:28.349Z"
      },
      {
        "duration": 5,
        "start_time": "2022-04-08T13:54:30.006Z"
      },
      {
        "duration": 62,
        "start_time": "2022-04-08T13:57:13.911Z"
      },
      {
        "duration": 4,
        "start_time": "2022-04-08T13:57:27.096Z"
      },
      {
        "duration": 4,
        "start_time": "2022-04-08T13:58:16.129Z"
      },
      {
        "duration": 10,
        "start_time": "2022-04-08T14:17:01.201Z"
      },
      {
        "duration": 7,
        "start_time": "2022-04-08T14:17:41.728Z"
      },
      {
        "duration": 944,
        "start_time": "2022-04-08T14:18:57.627Z"
      },
      {
        "duration": 50,
        "start_time": "2022-04-08T14:24:55.447Z"
      },
      {
        "duration": 39,
        "start_time": "2022-04-08T14:25:09.911Z"
      },
      {
        "duration": 7,
        "start_time": "2022-04-08T14:25:51.193Z"
      },
      {
        "duration": 11,
        "start_time": "2022-04-08T14:26:23.001Z"
      },
      {
        "duration": 5,
        "start_time": "2022-04-08T14:27:09.794Z"
      },
      {
        "duration": 11,
        "start_time": "2022-04-08T14:27:31.723Z"
      },
      {
        "duration": 103,
        "start_time": "2022-04-08T14:27:34.267Z"
      },
      {
        "duration": 5,
        "start_time": "2022-04-08T14:52:54.412Z"
      },
      {
        "duration": 136,
        "start_time": "2022-04-08T14:56:31.987Z"
      },
      {
        "duration": 11,
        "start_time": "2022-04-08T15:31:24.803Z"
      },
      {
        "duration": 10,
        "start_time": "2022-04-08T15:45:31.669Z"
      },
      {
        "duration": 16,
        "start_time": "2022-04-08T15:53:24.813Z"
      },
      {
        "duration": 215,
        "start_time": "2022-04-08T15:53:55.901Z"
      },
      {
        "duration": 78,
        "start_time": "2022-04-08T16:09:49.468Z"
      },
      {
        "duration": 57,
        "start_time": "2022-04-08T16:10:14.063Z"
      },
      {
        "duration": 110,
        "start_time": "2022-04-08T16:10:35.781Z"
      },
      {
        "duration": 8,
        "start_time": "2022-04-08T16:11:14.133Z"
      },
      {
        "duration": 43,
        "start_time": "2022-04-08T17:10:21.557Z"
      },
      {
        "duration": 173,
        "start_time": "2022-04-08T17:10:47.822Z"
      },
      {
        "duration": 73,
        "start_time": "2022-04-08T17:11:17.721Z"
      },
      {
        "duration": 44,
        "start_time": "2022-04-08T17:12:14.888Z"
      },
      {
        "duration": 59,
        "start_time": "2022-04-08T17:12:31.384Z"
      },
      {
        "duration": 7,
        "start_time": "2022-04-08T17:12:52.178Z"
      },
      {
        "duration": 101,
        "start_time": "2022-04-08T17:19:36.191Z"
      },
      {
        "duration": 108,
        "start_time": "2022-04-08T17:20:22.241Z"
      },
      {
        "duration": 32,
        "start_time": "2022-04-08T17:20:45.650Z"
      },
      {
        "duration": 30,
        "start_time": "2022-04-08T17:20:51.779Z"
      },
      {
        "duration": 36,
        "start_time": "2022-04-08T17:21:04.747Z"
      },
      {
        "duration": 46,
        "start_time": "2022-04-08T17:21:21.476Z"
      },
      {
        "duration": 6,
        "start_time": "2022-04-08T17:21:34.060Z"
      },
      {
        "duration": 12,
        "start_time": "2022-04-08T17:44:55.132Z"
      },
      {
        "duration": 10,
        "start_time": "2022-04-08T17:45:43.876Z"
      },
      {
        "duration": 13,
        "start_time": "2022-04-08T17:46:06.957Z"
      },
      {
        "duration": 9,
        "start_time": "2022-04-08T17:46:08.933Z"
      },
      {
        "duration": 6,
        "start_time": "2022-04-08T17:46:55.703Z"
      },
      {
        "duration": 31,
        "start_time": "2022-04-08T17:47:12.751Z"
      },
      {
        "duration": 24,
        "start_time": "2022-04-08T17:47:35.481Z"
      },
      {
        "duration": 19,
        "start_time": "2022-04-08T17:47:59.106Z"
      },
      {
        "duration": 11,
        "start_time": "2022-04-08T17:49:17.868Z"
      },
      {
        "duration": 10,
        "start_time": "2022-04-08T17:49:23.044Z"
      },
      {
        "duration": 7,
        "start_time": "2022-04-08T17:49:46.694Z"
      },
      {
        "duration": 5,
        "start_time": "2022-04-08T17:50:08.014Z"
      },
      {
        "duration": 21,
        "start_time": "2022-04-08T18:17:50.045Z"
      },
      {
        "duration": 42,
        "start_time": "2022-04-08T18:18:35.598Z"
      },
      {
        "duration": 14,
        "start_time": "2022-04-08T18:19:11.200Z"
      },
      {
        "duration": 26,
        "start_time": "2022-04-08T18:19:47.775Z"
      },
      {
        "duration": 17,
        "start_time": "2022-04-08T18:22:01.317Z"
      },
      {
        "duration": 20,
        "start_time": "2022-04-08T18:22:43.214Z"
      },
      {
        "duration": 11,
        "start_time": "2022-04-08T18:24:30.675Z"
      },
      {
        "duration": 8,
        "start_time": "2022-04-08T18:25:09.316Z"
      },
      {
        "duration": 6,
        "start_time": "2022-04-08T18:25:49.861Z"
      },
      {
        "duration": 2294,
        "start_time": "2022-04-08T18:27:24.649Z"
      },
      {
        "duration": 1663,
        "start_time": "2022-04-08T18:28:47.707Z"
      },
      {
        "duration": 1759,
        "start_time": "2022-04-08T18:29:00.196Z"
      },
      {
        "duration": 41,
        "start_time": "2022-04-08T18:29:58.393Z"
      },
      {
        "duration": 6,
        "start_time": "2022-04-08T18:29:58.436Z"
      },
      {
        "duration": 10,
        "start_time": "2022-04-08T18:29:58.446Z"
      },
      {
        "duration": 9,
        "start_time": "2022-04-08T18:29:58.457Z"
      },
      {
        "duration": 33,
        "start_time": "2022-04-08T18:29:58.500Z"
      },
      {
        "duration": 7,
        "start_time": "2022-04-08T18:29:58.541Z"
      },
      {
        "duration": 9,
        "start_time": "2022-04-08T18:29:58.550Z"
      },
      {
        "duration": 5,
        "start_time": "2022-04-08T18:29:58.560Z"
      },
      {
        "duration": 12,
        "start_time": "2022-04-08T18:29:58.566Z"
      },
      {
        "duration": 197,
        "start_time": "2022-04-08T18:29:58.624Z"
      },
      {
        "duration": 86,
        "start_time": "2022-04-08T18:29:58.823Z"
      },
      {
        "duration": 64,
        "start_time": "2022-04-08T18:29:58.911Z"
      },
      {
        "duration": 105,
        "start_time": "2022-04-08T18:29:58.977Z"
      },
      {
        "duration": 7,
        "start_time": "2022-04-08T18:29:59.084Z"
      },
      {
        "duration": 176,
        "start_time": "2022-04-08T18:29:59.093Z"
      },
      {
        "duration": 78,
        "start_time": "2022-04-08T18:29:59.272Z"
      },
      {
        "duration": 45,
        "start_time": "2022-04-08T18:29:59.352Z"
      },
      {
        "duration": 76,
        "start_time": "2022-04-08T18:29:59.399Z"
      },
      {
        "duration": 8,
        "start_time": "2022-04-08T18:29:59.479Z"
      },
      {
        "duration": 114,
        "start_time": "2022-04-08T18:29:59.489Z"
      },
      {
        "duration": 47,
        "start_time": "2022-04-08T18:29:59.605Z"
      },
      {
        "duration": 38,
        "start_time": "2022-04-08T18:29:59.654Z"
      },
      {
        "duration": 63,
        "start_time": "2022-04-08T18:29:59.694Z"
      },
      {
        "duration": 7,
        "start_time": "2022-04-08T18:29:59.759Z"
      },
      {
        "duration": 14,
        "start_time": "2022-04-08T18:29:59.767Z"
      },
      {
        "duration": 8,
        "start_time": "2022-04-08T18:29:59.783Z"
      },
      {
        "duration": 9,
        "start_time": "2022-04-08T18:29:59.793Z"
      },
      {
        "duration": 6,
        "start_time": "2022-04-08T18:29:59.803Z"
      },
      {
        "duration": 57,
        "start_time": "2022-04-08T18:29:59.810Z"
      },
      {
        "duration": 23,
        "start_time": "2022-04-08T18:29:59.869Z"
      },
      {
        "duration": 19,
        "start_time": "2022-04-08T18:29:59.893Z"
      },
      {
        "duration": 8,
        "start_time": "2022-04-08T18:29:59.914Z"
      },
      {
        "duration": 32,
        "start_time": "2022-04-08T18:29:59.923Z"
      },
      {
        "duration": 11,
        "start_time": "2022-04-08T18:29:59.957Z"
      },
      {
        "duration": 24,
        "start_time": "2022-04-08T18:29:59.970Z"
      },
      {
        "duration": 44,
        "start_time": "2022-04-08T18:29:59.995Z"
      },
      {
        "duration": 15,
        "start_time": "2022-04-08T18:30:00.049Z"
      },
      {
        "duration": 27,
        "start_time": "2022-04-08T18:30:00.066Z"
      },
      {
        "duration": 16,
        "start_time": "2022-04-08T18:30:00.095Z"
      },
      {
        "duration": 41,
        "start_time": "2022-04-08T18:30:00.113Z"
      },
      {
        "duration": 11,
        "start_time": "2022-04-08T18:30:00.155Z"
      },
      {
        "duration": 8,
        "start_time": "2022-04-08T18:30:00.167Z"
      },
      {
        "duration": 7,
        "start_time": "2022-04-08T18:30:00.176Z"
      },
      {
        "duration": 8,
        "start_time": "2022-04-08T18:30:00.185Z"
      },
      {
        "duration": 10,
        "start_time": "2022-04-08T18:30:00.195Z"
      },
      {
        "duration": 12,
        "start_time": "2022-04-08T18:30:21.757Z"
      },
      {
        "duration": 6,
        "start_time": "2022-04-08T18:31:12.767Z"
      },
      {
        "duration": 11,
        "start_time": "2022-04-08T18:35:14.151Z"
      },
      {
        "duration": 11,
        "start_time": "2022-04-08T18:35:20.743Z"
      },
      {
        "duration": 33,
        "start_time": "2022-04-08T18:35:21.591Z"
      },
      {
        "duration": 14,
        "start_time": "2022-04-08T18:35:22.760Z"
      },
      {
        "duration": 31,
        "start_time": "2022-04-08T18:36:10.778Z"
      },
      {
        "duration": 5,
        "start_time": "2022-04-08T18:36:35.163Z"
      },
      {
        "duration": 5,
        "start_time": "2022-04-08T18:36:52.027Z"
      },
      {
        "duration": 35,
        "start_time": "2022-04-08T18:38:09.029Z"
      },
      {
        "duration": 712,
        "start_time": "2022-04-08T18:38:58.305Z"
      },
      {
        "duration": 743,
        "start_time": "2022-04-08T18:40:59.894Z"
      },
      {
        "duration": 629,
        "start_time": "2022-04-08T18:42:27.816Z"
      },
      {
        "duration": 298,
        "start_time": "2022-04-08T18:42:51.720Z"
      },
      {
        "duration": 278,
        "start_time": "2022-04-08T18:44:15.855Z"
      },
      {
        "duration": 5,
        "start_time": "2022-04-08T18:51:31.148Z"
      },
      {
        "duration": 8,
        "start_time": "2022-04-08T18:54:41.825Z"
      },
      {
        "duration": 8,
        "start_time": "2022-04-08T18:56:10.221Z"
      },
      {
        "duration": 8,
        "start_time": "2022-04-08T18:56:13.282Z"
      },
      {
        "duration": 5,
        "start_time": "2022-04-08T18:56:14.886Z"
      },
      {
        "duration": 733,
        "start_time": "2022-04-08T21:23:49.403Z"
      },
      {
        "duration": 1676,
        "start_time": "2022-04-08T21:24:37.827Z"
      },
      {
        "duration": 590,
        "start_time": "2022-04-08T21:25:02.198Z"
      },
      {
        "duration": 677,
        "start_time": "2022-04-08T21:26:46.700Z"
      },
      {
        "duration": 562,
        "start_time": "2022-04-08T21:27:08.185Z"
      },
      {
        "duration": 307,
        "start_time": "2022-04-08T21:27:36.577Z"
      },
      {
        "duration": 272,
        "start_time": "2022-04-08T21:31:13.337Z"
      },
      {
        "duration": 522,
        "start_time": "2022-04-08T21:32:50.828Z"
      },
      {
        "duration": 435,
        "start_time": "2022-04-08T21:33:44.277Z"
      },
      {
        "duration": 440,
        "start_time": "2022-04-08T21:34:48.247Z"
      },
      {
        "duration": 286,
        "start_time": "2022-04-08T21:34:58.039Z"
      },
      {
        "duration": 5,
        "start_time": "2022-04-08T21:36:15.393Z"
      },
      {
        "duration": 6,
        "start_time": "2022-04-08T21:36:20.801Z"
      },
      {
        "duration": 316,
        "start_time": "2022-04-08T21:49:05.507Z"
      },
      {
        "duration": 293,
        "start_time": "2022-04-08T21:49:28.907Z"
      },
      {
        "duration": 279,
        "start_time": "2022-04-08T21:49:54.756Z"
      },
      {
        "duration": 450,
        "start_time": "2022-04-08T21:50:11.438Z"
      },
      {
        "duration": 601,
        "start_time": "2022-04-08T21:55:27.055Z"
      },
      {
        "duration": 508,
        "start_time": "2022-04-08T21:55:59.831Z"
      },
      {
        "duration": 116,
        "start_time": "2022-04-08T22:16:19.895Z"
      },
      {
        "duration": 594,
        "start_time": "2022-04-08T22:16:33.527Z"
      },
      {
        "duration": 718,
        "start_time": "2022-04-08T22:17:12.159Z"
      },
      {
        "duration": 660,
        "start_time": "2022-04-08T22:17:19.625Z"
      },
      {
        "duration": 590,
        "start_time": "2022-04-08T22:17:39.994Z"
      },
      {
        "duration": 609,
        "start_time": "2022-04-08T22:18:05.410Z"
      },
      {
        "duration": 761,
        "start_time": "2022-04-08T22:18:22.963Z"
      },
      {
        "duration": 40,
        "start_time": "2022-04-08T22:24:01.354Z"
      },
      {
        "duration": 6,
        "start_time": "2022-04-08T22:24:01.396Z"
      },
      {
        "duration": 18,
        "start_time": "2022-04-08T22:24:01.404Z"
      },
      {
        "duration": 24,
        "start_time": "2022-04-08T22:24:01.424Z"
      },
      {
        "duration": 52,
        "start_time": "2022-04-08T22:24:01.449Z"
      },
      {
        "duration": 7,
        "start_time": "2022-04-08T22:24:01.503Z"
      },
      {
        "duration": 19,
        "start_time": "2022-04-08T22:24:01.511Z"
      },
      {
        "duration": 19,
        "start_time": "2022-04-08T22:24:01.531Z"
      },
      {
        "duration": 10,
        "start_time": "2022-04-08T22:24:01.552Z"
      },
      {
        "duration": 230,
        "start_time": "2022-04-08T22:24:01.565Z"
      },
      {
        "duration": 99,
        "start_time": "2022-04-08T22:24:01.797Z"
      },
      {
        "duration": 71,
        "start_time": "2022-04-08T22:24:01.898Z"
      },
      {
        "duration": 113,
        "start_time": "2022-04-08T22:24:01.970Z"
      },
      {
        "duration": 8,
        "start_time": "2022-04-08T22:24:02.085Z"
      },
      {
        "duration": 186,
        "start_time": "2022-04-08T22:24:02.094Z"
      },
      {
        "duration": 89,
        "start_time": "2022-04-08T22:24:02.282Z"
      },
      {
        "duration": 44,
        "start_time": "2022-04-08T22:24:02.373Z"
      },
      {
        "duration": 91,
        "start_time": "2022-04-08T22:24:02.419Z"
      },
      {
        "duration": 9,
        "start_time": "2022-04-08T22:24:02.511Z"
      },
      {
        "duration": 114,
        "start_time": "2022-04-08T22:24:02.521Z"
      },
      {
        "duration": 39,
        "start_time": "2022-04-08T22:24:02.637Z"
      },
      {
        "duration": 48,
        "start_time": "2022-04-08T22:24:02.677Z"
      },
      {
        "duration": 59,
        "start_time": "2022-04-08T22:24:02.727Z"
      },
      {
        "duration": 7,
        "start_time": "2022-04-08T22:24:02.788Z"
      },
      {
        "duration": 16,
        "start_time": "2022-04-08T22:24:02.797Z"
      },
      {
        "duration": 12,
        "start_time": "2022-04-08T22:24:02.815Z"
      },
      {
        "duration": 24,
        "start_time": "2022-04-08T22:24:02.828Z"
      },
      {
        "duration": 14,
        "start_time": "2022-04-08T22:24:02.855Z"
      },
      {
        "duration": 45,
        "start_time": "2022-04-08T22:24:02.871Z"
      },
      {
        "duration": 24,
        "start_time": "2022-04-08T22:24:02.918Z"
      },
      {
        "duration": 21,
        "start_time": "2022-04-08T22:24:02.948Z"
      },
      {
        "duration": 10,
        "start_time": "2022-04-08T22:24:02.970Z"
      },
      {
        "duration": 11,
        "start_time": "2022-04-08T22:24:02.982Z"
      },
      {
        "duration": 8,
        "start_time": "2022-04-08T22:24:02.995Z"
      },
      {
        "duration": 45,
        "start_time": "2022-04-08T22:24:03.005Z"
      },
      {
        "duration": 39,
        "start_time": "2022-04-08T22:24:03.052Z"
      },
      {
        "duration": 15,
        "start_time": "2022-04-08T22:24:03.092Z"
      },
      {
        "duration": 49,
        "start_time": "2022-04-08T22:24:03.109Z"
      },
      {
        "duration": 18,
        "start_time": "2022-04-08T22:24:03.160Z"
      },
      {
        "duration": 22,
        "start_time": "2022-04-08T22:24:03.180Z"
      },
      {
        "duration": 12,
        "start_time": "2022-04-08T22:24:03.204Z"
      },
      {
        "duration": 30,
        "start_time": "2022-04-08T22:24:03.218Z"
      },
      {
        "duration": 8,
        "start_time": "2022-04-08T22:24:03.251Z"
      },
      {
        "duration": 6,
        "start_time": "2022-04-08T22:24:03.260Z"
      },
      {
        "duration": 14,
        "start_time": "2022-04-08T22:24:03.267Z"
      },
      {
        "duration": 8,
        "start_time": "2022-04-08T22:24:03.282Z"
      },
      {
        "duration": 9,
        "start_time": "2022-04-08T22:24:03.291Z"
      },
      {
        "duration": 68,
        "start_time": "2022-04-08T22:24:03.302Z"
      },
      {
        "duration": 15,
        "start_time": "2022-04-08T22:24:03.372Z"
      },
      {
        "duration": 66,
        "start_time": "2022-04-08T22:24:03.389Z"
      },
      {
        "duration": 5,
        "start_time": "2022-04-08T22:24:03.457Z"
      },
      {
        "duration": 12,
        "start_time": "2022-04-08T22:24:03.464Z"
      },
      {
        "duration": 648,
        "start_time": "2022-04-08T22:24:03.478Z"
      },
      {
        "duration": 524,
        "start_time": "2022-04-08T22:24:04.128Z"
      },
      {
        "duration": 719,
        "start_time": "2022-04-08T22:24:04.654Z"
      },
      {
        "duration": 323,
        "start_time": "2022-04-08T22:24:05.375Z"
      },
      {
        "duration": 311,
        "start_time": "2022-04-08T22:24:05.700Z"
      },
      {
        "duration": 5,
        "start_time": "2022-04-08T22:24:06.013Z"
      },
      {
        "duration": 12,
        "start_time": "2022-04-08T22:24:06.019Z"
      },
      {
        "duration": 16,
        "start_time": "2022-04-08T22:24:06.032Z"
      },
      {
        "duration": 9,
        "start_time": "2022-04-08T22:24:06.050Z"
      },
      {
        "duration": 4,
        "start_time": "2022-04-08T22:24:06.061Z"
      },
      {
        "duration": 286,
        "start_time": "2022-04-08T22:26:34.457Z"
      },
      {
        "duration": 278,
        "start_time": "2022-04-08T22:26:44.322Z"
      },
      {
        "duration": 926,
        "start_time": "2022-04-08T22:29:07.302Z"
      },
      {
        "duration": 1529,
        "start_time": "2022-04-08T22:29:20.128Z"
      },
      {
        "duration": 584,
        "start_time": "2022-04-08T22:29:45.449Z"
      },
      {
        "duration": 235,
        "start_time": "2022-04-08T22:30:06.523Z"
      },
      {
        "duration": 109,
        "start_time": "2022-04-08T22:30:10.649Z"
      },
      {
        "duration": 578,
        "start_time": "2022-04-08T22:30:13.690Z"
      },
      {
        "duration": 1374,
        "start_time": "2022-04-20T07:04:10.990Z"
      },
      {
        "duration": 7,
        "start_time": "2022-04-20T07:04:12.367Z"
      },
      {
        "duration": 21,
        "start_time": "2022-04-20T07:04:12.376Z"
      },
      {
        "duration": 16,
        "start_time": "2022-04-20T07:04:12.399Z"
      },
      {
        "duration": 43,
        "start_time": "2022-04-20T07:04:12.417Z"
      },
      {
        "duration": 6,
        "start_time": "2022-04-20T07:04:12.462Z"
      },
      {
        "duration": 12,
        "start_time": "2022-04-20T07:04:12.470Z"
      },
      {
        "duration": 9,
        "start_time": "2022-04-20T07:04:12.484Z"
      },
      {
        "duration": 9,
        "start_time": "2022-04-20T07:04:12.495Z"
      },
      {
        "duration": 202,
        "start_time": "2022-04-20T07:04:12.505Z"
      },
      {
        "duration": 87,
        "start_time": "2022-04-20T07:04:12.708Z"
      },
      {
        "duration": 62,
        "start_time": "2022-04-20T07:04:12.797Z"
      },
      {
        "duration": 121,
        "start_time": "2022-04-20T07:04:12.861Z"
      },
      {
        "duration": 7,
        "start_time": "2022-04-20T07:04:12.992Z"
      },
      {
        "duration": 192,
        "start_time": "2022-04-20T07:04:13.001Z"
      },
      {
        "duration": 70,
        "start_time": "2022-04-20T07:04:13.195Z"
      },
      {
        "duration": 60,
        "start_time": "2022-04-20T07:04:13.266Z"
      },
      {
        "duration": 67,
        "start_time": "2022-04-20T07:04:13.327Z"
      },
      {
        "duration": 9,
        "start_time": "2022-04-20T07:04:13.395Z"
      },
      {
        "duration": 118,
        "start_time": "2022-04-20T07:04:13.405Z"
      },
      {
        "duration": 30,
        "start_time": "2022-04-20T07:04:13.525Z"
      },
      {
        "duration": 62,
        "start_time": "2022-04-20T07:04:13.556Z"
      },
      {
        "duration": 47,
        "start_time": "2022-04-20T07:04:13.620Z"
      },
      {
        "duration": 26,
        "start_time": "2022-04-20T07:04:13.668Z"
      },
      {
        "duration": 12,
        "start_time": "2022-04-20T07:04:13.696Z"
      },
      {
        "duration": 9,
        "start_time": "2022-04-20T07:04:13.710Z"
      },
      {
        "duration": 9,
        "start_time": "2022-04-20T07:04:13.721Z"
      },
      {
        "duration": 6,
        "start_time": "2022-04-20T07:04:13.732Z"
      },
      {
        "duration": 63,
        "start_time": "2022-04-20T07:04:13.739Z"
      },
      {
        "duration": 25,
        "start_time": "2022-04-20T07:04:13.804Z"
      },
      {
        "duration": 21,
        "start_time": "2022-04-20T07:04:13.831Z"
      },
      {
        "duration": 12,
        "start_time": "2022-04-20T07:04:13.853Z"
      },
      {
        "duration": 26,
        "start_time": "2022-04-20T07:04:13.866Z"
      },
      {
        "duration": 5,
        "start_time": "2022-04-20T07:04:13.894Z"
      },
      {
        "duration": 29,
        "start_time": "2022-04-20T07:04:13.901Z"
      },
      {
        "duration": 61,
        "start_time": "2022-04-20T07:04:13.931Z"
      },
      {
        "duration": 18,
        "start_time": "2022-04-20T07:04:13.994Z"
      },
      {
        "duration": 28,
        "start_time": "2022-04-20T07:04:14.013Z"
      },
      {
        "duration": 20,
        "start_time": "2022-04-20T07:04:14.043Z"
      },
      {
        "duration": 48,
        "start_time": "2022-04-20T07:04:14.065Z"
      },
      {
        "duration": 14,
        "start_time": "2022-04-20T07:04:14.118Z"
      },
      {
        "duration": 9,
        "start_time": "2022-04-20T07:04:14.134Z"
      },
      {
        "duration": 10,
        "start_time": "2022-04-20T07:04:14.145Z"
      },
      {
        "duration": 6,
        "start_time": "2022-04-20T07:04:14.157Z"
      },
      {
        "duration": 38,
        "start_time": "2022-04-20T07:04:14.165Z"
      },
      {
        "duration": 8,
        "start_time": "2022-04-20T07:04:14.204Z"
      },
      {
        "duration": 9,
        "start_time": "2022-04-20T07:04:14.214Z"
      },
      {
        "duration": 35,
        "start_time": "2022-04-20T07:04:14.225Z"
      },
      {
        "duration": 15,
        "start_time": "2022-04-20T07:04:14.292Z"
      },
      {
        "duration": 32,
        "start_time": "2022-04-20T07:04:14.309Z"
      },
      {
        "duration": 4,
        "start_time": "2022-04-20T07:04:14.343Z"
      },
      {
        "duration": 7,
        "start_time": "2022-04-20T07:04:14.393Z"
      },
      {
        "duration": 657,
        "start_time": "2022-04-20T07:04:14.402Z"
      },
      {
        "duration": 536,
        "start_time": "2022-04-20T07:04:15.061Z"
      },
      {
        "duration": 669,
        "start_time": "2022-04-20T07:04:15.599Z"
      },
      {
        "duration": 331,
        "start_time": "2022-04-20T07:04:16.270Z"
      },
      {
        "duration": 309,
        "start_time": "2022-04-20T07:04:16.603Z"
      },
      {
        "duration": 6,
        "start_time": "2022-04-20T07:04:16.914Z"
      },
      {
        "duration": 19,
        "start_time": "2022-04-20T07:04:16.921Z"
      },
      {
        "duration": 10,
        "start_time": "2022-04-20T07:04:16.941Z"
      },
      {
        "duration": 8,
        "start_time": "2022-04-20T07:04:16.953Z"
      },
      {
        "duration": 29,
        "start_time": "2022-04-20T07:04:16.963Z"
      },
      {
        "duration": 1305,
        "start_time": "2022-04-20T07:15:28.148Z"
      },
      {
        "duration": 10,
        "start_time": "2022-04-20T07:15:29.455Z"
      },
      {
        "duration": 28,
        "start_time": "2022-04-20T07:15:29.466Z"
      },
      {
        "duration": 11,
        "start_time": "2022-04-20T07:15:29.496Z"
      },
      {
        "duration": 46,
        "start_time": "2022-04-20T07:15:29.510Z"
      },
      {
        "duration": 9,
        "start_time": "2022-04-20T07:15:29.558Z"
      },
      {
        "duration": 35,
        "start_time": "2022-04-20T07:15:29.569Z"
      },
      {
        "duration": 9,
        "start_time": "2022-04-20T07:15:29.606Z"
      },
      {
        "duration": 15,
        "start_time": "2022-04-20T07:15:29.617Z"
      },
      {
        "duration": 228,
        "start_time": "2022-04-20T07:15:29.634Z"
      },
      {
        "duration": 91,
        "start_time": "2022-04-20T07:15:29.864Z"
      },
      {
        "duration": 80,
        "start_time": "2022-04-20T07:15:29.957Z"
      },
      {
        "duration": 138,
        "start_time": "2022-04-20T07:15:30.039Z"
      },
      {
        "duration": 18,
        "start_time": "2022-04-20T07:15:30.181Z"
      },
      {
        "duration": 221,
        "start_time": "2022-04-20T07:15:30.201Z"
      },
      {
        "duration": 87,
        "start_time": "2022-04-20T07:15:30.424Z"
      },
      {
        "duration": 53,
        "start_time": "2022-04-20T07:15:30.514Z"
      },
      {
        "duration": 109,
        "start_time": "2022-04-20T07:15:30.569Z"
      },
      {
        "duration": 20,
        "start_time": "2022-04-20T07:15:30.680Z"
      },
      {
        "duration": 173,
        "start_time": "2022-04-20T07:15:30.702Z"
      },
      {
        "duration": 54,
        "start_time": "2022-04-20T07:15:30.877Z"
      },
      {
        "duration": 63,
        "start_time": "2022-04-20T07:15:30.933Z"
      },
      {
        "duration": 53,
        "start_time": "2022-04-20T07:15:30.998Z"
      },
      {
        "duration": 8,
        "start_time": "2022-04-20T07:15:31.053Z"
      },
      {
        "duration": 44,
        "start_time": "2022-04-20T07:15:31.063Z"
      },
      {
        "duration": 14,
        "start_time": "2022-04-20T07:15:31.109Z"
      },
      {
        "duration": 23,
        "start_time": "2022-04-20T07:15:31.125Z"
      },
      {
        "duration": 11,
        "start_time": "2022-04-20T07:15:31.150Z"
      },
      {
        "duration": 63,
        "start_time": "2022-04-20T07:15:31.163Z"
      },
      {
        "duration": 26,
        "start_time": "2022-04-20T07:15:31.227Z"
      },
      {
        "duration": 25,
        "start_time": "2022-04-20T07:15:31.255Z"
      },
      {
        "duration": 20,
        "start_time": "2022-04-20T07:15:31.282Z"
      },
      {
        "duration": 35,
        "start_time": "2022-04-20T07:15:31.304Z"
      },
      {
        "duration": 21,
        "start_time": "2022-04-20T07:15:31.341Z"
      },
      {
        "duration": 64,
        "start_time": "2022-04-20T07:15:31.364Z"
      },
      {
        "duration": 43,
        "start_time": "2022-04-20T07:15:31.430Z"
      },
      {
        "duration": 16,
        "start_time": "2022-04-20T07:15:31.475Z"
      },
      {
        "duration": 45,
        "start_time": "2022-04-20T07:15:31.497Z"
      },
      {
        "duration": 31,
        "start_time": "2022-04-20T07:15:31.544Z"
      },
      {
        "duration": 36,
        "start_time": "2022-04-20T07:15:31.577Z"
      },
      {
        "duration": 13,
        "start_time": "2022-04-20T07:15:31.617Z"
      },
      {
        "duration": 17,
        "start_time": "2022-04-20T07:15:31.632Z"
      },
      {
        "duration": 27,
        "start_time": "2022-04-20T07:15:31.650Z"
      },
      {
        "duration": 28,
        "start_time": "2022-04-20T07:15:31.679Z"
      },
      {
        "duration": 35,
        "start_time": "2022-04-20T07:15:31.709Z"
      },
      {
        "duration": 31,
        "start_time": "2022-04-20T07:15:31.746Z"
      },
      {
        "duration": 41,
        "start_time": "2022-04-20T07:15:31.779Z"
      },
      {
        "duration": 57,
        "start_time": "2022-04-20T07:15:31.822Z"
      },
      {
        "duration": 21,
        "start_time": "2022-04-20T07:15:31.881Z"
      },
      {
        "duration": 55,
        "start_time": "2022-04-20T07:15:31.904Z"
      },
      {
        "duration": 5,
        "start_time": "2022-04-20T07:15:31.961Z"
      },
      {
        "duration": 62,
        "start_time": "2022-04-20T07:15:31.967Z"
      },
      {
        "duration": 709,
        "start_time": "2022-04-20T07:15:32.031Z"
      },
      {
        "duration": 595,
        "start_time": "2022-04-20T07:15:32.742Z"
      },
      {
        "duration": 725,
        "start_time": "2022-04-20T07:15:33.339Z"
      },
      {
        "duration": 376,
        "start_time": "2022-04-20T07:15:34.066Z"
      },
      {
        "duration": 341,
        "start_time": "2022-04-20T07:15:34.444Z"
      },
      {
        "duration": 9,
        "start_time": "2022-04-20T07:15:34.787Z"
      },
      {
        "duration": 25,
        "start_time": "2022-04-20T07:15:34.798Z"
      },
      {
        "duration": 9,
        "start_time": "2022-04-20T07:15:34.825Z"
      },
      {
        "duration": 9,
        "start_time": "2022-04-20T07:15:34.836Z"
      },
      {
        "duration": 7,
        "start_time": "2022-04-20T07:15:34.847Z"
      },
      {
        "duration": 1212,
        "start_time": "2022-04-20T07:16:44.149Z"
      },
      {
        "duration": 7,
        "start_time": "2022-04-20T07:16:45.363Z"
      },
      {
        "duration": 36,
        "start_time": "2022-04-20T07:16:45.372Z"
      },
      {
        "duration": 15,
        "start_time": "2022-04-20T07:16:45.410Z"
      },
      {
        "duration": 59,
        "start_time": "2022-04-20T07:16:45.427Z"
      },
      {
        "duration": 14,
        "start_time": "2022-04-20T07:16:45.488Z"
      },
      {
        "duration": 32,
        "start_time": "2022-04-20T07:16:45.504Z"
      },
      {
        "duration": 21,
        "start_time": "2022-04-20T07:16:45.537Z"
      },
      {
        "duration": 27,
        "start_time": "2022-04-20T07:16:45.560Z"
      },
      {
        "duration": 246,
        "start_time": "2022-04-20T07:16:45.589Z"
      },
      {
        "duration": 103,
        "start_time": "2022-04-20T07:16:45.837Z"
      },
      {
        "duration": 83,
        "start_time": "2022-04-20T07:16:45.942Z"
      },
      {
        "duration": 129,
        "start_time": "2022-04-20T07:16:46.027Z"
      },
      {
        "duration": 8,
        "start_time": "2022-04-20T07:16:46.160Z"
      },
      {
        "duration": 203,
        "start_time": "2022-04-20T07:16:46.170Z"
      },
      {
        "duration": 90,
        "start_time": "2022-04-20T07:16:46.374Z"
      },
      {
        "duration": 70,
        "start_time": "2022-04-20T07:16:46.466Z"
      },
      {
        "duration": 74,
        "start_time": "2022-04-20T07:16:46.538Z"
      },
      {
        "duration": 11,
        "start_time": "2022-04-20T07:16:46.613Z"
      },
      {
        "duration": 180,
        "start_time": "2022-04-20T07:16:46.626Z"
      },
      {
        "duration": 46,
        "start_time": "2022-04-20T07:16:46.809Z"
      },
      {
        "duration": 94,
        "start_time": "2022-04-20T07:16:46.857Z"
      },
      {
        "duration": 74,
        "start_time": "2022-04-20T07:16:46.953Z"
      },
      {
        "duration": 8,
        "start_time": "2022-04-20T07:16:47.028Z"
      },
      {
        "duration": 14,
        "start_time": "2022-04-20T07:16:47.037Z"
      },
      {
        "duration": 9,
        "start_time": "2022-04-20T07:16:47.053Z"
      },
      {
        "duration": 36,
        "start_time": "2022-04-20T07:16:47.064Z"
      },
      {
        "duration": 7,
        "start_time": "2022-04-20T07:16:47.102Z"
      },
      {
        "duration": 59,
        "start_time": "2022-04-20T07:16:47.111Z"
      },
      {
        "duration": 48,
        "start_time": "2022-04-20T07:16:47.172Z"
      },
      {
        "duration": 31,
        "start_time": "2022-04-20T07:16:47.222Z"
      },
      {
        "duration": 15,
        "start_time": "2022-04-20T07:16:47.255Z"
      },
      {
        "duration": 26,
        "start_time": "2022-04-20T07:16:47.272Z"
      },
      {
        "duration": 19,
        "start_time": "2022-04-20T07:16:47.301Z"
      },
      {
        "duration": 26,
        "start_time": "2022-04-20T07:16:47.323Z"
      },
      {
        "duration": 54,
        "start_time": "2022-04-20T07:16:47.350Z"
      },
      {
        "duration": 17,
        "start_time": "2022-04-20T07:16:47.408Z"
      },
      {
        "duration": 31,
        "start_time": "2022-04-20T07:16:47.427Z"
      },
      {
        "duration": 35,
        "start_time": "2022-04-20T07:16:47.460Z"
      },
      {
        "duration": 25,
        "start_time": "2022-04-20T07:16:47.497Z"
      },
      {
        "duration": 13,
        "start_time": "2022-04-20T07:16:47.527Z"
      },
      {
        "duration": 8,
        "start_time": "2022-04-20T07:16:47.542Z"
      },
      {
        "duration": 7,
        "start_time": "2022-04-20T07:16:47.552Z"
      },
      {
        "duration": 33,
        "start_time": "2022-04-20T07:16:47.560Z"
      },
      {
        "duration": 15,
        "start_time": "2022-04-20T07:16:47.602Z"
      },
      {
        "duration": 14,
        "start_time": "2022-04-20T07:16:47.619Z"
      },
      {
        "duration": 9,
        "start_time": "2022-04-20T07:16:47.635Z"
      },
      {
        "duration": 34,
        "start_time": "2022-04-20T07:16:47.645Z"
      },
      {
        "duration": 22,
        "start_time": "2022-04-20T07:16:47.693Z"
      },
      {
        "duration": 32,
        "start_time": "2022-04-20T07:16:47.717Z"
      },
      {
        "duration": 6,
        "start_time": "2022-04-20T07:16:47.750Z"
      },
      {
        "duration": 49,
        "start_time": "2022-04-20T07:16:47.759Z"
      },
      {
        "duration": 861,
        "start_time": "2022-04-20T07:16:47.810Z"
      },
      {
        "duration": 660,
        "start_time": "2022-04-20T07:16:48.674Z"
      },
      {
        "duration": 728,
        "start_time": "2022-04-20T07:16:49.336Z"
      },
      {
        "duration": 371,
        "start_time": "2022-04-20T07:16:50.067Z"
      },
      {
        "duration": 441,
        "start_time": "2022-04-20T07:16:50.440Z"
      },
      {
        "duration": 6,
        "start_time": "2022-04-20T07:16:50.883Z"
      },
      {
        "duration": 26,
        "start_time": "2022-04-20T07:16:50.891Z"
      },
      {
        "duration": 11,
        "start_time": "2022-04-20T07:16:50.918Z"
      },
      {
        "duration": 7,
        "start_time": "2022-04-20T07:16:50.931Z"
      },
      {
        "duration": 6,
        "start_time": "2022-04-20T07:16:50.940Z"
      },
      {
        "duration": 14,
        "start_time": "2022-04-20T07:17:20.666Z"
      },
      {
        "duration": 5,
        "start_time": "2022-04-20T18:09:38.020Z"
      },
      {
        "duration": 1957,
        "start_time": "2022-04-20T18:10:45.182Z"
      },
      {
        "duration": 10,
        "start_time": "2022-04-20T18:10:47.142Z"
      },
      {
        "duration": 29,
        "start_time": "2022-04-20T18:10:47.154Z"
      },
      {
        "duration": 12,
        "start_time": "2022-04-20T18:10:47.186Z"
      },
      {
        "duration": 68,
        "start_time": "2022-04-20T18:10:47.201Z"
      },
      {
        "duration": 10,
        "start_time": "2022-04-20T18:10:47.271Z"
      },
      {
        "duration": 43,
        "start_time": "2022-04-20T18:10:47.283Z"
      },
      {
        "duration": 8,
        "start_time": "2022-04-20T18:10:47.328Z"
      },
      {
        "duration": 15,
        "start_time": "2022-04-20T18:10:47.338Z"
      },
      {
        "duration": 293,
        "start_time": "2022-04-20T18:10:47.358Z"
      },
      {
        "duration": 131,
        "start_time": "2022-04-20T18:10:47.653Z"
      },
      {
        "duration": 88,
        "start_time": "2022-04-20T18:10:47.786Z"
      },
      {
        "duration": 177,
        "start_time": "2022-04-20T18:10:47.876Z"
      },
      {
        "duration": 13,
        "start_time": "2022-04-20T18:10:48.056Z"
      },
      {
        "duration": 266,
        "start_time": "2022-04-20T18:10:48.071Z"
      },
      {
        "duration": 106,
        "start_time": "2022-04-20T18:10:48.339Z"
      },
      {
        "duration": 77,
        "start_time": "2022-04-20T18:10:48.447Z"
      },
      {
        "duration": 121,
        "start_time": "2022-04-20T18:10:48.527Z"
      },
      {
        "duration": 12,
        "start_time": "2022-04-20T18:10:48.650Z"
      },
      {
        "duration": 166,
        "start_time": "2022-04-20T18:10:48.664Z"
      },
      {
        "duration": 45,
        "start_time": "2022-04-20T18:10:48.832Z"
      },
      {
        "duration": 77,
        "start_time": "2022-04-20T18:10:48.879Z"
      },
      {
        "duration": 88,
        "start_time": "2022-04-20T18:10:48.959Z"
      },
      {
        "duration": 11,
        "start_time": "2022-04-20T18:10:49.049Z"
      },
      {
        "duration": 7,
        "start_time": "2022-04-20T18:10:49.062Z"
      },
      {
        "duration": 8,
        "start_time": "2022-04-20T18:10:49.072Z"
      },
      {
        "duration": 20,
        "start_time": "2022-04-20T18:10:49.082Z"
      },
      {
        "duration": 8,
        "start_time": "2022-04-20T18:10:49.128Z"
      },
      {
        "duration": 52,
        "start_time": "2022-04-20T18:10:49.138Z"
      },
      {
        "duration": 56,
        "start_time": "2022-04-20T18:10:49.192Z"
      },
      {
        "duration": 29,
        "start_time": "2022-04-20T18:10:49.251Z"
      },
      {
        "duration": 16,
        "start_time": "2022-04-20T18:10:49.283Z"
      },
      {
        "duration": 10,
        "start_time": "2022-04-20T18:10:49.326Z"
      },
      {
        "duration": 9,
        "start_time": "2022-04-20T18:10:49.338Z"
      },
      {
        "duration": 34,
        "start_time": "2022-04-20T18:10:49.349Z"
      },
      {
        "duration": 91,
        "start_time": "2022-04-20T18:10:49.386Z"
      },
      {
        "duration": 22,
        "start_time": "2022-04-20T18:10:49.480Z"
      },
      {
        "duration": 52,
        "start_time": "2022-04-20T18:10:49.504Z"
      },
      {
        "duration": 24,
        "start_time": "2022-04-20T18:10:49.558Z"
      },
      {
        "duration": 54,
        "start_time": "2022-04-20T18:10:49.585Z"
      },
      {
        "duration": 20,
        "start_time": "2022-04-20T18:10:49.641Z"
      },
      {
        "duration": 12,
        "start_time": "2022-04-20T18:10:49.663Z"
      },
      {
        "duration": 10,
        "start_time": "2022-04-20T18:10:49.678Z"
      },
      {
        "duration": 34,
        "start_time": "2022-04-20T18:10:49.690Z"
      },
      {
        "duration": 21,
        "start_time": "2022-04-20T18:10:49.728Z"
      },
      {
        "duration": 11,
        "start_time": "2022-04-20T18:10:49.752Z"
      },
      {
        "duration": 18,
        "start_time": "2022-04-20T18:10:49.766Z"
      },
      {
        "duration": 86,
        "start_time": "2022-04-20T18:10:49.786Z"
      },
      {
        "duration": 49,
        "start_time": "2022-04-20T18:10:49.874Z"
      },
      {
        "duration": 40,
        "start_time": "2022-04-20T18:10:49.926Z"
      },
      {
        "duration": 8,
        "start_time": "2022-04-20T18:10:49.968Z"
      },
      {
        "duration": 49,
        "start_time": "2022-04-20T18:10:49.978Z"
      },
      {
        "duration": 1191,
        "start_time": "2022-04-20T18:10:50.030Z"
      },
      {
        "duration": 964,
        "start_time": "2022-04-20T18:10:51.223Z"
      },
      {
        "duration": 1218,
        "start_time": "2022-04-20T18:10:52.189Z"
      },
      {
        "duration": 609,
        "start_time": "2022-04-20T18:10:53.409Z"
      },
      {
        "duration": 557,
        "start_time": "2022-04-20T18:10:54.020Z"
      },
      {
        "duration": 7,
        "start_time": "2022-04-20T18:10:54.579Z"
      },
      {
        "duration": 21,
        "start_time": "2022-04-20T18:10:54.589Z"
      },
      {
        "duration": 13,
        "start_time": "2022-04-20T18:10:54.624Z"
      },
      {
        "duration": 20,
        "start_time": "2022-04-20T18:10:54.641Z"
      },
      {
        "duration": 14,
        "start_time": "2022-04-20T18:10:54.663Z"
      },
      {
        "duration": 7,
        "start_time": "2022-04-20T18:41:53.152Z"
      },
      {
        "duration": 8,
        "start_time": "2022-04-20T18:59:04.289Z"
      },
      {
        "duration": 6,
        "start_time": "2022-04-20T18:59:06.280Z"
      },
      {
        "duration": 1126,
        "start_time": "2022-04-20T19:03:40.490Z"
      },
      {
        "duration": 63,
        "start_time": "2022-04-20T19:03:49.417Z"
      },
      {
        "duration": 42,
        "start_time": "2022-04-20T19:03:49.482Z"
      },
      {
        "duration": 14,
        "start_time": "2022-04-20T19:03:49.526Z"
      },
      {
        "duration": 12,
        "start_time": "2022-04-20T19:03:49.543Z"
      },
      {
        "duration": 80,
        "start_time": "2022-04-20T19:03:49.557Z"
      },
      {
        "duration": 11,
        "start_time": "2022-04-20T19:03:49.640Z"
      },
      {
        "duration": 17,
        "start_time": "2022-04-20T19:03:49.653Z"
      },
      {
        "duration": 56,
        "start_time": "2022-04-20T19:03:49.672Z"
      },
      {
        "duration": 16,
        "start_time": "2022-04-20T19:03:49.730Z"
      },
      {
        "duration": 280,
        "start_time": "2022-04-20T19:03:49.750Z"
      },
      {
        "duration": 111,
        "start_time": "2022-04-20T19:03:50.033Z"
      },
      {
        "duration": 90,
        "start_time": "2022-04-20T19:03:50.146Z"
      },
      {
        "duration": 150,
        "start_time": "2022-04-20T19:03:50.238Z"
      },
      {
        "duration": 11,
        "start_time": "2022-04-20T19:03:50.390Z"
      },
      {
        "duration": 254,
        "start_time": "2022-04-20T19:03:50.404Z"
      },
      {
        "duration": 119,
        "start_time": "2022-04-20T19:03:50.660Z"
      },
      {
        "duration": 72,
        "start_time": "2022-04-20T19:03:50.781Z"
      },
      {
        "duration": 125,
        "start_time": "2022-04-20T19:03:50.856Z"
      },
      {
        "duration": 12,
        "start_time": "2022-04-20T19:03:50.983Z"
      },
      {
        "duration": 162,
        "start_time": "2022-04-20T19:03:50.997Z"
      },
      {
        "duration": 65,
        "start_time": "2022-04-20T19:03:51.161Z"
      },
      {
        "duration": 52,
        "start_time": "2022-04-20T19:03:51.228Z"
      },
      {
        "duration": 98,
        "start_time": "2022-04-20T19:03:51.283Z"
      },
      {
        "duration": 11,
        "start_time": "2022-04-20T19:03:51.384Z"
      },
      {
        "duration": 7,
        "start_time": "2022-04-20T19:03:51.397Z"
      },
      {
        "duration": 25,
        "start_time": "2022-04-20T19:03:51.406Z"
      },
      {
        "duration": 14,
        "start_time": "2022-04-20T19:03:51.434Z"
      },
      {
        "duration": 8,
        "start_time": "2022-04-20T19:03:51.454Z"
      },
      {
        "duration": 68,
        "start_time": "2022-04-20T19:03:51.465Z"
      },
      {
        "duration": 39,
        "start_time": "2022-04-20T19:03:51.535Z"
      },
      {
        "duration": 49,
        "start_time": "2022-04-20T19:03:51.576Z"
      },
      {
        "duration": 13,
        "start_time": "2022-04-20T19:03:51.628Z"
      },
      {
        "duration": 15,
        "start_time": "2022-04-20T19:03:51.643Z"
      },
      {
        "duration": 10,
        "start_time": "2022-04-20T19:03:51.660Z"
      },
      {
        "duration": 55,
        "start_time": "2022-04-20T19:03:51.672Z"
      },
      {
        "duration": 70,
        "start_time": "2022-04-20T19:03:51.730Z"
      },
      {
        "duration": 33,
        "start_time": "2022-04-20T19:03:51.802Z"
      },
      {
        "duration": 36,
        "start_time": "2022-04-20T19:03:51.837Z"
      },
      {
        "duration": 53,
        "start_time": "2022-04-20T19:03:51.875Z"
      },
      {
        "duration": 29,
        "start_time": "2022-04-20T19:03:51.930Z"
      },
      {
        "duration": 19,
        "start_time": "2022-04-20T19:03:51.961Z"
      },
      {
        "duration": 11,
        "start_time": "2022-04-20T19:03:51.982Z"
      },
      {
        "duration": 34,
        "start_time": "2022-04-20T19:03:51.996Z"
      },
      {
        "duration": 9,
        "start_time": "2022-04-20T19:03:52.032Z"
      },
      {
        "duration": 18,
        "start_time": "2022-04-20T19:03:52.043Z"
      },
      {
        "duration": 8,
        "start_time": "2022-04-20T19:03:52.064Z"
      },
      {
        "duration": 51,
        "start_time": "2022-04-20T19:03:52.075Z"
      },
      {
        "duration": 57,
        "start_time": "2022-04-20T19:03:52.128Z"
      },
      {
        "duration": 55,
        "start_time": "2022-04-20T19:03:52.188Z"
      },
      {
        "duration": 89,
        "start_time": "2022-04-20T19:03:52.246Z"
      },
      {
        "duration": 8,
        "start_time": "2022-04-20T19:03:52.338Z"
      },
      {
        "duration": 10,
        "start_time": "2022-04-20T19:03:52.349Z"
      },
      {
        "duration": 1307,
        "start_time": "2022-04-20T19:03:52.361Z"
      },
      {
        "duration": 942,
        "start_time": "2022-04-20T19:03:53.670Z"
      },
      {
        "duration": 1203,
        "start_time": "2022-04-20T19:03:54.614Z"
      },
      {
        "duration": 941,
        "start_time": "2022-04-20T19:03:55.824Z"
      },
      {
        "duration": 720,
        "start_time": "2022-04-20T19:03:56.768Z"
      },
      {
        "duration": 7,
        "start_time": "2022-04-20T19:03:57.490Z"
      },
      {
        "duration": 30,
        "start_time": "2022-04-20T19:03:57.499Z"
      },
      {
        "duration": 16,
        "start_time": "2022-04-20T19:03:57.531Z"
      },
      {
        "duration": 12,
        "start_time": "2022-04-20T19:03:57.549Z"
      },
      {
        "duration": 21,
        "start_time": "2022-04-20T19:03:57.564Z"
      },
      {
        "duration": 81,
        "start_time": "2022-04-20T20:00:39.986Z"
      },
      {
        "duration": 13,
        "start_time": "2022-04-20T20:00:40.070Z"
      },
      {
        "duration": 48,
        "start_time": "2022-04-20T20:00:40.086Z"
      },
      {
        "duration": 12,
        "start_time": "2022-04-20T20:00:40.138Z"
      },
      {
        "duration": 93,
        "start_time": "2022-04-20T20:00:40.153Z"
      },
      {
        "duration": 14,
        "start_time": "2022-04-20T20:00:40.249Z"
      },
      {
        "duration": 63,
        "start_time": "2022-04-20T20:00:40.266Z"
      },
      {
        "duration": 10,
        "start_time": "2022-04-20T20:00:40.332Z"
      },
      {
        "duration": 24,
        "start_time": "2022-04-20T20:00:40.345Z"
      },
      {
        "duration": 312,
        "start_time": "2022-04-20T20:00:40.374Z"
      },
      {
        "duration": 179,
        "start_time": "2022-04-20T20:00:40.689Z"
      },
      {
        "duration": 146,
        "start_time": "2022-04-20T20:00:40.871Z"
      },
      {
        "duration": 196,
        "start_time": "2022-04-20T20:00:41.025Z"
      },
      {
        "duration": 15,
        "start_time": "2022-04-20T20:00:41.225Z"
      },
      {
        "duration": 251,
        "start_time": "2022-04-20T20:00:41.243Z"
      },
      {
        "duration": 106,
        "start_time": "2022-04-20T20:00:41.496Z"
      },
      {
        "duration": 72,
        "start_time": "2022-04-20T20:00:41.605Z"
      },
      {
        "duration": 145,
        "start_time": "2022-04-20T20:00:41.679Z"
      },
      {
        "duration": 15,
        "start_time": "2022-04-20T20:00:41.827Z"
      },
      {
        "duration": 227,
        "start_time": "2022-04-20T20:00:41.845Z"
      },
      {
        "duration": 67,
        "start_time": "2022-04-20T20:00:42.075Z"
      },
      {
        "duration": 50,
        "start_time": "2022-04-20T20:00:42.145Z"
      },
      {
        "duration": 119,
        "start_time": "2022-04-20T20:00:42.197Z"
      },
      {
        "duration": 15,
        "start_time": "2022-04-20T20:00:42.325Z"
      },
      {
        "duration": 5,
        "start_time": "2022-04-20T20:00:42.343Z"
      },
      {
        "duration": 15,
        "start_time": "2022-04-20T20:00:42.351Z"
      },
      {
        "duration": 16,
        "start_time": "2022-04-20T20:00:42.369Z"
      },
      {
        "duration": 34,
        "start_time": "2022-04-20T20:00:42.390Z"
      },
      {
        "duration": 48,
        "start_time": "2022-04-20T20:00:42.427Z"
      },
      {
        "duration": 60,
        "start_time": "2022-04-20T20:00:42.478Z"
      },
      {
        "duration": 31,
        "start_time": "2022-04-20T20:00:42.540Z"
      },
      {
        "duration": 13,
        "start_time": "2022-04-20T20:00:42.573Z"
      },
      {
        "duration": 39,
        "start_time": "2022-04-20T20:00:42.589Z"
      },
      {
        "duration": 8,
        "start_time": "2022-04-20T20:00:42.631Z"
      },
      {
        "duration": 46,
        "start_time": "2022-04-20T20:00:42.641Z"
      },
      {
        "duration": 106,
        "start_time": "2022-04-20T20:00:42.689Z"
      },
      {
        "duration": 34,
        "start_time": "2022-04-20T20:00:42.798Z"
      },
      {
        "duration": 40,
        "start_time": "2022-04-20T20:00:42.834Z"
      },
      {
        "duration": 25,
        "start_time": "2022-04-20T20:00:42.876Z"
      },
      {
        "duration": 49,
        "start_time": "2022-04-20T20:00:42.904Z"
      },
      {
        "duration": 19,
        "start_time": "2022-04-20T20:00:42.955Z"
      },
      {
        "duration": 51,
        "start_time": "2022-04-20T20:00:42.977Z"
      },
      {
        "duration": 8,
        "start_time": "2022-04-20T20:00:43.031Z"
      },
      {
        "duration": 13,
        "start_time": "2022-04-20T20:00:43.042Z"
      },
      {
        "duration": 19,
        "start_time": "2022-04-20T20:00:43.058Z"
      },
      {
        "duration": 14,
        "start_time": "2022-04-20T20:00:43.080Z"
      },
      {
        "duration": 46,
        "start_time": "2022-04-20T20:00:43.097Z"
      },
      {
        "duration": 87,
        "start_time": "2022-04-20T20:00:43.146Z"
      },
      {
        "duration": 22,
        "start_time": "2022-04-20T20:00:43.236Z"
      },
      {
        "duration": 77,
        "start_time": "2022-04-20T20:00:43.260Z"
      },
      {
        "duration": 7,
        "start_time": "2022-04-20T20:00:43.339Z"
      },
      {
        "duration": 34,
        "start_time": "2022-04-20T20:00:43.349Z"
      },
      {
        "duration": 1164,
        "start_time": "2022-04-20T20:00:43.386Z"
      },
      {
        "duration": 964,
        "start_time": "2022-04-20T20:00:44.552Z"
      },
      {
        "duration": 1116,
        "start_time": "2022-04-20T20:00:45.519Z"
      },
      {
        "duration": 593,
        "start_time": "2022-04-20T20:00:46.639Z"
      },
      {
        "duration": 563,
        "start_time": "2022-04-20T20:00:47.235Z"
      },
      {
        "duration": 10,
        "start_time": "2022-04-20T20:00:47.801Z"
      },
      {
        "duration": 14,
        "start_time": "2022-04-20T20:00:47.825Z"
      },
      {
        "duration": 15,
        "start_time": "2022-04-20T20:00:47.842Z"
      },
      {
        "duration": 13,
        "start_time": "2022-04-20T20:00:47.859Z"
      },
      {
        "duration": 7,
        "start_time": "2022-04-20T20:00:47.875Z"
      },
      {
        "duration": 113,
        "start_time": "2022-04-20T20:12:43.305Z"
      },
      {
        "duration": 120,
        "start_time": "2022-04-20T20:15:15.366Z"
      },
      {
        "duration": 68,
        "start_time": "2022-04-20T20:19:25.529Z"
      },
      {
        "duration": 15,
        "start_time": "2022-04-20T20:19:25.625Z"
      },
      {
        "duration": 65,
        "start_time": "2022-04-20T20:19:25.643Z"
      },
      {
        "duration": 21,
        "start_time": "2022-04-20T20:19:25.710Z"
      },
      {
        "duration": 64,
        "start_time": "2022-04-20T20:19:25.734Z"
      },
      {
        "duration": 34,
        "start_time": "2022-04-20T20:19:25.801Z"
      },
      {
        "duration": 21,
        "start_time": "2022-04-20T20:19:25.838Z"
      },
      {
        "duration": 9,
        "start_time": "2022-04-20T20:19:25.862Z"
      },
      {
        "duration": 62,
        "start_time": "2022-04-20T20:19:25.874Z"
      },
      {
        "duration": 291,
        "start_time": "2022-04-20T20:19:25.939Z"
      },
      {
        "duration": 113,
        "start_time": "2022-04-20T20:19:26.233Z"
      },
      {
        "duration": 89,
        "start_time": "2022-04-20T20:19:26.348Z"
      },
      {
        "duration": 167,
        "start_time": "2022-04-20T20:19:26.439Z"
      },
      {
        "duration": 22,
        "start_time": "2022-04-20T20:19:26.611Z"
      },
      {
        "duration": 249,
        "start_time": "2022-04-20T20:19:26.636Z"
      },
      {
        "duration": 120,
        "start_time": "2022-04-20T20:19:26.887Z"
      },
      {
        "duration": 116,
        "start_time": "2022-04-20T20:19:27.010Z"
      },
      {
        "duration": 134,
        "start_time": "2022-04-20T20:19:27.129Z"
      },
      {
        "duration": 12,
        "start_time": "2022-04-20T20:19:27.266Z"
      },
      {
        "duration": 163,
        "start_time": "2022-04-20T20:19:27.280Z"
      },
      {
        "duration": 47,
        "start_time": "2022-04-20T20:19:27.445Z"
      },
      {
        "duration": 77,
        "start_time": "2022-04-20T20:19:27.495Z"
      },
      {
        "duration": 95,
        "start_time": "2022-04-20T20:19:27.574Z"
      },
      {
        "duration": 11,
        "start_time": "2022-04-20T20:19:27.671Z"
      },
      {
        "duration": 5,
        "start_time": "2022-04-20T20:19:27.685Z"
      },
      {
        "duration": 6,
        "start_time": "2022-04-20T20:19:27.692Z"
      },
      {
        "duration": 17,
        "start_time": "2022-04-20T20:19:27.725Z"
      },
      {
        "duration": 8,
        "start_time": "2022-04-20T20:19:27.745Z"
      },
      {
        "duration": 68,
        "start_time": "2022-04-20T20:19:27.756Z"
      },
      {
        "duration": 34,
        "start_time": "2022-04-20T20:19:27.827Z"
      },
      {
        "duration": 29,
        "start_time": "2022-04-20T20:19:27.864Z"
      },
      {
        "duration": 41,
        "start_time": "2022-04-20T20:19:27.895Z"
      },
      {
        "duration": 16,
        "start_time": "2022-04-20T20:19:27.938Z"
      },
      {
        "duration": 16,
        "start_time": "2022-04-20T20:19:27.957Z"
      },
      {
        "duration": 51,
        "start_time": "2022-04-20T20:19:27.976Z"
      },
      {
        "duration": 56,
        "start_time": "2022-04-20T20:19:28.029Z"
      },
      {
        "duration": 45,
        "start_time": "2022-04-20T20:19:28.088Z"
      },
      {
        "duration": 39,
        "start_time": "2022-04-20T20:19:28.135Z"
      },
      {
        "duration": 24,
        "start_time": "2022-04-20T20:19:28.176Z"
      },
      {
        "duration": 51,
        "start_time": "2022-04-20T20:19:28.202Z"
      },
      {
        "duration": 20,
        "start_time": "2022-04-20T20:19:28.260Z"
      },
      {
        "duration": 42,
        "start_time": "2022-04-20T20:19:28.282Z"
      },
      {
        "duration": 8,
        "start_time": "2022-04-20T20:19:28.327Z"
      },
      {
        "duration": 6,
        "start_time": "2022-04-20T20:19:28.338Z"
      },
      {
        "duration": 23,
        "start_time": "2022-04-20T20:19:28.346Z"
      },
      {
        "duration": 12,
        "start_time": "2022-04-20T20:19:28.372Z"
      },
      {
        "duration": 46,
        "start_time": "2022-04-20T20:19:28.386Z"
      },
      {
        "duration": 51,
        "start_time": "2022-04-20T20:19:28.435Z"
      },
      {
        "duration": 54,
        "start_time": "2022-04-20T20:19:28.488Z"
      },
      {
        "duration": 93,
        "start_time": "2022-04-20T20:19:28.544Z"
      },
      {
        "duration": 9,
        "start_time": "2022-04-20T20:19:28.639Z"
      },
      {
        "duration": 10,
        "start_time": "2022-04-20T20:19:28.650Z"
      },
      {
        "duration": 1736,
        "start_time": "2022-04-20T20:19:28.662Z"
      },
      {
        "duration": 1075,
        "start_time": "2022-04-20T20:19:30.400Z"
      },
      {
        "duration": 1120,
        "start_time": "2022-04-20T20:19:31.478Z"
      },
      {
        "duration": 610,
        "start_time": "2022-04-20T20:19:32.601Z"
      },
      {
        "duration": 568,
        "start_time": "2022-04-20T20:19:33.214Z"
      },
      {
        "duration": 7,
        "start_time": "2022-04-20T20:19:33.785Z"
      },
      {
        "duration": 34,
        "start_time": "2022-04-20T20:19:33.795Z"
      },
      {
        "duration": 24,
        "start_time": "2022-04-20T20:19:33.832Z"
      },
      {
        "duration": 18,
        "start_time": "2022-04-20T20:19:33.859Z"
      },
      {
        "duration": 10,
        "start_time": "2022-04-20T20:19:33.880Z"
      },
      {
        "duration": 1934,
        "start_time": "2022-04-21T09:24:16.713Z"
      },
      {
        "duration": 11,
        "start_time": "2022-04-21T09:24:18.650Z"
      },
      {
        "duration": 13,
        "start_time": "2022-04-21T09:24:18.663Z"
      },
      {
        "duration": 46,
        "start_time": "2022-04-21T09:24:18.678Z"
      },
      {
        "duration": 46,
        "start_time": "2022-04-21T09:24:18.726Z"
      },
      {
        "duration": 9,
        "start_time": "2022-04-21T09:24:18.775Z"
      },
      {
        "duration": 50,
        "start_time": "2022-04-21T09:24:18.786Z"
      },
      {
        "duration": 10,
        "start_time": "2022-04-21T09:24:18.838Z"
      },
      {
        "duration": 19,
        "start_time": "2022-04-21T09:24:18.853Z"
      },
      {
        "duration": 305,
        "start_time": "2022-04-21T09:24:18.877Z"
      },
      {
        "duration": 130,
        "start_time": "2022-04-21T09:24:19.184Z"
      },
      {
        "duration": 84,
        "start_time": "2022-04-21T09:24:19.316Z"
      },
      {
        "duration": 185,
        "start_time": "2022-04-21T09:24:19.403Z"
      },
      {
        "duration": 33,
        "start_time": "2022-04-21T09:24:19.591Z"
      },
      {
        "duration": 249,
        "start_time": "2022-04-21T09:24:19.626Z"
      },
      {
        "duration": 121,
        "start_time": "2022-04-21T09:24:19.878Z"
      },
      {
        "duration": 103,
        "start_time": "2022-04-21T09:24:20.002Z"
      },
      {
        "duration": 147,
        "start_time": "2022-04-21T09:24:20.108Z"
      },
      {
        "duration": 13,
        "start_time": "2022-04-21T09:24:20.258Z"
      },
      {
        "duration": 221,
        "start_time": "2022-04-21T09:24:20.274Z"
      },
      {
        "duration": 60,
        "start_time": "2022-04-21T09:24:20.498Z"
      },
      {
        "duration": 75,
        "start_time": "2022-04-21T09:24:20.562Z"
      },
      {
        "duration": 90,
        "start_time": "2022-04-21T09:24:20.640Z"
      },
      {
        "duration": 12,
        "start_time": "2022-04-21T09:24:20.733Z"
      },
      {
        "duration": 73,
        "start_time": "2022-04-21T09:24:20.748Z"
      },
      {
        "duration": 13,
        "start_time": "2022-04-21T09:24:20.824Z"
      },
      {
        "duration": 16,
        "start_time": "2022-04-21T09:24:20.839Z"
      },
      {
        "duration": 8,
        "start_time": "2022-04-21T09:24:20.862Z"
      },
      {
        "duration": 63,
        "start_time": "2022-04-21T09:24:20.873Z"
      },
      {
        "duration": 37,
        "start_time": "2022-04-21T09:24:20.938Z"
      },
      {
        "duration": 52,
        "start_time": "2022-04-21T09:24:20.978Z"
      },
      {
        "duration": 17,
        "start_time": "2022-04-21T09:24:21.032Z"
      },
      {
        "duration": 10,
        "start_time": "2022-04-21T09:24:21.052Z"
      },
      {
        "duration": 18,
        "start_time": "2022-04-21T09:24:21.064Z"
      },
      {
        "duration": 53,
        "start_time": "2022-04-21T09:24:21.084Z"
      },
      {
        "duration": 60,
        "start_time": "2022-04-21T09:24:21.139Z"
      },
      {
        "duration": 37,
        "start_time": "2022-04-21T09:24:21.201Z"
      },
      {
        "duration": 36,
        "start_time": "2022-04-21T09:24:21.240Z"
      },
      {
        "duration": 48,
        "start_time": "2022-04-21T09:24:21.278Z"
      },
      {
        "duration": 29,
        "start_time": "2022-04-21T09:24:21.328Z"
      },
      {
        "duration": 19,
        "start_time": "2022-04-21T09:24:21.359Z"
      },
      {
        "duration": 10,
        "start_time": "2022-04-21T09:24:21.380Z"
      },
      {
        "duration": 37,
        "start_time": "2022-04-21T09:24:21.392Z"
      },
      {
        "duration": 9,
        "start_time": "2022-04-21T09:24:21.431Z"
      },
      {
        "duration": 24,
        "start_time": "2022-04-21T09:24:21.442Z"
      },
      {
        "duration": 10,
        "start_time": "2022-04-21T09:24:21.468Z"
      },
      {
        "duration": 16,
        "start_time": "2022-04-21T09:24:21.480Z"
      },
      {
        "duration": 74,
        "start_time": "2022-04-21T09:24:21.499Z"
      },
      {
        "duration": 22,
        "start_time": "2022-04-21T09:24:21.575Z"
      },
      {
        "duration": 39,
        "start_time": "2022-04-21T09:24:21.625Z"
      },
      {
        "duration": 7,
        "start_time": "2022-04-21T09:24:21.666Z"
      },
      {
        "duration": 53,
        "start_time": "2022-04-21T09:24:21.675Z"
      },
      {
        "duration": 1164,
        "start_time": "2022-04-21T09:24:21.730Z"
      },
      {
        "duration": 959,
        "start_time": "2022-04-21T09:24:22.897Z"
      },
      {
        "duration": 1092,
        "start_time": "2022-04-21T09:24:23.858Z"
      },
      {
        "duration": 596,
        "start_time": "2022-04-21T09:24:24.952Z"
      },
      {
        "duration": 601,
        "start_time": "2022-04-21T09:24:25.551Z"
      },
      {
        "duration": 11,
        "start_time": "2022-04-21T09:24:26.154Z"
      },
      {
        "duration": 38,
        "start_time": "2022-04-21T09:24:26.168Z"
      },
      {
        "duration": 37,
        "start_time": "2022-04-21T09:24:26.208Z"
      },
      {
        "duration": 17,
        "start_time": "2022-04-21T09:24:26.247Z"
      },
      {
        "duration": 35,
        "start_time": "2022-04-21T09:24:26.266Z"
      }
    ],
    "kernelspec": {
      "display_name": "Python 3 (ipykernel)",
      "language": "python",
      "name": "python3"
    },
    "language_info": {
      "codemirror_mode": {
        "name": "ipython",
        "version": 3
      },
      "file_extension": ".py",
      "mimetype": "text/x-python",
      "name": "python",
      "nbconvert_exporter": "python",
      "pygments_lexer": "ipython3",
      "version": "3.9.5"
    },
    "toc": {
      "base_numbering": 1,
      "nav_menu": {},
      "number_sections": true,
      "sideBar": true,
      "skip_h1_title": true,
      "title_cell": "Table of Contents",
      "title_sidebar": "Contents",
      "toc_cell": false,
      "toc_position": {},
      "toc_section_display": true,
      "toc_window_display": false
    },
    "colab": {
      "provenance": []
    }
  },
  "nbformat": 4,
  "nbformat_minor": 0
}