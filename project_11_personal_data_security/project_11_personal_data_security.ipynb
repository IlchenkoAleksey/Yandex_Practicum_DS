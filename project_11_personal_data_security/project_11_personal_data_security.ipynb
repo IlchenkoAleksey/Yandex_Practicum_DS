{
  "cells": [
    {
      "cell_type": "markdown",
      "metadata": {
        "toc": true,
        "id": "429hzF-dhFrv"
      },
      "source": [
        "<h1>Содержание<span class=\"tocSkip\"></span></h1>\n",
        "<div class=\"toc\"><ul class=\"toc-item\"><li><span><a href=\"#Загрузка-данных\" data-toc-modified-id=\"Загрузка-данных-1\"><span class=\"toc-item-num\">1&nbsp;&nbsp;</span>Загрузка данных</a></span><ul class=\"toc-item\"><li><span><a href=\"#Вывод:\" data-toc-modified-id=\"Вывод:-1.1\"><span class=\"toc-item-num\">1.1&nbsp;&nbsp;</span>Вывод:</a></span></li><li><span><a href=\"#Предобработка-данных\" data-toc-modified-id=\"Предобработка-данных-1.2\"><span class=\"toc-item-num\">1.2&nbsp;&nbsp;</span>Предобработка данных</a></span><ul class=\"toc-item\"><li><span><a href=\"#Вывод:\" data-toc-modified-id=\"Вывод:-1.2.1\"><span class=\"toc-item-num\">1.2.1&nbsp;&nbsp;</span>Вывод:</a></span></li></ul></li></ul></li><li><span><a href=\"#Умножение-матриц\" data-toc-modified-id=\"Умножение-матриц-2\"><span class=\"toc-item-num\">2&nbsp;&nbsp;</span>Умножение матриц</a></span><ul class=\"toc-item\"><li><span><a href=\"#Вывод:\" data-toc-modified-id=\"Вывод:-2.1\"><span class=\"toc-item-num\">2.1&nbsp;&nbsp;</span>Вывод:</a></span></li></ul></li><li><span><a href=\"#Алгоритм-преобразования\" data-toc-modified-id=\"Алгоритм-преобразования-3\"><span class=\"toc-item-num\">3&nbsp;&nbsp;</span>Алгоритм преобразования</a></span></li><li><span><a href=\"#Проверка-алгоритма\" data-toc-modified-id=\"Проверка-алгоритма-4\"><span class=\"toc-item-num\">4&nbsp;&nbsp;</span>Проверка алгоритма</a></span><ul class=\"toc-item\"><li><span><a href=\"#Вывод:\" data-toc-modified-id=\"Вывод:-4.1\"><span class=\"toc-item-num\">4.1&nbsp;&nbsp;</span>Вывод:</a></span></li><li><span><a href=\"#Сравнение-качества-моделей-до-и-после-преобразования\" data-toc-modified-id=\"Сравнение-качества-моделей-до-и-после-преобразования-4.2\"><span class=\"toc-item-num\">4.2&nbsp;&nbsp;</span>Сравнение качества моделей до и после преобразования</a></span></li><li><span><a href=\"#Вывод:\" data-toc-modified-id=\"Вывод:-4.3\"><span class=\"toc-item-num\">4.3&nbsp;&nbsp;</span>Вывод:</a></span></li></ul></li><li><span><a href=\"#Чек-лист-проверки\" data-toc-modified-id=\"Чек-лист-проверки-5\"><span class=\"toc-item-num\">5&nbsp;&nbsp;</span>Чек-лист проверки</a></span></li></ul></div>"
      ]
    },
    {
      "cell_type": "markdown",
      "metadata": {
        "id": "BzsjKRcxhFrw"
      },
      "source": [
        "# Защита персональных данных клиентов"
      ]
    },
    {
      "cell_type": "markdown",
      "metadata": {
        "id": "VH6OaDXfhFrw"
      },
      "source": [
        "Вам нужно защитить данные клиентов страховой компании «Хоть потоп». Разработайте такой метод преобразования данных, чтобы по ним было сложно восстановить персональную информацию. Обоснуйте корректность его работы.\n",
        "\n",
        "Нужно защитить данные, чтобы при преобразовании качество моделей машинного обучения не ухудшилось. Подбирать наилучшую модель не требуется."
      ]
    },
    {
      "cell_type": "markdown",
      "metadata": {
        "id": "fcKqo-2mhFrx"
      },
      "source": [
        "## Загрузка данных"
      ]
    },
    {
      "cell_type": "markdown",
      "metadata": {
        "id": "XPVubBaOhFry"
      },
      "source": [
        "Импортируем библиотеки с которыми будем работать"
      ]
    },
    {
      "cell_type": "code",
      "execution_count": null,
      "metadata": {
        "id": "ZFY0G-ZuhFry"
      },
      "outputs": [],
      "source": [
        "import pandas as pd\n",
        "import numpy as np\n",
        "\n",
        "from scipy import stats as st\n",
        "from scipy.stats import multivariate_normal\n",
        "from sklearn.linear_model import LinearRegression\n",
        "from sklearn.model_selection import cross_val_score\n",
        "from sklearn.metrics import r2_score"
      ]
    },
    {
      "cell_type": "markdown",
      "metadata": {
        "id": "BltytNuZhFr0"
      },
      "source": [
        "Загрузим датасет"
      ]
    },
    {
      "cell_type": "code",
      "execution_count": null,
      "metadata": {
        "id": "1clLg2j8hFr1"
      },
      "outputs": [],
      "source": [
        "insurance = pd.read_csv('/datasets/insurance.csv', sep=',')"
      ]
    },
    {
      "cell_type": "markdown",
      "metadata": {
        "id": "HaR-B266hFr1"
      },
      "source": [
        "Выведем общую информацию о датасете и первые 5 строк"
      ]
    },
    {
      "cell_type": "code",
      "execution_count": null,
      "metadata": {
        "scrolled": false,
        "id": "U_V1KFXVhFr2",
        "outputId": "61ed3499-22e9-472b-f83e-122df723372b"
      },
      "outputs": [
        {
          "name": "stdout",
          "output_type": "stream",
          "text": [
            "<class 'pandas.core.frame.DataFrame'>\n",
            "RangeIndex: 5000 entries, 0 to 4999\n",
            "Data columns (total 5 columns):\n",
            " #   Column             Non-Null Count  Dtype  \n",
            "---  ------             --------------  -----  \n",
            " 0   Пол                5000 non-null   int64  \n",
            " 1   Возраст            5000 non-null   float64\n",
            " 2   Зарплата           5000 non-null   float64\n",
            " 3   Члены семьи        5000 non-null   int64  \n",
            " 4   Страховые выплаты  5000 non-null   int64  \n",
            "dtypes: float64(2), int64(3)\n",
            "memory usage: 195.4 KB\n"
          ]
        },
        {
          "data": {
            "text/plain": [
              "None"
            ]
          },
          "metadata": {},
          "output_type": "display_data"
        },
        {
          "data": {
            "text/html": [
              "<div>\n",
              "<style scoped>\n",
              "    .dataframe tbody tr th:only-of-type {\n",
              "        vertical-align: middle;\n",
              "    }\n",
              "\n",
              "    .dataframe tbody tr th {\n",
              "        vertical-align: top;\n",
              "    }\n",
              "\n",
              "    .dataframe thead th {\n",
              "        text-align: right;\n",
              "    }\n",
              "</style>\n",
              "<table border=\"1\" class=\"dataframe\">\n",
              "  <thead>\n",
              "    <tr style=\"text-align: right;\">\n",
              "      <th></th>\n",
              "      <th>Пол</th>\n",
              "      <th>Возраст</th>\n",
              "      <th>Зарплата</th>\n",
              "      <th>Члены семьи</th>\n",
              "      <th>Страховые выплаты</th>\n",
              "    </tr>\n",
              "  </thead>\n",
              "  <tbody>\n",
              "    <tr>\n",
              "      <th>0</th>\n",
              "      <td>1</td>\n",
              "      <td>41.0</td>\n",
              "      <td>49600.0</td>\n",
              "      <td>1</td>\n",
              "      <td>0</td>\n",
              "    </tr>\n",
              "    <tr>\n",
              "      <th>1</th>\n",
              "      <td>0</td>\n",
              "      <td>46.0</td>\n",
              "      <td>38000.0</td>\n",
              "      <td>1</td>\n",
              "      <td>1</td>\n",
              "    </tr>\n",
              "    <tr>\n",
              "      <th>2</th>\n",
              "      <td>0</td>\n",
              "      <td>29.0</td>\n",
              "      <td>21000.0</td>\n",
              "      <td>0</td>\n",
              "      <td>0</td>\n",
              "    </tr>\n",
              "    <tr>\n",
              "      <th>3</th>\n",
              "      <td>0</td>\n",
              "      <td>21.0</td>\n",
              "      <td>41700.0</td>\n",
              "      <td>2</td>\n",
              "      <td>0</td>\n",
              "    </tr>\n",
              "    <tr>\n",
              "      <th>4</th>\n",
              "      <td>1</td>\n",
              "      <td>28.0</td>\n",
              "      <td>26100.0</td>\n",
              "      <td>0</td>\n",
              "      <td>0</td>\n",
              "    </tr>\n",
              "  </tbody>\n",
              "</table>\n",
              "</div>"
            ],
            "text/plain": [
              "   Пол  Возраст  Зарплата  Члены семьи  Страховые выплаты\n",
              "0    1     41.0   49600.0            1                  0\n",
              "1    0     46.0   38000.0            1                  1\n",
              "2    0     29.0   21000.0            0                  0\n",
              "3    0     21.0   41700.0            2                  0\n",
              "4    1     28.0   26100.0            0                  0"
            ]
          },
          "metadata": {},
          "output_type": "display_data"
        }
      ],
      "source": [
        "display(insurance.info())\n",
        "display(insurance.head())"
      ]
    },
    {
      "cell_type": "markdown",
      "metadata": {
        "id": "HAIfaXdFhFr4"
      },
      "source": [
        "Выведем на экран основные значения по датасету"
      ]
    },
    {
      "cell_type": "code",
      "execution_count": null,
      "metadata": {
        "scrolled": true,
        "id": "MzJ5R5LMhFr4",
        "outputId": "a348de89-8052-4adc-e32a-0fdba34ae79e"
      },
      "outputs": [
        {
          "data": {
            "text/html": [
              "<div>\n",
              "<style scoped>\n",
              "    .dataframe tbody tr th:only-of-type {\n",
              "        vertical-align: middle;\n",
              "    }\n",
              "\n",
              "    .dataframe tbody tr th {\n",
              "        vertical-align: top;\n",
              "    }\n",
              "\n",
              "    .dataframe thead th {\n",
              "        text-align: right;\n",
              "    }\n",
              "</style>\n",
              "<table border=\"1\" class=\"dataframe\">\n",
              "  <thead>\n",
              "    <tr style=\"text-align: right;\">\n",
              "      <th></th>\n",
              "      <th>count</th>\n",
              "      <th>mean</th>\n",
              "      <th>std</th>\n",
              "      <th>min</th>\n",
              "      <th>25%</th>\n",
              "      <th>50%</th>\n",
              "      <th>75%</th>\n",
              "      <th>max</th>\n",
              "    </tr>\n",
              "  </thead>\n",
              "  <tbody>\n",
              "    <tr>\n",
              "      <th>Пол</th>\n",
              "      <td>5000.0</td>\n",
              "      <td>0.4990</td>\n",
              "      <td>0.500049</td>\n",
              "      <td>0.0</td>\n",
              "      <td>0.0</td>\n",
              "      <td>0.0</td>\n",
              "      <td>1.0</td>\n",
              "      <td>1.0</td>\n",
              "    </tr>\n",
              "    <tr>\n",
              "      <th>Возраст</th>\n",
              "      <td>5000.0</td>\n",
              "      <td>30.9528</td>\n",
              "      <td>8.440807</td>\n",
              "      <td>18.0</td>\n",
              "      <td>24.0</td>\n",
              "      <td>30.0</td>\n",
              "      <td>37.0</td>\n",
              "      <td>65.0</td>\n",
              "    </tr>\n",
              "    <tr>\n",
              "      <th>Зарплата</th>\n",
              "      <td>5000.0</td>\n",
              "      <td>39916.3600</td>\n",
              "      <td>9900.083569</td>\n",
              "      <td>5300.0</td>\n",
              "      <td>33300.0</td>\n",
              "      <td>40200.0</td>\n",
              "      <td>46600.0</td>\n",
              "      <td>79000.0</td>\n",
              "    </tr>\n",
              "    <tr>\n",
              "      <th>Члены семьи</th>\n",
              "      <td>5000.0</td>\n",
              "      <td>1.1942</td>\n",
              "      <td>1.091387</td>\n",
              "      <td>0.0</td>\n",
              "      <td>0.0</td>\n",
              "      <td>1.0</td>\n",
              "      <td>2.0</td>\n",
              "      <td>6.0</td>\n",
              "    </tr>\n",
              "    <tr>\n",
              "      <th>Страховые выплаты</th>\n",
              "      <td>5000.0</td>\n",
              "      <td>0.1480</td>\n",
              "      <td>0.463183</td>\n",
              "      <td>0.0</td>\n",
              "      <td>0.0</td>\n",
              "      <td>0.0</td>\n",
              "      <td>0.0</td>\n",
              "      <td>5.0</td>\n",
              "    </tr>\n",
              "  </tbody>\n",
              "</table>\n",
              "</div>"
            ],
            "text/plain": [
              "                    count        mean          std     min      25%      50%  \\\n",
              "Пол                5000.0      0.4990     0.500049     0.0      0.0      0.0   \n",
              "Возраст            5000.0     30.9528     8.440807    18.0     24.0     30.0   \n",
              "Зарплата           5000.0  39916.3600  9900.083569  5300.0  33300.0  40200.0   \n",
              "Члены семьи        5000.0      1.1942     1.091387     0.0      0.0      1.0   \n",
              "Страховые выплаты  5000.0      0.1480     0.463183     0.0      0.0      0.0   \n",
              "\n",
              "                       75%      max  \n",
              "Пол                    1.0      1.0  \n",
              "Возраст               37.0     65.0  \n",
              "Зарплата           46600.0  79000.0  \n",
              "Члены семьи            2.0      6.0  \n",
              "Страховые выплаты      0.0      5.0  "
            ]
          },
          "metadata": {},
          "output_type": "display_data"
        }
      ],
      "source": [
        "display(insurance.describe().T)"
      ]
    },
    {
      "cell_type": "markdown",
      "metadata": {
        "id": "JjaTFhkwhFr5"
      },
      "source": [
        "Определим, есть ли явные дубликаты"
      ]
    },
    {
      "cell_type": "code",
      "execution_count": null,
      "metadata": {
        "scrolled": true,
        "id": "-o23DuuShFr5",
        "outputId": "bcc1a7c4-09d4-4409-8ff0-ba3c06f2e268"
      },
      "outputs": [
        {
          "name": "stdout",
          "output_type": "stream",
          "text": [
            "Количество дубликатов 153\n"
          ]
        }
      ],
      "source": [
        "print('Количество дубликатов', insurance.duplicated().sum())"
      ]
    },
    {
      "cell_type": "markdown",
      "metadata": {
        "id": "i-8D7EDXhFr5"
      },
      "source": [
        "### Вывод:\n",
        " - Датасет содержит 5000 строк, 5 столбцов\n",
        " - Из описания к проекту нам известно, что Признаки:\n",
        "   - пол\n",
        "   - возраст\n",
        "   - зарплата застрахованного\n",
        "   - количество членов его семьи\n",
        " - Целевой признак: количество страховых выплат клиенту за последние 5 лет\n",
        " - В столбце **Возраст** и **Зарплата** тип данных `float64`, необходимо будет заменить на `int`"
      ]
    },
    {
      "cell_type": "markdown",
      "metadata": {
        "id": "rHXnKsoahFr5"
      },
      "source": [
        "### Предобработка данных"
      ]
    },
    {
      "cell_type": "markdown",
      "metadata": {
        "id": "cGN4i7u7hFr5"
      },
      "source": [
        "Избавимся от явных дубликатов"
      ]
    },
    {
      "cell_type": "code",
      "execution_count": null,
      "metadata": {
        "id": "K40bYX_mhFr5",
        "outputId": "8eaa87e2-371b-410a-f6dc-33a013879f95"
      },
      "outputs": [
        {
          "name": "stdout",
          "output_type": "stream",
          "text": [
            "Количество дубликатов 0\n"
          ]
        }
      ],
      "source": [
        "insurance.drop_duplicates(inplace = True)\n",
        "print('Количество дубликатов', insurance.duplicated().sum())"
      ]
    },
    {
      "cell_type": "markdown",
      "metadata": {
        "id": "e12OMkaDhFr6"
      },
      "source": [
        "Заменим тип данных в столбце **Возраст** и **Зарплата**"
      ]
    },
    {
      "cell_type": "code",
      "execution_count": null,
      "metadata": {
        "scrolled": true,
        "id": "_wNZsNq5hFr6",
        "outputId": "06cd3fa8-2c24-42c5-a4ca-4a514f6bf4c3"
      },
      "outputs": [
        {
          "name": "stdout",
          "output_type": "stream",
          "text": [
            "<class 'pandas.core.frame.DataFrame'>\n",
            "Int64Index: 4847 entries, 0 to 4999\n",
            "Data columns (total 5 columns):\n",
            " #   Column             Non-Null Count  Dtype\n",
            "---  ------             --------------  -----\n",
            " 0   Пол                4847 non-null   int64\n",
            " 1   Возраст            4847 non-null   int64\n",
            " 2   Зарплата           4847 non-null   int64\n",
            " 3   Члены семьи        4847 non-null   int64\n",
            " 4   Страховые выплаты  4847 non-null   int64\n",
            "dtypes: int64(5)\n",
            "memory usage: 227.2 KB\n",
            "None\n"
          ]
        }
      ],
      "source": [
        "insurance['Возраст']=insurance['Возраст'].astype('int')\n",
        "insurance['Зарплата']=insurance['Зарплата'].astype('int')\n",
        "print(insurance.info())"
      ]
    },
    {
      "cell_type": "markdown",
      "metadata": {
        "id": "msZntsTwhFr7"
      },
      "source": [
        "#### Вывод:\n",
        " - Избавились от дубликатов, изменили тип данных в столбцах **Возраст** и **Зарплата**"
      ]
    },
    {
      "cell_type": "markdown",
      "metadata": {
        "id": "lCNH4qAphFr7"
      },
      "source": [
        "## Умножение матриц"
      ]
    },
    {
      "cell_type": "markdown",
      "metadata": {
        "id": "xMaYmfCdhFr7"
      },
      "source": [
        "В этом задании вы можете записывать формулы в *Jupyter Notebook.*\n",
        "\n",
        "Чтобы записать формулу внутри текста, окружите её символами доллара \\\\$; если снаружи —  двойными символами \\\\$\\\\$. Эти формулы записываются на языке вёрстки *LaTeX.*\n",
        "\n",
        "Для примера мы записали формулы линейной регрессии. Можете их скопировать и отредактировать, чтобы решить задачу.\n",
        "\n",
        "Работать в *LaTeX* необязательно."
      ]
    },
    {
      "cell_type": "markdown",
      "metadata": {
        "id": "fW4lgEHuhFr7"
      },
      "source": [
        "Обозначения:\n",
        "\n",
        "- $X$ — матрица признаков (нулевой столбец состоит из единиц)\n",
        "\n",
        "- $y$ — вектор целевого признака\n",
        "\n",
        "- $P$ — матрица, на которую умножаются признаки\n",
        "\n",
        "- $w$ — вектор весов линейной регрессии (нулевой элемент равен сдвигу)"
      ]
    },
    {
      "cell_type": "markdown",
      "metadata": {
        "id": "rFBZjDKjhFr8"
      },
      "source": [
        "Предсказания:\n",
        "\n",
        "$$\n",
        "a = Xw\n",
        "$$\n",
        "\n",
        "Задача обучения:\n",
        "\n",
        "$$\n",
        "w = \\arg\\min_w MSE(Xw, y)\n",
        "$$\n",
        "\n",
        "Формула обучения:\n",
        "\n",
        "$$\n",
        "w = (X^T X)^{-1} X^T y\n",
        "$$"
      ]
    },
    {
      "cell_type": "markdown",
      "metadata": {
        "id": "pTxmv7eehFr8"
      },
      "source": [
        "**Ответ:** Не изменится\n",
        "\n",
        "**Обоснование:** Для обоснования нашего утверждения в формулах предсказания и обучения заменим X на XP и введем новые обозначения $a′$ и $w′$:  \n",
        "$$a′ = XPw′$$\n",
        "$$w' = ((XP)^T XP)^{-1}(XP)^T y$$"
      ]
    },
    {
      "cell_type": "markdown",
      "metadata": {
        "id": "8z2uFoPHhFr8"
      },
      "source": [
        "Подставим значение формулы $w′$ в $a′$:\n",
        "$$\n",
        "a' = X P ((XP)^T XP)^{-1}(XP)^T y $$"
      ]
    },
    {
      "cell_type": "markdown",
      "metadata": {
        "id": "H9AOsmythFr8"
      },
      "source": [
        "Преобразуем получившуюся формулу, пользуясь свойствами обратной $^*$, транспонированной$^*$$^*$ и еденичной$^*$$^*$$^*$ матриц:"
      ]
    },
    {
      "cell_type": "markdown",
      "metadata": {
        "id": "F_zfwlqVhFr8"
      },
      "source": [
        "$$a' = X P (P^TX^T XP)^{-1}P^T X^T y = X P (X^TXP)^{-1} (P^T)^{-1} P^T X^T y = X P P^{-1}(X^TX)^{-1} (P^T)^{-1} P^T X^T y = X E (X^TX)^{-1} E  X^T y = X (X^TX)^{-1} X^T y$$"
      ]
    },
    {
      "cell_type": "markdown",
      "metadata": {
        "id": "NXki3XyLhFr8"
      },
      "source": [
        "$^*$  $(AB)^{-1} = B^{-1} A^{-1}$ (для двух квадратных обратимых матриц A и B)"
      ]
    },
    {
      "cell_type": "markdown",
      "metadata": {
        "id": "Fe8wevlBhFr9"
      },
      "source": [
        "$^*$$^*$  $(AB)^T = B^T A^T$"
      ]
    },
    {
      "cell_type": "markdown",
      "metadata": {
        "id": "kCkmpPz2hFr9"
      },
      "source": [
        "$^*$$^*$$^*$ $(АА)^{-1}=E$; $AE = EA = A$"
      ]
    },
    {
      "cell_type": "markdown",
      "metadata": {
        "id": "W1itR5dWhFr9"
      },
      "source": [
        "(4) После всех преобразований видим, что: $$a' = X (X^TX)^{-1} X^T y = Xw = a$$"
      ]
    },
    {
      "cell_type": "markdown",
      "metadata": {
        "id": "xOFEXZfkhFr9"
      },
      "source": [
        "### Вывод:\n",
        " - При умножении признаков на обратимую матрицу качество линейной регрессии не изменится"
      ]
    },
    {
      "cell_type": "markdown",
      "metadata": {
        "id": "IWMYRQsBhFr9"
      },
      "source": [
        "## Алгоритм преобразования"
      ]
    },
    {
      "cell_type": "markdown",
      "metadata": {
        "id": "y63Ka_MKhFr-"
      },
      "source": [
        "**Алгоритм**\n",
        "\n",
        "В общем случае, алгоритм шифрования может быть выражен в следующем виде:\n",
        "$$C=KP$$  \n",
        "Где P и C - открытая и зашифрованная матрица, K - квадратная матрица, представляющая ключ шифрования."
      ]
    },
    {
      "cell_type": "markdown",
      "metadata": {
        "id": "MMX1BeS4hFr-"
      },
      "source": [
        "**Обоснование**\n",
        "\n",
        "Умножая открытую матрицу на ключ мы сдвигаем пространство признаков, не меняя общей структуры.  \n",
        "Следовательно качество модели никак не изменится.   \n",
        "Расшифровка: $$ P = K^{-1}C = K^{-1}KP = P$$\n",
        "https://ru.wikipedia.org/wiki/Шифр_Хилла"
      ]
    },
    {
      "cell_type": "markdown",
      "metadata": {
        "id": "ApCn7JfBhFr-"
      },
      "source": [
        "**Алгоритм**\n",
        "1. Можно сгенерировать обратимую матрицу, соответственно квадратную, размерностью соответствующую количеству столбцов признаков, а именно 4х4.\n",
        "2. Умножить матрицу исходных признаков на сгенерированную матрицу.\n",
        "3. Посчитать качество модели на полученной матрице и сравнить с качеством модели на матрице исходных данных.  \n",
        "  \n",
        "**Обоснование**  \n",
        "В предыдущем пункте мы выяснили, что предсказания на измененной и изначальной матрице не должны отличаться, поэтому результаты метрики R2 должны оказаться равны. Тем самым мы докажем, что правильно защитили наши данные."
      ]
    },
    {
      "cell_type": "markdown",
      "metadata": {
        "id": "ERSnB6YohFr-"
      },
      "source": [
        "**Проверка алгоритма**"
      ]
    },
    {
      "cell_type": "markdown",
      "metadata": {
        "id": "kI2Y7sY8hFr_"
      },
      "source": [
        "Создадим исходные признаки"
      ]
    },
    {
      "cell_type": "code",
      "execution_count": null,
      "metadata": {
        "id": "duCL559zhFr_"
      },
      "outputs": [],
      "source": [
        "features = insurance.drop('Страховые выплаты', axis=1)\n",
        "target = insurance['Страховые выплаты']"
      ]
    },
    {
      "cell_type": "markdown",
      "metadata": {
        "id": "MgCFQNXBhFr_"
      },
      "source": [
        "Сгенерируем матрицу размером 4х4 методом random.normal (), т.к. при таком подходе вероятность получить необратимую матрицу близка к нулю"
      ]
    },
    {
      "cell_type": "code",
      "execution_count": null,
      "metadata": {
        "id": "LnOLj5WVhFr_",
        "outputId": "bb2e8a8b-b3de-4ac8-b4be-b3754b1c344b"
      },
      "outputs": [
        {
          "data": {
            "text/plain": [
              "array([[ 0.84881437,  0.5422245 ,  0.09444359,  1.68604108],\n",
              "       [ 0.88785708, -0.01145502,  0.93903271, -0.94014909],\n",
              "       [-0.56889633, -0.59937295, -0.9358034 , -0.70642308],\n",
              "       [-2.05418717,  0.67398588,  0.39178488, -0.34209593]])"
            ]
          },
          "metadata": {},
          "output_type": "display_data"
        }
      ],
      "source": [
        "matrix_generated = np.random.normal(size=(4, 4))\n",
        "display (matrix_generated)"
      ]
    },
    {
      "cell_type": "markdown",
      "metadata": {
        "id": "FPvWqKfhhFr_"
      },
      "source": [
        "Сделаем из нашей сгенерированной матрицы обратную методом linalg.inv(), т.к. в процессе обращения мы одновременно проверим матрицу на обратимость, если появится ошибка, то изначально наша сгенерированная матрица не являлась обратимой."
      ]
    },
    {
      "cell_type": "code",
      "execution_count": null,
      "metadata": {
        "scrolled": true,
        "id": "U9s9AZ4chFsA",
        "outputId": "089d2883-abf7-4d76-f928-882eb5209ee5"
      },
      "outputs": [
        {
          "data": {
            "text/plain": [
              "array([[ 1.49575302,  1.36087858,  1.62887378,  0.2683407 ],\n",
              "       [ 5.47202147,  4.39263975,  6.00526053,  2.49655735],\n",
              "       [-3.09584059, -2.1480054 , -3.99724879, -1.10062785],\n",
              "       [-1.7462792 , -1.97745173, -2.52739769, -0.87632429]])"
            ]
          },
          "metadata": {},
          "output_type": "display_data"
        }
      ],
      "source": [
        "matrix_invert = np.linalg.inv(matrix_generated)\n",
        "display (matrix_invert)"
      ]
    },
    {
      "cell_type": "markdown",
      "metadata": {
        "id": "QuqU5KtKhFsA"
      },
      "source": [
        "Создадим матрицу из наших изначальных признаков, перемножим ее на сгенерированную и обращенную матрицу и составим из полученной новый набор измененных признаков"
      ]
    },
    {
      "cell_type": "code",
      "execution_count": null,
      "metadata": {
        "id": "8DUhdOVHhFsA",
        "outputId": "393c6163-c123-4dd0-b6e8-58c513aa361c"
      },
      "outputs": [
        {
          "data": {
            "text/html": [
              "<div>\n",
              "<style scoped>\n",
              "    .dataframe tbody tr th:only-of-type {\n",
              "        vertical-align: middle;\n",
              "    }\n",
              "\n",
              "    .dataframe tbody tr th {\n",
              "        vertical-align: top;\n",
              "    }\n",
              "\n",
              "    .dataframe thead th {\n",
              "        text-align: right;\n",
              "    }\n",
              "</style>\n",
              "<table border=\"1\" class=\"dataframe\">\n",
              "  <thead>\n",
              "    <tr style=\"text-align: right;\">\n",
              "      <th></th>\n",
              "      <th>Пол</th>\n",
              "      <th>Возраст</th>\n",
              "      <th>Зарплата</th>\n",
              "      <th>Члены семьи</th>\n",
              "    </tr>\n",
              "  </thead>\n",
              "  <tbody>\n",
              "    <tr>\n",
              "      <th>0</th>\n",
              "      <td>-153329.591149</td>\n",
              "      <td>-106361.586258</td>\n",
              "      <td>-198018.222809</td>\n",
              "      <td>-54489.390506</td>\n",
              "    </tr>\n",
              "    <tr>\n",
              "      <th>1</th>\n",
              "      <td>-117391.975895</td>\n",
              "      <td>-81424.121280</td>\n",
              "      <td>-151621.739420</td>\n",
              "      <td>-41709.892996</td>\n",
              "    </tr>\n",
              "    <tr>\n",
              "      <th>2</th>\n",
              "      <td>-64853.963869</td>\n",
              "      <td>-44980.726879</td>\n",
              "      <td>-83768.072027</td>\n",
              "      <td>-23040.784693</td>\n",
              "    </tr>\n",
              "    <tr>\n",
              "      <th>3</th>\n",
              "      <td>-128985.132911</td>\n",
              "      <td>-89483.534711</td>\n",
              "      <td>-166564.218853</td>\n",
              "      <td>-45845.506300</td>\n",
              "    </tr>\n",
              "    <tr>\n",
              "      <th>4</th>\n",
              "      <td>-80646.727171</td>\n",
              "      <td>-55938.586188</td>\n",
              "      <td>-104158.417241</td>\n",
              "      <td>-28656.214946</td>\n",
              "    </tr>\n",
              "    <tr>\n",
              "      <th>...</th>\n",
              "      <td>...</td>\n",
              "      <td>...</td>\n",
              "      <td>...</td>\n",
              "      <td>...</td>\n",
              "    </tr>\n",
              "    <tr>\n",
              "      <th>4842</th>\n",
              "      <td>-110371.785192</td>\n",
              "      <td>-76564.753824</td>\n",
              "      <td>-142538.689291</td>\n",
              "      <td>-39224.263297</td>\n",
              "    </tr>\n",
              "    <tr>\n",
              "      <th>4843</th>\n",
              "      <td>-162037.744718</td>\n",
              "      <td>-112408.110739</td>\n",
              "      <td>-209254.185118</td>\n",
              "      <td>-57588.892728</td>\n",
              "    </tr>\n",
              "    <tr>\n",
              "      <th>4844</th>\n",
              "      <td>-104843.048293</td>\n",
              "      <td>-72733.485219</td>\n",
              "      <td>-135391.683554</td>\n",
              "      <td>-37263.105626</td>\n",
              "    </tr>\n",
              "    <tr>\n",
              "      <th>4845</th>\n",
              "      <td>-101117.346063</td>\n",
              "      <td>-70147.710031</td>\n",
              "      <td>-130583.873009</td>\n",
              "      <td>-35937.967074</td>\n",
              "    </tr>\n",
              "    <tr>\n",
              "      <th>4846</th>\n",
              "      <td>-125538.162075</td>\n",
              "      <td>-87086.641961</td>\n",
              "      <td>-162121.052089</td>\n",
              "      <td>-44616.195099</td>\n",
              "    </tr>\n",
              "  </tbody>\n",
              "</table>\n",
              "<p>4847 rows × 4 columns</p>\n",
              "</div>"
            ],
            "text/plain": [
              "                Пол        Возраст       Зарплата   Члены семьи\n",
              "0    -153329.591149 -106361.586258 -198018.222809 -54489.390506\n",
              "1    -117391.975895  -81424.121280 -151621.739420 -41709.892996\n",
              "2     -64853.963869  -44980.726879  -83768.072027 -23040.784693\n",
              "3    -128985.132911  -89483.534711 -166564.218853 -45845.506300\n",
              "4     -80646.727171  -55938.586188 -104158.417241 -28656.214946\n",
              "...             ...            ...            ...           ...\n",
              "4842 -110371.785192  -76564.753824 -142538.689291 -39224.263297\n",
              "4843 -162037.744718 -112408.110739 -209254.185118 -57588.892728\n",
              "4844 -104843.048293  -72733.485219 -135391.683554 -37263.105626\n",
              "4845 -101117.346063  -70147.710031 -130583.873009 -35937.967074\n",
              "4846 -125538.162075  -87086.641961 -162121.052089 -44616.195099\n",
              "\n",
              "[4847 rows x 4 columns]"
            ]
          },
          "execution_count": 32,
          "metadata": {},
          "output_type": "execute_result"
        }
      ],
      "source": [
        "matrix = features.values\n",
        "matrix_new = matrix@matrix_invert\n",
        "features_incode = pd.DataFrame (matrix_new, columns = features.columns)\n",
        "features_incode"
      ]
    },
    {
      "cell_type": "markdown",
      "metadata": {
        "id": "t04pxsrEhFsB"
      },
      "source": [
        "Создадим класс LinearRegression для последующего обучения наших моделей"
      ]
    },
    {
      "cell_type": "code",
      "execution_count": null,
      "metadata": {
        "id": "cyejnetNhFsB"
      },
      "outputs": [],
      "source": [
        "class LinearRegression:\n",
        "    def fit(self, train_features, train_target):\n",
        "        X = np.concatenate((np.ones((train_features.shape[0], 1)), train_features), axis=1)\n",
        "        y = train_target\n",
        "        w = np.linalg.inv(X.T@X)@X.T@y\n",
        "        self.w = w[1:]\n",
        "        self.w0 = w[0]\n",
        "\n",
        "    def predict(self, test_features):\n",
        "        return test_features.dot(self.w) + self.w0"
      ]
    },
    {
      "cell_type": "markdown",
      "metadata": {
        "id": "vEac7PPXhFsB"
      },
      "source": [
        "Обучим модель на изначальных признаках и выведем на экран метрику качества R2"
      ]
    },
    {
      "cell_type": "code",
      "execution_count": null,
      "metadata": {
        "id": "gcJX8AHnhFsB",
        "outputId": "1c340ec2-bae6-4eb2-ab27-f18f47ff4094"
      },
      "outputs": [
        {
          "name": "stdout",
          "output_type": "stream",
          "text": [
            "0.4302010046633359\n"
          ]
        }
      ],
      "source": [
        "model = LinearRegression()\n",
        "model.fit(features, target)\n",
        "predictions = model.predict(features)\n",
        "print(r2_score(target, predictions))"
      ]
    },
    {
      "cell_type": "markdown",
      "metadata": {
        "id": "MYpIQdmEhFsB"
      },
      "source": [
        "Обучим модель на закодированных признаках и выведем на экран метрику качества R2"
      ]
    },
    {
      "cell_type": "code",
      "execution_count": null,
      "metadata": {
        "id": "Njl1ZS96hFsC",
        "outputId": "761313c4-91ee-44e1-fbcf-e16da1e80607"
      },
      "outputs": [
        {
          "name": "stdout",
          "output_type": "stream",
          "text": [
            "0.4302010046370789\n"
          ]
        }
      ],
      "source": [
        "model = LinearRegression()\n",
        "model.fit(features_incode, target)\n",
        "predictions = model.predict(features_incode)\n",
        "print(r2_score(target, predictions))"
      ]
    },
    {
      "cell_type": "markdown",
      "metadata": {
        "id": "ubVAvzr9hFsC"
      },
      "source": [
        "**Вывод**: Есть некоторая погрешность при обратном преобразовании."
      ]
    },
    {
      "cell_type": "markdown",
      "metadata": {
        "id": "ucQh5wMChFsC"
      },
      "source": [
        "## Проверка алгоритма"
      ]
    },
    {
      "cell_type": "markdown",
      "metadata": {
        "id": "wJQesS0QhFsD"
      },
      "source": [
        "Создадим переменные для признаков и целевого признака"
      ]
    },
    {
      "cell_type": "code",
      "execution_count": null,
      "metadata": {
        "id": "SKCx0r3KhFsD"
      },
      "outputs": [],
      "source": [
        "features = insurance.drop('Страховые выплаты', axis=1)\n",
        "target = insurance['Страховые выплаты']"
      ]
    },
    {
      "cell_type": "markdown",
      "metadata": {
        "id": "ksIUHScrhFsD"
      },
      "source": [
        "Создадим квадратную матрицу P"
      ]
    },
    {
      "cell_type": "code",
      "execution_count": null,
      "metadata": {
        "id": "H0QdLlQghFsD",
        "outputId": "320f3e27-f466-4315-f80c-6e291fc6b033"
      },
      "outputs": [
        {
          "data": {
            "text/html": [
              "<div>\n",
              "<style scoped>\n",
              "    .dataframe tbody tr th:only-of-type {\n",
              "        vertical-align: middle;\n",
              "    }\n",
              "\n",
              "    .dataframe tbody tr th {\n",
              "        vertical-align: top;\n",
              "    }\n",
              "\n",
              "    .dataframe thead th {\n",
              "        text-align: right;\n",
              "    }\n",
              "</style>\n",
              "<table border=\"1\" class=\"dataframe\">\n",
              "  <thead>\n",
              "    <tr style=\"text-align: right;\">\n",
              "      <th></th>\n",
              "      <th>0</th>\n",
              "      <th>1</th>\n",
              "      <th>2</th>\n",
              "      <th>3</th>\n",
              "    </tr>\n",
              "  </thead>\n",
              "  <tbody>\n",
              "    <tr>\n",
              "      <th>0</th>\n",
              "      <td>1.638437</td>\n",
              "      <td>0.912187</td>\n",
              "      <td>-1.009540</td>\n",
              "      <td>-1.100359</td>\n",
              "    </tr>\n",
              "    <tr>\n",
              "      <th>1</th>\n",
              "      <td>0.474548</td>\n",
              "      <td>0.220428</td>\n",
              "      <td>-0.667805</td>\n",
              "      <td>-0.324007</td>\n",
              "    </tr>\n",
              "    <tr>\n",
              "      <th>2</th>\n",
              "      <td>0.856870</td>\n",
              "      <td>-0.791734</td>\n",
              "      <td>-0.410454</td>\n",
              "      <td>-1.850848</td>\n",
              "    </tr>\n",
              "    <tr>\n",
              "      <th>3</th>\n",
              "      <td>1.764771</td>\n",
              "      <td>1.961887</td>\n",
              "      <td>2.049913</td>\n",
              "      <td>0.217198</td>\n",
              "    </tr>\n",
              "  </tbody>\n",
              "</table>\n",
              "</div>"
            ],
            "text/plain": [
              "          0         1         2         3\n",
              "0  1.638437  0.912187 -1.009540 -1.100359\n",
              "1  0.474548  0.220428 -0.667805 -0.324007\n",
              "2  0.856870 -0.791734 -0.410454 -1.850848\n",
              "3  1.764771  1.961887  2.049913  0.217198"
            ]
          },
          "metadata": {},
          "output_type": "display_data"
        }
      ],
      "source": [
        "P = np.random.normal(size=(4, 4))\n",
        "display(pd.DataFrame(P))"
      ]
    },
    {
      "cell_type": "markdown",
      "metadata": {
        "id": "2Cch-YByhFsF"
      },
      "source": [
        "Проверим, что при умножении данной матрицы на обратную ей получится единичная матрица E"
      ]
    },
    {
      "cell_type": "code",
      "execution_count": null,
      "metadata": {
        "id": "kUaG8RJ3hFsF",
        "outputId": "cbef8482-cf8f-4a54-ec63-4d532a8753d0"
      },
      "outputs": [
        {
          "data": {
            "text/html": [
              "<div>\n",
              "<style scoped>\n",
              "    .dataframe tbody tr th:only-of-type {\n",
              "        vertical-align: middle;\n",
              "    }\n",
              "\n",
              "    .dataframe tbody tr th {\n",
              "        vertical-align: top;\n",
              "    }\n",
              "\n",
              "    .dataframe thead th {\n",
              "        text-align: right;\n",
              "    }\n",
              "</style>\n",
              "<table border=\"1\" class=\"dataframe\">\n",
              "  <thead>\n",
              "    <tr style=\"text-align: right;\">\n",
              "      <th></th>\n",
              "      <th>0</th>\n",
              "      <th>1</th>\n",
              "      <th>2</th>\n",
              "      <th>3</th>\n",
              "    </tr>\n",
              "  </thead>\n",
              "  <tbody>\n",
              "    <tr>\n",
              "      <th>0</th>\n",
              "      <td>1</td>\n",
              "      <td>0</td>\n",
              "      <td>0</td>\n",
              "      <td>0</td>\n",
              "    </tr>\n",
              "    <tr>\n",
              "      <th>1</th>\n",
              "      <td>0</td>\n",
              "      <td>1</td>\n",
              "      <td>0</td>\n",
              "      <td>0</td>\n",
              "    </tr>\n",
              "    <tr>\n",
              "      <th>2</th>\n",
              "      <td>0</td>\n",
              "      <td>0</td>\n",
              "      <td>1</td>\n",
              "      <td>0</td>\n",
              "    </tr>\n",
              "    <tr>\n",
              "      <th>3</th>\n",
              "      <td>0</td>\n",
              "      <td>0</td>\n",
              "      <td>0</td>\n",
              "      <td>1</td>\n",
              "    </tr>\n",
              "  </tbody>\n",
              "</table>\n",
              "</div>"
            ],
            "text/plain": [
              "   0  1  2  3\n",
              "0  1  0  0  0\n",
              "1  0  1  0  0\n",
              "2  0  0  1  0\n",
              "3  0  0  0  1"
            ]
          },
          "metadata": {},
          "output_type": "display_data"
        }
      ],
      "source": [
        "display(round(pd.DataFrame(P @ np.linalg.inv(P))).astype('int'))"
      ]
    },
    {
      "cell_type": "markdown",
      "metadata": {
        "id": "JdO0_4hDhFsG"
      },
      "source": [
        "Закодируем признаки features, умножив на матрицу P"
      ]
    },
    {
      "cell_type": "code",
      "execution_count": null,
      "metadata": {
        "id": "81bIOX1phFsG"
      },
      "outputs": [],
      "source": [
        "features_encoded = features @ P"
      ]
    },
    {
      "cell_type": "markdown",
      "metadata": {
        "id": "ZzuVxZDBhFsH"
      },
      "source": [
        "Посмотрим на исходные признаки"
      ]
    },
    {
      "cell_type": "code",
      "execution_count": null,
      "metadata": {
        "id": "BYzw_ExihFsH",
        "outputId": "f40d6154-a348-4034-90c2-877be76a06c5"
      },
      "outputs": [
        {
          "name": "stdout",
          "output_type": "stream",
          "text": [
            "Исходные признаки:\n"
          ]
        },
        {
          "data": {
            "text/html": [
              "<div>\n",
              "<style scoped>\n",
              "    .dataframe tbody tr th:only-of-type {\n",
              "        vertical-align: middle;\n",
              "    }\n",
              "\n",
              "    .dataframe tbody tr th {\n",
              "        vertical-align: top;\n",
              "    }\n",
              "\n",
              "    .dataframe thead th {\n",
              "        text-align: right;\n",
              "    }\n",
              "</style>\n",
              "<table border=\"1\" class=\"dataframe\">\n",
              "  <thead>\n",
              "    <tr style=\"text-align: right;\">\n",
              "      <th></th>\n",
              "      <th>Пол</th>\n",
              "      <th>Возраст</th>\n",
              "      <th>Зарплата</th>\n",
              "      <th>Члены семьи</th>\n",
              "    </tr>\n",
              "  </thead>\n",
              "  <tbody>\n",
              "    <tr>\n",
              "      <th>0</th>\n",
              "      <td>1</td>\n",
              "      <td>41</td>\n",
              "      <td>49600</td>\n",
              "      <td>1</td>\n",
              "    </tr>\n",
              "    <tr>\n",
              "      <th>1</th>\n",
              "      <td>0</td>\n",
              "      <td>46</td>\n",
              "      <td>38000</td>\n",
              "      <td>1</td>\n",
              "    </tr>\n",
              "    <tr>\n",
              "      <th>2</th>\n",
              "      <td>0</td>\n",
              "      <td>29</td>\n",
              "      <td>21000</td>\n",
              "      <td>0</td>\n",
              "    </tr>\n",
              "    <tr>\n",
              "      <th>3</th>\n",
              "      <td>0</td>\n",
              "      <td>21</td>\n",
              "      <td>41700</td>\n",
              "      <td>2</td>\n",
              "    </tr>\n",
              "    <tr>\n",
              "      <th>4</th>\n",
              "      <td>1</td>\n",
              "      <td>28</td>\n",
              "      <td>26100</td>\n",
              "      <td>0</td>\n",
              "    </tr>\n",
              "  </tbody>\n",
              "</table>\n",
              "</div>"
            ],
            "text/plain": [
              "   Пол  Возраст  Зарплата  Члены семьи\n",
              "0    1       41     49600            1\n",
              "1    0       46     38000            1\n",
              "2    0       29     21000            0\n",
              "3    0       21     41700            2\n",
              "4    1       28     26100            0"
            ]
          },
          "metadata": {},
          "output_type": "display_data"
        }
      ],
      "source": [
        "print('Исходные признаки:')\n",
        "display(features.head())"
      ]
    },
    {
      "cell_type": "markdown",
      "metadata": {
        "id": "jGZ-6ogihFsH"
      },
      "source": [
        "Посмотрим на закодированные признаки"
      ]
    },
    {
      "cell_type": "code",
      "execution_count": null,
      "metadata": {
        "id": "eMlcJtqIhFsI",
        "outputId": "6fc37ba8-8548-435f-a52c-0e624b47f768"
      },
      "outputs": [
        {
          "name": "stdout",
          "output_type": "stream",
          "text": [
            "Закодированные признаки:\n"
          ]
        },
        {
          "data": {
            "text/html": [
              "<div>\n",
              "<style scoped>\n",
              "    .dataframe tbody tr th:only-of-type {\n",
              "        vertical-align: middle;\n",
              "    }\n",
              "\n",
              "    .dataframe tbody tr th {\n",
              "        vertical-align: top;\n",
              "    }\n",
              "\n",
              "    .dataframe thead th {\n",
              "        text-align: right;\n",
              "    }\n",
              "</style>\n",
              "<table border=\"1\" class=\"dataframe\">\n",
              "  <thead>\n",
              "    <tr style=\"text-align: right;\">\n",
              "      <th></th>\n",
              "      <th>0</th>\n",
              "      <th>1</th>\n",
              "      <th>2</th>\n",
              "      <th>3</th>\n",
              "    </tr>\n",
              "  </thead>\n",
              "  <tbody>\n",
              "    <tr>\n",
              "      <th>0</th>\n",
              "      <td>42523.596833</td>\n",
              "      <td>-39258.108052</td>\n",
              "      <td>-20384.864240</td>\n",
              "      <td>-91816.244513</td>\n",
              "    </tr>\n",
              "    <tr>\n",
              "      <th>1</th>\n",
              "      <td>32584.642614</td>\n",
              "      <td>-30073.800589</td>\n",
              "      <td>-15625.925875</td>\n",
              "      <td>-70346.923589</td>\n",
              "    </tr>\n",
              "    <tr>\n",
              "      <th>2</th>\n",
              "      <td>18008.025613</td>\n",
              "      <td>-16620.027204</td>\n",
              "      <td>-8638.902975</td>\n",
              "      <td>-38877.211092</td>\n",
              "    </tr>\n",
              "    <tr>\n",
              "      <th>3</th>\n",
              "      <td>35744.961566</td>\n",
              "      <td>-33006.766203</td>\n",
              "      <td>-17125.861096</td>\n",
              "      <td>-77186.745022</td>\n",
              "    </tr>\n",
              "    <tr>\n",
              "      <th>4</th>\n",
              "      <td>22379.224973</td>\n",
              "      <td>-20657.180212</td>\n",
              "      <td>-10732.560748</td>\n",
              "      <td>-48317.313916</td>\n",
              "    </tr>\n",
              "  </tbody>\n",
              "</table>\n",
              "</div>"
            ],
            "text/plain": [
              "              0             1             2             3\n",
              "0  42523.596833 -39258.108052 -20384.864240 -91816.244513\n",
              "1  32584.642614 -30073.800589 -15625.925875 -70346.923589\n",
              "2  18008.025613 -16620.027204  -8638.902975 -38877.211092\n",
              "3  35744.961566 -33006.766203 -17125.861096 -77186.745022\n",
              "4  22379.224973 -20657.180212 -10732.560748 -48317.313916"
            ]
          },
          "metadata": {},
          "output_type": "display_data"
        }
      ],
      "source": [
        "print('Закодированные признаки:')\n",
        "display(features_encoded.head())"
      ]
    },
    {
      "cell_type": "markdown",
      "metadata": {
        "id": "19PQwdDOhFsI"
      },
      "source": [
        "### Вывод:\n",
        " - исходные признаки удалось закодировать"
      ]
    },
    {
      "cell_type": "markdown",
      "metadata": {
        "id": "RiKdm_sRhFsI"
      },
      "source": [
        "Попробуем восстановить исходные признаки умножив их на обран"
      ]
    },
    {
      "cell_type": "code",
      "execution_count": null,
      "metadata": {
        "scrolled": true,
        "id": "iJlHkAvYhFsI",
        "outputId": "aa0756d4-59c8-4ac9-dd4e-771d673bdd70"
      },
      "outputs": [
        {
          "name": "stdout",
          "output_type": "stream",
          "text": [
            "Восстановленные признаки\n"
          ]
        },
        {
          "data": {
            "text/html": [
              "<div>\n",
              "<style scoped>\n",
              "    .dataframe tbody tr th:only-of-type {\n",
              "        vertical-align: middle;\n",
              "    }\n",
              "\n",
              "    .dataframe tbody tr th {\n",
              "        vertical-align: top;\n",
              "    }\n",
              "\n",
              "    .dataframe thead th {\n",
              "        text-align: right;\n",
              "    }\n",
              "</style>\n",
              "<table border=\"1\" class=\"dataframe\">\n",
              "  <thead>\n",
              "    <tr style=\"text-align: right;\">\n",
              "      <th></th>\n",
              "      <th>0</th>\n",
              "      <th>1</th>\n",
              "      <th>2</th>\n",
              "      <th>3</th>\n",
              "    </tr>\n",
              "  </thead>\n",
              "  <tbody>\n",
              "    <tr>\n",
              "      <th>0</th>\n",
              "      <td>1</td>\n",
              "      <td>41</td>\n",
              "      <td>49600</td>\n",
              "      <td>1</td>\n",
              "    </tr>\n",
              "    <tr>\n",
              "      <th>1</th>\n",
              "      <td>0</td>\n",
              "      <td>46</td>\n",
              "      <td>38000</td>\n",
              "      <td>1</td>\n",
              "    </tr>\n",
              "    <tr>\n",
              "      <th>2</th>\n",
              "      <td>0</td>\n",
              "      <td>29</td>\n",
              "      <td>21000</td>\n",
              "      <td>0</td>\n",
              "    </tr>\n",
              "    <tr>\n",
              "      <th>3</th>\n",
              "      <td>0</td>\n",
              "      <td>21</td>\n",
              "      <td>41700</td>\n",
              "      <td>2</td>\n",
              "    </tr>\n",
              "    <tr>\n",
              "      <th>4</th>\n",
              "      <td>1</td>\n",
              "      <td>28</td>\n",
              "      <td>26100</td>\n",
              "      <td>0</td>\n",
              "    </tr>\n",
              "  </tbody>\n",
              "</table>\n",
              "</div>"
            ],
            "text/plain": [
              "   0   1      2  3\n",
              "0  1  41  49600  1\n",
              "1  0  46  38000  1\n",
              "2  0  29  21000  0\n",
              "3  0  21  41700  2\n",
              "4  1  28  26100  0"
            ]
          },
          "metadata": {},
          "output_type": "display_data"
        }
      ],
      "source": [
        "features_recovered = features_encoded @ np.linalg.inv(P)\n",
        "print('Восстановленные признаки')\n",
        "display(round(features_recovered).astype('int').head())"
      ]
    },
    {
      "cell_type": "markdown",
      "metadata": {
        "id": "jxuWSXmThFsI"
      },
      "source": [
        "Данные удалось декодировать - алгоритм работает"
      ]
    },
    {
      "cell_type": "markdown",
      "metadata": {
        "id": "ZKe8u_L2hFsJ"
      },
      "source": [
        "### Сравнение качества моделей до и после преобразования"
      ]
    },
    {
      "cell_type": "markdown",
      "metadata": {
        "id": "5Zug5zy5hFsJ"
      },
      "source": [
        "Создадим переменные для признаков и целевого признака"
      ]
    },
    {
      "cell_type": "code",
      "execution_count": null,
      "metadata": {
        "id": "_XTzh_xyhFsJ"
      },
      "outputs": [],
      "source": [
        "features = insurance.drop('Страховые выплаты', axis=1)\n",
        "target = insurance['Страховые выплаты']"
      ]
    },
    {
      "cell_type": "markdown",
      "metadata": {
        "id": "iX-RnN0YhFsK"
      },
      "source": [
        "Обучим модель линейной регрессии"
      ]
    },
    {
      "cell_type": "code",
      "execution_count": null,
      "metadata": {
        "id": "NH7PW79QhFsK",
        "outputId": "3fbeca9e-086e-40c3-ccf7-dfa2d9c0788c"
      },
      "outputs": [
        {
          "data": {
            "text/plain": [
              "LinearRegression()"
            ]
          },
          "execution_count": 16,
          "metadata": {},
          "output_type": "execute_result"
        }
      ],
      "source": [
        "model = LinearRegression()\n",
        "model.fit(features, target)"
      ]
    },
    {
      "cell_type": "markdown",
      "metadata": {
        "id": "crKHAosAhFsK"
      },
      "source": [
        "Посчитаем метрику R2 до и после преобразования"
      ]
    },
    {
      "cell_type": "code",
      "execution_count": null,
      "metadata": {
        "id": "vV5Ip1NahFsK",
        "outputId": "79fddc7c-c7c1-4a96-c5be-8cc34fca7f15"
      },
      "outputs": [
        {
          "name": "stdout",
          "output_type": "stream",
          "text": [
            "Качество линейной регрессии (R2) до преобразования: 0.4296932703\n",
            "Качество линейной регрессии (R2) после преобразования: 0.4296932703\n",
            "Разница в качестве до и после преобразования: 0.0\n"
          ]
        }
      ],
      "source": [
        "r2 = cross_val_score(model, features, target, scoring='r2', cv=3).mean()\n",
        "r2_enconded = cross_val_score(model, features_encoded, target, scoring='r2', cv=3).mean()\n",
        "\n",
        "print('Качество линейной регрессии (R2) до преобразования:', round(r2, 10))\n",
        "print('Качество линейной регрессии (R2) после преобразования:', round(r2_enconded, 10))\n",
        "print('Разница в качестве до и после преобразования:', round(r2, 10) - round(r2_enconded, 10))"
      ]
    },
    {
      "cell_type": "markdown",
      "metadata": {
        "id": "Xk7UHFCqhFsK"
      },
      "source": [
        "### Вывод:\n",
        " - Проверили на практике шифрование методом Хилла, который не нашёл практического применения в криптографии из-за слабой устойчивости ко взлому."
      ]
    }
  ],
  "metadata": {
    "ExecuteTimeLog": [
      {
        "duration": 1248,
        "start_time": "2022-09-24T15:58:53.961Z"
      },
      {
        "duration": 80,
        "start_time": "2022-09-24T15:59:34.888Z"
      },
      {
        "duration": 34,
        "start_time": "2022-09-24T16:00:07.817Z"
      },
      {
        "duration": 32,
        "start_time": "2022-09-24T16:01:03.717Z"
      },
      {
        "duration": 9,
        "start_time": "2022-09-24T16:01:42.340Z"
      },
      {
        "duration": 9,
        "start_time": "2022-09-24T16:37:24.453Z"
      },
      {
        "duration": 12,
        "start_time": "2022-09-24T16:38:08.748Z"
      },
      {
        "duration": 4,
        "start_time": "2022-09-24T16:55:03.394Z"
      },
      {
        "duration": 7,
        "start_time": "2022-09-24T16:55:17.023Z"
      },
      {
        "duration": 10,
        "start_time": "2022-09-24T16:55:45.768Z"
      },
      {
        "duration": 4,
        "start_time": "2022-09-24T16:56:14.305Z"
      },
      {
        "duration": 7,
        "start_time": "2022-09-24T16:56:30.546Z"
      },
      {
        "duration": 9,
        "start_time": "2022-09-24T16:56:47.218Z"
      },
      {
        "duration": 12,
        "start_time": "2022-09-24T16:57:47.732Z"
      },
      {
        "duration": 3,
        "start_time": "2022-09-24T16:58:45.950Z"
      },
      {
        "duration": 8,
        "start_time": "2022-09-24T16:59:03.151Z"
      },
      {
        "duration": 30,
        "start_time": "2022-09-24T16:59:19.632Z"
      },
      {
        "duration": 1249,
        "start_time": "2022-09-25T13:14:34.153Z"
      },
      {
        "duration": 78,
        "start_time": "2022-09-25T13:14:35.405Z"
      },
      {
        "duration": 24,
        "start_time": "2022-09-25T13:14:35.487Z"
      },
      {
        "duration": 27,
        "start_time": "2022-09-25T13:14:35.513Z"
      },
      {
        "duration": 5,
        "start_time": "2022-09-25T13:14:35.542Z"
      },
      {
        "duration": 33,
        "start_time": "2022-09-25T13:14:35.549Z"
      },
      {
        "duration": 11,
        "start_time": "2022-09-25T13:14:35.583Z"
      },
      {
        "duration": 4,
        "start_time": "2022-09-25T13:14:35.596Z"
      },
      {
        "duration": 14,
        "start_time": "2022-09-25T13:14:35.602Z"
      },
      {
        "duration": 61,
        "start_time": "2022-09-25T13:14:35.617Z"
      },
      {
        "duration": 3,
        "start_time": "2022-09-25T13:14:35.681Z"
      },
      {
        "duration": 93,
        "start_time": "2022-09-25T13:14:35.686Z"
      },
      {
        "duration": 11,
        "start_time": "2022-09-25T13:14:35.782Z"
      },
      {
        "duration": 26,
        "start_time": "2022-09-25T13:14:35.795Z"
      },
      {
        "duration": 61,
        "start_time": "2022-09-25T13:14:35.822Z"
      },
      {
        "duration": 95,
        "start_time": "2022-09-25T13:14:35.885Z"
      },
      {
        "duration": 35,
        "start_time": "2022-09-25T13:14:35.982Z"
      },
      {
        "duration": 409,
        "start_time": "2022-09-25T13:16:03.392Z"
      },
      {
        "duration": 790,
        "start_time": "2022-09-25T13:16:12.597Z"
      },
      {
        "duration": 304,
        "start_time": "2022-09-25T13:16:56.904Z"
      },
      {
        "duration": 152,
        "start_time": "2022-09-25T13:17:24.651Z"
      },
      {
        "duration": 23853,
        "start_time": "2022-09-25T13:17:42.441Z"
      },
      {
        "duration": 127,
        "start_time": "2022-09-25T13:19:11.569Z"
      },
      {
        "duration": 4,
        "start_time": "2022-09-25T13:19:21.403Z"
      },
      {
        "duration": 23,
        "start_time": "2022-09-25T13:20:13.949Z"
      },
      {
        "duration": 93,
        "start_time": "2022-09-26T18:06:01.957Z"
      },
      {
        "duration": 1123,
        "start_time": "2022-09-26T18:11:28.217Z"
      },
      {
        "duration": 75,
        "start_time": "2022-09-26T18:11:29.343Z"
      },
      {
        "duration": 26,
        "start_time": "2022-09-26T18:11:29.420Z"
      },
      {
        "duration": 29,
        "start_time": "2022-09-26T18:11:30.157Z"
      },
      {
        "duration": 5,
        "start_time": "2022-09-26T18:11:30.981Z"
      },
      {
        "duration": 8,
        "start_time": "2022-09-26T18:11:32.380Z"
      },
      {
        "duration": 12,
        "start_time": "2022-09-26T18:11:35.325Z"
      },
      {
        "duration": 4,
        "start_time": "2022-09-26T18:11:50.804Z"
      },
      {
        "duration": 4,
        "start_time": "2022-09-26T18:12:23.079Z"
      },
      {
        "duration": 5,
        "start_time": "2022-09-26T18:13:04.088Z"
      },
      {
        "duration": 12,
        "start_time": "2022-09-26T18:13:32.873Z"
      },
      {
        "duration": 4,
        "start_time": "2022-09-26T18:14:01.490Z"
      },
      {
        "duration": 284,
        "start_time": "2022-09-26T18:14:19.131Z"
      },
      {
        "duration": 4,
        "start_time": "2022-09-26T18:14:43.547Z"
      },
      {
        "duration": 29,
        "start_time": "2022-09-26T18:14:46.395Z"
      },
      {
        "duration": 17,
        "start_time": "2022-09-26T18:14:46.828Z"
      },
      {
        "duration": 35,
        "start_time": "2022-09-26T18:14:47.283Z"
      },
      {
        "duration": 6,
        "start_time": "2022-09-26T18:14:47.827Z"
      },
      {
        "duration": 8,
        "start_time": "2022-09-26T18:14:48.803Z"
      },
      {
        "duration": 13,
        "start_time": "2022-09-26T18:14:49.795Z"
      },
      {
        "duration": 4,
        "start_time": "2022-09-26T18:15:09.405Z"
      },
      {
        "duration": 43,
        "start_time": "2022-09-26T18:15:09.411Z"
      },
      {
        "duration": 19,
        "start_time": "2022-09-26T18:15:09.456Z"
      },
      {
        "duration": 27,
        "start_time": "2022-09-26T18:15:09.477Z"
      },
      {
        "duration": 5,
        "start_time": "2022-09-26T18:15:09.506Z"
      },
      {
        "duration": 14,
        "start_time": "2022-09-26T18:15:09.512Z"
      },
      {
        "duration": 12,
        "start_time": "2022-09-26T18:15:09.539Z"
      },
      {
        "duration": 11,
        "start_time": "2022-09-26T18:15:09.553Z"
      },
      {
        "duration": 14,
        "start_time": "2022-09-26T18:15:09.566Z"
      },
      {
        "duration": 22,
        "start_time": "2022-09-26T18:15:09.582Z"
      },
      {
        "duration": 54,
        "start_time": "2022-09-26T18:15:09.606Z"
      },
      {
        "duration": 91,
        "start_time": "2022-09-26T18:15:09.662Z"
      },
      {
        "duration": 10,
        "start_time": "2022-09-26T18:15:16.684Z"
      },
      {
        "duration": 6,
        "start_time": "2022-09-26T18:16:15.719Z"
      },
      {
        "duration": 49,
        "start_time": "2022-09-26T18:24:50.313Z"
      },
      {
        "duration": 59,
        "start_time": "2022-09-26T18:26:55.037Z"
      }
    ],
    "kernelspec": {
      "display_name": "Python 3 (ipykernel)",
      "language": "python",
      "name": "python3"
    },
    "language_info": {
      "codemirror_mode": {
        "name": "ipython",
        "version": 3
      },
      "file_extension": ".py",
      "mimetype": "text/x-python",
      "name": "python",
      "nbconvert_exporter": "python",
      "pygments_lexer": "ipython3",
      "version": "3.9.5"
    },
    "toc": {
      "base_numbering": 1,
      "nav_menu": {},
      "number_sections": true,
      "sideBar": true,
      "skip_h1_title": true,
      "title_cell": "Содержание",
      "title_sidebar": "Contents",
      "toc_cell": true,
      "toc_position": {},
      "toc_section_display": true,
      "toc_window_display": true
    },
    "colab": {
      "provenance": []
    }
  },
  "nbformat": 4,
  "nbformat_minor": 0
}