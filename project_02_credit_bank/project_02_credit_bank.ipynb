{
  "cells": [
    {
      "cell_type": "markdown",
      "metadata": {
        "id": "liDQMGw_5y-L"
      },
      "source": [
        "# Описание проекта\n",
        "**Исследование надёжности заёмщиков**\n",
        "\n",
        "Заказчик — кредитный отдел банка. Нужно разобраться, влияет ли семейное положение и количество детей клиента на факт погашения кредита в срок. Входные данные от банка — статистика о платёжеспособности клиентов.\n",
        "\n",
        "Результаты исследования будут учтены при построении модели **кредитного скоринга** — специальной системы, которая оценивает способность потенциального заёмщика вернуть кредит банку."
      ]
    },
    {
      "cell_type": "markdown",
      "metadata": {
        "id": "daETVLtx5y-L"
      },
      "source": [
        "## Шаг 1. Откроем файл с данными и изучим общую информацию"
      ]
    },
    {
      "cell_type": "markdown",
      "metadata": {
        "id": "EcFM7cuE5y-M"
      },
      "source": [
        "Импортируем библиотеки. Взглянем на присланную разработчиками таблицу."
      ]
    },
    {
      "cell_type": "code",
      "execution_count": null,
      "metadata": {
        "scrolled": true,
        "id": "3GwqW0X65y-M",
        "outputId": "f548f3dc-4d6e-41ab-9de5-7ebc10a31f9d"
      },
      "outputs": [
        {
          "data": {
            "text/html": [
              "<div>\n",
              "<style scoped>\n",
              "    .dataframe tbody tr th:only-of-type {\n",
              "        vertical-align: middle;\n",
              "    }\n",
              "\n",
              "    .dataframe tbody tr th {\n",
              "        vertical-align: top;\n",
              "    }\n",
              "\n",
              "    .dataframe thead th {\n",
              "        text-align: right;\n",
              "    }\n",
              "</style>\n",
              "<table border=\"1\" class=\"dataframe\">\n",
              "  <thead>\n",
              "    <tr style=\"text-align: right;\">\n",
              "      <th></th>\n",
              "      <th>children</th>\n",
              "      <th>days_employed</th>\n",
              "      <th>dob_years</th>\n",
              "      <th>education</th>\n",
              "      <th>education_id</th>\n",
              "      <th>family_status</th>\n",
              "      <th>family_status_id</th>\n",
              "      <th>gender</th>\n",
              "      <th>income_type</th>\n",
              "      <th>debt</th>\n",
              "      <th>total_income</th>\n",
              "      <th>purpose</th>\n",
              "    </tr>\n",
              "  </thead>\n",
              "  <tbody>\n",
              "    <tr>\n",
              "      <td>0</td>\n",
              "      <td>1</td>\n",
              "      <td>-8437.673028</td>\n",
              "      <td>42</td>\n",
              "      <td>высшее</td>\n",
              "      <td>0</td>\n",
              "      <td>женат / замужем</td>\n",
              "      <td>0</td>\n",
              "      <td>F</td>\n",
              "      <td>сотрудник</td>\n",
              "      <td>0</td>\n",
              "      <td>253875.639453</td>\n",
              "      <td>покупка жилья</td>\n",
              "    </tr>\n",
              "    <tr>\n",
              "      <td>1</td>\n",
              "      <td>1</td>\n",
              "      <td>-4024.803754</td>\n",
              "      <td>36</td>\n",
              "      <td>среднее</td>\n",
              "      <td>1</td>\n",
              "      <td>женат / замужем</td>\n",
              "      <td>0</td>\n",
              "      <td>F</td>\n",
              "      <td>сотрудник</td>\n",
              "      <td>0</td>\n",
              "      <td>112080.014102</td>\n",
              "      <td>приобретение автомобиля</td>\n",
              "    </tr>\n",
              "    <tr>\n",
              "      <td>2</td>\n",
              "      <td>0</td>\n",
              "      <td>-5623.422610</td>\n",
              "      <td>33</td>\n",
              "      <td>Среднее</td>\n",
              "      <td>1</td>\n",
              "      <td>женат / замужем</td>\n",
              "      <td>0</td>\n",
              "      <td>M</td>\n",
              "      <td>сотрудник</td>\n",
              "      <td>0</td>\n",
              "      <td>145885.952297</td>\n",
              "      <td>покупка жилья</td>\n",
              "    </tr>\n",
              "    <tr>\n",
              "      <td>3</td>\n",
              "      <td>3</td>\n",
              "      <td>-4124.747207</td>\n",
              "      <td>32</td>\n",
              "      <td>среднее</td>\n",
              "      <td>1</td>\n",
              "      <td>женат / замужем</td>\n",
              "      <td>0</td>\n",
              "      <td>M</td>\n",
              "      <td>сотрудник</td>\n",
              "      <td>0</td>\n",
              "      <td>267628.550329</td>\n",
              "      <td>дополнительное образование</td>\n",
              "    </tr>\n",
              "    <tr>\n",
              "      <td>4</td>\n",
              "      <td>0</td>\n",
              "      <td>340266.072047</td>\n",
              "      <td>53</td>\n",
              "      <td>среднее</td>\n",
              "      <td>1</td>\n",
              "      <td>гражданский брак</td>\n",
              "      <td>1</td>\n",
              "      <td>F</td>\n",
              "      <td>пенсионер</td>\n",
              "      <td>0</td>\n",
              "      <td>158616.077870</td>\n",
              "      <td>сыграть свадьбу</td>\n",
              "    </tr>\n",
              "    <tr>\n",
              "      <td>5</td>\n",
              "      <td>0</td>\n",
              "      <td>-926.185831</td>\n",
              "      <td>27</td>\n",
              "      <td>высшее</td>\n",
              "      <td>0</td>\n",
              "      <td>гражданский брак</td>\n",
              "      <td>1</td>\n",
              "      <td>M</td>\n",
              "      <td>компаньон</td>\n",
              "      <td>0</td>\n",
              "      <td>255763.565419</td>\n",
              "      <td>покупка жилья</td>\n",
              "    </tr>\n",
              "    <tr>\n",
              "      <td>6</td>\n",
              "      <td>0</td>\n",
              "      <td>-2879.202052</td>\n",
              "      <td>43</td>\n",
              "      <td>высшее</td>\n",
              "      <td>0</td>\n",
              "      <td>женат / замужем</td>\n",
              "      <td>0</td>\n",
              "      <td>F</td>\n",
              "      <td>компаньон</td>\n",
              "      <td>0</td>\n",
              "      <td>240525.971920</td>\n",
              "      <td>операции с жильем</td>\n",
              "    </tr>\n",
              "    <tr>\n",
              "      <td>7</td>\n",
              "      <td>0</td>\n",
              "      <td>-152.779569</td>\n",
              "      <td>50</td>\n",
              "      <td>СРЕДНЕЕ</td>\n",
              "      <td>1</td>\n",
              "      <td>женат / замужем</td>\n",
              "      <td>0</td>\n",
              "      <td>M</td>\n",
              "      <td>сотрудник</td>\n",
              "      <td>0</td>\n",
              "      <td>135823.934197</td>\n",
              "      <td>образование</td>\n",
              "    </tr>\n",
              "    <tr>\n",
              "      <td>8</td>\n",
              "      <td>2</td>\n",
              "      <td>-6929.865299</td>\n",
              "      <td>35</td>\n",
              "      <td>ВЫСШЕЕ</td>\n",
              "      <td>0</td>\n",
              "      <td>гражданский брак</td>\n",
              "      <td>1</td>\n",
              "      <td>F</td>\n",
              "      <td>сотрудник</td>\n",
              "      <td>0</td>\n",
              "      <td>95856.832424</td>\n",
              "      <td>на проведение свадьбы</td>\n",
              "    </tr>\n",
              "    <tr>\n",
              "      <td>9</td>\n",
              "      <td>0</td>\n",
              "      <td>-2188.756445</td>\n",
              "      <td>41</td>\n",
              "      <td>среднее</td>\n",
              "      <td>1</td>\n",
              "      <td>женат / замужем</td>\n",
              "      <td>0</td>\n",
              "      <td>M</td>\n",
              "      <td>сотрудник</td>\n",
              "      <td>0</td>\n",
              "      <td>144425.938277</td>\n",
              "      <td>покупка жилья для семьи</td>\n",
              "    </tr>\n",
              "  </tbody>\n",
              "</table>\n",
              "</div>"
            ],
            "text/plain": [
              "   children  days_employed  dob_years education  education_id  \\\n",
              "0         1   -8437.673028         42    высшее             0   \n",
              "1         1   -4024.803754         36   среднее             1   \n",
              "2         0   -5623.422610         33   Среднее             1   \n",
              "3         3   -4124.747207         32   среднее             1   \n",
              "4         0  340266.072047         53   среднее             1   \n",
              "5         0    -926.185831         27    высшее             0   \n",
              "6         0   -2879.202052         43    высшее             0   \n",
              "7         0    -152.779569         50   СРЕДНЕЕ             1   \n",
              "8         2   -6929.865299         35    ВЫСШЕЕ             0   \n",
              "9         0   -2188.756445         41   среднее             1   \n",
              "\n",
              "      family_status  family_status_id gender income_type  debt   total_income  \\\n",
              "0   женат / замужем                 0      F   сотрудник     0  253875.639453   \n",
              "1   женат / замужем                 0      F   сотрудник     0  112080.014102   \n",
              "2   женат / замужем                 0      M   сотрудник     0  145885.952297   \n",
              "3   женат / замужем                 0      M   сотрудник     0  267628.550329   \n",
              "4  гражданский брак                 1      F   пенсионер     0  158616.077870   \n",
              "5  гражданский брак                 1      M   компаньон     0  255763.565419   \n",
              "6   женат / замужем                 0      F   компаньон     0  240525.971920   \n",
              "7   женат / замужем                 0      M   сотрудник     0  135823.934197   \n",
              "8  гражданский брак                 1      F   сотрудник     0   95856.832424   \n",
              "9   женат / замужем                 0      M   сотрудник     0  144425.938277   \n",
              "\n",
              "                      purpose  \n",
              "0               покупка жилья  \n",
              "1     приобретение автомобиля  \n",
              "2               покупка жилья  \n",
              "3  дополнительное образование  \n",
              "4             сыграть свадьбу  \n",
              "5               покупка жилья  \n",
              "6           операции с жильем  \n",
              "7                 образование  \n",
              "8       на проведение свадьбы  \n",
              "9     покупка жилья для семьи  "
            ]
          },
          "metadata": {},
          "output_type": "display_data"
        }
      ],
      "source": [
        "#импортируем библиотеки pandas и numpy\n",
        "import pandas as pd\n",
        "import numpy as np\n",
        "# импортируем pymystem3\n",
        "from pymystem3 import Mystem\n",
        "\n",
        "# если путь к файлу изменится, мы увидим сообщение\n",
        "try:\n",
        "    df = pd.read_csv('/datasets/data.csv')\n",
        "except:\n",
        "    print('Проверьте абсолютный путь к датасету')\n",
        "\n",
        "#выведем на экран первый 10 строк датафрейма\n",
        "display(df.head(10))"
      ]
    },
    {
      "cell_type": "markdown",
      "metadata": {
        "id": "nSp-V5hH5y-O"
      },
      "source": [
        "Ознакомимся с данными, оценим объём данных в таблице df."
      ]
    },
    {
      "cell_type": "code",
      "execution_count": null,
      "metadata": {
        "id": "Qw6AO9Pm5y-O",
        "outputId": "23fa25ea-a909-4664-8565-0369c710782e"
      },
      "outputs": [
        {
          "name": "stdout",
          "output_type": "stream",
          "text": [
            "<class 'pandas.core.frame.DataFrame'>\n",
            "RangeIndex: 21525 entries, 0 to 21524\n",
            "Data columns (total 12 columns):\n",
            "children            21525 non-null int64\n",
            "days_employed       19351 non-null float64\n",
            "dob_years           21525 non-null int64\n",
            "education           21525 non-null object\n",
            "education_id        21525 non-null int64\n",
            "family_status       21525 non-null object\n",
            "family_status_id    21525 non-null int64\n",
            "gender              21525 non-null object\n",
            "income_type         21525 non-null object\n",
            "debt                21525 non-null int64\n",
            "total_income        19351 non-null float64\n",
            "purpose             21525 non-null object\n",
            "dtypes: float64(2), int64(5), object(5)\n",
            "memory usage: 2.0+ MB\n"
          ]
        },
        {
          "data": {
            "text/plain": [
              "None"
            ]
          },
          "metadata": {},
          "output_type": "display_data"
        }
      ],
      "source": [
        "#выведем на экран все атрибуты таблицы\n",
        "display(df.info())"
      ]
    },
    {
      "cell_type": "markdown",
      "metadata": {
        "id": "qmoscBiP5y-P"
      },
      "source": [
        "Выведем на экран уникальные данные в колонках **children**, **education**, **education_id**, **family_status**, **family_status_id**,\n",
        "**gender**, **income_type**, **purpose** в таблице `df`."
      ]
    },
    {
      "cell_type": "code",
      "execution_count": null,
      "metadata": {
        "scrolled": true,
        "id": "SXaciY2W5y-P",
        "outputId": "6fe25465-e434-4669-c524-6392abc5ca70"
      },
      "outputs": [
        {
          "name": "stdout",
          "output_type": "stream",
          "text": [
            "Проверьте название подаваемых столбцов\n"
          ]
        }
      ],
      "source": [
        "# если названия столбцов изменятся мы увидим предупреждение\n",
        "try:\n",
        "    display(\"Уникальные данные в столбце 'children': {}\".format(df['children'].unique()))\n",
        "    display(\"Уникальные данные в столбце 'education': {}\".format(df['education'].unique()))\n",
        "    display(\"Уникальные данные в столбце 'education_id': {}\".format(df['education_id'].unique()))\n",
        "    display(\"Уникальные данные в столбце 'family_status': {}\".format(df['family_status'].unique()))\n",
        "    display(\"Уникальные данные в столбце 'family_status_id': {}\".format(df['family_status_id'].unique()))\n",
        "    display(\"Уникальные данные в столбце 'gender': {}\".format(df['gender'].unique()))\n",
        "    display(\"Уникальные данные в столбце 'income_type': {}\".format(df['income_type'].unique()))\n",
        "    display(\"Уникальные данные в столбце 'purpose': {}\".format(df['purpose'].unique()))\n",
        "except:\n",
        "    print('Проверьте название подаваемых столбцов')"
      ]
    },
    {
      "cell_type": "markdown",
      "metadata": {
        "id": "ncpG5tqH5y-Q"
      },
      "source": [
        "Выведем минимальные и максимальные значения в таблице df"
      ]
    },
    {
      "cell_type": "code",
      "execution_count": null,
      "metadata": {
        "scrolled": false,
        "id": "P4juTHbR5y-Q",
        "outputId": "67c4f19a-2f48-410d-fe8b-fd6ce5cf0a26"
      },
      "outputs": [
        {
          "name": "stdout",
          "output_type": "stream",
          "text": [
            "Минимальные значения:\n"
          ]
        },
        {
          "data": {
            "text/plain": [
              "children                               -1\n",
              "days_employed                    -18388.9\n",
              "dob_years                               0\n",
              "education                          ВЫСШЕЕ\n",
              "education_id                            0\n",
              "family_status       Не женат / не замужем\n",
              "family_status_id                        0\n",
              "gender                                  F\n",
              "income_type                   безработный\n",
              "debt                                    0\n",
              "total_income                      20667.3\n",
              "purpose                        автомобили\n",
              "dtype: object"
            ]
          },
          "metadata": {},
          "output_type": "display_data"
        },
        {
          "name": "stdout",
          "output_type": "stream",
          "text": [
            "Максимальные значения:\n"
          ]
        },
        {
          "data": {
            "text/plain": [
              "children                         20\n",
              "days_employed                401755\n",
              "dob_years                        75\n",
              "education            ученая степень\n",
              "education_id                      4\n",
              "family_status       женат / замужем\n",
              "family_status_id                  4\n",
              "gender                          XNA\n",
              "income_type                 студент\n",
              "debt                              1\n",
              "total_income             2.2656e+06\n",
              "purpose             сыграть свадьбу\n",
              "dtype: object"
            ]
          },
          "metadata": {},
          "output_type": "display_data"
        }
      ],
      "source": [
        "#ознакомимся с минимальными и максимальными значениями в таблице\n",
        "print('Минимальные значения:')\n",
        "display(df.min())\n",
        "\n",
        "print('Максимальные значения:')\n",
        "display(df.max())"
      ]
    },
    {
      "cell_type": "markdown",
      "metadata": {
        "id": "u4pRF_MX5y-R"
      },
      "source": [
        "**Вывод**"
      ]
    },
    {
      "cell_type": "markdown",
      "metadata": {
        "id": "RZtzxLds5y-R"
      },
      "source": [
        "В таблице 21525 строк, 12 столбцов.\n",
        "\n",
        "Согласно документации к данным:  \n",
        "*  **children** — количество детей в семье;  \n",
        "*  **days_employed** — общий трудовой стаж в днях;  \n",
        "*  **dob_years** — возраст клиента в годах;  \n",
        "*  **education** — уровень образования клиента;  \n",
        "*  **education_id** — идентификатор уровня образования;  \n",
        "*  **family_status** — семейное положение;  \n",
        "*  **family_status_id** — идентификатор семейного положения;  \n",
        "*  **gender** — пол клиента;  \n",
        "*  **income_type** — тип занятости;  \n",
        "*  **debt** — имел ли задолженность по возврату кредитов;  \n",
        "*  **total_income** — ежемесячный доход;  \n",
        "*  **purpose** — цель получения кредита;  \n",
        "\n",
        "\n",
        "Выявленные ошибки:\n",
        "* Количество значений в столбцах различается. Значит, в данных есть пропущенные значения в столбцах **total_income**, **days_employed**;  \n",
        "* В столбце **purpose** встречаются неявные дубликаты (`автомобиль`, `автомобили`);  \n",
        "* В столбце **dob_years** встречаются нулевые значения, что не логично;  \n",
        "* В столбце **days_employed** встречаются как положительные так и отрицательные значения;  \n",
        "* В столбце **children** встречается отрицательное значение. Аномальное значение 20, значительно отличающееся от остальных значений в этом столбце;  \n",
        "* В столбце **education** и **family_status** данные записаны как в нижнем так и в верхнем регистре;  \n",
        "* В столбце **gender** встречаются пропуски `XNA`.\n",
        "\n",
        "Предварительно можно утверждать, что, данных достаточно для проведения исследования.\n",
        "\n",
        "Чтобы двигаться дальше, нужно устранить проблемы в данных."
      ]
    },
    {
      "cell_type": "markdown",
      "metadata": {
        "id": "dPVuzOf85y-R"
      },
      "source": [
        "## Шаг 2. Предобработка данных"
      ]
    },
    {
      "cell_type": "markdown",
      "metadata": {
        "id": "gIf7rdDe5y-R"
      },
      "source": [
        "### Обработка пропусков"
      ]
    },
    {
      "cell_type": "markdown",
      "metadata": {
        "id": "4VGVsggN5y-S"
      },
      "source": [
        "Посчитаем, сколько в таблице пропущенных значений"
      ]
    },
    {
      "cell_type": "code",
      "execution_count": null,
      "metadata": {
        "scrolled": false,
        "id": "so4B__mZ5y-S",
        "outputId": "25d89a64-655f-42e7-e6f1-eaad882cfe86"
      },
      "outputs": [
        {
          "name": "stdout",
          "output_type": "stream",
          "text": [
            "В таблице df пропущенные значения встречаются в столбцах:\n"
          ]
        },
        {
          "data": {
            "text/plain": [
              "children               0\n",
              "days_employed       2174\n",
              "dob_years              0\n",
              "education              0\n",
              "education_id           0\n",
              "family_status          0\n",
              "family_status_id       0\n",
              "gender                 0\n",
              "income_type            0\n",
              "debt                   0\n",
              "total_income        2174\n",
              "purpose                0\n",
              "dtype: int64"
            ]
          },
          "metadata": {},
          "output_type": "display_data"
        }
      ],
      "source": [
        "# ознакомимся где в таблице встречаются пропущенные значения\n",
        "print(\"В таблице df пропущенные значения встречаются в столбцах:\")\n",
        "display(df.isna().sum())"
      ]
    },
    {
      "cell_type": "markdown",
      "metadata": {
        "id": "cq_5v5BP5y-S"
      },
      "source": [
        "Восстановим значения в столбце **total_income**, заменив значение `NaN` на медианное значение по столбцу **total_income** методом `fillna()`"
      ]
    },
    {
      "cell_type": "code",
      "execution_count": null,
      "metadata": {
        "scrolled": true,
        "id": "aSiVqCsu5y-S",
        "outputId": "af239cfc-1315-4e25-dee7-fceb29aeac2d"
      },
      "outputs": [
        {
          "name": "stdout",
          "output_type": "stream",
          "text": [
            "После восстановления, пустые значения в столбцах:\n"
          ]
        },
        {
          "data": {
            "text/plain": [
              "children               0\n",
              "days_employed       2174\n",
              "dob_years              0\n",
              "education              0\n",
              "education_id           0\n",
              "family_status          0\n",
              "family_status_id       0\n",
              "gender                 0\n",
              "income_type            0\n",
              "debt                   0\n",
              "total_income           0\n",
              "purpose                0\n",
              "dtype: int64"
            ]
          },
          "metadata": {},
          "output_type": "display_data"
        }
      ],
      "source": [
        "#посчитаем медианное значение по столбцу total_income и заменим ими пустые данные\n",
        "total_income_avg = df['total_income'].median()\n",
        "df['total_income'] = df['total_income'].fillna(total_income_avg)\n",
        "\n",
        "#проверим изменения выведя результат на экран\n",
        "print('После восстановления, пустые значения в столбцах:')\n",
        "display(df.isna().sum())"
      ]
    },
    {
      "cell_type": "markdown",
      "metadata": {
        "id": "OGil11Sh5y-U"
      },
      "source": [
        "В столбце **gender** встречаются пропуски `XNA`, заменим их на один тип данных `F`"
      ]
    },
    {
      "cell_type": "code",
      "execution_count": null,
      "metadata": {
        "scrolled": true,
        "id": "ZHU5-7Jr5y-U",
        "outputId": "262faaaf-8d3b-49d7-b346-a90b3b71c1ff"
      },
      "outputs": [
        {
          "data": {
            "text/plain": [
              "\"Уникальные данные в столбце 'gender': ['F' 'M']\""
            ]
          },
          "metadata": {},
          "output_type": "display_data"
        }
      ],
      "source": [
        "# перезапишем значения XNA в столбце gender на значение F\n",
        "df.loc[df['gender'] == 'XNA', 'gender'] = 'F'\n",
        "\n",
        "# после этого проверим вывод уникальных значений для столбца gender\n",
        "display(\"Уникальные данные в столбце 'gender': {}\".format(df['gender'].unique()))"
      ]
    },
    {
      "cell_type": "markdown",
      "metadata": {
        "id": "bPZthSBV5y-U"
      },
      "source": [
        "В столбцах **education** и **family_status** данные приведем в нижний регистр"
      ]
    },
    {
      "cell_type": "code",
      "execution_count": null,
      "metadata": {
        "scrolled": true,
        "id": "ncwf4QWU5y-U",
        "outputId": "1a8d9a17-9cc9-4e8f-e6a6-eb6442ee4954"
      },
      "outputs": [
        {
          "data": {
            "text/plain": [
              "\"Уникальные данные в столбце 'education': ['высшее' 'среднее' 'неоконченное высшее' 'начальное' 'ученая степень']\""
            ]
          },
          "metadata": {},
          "output_type": "display_data"
        },
        {
          "data": {
            "text/plain": [
              "\"Уникальные данные в столбце 'family_status': ['женат / замужем' 'гражданский брак' 'вдовец / вдова' 'в разводе'\\n 'не женат / не замужем']\""
            ]
          },
          "metadata": {},
          "output_type": "display_data"
        }
      ],
      "source": [
        "# перезапишем данные в нижнем регистре данные в столбцах education и family_status\n",
        "df['education'] = df['education'].str.lower()\n",
        "df['family_status'] = df['family_status'].str.lower()\n",
        "\n",
        "#Проверим вывод\n",
        "display(\"Уникальные данные в столбце 'education': {}\".format(df['education'].unique()))\n",
        "display(\"Уникальные данные в столбце 'family_status': {}\".format(df['family_status'].unique()))"
      ]
    },
    {
      "cell_type": "markdown",
      "metadata": {
        "id": "8Z9z16qs5y-U"
      },
      "source": [
        "Выведем на экран кол-во значений (`-1,` `20`) встречающихся в столбце **children**, чтобы понимать, можно ли ими принебречь, какое %-ое соотношение к другим значениям в этом столбце."
      ]
    },
    {
      "cell_type": "code",
      "execution_count": null,
      "metadata": {
        "id": "xmxfZXdh5y-V",
        "outputId": "f9047e20-0a10-436d-d1d1-733b8db3aee8"
      },
      "outputs": [
        {
          "name": "stdout",
          "output_type": "stream",
          "text": [
            "Данные и их количество в столбце children:\n"
          ]
        },
        {
          "data": {
            "text/plain": [
              " 0     14149\n",
              " 1      4818\n",
              " 2      2055\n",
              " 3       330\n",
              " 20       76\n",
              "-1        47\n",
              " 4        41\n",
              " 5         9\n",
              "Name: children, dtype: int64"
            ]
          },
          "metadata": {},
          "output_type": "display_data"
        }
      ],
      "source": [
        "# посчитаем какие данные встречаются в столбце children\n",
        "print('Данные и их количество в столбце children:')\n",
        "display(df['children'].value_counts())"
      ]
    },
    {
      "cell_type": "markdown",
      "metadata": {
        "id": "zpvsirhe5y-V"
      },
      "source": [
        "Исправим отрицательное значение (-1) и максимальное значение (20) в столбце `children`"
      ]
    },
    {
      "cell_type": "code",
      "execution_count": null,
      "metadata": {
        "id": "V6YsveTo5y-V",
        "outputId": "d03a4177-8bf8-4cba-c561-517e4ea90972"
      },
      "outputs": [
        {
          "name": "stdout",
          "output_type": "stream",
          "text": [
            "Данные и их количество в столбце children:\n"
          ]
        },
        {
          "data": {
            "text/plain": [
              "0    14272\n",
              "1     4818\n",
              "2     2055\n",
              "3      330\n",
              "4       41\n",
              "5        9\n",
              "Name: children, dtype: int64"
            ]
          },
          "metadata": {},
          "output_type": "display_data"
        }
      ],
      "source": [
        "#Вызов метода replace() пришлось повторить дважды. Если бы неправильных написаний было больше,\n",
        "#- увеличилось бы и число повторов. Не пришлось писать специальную собственную функцию\n",
        "df['children'] = df['children'].replace(-1, 0)\n",
        "df['children'] = df['children'].replace(20, 0)\n",
        "\n",
        "#проверим, сколько теперь уникальных значений в столбце и их количество\n",
        "print('Данные и их количество в столбце children:')\n",
        "display(df['children'].value_counts())"
      ]
    },
    {
      "cell_type": "markdown",
      "metadata": {
        "id": "PJFkpUrV5y-V"
      },
      "source": [
        "**Вывод**"
      ]
    },
    {
      "cell_type": "markdown",
      "metadata": {
        "id": "mg7ZA5bn5y-W"
      },
      "source": [
        "* Обнаружены пропуски в столбцах **days_employed**, **total_income**. Количество значения `NaN` равняется 2174, что составляет `~10%` от количества строк в таблице.\n",
        "Значения в столбце **days_employed** в исследовании не требуются, в столбце **total_income** заменили пропуски методом `fillna()` взяв медианные значения столбца **total_income**. Возможная причина появления пропусков - ошибка при выгрузке таблицы, работа каких-то методов при конвертации.\n",
        "\n",
        "* В столбце **gender** обнаружился тип `XNA`. Для исследования данные из этого столбца не требуются, следовательно, мы заменили его на любое значение этого столбца, выбрав `F` в качестве аргумента, применив метод `.loc` для замены строковых значений. Восстановить пол в столбце не представляется возможным, т.к. отсутствует столбец с именем, по которому можно было бы восстановить пропущеннную информацию. Возможная причина появления пропусков - человеческий фактор, человек вносивший информацию в таблицу не указал пол.\n",
        "\n",
        "* В столбцах **education** и **family_status** данные были написано с применением верхнего и нижнего регистра, привели все значения к нижнему регистру. Учитывая, что написание в верхнем регистре практически полностью дублировало написаное слов в нижнем, ошибка возникла при объединении таблиц, где в одной были названия написано в нижнем регистре, во второй же таблице были написаны в верхнем, при соединении таблиц остались оба варианта написания.\n",
        "\n",
        "* В столбце **children** встретились два аномальных типа данных принимающих значения `-1` и `20`, выходящие за порядок других значени в этом столбце. Данных, принимающих значения `-1` и `20` в столбце насчитывалось 123 штуки, что составляет порядка `0.5 %` от общего количества данных в столбце. Заменили эти значения на 0, взяв его как наибольшее из представленных. Возможная причина - ошибка при выгрузке таблицы."
      ]
    },
    {
      "cell_type": "markdown",
      "metadata": {
        "id": "jMUleNce5y-W"
      },
      "source": [
        "### Замена типа данных"
      ]
    },
    {
      "cell_type": "markdown",
      "metadata": {
        "id": "Aemqg6S85y-X"
      },
      "source": [
        "Заменим значения в столбцах **days_employed** и **days_employed** с `float64` на `int64`. Предположим, что как будто бы пропуск = никогда не работал."
      ]
    },
    {
      "cell_type": "code",
      "execution_count": null,
      "metadata": {
        "id": "i3mGJjPj5y-X",
        "outputId": "d84868ea-11d3-4083-99c3-596caf2cb4dd"
      },
      "outputs": [
        {
          "name": "stdout",
          "output_type": "stream",
          "text": [
            "<class 'pandas.core.frame.DataFrame'>\n",
            "RangeIndex: 21525 entries, 0 to 21524\n",
            "Data columns (total 12 columns):\n",
            "children            21525 non-null int64\n",
            "days_employed       21525 non-null int64\n",
            "dob_years           21525 non-null int64\n",
            "education           21525 non-null object\n",
            "education_id        21525 non-null int64\n",
            "family_status       21525 non-null object\n",
            "family_status_id    21525 non-null int64\n",
            "gender              21525 non-null object\n",
            "income_type         21525 non-null object\n",
            "debt                21525 non-null int64\n",
            "total_income        21525 non-null int64\n",
            "purpose             21525 non-null object\n",
            "dtypes: int64(7), object(5)\n",
            "memory usage: 2.0+ MB\n"
          ]
        }
      ],
      "source": [
        "# заменим значения NaN в столбце 'days_employed' на 0\n",
        "df['days_employed'] = df['days_employed'].fillna(value=0)\n",
        "\n",
        "# переведем float в int\n",
        "df['total_income'] = df['total_income'].astype('int')\n",
        "df['days_employed'] = df['days_employed'].astype('int')\n",
        "\n",
        "#выведем типы данных проверить что все применилось\n",
        "df.info()"
      ]
    },
    {
      "cell_type": "markdown",
      "metadata": {
        "id": "nAL3yhws5y-X"
      },
      "source": [
        "**Вывод**"
      ]
    },
    {
      "cell_type": "markdown",
      "metadata": {
        "id": "8Djg6WR45y-X"
      },
      "source": [
        "Чтобы работать с целыми числами, для оптимизации и ускорения просчетов, мы значения перевели в целые числа методом `.astype('int')`. Метод `to_numeric()` не использовался, т.к. особенность метода  в том, что при переводе все числа будут иметь тип данных float."
      ]
    },
    {
      "cell_type": "markdown",
      "metadata": {
        "id": "YS3fCF4P5y-X"
      },
      "source": [
        "### Обработка дубликатов"
      ]
    },
    {
      "cell_type": "markdown",
      "metadata": {
        "id": "SUtxVBo85y-Y"
      },
      "source": [
        "Произведем поиск дубликатов в датафрейме df"
      ]
    },
    {
      "cell_type": "code",
      "execution_count": null,
      "metadata": {
        "id": "f7qLr01k5y-Y",
        "outputId": "1062a432-ecef-41df-b3e4-257e924ca711"
      },
      "outputs": [
        {
          "name": "stdout",
          "output_type": "stream",
          "text": [
            "Явных дубликатов: 71\n"
          ]
        },
        {
          "data": {
            "text/html": [
              "<div>\n",
              "<style scoped>\n",
              "    .dataframe tbody tr th:only-of-type {\n",
              "        vertical-align: middle;\n",
              "    }\n",
              "\n",
              "    .dataframe tbody tr th {\n",
              "        vertical-align: top;\n",
              "    }\n",
              "\n",
              "    .dataframe thead th {\n",
              "        text-align: right;\n",
              "    }\n",
              "</style>\n",
              "<table border=\"1\" class=\"dataframe\">\n",
              "  <thead>\n",
              "    <tr style=\"text-align: right;\">\n",
              "      <th></th>\n",
              "      <th>children</th>\n",
              "      <th>days_employed</th>\n",
              "      <th>dob_years</th>\n",
              "      <th>education</th>\n",
              "      <th>education_id</th>\n",
              "      <th>family_status</th>\n",
              "      <th>family_status_id</th>\n",
              "      <th>gender</th>\n",
              "      <th>income_type</th>\n",
              "      <th>debt</th>\n",
              "      <th>total_income</th>\n",
              "      <th>purpose</th>\n",
              "    </tr>\n",
              "  </thead>\n",
              "  <tbody>\n",
              "    <tr>\n",
              "      <td>20297</td>\n",
              "      <td>1</td>\n",
              "      <td>0</td>\n",
              "      <td>23</td>\n",
              "      <td>среднее</td>\n",
              "      <td>1</td>\n",
              "      <td>гражданский брак</td>\n",
              "      <td>1</td>\n",
              "      <td>F</td>\n",
              "      <td>сотрудник</td>\n",
              "      <td>0</td>\n",
              "      <td>145017</td>\n",
              "      <td>сыграть свадьбу</td>\n",
              "    </tr>\n",
              "    <tr>\n",
              "      <td>8853</td>\n",
              "      <td>1</td>\n",
              "      <td>0</td>\n",
              "      <td>23</td>\n",
              "      <td>среднее</td>\n",
              "      <td>1</td>\n",
              "      <td>гражданский брак</td>\n",
              "      <td>1</td>\n",
              "      <td>F</td>\n",
              "      <td>сотрудник</td>\n",
              "      <td>0</td>\n",
              "      <td>145017</td>\n",
              "      <td>сыграть свадьбу</td>\n",
              "    </tr>\n",
              "    <tr>\n",
              "      <td>15892</td>\n",
              "      <td>0</td>\n",
              "      <td>0</td>\n",
              "      <td>23</td>\n",
              "      <td>среднее</td>\n",
              "      <td>1</td>\n",
              "      <td>не женат / не замужем</td>\n",
              "      <td>4</td>\n",
              "      <td>F</td>\n",
              "      <td>сотрудник</td>\n",
              "      <td>0</td>\n",
              "      <td>145017</td>\n",
              "      <td>сделка с подержанным автомобилем</td>\n",
              "    </tr>\n",
              "    <tr>\n",
              "      <td>19321</td>\n",
              "      <td>0</td>\n",
              "      <td>0</td>\n",
              "      <td>23</td>\n",
              "      <td>среднее</td>\n",
              "      <td>1</td>\n",
              "      <td>не женат / не замужем</td>\n",
              "      <td>4</td>\n",
              "      <td>F</td>\n",
              "      <td>сотрудник</td>\n",
              "      <td>0</td>\n",
              "      <td>145017</td>\n",
              "      <td>сделка с подержанным автомобилем</td>\n",
              "    </tr>\n",
              "    <tr>\n",
              "      <td>3452</td>\n",
              "      <td>0</td>\n",
              "      <td>0</td>\n",
              "      <td>29</td>\n",
              "      <td>высшее</td>\n",
              "      <td>0</td>\n",
              "      <td>женат / замужем</td>\n",
              "      <td>0</td>\n",
              "      <td>M</td>\n",
              "      <td>сотрудник</td>\n",
              "      <td>0</td>\n",
              "      <td>145017</td>\n",
              "      <td>покупка жилой недвижимости</td>\n",
              "    </tr>\n",
              "  </tbody>\n",
              "</table>\n",
              "</div>"
            ],
            "text/plain": [
              "       children  days_employed  dob_years education  education_id  \\\n",
              "20297         1              0         23   среднее             1   \n",
              "8853          1              0         23   среднее             1   \n",
              "15892         0              0         23   среднее             1   \n",
              "19321         0              0         23   среднее             1   \n",
              "3452          0              0         29    высшее             0   \n",
              "\n",
              "               family_status  family_status_id gender income_type  debt  \\\n",
              "20297       гражданский брак                 1      F   сотрудник     0   \n",
              "8853        гражданский брак                 1      F   сотрудник     0   \n",
              "15892  не женат / не замужем                 4      F   сотрудник     0   \n",
              "19321  не женат / не замужем                 4      F   сотрудник     0   \n",
              "3452         женат / замужем                 0      M   сотрудник     0   \n",
              "\n",
              "       total_income                           purpose  \n",
              "20297        145017                   сыграть свадьбу  \n",
              "8853         145017                   сыграть свадьбу  \n",
              "15892        145017  сделка с подержанным автомобилем  \n",
              "19321        145017  сделка с подержанным автомобилем  \n",
              "3452         145017        покупка жилой недвижимости  "
            ]
          },
          "metadata": {},
          "output_type": "display_data"
        },
        {
          "name": "stdout",
          "output_type": "stream",
          "text": [
            "После обработки, в датафрейме явных дубликатов: 0\n"
          ]
        }
      ],
      "source": [
        "#выведем на экран кол-во найденных явных дубликатов, метод .sum() возвращает количество дубликатов\n",
        "print(f'Явных дубликатов: {df.duplicated().sum()}')\n",
        "display(df[df.duplicated(keep=False)].sort_values(by = 'dob_years', ascending = True).head())\n",
        "\n",
        "#удалим явные дубликаты и переиндексируем таблицу\n",
        "df = df.drop_duplicates().reset_index(drop=True)\n",
        "\n",
        "#проверим количество явных дубликатов после удаления\n",
        "#display(df[df.duplicated(keep=False)].sort_values(by = 'dob_years', ascending = True).head())\n",
        "print(f'После обработки, в датафрейме явных дубликатов: {df.duplicated().sum()}')"
      ]
    },
    {
      "cell_type": "markdown",
      "metadata": {
        "id": "nbCo7OJo5y-Y"
      },
      "source": [
        "**Вывод**"
      ]
    },
    {
      "cell_type": "markdown",
      "metadata": {
        "id": "ExIGHde25y-Y"
      },
      "source": [
        "Методом `duplicated()` нашли явные дубликаты, методом `drop_duplicates()` избавились от полных дубликатов.\n",
        "Метод `value_counts()` применять не имеет смысла, значения в столбцах с строковыми данными будут повторяться (должность, цель кредита).  \n",
        "Возможные причины появления полных дубликатов в данных - данные в датафрейм были склеены из нескольких таблиц."
      ]
    },
    {
      "cell_type": "markdown",
      "metadata": {
        "id": "8pN1CnHD5y-Y"
      },
      "source": [
        "### Лемматизация"
      ]
    },
    {
      "cell_type": "markdown",
      "metadata": {
        "id": "rAo5duc65y-Y"
      },
      "source": [
        "Лемматизируем данные столбца **purpose**"
      ]
    },
    {
      "cell_type": "code",
      "execution_count": null,
      "metadata": {
        "scrolled": false,
        "id": "cZJHBLAQ5y-Z",
        "outputId": "3d65dd2f-90a0-4640-e1fb-b627bdc0b3c7"
      },
      "outputs": [
        {
          "data": {
            "text/plain": [
              "array(['покупка   жилье', 'приобретение   автомобиль',\n",
              "       'дополнительный   образование', 'сыграть   свадьба',\n",
              "       'операция   с   жилье', 'образование', 'на   проведение   свадьба',\n",
              "       'покупка   жилье   для   семья', 'покупка   недвижимость',\n",
              "       'покупка   коммерческий   недвижимость',\n",
              "       'покупка   жилой   недвижимость',\n",
              "       'строительство   собственный   недвижимость', 'недвижимость',\n",
              "       'строительство   недвижимость',\n",
              "       'на   покупка   подержать   автомобиль',\n",
              "       'на   покупка   свой   автомобиль',\n",
              "       'операция   с   коммерческий   недвижимость',\n",
              "       'строительство   жилой   недвижимость', 'жилье',\n",
              "       'операция   со   свой   недвижимость', 'автомобиль',\n",
              "       'заниматься   образование',\n",
              "       'сделка   с   подержанный   автомобиль', 'получение   образование',\n",
              "       'свадьба', 'получение   дополнительный   образование',\n",
              "       'покупка   свой   жилье', 'операция   с   недвижимость',\n",
              "       'получение   высокий   образование', 'свой   автомобиль',\n",
              "       'сделка   с   автомобиль', 'профильный   образование',\n",
              "       'высокий   образование', 'покупка   жилье   для   сдача',\n",
              "       'на   покупка   автомобиль', 'ремонт   жилье',\n",
              "       'заниматься   высокий   образование'], dtype=object)"
            ]
          },
          "execution_count": 13,
          "metadata": {},
          "output_type": "execute_result"
        }
      ],
      "source": [
        "m = Mystem()\n",
        "\n",
        "# функция лемматизации строки\n",
        "def lemmer(row):\n",
        "    lemmas = ' '.join(m.lemmatize(row['purpose']))\n",
        "    return lemmas.replace(' \\n','')\n",
        "df['purpose_lem'] = df.apply(lemmer, axis=1)\n",
        "df.purpose_lem.unique()"
      ]
    },
    {
      "cell_type": "markdown",
      "metadata": {
        "id": "Ir1f0-wB5y-Z"
      },
      "source": [
        "**Вывод**"
      ]
    },
    {
      "cell_type": "markdown",
      "metadata": {
        "id": "POTGK1kn5y-Z"
      },
      "source": [
        "В столбце цель кредита записи были сделаны без единого стиля, много категорий было излишними. Необходимо было привести слова к словарной форме, лемматизировать.  \n",
        "При лемматизизации цели кредита, создали новый столбец **purpose_lem**, посмотрев на который - стали прослеживаться 4 категории на которые берут кредит: `свадьба, автомобиль, недвижимость, образование`. Это будет использовано для категоризации данных."
      ]
    },
    {
      "cell_type": "markdown",
      "metadata": {
        "id": "dNZ9JCDM5y-a"
      },
      "source": [
        "### Категоризация данных"
      ]
    },
    {
      "cell_type": "markdown",
      "metadata": {
        "id": "e2Qdlwrv5y-a"
      },
      "source": [
        "Категоризируем цели кредита из столбца **purpose_lem**, создадим новый столбец **purpose_cat** где будут храниться категоризированные данные."
      ]
    },
    {
      "cell_type": "code",
      "execution_count": null,
      "metadata": {
        "scrolled": true,
        "id": "1Xm3LWP15y-a",
        "outputId": "98c41b25-3b6b-4378-e041-c8de32f2e274"
      },
      "outputs": [
        {
          "data": {
            "text/plain": [
              "недвижимость    10811\n",
              "автомобиль       4306\n",
              "образование      4013\n",
              "свадьба          2324\n",
              "Name: purpose_cat, dtype: int64"
            ]
          },
          "execution_count": 14,
          "metadata": {},
          "output_type": "execute_result"
        }
      ],
      "source": [
        "# функция для категоризации по цели кредита\n",
        "def purp_replace(i):\n",
        "    if 'свадьба' in i:\n",
        "        return 'свадьба'\n",
        "    elif 'автомобиль' in i:\n",
        "        return 'автомобиль'\n",
        "    elif 'недвижимость' in i or 'жилье' in i:\n",
        "        return 'недвижимость'\n",
        "    elif 'образование' in i:\n",
        "        return 'образование'\n",
        "    else:\n",
        "        return 5\n",
        "\n",
        "# вызов функции и создание столбца с категоризированными данными, последующий вывод на экран соответствия значений и их кол-ва\n",
        "df['purpose_cat'] = df['purpose_lem'].apply(purp_replace)\n",
        "df['purpose_cat'].value_counts()"
      ]
    },
    {
      "cell_type": "markdown",
      "metadata": {
        "id": "-NmvKJu05y-a"
      },
      "source": [
        "Категоризируем клиентов по наличию детей."
      ]
    },
    {
      "cell_type": "code",
      "execution_count": null,
      "metadata": {
        "scrolled": false,
        "id": "sI6GeBFX5y-a",
        "outputId": "5dbcca54-11b6-44a2-f7f5-7a2b32e3a78d"
      },
      "outputs": [
        {
          "data": {
            "text/plain": [
              "детей нет    14214\n",
              "дети есть     7240\n",
              "Name: child_count, dtype: int64"
            ]
          },
          "execution_count": 15,
          "metadata": {},
          "output_type": "execute_result"
        }
      ],
      "source": [
        "# функция для категоризации по наличию детей\n",
        "def count_child(child):\n",
        "    if child == 0:\n",
        "        return 'детей нет'\n",
        "    return 'дети есть'\n",
        "\n",
        "# вызов функции по категоризации и создание нового столбца в таблице, последующи вывод на экран соответствия значений и их кол-ва\n",
        "df['child_count'] = df['children'].apply(count_child)\n",
        "df['child_count'].value_counts()"
      ]
    },
    {
      "cell_type": "markdown",
      "metadata": {
        "id": "C1f9c1Dz5y-b"
      },
      "source": [
        "Категоризируем заемщиков по заработной плате. Основываться будем на `РАСПРЕДЕЛЕНИЕ НАСЕЛЕНИЯ ПО ВЕЛИЧИНЕ СРЕДНЕДУШЕВЫХ ДЕНЕЖНЫХ ДОХОДОВ`"
      ]
    },
    {
      "cell_type": "code",
      "execution_count": null,
      "metadata": {
        "scrolled": true,
        "id": "zNqVsZWD5y-b",
        "outputId": "f4b2595c-9f42-44a1-b59e-83dd4a9459da"
      },
      "outputs": [
        {
          "data": {
            "text/plain": [
              "уровень 10    16991\n",
              "уровень 9      2598\n",
              "уровень 8      1059\n",
              "уровень 7       589\n",
              "уровень 6       205\n",
              "уровень 5        12\n",
              "Name: total_income_cat, dtype: int64"
            ]
          },
          "execution_count": 16,
          "metadata": {},
          "output_type": "execute_result"
        }
      ],
      "source": [
        "# категоризация для столбца с уровнем зарплаты\n",
        "def total_income_func(zarpl):\n",
        "    if zarpl <= 7000:\n",
        "        return 'уровень 1'\n",
        "    if zarpl <= 10000:\n",
        "        return 'уровень 2'\n",
        "    if zarpl <= 14000:\n",
        "        return 'уровень 3'\n",
        "    if zarpl <= 19000:\n",
        "        return 'уровень 4'\n",
        "    if zarpl <= 27000:\n",
        "        return 'уровень 5'\n",
        "    if zarpl <= 45000:\n",
        "        return 'уровень 6'\n",
        "    if zarpl <= 60000:\n",
        "        return 'уровень 7'\n",
        "    if zarpl <= 75000:\n",
        "        return 'уровень 8'\n",
        "    if zarpl <= 100000:\n",
        "        return 'уровень 9'\n",
        "    return 'уровень 10'\n",
        "\n",
        "# вызов функции, создание нового столбца total_income_cat, проверка с выводом на экран данных из столбца total_income_cat\n",
        "df['total_income_cat'] = df['total_income'].apply(total_income_func)\n",
        "df['total_income_cat'].value_counts()"
      ]
    },
    {
      "cell_type": "code",
      "execution_count": null,
      "metadata": {
        "id": "5AM-lU435y-b",
        "outputId": "1fc2d22f-75fe-4e75-a463-7d89379b97e0"
      },
      "outputs": [
        {
          "data": {
            "text/plain": [
              "в браке       12339\n",
              "не в браке     9115\n",
              "Name: married, dtype: int64"
            ]
          },
          "execution_count": 17,
          "metadata": {},
          "output_type": "execute_result"
        }
      ],
      "source": [
        "# функция для категоризации семейного положения\n",
        "def marriage_count(married):\n",
        "    if married == 'женат / замужем':\n",
        "        return 'в браке'\n",
        "    return 'не в браке'\n",
        "\n",
        "# вызов функции для создания нового столбца married, вывод на экран значений и их кол-ва\n",
        "df['married'] = df['family_status'].apply(marriage_count)\n",
        "df['married'].value_counts()"
      ]
    },
    {
      "cell_type": "markdown",
      "metadata": {
        "id": "GLsLiCPQ5y-c"
      },
      "source": [
        "**Вывод**"
      ]
    },
    {
      "cell_type": "markdown",
      "metadata": {
        "id": "p_8Uz5Di5y-c"
      },
      "source": [
        "Для дальнешего исследования влияния наличия детей, уровня доходов и цель кредита на погашение кредитов - мы произвели категоризацию данных с добавлением новых столбцов в датафрейм. Созданные функции будут использоваться далее при расчете зависомостей.  \n",
        "- Для категоризации цели заема были выявлены 4 явные направления на что берут кредит\n",
        "- Семеное положение согласно СК РФ `Признается брак, заключенный только в органах записи актов гражданского состояния`, следовательно категоризировали по записи `женат / замужем`, туда не попадают граждане живущие в гражданском браке.\n",
        "- Для проверки влияния наличия детей была создана категория делящая заемщиков на 2 типа: дети есть / детей нет\n",
        "- Для разделения заемщиков по уровню дохода, основываясь на `Показатели  по Российской Федерации рассчитаны с использованием величины макроэкономического показателя среднедушевых денежных доходов населения, определенной в соответствии с Методологическими положениями по расчету показателей денежных  доходов и расходов населения` от Федеральной службы государственной статистики. Была произведена категоризация на 10 уровней.   \n",
        "[приказ Росстата от 2 июля 2014 года  № 465 с изменениями от 20 ноября 2018 года](https://rosstat.gov.ru/folder/13397/)\n",
        "\n",
        "Категоризация произведена по следующему принципу:\n",
        "- Уровень 1 - заемщики с уровнем дохода до 7000 руб.\n",
        "- Уровень 2 - заемщики с уровнем дохода 7000 - 10000 руб.\n",
        "- Уровень 3 - заемщики с уровнем дохода 10000 - 14000 руб.\n",
        "- Уровень 4 - заемщики с уровнем дохода 14000 - 19000 руб.\n",
        "- Уровень 5 - заемщики с уровнем дохода 19000 - 27000 руб.\n",
        "- Уровень 6 - заемщики с уровнем дохода 27000 - 45000 руб.\n",
        "- Уровень 7 - заемщики с уровнем дохода 45000 - 60000 руб.\n",
        "- Уровень 8 - заемщики с уровнем дохода 60000 - 75000 руб.\n",
        "- Уровень 9 - заемщики с уровнем дохода 75000 - 100000 руб.\n",
        "- Уровень 10 - заемщики с уровнем дохода свыше 100000 руб.  "
      ]
    },
    {
      "cell_type": "markdown",
      "metadata": {
        "id": "AUTfJal35y-c"
      },
      "source": [
        "## Шаг 3. Ответим на вопросы"
      ]
    },
    {
      "cell_type": "markdown",
      "metadata": {
        "id": "OGR7lhDc5y-c"
      },
      "source": [
        "- Есть ли зависимость между наличием детей и возвратом кредита в срок?"
      ]
    },
    {
      "cell_type": "code",
      "execution_count": null,
      "metadata": {
        "id": "9TEQLmuP5y-c",
        "outputId": "0396562f-860a-4422-fcfe-f895381f9faf"
      },
      "outputs": [
        {
          "data": {
            "text/html": [
              "<div>\n",
              "<style scoped>\n",
              "    .dataframe tbody tr th:only-of-type {\n",
              "        vertical-align: middle;\n",
              "    }\n",
              "\n",
              "    .dataframe tbody tr th {\n",
              "        vertical-align: top;\n",
              "    }\n",
              "\n",
              "    .dataframe thead th {\n",
              "        text-align: right;\n",
              "    }\n",
              "</style>\n",
              "<table border=\"1\" class=\"dataframe\">\n",
              "  <thead>\n",
              "    <tr style=\"text-align: right;\">\n",
              "      <th></th>\n",
              "      <th>debt</th>\n",
              "    </tr>\n",
              "    <tr>\n",
              "      <th>child_count</th>\n",
              "      <th></th>\n",
              "    </tr>\n",
              "  </thead>\n",
              "  <tbody>\n",
              "    <tr>\n",
              "      <td>детей нет</td>\n",
              "      <td>7.541860</td>\n",
              "    </tr>\n",
              "    <tr>\n",
              "      <td>дети есть</td>\n",
              "      <td>9.240331</td>\n",
              "    </tr>\n",
              "  </tbody>\n",
              "</table>\n",
              "</div>"
            ],
            "text/plain": [
              "                 debt\n",
              "child_count          \n",
              "детей нет    7.541860\n",
              "дети есть    9.240331"
            ]
          },
          "metadata": {},
          "output_type": "display_data"
        }
      ],
      "source": [
        "# визуализируем вывод таблицы зависимость наличия детей и имел ли задолженности по кредиту\n",
        "children_to_debt = df.pivot_table(index = ['child_count'], values = 'debt')*100\n",
        "display(children_to_debt)"
      ]
    },
    {
      "cell_type": "markdown",
      "metadata": {
        "id": "PY0MarXS5y-d"
      },
      "source": [
        "**Вывод**"
      ]
    },
    {
      "cell_type": "markdown",
      "metadata": {
        "id": "mTuZEwd25y-d"
      },
      "source": [
        "Клиенты, у которых `есть дети`, чаще имели задолженность по возврату кредитов, чем клиенты, у которых `нет детей`. Таким образом теория, что зависимость между наличием детей и возвратом кредита в срок - подтвердилась."
      ]
    },
    {
      "cell_type": "markdown",
      "metadata": {
        "id": "WNLXz22d5y-d"
      },
      "source": [
        "- Есть ли зависимость между семейным положением и возвратом кредита в срок?"
      ]
    },
    {
      "cell_type": "code",
      "execution_count": null,
      "metadata": {
        "id": "JjTeSN1X5y-d",
        "outputId": "33088c59-9f81-448c-80c0-36e746380c65"
      },
      "outputs": [
        {
          "data": {
            "text/html": [
              "<div>\n",
              "<style scoped>\n",
              "    .dataframe tbody tr th:only-of-type {\n",
              "        vertical-align: middle;\n",
              "    }\n",
              "\n",
              "    .dataframe tbody tr th {\n",
              "        vertical-align: top;\n",
              "    }\n",
              "\n",
              "    .dataframe thead th {\n",
              "        text-align: right;\n",
              "    }\n",
              "</style>\n",
              "<table border=\"1\" class=\"dataframe\">\n",
              "  <thead>\n",
              "    <tr style=\"text-align: right;\">\n",
              "      <th>debt</th>\n",
              "      <th>0</th>\n",
              "      <th>1</th>\n",
              "      <th>married_debt_percent</th>\n",
              "    </tr>\n",
              "    <tr>\n",
              "      <th>married</th>\n",
              "      <th></th>\n",
              "      <th></th>\n",
              "      <th></th>\n",
              "    </tr>\n",
              "  </thead>\n",
              "  <tbody>\n",
              "    <tr>\n",
              "      <td>в браке</td>\n",
              "      <td>11408</td>\n",
              "      <td>931</td>\n",
              "      <td>8.160940</td>\n",
              "    </tr>\n",
              "    <tr>\n",
              "      <td>не в браке</td>\n",
              "      <td>8305</td>\n",
              "      <td>810</td>\n",
              "      <td>9.753161</td>\n",
              "    </tr>\n",
              "  </tbody>\n",
              "</table>\n",
              "</div>"
            ],
            "text/plain": [
              "debt            0    1  married_debt_percent\n",
              "married                                     \n",
              "в браке     11408  931              8.160940\n",
              "не в браке   8305  810              9.753161"
            ]
          },
          "metadata": {},
          "output_type": "display_data"
        }
      ],
      "source": [
        "df_pivot_married_level = df.pivot_table(index=['married'], columns='debt', values='family_status_id', aggfunc='count')\n",
        "df_pivot_married_level['married_debt_percent'] = df_pivot_married_level[1]/df_pivot_married_level[0]*100\n",
        "display(df_pivot_married_level.sort_values(by = 'married_debt_percent', ascending = True))"
      ]
    },
    {
      "cell_type": "markdown",
      "metadata": {
        "id": "Qn3YqRi75y-d"
      },
      "source": [
        "**Вывод**"
      ]
    },
    {
      "cell_type": "markdown",
      "metadata": {
        "id": "PobB-Xbd5y-e"
      },
      "source": [
        "Зависимость между семейным положением и возвратом кредита в срок есть: клиенты указавшие в заявке `женат / замужем` - чаще возвращают кредиты в срок. Клиенты объединенные в группу `не в браке`, записавшие данные при подаче как `'гражданский брак' 'вдовец / вдова' 'в разводе' 'не женат / не замужем'` чаще склонны к просрочке кредита."
      ]
    },
    {
      "cell_type": "markdown",
      "metadata": {
        "id": "njipeWu05y-e"
      },
      "source": [
        "- Есть ли зависимость между уровнем дохода и возвратом кредита в срок?"
      ]
    },
    {
      "cell_type": "code",
      "execution_count": null,
      "metadata": {
        "id": "npubpc6d5y-e",
        "outputId": "a02e3617-e9b2-4090-a2d4-fe4b3b60fdc8"
      },
      "outputs": [
        {
          "data": {
            "text/html": [
              "<div>\n",
              "<style scoped>\n",
              "    .dataframe tbody tr th:only-of-type {\n",
              "        vertical-align: middle;\n",
              "    }\n",
              "\n",
              "    .dataframe tbody tr th {\n",
              "        vertical-align: top;\n",
              "    }\n",
              "\n",
              "    .dataframe thead th {\n",
              "        text-align: right;\n",
              "    }\n",
              "</style>\n",
              "<table border=\"1\" class=\"dataframe\">\n",
              "  <thead>\n",
              "    <tr style=\"text-align: right;\">\n",
              "      <th>debt</th>\n",
              "      <th>0</th>\n",
              "      <th>1</th>\n",
              "      <th>total_income_debt_percent</th>\n",
              "    </tr>\n",
              "    <tr>\n",
              "      <th>total_income_cat</th>\n",
              "      <th></th>\n",
              "      <th></th>\n",
              "      <th></th>\n",
              "    </tr>\n",
              "  </thead>\n",
              "  <tbody>\n",
              "    <tr>\n",
              "      <td>уровень 7</td>\n",
              "      <td>554</td>\n",
              "      <td>35</td>\n",
              "      <td>6.317690</td>\n",
              "    </tr>\n",
              "    <tr>\n",
              "      <td>уровень 6</td>\n",
              "      <td>192</td>\n",
              "      <td>13</td>\n",
              "      <td>6.770833</td>\n",
              "    </tr>\n",
              "    <tr>\n",
              "      <td>уровень 10</td>\n",
              "      <td>15604</td>\n",
              "      <td>1387</td>\n",
              "      <td>8.888746</td>\n",
              "    </tr>\n",
              "    <tr>\n",
              "      <td>уровень 8</td>\n",
              "      <td>972</td>\n",
              "      <td>87</td>\n",
              "      <td>8.950617</td>\n",
              "    </tr>\n",
              "    <tr>\n",
              "      <td>уровень 5</td>\n",
              "      <td>11</td>\n",
              "      <td>1</td>\n",
              "      <td>9.090909</td>\n",
              "    </tr>\n",
              "    <tr>\n",
              "      <td>уровень 9</td>\n",
              "      <td>2380</td>\n",
              "      <td>218</td>\n",
              "      <td>9.159664</td>\n",
              "    </tr>\n",
              "  </tbody>\n",
              "</table>\n",
              "</div>"
            ],
            "text/plain": [
              "debt                  0     1  total_income_debt_percent\n",
              "total_income_cat                                        \n",
              "уровень 7           554    35                   6.317690\n",
              "уровень 6           192    13                   6.770833\n",
              "уровень 10        15604  1387                   8.888746\n",
              "уровень 8           972    87                   8.950617\n",
              "уровень 5            11     1                   9.090909\n",
              "уровень 9          2380   218                   9.159664"
            ]
          },
          "metadata": {},
          "output_type": "display_data"
        }
      ],
      "source": [
        "df_pivot_zarpl_to_debt = df.pivot_table(index=['total_income_cat'], columns='debt', values='family_status_id', aggfunc='count')\n",
        "df_pivot_zarpl_to_debt['total_income_debt_percent'] = df_pivot_zarpl_to_debt[1]/df_pivot_zarpl_to_debt[0]*100\n",
        "display(df_pivot_zarpl_to_debt.sort_values(by = 'total_income_debt_percent', ascending = True))"
      ]
    },
    {
      "cell_type": "markdown",
      "metadata": {
        "id": "JuoatqaG5y-f"
      },
      "source": [
        "**Вывод**"
      ]
    },
    {
      "cell_type": "markdown",
      "metadata": {
        "id": "zNXMU_Zz5y-f"
      },
      "source": [
        "Исследование подтвердило теорию что зависимость между уровнем дохода и возвратом кредита в срок - есть. Подтверждением служит таблица выше, из которой следует что заемщики, указавшие уровень зарплат `7, 6` - чаще возвращали кредит в срок, в то время как заемщики с уровнем зарплат `10, 8, 5 и 9` - чаще других имели задолженность по возврату кредита. Интересная особенность, категория `10`, с самым высоким заработком, находятся в середине списка, значит высокий уровень дохода не гарантирует возврат кредита в срок. Еще отметим, что категорий заемщиков с уровнем `1, 2, 3, 4` - в выгрузке датафрейма не обнаружены."
      ]
    },
    {
      "cell_type": "markdown",
      "metadata": {
        "id": "pO6n6aMQ5y-f"
      },
      "source": [
        "- Как разные цели кредита влияют на его возврат в срок?"
      ]
    },
    {
      "cell_type": "code",
      "execution_count": null,
      "metadata": {
        "id": "C-2vVF1c5y-f",
        "outputId": "595fcadc-2c40-43ea-9db3-e5254ced5c87"
      },
      "outputs": [
        {
          "data": {
            "text/html": [
              "<div>\n",
              "<style scoped>\n",
              "    .dataframe tbody tr th:only-of-type {\n",
              "        vertical-align: middle;\n",
              "    }\n",
              "\n",
              "    .dataframe tbody tr th {\n",
              "        vertical-align: top;\n",
              "    }\n",
              "\n",
              "    .dataframe thead th {\n",
              "        text-align: right;\n",
              "    }\n",
              "</style>\n",
              "<table border=\"1\" class=\"dataframe\">\n",
              "  <thead>\n",
              "    <tr style=\"text-align: right;\">\n",
              "      <th>debt</th>\n",
              "      <th>0</th>\n",
              "      <th>1</th>\n",
              "      <th>purpose_to_debt_percent</th>\n",
              "    </tr>\n",
              "    <tr>\n",
              "      <th>purpose_cat</th>\n",
              "      <th></th>\n",
              "      <th></th>\n",
              "      <th></th>\n",
              "    </tr>\n",
              "  </thead>\n",
              "  <tbody>\n",
              "    <tr>\n",
              "      <td>недвижимость</td>\n",
              "      <td>10029</td>\n",
              "      <td>782</td>\n",
              "      <td>7.797388</td>\n",
              "    </tr>\n",
              "    <tr>\n",
              "      <td>свадьба</td>\n",
              "      <td>2138</td>\n",
              "      <td>186</td>\n",
              "      <td>8.699719</td>\n",
              "    </tr>\n",
              "    <tr>\n",
              "      <td>образование</td>\n",
              "      <td>3643</td>\n",
              "      <td>370</td>\n",
              "      <td>10.156464</td>\n",
              "    </tr>\n",
              "    <tr>\n",
              "      <td>автомобиль</td>\n",
              "      <td>3903</td>\n",
              "      <td>403</td>\n",
              "      <td>10.325391</td>\n",
              "    </tr>\n",
              "  </tbody>\n",
              "</table>\n",
              "</div>"
            ],
            "text/plain": [
              "debt              0    1  purpose_to_debt_percent\n",
              "purpose_cat                                      \n",
              "недвижимость  10029  782                 7.797388\n",
              "свадьба        2138  186                 8.699719\n",
              "образование    3643  370                10.156464\n",
              "автомобиль     3903  403                10.325391"
            ]
          },
          "metadata": {},
          "output_type": "display_data"
        }
      ],
      "source": [
        "df_pivot_purpose_to_debt = df.pivot_table(index=['purpose_cat'], columns='debt', values='family_status_id', aggfunc='count')\n",
        "df_pivot_purpose_to_debt['purpose_to_debt_percent'] = df_pivot_purpose_to_debt[1]/df_pivot_purpose_to_debt[0]*100\n",
        "display(df_pivot_purpose_to_debt.sort_values(by = 'purpose_to_debt_percent', ascending = True))"
      ]
    },
    {
      "cell_type": "markdown",
      "metadata": {
        "id": "bKTkDeHn5y-f"
      },
      "source": [
        "**Вывод**"
      ]
    },
    {
      "cell_type": "markdown",
      "metadata": {
        "id": "T9toOuPz5y-f"
      },
      "source": [
        "Можно сделать вывод что заемщики, берущие кредит на `недвижимость` - чаще его возвращали. Далее в порядке увеличения количества  не возвратов идет `свадьба`, `образование`, и больше всего имели задолженность по возврату кредитов клиенты указавшие целью `автомобиль`."
      ]
    },
    {
      "cell_type": "markdown",
      "metadata": {
        "id": "P9aNUrno5y-g"
      },
      "source": [
        "## Шаг 4. Общий вывод"
      ]
    },
    {
      "cell_type": "markdown",
      "metadata": {
        "id": "h7YXCuqH5y-g"
      },
      "source": [
        "Применяя написанные выше функции мы выяснили как категоризированные данные влияют на факт погашения кредита в срок.\n",
        "Обобщить информацию можно так:\n",
        "- самый `благоприятный заемщик` человек состоящий `в браке, без детей, с уровнем зарплаты 27000-60000 рублей, с целью получения кредита на недвижимость`;\n",
        "- `неблагонадежный заемщик`, это человек у которого `есть дети, не состоит в браке, уровень зарплаты 75000-100000 рублей, берущий кредит с целью на образование или автомобиль`.  \n",
        "  \n",
        "В дальнейшем можно легко продолжить исследования для построения кредитного скоринга, добавив несколько функций по категоризации, возможно добавление в скоринг возраста, пола заемщика - расширит функционал, мы сможем получить новые данные, но на этом этапе этого не требовалось."
      ]
    }
  ],
  "metadata": {
    "ExecuteTimeLog": [
      {
        "duration": 1193,
        "start_time": "2022-01-25T16:35:31.109Z"
      },
      {
        "duration": 77,
        "start_time": "2022-01-25T16:39:48.293Z"
      },
      {
        "duration": 80,
        "start_time": "2022-01-25T16:45:14.231Z"
      },
      {
        "duration": 80,
        "start_time": "2022-01-25T16:49:45.720Z"
      },
      {
        "duration": 76,
        "start_time": "2022-01-25T16:50:49.778Z"
      },
      {
        "duration": 18,
        "start_time": "2022-01-25T16:52:29.316Z"
      },
      {
        "duration": 79,
        "start_time": "2022-01-25T17:39:59.330Z"
      },
      {
        "duration": 133,
        "start_time": "2022-01-25T17:39:59.412Z"
      },
      {
        "duration": 910,
        "start_time": "2022-01-25T17:39:58.638Z"
      },
      {
        "duration": 17,
        "start_time": "2022-01-25T17:40:58.531Z"
      },
      {
        "duration": 126,
        "start_time": "2022-01-25T18:07:27.457Z"
      },
      {
        "duration": 6,
        "start_time": "2022-01-25T18:33:47.771Z"
      },
      {
        "duration": 29,
        "start_time": "2022-01-25T18:34:35.268Z"
      },
      {
        "duration": 33,
        "start_time": "2022-01-25T18:36:13.056Z"
      },
      {
        "duration": 30,
        "start_time": "2022-01-25T18:36:37.191Z"
      },
      {
        "duration": 27,
        "start_time": "2022-01-25T18:37:03.336Z"
      },
      {
        "duration": 30,
        "start_time": "2022-01-25T18:38:04.162Z"
      },
      {
        "duration": 618,
        "start_time": "2022-01-25T18:40:26.215Z"
      },
      {
        "duration": 32,
        "start_time": "2022-01-25T18:40:32.412Z"
      },
      {
        "duration": 31,
        "start_time": "2022-01-25T18:43:21.461Z"
      },
      {
        "duration": 122,
        "start_time": "2022-01-25T18:58:14.394Z"
      },
      {
        "duration": 81,
        "start_time": "2022-01-25T18:59:43.189Z"
      },
      {
        "duration": 110,
        "start_time": "2022-01-25T19:01:20.016Z"
      },
      {
        "duration": 109,
        "start_time": "2022-01-25T19:01:27.240Z"
      },
      {
        "duration": 121,
        "start_time": "2022-01-25T19:01:34.432Z"
      },
      {
        "duration": 127,
        "start_time": "2022-01-25T19:01:40.881Z"
      },
      {
        "duration": 82,
        "start_time": "2022-01-25T19:01:47.017Z"
      },
      {
        "duration": 91,
        "start_time": "2022-01-25T19:01:52.968Z"
      },
      {
        "duration": 106,
        "start_time": "2022-01-25T19:01:59.881Z"
      },
      {
        "duration": 82,
        "start_time": "2022-01-25T19:08:10.670Z"
      },
      {
        "duration": 13,
        "start_time": "2022-01-25T19:10:45.282Z"
      },
      {
        "duration": 13,
        "start_time": "2022-01-25T19:11:10.956Z"
      },
      {
        "duration": 15,
        "start_time": "2022-01-25T19:11:13.915Z"
      },
      {
        "duration": 25,
        "start_time": "2022-01-25T19:22:38.250Z"
      },
      {
        "duration": 26,
        "start_time": "2022-01-25T19:23:54.013Z"
      },
      {
        "duration": 35,
        "start_time": "2022-01-25T19:24:21.133Z"
      },
      {
        "duration": 37,
        "start_time": "2022-01-25T19:24:37.862Z"
      },
      {
        "duration": 35,
        "start_time": "2022-01-25T19:32:33.191Z"
      },
      {
        "duration": 14,
        "start_time": "2022-01-25T20:04:49.744Z"
      },
      {
        "duration": 14,
        "start_time": "2022-01-25T21:02:10.881Z"
      },
      {
        "duration": 126,
        "start_time": "2022-01-25T21:04:23.933Z"
      },
      {
        "duration": 405,
        "start_time": "2022-01-25T21:28:20.869Z"
      },
      {
        "duration": 404,
        "start_time": "2022-01-25T21:28:58.781Z"
      },
      {
        "duration": 129,
        "start_time": "2022-01-25T21:29:15.518Z"
      },
      {
        "duration": 12,
        "start_time": "2022-01-25T21:29:19.623Z"
      },
      {
        "duration": 15,
        "start_time": "2022-01-25T21:30:26.561Z"
      },
      {
        "duration": 13,
        "start_time": "2022-01-25T21:35:14.243Z"
      },
      {
        "duration": 15,
        "start_time": "2022-01-25T21:49:13.237Z"
      },
      {
        "duration": 393,
        "start_time": "2022-01-25T22:00:25.404Z"
      },
      {
        "duration": 11,
        "start_time": "2022-01-25T22:00:30.427Z"
      },
      {
        "duration": 9,
        "start_time": "2022-01-25T22:01:32.830Z"
      },
      {
        "duration": 11,
        "start_time": "2022-01-25T22:02:08.015Z"
      },
      {
        "duration": 7,
        "start_time": "2022-01-25T22:05:33.542Z"
      },
      {
        "duration": 133,
        "start_time": "2022-01-25T22:13:32.694Z"
      },
      {
        "duration": 120,
        "start_time": "2022-01-25T22:13:41.972Z"
      },
      {
        "duration": 15,
        "start_time": "2022-01-25T22:13:47.918Z"
      },
      {
        "duration": 14,
        "start_time": "2022-01-25T22:19:23.857Z"
      },
      {
        "duration": 85,
        "start_time": "2022-01-25T22:19:41.417Z"
      },
      {
        "duration": 59,
        "start_time": "2022-01-25T22:56:13.521Z"
      },
      {
        "duration": 14,
        "start_time": "2022-01-25T22:56:26.946Z"
      },
      {
        "duration": 11,
        "start_time": "2022-01-25T22:56:36.482Z"
      },
      {
        "duration": 13,
        "start_time": "2022-01-25T22:56:45.857Z"
      },
      {
        "duration": 20,
        "start_time": "2022-01-25T23:05:54.045Z"
      },
      {
        "duration": 79,
        "start_time": "2022-01-25T23:06:14.459Z"
      },
      {
        "duration": 19,
        "start_time": "2022-01-25T23:06:14.541Z"
      },
      {
        "duration": 27,
        "start_time": "2022-01-25T23:06:14.563Z"
      },
      {
        "duration": 112,
        "start_time": "2022-01-25T23:06:14.592Z"
      },
      {
        "duration": 12,
        "start_time": "2022-01-25T23:06:14.707Z"
      },
      {
        "duration": 47,
        "start_time": "2022-01-25T23:06:14.721Z"
      },
      {
        "duration": 351,
        "start_time": "2022-01-25T23:08:41.122Z"
      },
      {
        "duration": 13,
        "start_time": "2022-01-25T23:08:55.787Z"
      },
      {
        "duration": 15,
        "start_time": "2022-01-25T23:10:00.372Z"
      },
      {
        "duration": 341,
        "start_time": "2022-01-25T23:13:53.764Z"
      },
      {
        "duration": 16,
        "start_time": "2022-01-25T23:14:03.908Z"
      },
      {
        "duration": 16,
        "start_time": "2022-01-25T23:17:40.420Z"
      },
      {
        "duration": 13,
        "start_time": "2022-01-25T23:22:25.702Z"
      },
      {
        "duration": 11,
        "start_time": "2022-01-25T23:22:42.095Z"
      },
      {
        "duration": 351,
        "start_time": "2022-01-25T23:27:34.216Z"
      },
      {
        "duration": 41,
        "start_time": "2022-01-25T23:28:02.283Z"
      },
      {
        "duration": 24,
        "start_time": "2022-01-25T23:39:17.417Z"
      },
      {
        "duration": 25,
        "start_time": "2022-01-25T23:39:24.920Z"
      },
      {
        "duration": 50,
        "start_time": "2022-01-25T23:39:29.252Z"
      },
      {
        "duration": 38,
        "start_time": "2022-01-26T00:08:01.705Z"
      },
      {
        "duration": 41,
        "start_time": "2022-01-26T00:08:07.529Z"
      },
      {
        "duration": 79,
        "start_time": "2022-01-26T00:08:34.470Z"
      },
      {
        "duration": 16,
        "start_time": "2022-01-26T00:08:34.551Z"
      },
      {
        "duration": 30,
        "start_time": "2022-01-26T00:08:34.570Z"
      },
      {
        "duration": 117,
        "start_time": "2022-01-26T00:08:34.603Z"
      },
      {
        "duration": 14,
        "start_time": "2022-01-26T00:08:34.722Z"
      },
      {
        "duration": 18,
        "start_time": "2022-01-26T00:08:34.760Z"
      },
      {
        "duration": 11,
        "start_time": "2022-01-26T00:08:34.782Z"
      },
      {
        "duration": 82,
        "start_time": "2022-01-26T00:08:34.797Z"
      },
      {
        "duration": 37,
        "start_time": "2022-01-26T00:08:34.882Z"
      },
      {
        "duration": 116,
        "start_time": "2022-01-26T00:09:17.106Z"
      },
      {
        "duration": 28,
        "start_time": "2022-01-26T00:09:25.378Z"
      },
      {
        "duration": 1696,
        "start_time": "2022-01-26T00:20:10.640Z"
      },
      {
        "duration": 972,
        "start_time": "2022-01-26T00:20:34.065Z"
      },
      {
        "duration": 396,
        "start_time": "2022-01-26T00:20:46.041Z"
      },
      {
        "duration": 355,
        "start_time": "2022-01-26T00:20:56.136Z"
      },
      {
        "duration": 366,
        "start_time": "2022-01-26T00:21:51.426Z"
      },
      {
        "duration": 388,
        "start_time": "2022-01-26T00:21:55.987Z"
      },
      {
        "duration": 359,
        "start_time": "2022-01-26T00:22:48.485Z"
      },
      {
        "duration": 10,
        "start_time": "2022-01-26T00:23:50.614Z"
      },
      {
        "duration": 78,
        "start_time": "2022-01-26T00:24:47.231Z"
      },
      {
        "duration": 19,
        "start_time": "2022-01-26T00:24:47.312Z"
      },
      {
        "duration": 59,
        "start_time": "2022-01-26T00:24:47.335Z"
      },
      {
        "duration": 122,
        "start_time": "2022-01-26T00:24:47.397Z"
      },
      {
        "duration": 38,
        "start_time": "2022-01-26T00:24:47.521Z"
      },
      {
        "duration": 16,
        "start_time": "2022-01-26T00:24:47.561Z"
      },
      {
        "duration": 10,
        "start_time": "2022-01-26T00:24:47.579Z"
      },
      {
        "duration": 69,
        "start_time": "2022-01-26T00:24:47.592Z"
      },
      {
        "duration": 8,
        "start_time": "2022-01-26T00:24:47.664Z"
      },
      {
        "duration": 11,
        "start_time": "2022-01-26T00:26:07.620Z"
      },
      {
        "duration": 9,
        "start_time": "2022-01-26T00:26:42.252Z"
      },
      {
        "duration": 8,
        "start_time": "2022-01-26T00:26:48.853Z"
      },
      {
        "duration": 41,
        "start_time": "2022-01-26T00:26:51.661Z"
      },
      {
        "duration": 8,
        "start_time": "2022-01-26T00:26:52.932Z"
      },
      {
        "duration": 76,
        "start_time": "2022-01-26T00:27:04.444Z"
      },
      {
        "duration": 36,
        "start_time": "2022-01-26T00:27:04.523Z"
      },
      {
        "duration": 27,
        "start_time": "2022-01-26T00:27:04.562Z"
      },
      {
        "duration": 113,
        "start_time": "2022-01-26T00:27:04.592Z"
      },
      {
        "duration": 13,
        "start_time": "2022-01-26T00:27:04.707Z"
      },
      {
        "duration": 45,
        "start_time": "2022-01-26T00:27:04.723Z"
      },
      {
        "duration": 12,
        "start_time": "2022-01-26T00:27:04.770Z"
      },
      {
        "duration": 45,
        "start_time": "2022-01-26T00:27:04.784Z"
      },
      {
        "duration": 7,
        "start_time": "2022-01-26T00:27:04.861Z"
      },
      {
        "duration": 8,
        "start_time": "2022-01-26T00:30:33.900Z"
      },
      {
        "duration": 25,
        "start_time": "2022-01-26T00:30:49.909Z"
      },
      {
        "duration": 10,
        "start_time": "2022-01-26T00:31:02.030Z"
      },
      {
        "duration": 9,
        "start_time": "2022-01-26T00:32:09.535Z"
      },
      {
        "duration": 8,
        "start_time": "2022-01-26T00:32:20.024Z"
      },
      {
        "duration": 9,
        "start_time": "2022-01-26T00:32:29.848Z"
      },
      {
        "duration": 15,
        "start_time": "2022-01-26T00:32:35.744Z"
      },
      {
        "duration": 926,
        "start_time": "2022-01-26T20:11:47.660Z"
      },
      {
        "duration": 2556,
        "start_time": "2022-01-26T20:11:46.032Z"
      },
      {
        "duration": 2555,
        "start_time": "2022-01-26T20:11:46.034Z"
      },
      {
        "duration": 2554,
        "start_time": "2022-01-26T20:11:46.036Z"
      },
      {
        "duration": 2554,
        "start_time": "2022-01-26T20:11:46.038Z"
      },
      {
        "duration": 2553,
        "start_time": "2022-01-26T20:11:46.040Z"
      },
      {
        "duration": 2551,
        "start_time": "2022-01-26T20:11:46.043Z"
      },
      {
        "duration": 2550,
        "start_time": "2022-01-26T20:11:46.045Z"
      },
      {
        "duration": 2550,
        "start_time": "2022-01-26T20:11:46.047Z"
      },
      {
        "duration": 2549,
        "start_time": "2022-01-26T20:11:46.049Z"
      },
      {
        "duration": 65,
        "start_time": "2022-01-26T20:12:19.277Z"
      },
      {
        "duration": 58,
        "start_time": "2022-01-26T20:12:24.948Z"
      },
      {
        "duration": 12,
        "start_time": "2022-01-26T20:12:25.008Z"
      },
      {
        "duration": 21,
        "start_time": "2022-01-26T20:12:25.022Z"
      },
      {
        "duration": 84,
        "start_time": "2022-01-26T20:12:25.045Z"
      },
      {
        "duration": 10,
        "start_time": "2022-01-26T20:12:25.131Z"
      },
      {
        "duration": 24,
        "start_time": "2022-01-26T20:12:25.142Z"
      },
      {
        "duration": 17,
        "start_time": "2022-01-26T20:12:25.167Z"
      },
      {
        "duration": 35,
        "start_time": "2022-01-26T20:12:25.199Z"
      },
      {
        "duration": 7,
        "start_time": "2022-01-26T20:12:25.236Z"
      },
      {
        "duration": 12,
        "start_time": "2022-01-26T20:12:25.245Z"
      },
      {
        "duration": 247,
        "start_time": "2022-01-26T21:03:18.047Z"
      },
      {
        "duration": 262,
        "start_time": "2022-01-26T21:03:24.983Z"
      },
      {
        "duration": 256,
        "start_time": "2022-01-26T21:08:50.675Z"
      },
      {
        "duration": 19,
        "start_time": "2022-01-26T21:08:55.514Z"
      },
      {
        "duration": 18,
        "start_time": "2022-01-26T21:27:12.391Z"
      },
      {
        "duration": 18,
        "start_time": "2022-01-26T21:33:28.035Z"
      },
      {
        "duration": 10,
        "start_time": "2022-01-26T21:33:31.042Z"
      },
      {
        "duration": 268,
        "start_time": "2022-01-26T22:05:30.584Z"
      },
      {
        "duration": 6321,
        "start_time": "2022-01-26T22:05:35.441Z"
      },
      {
        "duration": 6650,
        "start_time": "2022-01-26T22:05:43.001Z"
      },
      {
        "duration": 8,
        "start_time": "2022-01-26T22:05:54.161Z"
      },
      {
        "duration": 7,
        "start_time": "2022-01-26T22:06:09.889Z"
      },
      {
        "duration": 294,
        "start_time": "2022-01-26T22:10:25.113Z"
      },
      {
        "duration": 6,
        "start_time": "2022-01-26T22:10:50.802Z"
      },
      {
        "duration": 14,
        "start_time": "2022-01-26T22:11:00.962Z"
      },
      {
        "duration": 13,
        "start_time": "2022-01-26T22:11:24.955Z"
      },
      {
        "duration": 16,
        "start_time": "2022-01-26T22:58:52.729Z"
      },
      {
        "duration": 48,
        "start_time": "2022-01-26T23:04:40.980Z"
      },
      {
        "duration": 61,
        "start_time": "2022-01-26T23:05:08.940Z"
      },
      {
        "duration": 10,
        "start_time": "2022-01-26T23:05:09.003Z"
      },
      {
        "duration": 25,
        "start_time": "2022-01-26T23:05:09.015Z"
      },
      {
        "duration": 81,
        "start_time": "2022-01-26T23:05:09.042Z"
      },
      {
        "duration": 27,
        "start_time": "2022-01-26T23:05:09.125Z"
      },
      {
        "duration": 19,
        "start_time": "2022-01-26T23:05:09.154Z"
      },
      {
        "duration": 23,
        "start_time": "2022-01-26T23:05:09.175Z"
      },
      {
        "duration": 31,
        "start_time": "2022-01-26T23:05:09.201Z"
      },
      {
        "duration": 6,
        "start_time": "2022-01-26T23:05:09.234Z"
      },
      {
        "duration": 13,
        "start_time": "2022-01-26T23:05:09.242Z"
      },
      {
        "duration": 279,
        "start_time": "2022-01-26T23:05:09.257Z"
      },
      {
        "duration": 3037,
        "start_time": "2022-01-26T23:05:06.501Z"
      },
      {
        "duration": 45,
        "start_time": "2022-01-26T23:05:47.822Z"
      },
      {
        "duration": 267,
        "start_time": "2022-01-26T23:06:14.128Z"
      },
      {
        "duration": 283,
        "start_time": "2022-01-26T23:06:37.961Z"
      },
      {
        "duration": 280,
        "start_time": "2022-01-26T23:07:01.930Z"
      },
      {
        "duration": 12,
        "start_time": "2022-01-26T23:07:06.329Z"
      },
      {
        "duration": 14,
        "start_time": "2022-01-26T23:07:14.425Z"
      },
      {
        "duration": 259,
        "start_time": "2022-01-26T23:07:22.721Z"
      },
      {
        "duration": 13,
        "start_time": "2022-01-26T23:07:34.051Z"
      },
      {
        "duration": 13,
        "start_time": "2022-01-26T23:07:39.418Z"
      },
      {
        "duration": 269,
        "start_time": "2022-01-26T23:07:42.794Z"
      },
      {
        "duration": 12,
        "start_time": "2022-01-26T23:08:13.269Z"
      },
      {
        "duration": 3,
        "start_time": "2022-01-26T23:08:25.115Z"
      },
      {
        "duration": 17,
        "start_time": "2022-01-26T23:08:30.691Z"
      },
      {
        "duration": 16,
        "start_time": "2022-01-26T23:08:48.885Z"
      },
      {
        "duration": 18,
        "start_time": "2022-01-26T23:09:12.845Z"
      },
      {
        "duration": 18,
        "start_time": "2022-01-26T23:09:21.565Z"
      },
      {
        "duration": 1005,
        "start_time": "2022-01-26T23:10:07.456Z"
      },
      {
        "duration": 17,
        "start_time": "2022-01-26T23:12:21.283Z"
      },
      {
        "duration": 18,
        "start_time": "2022-01-26T23:12:31.019Z"
      },
      {
        "duration": 273,
        "start_time": "2022-01-26T23:12:48.564Z"
      },
      {
        "duration": 17,
        "start_time": "2022-01-26T23:13:08.838Z"
      },
      {
        "duration": 59,
        "start_time": "2022-01-26T23:14:03.084Z"
      },
      {
        "duration": 11,
        "start_time": "2022-01-26T23:14:03.145Z"
      },
      {
        "duration": 44,
        "start_time": "2022-01-26T23:14:03.159Z"
      },
      {
        "duration": 59,
        "start_time": "2022-01-26T23:14:03.205Z"
      },
      {
        "duration": 34,
        "start_time": "2022-01-26T23:14:03.266Z"
      },
      {
        "duration": 16,
        "start_time": "2022-01-26T23:14:03.302Z"
      },
      {
        "duration": 8,
        "start_time": "2022-01-26T23:14:03.320Z"
      },
      {
        "duration": 37,
        "start_time": "2022-01-26T23:14:03.329Z"
      },
      {
        "duration": 34,
        "start_time": "2022-01-26T23:14:03.369Z"
      },
      {
        "duration": 10,
        "start_time": "2022-01-26T23:14:03.405Z"
      },
      {
        "duration": 250,
        "start_time": "2022-01-26T23:14:03.416Z"
      },
      {
        "duration": 3034,
        "start_time": "2022-01-26T23:14:00.633Z"
      },
      {
        "duration": 271,
        "start_time": "2022-01-26T23:16:57.957Z"
      },
      {
        "duration": 334,
        "start_time": "2022-01-26T23:17:17.774Z"
      },
      {
        "duration": 332,
        "start_time": "2022-01-26T23:17:58.862Z"
      },
      {
        "duration": 13,
        "start_time": "2022-01-26T23:18:14.343Z"
      },
      {
        "duration": 11,
        "start_time": "2022-01-26T23:18:58.104Z"
      },
      {
        "duration": 60,
        "start_time": "2022-01-26T23:19:07.528Z"
      },
      {
        "duration": 11,
        "start_time": "2022-01-26T23:19:07.591Z"
      },
      {
        "duration": 20,
        "start_time": "2022-01-26T23:19:07.605Z"
      },
      {
        "duration": 93,
        "start_time": "2022-01-26T23:19:07.627Z"
      },
      {
        "duration": 11,
        "start_time": "2022-01-26T23:19:07.721Z"
      },
      {
        "duration": 12,
        "start_time": "2022-01-26T23:19:07.733Z"
      },
      {
        "duration": 8,
        "start_time": "2022-01-26T23:19:07.746Z"
      },
      {
        "duration": 65,
        "start_time": "2022-01-26T23:19:07.756Z"
      },
      {
        "duration": 5,
        "start_time": "2022-01-26T23:19:07.823Z"
      },
      {
        "duration": 9,
        "start_time": "2022-01-26T23:19:07.830Z"
      },
      {
        "duration": 16,
        "start_time": "2022-01-26T23:19:07.841Z"
      },
      {
        "duration": 49,
        "start_time": "2022-01-26T23:19:07.859Z"
      },
      {
        "duration": 16,
        "start_time": "2022-01-26T23:21:11.349Z"
      },
      {
        "duration": 61,
        "start_time": "2022-01-26T23:21:20.332Z"
      },
      {
        "duration": 11,
        "start_time": "2022-01-26T23:21:20.395Z"
      },
      {
        "duration": 18,
        "start_time": "2022-01-26T23:21:20.408Z"
      },
      {
        "duration": 114,
        "start_time": "2022-01-26T23:21:20.428Z"
      },
      {
        "duration": 10,
        "start_time": "2022-01-26T23:21:20.544Z"
      },
      {
        "duration": 19,
        "start_time": "2022-01-26T23:21:20.556Z"
      },
      {
        "duration": 11,
        "start_time": "2022-01-26T23:21:20.599Z"
      },
      {
        "duration": 45,
        "start_time": "2022-01-26T23:21:20.613Z"
      },
      {
        "duration": 38,
        "start_time": "2022-01-26T23:21:20.660Z"
      },
      {
        "duration": 9,
        "start_time": "2022-01-26T23:21:20.701Z"
      },
      {
        "duration": 14,
        "start_time": "2022-01-26T23:21:20.712Z"
      },
      {
        "duration": 16,
        "start_time": "2022-01-26T23:21:20.728Z"
      },
      {
        "duration": 44,
        "start_time": "2022-01-26T23:22:14.215Z"
      },
      {
        "duration": 46,
        "start_time": "2022-01-26T23:24:08.315Z"
      },
      {
        "duration": 43,
        "start_time": "2022-01-26T23:24:24.668Z"
      },
      {
        "duration": 42,
        "start_time": "2022-01-26T23:25:03.189Z"
      },
      {
        "duration": 60,
        "start_time": "2022-01-26T23:25:15.133Z"
      },
      {
        "duration": 13,
        "start_time": "2022-01-26T23:25:15.195Z"
      },
      {
        "duration": 22,
        "start_time": "2022-01-26T23:25:15.210Z"
      },
      {
        "duration": 83,
        "start_time": "2022-01-26T23:25:15.234Z"
      },
      {
        "duration": 11,
        "start_time": "2022-01-26T23:25:15.319Z"
      },
      {
        "duration": 13,
        "start_time": "2022-01-26T23:25:15.332Z"
      },
      {
        "duration": 8,
        "start_time": "2022-01-26T23:25:15.347Z"
      },
      {
        "duration": 63,
        "start_time": "2022-01-26T23:25:15.358Z"
      },
      {
        "duration": 6,
        "start_time": "2022-01-26T23:25:15.423Z"
      },
      {
        "duration": 11,
        "start_time": "2022-01-26T23:25:15.430Z"
      },
      {
        "duration": 15,
        "start_time": "2022-01-26T23:25:15.443Z"
      },
      {
        "duration": 76,
        "start_time": "2022-01-26T23:25:15.459Z"
      },
      {
        "duration": 45,
        "start_time": "2022-01-26T23:34:22.679Z"
      },
      {
        "duration": 56,
        "start_time": "2022-01-26T23:35:26.467Z"
      },
      {
        "duration": 56,
        "start_time": "2022-01-26T23:36:31.827Z"
      },
      {
        "duration": 51,
        "start_time": "2022-01-26T23:36:39.796Z"
      },
      {
        "duration": 52,
        "start_time": "2022-01-26T23:36:45.748Z"
      },
      {
        "duration": 51,
        "start_time": "2022-01-26T23:36:59.828Z"
      },
      {
        "duration": 57,
        "start_time": "2022-01-26T23:39:21.569Z"
      },
      {
        "duration": 52,
        "start_time": "2022-01-26T23:39:33.266Z"
      },
      {
        "duration": 55,
        "start_time": "2022-01-26T23:39:39.321Z"
      },
      {
        "duration": 52,
        "start_time": "2022-01-26T23:39:49.938Z"
      },
      {
        "duration": 55,
        "start_time": "2022-01-26T23:39:57.906Z"
      },
      {
        "duration": 56,
        "start_time": "2022-01-26T23:40:09.426Z"
      },
      {
        "duration": 55,
        "start_time": "2022-01-26T23:40:25.675Z"
      },
      {
        "duration": 52,
        "start_time": "2022-01-26T23:40:40.644Z"
      },
      {
        "duration": 54,
        "start_time": "2022-01-26T23:40:47.612Z"
      },
      {
        "duration": 56,
        "start_time": "2022-01-26T23:41:00.532Z"
      },
      {
        "duration": 40,
        "start_time": "2022-01-26T23:42:28.438Z"
      },
      {
        "duration": 968,
        "start_time": "2022-01-27T13:11:01.171Z"
      },
      {
        "duration": 18,
        "start_time": "2022-01-27T13:11:02.142Z"
      },
      {
        "duration": 27,
        "start_time": "2022-01-27T13:11:02.164Z"
      },
      {
        "duration": 116,
        "start_time": "2022-01-27T13:11:02.193Z"
      },
      {
        "duration": 14,
        "start_time": "2022-01-27T13:11:02.311Z"
      },
      {
        "duration": 44,
        "start_time": "2022-01-27T13:11:02.327Z"
      },
      {
        "duration": 15,
        "start_time": "2022-01-27T13:11:02.374Z"
      },
      {
        "duration": 86,
        "start_time": "2022-01-27T13:11:02.394Z"
      },
      {
        "duration": 8,
        "start_time": "2022-01-27T13:11:02.483Z"
      },
      {
        "duration": 11,
        "start_time": "2022-01-27T13:11:02.493Z"
      },
      {
        "duration": 57,
        "start_time": "2022-01-27T13:11:02.506Z"
      },
      {
        "duration": 60,
        "start_time": "2022-01-27T13:11:02.565Z"
      },
      {
        "duration": 61,
        "start_time": "2022-01-27T13:12:47.511Z"
      },
      {
        "duration": 79,
        "start_time": "2022-01-27T13:13:08.212Z"
      },
      {
        "duration": 21,
        "start_time": "2022-01-27T13:13:08.294Z"
      },
      {
        "duration": 69,
        "start_time": "2022-01-27T13:13:08.318Z"
      },
      {
        "duration": 153,
        "start_time": "2022-01-27T13:13:08.391Z"
      },
      {
        "duration": 24,
        "start_time": "2022-01-27T13:13:08.546Z"
      },
      {
        "duration": 16,
        "start_time": "2022-01-27T13:13:08.572Z"
      },
      {
        "duration": 12,
        "start_time": "2022-01-27T13:13:08.591Z"
      },
      {
        "duration": 107,
        "start_time": "2022-01-27T13:13:08.607Z"
      },
      {
        "duration": 9,
        "start_time": "2022-01-27T13:13:08.716Z"
      },
      {
        "duration": 39,
        "start_time": "2022-01-27T13:13:08.727Z"
      },
      {
        "duration": 30,
        "start_time": "2022-01-27T13:13:08.769Z"
      },
      {
        "duration": 89,
        "start_time": "2022-01-27T13:13:08.802Z"
      },
      {
        "duration": 123,
        "start_time": "2022-01-27T13:13:36.456Z"
      },
      {
        "duration": 96,
        "start_time": "2022-01-27T13:13:51.200Z"
      },
      {
        "duration": 15,
        "start_time": "2022-01-27T13:13:51.298Z"
      },
      {
        "duration": 55,
        "start_time": "2022-01-27T13:13:51.317Z"
      },
      {
        "duration": 107,
        "start_time": "2022-01-27T13:13:51.375Z"
      },
      {
        "duration": 12,
        "start_time": "2022-01-27T13:13:51.485Z"
      },
      {
        "duration": 14,
        "start_time": "2022-01-27T13:13:51.500Z"
      },
      {
        "duration": 44,
        "start_time": "2022-01-27T13:13:51.516Z"
      },
      {
        "duration": 46,
        "start_time": "2022-01-27T13:13:51.563Z"
      },
      {
        "duration": 9,
        "start_time": "2022-01-27T13:13:51.611Z"
      },
      {
        "duration": 44,
        "start_time": "2022-01-27T13:13:51.622Z"
      },
      {
        "duration": 19,
        "start_time": "2022-01-27T13:13:51.669Z"
      },
      {
        "duration": 145,
        "start_time": "2022-01-27T13:13:51.690Z"
      },
      {
        "duration": 82,
        "start_time": "2022-01-27T13:15:16.621Z"
      },
      {
        "duration": 18,
        "start_time": "2022-01-27T13:15:21.619Z"
      },
      {
        "duration": 83,
        "start_time": "2022-01-27T13:15:24.212Z"
      },
      {
        "duration": 80,
        "start_time": "2022-01-27T13:15:34.099Z"
      },
      {
        "duration": 16,
        "start_time": "2022-01-27T13:15:34.181Z"
      },
      {
        "duration": 68,
        "start_time": "2022-01-27T13:15:34.200Z"
      },
      {
        "duration": 94,
        "start_time": "2022-01-27T13:15:34.270Z"
      },
      {
        "duration": 14,
        "start_time": "2022-01-27T13:15:34.366Z"
      },
      {
        "duration": 16,
        "start_time": "2022-01-27T13:15:34.382Z"
      },
      {
        "duration": 10,
        "start_time": "2022-01-27T13:15:34.400Z"
      },
      {
        "duration": 85,
        "start_time": "2022-01-27T13:15:34.413Z"
      },
      {
        "duration": 10,
        "start_time": "2022-01-27T13:15:34.500Z"
      },
      {
        "duration": 46,
        "start_time": "2022-01-27T13:15:34.513Z"
      },
      {
        "duration": 21,
        "start_time": "2022-01-27T13:15:34.561Z"
      },
      {
        "duration": 109,
        "start_time": "2022-01-27T13:15:34.584Z"
      },
      {
        "duration": 98,
        "start_time": "2022-01-27T13:16:52.535Z"
      },
      {
        "duration": 111,
        "start_time": "2022-01-27T13:18:19.034Z"
      },
      {
        "duration": 81,
        "start_time": "2022-01-27T14:59:54.543Z"
      },
      {
        "duration": 34,
        "start_time": "2022-01-27T14:59:54.627Z"
      },
      {
        "duration": 29,
        "start_time": "2022-01-27T14:59:54.664Z"
      },
      {
        "duration": 113,
        "start_time": "2022-01-27T14:59:54.696Z"
      },
      {
        "duration": 13,
        "start_time": "2022-01-27T14:59:54.812Z"
      },
      {
        "duration": 41,
        "start_time": "2022-01-27T14:59:54.828Z"
      },
      {
        "duration": 11,
        "start_time": "2022-01-27T14:59:54.871Z"
      },
      {
        "duration": 41,
        "start_time": "2022-01-27T14:59:54.885Z"
      },
      {
        "duration": 39,
        "start_time": "2022-01-27T14:59:54.928Z"
      },
      {
        "duration": 14,
        "start_time": "2022-01-27T14:59:54.971Z"
      },
      {
        "duration": 19,
        "start_time": "2022-01-27T14:59:54.987Z"
      },
      {
        "duration": 191,
        "start_time": "2022-01-27T14:59:55.009Z"
      },
      {
        "duration": 623,
        "start_time": "2022-01-27T15:23:41.097Z"
      },
      {
        "duration": 904,
        "start_time": "2022-01-27T15:50:53.701Z"
      },
      {
        "duration": 938,
        "start_time": "2022-01-27T15:50:59.158Z"
      },
      {
        "duration": 943,
        "start_time": "2022-01-27T15:52:27.728Z"
      },
      {
        "duration": 965,
        "start_time": "2022-01-27T18:01:12.560Z"
      },
      {
        "duration": 476,
        "start_time": "2022-01-27T18:01:25.905Z"
      },
      {
        "duration": 10,
        "start_time": "2022-01-27T18:51:08.483Z"
      },
      {
        "duration": 985,
        "start_time": "2022-01-27T18:51:36.331Z"
      },
      {
        "duration": 53335,
        "start_time": "2022-01-27T18:53:32.223Z"
      },
      {
        "duration": 6523,
        "start_time": "2022-01-27T18:56:12.396Z"
      },
      {
        "duration": 6712,
        "start_time": "2022-01-27T18:57:08.423Z"
      },
      {
        "duration": 6701,
        "start_time": "2022-01-27T18:57:38.271Z"
      },
      {
        "duration": 419,
        "start_time": "2022-01-27T19:14:08.080Z"
      },
      {
        "duration": 6259,
        "start_time": "2022-01-27T19:14:21.176Z"
      },
      {
        "duration": 6917,
        "start_time": "2022-01-27T19:15:10.202Z"
      },
      {
        "duration": 384,
        "start_time": "2022-01-27T19:23:36.873Z"
      },
      {
        "duration": 9776,
        "start_time": "2022-01-27T19:24:24.259Z"
      },
      {
        "duration": 9410,
        "start_time": "2022-01-27T19:24:42.843Z"
      },
      {
        "duration": 1026,
        "start_time": "2022-01-27T19:25:54.504Z"
      },
      {
        "duration": 6376,
        "start_time": "2022-01-27T21:22:08.883Z"
      },
      {
        "duration": 6413,
        "start_time": "2022-01-27T21:22:28.108Z"
      },
      {
        "duration": 6634,
        "start_time": "2022-01-27T21:24:07.597Z"
      },
      {
        "duration": 13545,
        "start_time": "2022-01-27T21:35:29.931Z"
      },
      {
        "duration": 1921,
        "start_time": "2022-01-27T21:35:57.236Z"
      },
      {
        "duration": 1719,
        "start_time": "2022-01-27T21:36:38.862Z"
      },
      {
        "duration": 9902,
        "start_time": "2022-01-27T21:36:58.695Z"
      },
      {
        "duration": 7053,
        "start_time": "2022-01-27T21:37:38.287Z"
      },
      {
        "duration": 1685,
        "start_time": "2022-01-27T21:47:36.426Z"
      },
      {
        "duration": 6233,
        "start_time": "2022-01-27T21:52:17.597Z"
      },
      {
        "duration": 1581,
        "start_time": "2022-01-27T21:56:45.437Z"
      },
      {
        "duration": 6377,
        "start_time": "2022-01-27T21:57:50.926Z"
      },
      {
        "duration": 6200,
        "start_time": "2022-01-27T21:58:14.487Z"
      },
      {
        "duration": 6086,
        "start_time": "2022-01-27T22:00:29.580Z"
      },
      {
        "duration": 522,
        "start_time": "2022-01-28T16:53:38.069Z"
      },
      {
        "duration": 854,
        "start_time": "2022-01-28T16:53:48.525Z"
      },
      {
        "duration": 13,
        "start_time": "2022-01-28T16:53:49.381Z"
      },
      {
        "duration": 21,
        "start_time": "2022-01-28T16:53:49.397Z"
      },
      {
        "duration": 92,
        "start_time": "2022-01-28T16:53:49.421Z"
      },
      {
        "duration": 10,
        "start_time": "2022-01-28T16:53:49.515Z"
      },
      {
        "duration": 13,
        "start_time": "2022-01-28T16:53:49.527Z"
      },
      {
        "duration": 38,
        "start_time": "2022-01-28T16:53:49.542Z"
      },
      {
        "duration": 29,
        "start_time": "2022-01-28T16:53:49.583Z"
      },
      {
        "duration": 7,
        "start_time": "2022-01-28T16:53:49.614Z"
      },
      {
        "duration": 9,
        "start_time": "2022-01-28T16:53:49.622Z"
      },
      {
        "duration": 49,
        "start_time": "2022-01-28T16:53:49.633Z"
      },
      {
        "duration": 98,
        "start_time": "2022-01-28T16:53:49.684Z"
      },
      {
        "duration": 4754,
        "start_time": "2022-01-28T16:53:49.784Z"
      },
      {
        "duration": 11185,
        "start_time": "2022-01-28T16:53:54.540Z"
      },
      {
        "duration": 427,
        "start_time": "2022-01-28T16:54:57.335Z"
      },
      {
        "duration": 15,
        "start_time": "2022-01-28T16:55:07.303Z"
      },
      {
        "duration": 23,
        "start_time": "2022-01-28T16:55:23.151Z"
      },
      {
        "duration": 24,
        "start_time": "2022-01-28T16:57:24.323Z"
      },
      {
        "duration": 97,
        "start_time": "2022-01-28T17:01:43.556Z"
      },
      {
        "duration": 16,
        "start_time": "2022-01-28T17:02:41.638Z"
      },
      {
        "duration": 298,
        "start_time": "2022-01-28T17:23:02.335Z"
      },
      {
        "duration": 12,
        "start_time": "2022-01-28T17:23:06.743Z"
      },
      {
        "duration": 15,
        "start_time": "2022-01-28T17:53:28.947Z"
      },
      {
        "duration": 18,
        "start_time": "2022-01-28T17:53:49.173Z"
      },
      {
        "duration": 26,
        "start_time": "2022-01-28T17:55:02.831Z"
      },
      {
        "duration": 17,
        "start_time": "2022-01-28T17:55:30.080Z"
      },
      {
        "duration": 11,
        "start_time": "2022-01-28T18:12:53.579Z"
      },
      {
        "duration": 353,
        "start_time": "2022-01-28T18:17:39.891Z"
      },
      {
        "duration": 304,
        "start_time": "2022-01-28T18:18:52.255Z"
      },
      {
        "duration": 326,
        "start_time": "2022-01-28T18:19:18.296Z"
      },
      {
        "duration": 384,
        "start_time": "2022-01-28T18:19:30.625Z"
      },
      {
        "duration": 719,
        "start_time": "2022-01-28T18:20:19.698Z"
      },
      {
        "duration": 14,
        "start_time": "2022-01-28T18:25:30.740Z"
      },
      {
        "duration": 12,
        "start_time": "2022-01-28T18:25:42.134Z"
      },
      {
        "duration": 14,
        "start_time": "2022-01-28T18:26:56.895Z"
      },
      {
        "duration": 13,
        "start_time": "2022-01-28T19:36:22.056Z"
      },
      {
        "duration": 13,
        "start_time": "2022-01-28T19:38:47.356Z"
      },
      {
        "duration": 13,
        "start_time": "2022-01-28T19:41:59.682Z"
      },
      {
        "duration": 14,
        "start_time": "2022-01-28T19:47:19.004Z"
      },
      {
        "duration": 13,
        "start_time": "2022-01-28T19:57:07.815Z"
      },
      {
        "duration": 309,
        "start_time": "2022-01-28T20:04:51.647Z"
      },
      {
        "duration": 22,
        "start_time": "2022-01-28T20:05:10.044Z"
      },
      {
        "duration": 13,
        "start_time": "2022-01-28T20:06:30.338Z"
      },
      {
        "duration": 13,
        "start_time": "2022-01-28T20:06:43.410Z"
      },
      {
        "duration": 13,
        "start_time": "2022-01-28T20:06:57.763Z"
      },
      {
        "duration": 324,
        "start_time": "2022-01-28T20:07:17.651Z"
      },
      {
        "duration": 14,
        "start_time": "2022-01-28T20:08:09.581Z"
      },
      {
        "duration": 19,
        "start_time": "2022-01-28T20:09:31.168Z"
      },
      {
        "duration": 17,
        "start_time": "2022-01-28T20:10:25.714Z"
      },
      {
        "duration": 20,
        "start_time": "2022-01-28T20:11:44.637Z"
      },
      {
        "duration": 19,
        "start_time": "2022-01-28T20:12:11.990Z"
      },
      {
        "duration": 18,
        "start_time": "2022-01-28T20:14:02.369Z"
      },
      {
        "duration": 321,
        "start_time": "2022-01-28T20:14:47.251Z"
      },
      {
        "duration": 18,
        "start_time": "2022-01-28T20:14:51.971Z"
      },
      {
        "duration": 16,
        "start_time": "2022-01-28T20:15:06.083Z"
      },
      {
        "duration": 17,
        "start_time": "2022-01-28T20:16:58.207Z"
      },
      {
        "duration": 19,
        "start_time": "2022-01-28T20:22:51.131Z"
      },
      {
        "duration": 18,
        "start_time": "2022-01-28T20:22:57.438Z"
      },
      {
        "duration": 15,
        "start_time": "2022-01-28T20:23:09.463Z"
      },
      {
        "duration": 14,
        "start_time": "2022-01-28T20:23:25.524Z"
      },
      {
        "duration": 14,
        "start_time": "2022-01-28T20:23:32.115Z"
      },
      {
        "duration": 13,
        "start_time": "2022-01-28T20:23:41.388Z"
      },
      {
        "duration": 18,
        "start_time": "2022-01-28T20:24:33.815Z"
      },
      {
        "duration": 368,
        "start_time": "2022-01-28T20:25:56.959Z"
      },
      {
        "duration": 377,
        "start_time": "2022-01-28T20:26:07.720Z"
      },
      {
        "duration": 322,
        "start_time": "2022-01-28T20:26:56.154Z"
      },
      {
        "duration": 339,
        "start_time": "2022-01-28T20:27:05.834Z"
      },
      {
        "duration": 17,
        "start_time": "2022-01-28T20:27:43.886Z"
      },
      {
        "duration": 60,
        "start_time": "2022-01-28T21:00:32.191Z"
      },
      {
        "duration": 60,
        "start_time": "2022-01-28T21:00:44.454Z"
      },
      {
        "duration": 51,
        "start_time": "2022-01-28T21:00:47.565Z"
      },
      {
        "duration": 8,
        "start_time": "2022-01-28T21:01:39.646Z"
      },
      {
        "duration": 18,
        "start_time": "2022-01-28T22:06:15.228Z"
      },
      {
        "duration": 56,
        "start_time": "2022-01-28T22:26:09.092Z"
      },
      {
        "duration": 10,
        "start_time": "2022-01-28T22:28:12.551Z"
      },
      {
        "duration": 19,
        "start_time": "2022-01-28T22:29:14.057Z"
      },
      {
        "duration": 46,
        "start_time": "2022-01-28T22:29:37.601Z"
      },
      {
        "duration": 10,
        "start_time": "2022-01-28T22:32:46.864Z"
      },
      {
        "duration": 8,
        "start_time": "2022-01-28T22:33:34.097Z"
      },
      {
        "duration": 6,
        "start_time": "2022-01-28T22:37:11.703Z"
      },
      {
        "duration": 8,
        "start_time": "2022-01-28T22:37:49.385Z"
      },
      {
        "duration": 9,
        "start_time": "2022-01-28T22:38:09.097Z"
      },
      {
        "duration": 13,
        "start_time": "2022-01-28T22:39:48.292Z"
      },
      {
        "duration": 50,
        "start_time": "2022-01-28T22:42:06.856Z"
      },
      {
        "duration": 54,
        "start_time": "2022-01-28T22:42:17.376Z"
      },
      {
        "duration": 11,
        "start_time": "2022-01-28T22:42:17.432Z"
      },
      {
        "duration": 35,
        "start_time": "2022-01-28T22:42:17.445Z"
      },
      {
        "duration": 49,
        "start_time": "2022-01-28T22:42:17.482Z"
      },
      {
        "duration": 8,
        "start_time": "2022-01-28T22:42:17.533Z"
      },
      {
        "duration": 37,
        "start_time": "2022-01-28T22:42:17.543Z"
      },
      {
        "duration": 7,
        "start_time": "2022-01-28T22:42:17.582Z"
      },
      {
        "duration": 27,
        "start_time": "2022-01-28T22:42:17.591Z"
      },
      {
        "duration": 5,
        "start_time": "2022-01-28T22:42:17.620Z"
      },
      {
        "duration": 7,
        "start_time": "2022-01-28T22:42:17.627Z"
      },
      {
        "duration": 47,
        "start_time": "2022-01-28T22:42:17.635Z"
      },
      {
        "duration": 56,
        "start_time": "2022-01-28T22:42:17.683Z"
      },
      {
        "duration": 4072,
        "start_time": "2022-01-28T22:42:17.741Z"
      },
      {
        "duration": 16,
        "start_time": "2022-01-28T22:42:21.815Z"
      },
      {
        "duration": 10,
        "start_time": "2022-01-28T22:42:21.832Z"
      },
      {
        "duration": 38,
        "start_time": "2022-01-28T22:42:21.844Z"
      },
      {
        "duration": 10,
        "start_time": "2022-01-28T22:42:21.883Z"
      },
      {
        "duration": 19,
        "start_time": "2022-01-28T22:42:21.895Z"
      },
      {
        "duration": 16,
        "start_time": "2022-01-28T22:42:21.916Z"
      },
      {
        "duration": 16,
        "start_time": "2022-01-28T22:42:21.933Z"
      },
      {
        "duration": 16,
        "start_time": "2022-01-28T22:42:21.972Z"
      },
      {
        "duration": 3847,
        "start_time": "2022-01-28T22:43:36.860Z"
      },
      {
        "duration": 17,
        "start_time": "2022-01-28T22:45:26.135Z"
      },
      {
        "duration": 11,
        "start_time": "2022-01-28T22:46:28.913Z"
      },
      {
        "duration": 15,
        "start_time": "2022-01-28T22:47:42.324Z"
      },
      {
        "duration": 12,
        "start_time": "2022-01-28T22:49:31.335Z"
      },
      {
        "duration": 15,
        "start_time": "2022-01-28T22:53:00.014Z"
      },
      {
        "duration": 611,
        "start_time": "2022-01-30T15:36:25.512Z"
      },
      {
        "duration": 12,
        "start_time": "2022-01-30T15:36:26.125Z"
      },
      {
        "duration": 36,
        "start_time": "2022-01-30T15:36:26.139Z"
      },
      {
        "duration": 48,
        "start_time": "2022-01-30T15:36:26.176Z"
      },
      {
        "duration": 9,
        "start_time": "2022-01-30T15:36:26.225Z"
      },
      {
        "duration": 11,
        "start_time": "2022-01-30T15:36:26.235Z"
      },
      {
        "duration": 7,
        "start_time": "2022-01-30T15:36:26.272Z"
      },
      {
        "duration": 26,
        "start_time": "2022-01-30T15:36:26.281Z"
      },
      {
        "duration": 5,
        "start_time": "2022-01-30T15:36:26.309Z"
      },
      {
        "duration": 7,
        "start_time": "2022-01-30T15:36:26.316Z"
      },
      {
        "duration": 48,
        "start_time": "2022-01-30T15:36:26.324Z"
      },
      {
        "duration": 49,
        "start_time": "2022-01-30T15:36:26.373Z"
      },
      {
        "duration": 3815,
        "start_time": "2022-01-30T15:36:26.424Z"
      },
      {
        "duration": 14,
        "start_time": "2022-01-30T15:36:30.240Z"
      },
      {
        "duration": 26,
        "start_time": "2022-01-30T15:36:30.255Z"
      },
      {
        "duration": 42,
        "start_time": "2022-01-30T15:36:30.282Z"
      },
      {
        "duration": 28,
        "start_time": "2022-01-30T15:36:30.326Z"
      },
      {
        "duration": 29,
        "start_time": "2022-01-30T15:36:30.355Z"
      },
      {
        "duration": 17,
        "start_time": "2022-01-30T15:36:30.385Z"
      },
      {
        "duration": 16,
        "start_time": "2022-01-30T15:36:30.403Z"
      },
      {
        "duration": 15,
        "start_time": "2022-01-30T15:36:30.421Z"
      },
      {
        "duration": 841,
        "start_time": "2022-02-08T08:01:26.487Z"
      },
      {
        "duration": 23,
        "start_time": "2022-02-08T08:01:27.332Z"
      },
      {
        "duration": 27,
        "start_time": "2022-02-08T08:01:27.358Z"
      },
      {
        "duration": 129,
        "start_time": "2022-02-08T08:01:27.388Z"
      },
      {
        "duration": 33,
        "start_time": "2022-02-08T08:01:27.520Z"
      },
      {
        "duration": 47,
        "start_time": "2022-02-08T08:01:27.555Z"
      },
      {
        "duration": 12,
        "start_time": "2022-02-08T08:01:27.605Z"
      },
      {
        "duration": 65,
        "start_time": "2022-02-08T08:01:27.620Z"
      },
      {
        "duration": 9,
        "start_time": "2022-02-08T08:01:27.688Z"
      },
      {
        "duration": 48,
        "start_time": "2022-02-08T08:01:27.700Z"
      },
      {
        "duration": 18,
        "start_time": "2022-02-08T08:01:27.752Z"
      },
      {
        "duration": 127,
        "start_time": "2022-02-08T08:01:27.773Z"
      },
      {
        "duration": 6448,
        "start_time": "2022-02-08T08:01:27.903Z"
      },
      {
        "duration": 23,
        "start_time": "2022-02-08T08:01:34.354Z"
      },
      {
        "duration": 30,
        "start_time": "2022-02-08T08:01:34.380Z"
      },
      {
        "duration": 49,
        "start_time": "2022-02-08T08:01:34.413Z"
      },
      {
        "duration": 17,
        "start_time": "2022-02-08T08:01:34.464Z"
      },
      {
        "duration": 68,
        "start_time": "2022-02-08T08:01:34.483Z"
      },
      {
        "duration": 28,
        "start_time": "2022-02-08T08:01:34.553Z"
      },
      {
        "duration": 32,
        "start_time": "2022-02-08T08:01:34.584Z"
      },
      {
        "duration": 56,
        "start_time": "2022-02-08T08:01:34.618Z"
      },
      {
        "duration": 27,
        "start_time": "2022-02-08T08:05:48.451Z"
      },
      {
        "duration": 111,
        "start_time": "2022-02-08T14:31:43.432Z"
      },
      {
        "duration": 5,
        "start_time": "2022-02-08T17:50:04.663Z"
      },
      {
        "duration": 857,
        "start_time": "2022-02-08T17:50:23.984Z"
      },
      {
        "duration": 8,
        "start_time": "2022-02-08T17:53:51.797Z"
      }
    ],
    "kernelspec": {
      "display_name": "Python 3 (ipykernel)",
      "language": "python",
      "name": "python3"
    },
    "language_info": {
      "codemirror_mode": {
        "name": "ipython",
        "version": 3
      },
      "file_extension": ".py",
      "mimetype": "text/x-python",
      "name": "python",
      "nbconvert_exporter": "python",
      "pygments_lexer": "ipython3",
      "version": "3.9.5"
    },
    "toc": {
      "base_numbering": 1,
      "nav_menu": {},
      "number_sections": true,
      "sideBar": true,
      "skip_h1_title": true,
      "title_cell": "Table of Contents",
      "title_sidebar": "Contents",
      "toc_cell": false,
      "toc_position": {
        "height": "calc(100% - 180px)",
        "left": "10px",
        "top": "150px",
        "width": "309.391px"
      },
      "toc_section_display": true,
      "toc_window_display": true
    },
    "colab": {
      "provenance": []
    }
  },
  "nbformat": 4,
  "nbformat_minor": 0
}
