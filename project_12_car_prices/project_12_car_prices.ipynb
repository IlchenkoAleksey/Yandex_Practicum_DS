{
  "cells": [
    {
      "cell_type": "markdown",
      "metadata": {
        "id": "qjnLS4JMj98g"
      },
      "source": [
        "# Определение стоимости автомобилей"
      ]
    },
    {
      "cell_type": "markdown",
      "metadata": {
        "id": "7c44fRNej98g"
      },
      "source": [
        "Сервис по продаже автомобилей с пробегом «Не бит, не крашен» разрабатывает приложение для привлечения новых клиентов. В нём можно быстро узнать рыночную стоимость своего автомобиля. В вашем распоряжении исторические данные: технические характеристики, комплектации и цены автомобилей. Вам нужно построить модель для определения стоимости.\n",
        "\n",
        "Заказчику важны:\n",
        "\n",
        "- качество предсказания;\n",
        "- скорость предсказания;\n",
        "- время обучения."
      ]
    },
    {
      "cell_type": "markdown",
      "metadata": {
        "id": "nOBeQHWOj98h"
      },
      "source": [
        "Примечания:  \n",
        "  - Для оценки качества моделей применяйте метрику RMSE.\n",
        "- Значение метрики RMSE должно быть меньше 2500.\n",
        "- Самостоятельно освойте библиотеку LightGBM и её средствами постройте модели градиентного бустинга.\n",
        "- Время выполнения ячейки кода Jupyter Notebook можно получить специальной командой. Найдите её.\n",
        "- Модель градиентного бустинга может долго обучаться, поэтому измените у неё только два-три параметра.\n",
        "- Если перестанет работать Jupyter Notebook, удалите лишние переменные оператором del.  \n",
        "`del features_train`"
      ]
    },
    {
      "cell_type": "markdown",
      "metadata": {
        "id": "Qh749OgVj98h"
      },
      "source": [
        "## Подготовка данных"
      ]
    },
    {
      "cell_type": "markdown",
      "metadata": {
        "id": "yeJk1_u6j98h"
      },
      "source": [
        "Загрузка данных и изучение общей информации. Загрузим необходимые библиотеки"
      ]
    },
    {
      "cell_type": "code",
      "execution_count": null,
      "metadata": {
        "id": "hF_9GWv1j98h"
      },
      "outputs": [],
      "source": [
        "import pandas as pd\n",
        "import numpy as np\n",
        "import time\n",
        "\n",
        "import matplotlib.pyplot as plt\n",
        "import seaborn as sns\n",
        "import matplotlib.dates as mdates\n",
        "import lightgbm as lgb\n",
        "\n",
        "from lightgbm import LGBMRegressor\n",
        "from catboost import CatBoostRegressor\n",
        "from sklearn.linear_model import LinearRegression, Ridge\n",
        "from sklearn.dummy import DummyRegressor\n",
        "from datetime import datetime\n",
        "\n",
        "from sklearn.model_selection import train_test_split, KFold, GridSearchCV, RandomizedSearchCV\n",
        "from sklearn.pipeline import Pipeline\n",
        "from sklearn.preprocessing import OneHotEncoder, StandardScaler, LabelEncoder\n",
        "from sklearn.compose import ColumnTransformer\n",
        "from sklearn.impute import SimpleImputer\n",
        "\n",
        "from sklearn.metrics import mean_squared_error as mse"
      ]
    },
    {
      "cell_type": "markdown",
      "metadata": {
        "id": "MAOmiyvMj98i"
      },
      "source": [
        "Зададим необходимые настройки"
      ]
    },
    {
      "cell_type": "code",
      "execution_count": null,
      "metadata": {
        "id": "euylw0Jgj98i"
      },
      "outputs": [],
      "source": [
        "pd.set_option('max_columns', 16)\n",
        "STATE = 12345\n",
        "cv = KFold(n_splits=3, shuffle=True, random_state=STATE)"
      ]
    },
    {
      "cell_type": "markdown",
      "metadata": {
        "id": "YFuJlIu9j98j"
      },
      "source": [
        "Загрузим таблицу `autos.csv`"
      ]
    },
    {
      "cell_type": "code",
      "execution_count": null,
      "metadata": {
        "id": "jNehQiOWj98j"
      },
      "outputs": [],
      "source": [
        "autos = pd.read_csv('/datasets/autos.csv', sep=',', parse_dates=['DateCrawled', 'DateCreated', 'LastSeen'])"
      ]
    },
    {
      "cell_type": "markdown",
      "metadata": {
        "id": "kSCIzbo9j98j"
      },
      "source": [
        "Оценим структуру данных таблиц `autos`"
      ]
    },
    {
      "cell_type": "code",
      "execution_count": null,
      "metadata": {
        "scrolled": true,
        "id": "PXi88aqIj98k",
        "outputId": "e3a7457a-850d-4a99-eb64-de33059ec896"
      },
      "outputs": [
        {
          "name": "stdout",
          "output_type": "stream",
          "text": [
            "Структура данных таблицы autos:\n",
            "<class 'pandas.core.frame.DataFrame'>\n",
            "RangeIndex: 354369 entries, 0 to 354368\n",
            "Data columns (total 16 columns):\n",
            " #   Column             Non-Null Count   Dtype         \n",
            "---  ------             --------------   -----         \n",
            " 0   DateCrawled        354369 non-null  datetime64[ns]\n",
            " 1   Price              354369 non-null  int64         \n",
            " 2   VehicleType        316879 non-null  object        \n",
            " 3   RegistrationYear   354369 non-null  int64         \n",
            " 4   Gearbox            334536 non-null  object        \n",
            " 5   Power              354369 non-null  int64         \n",
            " 6   Model              334664 non-null  object        \n",
            " 7   Kilometer          354369 non-null  int64         \n",
            " 8   RegistrationMonth  354369 non-null  int64         \n",
            " 9   FuelType           321474 non-null  object        \n",
            " 10  Brand              354369 non-null  object        \n",
            " 11  NotRepaired        283215 non-null  object        \n",
            " 12  DateCreated        354369 non-null  datetime64[ns]\n",
            " 13  NumberOfPictures   354369 non-null  int64         \n",
            " 14  PostalCode         354369 non-null  int64         \n",
            " 15  LastSeen           354369 non-null  datetime64[ns]\n",
            "dtypes: datetime64[ns](3), int64(7), object(6)\n",
            "memory usage: 43.3+ MB\n"
          ]
        },
        {
          "data": {
            "text/html": [
              "<div>\n",
              "<style scoped>\n",
              "    .dataframe tbody tr th:only-of-type {\n",
              "        vertical-align: middle;\n",
              "    }\n",
              "\n",
              "    .dataframe tbody tr th {\n",
              "        vertical-align: top;\n",
              "    }\n",
              "\n",
              "    .dataframe thead th {\n",
              "        text-align: right;\n",
              "    }\n",
              "</style>\n",
              "<table border=\"1\" class=\"dataframe\">\n",
              "  <thead>\n",
              "    <tr style=\"text-align: right;\">\n",
              "      <th></th>\n",
              "      <th>DateCrawled</th>\n",
              "      <th>Price</th>\n",
              "      <th>VehicleType</th>\n",
              "      <th>RegistrationYear</th>\n",
              "      <th>Gearbox</th>\n",
              "      <th>Power</th>\n",
              "      <th>Model</th>\n",
              "      <th>Kilometer</th>\n",
              "      <th>RegistrationMonth</th>\n",
              "      <th>FuelType</th>\n",
              "      <th>Brand</th>\n",
              "      <th>NotRepaired</th>\n",
              "      <th>DateCreated</th>\n",
              "      <th>NumberOfPictures</th>\n",
              "      <th>PostalCode</th>\n",
              "      <th>LastSeen</th>\n",
              "    </tr>\n",
              "  </thead>\n",
              "  <tbody>\n",
              "    <tr>\n",
              "      <th>67482</th>\n",
              "      <td>2016-03-29 19:44:32</td>\n",
              "      <td>2500</td>\n",
              "      <td>wagon</td>\n",
              "      <td>2005</td>\n",
              "      <td>manual</td>\n",
              "      <td>141</td>\n",
              "      <td>6_reihe</td>\n",
              "      <td>150000</td>\n",
              "      <td>8</td>\n",
              "      <td>lpg</td>\n",
              "      <td>mazda</td>\n",
              "      <td>yes</td>\n",
              "      <td>2016-03-29</td>\n",
              "      <td>0</td>\n",
              "      <td>40699</td>\n",
              "      <td>2016-04-04 04:45:02</td>\n",
              "    </tr>\n",
              "    <tr>\n",
              "      <th>113831</th>\n",
              "      <td>2016-03-10 12:57:12</td>\n",
              "      <td>350</td>\n",
              "      <td>small</td>\n",
              "      <td>1999</td>\n",
              "      <td>manual</td>\n",
              "      <td>60</td>\n",
              "      <td>polo</td>\n",
              "      <td>150000</td>\n",
              "      <td>4</td>\n",
              "      <td>petrol</td>\n",
              "      <td>volkswagen</td>\n",
              "      <td>NaN</td>\n",
              "      <td>2016-03-10</td>\n",
              "      <td>0</td>\n",
              "      <td>40472</td>\n",
              "      <td>2016-03-28 23:47:03</td>\n",
              "    </tr>\n",
              "    <tr>\n",
              "      <th>289384</th>\n",
              "      <td>2016-03-09 17:54:12</td>\n",
              "      <td>6500</td>\n",
              "      <td>wagon</td>\n",
              "      <td>2006</td>\n",
              "      <td>auto</td>\n",
              "      <td>140</td>\n",
              "      <td>octavia</td>\n",
              "      <td>150000</td>\n",
              "      <td>9</td>\n",
              "      <td>gasoline</td>\n",
              "      <td>skoda</td>\n",
              "      <td>no</td>\n",
              "      <td>2016-03-09</td>\n",
              "      <td>0</td>\n",
              "      <td>78354</td>\n",
              "      <td>2016-03-12 03:17:46</td>\n",
              "    </tr>\n",
              "    <tr>\n",
              "      <th>287341</th>\n",
              "      <td>2016-04-07 08:06:37</td>\n",
              "      <td>4700</td>\n",
              "      <td>small</td>\n",
              "      <td>2009</td>\n",
              "      <td>NaN</td>\n",
              "      <td>0</td>\n",
              "      <td>ka</td>\n",
              "      <td>80000</td>\n",
              "      <td>3</td>\n",
              "      <td>petrol</td>\n",
              "      <td>ford</td>\n",
              "      <td>NaN</td>\n",
              "      <td>2016-04-07</td>\n",
              "      <td>0</td>\n",
              "      <td>65232</td>\n",
              "      <td>2016-04-07 08:25:24</td>\n",
              "    </tr>\n",
              "    <tr>\n",
              "      <th>19631</th>\n",
              "      <td>2016-03-31 23:55:25</td>\n",
              "      <td>3950</td>\n",
              "      <td>wagon</td>\n",
              "      <td>2007</td>\n",
              "      <td>manual</td>\n",
              "      <td>120</td>\n",
              "      <td>vectra</td>\n",
              "      <td>150000</td>\n",
              "      <td>6</td>\n",
              "      <td>gasoline</td>\n",
              "      <td>opel</td>\n",
              "      <td>no</td>\n",
              "      <td>2016-03-31</td>\n",
              "      <td>0</td>\n",
              "      <td>49824</td>\n",
              "      <td>2016-04-07 04:16:31</td>\n",
              "    </tr>\n",
              "  </tbody>\n",
              "</table>\n",
              "</div>"
            ],
            "text/plain": [
              "               DateCrawled  Price VehicleType  RegistrationYear Gearbox  \\\n",
              "67482  2016-03-29 19:44:32   2500       wagon              2005  manual   \n",
              "113831 2016-03-10 12:57:12    350       small              1999  manual   \n",
              "289384 2016-03-09 17:54:12   6500       wagon              2006    auto   \n",
              "287341 2016-04-07 08:06:37   4700       small              2009     NaN   \n",
              "19631  2016-03-31 23:55:25   3950       wagon              2007  manual   \n",
              "\n",
              "        Power    Model  Kilometer  RegistrationMonth  FuelType       Brand  \\\n",
              "67482     141  6_reihe     150000                  8       lpg       mazda   \n",
              "113831     60     polo     150000                  4    petrol  volkswagen   \n",
              "289384    140  octavia     150000                  9  gasoline       skoda   \n",
              "287341      0       ka      80000                  3    petrol        ford   \n",
              "19631     120   vectra     150000                  6  gasoline        opel   \n",
              "\n",
              "       NotRepaired DateCreated  NumberOfPictures  PostalCode  \\\n",
              "67482          yes  2016-03-29                 0       40699   \n",
              "113831         NaN  2016-03-10                 0       40472   \n",
              "289384          no  2016-03-09                 0       78354   \n",
              "287341         NaN  2016-04-07                 0       65232   \n",
              "19631           no  2016-03-31                 0       49824   \n",
              "\n",
              "                  LastSeen  \n",
              "67482  2016-04-04 04:45:02  \n",
              "113831 2016-03-28 23:47:03  \n",
              "289384 2016-03-12 03:17:46  \n",
              "287341 2016-04-07 08:25:24  \n",
              "19631  2016-04-07 04:16:31  "
            ]
          },
          "metadata": {},
          "output_type": "display_data"
        }
      ],
      "source": [
        "print('Структура данных таблицы autos:')\n",
        "autos.info()\n",
        "display(autos.sample(5))"
      ]
    },
    {
      "cell_type": "markdown",
      "metadata": {
        "id": "bz0oGqlWj98k"
      },
      "source": [
        "Найдем характерные значения таблицы `autos`"
      ]
    },
    {
      "cell_type": "code",
      "execution_count": null,
      "metadata": {
        "scrolled": false,
        "id": "PQAw0Tpfj98l",
        "outputId": "b569992c-92a1-4c50-d3da-6db673fae3c0"
      },
      "outputs": [
        {
          "data": {
            "text/html": [
              "<div>\n",
              "<style scoped>\n",
              "    .dataframe tbody tr th:only-of-type {\n",
              "        vertical-align: middle;\n",
              "    }\n",
              "\n",
              "    .dataframe tbody tr th {\n",
              "        vertical-align: top;\n",
              "    }\n",
              "\n",
              "    .dataframe thead th {\n",
              "        text-align: right;\n",
              "    }\n",
              "</style>\n",
              "<table border=\"1\" class=\"dataframe\">\n",
              "  <thead>\n",
              "    <tr style=\"text-align: right;\">\n",
              "      <th></th>\n",
              "      <th>count</th>\n",
              "      <th>unique</th>\n",
              "      <th>top</th>\n",
              "      <th>freq</th>\n",
              "      <th>mean</th>\n",
              "      <th>min</th>\n",
              "      <th>25%</th>\n",
              "      <th>50%</th>\n",
              "      <th>75%</th>\n",
              "      <th>max</th>\n",
              "      <th>std</th>\n",
              "    </tr>\n",
              "  </thead>\n",
              "  <tbody>\n",
              "    <tr>\n",
              "      <th>DateCrawled</th>\n",
              "      <td>354369</td>\n",
              "      <td>NaN</td>\n",
              "      <td>NaN</td>\n",
              "      <td>NaN</td>\n",
              "      <td>2016-03-21 12:58:10.450648320</td>\n",
              "      <td>2016-03-05 14:06:22</td>\n",
              "      <td>2016-03-13 11:52:33</td>\n",
              "      <td>2016-03-21 17:50:55</td>\n",
              "      <td>2016-03-29 14:37:20</td>\n",
              "      <td>2016-04-07 14:36:58</td>\n",
              "      <td>NaN</td>\n",
              "    </tr>\n",
              "    <tr>\n",
              "      <th>Price</th>\n",
              "      <td>354369.0</td>\n",
              "      <td>NaN</td>\n",
              "      <td>NaN</td>\n",
              "      <td>NaN</td>\n",
              "      <td>4416.656776</td>\n",
              "      <td>0.0</td>\n",
              "      <td>1050.0</td>\n",
              "      <td>2700.0</td>\n",
              "      <td>6400.0</td>\n",
              "      <td>20000.0</td>\n",
              "      <td>4514.158514</td>\n",
              "    </tr>\n",
              "    <tr>\n",
              "      <th>VehicleType</th>\n",
              "      <td>316879</td>\n",
              "      <td>8</td>\n",
              "      <td>sedan</td>\n",
              "      <td>91457</td>\n",
              "      <td>NaN</td>\n",
              "      <td>NaN</td>\n",
              "      <td>NaN</td>\n",
              "      <td>NaN</td>\n",
              "      <td>NaN</td>\n",
              "      <td>NaN</td>\n",
              "      <td>NaN</td>\n",
              "    </tr>\n",
              "    <tr>\n",
              "      <th>RegistrationYear</th>\n",
              "      <td>354369.0</td>\n",
              "      <td>NaN</td>\n",
              "      <td>NaN</td>\n",
              "      <td>NaN</td>\n",
              "      <td>2004.234448</td>\n",
              "      <td>1000.0</td>\n",
              "      <td>1999.0</td>\n",
              "      <td>2003.0</td>\n",
              "      <td>2008.0</td>\n",
              "      <td>9999.0</td>\n",
              "      <td>90.227958</td>\n",
              "    </tr>\n",
              "    <tr>\n",
              "      <th>Gearbox</th>\n",
              "      <td>334536</td>\n",
              "      <td>2</td>\n",
              "      <td>manual</td>\n",
              "      <td>268251</td>\n",
              "      <td>NaN</td>\n",
              "      <td>NaN</td>\n",
              "      <td>NaN</td>\n",
              "      <td>NaN</td>\n",
              "      <td>NaN</td>\n",
              "      <td>NaN</td>\n",
              "      <td>NaN</td>\n",
              "    </tr>\n",
              "    <tr>\n",
              "      <th>Power</th>\n",
              "      <td>354369.0</td>\n",
              "      <td>NaN</td>\n",
              "      <td>NaN</td>\n",
              "      <td>NaN</td>\n",
              "      <td>110.094337</td>\n",
              "      <td>0.0</td>\n",
              "      <td>69.0</td>\n",
              "      <td>105.0</td>\n",
              "      <td>143.0</td>\n",
              "      <td>20000.0</td>\n",
              "      <td>189.850405</td>\n",
              "    </tr>\n",
              "    <tr>\n",
              "      <th>Model</th>\n",
              "      <td>334664</td>\n",
              "      <td>250</td>\n",
              "      <td>golf</td>\n",
              "      <td>29232</td>\n",
              "      <td>NaN</td>\n",
              "      <td>NaN</td>\n",
              "      <td>NaN</td>\n",
              "      <td>NaN</td>\n",
              "      <td>NaN</td>\n",
              "      <td>NaN</td>\n",
              "      <td>NaN</td>\n",
              "    </tr>\n",
              "    <tr>\n",
              "      <th>Kilometer</th>\n",
              "      <td>354369.0</td>\n",
              "      <td>NaN</td>\n",
              "      <td>NaN</td>\n",
              "      <td>NaN</td>\n",
              "      <td>128211.172535</td>\n",
              "      <td>5000.0</td>\n",
              "      <td>125000.0</td>\n",
              "      <td>150000.0</td>\n",
              "      <td>150000.0</td>\n",
              "      <td>150000.0</td>\n",
              "      <td>37905.34153</td>\n",
              "    </tr>\n",
              "    <tr>\n",
              "      <th>RegistrationMonth</th>\n",
              "      <td>354369.0</td>\n",
              "      <td>NaN</td>\n",
              "      <td>NaN</td>\n",
              "      <td>NaN</td>\n",
              "      <td>5.714645</td>\n",
              "      <td>0.0</td>\n",
              "      <td>3.0</td>\n",
              "      <td>6.0</td>\n",
              "      <td>9.0</td>\n",
              "      <td>12.0</td>\n",
              "      <td>3.726421</td>\n",
              "    </tr>\n",
              "    <tr>\n",
              "      <th>FuelType</th>\n",
              "      <td>321474</td>\n",
              "      <td>7</td>\n",
              "      <td>petrol</td>\n",
              "      <td>216352</td>\n",
              "      <td>NaN</td>\n",
              "      <td>NaN</td>\n",
              "      <td>NaN</td>\n",
              "      <td>NaN</td>\n",
              "      <td>NaN</td>\n",
              "      <td>NaN</td>\n",
              "      <td>NaN</td>\n",
              "    </tr>\n",
              "    <tr>\n",
              "      <th>Brand</th>\n",
              "      <td>354369</td>\n",
              "      <td>40</td>\n",
              "      <td>volkswagen</td>\n",
              "      <td>77013</td>\n",
              "      <td>NaN</td>\n",
              "      <td>NaN</td>\n",
              "      <td>NaN</td>\n",
              "      <td>NaN</td>\n",
              "      <td>NaN</td>\n",
              "      <td>NaN</td>\n",
              "      <td>NaN</td>\n",
              "    </tr>\n",
              "    <tr>\n",
              "      <th>NotRepaired</th>\n",
              "      <td>283215</td>\n",
              "      <td>2</td>\n",
              "      <td>no</td>\n",
              "      <td>247161</td>\n",
              "      <td>NaN</td>\n",
              "      <td>NaN</td>\n",
              "      <td>NaN</td>\n",
              "      <td>NaN</td>\n",
              "      <td>NaN</td>\n",
              "      <td>NaN</td>\n",
              "      <td>NaN</td>\n",
              "    </tr>\n",
              "    <tr>\n",
              "      <th>DateCreated</th>\n",
              "      <td>354369</td>\n",
              "      <td>NaN</td>\n",
              "      <td>NaN</td>\n",
              "      <td>NaN</td>\n",
              "      <td>2016-03-20 19:12:07.753274112</td>\n",
              "      <td>2014-03-10 00:00:00</td>\n",
              "      <td>2016-03-13 00:00:00</td>\n",
              "      <td>2016-03-21 00:00:00</td>\n",
              "      <td>2016-03-29 00:00:00</td>\n",
              "      <td>2016-04-07 00:00:00</td>\n",
              "      <td>NaN</td>\n",
              "    </tr>\n",
              "    <tr>\n",
              "      <th>NumberOfPictures</th>\n",
              "      <td>354369.0</td>\n",
              "      <td>NaN</td>\n",
              "      <td>NaN</td>\n",
              "      <td>NaN</td>\n",
              "      <td>0.0</td>\n",
              "      <td>0.0</td>\n",
              "      <td>0.0</td>\n",
              "      <td>0.0</td>\n",
              "      <td>0.0</td>\n",
              "      <td>0.0</td>\n",
              "      <td>0.0</td>\n",
              "    </tr>\n",
              "    <tr>\n",
              "      <th>PostalCode</th>\n",
              "      <td>354369.0</td>\n",
              "      <td>NaN</td>\n",
              "      <td>NaN</td>\n",
              "      <td>NaN</td>\n",
              "      <td>50508.689087</td>\n",
              "      <td>1067.0</td>\n",
              "      <td>30165.0</td>\n",
              "      <td>49413.0</td>\n",
              "      <td>71083.0</td>\n",
              "      <td>99998.0</td>\n",
              "      <td>25783.096248</td>\n",
              "    </tr>\n",
              "    <tr>\n",
              "      <th>LastSeen</th>\n",
              "      <td>354369</td>\n",
              "      <td>NaN</td>\n",
              "      <td>NaN</td>\n",
              "      <td>NaN</td>\n",
              "      <td>2016-03-29 23:51:00.667456768</td>\n",
              "      <td>2016-03-05 14:15:08</td>\n",
              "      <td>2016-03-23 02:50:03</td>\n",
              "      <td>2016-04-03 15:15:51</td>\n",
              "      <td>2016-04-06 10:15:19</td>\n",
              "      <td>2016-04-07 14:58:51</td>\n",
              "      <td>NaN</td>\n",
              "    </tr>\n",
              "  </tbody>\n",
              "</table>\n",
              "</div>"
            ],
            "text/plain": [
              "                      count unique         top    freq  \\\n",
              "DateCrawled          354369    NaN         NaN     NaN   \n",
              "Price              354369.0    NaN         NaN     NaN   \n",
              "VehicleType          316879      8       sedan   91457   \n",
              "RegistrationYear   354369.0    NaN         NaN     NaN   \n",
              "Gearbox              334536      2      manual  268251   \n",
              "Power              354369.0    NaN         NaN     NaN   \n",
              "Model                334664    250        golf   29232   \n",
              "Kilometer          354369.0    NaN         NaN     NaN   \n",
              "RegistrationMonth  354369.0    NaN         NaN     NaN   \n",
              "FuelType             321474      7      petrol  216352   \n",
              "Brand                354369     40  volkswagen   77013   \n",
              "NotRepaired          283215      2          no  247161   \n",
              "DateCreated          354369    NaN         NaN     NaN   \n",
              "NumberOfPictures   354369.0    NaN         NaN     NaN   \n",
              "PostalCode         354369.0    NaN         NaN     NaN   \n",
              "LastSeen             354369    NaN         NaN     NaN   \n",
              "\n",
              "                                            mean                  min  \\\n",
              "DateCrawled        2016-03-21 12:58:10.450648320  2016-03-05 14:06:22   \n",
              "Price                                4416.656776                  0.0   \n",
              "VehicleType                                  NaN                  NaN   \n",
              "RegistrationYear                     2004.234448               1000.0   \n",
              "Gearbox                                      NaN                  NaN   \n",
              "Power                                 110.094337                  0.0   \n",
              "Model                                        NaN                  NaN   \n",
              "Kilometer                          128211.172535               5000.0   \n",
              "RegistrationMonth                       5.714645                  0.0   \n",
              "FuelType                                     NaN                  NaN   \n",
              "Brand                                        NaN                  NaN   \n",
              "NotRepaired                                  NaN                  NaN   \n",
              "DateCreated        2016-03-20 19:12:07.753274112  2014-03-10 00:00:00   \n",
              "NumberOfPictures                             0.0                  0.0   \n",
              "PostalCode                          50508.689087               1067.0   \n",
              "LastSeen           2016-03-29 23:51:00.667456768  2016-03-05 14:15:08   \n",
              "\n",
              "                                   25%                  50%  \\\n",
              "DateCrawled        2016-03-13 11:52:33  2016-03-21 17:50:55   \n",
              "Price                           1050.0               2700.0   \n",
              "VehicleType                        NaN                  NaN   \n",
              "RegistrationYear                1999.0               2003.0   \n",
              "Gearbox                            NaN                  NaN   \n",
              "Power                             69.0                105.0   \n",
              "Model                              NaN                  NaN   \n",
              "Kilometer                     125000.0             150000.0   \n",
              "RegistrationMonth                  3.0                  6.0   \n",
              "FuelType                           NaN                  NaN   \n",
              "Brand                              NaN                  NaN   \n",
              "NotRepaired                        NaN                  NaN   \n",
              "DateCreated        2016-03-13 00:00:00  2016-03-21 00:00:00   \n",
              "NumberOfPictures                   0.0                  0.0   \n",
              "PostalCode                     30165.0              49413.0   \n",
              "LastSeen           2016-03-23 02:50:03  2016-04-03 15:15:51   \n",
              "\n",
              "                                   75%                  max           std  \n",
              "DateCrawled        2016-03-29 14:37:20  2016-04-07 14:36:58           NaN  \n",
              "Price                           6400.0              20000.0   4514.158514  \n",
              "VehicleType                        NaN                  NaN           NaN  \n",
              "RegistrationYear                2008.0               9999.0     90.227958  \n",
              "Gearbox                            NaN                  NaN           NaN  \n",
              "Power                            143.0              20000.0    189.850405  \n",
              "Model                              NaN                  NaN           NaN  \n",
              "Kilometer                     150000.0             150000.0   37905.34153  \n",
              "RegistrationMonth                  9.0                 12.0      3.726421  \n",
              "FuelType                           NaN                  NaN           NaN  \n",
              "Brand                              NaN                  NaN           NaN  \n",
              "NotRepaired                        NaN                  NaN           NaN  \n",
              "DateCreated        2016-03-29 00:00:00  2016-04-07 00:00:00           NaN  \n",
              "NumberOfPictures                   0.0                  0.0           0.0  \n",
              "PostalCode                     71083.0              99998.0  25783.096248  \n",
              "LastSeen           2016-04-06 10:15:19  2016-04-07 14:58:51           NaN  "
            ]
          },
          "metadata": {},
          "output_type": "display_data"
        }
      ],
      "source": [
        "display(autos.describe(datetime_is_numeric=True, include='all').T)"
      ]
    },
    {
      "cell_type": "markdown",
      "metadata": {
        "id": "ncDF4FDwj98l"
      },
      "source": [
        "Найдем `min` и `max` для столбцов с типом данных `object`"
      ]
    },
    {
      "cell_type": "code",
      "execution_count": null,
      "metadata": {
        "id": "_Y8MOuqcj98l",
        "outputId": "90609f87-406e-4a83-ded6-9853aecd8d16"
      },
      "outputs": [
        {
          "name": "stdout",
          "output_type": "stream",
          "text": [
            "Поле VehicleType : bus (min); wagon (max)\n",
            "Поле Gearbox : auto (min); nan (max)\n",
            "Поле Model : 100 (min); zafira (max)\n",
            "Поле FuelType : cng (min); petrol (max)\n",
            "Поле Brand : alfa_romeo (min); volvo (max)\n",
            "Поле NotRepaired : nan (min); yes (max)\n"
          ]
        }
      ],
      "source": [
        "for column in autos:\n",
        "    columnSeriesObj = autos[column]\n",
        "    if columnSeriesObj.dtypes == object:\n",
        "        print('Поле',columnSeriesObj.name,':',columnSeriesObj.astype(str).min(), '(min);', columnSeriesObj.astype(str).max(),'(max)')"
      ]
    },
    {
      "cell_type": "markdown",
      "metadata": {
        "id": "gsDO9Xjwj98m"
      },
      "source": [
        "Определим уникальные значения текстовых стобцов `object`"
      ]
    },
    {
      "cell_type": "code",
      "execution_count": null,
      "metadata": {
        "id": "O8WaY8Wbj98m",
        "outputId": "821bfdf2-bc44-45ba-b7fb-d7ae7340a464"
      },
      "outputs": [
        {
          "name": "stdout",
          "output_type": "stream",
          "text": [
            "Список уникальных значений поля VehicleType : [nan 'coupe' 'suv' 'small' 'sedan' 'convertible' 'bus' 'wagon' 'other']\n",
            "Список уникальных значений поля Gearbox : ['manual' 'auto' nan]\n",
            "Список уникальных значений поля Model : ['golf' nan 'grand' 'fabia' '3er' '2_reihe' 'other' 'c_max' '3_reihe'\n",
            " 'passat' 'navara' 'ka' 'polo' 'twingo' 'a_klasse' 'scirocco' '5er'\n",
            " 'meriva' 'arosa' 'c4' 'civic' 'transporter' 'punto' 'e_klasse' 'clio'\n",
            " 'kadett' 'kangoo' 'corsa' 'one' 'fortwo' '1er' 'b_klasse' 'signum'\n",
            " 'astra' 'a8' 'jetta' 'fiesta' 'c_klasse' 'micra' 'vito' 'sprinter' '156'\n",
            " 'escort' 'forester' 'xc_reihe' 'scenic' 'a4' 'a1' 'insignia' 'combo'\n",
            " 'focus' 'tt' 'a6' 'jazz' 'omega' 'slk' '7er' '80' '147' '100' 'z_reihe'\n",
            " 'sportage' 'sorento' 'v40' 'ibiza' 'mustang' 'eos' 'touran' 'getz' 'a3'\n",
            " 'almera' 'megane' 'lupo' 'r19' 'zafira' 'caddy' 'mondeo' 'cordoba' 'colt'\n",
            " 'impreza' 'vectra' 'berlingo' 'tiguan' 'i_reihe' 'espace' 'sharan'\n",
            " '6_reihe' 'panda' 'up' 'seicento' 'ceed' '5_reihe' 'yeti' 'octavia' 'mii'\n",
            " 'rx_reihe' '6er' 'modus' 'fox' 'matiz' 'beetle' 'c1' 'rio' 'touareg'\n",
            " 'logan' 'spider' 'cuore' 's_max' 'a2' 'galaxy' 'c3' 'viano' 's_klasse'\n",
            " '1_reihe' 'avensis' 'roomster' 'sl' 'kaefer' 'santa' 'cooper' 'leon'\n",
            " '4_reihe' 'a5' '500' 'laguna' 'ptcruiser' 'clk' 'primera' 'x_reihe'\n",
            " 'exeo' '159' 'transit' 'juke' 'qashqai' 'carisma' 'accord' 'corolla'\n",
            " 'lanos' 'phaeton' 'verso' 'swift' 'rav' 'picanto' 'boxster' 'kalos'\n",
            " 'superb' 'stilo' 'alhambra' 'mx_reihe' 'roadster' 'ypsilon' 'cayenne'\n",
            " 'galant' 'justy' '90' 'sirion' 'crossfire' 'agila' 'duster' 'cr_reihe'\n",
            " 'v50' 'c_reihe' 'v_klasse' 'm_klasse' 'yaris' 'c5' 'aygo' 'cc' 'carnival'\n",
            " 'fusion' '911' 'bora' 'forfour' 'm_reihe' 'cl' 'tigra' '300c' 'spark'\n",
            " 'v70' 'kuga' 'x_type' 'ducato' 's_type' 'x_trail' 'toledo' 'altea'\n",
            " 'voyager' 'calibra' 'bravo' 'antara' 'tucson' 'citigo' 'jimny' 'wrangler'\n",
            " 'lybra' 'q7' 'lancer' 'captiva' 'c2' 'discovery' 'freelander' 'sandero'\n",
            " 'note' '900' 'cherokee' 'clubman' 'samara' 'defender' '601' 'cx_reihe'\n",
            " 'legacy' 'pajero' 'auris' 'niva' 's60' 'nubira' 'vivaro' 'g_klasse'\n",
            " 'lodgy' '850' 'range_rover' 'q3' 'serie_2' 'glk' 'charade' 'croma'\n",
            " 'outlander' 'doblo' 'musa' 'move' '9000' 'v60' '145' 'aveo' '200' 'b_max'\n",
            " 'range_rover_sport' 'terios' 'rangerover' 'q5' 'range_rover_evoque'\n",
            " 'materia' 'delta' 'gl' 'kalina' 'amarok' 'elefantino' 'i3' 'kappa'\n",
            " 'serie_3' 'serie_1']\n",
            "Список уникальных значений поля FuelType : ['petrol' 'gasoline' nan 'lpg' 'other' 'hybrid' 'cng' 'electric']\n",
            "Список уникальных значений поля Brand : ['volkswagen' 'audi' 'jeep' 'skoda' 'bmw' 'peugeot' 'ford' 'mazda'\n",
            " 'nissan' 'renault' 'mercedes_benz' 'opel' 'seat' 'citroen' 'honda' 'fiat'\n",
            " 'mini' 'smart' 'hyundai' 'sonstige_autos' 'alfa_romeo' 'subaru' 'volvo'\n",
            " 'mitsubishi' 'kia' 'suzuki' 'lancia' 'toyota' 'chevrolet' 'dacia'\n",
            " 'daihatsu' 'trabant' 'saab' 'chrysler' 'jaguar' 'daewoo' 'porsche'\n",
            " 'rover' 'land_rover' 'lada']\n",
            "Список уникальных значений поля NotRepaired : [nan 'yes' 'no']\n"
          ]
        }
      ],
      "source": [
        "for column in autos:\n",
        "    columnSeriesObj = autos[column]\n",
        "    if columnSeriesObj.dtypes == object:\n",
        "        print('Список уникальных значений поля', columnSeriesObj.name,':', columnSeriesObj.unique())"
      ]
    },
    {
      "cell_type": "markdown",
      "metadata": {
        "id": "z7WBO1M6j98m"
      },
      "source": [
        "Определим количество дублей"
      ]
    },
    {
      "cell_type": "code",
      "execution_count": null,
      "metadata": {
        "id": "yuLSJUBTj98m",
        "outputId": "b747c2b8-6a05-4071-93d9-fd13787f3a87"
      },
      "outputs": [
        {
          "name": "stdout",
          "output_type": "stream",
          "text": [
            "Количество дублей 4\n"
          ]
        }
      ],
      "source": [
        "print('Количество дублей', autos.duplicated().sum())"
      ]
    },
    {
      "cell_type": "markdown",
      "metadata": {
        "id": "1dzSbns1j98m"
      },
      "source": [
        "Найдем пропущенные значения `NaN` в столбцах таблицы `autos`"
      ]
    },
    {
      "cell_type": "code",
      "execution_count": null,
      "metadata": {
        "id": "aZARCrIRj98m",
        "outputId": "779273fe-79ff-475d-d1ee-e7af51058171"
      },
      "outputs": [
        {
          "data": {
            "text/plain": [
              "NotRepaired          71154\n",
              "VehicleType          37490\n",
              "FuelType             32895\n",
              "Gearbox              19833\n",
              "Model                19705\n",
              "DateCrawled              0\n",
              "Price                    0\n",
              "RegistrationYear         0\n",
              "Power                    0\n",
              "Kilometer                0\n",
              "RegistrationMonth        0\n",
              "Brand                    0\n",
              "DateCreated              0\n",
              "NumberOfPictures         0\n",
              "PostalCode               0\n",
              "LastSeen                 0\n",
              "dtype: int64"
            ]
          },
          "execution_count": 9,
          "metadata": {},
          "output_type": "execute_result"
        }
      ],
      "source": [
        "autos.isnull().sum().sort_values(ascending = False)"
      ]
    },
    {
      "cell_type": "markdown",
      "metadata": {
        "id": "_8ovVGsrj98n"
      },
      "source": [
        "Найдем нулевые значения в столбцах таблицы `autos`"
      ]
    },
    {
      "cell_type": "code",
      "execution_count": null,
      "metadata": {
        "scrolled": true,
        "id": "gom6XK8Rj98n",
        "outputId": "2c11c291-5e0c-4cf3-b6d0-cb55edad7ed5"
      },
      "outputs": [
        {
          "data": {
            "text/plain": [
              "NumberOfPictures     354369\n",
              "Power                 40225\n",
              "RegistrationMonth     37352\n",
              "Price                 10772\n",
              "DateCrawled               0\n",
              "VehicleType               0\n",
              "RegistrationYear          0\n",
              "Gearbox                   0\n",
              "Model                     0\n",
              "Kilometer                 0\n",
              "FuelType                  0\n",
              "Brand                     0\n",
              "NotRepaired               0\n",
              "DateCreated               0\n",
              "PostalCode                0\n",
              "LastSeen                  0\n",
              "dtype: int64"
            ]
          },
          "execution_count": 10,
          "metadata": {},
          "output_type": "execute_result"
        }
      ],
      "source": [
        "autos.isin([0]).sum().sort_values(ascending = False)"
      ]
    },
    {
      "cell_type": "markdown",
      "metadata": {
        "id": "RhZpbsqVj98n"
      },
      "source": [
        "#### Вывод:  \n",
        "Таблица `autos.csv` состоит из 354369 строк и 16 столбцов (разделитель - запятая):  \n",
        "- **DateCrawled** - дата скачивания анкеты из базы (тип - datetime64)  \n",
        "\n",
        "- **Price** - цена, евро (тип - int64), целевой признак  \n",
        "> обнаружено 10772 нулевых значений (3%)  \n",
        "> обработка нулевых значений: уберем строки с нулевыми значениями, так как их объем в общей выборке невелик\n",
        "\n",
        "**VehicleType** - тип автомобильного кузова (тип - object)  \n",
        "- категорийный признак;\n",
        "> пропущено 37490 значений (10,5%)\n",
        "\n",
        "**RegistrationYear** - год регистрации автомобиля (тип - int64)\n",
        "> обнаружены выбросы (значения 1000; 9999)\n",
        "> обработка выбросов: можно попробовать ограничить данные 1985 и 2020 годами (процент выбросов невелик: 1.57%), удалив остальные значения\n",
        "\n",
        "**Gearbox** - тип коробки передач (тип - object)\n",
        "- категорийный признак;\n",
        "> пропущено 19833 значений (5,6%)\n",
        "\n",
        "**Power** - мощность, л. с. (тип - int64)\n",
        "> обнаружено 40225 нулевых значений (11%);\n",
        "> обнаружены выбросы (значения 0; 20000);\n",
        "> обработка пропусков и выбросов: ограничить автомобилями до 500 л.с.\n",
        "\n",
        "**Model** - модель автомобиля (тип - object)\n",
        "- категорийный признак;\n",
        "> пропущено 19705 значений (5,6%)\n",
        "\n",
        "**Kilometer** - пробег, км (тип - int64)  \n",
        "\n",
        "**RegistrationMonth** - месяц регистрации автомобиля (тип - int64)\n",
        "- категорийный признак;\n",
        "> обнаружено 37352 нулевых значений (10,5%)\n",
        "\n",
        "**FuelType** - тип топлива (тип - object)\n",
        "- категорийный признак;\n",
        "> пропущено 32895 значений (9%)\n",
        "\n",
        "**Brand** - марка автомобиля (тип - object)\n",
        "- категорийный признак;\n",
        "\n",
        "**NotRepaired** - была машина в ремонте или нет (тип - object)\n",
        "- категорийный признак;\n",
        "> пропущено 71154 значений (20%)\n",
        "\n",
        "**DateCreated** - дата создания анкеты (тип - datetime64)\n",
        "\n",
        "**NumberOfPictures** - количество фотографий автомобиля (тип - int64)\n",
        ">все значения равны нулю - поле можно удалить\n",
        "\n",
        "**PostalCode** - почтовый индекс владельца анкеты (тип - int64)  \n",
        ">Странные значения почтовых индексов (явно не РФ) для сервиса с названием \"Не бит, не крашен\"\n",
        "\n",
        "**LastSeen** - дата последней активности пользователя (тип - datetime64)  \n",
        "\n",
        "Качество данных вызывает вопросы: видим пропущенные и нулевые значения, выбросы  \n",
        "\n",
        "\n",
        "План подготовки данных:\n",
        "\n",
        "Удалить полные дубли  \n",
        "Удалить строки с пропущенными значениями поле price, так как их объем в общей выборке невелик  \n",
        "Удалить признаки, не влияющие на стоимость автомобиля: **DateCrawled, DateCreated, RegistrationMonth, NumberOfPictures, LastSeen**  \n",
        "\n",
        "Пропуски в категориальных признаках выделить в отдельную категорию \"nan\"  \n",
        "Обработать строки со значениями в поле RegistrationYear   \n",
        "Значения выбросы в поле Power удалить\n",
        "Изменить тип данных категориальных переменных на category (для работы LGBMRegressor)  \n",
        "При необходимости преобразовать категориальные признаки в численные при помощи техники прямого кодирования (OHE) - для линейных моделей"
      ]
    },
    {
      "cell_type": "markdown",
      "metadata": {
        "id": "mgfDU0Vqj98o"
      },
      "source": [
        "### Анализ и подготовка данных"
      ]
    },
    {
      "cell_type": "markdown",
      "metadata": {
        "id": "f4tMpcjgj98p"
      },
      "source": [
        "Целевой признак - **Price** посмотрим распределение и наличие нулей/очень малых цен"
      ]
    },
    {
      "cell_type": "code",
      "execution_count": null,
      "metadata": {
        "id": "zKtkGWxDj98p",
        "outputId": "441093df-666f-49f1-d012-08af55a777fa"
      },
      "outputs": [
        {
          "data": {
            "image/png": "[encoded data removed]",
            "text/plain": [
              "<Figure size 432x288 with 1 Axes>"
            ]
          },
          "metadata": {
            "needs_background": "light"
          },
          "output_type": "display_data"
        }
      ],
      "source": [
        "plt.hist(autos['Price'], bins=80, density=True)\n",
        "plt.title('Гистограмма распределения цен на автомобили')\n",
        "plt.xlabel('цена, евро')\n",
        "plt.show()"
      ]
    },
    {
      "cell_type": "markdown",
      "metadata": {
        "id": "AYtwzI8Tj98p"
      },
      "source": [
        "Нулевые значения цены - это отсутствующие данные. Эти объекты удаляем, т.к. модель нельзя обучить прогнозу целевого признака без самого целевого признака.  \n",
        "Возможная причина возникновения нулевых значений - ошибка выгрузки базы данных, пользователи вводили данные не внимательно или ставили произволную цифру, чтобы потенциальный покупатель связывался с покупателем."
      ]
    },
    {
      "cell_type": "code",
      "execution_count": null,
      "metadata": {
        "scrolled": true,
        "id": "V5Ea7cTuj98p",
        "outputId": "15601178-9ba7-4bcf-81e4-8ab13278c7f2"
      },
      "outputs": [
        {
          "name": "stdout",
          "output_type": "stream",
          "text": [
            "Объектов с нулевой ценой: 10772\n",
            "Очищено\n",
            "Объектов с нулевой ценой: 0\n"
          ]
        }
      ],
      "source": [
        "print('Объектов с нулевой ценой:', autos[autos['Price']==0].shape[0])\n",
        "autos.drop(index=autos[autos['Price']==0].index, inplace=True)\n",
        "print('Очищено')\n",
        "print('Объектов с нулевой ценой:', autos[autos['Price']==0].shape[0])"
      ]
    },
    {
      "cell_type": "markdown",
      "metadata": {
        "id": "ZzwCGaA8j98q"
      },
      "source": [
        "Посмотрим сколько объектов ценой менее 50 евро"
      ]
    },
    {
      "cell_type": "code",
      "execution_count": null,
      "metadata": {
        "id": "_CKXeECfj98q",
        "outputId": "c3112fbe-cff2-44e4-aac3-92f2d0536a2c"
      },
      "outputs": [
        {
          "name": "stdout",
          "output_type": "stream",
          "text": [
            "Объектов стоимостью до 50 евро включительно: 1651\n"
          ]
        }
      ],
      "source": [
        "print('Объектов стоимостью до 50 евро включительно:', len(autos[autos['Price']<50]))"
      ]
    },
    {
      "cell_type": "markdown",
      "metadata": {
        "id": "gmq7LA4Hj98q"
      },
      "source": [
        "Объекты стоимостью до 50 евров - выглядят подозрительно, а количеством 1651 можно принебречь, удалив эти данные. Так же посмотрим на получившееся распределение"
      ]
    },
    {
      "cell_type": "code",
      "execution_count": null,
      "metadata": {
        "id": "jxTpU4Amj98q",
        "outputId": "e92d16df-21a4-4c6c-8ca1-57e63a79b303"
      },
      "outputs": [
        {
          "data": {
            "image/png": "[encoded data removed]",
            "text/plain": [
              "<Figure size 432x288 with 1 Axes>"
            ]
          },
          "metadata": {
            "needs_background": "light"
          },
          "output_type": "display_data"
        }
      ],
      "source": [
        "autos.drop(index=autos[autos['Price']<50].index, inplace=True)\n",
        "\n",
        "plt.hist(autos['Price'], bins=80, density=True)\n",
        "plt.title('Гистограмма распределения цен на автомобили после очистки данных')\n",
        "plt.xlabel('цена, евро')\n",
        "plt.show()"
      ]
    },
    {
      "cell_type": "markdown",
      "metadata": {
        "id": "93Ptd3gbj98r"
      },
      "source": [
        "Посмотрим на столбец **RegistrationYear**"
      ]
    },
    {
      "cell_type": "code",
      "execution_count": null,
      "metadata": {
        "id": "jElfbov6j98r",
        "outputId": "e8d43f55-ed7c-4d32-cfa9-8b2e01b40ce2"
      },
      "outputs": [
        {
          "data": {
            "text/plain": [
              "count    341946.000000\n",
              "mean       2004.079741\n",
              "std          77.070546\n",
              "min        1000.000000\n",
              "25%        1999.000000\n",
              "50%        2003.000000\n",
              "75%        2008.000000\n",
              "max        9999.000000\n",
              "Name: RegistrationYear, dtype: float64"
            ]
          },
          "execution_count": 15,
          "metadata": {},
          "output_type": "execute_result"
        }
      ],
      "source": [
        "autos['RegistrationYear'].describe()"
      ]
    },
    {
      "cell_type": "markdown",
      "metadata": {
        "id": "31vGyW26j98r"
      },
      "source": [
        "Обработаем выбросы. Выделим объекты, которые \"моложе\" даты объявления о своей продаже"
      ]
    },
    {
      "cell_type": "code",
      "execution_count": null,
      "metadata": {
        "scrolled": false,
        "id": "n2c9ry5pj98r",
        "outputId": "22e3ada6-4fb6-451c-82d7-b2821e007ab5"
      },
      "outputs": [
        {
          "name": "stdout",
          "output_type": "stream",
          "text": [
            "Объектов, которые \"моложе\" даты своей продажи: 18636\n"
          ]
        },
        {
          "data": {
            "text/html": [
              "<div>\n",
              "<style scoped>\n",
              "    .dataframe tbody tr th:only-of-type {\n",
              "        vertical-align: middle;\n",
              "    }\n",
              "\n",
              "    .dataframe tbody tr th {\n",
              "        vertical-align: top;\n",
              "    }\n",
              "\n",
              "    .dataframe thead th {\n",
              "        text-align: right;\n",
              "    }\n",
              "</style>\n",
              "<table border=\"1\" class=\"dataframe\">\n",
              "  <thead>\n",
              "    <tr style=\"text-align: right;\">\n",
              "      <th></th>\n",
              "      <th>DateCrawled</th>\n",
              "      <th>Price</th>\n",
              "      <th>VehicleType</th>\n",
              "      <th>RegistrationYear</th>\n",
              "      <th>Gearbox</th>\n",
              "      <th>Power</th>\n",
              "      <th>Model</th>\n",
              "      <th>Kilometer</th>\n",
              "      <th>RegistrationMonth</th>\n",
              "      <th>FuelType</th>\n",
              "      <th>Brand</th>\n",
              "      <th>NotRepaired</th>\n",
              "      <th>DateCreated</th>\n",
              "      <th>NumberOfPictures</th>\n",
              "      <th>PostalCode</th>\n",
              "      <th>LastSeen</th>\n",
              "    </tr>\n",
              "  </thead>\n",
              "  <tbody>\n",
              "    <tr>\n",
              "      <th>22</th>\n",
              "      <td>2016-03-23 14:52:51</td>\n",
              "      <td>2900</td>\n",
              "      <td>NaN</td>\n",
              "      <td>2018</td>\n",
              "      <td>manual</td>\n",
              "      <td>90</td>\n",
              "      <td>meriva</td>\n",
              "      <td>150000</td>\n",
              "      <td>5</td>\n",
              "      <td>petrol</td>\n",
              "      <td>opel</td>\n",
              "      <td>no</td>\n",
              "      <td>2016-03-23</td>\n",
              "      <td>0</td>\n",
              "      <td>49716</td>\n",
              "      <td>2016-03-31 01:16:33</td>\n",
              "    </tr>\n",
              "    <tr>\n",
              "      <th>26</th>\n",
              "      <td>2016-03-10 19:38:18</td>\n",
              "      <td>5555</td>\n",
              "      <td>NaN</td>\n",
              "      <td>2017</td>\n",
              "      <td>manual</td>\n",
              "      <td>125</td>\n",
              "      <td>c4</td>\n",
              "      <td>125000</td>\n",
              "      <td>4</td>\n",
              "      <td>NaN</td>\n",
              "      <td>citroen</td>\n",
              "      <td>no</td>\n",
              "      <td>2016-03-10</td>\n",
              "      <td>0</td>\n",
              "      <td>31139</td>\n",
              "      <td>2016-03-16 09:16:46</td>\n",
              "    </tr>\n",
              "    <tr>\n",
              "      <th>31</th>\n",
              "      <td>2016-03-29 16:57:02</td>\n",
              "      <td>899</td>\n",
              "      <td>NaN</td>\n",
              "      <td>2016</td>\n",
              "      <td>manual</td>\n",
              "      <td>60</td>\n",
              "      <td>clio</td>\n",
              "      <td>150000</td>\n",
              "      <td>6</td>\n",
              "      <td>petrol</td>\n",
              "      <td>renault</td>\n",
              "      <td>NaN</td>\n",
              "      <td>2016-03-29</td>\n",
              "      <td>0</td>\n",
              "      <td>37075</td>\n",
              "      <td>2016-03-29 17:43:07</td>\n",
              "    </tr>\n",
              "    <tr>\n",
              "      <th>35</th>\n",
              "      <td>2016-03-08 07:54:46</td>\n",
              "      <td>350</td>\n",
              "      <td>NaN</td>\n",
              "      <td>2016</td>\n",
              "      <td>manual</td>\n",
              "      <td>75</td>\n",
              "      <td>golf</td>\n",
              "      <td>150000</td>\n",
              "      <td>4</td>\n",
              "      <td>petrol</td>\n",
              "      <td>volkswagen</td>\n",
              "      <td>no</td>\n",
              "      <td>2016-03-08</td>\n",
              "      <td>0</td>\n",
              "      <td>19386</td>\n",
              "      <td>2016-03-08 09:44:50</td>\n",
              "    </tr>\n",
              "    <tr>\n",
              "      <th>48</th>\n",
              "      <td>2016-03-25 14:40:12</td>\n",
              "      <td>7750</td>\n",
              "      <td>NaN</td>\n",
              "      <td>2017</td>\n",
              "      <td>manual</td>\n",
              "      <td>80</td>\n",
              "      <td>golf</td>\n",
              "      <td>100000</td>\n",
              "      <td>1</td>\n",
              "      <td>petrol</td>\n",
              "      <td>volkswagen</td>\n",
              "      <td>NaN</td>\n",
              "      <td>2016-03-25</td>\n",
              "      <td>0</td>\n",
              "      <td>48499</td>\n",
              "      <td>2016-03-31 21:47:44</td>\n",
              "    </tr>\n",
              "  </tbody>\n",
              "</table>\n",
              "</div>"
            ],
            "text/plain": [
              "           DateCrawled  Price VehicleType  RegistrationYear Gearbox  Power  \\\n",
              "22 2016-03-23 14:52:51   2900         NaN              2018  manual     90   \n",
              "26 2016-03-10 19:38:18   5555         NaN              2017  manual    125   \n",
              "31 2016-03-29 16:57:02    899         NaN              2016  manual     60   \n",
              "35 2016-03-08 07:54:46    350         NaN              2016  manual     75   \n",
              "48 2016-03-25 14:40:12   7750         NaN              2017  manual     80   \n",
              "\n",
              "     Model  Kilometer  RegistrationMonth FuelType       Brand NotRepaired  \\\n",
              "22  meriva     150000                  5   petrol        opel          no   \n",
              "26      c4     125000                  4      NaN     citroen          no   \n",
              "31    clio     150000                  6   petrol     renault         NaN   \n",
              "35    golf     150000                  4   petrol  volkswagen          no   \n",
              "48    golf     100000                  1   petrol  volkswagen         NaN   \n",
              "\n",
              "   DateCreated  NumberOfPictures  PostalCode            LastSeen  \n",
              "22  2016-03-23                 0       49716 2016-03-31 01:16:33  \n",
              "26  2016-03-10                 0       31139 2016-03-16 09:16:46  \n",
              "31  2016-03-29                 0       37075 2016-03-29 17:43:07  \n",
              "35  2016-03-08                 0       19386 2016-03-08 09:44:50  \n",
              "48  2016-03-25                 0       48499 2016-03-31 21:47:44  "
            ]
          },
          "execution_count": 16,
          "metadata": {},
          "output_type": "execute_result"
        }
      ],
      "source": [
        "too_young_1 = (autos['RegistrationYear'] - autos['DateCreated'].dt.year) > 0\n",
        "\n",
        "too_young_2 = (\n",
        "    ((autos['RegistrationYear'] - autos['DateCreated'].dt.year) == 0)\n",
        "    &\n",
        "    ((autos['RegistrationMonth'] - autos['DateCreated'].dt.month) > 0)\n",
        ")\n",
        "\n",
        "too_young = too_young_1 | too_young_2\n",
        "\n",
        "print('Объектов, которые \"моложе\" даты своей продажи:', too_young.sum())\n",
        "\n",
        "autos[too_young].head()"
      ]
    },
    {
      "cell_type": "markdown",
      "metadata": {
        "id": "F7Apxi-qj98r"
      },
      "source": [
        "Объектов, которые \"моложе\" даты своей продажи довольно много, удалять их не будем, заполним некорректные года и месяцы на `NaN`"
      ]
    },
    {
      "cell_type": "code",
      "execution_count": null,
      "metadata": {
        "id": "UjTeoho7j98r"
      },
      "outputs": [],
      "source": [
        "autos.loc[too_young, 'RegistrationYear'] = np.nan\n",
        "autos.loc[too_young, 'RegistrationMonth'] = np.nan"
      ]
    },
    {
      "cell_type": "markdown",
      "metadata": {
        "id": "lr2IJw6Pj98s"
      },
      "source": [
        "Обработаем слишком старые автомобили, старше 1900 года, заменим так же на `NaN`"
      ]
    },
    {
      "cell_type": "code",
      "execution_count": null,
      "metadata": {
        "scrolled": true,
        "id": "naHP12Eyj98s",
        "outputId": "74e656f1-c09c-4a56-ac62-970978d4c963"
      },
      "outputs": [
        {
          "data": {
            "image/png": "[encoded data removed]",
            "text/plain": [
              "<Figure size 432x288 with 1 Axes>"
            ]
          },
          "metadata": {
            "needs_background": "light"
          },
          "output_type": "display_data"
        }
      ],
      "source": [
        "autos.loc[autos.loc[:, 'RegistrationYear'] < 1900, 'RegistrationYear'] = np.nan\n",
        "\n",
        "autos['RegistrationYear'].hist(bins=80)\n",
        "plt.title('Гистограмма распредедения автомобилей по году выпуска, 1 этап очистки')\n",
        "plt.xlabel('год выпуска')\n",
        "plt.show()"
      ]
    },
    {
      "cell_type": "code",
      "execution_count": null,
      "metadata": {
        "id": "6X-olUhSj98s",
        "outputId": "917b35e9-5408-416e-9f63-7375825aecea"
      },
      "outputs": [
        {
          "name": "stdout",
          "output_type": "stream",
          "text": [
            "99.5% объектов моложе 1972.0 года\n"
          ]
        }
      ],
      "source": [
        "print('99.5% объектов моложе', autos['RegistrationYear'].quantile(0.005), 'года')"
      ]
    },
    {
      "cell_type": "markdown",
      "metadata": {
        "id": "c1P0jayJj98s"
      },
      "source": [
        "Автомобили старше 60-70-х годов можно считать ретро-автомобилями, в таких объявлениях встречается много ошибок. Заменим для таких автомобилей года регистрации на `NaN` т.к. они только вредят для анализа."
      ]
    },
    {
      "cell_type": "code",
      "execution_count": null,
      "metadata": {
        "id": "T8u39-1Jj98t",
        "outputId": "4455c3a8-2bd1-47be-e148-ed1365075407"
      },
      "outputs": [
        {
          "name": "stdout",
          "output_type": "stream",
          "text": [
            "Объектов старше 1960 г.: 387\n"
          ]
        }
      ],
      "source": [
        "print('Объектов старше 1960 г.:', len(autos[autos['RegistrationYear'] <= 1960]))\n",
        "autos.loc[autos.loc[:, 'RegistrationYear'] < 1960, 'RegistrationYear'] = np.nan"
      ]
    },
    {
      "cell_type": "code",
      "execution_count": null,
      "metadata": {
        "id": "CzWgkdgRj98t",
        "outputId": "eb7da02a-502c-4672-f1a4-775b506772a4"
      },
      "outputs": [
        {
          "data": {
            "image/png": "[encoded data removed]",
            "text/plain": [
              "<Figure size 432x288 with 1 Axes>"
            ]
          },
          "metadata": {
            "needs_background": "light"
          },
          "output_type": "display_data"
        }
      ],
      "source": [
        "autos['RegistrationYear'].hist(bins=80, density=True)\n",
        "plt.title('Гистограмма распредедения автомобилей по году выпуска, очищенные данные')\n",
        "plt.xlabel('год выпуска')\n",
        "plt.show()"
      ]
    },
    {
      "cell_type": "markdown",
      "metadata": {
        "id": "bNepH6syj98t"
      },
      "source": [
        "Распределение выглядит ожидаемо, с длинным хвостом слева"
      ]
    },
    {
      "cell_type": "markdown",
      "metadata": {
        "id": "FZs9SBzQj98t"
      },
      "source": [
        "Посмотрим на **RegistrationMonth**"
      ]
    },
    {
      "cell_type": "code",
      "execution_count": null,
      "metadata": {
        "scrolled": true,
        "id": "3NWu2XMuj98u",
        "outputId": "b358f737-7fd8-4cdd-acbd-d63fbb578d26"
      },
      "outputs": [
        {
          "data": {
            "text/plain": [
              "3.0     0.100912\n",
              "6.0     0.089617\n",
              "0.0     0.088760\n",
              "4.0     0.083793\n",
              "5.0     0.082924\n",
              "7.0     0.077845\n",
              "10.0    0.074801\n",
              "11.0    0.069509\n",
              "12.0    0.069348\n",
              "9.0     0.068510\n",
              "1.0     0.067557\n",
              "8.0     0.064313\n",
              "2.0     0.062111\n",
              "Name: RegistrationMonth, dtype: float64"
            ]
          },
          "execution_count": 22,
          "metadata": {},
          "output_type": "execute_result"
        }
      ],
      "source": [
        "autos['RegistrationMonth'].value_counts(normalize=True)"
      ]
    },
    {
      "cell_type": "markdown",
      "metadata": {
        "id": "YkB1aBAFj98u"
      },
      "source": [
        "В данных есть месяц 0. Видимо, это объекты, для которых месяц был неизвестен. Это 9.5% данных. Дата регистрации автомобиля важна с точки зрения определения возраста автомобиля на момент продажи. Его можно рассчитать в годах и месяцах, вычитая дату регистрации из даты публикации анкеты. Заменим 0 на `NaN`"
      ]
    },
    {
      "cell_type": "code",
      "execution_count": null,
      "metadata": {
        "id": "vWQ97Bzuj98u"
      },
      "outputs": [],
      "source": [
        "autos.loc[autos.loc[:, 'RegistrationMonth'] == 0, 'RegistrationMonth'] = np.nan"
      ]
    },
    {
      "cell_type": "markdown",
      "metadata": {
        "id": "DIU2G7HKj98u"
      },
      "source": [
        "Посмотрим на даты создания анкет **DateCreated** и выгрузки данных **DateCrawled**"
      ]
    },
    {
      "cell_type": "code",
      "execution_count": null,
      "metadata": {
        "scrolled": true,
        "id": "CF0t0KeIj98v",
        "outputId": "16b33edb-e2bd-481b-89d8-cb8849d47d05"
      },
      "outputs": [
        {
          "data": {
            "image/png": "[encoded data removed]",
            "text/plain": [
              "<Figure size 576x288 with 1 Axes>"
            ]
          },
          "metadata": {
            "needs_background": "light"
          },
          "output_type": "display_data"
        }
      ],
      "source": [
        "fig, ax = plt.subplots(figsize=(8, 4))\n",
        "ax.hist(autos['DateCrawled'], bins=80, density=True)\n",
        "ax.xaxis.set_major_locator(mdates.MonthLocator(interval=2))\n",
        "ax.xaxis.set_major_formatter(mdates.DateFormatter(\"%b %Y\"))\n",
        "ax.set_title('Дата выгрузки данных')\n",
        "fig.autofmt_xdate()\n",
        "plt.tight_layout()\n",
        "plt.show()"
      ]
    },
    {
      "cell_type": "code",
      "execution_count": null,
      "metadata": {
        "id": "OoPXTCLGj98v",
        "outputId": "e1713157-e752-46a8-d39c-273df3af28f9"
      },
      "outputs": [
        {
          "data": {
            "image/png": "[encoded data removed]",
            "text/plain": [
              "<Figure size 576x288 with 1 Axes>"
            ]
          },
          "metadata": {
            "needs_background": "light"
          },
          "output_type": "display_data"
        }
      ],
      "source": [
        "fig, ax = plt.subplots(figsize=(8, 4))\n",
        "ax.hist(autos['DateCreated'], bins=100, density=True)\n",
        "ax.xaxis.set_major_locator(mdates.MonthLocator(interval=2))\n",
        "ax.xaxis.set_major_formatter(mdates.DateFormatter(\"%b %Y\"))\n",
        "ax.set_title('Дата создания анкеты')\n",
        "fig.autofmt_xdate()\n",
        "plt.tight_layout()\n",
        "plt.show()"
      ]
    },
    {
      "cell_type": "markdown",
      "metadata": {
        "id": "lj6a4Cbbj98v"
      },
      "source": [
        "Почти все анкеты созданы в 2016 году, однако есть и более старые\n",
        "\n",
        "Судя по всему, после продажи автомобиля объявление из базы удаляется. Добавим признак, который указывает, сколько объявление уже было размещено в базе к моменту выгрузки данных. Для этого найдем разницу **DateCrawled** - **DateCreated**\n",
        "\n",
        "Алгоритм должен рекомендовать клиенту такую стоимость автомобиля, за которую его можно продать в разумные сроки. Например, в пределах месяца. Посмотрим, есть ли объявления, размещённые 30 и более дней"
      ]
    },
    {
      "cell_type": "code",
      "execution_count": null,
      "metadata": {
        "id": "vCJTvM1Vj98v",
        "outputId": "704f9613-bf50-4a9c-c47b-a65b93bced7f"
      },
      "outputs": [
        {
          "name": "stdout",
          "output_type": "stream",
          "text": [
            "Объявлений страше 30 дней: 181\n"
          ]
        }
      ],
      "source": [
        "time_exposition = autos['DateCrawled'] - autos['DateCreated']\n",
        "\n",
        "print('Объявлений страше 30 дней:', len(autos[time_exposition.dt.days > 30]))"
      ]
    },
    {
      "cell_type": "markdown",
      "metadata": {
        "id": "Fyinf4nIj98w"
      },
      "source": [
        "Уберем эти объявления, т.к. клиенту нужно рекомендовать адекватные цены"
      ]
    },
    {
      "cell_type": "code",
      "execution_count": null,
      "metadata": {
        "id": "xUx0JF2bj98w"
      },
      "outputs": [],
      "source": [
        "autos.drop(autos[time_exposition.dt.days > 30].index, inplace=True)"
      ]
    },
    {
      "cell_type": "code",
      "execution_count": null,
      "metadata": {
        "id": "a5I626zVj98w",
        "outputId": "9b3a1dec-0f1f-4d81-f6ab-fdc1a244f683"
      },
      "outputs": [
        {
          "data": {
            "image/png": "[encoded data removed]",
            "text/plain": [
              "<Figure size 576x288 with 1 Axes>"
            ]
          },
          "metadata": {
            "needs_background": "light"
          },
          "output_type": "display_data"
        },
        {
          "name": "stdout",
          "output_type": "stream",
          "text": [
            "Объявлений, размещённых до марта (в феврале) 2016: 307\n"
          ]
        }
      ],
      "source": [
        "fig, ax = plt.subplots(figsize=(8, 4))\n",
        "ax.hist(autos['DateCreated'], bins=100, density=True)\n",
        "ax.xaxis.set_major_locator(mdates.MonthLocator(interval=1))\n",
        "ax.xaxis.set_major_formatter(mdates.DateFormatter(\"%b %Y\"))\n",
        "ax.set_title('Дата создания анкеты, очищенные данные')\n",
        "fig.autofmt_xdate()\n",
        "plt.tight_layout()\n",
        "plt.show()\n",
        "\n",
        "print('Объявлений, размещённых до марта (в феврале) 2016:', len(autos[autos.loc[:, 'DateCreated'].dt.month == 2]))"
      ]
    },
    {
      "cell_type": "markdown",
      "metadata": {
        "id": "ccofopAGj98x"
      },
      "source": [
        "Удалим признаки, не влияющие на стоимость автомобиля"
      ]
    },
    {
      "cell_type": "code",
      "execution_count": null,
      "metadata": {
        "scrolled": true,
        "id": "WHYsDj7pj98x",
        "outputId": "fc696e28-0850-4386-bb16-54cfc8978b47"
      },
      "outputs": [
        {
          "name": "stdout",
          "output_type": "stream",
          "text": [
            "Размер итоговой таблицы: (341765, 11)\n"
          ]
        }
      ],
      "source": [
        "autos = autos.drop(columns=['DateCrawled', 'DateCreated', 'RegistrationMonth', 'NumberOfPictures', 'LastSeen'])\n",
        "print(\"Размер итоговой таблицы:\", autos.shape)"
      ]
    },
    {
      "cell_type": "markdown",
      "metadata": {
        "id": "JYuW0r_ij98x"
      },
      "source": [
        "Изучим столбец **Power**"
      ]
    },
    {
      "cell_type": "code",
      "execution_count": null,
      "metadata": {
        "scrolled": false,
        "id": "nqEg_Slgj98y",
        "outputId": "5c7b3c97-97e3-41bd-faae-e932cfdc4dbf"
      },
      "outputs": [
        {
          "data": {
            "image/png": "[encoded data removed]",
            "text/plain": [
              "<Figure size 432x288 with 1 Axes>"
            ]
          },
          "metadata": {
            "needs_background": "light"
          },
          "output_type": "display_data"
        }
      ],
      "source": [
        "autos['Power'].hist(bins=100)\n",
        "plt.title('Мощность двигателя, л.с.')\n",
        "plt.show()"
      ]
    },
    {
      "cell_type": "markdown",
      "metadata": {
        "id": "5t55_Tyyj98y"
      },
      "source": [
        "Избавимся от выбросов, заменим NaN всё, что более 500 л.с. Также заменим на NaN нулевые значения (которые, по сути, и являются NaN)"
      ]
    },
    {
      "cell_type": "code",
      "execution_count": null,
      "metadata": {
        "id": "oR3zZapSj98y"
      },
      "outputs": [],
      "source": [
        "autos.loc[autos.loc[:, 'Power'] > 500, 'Power'] = np.NaN\n",
        "autos.loc[autos.loc[:, 'Power'] == 0, 'Power'] = np.NaN"
      ]
    },
    {
      "cell_type": "code",
      "execution_count": null,
      "metadata": {
        "scrolled": true,
        "id": "oh92dly4j98y",
        "outputId": "d3659b13-af7d-49dc-e26c-e5caf82060c3"
      },
      "outputs": [
        {
          "data": {
            "image/png": "[encoded data removed]",
            "text/plain": [
              "<Figure size 432x288 with 1 Axes>"
            ]
          },
          "metadata": {
            "needs_background": "light"
          },
          "output_type": "display_data"
        }
      ],
      "source": [
        "autos['Power'].hist(bins=50)\n",
        "plt.title('Мощность двигателя, л.с.')\n",
        "plt.show()"
      ]
    },
    {
      "cell_type": "markdown",
      "metadata": {
        "id": "Bwj3zVpzj98z"
      },
      "source": [
        "Посмотрим столбец **Kilometer**"
      ]
    },
    {
      "cell_type": "code",
      "execution_count": null,
      "metadata": {
        "scrolled": true,
        "id": "OfezGSNMj98z",
        "outputId": "9a323495-071d-4194-bc39-4bcb8911f95e"
      },
      "outputs": [
        {
          "data": {
            "image/png": "[encoded data removed]",
            "text/plain": [
              "<Figure size 432x288 with 1 Axes>"
            ]
          },
          "metadata": {
            "needs_background": "light"
          },
          "output_type": "display_data"
        }
      ],
      "source": [
        "autos['Kilometer'].hist(bins=80)\n",
        "plt.title('Пробег, км')\n",
        "plt.xlabel('км')\n",
        "plt.show()"
      ]
    },
    {
      "cell_type": "markdown",
      "metadata": {
        "id": "2_9eT00Cj98z"
      },
      "source": [
        "Аномалий нет, оставляем всё как есть"
      ]
    },
    {
      "cell_type": "markdown",
      "metadata": {
        "id": "ZcKpYj7pj98z"
      },
      "source": [
        "Посмотрим на явные дубликаты"
      ]
    },
    {
      "cell_type": "code",
      "execution_count": null,
      "metadata": {
        "id": "hw8I2kZDj98z",
        "outputId": "3f8b5791-80af-4d66-fab4-8f4cca6fd808"
      },
      "outputs": [
        {
          "name": "stdout",
          "output_type": "stream",
          "text": [
            "Количество дублей 22546\n"
          ]
        }
      ],
      "source": [
        "print('Количество дублей', autos.duplicated().sum())"
      ]
    },
    {
      "cell_type": "markdown",
      "metadata": {
        "id": "BDtKYeFej980"
      },
      "source": [
        "Избавимся от дублей"
      ]
    },
    {
      "cell_type": "code",
      "execution_count": null,
      "metadata": {
        "id": "xslGwDHOj980",
        "outputId": "eff1d44e-bcb8-472b-a921-86109adb0c8d"
      },
      "outputs": [
        {
          "name": "stdout",
          "output_type": "stream",
          "text": [
            "Размер итоговой таблицы: (319219, 11)\n"
          ]
        }
      ],
      "source": [
        "autos.drop_duplicates(inplace = True)\n",
        "print(\"Размер итоговой таблицы:\", autos.shape)"
      ]
    },
    {
      "cell_type": "markdown",
      "metadata": {
        "id": "zveiezqaj980"
      },
      "source": [
        "Выделим количественные и категориальные переменные, а пропуски в категориальных признаках выделим в отдельную категорию \"nan\""
      ]
    },
    {
      "cell_type": "code",
      "execution_count": null,
      "metadata": {
        "scrolled": true,
        "id": "JunieeBOj980",
        "outputId": "0c231660-0abb-4bc5-cccd-8fc923687cfb"
      },
      "outputs": [
        {
          "data": {
            "text/plain": [
              "Power               34285\n",
              "RegistrationYear    18147\n",
              "Price                   0\n",
              "VehicleType             0\n",
              "Gearbox                 0\n",
              "Model                   0\n",
              "Kilometer               0\n",
              "FuelType                0\n",
              "Brand                   0\n",
              "NotRepaired             0\n",
              "PostalCode              0\n",
              "dtype: int64"
            ]
          },
          "execution_count": 36,
          "metadata": {},
          "output_type": "execute_result"
        }
      ],
      "source": [
        "num_features = ['Price', 'RegistrationYear', 'Power', 'Kilometer']\n",
        "cat_features = ['VehicleType', 'Gearbox', 'Model',\n",
        "                'FuelType','Brand', 'NotRepaired']\n",
        "\n",
        "autos[cat_features] = autos[cat_features].fillna('nan')\n",
        "autos.isnull().sum().sort_values(ascending = False)"
      ]
    },
    {
      "cell_type": "code",
      "execution_count": null,
      "metadata": {
        "id": "KAz55TMyj980",
        "outputId": "001b58ca-208d-4c6a-be93-7e6124a910ca"
      },
      "outputs": [
        {
          "name": "stdout",
          "output_type": "stream",
          "text": [
            "Размер итоговой таблицы: (319219, 11)\n"
          ]
        }
      ],
      "source": [
        "print(\"Размер итоговой таблицы:\", autos.shape)"
      ]
    },
    {
      "cell_type": "markdown",
      "metadata": {
        "id": "RJRs2Xtnj981"
      },
      "source": [
        "Изменим тип данных категориальных переменных на category (для LGBMRegressor)"
      ]
    },
    {
      "cell_type": "code",
      "execution_count": null,
      "metadata": {
        "id": "XLboqtdYj982"
      },
      "outputs": [],
      "source": [
        "autos[cat_features] = autos[cat_features].astype('category')"
      ]
    },
    {
      "cell_type": "markdown",
      "metadata": {
        "id": "qYgUBVnvj982"
      },
      "source": [
        "#### Вывод:  \n",
        "Данные подготовлены для решения задачи"
      ]
    },
    {
      "cell_type": "markdown",
      "metadata": {
        "id": "yNn0dnhgj983"
      },
      "source": [
        "## Обучение моделей"
      ]
    },
    {
      "cell_type": "markdown",
      "metadata": {
        "id": "O3JfDwJoj983"
      },
      "source": [
        "Разобъем данные на обучающую, валидационную и тестовую выборки в соотношении 3:1:1 (т.к. спрятанной тестовой выборки нет)"
      ]
    },
    {
      "cell_type": "code",
      "execution_count": null,
      "metadata": {
        "id": "uusNQDs7j983"
      },
      "outputs": [],
      "source": [
        "df_80, df_test = train_test_split(autos, test_size=0.20, random_state=STATE)\n",
        "df_train, df_valid = train_test_split(df_80, test_size=0.25, random_state=STATE) # 0.25 x 0.8 = 0.2"
      ]
    },
    {
      "cell_type": "markdown",
      "metadata": {
        "id": "Gq-mdvmkj984"
      },
      "source": [
        "Создадим переменные для признаков и целевого признака"
      ]
    },
    {
      "cell_type": "code",
      "execution_count": null,
      "metadata": {
        "id": "5zeUYOaXj984"
      },
      "outputs": [],
      "source": [
        "features_train = df_train.drop(['Price'], axis=1)\n",
        "target_train = df_train['Price']\n",
        "\n",
        "features_valid = df_valid.drop(['Price'], axis=1)\n",
        "target_valid = df_valid['Price']\n",
        "\n",
        "features_test = df_test.drop(['Price'], axis=1)\n",
        "target_test = df_test['Price']\n",
        "\n",
        "features_train_full = df_80.drop(['Price'], axis=1)\n",
        "target_train_full = df_80['Price']"
      ]
    },
    {
      "cell_type": "markdown",
      "metadata": {
        "id": "IwvhxyErj984"
      },
      "source": [
        "Проконтролируем размер новых выборок"
      ]
    },
    {
      "cell_type": "code",
      "execution_count": null,
      "metadata": {
        "scrolled": false,
        "id": "43Le9Lm4j984",
        "outputId": "62019538-cb39-43a6-86d2-bde935085b0a"
      },
      "outputs": [
        {
          "name": "stdout",
          "output_type": "stream",
          "text": [
            "Размер features_train: (191531, 10)\n",
            "Размер features_train: (191531,)\n",
            "Размер features_train: (63844, 10)\n",
            "Размер features_train: (63844,)\n",
            "Размер features_train: (63844, 10)\n",
            "Размер features_train: (63844,)\n",
            "Размер features_train: (255375, 10)\n",
            "Размер features_train: (255375,)\n"
          ]
        }
      ],
      "source": [
        "print(\"Размер features_train:\", features_train.shape)\n",
        "print(\"Размер features_train:\", target_train.shape)\n",
        "\n",
        "print(\"Размер features_train:\", features_valid.shape)\n",
        "print(\"Размер features_train:\", target_valid.shape)\n",
        "\n",
        "print(\"Размер features_train:\", features_test.shape)\n",
        "print(\"Размер features_train:\", target_test.shape)\n",
        "\n",
        "print(\"Размер features_train:\", features_train_full.shape)\n",
        "print(\"Размер features_train:\", target_train_full.shape)"
      ]
    },
    {
      "cell_type": "markdown",
      "metadata": {
        "id": "PUSLEpcKj984"
      },
      "source": [
        "Определим функцию для сбора метрик работы модели"
      ]
    },
    {
      "cell_type": "code",
      "execution_count": null,
      "metadata": {
        "id": "PVXWcMbnj985"
      },
      "outputs": [],
      "source": [
        "from time import *\n",
        "def get_metrics(model, train_x , train_y , test_x , test_y):\n",
        "    result = {}\n",
        "\n",
        "    # Определение времени обучения модели\n",
        "    start = time()\n",
        "    model.fit(train_x,train_y)\n",
        "    end = time()\n",
        "    result['train_time'] = end-start\n",
        "\n",
        "    # Определение времени предсказания модели\n",
        "    start = time()\n",
        "    test_y_predict = model.predict(test_x)\n",
        "    end = time()\n",
        "    result['prediction_time'] = end - start\n",
        "\n",
        "    # Определим RMSE\n",
        "\n",
        "    result['RMSE'] = mse(test_y, test_y_predict)**0.5\n",
        "\n",
        "    print('model_type {}'.format(model))\n",
        "    return result"
      ]
    },
    {
      "cell_type": "markdown",
      "metadata": {
        "id": "ngojI7gJj985"
      },
      "source": [
        "Обучение моделей  \n",
        "\n",
        "\n",
        "Построим модели для определения стоимости.\n",
        "Возьмем две модели из библиотек градиентного бустинга:  \n",
        "1. LGBMRegressor;\n",
        "2. CatBoostRegressor\n",
        "\n",
        "И линейную модель\n",
        "\n",
        "3. LinearRegression"
      ]
    },
    {
      "cell_type": "markdown",
      "metadata": {
        "id": "XAvaqY7gj985"
      },
      "source": [
        "Построим модель градиентного бустинга LGBMRegressor"
      ]
    },
    {
      "cell_type": "code",
      "execution_count": null,
      "metadata": {
        "id": "P1bXVCtkj985"
      },
      "outputs": [],
      "source": [
        "model_lgbm = lgb.LGBMRegressor(boosting_type='gbdt', verbose=0, seed=STATE)\n",
        "\n",
        "parameters = {\n",
        "    'learning_rate': np.logspace(-3, 0, 5),\n",
        "    'n_estimators': [40, 60],\n",
        "    'num_leaves': [21, 31, 41],\n",
        "#     'force_row_wise': [True]\n",
        "}\n",
        "\n",
        "model_lgbm_grid = GridSearchCV(model_lgbm,\n",
        "                        parameters,\n",
        "                        cv=cv,\n",
        "                        scoring='neg_mean_squared_error',\n",
        "                        verbose=True)"
      ]
    },
    {
      "cell_type": "markdown",
      "metadata": {
        "id": "ptQ54wYfj985"
      },
      "source": [
        "Подберем оптимальные гиперпараметры для LGBMRegressor"
      ]
    },
    {
      "cell_type": "code",
      "execution_count": null,
      "metadata": {
        "scrolled": true,
        "id": "MVsnbhHTj986"
      },
      "outputs": [],
      "source": [
        "%%time\n",
        "model_lgbm_grid.fit(features_train, target_train)\n",
        "model_lgbm_grid.best_params_"
      ]
    },
    {
      "cell_type": "markdown",
      "metadata": {
        "id": "kQxPwUH9j986"
      },
      "source": [
        "Получим метрики работы модели LGBMRegressor"
      ]
    },
    {
      "cell_type": "code",
      "execution_count": null,
      "metadata": {
        "scrolled": true,
        "id": "ML3yeCIjj986"
      },
      "outputs": [],
      "source": [
        "values1 = get_metrics(model_lgbm_grid.best_estimator_, features_train, target_train, features_valid, target_valid)"
      ]
    },
    {
      "cell_type": "markdown",
      "metadata": {
        "id": "oVFhOWoGj986"
      },
      "source": [
        "Используем библиотеку Catboost. Построим модель градиентного бустинга CatBoostRegressor"
      ]
    },
    {
      "cell_type": "code",
      "execution_count": null,
      "metadata": {
        "id": "rpoBTWsHj987"
      },
      "outputs": [],
      "source": [
        "model_catboost = CatBoostRegressor(random_seed=STATE,\n",
        "                        loss_function='RMSE',\n",
        "                        silent=True,\n",
        "                        cat_features=cat_features)\n",
        "\n",
        "parameters = {\n",
        "    'learning_rate': np.logspace(-3, 0, 5),\n",
        "    'iterations': [40, 60],\n",
        "    'depth': [6, 8, 10],\n",
        "}\n",
        "\n",
        "model_catboost_grid = GridSearchCV(model_catboost,\n",
        "                        parameters,\n",
        "                        cv=cv,\n",
        "                        scoring='neg_mean_squared_error',\n",
        "                        verbose=False)"
      ]
    },
    {
      "cell_type": "markdown",
      "metadata": {
        "id": "vxip3lpAj987"
      },
      "source": [
        "Подберем оптимальные гиперпараметры для CatBoostRegressor"
      ]
    },
    {
      "cell_type": "code",
      "execution_count": null,
      "metadata": {
        "id": "g6js7lk8j987"
      },
      "outputs": [],
      "source": [
        "%%time\n",
        "model_catboost_grid.fit(features_train, target_train)\n",
        "model_catboost_grid.best_params_"
      ]
    },
    {
      "cell_type": "markdown",
      "metadata": {
        "id": "ziesPnhPj987"
      },
      "source": [
        "Получим метрики работы модели CatBoostRegressor"
      ]
    },
    {
      "cell_type": "code",
      "execution_count": null,
      "metadata": {
        "id": "BKRWB-N1j987"
      },
      "outputs": [],
      "source": [
        "values2 = get_metrics(model_catboost_grid.best_estimator_, features_train, target_train, features_valid, target_valid)"
      ]
    },
    {
      "cell_type": "markdown",
      "metadata": {
        "id": "DRGIabTej988"
      },
      "source": [
        "Построим модель линейной регресии (LinearRegression). Создадим цепочку конвейерной обработки sklearn.pipeline"
      ]
    },
    {
      "cell_type": "code",
      "execution_count": null,
      "metadata": {
        "id": "L4V33gblj988",
        "outputId": "65f489f2-eefa-403b-f5b1-951ceb6b6b70"
      },
      "outputs": [
        {
          "data": {
            "text/html": [
              "<div>\n",
              "<style scoped>\n",
              "    .dataframe tbody tr th:only-of-type {\n",
              "        vertical-align: middle;\n",
              "    }\n",
              "\n",
              "    .dataframe tbody tr th {\n",
              "        vertical-align: top;\n",
              "    }\n",
              "\n",
              "    .dataframe thead th {\n",
              "        text-align: right;\n",
              "    }\n",
              "</style>\n",
              "<table border=\"1\" class=\"dataframe\">\n",
              "  <thead>\n",
              "    <tr style=\"text-align: right;\">\n",
              "      <th></th>\n",
              "      <th>VehicleType</th>\n",
              "      <th>RegistrationYear</th>\n",
              "      <th>Gearbox</th>\n",
              "      <th>Power</th>\n",
              "      <th>Model</th>\n",
              "      <th>Kilometer</th>\n",
              "      <th>FuelType</th>\n",
              "      <th>Brand</th>\n",
              "      <th>NotRepaired</th>\n",
              "      <th>PostalCode</th>\n",
              "    </tr>\n",
              "  </thead>\n",
              "  <tbody>\n",
              "    <tr>\n",
              "      <th>309306</th>\n",
              "      <td>small</td>\n",
              "      <td>2001.0</td>\n",
              "      <td>manual</td>\n",
              "      <td>58.0</td>\n",
              "      <td>twingo</td>\n",
              "      <td>5000</td>\n",
              "      <td>petrol</td>\n",
              "      <td>renault</td>\n",
              "      <td>nan</td>\n",
              "      <td>39118</td>\n",
              "    </tr>\n",
              "    <tr>\n",
              "      <th>308594</th>\n",
              "      <td>other</td>\n",
              "      <td>1999.0</td>\n",
              "      <td>manual</td>\n",
              "      <td>101.0</td>\n",
              "      <td>focus</td>\n",
              "      <td>150000</td>\n",
              "      <td>petrol</td>\n",
              "      <td>ford</td>\n",
              "      <td>yes</td>\n",
              "      <td>48231</td>\n",
              "    </tr>\n",
              "    <tr>\n",
              "      <th>183028</th>\n",
              "      <td>small</td>\n",
              "      <td>1997.0</td>\n",
              "      <td>manual</td>\n",
              "      <td>60.0</td>\n",
              "      <td>golf</td>\n",
              "      <td>150000</td>\n",
              "      <td>petrol</td>\n",
              "      <td>volkswagen</td>\n",
              "      <td>nan</td>\n",
              "      <td>97720</td>\n",
              "    </tr>\n",
              "  </tbody>\n",
              "</table>\n",
              "</div>"
            ],
            "text/plain": [
              "       VehicleType  RegistrationYear Gearbox  Power   Model  Kilometer  \\\n",
              "309306       small            2001.0  manual   58.0  twingo       5000   \n",
              "308594       other            1999.0  manual  101.0   focus     150000   \n",
              "183028       small            1997.0  manual   60.0    golf     150000   \n",
              "\n",
              "       FuelType       Brand NotRepaired  PostalCode  \n",
              "309306   petrol     renault         nan       39118  \n",
              "308594   petrol        ford         yes       48231  \n",
              "183028   petrol  volkswagen         nan       97720  "
            ]
          },
          "execution_count": 46,
          "metadata": {},
          "output_type": "execute_result"
        }
      ],
      "source": [
        "features_train.head(3)"
      ]
    },
    {
      "cell_type": "code",
      "execution_count": null,
      "metadata": {
        "id": "rBgWx8xSj989"
      },
      "outputs": [],
      "source": [
        "numeric_features = ['RegistrationYear', 'Power', 'Kilometer', 'PostalCode']\n",
        "numeric_transformer = Pipeline(\n",
        "    steps=[(\"imputer\", SimpleImputer(strategy=\"median\")),\n",
        "           (\"scaler\", StandardScaler())]\n",
        ")\n",
        "\n",
        "categorical_features = ['VehicleType', 'Gearbox', 'Model', 'FuelType', 'Brand', 'NotRepaired']\n",
        "categorical_transformer = OneHotEncoder(handle_unknown=\"ignore\")\n",
        "\n",
        "preprocessor = ColumnTransformer(\n",
        "    transformers=[\n",
        "        (\"num\", numeric_transformer, numeric_features),\n",
        "        (\"cat\", categorical_transformer, categorical_features),\n",
        "    ]\n",
        ")\n",
        "\n",
        "\n",
        "model_linearregression_pipe = Pipeline(\n",
        "    steps=[(\"preprocessor\", preprocessor),\n",
        "    (\"classifier\", LinearRegression())\n",
        "])"
      ]
    },
    {
      "cell_type": "code",
      "execution_count": null,
      "metadata": {
        "id": "8R4kUOSOj989",
        "outputId": "09de80d9-20df-403c-9b69-6efba0c38a4f"
      },
      "outputs": [
        {
          "data": {
            "text/html": [
              "<div>\n",
              "<style scoped>\n",
              "    .dataframe tbody tr th:only-of-type {\n",
              "        vertical-align: middle;\n",
              "    }\n",
              "\n",
              "    .dataframe tbody tr th {\n",
              "        vertical-align: top;\n",
              "    }\n",
              "\n",
              "    .dataframe thead th {\n",
              "        text-align: right;\n",
              "    }\n",
              "</style>\n",
              "<table border=\"1\" class=\"dataframe\">\n",
              "  <thead>\n",
              "    <tr style=\"text-align: right;\">\n",
              "      <th></th>\n",
              "      <th>0</th>\n",
              "      <th>1</th>\n",
              "      <th>2</th>\n",
              "      <th>3</th>\n",
              "      <th>4</th>\n",
              "      <th>5</th>\n",
              "      <th>6</th>\n",
              "      <th>7</th>\n",
              "      <th>...</th>\n",
              "      <th>309</th>\n",
              "      <th>310</th>\n",
              "      <th>311</th>\n",
              "      <th>312</th>\n",
              "      <th>313</th>\n",
              "      <th>314</th>\n",
              "      <th>315</th>\n",
              "      <th>316</th>\n",
              "    </tr>\n",
              "  </thead>\n",
              "  <tbody>\n",
              "    <tr>\n",
              "      <th>0</th>\n",
              "      <td>-0.215042</td>\n",
              "      <td>-1.159965</td>\n",
              "      <td>-3.315032</td>\n",
              "      <td>-0.455379</td>\n",
              "      <td>0.0</td>\n",
              "      <td>0.0</td>\n",
              "      <td>0.0</td>\n",
              "      <td>0.0</td>\n",
              "      <td>...</td>\n",
              "      <td>0.0</td>\n",
              "      <td>0.0</td>\n",
              "      <td>0.0</td>\n",
              "      <td>0.0</td>\n",
              "      <td>0.0</td>\n",
              "      <td>1.0</td>\n",
              "      <td>0.0</td>\n",
              "      <td>0.0</td>\n",
              "    </tr>\n",
              "    <tr>\n",
              "      <th>1</th>\n",
              "      <td>-0.521831</td>\n",
              "      <td>-0.353252</td>\n",
              "      <td>0.574233</td>\n",
              "      <td>-0.101148</td>\n",
              "      <td>0.0</td>\n",
              "      <td>0.0</td>\n",
              "      <td>0.0</td>\n",
              "      <td>0.0</td>\n",
              "      <td>...</td>\n",
              "      <td>0.0</td>\n",
              "      <td>0.0</td>\n",
              "      <td>0.0</td>\n",
              "      <td>0.0</td>\n",
              "      <td>0.0</td>\n",
              "      <td>0.0</td>\n",
              "      <td>0.0</td>\n",
              "      <td>1.0</td>\n",
              "    </tr>\n",
              "    <tr>\n",
              "      <th>2</th>\n",
              "      <td>-0.828621</td>\n",
              "      <td>-1.122443</td>\n",
              "      <td>0.574233</td>\n",
              "      <td>1.822536</td>\n",
              "      <td>0.0</td>\n",
              "      <td>0.0</td>\n",
              "      <td>0.0</td>\n",
              "      <td>0.0</td>\n",
              "      <td>...</td>\n",
              "      <td>0.0</td>\n",
              "      <td>0.0</td>\n",
              "      <td>0.0</td>\n",
              "      <td>1.0</td>\n",
              "      <td>0.0</td>\n",
              "      <td>1.0</td>\n",
              "      <td>0.0</td>\n",
              "      <td>0.0</td>\n",
              "    </tr>\n",
              "  </tbody>\n",
              "</table>\n",
              "<p>3 rows × 317 columns</p>\n",
              "</div>"
            ],
            "text/plain": [
              "        0         1         2         3    4    5    6    7    ...  309  310  \\\n",
              "0 -0.215042 -1.159965 -3.315032 -0.455379  0.0  0.0  0.0  0.0  ...  0.0  0.0   \n",
              "1 -0.521831 -0.353252  0.574233 -0.101148  0.0  0.0  0.0  0.0  ...  0.0  0.0   \n",
              "2 -0.828621 -1.122443  0.574233  1.822536  0.0  0.0  0.0  0.0  ...  0.0  0.0   \n",
              "\n",
              "   311  312  313  314  315  316  \n",
              "0  0.0  0.0  0.0  1.0  0.0  0.0  \n",
              "1  0.0  0.0  0.0  0.0  0.0  1.0  \n",
              "2  0.0  1.0  0.0  1.0  0.0  0.0  \n",
              "\n",
              "[3 rows x 317 columns]"
            ]
          },
          "execution_count": 51,
          "metadata": {},
          "output_type": "execute_result"
        }
      ],
      "source": [
        "input_data = preprocessor.fit_transform(features_train)\n",
        "pd.DataFrame(input_data.A[:3,])"
      ]
    },
    {
      "cell_type": "markdown",
      "metadata": {
        "id": "NMb0NQ6Nj989"
      },
      "source": [
        "Обучим модель LinearRegression"
      ]
    },
    {
      "cell_type": "code",
      "execution_count": null,
      "metadata": {
        "id": "PUsPikG6j989",
        "outputId": "6294df04-6049-4161-ad3d-1b71bd2b185b"
      },
      "outputs": [
        {
          "name": "stdout",
          "output_type": "stream",
          "text": [
            "CPU times: user 14.8 s, sys: 17.3 s, total: 32.1 s\n",
            "Wall time: 32.1 s\n"
          ]
        },
        {
          "data": {
            "text/plain": [
              "Pipeline(steps=[('preprocessor',\n",
              "                 ColumnTransformer(transformers=[('num',\n",
              "                                                  Pipeline(steps=[('imputer',\n",
              "                                                                   SimpleImputer(strategy='median')),\n",
              "                                                                  ('scaler',\n",
              "                                                                   StandardScaler())]),\n",
              "                                                  ['RegistrationYear', 'Power',\n",
              "                                                   'Kilometer', 'PostalCode']),\n",
              "                                                 ('cat',\n",
              "                                                  OneHotEncoder(handle_unknown='ignore'),\n",
              "                                                  ['VehicleType', 'Gearbox',\n",
              "                                                   'Model', 'FuelType', 'Brand',\n",
              "                                                   'NotRepaired'])])),\n",
              "                ('classifier', LinearRegression())])"
            ]
          },
          "execution_count": 54,
          "metadata": {},
          "output_type": "execute_result"
        }
      ],
      "source": [
        "%%time\n",
        "model_linearregression_pipe.fit(features_train, target_train)"
      ]
    },
    {
      "cell_type": "markdown",
      "metadata": {
        "id": "gJiW9kJ5j98-"
      },
      "source": [
        "Получим метрики работы модели LinearRegression"
      ]
    },
    {
      "cell_type": "code",
      "execution_count": null,
      "metadata": {
        "id": "DVwc76hxj98-",
        "outputId": "68a199bd-bd74-4919-a7c2-41601797ead8"
      },
      "outputs": [
        {
          "name": "stdout",
          "output_type": "stream",
          "text": [
            "model_type Pipeline(steps=[('preprocessor',\n",
            "                 ColumnTransformer(transformers=[('num',\n",
            "                                                  Pipeline(steps=[('imputer',\n",
            "                                                                   SimpleImputer(strategy='median')),\n",
            "                                                                  ('scaler',\n",
            "                                                                   StandardScaler())]),\n",
            "                                                  ['RegistrationYear', 'Power',\n",
            "                                                   'Kilometer', 'PostalCode']),\n",
            "                                                 ('cat',\n",
            "                                                  OneHotEncoder(handle_unknown='ignore'),\n",
            "                                                  ['VehicleType', 'Gearbox',\n",
            "                                                   'Model', 'FuelType', 'Brand',\n",
            "                                                   'NotRepaired'])])),\n",
            "                ('classifier', LinearRegression())])\n"
          ]
        }
      ],
      "source": [
        "values3 = get_metrics(model_linearregression_pipe, features_train, target_train, features_valid, target_valid)"
      ]
    },
    {
      "cell_type": "markdown",
      "metadata": {
        "id": "myXN5JbAj98-"
      },
      "source": [
        "### Вывод:\n",
        "- Cобрали метрики работы 3-х моделей. Проанализируем их"
      ]
    },
    {
      "cell_type": "markdown",
      "metadata": {
        "id": "XSZy1W2Aj98-"
      },
      "source": [
        "## Анализ моделей"
      ]
    },
    {
      "cell_type": "markdown",
      "metadata": {
        "id": "YWnxM3HFj98-"
      },
      "source": [
        "Сформируем таблицу метрик"
      ]
    },
    {
      "cell_type": "code",
      "execution_count": null,
      "metadata": {
        "id": "WlEBriXXj98_"
      },
      "outputs": [],
      "source": [
        "best_model = pd.DataFrame({'name_model':[\"LGBMRegressor\",\"CatBoostRegressor\",\"LinearRegression\"],\\\n",
        "                       \"train_time\":[values1[\"train_time\"],values2[\"train_time\"],values3[\"train_time\"]],\\\n",
        "                       \"prediction_time\":[values1[\"prediction_time\"],values2[\"prediction_time\"],values3[\"prediction_time\"]],\\\n",
        "                       \"RMSE\":[values1[\"RMSE\"],values2[\"RMSE\"],values3[\"RMSE\"]]})"
      ]
    },
    {
      "cell_type": "markdown",
      "metadata": {
        "id": "DQHMhMqaj98_"
      },
      "source": [
        "Выведем на экран метрики работы моделей"
      ]
    },
    {
      "cell_type": "code",
      "execution_count": null,
      "metadata": {
        "id": "WErrT3bJj98_",
        "outputId": "a6c9217a-e90a-4603-848b-7d81736ba37f"
      },
      "outputs": [
        {
          "name": "stdout",
          "output_type": "stream",
          "text": [
            "Метрики работы моделей\n"
          ]
        },
        {
          "data": {
            "text/html": [
              "<div>\n",
              "<style scoped>\n",
              "    .dataframe tbody tr th:only-of-type {\n",
              "        vertical-align: middle;\n",
              "    }\n",
              "\n",
              "    .dataframe tbody tr th {\n",
              "        vertical-align: top;\n",
              "    }\n",
              "\n",
              "    .dataframe thead th {\n",
              "        text-align: right;\n",
              "    }\n",
              "</style>\n",
              "<table border=\"1\" class=\"dataframe\">\n",
              "  <thead>\n",
              "    <tr style=\"text-align: right;\">\n",
              "      <th></th>\n",
              "      <th>name_model</th>\n",
              "      <th>train_time</th>\n",
              "      <th>prediction_time</th>\n",
              "      <th>RMSE</th>\n",
              "    </tr>\n",
              "  </thead>\n",
              "  <tbody>\n",
              "    <tr>\n",
              "      <th>0</th>\n",
              "      <td>LGBMRegressor</td>\n",
              "      <td>3.394967</td>\n",
              "      <td>0.402072</td>\n",
              "      <td>1665.828446</td>\n",
              "    </tr>\n",
              "    <tr>\n",
              "      <th>1</th>\n",
              "      <td>CatBoostRegressor</td>\n",
              "      <td>7.125461</td>\n",
              "      <td>0.047881</td>\n",
              "      <td>1720.219559</td>\n",
              "    </tr>\n",
              "    <tr>\n",
              "      <th>2</th>\n",
              "      <td>LinearRegression</td>\n",
              "      <td>19.186854</td>\n",
              "      <td>0.248373</td>\n",
              "      <td>2628.973224</td>\n",
              "    </tr>\n",
              "  </tbody>\n",
              "</table>\n",
              "</div>"
            ],
            "text/plain": [
              "          name_model  train_time  prediction_time         RMSE\n",
              "0      LGBMRegressor    3.394967         0.402072  1665.828446\n",
              "1  CatBoostRegressor    7.125461         0.047881  1720.219559\n",
              "2   LinearRegression   19.186854         0.248373  2628.973224"
            ]
          },
          "metadata": {},
          "output_type": "display_data"
        }
      ],
      "source": [
        "print('Метрики работы моделей')\n",
        "display(best_model.sort_values(by =[\"RMSE\"], ascending = True))"
      ]
    },
    {
      "cell_type": "markdown",
      "metadata": {
        "id": "HUhmqwVNj99A"
      },
      "source": [
        "#### Вывод:\n",
        "- LGBMRegressor - лучшая модель по соотношению скорости работы к качеству предсказаний"
      ]
    },
    {
      "cell_type": "markdown",
      "metadata": {
        "id": "RRTrUD3bj99A"
      },
      "source": [
        "Проверим выбранную модель на тестовой выборке"
      ]
    },
    {
      "cell_type": "code",
      "execution_count": null,
      "metadata": {
        "scrolled": true,
        "id": "E8R5H425j99A",
        "outputId": "1f2521c5-386e-41f9-d4bd-98e4a85176dd"
      },
      "outputs": [
        {
          "name": "stdout",
          "output_type": "stream",
          "text": [
            "[LightGBM] [Warning] Auto-choosing row-wise multi-threading, the overhead of testing was 0.006094 seconds.\n",
            "You can set `force_row_wise=true` to remove the overhead.\n",
            "And if memory is not enough, you can set `force_col_wise=true`.\n",
            "RMSE: 1650.2798332718837\n"
          ]
        }
      ],
      "source": [
        "model = model_lgbm_grid.best_estimator_\n",
        "model.fit(features_train_full, target_train_full)\n",
        "prediction = model.predict(features_test)\n",
        "rmse = mse(target_test, prediction, squared=False)\n",
        "print('RMSE:', rmse)"
      ]
    },
    {
      "cell_type": "markdown",
      "metadata": {
        "id": "GMHTRQPyj99B"
      },
      "source": [
        "### Итоговый вывод:  \n",
        "В рамках проекта по созданию приложения для определения рыночной стоимости автомобилей с пробегом были построены и обучены три модели.\n",
        "Лучшей моделью по соотношению скорости работы к качеству предсказаний стала LGBMRegressor с RMSE = 1665, временем обучения train_time = 3.3 и временем предсказания prediction_time = 0,4. Модель CatBoostRegressor показало самое быстрое время предсказания = 0.047 при схожем качестве, однако время обучения выше, чем у LGBMRegressor (train_time = 7.1)\n",
        "\n",
        "Итоговое значение RMSE модели LGBMRegressor на тестовой выборке составило 1650. По заданию у нас было значение метрики RMSE должно быть меньше 2500, подходит."
      ]
    }
  ],
  "metadata": {
    "ExecuteTimeLog": [
      {
        "duration": 1627,
        "start_time": "2022-10-15T22:28:17.104Z"
      },
      {
        "duration": 5,
        "start_time": "2022-10-15T22:28:40.894Z"
      },
      {
        "duration": 3213,
        "start_time": "2022-10-15T22:29:16.383Z"
      },
      {
        "duration": 137,
        "start_time": "2022-10-15T22:29:42.039Z"
      },
      {
        "duration": 93,
        "start_time": "2022-10-15T22:30:27.865Z"
      },
      {
        "duration": 600,
        "start_time": "2022-10-15T22:30:50.818Z"
      },
      {
        "duration": 558,
        "start_time": "2022-10-15T22:31:17.507Z"
      },
      {
        "duration": 283,
        "start_time": "2022-10-15T22:32:10.502Z"
      },
      {
        "duration": 438,
        "start_time": "2022-10-15T22:32:54.006Z"
      },
      {
        "duration": 117,
        "start_time": "2022-10-15T22:33:27.184Z"
      },
      {
        "duration": 525,
        "start_time": "2022-10-15T22:33:52.448Z"
      },
      {
        "duration": 2,
        "start_time": "2022-10-15T22:36:11.989Z"
      },
      {
        "duration": 5832,
        "start_time": "2022-10-15T22:36:26.166Z"
      },
      {
        "duration": 112,
        "start_time": "2022-10-15T22:37:02.647Z"
      },
      {
        "duration": 5607,
        "start_time": "2022-10-15T22:37:44.024Z"
      },
      {
        "duration": 9,
        "start_time": "2022-10-15T22:38:01.657Z"
      },
      {
        "duration": 11,
        "start_time": "2022-10-15T22:38:05.009Z"
      },
      {
        "duration": 103,
        "start_time": "2022-10-15T22:38:40.866Z"
      },
      {
        "duration": 31,
        "start_time": "2022-10-15T22:43:01.835Z"
      },
      {
        "duration": 141,
        "start_time": "2022-10-15T22:44:09.653Z"
      },
      {
        "duration": 192,
        "start_time": "2022-10-15T22:44:24.142Z"
      },
      {
        "duration": 236,
        "start_time": "2022-10-15T22:44:35.517Z"
      },
      {
        "duration": 340,
        "start_time": "2022-10-15T22:44:42.598Z"
      },
      {
        "duration": 20,
        "start_time": "2022-10-15T22:46:03.769Z"
      },
      {
        "duration": 82,
        "start_time": "2022-10-15T22:46:14.610Z"
      },
      {
        "duration": 12,
        "start_time": "2022-10-15T22:50:30.897Z"
      },
      {
        "duration": 8,
        "start_time": "2022-10-15T22:50:37.258Z"
      },
      {
        "duration": 260,
        "start_time": "2022-10-15T22:53:43.384Z"
      },
      {
        "duration": 238,
        "start_time": "2022-10-15T22:53:54.519Z"
      },
      {
        "duration": 284,
        "start_time": "2022-10-15T22:54:05.121Z"
      },
      {
        "duration": 16,
        "start_time": "2022-10-15T22:55:32.563Z"
      },
      {
        "duration": 15,
        "start_time": "2022-10-15T22:56:51.270Z"
      },
      {
        "duration": 75,
        "start_time": "2022-10-15T22:57:59.002Z"
      },
      {
        "duration": 75,
        "start_time": "2022-10-15T22:59:18.412Z"
      },
      {
        "duration": 6,
        "start_time": "2022-10-15T22:59:26.906Z"
      },
      {
        "duration": 8,
        "start_time": "2022-10-15T22:59:26.915Z"
      },
      {
        "duration": 771,
        "start_time": "2022-10-15T22:59:26.925Z"
      },
      {
        "duration": 134,
        "start_time": "2022-10-15T22:59:27.698Z"
      },
      {
        "duration": 107,
        "start_time": "2022-10-15T22:59:27.834Z"
      },
      {
        "duration": 618,
        "start_time": "2022-10-15T22:59:27.943Z"
      },
      {
        "duration": 308,
        "start_time": "2022-10-15T22:59:28.562Z"
      },
      {
        "duration": 460,
        "start_time": "2022-10-15T22:59:28.871Z"
      },
      {
        "duration": 129,
        "start_time": "2022-10-15T22:59:29.332Z"
      },
      {
        "duration": 527,
        "start_time": "2022-10-15T22:59:29.462Z"
      },
      {
        "duration": 33,
        "start_time": "2022-10-15T22:59:29.991Z"
      },
      {
        "duration": 275,
        "start_time": "2022-10-15T22:59:30.025Z"
      },
      {
        "duration": 72,
        "start_time": "2022-10-15T22:59:30.302Z"
      },
      {
        "duration": 24,
        "start_time": "2022-10-15T22:59:30.377Z"
      },
      {
        "duration": 318,
        "start_time": "2022-10-15T22:59:30.404Z"
      },
      {
        "duration": 17,
        "start_time": "2022-10-15T22:59:30.724Z"
      },
      {
        "duration": 72,
        "start_time": "2022-10-15T22:59:30.743Z"
      },
      {
        "duration": 178,
        "start_time": "2022-10-15T23:00:33.252Z"
      },
      {
        "duration": 12,
        "start_time": "2022-10-15T23:02:47.916Z"
      },
      {
        "duration": 865,
        "start_time": "2022-10-15T23:08:15.316Z"
      },
      {
        "duration": 4,
        "start_time": "2022-10-15T23:08:40.091Z"
      },
      {
        "duration": 12,
        "start_time": "2022-10-15T23:08:40.097Z"
      },
      {
        "duration": 861,
        "start_time": "2022-10-15T23:08:40.111Z"
      },
      {
        "duration": 110,
        "start_time": "2022-10-15T23:08:40.974Z"
      },
      {
        "duration": 95,
        "start_time": "2022-10-15T23:08:41.086Z"
      },
      {
        "duration": 354,
        "start_time": "2022-10-15T23:08:41.182Z"
      },
      {
        "duration": 121,
        "start_time": "2022-10-15T23:08:41.538Z"
      },
      {
        "duration": 265,
        "start_time": "2022-10-15T23:08:41.663Z"
      },
      {
        "duration": 78,
        "start_time": "2022-10-15T23:08:41.930Z"
      },
      {
        "duration": 3792,
        "start_time": "2022-10-15T23:08:42.010Z"
      },
      {
        "duration": 32,
        "start_time": "2022-10-15T23:08:45.804Z"
      },
      {
        "duration": 241,
        "start_time": "2022-10-15T23:08:45.837Z"
      },
      {
        "duration": 70,
        "start_time": "2022-10-15T23:08:46.080Z"
      },
      {
        "duration": 6,
        "start_time": "2022-10-15T23:08:46.153Z"
      },
      {
        "duration": 291,
        "start_time": "2022-10-15T23:08:46.160Z"
      },
      {
        "duration": 16,
        "start_time": "2022-10-15T23:08:46.452Z"
      },
      {
        "duration": 45,
        "start_time": "2022-10-15T23:08:46.469Z"
      },
      {
        "duration": 36,
        "start_time": "2022-10-15T23:09:13.135Z"
      },
      {
        "duration": 91,
        "start_time": "2022-10-15T23:09:22.783Z"
      },
      {
        "duration": 84,
        "start_time": "2022-10-15T23:09:59.729Z"
      },
      {
        "duration": 96,
        "start_time": "2022-10-15T23:10:17.137Z"
      },
      {
        "duration": 111,
        "start_time": "2022-10-15T23:10:24.385Z"
      },
      {
        "duration": 108,
        "start_time": "2022-10-15T23:11:08.995Z"
      },
      {
        "duration": 13,
        "start_time": "2022-10-15T23:12:06.140Z"
      },
      {
        "duration": 6,
        "start_time": "2022-10-15T23:13:32.343Z"
      },
      {
        "duration": 14,
        "start_time": "2022-10-15T23:13:42.920Z"
      },
      {
        "duration": 197,
        "start_time": "2022-10-15T23:13:50.376Z"
      },
      {
        "duration": 7,
        "start_time": "2022-10-15T23:15:11.867Z"
      },
      {
        "duration": 9,
        "start_time": "2022-10-15T23:17:31.192Z"
      },
      {
        "duration": 18,
        "start_time": "2022-10-15T23:17:37.697Z"
      },
      {
        "duration": 8,
        "start_time": "2022-10-15T23:17:48.048Z"
      },
      {
        "duration": 185,
        "start_time": "2022-10-15T23:18:05.481Z"
      },
      {
        "duration": 198,
        "start_time": "2022-10-15T23:18:23.697Z"
      },
      {
        "duration": 231,
        "start_time": "2022-10-15T23:18:29.225Z"
      },
      {
        "duration": 220,
        "start_time": "2022-10-15T23:18:36.002Z"
      },
      {
        "duration": 10,
        "start_time": "2022-10-15T23:22:14.369Z"
      },
      {
        "duration": 8,
        "start_time": "2022-10-15T23:23:18.508Z"
      },
      {
        "duration": 339,
        "start_time": "2022-10-15T23:24:19.853Z"
      },
      {
        "duration": 6,
        "start_time": "2022-10-15T23:24:49.103Z"
      },
      {
        "duration": 351,
        "start_time": "2022-10-15T23:24:54.335Z"
      },
      {
        "duration": 491,
        "start_time": "2022-10-15T23:25:26.959Z"
      },
      {
        "duration": 6,
        "start_time": "2022-10-15T23:27:51.469Z"
      },
      {
        "duration": 12,
        "start_time": "2022-10-15T23:28:06.429Z"
      },
      {
        "duration": 47,
        "start_time": "2022-10-15T23:28:54.271Z"
      },
      {
        "duration": 76,
        "start_time": "2022-10-15T23:29:01.063Z"
      },
      {
        "duration": 5,
        "start_time": "2022-10-15T23:29:20.773Z"
      },
      {
        "duration": 7,
        "start_time": "2022-10-15T23:29:20.780Z"
      },
      {
        "duration": 917,
        "start_time": "2022-10-15T23:29:20.789Z"
      },
      {
        "duration": 110,
        "start_time": "2022-10-15T23:29:21.708Z"
      },
      {
        "duration": 101,
        "start_time": "2022-10-15T23:29:21.820Z"
      },
      {
        "duration": 361,
        "start_time": "2022-10-15T23:29:21.922Z"
      },
      {
        "duration": 124,
        "start_time": "2022-10-15T23:29:22.285Z"
      },
      {
        "duration": 239,
        "start_time": "2022-10-15T23:29:22.411Z"
      },
      {
        "duration": 85,
        "start_time": "2022-10-15T23:29:22.652Z"
      },
      {
        "duration": 3921,
        "start_time": "2022-10-15T23:29:22.739Z"
      },
      {
        "duration": 22,
        "start_time": "2022-10-15T23:29:26.662Z"
      },
      {
        "duration": 255,
        "start_time": "2022-10-15T23:29:26.685Z"
      },
      {
        "duration": 54,
        "start_time": "2022-10-15T23:29:26.942Z"
      },
      {
        "duration": 7,
        "start_time": "2022-10-15T23:29:26.998Z"
      },
      {
        "duration": 292,
        "start_time": "2022-10-15T23:29:27.007Z"
      },
      {
        "duration": 19,
        "start_time": "2022-10-15T23:29:27.301Z"
      },
      {
        "duration": 118,
        "start_time": "2022-10-15T23:29:27.321Z"
      },
      {
        "duration": 13,
        "start_time": "2022-10-15T23:29:27.440Z"
      },
      {
        "duration": 225,
        "start_time": "2022-10-15T23:29:27.455Z"
      },
      {
        "duration": 15,
        "start_time": "2022-10-15T23:29:27.682Z"
      },
      {
        "duration": 11,
        "start_time": "2022-10-15T23:29:27.699Z"
      },
      {
        "duration": 237,
        "start_time": "2022-10-15T23:29:27.712Z"
      },
      {
        "duration": 10,
        "start_time": "2022-10-15T23:29:27.951Z"
      },
      {
        "duration": 6,
        "start_time": "2022-10-15T23:29:27.964Z"
      },
      {
        "duration": 409,
        "start_time": "2022-10-15T23:29:27.972Z"
      },
      {
        "duration": 471,
        "start_time": "2022-10-15T23:29:28.383Z"
      },
      {
        "duration": 13,
        "start_time": "2022-10-15T23:29:28.856Z"
      },
      {
        "duration": 58,
        "start_time": "2022-10-15T23:29:28.871Z"
      },
      {
        "duration": 356,
        "start_time": "2022-10-15T23:29:53.361Z"
      },
      {
        "duration": 365,
        "start_time": "2022-10-15T23:30:01.857Z"
      },
      {
        "duration": 426,
        "start_time": "2022-10-15T23:30:09.777Z"
      },
      {
        "duration": 12,
        "start_time": "2022-10-15T23:34:33.395Z"
      },
      {
        "duration": 18,
        "start_time": "2022-10-15T23:34:40.050Z"
      },
      {
        "duration": 274,
        "start_time": "2022-10-15T23:35:08.187Z"
      },
      {
        "duration": 11,
        "start_time": "2022-10-15T23:36:13.421Z"
      },
      {
        "duration": 194,
        "start_time": "2022-10-15T23:36:38.094Z"
      },
      {
        "duration": 217,
        "start_time": "2022-10-15T23:37:16.839Z"
      },
      {
        "duration": 178,
        "start_time": "2022-10-15T23:38:43.932Z"
      },
      {
        "duration": 380,
        "start_time": "2022-10-15T23:42:53.667Z"
      },
      {
        "duration": 160,
        "start_time": "2022-10-15T23:57:27.623Z"
      },
      {
        "duration": 182,
        "start_time": "2022-10-15T23:59:42.261Z"
      },
      {
        "duration": 15,
        "start_time": "2022-10-16T00:01:32.233Z"
      },
      {
        "duration": 4,
        "start_time": "2022-10-16T00:01:40.720Z"
      },
      {
        "duration": 6,
        "start_time": "2022-10-16T00:01:40.726Z"
      },
      {
        "duration": 800,
        "start_time": "2022-10-16T00:01:40.734Z"
      },
      {
        "duration": 101,
        "start_time": "2022-10-16T00:01:41.536Z"
      },
      {
        "duration": 104,
        "start_time": "2022-10-16T00:01:41.638Z"
      },
      {
        "duration": 328,
        "start_time": "2022-10-16T00:01:41.744Z"
      },
      {
        "duration": 100,
        "start_time": "2022-10-16T00:01:42.073Z"
      },
      {
        "duration": 225,
        "start_time": "2022-10-16T00:01:42.175Z"
      },
      {
        "duration": 66,
        "start_time": "2022-10-16T00:01:42.402Z"
      },
      {
        "duration": 3678,
        "start_time": "2022-10-16T00:01:42.470Z"
      },
      {
        "duration": 25,
        "start_time": "2022-10-16T00:01:46.149Z"
      },
      {
        "duration": 222,
        "start_time": "2022-10-16T00:01:46.175Z"
      },
      {
        "duration": 53,
        "start_time": "2022-10-16T00:01:46.398Z"
      },
      {
        "duration": 6,
        "start_time": "2022-10-16T00:01:46.453Z"
      },
      {
        "duration": 274,
        "start_time": "2022-10-16T00:01:46.460Z"
      },
      {
        "duration": 17,
        "start_time": "2022-10-16T00:01:46.736Z"
      },
      {
        "duration": 109,
        "start_time": "2022-10-16T00:01:46.754Z"
      },
      {
        "duration": 13,
        "start_time": "2022-10-16T00:01:46.865Z"
      },
      {
        "duration": 211,
        "start_time": "2022-10-16T00:01:46.880Z"
      },
      {
        "duration": 8,
        "start_time": "2022-10-16T00:01:47.095Z"
      },
      {
        "duration": 11,
        "start_time": "2022-10-16T00:01:47.104Z"
      },
      {
        "duration": 322,
        "start_time": "2022-10-16T00:01:47.116Z"
      },
      {
        "duration": 9,
        "start_time": "2022-10-16T00:01:47.440Z"
      },
      {
        "duration": 5,
        "start_time": "2022-10-16T00:01:47.451Z"
      },
      {
        "duration": 344,
        "start_time": "2022-10-16T00:01:47.458Z"
      },
      {
        "duration": 445,
        "start_time": "2022-10-16T00:01:47.803Z"
      },
      {
        "duration": 13,
        "start_time": "2022-10-16T00:01:48.249Z"
      },
      {
        "duration": 49,
        "start_time": "2022-10-16T00:01:48.264Z"
      },
      {
        "duration": 399,
        "start_time": "2022-10-16T00:01:48.315Z"
      },
      {
        "duration": 13,
        "start_time": "2022-10-16T00:01:48.715Z"
      },
      {
        "duration": 0,
        "start_time": "2022-10-16T00:01:48.729Z"
      },
      {
        "duration": 0,
        "start_time": "2022-10-16T00:01:48.730Z"
      },
      {
        "duration": 0,
        "start_time": "2022-10-16T00:01:48.732Z"
      },
      {
        "duration": 0,
        "start_time": "2022-10-16T00:01:48.732Z"
      },
      {
        "duration": 0,
        "start_time": "2022-10-16T00:01:48.734Z"
      },
      {
        "duration": 0,
        "start_time": "2022-10-16T00:01:48.735Z"
      },
      {
        "duration": 3,
        "start_time": "2022-10-16T00:03:23.572Z"
      },
      {
        "duration": 4,
        "start_time": "2022-10-16T00:03:23.578Z"
      },
      {
        "duration": 833,
        "start_time": "2022-10-16T00:03:23.583Z"
      },
      {
        "duration": 96,
        "start_time": "2022-10-16T00:03:24.418Z"
      },
      {
        "duration": 98,
        "start_time": "2022-10-16T00:03:24.516Z"
      },
      {
        "duration": 352,
        "start_time": "2022-10-16T00:03:24.616Z"
      },
      {
        "duration": 101,
        "start_time": "2022-10-16T00:03:24.970Z"
      },
      {
        "duration": 244,
        "start_time": "2022-10-16T00:03:25.073Z"
      },
      {
        "duration": 76,
        "start_time": "2022-10-16T00:03:25.319Z"
      },
      {
        "duration": 3706,
        "start_time": "2022-10-16T00:03:25.399Z"
      },
      {
        "duration": 220,
        "start_time": "2022-10-16T00:03:29.107Z"
      },
      {
        "duration": 50,
        "start_time": "2022-10-16T00:03:29.329Z"
      },
      {
        "duration": 19,
        "start_time": "2022-10-16T00:03:29.381Z"
      },
      {
        "duration": 268,
        "start_time": "2022-10-16T00:03:29.402Z"
      },
      {
        "duration": 25,
        "start_time": "2022-10-16T00:03:29.671Z"
      },
      {
        "duration": 105,
        "start_time": "2022-10-16T00:03:29.698Z"
      },
      {
        "duration": 15,
        "start_time": "2022-10-16T00:03:29.805Z"
      },
      {
        "duration": 224,
        "start_time": "2022-10-16T00:03:29.822Z"
      },
      {
        "duration": 8,
        "start_time": "2022-10-16T00:03:30.049Z"
      },
      {
        "duration": 17,
        "start_time": "2022-10-16T00:03:30.059Z"
      },
      {
        "duration": 356,
        "start_time": "2022-10-16T00:03:30.078Z"
      },
      {
        "duration": 12,
        "start_time": "2022-10-16T00:03:30.436Z"
      },
      {
        "duration": 7,
        "start_time": "2022-10-16T00:03:30.450Z"
      },
      {
        "duration": 356,
        "start_time": "2022-10-16T00:03:30.458Z"
      },
      {
        "duration": 433,
        "start_time": "2022-10-16T00:03:30.817Z"
      },
      {
        "duration": 13,
        "start_time": "2022-10-16T00:03:31.251Z"
      },
      {
        "duration": 52,
        "start_time": "2022-10-16T00:03:31.266Z"
      },
      {
        "duration": 392,
        "start_time": "2022-10-16T00:03:31.321Z"
      },
      {
        "duration": 19,
        "start_time": "2022-10-16T00:03:31.714Z"
      },
      {
        "duration": 246,
        "start_time": "2022-10-16T00:03:31.735Z"
      },
      {
        "duration": 18,
        "start_time": "2022-10-16T00:03:31.983Z"
      },
      {
        "duration": 183,
        "start_time": "2022-10-16T00:03:32.003Z"
      },
      {
        "duration": 340,
        "start_time": "2022-10-16T00:03:32.188Z"
      },
      {
        "duration": 165,
        "start_time": "2022-10-16T00:03:32.530Z"
      },
      {
        "duration": 192,
        "start_time": "2022-10-16T00:03:32.697Z"
      },
      {
        "duration": 137,
        "start_time": "2022-10-16T00:05:35.026Z"
      },
      {
        "duration": 3,
        "start_time": "2022-10-16T00:09:41.273Z"
      },
      {
        "duration": 139,
        "start_time": "2022-10-16T00:10:09.049Z"
      },
      {
        "duration": 57,
        "start_time": "2022-10-16T00:11:27.549Z"
      },
      {
        "duration": 12,
        "start_time": "2022-10-16T00:11:41.413Z"
      },
      {
        "duration": 11,
        "start_time": "2022-10-16T00:12:28.278Z"
      },
      {
        "duration": 4,
        "start_time": "2022-10-16T00:12:55.767Z"
      },
      {
        "duration": 3,
        "start_time": "2022-10-16T00:13:11.176Z"
      },
      {
        "duration": 5,
        "start_time": "2022-10-16T00:13:31.952Z"
      },
      {
        "duration": 3,
        "start_time": "2022-10-16T00:13:45.042Z"
      },
      {
        "duration": 6,
        "start_time": "2022-10-16T00:14:20.850Z"
      },
      {
        "duration": 6,
        "start_time": "2022-10-16T00:14:37.491Z"
      },
      {
        "duration": 4,
        "start_time": "2022-10-16T00:15:08.773Z"
      },
      {
        "duration": 4,
        "start_time": "2022-10-16T00:17:06.408Z"
      },
      {
        "duration": 217979,
        "start_time": "2022-10-16T00:17:25.218Z"
      },
      {
        "duration": 3737,
        "start_time": "2022-10-16T00:22:33.672Z"
      },
      {
        "duration": 4,
        "start_time": "2022-10-16T00:23:22.588Z"
      },
      {
        "duration": 343362,
        "start_time": "2022-10-16T00:23:41.142Z"
      },
      {
        "duration": 7159,
        "start_time": "2022-10-16T00:30:09.450Z"
      },
      {
        "duration": 3,
        "start_time": "2022-10-16T00:31:23.861Z"
      },
      {
        "duration": 3363,
        "start_time": "2022-10-16T00:31:43.637Z"
      },
      {
        "duration": 3343,
        "start_time": "2022-10-16T00:32:05.758Z"
      },
      {
        "duration": 4,
        "start_time": "2022-10-16T00:36:50.569Z"
      },
      {
        "duration": 9,
        "start_time": "2022-10-16T00:37:14.113Z"
      },
      {
        "duration": 4590,
        "start_time": "2022-10-16T00:38:02.324Z"
      },
      {
        "duration": 3465,
        "start_time": "2022-10-16T05:01:26.704Z"
      },
      {
        "duration": 4,
        "start_time": "2022-10-16T05:01:30.171Z"
      },
      {
        "duration": 3726,
        "start_time": "2022-10-16T05:01:30.176Z"
      },
      {
        "duration": 122,
        "start_time": "2022-10-16T05:01:33.904Z"
      },
      {
        "duration": 100,
        "start_time": "2022-10-16T05:01:34.028Z"
      },
      {
        "duration": 428,
        "start_time": "2022-10-16T05:01:34.130Z"
      },
      {
        "duration": 118,
        "start_time": "2022-10-16T05:01:34.559Z"
      },
      {
        "duration": 290,
        "start_time": "2022-10-16T05:01:34.679Z"
      },
      {
        "duration": 95,
        "start_time": "2022-10-16T05:01:34.970Z"
      },
      {
        "duration": 3811,
        "start_time": "2022-10-16T05:01:35.067Z"
      },
      {
        "duration": 276,
        "start_time": "2022-10-16T05:01:38.880Z"
      },
      {
        "duration": 57,
        "start_time": "2022-10-16T05:01:39.158Z"
      },
      {
        "duration": 7,
        "start_time": "2022-10-16T05:01:39.216Z"
      },
      {
        "duration": 330,
        "start_time": "2022-10-16T05:01:39.227Z"
      },
      {
        "duration": 16,
        "start_time": "2022-10-16T05:01:39.558Z"
      },
      {
        "duration": 123,
        "start_time": "2022-10-16T05:01:39.577Z"
      },
      {
        "duration": 15,
        "start_time": "2022-10-16T05:01:39.702Z"
      },
      {
        "duration": 247,
        "start_time": "2022-10-16T05:01:39.719Z"
      },
      {
        "duration": 7,
        "start_time": "2022-10-16T05:01:39.968Z"
      },
      {
        "duration": 20,
        "start_time": "2022-10-16T05:01:39.978Z"
      },
      {
        "duration": 264,
        "start_time": "2022-10-16T05:01:40.000Z"
      },
      {
        "duration": 11,
        "start_time": "2022-10-16T05:01:40.266Z"
      },
      {
        "duration": 7,
        "start_time": "2022-10-16T05:01:40.289Z"
      },
      {
        "duration": 529,
        "start_time": "2022-10-16T05:01:40.298Z"
      },
      {
        "duration": 493,
        "start_time": "2022-10-16T05:01:40.829Z"
      },
      {
        "duration": 13,
        "start_time": "2022-10-16T05:01:41.324Z"
      },
      {
        "duration": 66,
        "start_time": "2022-10-16T05:01:41.339Z"
      },
      {
        "duration": 438,
        "start_time": "2022-10-16T05:01:41.407Z"
      },
      {
        "duration": 23,
        "start_time": "2022-10-16T05:01:41.847Z"
      },
      {
        "duration": 328,
        "start_time": "2022-10-16T05:01:41.873Z"
      },
      {
        "duration": 12,
        "start_time": "2022-10-16T05:01:42.203Z"
      },
      {
        "duration": 230,
        "start_time": "2022-10-16T05:01:42.216Z"
      },
      {
        "duration": 244,
        "start_time": "2022-10-16T05:01:42.448Z"
      },
      {
        "duration": 208,
        "start_time": "2022-10-16T05:01:42.693Z"
      },
      {
        "duration": 228,
        "start_time": "2022-10-16T05:01:42.903Z"
      },
      {
        "duration": 199,
        "start_time": "2022-10-16T05:01:43.133Z"
      },
      {
        "duration": 4,
        "start_time": "2022-10-16T05:01:43.335Z"
      },
      {
        "duration": 171,
        "start_time": "2022-10-16T05:01:43.341Z"
      },
      {
        "duration": 58,
        "start_time": "2022-10-16T05:01:43.513Z"
      },
      {
        "duration": 24,
        "start_time": "2022-10-16T05:01:43.573Z"
      },
      {
        "duration": 5,
        "start_time": "2022-10-16T05:01:43.602Z"
      },
      {
        "duration": 9,
        "start_time": "2022-10-16T05:01:43.609Z"
      },
      {
        "duration": 9,
        "start_time": "2022-10-16T05:02:39.655Z"
      },
      {
        "duration": 4,
        "start_time": "2022-10-16T05:02:52.928Z"
      },
      {
        "duration": 266537,
        "start_time": "2022-10-16T05:03:09.290Z"
      },
      {
        "duration": 97,
        "start_time": "2022-10-16T05:07:40.589Z"
      },
      {
        "duration": 1032,
        "start_time": "2022-10-16T05:07:49.813Z"
      },
      {
        "duration": 14,
        "start_time": "2022-10-16T05:08:49.387Z"
      },
      {
        "duration": 4,
        "start_time": "2022-10-16T05:09:13.648Z"
      },
      {
        "duration": 290102,
        "start_time": "2022-10-16T05:09:17.795Z"
      },
      {
        "duration": 471,
        "start_time": "2022-10-16T05:14:39.661Z"
      },
      {
        "duration": 433,
        "start_time": "2022-10-16T05:15:07.621Z"
      },
      {
        "duration": 3711,
        "start_time": "2022-10-16T05:17:56.142Z"
      },
      {
        "duration": 52,
        "start_time": "2022-10-16T05:21:01.625Z"
      },
      {
        "duration": 2112,
        "start_time": "2022-10-16T05:21:17.641Z"
      },
      {
        "duration": 3,
        "start_time": "2022-10-16T05:21:19.755Z"
      },
      {
        "duration": 3249,
        "start_time": "2022-10-16T05:21:19.759Z"
      },
      {
        "duration": 126,
        "start_time": "2022-10-16T05:21:23.010Z"
      },
      {
        "duration": 106,
        "start_time": "2022-10-16T05:21:23.137Z"
      },
      {
        "duration": 425,
        "start_time": "2022-10-16T05:21:23.244Z"
      },
      {
        "duration": 128,
        "start_time": "2022-10-16T05:21:23.671Z"
      },
      {
        "duration": 315,
        "start_time": "2022-10-16T05:21:23.800Z"
      },
      {
        "duration": 98,
        "start_time": "2022-10-16T05:21:24.117Z"
      },
      {
        "duration": 3758,
        "start_time": "2022-10-16T05:21:24.219Z"
      },
      {
        "duration": 257,
        "start_time": "2022-10-16T05:21:27.978Z"
      },
      {
        "duration": 64,
        "start_time": "2022-10-16T05:21:28.237Z"
      },
      {
        "duration": 6,
        "start_time": "2022-10-16T05:21:28.303Z"
      },
      {
        "duration": 319,
        "start_time": "2022-10-16T05:21:28.311Z"
      },
      {
        "duration": 16,
        "start_time": "2022-10-16T05:21:28.632Z"
      },
      {
        "duration": 119,
        "start_time": "2022-10-16T05:21:28.650Z"
      },
      {
        "duration": 25,
        "start_time": "2022-10-16T05:21:28.770Z"
      },
      {
        "duration": 254,
        "start_time": "2022-10-16T05:21:28.797Z"
      },
      {
        "duration": 8,
        "start_time": "2022-10-16T05:21:29.053Z"
      },
      {
        "duration": 27,
        "start_time": "2022-10-16T05:21:29.062Z"
      },
      {
        "duration": 258,
        "start_time": "2022-10-16T05:21:29.091Z"
      },
      {
        "duration": 13,
        "start_time": "2022-10-16T05:21:29.351Z"
      },
      {
        "duration": 25,
        "start_time": "2022-10-16T05:21:29.366Z"
      },
      {
        "duration": 459,
        "start_time": "2022-10-16T05:21:29.393Z"
      },
      {
        "duration": 505,
        "start_time": "2022-10-16T05:21:29.854Z"
      },
      {
        "duration": 14,
        "start_time": "2022-10-16T05:21:30.361Z"
      },
      {
        "duration": 66,
        "start_time": "2022-10-16T05:21:30.377Z"
      },
      {
        "duration": 450,
        "start_time": "2022-10-16T05:21:30.447Z"
      },
      {
        "duration": 20,
        "start_time": "2022-10-16T05:21:30.898Z"
      },
      {
        "duration": 310,
        "start_time": "2022-10-16T05:21:30.919Z"
      },
      {
        "duration": 12,
        "start_time": "2022-10-16T05:21:31.230Z"
      },
      {
        "duration": 228,
        "start_time": "2022-10-16T05:21:31.244Z"
      },
      {
        "duration": 251,
        "start_time": "2022-10-16T05:21:31.475Z"
      },
      {
        "duration": 232,
        "start_time": "2022-10-16T05:21:31.728Z"
      },
      {
        "duration": 272,
        "start_time": "2022-10-16T05:21:31.962Z"
      },
      {
        "duration": 213,
        "start_time": "2022-10-16T05:21:32.235Z"
      },
      {
        "duration": 3,
        "start_time": "2022-10-16T05:21:32.450Z"
      },
      {
        "duration": 182,
        "start_time": "2022-10-16T05:21:32.454Z"
      },
      {
        "duration": 72,
        "start_time": "2022-10-16T05:21:32.637Z"
      },
      {
        "duration": 20,
        "start_time": "2022-10-16T05:21:32.711Z"
      },
      {
        "duration": 6,
        "start_time": "2022-10-16T05:21:32.733Z"
      },
      {
        "duration": 6,
        "start_time": "2022-10-16T05:21:32.740Z"
      },
      {
        "duration": 4,
        "start_time": "2022-10-16T05:21:44.406Z"
      },
      {
        "duration": 3956,
        "start_time": "2022-10-16T05:21:48.765Z"
      },
      {
        "duration": 479,
        "start_time": "2022-10-16T05:25:55.815Z"
      },
      {
        "duration": 421,
        "start_time": "2022-10-16T05:26:09.054Z"
      },
      {
        "duration": 2124,
        "start_time": "2022-10-16T05:27:12.067Z"
      },
      {
        "duration": 3,
        "start_time": "2022-10-16T05:27:14.193Z"
      },
      {
        "duration": 3542,
        "start_time": "2022-10-16T05:27:14.198Z"
      },
      {
        "duration": 125,
        "start_time": "2022-10-16T05:27:17.742Z"
      },
      {
        "duration": 106,
        "start_time": "2022-10-16T05:27:17.870Z"
      },
      {
        "duration": 474,
        "start_time": "2022-10-16T05:27:17.978Z"
      },
      {
        "duration": 135,
        "start_time": "2022-10-16T05:27:18.454Z"
      },
      {
        "duration": 314,
        "start_time": "2022-10-16T05:27:18.591Z"
      },
      {
        "duration": 94,
        "start_time": "2022-10-16T05:27:18.907Z"
      },
      {
        "duration": 3916,
        "start_time": "2022-10-16T05:27:19.002Z"
      },
      {
        "duration": 251,
        "start_time": "2022-10-16T05:27:22.919Z"
      },
      {
        "duration": 59,
        "start_time": "2022-10-16T05:27:23.172Z"
      },
      {
        "duration": 6,
        "start_time": "2022-10-16T05:27:23.233Z"
      },
      {
        "duration": 348,
        "start_time": "2022-10-16T05:27:23.242Z"
      },
      {
        "duration": 17,
        "start_time": "2022-10-16T05:27:23.591Z"
      },
      {
        "duration": 122,
        "start_time": "2022-10-16T05:27:23.610Z"
      },
      {
        "duration": 15,
        "start_time": "2022-10-16T05:27:23.734Z"
      },
      {
        "duration": 258,
        "start_time": "2022-10-16T05:27:23.751Z"
      },
      {
        "duration": 8,
        "start_time": "2022-10-16T05:27:24.010Z"
      },
      {
        "duration": 11,
        "start_time": "2022-10-16T05:27:24.020Z"
      },
      {
        "duration": 259,
        "start_time": "2022-10-16T05:27:24.032Z"
      },
      {
        "duration": 12,
        "start_time": "2022-10-16T05:27:24.293Z"
      },
      {
        "duration": 7,
        "start_time": "2022-10-16T05:27:24.306Z"
      },
      {
        "duration": 460,
        "start_time": "2022-10-16T05:27:24.314Z"
      },
      {
        "duration": 480,
        "start_time": "2022-10-16T05:27:24.776Z"
      },
      {
        "duration": 14,
        "start_time": "2022-10-16T05:27:25.258Z"
      },
      {
        "duration": 62,
        "start_time": "2022-10-16T05:27:25.274Z"
      },
      {
        "duration": 468,
        "start_time": "2022-10-16T05:27:25.338Z"
      },
      {
        "duration": 21,
        "start_time": "2022-10-16T05:27:25.808Z"
      },
      {
        "duration": 300,
        "start_time": "2022-10-16T05:27:25.830Z"
      },
      {
        "duration": 12,
        "start_time": "2022-10-16T05:27:26.132Z"
      },
      {
        "duration": 221,
        "start_time": "2022-10-16T05:27:26.146Z"
      },
      {
        "duration": 241,
        "start_time": "2022-10-16T05:27:26.369Z"
      },
      {
        "duration": 211,
        "start_time": "2022-10-16T05:27:26.612Z"
      },
      {
        "duration": 242,
        "start_time": "2022-10-16T05:27:26.825Z"
      },
      {
        "duration": 225,
        "start_time": "2022-10-16T05:27:27.069Z"
      },
      {
        "duration": 3,
        "start_time": "2022-10-16T05:27:27.296Z"
      },
      {
        "duration": 225,
        "start_time": "2022-10-16T05:27:27.301Z"
      },
      {
        "duration": 75,
        "start_time": "2022-10-16T05:27:27.528Z"
      },
      {
        "duration": 14,
        "start_time": "2022-10-16T05:27:27.605Z"
      },
      {
        "duration": 18,
        "start_time": "2022-10-16T05:27:27.624Z"
      },
      {
        "duration": 26,
        "start_time": "2022-10-16T05:27:27.645Z"
      },
      {
        "duration": 3757,
        "start_time": "2022-10-16T05:27:38.627Z"
      },
      {
        "duration": 15,
        "start_time": "2022-10-16T05:29:25.179Z"
      },
      {
        "duration": 4,
        "start_time": "2022-10-16T05:49:37.607Z"
      },
      {
        "duration": 4,
        "start_time": "2022-10-16T05:49:48.376Z"
      },
      {
        "duration": 7665,
        "start_time": "2022-10-16T05:49:54.858Z"
      },
      {
        "duration": 4,
        "start_time": "2022-10-16T05:50:14.438Z"
      },
      {
        "duration": 269550,
        "start_time": "2022-10-16T05:50:35.149Z"
      },
      {
        "duration": 5892,
        "start_time": "2022-10-16T05:55:28.898Z"
      },
      {
        "duration": 5,
        "start_time": "2022-10-16T05:56:03.669Z"
      },
      {
        "duration": 4468,
        "start_time": "2022-10-16T05:56:11.134Z"
      },
      {
        "duration": 1563,
        "start_time": "2022-10-17T15:41:57.635Z"
      },
      {
        "duration": 104,
        "start_time": "2022-10-17T15:41:59.200Z"
      },
      {
        "duration": 0,
        "start_time": "2022-10-17T15:41:59.317Z"
      },
      {
        "duration": 0,
        "start_time": "2022-10-17T15:41:59.318Z"
      },
      {
        "duration": 0,
        "start_time": "2022-10-17T15:41:59.319Z"
      },
      {
        "duration": 4,
        "start_time": "2022-10-17T15:42:21.141Z"
      },
      {
        "duration": 10,
        "start_time": "2022-10-17T15:42:23.259Z"
      },
      {
        "duration": 3,
        "start_time": "2022-10-17T15:42:32.500Z"
      },
      {
        "duration": 3270,
        "start_time": "2022-10-17T15:42:35.275Z"
      },
      {
        "duration": 110,
        "start_time": "2022-10-17T15:42:38.546Z"
      },
      {
        "duration": 389,
        "start_time": "2022-10-17T15:42:49.156Z"
      },
      {
        "duration": 376,
        "start_time": "2022-10-17T15:43:34.079Z"
      },
      {
        "duration": 318,
        "start_time": "2022-10-17T15:44:48.616Z"
      },
      {
        "duration": 303,
        "start_time": "2022-10-17T15:45:01.850Z"
      },
      {
        "duration": 75,
        "start_time": "2022-10-17T15:46:17.163Z"
      },
      {
        "duration": 81,
        "start_time": "2022-10-17T15:51:58.430Z"
      },
      {
        "duration": 3,
        "start_time": "2022-10-17T15:53:32.976Z"
      },
      {
        "duration": 5,
        "start_time": "2022-10-17T15:53:32.981Z"
      },
      {
        "duration": 928,
        "start_time": "2022-10-17T15:53:32.988Z"
      },
      {
        "duration": 102,
        "start_time": "2022-10-17T15:53:33.921Z"
      },
      {
        "duration": 333,
        "start_time": "2022-10-17T15:53:34.026Z"
      },
      {
        "duration": 359,
        "start_time": "2022-10-17T15:53:34.360Z"
      },
      {
        "duration": 116,
        "start_time": "2022-10-17T15:53:34.723Z"
      },
      {
        "duration": 278,
        "start_time": "2022-10-17T15:53:34.840Z"
      },
      {
        "duration": 65,
        "start_time": "2022-10-17T15:53:35.122Z"
      },
      {
        "duration": 3734,
        "start_time": "2022-10-17T15:53:35.189Z"
      },
      {
        "duration": 235,
        "start_time": "2022-10-17T15:53:38.926Z"
      },
      {
        "duration": 69,
        "start_time": "2022-10-17T15:53:39.162Z"
      },
      {
        "duration": 6,
        "start_time": "2022-10-17T15:53:39.233Z"
      },
      {
        "duration": 284,
        "start_time": "2022-10-17T15:53:39.240Z"
      },
      {
        "duration": 16,
        "start_time": "2022-10-17T15:53:39.526Z"
      },
      {
        "duration": 114,
        "start_time": "2022-10-17T15:53:39.543Z"
      },
      {
        "duration": 15,
        "start_time": "2022-10-17T15:53:39.658Z"
      },
      {
        "duration": 225,
        "start_time": "2022-10-17T15:53:39.674Z"
      },
      {
        "duration": 12,
        "start_time": "2022-10-17T15:53:39.900Z"
      },
      {
        "duration": 33,
        "start_time": "2022-10-17T15:53:39.915Z"
      },
      {
        "duration": 214,
        "start_time": "2022-10-17T15:53:39.949Z"
      },
      {
        "duration": 10,
        "start_time": "2022-10-17T15:53:40.164Z"
      },
      {
        "duration": 6,
        "start_time": "2022-10-17T15:53:40.175Z"
      },
      {
        "duration": 478,
        "start_time": "2022-10-17T15:53:40.183Z"
      },
      {
        "duration": 459,
        "start_time": "2022-10-17T15:53:40.662Z"
      },
      {
        "duration": 13,
        "start_time": "2022-10-17T15:53:41.123Z"
      },
      {
        "duration": 52,
        "start_time": "2022-10-17T15:53:41.138Z"
      },
      {
        "duration": 436,
        "start_time": "2022-10-17T15:53:41.192Z"
      },
      {
        "duration": 20,
        "start_time": "2022-10-17T15:53:41.632Z"
      },
      {
        "duration": 257,
        "start_time": "2022-10-17T15:53:41.653Z"
      },
      {
        "duration": 12,
        "start_time": "2022-10-17T15:53:41.919Z"
      },
      {
        "duration": 187,
        "start_time": "2022-10-17T15:53:41.932Z"
      },
      {
        "duration": 209,
        "start_time": "2022-10-17T15:53:42.121Z"
      },
      {
        "duration": 185,
        "start_time": "2022-10-17T15:53:42.331Z"
      },
      {
        "duration": 208,
        "start_time": "2022-10-17T15:53:42.518Z"
      },
      {
        "duration": 168,
        "start_time": "2022-10-17T15:53:42.728Z"
      },
      {
        "duration": 16,
        "start_time": "2022-10-17T15:53:42.898Z"
      },
      {
        "duration": 146,
        "start_time": "2022-10-17T15:53:42.919Z"
      },
      {
        "duration": 10,
        "start_time": "2022-10-17T15:53:43.067Z"
      },
      {
        "duration": 0,
        "start_time": "2022-10-17T15:53:43.079Z"
      },
      {
        "duration": 0,
        "start_time": "2022-10-17T15:53:43.080Z"
      },
      {
        "duration": 0,
        "start_time": "2022-10-17T15:53:43.081Z"
      },
      {
        "duration": 0,
        "start_time": "2022-10-17T15:53:43.082Z"
      },
      {
        "duration": 0,
        "start_time": "2022-10-17T15:53:43.083Z"
      },
      {
        "duration": 0,
        "start_time": "2022-10-17T15:53:43.084Z"
      },
      {
        "duration": 0,
        "start_time": "2022-10-17T15:53:43.086Z"
      },
      {
        "duration": 0,
        "start_time": "2022-10-17T15:53:43.105Z"
      },
      {
        "duration": 10,
        "start_time": "2022-10-17T16:20:22.269Z"
      },
      {
        "duration": 9,
        "start_time": "2022-10-17T16:20:45.517Z"
      },
      {
        "duration": 4,
        "start_time": "2022-10-17T16:20:52.222Z"
      },
      {
        "duration": 10,
        "start_time": "2022-10-17T16:20:56.062Z"
      },
      {
        "duration": 4,
        "start_time": "2022-10-17T16:21:13.188Z"
      },
      {
        "duration": 6,
        "start_time": "2022-10-17T16:21:13.194Z"
      },
      {
        "duration": 877,
        "start_time": "2022-10-17T16:21:13.202Z"
      },
      {
        "duration": 98,
        "start_time": "2022-10-17T16:21:14.081Z"
      },
      {
        "duration": 340,
        "start_time": "2022-10-17T16:21:14.180Z"
      },
      {
        "duration": 337,
        "start_time": "2022-10-17T16:21:14.522Z"
      },
      {
        "duration": 100,
        "start_time": "2022-10-17T16:21:14.860Z"
      },
      {
        "duration": 227,
        "start_time": "2022-10-17T16:21:14.962Z"
      },
      {
        "duration": 74,
        "start_time": "2022-10-17T16:21:15.191Z"
      },
      {
        "duration": 3585,
        "start_time": "2022-10-17T16:21:15.267Z"
      },
      {
        "duration": 215,
        "start_time": "2022-10-17T16:21:18.854Z"
      },
      {
        "duration": 54,
        "start_time": "2022-10-17T16:21:19.071Z"
      },
      {
        "duration": 6,
        "start_time": "2022-10-17T16:21:19.127Z"
      },
      {
        "duration": 284,
        "start_time": "2022-10-17T16:21:19.134Z"
      },
      {
        "duration": 15,
        "start_time": "2022-10-17T16:21:19.419Z"
      },
      {
        "duration": 111,
        "start_time": "2022-10-17T16:21:19.436Z"
      },
      {
        "duration": 14,
        "start_time": "2022-10-17T16:21:19.549Z"
      },
      {
        "duration": 219,
        "start_time": "2022-10-17T16:21:19.565Z"
      },
      {
        "duration": 7,
        "start_time": "2022-10-17T16:21:19.785Z"
      },
      {
        "duration": 23,
        "start_time": "2022-10-17T16:21:19.794Z"
      },
      {
        "duration": 239,
        "start_time": "2022-10-17T16:21:19.819Z"
      },
      {
        "duration": 11,
        "start_time": "2022-10-17T16:21:20.060Z"
      },
      {
        "duration": 6,
        "start_time": "2022-10-17T16:21:20.073Z"
      },
      {
        "duration": 349,
        "start_time": "2022-10-17T16:21:20.080Z"
      },
      {
        "duration": 418,
        "start_time": "2022-10-17T16:21:20.431Z"
      },
      {
        "duration": 12,
        "start_time": "2022-10-17T16:21:20.851Z"
      },
      {
        "duration": 54,
        "start_time": "2022-10-17T16:21:20.865Z"
      },
      {
        "duration": 401,
        "start_time": "2022-10-17T16:21:20.921Z"
      },
      {
        "duration": 19,
        "start_time": "2022-10-17T16:21:21.326Z"
      },
      {
        "duration": 355,
        "start_time": "2022-10-17T16:21:21.347Z"
      },
      {
        "duration": 16,
        "start_time": "2022-10-17T16:21:21.703Z"
      },
      {
        "duration": 206,
        "start_time": "2022-10-17T16:21:21.721Z"
      },
      {
        "duration": 243,
        "start_time": "2022-10-17T16:21:21.929Z"
      },
      {
        "duration": 194,
        "start_time": "2022-10-17T16:21:22.174Z"
      },
      {
        "duration": 214,
        "start_time": "2022-10-17T16:21:22.370Z"
      },
      {
        "duration": 164,
        "start_time": "2022-10-17T16:21:22.585Z"
      },
      {
        "duration": 3,
        "start_time": "2022-10-17T16:21:22.750Z"
      },
      {
        "duration": 148,
        "start_time": "2022-10-17T16:21:22.755Z"
      },
      {
        "duration": 17,
        "start_time": "2022-10-17T16:21:22.905Z"
      },
      {
        "duration": 0,
        "start_time": "2022-10-17T16:21:22.923Z"
      },
      {
        "duration": 0,
        "start_time": "2022-10-17T16:21:22.924Z"
      },
      {
        "duration": 0,
        "start_time": "2022-10-17T16:21:22.925Z"
      },
      {
        "duration": 0,
        "start_time": "2022-10-17T16:21:22.926Z"
      },
      {
        "duration": 0,
        "start_time": "2022-10-17T16:21:22.927Z"
      },
      {
        "duration": 0,
        "start_time": "2022-10-17T16:21:22.928Z"
      },
      {
        "duration": 0,
        "start_time": "2022-10-17T16:21:22.929Z"
      },
      {
        "duration": 0,
        "start_time": "2022-10-17T16:21:22.930Z"
      },
      {
        "duration": 0,
        "start_time": "2022-10-17T16:21:22.931Z"
      },
      {
        "duration": 4,
        "start_time": "2022-10-17T16:31:01.920Z"
      },
      {
        "duration": 47,
        "start_time": "2022-10-17T16:31:01.926Z"
      },
      {
        "duration": 824,
        "start_time": "2022-10-17T16:31:01.975Z"
      },
      {
        "duration": 99,
        "start_time": "2022-10-17T16:31:02.801Z"
      },
      {
        "duration": 321,
        "start_time": "2022-10-17T16:31:02.906Z"
      },
      {
        "duration": 358,
        "start_time": "2022-10-17T16:31:03.228Z"
      },
      {
        "duration": 102,
        "start_time": "2022-10-17T16:31:03.588Z"
      },
      {
        "duration": 243,
        "start_time": "2022-10-17T16:31:03.691Z"
      },
      {
        "duration": 78,
        "start_time": "2022-10-17T16:31:03.936Z"
      },
      {
        "duration": 3609,
        "start_time": "2022-10-17T16:31:04.015Z"
      },
      {
        "duration": 326,
        "start_time": "2022-10-17T16:31:07.629Z"
      },
      {
        "duration": 67,
        "start_time": "2022-10-17T16:31:07.957Z"
      },
      {
        "duration": 7,
        "start_time": "2022-10-17T16:31:08.025Z"
      },
      {
        "duration": 288,
        "start_time": "2022-10-17T16:31:08.034Z"
      },
      {
        "duration": 15,
        "start_time": "2022-10-17T16:31:08.324Z"
      },
      {
        "duration": 109,
        "start_time": "2022-10-17T16:31:08.341Z"
      },
      {
        "duration": 14,
        "start_time": "2022-10-17T16:31:08.451Z"
      },
      {
        "duration": 220,
        "start_time": "2022-10-17T16:31:08.466Z"
      },
      {
        "duration": 7,
        "start_time": "2022-10-17T16:31:08.688Z"
      },
      {
        "duration": 18,
        "start_time": "2022-10-17T16:31:08.704Z"
      },
      {
        "duration": 209,
        "start_time": "2022-10-17T16:31:08.724Z"
      },
      {
        "duration": 10,
        "start_time": "2022-10-17T16:31:08.934Z"
      },
      {
        "duration": 6,
        "start_time": "2022-10-17T16:31:08.945Z"
      },
      {
        "duration": 329,
        "start_time": "2022-10-17T16:31:08.952Z"
      },
      {
        "duration": 481,
        "start_time": "2022-10-17T16:31:09.283Z"
      },
      {
        "duration": 13,
        "start_time": "2022-10-17T16:31:09.766Z"
      },
      {
        "duration": 63,
        "start_time": "2022-10-17T16:31:09.780Z"
      },
      {
        "duration": 513,
        "start_time": "2022-10-17T16:31:09.845Z"
      },
      {
        "duration": 19,
        "start_time": "2022-10-17T16:31:10.361Z"
      },
      {
        "duration": 251,
        "start_time": "2022-10-17T16:31:10.381Z"
      },
      {
        "duration": 10,
        "start_time": "2022-10-17T16:31:10.634Z"
      },
      {
        "duration": 188,
        "start_time": "2022-10-17T16:31:10.646Z"
      },
      {
        "duration": 247,
        "start_time": "2022-10-17T16:31:10.836Z"
      },
      {
        "duration": 174,
        "start_time": "2022-10-17T16:31:11.085Z"
      },
      {
        "duration": 194,
        "start_time": "2022-10-17T16:31:11.260Z"
      },
      {
        "duration": 168,
        "start_time": "2022-10-17T16:31:11.455Z"
      },
      {
        "duration": 4,
        "start_time": "2022-10-17T16:31:11.625Z"
      },
      {
        "duration": 162,
        "start_time": "2022-10-17T16:31:11.631Z"
      },
      {
        "duration": 66,
        "start_time": "2022-10-17T16:31:11.795Z"
      },
      {
        "duration": 13,
        "start_time": "2022-10-17T16:31:11.863Z"
      },
      {
        "duration": 13,
        "start_time": "2022-10-17T16:31:11.878Z"
      },
      {
        "duration": 15,
        "start_time": "2022-10-17T16:31:11.893Z"
      },
      {
        "duration": 25,
        "start_time": "2022-10-17T16:31:11.909Z"
      },
      {
        "duration": 1917790,
        "start_time": "2022-10-17T16:31:11.936Z"
      },
      {
        "duration": 26486,
        "start_time": "2022-10-17T17:03:09.728Z"
      },
      {
        "duration": 10,
        "start_time": "2022-10-17T17:03:36.217Z"
      },
      {
        "duration": 347397,
        "start_time": "2022-10-17T17:03:36.230Z"
      },
      {
        "duration": 22,
        "start_time": "2022-10-17T17:24:03.012Z"
      },
      {
        "duration": 14,
        "start_time": "2022-10-17T17:24:16.836Z"
      },
      {
        "duration": 33,
        "start_time": "2022-10-17T17:24:29.187Z"
      },
      {
        "duration": 11,
        "start_time": "2022-10-17T17:33:49.456Z"
      },
      {
        "duration": 12,
        "start_time": "2022-10-17T17:39:19.987Z"
      },
      {
        "duration": 338054,
        "start_time": "2022-10-17T17:40:18.700Z"
      },
      {
        "duration": 11,
        "start_time": "2022-10-17T17:46:04.506Z"
      },
      {
        "duration": 15,
        "start_time": "2022-10-17T17:46:14.130Z"
      },
      {
        "duration": 14,
        "start_time": "2022-10-17T17:46:40.243Z"
      },
      {
        "duration": 23,
        "start_time": "2022-10-17T17:48:19.270Z"
      },
      {
        "duration": 4,
        "start_time": "2022-10-17T17:49:21.530Z"
      },
      {
        "duration": 4,
        "start_time": "2022-10-17T17:49:35.711Z"
      },
      {
        "duration": 4,
        "start_time": "2022-10-17T17:51:49.518Z"
      },
      {
        "duration": 7,
        "start_time": "2022-10-17T17:51:49.524Z"
      },
      {
        "duration": 881,
        "start_time": "2022-10-17T17:51:49.532Z"
      },
      {
        "duration": 108,
        "start_time": "2022-10-17T17:51:50.415Z"
      },
      {
        "duration": 306,
        "start_time": "2022-10-17T17:51:50.525Z"
      },
      {
        "duration": 316,
        "start_time": "2022-10-17T17:51:50.832Z"
      },
      {
        "duration": 108,
        "start_time": "2022-10-17T17:51:51.149Z"
      },
      {
        "duration": 223,
        "start_time": "2022-10-17T17:51:51.258Z"
      },
      {
        "duration": 69,
        "start_time": "2022-10-17T17:51:51.483Z"
      },
      {
        "duration": 3365,
        "start_time": "2022-10-17T17:51:51.554Z"
      },
      {
        "duration": 211,
        "start_time": "2022-10-17T17:51:54.920Z"
      },
      {
        "duration": 42,
        "start_time": "2022-10-17T17:51:55.132Z"
      },
      {
        "duration": 6,
        "start_time": "2022-10-17T17:51:55.175Z"
      },
      {
        "duration": 273,
        "start_time": "2022-10-17T17:51:55.182Z"
      },
      {
        "duration": 15,
        "start_time": "2022-10-17T17:51:55.457Z"
      },
      {
        "duration": 109,
        "start_time": "2022-10-17T17:51:55.473Z"
      },
      {
        "duration": 21,
        "start_time": "2022-10-17T17:51:55.584Z"
      },
      {
        "duration": 191,
        "start_time": "2022-10-17T17:51:55.607Z"
      },
      {
        "duration": 10,
        "start_time": "2022-10-17T17:51:55.800Z"
      },
      {
        "duration": 13,
        "start_time": "2022-10-17T17:51:55.811Z"
      },
      {
        "duration": 217,
        "start_time": "2022-10-17T17:51:55.826Z"
      },
      {
        "duration": 10,
        "start_time": "2022-10-17T17:51:56.044Z"
      },
      {
        "duration": 6,
        "start_time": "2022-10-17T17:51:56.055Z"
      },
      {
        "duration": 316,
        "start_time": "2022-10-17T17:51:56.062Z"
      },
      {
        "duration": 434,
        "start_time": "2022-10-17T17:51:56.382Z"
      },
      {
        "duration": 11,
        "start_time": "2022-10-17T17:51:56.817Z"
      },
      {
        "duration": 37,
        "start_time": "2022-10-17T17:51:56.830Z"
      },
      {
        "duration": 374,
        "start_time": "2022-10-17T17:51:56.869Z"
      },
      {
        "duration": 18,
        "start_time": "2022-10-17T17:51:57.244Z"
      },
      {
        "duration": 261,
        "start_time": "2022-10-17T17:51:57.264Z"
      },
      {
        "duration": 11,
        "start_time": "2022-10-17T17:51:57.527Z"
      },
      {
        "duration": 208,
        "start_time": "2022-10-17T17:51:57.540Z"
      },
      {
        "duration": 207,
        "start_time": "2022-10-17T17:51:57.749Z"
      },
      {
        "duration": 175,
        "start_time": "2022-10-17T17:51:57.957Z"
      },
      {
        "duration": 184,
        "start_time": "2022-10-17T17:51:58.133Z"
      },
      {
        "duration": 139,
        "start_time": "2022-10-17T17:51:58.319Z"
      },
      {
        "duration": 3,
        "start_time": "2022-10-17T17:51:58.460Z"
      },
      {
        "duration": 138,
        "start_time": "2022-10-17T17:51:58.464Z"
      },
      {
        "duration": 53,
        "start_time": "2022-10-17T17:51:58.605Z"
      },
      {
        "duration": 11,
        "start_time": "2022-10-17T17:51:58.659Z"
      },
      {
        "duration": 8,
        "start_time": "2022-10-17T17:51:58.672Z"
      },
      {
        "duration": 4,
        "start_time": "2022-10-17T17:51:58.682Z"
      },
      {
        "duration": 20,
        "start_time": "2022-10-17T17:51:58.687Z"
      },
      {
        "duration": 259102,
        "start_time": "2022-10-17T17:51:58.708Z"
      },
      {
        "duration": 3801,
        "start_time": "2022-10-17T17:56:17.812Z"
      },
      {
        "duration": 4,
        "start_time": "2022-10-17T17:56:21.615Z"
      },
      {
        "duration": 334157,
        "start_time": "2022-10-17T17:56:21.620Z"
      },
      {
        "duration": 7177,
        "start_time": "2022-10-17T18:01:55.778Z"
      },
      {
        "duration": 2,
        "start_time": "2022-10-17T18:02:02.957Z"
      },
      {
        "duration": 6,
        "start_time": "2022-10-17T18:02:02.960Z"
      },
      {
        "duration": 5,
        "start_time": "2022-10-17T18:02:02.967Z"
      },
      {
        "duration": 7,
        "start_time": "2022-10-17T18:02:02.974Z"
      },
      {
        "duration": 25,
        "start_time": "2022-10-17T18:02:02.983Z"
      },
      {
        "duration": 13,
        "start_time": "2022-10-17T18:26:48.373Z"
      },
      {
        "duration": 4,
        "start_time": "2022-10-17T18:30:52.986Z"
      },
      {
        "duration": 3,
        "start_time": "2022-10-17T18:31:02.627Z"
      },
      {
        "duration": 4,
        "start_time": "2022-10-17T18:33:19.448Z"
      },
      {
        "duration": 3,
        "start_time": "2022-10-17T18:35:41.788Z"
      },
      {
        "duration": 3,
        "start_time": "2022-10-17T18:37:06.720Z"
      },
      {
        "duration": 3,
        "start_time": "2022-10-17T18:37:07.607Z"
      },
      {
        "duration": 5,
        "start_time": "2022-10-17T18:38:27.346Z"
      },
      {
        "duration": 3,
        "start_time": "2022-10-17T18:38:53.971Z"
      },
      {
        "duration": 8,
        "start_time": "2022-10-17T18:45:20.371Z"
      },
      {
        "duration": 8,
        "start_time": "2022-10-17T18:45:41.074Z"
      },
      {
        "duration": 3,
        "start_time": "2022-10-17T18:45:45.314Z"
      },
      {
        "duration": 22,
        "start_time": "2022-10-17T18:47:36.533Z"
      },
      {
        "duration": 18,
        "start_time": "2022-10-17T18:49:05.265Z"
      },
      {
        "duration": 14,
        "start_time": "2022-10-17T18:49:31.090Z"
      },
      {
        "duration": 3,
        "start_time": "2022-10-17T18:52:30.735Z"
      },
      {
        "duration": 11,
        "start_time": "2022-10-17T18:57:56.763Z"
      },
      {
        "duration": 4,
        "start_time": "2022-10-17T18:58:14.197Z"
      },
      {
        "duration": 1263,
        "start_time": "2022-10-17T18:58:35.803Z"
      },
      {
        "duration": 1104,
        "start_time": "2022-10-17T18:59:39.999Z"
      },
      {
        "duration": 29,
        "start_time": "2022-10-17T19:00:23.176Z"
      },
      {
        "duration": 4,
        "start_time": "2022-10-17T19:03:45.096Z"
      },
      {
        "duration": 26,
        "start_time": "2022-10-17T19:04:05.448Z"
      },
      {
        "duration": 4,
        "start_time": "2022-10-17T19:04:48.514Z"
      },
      {
        "duration": 19834,
        "start_time": "2022-10-17T19:04:50.673Z"
      },
      {
        "duration": 19449,
        "start_time": "2022-10-17T19:05:30.922Z"
      },
      {
        "duration": 4,
        "start_time": "2022-10-17T19:05:58.949Z"
      },
      {
        "duration": 9,
        "start_time": "2022-10-17T19:06:01.075Z"
      },
      {
        "duration": 4406,
        "start_time": "2022-10-17T19:06:11.115Z"
      },
      {
        "duration": 4855,
        "start_time": "2022-10-17T19:08:01.064Z"
      },
      {
        "duration": 4184,
        "start_time": "2022-10-17T19:09:15.234Z"
      },
      {
        "duration": 4121,
        "start_time": "2022-10-18T08:18:31.349Z"
      },
      {
        "duration": 4,
        "start_time": "2022-10-18T08:18:35.472Z"
      },
      {
        "duration": 3404,
        "start_time": "2022-10-18T08:18:35.477Z"
      },
      {
        "duration": 142,
        "start_time": "2022-10-18T08:18:38.884Z"
      },
      {
        "duration": 438,
        "start_time": "2022-10-18T08:18:39.028Z"
      },
      {
        "duration": 469,
        "start_time": "2022-10-18T08:18:39.468Z"
      },
      {
        "duration": 150,
        "start_time": "2022-10-18T08:18:39.939Z"
      },
      {
        "duration": 346,
        "start_time": "2022-10-18T08:18:40.092Z"
      },
      {
        "duration": 109,
        "start_time": "2022-10-18T08:18:40.440Z"
      },
      {
        "duration": 4365,
        "start_time": "2022-10-18T08:18:40.552Z"
      },
      {
        "duration": 291,
        "start_time": "2022-10-18T08:18:44.919Z"
      },
      {
        "duration": 71,
        "start_time": "2022-10-18T08:18:45.213Z"
      },
      {
        "duration": 10,
        "start_time": "2022-10-18T08:18:45.290Z"
      },
      {
        "duration": 369,
        "start_time": "2022-10-18T08:18:45.302Z"
      },
      {
        "duration": 33,
        "start_time": "2022-10-18T08:18:45.673Z"
      },
      {
        "duration": 125,
        "start_time": "2022-10-18T08:18:45.708Z"
      },
      {
        "duration": 15,
        "start_time": "2022-10-18T08:18:45.835Z"
      },
      {
        "duration": 287,
        "start_time": "2022-10-18T08:18:45.852Z"
      },
      {
        "duration": 8,
        "start_time": "2022-10-18T08:18:46.141Z"
      },
      {
        "duration": 13,
        "start_time": "2022-10-18T08:18:46.152Z"
      },
      {
        "duration": 322,
        "start_time": "2022-10-18T08:18:46.167Z"
      },
      {
        "duration": 17,
        "start_time": "2022-10-18T08:18:46.491Z"
      },
      {
        "duration": 7,
        "start_time": "2022-10-18T08:18:46.510Z"
      },
      {
        "duration": 515,
        "start_time": "2022-10-18T08:18:46.519Z"
      },
      {
        "duration": 530,
        "start_time": "2022-10-18T08:18:47.037Z"
      },
      {
        "duration": 20,
        "start_time": "2022-10-18T08:18:47.569Z"
      },
      {
        "duration": 56,
        "start_time": "2022-10-18T08:18:47.591Z"
      },
      {
        "duration": 501,
        "start_time": "2022-10-18T08:18:47.653Z"
      },
      {
        "duration": 20,
        "start_time": "2022-10-18T08:18:48.156Z"
      },
      {
        "duration": 329,
        "start_time": "2022-10-18T08:18:48.189Z"
      },
      {
        "duration": 11,
        "start_time": "2022-10-18T08:18:48.520Z"
      },
      {
        "duration": 236,
        "start_time": "2022-10-18T08:18:48.533Z"
      },
      {
        "duration": 277,
        "start_time": "2022-10-18T08:18:48.771Z"
      },
      {
        "duration": 230,
        "start_time": "2022-10-18T08:18:49.049Z"
      },
      {
        "duration": 274,
        "start_time": "2022-10-18T08:18:49.281Z"
      },
      {
        "duration": 225,
        "start_time": "2022-10-18T08:18:49.557Z"
      },
      {
        "duration": 4,
        "start_time": "2022-10-18T08:18:49.788Z"
      },
      {
        "duration": 176,
        "start_time": "2022-10-18T08:18:49.794Z"
      },
      {
        "duration": 72,
        "start_time": "2022-10-18T08:18:49.972Z"
      },
      {
        "duration": 13,
        "start_time": "2022-10-18T08:18:50.046Z"
      },
      {
        "duration": 29,
        "start_time": "2022-10-18T08:18:50.061Z"
      },
      {
        "duration": 23,
        "start_time": "2022-10-18T08:18:50.092Z"
      },
      {
        "duration": 30,
        "start_time": "2022-10-18T08:18:50.117Z"
      },
      {
        "duration": 42778,
        "start_time": "2022-10-18T08:18:50.149Z"
      },
      {
        "duration": 10,
        "start_time": "2022-10-18T08:19:32.929Z"
      },
      {
        "duration": 0,
        "start_time": "2022-10-18T08:19:32.940Z"
      },
      {
        "duration": 0,
        "start_time": "2022-10-18T08:19:32.941Z"
      },
      {
        "duration": 0,
        "start_time": "2022-10-18T08:19:32.942Z"
      },
      {
        "duration": 0,
        "start_time": "2022-10-18T08:19:32.943Z"
      },
      {
        "duration": 0,
        "start_time": "2022-10-18T08:19:32.945Z"
      },
      {
        "duration": 0,
        "start_time": "2022-10-18T08:19:32.946Z"
      },
      {
        "duration": 0,
        "start_time": "2022-10-18T08:19:32.947Z"
      },
      {
        "duration": 15,
        "start_time": "2022-10-18T08:20:07.764Z"
      },
      {
        "duration": 5,
        "start_time": "2022-10-18T08:20:11.271Z"
      },
      {
        "duration": 1119,
        "start_time": "2022-10-18T08:20:13.538Z"
      },
      {
        "duration": 10,
        "start_time": "2022-10-18T08:27:00.767Z"
      },
      {
        "duration": 5,
        "start_time": "2022-10-18T08:27:27.002Z"
      },
      {
        "duration": 1033,
        "start_time": "2022-10-18T08:27:30.581Z"
      },
      {
        "duration": 469,
        "start_time": "2022-10-18T08:27:36.554Z"
      },
      {
        "duration": 6,
        "start_time": "2022-10-18T08:28:38.725Z"
      },
      {
        "duration": 32267,
        "start_time": "2022-10-18T08:28:41.930Z"
      }
    ],
    "kernelspec": {
      "display_name": "Python 3 (ipykernel)",
      "language": "python",
      "name": "python3"
    },
    "language_info": {
      "codemirror_mode": {
        "name": "ipython",
        "version": 3
      },
      "file_extension": ".py",
      "mimetype": "text/x-python",
      "name": "python",
      "nbconvert_exporter": "python",
      "pygments_lexer": "ipython3",
      "version": "3.9.5"
    },
    "toc": {
      "base_numbering": 1,
      "nav_menu": {},
      "number_sections": true,
      "sideBar": true,
      "skip_h1_title": true,
      "title_cell": "Table of Contents",
      "title_sidebar": "Contents",
      "toc_cell": false,
      "toc_position": {
        "height": "calc(100% - 180px)",
        "left": "10px",
        "top": "150px",
        "width": "165px"
      },
      "toc_section_display": true,
      "toc_window_display": true
    },
    "colab": {
      "provenance": []
    }
  },
  "nbformat": 4,
  "nbformat_minor": 0
}