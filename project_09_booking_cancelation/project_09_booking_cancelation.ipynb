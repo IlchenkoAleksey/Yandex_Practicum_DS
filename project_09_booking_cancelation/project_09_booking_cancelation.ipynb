{
  "cells": [
    {
      "cell_type": "markdown",
      "metadata": {
        "id": "4PYZEnRdZ1ZM"
      },
      "source": [
        "# Прогнозирование оттока клиентов в сети отелей «Как в гостях»"
      ]
    },
    {
      "cell_type": "markdown",
      "metadata": {
        "id": "eaiX0-QxZ1ZM"
      },
      "source": [
        "Заказчик этого исследования — сеть отелей «Как в гостях».  \n",
        "\n",
        "\n",
        "Чтобы привлечь клиентов, эта сеть отелей добавила на свой сайт возможность забронировать номер без предоплаты. Однако если клиент отменял бронирование, то компания терпела убытки. Сотрудники отеля могли, например, закупить продукты к приезду гостя или просто не успеть найти другого клиента.\n",
        "\n",
        "Чтобы решить эту проблему, вам нужно разработать систему, которая предсказывает отказ от брони. Если модель покажет, что бронь будет отменена, то клиенту предлагается внести депозит. Размер депозита — 80% от стоимости номера за одни сутки и затрат на разовую уборку. Деньги будут списаны со счёта клиента, если он всё же отменит бронь."
      ]
    },
    {
      "cell_type": "markdown",
      "metadata": {
        "id": "pOD6DUjsZ1ZM"
      },
      "source": [
        "### Шаг 1. Откройте файлы с данными"
      ]
    },
    {
      "cell_type": "markdown",
      "metadata": {
        "id": "ZqF-CoJAZ1ZN"
      },
      "source": [
        "Загрузим необходимые библиотеки для работы"
      ]
    },
    {
      "cell_type": "code",
      "execution_count": null,
      "metadata": {
        "id": "-InO7UeLZ1ZN"
      },
      "outputs": [],
      "source": [
        "import pandas as pd\n",
        "import matplotlib.pyplot as plt\n",
        "import seaborn as sns\n",
        "import math\n",
        "import numpy as np\n",
        "\n",
        "from sklearn.preprocessing import OneHotEncoder\n",
        "from sklearn.preprocessing import StandardScaler\n",
        "from sklearn.linear_model import LogisticRegression\n",
        "from sklearn.tree import DecisionTreeClassifier\n",
        "from sklearn.ensemble import RandomForestClassifier\n",
        "from sklearn.metrics import f1_score\n",
        "from sklearn.metrics import roc_auc_score, roc_curve\n",
        "from sklearn.utils import shuffle\n",
        "from sklearn.metrics import accuracy_score\n",
        "from sklearn.dummy import DummyClassifier\n",
        "from sklearn.model_selection import cross_val_score\n",
        "from sklearn.preprocessing import OrdinalEncoder"
      ]
    },
    {
      "cell_type": "markdown",
      "metadata": {
        "id": "S4G6sAnqZ1ZO"
      },
      "source": [
        "Сохраним датафреймы `hotel_train.csv` и `hotel_test.csv` в переменные"
      ]
    },
    {
      "cell_type": "code",
      "execution_count": null,
      "metadata": {
        "id": "O8fvPrMUZ1ZP"
      },
      "outputs": [],
      "source": [
        "hotel_train = pd.read_csv('/datasets/hotel_train.csv')\n",
        "hotel_test = pd.read_csv('/datasets/hotel_test.csv')"
      ]
    },
    {
      "cell_type": "markdown",
      "metadata": {
        "id": "o9Hhsp6cZ1ZP"
      },
      "source": [
        "Посмотрим на начальные записи в датафреймах"
      ]
    },
    {
      "cell_type": "code",
      "execution_count": null,
      "metadata": {
        "id": "re3WwvYwZ1ZP",
        "outputId": "9a0f72cb-c212-4508-dde1-e95ebdf0e4a2"
      },
      "outputs": [
        {
          "data": {
            "text/html": [
              "<div>\n",
              "<style scoped>\n",
              "    .dataframe tbody tr th:only-of-type {\n",
              "        vertical-align: middle;\n",
              "    }\n",
              "\n",
              "    .dataframe tbody tr th {\n",
              "        vertical-align: top;\n",
              "    }\n",
              "\n",
              "    .dataframe thead th {\n",
              "        text-align: right;\n",
              "    }\n",
              "</style>\n",
              "<table border=\"1\" class=\"dataframe\">\n",
              "  <thead>\n",
              "    <tr style=\"text-align: right;\">\n",
              "      <th></th>\n",
              "      <th>id</th>\n",
              "      <th>is_canceled</th>\n",
              "      <th>lead_time</th>\n",
              "      <th>arrival_date_year</th>\n",
              "      <th>arrival_date_month</th>\n",
              "      <th>arrival_date_week_number</th>\n",
              "      <th>arrival_date_day_of_month</th>\n",
              "      <th>stays_in_weekend_nights</th>\n",
              "      <th>stays_in_week_nights</th>\n",
              "      <th>adults</th>\n",
              "      <th>...</th>\n",
              "      <th>is_repeated_guest</th>\n",
              "      <th>previous_cancellations</th>\n",
              "      <th>previous_bookings_not_canceled</th>\n",
              "      <th>reserved_room_type</th>\n",
              "      <th>booking_changes</th>\n",
              "      <th>days_in_waiting_list</th>\n",
              "      <th>customer_type</th>\n",
              "      <th>required_car_parking_spaces</th>\n",
              "      <th>total_of_special_requests</th>\n",
              "      <th>total_nights</th>\n",
              "    </tr>\n",
              "  </thead>\n",
              "  <tbody>\n",
              "    <tr>\n",
              "      <th>0</th>\n",
              "      <td>0</td>\n",
              "      <td>0</td>\n",
              "      <td>7.0</td>\n",
              "      <td>2015</td>\n",
              "      <td>July</td>\n",
              "      <td>27</td>\n",
              "      <td>1</td>\n",
              "      <td>0</td>\n",
              "      <td>1</td>\n",
              "      <td>1.0</td>\n",
              "      <td>...</td>\n",
              "      <td>0</td>\n",
              "      <td>0</td>\n",
              "      <td>0</td>\n",
              "      <td>A</td>\n",
              "      <td>0</td>\n",
              "      <td>0</td>\n",
              "      <td>Transient</td>\n",
              "      <td>0</td>\n",
              "      <td>0</td>\n",
              "      <td>1</td>\n",
              "    </tr>\n",
              "    <tr>\n",
              "      <th>1</th>\n",
              "      <td>1</td>\n",
              "      <td>0</td>\n",
              "      <td>14.0</td>\n",
              "      <td>2015</td>\n",
              "      <td>July</td>\n",
              "      <td>27</td>\n",
              "      <td>1</td>\n",
              "      <td>0</td>\n",
              "      <td>2</td>\n",
              "      <td>2.0</td>\n",
              "      <td>...</td>\n",
              "      <td>0</td>\n",
              "      <td>0</td>\n",
              "      <td>0</td>\n",
              "      <td>A</td>\n",
              "      <td>0</td>\n",
              "      <td>0</td>\n",
              "      <td>Transient</td>\n",
              "      <td>0</td>\n",
              "      <td>1</td>\n",
              "      <td>2</td>\n",
              "    </tr>\n",
              "    <tr>\n",
              "      <th>2</th>\n",
              "      <td>2</td>\n",
              "      <td>0</td>\n",
              "      <td>0.0</td>\n",
              "      <td>2015</td>\n",
              "      <td>July</td>\n",
              "      <td>27</td>\n",
              "      <td>1</td>\n",
              "      <td>0</td>\n",
              "      <td>2</td>\n",
              "      <td>2.0</td>\n",
              "      <td>...</td>\n",
              "      <td>0</td>\n",
              "      <td>0</td>\n",
              "      <td>0</td>\n",
              "      <td>C</td>\n",
              "      <td>0</td>\n",
              "      <td>0</td>\n",
              "      <td>Transient</td>\n",
              "      <td>0</td>\n",
              "      <td>0</td>\n",
              "      <td>2</td>\n",
              "    </tr>\n",
              "    <tr>\n",
              "      <th>3</th>\n",
              "      <td>3</td>\n",
              "      <td>0</td>\n",
              "      <td>9.0</td>\n",
              "      <td>2015</td>\n",
              "      <td>July</td>\n",
              "      <td>27</td>\n",
              "      <td>1</td>\n",
              "      <td>0</td>\n",
              "      <td>2</td>\n",
              "      <td>2.0</td>\n",
              "      <td>...</td>\n",
              "      <td>0</td>\n",
              "      <td>0</td>\n",
              "      <td>0</td>\n",
              "      <td>C</td>\n",
              "      <td>0</td>\n",
              "      <td>0</td>\n",
              "      <td>Transient</td>\n",
              "      <td>0</td>\n",
              "      <td>1</td>\n",
              "      <td>2</td>\n",
              "    </tr>\n",
              "    <tr>\n",
              "      <th>4</th>\n",
              "      <td>4</td>\n",
              "      <td>1</td>\n",
              "      <td>85.0</td>\n",
              "      <td>2015</td>\n",
              "      <td>July</td>\n",
              "      <td>27</td>\n",
              "      <td>1</td>\n",
              "      <td>0</td>\n",
              "      <td>3</td>\n",
              "      <td>2.0</td>\n",
              "      <td>...</td>\n",
              "      <td>0</td>\n",
              "      <td>0</td>\n",
              "      <td>0</td>\n",
              "      <td>A</td>\n",
              "      <td>0</td>\n",
              "      <td>0</td>\n",
              "      <td>Transient</td>\n",
              "      <td>0</td>\n",
              "      <td>1</td>\n",
              "      <td>3</td>\n",
              "    </tr>\n",
              "  </tbody>\n",
              "</table>\n",
              "<p>5 rows × 25 columns</p>\n",
              "</div>"
            ],
            "text/plain": [
              "   id  is_canceled  lead_time  arrival_date_year arrival_date_month  \\\n",
              "0   0            0        7.0               2015               July   \n",
              "1   1            0       14.0               2015               July   \n",
              "2   2            0        0.0               2015               July   \n",
              "3   3            0        9.0               2015               July   \n",
              "4   4            1       85.0               2015               July   \n",
              "\n",
              "   arrival_date_week_number  arrival_date_day_of_month  \\\n",
              "0                        27                          1   \n",
              "1                        27                          1   \n",
              "2                        27                          1   \n",
              "3                        27                          1   \n",
              "4                        27                          1   \n",
              "\n",
              "   stays_in_weekend_nights  stays_in_week_nights  adults  ...  \\\n",
              "0                        0                     1     1.0  ...   \n",
              "1                        0                     2     2.0  ...   \n",
              "2                        0                     2     2.0  ...   \n",
              "3                        0                     2     2.0  ...   \n",
              "4                        0                     3     2.0  ...   \n",
              "\n",
              "   is_repeated_guest  previous_cancellations previous_bookings_not_canceled  \\\n",
              "0                  0                       0                              0   \n",
              "1                  0                       0                              0   \n",
              "2                  0                       0                              0   \n",
              "3                  0                       0                              0   \n",
              "4                  0                       0                              0   \n",
              "\n",
              "  reserved_room_type booking_changes  days_in_waiting_list  customer_type  \\\n",
              "0   A                              0                     0      Transient   \n",
              "1   A                              0                     0      Transient   \n",
              "2   C                              0                     0      Transient   \n",
              "3   C                              0                     0      Transient   \n",
              "4   A                              0                     0      Transient   \n",
              "\n",
              "   required_car_parking_spaces total_of_special_requests  total_nights  \n",
              "0                            0                         0             1  \n",
              "1                            0                         1             2  \n",
              "2                            0                         0             2  \n",
              "3                            0                         1             2  \n",
              "4                            0                         1             3  \n",
              "\n",
              "[5 rows x 25 columns]"
            ]
          },
          "execution_count": 5,
          "metadata": {},
          "output_type": "execute_result"
        }
      ],
      "source": [
        "hotel_train.head()"
      ]
    },
    {
      "cell_type": "code",
      "execution_count": null,
      "metadata": {
        "id": "QrdzE5C0Z1ZQ",
        "outputId": "35f28dde-20cd-413a-eed8-62cab50e2d83"
      },
      "outputs": [
        {
          "data": {
            "text/html": [
              "<div>\n",
              "<style scoped>\n",
              "    .dataframe tbody tr th:only-of-type {\n",
              "        vertical-align: middle;\n",
              "    }\n",
              "\n",
              "    .dataframe tbody tr th {\n",
              "        vertical-align: top;\n",
              "    }\n",
              "\n",
              "    .dataframe thead th {\n",
              "        text-align: right;\n",
              "    }\n",
              "</style>\n",
              "<table border=\"1\" class=\"dataframe\">\n",
              "  <thead>\n",
              "    <tr style=\"text-align: right;\">\n",
              "      <th></th>\n",
              "      <th>id</th>\n",
              "      <th>is_canceled</th>\n",
              "      <th>lead_time</th>\n",
              "      <th>arrival_date_year</th>\n",
              "      <th>arrival_date_month</th>\n",
              "      <th>arrival_date_week_number</th>\n",
              "      <th>arrival_date_day_of_month</th>\n",
              "      <th>stays_in_weekend_nights</th>\n",
              "      <th>stays_in_week_nights</th>\n",
              "      <th>adults</th>\n",
              "      <th>...</th>\n",
              "      <th>is_repeated_guest</th>\n",
              "      <th>previous_cancellations</th>\n",
              "      <th>previous_bookings_not_canceled</th>\n",
              "      <th>reserved_room_type</th>\n",
              "      <th>booking_changes</th>\n",
              "      <th>days_in_waiting_list</th>\n",
              "      <th>customer_type</th>\n",
              "      <th>required_car_parking_spaces</th>\n",
              "      <th>total_of_special_requests</th>\n",
              "      <th>total_nights</th>\n",
              "    </tr>\n",
              "  </thead>\n",
              "  <tbody>\n",
              "    <tr>\n",
              "      <th>0</th>\n",
              "      <td>6086</td>\n",
              "      <td>1</td>\n",
              "      <td>74.0</td>\n",
              "      <td>2017</td>\n",
              "      <td>January</td>\n",
              "      <td>1</td>\n",
              "      <td>1</td>\n",
              "      <td>1</td>\n",
              "      <td>0</td>\n",
              "      <td>2.0</td>\n",
              "      <td>...</td>\n",
              "      <td>0</td>\n",
              "      <td>0</td>\n",
              "      <td>0</td>\n",
              "      <td>A</td>\n",
              "      <td>0</td>\n",
              "      <td>0</td>\n",
              "      <td>Transient</td>\n",
              "      <td>0</td>\n",
              "      <td>0</td>\n",
              "      <td>1</td>\n",
              "    </tr>\n",
              "    <tr>\n",
              "      <th>1</th>\n",
              "      <td>6087</td>\n",
              "      <td>1</td>\n",
              "      <td>62.0</td>\n",
              "      <td>2017</td>\n",
              "      <td>January</td>\n",
              "      <td>1</td>\n",
              "      <td>1</td>\n",
              "      <td>2</td>\n",
              "      <td>2</td>\n",
              "      <td>2.0</td>\n",
              "      <td>...</td>\n",
              "      <td>0</td>\n",
              "      <td>0</td>\n",
              "      <td>0</td>\n",
              "      <td>A</td>\n",
              "      <td>0</td>\n",
              "      <td>0</td>\n",
              "      <td>Transient</td>\n",
              "      <td>0</td>\n",
              "      <td>1</td>\n",
              "      <td>4</td>\n",
              "    </tr>\n",
              "    <tr>\n",
              "      <th>2</th>\n",
              "      <td>6088</td>\n",
              "      <td>1</td>\n",
              "      <td>62.0</td>\n",
              "      <td>2017</td>\n",
              "      <td>January</td>\n",
              "      <td>1</td>\n",
              "      <td>1</td>\n",
              "      <td>2</td>\n",
              "      <td>2</td>\n",
              "      <td>2.0</td>\n",
              "      <td>...</td>\n",
              "      <td>0</td>\n",
              "      <td>0</td>\n",
              "      <td>0</td>\n",
              "      <td>A</td>\n",
              "      <td>0</td>\n",
              "      <td>0</td>\n",
              "      <td>Transient</td>\n",
              "      <td>0</td>\n",
              "      <td>1</td>\n",
              "      <td>4</td>\n",
              "    </tr>\n",
              "    <tr>\n",
              "      <th>3</th>\n",
              "      <td>6089</td>\n",
              "      <td>1</td>\n",
              "      <td>71.0</td>\n",
              "      <td>2017</td>\n",
              "      <td>January</td>\n",
              "      <td>1</td>\n",
              "      <td>1</td>\n",
              "      <td>2</td>\n",
              "      <td>2</td>\n",
              "      <td>1.0</td>\n",
              "      <td>...</td>\n",
              "      <td>0</td>\n",
              "      <td>0</td>\n",
              "      <td>0</td>\n",
              "      <td>A</td>\n",
              "      <td>0</td>\n",
              "      <td>0</td>\n",
              "      <td>Transient</td>\n",
              "      <td>0</td>\n",
              "      <td>1</td>\n",
              "      <td>4</td>\n",
              "    </tr>\n",
              "    <tr>\n",
              "      <th>4</th>\n",
              "      <td>6090</td>\n",
              "      <td>1</td>\n",
              "      <td>172.0</td>\n",
              "      <td>2017</td>\n",
              "      <td>January</td>\n",
              "      <td>1</td>\n",
              "      <td>1</td>\n",
              "      <td>2</td>\n",
              "      <td>5</td>\n",
              "      <td>2.0</td>\n",
              "      <td>...</td>\n",
              "      <td>0</td>\n",
              "      <td>0</td>\n",
              "      <td>0</td>\n",
              "      <td>A</td>\n",
              "      <td>0</td>\n",
              "      <td>0</td>\n",
              "      <td>Transient</td>\n",
              "      <td>0</td>\n",
              "      <td>0</td>\n",
              "      <td>7</td>\n",
              "    </tr>\n",
              "  </tbody>\n",
              "</table>\n",
              "<p>5 rows × 25 columns</p>\n",
              "</div>"
            ],
            "text/plain": [
              "     id  is_canceled  lead_time  arrival_date_year arrival_date_month  \\\n",
              "0  6086            1       74.0               2017            January   \n",
              "1  6087            1       62.0               2017            January   \n",
              "2  6088            1       62.0               2017            January   \n",
              "3  6089            1       71.0               2017            January   \n",
              "4  6090            1      172.0               2017            January   \n",
              "\n",
              "   arrival_date_week_number  arrival_date_day_of_month  \\\n",
              "0                         1                          1   \n",
              "1                         1                          1   \n",
              "2                         1                          1   \n",
              "3                         1                          1   \n",
              "4                         1                          1   \n",
              "\n",
              "   stays_in_weekend_nights  stays_in_week_nights  adults  ...  \\\n",
              "0                        1                     0     2.0  ...   \n",
              "1                        2                     2     2.0  ...   \n",
              "2                        2                     2     2.0  ...   \n",
              "3                        2                     2     1.0  ...   \n",
              "4                        2                     5     2.0  ...   \n",
              "\n",
              "   is_repeated_guest  previous_cancellations previous_bookings_not_canceled  \\\n",
              "0                  0                       0                              0   \n",
              "1                  0                       0                              0   \n",
              "2                  0                       0                              0   \n",
              "3                  0                       0                              0   \n",
              "4                  0                       0                              0   \n",
              "\n",
              "  reserved_room_type booking_changes  days_in_waiting_list  customer_type  \\\n",
              "0   A                              0                     0      Transient   \n",
              "1   A                              0                     0      Transient   \n",
              "2   A                              0                     0      Transient   \n",
              "3   A                              0                     0      Transient   \n",
              "4   A                              0                     0      Transient   \n",
              "\n",
              "   required_car_parking_spaces total_of_special_requests  total_nights  \n",
              "0                            0                         0             1  \n",
              "1                            0                         1             4  \n",
              "2                            0                         1             4  \n",
              "3                            0                         1             4  \n",
              "4                            0                         0             7  \n",
              "\n",
              "[5 rows x 25 columns]"
            ]
          },
          "execution_count": 6,
          "metadata": {},
          "output_type": "execute_result"
        }
      ],
      "source": [
        "hotel_test.head()"
      ]
    },
    {
      "cell_type": "markdown",
      "metadata": {
        "id": "8a3B78fOZ1ZR"
      },
      "source": [
        "Из предоставленных для исследования данных, нам известно, что,\n",
        "\n",
        "В таблицах `hotel_train` и `hotel_test` содержатся одинаковые столбцы:  \n",
        "**id** — номер записи;  \n",
        "**adults** — количество взрослых постояльцев;  \n",
        "**arrival_date_year** — год заезда;  \n",
        "**arrival_date_month** — месяц заезда;  \n",
        "**arrival_date_week_number** — неделя заезда;  \n",
        "**arrival_date_day_of_month** — день заезда;  \n",
        "**babies** — количество младенцев;  \n",
        "**booking_changes** — количество изменений параметров заказа;  \n",
        "**children** — количество детей от 3 до 14 лет;  \n",
        "**country** — гражданство постояльца;  \n",
        "**customer_type** — тип заказчика:  \n",
        "   - Contract — договор с юридическим лицом;  \n",
        "   - Group — групповой заезд;  \n",
        "   - Transient — не связано с договором или групповым заездом;  \n",
        "   - Transient-party — не связано с договором или групповым заездом, но связано с бронированием типа Transient.  \n",
        "\n",
        "**days_in_waiting_list** — сколько дней заказ ожидал подтверждения;  \n",
        "**distribution_channel** — канал дистрибуции заказа;  \n",
        "**is_canceled** — отмена заказа;  \n",
        "**is_repeated_guest** — признак того, что гость бронирует номер второй раз;  \n",
        "**lead_time** — количество дней между датой бронирования и датой прибытия;  \n",
        "**meal** — опции заказа:  \n",
        "   - SC — нет дополнительных опций;  \n",
        "   - BB — включён завтрак;  \n",
        "   - HB — включён завтрак и обед;  \n",
        "   - FB — включён завтрак, обед и ужин.  \n",
        "   \n",
        "**previous_bookings_not_canceled** — количество подтверждённых заказов у клиента;  \n",
        "**previous_cancellations** — количество отменённых заказов у клиента;  \n",
        "**required_car_parking_spaces** — необходимость места для автомобиля;  \n",
        "**reserved_room_type** — тип забронированной комнаты;  \n",
        "**stays_in_weekend_nights** — количество ночей в выходные дни;  \n",
        "**stays_in_week_nights** — количество ночей в будние дни;  \n",
        "**total_nights** — общее количество ночей;  \n",
        "**total_of_special_requests** — количество специальных отметок.  "
      ]
    },
    {
      "cell_type": "markdown",
      "metadata": {
        "id": "UCcbXdm0Z1ZR"
      },
      "source": [
        "### Шаг 2. Предобработка и исследовательский анализ данных"
      ]
    },
    {
      "cell_type": "markdown",
      "metadata": {
        "id": "X1J2mvPbZ1ZR"
      },
      "source": [
        "#### Общая информация о датафреймах"
      ]
    },
    {
      "cell_type": "code",
      "execution_count": null,
      "metadata": {
        "id": "8SCke7miZ1ZR",
        "outputId": "390d8c1d-8b79-4e74-95dc-823d7b3c6b2b"
      },
      "outputs": [
        {
          "name": "stdout",
          "output_type": "stream",
          "text": [
            "<class 'pandas.core.frame.DataFrame'>\n",
            "RangeIndex: 65229 entries, 0 to 65228\n",
            "Data columns (total 25 columns):\n",
            " #   Column                          Non-Null Count  Dtype  \n",
            "---  ------                          --------------  -----  \n",
            " 0   id                              65229 non-null  int64  \n",
            " 1   is_canceled                     65229 non-null  int64  \n",
            " 2   lead_time                       65229 non-null  float64\n",
            " 3   arrival_date_year               65229 non-null  int64  \n",
            " 4   arrival_date_month              65229 non-null  object \n",
            " 5   arrival_date_week_number        65229 non-null  int64  \n",
            " 6   arrival_date_day_of_month       65229 non-null  int64  \n",
            " 7   stays_in_weekend_nights         65229 non-null  int64  \n",
            " 8   stays_in_week_nights            65229 non-null  int64  \n",
            " 9   adults                          65229 non-null  float64\n",
            " 10  children                        65229 non-null  float64\n",
            " 11  babies                          65229 non-null  float64\n",
            " 12  meal                            65229 non-null  object \n",
            " 13  country                         65229 non-null  object \n",
            " 14  distribution_channel            65229 non-null  object \n",
            " 15  is_repeated_guest               65229 non-null  int64  \n",
            " 16  previous_cancellations          65229 non-null  int64  \n",
            " 17  previous_bookings_not_canceled  65229 non-null  int64  \n",
            " 18  reserved_room_type              65229 non-null  object \n",
            " 19  booking_changes                 65229 non-null  int64  \n",
            " 20  days_in_waiting_list            65229 non-null  int64  \n",
            " 21  customer_type                   65229 non-null  object \n",
            " 22  required_car_parking_spaces     65229 non-null  int64  \n",
            " 23  total_of_special_requests       65229 non-null  int64  \n",
            " 24  total_nights                    65229 non-null  int64  \n",
            "dtypes: float64(4), int64(15), object(6)\n",
            "memory usage: 12.4+ MB\n"
          ]
        }
      ],
      "source": [
        "hotel_train.info()"
      ]
    },
    {
      "cell_type": "code",
      "execution_count": null,
      "metadata": {
        "id": "pVtZ_WNaZ1ZS",
        "outputId": "c4371920-9bd8-4a1b-f431-9ff5d2d27f96"
      },
      "outputs": [
        {
          "name": "stdout",
          "output_type": "stream",
          "text": [
            "<class 'pandas.core.frame.DataFrame'>\n",
            "RangeIndex: 32412 entries, 0 to 32411\n",
            "Data columns (total 25 columns):\n",
            " #   Column                          Non-Null Count  Dtype  \n",
            "---  ------                          --------------  -----  \n",
            " 0   id                              32412 non-null  int64  \n",
            " 1   is_canceled                     32412 non-null  int64  \n",
            " 2   lead_time                       32412 non-null  float64\n",
            " 3   arrival_date_year               32412 non-null  int64  \n",
            " 4   arrival_date_month              32412 non-null  object \n",
            " 5   arrival_date_week_number        32412 non-null  int64  \n",
            " 6   arrival_date_day_of_month       32412 non-null  int64  \n",
            " 7   stays_in_weekend_nights         32412 non-null  int64  \n",
            " 8   stays_in_week_nights            32412 non-null  int64  \n",
            " 9   adults                          32412 non-null  float64\n",
            " 10  children                        32412 non-null  float64\n",
            " 11  babies                          32412 non-null  float64\n",
            " 12  meal                            32412 non-null  object \n",
            " 13  country                         32412 non-null  object \n",
            " 14  distribution_channel            32412 non-null  object \n",
            " 15  is_repeated_guest               32412 non-null  int64  \n",
            " 16  previous_cancellations          32412 non-null  int64  \n",
            " 17  previous_bookings_not_canceled  32412 non-null  int64  \n",
            " 18  reserved_room_type              32412 non-null  object \n",
            " 19  booking_changes                 32412 non-null  int64  \n",
            " 20  days_in_waiting_list            32412 non-null  int64  \n",
            " 21  customer_type                   32412 non-null  object \n",
            " 22  required_car_parking_spaces     32412 non-null  int64  \n",
            " 23  total_of_special_requests       32412 non-null  int64  \n",
            " 24  total_nights                    32412 non-null  int64  \n",
            "dtypes: float64(4), int64(15), object(6)\n",
            "memory usage: 6.2+ MB\n"
          ]
        }
      ],
      "source": [
        "hotel_test.info()"
      ]
    },
    {
      "cell_type": "markdown",
      "metadata": {
        "id": "WnUqq-KXZ1ZS"
      },
      "source": [
        "В датафрейме `hotel_train` 65229 записей, В датафрейме `hotel_test` 32412 записей. Пропущенных значений нет."
      ]
    },
    {
      "cell_type": "markdown",
      "metadata": {
        "id": "7zozoWvoZ1ZS"
      },
      "source": [
        "#### Поиск дубликатов"
      ]
    },
    {
      "cell_type": "code",
      "execution_count": null,
      "metadata": {
        "scrolled": false,
        "id": "jex-3smJZ1ZS",
        "outputId": "0f8afeda-4f44-4b9e-f98a-30d1b7946c95"
      },
      "outputs": [
        {
          "name": "stdout",
          "output_type": "stream",
          "text": [
            "0\n",
            "0\n"
          ]
        }
      ],
      "source": [
        "print(hotel_test.duplicated().sum())\n",
        "print(hotel_train.duplicated().sum())"
      ]
    },
    {
      "cell_type": "markdown",
      "metadata": {
        "id": "Uo_jU8CpZ1ZT"
      },
      "source": [
        "Явных дубликатов не обнаружено."
      ]
    },
    {
      "cell_type": "markdown",
      "metadata": {
        "id": "paLYU1ijZ1ZT"
      },
      "source": [
        "Поищем дубликаты в категориальных столбцах датафрейма"
      ]
    },
    {
      "cell_type": "code",
      "execution_count": null,
      "metadata": {
        "id": "mke1un82Z1ZT",
        "outputId": "2f7d85fe-ed0b-436e-eee4-2ef60d70f268"
      },
      "outputs": [
        {
          "data": {
            "text/plain": [
              "array(['BB       ', 'FB       ', 'HB       ', 'SC       ', 'SC'],\n",
              "      dtype=object)"
            ]
          },
          "execution_count": 10,
          "metadata": {},
          "output_type": "execute_result"
        }
      ],
      "source": [
        "hotel_train['meal'].unique()"
      ]
    },
    {
      "cell_type": "code",
      "execution_count": null,
      "metadata": {
        "id": "4UWSKLv3Z1ZU",
        "outputId": "c565b98e-0a6e-4e7a-b55e-070a7f67be01"
      },
      "outputs": [
        {
          "data": {
            "text/plain": [
              "array(['BB       ', 'HB       ', 'SC', 'FB       ', 'SC       '],\n",
              "      dtype=object)"
            ]
          },
          "execution_count": 11,
          "metadata": {},
          "output_type": "execute_result"
        }
      ],
      "source": [
        "hotel_test['meal'].unique()"
      ]
    },
    {
      "cell_type": "markdown",
      "metadata": {
        "id": "B147pJoEZ1ZU"
      },
      "source": [
        "Обнаружены лишние пробелы в написании. Не явные дубликаты: `'SC       ',` `'SC'`. Исправим это."
      ]
    },
    {
      "cell_type": "code",
      "execution_count": null,
      "metadata": {
        "id": "HwGq2t0wZ1ZU"
      },
      "outputs": [],
      "source": [
        "hotel_test['meal'] = hotel_test['meal'].str.strip()\n",
        "hotel_train['meal'] = hotel_train['meal'].str.strip()"
      ]
    },
    {
      "cell_type": "markdown",
      "metadata": {
        "id": "NL9Ob2VKZ1ZU"
      },
      "source": [
        "Проверив, выведем на экран категории содержащиеся в этих столбцах"
      ]
    },
    {
      "cell_type": "code",
      "execution_count": null,
      "metadata": {
        "id": "COfeV5OpZ1ZU",
        "outputId": "5533bfce-b82c-4ab0-9fbe-aae925a95a18"
      },
      "outputs": [
        {
          "data": {
            "text/plain": [
              "BB    24684\n",
              "SC     5293\n",
              "HB     2399\n",
              "FB       36\n",
              "Name: meal, dtype: int64"
            ]
          },
          "execution_count": 13,
          "metadata": {},
          "output_type": "execute_result"
        }
      ],
      "source": [
        "hotel_test['meal'].value_counts()"
      ]
    },
    {
      "cell_type": "code",
      "execution_count": null,
      "metadata": {
        "id": "IqIa-fX7Z1ZV",
        "outputId": "71bd9116-a08a-43a2-c7d5-3c47bef0ee81"
      },
      "outputs": [
        {
          "data": {
            "text/plain": [
              "BB    51697\n",
              "HB     7292\n",
              "SC     5789\n",
              "FB      451\n",
              "Name: meal, dtype: int64"
            ]
          },
          "execution_count": 14,
          "metadata": {},
          "output_type": "execute_result"
        }
      ],
      "source": [
        "hotel_train['meal'].value_counts()"
      ]
    },
    {
      "cell_type": "markdown",
      "metadata": {
        "id": "LJhVkmZ2Z1ZV"
      },
      "source": [
        "Посмотрим на уникальные значения для столбца **reserved_room_type** в двух датафреймах"
      ]
    },
    {
      "cell_type": "code",
      "execution_count": null,
      "metadata": {
        "id": "GWZLgY95Z1ZV",
        "outputId": "5588cbdc-14db-4862-8d43-6003d3f0471f"
      },
      "outputs": [
        {
          "data": {
            "text/plain": [
              "array(['A               ', 'C               ', 'D               ',\n",
              "       'E               ', 'G               ', 'F               ',\n",
              "       'B               '], dtype=object)"
            ]
          },
          "execution_count": 15,
          "metadata": {},
          "output_type": "execute_result"
        }
      ],
      "source": [
        "hotel_train['reserved_room_type'].unique()"
      ]
    },
    {
      "cell_type": "code",
      "execution_count": null,
      "metadata": {
        "id": "5zJvRkHJZ1ZW",
        "outputId": "109d68f9-fd95-4622-fe37-8c879f515a44"
      },
      "outputs": [
        {
          "data": {
            "text/plain": [
              "array(['A               ', 'E               ', 'G               ',\n",
              "       'D               ', 'F               ', 'C               ',\n",
              "       'B               '], dtype=object)"
            ]
          },
          "execution_count": 16,
          "metadata": {},
          "output_type": "execute_result"
        }
      ],
      "source": [
        "hotel_test['reserved_room_type'].unique()"
      ]
    },
    {
      "cell_type": "markdown",
      "metadata": {
        "id": "i_NmN29uZ1ZW"
      },
      "source": [
        "Обнаружены пробелы в написании, исправим это, и результат выведем на экран"
      ]
    },
    {
      "cell_type": "code",
      "execution_count": null,
      "metadata": {
        "id": "Llo5BtSqZ1ZW",
        "outputId": "67ee5c9f-3eae-4644-b272-e75a12038693"
      },
      "outputs": [
        {
          "name": "stdout",
          "output_type": "stream",
          "text": [
            "['A' 'C' 'D' 'E' 'G' 'F' 'B']\n",
            "['A' 'C' 'D' 'E' 'G' 'F' 'B']\n"
          ]
        }
      ],
      "source": [
        "hotel_test['reserved_room_type'] = hotel_test['reserved_room_type'].str.strip()\n",
        "hotel_train['reserved_room_type'] = hotel_train['reserved_room_type'].str.strip()\n",
        "print(hotel_train['reserved_room_type'].unique())\n",
        "print(hotel_train['reserved_room_type'].unique())"
      ]
    },
    {
      "cell_type": "markdown",
      "metadata": {
        "id": "fCrI77EMZ1ZX"
      },
      "source": [
        "#### Изменение типов данных"
      ]
    },
    {
      "cell_type": "markdown",
      "metadata": {
        "id": "Dt825MmBZ1ZX"
      },
      "source": [
        "Столбцы **lead_time**, **adults**, **children**, **babies** имеют тип данных `float64`, изменим тип данных на целочисленный `int64`."
      ]
    },
    {
      "cell_type": "code",
      "execution_count": null,
      "metadata": {
        "id": "61HP1fD5Z1ZX"
      },
      "outputs": [],
      "source": [
        "columns = ['lead_time', 'adults', 'children', 'babies']\n",
        "tables = [hotel_test, hotel_train]\n",
        "for table in tables:\n",
        "    for col in columns:\n",
        "        table[col] = table[col].astype('int64')"
      ]
    },
    {
      "cell_type": "markdown",
      "metadata": {
        "id": "SAaf6EwFZ1ZX"
      },
      "source": [
        "#### Избавляемся от выбросов"
      ]
    },
    {
      "cell_type": "markdown",
      "metadata": {
        "id": "aN01CSAKZ1ZX"
      },
      "source": [
        "Исследуем датафреймы, взглянем на количественные переменные методом `describe`"
      ]
    },
    {
      "cell_type": "code",
      "execution_count": null,
      "metadata": {
        "id": "T4X-sO3WZ1ZX",
        "outputId": "07f4e975-62ea-4ddf-ef28-65f9579577a4"
      },
      "outputs": [
        {
          "data": {
            "text/html": [
              "<div>\n",
              "<style scoped>\n",
              "    .dataframe tbody tr th:only-of-type {\n",
              "        vertical-align: middle;\n",
              "    }\n",
              "\n",
              "    .dataframe tbody tr th {\n",
              "        vertical-align: top;\n",
              "    }\n",
              "\n",
              "    .dataframe thead th {\n",
              "        text-align: right;\n",
              "    }\n",
              "</style>\n",
              "<table border=\"1\" class=\"dataframe\">\n",
              "  <thead>\n",
              "    <tr style=\"text-align: right;\">\n",
              "      <th></th>\n",
              "      <th>id</th>\n",
              "      <th>is_canceled</th>\n",
              "      <th>lead_time</th>\n",
              "      <th>arrival_date_year</th>\n",
              "      <th>arrival_date_week_number</th>\n",
              "      <th>arrival_date_day_of_month</th>\n",
              "      <th>stays_in_weekend_nights</th>\n",
              "      <th>stays_in_week_nights</th>\n",
              "      <th>adults</th>\n",
              "      <th>children</th>\n",
              "      <th>babies</th>\n",
              "      <th>is_repeated_guest</th>\n",
              "      <th>previous_cancellations</th>\n",
              "      <th>previous_bookings_not_canceled</th>\n",
              "      <th>booking_changes</th>\n",
              "      <th>days_in_waiting_list</th>\n",
              "      <th>required_car_parking_spaces</th>\n",
              "      <th>total_of_special_requests</th>\n",
              "      <th>total_nights</th>\n",
              "    </tr>\n",
              "  </thead>\n",
              "  <tbody>\n",
              "    <tr>\n",
              "      <th>count</th>\n",
              "      <td>65229.000000</td>\n",
              "      <td>65229.000000</td>\n",
              "      <td>65229.000000</td>\n",
              "      <td>65229.000000</td>\n",
              "      <td>65229.000000</td>\n",
              "      <td>65229.000000</td>\n",
              "      <td>65229.000000</td>\n",
              "      <td>65229.000000</td>\n",
              "      <td>65229.000000</td>\n",
              "      <td>65229.000000</td>\n",
              "      <td>65229.000000</td>\n",
              "      <td>65229.000000</td>\n",
              "      <td>65229.000000</td>\n",
              "      <td>65229.000000</td>\n",
              "      <td>65229.000000</td>\n",
              "      <td>65229.000000</td>\n",
              "      <td>65229.000000</td>\n",
              "      <td>65229.000000</td>\n",
              "      <td>65229.000000</td>\n",
              "    </tr>\n",
              "    <tr>\n",
              "      <th>mean</th>\n",
              "      <td>43544.069172</td>\n",
              "      <td>0.368609</td>\n",
              "      <td>96.337917</td>\n",
              "      <td>2015.719021</td>\n",
              "      <td>31.339772</td>\n",
              "      <td>15.847813</td>\n",
              "      <td>0.825185</td>\n",
              "      <td>2.224793</td>\n",
              "      <td>1.836576</td>\n",
              "      <td>0.074890</td>\n",
              "      <td>0.007236</td>\n",
              "      <td>0.027151</td>\n",
              "      <td>0.128915</td>\n",
              "      <td>0.107713</td>\n",
              "      <td>0.194269</td>\n",
              "      <td>3.334422</td>\n",
              "      <td>0.056647</td>\n",
              "      <td>0.512763</td>\n",
              "      <td>3.049978</td>\n",
              "    </tr>\n",
              "    <tr>\n",
              "      <th>std</th>\n",
              "      <td>25614.858971</td>\n",
              "      <td>0.482431</td>\n",
              "      <td>96.127545</td>\n",
              "      <td>0.449481</td>\n",
              "      <td>13.464024</td>\n",
              "      <td>8.748182</td>\n",
              "      <td>0.853477</td>\n",
              "      <td>1.354992</td>\n",
              "      <td>0.480245</td>\n",
              "      <td>0.334243</td>\n",
              "      <td>0.098790</td>\n",
              "      <td>0.162523</td>\n",
              "      <td>0.965326</td>\n",
              "      <td>1.326638</td>\n",
              "      <td>0.593838</td>\n",
              "      <td>18.239606</td>\n",
              "      <td>0.232094</td>\n",
              "      <td>0.752590</td>\n",
              "      <td>1.738108</td>\n",
              "    </tr>\n",
              "    <tr>\n",
              "      <th>min</th>\n",
              "      <td>0.000000</td>\n",
              "      <td>0.000000</td>\n",
              "      <td>0.000000</td>\n",
              "      <td>2015.000000</td>\n",
              "      <td>1.000000</td>\n",
              "      <td>1.000000</td>\n",
              "      <td>0.000000</td>\n",
              "      <td>0.000000</td>\n",
              "      <td>0.000000</td>\n",
              "      <td>0.000000</td>\n",
              "      <td>0.000000</td>\n",
              "      <td>0.000000</td>\n",
              "      <td>0.000000</td>\n",
              "      <td>0.000000</td>\n",
              "      <td>0.000000</td>\n",
              "      <td>0.000000</td>\n",
              "      <td>0.000000</td>\n",
              "      <td>0.000000</td>\n",
              "      <td>1.000000</td>\n",
              "    </tr>\n",
              "    <tr>\n",
              "      <th>25%</th>\n",
              "      <td>19108.000000</td>\n",
              "      <td>0.000000</td>\n",
              "      <td>17.000000</td>\n",
              "      <td>2015.000000</td>\n",
              "      <td>21.000000</td>\n",
              "      <td>8.000000</td>\n",
              "      <td>0.000000</td>\n",
              "      <td>1.000000</td>\n",
              "      <td>2.000000</td>\n",
              "      <td>0.000000</td>\n",
              "      <td>0.000000</td>\n",
              "      <td>0.000000</td>\n",
              "      <td>0.000000</td>\n",
              "      <td>0.000000</td>\n",
              "      <td>0.000000</td>\n",
              "      <td>0.000000</td>\n",
              "      <td>0.000000</td>\n",
              "      <td>0.000000</td>\n",
              "      <td>2.000000</td>\n",
              "    </tr>\n",
              "    <tr>\n",
              "      <th>50%</th>\n",
              "      <td>40554.000000</td>\n",
              "      <td>0.000000</td>\n",
              "      <td>64.000000</td>\n",
              "      <td>2016.000000</td>\n",
              "      <td>34.000000</td>\n",
              "      <td>16.000000</td>\n",
              "      <td>1.000000</td>\n",
              "      <td>2.000000</td>\n",
              "      <td>2.000000</td>\n",
              "      <td>0.000000</td>\n",
              "      <td>0.000000</td>\n",
              "      <td>0.000000</td>\n",
              "      <td>0.000000</td>\n",
              "      <td>0.000000</td>\n",
              "      <td>0.000000</td>\n",
              "      <td>0.000000</td>\n",
              "      <td>0.000000</td>\n",
              "      <td>0.000000</td>\n",
              "      <td>3.000000</td>\n",
              "    </tr>\n",
              "    <tr>\n",
              "      <th>75%</th>\n",
              "      <td>67414.000000</td>\n",
              "      <td>1.000000</td>\n",
              "      <td>151.000000</td>\n",
              "      <td>2016.000000</td>\n",
              "      <td>42.000000</td>\n",
              "      <td>23.000000</td>\n",
              "      <td>2.000000</td>\n",
              "      <td>3.000000</td>\n",
              "      <td>2.000000</td>\n",
              "      <td>0.000000</td>\n",
              "      <td>0.000000</td>\n",
              "      <td>0.000000</td>\n",
              "      <td>0.000000</td>\n",
              "      <td>0.000000</td>\n",
              "      <td>0.000000</td>\n",
              "      <td>0.000000</td>\n",
              "      <td>0.000000</td>\n",
              "      <td>1.000000</td>\n",
              "      <td>4.000000</td>\n",
              "    </tr>\n",
              "    <tr>\n",
              "      <th>max</th>\n",
              "      <td>84121.000000</td>\n",
              "      <td>1.000000</td>\n",
              "      <td>374.000000</td>\n",
              "      <td>2016.000000</td>\n",
              "      <td>53.000000</td>\n",
              "      <td>31.000000</td>\n",
              "      <td>4.000000</td>\n",
              "      <td>6.000000</td>\n",
              "      <td>4.000000</td>\n",
              "      <td>3.000000</td>\n",
              "      <td>10.000000</td>\n",
              "      <td>1.000000</td>\n",
              "      <td>26.000000</td>\n",
              "      <td>58.000000</td>\n",
              "      <td>17.000000</td>\n",
              "      <td>259.000000</td>\n",
              "      <td>3.000000</td>\n",
              "      <td>5.000000</td>\n",
              "      <td>10.000000</td>\n",
              "    </tr>\n",
              "  </tbody>\n",
              "</table>\n",
              "</div>"
            ],
            "text/plain": [
              "                 id   is_canceled     lead_time  arrival_date_year  \\\n",
              "count  65229.000000  65229.000000  65229.000000       65229.000000   \n",
              "mean   43544.069172      0.368609     96.337917        2015.719021   \n",
              "std    25614.858971      0.482431     96.127545           0.449481   \n",
              "min        0.000000      0.000000      0.000000        2015.000000   \n",
              "25%    19108.000000      0.000000     17.000000        2015.000000   \n",
              "50%    40554.000000      0.000000     64.000000        2016.000000   \n",
              "75%    67414.000000      1.000000    151.000000        2016.000000   \n",
              "max    84121.000000      1.000000    374.000000        2016.000000   \n",
              "\n",
              "       arrival_date_week_number  arrival_date_day_of_month  \\\n",
              "count              65229.000000               65229.000000   \n",
              "mean                  31.339772                  15.847813   \n",
              "std                   13.464024                   8.748182   \n",
              "min                    1.000000                   1.000000   \n",
              "25%                   21.000000                   8.000000   \n",
              "50%                   34.000000                  16.000000   \n",
              "75%                   42.000000                  23.000000   \n",
              "max                   53.000000                  31.000000   \n",
              "\n",
              "       stays_in_weekend_nights  stays_in_week_nights        adults  \\\n",
              "count             65229.000000          65229.000000  65229.000000   \n",
              "mean                  0.825185              2.224793      1.836576   \n",
              "std                   0.853477              1.354992      0.480245   \n",
              "min                   0.000000              0.000000      0.000000   \n",
              "25%                   0.000000              1.000000      2.000000   \n",
              "50%                   1.000000              2.000000      2.000000   \n",
              "75%                   2.000000              3.000000      2.000000   \n",
              "max                   4.000000              6.000000      4.000000   \n",
              "\n",
              "           children        babies  is_repeated_guest  previous_cancellations  \\\n",
              "count  65229.000000  65229.000000       65229.000000            65229.000000   \n",
              "mean       0.074890      0.007236           0.027151                0.128915   \n",
              "std        0.334243      0.098790           0.162523                0.965326   \n",
              "min        0.000000      0.000000           0.000000                0.000000   \n",
              "25%        0.000000      0.000000           0.000000                0.000000   \n",
              "50%        0.000000      0.000000           0.000000                0.000000   \n",
              "75%        0.000000      0.000000           0.000000                0.000000   \n",
              "max        3.000000     10.000000           1.000000               26.000000   \n",
              "\n",
              "       previous_bookings_not_canceled  booking_changes  days_in_waiting_list  \\\n",
              "count                    65229.000000     65229.000000          65229.000000   \n",
              "mean                         0.107713         0.194269              3.334422   \n",
              "std                          1.326638         0.593838             18.239606   \n",
              "min                          0.000000         0.000000              0.000000   \n",
              "25%                          0.000000         0.000000              0.000000   \n",
              "50%                          0.000000         0.000000              0.000000   \n",
              "75%                          0.000000         0.000000              0.000000   \n",
              "max                         58.000000        17.000000            259.000000   \n",
              "\n",
              "       required_car_parking_spaces  total_of_special_requests  total_nights  \n",
              "count                 65229.000000               65229.000000  65229.000000  \n",
              "mean                      0.056647                   0.512763      3.049978  \n",
              "std                       0.232094                   0.752590      1.738108  \n",
              "min                       0.000000                   0.000000      1.000000  \n",
              "25%                       0.000000                   0.000000      2.000000  \n",
              "50%                       0.000000                   0.000000      3.000000  \n",
              "75%                       0.000000                   1.000000      4.000000  \n",
              "max                       3.000000                   5.000000     10.000000  "
            ]
          },
          "execution_count": 19,
          "metadata": {},
          "output_type": "execute_result"
        }
      ],
      "source": [
        "hotel_train.describe()"
      ]
    },
    {
      "cell_type": "code",
      "execution_count": null,
      "metadata": {
        "scrolled": true,
        "id": "BZxvq1tbZ1ZY",
        "outputId": "7c17c6fa-80c7-4c1e-b2ed-408cdd2cc40a"
      },
      "outputs": [
        {
          "data": {
            "text/html": [
              "<div>\n",
              "<style scoped>\n",
              "    .dataframe tbody tr th:only-of-type {\n",
              "        vertical-align: middle;\n",
              "    }\n",
              "\n",
              "    .dataframe tbody tr th {\n",
              "        vertical-align: top;\n",
              "    }\n",
              "\n",
              "    .dataframe thead th {\n",
              "        text-align: right;\n",
              "    }\n",
              "</style>\n",
              "<table border=\"1\" class=\"dataframe\">\n",
              "  <thead>\n",
              "    <tr style=\"text-align: right;\">\n",
              "      <th></th>\n",
              "      <th>id</th>\n",
              "      <th>is_canceled</th>\n",
              "      <th>lead_time</th>\n",
              "      <th>arrival_date_year</th>\n",
              "      <th>arrival_date_week_number</th>\n",
              "      <th>arrival_date_day_of_month</th>\n",
              "      <th>stays_in_weekend_nights</th>\n",
              "      <th>stays_in_week_nights</th>\n",
              "      <th>adults</th>\n",
              "      <th>children</th>\n",
              "      <th>babies</th>\n",
              "      <th>is_repeated_guest</th>\n",
              "      <th>previous_cancellations</th>\n",
              "      <th>previous_bookings_not_canceled</th>\n",
              "      <th>booking_changes</th>\n",
              "      <th>days_in_waiting_list</th>\n",
              "      <th>required_car_parking_spaces</th>\n",
              "      <th>total_of_special_requests</th>\n",
              "      <th>total_nights</th>\n",
              "    </tr>\n",
              "  </thead>\n",
              "  <tbody>\n",
              "    <tr>\n",
              "      <th>count</th>\n",
              "      <td>32412.000000</td>\n",
              "      <td>32412.000000</td>\n",
              "      <td>32412.000000</td>\n",
              "      <td>32412.0</td>\n",
              "      <td>32412.000000</td>\n",
              "      <td>32412.000000</td>\n",
              "      <td>32412.000000</td>\n",
              "      <td>32412.00000</td>\n",
              "      <td>32412.000000</td>\n",
              "      <td>32412.000000</td>\n",
              "      <td>32412.000000</td>\n",
              "      <td>32412.000000</td>\n",
              "      <td>32412.000000</td>\n",
              "      <td>32412.000000</td>\n",
              "      <td>32412.000000</td>\n",
              "      <td>32412.000000</td>\n",
              "      <td>32412.000000</td>\n",
              "      <td>32412.000000</td>\n",
              "      <td>32412.000000</td>\n",
              "    </tr>\n",
              "    <tr>\n",
              "      <th>mean</th>\n",
              "      <td>60131.505183</td>\n",
              "      <td>0.388467</td>\n",
              "      <td>97.587869</td>\n",
              "      <td>2017.0</td>\n",
              "      <td>17.804054</td>\n",
              "      <td>15.656948</td>\n",
              "      <td>0.867888</td>\n",
              "      <td>2.34009</td>\n",
              "      <td>1.858602</td>\n",
              "      <td>0.083765</td>\n",
              "      <td>0.005523</td>\n",
              "      <td>0.031377</td>\n",
              "      <td>0.011601</td>\n",
              "      <td>0.171418</td>\n",
              "      <td>0.216741</td>\n",
              "      <td>0.262341</td>\n",
              "      <td>0.046248</td>\n",
              "      <td>0.657781</td>\n",
              "      <td>3.207979</td>\n",
              "    </tr>\n",
              "    <tr>\n",
              "      <th>std</th>\n",
              "      <td>29953.586177</td>\n",
              "      <td>0.487409</td>\n",
              "      <td>86.507146</td>\n",
              "      <td>0.0</td>\n",
              "      <td>9.177384</td>\n",
              "      <td>8.766429</td>\n",
              "      <td>0.853394</td>\n",
              "      <td>1.37517</td>\n",
              "      <td>0.489341</td>\n",
              "      <td>0.343470</td>\n",
              "      <td>0.075757</td>\n",
              "      <td>0.174338</td>\n",
              "      <td>0.180473</td>\n",
              "      <td>1.875170</td>\n",
              "      <td>0.640551</td>\n",
              "      <td>4.733027</td>\n",
              "      <td>0.219367</td>\n",
              "      <td>0.834341</td>\n",
              "      <td>1.738683</td>\n",
              "    </tr>\n",
              "    <tr>\n",
              "      <th>min</th>\n",
              "      <td>6086.000000</td>\n",
              "      <td>0.000000</td>\n",
              "      <td>0.000000</td>\n",
              "      <td>2017.0</td>\n",
              "      <td>1.000000</td>\n",
              "      <td>1.000000</td>\n",
              "      <td>0.000000</td>\n",
              "      <td>0.00000</td>\n",
              "      <td>0.000000</td>\n",
              "      <td>0.000000</td>\n",
              "      <td>0.000000</td>\n",
              "      <td>0.000000</td>\n",
              "      <td>0.000000</td>\n",
              "      <td>0.000000</td>\n",
              "      <td>0.000000</td>\n",
              "      <td>0.000000</td>\n",
              "      <td>0.000000</td>\n",
              "      <td>0.000000</td>\n",
              "      <td>1.000000</td>\n",
              "    </tr>\n",
              "    <tr>\n",
              "      <th>25%</th>\n",
              "      <td>45291.750000</td>\n",
              "      <td>0.000000</td>\n",
              "      <td>23.000000</td>\n",
              "      <td>2017.0</td>\n",
              "      <td>10.000000</td>\n",
              "      <td>8.000000</td>\n",
              "      <td>0.000000</td>\n",
              "      <td>1.00000</td>\n",
              "      <td>2.000000</td>\n",
              "      <td>0.000000</td>\n",
              "      <td>0.000000</td>\n",
              "      <td>0.000000</td>\n",
              "      <td>0.000000</td>\n",
              "      <td>0.000000</td>\n",
              "      <td>0.000000</td>\n",
              "      <td>0.000000</td>\n",
              "      <td>0.000000</td>\n",
              "      <td>0.000000</td>\n",
              "      <td>2.000000</td>\n",
              "    </tr>\n",
              "    <tr>\n",
              "      <th>50%</th>\n",
              "      <td>53394.500000</td>\n",
              "      <td>0.000000</td>\n",
              "      <td>76.000000</td>\n",
              "      <td>2017.0</td>\n",
              "      <td>18.000000</td>\n",
              "      <td>15.500000</td>\n",
              "      <td>1.000000</td>\n",
              "      <td>2.00000</td>\n",
              "      <td>2.000000</td>\n",
              "      <td>0.000000</td>\n",
              "      <td>0.000000</td>\n",
              "      <td>0.000000</td>\n",
              "      <td>0.000000</td>\n",
              "      <td>0.000000</td>\n",
              "      <td>0.000000</td>\n",
              "      <td>0.000000</td>\n",
              "      <td>0.000000</td>\n",
              "      <td>0.000000</td>\n",
              "      <td>3.000000</td>\n",
              "    </tr>\n",
              "    <tr>\n",
              "      <th>75%</th>\n",
              "      <td>89800.250000</td>\n",
              "      <td>1.000000</td>\n",
              "      <td>155.000000</td>\n",
              "      <td>2017.0</td>\n",
              "      <td>25.000000</td>\n",
              "      <td>23.000000</td>\n",
              "      <td>2.000000</td>\n",
              "      <td>3.00000</td>\n",
              "      <td>2.000000</td>\n",
              "      <td>0.000000</td>\n",
              "      <td>0.000000</td>\n",
              "      <td>0.000000</td>\n",
              "      <td>0.000000</td>\n",
              "      <td>0.000000</td>\n",
              "      <td>0.000000</td>\n",
              "      <td>0.000000</td>\n",
              "      <td>0.000000</td>\n",
              "      <td>1.000000</td>\n",
              "      <td>4.000000</td>\n",
              "    </tr>\n",
              "    <tr>\n",
              "      <th>max</th>\n",
              "      <td>97903.000000</td>\n",
              "      <td>1.000000</td>\n",
              "      <td>373.000000</td>\n",
              "      <td>2017.0</td>\n",
              "      <td>35.000000</td>\n",
              "      <td>31.000000</td>\n",
              "      <td>4.000000</td>\n",
              "      <td>6.00000</td>\n",
              "      <td>4.000000</td>\n",
              "      <td>3.000000</td>\n",
              "      <td>2.000000</td>\n",
              "      <td>1.000000</td>\n",
              "      <td>6.000000</td>\n",
              "      <td>72.000000</td>\n",
              "      <td>18.000000</td>\n",
              "      <td>223.000000</td>\n",
              "      <td>8.000000</td>\n",
              "      <td>5.000000</td>\n",
              "      <td>10.000000</td>\n",
              "    </tr>\n",
              "  </tbody>\n",
              "</table>\n",
              "</div>"
            ],
            "text/plain": [
              "                 id   is_canceled     lead_time  arrival_date_year  \\\n",
              "count  32412.000000  32412.000000  32412.000000            32412.0   \n",
              "mean   60131.505183      0.388467     97.587869             2017.0   \n",
              "std    29953.586177      0.487409     86.507146                0.0   \n",
              "min     6086.000000      0.000000      0.000000             2017.0   \n",
              "25%    45291.750000      0.000000     23.000000             2017.0   \n",
              "50%    53394.500000      0.000000     76.000000             2017.0   \n",
              "75%    89800.250000      1.000000    155.000000             2017.0   \n",
              "max    97903.000000      1.000000    373.000000             2017.0   \n",
              "\n",
              "       arrival_date_week_number  arrival_date_day_of_month  \\\n",
              "count              32412.000000               32412.000000   \n",
              "mean                  17.804054                  15.656948   \n",
              "std                    9.177384                   8.766429   \n",
              "min                    1.000000                   1.000000   \n",
              "25%                   10.000000                   8.000000   \n",
              "50%                   18.000000                  15.500000   \n",
              "75%                   25.000000                  23.000000   \n",
              "max                   35.000000                  31.000000   \n",
              "\n",
              "       stays_in_weekend_nights  stays_in_week_nights        adults  \\\n",
              "count             32412.000000           32412.00000  32412.000000   \n",
              "mean                  0.867888               2.34009      1.858602   \n",
              "std                   0.853394               1.37517      0.489341   \n",
              "min                   0.000000               0.00000      0.000000   \n",
              "25%                   0.000000               1.00000      2.000000   \n",
              "50%                   1.000000               2.00000      2.000000   \n",
              "75%                   2.000000               3.00000      2.000000   \n",
              "max                   4.000000               6.00000      4.000000   \n",
              "\n",
              "           children        babies  is_repeated_guest  previous_cancellations  \\\n",
              "count  32412.000000  32412.000000       32412.000000            32412.000000   \n",
              "mean       0.083765      0.005523           0.031377                0.011601   \n",
              "std        0.343470      0.075757           0.174338                0.180473   \n",
              "min        0.000000      0.000000           0.000000                0.000000   \n",
              "25%        0.000000      0.000000           0.000000                0.000000   \n",
              "50%        0.000000      0.000000           0.000000                0.000000   \n",
              "75%        0.000000      0.000000           0.000000                0.000000   \n",
              "max        3.000000      2.000000           1.000000                6.000000   \n",
              "\n",
              "       previous_bookings_not_canceled  booking_changes  days_in_waiting_list  \\\n",
              "count                    32412.000000     32412.000000          32412.000000   \n",
              "mean                         0.171418         0.216741              0.262341   \n",
              "std                          1.875170         0.640551              4.733027   \n",
              "min                          0.000000         0.000000              0.000000   \n",
              "25%                          0.000000         0.000000              0.000000   \n",
              "50%                          0.000000         0.000000              0.000000   \n",
              "75%                          0.000000         0.000000              0.000000   \n",
              "max                         72.000000        18.000000            223.000000   \n",
              "\n",
              "       required_car_parking_spaces  total_of_special_requests  total_nights  \n",
              "count                 32412.000000               32412.000000  32412.000000  \n",
              "mean                      0.046248                   0.657781      3.207979  \n",
              "std                       0.219367                   0.834341      1.738683  \n",
              "min                       0.000000                   0.000000      1.000000  \n",
              "25%                       0.000000                   0.000000      2.000000  \n",
              "50%                       0.000000                   0.000000      3.000000  \n",
              "75%                       0.000000                   1.000000      4.000000  \n",
              "max                       8.000000                   5.000000     10.000000  "
            ]
          },
          "execution_count": 20,
          "metadata": {},
          "output_type": "execute_result"
        }
      ],
      "source": [
        "hotel_test.describe()"
      ]
    },
    {
      "cell_type": "markdown",
      "metadata": {
        "id": "TwxSqVhgZ1ZY"
      },
      "source": [
        "Вывод:\n",
        " - Явный перекос в данных в столбце **lead_time**, необходимо рассмотреть подробнее\n",
        " - Минимальное значение в столбце **adults** равно 0, чего быть не должно\n",
        " - В столбце **babies** датафрейма `hotel_train ` максимальное значение 10, необходимо будет подробнее рассмотреть\n",
        " - В столбце **required_car_parking_spaces** изучить аномально большие значения (8)\n",
        " - В столбце **booking_changes** подозрительные значения 17 и 18, при медиане 0, необходимо будет изучить детальнее\n",
        " - В столбце **days_in_waiting_list** (сколько дней заказ ожидал подтверждения), медиана 0, 3 квартиль тоже 0, а максимальные значения 259 и 223, необходимо детально изучить это"
      ]
    },
    {
      "cell_type": "markdown",
      "metadata": {
        "id": "QyfRRo2RZ1ZY"
      },
      "source": [
        "Посмотрим детальнее на столбец **lead_time** (количество дней между датой бронирования и датой прибытия). Построим диаграмму размаха"
      ]
    },
    {
      "cell_type": "code",
      "execution_count": null,
      "metadata": {
        "id": "i42B0XISZ1ZY",
        "outputId": "675cf055-7275-4139-baef-f443a151ddfa"
      },
      "outputs": [
        {
          "data": {
            "image/png": "[encoded data removed]",
            "text/plain": [
              "<Figure size 360x720 with 1 Axes>"
            ]
          },
          "metadata": {
            "needs_background": "light"
          },
          "output_type": "display_data"
        }
      ],
      "source": [
        "hotel_train['lead_time'].plot(kind='box',figsize=(5,10), grid=True, legend=True, title='Диаграмма разхмаха количества дней между датой бронирования и датой прибытия')\n",
        "plt.show()"
      ]
    },
    {
      "cell_type": "markdown",
      "metadata": {
        "id": "w06bdhOAZ1ZY"
      },
      "source": [
        "Из диаграммы выше, можно сделать вывод, что все значения выше 350-ти будем считать выбросами. Возможные причины что пользователи бронируют много заранее, за год, отсюда значения больше 350. Посмотрим сколько таких значений"
      ]
    },
    {
      "cell_type": "code",
      "execution_count": null,
      "metadata": {
        "id": "op6nQBD4Z1ZZ",
        "outputId": "2cfcbe36-91df-4eca-db84-a7e3197f071b"
      },
      "outputs": [
        {
          "data": {
            "text/plain": [
              "567"
            ]
          },
          "execution_count": 22,
          "metadata": {},
          "output_type": "execute_result"
        }
      ],
      "source": [
        "hotel_train.query('lead_time>350')['lead_time'].count()"
      ]
    },
    {
      "cell_type": "markdown",
      "metadata": {
        "id": "toJoiJFhZ1ZZ"
      },
      "source": [
        "567 значений, это порядка 1 % от всех данных, этим можно принебречь, удалим данные"
      ]
    },
    {
      "cell_type": "code",
      "execution_count": null,
      "metadata": {
        "id": "eHZ5K0zXZ1ZZ"
      },
      "outputs": [],
      "source": [
        "hotel_train = hotel_train.query('lead_time<350')"
      ]
    },
    {
      "cell_type": "markdown",
      "metadata": {
        "id": "UH5t9_qmZ1Za"
      },
      "source": [
        "Посмотрим диграмму размаха для тестовой выборки"
      ]
    },
    {
      "cell_type": "code",
      "execution_count": null,
      "metadata": {
        "id": "HaX5_E4-Z1Za",
        "outputId": "09c344b7-33f5-42b9-cf7a-8e57c012e911"
      },
      "outputs": [
        {
          "data": {
            "image/png": "[encoded data removed]",
            "text/plain": [
              "<Figure size 360x720 with 1 Axes>"
            ]
          },
          "metadata": {
            "needs_background": "light"
          },
          "output_type": "display_data"
        }
      ],
      "source": [
        "hotel_test['lead_time'].plot(kind='box',figsize=(5,10), grid=True, legend=True, title='Диаграмма разхмаха количества дней между датой бронирования и прибытия')\n",
        "plt.show()"
      ]
    },
    {
      "cell_type": "markdown",
      "metadata": {
        "id": "6VorNpG_Z1Za"
      },
      "source": [
        "Аналогичная ситуация, значения больше 350 - удаляем"
      ]
    },
    {
      "cell_type": "code",
      "execution_count": null,
      "metadata": {
        "id": "SxKgVWJ7Z1Za"
      },
      "outputs": [],
      "source": [
        "hotel_test = hotel_test.query('lead_time<350')"
      ]
    },
    {
      "cell_type": "markdown",
      "metadata": {
        "id": "NNamxlDAZ1Zb"
      },
      "source": [
        "В столбце **adults** ранее были обнаружены знаечния с `0`, взрослых постояльцев, по идее, при регистрации быть не должно. Возможная причина появления 0, это ошибка загрузки данных с сервера, или при регистрации пользователь не заполнил эти поля, необходимо будет уточнять у человека производившего выгрузку данных. Записи с нулемым значением удаляем из датафреймов."
      ]
    },
    {
      "cell_type": "code",
      "execution_count": null,
      "metadata": {
        "id": "y0l-XzX2Z1Zb"
      },
      "outputs": [],
      "source": [
        "hotel_train = hotel_train.query('adults!=0')\n",
        "hotel_test = hotel_test.query('adults!=0')"
      ]
    },
    {
      "cell_type": "markdown",
      "metadata": {
        "id": "Tq3sdFp_Z1Zc"
      },
      "source": [
        "Рассмотрим значения которые лежат в столбце **babies** датафрейма `hotel_train`"
      ]
    },
    {
      "cell_type": "code",
      "execution_count": null,
      "metadata": {
        "id": "MkgDZSHqZ1Zc",
        "outputId": "b6f6c1eb-db64-4e26-df6f-8ff6b84411bf"
      },
      "outputs": [
        {
          "data": {
            "text/plain": [
              "0     63975\n",
              "1       443\n",
              "2         3\n",
              "9         1\n",
              "10        1\n",
              "Name: babies, dtype: int64"
            ]
          },
          "execution_count": 27,
          "metadata": {},
          "output_type": "execute_result"
        }
      ],
      "source": [
        "hotel_train['babies'].value_counts()"
      ]
    },
    {
      "cell_type": "markdown",
      "metadata": {
        "id": "It3iOMWbZ1Zc"
      },
      "source": [
        "Значения 9 и 10 (количество младенцев) явно считается ошибкой, это выбросы. Таких значений мало, удаляем их"
      ]
    },
    {
      "cell_type": "code",
      "execution_count": null,
      "metadata": {
        "id": "vmACf-x5Z1Zd"
      },
      "outputs": [],
      "source": [
        "hotel_train = hotel_train.query('babies < 9')"
      ]
    },
    {
      "cell_type": "markdown",
      "metadata": {
        "id": "TcavGag7Z1Zd"
      },
      "source": [
        "Вглянем на столбец **required_car_parking_spaces** (необходимость места для автомобиля) в датафреймах. Посчитаем количество записей для каждого значения в датафреймах"
      ]
    },
    {
      "cell_type": "code",
      "execution_count": null,
      "metadata": {
        "id": "tR_8il-6Z1Zd",
        "outputId": "838a9555-1420-4036-e39f-b595f17fba0e"
      },
      "outputs": [
        {
          "data": {
            "text/plain": [
              "0    30664\n",
              "1     1465\n",
              "2        6\n",
              "8        2\n",
              "3        1\n",
              "Name: required_car_parking_spaces, dtype: int64"
            ]
          },
          "metadata": {},
          "output_type": "display_data"
        },
        {
          "data": {
            "text/plain": [
              "0    60754\n",
              "1     3655\n",
              "2       11\n",
              "3        1\n",
              "Name: required_car_parking_spaces, dtype: int64"
            ]
          },
          "metadata": {},
          "output_type": "display_data"
        }
      ],
      "source": [
        "display(hotel_test['required_car_parking_spaces'].value_counts())\n",
        "display(hotel_train['required_car_parking_spaces'].value_counts())"
      ]
    },
    {
      "cell_type": "markdown",
      "metadata": {
        "id": "tAV_O8ugZ1Zd"
      },
      "source": [
        "Из описания столбца (необходимость места для автомобиля) сделаем вывод, что или место не нужно и это значение 0, или нужно - значение столбца 1, все остальные записи (2, 3, 8) будем считать выбросами. Удалим эти записи."
      ]
    },
    {
      "cell_type": "code",
      "execution_count": null,
      "metadata": {
        "id": "zFBOxeANZ1Zd"
      },
      "outputs": [],
      "source": [
        "hotel_train = hotel_train.query('required_car_parking_spaces < 2')\n",
        "hotel_test = hotel_test.query('required_car_parking_spaces < 2')"
      ]
    },
    {
      "cell_type": "markdown",
      "metadata": {
        "id": "Q2aHULSoZ1Zf"
      },
      "source": [
        "Вглянем на столбец **booking_changes** (количество изменений параметров заказа). Из первичного анализы мы видели, что максимальные значения достигают 17 и 18 в датафреймах `hotel_train` и `hotel_test`, при медиане в 0, третий квартиль 0. Построим гистограмму для частоты количества изменений параметров заказа для двух датафреймов"
      ]
    },
    {
      "cell_type": "code",
      "execution_count": null,
      "metadata": {
        "id": "yfLF7_UWZ1Zf",
        "outputId": "91b9476b-85ab-4f31-c366-93c6dbea457c"
      },
      "outputs": [
        {
          "data": {
            "image/png": "[encoded data removed]",
            "text/plain": [
              "<Figure size 1152x648 with 1 Axes>"
            ]
          },
          "metadata": {
            "needs_background": "light"
          },
          "output_type": "display_data"
        },
        {
          "data": {
            "image/png": "[encoded data removed]",
            "text/plain": [
              "<Figure size 1152x648 with 1 Axes>"
            ]
          },
          "metadata": {
            "needs_background": "light"
          },
          "output_type": "display_data"
        }
      ],
      "source": [
        "hotel_train['booking_changes'].plot(kind='hist',figsize=(16,9), alpha = 0.5,grid=True, legend=True, title='Гистограмма количества изменений параметров заказа для обучающей выборки')\n",
        "plt.show()\n",
        "hotel_test['booking_changes'].plot(kind='hist',figsize=(16,9), grid=True, legend=True, title='Гистограмма количества изменений параметров заказа для тестовой выборки')\n",
        "plt.show()"
      ]
    },
    {
      "cell_type": "markdown",
      "metadata": {
        "id": "f0E-3vDBZ1Zf"
      },
      "source": [
        "Из гистограммы сделаем вывод, что все значения больше 5 мы принимаем за выбросы, удаляем их."
      ]
    },
    {
      "cell_type": "code",
      "execution_count": null,
      "metadata": {
        "id": "K6QWOTKiZ1Zg"
      },
      "outputs": [],
      "source": [
        "hotel_train = hotel_train.query('booking_changes < 6')\n",
        "hotel_test = hotel_test.query('booking_changes < 6')"
      ]
    },
    {
      "cell_type": "markdown",
      "metadata": {
        "id": "4T2ryw2uZ1Zg"
      },
      "source": [
        "Рассмотрим значения столбца **days_in_waiting_list** (сколько дней заказ ожидал подтверждения), где медиана 0 и 3 квартиль тоже 0, а максимальные значения 259 и 223. Построим гистограмму"
      ]
    },
    {
      "cell_type": "code",
      "execution_count": null,
      "metadata": {
        "scrolled": false,
        "id": "K80UCpoSZ1Zg",
        "outputId": "2654d412-1bdb-4e07-e627-7d97ea913e58"
      },
      "outputs": [
        {
          "data": {
            "image/png": "[encoded data removed]",
            "text/plain": [
              "<Figure size 1152x648 with 1 Axes>"
            ]
          },
          "metadata": {
            "needs_background": "light"
          },
          "output_type": "display_data"
        },
        {
          "data": {
            "image/png": "[encoded data removed]",
            "text/plain": [
              "<Figure size 1152x648 with 1 Axes>"
            ]
          },
          "metadata": {
            "needs_background": "light"
          },
          "output_type": "display_data"
        }
      ],
      "source": [
        "hotel_train['days_in_waiting_list'].plot(kind='hist', bins=4, figsize=(16,9), grid=True, legend=True, title='Гистограмма частот дней ожидания подтверждения в обучающей выборке ')\n",
        "plt.show()\n",
        "hotel_test['days_in_waiting_list'].plot(kind='hist', bins=4, figsize=(16,9), grid=True, legend=True, title='Гистограмма частот дней ожидания подтверждения в тестовой выборке')\n",
        "plt.show()"
      ]
    },
    {
      "cell_type": "markdown",
      "metadata": {
        "id": "B6YzLy_iZ1Zh"
      },
      "source": [
        "Из гистограммы сделаем вывод, что значения больше 50 дней, примем за выбросы. Удалим эти данные."
      ]
    },
    {
      "cell_type": "code",
      "execution_count": null,
      "metadata": {
        "id": "HYx78dDZZ1Zh",
        "outputId": "d4222a19-e105-4ac8-aad3-86a553fbac7a"
      },
      "outputs": [
        {
          "name": "stdout",
          "output_type": "stream",
          "text": [
            "62723\n",
            "32036\n"
          ]
        }
      ],
      "source": [
        "hotel_train = hotel_train.query('days_in_waiting_list < 51')\n",
        "hotel_test = hotel_test.query('days_in_waiting_list < 51')\n",
        "print(hotel_train.shape[0])\n",
        "print(hotel_test.shape[0])"
      ]
    },
    {
      "cell_type": "markdown",
      "metadata": {
        "id": "REblb5WSZ1Zh"
      },
      "source": [
        "Вывод:\n",
        " - Удалив выбросы, у нас осталось 62723 записи в обучающей выборке, 32036 записей в тестовой выборке."
      ]
    },
    {
      "cell_type": "markdown",
      "metadata": {
        "id": "QkFN153QZ1Zi"
      },
      "source": [
        "Построим тепловую карту для изучения зависимостей признаков."
      ]
    },
    {
      "cell_type": "code",
      "execution_count": null,
      "metadata": {
        "id": "PlRRMPtXZ1Zi",
        "outputId": "779b7f06-102d-493d-e973-e63a3122468b"
      },
      "outputs": [
        {
          "data": {
            "image/png": "[encoded data removed]",
            "text/plain": [
              "<Figure size 2160x2160 with 2 Axes>"
            ]
          },
          "metadata": {
            "needs_background": "light"
          },
          "output_type": "display_data"
        }
      ],
      "source": [
        "plt.figure(figsize=(30, 30))\n",
        "sns.set(font_scale=2)\n",
        "sns.heatmap(hotel_train.corr(), annot = True, fmt='.2g', cmap= 'coolwarm', annot_kws={\"fontsize\":16})\n",
        "plt.show()"
      ]
    },
    {
      "cell_type": "markdown",
      "metadata": {
        "id": "cPhb-wmnZ1Zi"
      },
      "source": [
        "Сильная корреляция между **stays_in_weekend_nights** и **total_nights** - `0.65`, между **stays_in_week_nights** и **total_nights** - `0.88`. В дальнейшем, при обучении модели необходимо будет избавиться от взаимосвязанных признаков."
      ]
    },
    {
      "cell_type": "markdown",
      "metadata": {
        "id": "S-_DBmw7Z1Zi"
      },
      "source": [
        "#### Вывод:\n",
        " - При изучении датафреймов пропуски не обнаружены\n",
        " - Явных дубликатов не было обнаружено\n",
        "     - Неявные дубликаты устранены в столбце **meal**\n",
        " - Убрали пропуски в **reserved_room_type**\n",
        " - Изменили тип данных с float64 на int64 в столбцах **lead_time, adults, children, babies**\n",
        " - Избавились от выбросов в столбцах **lead_time, adults, babies, required_car_parking_spaces, booking_changes , days_in_waiting_list**\n",
        " - Сильная корреляция признаков **total_nights** с **stays_in_weekend_nights** и **stays_in_week_nights**\n",
        " - `hotel_train` сократилось на 2506, `hotel_test` сократилось на 376 запись"
      ]
    },
    {
      "cell_type": "markdown",
      "metadata": {
        "id": "KYFByxUZZ1Zj"
      },
      "source": [
        "### Шаг 3. Формулировка ML-задачи на основе бизнес-задачи"
      ]
    },
    {
      "cell_type": "markdown",
      "metadata": {
        "id": "c7X0ChXQZ1Zj"
      },
      "source": [
        "Из условий задания, нам известно, что:  \n",
        "\n",
        "В отеле есть несколько типов номеров. В зависимости от типа номера назначается стоимость за одну ночь. Есть также затраты на уборку. Если клиент снял номер надолго, то убираются каждые два дня.\n",
        "\n",
        "Стоимость номеров отеля:  \n",
        "категория A: за ночь — 1 000, разовое обслуживание — 400;  \n",
        "категория B: за ночь — 800, разовое обслуживание — 350;  \n",
        "категория C: за ночь — 600, разовое обслуживание — 350;  \n",
        "категория D: за ночь — 550, разовое обслуживание — 150;  \n",
        "категория E: за ночь — 500, разовое обслуживание — 150;  \n",
        "категория F: за ночь — 450, разовое обслуживание — 150;  \n",
        "категория G: за ночь — 350, разовое обслуживание — 150.  "
      ]
    },
    {
      "cell_type": "markdown",
      "metadata": {
        "id": "Rv13OYJJZ1Zj"
      },
      "source": [
        "Из данных к заданию, нам известно, что:  \n",
        "\n",
        "В ценовой политике отеля используются сезонные коэффициенты: весной и осенью цены повышаются на 20%, летом — на 40%.  \n",
        "  \n",
        "Убытки отеля в случае отмены брони номера — это стоимость одной уборки и одной ночи с учётом сезонного коэффициента."
      ]
    },
    {
      "cell_type": "code",
      "execution_count": null,
      "metadata": {
        "id": "tg5HX5hXZ1Zk"
      },
      "outputs": [],
      "source": [
        "def group_cost(row):\n",
        "    if row['reserved_room_type'] == 'A':\n",
        "        return 1000\n",
        "    elif row['reserved_room_type'] == 'B':\n",
        "        return 800\n",
        "    elif row['reserved_room_type'] == 'C':\n",
        "        return 600\n",
        "    elif row['reserved_room_type'] == 'D':\n",
        "        return 550\n",
        "    elif row['reserved_room_type'] == 'E':\n",
        "        return 500\n",
        "    elif row['reserved_room_type'] == 'F':\n",
        "        return 450\n",
        "    elif row['reserved_room_type'] == 'G':\n",
        "        return 350\n",
        "hotel_test['cost_room'] = hotel_test.apply(group_cost, axis=1)"
      ]
    },
    {
      "cell_type": "code",
      "execution_count": null,
      "metadata": {
        "id": "AWZRioTfZ1Zk"
      },
      "outputs": [],
      "source": [
        "def group_service(row):\n",
        "    if row['reserved_room_type'] == 'A':\n",
        "        return 400\n",
        "    elif row['reserved_room_type'] in {'B', 'C'}:\n",
        "        return 350\n",
        "    else:\n",
        "        return 150\n",
        "hotel_test['one_time_room_service'] = hotel_test.apply(group_service, axis=1)"
      ]
    },
    {
      "cell_type": "code",
      "execution_count": null,
      "metadata": {
        "id": "xmHKobooZ1Zl",
        "outputId": "747b197a-989d-40cd-9495-c3e0d76fd557"
      },
      "outputs": [
        {
          "data": {
            "text/html": [
              "<div>\n",
              "<style scoped>\n",
              "    .dataframe tbody tr th:only-of-type {\n",
              "        vertical-align: middle;\n",
              "    }\n",
              "\n",
              "    .dataframe tbody tr th {\n",
              "        vertical-align: top;\n",
              "    }\n",
              "\n",
              "    .dataframe thead th {\n",
              "        text-align: right;\n",
              "    }\n",
              "</style>\n",
              "<table border=\"1\" class=\"dataframe\">\n",
              "  <thead>\n",
              "    <tr style=\"text-align: right;\">\n",
              "      <th></th>\n",
              "      <th>id</th>\n",
              "      <th>is_canceled</th>\n",
              "      <th>lead_time</th>\n",
              "      <th>arrival_date_year</th>\n",
              "      <th>arrival_date_month</th>\n",
              "      <th>arrival_date_week_number</th>\n",
              "      <th>arrival_date_day_of_month</th>\n",
              "      <th>stays_in_weekend_nights</th>\n",
              "      <th>stays_in_week_nights</th>\n",
              "      <th>adults</th>\n",
              "      <th>...</th>\n",
              "      <th>reserved_room_type</th>\n",
              "      <th>booking_changes</th>\n",
              "      <th>days_in_waiting_list</th>\n",
              "      <th>customer_type</th>\n",
              "      <th>required_car_parking_spaces</th>\n",
              "      <th>total_of_special_requests</th>\n",
              "      <th>total_nights</th>\n",
              "      <th>cost_room</th>\n",
              "      <th>one_time_room_service</th>\n",
              "      <th>season_coefficient</th>\n",
              "    </tr>\n",
              "  </thead>\n",
              "  <tbody>\n",
              "    <tr>\n",
              "      <th>0</th>\n",
              "      <td>6086</td>\n",
              "      <td>1</td>\n",
              "      <td>74</td>\n",
              "      <td>2017</td>\n",
              "      <td>January</td>\n",
              "      <td>1</td>\n",
              "      <td>1</td>\n",
              "      <td>1</td>\n",
              "      <td>0</td>\n",
              "      <td>2</td>\n",
              "      <td>...</td>\n",
              "      <td>A</td>\n",
              "      <td>0</td>\n",
              "      <td>0</td>\n",
              "      <td>Transient</td>\n",
              "      <td>0</td>\n",
              "      <td>0</td>\n",
              "      <td>1</td>\n",
              "      <td>1000</td>\n",
              "      <td>400</td>\n",
              "      <td>1.0</td>\n",
              "    </tr>\n",
              "    <tr>\n",
              "      <th>1</th>\n",
              "      <td>6087</td>\n",
              "      <td>1</td>\n",
              "      <td>62</td>\n",
              "      <td>2017</td>\n",
              "      <td>January</td>\n",
              "      <td>1</td>\n",
              "      <td>1</td>\n",
              "      <td>2</td>\n",
              "      <td>2</td>\n",
              "      <td>2</td>\n",
              "      <td>...</td>\n",
              "      <td>A</td>\n",
              "      <td>0</td>\n",
              "      <td>0</td>\n",
              "      <td>Transient</td>\n",
              "      <td>0</td>\n",
              "      <td>1</td>\n",
              "      <td>4</td>\n",
              "      <td>1000</td>\n",
              "      <td>400</td>\n",
              "      <td>1.0</td>\n",
              "    </tr>\n",
              "    <tr>\n",
              "      <th>2</th>\n",
              "      <td>6088</td>\n",
              "      <td>1</td>\n",
              "      <td>62</td>\n",
              "      <td>2017</td>\n",
              "      <td>January</td>\n",
              "      <td>1</td>\n",
              "      <td>1</td>\n",
              "      <td>2</td>\n",
              "      <td>2</td>\n",
              "      <td>2</td>\n",
              "      <td>...</td>\n",
              "      <td>A</td>\n",
              "      <td>0</td>\n",
              "      <td>0</td>\n",
              "      <td>Transient</td>\n",
              "      <td>0</td>\n",
              "      <td>1</td>\n",
              "      <td>4</td>\n",
              "      <td>1000</td>\n",
              "      <td>400</td>\n",
              "      <td>1.0</td>\n",
              "    </tr>\n",
              "    <tr>\n",
              "      <th>3</th>\n",
              "      <td>6089</td>\n",
              "      <td>1</td>\n",
              "      <td>71</td>\n",
              "      <td>2017</td>\n",
              "      <td>January</td>\n",
              "      <td>1</td>\n",
              "      <td>1</td>\n",
              "      <td>2</td>\n",
              "      <td>2</td>\n",
              "      <td>1</td>\n",
              "      <td>...</td>\n",
              "      <td>A</td>\n",
              "      <td>0</td>\n",
              "      <td>0</td>\n",
              "      <td>Transient</td>\n",
              "      <td>0</td>\n",
              "      <td>1</td>\n",
              "      <td>4</td>\n",
              "      <td>1000</td>\n",
              "      <td>400</td>\n",
              "      <td>1.0</td>\n",
              "    </tr>\n",
              "    <tr>\n",
              "      <th>4</th>\n",
              "      <td>6090</td>\n",
              "      <td>1</td>\n",
              "      <td>172</td>\n",
              "      <td>2017</td>\n",
              "      <td>January</td>\n",
              "      <td>1</td>\n",
              "      <td>1</td>\n",
              "      <td>2</td>\n",
              "      <td>5</td>\n",
              "      <td>2</td>\n",
              "      <td>...</td>\n",
              "      <td>A</td>\n",
              "      <td>0</td>\n",
              "      <td>0</td>\n",
              "      <td>Transient</td>\n",
              "      <td>0</td>\n",
              "      <td>0</td>\n",
              "      <td>7</td>\n",
              "      <td>1000</td>\n",
              "      <td>400</td>\n",
              "      <td>1.0</td>\n",
              "    </tr>\n",
              "    <tr>\n",
              "      <th>...</th>\n",
              "      <td>...</td>\n",
              "      <td>...</td>\n",
              "      <td>...</td>\n",
              "      <td>...</td>\n",
              "      <td>...</td>\n",
              "      <td>...</td>\n",
              "      <td>...</td>\n",
              "      <td>...</td>\n",
              "      <td>...</td>\n",
              "      <td>...</td>\n",
              "      <td>...</td>\n",
              "      <td>...</td>\n",
              "      <td>...</td>\n",
              "      <td>...</td>\n",
              "      <td>...</td>\n",
              "      <td>...</td>\n",
              "      <td>...</td>\n",
              "      <td>...</td>\n",
              "      <td>...</td>\n",
              "      <td>...</td>\n",
              "      <td>...</td>\n",
              "    </tr>\n",
              "    <tr>\n",
              "      <th>32407</th>\n",
              "      <td>97899</td>\n",
              "      <td>0</td>\n",
              "      <td>164</td>\n",
              "      <td>2017</td>\n",
              "      <td>August</td>\n",
              "      <td>35</td>\n",
              "      <td>31</td>\n",
              "      <td>2</td>\n",
              "      <td>4</td>\n",
              "      <td>2</td>\n",
              "      <td>...</td>\n",
              "      <td>A</td>\n",
              "      <td>0</td>\n",
              "      <td>0</td>\n",
              "      <td>Transient</td>\n",
              "      <td>0</td>\n",
              "      <td>0</td>\n",
              "      <td>6</td>\n",
              "      <td>1000</td>\n",
              "      <td>400</td>\n",
              "      <td>1.4</td>\n",
              "    </tr>\n",
              "    <tr>\n",
              "      <th>32408</th>\n",
              "      <td>97900</td>\n",
              "      <td>0</td>\n",
              "      <td>21</td>\n",
              "      <td>2017</td>\n",
              "      <td>August</td>\n",
              "      <td>35</td>\n",
              "      <td>30</td>\n",
              "      <td>2</td>\n",
              "      <td>5</td>\n",
              "      <td>2</td>\n",
              "      <td>...</td>\n",
              "      <td>A</td>\n",
              "      <td>0</td>\n",
              "      <td>0</td>\n",
              "      <td>Transient</td>\n",
              "      <td>0</td>\n",
              "      <td>2</td>\n",
              "      <td>7</td>\n",
              "      <td>1000</td>\n",
              "      <td>400</td>\n",
              "      <td>1.4</td>\n",
              "    </tr>\n",
              "    <tr>\n",
              "      <th>32409</th>\n",
              "      <td>97901</td>\n",
              "      <td>0</td>\n",
              "      <td>23</td>\n",
              "      <td>2017</td>\n",
              "      <td>August</td>\n",
              "      <td>35</td>\n",
              "      <td>30</td>\n",
              "      <td>2</td>\n",
              "      <td>5</td>\n",
              "      <td>2</td>\n",
              "      <td>...</td>\n",
              "      <td>A</td>\n",
              "      <td>0</td>\n",
              "      <td>0</td>\n",
              "      <td>Transient</td>\n",
              "      <td>0</td>\n",
              "      <td>0</td>\n",
              "      <td>7</td>\n",
              "      <td>1000</td>\n",
              "      <td>400</td>\n",
              "      <td>1.4</td>\n",
              "    </tr>\n",
              "    <tr>\n",
              "      <th>32410</th>\n",
              "      <td>97902</td>\n",
              "      <td>0</td>\n",
              "      <td>34</td>\n",
              "      <td>2017</td>\n",
              "      <td>August</td>\n",
              "      <td>35</td>\n",
              "      <td>31</td>\n",
              "      <td>2</td>\n",
              "      <td>5</td>\n",
              "      <td>2</td>\n",
              "      <td>...</td>\n",
              "      <td>D</td>\n",
              "      <td>0</td>\n",
              "      <td>0</td>\n",
              "      <td>Transient</td>\n",
              "      <td>0</td>\n",
              "      <td>4</td>\n",
              "      <td>7</td>\n",
              "      <td>550</td>\n",
              "      <td>150</td>\n",
              "      <td>1.4</td>\n",
              "    </tr>\n",
              "    <tr>\n",
              "      <th>32411</th>\n",
              "      <td>97903</td>\n",
              "      <td>0</td>\n",
              "      <td>109</td>\n",
              "      <td>2017</td>\n",
              "      <td>August</td>\n",
              "      <td>35</td>\n",
              "      <td>31</td>\n",
              "      <td>2</td>\n",
              "      <td>5</td>\n",
              "      <td>2</td>\n",
              "      <td>...</td>\n",
              "      <td>A</td>\n",
              "      <td>0</td>\n",
              "      <td>0</td>\n",
              "      <td>Transient</td>\n",
              "      <td>0</td>\n",
              "      <td>0</td>\n",
              "      <td>7</td>\n",
              "      <td>1000</td>\n",
              "      <td>400</td>\n",
              "      <td>1.4</td>\n",
              "    </tr>\n",
              "  </tbody>\n",
              "</table>\n",
              "<p>32036 rows × 28 columns</p>\n",
              "</div>"
            ],
            "text/plain": [
              "          id  is_canceled  lead_time  arrival_date_year arrival_date_month  \\\n",
              "0       6086            1         74               2017            January   \n",
              "1       6087            1         62               2017            January   \n",
              "2       6088            1         62               2017            January   \n",
              "3       6089            1         71               2017            January   \n",
              "4       6090            1        172               2017            January   \n",
              "...      ...          ...        ...                ...                ...   \n",
              "32407  97899            0        164               2017             August   \n",
              "32408  97900            0         21               2017             August   \n",
              "32409  97901            0         23               2017             August   \n",
              "32410  97902            0         34               2017             August   \n",
              "32411  97903            0        109               2017             August   \n",
              "\n",
              "       arrival_date_week_number  arrival_date_day_of_month  \\\n",
              "0                             1                          1   \n",
              "1                             1                          1   \n",
              "2                             1                          1   \n",
              "3                             1                          1   \n",
              "4                             1                          1   \n",
              "...                         ...                        ...   \n",
              "32407                        35                         31   \n",
              "32408                        35                         30   \n",
              "32409                        35                         30   \n",
              "32410                        35                         31   \n",
              "32411                        35                         31   \n",
              "\n",
              "       stays_in_weekend_nights  stays_in_week_nights  adults  ...  \\\n",
              "0                            1                     0       2  ...   \n",
              "1                            2                     2       2  ...   \n",
              "2                            2                     2       2  ...   \n",
              "3                            2                     2       1  ...   \n",
              "4                            2                     5       2  ...   \n",
              "...                        ...                   ...     ...  ...   \n",
              "32407                        2                     4       2  ...   \n",
              "32408                        2                     5       2  ...   \n",
              "32409                        2                     5       2  ...   \n",
              "32410                        2                     5       2  ...   \n",
              "32411                        2                     5       2  ...   \n",
              "\n",
              "       reserved_room_type  booking_changes days_in_waiting_list customer_type  \\\n",
              "0                       A                0                    0     Transient   \n",
              "1                       A                0                    0     Transient   \n",
              "2                       A                0                    0     Transient   \n",
              "3                       A                0                    0     Transient   \n",
              "4                       A                0                    0     Transient   \n",
              "...                   ...              ...                  ...           ...   \n",
              "32407                   A                0                    0     Transient   \n",
              "32408                   A                0                    0     Transient   \n",
              "32409                   A                0                    0     Transient   \n",
              "32410                   D                0                    0     Transient   \n",
              "32411                   A                0                    0     Transient   \n",
              "\n",
              "      required_car_parking_spaces  total_of_special_requests  total_nights  \\\n",
              "0                               0                          0             1   \n",
              "1                               0                          1             4   \n",
              "2                               0                          1             4   \n",
              "3                               0                          1             4   \n",
              "4                               0                          0             7   \n",
              "...                           ...                        ...           ...   \n",
              "32407                           0                          0             6   \n",
              "32408                           0                          2             7   \n",
              "32409                           0                          0             7   \n",
              "32410                           0                          4             7   \n",
              "32411                           0                          0             7   \n",
              "\n",
              "       cost_room one_time_room_service  season_coefficient  \n",
              "0           1000                   400                 1.0  \n",
              "1           1000                   400                 1.0  \n",
              "2           1000                   400                 1.0  \n",
              "3           1000                   400                 1.0  \n",
              "4           1000                   400                 1.0  \n",
              "...          ...                   ...                 ...  \n",
              "32407       1000                   400                 1.4  \n",
              "32408       1000                   400                 1.4  \n",
              "32409       1000                   400                 1.4  \n",
              "32410        550                   150                 1.4  \n",
              "32411       1000                   400                 1.4  \n",
              "\n",
              "[32036 rows x 28 columns]"
            ]
          },
          "execution_count": 40,
          "metadata": {},
          "output_type": "execute_result"
        }
      ],
      "source": [
        "def group_coefficient(row):\n",
        "    if row['arrival_date_month'] in {'June', 'July', 'August'}:\n",
        "        return 1.4\n",
        "    elif row['arrival_date_month'] in {'December', 'January', 'February'}:\n",
        "        return 1\n",
        "    else:\n",
        "        return 1.2\n",
        "hotel_test['season_coefficient'] = hotel_test.apply(group_coefficient, axis=1)\n",
        "hotel_test"
      ]
    },
    {
      "cell_type": "code",
      "execution_count": null,
      "metadata": {
        "id": "l7CE5m3SZ1Zl"
      },
      "outputs": [],
      "source": [
        "def count_revenue(row):\n",
        "    room_type = row['reserved_room_type']\n",
        "    month = row['arrival_date_month']\n",
        "    week_nights = row['stays_in_week_nights']\n",
        "    weekend_nights = row['stays_in_weekend_nights']\n",
        "    price = row['cost_room']\n",
        "    season_coefficient = row['season_coefficient']\n",
        "\n",
        "    prepare_cost = row['one_time_room_service']\n",
        "\n",
        "    total_nights = week_nights + weekend_nights\n",
        "    if (row['is_canceled'] == 0):\n",
        "\n",
        "        prepare_nights = 1 + math.floor(total_nights / 2)\n",
        "\n",
        "        revenue = season_coefficient*price*total_nights - prepare_nights*prepare_cost\n",
        "\n",
        "    else:\n",
        "        revenue = - (prepare_cost+price*season_coefficient)\n",
        "    return revenue"
      ]
    },
    {
      "cell_type": "markdown",
      "metadata": {
        "id": "1OOnv90SZ1Zl"
      },
      "source": [
        "Подсчитаем прибыль отеля без внедрения депозитов на тестовой выборке `hotel_test`"
      ]
    },
    {
      "cell_type": "code",
      "execution_count": null,
      "metadata": {
        "id": "4RFdOA-3Z1Zm",
        "outputId": "ed3720d4-f56c-439d-e8e7-53768cbbc219"
      },
      "outputs": [
        {
          "data": {
            "text/plain": [
              "32382450.0"
            ]
          },
          "execution_count": 42,
          "metadata": {},
          "output_type": "execute_result"
        }
      ],
      "source": [
        "total_revenue = hotel_test.apply(count_revenue, axis=1).sum()\n",
        "total_revenue"
      ]
    },
    {
      "cell_type": "markdown",
      "metadata": {
        "id": "LYbOm19jZ1Zn"
      },
      "source": [
        "Прибыль 32 млн 382 тысячи 450 рублей"
      ]
    },
    {
      "cell_type": "markdown",
      "metadata": {
        "id": "EtVrLunbZ1Zo"
      },
      "source": [
        "### Шаг 4. Разработка модели ML"
      ]
    },
    {
      "cell_type": "markdown",
      "metadata": {
        "id": "TJOe7_7cZ1Zo"
      },
      "source": [
        "Для обучения модели необходимо выделить признаки и целевой признак. У нас задача классификации - будет отменена бронь или нет. Целевой признак - **is_canceled**.  \n",
        "\n",
        "В качестве признаков будут столбцы **adults, arrival_date_week_number, babies, country, children, customer_type, days_in_waiting_list, is_repeated_guest, lead_time, meal, previous_bookings_not_canceled, previous_cancellations, required_car_parking_spaces, reserved_room_type, stays_in_weekend_nights, stays_in_week_nights, total_of_special_requests, is_canceled**.\n",
        "\n",
        "Какие признаки не включаем:\n",
        " - **id** (номер записи) - не несет никакой важной информации, так как это просто способ упорядочить записи\n",
        " - **arrival_date_year** (год заезда) - не понадобится, так как в выборке прошедшие года, а модель предсказывает отмену в текущем\n",
        " - **arrival_date_month** — месяц заезда. Не включили, так как у нас есть номер недели, что уже включает информацию о месяце\n",
        " - **arrival_date_day_of_month** — день заезда. Сам по себе не информативен.\n",
        " - **distribution_channel** — канал дистрибуции заказа - этот признак важен, например, при прогнозировании рекламного бюджета, а когда клиент уже сделал бронирование, отмена не зависит от того, откуда клиент \"пришел\"\n",
        " - **total_nights** — общее количество ночей. Взаимозависим со столбцами 'stays_in_weekend_nights','stays_in_week_nights', поэтому не включаем.\n",
        "\n",
        "Так же, создадим переменные `hotel_train_ohe` и `hotel_test_ohe`, чтобы в дальнейшем преобразовать категориальные признаки в количественные при помощи OneHotEncoder."
      ]
    },
    {
      "cell_type": "code",
      "execution_count": null,
      "metadata": {
        "id": "LfiDgDz-Z1Zo"
      },
      "outputs": [],
      "source": [
        "columns_features = ['adults', 'arrival_date_week_number', 'babies', 'children', 'customer_type', 'country',\n",
        "                    'days_in_waiting_list', 'is_repeated_guest', 'lead_time', 'meal', 'previous_bookings_not_canceled',\n",
        "                   'previous_cancellations', 'required_car_parking_spaces', 'reserved_room_type', 'stays_in_weekend_nights',\n",
        "                   'stays_in_week_nights', 'total_of_special_requests', 'is_canceled' ]\n",
        "\n",
        "hotel_train_ohe = hotel_train[columns_features]\n",
        "hotel_test_ohe = hotel_test[columns_features]\n",
        "\n",
        "target_train = hotel_train_ohe['is_canceled']\n",
        "target_test = hotel_test_ohe['is_canceled']\n",
        "\n",
        "features_train = hotel_train_ohe.drop('is_canceled', axis=1)\n",
        "features_test = hotel_test_ohe.drop('is_canceled', axis=1)"
      ]
    },
    {
      "cell_type": "code",
      "execution_count": null,
      "metadata": {
        "scrolled": false,
        "id": "9TDnNcj6Z1Zo",
        "outputId": "4267999d-b174-4157-a036-f681d9018f01"
      },
      "outputs": [
        {
          "data": {
            "text/html": [
              "<div>\n",
              "<style scoped>\n",
              "    .dataframe tbody tr th:only-of-type {\n",
              "        vertical-align: middle;\n",
              "    }\n",
              "\n",
              "    .dataframe tbody tr th {\n",
              "        vertical-align: top;\n",
              "    }\n",
              "\n",
              "    .dataframe thead th {\n",
              "        text-align: right;\n",
              "    }\n",
              "</style>\n",
              "<table border=\"1\" class=\"dataframe\">\n",
              "  <thead>\n",
              "    <tr style=\"text-align: right;\">\n",
              "      <th></th>\n",
              "      <th>adults</th>\n",
              "      <th>arrival_date_week_number</th>\n",
              "      <th>babies</th>\n",
              "      <th>children</th>\n",
              "      <th>customer_type</th>\n",
              "      <th>country</th>\n",
              "      <th>days_in_waiting_list</th>\n",
              "      <th>is_repeated_guest</th>\n",
              "      <th>lead_time</th>\n",
              "      <th>meal</th>\n",
              "      <th>previous_bookings_not_canceled</th>\n",
              "      <th>previous_cancellations</th>\n",
              "      <th>required_car_parking_spaces</th>\n",
              "      <th>reserved_room_type</th>\n",
              "      <th>stays_in_weekend_nights</th>\n",
              "      <th>stays_in_week_nights</th>\n",
              "      <th>total_of_special_requests</th>\n",
              "      <th>is_canceled</th>\n",
              "    </tr>\n",
              "  </thead>\n",
              "  <tbody>\n",
              "    <tr>\n",
              "      <th>0</th>\n",
              "      <td>1</td>\n",
              "      <td>27</td>\n",
              "      <td>0</td>\n",
              "      <td>0</td>\n",
              "      <td>Transient</td>\n",
              "      <td>GBR</td>\n",
              "      <td>0</td>\n",
              "      <td>0</td>\n",
              "      <td>7</td>\n",
              "      <td>BB</td>\n",
              "      <td>0</td>\n",
              "      <td>0</td>\n",
              "      <td>0</td>\n",
              "      <td>A</td>\n",
              "      <td>0</td>\n",
              "      <td>1</td>\n",
              "      <td>0</td>\n",
              "      <td>0</td>\n",
              "    </tr>\n",
              "    <tr>\n",
              "      <th>1</th>\n",
              "      <td>2</td>\n",
              "      <td>27</td>\n",
              "      <td>0</td>\n",
              "      <td>0</td>\n",
              "      <td>Transient</td>\n",
              "      <td>GBR</td>\n",
              "      <td>0</td>\n",
              "      <td>0</td>\n",
              "      <td>14</td>\n",
              "      <td>BB</td>\n",
              "      <td>0</td>\n",
              "      <td>0</td>\n",
              "      <td>0</td>\n",
              "      <td>A</td>\n",
              "      <td>0</td>\n",
              "      <td>2</td>\n",
              "      <td>1</td>\n",
              "      <td>0</td>\n",
              "    </tr>\n",
              "    <tr>\n",
              "      <th>2</th>\n",
              "      <td>2</td>\n",
              "      <td>27</td>\n",
              "      <td>0</td>\n",
              "      <td>0</td>\n",
              "      <td>Transient</td>\n",
              "      <td>PRT</td>\n",
              "      <td>0</td>\n",
              "      <td>0</td>\n",
              "      <td>0</td>\n",
              "      <td>BB</td>\n",
              "      <td>0</td>\n",
              "      <td>0</td>\n",
              "      <td>0</td>\n",
              "      <td>C</td>\n",
              "      <td>0</td>\n",
              "      <td>2</td>\n",
              "      <td>0</td>\n",
              "      <td>0</td>\n",
              "    </tr>\n",
              "    <tr>\n",
              "      <th>3</th>\n",
              "      <td>2</td>\n",
              "      <td>27</td>\n",
              "      <td>0</td>\n",
              "      <td>0</td>\n",
              "      <td>Transient</td>\n",
              "      <td>PRT</td>\n",
              "      <td>0</td>\n",
              "      <td>0</td>\n",
              "      <td>9</td>\n",
              "      <td>FB</td>\n",
              "      <td>0</td>\n",
              "      <td>0</td>\n",
              "      <td>0</td>\n",
              "      <td>C</td>\n",
              "      <td>0</td>\n",
              "      <td>2</td>\n",
              "      <td>1</td>\n",
              "      <td>0</td>\n",
              "    </tr>\n",
              "    <tr>\n",
              "      <th>4</th>\n",
              "      <td>2</td>\n",
              "      <td>27</td>\n",
              "      <td>0</td>\n",
              "      <td>0</td>\n",
              "      <td>Transient</td>\n",
              "      <td>PRT</td>\n",
              "      <td>0</td>\n",
              "      <td>0</td>\n",
              "      <td>85</td>\n",
              "      <td>BB</td>\n",
              "      <td>0</td>\n",
              "      <td>0</td>\n",
              "      <td>0</td>\n",
              "      <td>A</td>\n",
              "      <td>0</td>\n",
              "      <td>3</td>\n",
              "      <td>1</td>\n",
              "      <td>1</td>\n",
              "    </tr>\n",
              "    <tr>\n",
              "      <th>...</th>\n",
              "      <td>...</td>\n",
              "      <td>...</td>\n",
              "      <td>...</td>\n",
              "      <td>...</td>\n",
              "      <td>...</td>\n",
              "      <td>...</td>\n",
              "      <td>...</td>\n",
              "      <td>...</td>\n",
              "      <td>...</td>\n",
              "      <td>...</td>\n",
              "      <td>...</td>\n",
              "      <td>...</td>\n",
              "      <td>...</td>\n",
              "      <td>...</td>\n",
              "      <td>...</td>\n",
              "      <td>...</td>\n",
              "      <td>...</td>\n",
              "      <td>...</td>\n",
              "    </tr>\n",
              "    <tr>\n",
              "      <th>65224</th>\n",
              "      <td>2</td>\n",
              "      <td>53</td>\n",
              "      <td>0</td>\n",
              "      <td>0</td>\n",
              "      <td>Transient</td>\n",
              "      <td>CHN</td>\n",
              "      <td>0</td>\n",
              "      <td>0</td>\n",
              "      <td>23</td>\n",
              "      <td>BB</td>\n",
              "      <td>0</td>\n",
              "      <td>0</td>\n",
              "      <td>0</td>\n",
              "      <td>D</td>\n",
              "      <td>2</td>\n",
              "      <td>4</td>\n",
              "      <td>2</td>\n",
              "      <td>0</td>\n",
              "    </tr>\n",
              "    <tr>\n",
              "      <th>65225</th>\n",
              "      <td>2</td>\n",
              "      <td>53</td>\n",
              "      <td>0</td>\n",
              "      <td>0</td>\n",
              "      <td>Transient</td>\n",
              "      <td>FRA</td>\n",
              "      <td>0</td>\n",
              "      <td>0</td>\n",
              "      <td>53</td>\n",
              "      <td>HB</td>\n",
              "      <td>0</td>\n",
              "      <td>0</td>\n",
              "      <td>0</td>\n",
              "      <td>D</td>\n",
              "      <td>2</td>\n",
              "      <td>3</td>\n",
              "      <td>3</td>\n",
              "      <td>0</td>\n",
              "    </tr>\n",
              "    <tr>\n",
              "      <th>65226</th>\n",
              "      <td>2</td>\n",
              "      <td>53</td>\n",
              "      <td>0</td>\n",
              "      <td>0</td>\n",
              "      <td>Transient</td>\n",
              "      <td>FRA</td>\n",
              "      <td>0</td>\n",
              "      <td>0</td>\n",
              "      <td>7</td>\n",
              "      <td>BB</td>\n",
              "      <td>0</td>\n",
              "      <td>0</td>\n",
              "      <td>0</td>\n",
              "      <td>D</td>\n",
              "      <td>2</td>\n",
              "      <td>4</td>\n",
              "      <td>1</td>\n",
              "      <td>0</td>\n",
              "    </tr>\n",
              "    <tr>\n",
              "      <th>65227</th>\n",
              "      <td>2</td>\n",
              "      <td>53</td>\n",
              "      <td>0</td>\n",
              "      <td>0</td>\n",
              "      <td>Transient</td>\n",
              "      <td>FRA</td>\n",
              "      <td>0</td>\n",
              "      <td>0</td>\n",
              "      <td>17</td>\n",
              "      <td>SC</td>\n",
              "      <td>0</td>\n",
              "      <td>0</td>\n",
              "      <td>0</td>\n",
              "      <td>A</td>\n",
              "      <td>2</td>\n",
              "      <td>5</td>\n",
              "      <td>1</td>\n",
              "      <td>0</td>\n",
              "    </tr>\n",
              "    <tr>\n",
              "      <th>65228</th>\n",
              "      <td>2</td>\n",
              "      <td>53</td>\n",
              "      <td>0</td>\n",
              "      <td>0</td>\n",
              "      <td>Transient</td>\n",
              "      <td>FRA</td>\n",
              "      <td>0</td>\n",
              "      <td>0</td>\n",
              "      <td>107</td>\n",
              "      <td>BB</td>\n",
              "      <td>0</td>\n",
              "      <td>0</td>\n",
              "      <td>0</td>\n",
              "      <td>A</td>\n",
              "      <td>2</td>\n",
              "      <td>5</td>\n",
              "      <td>0</td>\n",
              "      <td>0</td>\n",
              "    </tr>\n",
              "  </tbody>\n",
              "</table>\n",
              "<p>62723 rows × 18 columns</p>\n",
              "</div>"
            ],
            "text/plain": [
              "       adults  arrival_date_week_number  babies  children customer_type  \\\n",
              "0           1                        27       0         0     Transient   \n",
              "1           2                        27       0         0     Transient   \n",
              "2           2                        27       0         0     Transient   \n",
              "3           2                        27       0         0     Transient   \n",
              "4           2                        27       0         0     Transient   \n",
              "...       ...                       ...     ...       ...           ...   \n",
              "65224       2                        53       0         0     Transient   \n",
              "65225       2                        53       0         0     Transient   \n",
              "65226       2                        53       0         0     Transient   \n",
              "65227       2                        53       0         0     Transient   \n",
              "65228       2                        53       0         0     Transient   \n",
              "\n",
              "      country  days_in_waiting_list  is_repeated_guest  lead_time meal  \\\n",
              "0         GBR                     0                  0          7   BB   \n",
              "1         GBR                     0                  0         14   BB   \n",
              "2         PRT                     0                  0          0   BB   \n",
              "3         PRT                     0                  0          9   FB   \n",
              "4         PRT                     0                  0         85   BB   \n",
              "...       ...                   ...                ...        ...  ...   \n",
              "65224     CHN                     0                  0         23   BB   \n",
              "65225     FRA                     0                  0         53   HB   \n",
              "65226     FRA                     0                  0          7   BB   \n",
              "65227     FRA                     0                  0         17   SC   \n",
              "65228     FRA                     0                  0        107   BB   \n",
              "\n",
              "       previous_bookings_not_canceled  previous_cancellations  \\\n",
              "0                                   0                       0   \n",
              "1                                   0                       0   \n",
              "2                                   0                       0   \n",
              "3                                   0                       0   \n",
              "4                                   0                       0   \n",
              "...                               ...                     ...   \n",
              "65224                               0                       0   \n",
              "65225                               0                       0   \n",
              "65226                               0                       0   \n",
              "65227                               0                       0   \n",
              "65228                               0                       0   \n",
              "\n",
              "       required_car_parking_spaces reserved_room_type  \\\n",
              "0                                0                  A   \n",
              "1                                0                  A   \n",
              "2                                0                  C   \n",
              "3                                0                  C   \n",
              "4                                0                  A   \n",
              "...                            ...                ...   \n",
              "65224                            0                  D   \n",
              "65225                            0                  D   \n",
              "65226                            0                  D   \n",
              "65227                            0                  A   \n",
              "65228                            0                  A   \n",
              "\n",
              "       stays_in_weekend_nights  stays_in_week_nights  \\\n",
              "0                            0                     1   \n",
              "1                            0                     2   \n",
              "2                            0                     2   \n",
              "3                            0                     2   \n",
              "4                            0                     3   \n",
              "...                        ...                   ...   \n",
              "65224                        2                     4   \n",
              "65225                        2                     3   \n",
              "65226                        2                     4   \n",
              "65227                        2                     5   \n",
              "65228                        2                     5   \n",
              "\n",
              "       total_of_special_requests  is_canceled  \n",
              "0                              0            0  \n",
              "1                              1            0  \n",
              "2                              0            0  \n",
              "3                              1            0  \n",
              "4                              1            1  \n",
              "...                          ...          ...  \n",
              "65224                          2            0  \n",
              "65225                          3            0  \n",
              "65226                          1            0  \n",
              "65227                          1            0  \n",
              "65228                          0            0  \n",
              "\n",
              "[62723 rows x 18 columns]"
            ]
          },
          "execution_count": 44,
          "metadata": {},
          "output_type": "execute_result"
        }
      ],
      "source": [
        "hotel_train_ohe"
      ]
    },
    {
      "cell_type": "markdown",
      "metadata": {
        "id": "o6_KjSECZ1Zp"
      },
      "source": [
        "##### дубликаты после удаления id     <a id='intro'></a>"
      ]
    },
    {
      "cell_type": "code",
      "execution_count": null,
      "metadata": {
        "id": "Y6iVP_8DZ1Zp",
        "outputId": "f6b91381-c085-491d-847e-cdcd749d2046"
      },
      "outputs": [
        {
          "name": "stdout",
          "output_type": "stream",
          "text": [
            "20580\n",
            "7968\n"
          ]
        }
      ],
      "source": [
        "print(hotel_train_ohe.duplicated().sum())\n",
        "print(hotel_test_ohe.duplicated().sum())"
      ]
    },
    {
      "cell_type": "markdown",
      "metadata": {
        "id": "SeodHn0oZ1Zp"
      },
      "source": [
        "В таблице практически все столбцы, кроме **customer_type** и **meal** - количественные. Нам нужно построить модель, которая будет решать задачу классификации (отменит клиент бронь или нет). Применим технику OneHotEncoder, чтобы преобразовать категориальные переменные в количественные."
      ]
    },
    {
      "cell_type": "code",
      "execution_count": null,
      "metadata": {
        "id": "jrUy21UWZ1Zp"
      },
      "outputs": [],
      "source": [
        "enc = OneHotEncoder(handle_unknown='ignore')"
      ]
    },
    {
      "cell_type": "markdown",
      "metadata": {
        "id": "WdmhxacaZ1Zp"
      },
      "source": [
        "Преобразуем обучающие и тестовые выборки функцией transform():"
      ]
    },
    {
      "cell_type": "code",
      "execution_count": null,
      "metadata": {
        "id": "3YvtICQSZ1Zq"
      },
      "outputs": [],
      "source": [
        "enc.fit(features_train)\n",
        "features_train = enc.transform(features_train)\n",
        "features_test = enc.transform(features_test)"
      ]
    },
    {
      "cell_type": "markdown",
      "metadata": {
        "id": "eVzmtJyHZ1Zq"
      },
      "source": [
        "Далее обучим модели и оценим их качество кросс-валидацией. Для решения задачи классификации подойдут 3 модели: логистическая регрессия, решающее дерево и случайный лес. Начнем с логистической регрессии:"
      ]
    },
    {
      "cell_type": "code",
      "execution_count": null,
      "metadata": {
        "id": "SU_pyOvfZ1Zr",
        "outputId": "005b1d5f-7aee-4f6e-ce4f-565e868e07c0"
      },
      "outputs": [
        {
          "name": "stdout",
          "output_type": "stream",
          "text": [
            "Средняя оценка качества модели: 0.5240227930446978\n"
          ]
        }
      ],
      "source": [
        "model = LogisticRegression(random_state=12345, solver='liblinear', class_weight='balanced')\n",
        "scores = cross_val_score(model,features_train, target_train, cv=5, scoring='f1')\n",
        "final_score = scores.mean()\n",
        "print('Средняя оценка качества модели:', final_score)"
      ]
    },
    {
      "cell_type": "markdown",
      "metadata": {
        "id": "naGDUPYBZ1Zs"
      },
      "source": [
        "Теперь перейдем к модели решающего дерева. В цикле переберем гиперпараметры (размер глубины), и выведем на экран при какой глубине результат кросс-валидации дал наивысшую оценку качества модели:"
      ]
    },
    {
      "cell_type": "code",
      "execution_count": null,
      "metadata": {
        "id": "w-li1DmuZ1Zs",
        "outputId": "1a41e88c-48ac-4c39-8bd6-6b5313e19dbe"
      },
      "outputs": [
        {
          "data": {
            "text/html": [
              "<div>\n",
              "<style scoped>\n",
              "    .dataframe tbody tr th:only-of-type {\n",
              "        vertical-align: middle;\n",
              "    }\n",
              "\n",
              "    .dataframe tbody tr th {\n",
              "        vertical-align: top;\n",
              "    }\n",
              "\n",
              "    .dataframe thead th {\n",
              "        text-align: right;\n",
              "    }\n",
              "</style>\n",
              "<table border=\"1\" class=\"dataframe\">\n",
              "  <thead>\n",
              "    <tr style=\"text-align: right;\">\n",
              "      <th></th>\n",
              "      <th>max_depth</th>\n",
              "      <th>final_score</th>\n",
              "    </tr>\n",
              "  </thead>\n",
              "  <tbody>\n",
              "    <tr>\n",
              "      <th>4</th>\n",
              "      <td>5</td>\n",
              "      <td>0.650293</td>\n",
              "    </tr>\n",
              "  </tbody>\n",
              "</table>\n",
              "</div>"
            ],
            "text/plain": [
              "   max_depth  final_score\n",
              "4          5     0.650293"
            ]
          },
          "metadata": {},
          "output_type": "display_data"
        },
        {
          "name": "stdout",
          "output_type": "stream",
          "text": [
            "CPU times: user 8.57 s, sys: 0 ns, total: 8.57 s\n",
            "Wall time: 8.57 s\n"
          ]
        }
      ],
      "source": [
        "%%time\n",
        "\n",
        "col = ['max_depth', 'final_score']\n",
        "data = []\n",
        "\n",
        "for depth in range(1, 11):\n",
        "    model = DecisionTreeClassifier(random_state=12345, max_depth=depth, class_weight='balanced')\n",
        "    scores = cross_val_score(model,features_train, target_train, cv=5 , scoring='f1')\n",
        "    final_score = sum(scores)/len(scores)\n",
        "    data.append([depth, final_score])\n",
        "\n",
        "table = pd.DataFrame(data = data, columns=col)\n",
        "\n",
        "display(table[table['final_score']==table['final_score'].max()])"
      ]
    },
    {
      "cell_type": "markdown",
      "metadata": {
        "id": "f-GrMq-MZ1Zt"
      },
      "source": [
        "При max_depth=5 оценка качества модели кросс-валидацией достигает максимума в 0.65, что уже выше, чем в модели логистической регрессии"
      ]
    },
    {
      "cell_type": "markdown",
      "metadata": {
        "id": "eEWd1VrpZ1Zt"
      },
      "source": [
        "Посмотрим как с задачей справляется модель случайного леса RandomForestClassifier. В цикле переберем значения гиперпараметра n_estimators, который отвечает за количество деревьев в лесу. Выведем на экран значение n_estimators при котором возможно получить максимальную оценку качества модели, полученную кросс-валидацией"
      ]
    },
    {
      "cell_type": "code",
      "execution_count": null,
      "metadata": {
        "id": "RWsC1GgIZ1Zt",
        "outputId": "ea9b4f8f-61bb-4a74-9672-24b1a39b9316"
      },
      "outputs": [
        {
          "data": {
            "text/html": [
              "<div>\n",
              "<style scoped>\n",
              "    .dataframe tbody tr th:only-of-type {\n",
              "        vertical-align: middle;\n",
              "    }\n",
              "\n",
              "    .dataframe tbody tr th {\n",
              "        vertical-align: top;\n",
              "    }\n",
              "\n",
              "    .dataframe thead th {\n",
              "        text-align: right;\n",
              "    }\n",
              "</style>\n",
              "<table border=\"1\" class=\"dataframe\">\n",
              "  <thead>\n",
              "    <tr style=\"text-align: right;\">\n",
              "      <th></th>\n",
              "      <th>n_estimators</th>\n",
              "      <th>final_score</th>\n",
              "    </tr>\n",
              "  </thead>\n",
              "  <tbody>\n",
              "    <tr>\n",
              "      <th>0</th>\n",
              "      <td>1</td>\n",
              "      <td>0.463261</td>\n",
              "    </tr>\n",
              "  </tbody>\n",
              "</table>\n",
              "</div>"
            ],
            "text/plain": [
              "   n_estimators  final_score\n",
              "0             1     0.463261"
            ]
          },
          "metadata": {},
          "output_type": "display_data"
        },
        {
          "name": "stdout",
          "output_type": "stream",
          "text": [
            "CPU times: user 3min 11s, sys: 113 ms, total: 3min 11s\n",
            "Wall time: 3min 11s\n"
          ]
        }
      ],
      "source": [
        "%%time\n",
        "\n",
        "col = ['n_estimators', 'final_score']\n",
        "data = []\n",
        "\n",
        "for est in range(1, 11):\n",
        "    model = RandomForestClassifier(random_state=12345, n_estimators=est, class_weight='balanced')\n",
        "    scores = cross_val_score(model,features_train, target_train, cv=5, scoring='f1')\n",
        "    final_score = sum(scores)/len(scores)\n",
        "    data.append([est, final_score])\n",
        "\n",
        "table = pd.DataFrame(data = data, columns=col)\n",
        "\n",
        "display(table[table['final_score']==table['final_score'].max()])\n"
      ]
    },
    {
      "cell_type": "markdown",
      "metadata": {
        "id": "V5fYjSIvZ1Zu"
      },
      "source": [
        "Наибольшая оценка достигается при n_estimators=1 и равна 0.46.  \n",
        "\n",
        "Таким образом, лучшая модель - решающее дерево при max_depth=5. Проверим ее на тестовой выборке. В качестве метрики оценки качества будем использовать F1-меру и метрику AUC-ROC. F1-мера - это агрегирующая метрика, среднее гармоническое полноты и точности. Метрика AUC-ROC показывает, как сильно наша модель отличается от случайной, так как AUC-ROC случайной модели равна 0.5."
      ]
    },
    {
      "cell_type": "code",
      "execution_count": null,
      "metadata": {
        "id": "quLKIl8yZ1Zv",
        "outputId": "cb6456cc-4f30-434e-c4b2-6a501791667a"
      },
      "outputs": [
        {
          "name": "stdout",
          "output_type": "stream",
          "text": [
            "Значение F1-меры на тестовой выборке: 0.633886436291673\n",
            "Значение метрики AUC-ROC: 0.7747977285779039\n"
          ]
        },
        {
          "data": {
            "image/png": "[encoded data removed]",
            "text/plain": [
              "<Figure size 432x288 with 1 Axes>"
            ]
          },
          "metadata": {},
          "output_type": "display_data"
        }
      ],
      "source": [
        "model =  DecisionTreeClassifier(random_state=12345, max_depth=5, class_weight='balanced')\n",
        "model.fit(features_train, target_train)\n",
        "\n",
        "\n",
        "predicted_test = model.predict(features_test)\n",
        "probabilities_test = model.predict_proba(features_test)\n",
        "probabilities_one_test = probabilities_test[:, 1]\n",
        "test_f1_score = f1_score(target_test, predicted_test )\n",
        "auc_roc = roc_auc_score(target_test, probabilities_one_test)\n",
        "\n",
        "print('Значение F1-меры на тестовой выборке:', test_f1_score)\n",
        "print('Значение метрики AUC-ROC:', auc_roc)\n",
        "\n",
        "sns.set(font_scale=1)\n",
        "fpr, tpr, thresholds = roc_curve(target_test, probabilities_one_test)\n",
        "\n",
        "plt.figure()\n",
        "plt.plot(fpr, tpr)\n",
        "plt.plot([0, 1], [0, 1], linestyle='--')\n",
        "plt.xlim([0.0, 1.0])\n",
        "plt.ylim([0.0, 1.0])\n",
        "plt.xlabel('False Positive Rate')\n",
        "plt.ylabel('True Positive Rate')\n",
        "plt.title('ROC-кривая')\n",
        "plt.show()"
      ]
    },
    {
      "cell_type": "markdown",
      "metadata": {
        "id": "KJIoN_pTZ1Zv"
      },
      "source": [
        "Модель решающего дерева при величине гиперпараметра max_depth=5 и величине порога = 0.3 показывает на тестовой выборке следующие результаты:\n",
        " - F1-мера - 0.634\n",
        " - Метрика AUC-ROC - 0.775"
      ]
    },
    {
      "cell_type": "markdown",
      "metadata": {
        "id": "DXMOMNTkZ1Zw"
      },
      "source": [
        "Проверим на адекватность выбранную нами модель. Для этого посмотрим, как справится с задачей фиктивный классификатор DummyClassifier. Он покажет вероятность успеха, даже если просто \"угадать\". Таким образом, чтобы признать модель адекватной, нужно, чтобы показатели метрик были выше, чем те, которые получатся у фиктивного классификатора. Так как от значения параметра strategy может поменяться результат, переберем их, и для сравнения будем учитывать лучший результат:"
      ]
    },
    {
      "cell_type": "code",
      "execution_count": null,
      "metadata": {
        "id": "9SfR59YpZ1Zw",
        "outputId": "6a366b0c-c209-47de-cb20-04678119ac6e"
      },
      "outputs": [
        {
          "data": {
            "text/html": [
              "<div>\n",
              "<style scoped>\n",
              "    .dataframe tbody tr th:only-of-type {\n",
              "        vertical-align: middle;\n",
              "    }\n",
              "\n",
              "    .dataframe tbody tr th {\n",
              "        vertical-align: top;\n",
              "    }\n",
              "\n",
              "    .dataframe thead th {\n",
              "        text-align: right;\n",
              "    }\n",
              "</style>\n",
              "<table border=\"1\" class=\"dataframe\">\n",
              "  <thead>\n",
              "    <tr style=\"text-align: right;\">\n",
              "      <th></th>\n",
              "      <th>name</th>\n",
              "      <th>f1_score_test</th>\n",
              "      <th>auc_roc_test</th>\n",
              "    </tr>\n",
              "  </thead>\n",
              "  <tbody>\n",
              "    <tr>\n",
              "      <th>3</th>\n",
              "      <td>uniform</td>\n",
              "      <td>0.434614</td>\n",
              "      <td>0.5</td>\n",
              "    </tr>\n",
              "  </tbody>\n",
              "</table>\n",
              "</div>"
            ],
            "text/plain": [
              "      name  f1_score_test  auc_roc_test\n",
              "3  uniform       0.434614           0.5"
            ]
          },
          "metadata": {},
          "output_type": "display_data"
        },
        {
          "name": "stdout",
          "output_type": "stream",
          "text": [
            "CPU times: user 81.8 ms, sys: 11 µs, total: 81.8 ms\n",
            "Wall time: 88 ms\n"
          ]
        }
      ],
      "source": [
        "%%time\n",
        "names = ['stratified', 'most_frequent', 'prior', 'uniform']\n",
        "data = []\n",
        "col = ['name',  'f1_score_test', 'auc_roc_test']\n",
        "\n",
        "for name in names:\n",
        "    new_dummy_classifier = DummyClassifier(strategy=name)\n",
        "    new_dummy_classifier.fit(features_train, target_train)\n",
        "    test_predictions = new_dummy_classifier.predict(features_test)\n",
        "    probabilities_test = new_dummy_classifier.predict_proba(features_test)\n",
        "    probabilities_one_test = probabilities_test[:, 1]\n",
        "    test_accuracy = accuracy_score(target_test, test_predictions)\n",
        "    test_f1_score = f1_score(target_test, test_predictions )\n",
        "    auc_roc_test = roc_auc_score(target_test, probabilities_one_test)\n",
        "    data.append([name, test_f1_score, auc_roc_test])\n",
        "\n",
        "table = pd.DataFrame(data = data, columns=col)\n",
        "display(table[table['f1_score_test']==table['f1_score_test'].max()])"
      ]
    },
    {
      "cell_type": "markdown",
      "metadata": {
        "id": "_ehigZ1oZ1Zx"
      },
      "source": [
        "Показатели у лучшего (при значении параметра strategy='uniform') из фиктивных классификаторов намного ниже, чем у нашей модели, и находятся на уровне 0.43 для F1-меры, а также 0.5- для метрики AUC-ROC. Модель прошла тест на адекватность."
      ]
    },
    {
      "cell_type": "markdown",
      "metadata": {
        "id": "CtHEaZw0Z1Zx"
      },
      "source": [
        "Оценим прибыль, которую модель принесет за год"
      ]
    },
    {
      "cell_type": "code",
      "execution_count": null,
      "metadata": {
        "id": "2utkR_C5Z1Zx"
      },
      "outputs": [],
      "source": [
        "model =  DecisionTreeClassifier(random_state=12345, max_depth=5, class_weight='balanced')\n",
        "model.fit(features_train, target_train)\n",
        "predicted_test = model.predict(features_test)"
      ]
    },
    {
      "cell_type": "markdown",
      "metadata": {
        "id": "I3KsSKvWZ1Zx"
      },
      "source": [
        "Сохраним предсказания модели в таблице `hotel_test`, выведем значения на экран"
      ]
    },
    {
      "cell_type": "code",
      "execution_count": null,
      "metadata": {
        "id": "EaHfEAPQZ1Zx",
        "outputId": "062a5ea6-880d-4bea-f21c-f263ec39eb77"
      },
      "outputs": [
        {
          "data": {
            "text/html": [
              "<div>\n",
              "<style scoped>\n",
              "    .dataframe tbody tr th:only-of-type {\n",
              "        vertical-align: middle;\n",
              "    }\n",
              "\n",
              "    .dataframe tbody tr th {\n",
              "        vertical-align: top;\n",
              "    }\n",
              "\n",
              "    .dataframe thead th {\n",
              "        text-align: right;\n",
              "    }\n",
              "</style>\n",
              "<table border=\"1\" class=\"dataframe\">\n",
              "  <thead>\n",
              "    <tr style=\"text-align: right;\">\n",
              "      <th></th>\n",
              "      <th>id</th>\n",
              "      <th>is_canceled</th>\n",
              "      <th>lead_time</th>\n",
              "      <th>arrival_date_year</th>\n",
              "      <th>arrival_date_month</th>\n",
              "      <th>arrival_date_week_number</th>\n",
              "      <th>arrival_date_day_of_month</th>\n",
              "      <th>stays_in_weekend_nights</th>\n",
              "      <th>stays_in_week_nights</th>\n",
              "      <th>adults</th>\n",
              "      <th>...</th>\n",
              "      <th>booking_changes</th>\n",
              "      <th>days_in_waiting_list</th>\n",
              "      <th>customer_type</th>\n",
              "      <th>required_car_parking_spaces</th>\n",
              "      <th>total_of_special_requests</th>\n",
              "      <th>total_nights</th>\n",
              "      <th>cost_room</th>\n",
              "      <th>one_time_room_service</th>\n",
              "      <th>season_coefficient</th>\n",
              "      <th>predictions</th>\n",
              "    </tr>\n",
              "  </thead>\n",
              "  <tbody>\n",
              "    <tr>\n",
              "      <th>0</th>\n",
              "      <td>6086</td>\n",
              "      <td>1</td>\n",
              "      <td>74</td>\n",
              "      <td>2017</td>\n",
              "      <td>January</td>\n",
              "      <td>1</td>\n",
              "      <td>1</td>\n",
              "      <td>1</td>\n",
              "      <td>0</td>\n",
              "      <td>2</td>\n",
              "      <td>...</td>\n",
              "      <td>0</td>\n",
              "      <td>0</td>\n",
              "      <td>Transient</td>\n",
              "      <td>0</td>\n",
              "      <td>0</td>\n",
              "      <td>1</td>\n",
              "      <td>1000</td>\n",
              "      <td>400</td>\n",
              "      <td>1.0</td>\n",
              "      <td>1</td>\n",
              "    </tr>\n",
              "    <tr>\n",
              "      <th>1</th>\n",
              "      <td>6087</td>\n",
              "      <td>1</td>\n",
              "      <td>62</td>\n",
              "      <td>2017</td>\n",
              "      <td>January</td>\n",
              "      <td>1</td>\n",
              "      <td>1</td>\n",
              "      <td>2</td>\n",
              "      <td>2</td>\n",
              "      <td>2</td>\n",
              "      <td>...</td>\n",
              "      <td>0</td>\n",
              "      <td>0</td>\n",
              "      <td>Transient</td>\n",
              "      <td>0</td>\n",
              "      <td>1</td>\n",
              "      <td>4</td>\n",
              "      <td>1000</td>\n",
              "      <td>400</td>\n",
              "      <td>1.0</td>\n",
              "      <td>0</td>\n",
              "    </tr>\n",
              "    <tr>\n",
              "      <th>2</th>\n",
              "      <td>6088</td>\n",
              "      <td>1</td>\n",
              "      <td>62</td>\n",
              "      <td>2017</td>\n",
              "      <td>January</td>\n",
              "      <td>1</td>\n",
              "      <td>1</td>\n",
              "      <td>2</td>\n",
              "      <td>2</td>\n",
              "      <td>2</td>\n",
              "      <td>...</td>\n",
              "      <td>0</td>\n",
              "      <td>0</td>\n",
              "      <td>Transient</td>\n",
              "      <td>0</td>\n",
              "      <td>1</td>\n",
              "      <td>4</td>\n",
              "      <td>1000</td>\n",
              "      <td>400</td>\n",
              "      <td>1.0</td>\n",
              "      <td>0</td>\n",
              "    </tr>\n",
              "    <tr>\n",
              "      <th>3</th>\n",
              "      <td>6089</td>\n",
              "      <td>1</td>\n",
              "      <td>71</td>\n",
              "      <td>2017</td>\n",
              "      <td>January</td>\n",
              "      <td>1</td>\n",
              "      <td>1</td>\n",
              "      <td>2</td>\n",
              "      <td>2</td>\n",
              "      <td>1</td>\n",
              "      <td>...</td>\n",
              "      <td>0</td>\n",
              "      <td>0</td>\n",
              "      <td>Transient</td>\n",
              "      <td>0</td>\n",
              "      <td>1</td>\n",
              "      <td>4</td>\n",
              "      <td>1000</td>\n",
              "      <td>400</td>\n",
              "      <td>1.0</td>\n",
              "      <td>0</td>\n",
              "    </tr>\n",
              "    <tr>\n",
              "      <th>4</th>\n",
              "      <td>6090</td>\n",
              "      <td>1</td>\n",
              "      <td>172</td>\n",
              "      <td>2017</td>\n",
              "      <td>January</td>\n",
              "      <td>1</td>\n",
              "      <td>1</td>\n",
              "      <td>2</td>\n",
              "      <td>5</td>\n",
              "      <td>2</td>\n",
              "      <td>...</td>\n",
              "      <td>0</td>\n",
              "      <td>0</td>\n",
              "      <td>Transient</td>\n",
              "      <td>0</td>\n",
              "      <td>0</td>\n",
              "      <td>7</td>\n",
              "      <td>1000</td>\n",
              "      <td>400</td>\n",
              "      <td>1.0</td>\n",
              "      <td>1</td>\n",
              "    </tr>\n",
              "  </tbody>\n",
              "</table>\n",
              "<p>5 rows × 29 columns</p>\n",
              "</div>"
            ],
            "text/plain": [
              "     id  is_canceled  lead_time  arrival_date_year arrival_date_month  \\\n",
              "0  6086            1         74               2017            January   \n",
              "1  6087            1         62               2017            January   \n",
              "2  6088            1         62               2017            January   \n",
              "3  6089            1         71               2017            January   \n",
              "4  6090            1        172               2017            January   \n",
              "\n",
              "   arrival_date_week_number  arrival_date_day_of_month  \\\n",
              "0                         1                          1   \n",
              "1                         1                          1   \n",
              "2                         1                          1   \n",
              "3                         1                          1   \n",
              "4                         1                          1   \n",
              "\n",
              "   stays_in_weekend_nights  stays_in_week_nights  adults  ...  \\\n",
              "0                        1                     0       2  ...   \n",
              "1                        2                     2       2  ...   \n",
              "2                        2                     2       2  ...   \n",
              "3                        2                     2       1  ...   \n",
              "4                        2                     5       2  ...   \n",
              "\n",
              "   booking_changes  days_in_waiting_list customer_type  \\\n",
              "0                0                     0     Transient   \n",
              "1                0                     0     Transient   \n",
              "2                0                     0     Transient   \n",
              "3                0                     0     Transient   \n",
              "4                0                     0     Transient   \n",
              "\n",
              "  required_car_parking_spaces total_of_special_requests  total_nights  \\\n",
              "0                           0                         0             1   \n",
              "1                           0                         1             4   \n",
              "2                           0                         1             4   \n",
              "3                           0                         1             4   \n",
              "4                           0                         0             7   \n",
              "\n",
              "   cost_room  one_time_room_service season_coefficient  predictions  \n",
              "0       1000                    400                1.0            1  \n",
              "1       1000                    400                1.0            0  \n",
              "2       1000                    400                1.0            0  \n",
              "3       1000                    400                1.0            0  \n",
              "4       1000                    400                1.0            1  \n",
              "\n",
              "[5 rows x 29 columns]"
            ]
          },
          "metadata": {},
          "output_type": "display_data"
        }
      ],
      "source": [
        "hotel_test['predictions'] = predicted_test\n",
        "display(hotel_test.head())"
      ]
    },
    {
      "cell_type": "markdown",
      "metadata": {
        "id": "7aIrvx3lZ1Zx"
      },
      "source": [
        "Напишем функцию count_revenue, которая подсчитает прибыль отеля с учетом введения депозитов"
      ]
    },
    {
      "cell_type": "code",
      "execution_count": null,
      "metadata": {
        "id": "54BnzK9XZ1Zy"
      },
      "outputs": [],
      "source": [
        "def count_revenue(row):\n",
        "    room_type = row['reserved_room_type']\n",
        "    month = row['arrival_date_month']\n",
        "    week_nights = row['stays_in_week_nights']\n",
        "    weekend_nights = row['stays_in_weekend_nights']\n",
        "    price = row['cost_room']\n",
        "    season_coefficient = row['season_coefficient']\n",
        "    prepare_cost = row['one_time_room_service']\n",
        "    total_nights = week_nights + weekend_nights\n",
        "\n",
        "    if (row['is_canceled'] == 0):\n",
        "        prepare_nights = 1 + math.floor(total_nights / 2)\n",
        "        revenue = season_coefficient*price*total_nights - prepare_nights*prepare_cost\n",
        "\n",
        "    else:\n",
        "        revenue = - (prepare_cost+price*season_coefficient)\n",
        "\n",
        "        if ('predictions' in list(row.index) and row['predictions'] == 1):\n",
        "            revenue = revenue * 0.2\n",
        "\n",
        "    return revenue"
      ]
    },
    {
      "cell_type": "code",
      "execution_count": null,
      "metadata": {
        "id": "Vxwr5PoBZ1Zy",
        "outputId": "82ef20ce-3689-4ba0-fa51-e5705c53fd8d"
      },
      "outputs": [
        {
          "data": {
            "text/plain": [
              "42055634.0"
            ]
          },
          "execution_count": 57,
          "metadata": {},
          "output_type": "execute_result"
        }
      ],
      "source": [
        "total_revenue_deposit = hotel_test.apply(count_revenue, axis=1).sum()\n",
        "total_revenue_deposit"
      ]
    },
    {
      "cell_type": "markdown",
      "metadata": {
        "id": "nCALz9uUZ1Zz"
      },
      "source": [
        "42 млн 55 тысячи 634 рублей прибыль отеля с учетом введения депозитов"
      ]
    },
    {
      "cell_type": "markdown",
      "metadata": {
        "id": "RRpKw78MZ1Zz"
      },
      "source": [
        "Посчитаем чистую прибыль отеля после введения системы депозитов с учетом стоимости разработки системы прогнозирования\n",
        "\n",
        "Из условий задания мы знаем, что:\n",
        " - На разработку системы прогнозирования заложен бюджет — 400 000. При этом необходимо учесть, что внедрение модели должно окупиться за тестовый период. Затраты на разработку должны быть меньше той выручки, которую система принесёт компании"
      ]
    },
    {
      "cell_type": "code",
      "execution_count": null,
      "metadata": {
        "id": "u3TP01tVZ1Zz",
        "outputId": "c2a97b03-36fd-4971-a4c6-ffae4eacb2c1"
      },
      "outputs": [
        {
          "data": {
            "text/plain": [
              "9273184.0"
            ]
          },
          "execution_count": 58,
          "metadata": {},
          "output_type": "execute_result"
        }
      ],
      "source": [
        "IMPLEMENTATION_COST = 400000\n",
        "net_profit = total_revenue_deposit  - total_revenue - IMPLEMENTATION_COST\n",
        "net_profit"
      ]
    },
    {
      "cell_type": "markdown",
      "metadata": {
        "id": "rJZbcvk_Z1Z0"
      },
      "source": [
        "#### Вывод:\n",
        " - до внедрения депозитов отель получал прибыль 32 млн 382 тысячи 450 рублей\n",
        " - лучшая модель - решающее дерево (гиперпараметр max_depth=5)\n",
        " - метрики качества на тестовой выборке: F1-мера - 0.634, AUC-ROC - 0.775\n",
        " - прибыль после введения депозитов могла составить 42 млн 55 тысячи 634 рублей\n",
        " - с учетом стоимости введения системы депозитов, отель за год может получить дополнительно 9 млн 273 тысячи 184 рублей чистой прибыли"
      ]
    },
    {
      "cell_type": "markdown",
      "metadata": {
        "id": "lkRICFrQZ1Z3"
      },
      "source": [
        "### Шаг 5. Опишите портрет «ненадёжного» клиента"
      ]
    },
    {
      "cell_type": "markdown",
      "metadata": {
        "id": "vSNtlVvTZ1Z3"
      },
      "source": [
        "Проанализируем бронирования, которые модель посчитала отмененными и те, которые действительно ими оказались. Вызовем метод describe, чтобы сразу увидеть медианное значение и квартили:"
      ]
    },
    {
      "cell_type": "code",
      "execution_count": null,
      "metadata": {
        "id": "8zBqUKrDZ1Z4",
        "outputId": "e8bd12da-12c2-4107-9f89-ed46fc8a10cd"
      },
      "outputs": [
        {
          "data": {
            "text/html": [
              "<div>\n",
              "<style scoped>\n",
              "    .dataframe tbody tr th:only-of-type {\n",
              "        vertical-align: middle;\n",
              "    }\n",
              "\n",
              "    .dataframe tbody tr th {\n",
              "        vertical-align: top;\n",
              "    }\n",
              "\n",
              "    .dataframe thead th {\n",
              "        text-align: right;\n",
              "    }\n",
              "</style>\n",
              "<table border=\"1\" class=\"dataframe\">\n",
              "  <thead>\n",
              "    <tr style=\"text-align: right;\">\n",
              "      <th></th>\n",
              "      <th>id</th>\n",
              "      <th>is_canceled</th>\n",
              "      <th>lead_time</th>\n",
              "      <th>arrival_date_year</th>\n",
              "      <th>arrival_date_week_number</th>\n",
              "      <th>arrival_date_day_of_month</th>\n",
              "      <th>stays_in_weekend_nights</th>\n",
              "      <th>stays_in_week_nights</th>\n",
              "      <th>adults</th>\n",
              "      <th>children</th>\n",
              "      <th>...</th>\n",
              "      <th>previous_bookings_not_canceled</th>\n",
              "      <th>booking_changes</th>\n",
              "      <th>days_in_waiting_list</th>\n",
              "      <th>required_car_parking_spaces</th>\n",
              "      <th>total_of_special_requests</th>\n",
              "      <th>total_nights</th>\n",
              "      <th>cost_room</th>\n",
              "      <th>one_time_room_service</th>\n",
              "      <th>season_coefficient</th>\n",
              "      <th>predictions</th>\n",
              "    </tr>\n",
              "  </thead>\n",
              "  <tbody>\n",
              "    <tr>\n",
              "      <th>count</th>\n",
              "      <td>8328.000000</td>\n",
              "      <td>8328.0</td>\n",
              "      <td>8328.000000</td>\n",
              "      <td>8328.0</td>\n",
              "      <td>8328.000000</td>\n",
              "      <td>8328.000000</td>\n",
              "      <td>8328.000000</td>\n",
              "      <td>8328.000000</td>\n",
              "      <td>8328.000000</td>\n",
              "      <td>8328.000000</td>\n",
              "      <td>...</td>\n",
              "      <td>8328.000000</td>\n",
              "      <td>8328.000000</td>\n",
              "      <td>8328.000000</td>\n",
              "      <td>8328.0</td>\n",
              "      <td>8328.0</td>\n",
              "      <td>8328.000000</td>\n",
              "      <td>8328.000000</td>\n",
              "      <td>8328.000000</td>\n",
              "      <td>8328.000000</td>\n",
              "      <td>8328.0</td>\n",
              "    </tr>\n",
              "    <tr>\n",
              "      <th>mean</th>\n",
              "      <td>43994.287224</td>\n",
              "      <td>1.0</td>\n",
              "      <td>118.785543</td>\n",
              "      <td>2017.0</td>\n",
              "      <td>17.613473</td>\n",
              "      <td>15.656460</td>\n",
              "      <td>0.837536</td>\n",
              "      <td>2.350024</td>\n",
              "      <td>1.878602</td>\n",
              "      <td>0.074087</td>\n",
              "      <td>...</td>\n",
              "      <td>0.006484</td>\n",
              "      <td>0.073967</td>\n",
              "      <td>0.202209</td>\n",
              "      <td>0.0</td>\n",
              "      <td>0.0</td>\n",
              "      <td>3.187560</td>\n",
              "      <td>899.837896</td>\n",
              "      <td>348.060759</td>\n",
              "      <td>1.228122</td>\n",
              "      <td>1.0</td>\n",
              "    </tr>\n",
              "    <tr>\n",
              "      <th>std</th>\n",
              "      <td>15104.615915</td>\n",
              "      <td>0.0</td>\n",
              "      <td>78.165201</td>\n",
              "      <td>0.0</td>\n",
              "      <td>8.405157</td>\n",
              "      <td>8.671792</td>\n",
              "      <td>0.854012</td>\n",
              "      <td>1.272082</td>\n",
              "      <td>0.467545</td>\n",
              "      <td>0.334065</td>\n",
              "      <td>...</td>\n",
              "      <td>0.302833</td>\n",
              "      <td>0.364847</td>\n",
              "      <td>2.513169</td>\n",
              "      <td>0.0</td>\n",
              "      <td>0.0</td>\n",
              "      <td>1.557552</td>\n",
              "      <td>193.853641</td>\n",
              "      <td>101.069804</td>\n",
              "      <td>0.138172</td>\n",
              "      <td>0.0</td>\n",
              "    </tr>\n",
              "    <tr>\n",
              "      <th>min</th>\n",
              "      <td>6086.000000</td>\n",
              "      <td>1.0</td>\n",
              "      <td>0.000000</td>\n",
              "      <td>2017.0</td>\n",
              "      <td>1.000000</td>\n",
              "      <td>1.000000</td>\n",
              "      <td>0.000000</td>\n",
              "      <td>0.000000</td>\n",
              "      <td>1.000000</td>\n",
              "      <td>0.000000</td>\n",
              "      <td>...</td>\n",
              "      <td>0.000000</td>\n",
              "      <td>0.000000</td>\n",
              "      <td>0.000000</td>\n",
              "      <td>0.0</td>\n",
              "      <td>0.0</td>\n",
              "      <td>1.000000</td>\n",
              "      <td>350.000000</td>\n",
              "      <td>150.000000</td>\n",
              "      <td>1.000000</td>\n",
              "      <td>1.0</td>\n",
              "    </tr>\n",
              "    <tr>\n",
              "      <th>25%</th>\n",
              "      <td>46178.250000</td>\n",
              "      <td>1.0</td>\n",
              "      <td>56.000000</td>\n",
              "      <td>2017.0</td>\n",
              "      <td>11.000000</td>\n",
              "      <td>8.000000</td>\n",
              "      <td>0.000000</td>\n",
              "      <td>1.000000</td>\n",
              "      <td>2.000000</td>\n",
              "      <td>0.000000</td>\n",
              "      <td>...</td>\n",
              "      <td>0.000000</td>\n",
              "      <td>0.000000</td>\n",
              "      <td>0.000000</td>\n",
              "      <td>0.0</td>\n",
              "      <td>0.0</td>\n",
              "      <td>2.000000</td>\n",
              "      <td>1000.000000</td>\n",
              "      <td>400.000000</td>\n",
              "      <td>1.200000</td>\n",
              "      <td>1.0</td>\n",
              "    </tr>\n",
              "    <tr>\n",
              "      <th>50%</th>\n",
              "      <td>49065.000000</td>\n",
              "      <td>1.0</td>\n",
              "      <td>109.000000</td>\n",
              "      <td>2017.0</td>\n",
              "      <td>18.000000</td>\n",
              "      <td>15.000000</td>\n",
              "      <td>1.000000</td>\n",
              "      <td>2.000000</td>\n",
              "      <td>2.000000</td>\n",
              "      <td>0.000000</td>\n",
              "      <td>...</td>\n",
              "      <td>0.000000</td>\n",
              "      <td>0.000000</td>\n",
              "      <td>0.000000</td>\n",
              "      <td>0.0</td>\n",
              "      <td>0.0</td>\n",
              "      <td>3.000000</td>\n",
              "      <td>1000.000000</td>\n",
              "      <td>400.000000</td>\n",
              "      <td>1.200000</td>\n",
              "      <td>1.0</td>\n",
              "    </tr>\n",
              "    <tr>\n",
              "      <th>75%</th>\n",
              "      <td>51924.250000</td>\n",
              "      <td>1.0</td>\n",
              "      <td>169.000000</td>\n",
              "      <td>2017.0</td>\n",
              "      <td>24.000000</td>\n",
              "      <td>23.000000</td>\n",
              "      <td>2.000000</td>\n",
              "      <td>3.000000</td>\n",
              "      <td>2.000000</td>\n",
              "      <td>0.000000</td>\n",
              "      <td>...</td>\n",
              "      <td>0.000000</td>\n",
              "      <td>0.000000</td>\n",
              "      <td>0.000000</td>\n",
              "      <td>0.0</td>\n",
              "      <td>0.0</td>\n",
              "      <td>4.000000</td>\n",
              "      <td>1000.000000</td>\n",
              "      <td>400.000000</td>\n",
              "      <td>1.400000</td>\n",
              "      <td>1.0</td>\n",
              "    </tr>\n",
              "    <tr>\n",
              "      <th>max</th>\n",
              "      <td>91576.000000</td>\n",
              "      <td>1.0</td>\n",
              "      <td>349.000000</td>\n",
              "      <td>2017.0</td>\n",
              "      <td>35.000000</td>\n",
              "      <td>31.000000</td>\n",
              "      <td>4.000000</td>\n",
              "      <td>6.000000</td>\n",
              "      <td>4.000000</td>\n",
              "      <td>3.000000</td>\n",
              "      <td>...</td>\n",
              "      <td>26.000000</td>\n",
              "      <td>5.000000</td>\n",
              "      <td>50.000000</td>\n",
              "      <td>0.0</td>\n",
              "      <td>0.0</td>\n",
              "      <td>10.000000</td>\n",
              "      <td>1000.000000</td>\n",
              "      <td>400.000000</td>\n",
              "      <td>1.400000</td>\n",
              "      <td>1.0</td>\n",
              "    </tr>\n",
              "  </tbody>\n",
              "</table>\n",
              "<p>8 rows × 23 columns</p>\n",
              "</div>"
            ],
            "text/plain": [
              "                 id  is_canceled    lead_time  arrival_date_year  \\\n",
              "count   8328.000000       8328.0  8328.000000             8328.0   \n",
              "mean   43994.287224          1.0   118.785543             2017.0   \n",
              "std    15104.615915          0.0    78.165201                0.0   \n",
              "min     6086.000000          1.0     0.000000             2017.0   \n",
              "25%    46178.250000          1.0    56.000000             2017.0   \n",
              "50%    49065.000000          1.0   109.000000             2017.0   \n",
              "75%    51924.250000          1.0   169.000000             2017.0   \n",
              "max    91576.000000          1.0   349.000000             2017.0   \n",
              "\n",
              "       arrival_date_week_number  arrival_date_day_of_month  \\\n",
              "count               8328.000000                8328.000000   \n",
              "mean                  17.613473                  15.656460   \n",
              "std                    8.405157                   8.671792   \n",
              "min                    1.000000                   1.000000   \n",
              "25%                   11.000000                   8.000000   \n",
              "50%                   18.000000                  15.000000   \n",
              "75%                   24.000000                  23.000000   \n",
              "max                   35.000000                  31.000000   \n",
              "\n",
              "       stays_in_weekend_nights  stays_in_week_nights       adults  \\\n",
              "count              8328.000000           8328.000000  8328.000000   \n",
              "mean                  0.837536              2.350024     1.878602   \n",
              "std                   0.854012              1.272082     0.467545   \n",
              "min                   0.000000              0.000000     1.000000   \n",
              "25%                   0.000000              1.000000     2.000000   \n",
              "50%                   1.000000              2.000000     2.000000   \n",
              "75%                   2.000000              3.000000     2.000000   \n",
              "max                   4.000000              6.000000     4.000000   \n",
              "\n",
              "          children  ...  previous_bookings_not_canceled  booking_changes  \\\n",
              "count  8328.000000  ...                     8328.000000      8328.000000   \n",
              "mean      0.074087  ...                        0.006484         0.073967   \n",
              "std       0.334065  ...                        0.302833         0.364847   \n",
              "min       0.000000  ...                        0.000000         0.000000   \n",
              "25%       0.000000  ...                        0.000000         0.000000   \n",
              "50%       0.000000  ...                        0.000000         0.000000   \n",
              "75%       0.000000  ...                        0.000000         0.000000   \n",
              "max       3.000000  ...                       26.000000         5.000000   \n",
              "\n",
              "       days_in_waiting_list  required_car_parking_spaces  \\\n",
              "count           8328.000000                       8328.0   \n",
              "mean               0.202209                          0.0   \n",
              "std                2.513169                          0.0   \n",
              "min                0.000000                          0.0   \n",
              "25%                0.000000                          0.0   \n",
              "50%                0.000000                          0.0   \n",
              "75%                0.000000                          0.0   \n",
              "max               50.000000                          0.0   \n",
              "\n",
              "       total_of_special_requests  total_nights    cost_room  \\\n",
              "count                     8328.0   8328.000000  8328.000000   \n",
              "mean                         0.0      3.187560   899.837896   \n",
              "std                          0.0      1.557552   193.853641   \n",
              "min                          0.0      1.000000   350.000000   \n",
              "25%                          0.0      2.000000  1000.000000   \n",
              "50%                          0.0      3.000000  1000.000000   \n",
              "75%                          0.0      4.000000  1000.000000   \n",
              "max                          0.0     10.000000  1000.000000   \n",
              "\n",
              "       one_time_room_service  season_coefficient  predictions  \n",
              "count            8328.000000         8328.000000       8328.0  \n",
              "mean              348.060759            1.228122          1.0  \n",
              "std               101.069804            0.138172          0.0  \n",
              "min               150.000000            1.000000          1.0  \n",
              "25%               400.000000            1.200000          1.0  \n",
              "50%               400.000000            1.200000          1.0  \n",
              "75%               400.000000            1.400000          1.0  \n",
              "max               400.000000            1.400000          1.0  \n",
              "\n",
              "[8 rows x 23 columns]"
            ]
          },
          "execution_count": 59,
          "metadata": {},
          "output_type": "execute_result"
        }
      ],
      "source": [
        "hotel_test.query('is_canceled==1 and predictions==True').describe()"
      ]
    },
    {
      "cell_type": "markdown",
      "metadata": {
        "id": "yIuOtAv6Z1Z4"
      },
      "source": [
        "На основе медианы и квартилей можно описать «ненадёжного» клиента\n",
        " - бронирует номер заранее, в основном - за 118 дней (lead_time — количество дней между датой бронирования и датой прибытия)\n",
        " - бронирует в основном номер на 3 ночи: 1 приходится на выходные(stays_in_weekend_nights), 2 - на будние(stays_in_week_nights)\n",
        " - это двое взрослых (adults) без детей(children) и младенцев(babies)\n",
        " - никогда не был клиентом отеля(is_repeated_guest), не отменял(previous_cancellations)\n",
        " - не указывает специальные отметки(total_of_special_requests), не вносит правки в бронь (booking_changes)\n",
        " - не запрашивает парковочное место(required_car_parking_spaces)"
      ]
    },
    {
      "cell_type": "markdown",
      "metadata": {
        "id": "PZaeiCZwZ1Z4"
      },
      "source": [
        "Проанализируем столбцы, содержащие категориальные переменные"
      ]
    },
    {
      "cell_type": "code",
      "execution_count": null,
      "metadata": {
        "id": "V44ymaMeZ1Z4",
        "outputId": "fc5c85a1-9c9b-4729-8e5c-3196b18664db"
      },
      "outputs": [
        {
          "data": {
            "text/plain": [
              "Transient          0.916427\n",
              "Transient-Party    0.078770\n",
              "Contract           0.004083\n",
              "Group              0.000720\n",
              "Name: customer_type, dtype: float64"
            ]
          },
          "execution_count": 60,
          "metadata": {},
          "output_type": "execute_result"
        }
      ],
      "source": [
        "hotel_test.query('is_canceled==1 and predictions==True')['customer_type'].value_counts(normalize=True)"
      ]
    },
    {
      "cell_type": "markdown",
      "metadata": {
        "id": "E4vj5txmZ1Z4"
      },
      "source": [
        "В 91% случаев тип ненадежного клиента не связан с договором или групповым заездом (Transient)"
      ]
    },
    {
      "cell_type": "code",
      "execution_count": null,
      "metadata": {
        "id": "1286ALHDZ1Z4",
        "outputId": "9f60466e-597a-4f47-ea9f-3da3e9454218"
      },
      "outputs": [
        {
          "data": {
            "text/plain": [
              "BB    0.826369\n",
              "SC    0.120917\n",
              "HB    0.051153\n",
              "FB    0.001561\n",
              "Name: meal, dtype: float64"
            ]
          },
          "execution_count": 61,
          "metadata": {},
          "output_type": "execute_result"
        }
      ],
      "source": [
        "hotel_test.query('is_canceled==1 and predictions==True')['meal'].value_counts(normalize=True)"
      ]
    },
    {
      "cell_type": "markdown",
      "metadata": {
        "id": "Q72kIQIrZ1Z5"
      },
      "source": [
        "В 82% случаев выбирают только завтраки(BB), в 94% - завтраки или ничего(BB+SC)"
      ]
    },
    {
      "cell_type": "code",
      "execution_count": null,
      "metadata": {
        "id": "Y1ryViK7Z1Z5",
        "outputId": "ba9c6d2b-9b15-49a8-a6d6-208f9960f32b"
      },
      "outputs": [
        {
          "data": {
            "text/plain": [
              "A    0.786383\n",
              "D    0.148775\n",
              "E    0.036143\n",
              "F    0.012488\n",
              "G    0.008886\n",
              "C    0.005163\n",
              "B    0.002161\n",
              "Name: reserved_room_type, dtype: float64"
            ]
          },
          "execution_count": 62,
          "metadata": {},
          "output_type": "execute_result"
        }
      ],
      "source": [
        "hotel_test.query('is_canceled==1 and predictions==True')['reserved_room_type'].value_counts(normalize=True)"
      ]
    },
    {
      "cell_type": "markdown",
      "metadata": {
        "id": "THhhcZtrZ1Z5"
      },
      "source": [
        "В 3 из 4 бронирований «ненадёжные» клиенты предпочитают номера типа А"
      ]
    },
    {
      "cell_type": "code",
      "execution_count": null,
      "metadata": {
        "id": "OzS4II-RZ1Z6",
        "outputId": "3de79640-1bc6-4b17-b8cf-478df3e46f22"
      },
      "outputs": [
        {
          "data": {
            "text/plain": [
              "TA/TO        0.903338\n",
              "Direct       0.051153\n",
              "Corporate    0.044188\n",
              "GDS          0.001321\n",
              "Name: distribution_channel, dtype: float64"
            ]
          },
          "execution_count": 63,
          "metadata": {},
          "output_type": "execute_result"
        }
      ],
      "source": [
        "hotel_test.query('is_canceled==1 and predictions==True')['distribution_channel'].value_counts(normalize=True)"
      ]
    },
    {
      "cell_type": "markdown",
      "metadata": {
        "id": "RIP1MQG2Z1Z6"
      },
      "source": [
        "В 90% случаев, канал дистрибуции был - TA/TO"
      ]
    },
    {
      "cell_type": "markdown",
      "metadata": {
        "id": "JptyBHNBZ1Z6"
      },
      "source": [
        "#### Выводы:\n",
        "\n",
        "Портрет «ненадёжного» клиента:\n",
        " - бронирует номер заранее, в основном - за 118 дней\n",
        " - бронирует в основном номер на 3 ночи: 1 приходится на выходные, 2 - на будние\n",
        " - это двое взрослых без детей и младенцев\n",
        " - никогда не был клиентом отеля, не отменял и не заказывал номера ранее\n",
        " - не указывает специальные отметки, не вносит правки в бронь\n",
        " - не запрашивает парковочное место\n",
        " - не связан с договором или групповым заездом\n",
        " - вместе с номером выбирает включенный в стоимость завтрак или ничего\n",
        " - выбирает самый дорогую по стоимости категорию номера (А)\n",
        " - канал дистрибуции - TA/TO"
      ]
    },
    {
      "cell_type": "markdown",
      "metadata": {
        "id": "rniuKYDBZ1Z7"
      },
      "source": [
        "### Шаг 6. Напишите общий вывод"
      ]
    },
    {
      "cell_type": "markdown",
      "metadata": {
        "id": "ILivuh80Z1Z7"
      },
      "source": [
        "Заказчиком исследования была сеть отелей «Как в гостях».  \n",
        "\n",
        "Задачей было разработать систему, которая предсказывает отказ от брони. Приням во внимание бизнес-метрики, разработали модели ML, выбрали лучшую. После настройки гиперпараметров, ей оказалась модель Решающее дерево.\n",
        "\n",
        "Был описан портрет «ненадёжного» клиента: бронирует номер заранее, в основном - за 118 дней, бронирует в основном номер на 3 ночи: 1 приходится на выходные, 2 - на будние, это двое взрослых без детей и младенцев, никогда не был клиентом отеля, не отменял и не заказывал номера ранее, не указывает специальные отметки, не вносит правки в бронь, не запрашивает парковочное место, не связан с договором или групповым заездом, вместе с номером выбирает включенный в стоимость завтрак или ничего, выбирает самый дорогую по стоимости категорию номера (А), канал дистрибуции - TA/TO.\n",
        "\n",
        "Мы высчитали, что, с учетом стоимости введения системы депозитов, отель за год может получить дополнительно 9 млн 273 тысячи чистой прибыли.\n",
        "\n",
        "С учетом вышеперечисленного, можно дать рекомендацию бизнесу внедрять систему депозитов, использовать модель предсказания отказа от бронирования, использовать портрет «ненадёжного» клиента в работе."
      ]
    }
  ],
  "metadata": {
    "ExecuteTimeLog": [
      {
        "duration": 1509,
        "start_time": "2022-06-20T19:37:53.319Z"
      },
      {
        "duration": 422,
        "start_time": "2022-06-20T19:39:17.249Z"
      },
      {
        "duration": 25,
        "start_time": "2022-06-20T19:39:50.208Z"
      },
      {
        "duration": 22,
        "start_time": "2022-06-20T19:40:04.215Z"
      },
      {
        "duration": 4,
        "start_time": "2022-06-20T19:49:52.485Z"
      },
      {
        "duration": 26,
        "start_time": "2022-06-20T19:50:36.371Z"
      },
      {
        "duration": 17,
        "start_time": "2022-06-20T19:50:44.100Z"
      },
      {
        "duration": 83,
        "start_time": "2022-06-20T19:52:52.331Z"
      },
      {
        "duration": 10,
        "start_time": "2022-06-20T19:55:07.047Z"
      },
      {
        "duration": 5,
        "start_time": "2022-06-20T19:55:26.908Z"
      },
      {
        "duration": 30,
        "start_time": "2022-06-20T19:56:43.442Z"
      },
      {
        "duration": 8,
        "start_time": "2022-06-20T19:57:48.396Z"
      },
      {
        "duration": 11,
        "start_time": "2022-06-20T19:57:54.113Z"
      },
      {
        "duration": 6,
        "start_time": "2022-06-20T19:59:04.520Z"
      },
      {
        "duration": 8,
        "start_time": "2022-06-20T19:59:09.595Z"
      },
      {
        "duration": 26,
        "start_time": "2022-06-20T19:59:45.040Z"
      },
      {
        "duration": 34,
        "start_time": "2022-06-20T20:00:02.318Z"
      },
      {
        "duration": 9,
        "start_time": "2022-06-20T20:03:33.688Z"
      },
      {
        "duration": 68,
        "start_time": "2022-06-20T20:05:03.603Z"
      },
      {
        "duration": 89,
        "start_time": "2022-06-20T20:05:15.569Z"
      },
      {
        "duration": 71,
        "start_time": "2022-06-20T20:05:20.420Z"
      },
      {
        "duration": 138,
        "start_time": "2022-06-20T20:07:43.193Z"
      },
      {
        "duration": 130,
        "start_time": "2022-06-20T20:09:48.091Z"
      },
      {
        "duration": 120,
        "start_time": "2022-06-20T20:10:14.187Z"
      },
      {
        "duration": 120,
        "start_time": "2022-06-20T20:10:26.260Z"
      },
      {
        "duration": 181,
        "start_time": "2022-06-20T20:10:39.723Z"
      },
      {
        "duration": 9,
        "start_time": "2022-06-20T20:13:24.358Z"
      },
      {
        "duration": 14,
        "start_time": "2022-06-20T20:14:08.876Z"
      },
      {
        "duration": 124,
        "start_time": "2022-06-20T20:14:58.589Z"
      },
      {
        "duration": 12,
        "start_time": "2022-06-20T20:15:39.730Z"
      },
      {
        "duration": 118,
        "start_time": "2022-06-20T20:15:48.020Z"
      },
      {
        "duration": 115,
        "start_time": "2022-06-20T20:17:31.131Z"
      },
      {
        "duration": 118,
        "start_time": "2022-06-20T20:17:51.554Z"
      },
      {
        "duration": 23,
        "start_time": "2022-06-20T20:22:21.627Z"
      },
      {
        "duration": 6,
        "start_time": "2022-06-20T20:24:23.570Z"
      },
      {
        "duration": 16,
        "start_time": "2022-06-20T20:25:43.586Z"
      },
      {
        "duration": 7,
        "start_time": "2022-06-20T20:29:13.137Z"
      },
      {
        "duration": 1553,
        "start_time": "2022-06-23T16:30:12.733Z"
      },
      {
        "duration": 511,
        "start_time": "2022-06-23T16:30:14.288Z"
      },
      {
        "duration": 21,
        "start_time": "2022-06-23T16:30:14.800Z"
      },
      {
        "duration": 17,
        "start_time": "2022-06-23T16:30:14.823Z"
      },
      {
        "duration": 34,
        "start_time": "2022-06-23T16:30:14.841Z"
      },
      {
        "duration": 17,
        "start_time": "2022-06-23T16:30:14.876Z"
      },
      {
        "duration": 89,
        "start_time": "2022-06-23T16:30:14.894Z"
      },
      {
        "duration": 6,
        "start_time": "2022-06-23T16:30:14.985Z"
      },
      {
        "duration": 7,
        "start_time": "2022-06-23T16:30:14.992Z"
      },
      {
        "duration": 50,
        "start_time": "2022-06-23T16:30:15.002Z"
      },
      {
        "duration": 8,
        "start_time": "2022-06-23T16:30:15.054Z"
      },
      {
        "duration": 14,
        "start_time": "2022-06-23T16:30:15.064Z"
      },
      {
        "duration": 13,
        "start_time": "2022-06-23T16:30:15.079Z"
      },
      {
        "duration": 5,
        "start_time": "2022-06-23T16:30:15.093Z"
      },
      {
        "duration": 53,
        "start_time": "2022-06-23T16:30:15.100Z"
      },
      {
        "duration": 9,
        "start_time": "2022-06-23T16:30:15.155Z"
      },
      {
        "duration": 113,
        "start_time": "2022-06-23T16:30:15.165Z"
      },
      {
        "duration": 92,
        "start_time": "2022-06-23T16:30:15.280Z"
      },
      {
        "duration": 158,
        "start_time": "2022-06-23T16:30:15.374Z"
      },
      {
        "duration": 18,
        "start_time": "2022-06-23T16:30:15.534Z"
      },
      {
        "duration": 13,
        "start_time": "2022-06-23T16:30:15.553Z"
      },
      {
        "duration": 128,
        "start_time": "2022-06-23T16:30:15.568Z"
      },
      {
        "duration": 11,
        "start_time": "2022-06-23T16:30:15.697Z"
      },
      {
        "duration": 20,
        "start_time": "2022-06-23T16:30:15.709Z"
      },
      {
        "duration": 21,
        "start_time": "2022-06-23T16:30:15.731Z"
      },
      {
        "duration": 14,
        "start_time": "2022-06-23T16:30:15.754Z"
      },
      {
        "duration": 7,
        "start_time": "2022-06-23T16:30:15.770Z"
      },
      {
        "duration": 18,
        "start_time": "2022-06-23T16:36:30.104Z"
      },
      {
        "duration": 411,
        "start_time": "2022-06-23T16:44:32.448Z"
      },
      {
        "duration": 405,
        "start_time": "2022-06-23T16:44:48.056Z"
      },
      {
        "duration": 362,
        "start_time": "2022-06-23T16:45:02.785Z"
      },
      {
        "duration": 397,
        "start_time": "2022-06-23T16:45:14.090Z"
      },
      {
        "duration": 379,
        "start_time": "2022-06-23T16:47:03.773Z"
      },
      {
        "duration": 22,
        "start_time": "2022-06-23T16:48:00.015Z"
      },
      {
        "duration": 289,
        "start_time": "2022-06-23T16:51:48.398Z"
      },
      {
        "duration": 442,
        "start_time": "2022-06-23T16:52:00.472Z"
      },
      {
        "duration": 355,
        "start_time": "2022-06-23T16:52:23.169Z"
      },
      {
        "duration": 362,
        "start_time": "2022-06-23T16:52:43.001Z"
      },
      {
        "duration": 356,
        "start_time": "2022-06-23T16:53:32.685Z"
      },
      {
        "duration": 18,
        "start_time": "2022-06-23T16:54:55.992Z"
      },
      {
        "duration": 2718,
        "start_time": "2022-06-23T16:57:23.010Z"
      },
      {
        "duration": 2552,
        "start_time": "2022-06-23T16:57:36.475Z"
      },
      {
        "duration": 2765,
        "start_time": "2022-06-23T16:57:48.548Z"
      },
      {
        "duration": 2776,
        "start_time": "2022-06-23T17:01:58.028Z"
      },
      {
        "duration": 2654,
        "start_time": "2022-06-23T17:02:13.212Z"
      },
      {
        "duration": 2717,
        "start_time": "2022-06-23T17:02:23.605Z"
      },
      {
        "duration": 2917,
        "start_time": "2022-06-23T17:02:34.781Z"
      },
      {
        "duration": 2679,
        "start_time": "2022-06-23T17:02:47.445Z"
      },
      {
        "duration": 2784,
        "start_time": "2022-06-23T17:03:02.998Z"
      },
      {
        "duration": 2646,
        "start_time": "2022-06-23T17:03:15.766Z"
      },
      {
        "duration": 2658,
        "start_time": "2022-06-23T17:03:35.391Z"
      },
      {
        "duration": 10,
        "start_time": "2022-06-23T17:14:36.877Z"
      },
      {
        "duration": 109,
        "start_time": "2022-06-23T17:18:26.310Z"
      },
      {
        "duration": 5,
        "start_time": "2022-06-23T17:18:30.197Z"
      },
      {
        "duration": 217,
        "start_time": "2022-06-23T17:18:30.204Z"
      },
      {
        "duration": 19,
        "start_time": "2022-06-23T17:18:30.423Z"
      },
      {
        "duration": 41,
        "start_time": "2022-06-23T17:18:30.444Z"
      },
      {
        "duration": 37,
        "start_time": "2022-06-23T17:18:30.486Z"
      },
      {
        "duration": 18,
        "start_time": "2022-06-23T17:18:30.525Z"
      },
      {
        "duration": 89,
        "start_time": "2022-06-23T17:18:30.545Z"
      },
      {
        "duration": 9,
        "start_time": "2022-06-23T17:18:30.636Z"
      },
      {
        "duration": 22,
        "start_time": "2022-06-23T17:18:30.648Z"
      },
      {
        "duration": 58,
        "start_time": "2022-06-23T17:18:30.672Z"
      },
      {
        "duration": 34,
        "start_time": "2022-06-23T17:18:30.731Z"
      },
      {
        "duration": 34,
        "start_time": "2022-06-23T17:18:30.767Z"
      },
      {
        "duration": 25,
        "start_time": "2022-06-23T17:18:30.803Z"
      },
      {
        "duration": 31,
        "start_time": "2022-06-23T17:18:30.829Z"
      },
      {
        "duration": 60,
        "start_time": "2022-06-23T17:18:30.862Z"
      },
      {
        "duration": 9,
        "start_time": "2022-06-23T17:18:30.924Z"
      },
      {
        "duration": 101,
        "start_time": "2022-06-23T17:18:30.935Z"
      },
      {
        "duration": 84,
        "start_time": "2022-06-23T17:18:31.038Z"
      },
      {
        "duration": 170,
        "start_time": "2022-06-23T17:18:31.124Z"
      },
      {
        "duration": 9,
        "start_time": "2022-06-23T17:18:31.296Z"
      },
      {
        "duration": 31,
        "start_time": "2022-06-23T17:18:31.307Z"
      },
      {
        "duration": 144,
        "start_time": "2022-06-23T17:18:31.340Z"
      },
      {
        "duration": 10,
        "start_time": "2022-06-23T17:18:31.486Z"
      },
      {
        "duration": 27,
        "start_time": "2022-06-23T17:18:31.499Z"
      },
      {
        "duration": 6,
        "start_time": "2022-06-23T17:18:31.528Z"
      },
      {
        "duration": 28,
        "start_time": "2022-06-23T17:18:31.535Z"
      },
      {
        "duration": 25,
        "start_time": "2022-06-23T17:18:31.565Z"
      },
      {
        "duration": 32,
        "start_time": "2022-06-23T17:18:31.592Z"
      },
      {
        "duration": 481,
        "start_time": "2022-06-23T17:18:31.625Z"
      },
      {
        "duration": 22,
        "start_time": "2022-06-23T17:18:32.108Z"
      },
      {
        "duration": 480,
        "start_time": "2022-06-23T17:18:32.131Z"
      },
      {
        "duration": 25,
        "start_time": "2022-06-23T17:18:32.613Z"
      },
      {
        "duration": 2851,
        "start_time": "2022-06-23T17:18:32.640Z"
      },
      {
        "duration": 12,
        "start_time": "2022-06-23T17:18:35.493Z"
      },
      {
        "duration": 126,
        "start_time": "2022-06-23T17:18:35.507Z"
      },
      {
        "duration": 40776,
        "start_time": "2022-06-23T17:19:56.995Z"
      },
      {
        "duration": 16,
        "start_time": "2022-06-23T17:28:00.677Z"
      },
      {
        "duration": 18,
        "start_time": "2022-06-23T17:28:18.691Z"
      },
      {
        "duration": 17,
        "start_time": "2022-06-23T17:30:40.609Z"
      },
      {
        "duration": 3,
        "start_time": "2022-06-23T17:31:22.354Z"
      },
      {
        "duration": 157,
        "start_time": "2022-06-23T17:31:43.644Z"
      },
      {
        "duration": 2842,
        "start_time": "2022-06-23T17:32:08.772Z"
      },
      {
        "duration": 17284,
        "start_time": "2022-06-23T17:33:00.365Z"
      },
      {
        "duration": 50,
        "start_time": "2022-06-23T17:34:28.016Z"
      },
      {
        "duration": 0,
        "start_time": "2022-06-23T17:42:03.371Z"
      },
      {
        "duration": 5,
        "start_time": "2022-06-23T17:42:24.566Z"
      },
      {
        "duration": 206,
        "start_time": "2022-06-23T17:42:24.572Z"
      },
      {
        "duration": 18,
        "start_time": "2022-06-23T17:42:24.780Z"
      },
      {
        "duration": 17,
        "start_time": "2022-06-23T17:42:24.800Z"
      },
      {
        "duration": 39,
        "start_time": "2022-06-23T17:42:24.819Z"
      },
      {
        "duration": 24,
        "start_time": "2022-06-23T17:42:24.859Z"
      },
      {
        "duration": 85,
        "start_time": "2022-06-23T17:42:24.884Z"
      },
      {
        "duration": 8,
        "start_time": "2022-06-23T17:42:24.971Z"
      },
      {
        "duration": 12,
        "start_time": "2022-06-23T17:42:24.982Z"
      },
      {
        "duration": 34,
        "start_time": "2022-06-23T17:42:24.996Z"
      },
      {
        "duration": 24,
        "start_time": "2022-06-23T17:42:25.032Z"
      },
      {
        "duration": 17,
        "start_time": "2022-06-23T17:42:25.057Z"
      },
      {
        "duration": 14,
        "start_time": "2022-06-23T17:42:25.076Z"
      },
      {
        "duration": 5,
        "start_time": "2022-06-23T17:42:25.092Z"
      },
      {
        "duration": 53,
        "start_time": "2022-06-23T17:42:25.099Z"
      },
      {
        "duration": 8,
        "start_time": "2022-06-23T17:42:25.154Z"
      },
      {
        "duration": 91,
        "start_time": "2022-06-23T17:42:25.164Z"
      },
      {
        "duration": 83,
        "start_time": "2022-06-23T17:42:25.257Z"
      },
      {
        "duration": 170,
        "start_time": "2022-06-23T17:42:25.352Z"
      },
      {
        "duration": 8,
        "start_time": "2022-06-23T17:42:25.523Z"
      },
      {
        "duration": 22,
        "start_time": "2022-06-23T17:42:25.533Z"
      },
      {
        "duration": 141,
        "start_time": "2022-06-23T17:42:25.557Z"
      },
      {
        "duration": 8,
        "start_time": "2022-06-23T17:42:25.700Z"
      },
      {
        "duration": 33,
        "start_time": "2022-06-23T17:42:25.711Z"
      },
      {
        "duration": 5,
        "start_time": "2022-06-23T17:42:25.745Z"
      },
      {
        "duration": 34,
        "start_time": "2022-06-23T17:42:25.752Z"
      },
      {
        "duration": 10,
        "start_time": "2022-06-23T17:42:25.787Z"
      },
      {
        "duration": 22,
        "start_time": "2022-06-23T17:42:25.798Z"
      },
      {
        "duration": 460,
        "start_time": "2022-06-23T17:42:25.821Z"
      },
      {
        "duration": 19,
        "start_time": "2022-06-23T17:42:26.282Z"
      },
      {
        "duration": 416,
        "start_time": "2022-06-23T17:42:26.303Z"
      },
      {
        "duration": 31,
        "start_time": "2022-06-23T17:42:26.721Z"
      },
      {
        "duration": 2743,
        "start_time": "2022-06-23T17:42:26.754Z"
      },
      {
        "duration": 9,
        "start_time": "2022-06-23T17:42:29.499Z"
      },
      {
        "duration": 10,
        "start_time": "2022-06-23T17:42:29.509Z"
      },
      {
        "duration": 40574,
        "start_time": "2022-06-23T17:42:29.520Z"
      },
      {
        "duration": 16,
        "start_time": "2022-06-23T17:43:10.096Z"
      },
      {
        "duration": 6,
        "start_time": "2022-06-23T17:43:10.114Z"
      },
      {
        "duration": 163,
        "start_time": "2022-06-23T17:43:10.122Z"
      },
      {
        "duration": 2634,
        "start_time": "2022-06-23T17:43:10.287Z"
      },
      {
        "duration": 17251,
        "start_time": "2022-06-23T17:43:12.923Z"
      },
      {
        "duration": 197984,
        "start_time": "2022-06-23T17:43:30.176Z"
      },
      {
        "duration": 148248,
        "start_time": "2022-06-23T17:47:05.679Z"
      },
      {
        "duration": 247136,
        "start_time": "2022-06-23T17:49:59.876Z"
      },
      {
        "duration": 151019,
        "start_time": "2022-06-23T17:57:45.612Z"
      },
      {
        "duration": 7869,
        "start_time": "2022-06-23T18:08:48.756Z"
      },
      {
        "duration": 148073,
        "start_time": "2022-06-23T18:10:15.669Z"
      },
      {
        "duration": 301,
        "start_time": "2022-06-23T18:16:31.466Z"
      },
      {
        "duration": 287,
        "start_time": "2022-06-23T18:17:00.881Z"
      },
      {
        "duration": 72,
        "start_time": "2022-06-23T18:22:57.793Z"
      },
      {
        "duration": 127,
        "start_time": "2022-06-23T18:27:45.553Z"
      },
      {
        "duration": 18,
        "start_time": "2022-06-23T18:28:32.225Z"
      },
      {
        "duration": 5,
        "start_time": "2022-06-23T18:30:53.557Z"
      },
      {
        "duration": 41323,
        "start_time": "2022-06-23T18:31:17.246Z"
      },
      {
        "duration": 4,
        "start_time": "2022-06-23T18:33:46.502Z"
      },
      {
        "duration": 41177,
        "start_time": "2022-06-23T18:33:52.620Z"
      },
      {
        "duration": 61,
        "start_time": "2022-06-23T18:43:01.855Z"
      },
      {
        "duration": 13,
        "start_time": "2022-06-23T18:53:56.147Z"
      },
      {
        "duration": 11,
        "start_time": "2022-06-23T18:54:29.508Z"
      },
      {
        "duration": 9,
        "start_time": "2022-06-23T18:55:16.263Z"
      },
      {
        "duration": 12,
        "start_time": "2022-06-23T18:55:29.517Z"
      },
      {
        "duration": 62,
        "start_time": "2022-06-23T18:55:30.734Z"
      },
      {
        "duration": 11,
        "start_time": "2022-06-23T18:55:48.406Z"
      },
      {
        "duration": 122,
        "start_time": "2022-06-23T20:10:26.299Z"
      },
      {
        "duration": 122,
        "start_time": "2022-06-23T20:10:29.875Z"
      },
      {
        "duration": 139,
        "start_time": "2022-06-23T20:10:55.373Z"
      },
      {
        "duration": 144,
        "start_time": "2022-06-23T20:11:04.060Z"
      },
      {
        "duration": 407,
        "start_time": "2022-06-23T20:11:53.230Z"
      },
      {
        "duration": 390,
        "start_time": "2022-06-23T20:11:57.479Z"
      },
      {
        "duration": 2851,
        "start_time": "2022-06-23T20:12:14.679Z"
      },
      {
        "duration": 47,
        "start_time": "2022-06-24T10:17:45.294Z"
      },
      {
        "duration": 1734,
        "start_time": "2022-06-24T10:17:52.126Z"
      },
      {
        "duration": 455,
        "start_time": "2022-06-24T10:17:53.862Z"
      },
      {
        "duration": 25,
        "start_time": "2022-06-24T10:17:54.319Z"
      },
      {
        "duration": 19,
        "start_time": "2022-06-24T10:17:54.345Z"
      },
      {
        "duration": 28,
        "start_time": "2022-06-24T10:17:54.367Z"
      },
      {
        "duration": 41,
        "start_time": "2022-06-24T10:17:54.397Z"
      },
      {
        "duration": 87,
        "start_time": "2022-06-24T10:17:54.440Z"
      },
      {
        "duration": 7,
        "start_time": "2022-06-24T10:17:54.529Z"
      },
      {
        "duration": 8,
        "start_time": "2022-06-24T10:17:54.537Z"
      },
      {
        "duration": 32,
        "start_time": "2022-06-24T10:17:54.547Z"
      },
      {
        "duration": 9,
        "start_time": "2022-06-24T10:17:54.581Z"
      },
      {
        "duration": 39,
        "start_time": "2022-06-24T10:17:54.591Z"
      },
      {
        "duration": 10,
        "start_time": "2022-06-24T10:17:54.631Z"
      },
      {
        "duration": 5,
        "start_time": "2022-06-24T10:17:54.644Z"
      },
      {
        "duration": 35,
        "start_time": "2022-06-24T10:17:54.650Z"
      },
      {
        "duration": 37,
        "start_time": "2022-06-24T10:17:54.687Z"
      },
      {
        "duration": 101,
        "start_time": "2022-06-24T10:17:54.726Z"
      },
      {
        "duration": 64,
        "start_time": "2022-06-24T10:17:54.829Z"
      },
      {
        "duration": 171,
        "start_time": "2022-06-24T10:17:54.895Z"
      },
      {
        "duration": 11,
        "start_time": "2022-06-24T10:17:55.068Z"
      },
      {
        "duration": 17,
        "start_time": "2022-06-24T10:17:55.080Z"
      },
      {
        "duration": 140,
        "start_time": "2022-06-24T10:17:55.099Z"
      },
      {
        "duration": 10,
        "start_time": "2022-06-24T10:17:55.240Z"
      },
      {
        "duration": 23,
        "start_time": "2022-06-24T10:17:55.252Z"
      },
      {
        "duration": 6,
        "start_time": "2022-06-24T10:17:55.277Z"
      },
      {
        "duration": 38,
        "start_time": "2022-06-24T10:17:55.285Z"
      },
      {
        "duration": 8,
        "start_time": "2022-06-24T10:17:55.325Z"
      },
      {
        "duration": 21,
        "start_time": "2022-06-24T10:17:55.335Z"
      },
      {
        "duration": 399,
        "start_time": "2022-06-24T10:17:55.357Z"
      },
      {
        "duration": 23,
        "start_time": "2022-06-24T10:17:55.757Z"
      },
      {
        "duration": 448,
        "start_time": "2022-06-24T10:17:55.782Z"
      },
      {
        "duration": 18,
        "start_time": "2022-06-24T10:17:56.232Z"
      },
      {
        "duration": 3035,
        "start_time": "2022-06-24T10:17:56.252Z"
      },
      {
        "duration": 11,
        "start_time": "2022-06-24T10:17:59.289Z"
      },
      {
        "duration": 13,
        "start_time": "2022-06-24T10:17:59.302Z"
      },
      {
        "duration": 124,
        "start_time": "2022-06-24T10:17:59.317Z"
      },
      {
        "duration": 0,
        "start_time": "2022-06-24T10:17:59.443Z"
      },
      {
        "duration": 0,
        "start_time": "2022-06-24T10:17:59.444Z"
      },
      {
        "duration": 0,
        "start_time": "2022-06-24T10:17:59.445Z"
      },
      {
        "duration": 0,
        "start_time": "2022-06-24T10:17:59.446Z"
      },
      {
        "duration": 0,
        "start_time": "2022-06-24T10:17:59.447Z"
      },
      {
        "duration": 0,
        "start_time": "2022-06-24T10:17:59.449Z"
      },
      {
        "duration": 0,
        "start_time": "2022-06-24T10:17:59.450Z"
      },
      {
        "duration": 0,
        "start_time": "2022-06-24T10:17:59.451Z"
      },
      {
        "duration": 0,
        "start_time": "2022-06-24T10:17:59.451Z"
      },
      {
        "duration": 0,
        "start_time": "2022-06-24T10:17:59.453Z"
      },
      {
        "duration": 0,
        "start_time": "2022-06-24T10:17:59.454Z"
      },
      {
        "duration": 0,
        "start_time": "2022-06-24T10:17:59.455Z"
      },
      {
        "duration": 0,
        "start_time": "2022-06-24T10:17:59.456Z"
      },
      {
        "duration": 0,
        "start_time": "2022-06-24T10:17:59.456Z"
      },
      {
        "duration": 0,
        "start_time": "2022-06-24T10:17:59.458Z"
      },
      {
        "duration": 0,
        "start_time": "2022-06-24T10:17:59.458Z"
      },
      {
        "duration": 0,
        "start_time": "2022-06-24T10:17:59.459Z"
      },
      {
        "duration": 0,
        "start_time": "2022-06-24T10:17:59.460Z"
      },
      {
        "duration": 0,
        "start_time": "2022-06-24T10:17:59.461Z"
      },
      {
        "duration": 7,
        "start_time": "2022-06-24T10:18:25.147Z"
      },
      {
        "duration": 1466,
        "start_time": "2022-06-24T10:41:18.863Z"
      },
      {
        "duration": 220,
        "start_time": "2022-06-24T10:41:20.331Z"
      },
      {
        "duration": 23,
        "start_time": "2022-06-24T10:41:20.553Z"
      },
      {
        "duration": 18,
        "start_time": "2022-06-24T10:41:20.578Z"
      },
      {
        "duration": 39,
        "start_time": "2022-06-24T10:41:20.598Z"
      },
      {
        "duration": 19,
        "start_time": "2022-06-24T10:41:20.639Z"
      },
      {
        "duration": 97,
        "start_time": "2022-06-24T10:41:20.659Z"
      },
      {
        "duration": 8,
        "start_time": "2022-06-24T10:41:20.758Z"
      },
      {
        "duration": 8,
        "start_time": "2022-06-24T10:41:20.768Z"
      },
      {
        "duration": 51,
        "start_time": "2022-06-24T10:41:20.779Z"
      },
      {
        "duration": 9,
        "start_time": "2022-06-24T10:41:20.832Z"
      },
      {
        "duration": 16,
        "start_time": "2022-06-24T10:41:20.842Z"
      },
      {
        "duration": 11,
        "start_time": "2022-06-24T10:41:20.859Z"
      },
      {
        "duration": 6,
        "start_time": "2022-06-24T10:41:20.871Z"
      },
      {
        "duration": 61,
        "start_time": "2022-06-24T10:41:20.879Z"
      },
      {
        "duration": 10,
        "start_time": "2022-06-24T10:41:20.943Z"
      },
      {
        "duration": 101,
        "start_time": "2022-06-24T10:41:20.955Z"
      },
      {
        "duration": 73,
        "start_time": "2022-06-24T10:41:21.058Z"
      },
      {
        "duration": 154,
        "start_time": "2022-06-24T10:41:21.132Z"
      },
      {
        "duration": 9,
        "start_time": "2022-06-24T10:41:21.288Z"
      },
      {
        "duration": 28,
        "start_time": "2022-06-24T10:41:21.299Z"
      },
      {
        "duration": 143,
        "start_time": "2022-06-24T10:41:21.329Z"
      },
      {
        "duration": 11,
        "start_time": "2022-06-24T10:41:21.474Z"
      },
      {
        "duration": 39,
        "start_time": "2022-06-24T10:41:21.488Z"
      },
      {
        "duration": 6,
        "start_time": "2022-06-24T10:41:21.529Z"
      },
      {
        "duration": 13,
        "start_time": "2022-06-24T10:41:21.537Z"
      },
      {
        "duration": 9,
        "start_time": "2022-06-24T10:41:21.552Z"
      },
      {
        "duration": 18,
        "start_time": "2022-06-24T10:41:21.564Z"
      },
      {
        "duration": 470,
        "start_time": "2022-06-24T10:41:21.584Z"
      },
      {
        "duration": 23,
        "start_time": "2022-06-24T10:41:22.056Z"
      },
      {
        "duration": 495,
        "start_time": "2022-06-24T10:41:22.080Z"
      },
      {
        "duration": 23,
        "start_time": "2022-06-24T10:41:22.578Z"
      },
      {
        "duration": 2877,
        "start_time": "2022-06-24T10:41:22.603Z"
      },
      {
        "duration": 12,
        "start_time": "2022-06-24T10:41:25.482Z"
      },
      {
        "duration": 8,
        "start_time": "2022-06-24T10:41:25.496Z"
      },
      {
        "duration": 39905,
        "start_time": "2022-06-24T10:41:25.505Z"
      },
      {
        "duration": 21,
        "start_time": "2022-06-24T10:42:05.412Z"
      },
      {
        "duration": 11,
        "start_time": "2022-06-24T10:42:05.434Z"
      },
      {
        "duration": 180,
        "start_time": "2022-06-24T10:42:05.447Z"
      },
      {
        "duration": 3072,
        "start_time": "2022-06-24T10:42:05.629Z"
      },
      {
        "duration": 8508,
        "start_time": "2022-06-24T10:42:08.703Z"
      },
      {
        "duration": 184465,
        "start_time": "2022-06-24T10:42:17.213Z"
      },
      {
        "duration": 326,
        "start_time": "2022-06-24T10:45:21.680Z"
      },
      {
        "duration": 84,
        "start_time": "2022-06-24T10:45:22.008Z"
      },
      {
        "duration": 165,
        "start_time": "2022-06-24T10:45:22.095Z"
      },
      {
        "duration": 18,
        "start_time": "2022-06-24T10:45:22.262Z"
      },
      {
        "duration": 6,
        "start_time": "2022-06-24T10:45:22.283Z"
      },
      {
        "duration": 39677,
        "start_time": "2022-06-24T10:45:22.291Z"
      },
      {
        "duration": 5,
        "start_time": "2022-06-24T10:46:01.970Z"
      },
      {
        "duration": 76,
        "start_time": "2022-06-24T10:46:01.977Z"
      },
      {
        "duration": 15,
        "start_time": "2022-06-24T10:46:02.055Z"
      },
      {
        "duration": 16,
        "start_time": "2022-06-24T10:46:02.072Z"
      },
      {
        "duration": 42,
        "start_time": "2022-06-24T10:46:02.090Z"
      },
      {
        "duration": 16,
        "start_time": "2022-06-24T10:46:02.134Z"
      },
      {
        "duration": 4,
        "start_time": "2022-06-24T10:47:27.235Z"
      },
      {
        "duration": 105,
        "start_time": "2022-06-24T10:47:41.357Z"
      },
      {
        "duration": 1542,
        "start_time": "2022-06-24T15:16:46.069Z"
      },
      {
        "duration": 466,
        "start_time": "2022-06-24T15:16:47.613Z"
      },
      {
        "duration": 21,
        "start_time": "2022-06-24T15:16:48.080Z"
      },
      {
        "duration": 15,
        "start_time": "2022-06-24T15:16:48.102Z"
      },
      {
        "duration": 24,
        "start_time": "2022-06-24T15:16:48.119Z"
      },
      {
        "duration": 28,
        "start_time": "2022-06-24T15:16:48.144Z"
      },
      {
        "duration": 71,
        "start_time": "2022-06-24T15:16:48.173Z"
      },
      {
        "duration": 12,
        "start_time": "2022-06-24T15:16:48.250Z"
      },
      {
        "duration": 19,
        "start_time": "2022-06-24T15:16:48.263Z"
      },
      {
        "duration": 28,
        "start_time": "2022-06-24T15:16:48.284Z"
      },
      {
        "duration": 7,
        "start_time": "2022-06-24T15:16:48.314Z"
      },
      {
        "duration": 13,
        "start_time": "2022-06-24T15:16:48.323Z"
      },
      {
        "duration": 29,
        "start_time": "2022-06-24T15:16:48.337Z"
      },
      {
        "duration": 14,
        "start_time": "2022-06-24T15:16:48.368Z"
      },
      {
        "duration": 43,
        "start_time": "2022-06-24T15:16:48.383Z"
      },
      {
        "duration": 9,
        "start_time": "2022-06-24T15:16:48.428Z"
      },
      {
        "duration": 84,
        "start_time": "2022-06-24T15:16:48.439Z"
      },
      {
        "duration": 69,
        "start_time": "2022-06-24T15:16:48.525Z"
      },
      {
        "duration": 144,
        "start_time": "2022-06-24T15:16:48.596Z"
      },
      {
        "duration": 21,
        "start_time": "2022-06-24T15:16:48.741Z"
      },
      {
        "duration": 20,
        "start_time": "2022-06-24T15:16:48.763Z"
      },
      {
        "duration": 119,
        "start_time": "2022-06-24T15:16:48.785Z"
      },
      {
        "duration": 9,
        "start_time": "2022-06-24T15:16:48.906Z"
      },
      {
        "duration": 21,
        "start_time": "2022-06-24T15:16:48.916Z"
      },
      {
        "duration": 32,
        "start_time": "2022-06-24T15:16:48.938Z"
      },
      {
        "duration": 11,
        "start_time": "2022-06-24T15:16:48.971Z"
      },
      {
        "duration": 8,
        "start_time": "2022-06-24T15:16:48.983Z"
      },
      {
        "duration": 16,
        "start_time": "2022-06-24T15:16:48.994Z"
      },
      {
        "duration": 378,
        "start_time": "2022-06-24T15:16:49.012Z"
      },
      {
        "duration": 28,
        "start_time": "2022-06-24T15:16:49.392Z"
      },
      {
        "duration": 452,
        "start_time": "2022-06-24T15:16:49.422Z"
      },
      {
        "duration": 16,
        "start_time": "2022-06-24T15:16:49.876Z"
      },
      {
        "duration": 2555,
        "start_time": "2022-06-24T15:16:49.894Z"
      },
      {
        "duration": 23,
        "start_time": "2022-06-24T15:16:52.451Z"
      },
      {
        "duration": 21,
        "start_time": "2022-06-24T15:16:52.476Z"
      },
      {
        "duration": 1349,
        "start_time": "2022-06-24T15:17:25.495Z"
      },
      {
        "duration": 4,
        "start_time": "2022-06-24T15:18:14.706Z"
      },
      {
        "duration": 193,
        "start_time": "2022-06-24T15:18:16.277Z"
      },
      {
        "duration": 16,
        "start_time": "2022-06-24T15:18:17.911Z"
      },
      {
        "duration": 17,
        "start_time": "2022-06-24T15:18:19.565Z"
      },
      {
        "duration": 21,
        "start_time": "2022-06-24T15:18:21.913Z"
      },
      {
        "duration": 17,
        "start_time": "2022-06-24T15:18:22.078Z"
      },
      {
        "duration": 71,
        "start_time": "2022-06-24T15:18:22.675Z"
      },
      {
        "duration": 6,
        "start_time": "2022-06-24T15:18:23.421Z"
      },
      {
        "duration": 6,
        "start_time": "2022-06-24T15:18:23.614Z"
      },
      {
        "duration": 34,
        "start_time": "2022-06-24T15:18:24.077Z"
      },
      {
        "duration": 9,
        "start_time": "2022-06-24T15:18:24.837Z"
      },
      {
        "duration": 13,
        "start_time": "2022-06-24T15:18:25.038Z"
      },
      {
        "duration": 7,
        "start_time": "2022-06-24T15:18:25.510Z"
      },
      {
        "duration": 5,
        "start_time": "2022-06-24T15:18:25.717Z"
      },
      {
        "duration": 31,
        "start_time": "2022-06-24T15:18:26.117Z"
      },
      {
        "duration": 8,
        "start_time": "2022-06-24T15:18:26.933Z"
      },
      {
        "duration": 71,
        "start_time": "2022-06-24T15:18:27.508Z"
      },
      {
        "duration": 61,
        "start_time": "2022-06-24T15:18:27.906Z"
      },
      {
        "duration": 156,
        "start_time": "2022-06-24T15:18:28.618Z"
      },
      {
        "duration": 10,
        "start_time": "2022-06-24T15:18:29.260Z"
      },
      {
        "duration": 10,
        "start_time": "2022-06-24T15:18:29.813Z"
      },
      {
        "duration": 155,
        "start_time": "2022-06-24T15:18:30.374Z"
      },
      {
        "duration": 16,
        "start_time": "2022-06-24T15:18:30.945Z"
      },
      {
        "duration": 17,
        "start_time": "2022-06-24T15:18:31.870Z"
      },
      {
        "duration": 5,
        "start_time": "2022-06-24T15:18:33.172Z"
      },
      {
        "duration": 14,
        "start_time": "2022-06-24T15:18:34.303Z"
      },
      {
        "duration": 7,
        "start_time": "2022-06-24T15:18:34.873Z"
      },
      {
        "duration": 16,
        "start_time": "2022-06-24T15:18:35.429Z"
      },
      {
        "duration": 425,
        "start_time": "2022-06-24T15:18:36.206Z"
      },
      {
        "duration": 23,
        "start_time": "2022-06-24T15:18:37.246Z"
      },
      {
        "duration": 464,
        "start_time": "2022-06-24T15:18:38.665Z"
      },
      {
        "duration": 16,
        "start_time": "2022-06-24T15:18:40.413Z"
      },
      {
        "duration": 2471,
        "start_time": "2022-06-24T15:18:44.470Z"
      },
      {
        "duration": 8,
        "start_time": "2022-06-24T15:18:52.430Z"
      },
      {
        "duration": 6,
        "start_time": "2022-06-24T15:18:54.655Z"
      },
      {
        "duration": 973,
        "start_time": "2022-06-24T15:18:58.418Z"
      },
      {
        "duration": 1961,
        "start_time": "2022-06-24T15:19:25.809Z"
      },
      {
        "duration": 1398,
        "start_time": "2022-06-24T15:21:29.804Z"
      },
      {
        "duration": 234,
        "start_time": "2022-06-24T15:21:42.404Z"
      },
      {
        "duration": 236,
        "start_time": "2022-06-24T15:22:03.581Z"
      },
      {
        "duration": 1078,
        "start_time": "2022-06-24T15:23:02.125Z"
      },
      {
        "duration": 5,
        "start_time": "2022-06-24T15:23:59.296Z"
      },
      {
        "duration": 16,
        "start_time": "2022-06-24T15:24:39.928Z"
      },
      {
        "duration": 29,
        "start_time": "2022-06-24T15:25:14.098Z"
      },
      {
        "duration": 22,
        "start_time": "2022-06-24T15:25:25.394Z"
      },
      {
        "duration": 40,
        "start_time": "2022-06-24T15:25:41.242Z"
      },
      {
        "duration": 280,
        "start_time": "2022-06-24T15:25:57.532Z"
      },
      {
        "duration": 250,
        "start_time": "2022-06-24T15:26:45.992Z"
      },
      {
        "duration": 1579,
        "start_time": "2022-06-24T15:26:49.436Z"
      },
      {
        "duration": 300,
        "start_time": "2022-06-24T15:27:14.279Z"
      },
      {
        "duration": 145,
        "start_time": "2022-06-24T15:27:15.404Z"
      },
      {
        "duration": 288,
        "start_time": "2022-06-24T15:34:03.880Z"
      },
      {
        "duration": 44154,
        "start_time": "2022-06-24T15:34:48.880Z"
      },
      {
        "duration": 250,
        "start_time": "2022-06-24T15:39:28.492Z"
      },
      {
        "duration": 40391,
        "start_time": "2022-06-24T15:39:29.898Z"
      },
      {
        "duration": 246,
        "start_time": "2022-06-24T15:42:36.489Z"
      },
      {
        "duration": 40604,
        "start_time": "2022-06-24T15:42:37.511Z"
      },
      {
        "duration": 236,
        "start_time": "2022-06-24T15:55:17.706Z"
      },
      {
        "duration": 268,
        "start_time": "2022-06-24T15:55:45.339Z"
      },
      {
        "duration": 255,
        "start_time": "2022-06-24T15:58:21.289Z"
      },
      {
        "duration": 1094,
        "start_time": "2022-06-24T15:58:31.520Z"
      },
      {
        "duration": 1060,
        "start_time": "2022-06-24T15:58:58.498Z"
      },
      {
        "duration": 907,
        "start_time": "2022-06-24T15:59:05.889Z"
      },
      {
        "duration": 969,
        "start_time": "2022-06-24T16:01:54.521Z"
      },
      {
        "duration": 9,
        "start_time": "2022-06-24T16:02:01.110Z"
      },
      {
        "duration": 254,
        "start_time": "2022-06-24T16:04:05.243Z"
      },
      {
        "duration": 1150,
        "start_time": "2022-06-24T16:04:36.837Z"
      },
      {
        "duration": 245,
        "start_time": "2022-06-24T16:05:06.174Z"
      },
      {
        "duration": 244,
        "start_time": "2022-06-24T16:05:11.437Z"
      },
      {
        "duration": 2,
        "start_time": "2022-06-24T16:12:09.117Z"
      },
      {
        "duration": 313,
        "start_time": "2022-06-24T16:12:31.997Z"
      },
      {
        "duration": 255,
        "start_time": "2022-06-24T16:12:33.501Z"
      },
      {
        "duration": 277,
        "start_time": "2022-06-24T16:12:51.212Z"
      },
      {
        "duration": 310,
        "start_time": "2022-06-24T16:14:30.080Z"
      },
      {
        "duration": 233,
        "start_time": "2022-06-24T16:14:31.352Z"
      },
      {
        "duration": 294,
        "start_time": "2022-06-24T16:14:32.648Z"
      },
      {
        "duration": 4,
        "start_time": "2022-06-24T16:15:07.708Z"
      },
      {
        "duration": 733,
        "start_time": "2022-06-24T16:15:09.128Z"
      },
      {
        "duration": 275,
        "start_time": "2022-06-24T16:15:22.714Z"
      },
      {
        "duration": 803,
        "start_time": "2022-06-24T16:20:00.035Z"
      },
      {
        "duration": 59,
        "start_time": "2022-06-24T16:22:06.277Z"
      },
      {
        "duration": 16,
        "start_time": "2022-06-24T16:25:19.709Z"
      },
      {
        "duration": 44,
        "start_time": "2022-06-24T16:25:20.900Z"
      },
      {
        "duration": 15,
        "start_time": "2022-06-24T16:26:15.631Z"
      },
      {
        "duration": 20,
        "start_time": "2022-06-24T16:26:23.938Z"
      },
      {
        "duration": 2,
        "start_time": "2022-06-24T16:27:55.338Z"
      },
      {
        "duration": 170,
        "start_time": "2022-06-24T16:27:56.418Z"
      },
      {
        "duration": 3133,
        "start_time": "2022-06-24T16:28:04.412Z"
      },
      {
        "duration": 74,
        "start_time": "2022-06-24T16:28:40.255Z"
      },
      {
        "duration": 2944,
        "start_time": "2022-06-24T16:30:19.041Z"
      },
      {
        "duration": 52,
        "start_time": "2022-06-24T16:30:52.979Z"
      },
      {
        "duration": 76,
        "start_time": "2022-06-24T16:54:17.283Z"
      },
      {
        "duration": 16,
        "start_time": "2022-06-24T17:05:06.674Z"
      },
      {
        "duration": 16,
        "start_time": "2022-06-24T17:05:08.277Z"
      },
      {
        "duration": 41,
        "start_time": "2022-06-24T17:05:09.986Z"
      },
      {
        "duration": 3,
        "start_time": "2022-06-24T17:05:12.178Z"
      },
      {
        "duration": 169,
        "start_time": "2022-06-24T17:05:13.649Z"
      },
      {
        "duration": 2851,
        "start_time": "2022-06-24T17:05:16.575Z"
      },
      {
        "duration": 8393,
        "start_time": "2022-06-24T17:05:20.516Z"
      },
      {
        "duration": 144588,
        "start_time": "2022-06-24T17:05:51.115Z"
      },
      {
        "duration": 335,
        "start_time": "2022-06-24T17:09:30.900Z"
      },
      {
        "duration": 73,
        "start_time": "2022-06-24T17:09:38.508Z"
      },
      {
        "duration": 120,
        "start_time": "2022-06-24T17:11:58.394Z"
      },
      {
        "duration": 15,
        "start_time": "2022-06-24T17:12:01.794Z"
      },
      {
        "duration": 5,
        "start_time": "2022-06-24T17:26:51.827Z"
      },
      {
        "duration": 863,
        "start_time": "2022-06-24T17:26:54.706Z"
      },
      {
        "duration": 6,
        "start_time": "2022-06-24T17:51:25.565Z"
      },
      {
        "duration": 866,
        "start_time": "2022-06-24T17:51:27.203Z"
      },
      {
        "duration": 812,
        "start_time": "2022-06-24T18:25:55.924Z"
      },
      {
        "duration": 4,
        "start_time": "2022-06-24T18:25:57.739Z"
      },
      {
        "duration": 4,
        "start_time": "2022-06-24T18:35:32.089Z"
      },
      {
        "duration": 819,
        "start_time": "2022-06-24T18:35:33.474Z"
      },
      {
        "duration": 11,
        "start_time": "2022-06-25T12:38:40.195Z"
      },
      {
        "duration": 4,
        "start_time": "2022-06-25T12:41:55.052Z"
      },
      {
        "duration": 1786,
        "start_time": "2022-06-25T12:47:43.103Z"
      },
      {
        "duration": 435,
        "start_time": "2022-06-25T12:47:44.891Z"
      },
      {
        "duration": 24,
        "start_time": "2022-06-25T12:47:45.327Z"
      },
      {
        "duration": 18,
        "start_time": "2022-06-25T12:47:45.353Z"
      },
      {
        "duration": 26,
        "start_time": "2022-06-25T12:47:45.373Z"
      },
      {
        "duration": 43,
        "start_time": "2022-06-25T12:47:45.400Z"
      },
      {
        "duration": 88,
        "start_time": "2022-06-25T12:47:45.444Z"
      },
      {
        "duration": 7,
        "start_time": "2022-06-25T12:47:45.534Z"
      },
      {
        "duration": 12,
        "start_time": "2022-06-25T12:47:45.542Z"
      },
      {
        "duration": 38,
        "start_time": "2022-06-25T12:47:45.556Z"
      },
      {
        "duration": 11,
        "start_time": "2022-06-25T12:47:45.595Z"
      },
      {
        "duration": 20,
        "start_time": "2022-06-25T12:47:45.625Z"
      },
      {
        "duration": 13,
        "start_time": "2022-06-25T12:47:45.646Z"
      },
      {
        "duration": 6,
        "start_time": "2022-06-25T12:47:45.662Z"
      },
      {
        "duration": 53,
        "start_time": "2022-06-25T12:47:45.670Z"
      },
      {
        "duration": 10,
        "start_time": "2022-06-25T12:47:45.725Z"
      },
      {
        "duration": 96,
        "start_time": "2022-06-25T12:47:45.737Z"
      },
      {
        "duration": 65,
        "start_time": "2022-06-25T12:47:45.834Z"
      },
      {
        "duration": 166,
        "start_time": "2022-06-25T12:47:45.900Z"
      },
      {
        "duration": 9,
        "start_time": "2022-06-25T12:47:46.067Z"
      },
      {
        "duration": 20,
        "start_time": "2022-06-25T12:47:46.077Z"
      },
      {
        "duration": 149,
        "start_time": "2022-06-25T12:47:46.099Z"
      },
      {
        "duration": 10,
        "start_time": "2022-06-25T12:47:46.250Z"
      },
      {
        "duration": 23,
        "start_time": "2022-06-25T12:47:46.262Z"
      },
      {
        "duration": 6,
        "start_time": "2022-06-25T12:47:46.286Z"
      },
      {
        "duration": 37,
        "start_time": "2022-06-25T12:47:46.293Z"
      },
      {
        "duration": 8,
        "start_time": "2022-06-25T12:47:46.332Z"
      },
      {
        "duration": 20,
        "start_time": "2022-06-25T12:47:46.341Z"
      },
      {
        "duration": 428,
        "start_time": "2022-06-25T12:47:46.362Z"
      },
      {
        "duration": 22,
        "start_time": "2022-06-25T12:47:46.791Z"
      },
      {
        "duration": 359,
        "start_time": "2022-06-25T12:47:46.815Z"
      },
      {
        "duration": 24,
        "start_time": "2022-06-25T12:47:47.176Z"
      },
      {
        "duration": 3023,
        "start_time": "2022-06-25T12:47:47.202Z"
      },
      {
        "duration": 3,
        "start_time": "2022-06-25T12:47:50.227Z"
      },
      {
        "duration": 9,
        "start_time": "2022-06-25T12:47:50.231Z"
      },
      {
        "duration": 287,
        "start_time": "2022-06-25T12:47:50.242Z"
      },
      {
        "duration": 214,
        "start_time": "2022-06-25T12:47:50.530Z"
      },
      {
        "duration": 286,
        "start_time": "2022-06-25T12:47:50.746Z"
      },
      {
        "duration": 4,
        "start_time": "2022-06-25T12:47:51.034Z"
      },
      {
        "duration": 762,
        "start_time": "2022-06-25T12:47:51.040Z"
      },
      {
        "duration": 21,
        "start_time": "2022-06-25T12:47:51.806Z"
      },
      {
        "duration": 26,
        "start_time": "2022-06-25T12:47:51.829Z"
      },
      {
        "duration": 65,
        "start_time": "2022-06-25T12:47:51.857Z"
      },
      {
        "duration": 2,
        "start_time": "2022-06-25T12:47:51.924Z"
      },
      {
        "duration": 174,
        "start_time": "2022-06-25T12:47:51.928Z"
      },
      {
        "duration": 3157,
        "start_time": "2022-06-25T12:47:52.104Z"
      },
      {
        "duration": 8578,
        "start_time": "2022-06-25T12:47:55.263Z"
      },
      {
        "duration": 191855,
        "start_time": "2022-06-25T12:48:03.843Z"
      },
      {
        "duration": 350,
        "start_time": "2022-06-25T12:51:15.700Z"
      },
      {
        "duration": 94,
        "start_time": "2022-06-25T12:51:16.052Z"
      },
      {
        "duration": 167,
        "start_time": "2022-06-25T12:51:16.148Z"
      },
      {
        "duration": 41,
        "start_time": "2022-06-25T12:51:16.317Z"
      },
      {
        "duration": 22,
        "start_time": "2022-06-25T12:51:16.360Z"
      },
      {
        "duration": 10,
        "start_time": "2022-06-25T12:51:16.383Z"
      },
      {
        "duration": 979,
        "start_time": "2022-06-25T12:51:16.396Z"
      },
      {
        "duration": 4,
        "start_time": "2022-06-25T12:51:17.378Z"
      },
      {
        "duration": 83,
        "start_time": "2022-06-25T12:51:17.384Z"
      },
      {
        "duration": 12,
        "start_time": "2022-06-25T12:51:17.469Z"
      },
      {
        "duration": 24,
        "start_time": "2022-06-25T12:51:17.482Z"
      },
      {
        "duration": 26,
        "start_time": "2022-06-25T12:51:17.508Z"
      },
      {
        "duration": 16,
        "start_time": "2022-06-25T12:51:17.536Z"
      },
      {
        "duration": 52,
        "start_time": "2022-06-25T13:04:34.345Z"
      }
    ],
    "kernelspec": {
      "display_name": "Python 3 (ipykernel)",
      "language": "python",
      "name": "python3"
    },
    "language_info": {
      "codemirror_mode": {
        "name": "ipython",
        "version": 3
      },
      "file_extension": ".py",
      "mimetype": "text/x-python",
      "name": "python",
      "nbconvert_exporter": "python",
      "pygments_lexer": "ipython3",
      "version": "3.9.5"
    },
    "toc": {
      "base_numbering": 1,
      "nav_menu": {
        "height": "329px",
        "width": "319px"
      },
      "number_sections": true,
      "sideBar": true,
      "skip_h1_title": true,
      "title_cell": "Table of Contents",
      "title_sidebar": "Contents",
      "toc_cell": false,
      "toc_position": {},
      "toc_section_display": true,
      "toc_window_display": false
    },
    "colab": {
      "provenance": []
    }
  },
  "nbformat": 4,
  "nbformat_minor": 0
}